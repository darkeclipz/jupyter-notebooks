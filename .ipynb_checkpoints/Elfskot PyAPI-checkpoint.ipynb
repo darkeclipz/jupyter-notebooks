{
 "cells": [
  {
   "cell_type": "markdown",
   "metadata": {},
   "source": [
    "# Elfskot PyAPI"
   ]
  },
  {
   "cell_type": "code",
   "execution_count": 260,
   "metadata": {},
   "outputs": [],
   "source": [
    "# Required packages:\n",
    "# pip3 install requests pandas\n",
    "import requests\n",
    "import json\n",
    "from enum import Enum\n",
    "import pandas as pd\n",
    "\n",
    "def head(s): return s[0] if len(s) > 0 else []\n",
    "def tail(s): return s[1:]\n",
    "def reverse(s): return s[::-1]\n",
    "def last(s): return s[-1:]\n",
    "def init(s): return s[0:len(s)-1]\n",
    "def take(s, n): return s[:n]\n",
    "def drop(s, n): return s[n:]\n",
    "def product(s): return reduce(lambda x, y: x * y, s)\n",
    "\n",
    "class TextType(Enum):\n",
    "    Description = 0\n",
    "    ExtendedDescription = 1\n",
    "    MoreInfo = 2\n",
    "\n",
    "class ElfskotApi():\n",
    "    \n",
    "    base_address = 'https://api.elfskot.cloud/api/2/'\n",
    "    \n",
    "    def __init__(self, application_id, secret):\n",
    "        self.application_id = application_id\n",
    "        self.secret = secret\n",
    "        self.get_token()\n",
    "    \n",
    "    def get_token(self):\n",
    "        payload = { 'clientId': self.application_id, 'secret': self.secret}\n",
    "        result = requests.post(self.get_url('auth/elfskotconnectlogin'), json=payload)\n",
    "        self.check_result(result)\n",
    "        self.token = json.loads(result.text)['accessToken']\n",
    "        \n",
    "    def check_result(self, result):\n",
    "        if result.status_code != 200:\n",
    "            raise ValueError('Error: API returned status code {}'.format(result.status_code))\n",
    "        return True\n",
    "        \n",
    "    def get_auth_header(self): return {'Authorization': 'bearer {}'.format(self.token)}\n",
    "    def get_url(self, endpoint): return self.base_address + endpoint\n",
    "    \n",
    "    def http_return_if_valid(self, result):\n",
    "        self.check_result(result)\n",
    "        return json.loads(result.text)\n",
    "    \n",
    "    def http_get(self, endpoint):\n",
    "        return self.http_return_if_valid(\n",
    "            requests.get(self.get_url(endpoint), headers=self.get_auth_header())\n",
    "        )\n",
    "    \n",
    "    def http_post(self, endpoint, o):\n",
    "        return self.http_return_if_valid(\n",
    "            requests.post(self.get_url(endpoint), json=o, headers=self.get_auth_header())\n",
    "        )\n",
    "    \n",
    "    def http_put(self, endpoint, o):\n",
    "        return self.http_return_if_valid(\n",
    "            requests.put(self.get_url(endpoint), json=o, headers=self.get_auth_header())\n",
    "        )\n",
    "    \n",
    "    def http_delete(self, endpoint, key):\n",
    "        result = requests.delete(self.get_url(endpoint) + '/{}'.format(key), headers=self.get_auth_header())\n",
    "        if result.status_code != 200: \n",
    "            raise ValueError('Error: API returned status code {}'.format(result.status_code))\n",
    "            \n",
    "    def all(self, endpoint): return self.http_get(endpoint)\n",
    "    def get(self, endpoint, key): return head(self.http_get('{}?id={}'.format(endpoint, key)))\n",
    "    def find(self, endpoint, p, v): return self.http_get('{}?{}={}'.format(endpoint, p, v))\n",
    "    def first(self, endpoint, p, v): return head(self.find(endpoint, p, v))\n",
    "    def new(self, endpoint, o): return self.http_post(endpoint, o)\n",
    "    def update(self, endpoint, o): return self.http_put(endpoint, o)\n",
    "    def delete(self, endpoint, key): self.http_delete(endpoint, key)  \n",
    "    def help(self, endpoint): print('Model for {}:\\r\\n{}'\n",
    "                                    .format(endpoint, list(self.first(endpoint, 'id', '').keys())))"
   ]
  },
  {
   "cell_type": "code",
   "execution_count": 261,
   "metadata": {
    "scrolled": false
   },
   "outputs": [],
   "source": [
    "db = ElfskotApi('69b1132c-df11-49d0-baf2-2d8f6ddfc4f1', 'lkmx41yu')\n",
    "\n",
    "category = head(db.all('categories'))\n",
    "uom = db.first('uom', 'description', 'Milli')\n",
    "\n",
    "feature = {'name': 'Test feature', \n",
    "           'articleCode': 'ART-123', \n",
    "           'categoryId': category['id'], \n",
    "           'unitOfMeasurementId': uom['id'],\n",
    "           'texts': [\n",
    "               {'languageIso': 'en', 'type': TextType.Description.value, 'value': 'Example description'},\n",
    "               {'languageIso': 'en', 'type': TextType.ExtendedDescription.value, 'value': 'Example description'},\n",
    "               {'languageIso': 'en', 'type': TextType.MoreInfo.value, 'value': 'Example description'}\n",
    "           ]}\n",
    "\n",
    "feature = db.new('features', feature)\n",
    "db.delete('features', feature['id'])"
   ]
  },
  {
   "cell_type": "code",
   "execution_count": 262,
   "metadata": {
    "scrolled": false
   },
   "outputs": [
    {
     "data": {
      "text/plain": [
       "245"
      ]
     },
     "execution_count": 262,
     "metadata": {},
     "output_type": "execute_result"
    }
   ],
   "source": [
    "len(db.all('features'))"
   ]
  },
  {
   "cell_type": "code",
   "execution_count": 263,
   "metadata": {},
   "outputs": [
    {
     "name": "stdout",
     "output_type": "stream",
     "text": [
      "Model for featuremodels:\r\n",
      "['rootFeatureId', 'status', 'revisionOf', 'rootFeature', 'order', 'displayPrices', 'autodeskUrn', 'steps', 'nodes', 'relationships', 'organizationSellsFeatureModels', 'dynamicGroups', 'id', 'organizationId', 'organizationName', 'creatorId', 'reference', 'synced', 'createdDate', 'updatedDate', 'customField1', 'customField2', 'customField3', 'customField4', 'customField5']\n"
     ]
    }
   ],
   "source": [
    "db.help('featuremodels')"
   ]
  },
  {
   "cell_type": "code",
   "execution_count": 252,
   "metadata": {},
   "outputs": [
    {
     "name": "stdout",
     "output_type": "stream",
     "text": [
      "Model for quotations:\r\n",
      "['wholeSaleDiscountRows', 'quotationNumber', 'versionNumber', 'revisionOfId', 'status', 'isExpired', 'statusDescription', 'remarks', 'subject', 'expiresDate', 'deliverydate', 'debtorId', 'debtor', 'sellerLogo', 'sellerId', 'seller', 'shipToId', 'shipTo', 'propertyIds', 'margin', 'leaseTermType', 'leaseTermAmount', 'lines', 'materialList', 'currencyIso', 'languageIso', 'currency', 'exchangeRate', 'quotationTemplateId', 'quotationTemplate', 'files', 'totalDiscountAmt', 'totalDiscountPct', 'subTotalExclPrice', 'subTotalInclPrice', 'subTotalExclPriceLabel', 'subTotalInclPriceLabel', 'totalDiscountAmntLabel', 'totalExclPrice', 'totalInclPrice', 'totalPriceExclVATLabel', 'totalPriceInclVAT', 'totalPriceInclVATLabel', 'subTotalMargin', 'totalMargin', 'totalMarginLabel', 'totalMarginDiscount', 'totalMarginDiscountLabel', 'subTotalPurchasePrice', 'subTotalPurchasePriceLabel', 'subTotalMarginLabel', 'totalPurchasePriceLabel', 'wholeSaleDiscountAmtLabel', 'wholeSaleDiscountMinusAmtLabel', 'wholeSaleDiscountAmt', 'wholeSaleDiscountAmtNumberFormatted', 'wholeSaleDiscountPct', 'totalPriceInclVATNumberFormatted', 'totalDiscountNumberFormatted', 'totalPriceNumberFormatted', 'totalVatAmountNumberFormatted', 'subTotalNumberFormatted', 'totalDiscountPctNumberFormatted', 'formattedCreatedDate', 'formattedUpdatedDate', 'formattedExpiresDate', 'formattedDeliveryDate', 'organization', 'sellerName', 'id', 'organizationId', 'organizationName', 'creatorId', 'reference', 'synced', 'createdDate', 'updatedDate', 'customField1', 'customField2', 'customField3', 'customField4', 'customField5']\n"
     ]
    }
   ],
   "source": [
    "db.help('quotations')"
   ]
  },
  {
   "cell_type": "code",
   "execution_count": 271,
   "metadata": {},
   "outputs": [
    {
     "name": "stdout",
     "output_type": "stream",
     "text": [
      "S6000\n",
      "X8000\n",
      "Plateauaanhanger\n",
      "TEST relaties\n",
      "Betonput\n",
      "Test Wessel\n",
      "Formule cycle\n",
      "b_min\n"
     ]
    }
   ],
   "source": [
    "# Fetch all root features\n",
    "for key in map(lambda x: x['rootFeatureId'], db.all('featuremodels')):\n",
    "    feature = db.get('features', key)\n",
    "    print(feature['name'])"
   ]
  },
  {
   "cell_type": "code",
   "execution_count": 282,
   "metadata": {},
   "outputs": [
    {
     "name": "stdout",
     "output_type": "stream",
     "text": [
      "  name   articleCode\n",
      "0   b0  article-code\n",
      "1   b1  article-code\n",
      "2   b2  article-code\n",
      "3   b3  article-code\n",
      "4   b4  article-code\n",
      "Created feature b0 with id f598729a-3f0b-4ca7-82fa-08d649534e0a.\n",
      "Created feature b1 with id 776a36fa-bbf6-4856-82fb-08d649534e0a.\n",
      "Created feature b2 with id 1dfbf79f-95b5-45d0-82fc-08d649534e0a.\n",
      "Created feature b3 with id 77ad541a-fa9b-49ce-82fd-08d649534e0a.\n",
      "Created feature b4 with id ad2303ff-4408-4690-82fe-08d649534e0a.\n"
     ]
    }
   ],
   "source": [
    "df = pd.DataFrame()\n",
    "N = 5\n",
    "names = ['b{}'.format(x) for x in range(N)]\n",
    "codes = ['article-code'] * N\n",
    "df['name'] = names\n",
    "df['articleCode'] = codes\n",
    "print(df)\n",
    "for index, row in df.iterrows():\n",
    "    feature = {'name': row['name'], 'articleCode': row['articleCode']}\n",
    "    feature = db.new('features', feature)\n",
    "    print('Created feature {} with id {}.'.format(feature['name'], feature['id']))\n",
    "    db.delete('features', feature['id'])"
   ]
  },
  {
   "cell_type": "code",
   "execution_count": null,
   "metadata": {},
   "outputs": [],
   "source": []
  }
 ],
 "metadata": {
  "kernelspec": {
   "display_name": "Python 3",
   "language": "python",
   "name": "python3"
  },
  "language_info": {
   "codemirror_mode": {
    "name": "ipython",
    "version": 3
   },
   "file_extension": ".py",
   "mimetype": "text/x-python",
   "name": "python",
   "nbconvert_exporter": "python",
   "pygments_lexer": "ipython3",
   "version": "3.6.3"
  }
 },
 "nbformat": 4,
 "nbformat_minor": 2
}
