{
 "cells": [
  {
   "cell_type": "code",
   "execution_count": 1,
   "metadata": {},
   "outputs": [
    {
     "name": "stdout",
     "output_type": "stream",
     "text": [
      "Populating the interactive namespace from numpy and matplotlib\n"
     ]
    }
   ],
   "source": [
    "%pylab inline\n",
    "from enum import Enum"
   ]
  },
  {
   "cell_type": "markdown",
   "metadata": {},
   "source": [
    "# Algebra Solver"
   ]
  },
  {
   "cell_type": "markdown",
   "metadata": {},
   "source": [
    "Solve `1/2*10*(5+2)/3`."
   ]
  },
  {
   "cell_type": "markdown",
   "metadata": {},
   "source": [
    "We should follow PEMDAS:\n",
    "\n",
    "1. Parenthesis\n",
    "2. Exponents\n",
    "3. Multiplication/Division\n",
    "4. Addition/Subtraction"
   ]
  },
  {
   "cell_type": "code",
   "execution_count": 2,
   "metadata": {},
   "outputs": [],
   "source": [
    "class OpCode(Enum):\n",
    "    ADD = 1\n",
    "    SUBTRACT = 2\n",
    "    MULTIPLY = 3\n",
    "    DIVIDE = 4"
   ]
  },
  {
   "cell_type": "code",
   "execution_count": 3,
   "metadata": {},
   "outputs": [],
   "source": [
    "class Token():\n",
    "    def __init__(self, tokenType, value):\n",
    "        self.tokenType = tokenType\n",
    "        self.value = value\n",
    "    def __repr__(self):\n",
    "        return \"[%s](%s)\" % (self.tokenType, self.value)"
   ]
  },
  {
   "cell_type": "code",
   "execution_count": 4,
   "metadata": {},
   "outputs": [],
   "source": [
    "class Operation():\n",
    "    def __init__(self, left, right, opcode):\n",
    "        self.left = left\n",
    "        self.right = right\n",
    "        self.opcode = opcode\n",
    "    def __repr__(self):\n",
    "        return '%s %s %s' % (self.left, self.opcode, self.right)\n",
    "    def result(self):\n",
    "        if self.opcode == OpCode.ADD:\n",
    "            return self.left.result() + self.right.result()\n",
    "        elif self.opcode == OpCode.SUBTRACT:\n",
    "            return self.left.result() - self.right.result()\n",
    "        elif self.opcode == OpCode.MULTIPLY:\n",
    "            return self.left.result() * self.right.result()\n",
    "        elif self.opcode == OpCode.DIVIDE:\n",
    "            return sel.fleft.result() / self.right.result()\n",
    "        \n",
    "class Constant():\n",
    "    def __init__(self, value):\n",
    "        self.value = value\n",
    "    def result(self):\n",
    "        return self.value"
   ]
  },
  {
   "cell_type": "code",
   "execution_count": 5,
   "metadata": {},
   "outputs": [
    {
     "data": {
      "text/plain": [
       "30"
      ]
     },
     "execution_count": 5,
     "metadata": {},
     "output_type": "execute_result"
    }
   ],
   "source": [
    "five = Constant(5)\n",
    "six = Constant(6)\n",
    "add = Operation(five, six, OpCode.MULTIPLY)\n",
    "add.result()"
   ]
  },
  {
   "cell_type": "code",
   "execution_count": 6,
   "metadata": {},
   "outputs": [],
   "source": [
    "class Parser():\n",
    "    def __init__(self, expression):\n",
    "        print('Expression=%s' % expression)\n",
    "        print('Length=%i' % len(expression))\n",
    "        self.expression = expression\n",
    "        self.index = 0\n",
    "        self.expressionLength = len(self.expression)\n",
    "        self.tokens = []\n",
    "        # Start\n",
    "        self.tokenize()\n",
    "        print(self.tokens)\n",
    "        \n",
    "    def tokenize(self):\n",
    "        while(not self.end()):\n",
    "            print('current index %i and char %s' % (self.index, self.nextChar()))\n",
    "            self.eatWhitespace()\n",
    "            token = self.nextToken()\n",
    "            self.tokens.append(token)\n",
    "        \n",
    "    def end(self):\n",
    "        if self.index >= self.expressionLength: return True\n",
    "        return False\n",
    "    \n",
    "    def incr(self):\n",
    "        self.index += 1\n",
    "    \n",
    "    def nextToken(self):\n",
    "        if self.nextChar() == '+': \n",
    "            self.incr()\n",
    "            return Token('OP', 'ADD')\n",
    "        elif self.nextChar() == '-':\n",
    "            self.incr()\n",
    "            return Token('OP', 'SUB')\n",
    "        elif self.nextChar() == '*':\n",
    "            self.incr()\n",
    "            return Token('OP', 'MUL')\n",
    "        elif self.nextChar() == '/':\n",
    "            self.incr()\n",
    "            return Token('OP', 'DIV')\n",
    "        elif self.nextChar().isdigit():\n",
    "            return Token('C', self.nextDigit())\n",
    "            \n",
    "    def nextChar(self):\n",
    "        return self.expression[self.index:self.index+1]\n",
    "    \n",
    "    def nextDigit(self):\n",
    "        digit = ''\n",
    "        while self.nextChar().isdigit():\n",
    "            digit += self.nextChar()\n",
    "            self.index += 1\n",
    "        return digit\n",
    "    \n",
    "    def eatWhitespace(self):\n",
    "        while(self.expression[self.index:self.index+1] == ' '):\n",
    "            self.index += 1"
   ]
  },
  {
   "cell_type": "code",
   "execution_count": 7,
   "metadata": {
    "scrolled": false
   },
   "outputs": [
    {
     "name": "stdout",
     "output_type": "stream",
     "text": [
      "Expression=30*2+1124/5\n",
      "Length=11\n",
      "current index 0 and char 3\n",
      "current index 2 and char *\n",
      "current index 3 and char 2\n",
      "current index 4 and char +\n",
      "current index 5 and char 1\n",
      "current index 9 and char /\n",
      "current index 10 and char 5\n",
      "[[C](30), [OP](MUL), [C](2), [OP](ADD), [C](1124), [OP](DIV), [C](5)]\n"
     ]
    }
   ],
   "source": [
    "parser = Parser('30*2+1124/5')"
   ]
  },
  {
   "cell_type": "code",
   "execution_count": 8,
   "metadata": {},
   "outputs": [],
   "source": [
    "class Stack():\n",
    "    def __init__(self):\n",
    "        self.items = []\n",
    "        \n",
    "    def __repr__(self):\n",
    "        return '%s' % self.items\n",
    "    \n",
    "    def push(self, item):\n",
    "        self.items.append(item)\n",
    "        \n",
    "    def pop(self):\n",
    "        item = self.items[-1]\n",
    "        del self.items[-1]\n",
    "        return item"
   ]
  },
  {
   "cell_type": "code",
   "execution_count": 9,
   "metadata": {},
   "outputs": [],
   "source": [
    "class ExpressionTree():\n",
    "    def __init__(self, tokens):\n",
    "        self.tokens = tokens\n",
    "        self.intermediateTokens = []\n",
    "        self.index = 0\n",
    "        self.firstPass()\n",
    "        print(self.intermediateTokens)\n",
    "        self.tokens = self.intermediateTokens\n",
    "        self.intermediateTokens = []\n",
    "        self.secondPass()\n",
    "        print(self.intermediateTokens)\n",
    "    \n",
    "    def end(self):\n",
    "        if self.index >= len(self.tokens): return True\n",
    "        else: return False\n",
    "    \n",
    "    def nextToken(self,skip=0):\n",
    "        return self.tokens[self.index+skip:self.index+1+skip][0]\n",
    "    \n",
    "    def previousToken(self):\n",
    "        return self.tokens[self.index-1:self.index][0]\n",
    "    \n",
    "    def incr(self, skip=1):\n",
    "        self.index+=skip\n",
    "        \n",
    "    \"\"\" First do multiplication and division \"\"\"\n",
    "    def firstPass(self):\n",
    "        while(not self.end()):\n",
    "            if self.nextToken().tokenType == 'C':\n",
    "                self.incr()\n",
    "            elif self.nextToken().tokenType == 'OP' and self.nextToken().value == 'MUL':\n",
    "                operation = Operation(self.previousToken(), self.nextToken(1), OpCode.MULTIPLY)\n",
    "                token = Token('IOP', operation)\n",
    "                self.intermediateTokens.append(token)\n",
    "                self.incr(2)\n",
    "            elif self.nextToken().tokenType == 'OP' and self.nextToken().value == 'DIV':\n",
    "                operation = Operation(self.previousToken(), self.nextToken(1), OpCode.DIVIDE)\n",
    "                token = Token('IOP', operation)\n",
    "                self.intermediateTokens.append(token)\n",
    "                self.incr(2)\n",
    "            else:\n",
    "                self.intermediateTokens.append(self.nextToken())\n",
    "                self.incr()\n",
    "            \n",
    "            \n",
    "    \"\"\" Next do addition and subtraction\"\"\"\n",
    "    def secondPass(self):\n",
    "        while(not self.end()):\n",
    "            if self.nextToken().tokenType == 'IOP':\n",
    "                self.incr()\n",
    "            elif self.nextToken().tokenType == 'OP' and self.nextToken().value == 'ADD':\n",
    "                operation = Operation(self.previousToken().value, self.nextToken().value, OpCode.ADD)\n",
    "                token = Token('IOP', operation)\n",
    "                self.intermediateTokens.append(token)\n",
    "                self.incr(2)\n",
    "            else:\n",
    "                self.intermediateTokens.append(self.nextToken())\n",
    "                self.incr()"
   ]
  },
  {
   "cell_type": "code",
   "execution_count": 10,
   "metadata": {},
   "outputs": [
    {
     "name": "stdout",
     "output_type": "stream",
     "text": [
      "[[IOP]([C](30) OpCode.MULTIPLY [C](2)), [OP](ADD), [IOP]([C](1124) OpCode.DIVIDE [C](5))]\n",
      "[]\n"
     ]
    }
   ],
   "source": [
    "et = ExpressionTree(parser.tokens)"
   ]
  },
  {
   "cell_type": "code",
   "execution_count": 11,
   "metadata": {},
   "outputs": [
    {
     "data": {
      "text/plain": [
       "[]"
      ]
     },
     "execution_count": 11,
     "metadata": {},
     "output_type": "execute_result"
    }
   ],
   "source": [
    "et.intermediateTokens"
   ]
  },
  {
   "cell_type": "code",
   "execution_count": 12,
   "metadata": {},
   "outputs": [
    {
     "ename": "IndexError",
     "evalue": "list index out of range",
     "output_type": "error",
     "traceback": [
      "\u001b[1;31m---------------------------------------------------------------------------\u001b[0m",
      "\u001b[1;31mIndexError\u001b[0m                                Traceback (most recent call last)",
      "\u001b[1;32m<ipython-input-12-296a8e9a8d27>\u001b[0m in \u001b[0;36m<module>\u001b[1;34m()\u001b[0m\n\u001b[1;32m----> 1\u001b[1;33m \u001b[0mop\u001b[0m \u001b[1;33m=\u001b[0m \u001b[0mOperation\u001b[0m\u001b[1;33m(\u001b[0m\u001b[0met\u001b[0m\u001b[1;33m.\u001b[0m\u001b[0mintermediateTokens\u001b[0m\u001b[1;33m[\u001b[0m\u001b[1;36m0\u001b[0m\u001b[1;33m]\u001b[0m\u001b[1;33m,\u001b[0m \u001b[0met\u001b[0m\u001b[1;33m.\u001b[0m\u001b[0mintermediateTokens\u001b[0m\u001b[1;33m[\u001b[0m\u001b[1;36m2\u001b[0m\u001b[1;33m]\u001b[0m\u001b[1;33m,\u001b[0m \u001b[0mOpCode\u001b[0m\u001b[1;33m.\u001b[0m\u001b[0mADD\u001b[0m\u001b[1;33m)\u001b[0m\u001b[1;33m\u001b[0m\u001b[0m\n\u001b[0m\u001b[0;32m      2\u001b[0m \u001b[0mop\u001b[0m\u001b[1;33m.\u001b[0m\u001b[0mresult\u001b[0m\u001b[1;33m(\u001b[0m\u001b[1;33m)\u001b[0m\u001b[1;33m\u001b[0m\u001b[0m\n",
      "\u001b[1;31mIndexError\u001b[0m: list index out of range"
     ]
    }
   ],
   "source": [
    "op = Operation(et.intermediateTokens[0], et.intermediateTokens[2], OpCode.ADD)\n",
    "op.result()"
   ]
  },
  {
   "cell_type": "code",
   "execution_count": 20,
   "metadata": {},
   "outputs": [
    {
     "data": {
      "text/plain": [
       "{'(': 'left-parenthesis',\n",
       " ')': 'right-parenthesis',\n",
       " '*': 'multiply',\n",
       " '+': 'add',\n",
       " '-': 'subtract',\n",
       " '/': 'divide',\n",
       " '^': 'power'}"
      ]
     },
     "execution_count": 20,
     "metadata": {},
     "output_type": "execute_result"
    }
   ],
   "source": [
    "symbols = {'+':'add', '-':'subtract', '*':'multiply', '/':'divide', '^':'power', '(':'left-parenthesis', ')':'right-parenthesis'}\n",
    "symbols"
   ]
  },
  {
   "cell_type": "code",
   "execution_count": null,
   "metadata": {},
   "outputs": [],
   "source": []
  }
 ],
 "metadata": {
  "kernelspec": {
   "display_name": "Python 3",
   "language": "python",
   "name": "python3"
  },
  "language_info": {
   "codemirror_mode": {
    "name": "ipython",
    "version": 3
   },
   "file_extension": ".py",
   "mimetype": "text/x-python",
   "name": "python",
   "nbconvert_exporter": "python",
   "pygments_lexer": "ipython3",
   "version": "3.6.3"
  }
 },
 "nbformat": 4,
 "nbformat_minor": 2
}
