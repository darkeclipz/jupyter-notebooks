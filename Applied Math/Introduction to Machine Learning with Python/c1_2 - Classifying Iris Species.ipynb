{
 "cells": [
  {
   "cell_type": "code",
   "execution_count": 44,
   "metadata": {},
   "outputs": [
    {
     "data": {
      "text/html": [
       "<link href=\"https://fonts.googleapis.com/css?family=Open+Sans\" rel=\"stylesheet\">\n",
       "<style>#notebook-container{font-size: 13pt;font-family:'Open Sans', sans-serif;} div.text_cell{max-width: 104ex;}</style>"
      ],
      "text/plain": [
       "<IPython.core.display.HTML object>"
      ]
     },
     "metadata": {},
     "output_type": "display_data"
    }
   ],
   "source": [
    "%%html \n",
    "<link href=\"https://fonts.googleapis.com/css?family=Open+Sans\" rel=\"stylesheet\">\n",
    "<style>#notebook-container{font-size: 13pt;font-family:'Open Sans', sans-serif;} div.text_cell{max-width: 104ex;}</style>"
   ]
  },
  {
   "cell_type": "code",
   "execution_count": 1,
   "metadata": {},
   "outputs": [],
   "source": [
    "%matplotlib notebook"
   ]
  },
  {
   "cell_type": "code",
   "execution_count": 2,
   "metadata": {},
   "outputs": [],
   "source": [
    "import numpy as np\n",
    "import matplotlib.pyplot as plt\n",
    "import pandas as pd\n",
    "import mglearn\n",
    "from IPython.display import display"
   ]
  },
  {
   "cell_type": "markdown",
   "metadata": {},
   "source": [
    "# Classifying Iris Species"
   ]
  },
  {
   "cell_type": "markdown",
   "metadata": {},
   "source": [
    "This is the first machine learning algorithm we will study."
   ]
  },
  {
   "cell_type": "markdown",
   "metadata": {},
   "source": [
    "## Problem statement"
   ]
  },
  {
   "cell_type": "markdown",
   "metadata": {},
   "source": [
    "**Data**\n",
    "\n",
    "The data set contains species of some iris flowers that are found. It contains some measurements associated with each iris:\n",
    "\n",
    "* Width of the petal\n",
    "* Length of the petal\n",
    "* Length of the sepal\n",
    "* Width of the sepal\n",
    "\n",
    "All measurements are in `cm`.\n",
    "\n",
    "The different species that are contained in this data set are: \n",
    "\n",
    "* Setosa\n",
    "* Versicolor\n",
    "* Virginica\n",
    "\n",
    "**Goal** \n",
    "\n",
    "The goal is to create a machine learning model that can learn from the data and predict the species for a new iris.\n",
    "\n",
    "**Type of Problem**\n",
    "\n",
    "Because we have measurements for which we known the correct species of iris, this is a _supervised learning_ problem. In this problem, we want to predict on of several options (the species of iris). This is an example of a _classification_ problem.\n",
    "\n",
    "The possible outputs are called the _classes_. This problem is a three-class classification problem. The desired output for a single data points (an iris) is the species of the flower. For a particular data point, the species it belongs to is called its _label_."
   ]
  },
  {
   "cell_type": "markdown",
   "metadata": {},
   "source": [
    "## Dataset"
   ]
  },
  {
   "cell_type": "markdown",
   "metadata": {},
   "source": [
    "We will be using the Iris dataset that is included in `scikit-learn`."
   ]
  },
  {
   "cell_type": "code",
   "execution_count": 3,
   "metadata": {},
   "outputs": [],
   "source": [
    "from sklearn.datasets import load_iris\n",
    "iris_dataset = load_iris()"
   ]
  },
  {
   "cell_type": "code",
   "execution_count": 4,
   "metadata": {},
   "outputs": [
    {
     "name": "stdout",
     "output_type": "stream",
     "text": [
      "Keys of iris_dataset: \n",
      "dict_keys(['data', 'target', 'target_names', 'DESCR', 'feature_names'])\n"
     ]
    }
   ],
   "source": [
    "print(\"Keys of iris_dataset: \\n{}\".format(iris_dataset.keys()))"
   ]
  },
  {
   "cell_type": "code",
   "execution_count": 14,
   "metadata": {},
   "outputs": [
    {
     "name": "stdout",
     "output_type": "stream",
     "text": [
      "Iris Plants Database\n",
      "====================\n",
      "\n",
      "Notes\n",
      "-----\n",
      "Data Set Characteristics:\n",
      "    :Number of Instances: 150 (50 in each of three classes)\n",
      "    :Number of Attributes: 4 numeric, predictive attributes and the class\n",
      "    :Attribute Information:\n",
      "        - sepal length in cm\n",
      "        - sepal width in cm\n",
      "        - petal length in cm\n",
      "        - petal width in cm\n",
      "        - class:\n",
      "                - Iris-Setosa\n",
      "                - Iris-Versicolour\n",
      "                - Iris-Virginica\n",
      "    :Summary Statistics:\n",
      "\n",
      "    ============== ==== ==== ======= ===== ====================\n",
      "                    Min  Max   Mean    SD   Class Correlation\n",
      "    ============== ==== ==== ======= ===== ====================\n",
      "    sepal length:   4.3  7.9   5.84   0.83    0.7826\n",
      "    sepal width:    2.0  4.4   3.05   0.43   -0.4194\n",
      "    petal length:   1.0  6.9   3.76   1.76    0.9490  (high!)\n",
      "    petal width:    0.1  2.5   1.20  0.76     0.9565  (high!)\n",
      "    ============== ==== ==== ======= ===== ====================\n"
     ]
    }
   ],
   "source": [
    "print(iris_dataset['DESCR'][:981])"
   ]
  },
  {
   "cell_type": "code",
   "execution_count": 15,
   "metadata": {},
   "outputs": [
    {
     "name": "stdout",
     "output_type": "stream",
     "text": [
      "Target names ['setosa' 'versicolor' 'virginica']\n"
     ]
    }
   ],
   "source": [
    "print('Target names {}'.format(iris_dataset['target_names']))"
   ]
  },
  {
   "cell_type": "code",
   "execution_count": 16,
   "metadata": {},
   "outputs": [
    {
     "name": "stdout",
     "output_type": "stream",
     "text": [
      "Feature names: \n",
      "['sepal length (cm)', 'sepal width (cm)', 'petal length (cm)', 'petal width (cm)']\n"
     ]
    }
   ],
   "source": [
    "print('Feature names: \\n{}'.format(iris_dataset['feature_names']))"
   ]
  },
  {
   "cell_type": "code",
   "execution_count": 17,
   "metadata": {},
   "outputs": [
    {
     "name": "stdout",
     "output_type": "stream",
     "text": [
      "Shape of data: (150, 4)\n"
     ]
    }
   ],
   "source": [
    "print('Shape of data: {}'.format(iris_dataset['data'].shape))"
   ]
  },
  {
   "cell_type": "code",
   "execution_count": 20,
   "metadata": {},
   "outputs": [
    {
     "name": "stdout",
     "output_type": "stream",
     "text": [
      "Target: \n",
      "[0 0 0 0 0 0 0 0 0 0 0 0 0 0 0 0 0 0 0 0 0 0 0 0 0 0 0 0 0 0 0 0 0 0 0 0 0\n",
      " 0 0 0 0 0 0 0 0 0 0 0 0 0 1 1 1 1 1 1 1 1 1 1 1 1 1 1 1 1 1 1 1 1 1 1 1 1\n",
      " 1 1 1 1 1 1 1 1 1 1 1 1 1 1 1 1 1 1 1 1 1 1 1 1 1 1 2 2 2 2 2 2 2 2 2 2 2\n",
      " 2 2 2 2 2 2 2 2 2 2 2 2 2 2 2 2 2 2 2 2 2 2 2 2 2 2 2 2 2 2 2 2 2 2 2 2 2\n",
      " 2 2]\n"
     ]
    }
   ],
   "source": [
    "print('Target: \\n{}'.format(iris_dataset['target']))"
   ]
  },
  {
   "cell_type": "markdown",
   "metadata": {},
   "source": [
    "## Training and Test Data"
   ]
  },
  {
   "cell_type": "markdown",
   "metadata": {},
   "source": [
    "We want to build a machine learning model from this data that can predict the species of iris for a new set of measurements.\n",
    "\n",
    "The data should be split up in training and testing data. If we use all the data for our model then it will simply remember all the data points and always predict the correct label. This \"remembering\" does not indicate that our model will _generalize_ well (in other words, perform well on new data). \n",
    "\n",
    "One part of the dataset is used to build our machine learning model, and is called the _training data_ or _training set_.  the rest of the data will be used to assess how well the model works; this is called the _test data_, _test set_, _hold-out set_.\n",
    "\n",
    "The package `scikit-learn` contains a function that shuffles the dataset and splits it: the `train_test_split` function. This function extract 75% of the rows in the data as the training set. The remaining 25% as is declared as the test set.\n",
    "\n",
    "In `scikit-learn` data is usually denoted with a capital $X$ (multi-dimensional), while labels are denoted lowercase $y$ (one-dimension). This follows the standard formulation of $f(x)=y$ in mathematics."
   ]
  },
  {
   "cell_type": "code",
   "execution_count": 21,
   "metadata": {},
   "outputs": [],
   "source": [
    "from sklearn.model_selection import train_test_split\n",
    "\n",
    "X_train, X_test, y_train, y_test = train_test_split(\n",
    "    iris_dataset['data'], iris_dataset['target'], random_state=0)"
   ]
  },
  {
   "cell_type": "code",
   "execution_count": 22,
   "metadata": {},
   "outputs": [
    {
     "name": "stdout",
     "output_type": "stream",
     "text": [
      "X_train shape: (112, 4)\n",
      "y_train shape: (112,)\n"
     ]
    }
   ],
   "source": [
    "print('X_train shape: {}'.format(X_train.shape))\n",
    "print('y_train shape: {}'.format(y_train.shape))"
   ]
  },
  {
   "cell_type": "code",
   "execution_count": 23,
   "metadata": {},
   "outputs": [
    {
     "name": "stdout",
     "output_type": "stream",
     "text": [
      "X_test shape: (38, 4)\n",
      "y_test shape: (38,)\n"
     ]
    }
   ],
   "source": [
    "print('X_test shape: {}'.format(X_test.shape))\n",
    "print('y_test shape: {}'.format(y_test.shape))"
   ]
  },
  {
   "cell_type": "markdown",
   "metadata": {},
   "source": [
    "## Look at the Data"
   ]
  },
  {
   "cell_type": "markdown",
   "metadata": {},
   "source": [
    "Before building a machine learning model we should inspect the data and see if the task is solvable without machine learning or if the desired information might not be contained in the data.\n",
    "\n",
    "The easiest way to do this is using a _scatter plot_. However, it is difficult to plot datasets with more than three features this way. One way around this problem is to do a _pair plot_, which looks at all possible pairs of features. Keep in mind that the pair plot does not show all the interactions of all features at once, so some interesting aspects about the data may not be revealed when visualizing it this way."
   ]
  },
  {
   "cell_type": "code",
   "execution_count": 25,
   "metadata": {},
   "outputs": [],
   "source": [
    "iris_dataframe = pd.DataFrame(X_train, columns=iris_dataset.feature_names)"
   ]
  },
  {
   "cell_type": "code",
   "execution_count": 33,
   "metadata": {
    "scrolled": false
   },
   "outputs": [
    {
     "data": {
      "application/javascript": [
       "/* Put everything inside the global mpl namespace */\n",
       "window.mpl = {};\n",
       "\n",
       "\n",
       "mpl.get_websocket_type = function() {\n",
       "    if (typeof(WebSocket) !== 'undefined') {\n",
       "        return WebSocket;\n",
       "    } else if (typeof(MozWebSocket) !== 'undefined') {\n",
       "        return MozWebSocket;\n",
       "    } else {\n",
       "        alert('Your browser does not have WebSocket support.' +\n",
       "              'Please try Chrome, Safari or Firefox ≥ 6. ' +\n",
       "              'Firefox 4 and 5 are also supported but you ' +\n",
       "              'have to enable WebSockets in about:config.');\n",
       "    };\n",
       "}\n",
       "\n",
       "mpl.figure = function(figure_id, websocket, ondownload, parent_element) {\n",
       "    this.id = figure_id;\n",
       "\n",
       "    this.ws = websocket;\n",
       "\n",
       "    this.supports_binary = (this.ws.binaryType != undefined);\n",
       "\n",
       "    if (!this.supports_binary) {\n",
       "        var warnings = document.getElementById(\"mpl-warnings\");\n",
       "        if (warnings) {\n",
       "            warnings.style.display = 'block';\n",
       "            warnings.textContent = (\n",
       "                \"This browser does not support binary websocket messages. \" +\n",
       "                    \"Performance may be slow.\");\n",
       "        }\n",
       "    }\n",
       "\n",
       "    this.imageObj = new Image();\n",
       "\n",
       "    this.context = undefined;\n",
       "    this.message = undefined;\n",
       "    this.canvas = undefined;\n",
       "    this.rubberband_canvas = undefined;\n",
       "    this.rubberband_context = undefined;\n",
       "    this.format_dropdown = undefined;\n",
       "\n",
       "    this.image_mode = 'full';\n",
       "\n",
       "    this.root = $('<div/>');\n",
       "    this._root_extra_style(this.root)\n",
       "    this.root.attr('style', 'display: inline-block');\n",
       "\n",
       "    $(parent_element).append(this.root);\n",
       "\n",
       "    this._init_header(this);\n",
       "    this._init_canvas(this);\n",
       "    this._init_toolbar(this);\n",
       "\n",
       "    var fig = this;\n",
       "\n",
       "    this.waiting = false;\n",
       "\n",
       "    this.ws.onopen =  function () {\n",
       "            fig.send_message(\"supports_binary\", {value: fig.supports_binary});\n",
       "            fig.send_message(\"send_image_mode\", {});\n",
       "            if (mpl.ratio != 1) {\n",
       "                fig.send_message(\"set_dpi_ratio\", {'dpi_ratio': mpl.ratio});\n",
       "            }\n",
       "            fig.send_message(\"refresh\", {});\n",
       "        }\n",
       "\n",
       "    this.imageObj.onload = function() {\n",
       "            if (fig.image_mode == 'full') {\n",
       "                // Full images could contain transparency (where diff images\n",
       "                // almost always do), so we need to clear the canvas so that\n",
       "                // there is no ghosting.\n",
       "                fig.context.clearRect(0, 0, fig.canvas.width, fig.canvas.height);\n",
       "            }\n",
       "            fig.context.drawImage(fig.imageObj, 0, 0);\n",
       "        };\n",
       "\n",
       "    this.imageObj.onunload = function() {\n",
       "        fig.ws.close();\n",
       "    }\n",
       "\n",
       "    this.ws.onmessage = this._make_on_message_function(this);\n",
       "\n",
       "    this.ondownload = ondownload;\n",
       "}\n",
       "\n",
       "mpl.figure.prototype._init_header = function() {\n",
       "    var titlebar = $(\n",
       "        '<div class=\"ui-dialog-titlebar ui-widget-header ui-corner-all ' +\n",
       "        'ui-helper-clearfix\"/>');\n",
       "    var titletext = $(\n",
       "        '<div class=\"ui-dialog-title\" style=\"width: 100%; ' +\n",
       "        'text-align: center; padding: 3px;\"/>');\n",
       "    titlebar.append(titletext)\n",
       "    this.root.append(titlebar);\n",
       "    this.header = titletext[0];\n",
       "}\n",
       "\n",
       "\n",
       "\n",
       "mpl.figure.prototype._canvas_extra_style = function(canvas_div) {\n",
       "\n",
       "}\n",
       "\n",
       "\n",
       "mpl.figure.prototype._root_extra_style = function(canvas_div) {\n",
       "\n",
       "}\n",
       "\n",
       "mpl.figure.prototype._init_canvas = function() {\n",
       "    var fig = this;\n",
       "\n",
       "    var canvas_div = $('<div/>');\n",
       "\n",
       "    canvas_div.attr('style', 'position: relative; clear: both; outline: 0');\n",
       "\n",
       "    function canvas_keyboard_event(event) {\n",
       "        return fig.key_event(event, event['data']);\n",
       "    }\n",
       "\n",
       "    canvas_div.keydown('key_press', canvas_keyboard_event);\n",
       "    canvas_div.keyup('key_release', canvas_keyboard_event);\n",
       "    this.canvas_div = canvas_div\n",
       "    this._canvas_extra_style(canvas_div)\n",
       "    this.root.append(canvas_div);\n",
       "\n",
       "    var canvas = $('<canvas/>');\n",
       "    canvas.addClass('mpl-canvas');\n",
       "    canvas.attr('style', \"left: 0; top: 0; z-index: 0; outline: 0\")\n",
       "\n",
       "    this.canvas = canvas[0];\n",
       "    this.context = canvas[0].getContext(\"2d\");\n",
       "\n",
       "    var backingStore = this.context.backingStorePixelRatio ||\n",
       "\tthis.context.webkitBackingStorePixelRatio ||\n",
       "\tthis.context.mozBackingStorePixelRatio ||\n",
       "\tthis.context.msBackingStorePixelRatio ||\n",
       "\tthis.context.oBackingStorePixelRatio ||\n",
       "\tthis.context.backingStorePixelRatio || 1;\n",
       "\n",
       "    mpl.ratio = (window.devicePixelRatio || 1) / backingStore;\n",
       "\n",
       "    var rubberband = $('<canvas/>');\n",
       "    rubberband.attr('style', \"position: absolute; left: 0; top: 0; z-index: 1;\")\n",
       "\n",
       "    var pass_mouse_events = true;\n",
       "\n",
       "    canvas_div.resizable({\n",
       "        start: function(event, ui) {\n",
       "            pass_mouse_events = false;\n",
       "        },\n",
       "        resize: function(event, ui) {\n",
       "            fig.request_resize(ui.size.width, ui.size.height);\n",
       "        },\n",
       "        stop: function(event, ui) {\n",
       "            pass_mouse_events = true;\n",
       "            fig.request_resize(ui.size.width, ui.size.height);\n",
       "        },\n",
       "    });\n",
       "\n",
       "    function mouse_event_fn(event) {\n",
       "        if (pass_mouse_events)\n",
       "            return fig.mouse_event(event, event['data']);\n",
       "    }\n",
       "\n",
       "    rubberband.mousedown('button_press', mouse_event_fn);\n",
       "    rubberband.mouseup('button_release', mouse_event_fn);\n",
       "    // Throttle sequential mouse events to 1 every 20ms.\n",
       "    rubberband.mousemove('motion_notify', mouse_event_fn);\n",
       "\n",
       "    rubberband.mouseenter('figure_enter', mouse_event_fn);\n",
       "    rubberband.mouseleave('figure_leave', mouse_event_fn);\n",
       "\n",
       "    canvas_div.on(\"wheel\", function (event) {\n",
       "        event = event.originalEvent;\n",
       "        event['data'] = 'scroll'\n",
       "        if (event.deltaY < 0) {\n",
       "            event.step = 1;\n",
       "        } else {\n",
       "            event.step = -1;\n",
       "        }\n",
       "        mouse_event_fn(event);\n",
       "    });\n",
       "\n",
       "    canvas_div.append(canvas);\n",
       "    canvas_div.append(rubberband);\n",
       "\n",
       "    this.rubberband = rubberband;\n",
       "    this.rubberband_canvas = rubberband[0];\n",
       "    this.rubberband_context = rubberband[0].getContext(\"2d\");\n",
       "    this.rubberband_context.strokeStyle = \"#000000\";\n",
       "\n",
       "    this._resize_canvas = function(width, height) {\n",
       "        // Keep the size of the canvas, canvas container, and rubber band\n",
       "        // canvas in synch.\n",
       "        canvas_div.css('width', width)\n",
       "        canvas_div.css('height', height)\n",
       "\n",
       "        canvas.attr('width', width * mpl.ratio);\n",
       "        canvas.attr('height', height * mpl.ratio);\n",
       "        canvas.attr('style', 'width: ' + width + 'px; height: ' + height + 'px;');\n",
       "\n",
       "        rubberband.attr('width', width);\n",
       "        rubberband.attr('height', height);\n",
       "    }\n",
       "\n",
       "    // Set the figure to an initial 600x600px, this will subsequently be updated\n",
       "    // upon first draw.\n",
       "    this._resize_canvas(600, 600);\n",
       "\n",
       "    // Disable right mouse context menu.\n",
       "    $(this.rubberband_canvas).bind(\"contextmenu\",function(e){\n",
       "        return false;\n",
       "    });\n",
       "\n",
       "    function set_focus () {\n",
       "        canvas.focus();\n",
       "        canvas_div.focus();\n",
       "    }\n",
       "\n",
       "    window.setTimeout(set_focus, 100);\n",
       "}\n",
       "\n",
       "mpl.figure.prototype._init_toolbar = function() {\n",
       "    var fig = this;\n",
       "\n",
       "    var nav_element = $('<div/>')\n",
       "    nav_element.attr('style', 'width: 100%');\n",
       "    this.root.append(nav_element);\n",
       "\n",
       "    // Define a callback function for later on.\n",
       "    function toolbar_event(event) {\n",
       "        return fig.toolbar_button_onclick(event['data']);\n",
       "    }\n",
       "    function toolbar_mouse_event(event) {\n",
       "        return fig.toolbar_button_onmouseover(event['data']);\n",
       "    }\n",
       "\n",
       "    for(var toolbar_ind in mpl.toolbar_items) {\n",
       "        var name = mpl.toolbar_items[toolbar_ind][0];\n",
       "        var tooltip = mpl.toolbar_items[toolbar_ind][1];\n",
       "        var image = mpl.toolbar_items[toolbar_ind][2];\n",
       "        var method_name = mpl.toolbar_items[toolbar_ind][3];\n",
       "\n",
       "        if (!name) {\n",
       "            // put a spacer in here.\n",
       "            continue;\n",
       "        }\n",
       "        var button = $('<button/>');\n",
       "        button.addClass('ui-button ui-widget ui-state-default ui-corner-all ' +\n",
       "                        'ui-button-icon-only');\n",
       "        button.attr('role', 'button');\n",
       "        button.attr('aria-disabled', 'false');\n",
       "        button.click(method_name, toolbar_event);\n",
       "        button.mouseover(tooltip, toolbar_mouse_event);\n",
       "\n",
       "        var icon_img = $('<span/>');\n",
       "        icon_img.addClass('ui-button-icon-primary ui-icon');\n",
       "        icon_img.addClass(image);\n",
       "        icon_img.addClass('ui-corner-all');\n",
       "\n",
       "        var tooltip_span = $('<span/>');\n",
       "        tooltip_span.addClass('ui-button-text');\n",
       "        tooltip_span.html(tooltip);\n",
       "\n",
       "        button.append(icon_img);\n",
       "        button.append(tooltip_span);\n",
       "\n",
       "        nav_element.append(button);\n",
       "    }\n",
       "\n",
       "    var fmt_picker_span = $('<span/>');\n",
       "\n",
       "    var fmt_picker = $('<select/>');\n",
       "    fmt_picker.addClass('mpl-toolbar-option ui-widget ui-widget-content');\n",
       "    fmt_picker_span.append(fmt_picker);\n",
       "    nav_element.append(fmt_picker_span);\n",
       "    this.format_dropdown = fmt_picker[0];\n",
       "\n",
       "    for (var ind in mpl.extensions) {\n",
       "        var fmt = mpl.extensions[ind];\n",
       "        var option = $(\n",
       "            '<option/>', {selected: fmt === mpl.default_extension}).html(fmt);\n",
       "        fmt_picker.append(option)\n",
       "    }\n",
       "\n",
       "    // Add hover states to the ui-buttons\n",
       "    $( \".ui-button\" ).hover(\n",
       "        function() { $(this).addClass(\"ui-state-hover\");},\n",
       "        function() { $(this).removeClass(\"ui-state-hover\");}\n",
       "    );\n",
       "\n",
       "    var status_bar = $('<span class=\"mpl-message\"/>');\n",
       "    nav_element.append(status_bar);\n",
       "    this.message = status_bar[0];\n",
       "}\n",
       "\n",
       "mpl.figure.prototype.request_resize = function(x_pixels, y_pixels) {\n",
       "    // Request matplotlib to resize the figure. Matplotlib will then trigger a resize in the client,\n",
       "    // which will in turn request a refresh of the image.\n",
       "    this.send_message('resize', {'width': x_pixels, 'height': y_pixels});\n",
       "}\n",
       "\n",
       "mpl.figure.prototype.send_message = function(type, properties) {\n",
       "    properties['type'] = type;\n",
       "    properties['figure_id'] = this.id;\n",
       "    this.ws.send(JSON.stringify(properties));\n",
       "}\n",
       "\n",
       "mpl.figure.prototype.send_draw_message = function() {\n",
       "    if (!this.waiting) {\n",
       "        this.waiting = true;\n",
       "        this.ws.send(JSON.stringify({type: \"draw\", figure_id: this.id}));\n",
       "    }\n",
       "}\n",
       "\n",
       "\n",
       "mpl.figure.prototype.handle_save = function(fig, msg) {\n",
       "    var format_dropdown = fig.format_dropdown;\n",
       "    var format = format_dropdown.options[format_dropdown.selectedIndex].value;\n",
       "    fig.ondownload(fig, format);\n",
       "}\n",
       "\n",
       "\n",
       "mpl.figure.prototype.handle_resize = function(fig, msg) {\n",
       "    var size = msg['size'];\n",
       "    if (size[0] != fig.canvas.width || size[1] != fig.canvas.height) {\n",
       "        fig._resize_canvas(size[0], size[1]);\n",
       "        fig.send_message(\"refresh\", {});\n",
       "    };\n",
       "}\n",
       "\n",
       "mpl.figure.prototype.handle_rubberband = function(fig, msg) {\n",
       "    var x0 = msg['x0'] / mpl.ratio;\n",
       "    var y0 = (fig.canvas.height - msg['y0']) / mpl.ratio;\n",
       "    var x1 = msg['x1'] / mpl.ratio;\n",
       "    var y1 = (fig.canvas.height - msg['y1']) / mpl.ratio;\n",
       "    x0 = Math.floor(x0) + 0.5;\n",
       "    y0 = Math.floor(y0) + 0.5;\n",
       "    x1 = Math.floor(x1) + 0.5;\n",
       "    y1 = Math.floor(y1) + 0.5;\n",
       "    var min_x = Math.min(x0, x1);\n",
       "    var min_y = Math.min(y0, y1);\n",
       "    var width = Math.abs(x1 - x0);\n",
       "    var height = Math.abs(y1 - y0);\n",
       "\n",
       "    fig.rubberband_context.clearRect(\n",
       "        0, 0, fig.canvas.width, fig.canvas.height);\n",
       "\n",
       "    fig.rubberband_context.strokeRect(min_x, min_y, width, height);\n",
       "}\n",
       "\n",
       "mpl.figure.prototype.handle_figure_label = function(fig, msg) {\n",
       "    // Updates the figure title.\n",
       "    fig.header.textContent = msg['label'];\n",
       "}\n",
       "\n",
       "mpl.figure.prototype.handle_cursor = function(fig, msg) {\n",
       "    var cursor = msg['cursor'];\n",
       "    switch(cursor)\n",
       "    {\n",
       "    case 0:\n",
       "        cursor = 'pointer';\n",
       "        break;\n",
       "    case 1:\n",
       "        cursor = 'default';\n",
       "        break;\n",
       "    case 2:\n",
       "        cursor = 'crosshair';\n",
       "        break;\n",
       "    case 3:\n",
       "        cursor = 'move';\n",
       "        break;\n",
       "    }\n",
       "    fig.rubberband_canvas.style.cursor = cursor;\n",
       "}\n",
       "\n",
       "mpl.figure.prototype.handle_message = function(fig, msg) {\n",
       "    fig.message.textContent = msg['message'];\n",
       "}\n",
       "\n",
       "mpl.figure.prototype.handle_draw = function(fig, msg) {\n",
       "    // Request the server to send over a new figure.\n",
       "    fig.send_draw_message();\n",
       "}\n",
       "\n",
       "mpl.figure.prototype.handle_image_mode = function(fig, msg) {\n",
       "    fig.image_mode = msg['mode'];\n",
       "}\n",
       "\n",
       "mpl.figure.prototype.updated_canvas_event = function() {\n",
       "    // Called whenever the canvas gets updated.\n",
       "    this.send_message(\"ack\", {});\n",
       "}\n",
       "\n",
       "// A function to construct a web socket function for onmessage handling.\n",
       "// Called in the figure constructor.\n",
       "mpl.figure.prototype._make_on_message_function = function(fig) {\n",
       "    return function socket_on_message(evt) {\n",
       "        if (evt.data instanceof Blob) {\n",
       "            /* FIXME: We get \"Resource interpreted as Image but\n",
       "             * transferred with MIME type text/plain:\" errors on\n",
       "             * Chrome.  But how to set the MIME type?  It doesn't seem\n",
       "             * to be part of the websocket stream */\n",
       "            evt.data.type = \"image/png\";\n",
       "\n",
       "            /* Free the memory for the previous frames */\n",
       "            if (fig.imageObj.src) {\n",
       "                (window.URL || window.webkitURL).revokeObjectURL(\n",
       "                    fig.imageObj.src);\n",
       "            }\n",
       "\n",
       "            fig.imageObj.src = (window.URL || window.webkitURL).createObjectURL(\n",
       "                evt.data);\n",
       "            fig.updated_canvas_event();\n",
       "            fig.waiting = false;\n",
       "            return;\n",
       "        }\n",
       "        else if (typeof evt.data === 'string' && evt.data.slice(0, 21) == \"data:image/png;base64\") {\n",
       "            fig.imageObj.src = evt.data;\n",
       "            fig.updated_canvas_event();\n",
       "            fig.waiting = false;\n",
       "            return;\n",
       "        }\n",
       "\n",
       "        var msg = JSON.parse(evt.data);\n",
       "        var msg_type = msg['type'];\n",
       "\n",
       "        // Call the  \"handle_{type}\" callback, which takes\n",
       "        // the figure and JSON message as its only arguments.\n",
       "        try {\n",
       "            var callback = fig[\"handle_\" + msg_type];\n",
       "        } catch (e) {\n",
       "            console.log(\"No handler for the '\" + msg_type + \"' message type: \", msg);\n",
       "            return;\n",
       "        }\n",
       "\n",
       "        if (callback) {\n",
       "            try {\n",
       "                // console.log(\"Handling '\" + msg_type + \"' message: \", msg);\n",
       "                callback(fig, msg);\n",
       "            } catch (e) {\n",
       "                console.log(\"Exception inside the 'handler_\" + msg_type + \"' callback:\", e, e.stack, msg);\n",
       "            }\n",
       "        }\n",
       "    };\n",
       "}\n",
       "\n",
       "// from http://stackoverflow.com/questions/1114465/getting-mouse-location-in-canvas\n",
       "mpl.findpos = function(e) {\n",
       "    //this section is from http://www.quirksmode.org/js/events_properties.html\n",
       "    var targ;\n",
       "    if (!e)\n",
       "        e = window.event;\n",
       "    if (e.target)\n",
       "        targ = e.target;\n",
       "    else if (e.srcElement)\n",
       "        targ = e.srcElement;\n",
       "    if (targ.nodeType == 3) // defeat Safari bug\n",
       "        targ = targ.parentNode;\n",
       "\n",
       "    // jQuery normalizes the pageX and pageY\n",
       "    // pageX,Y are the mouse positions relative to the document\n",
       "    // offset() returns the position of the element relative to the document\n",
       "    var x = e.pageX - $(targ).offset().left;\n",
       "    var y = e.pageY - $(targ).offset().top;\n",
       "\n",
       "    return {\"x\": x, \"y\": y};\n",
       "};\n",
       "\n",
       "/*\n",
       " * return a copy of an object with only non-object keys\n",
       " * we need this to avoid circular references\n",
       " * http://stackoverflow.com/a/24161582/3208463\n",
       " */\n",
       "function simpleKeys (original) {\n",
       "  return Object.keys(original).reduce(function (obj, key) {\n",
       "    if (typeof original[key] !== 'object')\n",
       "        obj[key] = original[key]\n",
       "    return obj;\n",
       "  }, {});\n",
       "}\n",
       "\n",
       "mpl.figure.prototype.mouse_event = function(event, name) {\n",
       "    var canvas_pos = mpl.findpos(event)\n",
       "\n",
       "    if (name === 'button_press')\n",
       "    {\n",
       "        this.canvas.focus();\n",
       "        this.canvas_div.focus();\n",
       "    }\n",
       "\n",
       "    var x = canvas_pos.x * mpl.ratio;\n",
       "    var y = canvas_pos.y * mpl.ratio;\n",
       "\n",
       "    this.send_message(name, {x: x, y: y, button: event.button,\n",
       "                             step: event.step,\n",
       "                             guiEvent: simpleKeys(event)});\n",
       "\n",
       "    /* This prevents the web browser from automatically changing to\n",
       "     * the text insertion cursor when the button is pressed.  We want\n",
       "     * to control all of the cursor setting manually through the\n",
       "     * 'cursor' event from matplotlib */\n",
       "    event.preventDefault();\n",
       "    return false;\n",
       "}\n",
       "\n",
       "mpl.figure.prototype._key_event_extra = function(event, name) {\n",
       "    // Handle any extra behaviour associated with a key event\n",
       "}\n",
       "\n",
       "mpl.figure.prototype.key_event = function(event, name) {\n",
       "\n",
       "    // Prevent repeat events\n",
       "    if (name == 'key_press')\n",
       "    {\n",
       "        if (event.which === this._key)\n",
       "            return;\n",
       "        else\n",
       "            this._key = event.which;\n",
       "    }\n",
       "    if (name == 'key_release')\n",
       "        this._key = null;\n",
       "\n",
       "    var value = '';\n",
       "    if (event.ctrlKey && event.which != 17)\n",
       "        value += \"ctrl+\";\n",
       "    if (event.altKey && event.which != 18)\n",
       "        value += \"alt+\";\n",
       "    if (event.shiftKey && event.which != 16)\n",
       "        value += \"shift+\";\n",
       "\n",
       "    value += 'k';\n",
       "    value += event.which.toString();\n",
       "\n",
       "    this._key_event_extra(event, name);\n",
       "\n",
       "    this.send_message(name, {key: value,\n",
       "                             guiEvent: simpleKeys(event)});\n",
       "    return false;\n",
       "}\n",
       "\n",
       "mpl.figure.prototype.toolbar_button_onclick = function(name) {\n",
       "    if (name == 'download') {\n",
       "        this.handle_save(this, null);\n",
       "    } else {\n",
       "        this.send_message(\"toolbar_button\", {name: name});\n",
       "    }\n",
       "};\n",
       "\n",
       "mpl.figure.prototype.toolbar_button_onmouseover = function(tooltip) {\n",
       "    this.message.textContent = tooltip;\n",
       "};\n",
       "mpl.toolbar_items = [[\"Home\", \"Reset original view\", \"fa fa-home icon-home\", \"home\"], [\"Back\", \"Back to  previous view\", \"fa fa-arrow-left icon-arrow-left\", \"back\"], [\"Forward\", \"Forward to next view\", \"fa fa-arrow-right icon-arrow-right\", \"forward\"], [\"\", \"\", \"\", \"\"], [\"Pan\", \"Pan axes with left mouse, zoom with right\", \"fa fa-arrows icon-move\", \"pan\"], [\"Zoom\", \"Zoom to rectangle\", \"fa fa-square-o icon-check-empty\", \"zoom\"], [\"\", \"\", \"\", \"\"], [\"Download\", \"Download plot\", \"fa fa-floppy-o icon-save\", \"download\"]];\n",
       "\n",
       "mpl.extensions = [\"eps\", \"jpeg\", \"pdf\", \"png\", \"ps\", \"raw\", \"svg\", \"tif\"];\n",
       "\n",
       "mpl.default_extension = \"png\";var comm_websocket_adapter = function(comm) {\n",
       "    // Create a \"websocket\"-like object which calls the given IPython comm\n",
       "    // object with the appropriate methods. Currently this is a non binary\n",
       "    // socket, so there is still some room for performance tuning.\n",
       "    var ws = {};\n",
       "\n",
       "    ws.close = function() {\n",
       "        comm.close()\n",
       "    };\n",
       "    ws.send = function(m) {\n",
       "        //console.log('sending', m);\n",
       "        comm.send(m);\n",
       "    };\n",
       "    // Register the callback with on_msg.\n",
       "    comm.on_msg(function(msg) {\n",
       "        //console.log('receiving', msg['content']['data'], msg);\n",
       "        // Pass the mpl event to the overriden (by mpl) onmessage function.\n",
       "        ws.onmessage(msg['content']['data'])\n",
       "    });\n",
       "    return ws;\n",
       "}\n",
       "\n",
       "mpl.mpl_figure_comm = function(comm, msg) {\n",
       "    // This is the function which gets called when the mpl process\n",
       "    // starts-up an IPython Comm through the \"matplotlib\" channel.\n",
       "\n",
       "    var id = msg.content.data.id;\n",
       "    // Get hold of the div created by the display call when the Comm\n",
       "    // socket was opened in Python.\n",
       "    var element = $(\"#\" + id);\n",
       "    var ws_proxy = comm_websocket_adapter(comm)\n",
       "\n",
       "    function ondownload(figure, format) {\n",
       "        window.open(figure.imageObj.src);\n",
       "    }\n",
       "\n",
       "    var fig = new mpl.figure(id, ws_proxy,\n",
       "                           ondownload,\n",
       "                           element.get(0));\n",
       "\n",
       "    // Call onopen now - mpl needs it, as it is assuming we've passed it a real\n",
       "    // web socket which is closed, not our websocket->open comm proxy.\n",
       "    ws_proxy.onopen();\n",
       "\n",
       "    fig.parent_element = element.get(0);\n",
       "    fig.cell_info = mpl.find_output_cell(\"<div id='\" + id + \"'></div>\");\n",
       "    if (!fig.cell_info) {\n",
       "        console.error(\"Failed to find cell for figure\", id, fig);\n",
       "        return;\n",
       "    }\n",
       "\n",
       "    var output_index = fig.cell_info[2]\n",
       "    var cell = fig.cell_info[0];\n",
       "\n",
       "};\n",
       "\n",
       "mpl.figure.prototype.handle_close = function(fig, msg) {\n",
       "    var width = fig.canvas.width/mpl.ratio\n",
       "    fig.root.unbind('remove')\n",
       "\n",
       "    // Update the output cell to use the data from the current canvas.\n",
       "    fig.push_to_output();\n",
       "    var dataURL = fig.canvas.toDataURL();\n",
       "    // Re-enable the keyboard manager in IPython - without this line, in FF,\n",
       "    // the notebook keyboard shortcuts fail.\n",
       "    IPython.keyboard_manager.enable()\n",
       "    $(fig.parent_element).html('<img src=\"' + dataURL + '\" width=\"' + width + '\">');\n",
       "    fig.close_ws(fig, msg);\n",
       "}\n",
       "\n",
       "mpl.figure.prototype.close_ws = function(fig, msg){\n",
       "    fig.send_message('closing', msg);\n",
       "    // fig.ws.close()\n",
       "}\n",
       "\n",
       "mpl.figure.prototype.push_to_output = function(remove_interactive) {\n",
       "    // Turn the data on the canvas into data in the output cell.\n",
       "    var width = this.canvas.width/mpl.ratio\n",
       "    var dataURL = this.canvas.toDataURL();\n",
       "    this.cell_info[1]['text/html'] = '<img src=\"' + dataURL + '\" width=\"' + width + '\">';\n",
       "}\n",
       "\n",
       "mpl.figure.prototype.updated_canvas_event = function() {\n",
       "    // Tell IPython that the notebook contents must change.\n",
       "    IPython.notebook.set_dirty(true);\n",
       "    this.send_message(\"ack\", {});\n",
       "    var fig = this;\n",
       "    // Wait a second, then push the new image to the DOM so\n",
       "    // that it is saved nicely (might be nice to debounce this).\n",
       "    setTimeout(function () { fig.push_to_output() }, 1000);\n",
       "}\n",
       "\n",
       "mpl.figure.prototype._init_toolbar = function() {\n",
       "    var fig = this;\n",
       "\n",
       "    var nav_element = $('<div/>')\n",
       "    nav_element.attr('style', 'width: 100%');\n",
       "    this.root.append(nav_element);\n",
       "\n",
       "    // Define a callback function for later on.\n",
       "    function toolbar_event(event) {\n",
       "        return fig.toolbar_button_onclick(event['data']);\n",
       "    }\n",
       "    function toolbar_mouse_event(event) {\n",
       "        return fig.toolbar_button_onmouseover(event['data']);\n",
       "    }\n",
       "\n",
       "    for(var toolbar_ind in mpl.toolbar_items){\n",
       "        var name = mpl.toolbar_items[toolbar_ind][0];\n",
       "        var tooltip = mpl.toolbar_items[toolbar_ind][1];\n",
       "        var image = mpl.toolbar_items[toolbar_ind][2];\n",
       "        var method_name = mpl.toolbar_items[toolbar_ind][3];\n",
       "\n",
       "        if (!name) { continue; };\n",
       "\n",
       "        var button = $('<button class=\"btn btn-default\" href=\"#\" title=\"' + name + '\"><i class=\"fa ' + image + ' fa-lg\"></i></button>');\n",
       "        button.click(method_name, toolbar_event);\n",
       "        button.mouseover(tooltip, toolbar_mouse_event);\n",
       "        nav_element.append(button);\n",
       "    }\n",
       "\n",
       "    // Add the status bar.\n",
       "    var status_bar = $('<span class=\"mpl-message\" style=\"text-align:right; float: right;\"/>');\n",
       "    nav_element.append(status_bar);\n",
       "    this.message = status_bar[0];\n",
       "\n",
       "    // Add the close button to the window.\n",
       "    var buttongrp = $('<div class=\"btn-group inline pull-right\"></div>');\n",
       "    var button = $('<button class=\"btn btn-mini btn-primary\" href=\"#\" title=\"Stop Interaction\"><i class=\"fa fa-power-off icon-remove icon-large\"></i></button>');\n",
       "    button.click(function (evt) { fig.handle_close(fig, {}); } );\n",
       "    button.mouseover('Stop Interaction', toolbar_mouse_event);\n",
       "    buttongrp.append(button);\n",
       "    var titlebar = this.root.find($('.ui-dialog-titlebar'));\n",
       "    titlebar.prepend(buttongrp);\n",
       "}\n",
       "\n",
       "mpl.figure.prototype._root_extra_style = function(el){\n",
       "    var fig = this\n",
       "    el.on(\"remove\", function(){\n",
       "\tfig.close_ws(fig, {});\n",
       "    });\n",
       "}\n",
       "\n",
       "mpl.figure.prototype._canvas_extra_style = function(el){\n",
       "    // this is important to make the div 'focusable\n",
       "    el.attr('tabindex', 0)\n",
       "    // reach out to IPython and tell the keyboard manager to turn it's self\n",
       "    // off when our div gets focus\n",
       "\n",
       "    // location in version 3\n",
       "    if (IPython.notebook.keyboard_manager) {\n",
       "        IPython.notebook.keyboard_manager.register_events(el);\n",
       "    }\n",
       "    else {\n",
       "        // location in version 2\n",
       "        IPython.keyboard_manager.register_events(el);\n",
       "    }\n",
       "\n",
       "}\n",
       "\n",
       "mpl.figure.prototype._key_event_extra = function(event, name) {\n",
       "    var manager = IPython.notebook.keyboard_manager;\n",
       "    if (!manager)\n",
       "        manager = IPython.keyboard_manager;\n",
       "\n",
       "    // Check for shift+enter\n",
       "    if (event.shiftKey && event.which == 13) {\n",
       "        this.canvas_div.blur();\n",
       "        event.shiftKey = false;\n",
       "        // Send a \"J\" for go to next cell\n",
       "        event.which = 74;\n",
       "        event.keyCode = 74;\n",
       "        manager.command_mode();\n",
       "        manager.handle_keydown(event);\n",
       "    }\n",
       "}\n",
       "\n",
       "mpl.figure.prototype.handle_save = function(fig, msg) {\n",
       "    fig.ondownload(fig, null);\n",
       "}\n",
       "\n",
       "\n",
       "mpl.find_output_cell = function(html_output) {\n",
       "    // Return the cell and output element which can be found *uniquely* in the notebook.\n",
       "    // Note - this is a bit hacky, but it is done because the \"notebook_saving.Notebook\"\n",
       "    // IPython event is triggered only after the cells have been serialised, which for\n",
       "    // our purposes (turning an active figure into a static one), is too late.\n",
       "    var cells = IPython.notebook.get_cells();\n",
       "    var ncells = cells.length;\n",
       "    for (var i=0; i<ncells; i++) {\n",
       "        var cell = cells[i];\n",
       "        if (cell.cell_type === 'code'){\n",
       "            for (var j=0; j<cell.output_area.outputs.length; j++) {\n",
       "                var data = cell.output_area.outputs[j];\n",
       "                if (data.data) {\n",
       "                    // IPython >= 3 moved mimebundle to data attribute of output\n",
       "                    data = data.data;\n",
       "                }\n",
       "                if (data['text/html'] == html_output) {\n",
       "                    return [cell, data, j];\n",
       "                }\n",
       "            }\n",
       "        }\n",
       "    }\n",
       "}\n",
       "\n",
       "// Register the function which deals with the matplotlib target/channel.\n",
       "// The kernel may be null if the page has been refreshed.\n",
       "if (IPython.notebook.kernel != null) {\n",
       "    IPython.notebook.kernel.comm_manager.register_target('matplotlib', mpl.mpl_figure_comm);\n",
       "}\n"
      ],
      "text/plain": [
       "<IPython.core.display.Javascript object>"
      ]
     },
     "metadata": {},
     "output_type": "display_data"
    },
    {
     "data": {
      "text/html": [
       "<img src=\"data:image/png;base64,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\" width=\"800\">"
      ],
      "text/plain": [
       "<IPython.core.display.HTML object>"
      ]
     },
     "metadata": {},
     "output_type": "display_data"
    }
   ],
   "source": [
    "pd.plotting.scatter_matrix(iris_dataframe, c=y_train, figsize=(8, 8),\n",
    "                           marker='o', hist_kwds={'bins': 20}, s=60,\n",
    "                           alpha=0.8, cmap=mglearn.cm3);"
   ]
  },
  {
   "cell_type": "markdown",
   "metadata": {},
   "source": [
    "From the plots, we can see that the three classes seem to be relatively well seperated using the sepal and petal measurements. This means that machine learning model will be able to learn to seperate them."
   ]
  },
  {
   "cell_type": "markdown",
   "metadata": {},
   "source": [
    "## Building the Model: k-Nearest Neighbors"
   ]
  },
  {
   "cell_type": "markdown",
   "metadata": {},
   "source": [
    "Now we can start building the actual machine learning model. There are many classification algorithm in `scikit-learn` but here we will use a _k_-nearest neighbour classifier.\n",
    "\n",
    "The _k_ in _k_-nearest neighbours signifies that instead of using only the closest neighbour to the new data point, we can consider any fixed number _k_ of nearest neighbours.\n",
    "\n",
    "All machine learning models in `scikit-learn` are implemented in their own classes, which are called `Estimator` classes. The _k_-nearest neighbor algorithm is implemented in the `KNeighborsClassifier` class in the `neighbors` module."
   ]
  },
  {
   "cell_type": "code",
   "execution_count": 47,
   "metadata": {},
   "outputs": [],
   "source": [
    "from sklearn.neighbors import KNeighborsClassifier\n",
    "knn = KNeighborsClassifier(n_neighbors=1)"
   ]
  },
  {
   "cell_type": "markdown",
   "metadata": {},
   "source": [
    "To build the model on the training dataset, we call the `fit` method of the `knn` object."
   ]
  },
  {
   "cell_type": "code",
   "execution_count": 48,
   "metadata": {},
   "outputs": [
    {
     "data": {
      "text/plain": [
       "KNeighborsClassifier(algorithm='auto', leaf_size=30, metric='minkowski',\n",
       "           metric_params=None, n_jobs=1, n_neighbors=1, p=2,\n",
       "           weights='uniform')"
      ]
     },
     "execution_count": 48,
     "metadata": {},
     "output_type": "execute_result"
    }
   ],
   "source": [
    "knn.fit(X_train, y_train)"
   ]
  },
  {
   "cell_type": "markdown",
   "metadata": {},
   "source": [
    "## Making Predictions"
   ]
  },
  {
   "cell_type": "markdown",
   "metadata": {},
   "source": [
    "We can now make predictions using this model on new data for which we might not know the correct labels. Imagine if we found an iris in the wild with a sepal length of 5 cm, a sepal width of 2.9, a petal length of 1 cm, and a petal width of 0.2 cm."
   ]
  },
  {
   "cell_type": "code",
   "execution_count": 50,
   "metadata": {},
   "outputs": [
    {
     "name": "stdout",
     "output_type": "stream",
     "text": [
      "X_new.shape: (1, 4)\n"
     ]
    }
   ],
   "source": [
    "X_new = np.array([[5, 2.9, 1, 0.2]])\n",
    "print('X_new.shape: {}'.format(X_new.shape))"
   ]
  },
  {
   "cell_type": "markdown",
   "metadata": {},
   "source": [
    "To make a prediction we call the `predict` method of the `knn` object."
   ]
  },
  {
   "cell_type": "code",
   "execution_count": 55,
   "metadata": {},
   "outputs": [
    {
     "name": "stdout",
     "output_type": "stream",
     "text": [
      "Prediction: [0]\n",
      "Predicted target name: ['setosa']\n"
     ]
    }
   ],
   "source": [
    "prediction = knn.predict(X_new)\n",
    "print('Prediction: {}'.format(prediction))\n",
    "print('Predicted target name: {}'.format(iris_dataset['target_names'][prediction]))"
   ]
  },
  {
   "cell_type": "markdown",
   "metadata": {},
   "source": [
    "Our model predicts that this new iris belongs to class 0, meaning its species is _setosa_."
   ]
  },
  {
   "cell_type": "markdown",
   "metadata": {},
   "source": [
    "## Evaluating the Model"
   ]
  },
  {
   "cell_type": "markdown",
   "metadata": {},
   "source": [
    "This is where the test set that we created earlier comes in. We can make a prediction for each iris and compare it against its label (the known species). We can measure how well the model works by computing the _accuracy_, which is the fraction of the flowers that are correctly predicted."
   ]
  },
  {
   "cell_type": "code",
   "execution_count": 52,
   "metadata": {},
   "outputs": [
    {
     "name": "stdout",
     "output_type": "stream",
     "text": [
      "Test set predictions:\n",
      "[2 1 0 2 0 2 0 1 1 1 2 1 1 1 1 0 1 1 0 0 2 1 0 0 2 0 0 1 1 0 2 1 0 2 2 1 0\n",
      " 2]\n"
     ]
    }
   ],
   "source": [
    "y_pred = knn.predict(X_test)\n",
    "print('Test set predictions:\\n{}'.format(y_pred))"
   ]
  },
  {
   "cell_type": "code",
   "execution_count": 53,
   "metadata": {},
   "outputs": [
    {
     "name": "stdout",
     "output_type": "stream",
     "text": [
      "Test set score: 0.97\n"
     ]
    }
   ],
   "source": [
    "print('Test set score: {:.2f}'.format(np.mean(y_pred == y_test)))"
   ]
  },
  {
   "cell_type": "markdown",
   "metadata": {},
   "source": [
    "We can also use the `score` method of the `knn` object, which will compute the test set accuracy:"
   ]
  },
  {
   "cell_type": "code",
   "execution_count": 54,
   "metadata": {},
   "outputs": [
    {
     "name": "stdout",
     "output_type": "stream",
     "text": [
      "Test set score: 0.97\n"
     ]
    }
   ],
   "source": [
    "print('Test set score: {:.2f}'.format(knn.score(X_test, y_test)))"
   ]
  },
  {
   "cell_type": "markdown",
   "metadata": {},
   "source": [
    "For this model, the test set accuracy is about 0.97. Under some mathematical assumptions, this means that we can expect our model to be correct 97% of the time for new irises."
   ]
  }
 ],
 "metadata": {
  "kernelspec": {
   "display_name": "Python 3",
   "language": "python",
   "name": "python3"
  },
  "language_info": {
   "codemirror_mode": {
    "name": "ipython",
    "version": 3
   },
   "file_extension": ".py",
   "mimetype": "text/x-python",
   "name": "python",
   "nbconvert_exporter": "python",
   "pygments_lexer": "ipython3",
   "version": "3.6.3"
  }
 },
 "nbformat": 4,
 "nbformat_minor": 2
}
