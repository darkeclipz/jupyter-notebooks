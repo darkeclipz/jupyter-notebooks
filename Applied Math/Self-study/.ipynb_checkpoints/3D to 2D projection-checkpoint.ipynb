{
 "cells": [
  {
   "cell_type": "code",
   "execution_count": 1,
   "metadata": {},
   "outputs": [
    {
     "data": {
      "text/html": [
       "<link href=\"https://fonts.googleapis.com/css?family=Open+Sans\" rel=\"stylesheet\">\n",
       "<style>#notebook-container{font-size: 13pt;font-family:'Open Sans', sans-serif;} div.text_cell{max-width: 104ex;}</style>"
      ],
      "text/plain": [
       "<IPython.core.display.HTML object>"
      ]
     },
     "metadata": {},
     "output_type": "display_data"
    }
   ],
   "source": [
    "%%html \n",
    "<link href=\"https://fonts.googleapis.com/css?family=Open+Sans\" rel=\"stylesheet\">\n",
    "<style>#notebook-container{font-size: 13pt;font-family:'Open Sans', sans-serif;} div.text_cell{max-width: 104ex;}</style>"
   ]
  },
  {
   "cell_type": "code",
   "execution_count": 2,
   "metadata": {
    "scrolled": false
   },
   "outputs": [
    {
     "name": "stdout",
     "output_type": "stream",
     "text": [
      "Populating the interactive namespace from numpy and matplotlib\n"
     ]
    }
   ],
   "source": [
    "%pylab inline"
   ]
  },
  {
   "cell_type": "markdown",
   "metadata": {},
   "source": [
    "# 3D to 2D projection"
   ]
  },
  {
   "cell_type": "markdown",
   "metadata": {},
   "source": [
    "To generate a 3D scene with 2D to 3D projection the following is required:\n",
    "\n",
    "* A vector with 4 elements: $[x,y,z,w]$.\n",
    "* A mesh to hold all the vertices for an object.\n",
    "  * The position of the object.\n",
    "  * The rotation of the object.\n",
    "* Matrices\n",
    "  * World matrix ($M_{world}$)\n",
    "  * View matrix ($M_{view}$)\n",
    "  * Projection matrix ($M_{proj}$)\n",
    "* Rendering\n",
    "  * Rendering the meshes\n",
    "  * World view projection matrix ($M_{wvp}$)\n",
    "  * Drawing an image\n",
    "\n",
    "  \n",
    "**Sources:**\n",
    "\n",
    "* https://www.reddit.com/r/cpp/comments/3g1pvf/i_want_to_create_a_3d_engine_from_scratch_where/\n",
    "* https://www.davrous.com/2013/06/13/tutorial-series-learning-how-to-write-a-3d-soft-engine-from-scratch-in-c-typescript-or-javascript/\n",
    "* http://web.archive.org/web/20131222170415/http:/robertokoci.com/world-view-projection-matrix-unveiled/\n",
    "* http://www.opengl-tutorial.org/beginners-tutorials/tutorial-3-matrices/"
   ]
  },
  {
   "cell_type": "markdown",
   "metadata": {},
   "source": [
    "## Objects"
   ]
  },
  {
   "cell_type": "markdown",
   "metadata": {},
   "source": [
    "### Vectors"
   ]
  },
  {
   "cell_type": "markdown",
   "metadata": {},
   "source": [
    "This vector object will have the normal $x,y,z$ elements, and a hidden $w$ element to make the $4\\times 4$ matrix multiplication work."
   ]
  },
  {
   "cell_type": "code",
   "execution_count": 79,
   "metadata": {},
   "outputs": [],
   "source": [
    "class Vec3():\n",
    "    def __init__(self, x, y, z):\n",
    "        self.value = np.array([x,y,z,0])\n",
    "        \n",
    "    def Set(self, x, y, z):\n",
    "        self.value[0] = x\n",
    "        self.value[1] = y\n",
    "        self.value[2] = z\n",
    "        \n",
    "    def __repr__(self):\n",
    "        return '({}, {}, {})'.format(self.value[0], self.value[1], self.value[2])"
   ]
  },
  {
   "cell_type": "code",
   "execution_count": 75,
   "metadata": {},
   "outputs": [
    {
     "data": {
      "text/plain": [
       "(1, 1, 1)"
      ]
     },
     "execution_count": 75,
     "metadata": {},
     "output_type": "execute_result"
    }
   ],
   "source": [
    "v = Vec3(1,1,1)\n",
    "v"
   ]
  },
  {
   "cell_type": "code",
   "execution_count": 76,
   "metadata": {},
   "outputs": [
    {
     "data": {
      "text/plain": [
       "(2, 2, 2)"
      ]
     },
     "execution_count": 76,
     "metadata": {},
     "output_type": "execute_result"
    }
   ],
   "source": [
    "v.Set(2,2,2)\n",
    "v"
   ]
  },
  {
   "cell_type": "code",
   "execution_count": 78,
   "metadata": {},
   "outputs": [
    {
     "data": {
      "text/plain": [
       "array([2, 2, 2, 0])"
      ]
     },
     "execution_count": 78,
     "metadata": {},
     "output_type": "execute_result"
    }
   ],
   "source": [
    "v.value"
   ]
  },
  {
   "cell_type": "markdown",
   "metadata": {},
   "source": [
    "### Meshes"
   ]
  },
  {
   "cell_type": "markdown",
   "metadata": {},
   "source": [
    "A mesh will hold all the vertices for an object."
   ]
  },
  {
   "cell_type": "code",
   "execution_count": 134,
   "metadata": {},
   "outputs": [],
   "source": [
    "class Mesh():\n",
    "    def __init__(self, name):\n",
    "        self.name = name\n",
    "        self.vertices = []\n",
    "        self.position = Vec3(0,0,0)\n",
    "        self.rotation = Vec3(0,0,0)\n",
    "        \n",
    "    def __repr__(self):\n",
    "        return 'Name: {}\\r\\nPosition: {}\\r\\nRotation: {}\\r\\nVertices: {}'.format(self.name, self.position, self.rotation, len(self.vertices))"
   ]
  },
  {
   "cell_type": "markdown",
   "metadata": {},
   "source": [
    "#### Cube"
   ]
  },
  {
   "cell_type": "markdown",
   "metadata": {},
   "source": [
    "A cube consists of 8 vertices for each corner."
   ]
  },
  {
   "cell_type": "markdown",
   "metadata": {},
   "source": [
    "![cube](https://msdnshared.blob.core.windows.net/media/MSDNBlogsFS/prod.evol.blogs.msdn.com/CommunityServer.Blogs.Components.WeblogFiles/00/00/01/10/46/metablogapi/5140.image_thumb_2BF2AA73.png)"
   ]
  },
  {
   "cell_type": "code",
   "execution_count": 137,
   "metadata": {},
   "outputs": [],
   "source": [
    "cubeMesh = Mesh('cube_01')\n",
    "cubeMesh.vertices.append(Vec3(-1, 1, 1))\n",
    "cubeMesh.vertices.append(Vec3(1, 1, 1))\n",
    "cubeMesh.vertices.append(Vec3(-1, -1, 1))\n",
    "cubeMesh.vertices.append(Vec3(-1, -1, -1))\n",
    "cubeMesh.vertices.append(Vec3(-1, 1, -1))\n",
    "cubeMesh.vertices.append(Vec3(1, 1, -1))\n",
    "cubeMesh.vertices.append(Vec3(1, -1, 1))\n",
    "cubeMesh.vertices.append(Vec3(1, -1, -1))"
   ]
  },
  {
   "cell_type": "code",
   "execution_count": 138,
   "metadata": {},
   "outputs": [
    {
     "data": {
      "text/plain": [
       "Name: cube_01\n",
       "Position: (0, 0, 0)\n",
       "Rotation: (0, 0, 0)\n",
       "Vertices: 8"
      ]
     },
     "execution_count": 138,
     "metadata": {},
     "output_type": "execute_result"
    }
   ],
   "source": [
    "cubeMesh"
   ]
  },
  {
   "cell_type": "markdown",
   "metadata": {},
   "source": [
    "### Camera"
   ]
  },
  {
   "cell_type": "markdown",
   "metadata": {},
   "source": [
    "We need a camera object."
   ]
  },
  {
   "cell_type": "code",
   "execution_count": 52,
   "metadata": {},
   "outputs": [],
   "source": [
    "class Camera():\n",
    "    position = np.zeros([4,1])\n",
    "    target = np.zeros([4,1])\n",
    "    \n",
    "    def __repr__(self):\n",
    "        return 'Position: {}\\r\\nTarget:   {}'.format(self.position.T, self.target.T)"
   ]
  },
  {
   "cell_type": "code",
   "execution_count": 53,
   "metadata": {},
   "outputs": [
    {
     "data": {
      "text/plain": [
       "Position: [[ 0.  0.  0.  0.]]\n",
       "Target:   [[ 0.  0.  0.  0.]]"
      ]
     },
     "execution_count": 53,
     "metadata": {},
     "output_type": "execute_result"
    }
   ],
   "source": [
    "camera = Camera()\n",
    "camera"
   ]
  },
  {
   "cell_type": "markdown",
   "metadata": {},
   "source": [
    "## Matrices"
   ]
  },
  {
   "cell_type": "markdown",
   "metadata": {},
   "source": [
    "### World Matrix"
   ]
  },
  {
   "cell_type": "markdown",
   "metadata": {},
   "source": [
    "All the meshes are added to the world matrix $M_{world}$. We can use the world matrix to move all the meshes."
   ]
  },
  {
   "cell_type": "code",
   "execution_count": 31,
   "metadata": {},
   "outputs": [],
   "source": [
    "worldMatrix = np.identity(4)"
   ]
  },
  {
   "cell_type": "code",
   "execution_count": 32,
   "metadata": {},
   "outputs": [
    {
     "data": {
      "text/plain": [
       "array([[ 1.,  0.,  0.,  0.],\n",
       "       [ 0.,  1.,  0.,  0.],\n",
       "       [ 0.,  0.,  1.,  0.],\n",
       "       [ 0.,  0.,  0.,  1.]])"
      ]
     },
     "execution_count": 32,
     "metadata": {},
     "output_type": "execute_result"
    }
   ],
   "source": [
    "worldMatrix"
   ]
  },
  {
   "cell_type": "markdown",
   "metadata": {},
   "source": [
    "### View Matrix"
   ]
  },
  {
   "cell_type": "markdown",
   "metadata": {},
   "source": [
    "The view matrix $M_{view}$ transforms the entire world back to the local coordinate system."
   ]
  },
  {
   "cell_type": "code",
   "execution_count": 139,
   "metadata": {},
   "outputs": [],
   "source": [
    "viewMatrix = np.identity(4)"
   ]
  },
  {
   "cell_type": "code",
   "execution_count": 140,
   "metadata": {},
   "outputs": [
    {
     "data": {
      "text/plain": [
       "array([[ 1.,  0.,  0.,  0.],\n",
       "       [ 0.,  1.,  0.,  0.],\n",
       "       [ 0.,  0.,  1.,  0.],\n",
       "       [ 0.,  0.,  0.,  1.]])"
      ]
     },
     "execution_count": 140,
     "metadata": {},
     "output_type": "execute_result"
    }
   ],
   "source": [
    "viewMatrix"
   ]
  },
  {
   "cell_type": "markdown",
   "metadata": {},
   "source": [
    "### Projection Matrix"
   ]
  },
  {
   "cell_type": "markdown",
   "metadata": {},
   "source": [
    "The projection matrix $M_{proj}$ is based on near and far view distance, angle of view of the camera and your screen resolution proportion."
   ]
  },
  {
   "cell_type": "code",
   "execution_count": 141,
   "metadata": {},
   "outputs": [],
   "source": [
    "projMatrix = np.identity(4)"
   ]
  },
  {
   "cell_type": "code",
   "execution_count": 142,
   "metadata": {
    "scrolled": true
   },
   "outputs": [
    {
     "data": {
      "text/plain": [
       "array([[ 1.,  0.,  0.,  0.],\n",
       "       [ 0.,  1.,  0.,  0.],\n",
       "       [ 0.,  0.,  1.,  0.],\n",
       "       [ 0.,  0.,  0.,  1.]])"
      ]
     },
     "execution_count": 142,
     "metadata": {},
     "output_type": "execute_result"
    }
   ],
   "source": [
    "projMatrix"
   ]
  },
  {
   "cell_type": "markdown",
   "metadata": {},
   "source": [
    "## Rendering"
   ]
  },
  {
   "cell_type": "markdown",
   "metadata": {},
   "source": [
    "Here we loop through the meshes and create the world view matrix $M_{wvm}$ and apply the matrix transformations for all the vertices. Finally we draw them onto a 2D surface (image).\n",
    "\n",
    "$$ M_{wvm} = M_{world} \\cdot M_{view} \\cdot M_{proj} $$"
   ]
  },
  {
   "cell_type": "code",
   "execution_count": null,
   "metadata": {},
   "outputs": [],
   "source": []
  }
 ],
 "metadata": {
  "kernelspec": {
   "display_name": "Python 3",
   "language": "python",
   "name": "python3"
  },
  "language_info": {
   "codemirror_mode": {
    "name": "ipython",
    "version": 3
   },
   "file_extension": ".py",
   "mimetype": "text/x-python",
   "name": "python",
   "nbconvert_exporter": "python",
   "pygments_lexer": "ipython3",
   "version": "3.6.3"
  }
 },
 "nbformat": 4,
 "nbformat_minor": 2
}
