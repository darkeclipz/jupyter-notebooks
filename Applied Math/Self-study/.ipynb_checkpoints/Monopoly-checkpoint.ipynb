{
 "cells": [
  {
   "cell_type": "code",
   "execution_count": 1,
   "metadata": {},
   "outputs": [
    {
     "name": "stdout",
     "output_type": "stream",
     "text": [
      "Populating the interactive namespace from numpy and matplotlib\n"
     ]
    }
   ],
   "source": [
    "%pylab inline"
   ]
  },
  {
   "cell_type": "markdown",
   "metadata": {},
   "source": [
    "# Monopoly"
   ]
  },
  {
   "cell_type": "markdown",
   "metadata": {},
   "source": [
    "Analysis for the probabilities with Monopoly to answer the question: which are the best houses to buy?\n",
    "\n",
    "To answer this question we will create a simulated version of Monopoly and determine the probabilities to land on each square. The square with the highest probability will be the best square to have."
   ]
  },
  {
   "cell_type": "markdown",
   "metadata": {},
   "source": [
    "![monopoly](monopoly_1.jpg)"
   ]
  },
  {
   "cell_type": "markdown",
   "metadata": {},
   "source": [
    "## Squares"
   ]
  },
  {
   "cell_type": "markdown",
   "metadata": {},
   "source": [
    "Each edge has 9 positions and there are 4 edges. There are 4 corners. Which gives a total of 40 positions where a player can land. The labels are numbered starting at GO."
   ]
  },
  {
   "cell_type": "markdown",
   "metadata": {},
   "source": [
    "### Labels"
   ]
  },
  {
   "cell_type": "code",
   "execution_count": 2,
   "metadata": {
    "scrolled": true
   },
   "outputs": [
    {
     "name": "stdout",
     "output_type": "stream",
     "text": [
      "There are 40 squares.\n"
     ]
    }
   ],
   "source": [
    "squares_labels = ['start', 'b1', 'cc1', 'b2', 'it', 't1', \n",
    "                  'lb1', 'c1', 'lb2', 'lb3', 'jail', 'p1', \n",
    "                  'ec', 'p2', 'p3', 'ts2', 'o1', 'cc2', \n",
    "                  'o2', 'o3', 'p', 'r1', 'c2', 'r2', 'r3', \n",
    "                  'ts3', 'y1', 'y2', 'ww', 'y3', 'gtj', \n",
    "                  'g1', 'g2', 'cc3', 'g3', 'ts4', 'c3', \n",
    "                  'db1', 'st', 'db2']\n",
    "\n",
    "squares_total = len(squares_labels)\n",
    "print('There are {} squares.'.format(squares_total))"
   ]
  },
  {
   "cell_type": "markdown",
   "metadata": {},
   "source": [
    "### Descriptions"
   ]
  },
  {
   "cell_type": "markdown",
   "metadata": {},
   "source": [
    "We also want to know the proper names, so we don't have to look up the labels."
   ]
  },
  {
   "cell_type": "code",
   "execution_count": 3,
   "metadata": {},
   "outputs": [],
   "source": [
    "squares_description = ['Start', 'Brown 1', 'Community Chest 1', 'Brown 2', \n",
    "                       'Income Tax', 'Train Station 1', 'Light Blue 1', \n",
    "                       'Chance 1', 'Light Blue 2', 'Light Blue 3', 'Jail', \n",
    "                       'Purple 1', 'Electric Company', 'Purple 2', \n",
    "                       'Purple 3', 'Train Station 2', 'Orange 1', \n",
    "                       'Community Chest 2', 'Orange 2', 'Orange 3', \n",
    "                       'Free Parking', 'Red 1', 'Chance 2', 'Red 2', \n",
    "                       'Red 3', 'Train Station 3', 'Yellow 1', 'Yellow 2', \n",
    "                       'Water Works', 'Yellow 3', 'Go to Jail', 'Green 1', \n",
    "                       'Green 2', 'Community Chest 3', 'Green 3', \n",
    "                       'Train Station 4', 'Chance 3', 'Dark Blue 1', \n",
    "                       'Super Tax', 'Dark Blue 2']"
   ]
  },
  {
   "cell_type": "code",
   "execution_count": 4,
   "metadata": {
    "scrolled": true
   },
   "outputs": [
    {
     "name": "stdout",
     "output_type": "stream",
     "text": [
      "There are 40 descriptions.\n"
     ]
    }
   ],
   "source": [
    "print('There are {} descriptions.'.format(len(squares_description)))"
   ]
  },
  {
   "cell_type": "markdown",
   "metadata": {},
   "source": [
    "### Purchasable"
   ]
  },
  {
   "cell_type": "markdown",
   "metadata": {},
   "source": [
    "We want to know if they are purchasable so we can sort on that later."
   ]
  },
  {
   "cell_type": "code",
   "execution_count": 5,
   "metadata": {},
   "outputs": [],
   "source": [
    "squares_purchasable = [False, True, False, True, False, \n",
    "                       True, True, False, True, True, \n",
    "                       False, True, True, True, True, \n",
    "                       True, True, False, True, True, \n",
    "                       False, True, False, True, True, \n",
    "                       True, True, True, True, True, \n",
    "                       False, True, True, False, True, \n",
    "                       True, False, True, False, True]"
   ]
  },
  {
   "cell_type": "markdown",
   "metadata": {},
   "source": [
    "### Grouping"
   ]
  },
  {
   "cell_type": "markdown",
   "metadata": {},
   "source": [
    "We want to know in what group they are so we can aggregate our data later."
   ]
  },
  {
   "cell_type": "code",
   "execution_count": 6,
   "metadata": {},
   "outputs": [],
   "source": [
    "squares_aggregate = ['Start', 'Brown', 'Community Chest', 'Brown', \n",
    "                     'Income Tax', 'Train Station', 'Light Blue', \n",
    "                     'Chance', 'Light Blue', 'Light Blue', 'Jail', \n",
    "                     'Purple', 'Electric Company', 'Purple', 'Purple', \n",
    "                     'Train Station', 'Orange', 'Community Chest', \n",
    "                     'Orange', 'Orange', 'Free Parking', 'Red', \n",
    "                     'Chance', 'Red', 'Red', 'Train Station', 'Yellow', \n",
    "                     'Yellow', 'Water Works', 'Yellow', 'Go to Jail', \n",
    "                     'Green', 'Green', 'Community Chest', 'Green', \n",
    "                     'Train Station', 'Chance', 'Dark Blue', \n",
    "                     'Super Tax', 'Dark Blue']"
   ]
  },
  {
   "cell_type": "markdown",
   "metadata": {},
   "source": [
    "## Cards"
   ]
  },
  {
   "cell_type": "markdown",
   "metadata": {},
   "source": [
    "There are two decks of cards.\n",
    "\n",
    "* Community Cards\n",
    "* Chance Cards\n",
    "\n",
    "Each deck contains 16 cards."
   ]
  },
  {
   "cell_type": "markdown",
   "metadata": {},
   "source": [
    "### Community Cards"
   ]
  },
  {
   "cell_type": "markdown",
   "metadata": {},
   "source": [
    "Monopoly has $16$ community cards."
   ]
  },
  {
   "cell_type": "markdown",
   "metadata": {},
   "source": [
    "![cc](monopoly_2.jpg)"
   ]
  },
  {
   "cell_type": "markdown",
   "metadata": {},
   "source": [
    "Because we are only determining the probabilities, we are only interested in the following cards:\n",
    "\n",
    "* advance to go\n",
    "* go to jail\n",
    "* get out of jail, free\n",
    "* go back 2 spaces"
   ]
  },
  {
   "cell_type": "markdown",
   "metadata": {},
   "source": [
    "### Community deck implementation"
   ]
  },
  {
   "cell_type": "markdown",
   "metadata": {},
   "source": [
    "We implement the community deck in a class. The class keeps track of a list with $16$ cards. An index points to the next card. When we are out of cards, we reset the index and reshuffle the cards."
   ]
  },
  {
   "cell_type": "code",
   "execution_count": 28,
   "metadata": {},
   "outputs": [],
   "source": [
    "from random import shuffle\n",
    "\n",
    "class CommunityDeck():\n",
    "    def __init__(self):\n",
    "        self.deck = [0] * 16\n",
    "        self.deck[0] = 'gtg' # go to go\n",
    "        self.deck[1] = 'gtj' # go to jail\n",
    "        self.deck[2] = 'goj' # get out of jail \n",
    "        self.deck[3] = 'gb2' # go back 2 steps\n",
    "        self.index = 16\n",
    "    \n",
    "    def draw_card(self):\n",
    "        if self.index >= len(self.deck):\n",
    "            self.index = 0\n",
    "            shuffle(self.deck)\n",
    "        card = self.deck[self.index]\n",
    "        self.index += 1\n",
    "        return card"
   ]
  },
  {
   "cell_type": "markdown",
   "metadata": {},
   "source": [
    "Now we test it:"
   ]
  },
  {
   "cell_type": "code",
   "execution_count": 34,
   "metadata": {},
   "outputs": [
    {
     "data": {
      "text/plain": [
       "['gtg', 'gtj', 'goj', 'gb2', 0, 0, 0, 0, 0, 0, 0, 0, 0, 0, 0, 0]"
      ]
     },
     "execution_count": 34,
     "metadata": {},
     "output_type": "execute_result"
    }
   ],
   "source": [
    "deck = CommunityDeck()\n",
    "deck.deck"
   ]
  },
  {
   "cell_type": "code",
   "execution_count": 35,
   "metadata": {},
   "outputs": [
    {
     "data": {
      "text/plain": [
       "0"
      ]
     },
     "execution_count": 35,
     "metadata": {},
     "output_type": "execute_result"
    }
   ],
   "source": [
    "deck.draw_card()"
   ]
  },
  {
   "cell_type": "code",
   "execution_count": 36,
   "metadata": {},
   "outputs": [
    {
     "data": {
      "text/plain": [
       "[0, 0, 0, 0, 'gb2', 0, 0, 'gtg', 0, 'gtj', 0, 'goj', 0, 0, 0, 0]"
      ]
     },
     "execution_count": 36,
     "metadata": {},
     "output_type": "execute_result"
    }
   ],
   "source": [
    "deck.deck"
   ]
  },
  {
   "cell_type": "code",
   "execution_count": 37,
   "metadata": {},
   "outputs": [
    {
     "data": {
      "text/plain": [
       "1"
      ]
     },
     "execution_count": 37,
     "metadata": {},
     "output_type": "execute_result"
    }
   ],
   "source": [
    "deck.index"
   ]
  },
  {
   "cell_type": "markdown",
   "metadata": {},
   "source": [
    "### Chance Cards"
   ]
  },
  {
   "cell_type": "markdown",
   "metadata": {},
   "source": [
    "Monopoly has $16$ chance cards."
   ]
  },
  {
   "cell_type": "markdown",
   "metadata": {},
   "source": [
    "![chance](monopoly_3.jpg)"
   ]
  },
  {
   "cell_type": "markdown",
   "metadata": {},
   "source": [
    "Because we are only determining the probabilities, we are only interested in the following cards:\n",
    "\n",
    "* go back three spaces\n",
    "* get out of jail free\n",
    "* advance to go\n",
    "* advance to illinois avenue (R3)\n",
    "* go to jail"
   ]
  },
  {
   "cell_type": "markdown",
   "metadata": {},
   "source": [
    "### Chance deck implementation"
   ]
  },
  {
   "cell_type": "markdown",
   "metadata": {},
   "source": [
    "We implement the chance deck in a class. The class keeps track of a list with $16$ cards. An index points to the next card. When we are out of cards, we reset the index and reshuffle the cards."
   ]
  },
  {
   "cell_type": "code",
   "execution_count": 8,
   "metadata": {},
   "outputs": [],
   "source": [
    "from random import shuffle\n",
    "\n",
    "class ChanceDeck():\n",
    "    def __init__(self):\n",
    "        self.deck = [0] * 16\n",
    "        self.deck[0] = 'gtg' # go to go\n",
    "        self.deck[1] = 'gtj' # go to jail\n",
    "        self.deck[2] = 'goj' # get out of jail\n",
    "        self.deck[3] = 'gb3' # go back 3\n",
    "        self.deck[4] = 'r3'  # go to red 3 (r3)\n",
    "        self.index = 16\n",
    "    \n",
    "    def draw_card(self):\n",
    "        if self.index >= len(self.deck):\n",
    "            self.index = 0\n",
    "            shuffle(self.deck)\n",
    "        card = self.deck[self.index]\n",
    "        self.index += 1\n",
    "        return card"
   ]
  },
  {
   "cell_type": "markdown",
   "metadata": {},
   "source": [
    "Now we test it:"
   ]
  },
  {
   "cell_type": "code",
   "execution_count": 30,
   "metadata": {},
   "outputs": [
    {
     "data": {
      "text/plain": [
       "['gtg', 'gtj', 'goj', 'gb3', 'r3', 0, 0, 0, 0, 0, 0, 0, 0, 0, 0, 0]"
      ]
     },
     "execution_count": 30,
     "metadata": {},
     "output_type": "execute_result"
    }
   ],
   "source": [
    "deck = ChanceDeck()\n",
    "deck.deck"
   ]
  },
  {
   "cell_type": "code",
   "execution_count": 31,
   "metadata": {},
   "outputs": [
    {
     "data": {
      "text/plain": [
       "0"
      ]
     },
     "execution_count": 31,
     "metadata": {},
     "output_type": "execute_result"
    }
   ],
   "source": [
    "deck.draw_card()"
   ]
  },
  {
   "cell_type": "code",
   "execution_count": 32,
   "metadata": {},
   "outputs": [
    {
     "data": {
      "text/plain": [
       "[0, 'gtj', 0, 'gb3', 0, 0, 0, 0, 0, 0, 'goj', 0, 0, 'gtg', 0, 'r3']"
      ]
     },
     "execution_count": 32,
     "metadata": {},
     "output_type": "execute_result"
    }
   ],
   "source": [
    "deck.deck"
   ]
  },
  {
   "cell_type": "code",
   "execution_count": 33,
   "metadata": {},
   "outputs": [
    {
     "data": {
      "text/plain": [
       "1"
      ]
     },
     "execution_count": 33,
     "metadata": {},
     "output_type": "execute_result"
    }
   ],
   "source": [
    "deck.index"
   ]
  },
  {
   "cell_type": "markdown",
   "metadata": {},
   "source": [
    "## Dice"
   ]
  },
  {
   "cell_type": "markdown",
   "metadata": {},
   "source": [
    "We will be implementing the dice as a class. This allows us to encapsulate how the result is determined. It makes it easier to implements other scenarios such as throwing with multiple dices."
   ]
  },
  {
   "cell_type": "code",
   "execution_count": 9,
   "metadata": {},
   "outputs": [],
   "source": [
    "from random import randint\n",
    "\n",
    "class Dice():\n",
    "    def __init__(self, dices = 1, sides = 6):\n",
    "        self.dices = dices\n",
    "        self.sides = 6\n",
    "    \n",
    "    def throw(self):\n",
    "        total = 0 \n",
    "        for i in range(self.dices):\n",
    "            total += randint(1, self.sides)\n",
    "        return total"
   ]
  },
  {
   "cell_type": "markdown",
   "metadata": {},
   "source": [
    "Rolling one time:"
   ]
  },
  {
   "cell_type": "code",
   "execution_count": 39,
   "metadata": {},
   "outputs": [
    {
     "data": {
      "text/plain": [
       "5"
      ]
     },
     "execution_count": 39,
     "metadata": {},
     "output_type": "execute_result"
    }
   ],
   "source": [
    "dice = Dice()\n",
    "dice.throw()"
   ]
  },
  {
   "cell_type": "markdown",
   "metadata": {},
   "source": [
    "### Simple: one dice with six sides"
   ]
  },
  {
   "cell_type": "markdown",
   "metadata": {},
   "source": [
    "A simple setup would be one dice with six sides. This will give uniformly distributed probabilities."
   ]
  },
  {
   "cell_type": "code",
   "execution_count": 10,
   "metadata": {},
   "outputs": [
    {
     "data": {
      "image/png": "[encoded data removed]",
      "text/plain": [
       "<matplotlib.figure.Figure at 0x18a1fd7f0b8>"
      ]
     },
     "metadata": {},
     "output_type": "display_data"
    }
   ],
   "source": [
    "dice = Dice()\n",
    "sides = [0] * dice.dices * dice.sides\n",
    "N = 10000\n",
    "for i in range(N): sides[dice.throw()-1] += 1\n",
    "sides = np.array(sides) / N\n",
    "bar(range(1,len(sides)+1), sides);"
   ]
  },
  {
   "cell_type": "markdown",
   "metadata": {},
   "source": [
    "### Advanced: two dice with four sides"
   ]
  },
  {
   "cell_type": "markdown",
   "metadata": {},
   "source": [
    "A more advanced set up would be to play with two dices and four sides. This will give normally distributed probabilities."
   ]
  },
  {
   "cell_type": "code",
   "execution_count": 11,
   "metadata": {},
   "outputs": [
    {
     "data": {
      "image/png": "[encoded data removed]",
      "text/plain": [
       "<matplotlib.figure.Figure at 0x18a21e05780>"
      ]
     },
     "metadata": {},
     "output_type": "display_data"
    }
   ],
   "source": [
    "dice = Dice(2,4)\n",
    "sides = [0] * dice.dices * dice.sides\n",
    "N = 10000\n",
    "for i in range(N): sides[dice.throw()-1] += 1\n",
    "sides = np.array(sides) / N\n",
    "bar(range(1,len(sides)+1), sides);"
   ]
  },
  {
   "cell_type": "markdown",
   "metadata": {},
   "source": [
    "## Monopoly simulation"
   ]
  },
  {
   "cell_type": "markdown",
   "metadata": {},
   "source": [
    "### Algorithm"
   ]
  },
  {
   "cell_type": "markdown",
   "metadata": {},
   "source": [
    "Here we are going to simulate a game for $N$ amount of rounds. The game algorithm is simple:\n",
    "\n",
    "1. Roll the dice\n",
    "2. Move to the new position\n",
    "3. Increment the square counter for that position\n",
    "4. Check and handle go to jail\n",
    "5. Check and handle community chest\n",
    "6. Check and handle chance"
   ]
  },
  {
   "cell_type": "markdown",
   "metadata": {},
   "source": [
    "### Modulo arithmetic for position tracking"
   ]
  },
  {
   "cell_type": "markdown",
   "metadata": {},
   "source": [
    "We can easily keep track of our position with modulo arithemetic. Let $C$ be our position (or `index`), $d$ the result from throwing the dice, and $n$ the current round. To determine our new position we calculate:\n",
    "\n",
    "$$ C_{n+1} \\equiv C_n+d \\pmod{40}$$"
   ]
  },
  {
   "cell_type": "markdown",
   "metadata": {},
   "source": [
    "The modulo is $40$ because that are the total amount of squares."
   ]
  },
  {
   "cell_type": "markdown",
   "metadata": {},
   "source": [
    "### Implementation"
   ]
  },
  {
   "cell_type": "markdown",
   "metadata": {},
   "source": [
    "Below is the implementation for the Monopoly simulation."
   ]
  },
  {
   "cell_type": "code",
   "execution_count": 12,
   "metadata": {},
   "outputs": [],
   "source": [
    "dice = Dice()\n",
    "community_deck = CommunityDeck()\n",
    "chance_deck = ChanceDeck()\n",
    "\n",
    "index = 0 # position\n",
    "total_squares = len(squares_labels)\n",
    "squares = [0] * total_squares\n",
    "\n",
    "rounds = 1000000\n",
    "\n",
    "for i in range(rounds):\n",
    "    \n",
    "    # Throw the dice and move our position on the board.\n",
    "    steps = dice.throw()\n",
    "    index = (index + steps) % total_squares\n",
    "    squares[index] += 1\n",
    "    \n",
    "    # We landed on go to jail.\n",
    "    if squares_labels[index] is 'gtj': \n",
    "        index = squares_labels.index('jail')\n",
    "    \n",
    "    # We landed on the community card.\n",
    "    if squares_labels[index] in ['cc1', 'cc2', 'cc3']:\n",
    "        card = community_deck.draw_card()\n",
    "        if card is 'gtg': index = squares_labels.index('start')\n",
    "        if card is 'gtj': index = squares_labels.index('jail')\n",
    "        if card is 'gb2': \n",
    "            if index >= 2: index -= 2\n",
    "            if index < 2: index = total_squares-abs(index-2)-1\n",
    "    \n",
    "    # We landed on the chance card.\n",
    "    if squares_labels[index] in ['c1', 'c2', 'c3']:\n",
    "        card = chance_deck.draw_card()\n",
    "        if card is 'gtg': index = squares_labels.index('start')\n",
    "        if card is 'gtj': index = squares_labels.index('jail')\n",
    "        if card is 'r3': index = squares_labels.index('r3')\n",
    "        if card is 'gb3':\n",
    "            if index >= 2: index -= 2\n",
    "            if index < 2: index = total_squares-abs(index-3)-1"
   ]
  },
  {
   "cell_type": "markdown",
   "metadata": {},
   "source": [
    "It takes around $2.7$ seconds to run a game when $N=1,000,000$."
   ]
  },
  {
   "cell_type": "markdown",
   "metadata": {},
   "source": [
    "## Detailed probability analysis"
   ]
  },
  {
   "cell_type": "markdown",
   "metadata": {},
   "source": [
    "Now we can proceed to analyze our results."
   ]
  },
  {
   "cell_type": "markdown",
   "metadata": {},
   "source": [
    "### Determining probabilities"
   ]
  },
  {
   "cell_type": "markdown",
   "metadata": {},
   "source": [
    "With the number of times that each square is visited we can calculate the probabilities. The probability that a square is visited is:\n",
    "\n",
    "$$ P(\\bar{x}=x) = \\dfrac{\\text{Times visited}}{\\text{# of rounds}} $$"
   ]
  },
  {
   "cell_type": "markdown",
   "metadata": {},
   "source": [
    "We also want to create a `DataFrame` in Python to easily keep track of everything."
   ]
  },
  {
   "cell_type": "code",
   "execution_count": 13,
   "metadata": {
    "scrolled": false
   },
   "outputs": [],
   "source": [
    "import pandas as pd\n",
    "df = pd.DataFrame(index=range(total_squares))\n",
    "df['Square'] = squares_labels\n",
    "df['Description'] = squares_description\n",
    "df['Purchasable'] = squares_purchasable\n",
    "df['Visited'] = squares\n",
    "df['Probability'] = df['Visited'] / rounds\n",
    "df['Aggregate'] = squares_aggregate"
   ]
  },
  {
   "cell_type": "markdown",
   "metadata": {},
   "source": [
    "We can calculate a quick summary about the data:"
   ]
  },
  {
   "cell_type": "code",
   "execution_count": 14,
   "metadata": {},
   "outputs": [
    {
     "name": "stdout",
     "output_type": "stream",
     "text": [
      "Total rounds: 1000000\n",
      "Visited avg:  25000.0\n",
      "Visited min:  18140\n",
      "Visited max:  33538\n",
      "Visited std:  4644.91\n"
     ]
    }
   ],
   "source": [
    "print('Total rounds: {}'.format(rounds))\n",
    "print('Visited avg:  {}'.format(df['Visited'].mean()))\n",
    "print('Visited min:  {}'.format(df['Visited'].min()))\n",
    "print('Visited max:  {}'.format(df['Visited'].max()))\n",
    "print('Visited std:  {:.2f}'.format(df['Visited'].std()))"
   ]
  },
  {
   "cell_type": "markdown",
   "metadata": {},
   "source": [
    "### Plot of probabilities by square"
   ]
  },
  {
   "cell_type": "markdown",
   "metadata": {},
   "source": [
    "If we sort these values descending on the probability, we can easily see which squares have the highest probability to be visited."
   ]
  },
  {
   "cell_type": "code",
   "execution_count": 45,
   "metadata": {},
   "outputs": [
    {
     "data": {
      "image/png": "[encoded data removed]",
      "text/plain": [
       "<matplotlib.figure.Figure at 0x18a1fd6de10>"
      ]
     },
     "metadata": {},
     "output_type": "display_data"
    }
   ],
   "source": [
    "plt.rc('xtick', labelsize=16) \n",
    "plt.rc('ytick', labelsize=14) \n",
    "df[['Description', 'Probability']].sort_values(by='Probability', ascending=False)\\\n",
    "    .plot(kind='bar', figsize=(20,5))\n",
    "plt.xticks(range(total_squares), df[['Description', 'Probability']]\n",
    "    .sort_values(by='Probability', ascending=False)['Description'])\n",
    "plt.ylabel('Probability')\n",
    "plt.title('Probability by label');"
   ]
  },
  {
   "cell_type": "markdown",
   "metadata": {},
   "source": [
    "Here we can conclude that `Orange 1` is the most visited square. Also notice that `Orange 2` and `Orange 3` are pretty high. It seems that `Orange` is the best street to have.\n",
    "\n",
    "### Table of probabilities by square\n",
    "\n",
    "Below is the full table with all the squares and their corresponding values."
   ]
  },
  {
   "cell_type": "code",
   "execution_count": 25,
   "metadata": {},
   "outputs": [
    {
     "data": {
      "text/html": [
       "<div>\n",
       "<style scoped>\n",
       "    .dataframe tbody tr th:only-of-type {\n",
       "        vertical-align: middle;\n",
       "    }\n",
       "\n",
       "    .dataframe tbody tr th {\n",
       "        vertical-align: top;\n",
       "    }\n",
       "\n",
       "    .dataframe thead th {\n",
       "        text-align: right;\n",
       "    }\n",
       "</style>\n",
       "<table border=\"1\" class=\"dataframe\">\n",
       "  <thead>\n",
       "    <tr style=\"text-align: right;\">\n",
       "      <th></th>\n",
       "      <th>Square</th>\n",
       "      <th>Description</th>\n",
       "      <th>Purchasable</th>\n",
       "      <th>Visited</th>\n",
       "      <th>Probability</th>\n",
       "    </tr>\n",
       "  </thead>\n",
       "  <tbody>\n",
       "    <tr>\n",
       "      <th>16</th>\n",
       "      <td>o1</td>\n",
       "      <td>Orange 1</td>\n",
       "      <td>True</td>\n",
       "      <td>33538</td>\n",
       "      <td>0.033538</td>\n",
       "    </tr>\n",
       "    <tr>\n",
       "      <th>15</th>\n",
       "      <td>ts2</td>\n",
       "      <td>Train Station 2</td>\n",
       "      <td>True</td>\n",
       "      <td>31676</td>\n",
       "      <td>0.031676</td>\n",
       "    </tr>\n",
       "    <tr>\n",
       "      <th>21</th>\n",
       "      <td>r1</td>\n",
       "      <td>Red 1</td>\n",
       "      <td>True</td>\n",
       "      <td>30453</td>\n",
       "      <td>0.030453</td>\n",
       "    </tr>\n",
       "    <tr>\n",
       "      <th>20</th>\n",
       "      <td>p</td>\n",
       "      <td>Free Parking</td>\n",
       "      <td>False</td>\n",
       "      <td>30063</td>\n",
       "      <td>0.030063</td>\n",
       "    </tr>\n",
       "    <tr>\n",
       "      <th>14</th>\n",
       "      <td>p3</td>\n",
       "      <td>Purple 3</td>\n",
       "      <td>True</td>\n",
       "      <td>30037</td>\n",
       "      <td>0.030037</td>\n",
       "    </tr>\n",
       "    <tr>\n",
       "      <th>22</th>\n",
       "      <td>c2</td>\n",
       "      <td>Chance 2</td>\n",
       "      <td>False</td>\n",
       "      <td>29980</td>\n",
       "      <td>0.029980</td>\n",
       "    </tr>\n",
       "    <tr>\n",
       "      <th>19</th>\n",
       "      <td>o3</td>\n",
       "      <td>Orange 3</td>\n",
       "      <td>True</td>\n",
       "      <td>29722</td>\n",
       "      <td>0.029722</td>\n",
       "    </tr>\n",
       "    <tr>\n",
       "      <th>17</th>\n",
       "      <td>cc2</td>\n",
       "      <td>Community Chest 2</td>\n",
       "      <td>False</td>\n",
       "      <td>29637</td>\n",
       "      <td>0.029637</td>\n",
       "    </tr>\n",
       "    <tr>\n",
       "      <th>30</th>\n",
       "      <td>gtj</td>\n",
       "      <td>Go to Jail</td>\n",
       "      <td>False</td>\n",
       "      <td>29563</td>\n",
       "      <td>0.029563</td>\n",
       "    </tr>\n",
       "    <tr>\n",
       "      <th>29</th>\n",
       "      <td>y3</td>\n",
       "      <td>Yellow 3</td>\n",
       "      <td>True</td>\n",
       "      <td>29470</td>\n",
       "      <td>0.029470</td>\n",
       "    </tr>\n",
       "    <tr>\n",
       "      <th>18</th>\n",
       "      <td>o2</td>\n",
       "      <td>Orange 2</td>\n",
       "      <td>True</td>\n",
       "      <td>29360</td>\n",
       "      <td>0.029360</td>\n",
       "    </tr>\n",
       "    <tr>\n",
       "      <th>25</th>\n",
       "      <td>ts3</td>\n",
       "      <td>Train Station 3</td>\n",
       "      <td>True</td>\n",
       "      <td>29204</td>\n",
       "      <td>0.029204</td>\n",
       "    </tr>\n",
       "    <tr>\n",
       "      <th>26</th>\n",
       "      <td>y1</td>\n",
       "      <td>Yellow 1</td>\n",
       "      <td>True</td>\n",
       "      <td>29178</td>\n",
       "      <td>0.029178</td>\n",
       "    </tr>\n",
       "    <tr>\n",
       "      <th>27</th>\n",
       "      <td>y2</td>\n",
       "      <td>Yellow 2</td>\n",
       "      <td>True</td>\n",
       "      <td>28880</td>\n",
       "      <td>0.028880</td>\n",
       "    </tr>\n",
       "    <tr>\n",
       "      <th>24</th>\n",
       "      <td>r3</td>\n",
       "      <td>Red 3</td>\n",
       "      <td>True</td>\n",
       "      <td>28651</td>\n",
       "      <td>0.028651</td>\n",
       "    </tr>\n",
       "    <tr>\n",
       "      <th>28</th>\n",
       "      <td>ww</td>\n",
       "      <td>Water Works</td>\n",
       "      <td>True</td>\n",
       "      <td>28474</td>\n",
       "      <td>0.028474</td>\n",
       "    </tr>\n",
       "    <tr>\n",
       "      <th>23</th>\n",
       "      <td>r2</td>\n",
       "      <td>Red 2</td>\n",
       "      <td>True</td>\n",
       "      <td>28010</td>\n",
       "      <td>0.028010</td>\n",
       "    </tr>\n",
       "    <tr>\n",
       "      <th>13</th>\n",
       "      <td>p2</td>\n",
       "      <td>Purple 2</td>\n",
       "      <td>True</td>\n",
       "      <td>27773</td>\n",
       "      <td>0.027773</td>\n",
       "    </tr>\n",
       "    <tr>\n",
       "      <th>12</th>\n",
       "      <td>ec</td>\n",
       "      <td>Electric Company</td>\n",
       "      <td>True</td>\n",
       "      <td>26916</td>\n",
       "      <td>0.026916</td>\n",
       "    </tr>\n",
       "    <tr>\n",
       "      <th>11</th>\n",
       "      <td>p1</td>\n",
       "      <td>Purple 1</td>\n",
       "      <td>True</td>\n",
       "      <td>26309</td>\n",
       "      <td>0.026309</td>\n",
       "    </tr>\n",
       "    <tr>\n",
       "      <th>31</th>\n",
       "      <td>g1</td>\n",
       "      <td>Green 1</td>\n",
       "      <td>True</td>\n",
       "      <td>24060</td>\n",
       "      <td>0.024060</td>\n",
       "    </tr>\n",
       "    <tr>\n",
       "      <th>32</th>\n",
       "      <td>g2</td>\n",
       "      <td>Green 2</td>\n",
       "      <td>True</td>\n",
       "      <td>23654</td>\n",
       "      <td>0.023654</td>\n",
       "    </tr>\n",
       "    <tr>\n",
       "      <th>33</th>\n",
       "      <td>cc3</td>\n",
       "      <td>Community Chest 3</td>\n",
       "      <td>False</td>\n",
       "      <td>22656</td>\n",
       "      <td>0.022656</td>\n",
       "    </tr>\n",
       "    <tr>\n",
       "      <th>6</th>\n",
       "      <td>lb1</td>\n",
       "      <td>Light Blue 1</td>\n",
       "      <td>True</td>\n",
       "      <td>21486</td>\n",
       "      <td>0.021486</td>\n",
       "    </tr>\n",
       "    <tr>\n",
       "      <th>4</th>\n",
       "      <td>it</td>\n",
       "      <td>Income Tax</td>\n",
       "      <td>False</td>\n",
       "      <td>20836</td>\n",
       "      <td>0.020836</td>\n",
       "    </tr>\n",
       "    <tr>\n",
       "      <th>5</th>\n",
       "      <td>t1</td>\n",
       "      <td>Train Station 1</td>\n",
       "      <td>True</td>\n",
       "      <td>20824</td>\n",
       "      <td>0.020824</td>\n",
       "    </tr>\n",
       "    <tr>\n",
       "      <th>3</th>\n",
       "      <td>b2</td>\n",
       "      <td>Brown 2</td>\n",
       "      <td>True</td>\n",
       "      <td>20812</td>\n",
       "      <td>0.020812</td>\n",
       "    </tr>\n",
       "    <tr>\n",
       "      <th>34</th>\n",
       "      <td>g3</td>\n",
       "      <td>Green 3</td>\n",
       "      <td>True</td>\n",
       "      <td>20763</td>\n",
       "      <td>0.020763</td>\n",
       "    </tr>\n",
       "    <tr>\n",
       "      <th>1</th>\n",
       "      <td>b1</td>\n",
       "      <td>Brown 1</td>\n",
       "      <td>True</td>\n",
       "      <td>20650</td>\n",
       "      <td>0.020650</td>\n",
       "    </tr>\n",
       "    <tr>\n",
       "      <th>7</th>\n",
       "      <td>c1</td>\n",
       "      <td>Chance 1</td>\n",
       "      <td>False</td>\n",
       "      <td>20565</td>\n",
       "      <td>0.020565</td>\n",
       "    </tr>\n",
       "    <tr>\n",
       "      <th>2</th>\n",
       "      <td>cc1</td>\n",
       "      <td>Community Chest 1</td>\n",
       "      <td>False</td>\n",
       "      <td>20450</td>\n",
       "      <td>0.020450</td>\n",
       "    </tr>\n",
       "    <tr>\n",
       "      <th>37</th>\n",
       "      <td>db1</td>\n",
       "      <td>Dark Blue 1</td>\n",
       "      <td>True</td>\n",
       "      <td>20430</td>\n",
       "      <td>0.020430</td>\n",
       "    </tr>\n",
       "    <tr>\n",
       "      <th>9</th>\n",
       "      <td>lb3</td>\n",
       "      <td>Light Blue 3</td>\n",
       "      <td>True</td>\n",
       "      <td>20238</td>\n",
       "      <td>0.020238</td>\n",
       "    </tr>\n",
       "    <tr>\n",
       "      <th>38</th>\n",
       "      <td>st</td>\n",
       "      <td>Super Tax</td>\n",
       "      <td>False</td>\n",
       "      <td>20028</td>\n",
       "      <td>0.020028</td>\n",
       "    </tr>\n",
       "    <tr>\n",
       "      <th>10</th>\n",
       "      <td>jail</td>\n",
       "      <td>Jail</td>\n",
       "      <td>False</td>\n",
       "      <td>19892</td>\n",
       "      <td>0.019892</td>\n",
       "    </tr>\n",
       "    <tr>\n",
       "      <th>8</th>\n",
       "      <td>lb2</td>\n",
       "      <td>Light Blue 2</td>\n",
       "      <td>True</td>\n",
       "      <td>19715</td>\n",
       "      <td>0.019715</td>\n",
       "    </tr>\n",
       "    <tr>\n",
       "      <th>35</th>\n",
       "      <td>ts4</td>\n",
       "      <td>Train Station 4</td>\n",
       "      <td>True</td>\n",
       "      <td>19699</td>\n",
       "      <td>0.019699</td>\n",
       "    </tr>\n",
       "    <tr>\n",
       "      <th>39</th>\n",
       "      <td>db2</td>\n",
       "      <td>Dark Blue 2</td>\n",
       "      <td>True</td>\n",
       "      <td>19163</td>\n",
       "      <td>0.019163</td>\n",
       "    </tr>\n",
       "    <tr>\n",
       "      <th>0</th>\n",
       "      <td>start</td>\n",
       "      <td>Start</td>\n",
       "      <td>False</td>\n",
       "      <td>19045</td>\n",
       "      <td>0.019045</td>\n",
       "    </tr>\n",
       "    <tr>\n",
       "      <th>36</th>\n",
       "      <td>c3</td>\n",
       "      <td>Chance 3</td>\n",
       "      <td>False</td>\n",
       "      <td>18140</td>\n",
       "      <td>0.018140</td>\n",
       "    </tr>\n",
       "  </tbody>\n",
       "</table>\n",
       "</div>"
      ],
      "text/plain": [
       "   Square        Description  Purchasable  Visited  Probability\n",
       "16     o1           Orange 1         True    33538     0.033538\n",
       "15    ts2    Train Station 2         True    31676     0.031676\n",
       "21     r1              Red 1         True    30453     0.030453\n",
       "20      p       Free Parking        False    30063     0.030063\n",
       "14     p3           Purple 3         True    30037     0.030037\n",
       "22     c2           Chance 2        False    29980     0.029980\n",
       "19     o3           Orange 3         True    29722     0.029722\n",
       "17    cc2  Community Chest 2        False    29637     0.029637\n",
       "30    gtj         Go to Jail        False    29563     0.029563\n",
       "29     y3           Yellow 3         True    29470     0.029470\n",
       "18     o2           Orange 2         True    29360     0.029360\n",
       "25    ts3    Train Station 3         True    29204     0.029204\n",
       "26     y1           Yellow 1         True    29178     0.029178\n",
       "27     y2           Yellow 2         True    28880     0.028880\n",
       "24     r3              Red 3         True    28651     0.028651\n",
       "28     ww        Water Works         True    28474     0.028474\n",
       "23     r2              Red 2         True    28010     0.028010\n",
       "13     p2           Purple 2         True    27773     0.027773\n",
       "12     ec   Electric Company         True    26916     0.026916\n",
       "11     p1           Purple 1         True    26309     0.026309\n",
       "31     g1            Green 1         True    24060     0.024060\n",
       "32     g2            Green 2         True    23654     0.023654\n",
       "33    cc3  Community Chest 3        False    22656     0.022656\n",
       "6     lb1       Light Blue 1         True    21486     0.021486\n",
       "4      it         Income Tax        False    20836     0.020836\n",
       "5      t1    Train Station 1         True    20824     0.020824\n",
       "3      b2            Brown 2         True    20812     0.020812\n",
       "34     g3            Green 3         True    20763     0.020763\n",
       "1      b1            Brown 1         True    20650     0.020650\n",
       "7      c1           Chance 1        False    20565     0.020565\n",
       "2     cc1  Community Chest 1        False    20450     0.020450\n",
       "37    db1        Dark Blue 1         True    20430     0.020430\n",
       "9     lb3       Light Blue 3         True    20238     0.020238\n",
       "38     st          Super Tax        False    20028     0.020028\n",
       "10   jail               Jail        False    19892     0.019892\n",
       "8     lb2       Light Blue 2         True    19715     0.019715\n",
       "35    ts4    Train Station 4         True    19699     0.019699\n",
       "39    db2        Dark Blue 2         True    19163     0.019163\n",
       "0   start              Start        False    19045     0.019045\n",
       "36     c3           Chance 3        False    18140     0.018140"
      ]
     },
     "execution_count": 25,
     "metadata": {},
     "output_type": "execute_result"
    }
   ],
   "source": [
    "df.loc[:, 'Square':'Probability'].sort_values(by='Probability', ascending=False)"
   ]
  },
  {
   "cell_type": "markdown",
   "metadata": {},
   "source": [
    "### Top 10 highest probability squares"
   ]
  },
  {
   "cell_type": "markdown",
   "metadata": {},
   "source": [
    "The top 10 squares that have the highest probability for a player to land on are:"
   ]
  },
  {
   "cell_type": "code",
   "execution_count": 46,
   "metadata": {},
   "outputs": [
    {
     "data": {
      "text/html": [
       "<div>\n",
       "<style scoped>\n",
       "    .dataframe tbody tr th:only-of-type {\n",
       "        vertical-align: middle;\n",
       "    }\n",
       "\n",
       "    .dataframe tbody tr th {\n",
       "        vertical-align: top;\n",
       "    }\n",
       "\n",
       "    .dataframe thead th {\n",
       "        text-align: right;\n",
       "    }\n",
       "</style>\n",
       "<table border=\"1\" class=\"dataframe\">\n",
       "  <thead>\n",
       "    <tr style=\"text-align: right;\">\n",
       "      <th></th>\n",
       "      <th>Square</th>\n",
       "      <th>Description</th>\n",
       "      <th>Purchasable</th>\n",
       "      <th>Visited</th>\n",
       "      <th>Probability</th>\n",
       "    </tr>\n",
       "  </thead>\n",
       "  <tbody>\n",
       "    <tr>\n",
       "      <th>16</th>\n",
       "      <td>o1</td>\n",
       "      <td>Orange 1</td>\n",
       "      <td>True</td>\n",
       "      <td>33538</td>\n",
       "      <td>0.033538</td>\n",
       "    </tr>\n",
       "    <tr>\n",
       "      <th>15</th>\n",
       "      <td>ts2</td>\n",
       "      <td>Train Station 2</td>\n",
       "      <td>True</td>\n",
       "      <td>31676</td>\n",
       "      <td>0.031676</td>\n",
       "    </tr>\n",
       "    <tr>\n",
       "      <th>21</th>\n",
       "      <td>r1</td>\n",
       "      <td>Red 1</td>\n",
       "      <td>True</td>\n",
       "      <td>30453</td>\n",
       "      <td>0.030453</td>\n",
       "    </tr>\n",
       "    <tr>\n",
       "      <th>14</th>\n",
       "      <td>p3</td>\n",
       "      <td>Purple 3</td>\n",
       "      <td>True</td>\n",
       "      <td>30037</td>\n",
       "      <td>0.030037</td>\n",
       "    </tr>\n",
       "    <tr>\n",
       "      <th>19</th>\n",
       "      <td>o3</td>\n",
       "      <td>Orange 3</td>\n",
       "      <td>True</td>\n",
       "      <td>29722</td>\n",
       "      <td>0.029722</td>\n",
       "    </tr>\n",
       "    <tr>\n",
       "      <th>29</th>\n",
       "      <td>y3</td>\n",
       "      <td>Yellow 3</td>\n",
       "      <td>True</td>\n",
       "      <td>29470</td>\n",
       "      <td>0.029470</td>\n",
       "    </tr>\n",
       "    <tr>\n",
       "      <th>18</th>\n",
       "      <td>o2</td>\n",
       "      <td>Orange 2</td>\n",
       "      <td>True</td>\n",
       "      <td>29360</td>\n",
       "      <td>0.029360</td>\n",
       "    </tr>\n",
       "    <tr>\n",
       "      <th>25</th>\n",
       "      <td>ts3</td>\n",
       "      <td>Train Station 3</td>\n",
       "      <td>True</td>\n",
       "      <td>29204</td>\n",
       "      <td>0.029204</td>\n",
       "    </tr>\n",
       "    <tr>\n",
       "      <th>26</th>\n",
       "      <td>y1</td>\n",
       "      <td>Yellow 1</td>\n",
       "      <td>True</td>\n",
       "      <td>29178</td>\n",
       "      <td>0.029178</td>\n",
       "    </tr>\n",
       "    <tr>\n",
       "      <th>27</th>\n",
       "      <td>y2</td>\n",
       "      <td>Yellow 2</td>\n",
       "      <td>True</td>\n",
       "      <td>28880</td>\n",
       "      <td>0.028880</td>\n",
       "    </tr>\n",
       "  </tbody>\n",
       "</table>\n",
       "</div>"
      ],
      "text/plain": [
       "   Square      Description  Purchasable  Visited  Probability\n",
       "16     o1         Orange 1         True    33538     0.033538\n",
       "15    ts2  Train Station 2         True    31676     0.031676\n",
       "21     r1            Red 1         True    30453     0.030453\n",
       "14     p3         Purple 3         True    30037     0.030037\n",
       "19     o3         Orange 3         True    29722     0.029722\n",
       "29     y3         Yellow 3         True    29470     0.029470\n",
       "18     o2         Orange 2         True    29360     0.029360\n",
       "25    ts3  Train Station 3         True    29204     0.029204\n",
       "26     y1         Yellow 1         True    29178     0.029178\n",
       "27     y2         Yellow 2         True    28880     0.028880"
      ]
     },
     "execution_count": 46,
     "metadata": {},
     "output_type": "execute_result"
    }
   ],
   "source": [
    "df.loc[df['Purchasable'] == True, 'Square':'Probability']\\\n",
    "    .sort_values('Probability', ascending=False).head(10)"
   ]
  },
  {
   "cell_type": "markdown",
   "metadata": {},
   "source": [
    "The total probability for all 10 squares is:"
   ]
  },
  {
   "cell_type": "code",
   "execution_count": 47,
   "metadata": {},
   "outputs": [
    {
     "data": {
      "text/plain": [
       "0.30151800000000001"
      ]
     },
     "execution_count": 47,
     "metadata": {},
     "output_type": "execute_result"
    }
   ],
   "source": [
    "df.loc[df['Purchasable'] == True].sort_values('Probability', ascending=False)\\\n",
    "    .head(10)['Probability'].sum()"
   ]
  },
  {
   "cell_type": "markdown",
   "metadata": {},
   "source": [
    "## High-level probability analysis"
   ]
  },
  {
   "cell_type": "markdown",
   "metadata": {},
   "source": [
    "We want to answer the following questions:\n",
    "\n",
    "1. What are the best streets to have?\n",
    "2. What is the probability to be in jail?\n",
    "3. What is the probability to draw a card?"
   ]
  },
  {
   "cell_type": "markdown",
   "metadata": {},
   "source": [
    "### Aggregating (grouping by)"
   ]
  },
  {
   "cell_type": "markdown",
   "metadata": {},
   "source": [
    "To find what the probabilities are per street, chance, community chest, etc., we are going to aggregate the possibilities."
   ]
  },
  {
   "cell_type": "code",
   "execution_count": 19,
   "metadata": {},
   "outputs": [],
   "source": [
    "aggregated_df = pd.DataFrame(df.groupby(['Aggregate'])['Probability'].sum()).reset_index()"
   ]
  },
  {
   "cell_type": "markdown",
   "metadata": {},
   "source": [
    "Now we plot the aggregated probabilities."
   ]
  },
  {
   "cell_type": "code",
   "execution_count": 48,
   "metadata": {},
   "outputs": [
    {
     "data": {
      "image/png": "[encoded data removed]",
      "text/plain": [
       "<matplotlib.figure.Figure at 0x18a1fd70940>"
      ]
     },
     "metadata": {},
     "output_type": "display_data"
    }
   ],
   "source": [
    "plt.rc('xtick', labelsize=16) \n",
    "plt.rc('ytick', labelsize=14) \n",
    "aggregated_df[['Aggregate', 'Probability']].sort_values(by='Probability', ascending=False)\\\n",
    "    .plot(kind='bar', figsize=(10,5))\n",
    "plt.xticks(range(len(aggregated_df.index)), aggregated_df[['Aggregate', 'Probability']]\n",
    "    .sort_values(by='Probability', ascending=False)['Aggregate'])\n",
    "plt.ylabel('Probability')\n",
    "plt.title('Probability by label');"
   ]
  },
  {
   "cell_type": "markdown",
   "metadata": {},
   "source": [
    "### Overview of all the probabilities by aggregate"
   ]
  },
  {
   "cell_type": "markdown",
   "metadata": {},
   "source": [
    "A total overview of all the probabilities can be found in the table below:"
   ]
  },
  {
   "cell_type": "code",
   "execution_count": 21,
   "metadata": {},
   "outputs": [
    {
     "data": {
      "text/html": [
       "<div>\n",
       "<style scoped>\n",
       "    .dataframe tbody tr th:only-of-type {\n",
       "        vertical-align: middle;\n",
       "    }\n",
       "\n",
       "    .dataframe tbody tr th {\n",
       "        vertical-align: top;\n",
       "    }\n",
       "\n",
       "    .dataframe thead th {\n",
       "        text-align: right;\n",
       "    }\n",
       "</style>\n",
       "<table border=\"1\" class=\"dataframe\">\n",
       "  <thead>\n",
       "    <tr style=\"text-align: right;\">\n",
       "      <th></th>\n",
       "      <th>Aggregate</th>\n",
       "      <th>Probability</th>\n",
       "    </tr>\n",
       "  </thead>\n",
       "  <tbody>\n",
       "    <tr>\n",
       "      <th>16</th>\n",
       "      <td>Train Station</td>\n",
       "      <td>0.101403</td>\n",
       "    </tr>\n",
       "    <tr>\n",
       "      <th>11</th>\n",
       "      <td>Orange</td>\n",
       "      <td>0.092620</td>\n",
       "    </tr>\n",
       "    <tr>\n",
       "      <th>18</th>\n",
       "      <td>Yellow</td>\n",
       "      <td>0.087528</td>\n",
       "    </tr>\n",
       "    <tr>\n",
       "      <th>13</th>\n",
       "      <td>Red</td>\n",
       "      <td>0.087114</td>\n",
       "    </tr>\n",
       "    <tr>\n",
       "      <th>12</th>\n",
       "      <td>Purple</td>\n",
       "      <td>0.084119</td>\n",
       "    </tr>\n",
       "    <tr>\n",
       "      <th>2</th>\n",
       "      <td>Community Chest</td>\n",
       "      <td>0.072743</td>\n",
       "    </tr>\n",
       "    <tr>\n",
       "      <th>1</th>\n",
       "      <td>Chance</td>\n",
       "      <td>0.068685</td>\n",
       "    </tr>\n",
       "    <tr>\n",
       "      <th>7</th>\n",
       "      <td>Green</td>\n",
       "      <td>0.068477</td>\n",
       "    </tr>\n",
       "    <tr>\n",
       "      <th>10</th>\n",
       "      <td>Light Blue</td>\n",
       "      <td>0.061439</td>\n",
       "    </tr>\n",
       "    <tr>\n",
       "      <th>0</th>\n",
       "      <td>Brown</td>\n",
       "      <td>0.041462</td>\n",
       "    </tr>\n",
       "    <tr>\n",
       "      <th>3</th>\n",
       "      <td>Dark Blue</td>\n",
       "      <td>0.039593</td>\n",
       "    </tr>\n",
       "    <tr>\n",
       "      <th>5</th>\n",
       "      <td>Free Parking</td>\n",
       "      <td>0.030063</td>\n",
       "    </tr>\n",
       "    <tr>\n",
       "      <th>6</th>\n",
       "      <td>Go to Jail</td>\n",
       "      <td>0.029563</td>\n",
       "    </tr>\n",
       "    <tr>\n",
       "      <th>17</th>\n",
       "      <td>Water Works</td>\n",
       "      <td>0.028474</td>\n",
       "    </tr>\n",
       "    <tr>\n",
       "      <th>4</th>\n",
       "      <td>Electric Company</td>\n",
       "      <td>0.026916</td>\n",
       "    </tr>\n",
       "    <tr>\n",
       "      <th>8</th>\n",
       "      <td>Income Tax</td>\n",
       "      <td>0.020836</td>\n",
       "    </tr>\n",
       "    <tr>\n",
       "      <th>15</th>\n",
       "      <td>Super Tax</td>\n",
       "      <td>0.020028</td>\n",
       "    </tr>\n",
       "    <tr>\n",
       "      <th>9</th>\n",
       "      <td>Jail</td>\n",
       "      <td>0.019892</td>\n",
       "    </tr>\n",
       "    <tr>\n",
       "      <th>14</th>\n",
       "      <td>Start</td>\n",
       "      <td>0.019045</td>\n",
       "    </tr>\n",
       "  </tbody>\n",
       "</table>\n",
       "</div>"
      ],
      "text/plain": [
       "           Aggregate  Probability\n",
       "16     Train Station     0.101403\n",
       "11            Orange     0.092620\n",
       "18            Yellow     0.087528\n",
       "13               Red     0.087114\n",
       "12            Purple     0.084119\n",
       "2    Community Chest     0.072743\n",
       "1             Chance     0.068685\n",
       "7              Green     0.068477\n",
       "10        Light Blue     0.061439\n",
       "0              Brown     0.041462\n",
       "3          Dark Blue     0.039593\n",
       "5       Free Parking     0.030063\n",
       "6         Go to Jail     0.029563\n",
       "17       Water Works     0.028474\n",
       "4   Electric Company     0.026916\n",
       "8         Income Tax     0.020836\n",
       "15         Super Tax     0.020028\n",
       "9               Jail     0.019892\n",
       "14             Start     0.019045"
      ]
     },
     "execution_count": 21,
     "metadata": {},
     "output_type": "execute_result"
    }
   ],
   "source": [
    "aggregated_df.sort_values('Probability', ascending=False)"
   ]
  },
  {
   "cell_type": "markdown",
   "metadata": {},
   "source": [
    "### Train station probabilities"
   ]
  },
  {
   "cell_type": "markdown",
   "metadata": {},
   "source": [
    "We can conclude that `Train Station` has the highest probability to land on. However, we need to take into account that there are four squares to land on."
   ]
  },
  {
   "cell_type": "code",
   "execution_count": 27,
   "metadata": {},
   "outputs": [
    {
     "data": {
      "text/html": [
       "<div>\n",
       "<style scoped>\n",
       "    .dataframe tbody tr th:only-of-type {\n",
       "        vertical-align: middle;\n",
       "    }\n",
       "\n",
       "    .dataframe tbody tr th {\n",
       "        vertical-align: top;\n",
       "    }\n",
       "\n",
       "    .dataframe thead th {\n",
       "        text-align: right;\n",
       "    }\n",
       "</style>\n",
       "<table border=\"1\" class=\"dataframe\">\n",
       "  <thead>\n",
       "    <tr style=\"text-align: right;\">\n",
       "      <th></th>\n",
       "      <th>Square</th>\n",
       "      <th>Description</th>\n",
       "      <th>Purchasable</th>\n",
       "      <th>Visited</th>\n",
       "      <th>Probability</th>\n",
       "    </tr>\n",
       "  </thead>\n",
       "  <tbody>\n",
       "    <tr>\n",
       "      <th>15</th>\n",
       "      <td>ts2</td>\n",
       "      <td>Train Station 2</td>\n",
       "      <td>True</td>\n",
       "      <td>31676</td>\n",
       "      <td>0.031676</td>\n",
       "    </tr>\n",
       "    <tr>\n",
       "      <th>25</th>\n",
       "      <td>ts3</td>\n",
       "      <td>Train Station 3</td>\n",
       "      <td>True</td>\n",
       "      <td>29204</td>\n",
       "      <td>0.029204</td>\n",
       "    </tr>\n",
       "    <tr>\n",
       "      <th>5</th>\n",
       "      <td>t1</td>\n",
       "      <td>Train Station 1</td>\n",
       "      <td>True</td>\n",
       "      <td>20824</td>\n",
       "      <td>0.020824</td>\n",
       "    </tr>\n",
       "    <tr>\n",
       "      <th>35</th>\n",
       "      <td>ts4</td>\n",
       "      <td>Train Station 4</td>\n",
       "      <td>True</td>\n",
       "      <td>19699</td>\n",
       "      <td>0.019699</td>\n",
       "    </tr>\n",
       "  </tbody>\n",
       "</table>\n",
       "</div>"
      ],
      "text/plain": [
       "   Square      Description  Purchasable  Visited  Probability\n",
       "15    ts2  Train Station 2         True    31676     0.031676\n",
       "25    ts3  Train Station 3         True    29204     0.029204\n",
       "5      t1  Train Station 1         True    20824     0.020824\n",
       "35    ts4  Train Station 4         True    19699     0.019699"
      ]
     },
     "execution_count": 27,
     "metadata": {},
     "output_type": "execute_result"
    }
   ],
   "source": [
    "df.loc[df['Aggregate'] == 'Train Station', 'Square':'Probability'].sort_values('Probability', ascending=False)"
   ]
  },
  {
   "cell_type": "markdown",
   "metadata": {},
   "source": [
    "### Probability to be in jail"
   ]
  },
  {
   "cell_type": "markdown",
   "metadata": {},
   "source": [
    "To find the total probability to be in jail, we need to take into account that:\n",
    "\n",
    " * We can land on jail.\n",
    " * We can land on go to jail.\n",
    " * There is one community card which sends you to jail.\n",
    " * There is one chance card which sends you to jail.\n",
    " \n",
    "Each deck has $16$ cards, therefore the probability to draw go to jail is $P(\\bar{x}=\\text{go to jail})=\\dfrac{1}{16}$.\n",
    "\n",
    "$$P(\\bar{x}=\\text{in jail}) = P(\\bar{x}=\\text{jail}) + P(\\bar{x}=\\text{go to jail}) + \\dfrac{1}{16}\\left[ P(\\bar{x}=\\text{community chest}) + P(\\bar{x}=\\text{chance})\\right] $$"
   ]
  },
  {
   "cell_type": "code",
   "execution_count": 50,
   "metadata": {},
   "outputs": [],
   "source": [
    "P_jail           = sum(aggregated_df.loc[aggregated_df['Aggregate'] == 'Jail'           ]['Probability'])\n",
    "P_go_to_jail     = sum(aggregated_df.loc[aggregated_df['Aggregate'] == 'Go to Jail'     ]['Probability'])\n",
    "P_community_card = sum(aggregated_df.loc[aggregated_df['Aggregate'] == 'Community Chest']['Probability'])\n",
    "P_chance_card    = sum(aggregated_df.loc[aggregated_df['Aggregate'] == 'Chance'         ]['Probability'])"
   ]
  },
  {
   "cell_type": "code",
   "execution_count": 51,
   "metadata": {
    "scrolled": true
   },
   "outputs": [
    {
     "data": {
      "text/plain": [
       "0.058294249999999999"
      ]
     },
     "execution_count": 51,
     "metadata": {},
     "output_type": "execute_result"
    }
   ],
   "source": [
    "P_jail + P_go_to_jail + 1/16 * (P_community_card + P_chance_card)"
   ]
  },
  {
   "cell_type": "markdown",
   "metadata": {},
   "source": [
    "### Probability to draw a card"
   ]
  },
  {
   "cell_type": "markdown",
   "metadata": {},
   "source": [
    "To find the probability to draw a card, we simply calculate:\n",
    "\n",
    "$$ P(\\bar{x}=\\text{draw a card}) = P(\\bar{x}=\\text{community chest}) + P(\\bar{x}=\\text{chance})$$"
   ]
  },
  {
   "cell_type": "code",
   "execution_count": 52,
   "metadata": {},
   "outputs": [
    {
     "data": {
      "text/plain": [
       "0.141428"
      ]
     },
     "execution_count": 52,
     "metadata": {},
     "output_type": "execute_result"
    }
   ],
   "source": [
    "P_community_card + P_chance_card"
   ]
  },
  {
   "cell_type": "markdown",
   "metadata": {},
   "source": [
    "Where the probabilities for the community chest square are:"
   ]
  },
  {
   "cell_type": "code",
   "execution_count": 53,
   "metadata": {},
   "outputs": [
    {
     "data": {
      "text/html": [
       "<div>\n",
       "<style scoped>\n",
       "    .dataframe tbody tr th:only-of-type {\n",
       "        vertical-align: middle;\n",
       "    }\n",
       "\n",
       "    .dataframe tbody tr th {\n",
       "        vertical-align: top;\n",
       "    }\n",
       "\n",
       "    .dataframe thead th {\n",
       "        text-align: right;\n",
       "    }\n",
       "</style>\n",
       "<table border=\"1\" class=\"dataframe\">\n",
       "  <thead>\n",
       "    <tr style=\"text-align: right;\">\n",
       "      <th></th>\n",
       "      <th>Square</th>\n",
       "      <th>Description</th>\n",
       "      <th>Purchasable</th>\n",
       "      <th>Visited</th>\n",
       "      <th>Probability</th>\n",
       "    </tr>\n",
       "  </thead>\n",
       "  <tbody>\n",
       "    <tr>\n",
       "      <th>17</th>\n",
       "      <td>cc2</td>\n",
       "      <td>Community Chest 2</td>\n",
       "      <td>False</td>\n",
       "      <td>29637</td>\n",
       "      <td>0.029637</td>\n",
       "    </tr>\n",
       "    <tr>\n",
       "      <th>33</th>\n",
       "      <td>cc3</td>\n",
       "      <td>Community Chest 3</td>\n",
       "      <td>False</td>\n",
       "      <td>22656</td>\n",
       "      <td>0.022656</td>\n",
       "    </tr>\n",
       "    <tr>\n",
       "      <th>2</th>\n",
       "      <td>cc1</td>\n",
       "      <td>Community Chest 1</td>\n",
       "      <td>False</td>\n",
       "      <td>20450</td>\n",
       "      <td>0.020450</td>\n",
       "    </tr>\n",
       "  </tbody>\n",
       "</table>\n",
       "</div>"
      ],
      "text/plain": [
       "   Square        Description  Purchasable  Visited  Probability\n",
       "17    cc2  Community Chest 2        False    29637     0.029637\n",
       "33    cc3  Community Chest 3        False    22656     0.022656\n",
       "2     cc1  Community Chest 1        False    20450     0.020450"
      ]
     },
     "execution_count": 53,
     "metadata": {},
     "output_type": "execute_result"
    }
   ],
   "source": [
    "df.loc[df['Aggregate'] == 'Community Chest', 'Square':'Probability'].sort_values('Probability', ascending=False)"
   ]
  },
  {
   "cell_type": "markdown",
   "metadata": {},
   "source": [
    "And the probabilities for the chance square are:"
   ]
  },
  {
   "cell_type": "code",
   "execution_count": 54,
   "metadata": {},
   "outputs": [
    {
     "data": {
      "text/html": [
       "<div>\n",
       "<style scoped>\n",
       "    .dataframe tbody tr th:only-of-type {\n",
       "        vertical-align: middle;\n",
       "    }\n",
       "\n",
       "    .dataframe tbody tr th {\n",
       "        vertical-align: top;\n",
       "    }\n",
       "\n",
       "    .dataframe thead th {\n",
       "        text-align: right;\n",
       "    }\n",
       "</style>\n",
       "<table border=\"1\" class=\"dataframe\">\n",
       "  <thead>\n",
       "    <tr style=\"text-align: right;\">\n",
       "      <th></th>\n",
       "      <th>Square</th>\n",
       "      <th>Description</th>\n",
       "      <th>Purchasable</th>\n",
       "      <th>Visited</th>\n",
       "      <th>Probability</th>\n",
       "    </tr>\n",
       "  </thead>\n",
       "  <tbody>\n",
       "    <tr>\n",
       "      <th>22</th>\n",
       "      <td>c2</td>\n",
       "      <td>Chance 2</td>\n",
       "      <td>False</td>\n",
       "      <td>29980</td>\n",
       "      <td>0.029980</td>\n",
       "    </tr>\n",
       "    <tr>\n",
       "      <th>7</th>\n",
       "      <td>c1</td>\n",
       "      <td>Chance 1</td>\n",
       "      <td>False</td>\n",
       "      <td>20565</td>\n",
       "      <td>0.020565</td>\n",
       "    </tr>\n",
       "    <tr>\n",
       "      <th>36</th>\n",
       "      <td>c3</td>\n",
       "      <td>Chance 3</td>\n",
       "      <td>False</td>\n",
       "      <td>18140</td>\n",
       "      <td>0.018140</td>\n",
       "    </tr>\n",
       "  </tbody>\n",
       "</table>\n",
       "</div>"
      ],
      "text/plain": [
       "   Square Description  Purchasable  Visited  Probability\n",
       "22     c2    Chance 2        False    29980     0.029980\n",
       "7      c1    Chance 1        False    20565     0.020565\n",
       "36     c3    Chance 3        False    18140     0.018140"
      ]
     },
     "execution_count": 54,
     "metadata": {},
     "output_type": "execute_result"
    }
   ],
   "source": [
    "df.loc[df['Aggregate'] == 'Chance', 'Square':'Probability'].sort_values('Probability', ascending=False)"
   ]
  }
 ],
 "metadata": {
  "kernelspec": {
   "display_name": "Python 3",
   "language": "python",
   "name": "python3"
  },
  "language_info": {
   "codemirror_mode": {
    "name": "ipython",
    "version": 3
   },
   "file_extension": ".py",
   "mimetype": "text/x-python",
   "name": "python",
   "nbconvert_exporter": "python",
   "pygments_lexer": "ipython3",
   "version": "3.6.3"
  }
 },
 "nbformat": 4,
 "nbformat_minor": 2
}
