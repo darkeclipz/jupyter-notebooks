{
 "cells": [
  {
   "cell_type": "code",
   "execution_count": 1,
   "metadata": {},
   "outputs": [
    {
     "name": "stdout",
     "output_type": "stream",
     "text": [
      "Populating the interactive namespace from numpy and matplotlib\n"
     ]
    }
   ],
   "source": [
    "%pylab inline"
   ]
  },
  {
   "cell_type": "markdown",
   "metadata": {},
   "source": [
    "# Probability Analysis of Monopoly"
   ]
  },
  {
   "cell_type": "markdown",
   "metadata": {},
   "source": [
    "In this document we are going to analyze the probabilities in Monopoly to answer the question: which are the best houses to buy?\n",
    "\n",
    "To answer this question we will create a simulated version of Monopoly and determine the probabilities to land on each square. Then we calculate the expected value for each square. The squares with the highest expected values are the best squares to have."
   ]
  },
  {
   "cell_type": "markdown",
   "metadata": {},
   "source": [
    "![monopoly](monopoly_1.jpg)"
   ]
  },
  {
   "cell_type": "markdown",
   "metadata": {},
   "source": [
    "## Squares"
   ]
  },
  {
   "cell_type": "markdown",
   "metadata": {},
   "source": [
    "Each edge has 9 positions and there are 4 edges. There are 4 corners. Which gives a total of 40 positions where a player can land. The labels are numbered starting at GO."
   ]
  },
  {
   "cell_type": "markdown",
   "metadata": {},
   "source": [
    "### Labels"
   ]
  },
  {
   "cell_type": "code",
   "execution_count": 2,
   "metadata": {
    "scrolled": true
   },
   "outputs": [
    {
     "name": "stdout",
     "output_type": "stream",
     "text": [
      "There are 40 squares.\n"
     ]
    }
   ],
   "source": [
    "squares_labels = ['start', 'b1', 'cc1', 'b2', 'it', 't1', \n",
    "                  'lb1', 'c1', 'lb2', 'lb3', 'jail', 'p1', \n",
    "                  'ec', 'p2', 'p3', 'ts2', 'o1', 'cc2', \n",
    "                  'o2', 'o3', 'p', 'r1', 'c2', 'r2', 'r3', \n",
    "                  'ts3', 'y1', 'y2', 'ww', 'y3', 'gtj', \n",
    "                  'g1', 'g2', 'cc3', 'g3', 'ts4', 'c3', \n",
    "                  'db1', 'st', 'db2']\n",
    "\n",
    "squares_total = len(squares_labels)\n",
    "print('There are {} squares.'.format(squares_total))"
   ]
  },
  {
   "cell_type": "markdown",
   "metadata": {},
   "source": [
    "### Descriptions"
   ]
  },
  {
   "cell_type": "markdown",
   "metadata": {},
   "source": [
    "We also want to know the proper names, so we don't have to look up the labels."
   ]
  },
  {
   "cell_type": "code",
   "execution_count": 3,
   "metadata": {},
   "outputs": [],
   "source": [
    "squares_description = ['Start', 'Brown 1', 'Community Chest 1', 'Brown 2', \n",
    "                       'Income Tax', 'Train Station 1', 'Light Blue 1', \n",
    "                       'Chance 1', 'Light Blue 2', 'Light Blue 3', 'Jail', \n",
    "                       'Purple 1', 'Electric Company', 'Purple 2', \n",
    "                       'Purple 3', 'Train Station 2', 'Orange 1', \n",
    "                       'Community Chest 2', 'Orange 2', 'Orange 3', \n",
    "                       'Free Parking', 'Red 1', 'Chance 2', 'Red 2', \n",
    "                       'Red 3', 'Train Station 3', 'Yellow 1', 'Yellow 2', \n",
    "                       'Water Works', 'Yellow 3', 'Go to Jail', 'Green 1', \n",
    "                       'Green 2', 'Community Chest 3', 'Green 3', \n",
    "                       'Train Station 4', 'Chance 3', 'Dark Blue 1', \n",
    "                       'Super Tax', 'Dark Blue 2']"
   ]
  },
  {
   "cell_type": "code",
   "execution_count": 4,
   "metadata": {
    "scrolled": true
   },
   "outputs": [
    {
     "name": "stdout",
     "output_type": "stream",
     "text": [
      "There are 40 descriptions.\n"
     ]
    }
   ],
   "source": [
    "print('There are {} descriptions.'.format(len(squares_description)))"
   ]
  },
  {
   "cell_type": "markdown",
   "metadata": {},
   "source": [
    "### Purchasable"
   ]
  },
  {
   "cell_type": "markdown",
   "metadata": {},
   "source": [
    "We want to know if they are purchasable so we can sort on that later."
   ]
  },
  {
   "cell_type": "code",
   "execution_count": 5,
   "metadata": {},
   "outputs": [],
   "source": [
    "squares_purchasable = [False, True, False, True, False, \n",
    "                       True, True, False, True, True, \n",
    "                       False, True, True, True, True, \n",
    "                       True, True, False, True, True, \n",
    "                       False, True, False, True, True, \n",
    "                       True, True, True, True, True, \n",
    "                       False, True, True, False, True, \n",
    "                       True, False, True, False, True]"
   ]
  },
  {
   "cell_type": "markdown",
   "metadata": {},
   "source": [
    "### Rent"
   ]
  },
  {
   "cell_type": "markdown",
   "metadata": {},
   "source": [
    "We want to use the rent paid at each square to calculate the expected value. The utility company charge $4$ times roll if one is owned, and $10$ times roll if both owned. For one railway we charge $25$, two $50$, three $100$, and all four $200$."
   ]
  },
  {
   "cell_type": "markdown",
   "metadata": {},
   "source": [
    "To find the rent for a utility company, we find the expected value for throwing a dices times $4$.\n",
    "\n",
    "$$ 4\\cdot E(\\bar{k}) = 4 \\cdot \\dfrac{1}{6} \\cdot (1+2+3+4+5+6) $$"
   ]
  },
  {
   "cell_type": "code",
   "execution_count": 6,
   "metadata": {},
   "outputs": [],
   "source": [
    "E_u = 4 * (1+2+3+4+5+6) / 6"
   ]
  },
  {
   "cell_type": "markdown",
   "metadata": {},
   "source": [
    "We pick the value for one railway which is $25$."
   ]
  },
  {
   "cell_type": "code",
   "execution_count": 7,
   "metadata": {},
   "outputs": [],
   "source": [
    "E_r = 25"
   ]
  },
  {
   "cell_type": "code",
   "execution_count": 8,
   "metadata": {},
   "outputs": [],
   "source": [
    "squares_rent = [0, 2, 0, 4, 0, E_r, 6, 0, 6, 8, 0, 10, E_u, \n",
    "                10, 12, E_r, 14, 0, 14, 16, 0, 18, 0, 18, \n",
    "                20, E_r, 22, 22, E_u, 24, 0, 26, 26, 0, 28, \n",
    "                E_r, 0, 35, 0, 50]"
   ]
  },
  {
   "cell_type": "markdown",
   "metadata": {},
   "source": [
    "### Grouping"
   ]
  },
  {
   "cell_type": "markdown",
   "metadata": {},
   "source": [
    "We want to know in what group they are so we can aggregate our data later."
   ]
  },
  {
   "cell_type": "code",
   "execution_count": 9,
   "metadata": {},
   "outputs": [],
   "source": [
    "squares_aggregate = ['Start', 'Brown', 'Community Chest', 'Brown', \n",
    "                     'Income Tax', 'Train Station', 'Light Blue', \n",
    "                     'Chance', 'Light Blue', 'Light Blue', 'Jail', \n",
    "                     'Purple', 'Utilities', 'Purple', 'Purple', \n",
    "                     'Train Station', 'Orange', 'Community Chest', \n",
    "                     'Orange', 'Orange', 'Free Parking', 'Red', \n",
    "                     'Chance', 'Red', 'Red', 'Train Station', 'Yellow', \n",
    "                     'Yellow', 'Utilities', 'Yellow', 'Go to Jail', \n",
    "                     'Green', 'Green', 'Community Chest', 'Green', \n",
    "                     'Train Station', 'Chance', 'Dark Blue', \n",
    "                     'Super Tax', 'Dark Blue']"
   ]
  },
  {
   "cell_type": "markdown",
   "metadata": {},
   "source": [
    "## Cards"
   ]
  },
  {
   "cell_type": "markdown",
   "metadata": {},
   "source": [
    "There are two decks of cards.\n",
    "\n",
    "* Community Cards\n",
    "* Chance Cards\n",
    "\n",
    "Each deck contains 16 cards."
   ]
  },
  {
   "cell_type": "markdown",
   "metadata": {},
   "source": [
    "### Community Cards"
   ]
  },
  {
   "cell_type": "markdown",
   "metadata": {},
   "source": [
    "Monopoly has $16$ community cards."
   ]
  },
  {
   "cell_type": "markdown",
   "metadata": {},
   "source": [
    "![cc](monopoly_2.jpg)"
   ]
  },
  {
   "cell_type": "markdown",
   "metadata": {},
   "source": [
    "Because we are only determining the probabilities, we are only interested in the following cards:\n",
    "\n",
    "* advance to go\n",
    "* go to jail\n",
    "* get out of jail, free\n",
    "* go back 2 spaces"
   ]
  },
  {
   "cell_type": "markdown",
   "metadata": {},
   "source": [
    "### Community deck implementation"
   ]
  },
  {
   "cell_type": "markdown",
   "metadata": {},
   "source": [
    "We implement the community deck in a class. The class keeps track of a list with $16$ cards. An index points to the next card. When we are out of cards, we reset the index and reshuffle the cards."
   ]
  },
  {
   "cell_type": "code",
   "execution_count": 10,
   "metadata": {},
   "outputs": [],
   "source": [
    "from random import shuffle\n",
    "\n",
    "class CommunityDeck():\n",
    "    def __init__(self):\n",
    "        self.deck = [0] * 16\n",
    "        self.deck[0] = 'gtg' # go to go\n",
    "        self.deck[1] = 'gtj' # go to jail\n",
    "        self.deck[2] = 'goj' # get out of jail \n",
    "        self.deck[3] = 'gb2' # go back 2 steps\n",
    "        self.index = 16\n",
    "    \n",
    "    def draw_card(self):\n",
    "        if self.index >= len(self.deck):\n",
    "            self.index = 0\n",
    "            shuffle(self.deck)\n",
    "        card = self.deck[self.index]\n",
    "        self.index += 1\n",
    "        return card"
   ]
  },
  {
   "cell_type": "markdown",
   "metadata": {},
   "source": [
    "Now we test it:"
   ]
  },
  {
   "cell_type": "code",
   "execution_count": 11,
   "metadata": {},
   "outputs": [
    {
     "data": {
      "text/plain": [
       "['gtg', 'gtj', 'goj', 'gb2', 0, 0, 0, 0, 0, 0, 0, 0, 0, 0, 0, 0]"
      ]
     },
     "execution_count": 11,
     "metadata": {},
     "output_type": "execute_result"
    }
   ],
   "source": [
    "deck = CommunityDeck()\n",
    "deck.deck"
   ]
  },
  {
   "cell_type": "code",
   "execution_count": 12,
   "metadata": {},
   "outputs": [
    {
     "data": {
      "text/plain": [
       "0"
      ]
     },
     "execution_count": 12,
     "metadata": {},
     "output_type": "execute_result"
    }
   ],
   "source": [
    "deck.draw_card()"
   ]
  },
  {
   "cell_type": "code",
   "execution_count": 13,
   "metadata": {},
   "outputs": [
    {
     "data": {
      "text/plain": [
       "[0, 'goj', 0, 0, 0, 0, 'gtg', 'gb2', 0, 0, 'gtj', 0, 0, 0, 0, 0]"
      ]
     },
     "execution_count": 13,
     "metadata": {},
     "output_type": "execute_result"
    }
   ],
   "source": [
    "deck.deck"
   ]
  },
  {
   "cell_type": "code",
   "execution_count": 14,
   "metadata": {},
   "outputs": [
    {
     "data": {
      "text/plain": [
       "1"
      ]
     },
     "execution_count": 14,
     "metadata": {},
     "output_type": "execute_result"
    }
   ],
   "source": [
    "deck.index"
   ]
  },
  {
   "cell_type": "markdown",
   "metadata": {},
   "source": [
    "### Chance Cards"
   ]
  },
  {
   "cell_type": "markdown",
   "metadata": {},
   "source": [
    "Monopoly has $16$ chance cards."
   ]
  },
  {
   "cell_type": "markdown",
   "metadata": {},
   "source": [
    "![chance](monopoly_3.jpg)"
   ]
  },
  {
   "cell_type": "markdown",
   "metadata": {},
   "source": [
    "Because we are only determining the probabilities, we are only interested in the following cards:\n",
    "\n",
    "* go back three spaces\n",
    "* get out of jail free\n",
    "* advance to go\n",
    "* advance to illinois avenue (R3)\n",
    "* go to jail"
   ]
  },
  {
   "cell_type": "markdown",
   "metadata": {},
   "source": [
    "### Chance deck implementation"
   ]
  },
  {
   "cell_type": "markdown",
   "metadata": {},
   "source": [
    "We implement the chance deck in a class. The class keeps track of a list with $16$ cards. An index points to the next card. When we are out of cards, we reset the index and reshuffle the cards."
   ]
  },
  {
   "cell_type": "code",
   "execution_count": 15,
   "metadata": {},
   "outputs": [],
   "source": [
    "from random import shuffle\n",
    "\n",
    "class ChanceDeck():\n",
    "    def __init__(self):\n",
    "        self.deck = [0] * 16\n",
    "        self.deck[0] = 'gtg' # go to go\n",
    "        self.deck[1] = 'gtj' # go to jail\n",
    "        self.deck[2] = 'goj' # get out of jail\n",
    "        self.deck[3] = 'gb3' # go back 3\n",
    "        self.deck[4] = 'r3'  # go to red 3 (r3)\n",
    "        self.index = 16\n",
    "    \n",
    "    def draw_card(self):\n",
    "        if self.index >= len(self.deck):\n",
    "            self.index = 0\n",
    "            shuffle(self.deck)\n",
    "        card = self.deck[self.index]\n",
    "        self.index += 1\n",
    "        return card"
   ]
  },
  {
   "cell_type": "markdown",
   "metadata": {},
   "source": [
    "Now we test it:"
   ]
  },
  {
   "cell_type": "code",
   "execution_count": 16,
   "metadata": {},
   "outputs": [
    {
     "data": {
      "text/plain": [
       "['gtg', 'gtj', 'goj', 'gb3', 'r3', 0, 0, 0, 0, 0, 0, 0, 0, 0, 0, 0]"
      ]
     },
     "execution_count": 16,
     "metadata": {},
     "output_type": "execute_result"
    }
   ],
   "source": [
    "deck = ChanceDeck()\n",
    "deck.deck"
   ]
  },
  {
   "cell_type": "code",
   "execution_count": 17,
   "metadata": {},
   "outputs": [
    {
     "data": {
      "text/plain": [
       "0"
      ]
     },
     "execution_count": 17,
     "metadata": {},
     "output_type": "execute_result"
    }
   ],
   "source": [
    "deck.draw_card()"
   ]
  },
  {
   "cell_type": "code",
   "execution_count": 18,
   "metadata": {},
   "outputs": [
    {
     "data": {
      "text/plain": [
       "[0, 'r3', 0, 'gtj', 0, 0, 0, 0, 0, 'gb3', 0, 0, 'gtg', 'goj', 0, 0]"
      ]
     },
     "execution_count": 18,
     "metadata": {},
     "output_type": "execute_result"
    }
   ],
   "source": [
    "deck.deck"
   ]
  },
  {
   "cell_type": "code",
   "execution_count": 19,
   "metadata": {},
   "outputs": [
    {
     "data": {
      "text/plain": [
       "1"
      ]
     },
     "execution_count": 19,
     "metadata": {},
     "output_type": "execute_result"
    }
   ],
   "source": [
    "deck.index"
   ]
  },
  {
   "cell_type": "markdown",
   "metadata": {},
   "source": [
    "## Dice"
   ]
  },
  {
   "cell_type": "markdown",
   "metadata": {},
   "source": [
    "We will be implementing the dice as a class. This allows us to encapsulate how the result are determined. It makes it easier to implements other scenarios such as throwing with multiple dices."
   ]
  },
  {
   "cell_type": "code",
   "execution_count": 20,
   "metadata": {},
   "outputs": [],
   "source": [
    "from random import randint\n",
    "\n",
    "class Dice():\n",
    "    def __init__(self, dices = 1, sides = 6):\n",
    "        self.dices = dices\n",
    "        self.sides = 6\n",
    "    \n",
    "    def throw(self):\n",
    "        return sum([randint(1, self.sides) for _ in range(self.dices)])"
   ]
  },
  {
   "cell_type": "markdown",
   "metadata": {},
   "source": [
    "Rolling one time:"
   ]
  },
  {
   "cell_type": "code",
   "execution_count": 21,
   "metadata": {},
   "outputs": [
    {
     "data": {
      "text/plain": [
       "2"
      ]
     },
     "execution_count": 21,
     "metadata": {},
     "output_type": "execute_result"
    }
   ],
   "source": [
    "dice = Dice()\n",
    "dice.throw()"
   ]
  },
  {
   "cell_type": "markdown",
   "metadata": {},
   "source": [
    "### Simple: one dice with six sides"
   ]
  },
  {
   "cell_type": "markdown",
   "metadata": {},
   "source": [
    "A simple setup would be one dice with six sides. This will give uniformly distributed probabilities."
   ]
  },
  {
   "cell_type": "code",
   "execution_count": 22,
   "metadata": {},
   "outputs": [
    {
     "data": {
      "image/png": "[encoded data removed]",
      "text/plain": [
       "<matplotlib.figure.Figure at 0x18c19971668>"
      ]
     },
     "metadata": {},
     "output_type": "display_data"
    }
   ],
   "source": [
    "dice = Dice()\n",
    "sides = [0] * dice.dices * dice.sides\n",
    "N = 10000\n",
    "for i in range(N): sides[dice.throw()-1] += 1\n",
    "sides = np.array(sides) / N\n",
    "bar(range(1,len(sides)+1), sides);\n",
    "ylabel('P(x)')\n",
    "xlabel('x')\n",
    "title('Probability distribution for one dice; N=10,000');"
   ]
  },
  {
   "cell_type": "markdown",
   "metadata": {},
   "source": [
    "### Advanced: two dice with six sides"
   ]
  },
  {
   "cell_type": "markdown",
   "metadata": {},
   "source": [
    "Monopoly is played with two dices. This will the following probability distribution:"
   ]
  },
  {
   "cell_type": "code",
   "execution_count": 23,
   "metadata": {},
   "outputs": [
    {
     "data": {
      "image/png": "[encoded data removed]",
      "text/plain": [
       "<matplotlib.figure.Figure at 0x18c1996b358>"
      ]
     },
     "metadata": {},
     "output_type": "display_data"
    }
   ],
   "source": [
    "dice = Dice(2)\n",
    "sides = [0] * dice.dices * dice.sides\n",
    "N = 10000\n",
    "for i in range(N): sides[dice.throw()-1] += 1\n",
    "sides = np.array(sides) / N\n",
    "bar(range(1,len(sides)+1), sides);\n",
    "ylabel('P(x)')\n",
    "xlabel('x')\n",
    "title('Probability distribution for two dices; N=10,000');"
   ]
  },
  {
   "cell_type": "markdown",
   "metadata": {},
   "source": [
    "## Monopoly simulation"
   ]
  },
  {
   "cell_type": "markdown",
   "metadata": {},
   "source": [
    "We are playing a simplified version of Monopoly. We will not keep track of money. There will only be one player. If a player goes to jail, the player can continue immediately on the next turn. We will keep track of the card decks. The game will be played with $2$ dices. We only count when we land on a square. If we are moved to jail for example, the next round will continue from that new position."
   ]
  },
  {
   "cell_type": "markdown",
   "metadata": {},
   "source": [
    "### Algorithm"
   ]
  },
  {
   "cell_type": "markdown",
   "metadata": {},
   "source": [
    "Here we are going to simulate a game for $N$ amount of rounds. The game algorithm is simple:\n",
    "\n",
    "1. Roll the dices (there are $2$ dices with $6$ squares)\n",
    "2. Move to the new position\n",
    "3. Increment the square counter for that position\n",
    "4. Check and handle go to jail\n",
    "5. Check and handle community chest\n",
    "6. Check and handle chance"
   ]
  },
  {
   "cell_type": "markdown",
   "metadata": {},
   "source": [
    "### Modulo arithmetic for position tracking"
   ]
  },
  {
   "cell_type": "markdown",
   "metadata": {},
   "source": [
    "We can easily keep track of our position with modulo arithemetic. Let $C$ be our position (or `index`), $d$ the result from throwing the dice, and $n$ the current round. To determine our new position we calculate:\n",
    "\n",
    "$$ C_{n+1} \\equiv C_n+d \\pmod{40}$$"
   ]
  },
  {
   "cell_type": "markdown",
   "metadata": {},
   "source": [
    "The modulo is $40$ because that are the total amount of squares."
   ]
  },
  {
   "cell_type": "markdown",
   "metadata": {},
   "source": [
    "### Implementation"
   ]
  },
  {
   "cell_type": "markdown",
   "metadata": {},
   "source": [
    "Below is the implementation for the Monopoly simulation."
   ]
  },
  {
   "cell_type": "code",
   "execution_count": 24,
   "metadata": {},
   "outputs": [],
   "source": [
    "dice = Dice(2)\n",
    "community_deck = CommunityDeck()\n",
    "chance_deck = ChanceDeck()\n",
    "\n",
    "index = 0 # position\n",
    "total_squares = len(squares_labels)\n",
    "squares = [0] * total_squares\n",
    "\n",
    "rounds = 1000000 # N\n",
    "\n",
    "for i in range(rounds):\n",
    "    \n",
    "    # Throw the dice and move our position on the board.\n",
    "    steps = dice.throw()\n",
    "    index = (index + steps) % total_squares\n",
    "    \n",
    "    # We landed on go to jail.\n",
    "    if squares_labels[index] is 'gtj': \n",
    "        index = squares_labels.index('jail')\n",
    "    \n",
    "    # We landed on the community card.\n",
    "    if squares_labels[index] in ['cc1', 'cc2', 'cc3']:\n",
    "        card = community_deck.draw_card()\n",
    "        if card is 'gtg': index = squares_labels.index('start')\n",
    "        if card is 'gtj': index = squares_labels.index('jail')\n",
    "        if card is 'gb2': \n",
    "            if index >= 2: index -= 2\n",
    "            if index < 2: index = total_squares-abs(index-2)-1\n",
    "    \n",
    "    # We landed on the chance card.\n",
    "    if squares_labels[index] in ['c1', 'c2', 'c3']:\n",
    "        card = chance_deck.draw_card()\n",
    "        if card is 'gtg': index = squares_labels.index('start')\n",
    "        if card is 'gtj': index = squares_labels.index('jail')\n",
    "        if card is 'r3': index = squares_labels.index('r3')\n",
    "        if card is 'gb3':\n",
    "            if index >= 3: index -= 3\n",
    "            if index < 3: index = total_squares-abs(index-3)-1\n",
    "                \n",
    "    # Update the counter\n",
    "    squares[index] += 1"
   ]
  },
  {
   "cell_type": "markdown",
   "metadata": {},
   "source": [
    "It takes around $2.7$ seconds to run a game when $N=1,000,000$. Because there is only one loop the algorithm will scale linearly."
   ]
  },
  {
   "cell_type": "markdown",
   "metadata": {},
   "source": [
    "## Probability statistics"
   ]
  },
  {
   "cell_type": "markdown",
   "metadata": {},
   "source": [
    "Now we can proceed to analyze our results."
   ]
  },
  {
   "cell_type": "markdown",
   "metadata": {},
   "source": [
    "### Determining probabilities"
   ]
  },
  {
   "cell_type": "markdown",
   "metadata": {},
   "source": [
    "With the number of times that each square is visited we can calculate the probabilities. The probability that a square is visited is:\n",
    "\n",
    "$$ P(\\bar{x}=x) = \\dfrac{\\text{Times visited}}{\\text{# of rounds}} $$"
   ]
  },
  {
   "cell_type": "markdown",
   "metadata": {},
   "source": [
    "We can calculate the expected value for each square in terms of money with:"
   ]
  },
  {
   "cell_type": "markdown",
   "metadata": {},
   "source": [
    "$$ E(\\bar{k}) = P(\\bar{x}=x)\\cdot\\text{Rent} $$"
   ]
  },
  {
   "cell_type": "markdown",
   "metadata": {},
   "source": [
    "We also want to create a `DataFrame` in Python to easily keep track of everything."
   ]
  },
  {
   "cell_type": "code",
   "execution_count": 25,
   "metadata": {
    "scrolled": false
   },
   "outputs": [],
   "source": [
    "import pandas as pd\n",
    "df = pd.DataFrame(index=range(total_squares))\n",
    "df['Square'] = squares_labels\n",
    "df['Description'] = squares_description\n",
    "df['Purchasable'] = squares_purchasable\n",
    "df['Rent'] = squares_rent\n",
    "df['Visited'] = squares\n",
    "df['Probability'] = df['Visited'] / rounds\n",
    "df['Aggregate'] = squares_aggregate\n",
    "df['Expected Value'] = df['Probability'] * df['Rent']"
   ]
  },
  {
   "cell_type": "markdown",
   "metadata": {},
   "source": [
    "We can calculate a quick summary about the data:"
   ]
  },
  {
   "cell_type": "code",
   "execution_count": 26,
   "metadata": {},
   "outputs": [
    {
     "name": "stdout",
     "output_type": "stream",
     "text": [
      "Total rounds: 1000000\n",
      "Visited avg:  25000.0\n",
      "Visited min:  0\n",
      "Visited max:  58959\n",
      "Visited std:  7520.74\n"
     ]
    }
   ],
   "source": [
    "print('Total rounds: {}'.format(rounds))\n",
    "print('Visited avg:  {}'.format(df['Visited'].mean()))\n",
    "print('Visited min:  {}'.format(df['Visited'].min()))\n",
    "print('Visited max:  {}'.format(df['Visited'].max()))\n",
    "print('Visited std:  {:.2f}'.format(df['Visited'].std()))"
   ]
  },
  {
   "cell_type": "markdown",
   "metadata": {},
   "source": [
    "### Plot of probabilities by square"
   ]
  },
  {
   "cell_type": "markdown",
   "metadata": {},
   "source": [
    "If we sort these values descending on the probability, we can easily see which squares have the highest probability to be visited."
   ]
  },
  {
   "cell_type": "code",
   "execution_count": 27,
   "metadata": {},
   "outputs": [
    {
     "data": {
      "image/png": "[encoded data removed]",
      "text/plain": [
       "<matplotlib.figure.Figure at 0x18c07633320>"
      ]
     },
     "metadata": {},
     "output_type": "display_data"
    }
   ],
   "source": [
    "plt.rc('xtick', labelsize=16) \n",
    "plt.rc('ytick', labelsize=14) \n",
    "df[['Description', 'Probability']].sort_values(by='Probability', ascending=False)\\\n",
    "    .plot(kind='bar', figsize=(20,5))\n",
    "plt.xticks(range(total_squares), df[['Description', 'Probability']]\n",
    "    .sort_values(by='Probability', ascending=False)['Description'])\n",
    "plt.ylabel('Probability')\n",
    "plt.title('Probability by Square');"
   ]
  },
  {
   "cell_type": "markdown",
   "metadata": {},
   "source": [
    "Here we can conclude that `Orange 1` is the most visited square. Also notice that `Orange 2` and `Orange 3` are pretty high. It seems that `Orange` is the best street to have.\n",
    "\n",
    "### Table of probabilities by square\n",
    "\n",
    "Below is the full table with all the squares and their corresponding values."
   ]
  },
  {
   "cell_type": "code",
   "execution_count": 28,
   "metadata": {},
   "outputs": [
    {
     "data": {
      "text/html": [
       "<div>\n",
       "<style scoped>\n",
       "    .dataframe tbody tr th:only-of-type {\n",
       "        vertical-align: middle;\n",
       "    }\n",
       "\n",
       "    .dataframe tbody tr th {\n",
       "        vertical-align: top;\n",
       "    }\n",
       "\n",
       "    .dataframe thead th {\n",
       "        text-align: right;\n",
       "    }\n",
       "</style>\n",
       "<table border=\"1\" class=\"dataframe\">\n",
       "  <thead>\n",
       "    <tr style=\"text-align: right;\">\n",
       "      <th></th>\n",
       "      <th>Square</th>\n",
       "      <th>Description</th>\n",
       "      <th>Probability</th>\n",
       "    </tr>\n",
       "  </thead>\n",
       "  <tbody>\n",
       "    <tr>\n",
       "      <th>10</th>\n",
       "      <td>jail</td>\n",
       "      <td>Jail</td>\n",
       "      <td>0.058959</td>\n",
       "    </tr>\n",
       "    <tr>\n",
       "      <th>0</th>\n",
       "      <td>start</td>\n",
       "      <td>Start</td>\n",
       "      <td>0.031544</td>\n",
       "    </tr>\n",
       "    <tr>\n",
       "      <th>24</th>\n",
       "      <td>r3</td>\n",
       "      <td>Red 3</td>\n",
       "      <td>0.031254</td>\n",
       "    </tr>\n",
       "    <tr>\n",
       "      <th>19</th>\n",
       "      <td>o3</td>\n",
       "      <td>Orange 3</td>\n",
       "      <td>0.029749</td>\n",
       "    </tr>\n",
       "    <tr>\n",
       "      <th>31</th>\n",
       "      <td>g1</td>\n",
       "      <td>Green 1</td>\n",
       "      <td>0.028638</td>\n",
       "    </tr>\n",
       "    <tr>\n",
       "      <th>18</th>\n",
       "      <td>o2</td>\n",
       "      <td>Orange 2</td>\n",
       "      <td>0.028514</td>\n",
       "    </tr>\n",
       "    <tr>\n",
       "      <th>15</th>\n",
       "      <td>ts2</td>\n",
       "      <td>Train Station 2</td>\n",
       "      <td>0.028175</td>\n",
       "    </tr>\n",
       "    <tr>\n",
       "      <th>20</th>\n",
       "      <td>p</td>\n",
       "      <td>Free Parking</td>\n",
       "      <td>0.027751</td>\n",
       "    </tr>\n",
       "    <tr>\n",
       "      <th>16</th>\n",
       "      <td>o1</td>\n",
       "      <td>Orange 1</td>\n",
       "      <td>0.027703</td>\n",
       "    </tr>\n",
       "    <tr>\n",
       "      <th>21</th>\n",
       "      <td>r1</td>\n",
       "      <td>Red 1</td>\n",
       "      <td>0.027107</td>\n",
       "    </tr>\n",
       "    <tr>\n",
       "      <th>26</th>\n",
       "      <td>y1</td>\n",
       "      <td>Yellow 1</td>\n",
       "      <td>0.027012</td>\n",
       "    </tr>\n",
       "    <tr>\n",
       "      <th>27</th>\n",
       "      <td>y2</td>\n",
       "      <td>Yellow 2</td>\n",
       "      <td>0.026894</td>\n",
       "    </tr>\n",
       "    <tr>\n",
       "      <th>25</th>\n",
       "      <td>ts3</td>\n",
       "      <td>Train Station 3</td>\n",
       "      <td>0.026868</td>\n",
       "    </tr>\n",
       "    <tr>\n",
       "      <th>29</th>\n",
       "      <td>y3</td>\n",
       "      <td>Yellow 3</td>\n",
       "      <td>0.026722</td>\n",
       "    </tr>\n",
       "    <tr>\n",
       "      <th>28</th>\n",
       "      <td>ww</td>\n",
       "      <td>Water Works</td>\n",
       "      <td>0.026641</td>\n",
       "    </tr>\n",
       "    <tr>\n",
       "      <th>23</th>\n",
       "      <td>r2</td>\n",
       "      <td>Red 2</td>\n",
       "      <td>0.026476</td>\n",
       "    </tr>\n",
       "    <tr>\n",
       "      <th>32</th>\n",
       "      <td>g2</td>\n",
       "      <td>Green 2</td>\n",
       "      <td>0.026196</td>\n",
       "    </tr>\n",
       "    <tr>\n",
       "      <th>14</th>\n",
       "      <td>p3</td>\n",
       "      <td>Purple 3</td>\n",
       "      <td>0.025368</td>\n",
       "    </tr>\n",
       "    <tr>\n",
       "      <th>34</th>\n",
       "      <td>g3</td>\n",
       "      <td>Green 3</td>\n",
       "      <td>0.024883</td>\n",
       "    </tr>\n",
       "    <tr>\n",
       "      <th>13</th>\n",
       "      <td>p2</td>\n",
       "      <td>Purple 2</td>\n",
       "      <td>0.024342</td>\n",
       "    </tr>\n",
       "    <tr>\n",
       "      <th>4</th>\n",
       "      <td>it</td>\n",
       "      <td>Income Tax</td>\n",
       "      <td>0.024172</td>\n",
       "    </tr>\n",
       "    <tr>\n",
       "      <th>12</th>\n",
       "      <td>ec</td>\n",
       "      <td>Electric Company</td>\n",
       "      <td>0.023830</td>\n",
       "    </tr>\n",
       "    <tr>\n",
       "      <th>35</th>\n",
       "      <td>ts4</td>\n",
       "      <td>Train Station 4</td>\n",
       "      <td>0.023823</td>\n",
       "    </tr>\n",
       "    <tr>\n",
       "      <th>17</th>\n",
       "      <td>cc2</td>\n",
       "      <td>Community Chest 2</td>\n",
       "      <td>0.023620</td>\n",
       "    </tr>\n",
       "    <tr>\n",
       "      <th>37</th>\n",
       "      <td>db1</td>\n",
       "      <td>Dark Blue 1</td>\n",
       "      <td>0.023511</td>\n",
       "    </tr>\n",
       "    <tr>\n",
       "      <th>5</th>\n",
       "      <td>t1</td>\n",
       "      <td>Train Station 1</td>\n",
       "      <td>0.023361</td>\n",
       "    </tr>\n",
       "    <tr>\n",
       "      <th>9</th>\n",
       "      <td>lb3</td>\n",
       "      <td>Light Blue 3</td>\n",
       "      <td>0.023265</td>\n",
       "    </tr>\n",
       "    <tr>\n",
       "      <th>6</th>\n",
       "      <td>lb1</td>\n",
       "      <td>Light Blue 1</td>\n",
       "      <td>0.023261</td>\n",
       "    </tr>\n",
       "    <tr>\n",
       "      <th>8</th>\n",
       "      <td>lb2</td>\n",
       "      <td>Light Blue 2</td>\n",
       "      <td>0.023118</td>\n",
       "    </tr>\n",
       "    <tr>\n",
       "      <th>3</th>\n",
       "      <td>b2</td>\n",
       "      <td>Brown 2</td>\n",
       "      <td>0.022886</td>\n",
       "    </tr>\n",
       "    <tr>\n",
       "      <th>11</th>\n",
       "      <td>p1</td>\n",
       "      <td>Purple 1</td>\n",
       "      <td>0.022362</td>\n",
       "    </tr>\n",
       "    <tr>\n",
       "      <th>38</th>\n",
       "      <td>st</td>\n",
       "      <td>Super Tax</td>\n",
       "      <td>0.022215</td>\n",
       "    </tr>\n",
       "    <tr>\n",
       "      <th>39</th>\n",
       "      <td>db2</td>\n",
       "      <td>Dark Blue 2</td>\n",
       "      <td>0.022193</td>\n",
       "    </tr>\n",
       "    <tr>\n",
       "      <th>33</th>\n",
       "      <td>cc3</td>\n",
       "      <td>Community Chest 3</td>\n",
       "      <td>0.022140</td>\n",
       "    </tr>\n",
       "    <tr>\n",
       "      <th>1</th>\n",
       "      <td>b1</td>\n",
       "      <td>Brown 1</td>\n",
       "      <td>0.022139</td>\n",
       "    </tr>\n",
       "    <tr>\n",
       "      <th>22</th>\n",
       "      <td>c2</td>\n",
       "      <td>Chance 2</td>\n",
       "      <td>0.020275</td>\n",
       "    </tr>\n",
       "    <tr>\n",
       "      <th>2</th>\n",
       "      <td>cc1</td>\n",
       "      <td>Community Chest 1</td>\n",
       "      <td>0.018402</td>\n",
       "    </tr>\n",
       "    <tr>\n",
       "      <th>7</th>\n",
       "      <td>c1</td>\n",
       "      <td>Chance 1</td>\n",
       "      <td>0.017440</td>\n",
       "    </tr>\n",
       "    <tr>\n",
       "      <th>36</th>\n",
       "      <td>c3</td>\n",
       "      <td>Chance 3</td>\n",
       "      <td>0.017191</td>\n",
       "    </tr>\n",
       "    <tr>\n",
       "      <th>30</th>\n",
       "      <td>gtj</td>\n",
       "      <td>Go to Jail</td>\n",
       "      <td>0.000000</td>\n",
       "    </tr>\n",
       "  </tbody>\n",
       "</table>\n",
       "</div>"
      ],
      "text/plain": [
       "   Square        Description  Probability\n",
       "10   jail               Jail     0.058959\n",
       "0   start              Start     0.031544\n",
       "24     r3              Red 3     0.031254\n",
       "19     o3           Orange 3     0.029749\n",
       "31     g1            Green 1     0.028638\n",
       "18     o2           Orange 2     0.028514\n",
       "15    ts2    Train Station 2     0.028175\n",
       "20      p       Free Parking     0.027751\n",
       "16     o1           Orange 1     0.027703\n",
       "21     r1              Red 1     0.027107\n",
       "26     y1           Yellow 1     0.027012\n",
       "27     y2           Yellow 2     0.026894\n",
       "25    ts3    Train Station 3     0.026868\n",
       "29     y3           Yellow 3     0.026722\n",
       "28     ww        Water Works     0.026641\n",
       "23     r2              Red 2     0.026476\n",
       "32     g2            Green 2     0.026196\n",
       "14     p3           Purple 3     0.025368\n",
       "34     g3            Green 3     0.024883\n",
       "13     p2           Purple 2     0.024342\n",
       "4      it         Income Tax     0.024172\n",
       "12     ec   Electric Company     0.023830\n",
       "35    ts4    Train Station 4     0.023823\n",
       "17    cc2  Community Chest 2     0.023620\n",
       "37    db1        Dark Blue 1     0.023511\n",
       "5      t1    Train Station 1     0.023361\n",
       "9     lb3       Light Blue 3     0.023265\n",
       "6     lb1       Light Blue 1     0.023261\n",
       "8     lb2       Light Blue 2     0.023118\n",
       "3      b2            Brown 2     0.022886\n",
       "11     p1           Purple 1     0.022362\n",
       "38     st          Super Tax     0.022215\n",
       "39    db2        Dark Blue 2     0.022193\n",
       "33    cc3  Community Chest 3     0.022140\n",
       "1      b1            Brown 1     0.022139\n",
       "22     c2           Chance 2     0.020275\n",
       "2     cc1  Community Chest 1     0.018402\n",
       "7      c1           Chance 1     0.017440\n",
       "36     c3           Chance 3     0.017191\n",
       "30    gtj         Go to Jail     0.000000"
      ]
     },
     "execution_count": 28,
     "metadata": {},
     "output_type": "execute_result"
    }
   ],
   "source": [
    "df.loc[:, df.columns.isin(['Square', 'Description', 'Probability'])].sort_values(by='Probability', ascending=False)"
   ]
  },
  {
   "cell_type": "markdown",
   "metadata": {},
   "source": [
    "### Top 10 highest probability squares"
   ]
  },
  {
   "cell_type": "markdown",
   "metadata": {},
   "source": [
    "The top 10 squares that have the highest probability for a player to land on are:"
   ]
  },
  {
   "cell_type": "code",
   "execution_count": 29,
   "metadata": {},
   "outputs": [
    {
     "data": {
      "text/html": [
       "<div>\n",
       "<style scoped>\n",
       "    .dataframe tbody tr th:only-of-type {\n",
       "        vertical-align: middle;\n",
       "    }\n",
       "\n",
       "    .dataframe tbody tr th {\n",
       "        vertical-align: top;\n",
       "    }\n",
       "\n",
       "    .dataframe thead th {\n",
       "        text-align: right;\n",
       "    }\n",
       "</style>\n",
       "<table border=\"1\" class=\"dataframe\">\n",
       "  <thead>\n",
       "    <tr style=\"text-align: right;\">\n",
       "      <th></th>\n",
       "      <th>Square</th>\n",
       "      <th>Description</th>\n",
       "      <th>Probability</th>\n",
       "    </tr>\n",
       "  </thead>\n",
       "  <tbody>\n",
       "    <tr>\n",
       "      <th>24</th>\n",
       "      <td>r3</td>\n",
       "      <td>Red 3</td>\n",
       "      <td>0.031254</td>\n",
       "    </tr>\n",
       "    <tr>\n",
       "      <th>19</th>\n",
       "      <td>o3</td>\n",
       "      <td>Orange 3</td>\n",
       "      <td>0.029749</td>\n",
       "    </tr>\n",
       "    <tr>\n",
       "      <th>31</th>\n",
       "      <td>g1</td>\n",
       "      <td>Green 1</td>\n",
       "      <td>0.028638</td>\n",
       "    </tr>\n",
       "    <tr>\n",
       "      <th>18</th>\n",
       "      <td>o2</td>\n",
       "      <td>Orange 2</td>\n",
       "      <td>0.028514</td>\n",
       "    </tr>\n",
       "    <tr>\n",
       "      <th>15</th>\n",
       "      <td>ts2</td>\n",
       "      <td>Train Station 2</td>\n",
       "      <td>0.028175</td>\n",
       "    </tr>\n",
       "    <tr>\n",
       "      <th>16</th>\n",
       "      <td>o1</td>\n",
       "      <td>Orange 1</td>\n",
       "      <td>0.027703</td>\n",
       "    </tr>\n",
       "    <tr>\n",
       "      <th>21</th>\n",
       "      <td>r1</td>\n",
       "      <td>Red 1</td>\n",
       "      <td>0.027107</td>\n",
       "    </tr>\n",
       "    <tr>\n",
       "      <th>26</th>\n",
       "      <td>y1</td>\n",
       "      <td>Yellow 1</td>\n",
       "      <td>0.027012</td>\n",
       "    </tr>\n",
       "    <tr>\n",
       "      <th>27</th>\n",
       "      <td>y2</td>\n",
       "      <td>Yellow 2</td>\n",
       "      <td>0.026894</td>\n",
       "    </tr>\n",
       "    <tr>\n",
       "      <th>25</th>\n",
       "      <td>ts3</td>\n",
       "      <td>Train Station 3</td>\n",
       "      <td>0.026868</td>\n",
       "    </tr>\n",
       "  </tbody>\n",
       "</table>\n",
       "</div>"
      ],
      "text/plain": [
       "   Square      Description  Probability\n",
       "24     r3            Red 3     0.031254\n",
       "19     o3         Orange 3     0.029749\n",
       "31     g1          Green 1     0.028638\n",
       "18     o2         Orange 2     0.028514\n",
       "15    ts2  Train Station 2     0.028175\n",
       "16     o1         Orange 1     0.027703\n",
       "21     r1            Red 1     0.027107\n",
       "26     y1         Yellow 1     0.027012\n",
       "27     y2         Yellow 2     0.026894\n",
       "25    ts3  Train Station 3     0.026868"
      ]
     },
     "execution_count": 29,
     "metadata": {},
     "output_type": "execute_result"
    }
   ],
   "source": [
    "df.loc[df['Purchasable'] == True, df.columns.isin(['Square', 'Description', 'Probability'])]\\\n",
    "    .sort_values('Probability', ascending=False).head(10)"
   ]
  },
  {
   "cell_type": "markdown",
   "metadata": {},
   "source": [
    "The total probability for all 10 squares is:"
   ]
  },
  {
   "cell_type": "code",
   "execution_count": 30,
   "metadata": {},
   "outputs": [
    {
     "data": {
      "text/plain": [
       "0.281914"
      ]
     },
     "execution_count": 30,
     "metadata": {},
     "output_type": "execute_result"
    }
   ],
   "source": [
    "df.loc[df['Purchasable'] == True].sort_values('Probability', ascending=False)\\\n",
    "    .head(10)['Probability'].sum()"
   ]
  },
  {
   "cell_type": "markdown",
   "metadata": {},
   "source": [
    "### Plot of expected value per turn"
   ]
  },
  {
   "cell_type": "markdown",
   "metadata": {},
   "source": [
    "Now we want to know how much each square generates per turn with the found probabilities and the rent the player needs to pay when we land on it. First we make a selection to only get the purchasable squares. "
   ]
  },
  {
   "cell_type": "code",
   "execution_count": 31,
   "metadata": {},
   "outputs": [],
   "source": [
    "rentable_df = pd.DataFrame(df.loc[df['Purchasable'] == True]).reindex()"
   ]
  },
  {
   "cell_type": "markdown",
   "metadata": {},
   "source": [
    "Plotting this gives:"
   ]
  },
  {
   "cell_type": "code",
   "execution_count": 32,
   "metadata": {},
   "outputs": [
    {
     "data": {
      "image/png": "[encoded data removed]",
      "text/plain": [
       "<matplotlib.figure.Figure at 0x18c1c637cc0>"
      ]
     },
     "metadata": {},
     "output_type": "display_data"
    }
   ],
   "source": [
    "plt.rc('xtick', labelsize=16) \n",
    "plt.rc('ytick', labelsize=14) \n",
    "rentable_df[['Description', 'Expected Value']].sort_values(by='Expected Value', ascending=False)\\\n",
    "    .plot(kind='bar', figsize=(14,5))\n",
    "plt.xticks(range(len(rentable_df.index)), rentable_df[['Description', 'Expected Value']]\n",
    "    .sort_values(by='Expected Value', ascending=False)['Description'])\n",
    "plt.ylabel('Expected Value')\n",
    "plt.title('Expected Value by Square');"
   ]
  },
  {
   "cell_type": "markdown",
   "metadata": {},
   "source": [
    "### Table of expected value per turn "
   ]
  },
  {
   "cell_type": "markdown",
   "metadata": {},
   "source": [
    "The full table of expected values is below."
   ]
  },
  {
   "cell_type": "code",
   "execution_count": 33,
   "metadata": {},
   "outputs": [
    {
     "data": {
      "text/html": [
       "<div>\n",
       "<style scoped>\n",
       "    .dataframe tbody tr th:only-of-type {\n",
       "        vertical-align: middle;\n",
       "    }\n",
       "\n",
       "    .dataframe tbody tr th {\n",
       "        vertical-align: top;\n",
       "    }\n",
       "\n",
       "    .dataframe thead th {\n",
       "        text-align: right;\n",
       "    }\n",
       "</style>\n",
       "<table border=\"1\" class=\"dataframe\">\n",
       "  <thead>\n",
       "    <tr style=\"text-align: right;\">\n",
       "      <th></th>\n",
       "      <th>Square</th>\n",
       "      <th>Description</th>\n",
       "      <th>Rent</th>\n",
       "      <th>Probability</th>\n",
       "      <th>Expected Value</th>\n",
       "    </tr>\n",
       "  </thead>\n",
       "  <tbody>\n",
       "    <tr>\n",
       "      <th>39</th>\n",
       "      <td>db2</td>\n",
       "      <td>Dark Blue 2</td>\n",
       "      <td>50.0</td>\n",
       "      <td>0.022193</td>\n",
       "      <td>1.109650</td>\n",
       "    </tr>\n",
       "    <tr>\n",
       "      <th>37</th>\n",
       "      <td>db1</td>\n",
       "      <td>Dark Blue 1</td>\n",
       "      <td>35.0</td>\n",
       "      <td>0.023511</td>\n",
       "      <td>0.822885</td>\n",
       "    </tr>\n",
       "    <tr>\n",
       "      <th>31</th>\n",
       "      <td>g1</td>\n",
       "      <td>Green 1</td>\n",
       "      <td>26.0</td>\n",
       "      <td>0.028638</td>\n",
       "      <td>0.744588</td>\n",
       "    </tr>\n",
       "    <tr>\n",
       "      <th>15</th>\n",
       "      <td>ts2</td>\n",
       "      <td>Train Station 2</td>\n",
       "      <td>25.0</td>\n",
       "      <td>0.028175</td>\n",
       "      <td>0.704375</td>\n",
       "    </tr>\n",
       "    <tr>\n",
       "      <th>34</th>\n",
       "      <td>g3</td>\n",
       "      <td>Green 3</td>\n",
       "      <td>28.0</td>\n",
       "      <td>0.024883</td>\n",
       "      <td>0.696724</td>\n",
       "    </tr>\n",
       "    <tr>\n",
       "      <th>32</th>\n",
       "      <td>g2</td>\n",
       "      <td>Green 2</td>\n",
       "      <td>26.0</td>\n",
       "      <td>0.026196</td>\n",
       "      <td>0.681096</td>\n",
       "    </tr>\n",
       "    <tr>\n",
       "      <th>25</th>\n",
       "      <td>ts3</td>\n",
       "      <td>Train Station 3</td>\n",
       "      <td>25.0</td>\n",
       "      <td>0.026868</td>\n",
       "      <td>0.671700</td>\n",
       "    </tr>\n",
       "    <tr>\n",
       "      <th>29</th>\n",
       "      <td>y3</td>\n",
       "      <td>Yellow 3</td>\n",
       "      <td>24.0</td>\n",
       "      <td>0.026722</td>\n",
       "      <td>0.641328</td>\n",
       "    </tr>\n",
       "    <tr>\n",
       "      <th>24</th>\n",
       "      <td>r3</td>\n",
       "      <td>Red 3</td>\n",
       "      <td>20.0</td>\n",
       "      <td>0.031254</td>\n",
       "      <td>0.625080</td>\n",
       "    </tr>\n",
       "    <tr>\n",
       "      <th>35</th>\n",
       "      <td>ts4</td>\n",
       "      <td>Train Station 4</td>\n",
       "      <td>25.0</td>\n",
       "      <td>0.023823</td>\n",
       "      <td>0.595575</td>\n",
       "    </tr>\n",
       "    <tr>\n",
       "      <th>26</th>\n",
       "      <td>y1</td>\n",
       "      <td>Yellow 1</td>\n",
       "      <td>22.0</td>\n",
       "      <td>0.027012</td>\n",
       "      <td>0.594264</td>\n",
       "    </tr>\n",
       "    <tr>\n",
       "      <th>27</th>\n",
       "      <td>y2</td>\n",
       "      <td>Yellow 2</td>\n",
       "      <td>22.0</td>\n",
       "      <td>0.026894</td>\n",
       "      <td>0.591668</td>\n",
       "    </tr>\n",
       "    <tr>\n",
       "      <th>5</th>\n",
       "      <td>t1</td>\n",
       "      <td>Train Station 1</td>\n",
       "      <td>25.0</td>\n",
       "      <td>0.023361</td>\n",
       "      <td>0.584025</td>\n",
       "    </tr>\n",
       "    <tr>\n",
       "      <th>21</th>\n",
       "      <td>r1</td>\n",
       "      <td>Red 1</td>\n",
       "      <td>18.0</td>\n",
       "      <td>0.027107</td>\n",
       "      <td>0.487926</td>\n",
       "    </tr>\n",
       "    <tr>\n",
       "      <th>23</th>\n",
       "      <td>r2</td>\n",
       "      <td>Red 2</td>\n",
       "      <td>18.0</td>\n",
       "      <td>0.026476</td>\n",
       "      <td>0.476568</td>\n",
       "    </tr>\n",
       "    <tr>\n",
       "      <th>19</th>\n",
       "      <td>o3</td>\n",
       "      <td>Orange 3</td>\n",
       "      <td>16.0</td>\n",
       "      <td>0.029749</td>\n",
       "      <td>0.475984</td>\n",
       "    </tr>\n",
       "    <tr>\n",
       "      <th>18</th>\n",
       "      <td>o2</td>\n",
       "      <td>Orange 2</td>\n",
       "      <td>14.0</td>\n",
       "      <td>0.028514</td>\n",
       "      <td>0.399196</td>\n",
       "    </tr>\n",
       "    <tr>\n",
       "      <th>16</th>\n",
       "      <td>o1</td>\n",
       "      <td>Orange 1</td>\n",
       "      <td>14.0</td>\n",
       "      <td>0.027703</td>\n",
       "      <td>0.387842</td>\n",
       "    </tr>\n",
       "    <tr>\n",
       "      <th>28</th>\n",
       "      <td>ww</td>\n",
       "      <td>Water Works</td>\n",
       "      <td>14.0</td>\n",
       "      <td>0.026641</td>\n",
       "      <td>0.372974</td>\n",
       "    </tr>\n",
       "    <tr>\n",
       "      <th>12</th>\n",
       "      <td>ec</td>\n",
       "      <td>Electric Company</td>\n",
       "      <td>14.0</td>\n",
       "      <td>0.023830</td>\n",
       "      <td>0.333620</td>\n",
       "    </tr>\n",
       "    <tr>\n",
       "      <th>14</th>\n",
       "      <td>p3</td>\n",
       "      <td>Purple 3</td>\n",
       "      <td>12.0</td>\n",
       "      <td>0.025368</td>\n",
       "      <td>0.304416</td>\n",
       "    </tr>\n",
       "    <tr>\n",
       "      <th>13</th>\n",
       "      <td>p2</td>\n",
       "      <td>Purple 2</td>\n",
       "      <td>10.0</td>\n",
       "      <td>0.024342</td>\n",
       "      <td>0.243420</td>\n",
       "    </tr>\n",
       "    <tr>\n",
       "      <th>11</th>\n",
       "      <td>p1</td>\n",
       "      <td>Purple 1</td>\n",
       "      <td>10.0</td>\n",
       "      <td>0.022362</td>\n",
       "      <td>0.223620</td>\n",
       "    </tr>\n",
       "    <tr>\n",
       "      <th>9</th>\n",
       "      <td>lb3</td>\n",
       "      <td>Light Blue 3</td>\n",
       "      <td>8.0</td>\n",
       "      <td>0.023265</td>\n",
       "      <td>0.186120</td>\n",
       "    </tr>\n",
       "    <tr>\n",
       "      <th>6</th>\n",
       "      <td>lb1</td>\n",
       "      <td>Light Blue 1</td>\n",
       "      <td>6.0</td>\n",
       "      <td>0.023261</td>\n",
       "      <td>0.139566</td>\n",
       "    </tr>\n",
       "    <tr>\n",
       "      <th>8</th>\n",
       "      <td>lb2</td>\n",
       "      <td>Light Blue 2</td>\n",
       "      <td>6.0</td>\n",
       "      <td>0.023118</td>\n",
       "      <td>0.138708</td>\n",
       "    </tr>\n",
       "    <tr>\n",
       "      <th>3</th>\n",
       "      <td>b2</td>\n",
       "      <td>Brown 2</td>\n",
       "      <td>4.0</td>\n",
       "      <td>0.022886</td>\n",
       "      <td>0.091544</td>\n",
       "    </tr>\n",
       "    <tr>\n",
       "      <th>1</th>\n",
       "      <td>b1</td>\n",
       "      <td>Brown 1</td>\n",
       "      <td>2.0</td>\n",
       "      <td>0.022139</td>\n",
       "      <td>0.044278</td>\n",
       "    </tr>\n",
       "  </tbody>\n",
       "</table>\n",
       "</div>"
      ],
      "text/plain": [
       "   Square       Description  Rent  Probability  Expected Value\n",
       "39    db2       Dark Blue 2  50.0     0.022193        1.109650\n",
       "37    db1       Dark Blue 1  35.0     0.023511        0.822885\n",
       "31     g1           Green 1  26.0     0.028638        0.744588\n",
       "15    ts2   Train Station 2  25.0     0.028175        0.704375\n",
       "34     g3           Green 3  28.0     0.024883        0.696724\n",
       "32     g2           Green 2  26.0     0.026196        0.681096\n",
       "25    ts3   Train Station 3  25.0     0.026868        0.671700\n",
       "29     y3          Yellow 3  24.0     0.026722        0.641328\n",
       "24     r3             Red 3  20.0     0.031254        0.625080\n",
       "35    ts4   Train Station 4  25.0     0.023823        0.595575\n",
       "26     y1          Yellow 1  22.0     0.027012        0.594264\n",
       "27     y2          Yellow 2  22.0     0.026894        0.591668\n",
       "5      t1   Train Station 1  25.0     0.023361        0.584025\n",
       "21     r1             Red 1  18.0     0.027107        0.487926\n",
       "23     r2             Red 2  18.0     0.026476        0.476568\n",
       "19     o3          Orange 3  16.0     0.029749        0.475984\n",
       "18     o2          Orange 2  14.0     0.028514        0.399196\n",
       "16     o1          Orange 1  14.0     0.027703        0.387842\n",
       "28     ww       Water Works  14.0     0.026641        0.372974\n",
       "12     ec  Electric Company  14.0     0.023830        0.333620\n",
       "14     p3          Purple 3  12.0     0.025368        0.304416\n",
       "13     p2          Purple 2  10.0     0.024342        0.243420\n",
       "11     p1          Purple 1  10.0     0.022362        0.223620\n",
       "9     lb3      Light Blue 3   8.0     0.023265        0.186120\n",
       "6     lb1      Light Blue 1   6.0     0.023261        0.139566\n",
       "8     lb2      Light Blue 2   6.0     0.023118        0.138708\n",
       "3      b2           Brown 2   4.0     0.022886        0.091544\n",
       "1      b1           Brown 1   2.0     0.022139        0.044278"
      ]
     },
     "execution_count": 33,
     "metadata": {},
     "output_type": "execute_result"
    }
   ],
   "source": [
    "rentable_df.loc[:, rentable_df.columns.isin(['Square', 'Description', 'Rent', 'Probability', 'Expected Value'])]\\\n",
    "    .sort_values('Expected Value', ascending=False)"
   ]
  },
  {
   "cell_type": "markdown",
   "metadata": {},
   "source": [
    "## Grouped probability statistics"
   ]
  },
  {
   "cell_type": "markdown",
   "metadata": {},
   "source": [
    "We want to answer the following questions:\n",
    "\n",
    "1. What are the best streets to have?\n",
    "2. What is the probability to be in jail?\n",
    "3. What is the probability to draw a card?"
   ]
  },
  {
   "cell_type": "markdown",
   "metadata": {},
   "source": [
    "### Plot of probabilities by group"
   ]
  },
  {
   "cell_type": "markdown",
   "metadata": {},
   "source": [
    "To find what the probabilities are per street, chance, community chest, etc., we are going to aggregate the possibilities."
   ]
  },
  {
   "cell_type": "code",
   "execution_count": 34,
   "metadata": {},
   "outputs": [],
   "source": [
    "aggregated_df = pd.DataFrame(df.groupby(['Aggregate'])['Probability'].sum()).reset_index()"
   ]
  },
  {
   "cell_type": "markdown",
   "metadata": {},
   "source": [
    "Now we plot the aggregated probabilities."
   ]
  },
  {
   "cell_type": "code",
   "execution_count": 35,
   "metadata": {},
   "outputs": [
    {
     "data": {
      "image/png": "[encoded data removed]",
      "text/plain": [
       "<matplotlib.figure.Figure at 0x18c1bab7e48>"
      ]
     },
     "metadata": {},
     "output_type": "display_data"
    }
   ],
   "source": [
    "plt.rc('xtick', labelsize=16) \n",
    "plt.rc('ytick', labelsize=14) \n",
    "aggregated_df[['Aggregate', 'Probability']].sort_values(by='Probability', ascending=False)\\\n",
    "    .plot(kind='bar', figsize=(10,5))\n",
    "plt.xticks(range(len(aggregated_df.index)), aggregated_df[['Aggregate', 'Probability']]\n",
    "    .sort_values(by='Probability', ascending=False)['Aggregate'])\n",
    "plt.ylabel('Probability')\n",
    "plt.title('Probability by Group');"
   ]
  },
  {
   "cell_type": "markdown",
   "metadata": {},
   "source": [
    "### Table of probabilities by group"
   ]
  },
  {
   "cell_type": "markdown",
   "metadata": {},
   "source": [
    "A total overview of all the probabilities can be found in the table below:"
   ]
  },
  {
   "cell_type": "code",
   "execution_count": 36,
   "metadata": {},
   "outputs": [
    {
     "data": {
      "text/html": [
       "<div>\n",
       "<style scoped>\n",
       "    .dataframe tbody tr th:only-of-type {\n",
       "        vertical-align: middle;\n",
       "    }\n",
       "\n",
       "    .dataframe tbody tr th {\n",
       "        vertical-align: top;\n",
       "    }\n",
       "\n",
       "    .dataframe thead th {\n",
       "        text-align: right;\n",
       "    }\n",
       "</style>\n",
       "<table border=\"1\" class=\"dataframe\">\n",
       "  <thead>\n",
       "    <tr style=\"text-align: right;\">\n",
       "      <th></th>\n",
       "      <th>Aggregate</th>\n",
       "      <th>Probability</th>\n",
       "    </tr>\n",
       "  </thead>\n",
       "  <tbody>\n",
       "    <tr>\n",
       "      <th>15</th>\n",
       "      <td>Train Station</td>\n",
       "      <td>0.102227</td>\n",
       "    </tr>\n",
       "    <tr>\n",
       "      <th>10</th>\n",
       "      <td>Orange</td>\n",
       "      <td>0.085966</td>\n",
       "    </tr>\n",
       "    <tr>\n",
       "      <th>12</th>\n",
       "      <td>Red</td>\n",
       "      <td>0.084837</td>\n",
       "    </tr>\n",
       "    <tr>\n",
       "      <th>17</th>\n",
       "      <td>Yellow</td>\n",
       "      <td>0.080628</td>\n",
       "    </tr>\n",
       "    <tr>\n",
       "      <th>6</th>\n",
       "      <td>Green</td>\n",
       "      <td>0.079717</td>\n",
       "    </tr>\n",
       "    <tr>\n",
       "      <th>11</th>\n",
       "      <td>Purple</td>\n",
       "      <td>0.072072</td>\n",
       "    </tr>\n",
       "    <tr>\n",
       "      <th>9</th>\n",
       "      <td>Light Blue</td>\n",
       "      <td>0.069644</td>\n",
       "    </tr>\n",
       "    <tr>\n",
       "      <th>2</th>\n",
       "      <td>Community Chest</td>\n",
       "      <td>0.064162</td>\n",
       "    </tr>\n",
       "    <tr>\n",
       "      <th>8</th>\n",
       "      <td>Jail</td>\n",
       "      <td>0.058959</td>\n",
       "    </tr>\n",
       "    <tr>\n",
       "      <th>1</th>\n",
       "      <td>Chance</td>\n",
       "      <td>0.054906</td>\n",
       "    </tr>\n",
       "    <tr>\n",
       "      <th>16</th>\n",
       "      <td>Utilities</td>\n",
       "      <td>0.050471</td>\n",
       "    </tr>\n",
       "    <tr>\n",
       "      <th>3</th>\n",
       "      <td>Dark Blue</td>\n",
       "      <td>0.045704</td>\n",
       "    </tr>\n",
       "    <tr>\n",
       "      <th>0</th>\n",
       "      <td>Brown</td>\n",
       "      <td>0.045025</td>\n",
       "    </tr>\n",
       "    <tr>\n",
       "      <th>13</th>\n",
       "      <td>Start</td>\n",
       "      <td>0.031544</td>\n",
       "    </tr>\n",
       "    <tr>\n",
       "      <th>4</th>\n",
       "      <td>Free Parking</td>\n",
       "      <td>0.027751</td>\n",
       "    </tr>\n",
       "    <tr>\n",
       "      <th>7</th>\n",
       "      <td>Income Tax</td>\n",
       "      <td>0.024172</td>\n",
       "    </tr>\n",
       "    <tr>\n",
       "      <th>14</th>\n",
       "      <td>Super Tax</td>\n",
       "      <td>0.022215</td>\n",
       "    </tr>\n",
       "    <tr>\n",
       "      <th>5</th>\n",
       "      <td>Go to Jail</td>\n",
       "      <td>0.000000</td>\n",
       "    </tr>\n",
       "  </tbody>\n",
       "</table>\n",
       "</div>"
      ],
      "text/plain": [
       "          Aggregate  Probability\n",
       "15    Train Station     0.102227\n",
       "10           Orange     0.085966\n",
       "12              Red     0.084837\n",
       "17           Yellow     0.080628\n",
       "6             Green     0.079717\n",
       "11           Purple     0.072072\n",
       "9        Light Blue     0.069644\n",
       "2   Community Chest     0.064162\n",
       "8              Jail     0.058959\n",
       "1            Chance     0.054906\n",
       "16        Utilities     0.050471\n",
       "3         Dark Blue     0.045704\n",
       "0             Brown     0.045025\n",
       "13            Start     0.031544\n",
       "4      Free Parking     0.027751\n",
       "7        Income Tax     0.024172\n",
       "14        Super Tax     0.022215\n",
       "5        Go to Jail     0.000000"
      ]
     },
     "execution_count": 36,
     "metadata": {},
     "output_type": "execute_result"
    }
   ],
   "source": [
    "aggregated_df.sort_values('Probability', ascending=False)"
   ]
  },
  {
   "cell_type": "markdown",
   "metadata": {},
   "source": [
    "### Plot of expected values by group"
   ]
  },
  {
   "cell_type": "markdown",
   "metadata": {},
   "source": [
    "If we find the expected values by each aggregate we can find out which group generated the most money per turn."
   ]
  },
  {
   "cell_type": "code",
   "execution_count": 37,
   "metadata": {},
   "outputs": [],
   "source": [
    "aggregated_ev_df = pd.DataFrame(df.loc[df['Purchasable'] == True]\\\n",
    "    .groupby(['Aggregate'])['Expected Value'].sum()).reset_index()"
   ]
  },
  {
   "cell_type": "markdown",
   "metadata": {},
   "source": [
    "Plotting this gives:"
   ]
  },
  {
   "cell_type": "code",
   "execution_count": 38,
   "metadata": {},
   "outputs": [
    {
     "data": {
      "image/png": "[encoded data removed]",
      "text/plain": [
       "<matplotlib.figure.Figure at 0x18c197ab048>"
      ]
     },
     "metadata": {},
     "output_type": "display_data"
    }
   ],
   "source": [
    "plt.rc('xtick', labelsize=16) \n",
    "plt.rc('ytick', labelsize=14) \n",
    "aggregated_ev_df[['Aggregate', 'Expected Value']].sort_values(by='Expected Value', ascending=False)\\\n",
    "    .plot(kind='bar', figsize=(10,4))\n",
    "plt.xticks(range(len(aggregated_ev_df.index)), aggregated_ev_df[['Aggregate', 'Expected Value']]\n",
    "    .sort_values(by='Expected Value', ascending=False)['Aggregate'])\n",
    "plt.ylabel('Expected Value')\n",
    "plt.title('Expected Value by Group');"
   ]
  },
  {
   "cell_type": "markdown",
   "metadata": {},
   "source": [
    "We can conclude that the `Train Station` yields the most. This are however $4$ squares. The best street to have is `Green`."
   ]
  },
  {
   "cell_type": "markdown",
   "metadata": {},
   "source": [
    "### Table of expected values by group"
   ]
  },
  {
   "cell_type": "markdown",
   "metadata": {},
   "source": [
    "A full table of expected values can be found below"
   ]
  },
  {
   "cell_type": "code",
   "execution_count": 39,
   "metadata": {},
   "outputs": [
    {
     "data": {
      "text/html": [
       "<div>\n",
       "<style scoped>\n",
       "    .dataframe tbody tr th:only-of-type {\n",
       "        vertical-align: middle;\n",
       "    }\n",
       "\n",
       "    .dataframe tbody tr th {\n",
       "        vertical-align: top;\n",
       "    }\n",
       "\n",
       "    .dataframe thead th {\n",
       "        text-align: right;\n",
       "    }\n",
       "</style>\n",
       "<table border=\"1\" class=\"dataframe\">\n",
       "  <thead>\n",
       "    <tr style=\"text-align: right;\">\n",
       "      <th></th>\n",
       "      <th>Aggregate</th>\n",
       "      <th>Expected Value</th>\n",
       "    </tr>\n",
       "  </thead>\n",
       "  <tbody>\n",
       "    <tr>\n",
       "      <th>7</th>\n",
       "      <td>Train Station</td>\n",
       "      <td>2.555675</td>\n",
       "    </tr>\n",
       "    <tr>\n",
       "      <th>2</th>\n",
       "      <td>Green</td>\n",
       "      <td>2.122408</td>\n",
       "    </tr>\n",
       "    <tr>\n",
       "      <th>1</th>\n",
       "      <td>Dark Blue</td>\n",
       "      <td>1.932535</td>\n",
       "    </tr>\n",
       "    <tr>\n",
       "      <th>9</th>\n",
       "      <td>Yellow</td>\n",
       "      <td>1.827260</td>\n",
       "    </tr>\n",
       "    <tr>\n",
       "      <th>6</th>\n",
       "      <td>Red</td>\n",
       "      <td>1.589574</td>\n",
       "    </tr>\n",
       "    <tr>\n",
       "      <th>4</th>\n",
       "      <td>Orange</td>\n",
       "      <td>1.263022</td>\n",
       "    </tr>\n",
       "    <tr>\n",
       "      <th>5</th>\n",
       "      <td>Purple</td>\n",
       "      <td>0.771456</td>\n",
       "    </tr>\n",
       "    <tr>\n",
       "      <th>8</th>\n",
       "      <td>Utilities</td>\n",
       "      <td>0.706594</td>\n",
       "    </tr>\n",
       "    <tr>\n",
       "      <th>3</th>\n",
       "      <td>Light Blue</td>\n",
       "      <td>0.464394</td>\n",
       "    </tr>\n",
       "    <tr>\n",
       "      <th>0</th>\n",
       "      <td>Brown</td>\n",
       "      <td>0.135822</td>\n",
       "    </tr>\n",
       "  </tbody>\n",
       "</table>\n",
       "</div>"
      ],
      "text/plain": [
       "       Aggregate  Expected Value\n",
       "7  Train Station        2.555675\n",
       "2          Green        2.122408\n",
       "1      Dark Blue        1.932535\n",
       "9         Yellow        1.827260\n",
       "6            Red        1.589574\n",
       "4         Orange        1.263022\n",
       "5         Purple        0.771456\n",
       "8      Utilities        0.706594\n",
       "3     Light Blue        0.464394\n",
       "0          Brown        0.135822"
      ]
     },
     "execution_count": 39,
     "metadata": {},
     "output_type": "execute_result"
    }
   ],
   "source": [
    "aggregated_ev_df.sort_values('Expected Value', ascending=False)"
   ]
  },
  {
   "cell_type": "markdown",
   "metadata": {},
   "source": [
    "## Other probabilities"
   ]
  },
  {
   "cell_type": "markdown",
   "metadata": {},
   "source": [
    "### Train station probabilities"
   ]
  },
  {
   "cell_type": "markdown",
   "metadata": {},
   "source": [
    "We can conclude that `Train Station` has the highest probability to land on. However, we need to take into account that there are four squares to land on."
   ]
  },
  {
   "cell_type": "code",
   "execution_count": 40,
   "metadata": {},
   "outputs": [
    {
     "data": {
      "text/html": [
       "<div>\n",
       "<style scoped>\n",
       "    .dataframe tbody tr th:only-of-type {\n",
       "        vertical-align: middle;\n",
       "    }\n",
       "\n",
       "    .dataframe tbody tr th {\n",
       "        vertical-align: top;\n",
       "    }\n",
       "\n",
       "    .dataframe thead th {\n",
       "        text-align: right;\n",
       "    }\n",
       "</style>\n",
       "<table border=\"1\" class=\"dataframe\">\n",
       "  <thead>\n",
       "    <tr style=\"text-align: right;\">\n",
       "      <th></th>\n",
       "      <th>Square</th>\n",
       "      <th>Description</th>\n",
       "      <th>Probability</th>\n",
       "      <th>Expected Value</th>\n",
       "    </tr>\n",
       "  </thead>\n",
       "  <tbody>\n",
       "    <tr>\n",
       "      <th>15</th>\n",
       "      <td>ts2</td>\n",
       "      <td>Train Station 2</td>\n",
       "      <td>0.028175</td>\n",
       "      <td>0.704375</td>\n",
       "    </tr>\n",
       "    <tr>\n",
       "      <th>25</th>\n",
       "      <td>ts3</td>\n",
       "      <td>Train Station 3</td>\n",
       "      <td>0.026868</td>\n",
       "      <td>0.671700</td>\n",
       "    </tr>\n",
       "    <tr>\n",
       "      <th>35</th>\n",
       "      <td>ts4</td>\n",
       "      <td>Train Station 4</td>\n",
       "      <td>0.023823</td>\n",
       "      <td>0.595575</td>\n",
       "    </tr>\n",
       "    <tr>\n",
       "      <th>5</th>\n",
       "      <td>t1</td>\n",
       "      <td>Train Station 1</td>\n",
       "      <td>0.023361</td>\n",
       "      <td>0.584025</td>\n",
       "    </tr>\n",
       "  </tbody>\n",
       "</table>\n",
       "</div>"
      ],
      "text/plain": [
       "   Square      Description  Probability  Expected Value\n",
       "15    ts2  Train Station 2     0.028175        0.704375\n",
       "25    ts3  Train Station 3     0.026868        0.671700\n",
       "35    ts4  Train Station 4     0.023823        0.595575\n",
       "5      t1  Train Station 1     0.023361        0.584025"
      ]
     },
     "execution_count": 40,
     "metadata": {},
     "output_type": "execute_result"
    }
   ],
   "source": [
    "df.loc[df['Aggregate'] == 'Train Station', df.columns.isin(['Square', 'Description', 'Probability', 'Expected Value'])]\\\n",
    "    .sort_values('Probability', ascending=False)"
   ]
  },
  {
   "cell_type": "markdown",
   "metadata": {},
   "source": [
    "### Probability to be in jail"
   ]
  },
  {
   "cell_type": "markdown",
   "metadata": {},
   "source": [
    "To find the total probability to be in jail, we need to take into account that:\n",
    "\n",
    " * We can land on jail.\n",
    " * We can land on go to jail.\n",
    " * There is one community card which sends you to jail.\n",
    " * There is one chance card which sends you to jail.\n",
    " \n",
    "Each deck has $16$ cards, therefore the probability to draw go to jail is $P(\\bar{x}=\\text{go to jail})=\\dfrac{1}{16}$.\n",
    "\n",
    "$$P(\\bar{x}=\\text{in jail}) = P(\\bar{x}=\\text{jail}) + P(\\bar{x}=\\text{go to jail}) + \\dfrac{1}{16}\\left[ P(\\bar{x}=\\text{community chest}) + P(\\bar{x}=\\text{chance})\\right] $$"
   ]
  },
  {
   "cell_type": "code",
   "execution_count": 41,
   "metadata": {},
   "outputs": [],
   "source": [
    "P_jail           = sum(aggregated_df.loc[aggregated_df['Aggregate'] == 'Jail'           ]['Probability'])\n",
    "P_go_to_jail     = sum(aggregated_df.loc[aggregated_df['Aggregate'] == 'Go to Jail'     ]['Probability'])\n",
    "P_community_card = sum(aggregated_df.loc[aggregated_df['Aggregate'] == 'Community Chest']['Probability'])\n",
    "P_chance_card    = sum(aggregated_df.loc[aggregated_df['Aggregate'] == 'Chance'         ]['Probability'])"
   ]
  },
  {
   "cell_type": "code",
   "execution_count": 42,
   "metadata": {
    "scrolled": true
   },
   "outputs": [
    {
     "data": {
      "text/plain": [
       "0.066400749999999994"
      ]
     },
     "execution_count": 42,
     "metadata": {},
     "output_type": "execute_result"
    }
   ],
   "source": [
    "P_jail + P_go_to_jail + 1/16 * (P_community_card + P_chance_card)"
   ]
  },
  {
   "cell_type": "markdown",
   "metadata": {},
   "source": [
    "### Probability to draw a card"
   ]
  },
  {
   "cell_type": "markdown",
   "metadata": {},
   "source": [
    "To find the probability to draw a card, we simply calculate:\n",
    "\n",
    "$$ P(\\bar{x}=\\text{draw a card}) = P(\\bar{x}=\\text{community chest}) + P(\\bar{x}=\\text{chance})$$"
   ]
  },
  {
   "cell_type": "code",
   "execution_count": 43,
   "metadata": {},
   "outputs": [
    {
     "data": {
      "text/plain": [
       "0.11906799999999999"
      ]
     },
     "execution_count": 43,
     "metadata": {},
     "output_type": "execute_result"
    }
   ],
   "source": [
    "P_community_card + P_chance_card"
   ]
  },
  {
   "cell_type": "markdown",
   "metadata": {},
   "source": [
    "Where the probabilities for the community chest square are:"
   ]
  },
  {
   "cell_type": "code",
   "execution_count": 44,
   "metadata": {},
   "outputs": [
    {
     "data": {
      "text/html": [
       "<div>\n",
       "<style scoped>\n",
       "    .dataframe tbody tr th:only-of-type {\n",
       "        vertical-align: middle;\n",
       "    }\n",
       "\n",
       "    .dataframe tbody tr th {\n",
       "        vertical-align: top;\n",
       "    }\n",
       "\n",
       "    .dataframe thead th {\n",
       "        text-align: right;\n",
       "    }\n",
       "</style>\n",
       "<table border=\"1\" class=\"dataframe\">\n",
       "  <thead>\n",
       "    <tr style=\"text-align: right;\">\n",
       "      <th></th>\n",
       "      <th>Square</th>\n",
       "      <th>Description</th>\n",
       "      <th>Probability</th>\n",
       "    </tr>\n",
       "  </thead>\n",
       "  <tbody>\n",
       "    <tr>\n",
       "      <th>17</th>\n",
       "      <td>cc2</td>\n",
       "      <td>Community Chest 2</td>\n",
       "      <td>0.023620</td>\n",
       "    </tr>\n",
       "    <tr>\n",
       "      <th>33</th>\n",
       "      <td>cc3</td>\n",
       "      <td>Community Chest 3</td>\n",
       "      <td>0.022140</td>\n",
       "    </tr>\n",
       "    <tr>\n",
       "      <th>2</th>\n",
       "      <td>cc1</td>\n",
       "      <td>Community Chest 1</td>\n",
       "      <td>0.018402</td>\n",
       "    </tr>\n",
       "  </tbody>\n",
       "</table>\n",
       "</div>"
      ],
      "text/plain": [
       "   Square        Description  Probability\n",
       "17    cc2  Community Chest 2     0.023620\n",
       "33    cc3  Community Chest 3     0.022140\n",
       "2     cc1  Community Chest 1     0.018402"
      ]
     },
     "execution_count": 44,
     "metadata": {},
     "output_type": "execute_result"
    }
   ],
   "source": [
    "df.loc[df['Aggregate'] == 'Community Chest', df.columns.isin(['Square', 'Description', 'Probability'])]\\\n",
    "    .sort_values('Probability', ascending=False)"
   ]
  },
  {
   "cell_type": "markdown",
   "metadata": {},
   "source": [
    "And the probabilities for the chance square are:"
   ]
  },
  {
   "cell_type": "code",
   "execution_count": 45,
   "metadata": {
    "scrolled": true
   },
   "outputs": [
    {
     "data": {
      "text/html": [
       "<div>\n",
       "<style scoped>\n",
       "    .dataframe tbody tr th:only-of-type {\n",
       "        vertical-align: middle;\n",
       "    }\n",
       "\n",
       "    .dataframe tbody tr th {\n",
       "        vertical-align: top;\n",
       "    }\n",
       "\n",
       "    .dataframe thead th {\n",
       "        text-align: right;\n",
       "    }\n",
       "</style>\n",
       "<table border=\"1\" class=\"dataframe\">\n",
       "  <thead>\n",
       "    <tr style=\"text-align: right;\">\n",
       "      <th></th>\n",
       "      <th>Square</th>\n",
       "      <th>Description</th>\n",
       "      <th>Probability</th>\n",
       "    </tr>\n",
       "  </thead>\n",
       "  <tbody>\n",
       "    <tr>\n",
       "      <th>22</th>\n",
       "      <td>c2</td>\n",
       "      <td>Chance 2</td>\n",
       "      <td>0.020275</td>\n",
       "    </tr>\n",
       "    <tr>\n",
       "      <th>7</th>\n",
       "      <td>c1</td>\n",
       "      <td>Chance 1</td>\n",
       "      <td>0.017440</td>\n",
       "    </tr>\n",
       "    <tr>\n",
       "      <th>36</th>\n",
       "      <td>c3</td>\n",
       "      <td>Chance 3</td>\n",
       "      <td>0.017191</td>\n",
       "    </tr>\n",
       "  </tbody>\n",
       "</table>\n",
       "</div>"
      ],
      "text/plain": [
       "   Square Description  Probability\n",
       "22     c2    Chance 2     0.020275\n",
       "7      c1    Chance 1     0.017440\n",
       "36     c3    Chance 3     0.017191"
      ]
     },
     "execution_count": 45,
     "metadata": {},
     "output_type": "execute_result"
    }
   ],
   "source": [
    "df.loc[df['Aggregate'] == 'Chance', df.columns.isin(['Square', 'Description', 'Probability'])]\\\n",
    "    .sort_values('Probability', ascending=False)"
   ]
  },
  {
   "cell_type": "markdown",
   "metadata": {},
   "source": [
    "## Conclusion"
   ]
  },
  {
   "cell_type": "markdown",
   "metadata": {},
   "source": [
    "We saw the expected values per turn for each square. Train stations are by far the best to buy. The multiplier for them is not taken into account here. Which means that the actual results are even better. After that, buying should be done in a priority. I wouldn't buy utilities, brown and light blue squares because they have a very low expected value."
   ]
  },
  {
   "cell_type": "markdown",
   "metadata": {},
   "source": [
    "### Top 10 streets\n",
    "\n",
    "A table of the top 10 squares by expected value."
   ]
  },
  {
   "cell_type": "code",
   "execution_count": 46,
   "metadata": {},
   "outputs": [
    {
     "data": {
      "text/html": [
       "<div>\n",
       "<style scoped>\n",
       "    .dataframe tbody tr th:only-of-type {\n",
       "        vertical-align: middle;\n",
       "    }\n",
       "\n",
       "    .dataframe tbody tr th {\n",
       "        vertical-align: top;\n",
       "    }\n",
       "\n",
       "    .dataframe thead th {\n",
       "        text-align: right;\n",
       "    }\n",
       "</style>\n",
       "<table border=\"1\" class=\"dataframe\">\n",
       "  <thead>\n",
       "    <tr style=\"text-align: right;\">\n",
       "      <th></th>\n",
       "      <th>Square</th>\n",
       "      <th>Description</th>\n",
       "      <th>Probability</th>\n",
       "      <th>Expected Value</th>\n",
       "    </tr>\n",
       "  </thead>\n",
       "  <tbody>\n",
       "    <tr>\n",
       "      <th>39</th>\n",
       "      <td>db2</td>\n",
       "      <td>Dark Blue 2</td>\n",
       "      <td>0.022193</td>\n",
       "      <td>1.109650</td>\n",
       "    </tr>\n",
       "    <tr>\n",
       "      <th>37</th>\n",
       "      <td>db1</td>\n",
       "      <td>Dark Blue 1</td>\n",
       "      <td>0.023511</td>\n",
       "      <td>0.822885</td>\n",
       "    </tr>\n",
       "    <tr>\n",
       "      <th>31</th>\n",
       "      <td>g1</td>\n",
       "      <td>Green 1</td>\n",
       "      <td>0.028638</td>\n",
       "      <td>0.744588</td>\n",
       "    </tr>\n",
       "    <tr>\n",
       "      <th>15</th>\n",
       "      <td>ts2</td>\n",
       "      <td>Train Station 2</td>\n",
       "      <td>0.028175</td>\n",
       "      <td>0.704375</td>\n",
       "    </tr>\n",
       "    <tr>\n",
       "      <th>34</th>\n",
       "      <td>g3</td>\n",
       "      <td>Green 3</td>\n",
       "      <td>0.024883</td>\n",
       "      <td>0.696724</td>\n",
       "    </tr>\n",
       "    <tr>\n",
       "      <th>32</th>\n",
       "      <td>g2</td>\n",
       "      <td>Green 2</td>\n",
       "      <td>0.026196</td>\n",
       "      <td>0.681096</td>\n",
       "    </tr>\n",
       "    <tr>\n",
       "      <th>25</th>\n",
       "      <td>ts3</td>\n",
       "      <td>Train Station 3</td>\n",
       "      <td>0.026868</td>\n",
       "      <td>0.671700</td>\n",
       "    </tr>\n",
       "    <tr>\n",
       "      <th>29</th>\n",
       "      <td>y3</td>\n",
       "      <td>Yellow 3</td>\n",
       "      <td>0.026722</td>\n",
       "      <td>0.641328</td>\n",
       "    </tr>\n",
       "    <tr>\n",
       "      <th>24</th>\n",
       "      <td>r3</td>\n",
       "      <td>Red 3</td>\n",
       "      <td>0.031254</td>\n",
       "      <td>0.625080</td>\n",
       "    </tr>\n",
       "    <tr>\n",
       "      <th>35</th>\n",
       "      <td>ts4</td>\n",
       "      <td>Train Station 4</td>\n",
       "      <td>0.023823</td>\n",
       "      <td>0.595575</td>\n",
       "    </tr>\n",
       "  </tbody>\n",
       "</table>\n",
       "</div>"
      ],
      "text/plain": [
       "   Square      Description  Probability  Expected Value\n",
       "39    db2      Dark Blue 2     0.022193        1.109650\n",
       "37    db1      Dark Blue 1     0.023511        0.822885\n",
       "31     g1          Green 1     0.028638        0.744588\n",
       "15    ts2  Train Station 2     0.028175        0.704375\n",
       "34     g3          Green 3     0.024883        0.696724\n",
       "32     g2          Green 2     0.026196        0.681096\n",
       "25    ts3  Train Station 3     0.026868        0.671700\n",
       "29     y3         Yellow 3     0.026722        0.641328\n",
       "24     r3            Red 3     0.031254        0.625080\n",
       "35    ts4  Train Station 4     0.023823        0.595575"
      ]
     },
     "execution_count": 46,
     "metadata": {},
     "output_type": "execute_result"
    }
   ],
   "source": [
    "df.loc[:,df.columns.isin(['Square', 'Description', 'Probability', 'Expected Value'])]\\\n",
    "    .sort_values('Expected Value', ascending=False).head(10)"
   ]
  },
  {
   "cell_type": "markdown",
   "metadata": {},
   "source": [
    "### Top 10 groups\n",
    "\n",
    "A table of the top 10 groups by expected value."
   ]
  },
  {
   "cell_type": "code",
   "execution_count": 47,
   "metadata": {
    "scrolled": true
   },
   "outputs": [
    {
     "data": {
      "text/html": [
       "<div>\n",
       "<style scoped>\n",
       "    .dataframe tbody tr th:only-of-type {\n",
       "        vertical-align: middle;\n",
       "    }\n",
       "\n",
       "    .dataframe tbody tr th {\n",
       "        vertical-align: top;\n",
       "    }\n",
       "\n",
       "    .dataframe thead th {\n",
       "        text-align: right;\n",
       "    }\n",
       "</style>\n",
       "<table border=\"1\" class=\"dataframe\">\n",
       "  <thead>\n",
       "    <tr style=\"text-align: right;\">\n",
       "      <th></th>\n",
       "      <th>Aggregate</th>\n",
       "      <th>Expected Value</th>\n",
       "    </tr>\n",
       "  </thead>\n",
       "  <tbody>\n",
       "    <tr>\n",
       "      <th>7</th>\n",
       "      <td>Train Station</td>\n",
       "      <td>2.555675</td>\n",
       "    </tr>\n",
       "    <tr>\n",
       "      <th>2</th>\n",
       "      <td>Green</td>\n",
       "      <td>2.122408</td>\n",
       "    </tr>\n",
       "    <tr>\n",
       "      <th>1</th>\n",
       "      <td>Dark Blue</td>\n",
       "      <td>1.932535</td>\n",
       "    </tr>\n",
       "    <tr>\n",
       "      <th>9</th>\n",
       "      <td>Yellow</td>\n",
       "      <td>1.827260</td>\n",
       "    </tr>\n",
       "    <tr>\n",
       "      <th>6</th>\n",
       "      <td>Red</td>\n",
       "      <td>1.589574</td>\n",
       "    </tr>\n",
       "    <tr>\n",
       "      <th>4</th>\n",
       "      <td>Orange</td>\n",
       "      <td>1.263022</td>\n",
       "    </tr>\n",
       "    <tr>\n",
       "      <th>5</th>\n",
       "      <td>Purple</td>\n",
       "      <td>0.771456</td>\n",
       "    </tr>\n",
       "    <tr>\n",
       "      <th>8</th>\n",
       "      <td>Utilities</td>\n",
       "      <td>0.706594</td>\n",
       "    </tr>\n",
       "    <tr>\n",
       "      <th>3</th>\n",
       "      <td>Light Blue</td>\n",
       "      <td>0.464394</td>\n",
       "    </tr>\n",
       "    <tr>\n",
       "      <th>0</th>\n",
       "      <td>Brown</td>\n",
       "      <td>0.135822</td>\n",
       "    </tr>\n",
       "  </tbody>\n",
       "</table>\n",
       "</div>"
      ],
      "text/plain": [
       "       Aggregate  Expected Value\n",
       "7  Train Station        2.555675\n",
       "2          Green        2.122408\n",
       "1      Dark Blue        1.932535\n",
       "9         Yellow        1.827260\n",
       "6            Red        1.589574\n",
       "4         Orange        1.263022\n",
       "5         Purple        0.771456\n",
       "8      Utilities        0.706594\n",
       "3     Light Blue        0.464394\n",
       "0          Brown        0.135822"
      ]
     },
     "execution_count": 47,
     "metadata": {},
     "output_type": "execute_result"
    }
   ],
   "source": [
    "aggregated_ev_df.sort_values('Expected Value', ascending=False).head(10)"
   ]
  },
  {
   "cell_type": "markdown",
   "metadata": {},
   "source": [
    "#### Additional note about train stations"
   ]
  },
  {
   "cell_type": "markdown",
   "metadata": {},
   "source": [
    "Notice that if you own all $4$ train stations, any visitor has to pay $\\$200$ instead of the $\\$25$ for owning one. From this we can find that the expected value is multiplied by $8$, if you own them all."
   ]
  },
  {
   "cell_type": "code",
   "execution_count": 48,
   "metadata": {},
   "outputs": [
    {
     "data": {
      "text/plain": [
       "20.445399999999999"
      ]
     },
     "execution_count": 48,
     "metadata": {},
     "output_type": "execute_result"
    }
   ],
   "source": [
    "8 * df.loc[df['Aggregate'] == 'Train Station']['Expected Value'].sum()"
   ]
  },
  {
   "cell_type": "markdown",
   "metadata": {},
   "source": [
    "And for $3$ train stations, any visitor has to pay $\\$100$, which multiplied by $4$ gives:"
   ]
  },
  {
   "cell_type": "code",
   "execution_count": 49,
   "metadata": {},
   "outputs": [
    {
     "data": {
      "text/plain": [
       "10.2227"
      ]
     },
     "execution_count": 49,
     "metadata": {},
     "output_type": "execute_result"
    }
   ],
   "source": [
    "4 * df.loc[df['Aggregate'] == 'Train Station']['Expected Value'].sum()"
   ]
  },
  {
   "cell_type": "markdown",
   "metadata": {},
   "source": [
    "Finally for $2$ train stations, any visitor has to pay $\\$50$, which multiplied by $2$ gives:"
   ]
  },
  {
   "cell_type": "code",
   "execution_count": 50,
   "metadata": {},
   "outputs": [
    {
     "data": {
      "text/plain": [
       "5.1113499999999998"
      ]
     },
     "execution_count": 50,
     "metadata": {},
     "output_type": "execute_result"
    }
   ],
   "source": [
    "2 * df.loc[df['Aggregate'] == 'Train Station']['Expected Value'].sum()"
   ]
  },
  {
   "cell_type": "markdown",
   "metadata": {},
   "source": [
    "Now keep in mind that if you own the **entire** best street, the results are:"
   ]
  },
  {
   "cell_type": "code",
   "execution_count": 51,
   "metadata": {},
   "outputs": [
    {
     "data": {
      "text/html": [
       "<div>\n",
       "<style scoped>\n",
       "    .dataframe tbody tr th:only-of-type {\n",
       "        vertical-align: middle;\n",
       "    }\n",
       "\n",
       "    .dataframe tbody tr th {\n",
       "        vertical-align: top;\n",
       "    }\n",
       "\n",
       "    .dataframe thead th {\n",
       "        text-align: right;\n",
       "    }\n",
       "</style>\n",
       "<table border=\"1\" class=\"dataframe\">\n",
       "  <thead>\n",
       "    <tr style=\"text-align: right;\">\n",
       "      <th></th>\n",
       "      <th>Aggregate</th>\n",
       "      <th>Expected Value</th>\n",
       "    </tr>\n",
       "  </thead>\n",
       "  <tbody>\n",
       "    <tr>\n",
       "      <th>2</th>\n",
       "      <td>Green</td>\n",
       "      <td>2.122408</td>\n",
       "    </tr>\n",
       "    <tr>\n",
       "      <th>1</th>\n",
       "      <td>Dark Blue</td>\n",
       "      <td>1.932535</td>\n",
       "    </tr>\n",
       "    <tr>\n",
       "      <th>9</th>\n",
       "      <td>Yellow</td>\n",
       "      <td>1.827260</td>\n",
       "    </tr>\n",
       "  </tbody>\n",
       "</table>\n",
       "</div>"
      ],
      "text/plain": [
       "   Aggregate  Expected Value\n",
       "2      Green        2.122408\n",
       "1  Dark Blue        1.932535\n",
       "9     Yellow        1.827260"
      ]
     },
     "execution_count": 51,
     "metadata": {},
     "output_type": "execute_result"
    }
   ],
   "source": [
    "aggregated_ev_df.sort_values('Expected Value', ascending=False).iloc[[1,2,3]]"
   ]
  },
  {
   "cell_type": "markdown",
   "metadata": {},
   "source": [
    "### Probability to go to jail"
   ]
  },
  {
   "cell_type": "markdown",
   "metadata": {},
   "source": [
    "The probability to go to jail is:"
   ]
  },
  {
   "cell_type": "code",
   "execution_count": 52,
   "metadata": {},
   "outputs": [
    {
     "data": {
      "text/plain": [
       "0.066400749999999994"
      ]
     },
     "execution_count": 52,
     "metadata": {},
     "output_type": "execute_result"
    }
   ],
   "source": [
    "P_jail + P_go_to_jail + 1/16 * (P_community_card + P_chance_card)"
   ]
  },
  {
   "cell_type": "markdown",
   "metadata": {},
   "source": [
    "### Probability to draw a card"
   ]
  },
  {
   "cell_type": "markdown",
   "metadata": {},
   "source": [
    "The probability to draw a card is:"
   ]
  },
  {
   "cell_type": "code",
   "execution_count": 53,
   "metadata": {},
   "outputs": [
    {
     "data": {
      "text/plain": [
       "0.11906799999999999"
      ]
     },
     "execution_count": 53,
     "metadata": {},
     "output_type": "execute_result"
    }
   ],
   "source": [
    "P_community_card + P_chance_card"
   ]
  }
 ],
 "metadata": {
  "kernelspec": {
   "display_name": "Python 3",
   "language": "python",
   "name": "python3"
  },
  "language_info": {
   "codemirror_mode": {
    "name": "ipython",
    "version": 3
   },
   "file_extension": ".py",
   "mimetype": "text/x-python",
   "name": "python",
   "nbconvert_exporter": "python",
   "pygments_lexer": "ipython3",
   "version": "3.6.3"
  }
 },
 "nbformat": 4,
 "nbformat_minor": 2
}
