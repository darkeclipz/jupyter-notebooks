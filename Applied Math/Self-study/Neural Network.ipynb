{
 "cells": [
  {
   "cell_type": "markdown",
   "metadata": {},
   "source": [
    "# Artificial Neural Network (ANN) model"
   ]
  },
  {
   "cell_type": "markdown",
   "metadata": {},
   "source": [
    "This is the code for the completed neural network. Throughout this document all the areas are explained in more detail."
   ]
  },
  {
   "cell_type": "code",
   "execution_count": 64,
   "metadata": {},
   "outputs": [],
   "source": [
    "class NeuralNetwork(object):\n",
    "    def __init__(self):\n",
    "        # Define Hyperparameters\n",
    "        self.inputLayerSize = 2\n",
    "        self.hiddenLayerSize = 3\n",
    "        self.outputLayerSize = 1\n",
    "        \n",
    "        # Weights (parameters)\n",
    "        self.W1 = np.random.randn(self.inputLayerSize, self.hiddenLayerSize)\n",
    "        self.W2 = np.random.randn(self.hiddenLayerSize, self.outputLayerSize)        \n",
    "    \n",
    "    def forwardPropagation(self, X):\n",
    "        # Propagate inputs through network\n",
    "        self.z2 = np.dot(X, self.W1)\n",
    "        self.a2 = self.sigmoid(self.z2)\n",
    "        self.z3 = np.dot(self.a2, self.W2)\n",
    "        yHat = self.sigmoid(self.z3)\n",
    "        return yHat\n",
    "    \n",
    "    def sigmoid(self, z):\n",
    "        return 1/(1+np.exp(-z))\n",
    "    \n",
    "    def sigmoidPrime(self, z):\n",
    "        return np.exp(-z)/((1+np.exp(-z))**2)"
   ]
  },
  {
   "cell_type": "markdown",
   "metadata": {},
   "source": [
    "## Problem\n",
    "\n",
    "Suppose we want to predict our test score based on how many hours we sleep and how many hours we study the night before. In other words, we want to predict the output value $y$ which are scores for a set of input values $X$ which are hours of (sleep, study)."
   ]
  },
  {
   "cell_type": "code",
   "execution_count": 2,
   "metadata": {},
   "outputs": [
    {
     "name": "stdout",
     "output_type": "stream",
     "text": [
      "Populating the interactive namespace from numpy and matplotlib\n"
     ]
    }
   ],
   "source": [
    "%pylab inline"
   ]
  },
  {
   "cell_type": "code",
   "execution_count": 3,
   "metadata": {
    "collapsed": true
   },
   "outputs": [],
   "source": [
    "import numpy as np"
   ]
  },
  {
   "cell_type": "code",
   "execution_count": 4,
   "metadata": {
    "collapsed": true
   },
   "outputs": [],
   "source": [
    "# X = (hours sleeping, hours studying), y = Score on test\n",
    "X = np.array(([3,5], [5,1], [10,2]), dtype=float)\n",
    "y = np.array(([75], [82], [93]), dtype=float)"
   ]
  },
  {
   "cell_type": "code",
   "execution_count": 5,
   "metadata": {},
   "outputs": [
    {
     "data": {
      "text/plain": [
       "array([[  3.,   5.],\n",
       "       [  5.,   1.],\n",
       "       [ 10.,   2.]])"
      ]
     },
     "execution_count": 5,
     "metadata": {},
     "output_type": "execute_result"
    }
   ],
   "source": [
    "X"
   ]
  },
  {
   "cell_type": "code",
   "execution_count": 6,
   "metadata": {},
   "outputs": [
    {
     "data": {
      "text/plain": [
       "array([[ 75.],\n",
       "       [ 82.],\n",
       "       [ 93.]])"
      ]
     },
     "execution_count": 6,
     "metadata": {},
     "output_type": "execute_result"
    }
   ],
   "source": [
    "y"
   ]
  },
  {
   "cell_type": "markdown",
   "metadata": {},
   "source": [
    "This is a supervised regression problem. It's supervised because our examples have outputs($y$). It's regression because we're predicting the the test score, which is a continuous output."
   ]
  },
  {
   "cell_type": "markdown",
   "metadata": {},
   "source": [
    "We want to scale the data so the result is in the interval $[0,1]$."
   ]
  },
  {
   "cell_type": "code",
   "execution_count": 7,
   "metadata": {
    "collapsed": true
   },
   "outputs": [],
   "source": [
    "X = X/np.amax(X, axis=0)\n",
    "y = y/100 # Max test score is 100"
   ]
  },
  {
   "cell_type": "code",
   "execution_count": 8,
   "metadata": {},
   "outputs": [
    {
     "data": {
      "text/plain": [
       "array([[ 0.3,  1. ],\n",
       "       [ 0.5,  0.2],\n",
       "       [ 1. ,  0.4]])"
      ]
     },
     "execution_count": 8,
     "metadata": {},
     "output_type": "execute_result"
    }
   ],
   "source": [
    "X"
   ]
  },
  {
   "cell_type": "code",
   "execution_count": 9,
   "metadata": {},
   "outputs": [
    {
     "data": {
      "text/plain": [
       "array([[ 0.75],\n",
       "       [ 0.82],\n",
       "       [ 0.93]])"
      ]
     },
     "execution_count": 9,
     "metadata": {},
     "output_type": "execute_result"
    }
   ],
   "source": [
    "y"
   ]
  },
  {
   "cell_type": "markdown",
   "metadata": {},
   "source": [
    "Now we can start building the neural network. It will have 2 inputs($X$) and 1 output($y$). We call our output $\\hat{y}$ because it is an estimate of $y$. We will be using a hidden later with 3 neurons. Finally, we will be using sigmoid activation functions."
   ]
  },
  {
   "cell_type": "markdown",
   "metadata": {},
   "source": [
    "## Forward Propagation"
   ]
  },
  {
   "cell_type": "markdown",
   "metadata": {},
   "source": [
    "### Variables"
   ]
  },
  {
   "cell_type": "markdown",
   "metadata": {},
   "source": [
    "|Code symbol|Math symbol|Definition|Dimensions|\n",
    "|--|--|--|--|\n",
    "|X|$X$|Input Data, each row in an example|(numExamples, inputLayerSize)|\n",
    "|y|$y$|Target data|(numExamples, outputLayerSize)|\n",
    "|W1|$W^{(1)}$|Layer 1 Weights|(inputLayerSize, hiddenLayerSize)|\n",
    "|W2|$W^{(2)}$|Layer 2 Weights|(hiddenLayerSize, outputLayerSize)|\n",
    "|z2|$z^{(2)}$|Layer 2 Activation|(numExamples, hiddenLayerSize)|\n",
    "|a2|$z^{(2)}$|Layer 2 Activity|(numExamples, hiddenLayerSize)|\n",
    "|z3|$z^{(2)}$|Layer 3 Activation|(numExamples, outputLayerSize)|"
   ]
  },
  {
   "cell_type": "markdown",
   "metadata": {},
   "source": [
    "$$\n",
    "\\begin{align}\n",
    "z^{(2)} &= XW^{(1)} \\\\\n",
    "a^{(2)} &= f(z^{(2)}) \\\\\n",
    "z^{(3)} &= a^{(3)}W^{(2)} \\\\\n",
    "\\hat{y} &= f(z^{(3)})\n",
    "\\end{align}\n",
    "$$"
   ]
  },
  {
   "cell_type": "markdown",
   "metadata": {},
   "source": [
    "Each input value in matrix $X$ should be multiplied by a corresponding weight and then added together with all the other results for each neuron.\n",
    "\n",
    "$z^{(2)}$ is the activity of our second layer and it can be calculated as the following:\n",
    "\n",
    "$$\n",
    "z^{(2)} = XW^{(1)} = \\begin{bmatrix}\n",
    "        3 & 5  \\\\\n",
    "        5 & 1  \\\\\n",
    "        10 & 2  \n",
    "\\end{bmatrix}\n",
    "\\begin{bmatrix}\n",
    "        W_{11}^{(1)} & W_{12}^{(1)}  & W_{13}^{(1)}\\\\\n",
    "        W_{21}^{(1)} & W_{22}^{(1)}  & W_{23}^{(1)}  \n",
    "\\end{bmatrix} = \\begin{bmatrix}\n",
    "3 W_{11}^{(1)} + 5 W_{21}^{(1)} & 3 W_{12}^{(1)} + 5 W_{22}^{(1)} & 3 W_{13}^{(1)} + 5 W_{23}^{(1)} \\\\\n",
    "5 W_{11}^{(1)} +  W_{21}^{(1)} & 5 W_{12}^{(1)} +  W_{22}^{(1)} & 5 W_{13}^{(1)} + W_{23}^{(1)} \\\\\n",
    "10 W_{11}^{(1)} + 2 W_{21}^{(1)} & 10 W_{12}^{(1)} + 2 W_{22}^{(1)} & 10 W_{13}^{(1)} + 2 W_{23}^{(1)} \n",
    "\\end{bmatrix}\n",
    "$$\n",
    "\n",
    "Note that each entry in $z$ is a sum of weighted inputs to each hidden neuron. $z$ is a $3\\times 3$ matrix, one row for each sample, and one column for each hidden unit."
   ]
  },
  {
   "cell_type": "markdown",
   "metadata": {},
   "source": [
    "### Activation function - Sigmoid"
   ]
  },
  {
   "cell_type": "markdown",
   "metadata": {},
   "source": [
    "Now that we have the activities for our second layer, $z^{(2)} = XW^{(1)}$, we need to apply the activation function. We'll independently apply the sigmoid function to each entry in the matrix $z$."
   ]
  },
  {
   "cell_type": "code",
   "execution_count": 75,
   "metadata": {},
   "outputs": [
    {
     "data": {
      "image/png": "[encoded data removed]",
      "text/plain": [
       "<matplotlib.figure.Figure at 0x1d5fe0e75f8>"
      ]
     },
     "metadata": {},
     "output_type": "display_data"
    }
   ],
   "source": [
    "NN = NeuralNetwork()\n",
    "testInput = np.arange(-6,6,0.01)\n",
    "plot(testInput, NN.sigmoid(testInput), color='b', lineWidth=2)\n",
    "grid(1)"
   ]
  },
  {
   "cell_type": "markdown",
   "metadata": {},
   "source": [
    "Let's see how the sigmoid() takes an input and returns the result:"
   ]
  },
  {
   "cell_type": "code",
   "execution_count": 11,
   "metadata": {},
   "outputs": [
    {
     "data": {
      "text/plain": [
       "0.7310585786300049"
      ]
     },
     "execution_count": 11,
     "metadata": {},
     "output_type": "execute_result"
    }
   ],
   "source": [
    "NN.sigmoid(1)"
   ]
  },
  {
   "cell_type": "code",
   "execution_count": 12,
   "metadata": {},
   "outputs": [
    {
     "data": {
      "text/plain": [
       "array([ 0.26894142,  0.5       ,  0.73105858])"
      ]
     },
     "execution_count": 12,
     "metadata": {},
     "output_type": "execute_result"
    }
   ],
   "source": [
    "NN.sigmoid(np.array([-1,0,1]))"
   ]
  },
  {
   "cell_type": "code",
   "execution_count": 13,
   "metadata": {},
   "outputs": [
    {
     "data": {
      "text/plain": [
       "array([[ 0.21802553,  0.76343508,  0.56604093],\n",
       "       [ 0.80182811,  0.11230011,  0.32035148],\n",
       "       [ 0.50937793,  0.47449956,  0.55781643]])"
      ]
     },
     "execution_count": 13,
     "metadata": {},
     "output_type": "execute_result"
    }
   ],
   "source": [
    "NN.sigmoid(np.random.randn(3,3))"
   ]
  },
  {
   "cell_type": "markdown",
   "metadata": {},
   "source": [
    "### Weight-matrices $W^{(1)}$ and $W^{(2)}$"
   ]
  },
  {
   "cell_type": "markdown",
   "metadata": {},
   "source": [
    "These are initialized in the \\__init__\\() method with random numbers."
   ]
  },
  {
   "cell_type": "markdown",
   "metadata": {},
   "source": [
    "### Implementing forward propagation"
   ]
  },
  {
   "cell_type": "markdown",
   "metadata": {},
   "source": [
    "Using our activation function $f$, we can write that our second layer activity $a^{(2)} = f(z^{(2)})$. The $a^{(2)}$ will be a matrix of the same size ($3 \\times 3$).\n",
    "\n",
    "To finish forward propagation we want to propagate $a^{(2)}$ all the way to the output $\\hat{y}$.\n",
    "\n",
    "All we have to do now is multiply $a^{(2)}$ by our second layer weights $W^{(2)}$ and apply on more activation function. The $W^{(2)}$ will be of size $3 \\times 1$, one weight for each synapse:\n",
    "\n",
    "$$z^{(3)}=a^{(2)}W^{(2)}$$\n",
    "\n",
    "Multiplying $a^{(2)}$, a ($3 \\times 3$ matrix), by $W^{(2)}$, a ($3 \\times 1$ matrix) results in a $3 \\times 1$ matrix $z^{(3)}$, the activity of our 3rd layer. The $z^{(3)}$ has three activity values, one for each sample.\n",
    "\n",
    "Then we'll apply our activation function to $z^{(3)}$ yielding our estimate of test score, $\\hat{y}$:\n",
    "\n",
    "$$\\hat{y}=f(z^{(3)})$$"
   ]
  },
  {
   "cell_type": "markdown",
   "metadata": {},
   "source": [
    "### Getting an estimate of test score"
   ]
  },
  {
   "cell_type": "markdown",
   "metadata": {},
   "source": [
    "Now we have a class capable of estimating our test score given how many hours we sleep and how many hours we study."
   ]
  },
  {
   "cell_type": "code",
   "execution_count": 14,
   "metadata": {},
   "outputs": [
    {
     "data": {
      "text/plain": [
       "array([[ 0.3,  1. ],\n",
       "       [ 0.5,  0.2],\n",
       "       [ 1. ,  0.4]])"
      ]
     },
     "execution_count": 14,
     "metadata": {},
     "output_type": "execute_result"
    }
   ],
   "source": [
    "X"
   ]
  },
  {
   "cell_type": "code",
   "execution_count": 56,
   "metadata": {},
   "outputs": [],
   "source": [
    "NN = NeuralNetwork()\n",
    "yHat = NN.forwardPropagation(X)"
   ]
  },
  {
   "cell_type": "code",
   "execution_count": 57,
   "metadata": {},
   "outputs": [
    {
     "data": {
      "text/plain": [
       "array([[ 0.48121278],\n",
       "       [ 0.35868875],\n",
       "       [ 0.28271806]])"
      ]
     },
     "execution_count": 57,
     "metadata": {},
     "output_type": "execute_result"
    }
   ],
   "source": [
    "yHat"
   ]
  },
  {
   "cell_type": "code",
   "execution_count": 58,
   "metadata": {
    "scrolled": true
   },
   "outputs": [
    {
     "data": {
      "text/plain": [
       "array([[ 0.75],\n",
       "       [ 0.82],\n",
       "       [ 0.93]])"
      ]
     },
     "execution_count": 58,
     "metadata": {},
     "output_type": "execute_result"
    }
   ],
   "source": [
    "y"
   ]
  },
  {
   "cell_type": "code",
   "execution_count": 60,
   "metadata": {},
   "outputs": [
    {
     "data": {
      "image/png": "[encoded data removed]",
      "text/plain": [
       "<matplotlib.figure.Figure at 0x1d5ff5312b0>"
      ]
     },
     "metadata": {},
     "output_type": "display_data"
    }
   ],
   "source": [
    "bar([0,1,2], y, width=0.35, alpha=0.8, color='b')\n",
    "bar([0.35,1.35,2.35], yHat, width=0.35, color='r', alpha=0.8)\n",
    "grid(1)\n",
    "legend(['y', 'yHat']);"
   ]
  },
  {
   "cell_type": "markdown",
   "metadata": {},
   "source": [
    "We can see that our predictions $\\hat{y}$ are pretty inaccurate."
   ]
  },
  {
   "cell_type": "markdown",
   "metadata": {},
   "source": [
    "## Gradient Descent"
   ]
  },
  {
   "cell_type": "markdown",
   "metadata": {},
   "source": [
    "### Cost function $J$"
   ]
  },
  {
   "cell_type": "markdown",
   "metadata": {},
   "source": [
    "To improve our model, we need to find a way of quantifying exactly how wrong our predictions are. One way of doing it is to use a cost function. For a given sample, a cost function tells us how costly or model is.\n",
    "\n",
    "We'll use sum of square errors to compute an overall cost and we'll try to minimize it. Actually, training a network means minimizing a cost functions:\n",
    "\n",
    "$$J = \\sum\\limits_{i=1}^N(y_i-\\hat{y}_i)$$\n",
    "\n",
    "where $N$ is the number of training samples. We can make $J$ as small as possible with a optimal combination of the weights."
   ]
  },
  {
   "cell_type": "markdown",
   "metadata": {},
   "source": [
    "### Curse of dimensionality"
   ]
  },
  {
   "cell_type": "markdown",
   "metadata": {},
   "source": [
    "Suppose we want to find the optimal weight value for one weight:"
   ]
  },
  {
   "cell_type": "code",
   "execution_count": 20,
   "metadata": {
    "collapsed": true
   },
   "outputs": [],
   "source": [
    "import time\n",
    "weightToTry = np.linspace(-5,5,1000)\n",
    "costs = np.zeros(1000)\n",
    "\n",
    "startTime = time.clock()\n",
    "for i in range(1000):\n",
    "    NN.W1[0,0] = weightToTry[i]\n",
    "    yHat = NN.forwardPropagation(X)\n",
    "    costs[i] = 0.5*sum((y-yHat)**2)\n",
    "endTime = time.clock()"
   ]
  },
  {
   "cell_type": "code",
   "execution_count": 21,
   "metadata": {},
   "outputs": [
    {
     "data": {
      "text/plain": [
       "0.026310512359392284"
      ]
     },
     "execution_count": 21,
     "metadata": {},
     "output_type": "execute_result"
    }
   ],
   "source": [
    "elapsedTime = endTime - startTime\n",
    "elapsedTime"
   ]
  },
  {
   "cell_type": "markdown",
   "metadata": {},
   "source": [
    "It took about 0.03 seconds to check 1000 different weight values for our neural network. \n",
    "\n",
    "Here is the plot for the 1000 weights:"
   ]
  },
  {
   "cell_type": "code",
   "execution_count": 22,
   "metadata": {},
   "outputs": [
    {
     "data": {
      "text/plain": [
       "<matplotlib.text.Text at 0x1d5fe0cbb38>"
      ]
     },
     "execution_count": 22,
     "metadata": {},
     "output_type": "execute_result"
    },
    {
     "data": {
      "image/png": "[encoded data removed]",
      "text/plain": [
       "<matplotlib.figure.Figure at 0x1d5fdfd8c18>"
      ]
     },
     "metadata": {},
     "output_type": "display_data"
    }
   ],
   "source": [
    "plot(weightToTry, costs, color='b')\n",
    "grid(1)\n",
    "xlabel('Cost')\n",
    "ylabel('Weight')"
   ]
  },
  {
   "cell_type": "markdown",
   "metadata": {},
   "source": [
    "If we want to optimize 2 weights it will take 1000\\*1000 iterations to check all the values. If we want to check all the weights it will take:"
   ]
  },
  {
   "cell_type": "code",
   "execution_count": 23,
   "metadata": {},
   "outputs": [
    {
     "data": {
      "text/plain": [
       "834300873902.5966"
      ]
     },
     "execution_count": 23,
     "metadata": {},
     "output_type": "execute_result"
    }
   ],
   "source": [
    "elapsedTime*(1000**(9-1))/(3600*24*365)/1000"
   ]
  },
  {
   "cell_type": "markdown",
   "metadata": {},
   "source": [
    "almost 1 trillion milleniums. Needless to say, this is infeasible."
   ]
  },
  {
   "cell_type": "markdown",
   "metadata": {},
   "source": [
    "### Gradient descent method"
   ]
  },
  {
   "cell_type": "markdown",
   "metadata": {},
   "source": [
    "There are two methods for the gradient descent: batch (standard) or stochastic. We're going to use the batch to train our neural network.\n",
    "\n",
    "In batch gradient descent method sums up all the derivatives of $J$ for all samples:\n",
    "\n",
    "$$ \\sum\\frac{dJ}{dW} $$"
   ]
  },
  {
   "cell_type": "markdown",
   "metadata": {},
   "source": [
    "## Backpropagation of Errors"
   ]
  },
  {
   "cell_type": "markdown",
   "metadata": {},
   "source": [
    "Backpropagation (backward propagation of errors) is an algorithm used to train artificial neural networks, it can update the weights very efficiently.\n",
    "\n",
    "Basically, backpropagation is just a very computationally efficient approach to compute the derivates of a complex cost function and our goal is to use those derivaties to determine the weight coefficients for parameterizing a multi-layer neural network.\n",
    "\n",
    "In other words, the method calculates the gradient ($\\frac{dJ}{dW}$) of a cost (loss or objective) function with respect to all the weights in the network, so that the gradient is fed to the gradient descent method which in turn uses it to update the weights in order to minimize the cost function.\n",
    "\n",
    "Since backpropagation requires a known, target data for each input value in order to calculate the cost function gradient, it is usually used in supervised networks.\n",
    "\n",
    "This will require additional variables, so our table now becomes:\n",
    "\n",
    "|Code symbol|Math symbol|Definition|Dimensions|\n",
    "|--|--|--|--|\n",
    "|X|$X$|Input Data, each row in an example|(numExamples, inputLayerSize)|\n",
    "|y|$y$|Target data|(numExamples, outputLayerSize)|\n",
    "|W1|$W^{(1)}$|Layer 1 Weights|(inputLayerSize, hiddenLayerSize)|\n",
    "|W2|$W^{(2)}$|Layer 2 Weights|(hiddenLayerSize, outputLayerSize)|\n",
    "|z2|$z^{(2)}$|Layer 2 Activation|(numExamples, hiddenLayerSize)|\n",
    "|a2|$z^{(2)}$|Layer 2 Activity|(numExamples, hiddenLayerSize)|\n",
    "|z3|$z^{(2)}$|Layer 3 Activation|(numExamples, outputLayerSize)|\n",
    "|J|$J$|Cost|(1, outputLayerSize)|\n",
    "|dJdz3|$\\frac{\\partial J}{\\partial z^{(3)}}$|Partial derivative of cost with respect to $z^{(3)}$|(numExamples, outputLayerSize)|\n",
    "|dJdW2|$\\frac{\\partial J}{\\partial W^{(2)}}$|Partial derivative of cost with respect to $W^{(2)}$|(hiddenLayerSize, outputLayerSize)|\n",
    "|dz3dz2|$\\frac{\\partial z^{(3)}}{\\partial z^{(2)}}$|Partial derivative of $z^{(3)}$ with respect to $z^{(2)}$|(numExamples, hiddenLayerSize)|\n",
    "|dJdW1|$\\frac{\\partial J}{\\partial W^{(1)}}$|Partial derivative of cost with respect to $W^{(1)}$|(inputLayerSize, hiddenLayerSize)|\n",
    "|delta2|$\\delta^{(2)}$|Backpropagating Error 2|(numExamples, hiddenLayerSize)|\n",
    "|delta3|$\\delta^{(3)}$|Backpropagating Error 3|(numExamples, outputLayerSize)|"
   ]
  },
  {
   "cell_type": "markdown",
   "metadata": {},
   "source": [
    "### Computing gradient $\\frac{dJ}{dW}$"
   ]
  },
  {
   "cell_type": "markdown",
   "metadata": {},
   "source": [
    "We have a hidden layer and an output layer. So, we need to compute two gradients overall: $\\frac{\\partial J}{\\partial W^{(1)}}$, and $\\frac{\\partial J}{\\partial W^{(2)}}$, the gradient with respect to the weight for the hidden layer, and the gradient with respect to the weight for the output later, respectively.\n",
    "\n",
    "A way of quantifying exactly how wrong (or correct) our predictions are is by using a cost function.\n",
    "\n",
    "We'll use sum of square errors, the difference between target (known) data and the value estimated by our network to compute an overall cost and we'll try to minimize it. the cost function is:\n",
    "\n",
    "$$J=\\frac{1}{2}\\sum\\limits_{i=1}^N(y_i-\\hat{y}_i)^2$$\n",
    "\n",
    "where $N$ is the number of training samples. Here, the $J$ is the error of the network for a single training iteration. Note that $\\sum$ is required for our batch gradient descent algorithm.\n",
    "\n",
    "To perform gradient descent, we need an equation and some code for our gradient $\\frac{dJ}{dW}$.\n",
    "\n",
    "We'll seperate our $\\frac{dJ}{dW}$ computation by computing $\\frac{\\partial J}{\\partial W^{(1)}}$, and $\\frac{\\partial J}{\\partial W^{(2)}}$ independently.\n",
    "\n",
    "Let's work on $\\frac{\\partial J}{\\partial W^{(2)}}$ first, which is for the output layer.\n",
    "\n",
    "The sum in our cost function adds the error from each sample to create our overall cost. We'll take advantage of the sum rule in differentiation. We can move our $\\sum$ outside and worry about the derivative of the inside expression first:\n",
    "\n",
    "$$\\frac{\\partial J}{\\partial W^{(2)}} = \\frac{\\partial(\\sum \\frac{1}{2}(y-\\hat{y})^2)}{\\partial W^{(2)}} = \\sum \\frac{\\partial(\\frac{1}{2}(y-\\hat{y})^2)}{\\partial W^{(2)}}$$\n",
    "\n",
    "Unlike $\\hat{y}$ which depends on $W^{(2)}$, $y$ is constant. So, $\\frac{\\partial y}{\\partial W^{(2)}}=0$, and we have the following:\n",
    "\n",
    "$$\\frac{\\partial J}{\\partial W^{(2)}}=-\\sum(y-\\hat{y})\\frac{\\partial\\hat{y}}{\\partial W^{(2)}}$$\n",
    "\n",
    "We now need to think about the derivative of $\\frac{\\partial\\hat{y}}{\\partial W^{(2)}}$. From our earlier equation $$\\hat{y}=f(z^{(3)})$$\n",
    "\n",
    "we know that $\\hat{y}$ is our activation function of $z^{(3)}$, so we may want to apply the chain rule again to break $\\frac{\\partial\\hat{y}}{\\partial W^{(2)}}$ into $\\frac{\\partial\\hat{y}}{\\partial z^{(3)}}$ times $\\frac{\\partial z^{(3)}}{\\partial W^{(2)}}$:\n",
    "\n",
    "$$\\frac{\\partial J}{\\partial W^{(2)}} = -\\sum (y-\\hat{y}) \\frac{\\partial\\hat{y}}{\\partial z^{(3)}} \\frac{\\partial z^{(3)}}{\\partial W^{(2)}}$$.\n",
    "\n",
    "To keep things simple, we'll drop our summation. Once we've computed $\\frac{\\partial J}{\\partial W}$ for a single sample, we'll add up all our individual derivative terms.\n",
    "\n",
    "To find the rate of change of $\\hat{y}$ with respect to $z^{(3)}$, we need to differentiate our sigmoid activation function with respect to $z$:\n",
    "\n",
    "$$f(z) = \\frac {1}{1+e^{-z}}$$\n",
    "\n",
    "$$f^\\prime(z) = \\frac {e^{-z}} {(1+e^{-z})^2}$$\n"
   ]
  },
  {
   "cell_type": "markdown",
   "metadata": {},
   "source": [
    "### Code for sigmoid prime $f'(z)$"
   ]
  },
  {
   "cell_type": "markdown",
   "metadata": {},
   "source": [
    "The code for the sigmoid prime function will be:"
   ]
  },
  {
   "cell_type": "code",
   "execution_count": 63,
   "metadata": {},
   "outputs": [],
   "source": [
    "def sigmoidPrime(self, z):\n",
    "    return np.exp(-z)/((1+np.exp(-z))**2)"
   ]
  },
  {
   "cell_type": "markdown",
   "metadata": {},
   "source": [
    "Now the function will look like this:"
   ]
  },
  {
   "cell_type": "code",
   "execution_count": 67,
   "metadata": {
    "collapsed": true
   },
   "outputs": [],
   "source": [
    "NN = NeuralNetwork()"
   ]
  },
  {
   "cell_type": "code",
   "execution_count": 74,
   "metadata": {},
   "outputs": [
    {
     "data": {
      "image/png": "[encoded data removed]",
      "text/plain": [
       "<matplotlib.figure.Figure at 0x1d5ff5a9b70>"
      ]
     },
     "metadata": {},
     "output_type": "display_data"
    }
   ],
   "source": [
    "sigTestValues = np.arange(-5,5,0.1)\n",
    "plot(sigTestValues, NN.sigmoid(sigTestValues), linewidth=2, color='b')\n",
    "plot(sigTestValues, NN.sigmoidPrime(sigTestValues), linewidth=2, color='r')\n",
    "grid(1)\n",
    "legend(['f', \"f'\"]);"
   ]
  },
  {
   "cell_type": "markdown",
   "metadata": {},
   "source": [
    "### Backpropagation Errors ($\\delta$)"
   ]
  },
  {
   "cell_type": "markdown",
   "metadata": {},
   "source": [
    "http://www.bogotobogo.com/python/scikit-learn/Artificial-Neural-Network-ANN-4-Backpropagation.php"
   ]
  },
  {
   "cell_type": "code",
   "execution_count": null,
   "metadata": {
    "collapsed": true
   },
   "outputs": [],
   "source": []
  }
 ],
 "metadata": {
  "kernelspec": {
   "display_name": "Python 3",
   "language": "python",
   "name": "python3"
  },
  "language_info": {
   "codemirror_mode": {
    "name": "ipython",
    "version": 3
   },
   "file_extension": ".py",
   "mimetype": "text/x-python",
   "name": "python",
   "nbconvert_exporter": "python",
   "pygments_lexer": "ipython3",
   "version": "3.5.2"
  }
 },
 "nbformat": 4,
 "nbformat_minor": 2
}
