{
 "cells": [
  {
   "cell_type": "code",
   "execution_count": 1,
   "metadata": {},
   "outputs": [
    {
     "data": {
      "text/html": [
       "<link href=\"https://fonts.googleapis.com/css?family=Open+Sans\" rel=\"stylesheet\">\n",
       "<style>#notebook-container{font-size: 13pt;font-family:'Open Sans', sans-serif;} div.text_cell{max-width: 104ex;}</style>"
      ],
      "text/plain": [
       "<IPython.core.display.HTML object>"
      ]
     },
     "metadata": {},
     "output_type": "display_data"
    }
   ],
   "source": [
    "%%html \n",
    "<link href=\"https://fonts.googleapis.com/css?family=Open+Sans\" rel=\"stylesheet\">\n",
    "<style>#notebook-container{font-size: 13pt;font-family:'Open Sans', sans-serif;} div.text_cell{max-width: 104ex;}</style>"
   ]
  },
  {
   "cell_type": "code",
   "execution_count": 2,
   "metadata": {},
   "outputs": [
    {
     "name": "stdout",
     "output_type": "stream",
     "text": [
      "Populating the interactive namespace from numpy and matplotlib\n"
     ]
    }
   ],
   "source": [
    "%pylab inline"
   ]
  },
  {
   "cell_type": "code",
   "execution_count": 3,
   "metadata": {},
   "outputs": [],
   "source": [
    "import pandas as pd"
   ]
  },
  {
   "cell_type": "markdown",
   "metadata": {},
   "source": [
    "# Probability Analysis of Monopoly"
   ]
  },
  {
   "cell_type": "markdown",
   "metadata": {},
   "source": [
    "In this document we are going to analyze the probabilities in Monopoly to answer the question: which are the best houses to buy?\n",
    "\n",
    "To answer this question we will create a simulated version of Monopoly and determine the probabilities to land on each square. Then we calculate the expected value for each square. The squares with the highest expected values are the best squares to have."
   ]
  },
  {
   "cell_type": "markdown",
   "metadata": {},
   "source": [
    "![monopoly](monopoly_1.jpg)"
   ]
  },
  {
   "cell_type": "markdown",
   "metadata": {},
   "source": [
    "## Squares"
   ]
  },
  {
   "cell_type": "markdown",
   "metadata": {},
   "source": [
    "Each edge has 9 positions and there are 4 edges. There are 4 corners. Which gives a total of 40 positions where a player can land. The labels are numbered starting at GO."
   ]
  },
  {
   "cell_type": "markdown",
   "metadata": {},
   "source": [
    "### Labels"
   ]
  },
  {
   "cell_type": "code",
   "execution_count": 4,
   "metadata": {
    "scrolled": true
   },
   "outputs": [
    {
     "name": "stdout",
     "output_type": "stream",
     "text": [
      "There are 40 squares.\n"
     ]
    }
   ],
   "source": [
    "squares_labels = ['start', 'b1', 'cc1', 'b2', 'it', 't1', \n",
    "                  'lb1', 'c1', 'lb2', 'lb3', 'jail', 'p1', \n",
    "                  'ec', 'p2', 'p3', 'ts2', 'o1', 'cc2', \n",
    "                  'o2', 'o3', 'p', 'r1', 'c2', 'r2', 'r3', \n",
    "                  'ts3', 'y1', 'y2', 'ww', 'y3', 'gtj', \n",
    "                  'g1', 'g2', 'cc3', 'g3', 'ts4', 'c3', \n",
    "                  'db1', 'st', 'db2']\n",
    "\n",
    "squares_total = len(squares_labels)\n",
    "print('There are {} squares.'.format(squares_total))"
   ]
  },
  {
   "cell_type": "markdown",
   "metadata": {},
   "source": [
    "### Descriptions"
   ]
  },
  {
   "cell_type": "markdown",
   "metadata": {},
   "source": [
    "We also want to know the proper names, so we don't have to look up the labels."
   ]
  },
  {
   "cell_type": "code",
   "execution_count": 5,
   "metadata": {},
   "outputs": [],
   "source": [
    "squares_description = ['Start', 'Brown 1', 'Community Chest 1', 'Brown 2', \n",
    "                       'Income Tax', 'Train Station 1', 'Light Blue 1', \n",
    "                       'Chance 1', 'Light Blue 2', 'Light Blue 3', 'Jail', \n",
    "                       'Purple 1', 'Electric Company', 'Purple 2', \n",
    "                       'Purple 3', 'Train Station 2', 'Orange 1', \n",
    "                       'Community Chest 2', 'Orange 2', 'Orange 3', \n",
    "                       'Free Parking', 'Red 1', 'Chance 2', 'Red 2', \n",
    "                       'Red 3', 'Train Station 3', 'Yellow 1', 'Yellow 2', \n",
    "                       'Water Works', 'Yellow 3', 'Go to Jail', 'Green 1', \n",
    "                       'Green 2', 'Community Chest 3', 'Green 3', \n",
    "                       'Train Station 4', 'Chance 3', 'Dark Blue 1', \n",
    "                       'Super Tax', 'Dark Blue 2']"
   ]
  },
  {
   "cell_type": "code",
   "execution_count": 6,
   "metadata": {
    "scrolled": true
   },
   "outputs": [
    {
     "name": "stdout",
     "output_type": "stream",
     "text": [
      "There are 40 descriptions.\n"
     ]
    }
   ],
   "source": [
    "print('There are {} descriptions.'.format(len(squares_description)))"
   ]
  },
  {
   "cell_type": "markdown",
   "metadata": {},
   "source": [
    "### Purchasable"
   ]
  },
  {
   "cell_type": "markdown",
   "metadata": {},
   "source": [
    "We want to know if they are purchasable so we can sort on that later."
   ]
  },
  {
   "cell_type": "code",
   "execution_count": 7,
   "metadata": {},
   "outputs": [],
   "source": [
    "squares_purchasable = [False, True, False, True, False, \n",
    "                       True, True, False, True, True, \n",
    "                       False, True, True, True, True, \n",
    "                       True, True, False, True, True, \n",
    "                       False, True, False, True, True, \n",
    "                       True, True, True, True, True, \n",
    "                       False, True, True, False, True, \n",
    "                       True, False, True, False, True]"
   ]
  },
  {
   "cell_type": "markdown",
   "metadata": {},
   "source": [
    "### Rent"
   ]
  },
  {
   "cell_type": "markdown",
   "metadata": {},
   "source": [
    "We want to use the rent paid at each square to calculate the expected value. The utility company charge $4$ times roll if one is owned, and $10$ times roll if both owned. For one railway we charge $\\$25$, two $\\$50$, three $\\$100$, and all four $\\$200$."
   ]
  },
  {
   "cell_type": "markdown",
   "metadata": {},
   "source": [
    "To find the rent for a utility company, we find the expected value for throwing a dices times $4$.\n",
    "\n",
    "$$ 4\\cdot E(\\bar{k}) = 4 \\cdot \\dfrac{1}{6} \\cdot (1+2+3+4+5+6) $$"
   ]
  },
  {
   "cell_type": "code",
   "execution_count": 8,
   "metadata": {},
   "outputs": [],
   "source": [
    "E_u = 4 * (1+2+3+4+5+6) / 6"
   ]
  },
  {
   "cell_type": "markdown",
   "metadata": {},
   "source": [
    "We pick the value for one railway which is $25$."
   ]
  },
  {
   "cell_type": "code",
   "execution_count": 9,
   "metadata": {},
   "outputs": [],
   "source": [
    "E_r = 25"
   ]
  },
  {
   "cell_type": "code",
   "execution_count": 10,
   "metadata": {},
   "outputs": [],
   "source": [
    "squares_rent = [0, 2, 0, 4, 0, E_r, 6, 0, 6, 8, 0, 10, E_u, \n",
    "                10, 12, E_r, 14, 0, 14, 16, 0, 18, 0, 18, \n",
    "                20, E_r, 22, 22, E_u, 24, 0, 26, 26, 0, 28, \n",
    "                E_r, 0, 35, 0, 50]"
   ]
  },
  {
   "cell_type": "markdown",
   "metadata": {},
   "source": [
    "### Grouping"
   ]
  },
  {
   "cell_type": "markdown",
   "metadata": {},
   "source": [
    "We want to know in what group they are so we can aggregate our data later."
   ]
  },
  {
   "cell_type": "code",
   "execution_count": 11,
   "metadata": {},
   "outputs": [],
   "source": [
    "squares_aggregate = ['Start', 'Brown', 'Community Chest', 'Brown', \n",
    "                     'Income Tax', 'Train Station', 'Light Blue', \n",
    "                     'Chance', 'Light Blue', 'Light Blue', 'Jail', \n",
    "                     'Purple', 'Utilities', 'Purple', 'Purple', \n",
    "                     'Train Station', 'Orange', 'Community Chest', \n",
    "                     'Orange', 'Orange', 'Free Parking', 'Red', \n",
    "                     'Chance', 'Red', 'Red', 'Train Station', 'Yellow', \n",
    "                     'Yellow', 'Utilities', 'Yellow', 'Go to Jail', \n",
    "                     'Green', 'Green', 'Community Chest', 'Green', \n",
    "                     'Train Station', 'Chance', 'Dark Blue', \n",
    "                     'Super Tax', 'Dark Blue']"
   ]
  },
  {
   "cell_type": "markdown",
   "metadata": {},
   "source": [
    "## Cards"
   ]
  },
  {
   "cell_type": "markdown",
   "metadata": {},
   "source": [
    "There are two decks of cards.\n",
    "\n",
    "* Community Cards\n",
    "* Chance Cards\n",
    "\n",
    "Each deck contains 16 cards."
   ]
  },
  {
   "cell_type": "markdown",
   "metadata": {},
   "source": [
    "### Community Cards"
   ]
  },
  {
   "cell_type": "markdown",
   "metadata": {},
   "source": [
    "Monopoly has $16$ community cards."
   ]
  },
  {
   "cell_type": "markdown",
   "metadata": {},
   "source": [
    "![cc](monopoly_2.jpg)"
   ]
  },
  {
   "cell_type": "markdown",
   "metadata": {},
   "source": [
    "Because we are only determining the probabilities, we are only interested in the following cards:\n",
    "\n",
    "* advance to go\n",
    "* go to jail\n",
    "* get out of jail, free\n",
    "* go back 2 spaces"
   ]
  },
  {
   "cell_type": "markdown",
   "metadata": {},
   "source": [
    "### Community deck implementation"
   ]
  },
  {
   "cell_type": "markdown",
   "metadata": {},
   "source": [
    "We implement the community deck in a class. The class keeps track of a list with $16$ cards. An index points to the next card. When we are out of cards, we reset the index and reshuffle the cards."
   ]
  },
  {
   "cell_type": "code",
   "execution_count": 12,
   "metadata": {},
   "outputs": [],
   "source": [
    "from random import shuffle\n",
    "\n",
    "class CommunityDeck():\n",
    "    def __init__(self):\n",
    "        self.deck = [0] * 16\n",
    "        self.deck[0] = 'gtg' # go to go\n",
    "        self.deck[1] = 'gtj' # go to jail\n",
    "        self.deck[2] = 'goj' # get out of jail \n",
    "        self.deck[3] = 'gb2' # go back 2 steps\n",
    "        self.index = 16\n",
    "    \n",
    "    def draw_card(self):\n",
    "        if self.index >= len(self.deck):\n",
    "            self.index = 0\n",
    "            shuffle(self.deck)\n",
    "        card = self.deck[self.index]\n",
    "        self.index += 1\n",
    "        return card"
   ]
  },
  {
   "cell_type": "markdown",
   "metadata": {},
   "source": [
    "Now we test it:"
   ]
  },
  {
   "cell_type": "code",
   "execution_count": 13,
   "metadata": {},
   "outputs": [
    {
     "data": {
      "text/plain": [
       "['gtg', 'gtj', 'goj', 'gb2', 0, 0, 0, 0, 0, 0, 0, 0, 0, 0, 0, 0]"
      ]
     },
     "execution_count": 13,
     "metadata": {},
     "output_type": "execute_result"
    }
   ],
   "source": [
    "deck = CommunityDeck()\n",
    "deck.deck"
   ]
  },
  {
   "cell_type": "code",
   "execution_count": 14,
   "metadata": {},
   "outputs": [
    {
     "data": {
      "text/plain": [
       "0"
      ]
     },
     "execution_count": 14,
     "metadata": {},
     "output_type": "execute_result"
    }
   ],
   "source": [
    "deck.draw_card()"
   ]
  },
  {
   "cell_type": "code",
   "execution_count": 15,
   "metadata": {},
   "outputs": [
    {
     "data": {
      "text/plain": [
       "[0, 0, 'gtg', 'gb2', 0, 0, 0, 'goj', 0, 'gtj', 0, 0, 0, 0, 0, 0]"
      ]
     },
     "execution_count": 15,
     "metadata": {},
     "output_type": "execute_result"
    }
   ],
   "source": [
    "deck.deck"
   ]
  },
  {
   "cell_type": "code",
   "execution_count": 16,
   "metadata": {},
   "outputs": [
    {
     "data": {
      "text/plain": [
       "1"
      ]
     },
     "execution_count": 16,
     "metadata": {},
     "output_type": "execute_result"
    }
   ],
   "source": [
    "deck.index"
   ]
  },
  {
   "cell_type": "markdown",
   "metadata": {},
   "source": [
    "### Chance Cards"
   ]
  },
  {
   "cell_type": "markdown",
   "metadata": {},
   "source": [
    "Monopoly has $16$ chance cards."
   ]
  },
  {
   "cell_type": "markdown",
   "metadata": {},
   "source": [
    "![chance](monopoly_3.jpg)"
   ]
  },
  {
   "cell_type": "markdown",
   "metadata": {},
   "source": [
    "Because we are only determining the probabilities, we are only interested in the following cards:\n",
    "\n",
    "* go back three spaces\n",
    "* get out of jail free\n",
    "* advance to go\n",
    "* advance to illinois avenue (R3)\n",
    "* go to jail"
   ]
  },
  {
   "cell_type": "markdown",
   "metadata": {},
   "source": [
    "### Chance deck implementation"
   ]
  },
  {
   "cell_type": "markdown",
   "metadata": {},
   "source": [
    "We implement the chance deck in a class. The class keeps track of a list with $16$ cards. An index points to the next card. When we are out of cards, we reset the index and reshuffle the cards."
   ]
  },
  {
   "cell_type": "code",
   "execution_count": 17,
   "metadata": {},
   "outputs": [],
   "source": [
    "from random import shuffle\n",
    "\n",
    "class ChanceDeck():\n",
    "    def __init__(self):\n",
    "        self.deck = [0] * 16\n",
    "        self.deck[0] = 'gtg' # go to go\n",
    "        self.deck[1] = 'gtj' # go to jail\n",
    "        self.deck[2] = 'goj' # get out of jail\n",
    "        self.deck[3] = 'gb3' # go back 3\n",
    "        self.deck[4] = 'r3'  # go to red 3 (r3)\n",
    "        self.index = 16\n",
    "    \n",
    "    def draw_card(self):\n",
    "        if self.index >= len(self.deck):\n",
    "            self.index = 0\n",
    "            shuffle(self.deck)\n",
    "        card = self.deck[self.index]\n",
    "        self.index += 1\n",
    "        return card"
   ]
  },
  {
   "cell_type": "markdown",
   "metadata": {},
   "source": [
    "Now we test it:"
   ]
  },
  {
   "cell_type": "code",
   "execution_count": 18,
   "metadata": {},
   "outputs": [
    {
     "data": {
      "text/plain": [
       "['gtg', 'gtj', 'goj', 'gb3', 'r3', 0, 0, 0, 0, 0, 0, 0, 0, 0, 0, 0]"
      ]
     },
     "execution_count": 18,
     "metadata": {},
     "output_type": "execute_result"
    }
   ],
   "source": [
    "deck = ChanceDeck()\n",
    "deck.deck"
   ]
  },
  {
   "cell_type": "code",
   "execution_count": 19,
   "metadata": {},
   "outputs": [
    {
     "data": {
      "text/plain": [
       "0"
      ]
     },
     "execution_count": 19,
     "metadata": {},
     "output_type": "execute_result"
    }
   ],
   "source": [
    "deck.draw_card()"
   ]
  },
  {
   "cell_type": "code",
   "execution_count": 20,
   "metadata": {},
   "outputs": [
    {
     "data": {
      "text/plain": [
       "[0, 0, 0, 'gtj', 'goj', 0, 0, 0, 0, 'gtg', 0, 0, 'gb3', 0, 0, 'r3']"
      ]
     },
     "execution_count": 20,
     "metadata": {},
     "output_type": "execute_result"
    }
   ],
   "source": [
    "deck.deck"
   ]
  },
  {
   "cell_type": "code",
   "execution_count": 21,
   "metadata": {},
   "outputs": [
    {
     "data": {
      "text/plain": [
       "1"
      ]
     },
     "execution_count": 21,
     "metadata": {},
     "output_type": "execute_result"
    }
   ],
   "source": [
    "deck.index"
   ]
  },
  {
   "cell_type": "markdown",
   "metadata": {},
   "source": [
    "## Dice"
   ]
  },
  {
   "cell_type": "markdown",
   "metadata": {},
   "source": [
    "We will be implementing the dice as a class. This allows us to encapsulate how the result are determined. It makes it easier to implements other scenarios such as throwing with multiple dices."
   ]
  },
  {
   "cell_type": "code",
   "execution_count": 22,
   "metadata": {},
   "outputs": [],
   "source": [
    "from random import randint\n",
    "\n",
    "class Dice():\n",
    "    def __init__(self, dices = 1, sides = 6):\n",
    "        self.dices = dices\n",
    "        self.sides = sides\n",
    "    \n",
    "    def throw(self):\n",
    "        return sum([randint(1, self.sides) for _ in range(self.dices)])"
   ]
  },
  {
   "cell_type": "markdown",
   "metadata": {},
   "source": [
    "Rolling one time:"
   ]
  },
  {
   "cell_type": "code",
   "execution_count": 23,
   "metadata": {},
   "outputs": [
    {
     "data": {
      "text/plain": [
       "2"
      ]
     },
     "execution_count": 23,
     "metadata": {},
     "output_type": "execute_result"
    }
   ],
   "source": [
    "dice = Dice()\n",
    "dice.throw()"
   ]
  },
  {
   "cell_type": "markdown",
   "metadata": {},
   "source": [
    "### Simple: one dice with six sides"
   ]
  },
  {
   "cell_type": "markdown",
   "metadata": {},
   "source": [
    "A simple setup would be one dice with six sides. This will give uniformly distributed probabilities."
   ]
  },
  {
   "cell_type": "code",
   "execution_count": 24,
   "metadata": {},
   "outputs": [
    {
     "data": {
      "image/png": "[encoded data removed]",
      "text/plain": [
       "<matplotlib.figure.Figure at 0x147e83436d8>"
      ]
     },
     "metadata": {},
     "output_type": "display_data"
    }
   ],
   "source": [
    "dice = Dice()\n",
    "sides = [0] * dice.dices * dice.sides\n",
    "N = 10000\n",
    "for i in range(N): sides[dice.throw()-1] += 1\n",
    "sides = np.array(sides) / N\n",
    "bar(range(1,len(sides)+1), sides);\n",
    "ylabel('P(x)')\n",
    "xlabel('x')\n",
    "title('Probability distribution for one dice; N=10,000');"
   ]
  },
  {
   "cell_type": "markdown",
   "metadata": {},
   "source": [
    "### Advanced: two dice with six sides"
   ]
  },
  {
   "cell_type": "markdown",
   "metadata": {},
   "source": [
    "Monopoly is played with two dices. This will the following probability distribution:"
   ]
  },
  {
   "cell_type": "code",
   "execution_count": 25,
   "metadata": {},
   "outputs": [
    {
     "data": {
      "image/png": "[encoded data removed]",
      "text/plain": [
       "<matplotlib.figure.Figure at 0x147e8337748>"
      ]
     },
     "metadata": {},
     "output_type": "display_data"
    }
   ],
   "source": [
    "dice = Dice(2)\n",
    "sides = [0] * dice.dices * dice.sides\n",
    "N = 10000\n",
    "for i in range(N): sides[dice.throw()-1] += 1\n",
    "sides = np.array(sides) / N\n",
    "bar(range(1,len(sides)+1), sides);\n",
    "ylabel('P(x)')\n",
    "xlabel('x')\n",
    "title('Probability distribution for two dices; N=10,000');"
   ]
  },
  {
   "cell_type": "markdown",
   "metadata": {},
   "source": [
    "## Monopoly simulation"
   ]
  },
  {
   "cell_type": "markdown",
   "metadata": {},
   "source": [
    "We are playing a simplified version of Monopoly. We will not keep track of money. There will only be one player. If a player goes to jail, the player can continue immediately on the next turn. We will keep track of the card decks. The game will be played with $2$ dices. We only count when we land on a square. If we are moved to jail for example, the next round will continue from that new position."
   ]
  },
  {
   "cell_type": "markdown",
   "metadata": {},
   "source": [
    "### Algorithm"
   ]
  },
  {
   "cell_type": "markdown",
   "metadata": {},
   "source": [
    "Here we are going to simulate a game for $N$ amount of rounds. The game algorithm is simple:\n",
    "\n",
    "1. Roll the dices (there are $2$ dices with $6$ squares)\n",
    "2. Move to the new position\n",
    "3. Increment the square counter for that position\n",
    "4. Check and handle go to jail\n",
    "5. Check and handle community chest\n",
    "6. Check and handle chance"
   ]
  },
  {
   "cell_type": "markdown",
   "metadata": {},
   "source": [
    "### Modulo arithmetic for position tracking"
   ]
  },
  {
   "cell_type": "markdown",
   "metadata": {},
   "source": [
    "We can easily keep track of our position with modulo arithemetic. Let $C$ be our position (or `index`), $d$ the result from throwing the dice, and $n$ the current round. To determine our new position we calculate:\n",
    "\n",
    "$$ C_{n+1} \\equiv C_n+d \\pmod{40}$$"
   ]
  },
  {
   "cell_type": "markdown",
   "metadata": {},
   "source": [
    "The modulo is $40$ because that are the total amount of squares."
   ]
  },
  {
   "cell_type": "markdown",
   "metadata": {},
   "source": [
    "### Implementation"
   ]
  },
  {
   "cell_type": "markdown",
   "metadata": {},
   "source": [
    "Below is the implementation for the Monopoly simulation."
   ]
  },
  {
   "cell_type": "code",
   "execution_count": 26,
   "metadata": {},
   "outputs": [],
   "source": [
    "dice = Dice(2)\n",
    "community_deck = CommunityDeck()\n",
    "chance_deck = ChanceDeck()\n",
    "\n",
    "index = 0 # position\n",
    "total_squares = len(squares_labels)\n",
    "squares = [0] * total_squares\n",
    "\n",
    "rounds = 1000000 # N\n",
    "\n",
    "for i in range(rounds):\n",
    "    \n",
    "    # Throw the dice and move our position on the board.\n",
    "    steps = dice.throw()\n",
    "    index = (index + steps) % total_squares\n",
    "    \n",
    "    # We landed on go to jail.\n",
    "    if squares_labels[index] is 'gtj': \n",
    "        index = squares_labels.index('jail')\n",
    "    \n",
    "    # We landed on the community card.\n",
    "    if squares_labels[index] in ['cc1', 'cc2', 'cc3']:\n",
    "        card = community_deck.draw_card()\n",
    "        if card is 'gtg': index = squares_labels.index('start')\n",
    "        if card is 'gtj': index = squares_labels.index('jail')\n",
    "        if card is 'gb2': \n",
    "            if index >= 2: index -= 2\n",
    "            if index < 2: index = total_squares-abs(index-2)-1\n",
    "    \n",
    "    # We landed on the chance card.\n",
    "    if squares_labels[index] in ['c1', 'c2', 'c3']:\n",
    "        card = chance_deck.draw_card()\n",
    "        if card is 'gtg': index = squares_labels.index('start')\n",
    "        if card is 'gtj': index = squares_labels.index('jail')\n",
    "        if card is 'r3': index = squares_labels.index('r3')\n",
    "        if card is 'gb3':\n",
    "            if index >= 3: index -= 3\n",
    "            if index < 3: index = total_squares-abs(index-3)-1\n",
    "                \n",
    "    # Update the counter\n",
    "    squares[index] += 1"
   ]
  },
  {
   "cell_type": "markdown",
   "metadata": {},
   "source": [
    "It takes around $2.7$ seconds to run a game when $N=1,000,000$. Because there is only one loop the algorithm will scale linearly."
   ]
  },
  {
   "cell_type": "markdown",
   "metadata": {},
   "source": [
    "## Probability statistics"
   ]
  },
  {
   "cell_type": "markdown",
   "metadata": {},
   "source": [
    "Now we can proceed to analyze our results."
   ]
  },
  {
   "cell_type": "markdown",
   "metadata": {},
   "source": [
    "### Determining probabilities"
   ]
  },
  {
   "cell_type": "markdown",
   "metadata": {},
   "source": [
    "With the number of times that each square is visited, and the total rounds $N$ we can calculate the probabilities. The probability that a square is visited is:\n",
    "\n",
    "$$ P(\\bar{x}=x) = \\dfrac{\\text{Times visited}}{\\text{N}} $$"
   ]
  },
  {
   "cell_type": "markdown",
   "metadata": {},
   "source": [
    "We can calculate the expected value for each square in terms of money with:"
   ]
  },
  {
   "cell_type": "markdown",
   "metadata": {},
   "source": [
    "$$ E(\\bar{k}) = P(\\bar{x}=x)\\cdot\\text{Rent} $$"
   ]
  },
  {
   "cell_type": "markdown",
   "metadata": {},
   "source": [
    "We also want to create a `DataFrame` in Python to easily keep track of everything."
   ]
  },
  {
   "cell_type": "code",
   "execution_count": 27,
   "metadata": {
    "scrolled": false
   },
   "outputs": [],
   "source": [
    "df = pd.DataFrame(index=range(total_squares))\n",
    "df['Square'] = squares_labels\n",
    "df['Description'] = squares_description\n",
    "df['Purchasable'] = squares_purchasable\n",
    "df['Rent'] = squares_rent\n",
    "df['Visited'] = squares\n",
    "df['Probability'] = df['Visited'] / rounds\n",
    "df['Aggregate'] = squares_aggregate\n",
    "df['Expected Value'] = df['Probability'] * df['Rent']"
   ]
  },
  {
   "cell_type": "markdown",
   "metadata": {},
   "source": [
    "We can calculate a quick summary about the data:"
   ]
  },
  {
   "cell_type": "code",
   "execution_count": 28,
   "metadata": {},
   "outputs": [
    {
     "name": "stdout",
     "output_type": "stream",
     "text": [
      "Total rounds: 1000000\n",
      "Visited avg:  25000.0\n",
      "Visited min:  0\n",
      "Visited max:  59080\n",
      "Visited std:  7543.78\n"
     ]
    }
   ],
   "source": [
    "print('Total rounds: {}'.format(rounds))\n",
    "print('Visited avg:  {}'.format(df['Visited'].mean()))\n",
    "print('Visited min:  {}'.format(df['Visited'].min()))\n",
    "print('Visited max:  {}'.format(df['Visited'].max()))\n",
    "print('Visited std:  {:.2f}'.format(df['Visited'].std()))"
   ]
  },
  {
   "cell_type": "markdown",
   "metadata": {},
   "source": [
    "### Plot of probabilities by square"
   ]
  },
  {
   "cell_type": "markdown",
   "metadata": {},
   "source": [
    "If we sort these values descending on the probability, we can easily see which squares have the highest probability to be visited."
   ]
  },
  {
   "cell_type": "code",
   "execution_count": 29,
   "metadata": {},
   "outputs": [
    {
     "data": {
      "image/png": "[encoded data removed]",
      "text/plain": [
       "<matplotlib.figure.Figure at 0x147ea47bb00>"
      ]
     },
     "metadata": {},
     "output_type": "display_data"
    }
   ],
   "source": [
    "plt.rc('xtick', labelsize=16) \n",
    "plt.rc('ytick', labelsize=14) \n",
    "df[['Description', 'Probability']].sort_values(by='Probability', ascending=False)\\\n",
    "    .plot(kind='bar', figsize=(20,5))\n",
    "plt.xticks(range(total_squares), df[['Description', 'Probability']]\n",
    "    .sort_values(by='Probability', ascending=False)['Description'])\n",
    "plt.ylabel('Probability')\n",
    "plt.title('Probability by Square');"
   ]
  },
  {
   "cell_type": "markdown",
   "metadata": {},
   "source": [
    "Here we can conclude that `Orange 1` is the most visited square. Also notice that `Orange 2` and `Orange 3` are pretty high. It seems that `Orange` is the best street to have.\n",
    "\n",
    "### Table of probabilities by square\n",
    "\n",
    "Below is the full table with all the squares and their corresponding values."
   ]
  },
  {
   "cell_type": "code",
   "execution_count": 30,
   "metadata": {},
   "outputs": [
    {
     "data": {
      "text/html": [
       "<div>\n",
       "<style scoped>\n",
       "    .dataframe tbody tr th:only-of-type {\n",
       "        vertical-align: middle;\n",
       "    }\n",
       "\n",
       "    .dataframe tbody tr th {\n",
       "        vertical-align: top;\n",
       "    }\n",
       "\n",
       "    .dataframe thead th {\n",
       "        text-align: right;\n",
       "    }\n",
       "</style>\n",
       "<table border=\"1\" class=\"dataframe\">\n",
       "  <thead>\n",
       "    <tr style=\"text-align: right;\">\n",
       "      <th></th>\n",
       "      <th>Square</th>\n",
       "      <th>Description</th>\n",
       "      <th>Probability</th>\n",
       "    </tr>\n",
       "  </thead>\n",
       "  <tbody>\n",
       "    <tr>\n",
       "      <th>10</th>\n",
       "      <td>jail</td>\n",
       "      <td>Jail</td>\n",
       "      <td>0.059080</td>\n",
       "    </tr>\n",
       "    <tr>\n",
       "      <th>0</th>\n",
       "      <td>start</td>\n",
       "      <td>Start</td>\n",
       "      <td>0.031799</td>\n",
       "    </tr>\n",
       "    <tr>\n",
       "      <th>24</th>\n",
       "      <td>r3</td>\n",
       "      <td>Red 3</td>\n",
       "      <td>0.031463</td>\n",
       "    </tr>\n",
       "    <tr>\n",
       "      <th>19</th>\n",
       "      <td>o3</td>\n",
       "      <td>Orange 3</td>\n",
       "      <td>0.029676</td>\n",
       "    </tr>\n",
       "    <tr>\n",
       "      <th>15</th>\n",
       "      <td>ts2</td>\n",
       "      <td>Train Station 2</td>\n",
       "      <td>0.028553</td>\n",
       "    </tr>\n",
       "    <tr>\n",
       "      <th>31</th>\n",
       "      <td>g1</td>\n",
       "      <td>Green 1</td>\n",
       "      <td>0.028538</td>\n",
       "    </tr>\n",
       "    <tr>\n",
       "      <th>18</th>\n",
       "      <td>o2</td>\n",
       "      <td>Orange 2</td>\n",
       "      <td>0.028437</td>\n",
       "    </tr>\n",
       "    <tr>\n",
       "      <th>20</th>\n",
       "      <td>p</td>\n",
       "      <td>Free Parking</td>\n",
       "      <td>0.027818</td>\n",
       "    </tr>\n",
       "    <tr>\n",
       "      <th>16</th>\n",
       "      <td>o1</td>\n",
       "      <td>Orange 1</td>\n",
       "      <td>0.027570</td>\n",
       "    </tr>\n",
       "    <tr>\n",
       "      <th>21</th>\n",
       "      <td>r1</td>\n",
       "      <td>Red 1</td>\n",
       "      <td>0.027186</td>\n",
       "    </tr>\n",
       "    <tr>\n",
       "      <th>26</th>\n",
       "      <td>y1</td>\n",
       "      <td>Yellow 1</td>\n",
       "      <td>0.027147</td>\n",
       "    </tr>\n",
       "    <tr>\n",
       "      <th>27</th>\n",
       "      <td>y2</td>\n",
       "      <td>Yellow 2</td>\n",
       "      <td>0.026920</td>\n",
       "    </tr>\n",
       "    <tr>\n",
       "      <th>28</th>\n",
       "      <td>ww</td>\n",
       "      <td>Water Works</td>\n",
       "      <td>0.026801</td>\n",
       "    </tr>\n",
       "    <tr>\n",
       "      <th>29</th>\n",
       "      <td>y3</td>\n",
       "      <td>Yellow 3</td>\n",
       "      <td>0.026641</td>\n",
       "    </tr>\n",
       "    <tr>\n",
       "      <th>25</th>\n",
       "      <td>ts3</td>\n",
       "      <td>Train Station 3</td>\n",
       "      <td>0.026621</td>\n",
       "    </tr>\n",
       "    <tr>\n",
       "      <th>23</th>\n",
       "      <td>r2</td>\n",
       "      <td>Red 2</td>\n",
       "      <td>0.026286</td>\n",
       "    </tr>\n",
       "    <tr>\n",
       "      <th>32</th>\n",
       "      <td>g2</td>\n",
       "      <td>Green 2</td>\n",
       "      <td>0.026025</td>\n",
       "    </tr>\n",
       "    <tr>\n",
       "      <th>34</th>\n",
       "      <td>g3</td>\n",
       "      <td>Green 3</td>\n",
       "      <td>0.024879</td>\n",
       "    </tr>\n",
       "    <tr>\n",
       "      <th>14</th>\n",
       "      <td>p3</td>\n",
       "      <td>Purple 3</td>\n",
       "      <td>0.024821</td>\n",
       "    </tr>\n",
       "    <tr>\n",
       "      <th>13</th>\n",
       "      <td>p2</td>\n",
       "      <td>Purple 2</td>\n",
       "      <td>0.024322</td>\n",
       "    </tr>\n",
       "    <tr>\n",
       "      <th>35</th>\n",
       "      <td>ts4</td>\n",
       "      <td>Train Station 4</td>\n",
       "      <td>0.024131</td>\n",
       "    </tr>\n",
       "    <tr>\n",
       "      <th>4</th>\n",
       "      <td>it</td>\n",
       "      <td>Income Tax</td>\n",
       "      <td>0.024131</td>\n",
       "    </tr>\n",
       "    <tr>\n",
       "      <th>17</th>\n",
       "      <td>cc2</td>\n",
       "      <td>Community Chest 2</td>\n",
       "      <td>0.023753</td>\n",
       "    </tr>\n",
       "    <tr>\n",
       "      <th>12</th>\n",
       "      <td>ec</td>\n",
       "      <td>Electric Company</td>\n",
       "      <td>0.023528</td>\n",
       "    </tr>\n",
       "    <tr>\n",
       "      <th>6</th>\n",
       "      <td>lb1</td>\n",
       "      <td>Light Blue 1</td>\n",
       "      <td>0.023451</td>\n",
       "    </tr>\n",
       "    <tr>\n",
       "      <th>37</th>\n",
       "      <td>db1</td>\n",
       "      <td>Dark Blue 1</td>\n",
       "      <td>0.023376</td>\n",
       "    </tr>\n",
       "    <tr>\n",
       "      <th>9</th>\n",
       "      <td>lb3</td>\n",
       "      <td>Light Blue 3</td>\n",
       "      <td>0.023289</td>\n",
       "    </tr>\n",
       "    <tr>\n",
       "      <th>8</th>\n",
       "      <td>lb2</td>\n",
       "      <td>Light Blue 2</td>\n",
       "      <td>0.023282</td>\n",
       "    </tr>\n",
       "    <tr>\n",
       "      <th>5</th>\n",
       "      <td>t1</td>\n",
       "      <td>Train Station 1</td>\n",
       "      <td>0.023033</td>\n",
       "    </tr>\n",
       "    <tr>\n",
       "      <th>3</th>\n",
       "      <td>b2</td>\n",
       "      <td>Brown 2</td>\n",
       "      <td>0.022926</td>\n",
       "    </tr>\n",
       "    <tr>\n",
       "      <th>33</th>\n",
       "      <td>cc3</td>\n",
       "      <td>Community Chest 3</td>\n",
       "      <td>0.022388</td>\n",
       "    </tr>\n",
       "    <tr>\n",
       "      <th>11</th>\n",
       "      <td>p1</td>\n",
       "      <td>Purple 1</td>\n",
       "      <td>0.022340</td>\n",
       "    </tr>\n",
       "    <tr>\n",
       "      <th>39</th>\n",
       "      <td>db2</td>\n",
       "      <td>Dark Blue 2</td>\n",
       "      <td>0.022233</td>\n",
       "    </tr>\n",
       "    <tr>\n",
       "      <th>38</th>\n",
       "      <td>st</td>\n",
       "      <td>Super Tax</td>\n",
       "      <td>0.022191</td>\n",
       "    </tr>\n",
       "    <tr>\n",
       "      <th>1</th>\n",
       "      <td>b1</td>\n",
       "      <td>Brown 1</td>\n",
       "      <td>0.022072</td>\n",
       "    </tr>\n",
       "    <tr>\n",
       "      <th>22</th>\n",
       "      <td>c2</td>\n",
       "      <td>Chance 2</td>\n",
       "      <td>0.020359</td>\n",
       "    </tr>\n",
       "    <tr>\n",
       "      <th>2</th>\n",
       "      <td>cc1</td>\n",
       "      <td>Community Chest 1</td>\n",
       "      <td>0.018267</td>\n",
       "    </tr>\n",
       "    <tr>\n",
       "      <th>7</th>\n",
       "      <td>c1</td>\n",
       "      <td>Chance 1</td>\n",
       "      <td>0.017436</td>\n",
       "    </tr>\n",
       "    <tr>\n",
       "      <th>36</th>\n",
       "      <td>c3</td>\n",
       "      <td>Chance 3</td>\n",
       "      <td>0.017231</td>\n",
       "    </tr>\n",
       "    <tr>\n",
       "      <th>30</th>\n",
       "      <td>gtj</td>\n",
       "      <td>Go to Jail</td>\n",
       "      <td>0.000000</td>\n",
       "    </tr>\n",
       "  </tbody>\n",
       "</table>\n",
       "</div>"
      ],
      "text/plain": [
       "   Square        Description  Probability\n",
       "10   jail               Jail     0.059080\n",
       "0   start              Start     0.031799\n",
       "24     r3              Red 3     0.031463\n",
       "19     o3           Orange 3     0.029676\n",
       "15    ts2    Train Station 2     0.028553\n",
       "31     g1            Green 1     0.028538\n",
       "18     o2           Orange 2     0.028437\n",
       "20      p       Free Parking     0.027818\n",
       "16     o1           Orange 1     0.027570\n",
       "21     r1              Red 1     0.027186\n",
       "26     y1           Yellow 1     0.027147\n",
       "27     y2           Yellow 2     0.026920\n",
       "28     ww        Water Works     0.026801\n",
       "29     y3           Yellow 3     0.026641\n",
       "25    ts3    Train Station 3     0.026621\n",
       "23     r2              Red 2     0.026286\n",
       "32     g2            Green 2     0.026025\n",
       "34     g3            Green 3     0.024879\n",
       "14     p3           Purple 3     0.024821\n",
       "13     p2           Purple 2     0.024322\n",
       "35    ts4    Train Station 4     0.024131\n",
       "4      it         Income Tax     0.024131\n",
       "17    cc2  Community Chest 2     0.023753\n",
       "12     ec   Electric Company     0.023528\n",
       "6     lb1       Light Blue 1     0.023451\n",
       "37    db1        Dark Blue 1     0.023376\n",
       "9     lb3       Light Blue 3     0.023289\n",
       "8     lb2       Light Blue 2     0.023282\n",
       "5      t1    Train Station 1     0.023033\n",
       "3      b2            Brown 2     0.022926\n",
       "33    cc3  Community Chest 3     0.022388\n",
       "11     p1           Purple 1     0.022340\n",
       "39    db2        Dark Blue 2     0.022233\n",
       "38     st          Super Tax     0.022191\n",
       "1      b1            Brown 1     0.022072\n",
       "22     c2           Chance 2     0.020359\n",
       "2     cc1  Community Chest 1     0.018267\n",
       "7      c1           Chance 1     0.017436\n",
       "36     c3           Chance 3     0.017231\n",
       "30    gtj         Go to Jail     0.000000"
      ]
     },
     "execution_count": 30,
     "metadata": {},
     "output_type": "execute_result"
    }
   ],
   "source": [
    "df.loc[:, df.columns.isin(['Square', 'Description', 'Probability'])].sort_values(by='Probability', ascending=False)"
   ]
  },
  {
   "cell_type": "markdown",
   "metadata": {},
   "source": [
    "### Top 10 highest probability squares"
   ]
  },
  {
   "cell_type": "markdown",
   "metadata": {},
   "source": [
    "The top 10 squares that have the highest probability for a player to land on are:"
   ]
  },
  {
   "cell_type": "code",
   "execution_count": 31,
   "metadata": {},
   "outputs": [
    {
     "data": {
      "text/html": [
       "<div>\n",
       "<style scoped>\n",
       "    .dataframe tbody tr th:only-of-type {\n",
       "        vertical-align: middle;\n",
       "    }\n",
       "\n",
       "    .dataframe tbody tr th {\n",
       "        vertical-align: top;\n",
       "    }\n",
       "\n",
       "    .dataframe thead th {\n",
       "        text-align: right;\n",
       "    }\n",
       "</style>\n",
       "<table border=\"1\" class=\"dataframe\">\n",
       "  <thead>\n",
       "    <tr style=\"text-align: right;\">\n",
       "      <th></th>\n",
       "      <th>Square</th>\n",
       "      <th>Description</th>\n",
       "      <th>Probability</th>\n",
       "    </tr>\n",
       "  </thead>\n",
       "  <tbody>\n",
       "    <tr>\n",
       "      <th>24</th>\n",
       "      <td>r3</td>\n",
       "      <td>Red 3</td>\n",
       "      <td>0.031463</td>\n",
       "    </tr>\n",
       "    <tr>\n",
       "      <th>19</th>\n",
       "      <td>o3</td>\n",
       "      <td>Orange 3</td>\n",
       "      <td>0.029676</td>\n",
       "    </tr>\n",
       "    <tr>\n",
       "      <th>15</th>\n",
       "      <td>ts2</td>\n",
       "      <td>Train Station 2</td>\n",
       "      <td>0.028553</td>\n",
       "    </tr>\n",
       "    <tr>\n",
       "      <th>31</th>\n",
       "      <td>g1</td>\n",
       "      <td>Green 1</td>\n",
       "      <td>0.028538</td>\n",
       "    </tr>\n",
       "    <tr>\n",
       "      <th>18</th>\n",
       "      <td>o2</td>\n",
       "      <td>Orange 2</td>\n",
       "      <td>0.028437</td>\n",
       "    </tr>\n",
       "    <tr>\n",
       "      <th>16</th>\n",
       "      <td>o1</td>\n",
       "      <td>Orange 1</td>\n",
       "      <td>0.027570</td>\n",
       "    </tr>\n",
       "    <tr>\n",
       "      <th>21</th>\n",
       "      <td>r1</td>\n",
       "      <td>Red 1</td>\n",
       "      <td>0.027186</td>\n",
       "    </tr>\n",
       "    <tr>\n",
       "      <th>26</th>\n",
       "      <td>y1</td>\n",
       "      <td>Yellow 1</td>\n",
       "      <td>0.027147</td>\n",
       "    </tr>\n",
       "    <tr>\n",
       "      <th>27</th>\n",
       "      <td>y2</td>\n",
       "      <td>Yellow 2</td>\n",
       "      <td>0.026920</td>\n",
       "    </tr>\n",
       "    <tr>\n",
       "      <th>28</th>\n",
       "      <td>ww</td>\n",
       "      <td>Water Works</td>\n",
       "      <td>0.026801</td>\n",
       "    </tr>\n",
       "  </tbody>\n",
       "</table>\n",
       "</div>"
      ],
      "text/plain": [
       "   Square      Description  Probability\n",
       "24     r3            Red 3     0.031463\n",
       "19     o3         Orange 3     0.029676\n",
       "15    ts2  Train Station 2     0.028553\n",
       "31     g1          Green 1     0.028538\n",
       "18     o2         Orange 2     0.028437\n",
       "16     o1         Orange 1     0.027570\n",
       "21     r1            Red 1     0.027186\n",
       "26     y1         Yellow 1     0.027147\n",
       "27     y2         Yellow 2     0.026920\n",
       "28     ww      Water Works     0.026801"
      ]
     },
     "execution_count": 31,
     "metadata": {},
     "output_type": "execute_result"
    }
   ],
   "source": [
    "df.loc[df['Purchasable'] == True, df.columns.isin(['Square', 'Description', 'Probability'])]\\\n",
    "    .sort_values('Probability', ascending=False).head(10)"
   ]
  },
  {
   "cell_type": "markdown",
   "metadata": {},
   "source": [
    "The total probability for all 10 squares is:"
   ]
  },
  {
   "cell_type": "code",
   "execution_count": 32,
   "metadata": {},
   "outputs": [
    {
     "data": {
      "text/plain": [
       "0.28229100000000001"
      ]
     },
     "execution_count": 32,
     "metadata": {},
     "output_type": "execute_result"
    }
   ],
   "source": [
    "df.loc[df['Purchasable'] == True].sort_values('Probability', ascending=False)\\\n",
    "    .head(10)['Probability'].sum()"
   ]
  },
  {
   "cell_type": "markdown",
   "metadata": {},
   "source": [
    "### Plot of expected value per turn"
   ]
  },
  {
   "cell_type": "markdown",
   "metadata": {},
   "source": [
    "Now we want to know how much each square generates per turn with the found probabilities and the rent the player needs to pay when we land on it. First we make a selection to only get the purchasable squares. "
   ]
  },
  {
   "cell_type": "code",
   "execution_count": 33,
   "metadata": {},
   "outputs": [],
   "source": [
    "rentable_df = pd.DataFrame(df.loc[df['Purchasable'] == True]).reindex()"
   ]
  },
  {
   "cell_type": "markdown",
   "metadata": {},
   "source": [
    "Plotting this gives:"
   ]
  },
  {
   "cell_type": "code",
   "execution_count": 34,
   "metadata": {},
   "outputs": [
    {
     "data": {
      "image/png": "[encoded data removed]",
      "text/plain": [
       "<matplotlib.figure.Figure at 0x147ea5ace80>"
      ]
     },
     "metadata": {},
     "output_type": "display_data"
    }
   ],
   "source": [
    "plt.rc('xtick', labelsize=16) \n",
    "plt.rc('ytick', labelsize=14) \n",
    "rentable_df[['Description', 'Expected Value']].sort_values(by='Expected Value', ascending=False)\\\n",
    "    .plot(kind='bar', figsize=(14,5))\n",
    "plt.xticks(range(len(rentable_df.index)), rentable_df[['Description', 'Expected Value']]\n",
    "    .sort_values(by='Expected Value', ascending=False)['Description'])\n",
    "plt.ylabel('Expected Value')\n",
    "plt.title('Expected Value by Square');"
   ]
  },
  {
   "cell_type": "markdown",
   "metadata": {},
   "source": [
    "### Table of expected value per turn "
   ]
  },
  {
   "cell_type": "markdown",
   "metadata": {},
   "source": [
    "The full table of expected values is below."
   ]
  },
  {
   "cell_type": "code",
   "execution_count": 35,
   "metadata": {},
   "outputs": [
    {
     "data": {
      "text/html": [
       "<div>\n",
       "<style scoped>\n",
       "    .dataframe tbody tr th:only-of-type {\n",
       "        vertical-align: middle;\n",
       "    }\n",
       "\n",
       "    .dataframe tbody tr th {\n",
       "        vertical-align: top;\n",
       "    }\n",
       "\n",
       "    .dataframe thead th {\n",
       "        text-align: right;\n",
       "    }\n",
       "</style>\n",
       "<table border=\"1\" class=\"dataframe\">\n",
       "  <thead>\n",
       "    <tr style=\"text-align: right;\">\n",
       "      <th></th>\n",
       "      <th>Square</th>\n",
       "      <th>Description</th>\n",
       "      <th>Rent</th>\n",
       "      <th>Probability</th>\n",
       "      <th>Expected Value</th>\n",
       "    </tr>\n",
       "  </thead>\n",
       "  <tbody>\n",
       "    <tr>\n",
       "      <th>39</th>\n",
       "      <td>db2</td>\n",
       "      <td>Dark Blue 2</td>\n",
       "      <td>50.0</td>\n",
       "      <td>0.022233</td>\n",
       "      <td>1.111650</td>\n",
       "    </tr>\n",
       "    <tr>\n",
       "      <th>37</th>\n",
       "      <td>db1</td>\n",
       "      <td>Dark Blue 1</td>\n",
       "      <td>35.0</td>\n",
       "      <td>0.023376</td>\n",
       "      <td>0.818160</td>\n",
       "    </tr>\n",
       "    <tr>\n",
       "      <th>31</th>\n",
       "      <td>g1</td>\n",
       "      <td>Green 1</td>\n",
       "      <td>26.0</td>\n",
       "      <td>0.028538</td>\n",
       "      <td>0.741988</td>\n",
       "    </tr>\n",
       "    <tr>\n",
       "      <th>15</th>\n",
       "      <td>ts2</td>\n",
       "      <td>Train Station 2</td>\n",
       "      <td>25.0</td>\n",
       "      <td>0.028553</td>\n",
       "      <td>0.713825</td>\n",
       "    </tr>\n",
       "    <tr>\n",
       "      <th>34</th>\n",
       "      <td>g3</td>\n",
       "      <td>Green 3</td>\n",
       "      <td>28.0</td>\n",
       "      <td>0.024879</td>\n",
       "      <td>0.696612</td>\n",
       "    </tr>\n",
       "    <tr>\n",
       "      <th>32</th>\n",
       "      <td>g2</td>\n",
       "      <td>Green 2</td>\n",
       "      <td>26.0</td>\n",
       "      <td>0.026025</td>\n",
       "      <td>0.676650</td>\n",
       "    </tr>\n",
       "    <tr>\n",
       "      <th>25</th>\n",
       "      <td>ts3</td>\n",
       "      <td>Train Station 3</td>\n",
       "      <td>25.0</td>\n",
       "      <td>0.026621</td>\n",
       "      <td>0.665525</td>\n",
       "    </tr>\n",
       "    <tr>\n",
       "      <th>29</th>\n",
       "      <td>y3</td>\n",
       "      <td>Yellow 3</td>\n",
       "      <td>24.0</td>\n",
       "      <td>0.026641</td>\n",
       "      <td>0.639384</td>\n",
       "    </tr>\n",
       "    <tr>\n",
       "      <th>24</th>\n",
       "      <td>r3</td>\n",
       "      <td>Red 3</td>\n",
       "      <td>20.0</td>\n",
       "      <td>0.031463</td>\n",
       "      <td>0.629260</td>\n",
       "    </tr>\n",
       "    <tr>\n",
       "      <th>35</th>\n",
       "      <td>ts4</td>\n",
       "      <td>Train Station 4</td>\n",
       "      <td>25.0</td>\n",
       "      <td>0.024131</td>\n",
       "      <td>0.603275</td>\n",
       "    </tr>\n",
       "    <tr>\n",
       "      <th>26</th>\n",
       "      <td>y1</td>\n",
       "      <td>Yellow 1</td>\n",
       "      <td>22.0</td>\n",
       "      <td>0.027147</td>\n",
       "      <td>0.597234</td>\n",
       "    </tr>\n",
       "    <tr>\n",
       "      <th>27</th>\n",
       "      <td>y2</td>\n",
       "      <td>Yellow 2</td>\n",
       "      <td>22.0</td>\n",
       "      <td>0.026920</td>\n",
       "      <td>0.592240</td>\n",
       "    </tr>\n",
       "    <tr>\n",
       "      <th>5</th>\n",
       "      <td>t1</td>\n",
       "      <td>Train Station 1</td>\n",
       "      <td>25.0</td>\n",
       "      <td>0.023033</td>\n",
       "      <td>0.575825</td>\n",
       "    </tr>\n",
       "    <tr>\n",
       "      <th>21</th>\n",
       "      <td>r1</td>\n",
       "      <td>Red 1</td>\n",
       "      <td>18.0</td>\n",
       "      <td>0.027186</td>\n",
       "      <td>0.489348</td>\n",
       "    </tr>\n",
       "    <tr>\n",
       "      <th>19</th>\n",
       "      <td>o3</td>\n",
       "      <td>Orange 3</td>\n",
       "      <td>16.0</td>\n",
       "      <td>0.029676</td>\n",
       "      <td>0.474816</td>\n",
       "    </tr>\n",
       "    <tr>\n",
       "      <th>23</th>\n",
       "      <td>r2</td>\n",
       "      <td>Red 2</td>\n",
       "      <td>18.0</td>\n",
       "      <td>0.026286</td>\n",
       "      <td>0.473148</td>\n",
       "    </tr>\n",
       "    <tr>\n",
       "      <th>18</th>\n",
       "      <td>o2</td>\n",
       "      <td>Orange 2</td>\n",
       "      <td>14.0</td>\n",
       "      <td>0.028437</td>\n",
       "      <td>0.398118</td>\n",
       "    </tr>\n",
       "    <tr>\n",
       "      <th>16</th>\n",
       "      <td>o1</td>\n",
       "      <td>Orange 1</td>\n",
       "      <td>14.0</td>\n",
       "      <td>0.027570</td>\n",
       "      <td>0.385980</td>\n",
       "    </tr>\n",
       "    <tr>\n",
       "      <th>28</th>\n",
       "      <td>ww</td>\n",
       "      <td>Water Works</td>\n",
       "      <td>14.0</td>\n",
       "      <td>0.026801</td>\n",
       "      <td>0.375214</td>\n",
       "    </tr>\n",
       "    <tr>\n",
       "      <th>12</th>\n",
       "      <td>ec</td>\n",
       "      <td>Electric Company</td>\n",
       "      <td>14.0</td>\n",
       "      <td>0.023528</td>\n",
       "      <td>0.329392</td>\n",
       "    </tr>\n",
       "    <tr>\n",
       "      <th>14</th>\n",
       "      <td>p3</td>\n",
       "      <td>Purple 3</td>\n",
       "      <td>12.0</td>\n",
       "      <td>0.024821</td>\n",
       "      <td>0.297852</td>\n",
       "    </tr>\n",
       "    <tr>\n",
       "      <th>13</th>\n",
       "      <td>p2</td>\n",
       "      <td>Purple 2</td>\n",
       "      <td>10.0</td>\n",
       "      <td>0.024322</td>\n",
       "      <td>0.243220</td>\n",
       "    </tr>\n",
       "    <tr>\n",
       "      <th>11</th>\n",
       "      <td>p1</td>\n",
       "      <td>Purple 1</td>\n",
       "      <td>10.0</td>\n",
       "      <td>0.022340</td>\n",
       "      <td>0.223400</td>\n",
       "    </tr>\n",
       "    <tr>\n",
       "      <th>9</th>\n",
       "      <td>lb3</td>\n",
       "      <td>Light Blue 3</td>\n",
       "      <td>8.0</td>\n",
       "      <td>0.023289</td>\n",
       "      <td>0.186312</td>\n",
       "    </tr>\n",
       "    <tr>\n",
       "      <th>6</th>\n",
       "      <td>lb1</td>\n",
       "      <td>Light Blue 1</td>\n",
       "      <td>6.0</td>\n",
       "      <td>0.023451</td>\n",
       "      <td>0.140706</td>\n",
       "    </tr>\n",
       "    <tr>\n",
       "      <th>8</th>\n",
       "      <td>lb2</td>\n",
       "      <td>Light Blue 2</td>\n",
       "      <td>6.0</td>\n",
       "      <td>0.023282</td>\n",
       "      <td>0.139692</td>\n",
       "    </tr>\n",
       "    <tr>\n",
       "      <th>3</th>\n",
       "      <td>b2</td>\n",
       "      <td>Brown 2</td>\n",
       "      <td>4.0</td>\n",
       "      <td>0.022926</td>\n",
       "      <td>0.091704</td>\n",
       "    </tr>\n",
       "    <tr>\n",
       "      <th>1</th>\n",
       "      <td>b1</td>\n",
       "      <td>Brown 1</td>\n",
       "      <td>2.0</td>\n",
       "      <td>0.022072</td>\n",
       "      <td>0.044144</td>\n",
       "    </tr>\n",
       "  </tbody>\n",
       "</table>\n",
       "</div>"
      ],
      "text/plain": [
       "   Square       Description  Rent  Probability  Expected Value\n",
       "39    db2       Dark Blue 2  50.0     0.022233        1.111650\n",
       "37    db1       Dark Blue 1  35.0     0.023376        0.818160\n",
       "31     g1           Green 1  26.0     0.028538        0.741988\n",
       "15    ts2   Train Station 2  25.0     0.028553        0.713825\n",
       "34     g3           Green 3  28.0     0.024879        0.696612\n",
       "32     g2           Green 2  26.0     0.026025        0.676650\n",
       "25    ts3   Train Station 3  25.0     0.026621        0.665525\n",
       "29     y3          Yellow 3  24.0     0.026641        0.639384\n",
       "24     r3             Red 3  20.0     0.031463        0.629260\n",
       "35    ts4   Train Station 4  25.0     0.024131        0.603275\n",
       "26     y1          Yellow 1  22.0     0.027147        0.597234\n",
       "27     y2          Yellow 2  22.0     0.026920        0.592240\n",
       "5      t1   Train Station 1  25.0     0.023033        0.575825\n",
       "21     r1             Red 1  18.0     0.027186        0.489348\n",
       "19     o3          Orange 3  16.0     0.029676        0.474816\n",
       "23     r2             Red 2  18.0     0.026286        0.473148\n",
       "18     o2          Orange 2  14.0     0.028437        0.398118\n",
       "16     o1          Orange 1  14.0     0.027570        0.385980\n",
       "28     ww       Water Works  14.0     0.026801        0.375214\n",
       "12     ec  Electric Company  14.0     0.023528        0.329392\n",
       "14     p3          Purple 3  12.0     0.024821        0.297852\n",
       "13     p2          Purple 2  10.0     0.024322        0.243220\n",
       "11     p1          Purple 1  10.0     0.022340        0.223400\n",
       "9     lb3      Light Blue 3   8.0     0.023289        0.186312\n",
       "6     lb1      Light Blue 1   6.0     0.023451        0.140706\n",
       "8     lb2      Light Blue 2   6.0     0.023282        0.139692\n",
       "3      b2           Brown 2   4.0     0.022926        0.091704\n",
       "1      b1           Brown 1   2.0     0.022072        0.044144"
      ]
     },
     "execution_count": 35,
     "metadata": {},
     "output_type": "execute_result"
    }
   ],
   "source": [
    "rentable_df.loc[:, rentable_df.columns.isin(['Square', 'Description', 'Rent', 'Probability', 'Expected Value'])]\\\n",
    "    .sort_values('Expected Value', ascending=False)"
   ]
  },
  {
   "cell_type": "markdown",
   "metadata": {},
   "source": [
    "## Grouped probability statistics"
   ]
  },
  {
   "cell_type": "markdown",
   "metadata": {},
   "source": [
    "We want to answer the following questions:\n",
    "\n",
    "1. What are the best streets to have?\n",
    "2. What is the probability to be in jail?\n",
    "3. What is the probability to draw a card?"
   ]
  },
  {
   "cell_type": "markdown",
   "metadata": {},
   "source": [
    "### Plot of probabilities by group"
   ]
  },
  {
   "cell_type": "markdown",
   "metadata": {},
   "source": [
    "To find what the probabilities are per street, chance, community chest, etc., we are going to aggregate the possibilities."
   ]
  },
  {
   "cell_type": "code",
   "execution_count": 36,
   "metadata": {},
   "outputs": [],
   "source": [
    "aggregated_df = pd.DataFrame(df.groupby(['Aggregate'])['Probability'].sum()).reset_index()"
   ]
  },
  {
   "cell_type": "markdown",
   "metadata": {},
   "source": [
    "Now we plot the aggregated probabilities."
   ]
  },
  {
   "cell_type": "code",
   "execution_count": 37,
   "metadata": {},
   "outputs": [
    {
     "data": {
      "image/png": "[encoded data removed]",
      "text/plain": [
       "<matplotlib.figure.Figure at 0x147e8337f98>"
      ]
     },
     "metadata": {},
     "output_type": "display_data"
    }
   ],
   "source": [
    "plt.rc('xtick', labelsize=16) \n",
    "plt.rc('ytick', labelsize=14) \n",
    "aggregated_df[['Aggregate', 'Probability']].sort_values(by='Probability', ascending=False)\\\n",
    "    .plot(kind='bar', figsize=(10,5))\n",
    "plt.xticks(range(len(aggregated_df.index)), aggregated_df[['Aggregate', 'Probability']]\n",
    "    .sort_values(by='Probability', ascending=False)['Aggregate'])\n",
    "plt.ylabel('Probability')\n",
    "plt.title('Probability by Group');"
   ]
  },
  {
   "cell_type": "markdown",
   "metadata": {},
   "source": [
    "### Table of probabilities by group"
   ]
  },
  {
   "cell_type": "markdown",
   "metadata": {},
   "source": [
    "A total overview of all the probabilities can be found in the table below:"
   ]
  },
  {
   "cell_type": "code",
   "execution_count": 38,
   "metadata": {},
   "outputs": [
    {
     "data": {
      "text/html": [
       "<div>\n",
       "<style scoped>\n",
       "    .dataframe tbody tr th:only-of-type {\n",
       "        vertical-align: middle;\n",
       "    }\n",
       "\n",
       "    .dataframe tbody tr th {\n",
       "        vertical-align: top;\n",
       "    }\n",
       "\n",
       "    .dataframe thead th {\n",
       "        text-align: right;\n",
       "    }\n",
       "</style>\n",
       "<table border=\"1\" class=\"dataframe\">\n",
       "  <thead>\n",
       "    <tr style=\"text-align: right;\">\n",
       "      <th></th>\n",
       "      <th>Aggregate</th>\n",
       "      <th>Probability</th>\n",
       "    </tr>\n",
       "  </thead>\n",
       "  <tbody>\n",
       "    <tr>\n",
       "      <th>15</th>\n",
       "      <td>Train Station</td>\n",
       "      <td>0.102338</td>\n",
       "    </tr>\n",
       "    <tr>\n",
       "      <th>10</th>\n",
       "      <td>Orange</td>\n",
       "      <td>0.085683</td>\n",
       "    </tr>\n",
       "    <tr>\n",
       "      <th>12</th>\n",
       "      <td>Red</td>\n",
       "      <td>0.084935</td>\n",
       "    </tr>\n",
       "    <tr>\n",
       "      <th>17</th>\n",
       "      <td>Yellow</td>\n",
       "      <td>0.080708</td>\n",
       "    </tr>\n",
       "    <tr>\n",
       "      <th>6</th>\n",
       "      <td>Green</td>\n",
       "      <td>0.079442</td>\n",
       "    </tr>\n",
       "    <tr>\n",
       "      <th>11</th>\n",
       "      <td>Purple</td>\n",
       "      <td>0.071483</td>\n",
       "    </tr>\n",
       "    <tr>\n",
       "      <th>9</th>\n",
       "      <td>Light Blue</td>\n",
       "      <td>0.070022</td>\n",
       "    </tr>\n",
       "    <tr>\n",
       "      <th>2</th>\n",
       "      <td>Community Chest</td>\n",
       "      <td>0.064408</td>\n",
       "    </tr>\n",
       "    <tr>\n",
       "      <th>8</th>\n",
       "      <td>Jail</td>\n",
       "      <td>0.059080</td>\n",
       "    </tr>\n",
       "    <tr>\n",
       "      <th>1</th>\n",
       "      <td>Chance</td>\n",
       "      <td>0.055026</td>\n",
       "    </tr>\n",
       "    <tr>\n",
       "      <th>16</th>\n",
       "      <td>Utilities</td>\n",
       "      <td>0.050329</td>\n",
       "    </tr>\n",
       "    <tr>\n",
       "      <th>3</th>\n",
       "      <td>Dark Blue</td>\n",
       "      <td>0.045609</td>\n",
       "    </tr>\n",
       "    <tr>\n",
       "      <th>0</th>\n",
       "      <td>Brown</td>\n",
       "      <td>0.044998</td>\n",
       "    </tr>\n",
       "    <tr>\n",
       "      <th>13</th>\n",
       "      <td>Start</td>\n",
       "      <td>0.031799</td>\n",
       "    </tr>\n",
       "    <tr>\n",
       "      <th>4</th>\n",
       "      <td>Free Parking</td>\n",
       "      <td>0.027818</td>\n",
       "    </tr>\n",
       "    <tr>\n",
       "      <th>7</th>\n",
       "      <td>Income Tax</td>\n",
       "      <td>0.024131</td>\n",
       "    </tr>\n",
       "    <tr>\n",
       "      <th>14</th>\n",
       "      <td>Super Tax</td>\n",
       "      <td>0.022191</td>\n",
       "    </tr>\n",
       "    <tr>\n",
       "      <th>5</th>\n",
       "      <td>Go to Jail</td>\n",
       "      <td>0.000000</td>\n",
       "    </tr>\n",
       "  </tbody>\n",
       "</table>\n",
       "</div>"
      ],
      "text/plain": [
       "          Aggregate  Probability\n",
       "15    Train Station     0.102338\n",
       "10           Orange     0.085683\n",
       "12              Red     0.084935\n",
       "17           Yellow     0.080708\n",
       "6             Green     0.079442\n",
       "11           Purple     0.071483\n",
       "9        Light Blue     0.070022\n",
       "2   Community Chest     0.064408\n",
       "8              Jail     0.059080\n",
       "1            Chance     0.055026\n",
       "16        Utilities     0.050329\n",
       "3         Dark Blue     0.045609\n",
       "0             Brown     0.044998\n",
       "13            Start     0.031799\n",
       "4      Free Parking     0.027818\n",
       "7        Income Tax     0.024131\n",
       "14        Super Tax     0.022191\n",
       "5        Go to Jail     0.000000"
      ]
     },
     "execution_count": 38,
     "metadata": {},
     "output_type": "execute_result"
    }
   ],
   "source": [
    "aggregated_df.sort_values('Probability', ascending=False)"
   ]
  },
  {
   "cell_type": "markdown",
   "metadata": {},
   "source": [
    "### Plot of expected values by group"
   ]
  },
  {
   "cell_type": "markdown",
   "metadata": {},
   "source": [
    "If we find the expected values by each aggregate we can find out which group generated the most money per turn."
   ]
  },
  {
   "cell_type": "code",
   "execution_count": 39,
   "metadata": {},
   "outputs": [],
   "source": [
    "aggregated_ev_df = pd.DataFrame(df.loc[df['Purchasable'] == True]\\\n",
    "    .groupby(['Aggregate'])['Expected Value'].sum()).reset_index()"
   ]
  },
  {
   "cell_type": "markdown",
   "metadata": {},
   "source": [
    "Plotting this gives:"
   ]
  },
  {
   "cell_type": "code",
   "execution_count": 40,
   "metadata": {},
   "outputs": [
    {
     "data": {
      "image/png": "[encoded data removed]",
      "text/plain": [
       "<matplotlib.figure.Figure at 0x147ea5fada0>"
      ]
     },
     "metadata": {},
     "output_type": "display_data"
    }
   ],
   "source": [
    "plt.rc('xtick', labelsize=16) \n",
    "plt.rc('ytick', labelsize=14) \n",
    "aggregated_ev_df[['Aggregate', 'Expected Value']].sort_values(by='Expected Value', ascending=False)\\\n",
    "    .plot(kind='bar', figsize=(10,4))\n",
    "plt.xticks(range(len(aggregated_ev_df.index)), aggregated_ev_df[['Aggregate', 'Expected Value']]\n",
    "    .sort_values(by='Expected Value', ascending=False)['Aggregate'])\n",
    "plt.ylabel('Expected Value')\n",
    "plt.title('Expected Value by Group');"
   ]
  },
  {
   "cell_type": "markdown",
   "metadata": {},
   "source": [
    "We can conclude that the `Train Station` yields the most. This are however $4$ squares. The best street to have is `Green`."
   ]
  },
  {
   "cell_type": "markdown",
   "metadata": {},
   "source": [
    "### Table of expected values by group"
   ]
  },
  {
   "cell_type": "markdown",
   "metadata": {},
   "source": [
    "A full table of expected values can be found below"
   ]
  },
  {
   "cell_type": "code",
   "execution_count": 41,
   "metadata": {},
   "outputs": [
    {
     "data": {
      "text/html": [
       "<div>\n",
       "<style scoped>\n",
       "    .dataframe tbody tr th:only-of-type {\n",
       "        vertical-align: middle;\n",
       "    }\n",
       "\n",
       "    .dataframe tbody tr th {\n",
       "        vertical-align: top;\n",
       "    }\n",
       "\n",
       "    .dataframe thead th {\n",
       "        text-align: right;\n",
       "    }\n",
       "</style>\n",
       "<table border=\"1\" class=\"dataframe\">\n",
       "  <thead>\n",
       "    <tr style=\"text-align: right;\">\n",
       "      <th></th>\n",
       "      <th>Aggregate</th>\n",
       "      <th>Expected Value</th>\n",
       "    </tr>\n",
       "  </thead>\n",
       "  <tbody>\n",
       "    <tr>\n",
       "      <th>7</th>\n",
       "      <td>Train Station</td>\n",
       "      <td>2.558450</td>\n",
       "    </tr>\n",
       "    <tr>\n",
       "      <th>2</th>\n",
       "      <td>Green</td>\n",
       "      <td>2.115250</td>\n",
       "    </tr>\n",
       "    <tr>\n",
       "      <th>1</th>\n",
       "      <td>Dark Blue</td>\n",
       "      <td>1.929810</td>\n",
       "    </tr>\n",
       "    <tr>\n",
       "      <th>9</th>\n",
       "      <td>Yellow</td>\n",
       "      <td>1.828858</td>\n",
       "    </tr>\n",
       "    <tr>\n",
       "      <th>6</th>\n",
       "      <td>Red</td>\n",
       "      <td>1.591756</td>\n",
       "    </tr>\n",
       "    <tr>\n",
       "      <th>4</th>\n",
       "      <td>Orange</td>\n",
       "      <td>1.258914</td>\n",
       "    </tr>\n",
       "    <tr>\n",
       "      <th>5</th>\n",
       "      <td>Purple</td>\n",
       "      <td>0.764472</td>\n",
       "    </tr>\n",
       "    <tr>\n",
       "      <th>8</th>\n",
       "      <td>Utilities</td>\n",
       "      <td>0.704606</td>\n",
       "    </tr>\n",
       "    <tr>\n",
       "      <th>3</th>\n",
       "      <td>Light Blue</td>\n",
       "      <td>0.466710</td>\n",
       "    </tr>\n",
       "    <tr>\n",
       "      <th>0</th>\n",
       "      <td>Brown</td>\n",
       "      <td>0.135848</td>\n",
       "    </tr>\n",
       "  </tbody>\n",
       "</table>\n",
       "</div>"
      ],
      "text/plain": [
       "       Aggregate  Expected Value\n",
       "7  Train Station        2.558450\n",
       "2          Green        2.115250\n",
       "1      Dark Blue        1.929810\n",
       "9         Yellow        1.828858\n",
       "6            Red        1.591756\n",
       "4         Orange        1.258914\n",
       "5         Purple        0.764472\n",
       "8      Utilities        0.704606\n",
       "3     Light Blue        0.466710\n",
       "0          Brown        0.135848"
      ]
     },
     "execution_count": 41,
     "metadata": {},
     "output_type": "execute_result"
    }
   ],
   "source": [
    "aggregated_ev_df.sort_values('Expected Value', ascending=False)"
   ]
  },
  {
   "cell_type": "markdown",
   "metadata": {},
   "source": [
    "## Other probabilities"
   ]
  },
  {
   "cell_type": "markdown",
   "metadata": {},
   "source": [
    "### Train station probabilities"
   ]
  },
  {
   "cell_type": "markdown",
   "metadata": {},
   "source": [
    "We can conclude that `Train Station` has the highest probability to land on. However, we need to take into account that there are four squares to land on."
   ]
  },
  {
   "cell_type": "code",
   "execution_count": 42,
   "metadata": {},
   "outputs": [
    {
     "data": {
      "text/html": [
       "<div>\n",
       "<style scoped>\n",
       "    .dataframe tbody tr th:only-of-type {\n",
       "        vertical-align: middle;\n",
       "    }\n",
       "\n",
       "    .dataframe tbody tr th {\n",
       "        vertical-align: top;\n",
       "    }\n",
       "\n",
       "    .dataframe thead th {\n",
       "        text-align: right;\n",
       "    }\n",
       "</style>\n",
       "<table border=\"1\" class=\"dataframe\">\n",
       "  <thead>\n",
       "    <tr style=\"text-align: right;\">\n",
       "      <th></th>\n",
       "      <th>Square</th>\n",
       "      <th>Description</th>\n",
       "      <th>Probability</th>\n",
       "      <th>Expected Value</th>\n",
       "    </tr>\n",
       "  </thead>\n",
       "  <tbody>\n",
       "    <tr>\n",
       "      <th>15</th>\n",
       "      <td>ts2</td>\n",
       "      <td>Train Station 2</td>\n",
       "      <td>0.028553</td>\n",
       "      <td>0.713825</td>\n",
       "    </tr>\n",
       "    <tr>\n",
       "      <th>25</th>\n",
       "      <td>ts3</td>\n",
       "      <td>Train Station 3</td>\n",
       "      <td>0.026621</td>\n",
       "      <td>0.665525</td>\n",
       "    </tr>\n",
       "    <tr>\n",
       "      <th>35</th>\n",
       "      <td>ts4</td>\n",
       "      <td>Train Station 4</td>\n",
       "      <td>0.024131</td>\n",
       "      <td>0.603275</td>\n",
       "    </tr>\n",
       "    <tr>\n",
       "      <th>5</th>\n",
       "      <td>t1</td>\n",
       "      <td>Train Station 1</td>\n",
       "      <td>0.023033</td>\n",
       "      <td>0.575825</td>\n",
       "    </tr>\n",
       "  </tbody>\n",
       "</table>\n",
       "</div>"
      ],
      "text/plain": [
       "   Square      Description  Probability  Expected Value\n",
       "15    ts2  Train Station 2     0.028553        0.713825\n",
       "25    ts3  Train Station 3     0.026621        0.665525\n",
       "35    ts4  Train Station 4     0.024131        0.603275\n",
       "5      t1  Train Station 1     0.023033        0.575825"
      ]
     },
     "execution_count": 42,
     "metadata": {},
     "output_type": "execute_result"
    }
   ],
   "source": [
    "df.loc[df['Aggregate'] == 'Train Station', df.columns.isin(['Square', 'Description', 'Probability', 'Expected Value'])]\\\n",
    "    .sort_values('Probability', ascending=False)"
   ]
  },
  {
   "cell_type": "markdown",
   "metadata": {},
   "source": [
    "### Probability to be in jail"
   ]
  },
  {
   "cell_type": "markdown",
   "metadata": {},
   "source": [
    "To find the total probability to be in jail, we need to take into account that:\n",
    "\n",
    " * We can land on jail.\n",
    " * We can land on go to jail.\n",
    " * There is one community card which sends you to jail.\n",
    " * There is one chance card which sends you to jail.\n",
    " \n",
    "Each deck has $16$ cards, therefore the probability to draw go to jail is $P(\\bar{x}=\\text{go to jail})=\\dfrac{1}{16}$.\n",
    "\n",
    "$$P(\\bar{x}=\\text{in jail}) = P(\\bar{x}=\\text{jail}) + P(\\bar{x}=\\text{go to jail}) + \\dfrac{1}{16}\\left[ P(\\bar{x}=\\text{community chest}) + P(\\bar{x}=\\text{chance})\\right] $$"
   ]
  },
  {
   "cell_type": "code",
   "execution_count": 43,
   "metadata": {},
   "outputs": [],
   "source": [
    "P_jail           = sum(aggregated_df.loc[aggregated_df['Aggregate'] == 'Jail'           ]['Probability'])\n",
    "P_go_to_jail     = sum(aggregated_df.loc[aggregated_df['Aggregate'] == 'Go to Jail'     ]['Probability'])\n",
    "P_community_card = sum(aggregated_df.loc[aggregated_df['Aggregate'] == 'Community Chest']['Probability'])\n",
    "P_chance_card    = sum(aggregated_df.loc[aggregated_df['Aggregate'] == 'Chance'         ]['Probability'])"
   ]
  },
  {
   "cell_type": "code",
   "execution_count": 44,
   "metadata": {
    "scrolled": true
   },
   "outputs": [
    {
     "data": {
      "text/plain": [
       "0.066544624999999996"
      ]
     },
     "execution_count": 44,
     "metadata": {},
     "output_type": "execute_result"
    }
   ],
   "source": [
    "P_jail + P_go_to_jail + 1/16 * (P_community_card + P_chance_card)"
   ]
  },
  {
   "cell_type": "markdown",
   "metadata": {},
   "source": [
    "### Probability to draw a card"
   ]
  },
  {
   "cell_type": "markdown",
   "metadata": {},
   "source": [
    "To find the probability to draw a card, we simply calculate:\n",
    "\n",
    "$$ P(\\bar{x}=\\text{draw a card}) = P(\\bar{x}=\\text{community chest}) + P(\\bar{x}=\\text{chance})$$"
   ]
  },
  {
   "cell_type": "code",
   "execution_count": 45,
   "metadata": {},
   "outputs": [
    {
     "data": {
      "text/plain": [
       "0.119434"
      ]
     },
     "execution_count": 45,
     "metadata": {},
     "output_type": "execute_result"
    }
   ],
   "source": [
    "P_community_card + P_chance_card"
   ]
  },
  {
   "cell_type": "markdown",
   "metadata": {},
   "source": [
    "Where the probabilities for the community chest square are:"
   ]
  },
  {
   "cell_type": "code",
   "execution_count": 46,
   "metadata": {},
   "outputs": [
    {
     "data": {
      "text/html": [
       "<div>\n",
       "<style scoped>\n",
       "    .dataframe tbody tr th:only-of-type {\n",
       "        vertical-align: middle;\n",
       "    }\n",
       "\n",
       "    .dataframe tbody tr th {\n",
       "        vertical-align: top;\n",
       "    }\n",
       "\n",
       "    .dataframe thead th {\n",
       "        text-align: right;\n",
       "    }\n",
       "</style>\n",
       "<table border=\"1\" class=\"dataframe\">\n",
       "  <thead>\n",
       "    <tr style=\"text-align: right;\">\n",
       "      <th></th>\n",
       "      <th>Square</th>\n",
       "      <th>Description</th>\n",
       "      <th>Probability</th>\n",
       "    </tr>\n",
       "  </thead>\n",
       "  <tbody>\n",
       "    <tr>\n",
       "      <th>17</th>\n",
       "      <td>cc2</td>\n",
       "      <td>Community Chest 2</td>\n",
       "      <td>0.023753</td>\n",
       "    </tr>\n",
       "    <tr>\n",
       "      <th>33</th>\n",
       "      <td>cc3</td>\n",
       "      <td>Community Chest 3</td>\n",
       "      <td>0.022388</td>\n",
       "    </tr>\n",
       "    <tr>\n",
       "      <th>2</th>\n",
       "      <td>cc1</td>\n",
       "      <td>Community Chest 1</td>\n",
       "      <td>0.018267</td>\n",
       "    </tr>\n",
       "  </tbody>\n",
       "</table>\n",
       "</div>"
      ],
      "text/plain": [
       "   Square        Description  Probability\n",
       "17    cc2  Community Chest 2     0.023753\n",
       "33    cc3  Community Chest 3     0.022388\n",
       "2     cc1  Community Chest 1     0.018267"
      ]
     },
     "execution_count": 46,
     "metadata": {},
     "output_type": "execute_result"
    }
   ],
   "source": [
    "df.loc[df['Aggregate'] == 'Community Chest', df.columns.isin(['Square', 'Description', 'Probability'])]\\\n",
    "    .sort_values('Probability', ascending=False)"
   ]
  },
  {
   "cell_type": "markdown",
   "metadata": {},
   "source": [
    "And the probabilities for the chance square are:"
   ]
  },
  {
   "cell_type": "code",
   "execution_count": 47,
   "metadata": {
    "scrolled": true
   },
   "outputs": [
    {
     "data": {
      "text/html": [
       "<div>\n",
       "<style scoped>\n",
       "    .dataframe tbody tr th:only-of-type {\n",
       "        vertical-align: middle;\n",
       "    }\n",
       "\n",
       "    .dataframe tbody tr th {\n",
       "        vertical-align: top;\n",
       "    }\n",
       "\n",
       "    .dataframe thead th {\n",
       "        text-align: right;\n",
       "    }\n",
       "</style>\n",
       "<table border=\"1\" class=\"dataframe\">\n",
       "  <thead>\n",
       "    <tr style=\"text-align: right;\">\n",
       "      <th></th>\n",
       "      <th>Square</th>\n",
       "      <th>Description</th>\n",
       "      <th>Probability</th>\n",
       "    </tr>\n",
       "  </thead>\n",
       "  <tbody>\n",
       "    <tr>\n",
       "      <th>22</th>\n",
       "      <td>c2</td>\n",
       "      <td>Chance 2</td>\n",
       "      <td>0.020359</td>\n",
       "    </tr>\n",
       "    <tr>\n",
       "      <th>7</th>\n",
       "      <td>c1</td>\n",
       "      <td>Chance 1</td>\n",
       "      <td>0.017436</td>\n",
       "    </tr>\n",
       "    <tr>\n",
       "      <th>36</th>\n",
       "      <td>c3</td>\n",
       "      <td>Chance 3</td>\n",
       "      <td>0.017231</td>\n",
       "    </tr>\n",
       "  </tbody>\n",
       "</table>\n",
       "</div>"
      ],
      "text/plain": [
       "   Square Description  Probability\n",
       "22     c2    Chance 2     0.020359\n",
       "7      c1    Chance 1     0.017436\n",
       "36     c3    Chance 3     0.017231"
      ]
     },
     "execution_count": 47,
     "metadata": {},
     "output_type": "execute_result"
    }
   ],
   "source": [
    "df.loc[df['Aggregate'] == 'Chance', df.columns.isin(['Square', 'Description', 'Probability'])]\\\n",
    "    .sort_values('Probability', ascending=False)"
   ]
  },
  {
   "cell_type": "markdown",
   "metadata": {},
   "source": [
    "## Conclusion"
   ]
  },
  {
   "cell_type": "markdown",
   "metadata": {},
   "source": [
    "We saw the expected values per turn for each square. Train stations are by far the best to buy. The multiplier for them is not taken into account here. Which means that the actual results are even better. After that, buying should be done in a priority. I wouldn't buy utilities, brown and light blue squares because they have a very low expected value."
   ]
  },
  {
   "cell_type": "markdown",
   "metadata": {},
   "source": [
    "### Top 10 streets\n",
    "\n",
    "A table of the top 10 squares by expected value."
   ]
  },
  {
   "cell_type": "code",
   "execution_count": 48,
   "metadata": {},
   "outputs": [
    {
     "data": {
      "text/html": [
       "<div>\n",
       "<style scoped>\n",
       "    .dataframe tbody tr th:only-of-type {\n",
       "        vertical-align: middle;\n",
       "    }\n",
       "\n",
       "    .dataframe tbody tr th {\n",
       "        vertical-align: top;\n",
       "    }\n",
       "\n",
       "    .dataframe thead th {\n",
       "        text-align: right;\n",
       "    }\n",
       "</style>\n",
       "<table border=\"1\" class=\"dataframe\">\n",
       "  <thead>\n",
       "    <tr style=\"text-align: right;\">\n",
       "      <th></th>\n",
       "      <th>Square</th>\n",
       "      <th>Description</th>\n",
       "      <th>Probability</th>\n",
       "      <th>Expected Value</th>\n",
       "    </tr>\n",
       "  </thead>\n",
       "  <tbody>\n",
       "    <tr>\n",
       "      <th>39</th>\n",
       "      <td>db2</td>\n",
       "      <td>Dark Blue 2</td>\n",
       "      <td>0.022233</td>\n",
       "      <td>1.111650</td>\n",
       "    </tr>\n",
       "    <tr>\n",
       "      <th>37</th>\n",
       "      <td>db1</td>\n",
       "      <td>Dark Blue 1</td>\n",
       "      <td>0.023376</td>\n",
       "      <td>0.818160</td>\n",
       "    </tr>\n",
       "    <tr>\n",
       "      <th>31</th>\n",
       "      <td>g1</td>\n",
       "      <td>Green 1</td>\n",
       "      <td>0.028538</td>\n",
       "      <td>0.741988</td>\n",
       "    </tr>\n",
       "    <tr>\n",
       "      <th>15</th>\n",
       "      <td>ts2</td>\n",
       "      <td>Train Station 2</td>\n",
       "      <td>0.028553</td>\n",
       "      <td>0.713825</td>\n",
       "    </tr>\n",
       "    <tr>\n",
       "      <th>34</th>\n",
       "      <td>g3</td>\n",
       "      <td>Green 3</td>\n",
       "      <td>0.024879</td>\n",
       "      <td>0.696612</td>\n",
       "    </tr>\n",
       "    <tr>\n",
       "      <th>32</th>\n",
       "      <td>g2</td>\n",
       "      <td>Green 2</td>\n",
       "      <td>0.026025</td>\n",
       "      <td>0.676650</td>\n",
       "    </tr>\n",
       "    <tr>\n",
       "      <th>25</th>\n",
       "      <td>ts3</td>\n",
       "      <td>Train Station 3</td>\n",
       "      <td>0.026621</td>\n",
       "      <td>0.665525</td>\n",
       "    </tr>\n",
       "    <tr>\n",
       "      <th>29</th>\n",
       "      <td>y3</td>\n",
       "      <td>Yellow 3</td>\n",
       "      <td>0.026641</td>\n",
       "      <td>0.639384</td>\n",
       "    </tr>\n",
       "    <tr>\n",
       "      <th>24</th>\n",
       "      <td>r3</td>\n",
       "      <td>Red 3</td>\n",
       "      <td>0.031463</td>\n",
       "      <td>0.629260</td>\n",
       "    </tr>\n",
       "    <tr>\n",
       "      <th>35</th>\n",
       "      <td>ts4</td>\n",
       "      <td>Train Station 4</td>\n",
       "      <td>0.024131</td>\n",
       "      <td>0.603275</td>\n",
       "    </tr>\n",
       "  </tbody>\n",
       "</table>\n",
       "</div>"
      ],
      "text/plain": [
       "   Square      Description  Probability  Expected Value\n",
       "39    db2      Dark Blue 2     0.022233        1.111650\n",
       "37    db1      Dark Blue 1     0.023376        0.818160\n",
       "31     g1          Green 1     0.028538        0.741988\n",
       "15    ts2  Train Station 2     0.028553        0.713825\n",
       "34     g3          Green 3     0.024879        0.696612\n",
       "32     g2          Green 2     0.026025        0.676650\n",
       "25    ts3  Train Station 3     0.026621        0.665525\n",
       "29     y3         Yellow 3     0.026641        0.639384\n",
       "24     r3            Red 3     0.031463        0.629260\n",
       "35    ts4  Train Station 4     0.024131        0.603275"
      ]
     },
     "execution_count": 48,
     "metadata": {},
     "output_type": "execute_result"
    }
   ],
   "source": [
    "df.loc[:,df.columns.isin(['Square', 'Description', 'Probability', 'Expected Value'])]\\\n",
    "    .sort_values('Expected Value', ascending=False).head(10)"
   ]
  },
  {
   "cell_type": "markdown",
   "metadata": {},
   "source": [
    "### Top 10 groups\n",
    "\n",
    "A table of the top 10 groups by expected value."
   ]
  },
  {
   "cell_type": "code",
   "execution_count": 49,
   "metadata": {
    "scrolled": true
   },
   "outputs": [
    {
     "data": {
      "text/html": [
       "<div>\n",
       "<style scoped>\n",
       "    .dataframe tbody tr th:only-of-type {\n",
       "        vertical-align: middle;\n",
       "    }\n",
       "\n",
       "    .dataframe tbody tr th {\n",
       "        vertical-align: top;\n",
       "    }\n",
       "\n",
       "    .dataframe thead th {\n",
       "        text-align: right;\n",
       "    }\n",
       "</style>\n",
       "<table border=\"1\" class=\"dataframe\">\n",
       "  <thead>\n",
       "    <tr style=\"text-align: right;\">\n",
       "      <th></th>\n",
       "      <th>Aggregate</th>\n",
       "      <th>Expected Value</th>\n",
       "    </tr>\n",
       "  </thead>\n",
       "  <tbody>\n",
       "    <tr>\n",
       "      <th>7</th>\n",
       "      <td>Train Station</td>\n",
       "      <td>2.558450</td>\n",
       "    </tr>\n",
       "    <tr>\n",
       "      <th>2</th>\n",
       "      <td>Green</td>\n",
       "      <td>2.115250</td>\n",
       "    </tr>\n",
       "    <tr>\n",
       "      <th>1</th>\n",
       "      <td>Dark Blue</td>\n",
       "      <td>1.929810</td>\n",
       "    </tr>\n",
       "    <tr>\n",
       "      <th>9</th>\n",
       "      <td>Yellow</td>\n",
       "      <td>1.828858</td>\n",
       "    </tr>\n",
       "    <tr>\n",
       "      <th>6</th>\n",
       "      <td>Red</td>\n",
       "      <td>1.591756</td>\n",
       "    </tr>\n",
       "    <tr>\n",
       "      <th>4</th>\n",
       "      <td>Orange</td>\n",
       "      <td>1.258914</td>\n",
       "    </tr>\n",
       "    <tr>\n",
       "      <th>5</th>\n",
       "      <td>Purple</td>\n",
       "      <td>0.764472</td>\n",
       "    </tr>\n",
       "    <tr>\n",
       "      <th>8</th>\n",
       "      <td>Utilities</td>\n",
       "      <td>0.704606</td>\n",
       "    </tr>\n",
       "    <tr>\n",
       "      <th>3</th>\n",
       "      <td>Light Blue</td>\n",
       "      <td>0.466710</td>\n",
       "    </tr>\n",
       "    <tr>\n",
       "      <th>0</th>\n",
       "      <td>Brown</td>\n",
       "      <td>0.135848</td>\n",
       "    </tr>\n",
       "  </tbody>\n",
       "</table>\n",
       "</div>"
      ],
      "text/plain": [
       "       Aggregate  Expected Value\n",
       "7  Train Station        2.558450\n",
       "2          Green        2.115250\n",
       "1      Dark Blue        1.929810\n",
       "9         Yellow        1.828858\n",
       "6            Red        1.591756\n",
       "4         Orange        1.258914\n",
       "5         Purple        0.764472\n",
       "8      Utilities        0.704606\n",
       "3     Light Blue        0.466710\n",
       "0          Brown        0.135848"
      ]
     },
     "execution_count": 49,
     "metadata": {},
     "output_type": "execute_result"
    }
   ],
   "source": [
    "aggregated_ev_df.sort_values('Expected Value', ascending=False).head(10)"
   ]
  },
  {
   "cell_type": "markdown",
   "metadata": {},
   "source": [
    "#### Additional note about train stations"
   ]
  },
  {
   "cell_type": "markdown",
   "metadata": {},
   "source": [
    "Notice that if you own all $4$ train stations, any visitor has to pay $\\$200$ instead of the $\\$25$ for owning one. From this we can find that the expected value is multiplied by $8$, if you own them all."
   ]
  },
  {
   "cell_type": "code",
   "execution_count": 50,
   "metadata": {},
   "outputs": [
    {
     "data": {
      "text/plain": [
       "20.467599999999997"
      ]
     },
     "execution_count": 50,
     "metadata": {},
     "output_type": "execute_result"
    }
   ],
   "source": [
    "8 * df.loc[df['Aggregate'] == 'Train Station']['Expected Value'].sum()"
   ]
  },
  {
   "cell_type": "markdown",
   "metadata": {},
   "source": [
    "And for $3$ train stations, any visitor has to pay $\\$100$, which multiplied by $4$ gives:"
   ]
  },
  {
   "cell_type": "code",
   "execution_count": 51,
   "metadata": {},
   "outputs": [
    {
     "data": {
      "text/plain": [
       "10.233799999999999"
      ]
     },
     "execution_count": 51,
     "metadata": {},
     "output_type": "execute_result"
    }
   ],
   "source": [
    "4 * df.loc[df['Aggregate'] == 'Train Station']['Expected Value'].sum()"
   ]
  },
  {
   "cell_type": "markdown",
   "metadata": {},
   "source": [
    "Finally for $2$ train stations, any visitor has to pay $\\$50$, which multiplied by $2$ gives:"
   ]
  },
  {
   "cell_type": "code",
   "execution_count": 52,
   "metadata": {},
   "outputs": [
    {
     "data": {
      "text/plain": [
       "5.1168999999999993"
      ]
     },
     "execution_count": 52,
     "metadata": {},
     "output_type": "execute_result"
    }
   ],
   "source": [
    "2 * df.loc[df['Aggregate'] == 'Train Station']['Expected Value'].sum()"
   ]
  },
  {
   "cell_type": "markdown",
   "metadata": {},
   "source": [
    "Now keep in mind that if you own the **entire** best street, the results are:"
   ]
  },
  {
   "cell_type": "code",
   "execution_count": 53,
   "metadata": {},
   "outputs": [
    {
     "data": {
      "text/html": [
       "<div>\n",
       "<style scoped>\n",
       "    .dataframe tbody tr th:only-of-type {\n",
       "        vertical-align: middle;\n",
       "    }\n",
       "\n",
       "    .dataframe tbody tr th {\n",
       "        vertical-align: top;\n",
       "    }\n",
       "\n",
       "    .dataframe thead th {\n",
       "        text-align: right;\n",
       "    }\n",
       "</style>\n",
       "<table border=\"1\" class=\"dataframe\">\n",
       "  <thead>\n",
       "    <tr style=\"text-align: right;\">\n",
       "      <th></th>\n",
       "      <th>Aggregate</th>\n",
       "      <th>Expected Value</th>\n",
       "    </tr>\n",
       "  </thead>\n",
       "  <tbody>\n",
       "    <tr>\n",
       "      <th>2</th>\n",
       "      <td>Green</td>\n",
       "      <td>2.115250</td>\n",
       "    </tr>\n",
       "    <tr>\n",
       "      <th>1</th>\n",
       "      <td>Dark Blue</td>\n",
       "      <td>1.929810</td>\n",
       "    </tr>\n",
       "    <tr>\n",
       "      <th>9</th>\n",
       "      <td>Yellow</td>\n",
       "      <td>1.828858</td>\n",
       "    </tr>\n",
       "  </tbody>\n",
       "</table>\n",
       "</div>"
      ],
      "text/plain": [
       "   Aggregate  Expected Value\n",
       "2      Green        2.115250\n",
       "1  Dark Blue        1.929810\n",
       "9     Yellow        1.828858"
      ]
     },
     "execution_count": 53,
     "metadata": {},
     "output_type": "execute_result"
    }
   ],
   "source": [
    "aggregated_ev_df.sort_values('Expected Value', ascending=False).iloc[[1,2,3]]"
   ]
  },
  {
   "cell_type": "markdown",
   "metadata": {},
   "source": [
    "### Probability to go to jail"
   ]
  },
  {
   "cell_type": "markdown",
   "metadata": {},
   "source": [
    "The probability to go to jail is:"
   ]
  },
  {
   "cell_type": "code",
   "execution_count": 54,
   "metadata": {},
   "outputs": [
    {
     "data": {
      "text/plain": [
       "0.066544624999999996"
      ]
     },
     "execution_count": 54,
     "metadata": {},
     "output_type": "execute_result"
    }
   ],
   "source": [
    "P_jail + P_go_to_jail + 1/16 * (P_community_card + P_chance_card)"
   ]
  },
  {
   "cell_type": "markdown",
   "metadata": {},
   "source": [
    "### Probability to draw a card"
   ]
  },
  {
   "cell_type": "markdown",
   "metadata": {},
   "source": [
    "The probability to draw a card is:"
   ]
  },
  {
   "cell_type": "code",
   "execution_count": 55,
   "metadata": {},
   "outputs": [
    {
     "data": {
      "text/plain": [
       "0.119434"
      ]
     },
     "execution_count": 55,
     "metadata": {},
     "output_type": "execute_result"
    }
   ],
   "source": [
    "P_community_card + P_chance_card"
   ]
  },
  {
   "cell_type": "markdown",
   "metadata": {},
   "source": [
    "## Markov matrix"
   ]
  },
  {
   "cell_type": "markdown",
   "metadata": {},
   "source": [
    "Another way to find the probabilities, would be to create a Markov matrix with the probability to go another square, for each individual square. This will be a $40\\times40$ square matrix $M$."
   ]
  },
  {
   "cell_type": "code",
   "execution_count": 56,
   "metadata": {},
   "outputs": [],
   "source": [
    "M = np.eye(40)"
   ]
  },
  {
   "cell_type": "code",
   "execution_count": 57,
   "metadata": {},
   "outputs": [
    {
     "data": {
      "text/plain": [
       "array([[ 1.,  0.,  0., ...,  0.,  0.,  0.],\n",
       "       [ 0.,  1.,  0., ...,  0.,  0.,  0.],\n",
       "       [ 0.,  0.,  1., ...,  0.,  0.,  0.],\n",
       "       ..., \n",
       "       [ 0.,  0.,  0., ...,  1.,  0.,  0.],\n",
       "       [ 0.,  0.,  0., ...,  0.,  1.,  0.],\n",
       "       [ 0.,  0.,  0., ...,  0.,  0.,  1.]])"
      ]
     },
     "execution_count": 57,
     "metadata": {},
     "output_type": "execute_result"
    }
   ],
   "source": [
    "M"
   ]
  },
  {
   "cell_type": "markdown",
   "metadata": {},
   "source": [
    "Then we need to fill in the matrix. For each square we are going to calculate the probabilities to get on any other square. For the most the probability will be $0$ because we can't throw high enough numbers. We also need to take into the account that there are probabilities that are generated by the cards and add those to the respecting elements."
   ]
  },
  {
   "cell_type": "markdown",
   "metadata": {},
   "source": [
    "When we have filled the matrix with all the values we let the matrix converge with $\\lim\\limits_{T\\rightarrow\\infty}A^T$. A simple way to approximate this would be to square the matrix a few times, like $M^{25}$. The resulting matrix will have the probabilities for every square."
   ]
  },
  {
   "cell_type": "markdown",
   "metadata": {},
   "source": [
    "Because this is a Markov matrix, a more rigirous way of doing it would be calculate the eigenvectors and eigenvalues for the matrix. With the eigenvector we can find the stable state for the system where $p(n)\\cdot A=p(n)$. Where $p(n)$ holds the probabilities to get on each tile. "
   ]
  },
  {
   "cell_type": "markdown",
   "metadata": {},
   "source": [
    "### Markov matrix example"
   ]
  },
  {
   "cell_type": "markdown",
   "metadata": {},
   "source": [
    "A simple example with a markov matrix. We can find the stable system with the eigenvectors and eigenvalues of a markov matrix. The solution is a stable system. This means that the probability for each element is converged."
   ]
  },
  {
   "cell_type": "markdown",
   "metadata": {},
   "source": [
    "Let $A=\\begin{bmatrix}0.8 & 0.3 \\\\ 0.2 & 0.7\\end{bmatrix}$."
   ]
  },
  {
   "cell_type": "code",
   "execution_count": 58,
   "metadata": {},
   "outputs": [
    {
     "data": {
      "text/plain": [
       "array([[ 0.8,  0.3],\n",
       "       [ 0.2,  0.7]])"
      ]
     },
     "execution_count": 58,
     "metadata": {},
     "output_type": "execute_result"
    }
   ],
   "source": [
    "from numpy import linalg as la\n",
    "A = np.array([0.8, 0.3, 0.2, 0.7]).reshape(2,2)\n",
    "A"
   ]
  },
  {
   "cell_type": "markdown",
   "metadata": {},
   "source": [
    "We get the eigenvalues $w$ and eigenvectors $v$."
   ]
  },
  {
   "cell_type": "code",
   "execution_count": 59,
   "metadata": {},
   "outputs": [],
   "source": [
    "w, v = la.eig(A)"
   ]
  },
  {
   "cell_type": "markdown",
   "metadata": {},
   "source": [
    "Now if we approximate that $A$ converges to the stable state."
   ]
  },
  {
   "cell_type": "code",
   "execution_count": 60,
   "metadata": {},
   "outputs": [
    {
     "data": {
      "text/plain": [
       "array([[ 0.6,  0.6],\n",
       "       [ 0.4,  0.4]])"
      ]
     },
     "execution_count": 60,
     "metadata": {},
     "output_type": "execute_result"
    }
   ],
   "source": [
    "z=A\n",
    "for _ in range(26): z = np.dot(A,z)\n",
    "A=z\n",
    "A"
   ]
  },
  {
   "cell_type": "markdown",
   "metadata": {},
   "source": [
    "Create $p(0)=\\begin{bmatrix}600\\\\400\\end{bmatrix}$ which is an eigenvector for eigenvalue $1$."
   ]
  },
  {
   "cell_type": "code",
   "execution_count": 61,
   "metadata": {},
   "outputs": [
    {
     "data": {
      "text/plain": [
       "array([[600],\n",
       "       [400]])"
      ]
     },
     "execution_count": 61,
     "metadata": {},
     "output_type": "execute_result"
    }
   ],
   "source": [
    "p0 = np.array([600,400]).reshape(2,1)\n",
    "p0"
   ]
  },
  {
   "cell_type": "markdown",
   "metadata": {},
   "source": [
    "We check that $A\\cdot p(0) = p(0)$, it should give the same value back because it is an eigenvector."
   ]
  },
  {
   "cell_type": "code",
   "execution_count": 62,
   "metadata": {},
   "outputs": [
    {
     "data": {
      "text/plain": [
       "array([[ 600.],\n",
       "       [ 400.]])"
      ]
     },
     "execution_count": 62,
     "metadata": {},
     "output_type": "execute_result"
    }
   ],
   "source": [
    "np.dot(A,p0)"
   ]
  },
  {
   "cell_type": "markdown",
   "metadata": {},
   "source": [
    "Which it does."
   ]
  },
  {
   "cell_type": "markdown",
   "metadata": {},
   "source": [
    "To get the stable solution from the eigenvectors we need to transpose $\\vec{v}$... because `numpy` is weird."
   ]
  },
  {
   "cell_type": "code",
   "execution_count": 63,
   "metadata": {},
   "outputs": [],
   "source": [
    "v = v.T[0]"
   ]
  },
  {
   "cell_type": "markdown",
   "metadata": {},
   "source": [
    "We are using the eigen vector $\\vec{v}$ for eigen value $w=1$."
   ]
  },
  {
   "cell_type": "code",
   "execution_count": 64,
   "metadata": {},
   "outputs": [
    {
     "data": {
      "text/plain": [
       "array([ 0.83205029,  0.5547002 ])"
      ]
     },
     "execution_count": 64,
     "metadata": {},
     "output_type": "execute_result"
    }
   ],
   "source": [
    "v"
   ]
  },
  {
   "cell_type": "markdown",
   "metadata": {},
   "source": [
    "To find the stable state we multiply the eigenvalue $w=1$ with the corresponding eigen vector $\\begin{bmatrix}v_1\\\\ v_2\\end{bmatrix}$.\n",
    "\n",
    "To normalize the result so that the sum of the elements in $\\vec{v}$ is $1$ we divide the elements in $\\vec{v}$ by the sum of the values in $\\vec{v}$.\n",
    "\n",
    "$$ \\vec{s} = w \\cdot \\dfrac{1}{\\sum\\limits_{v \\in \\vec{v}}v} \\cdot \\begin{bmatrix} v_1 \\\\ v_2 \\end{bmatrix} $$\n",
    "\n",
    "Notice that $w=1$, so it becomes:\n",
    "\n",
    "$$ \\vec{s} = \\dfrac{1}{\\sum\\limits_{v \\in \\vec{v}}v} \\cdot \\begin{bmatrix} v_1 \\\\ v_2 \\end{bmatrix} $$"
   ]
  },
  {
   "cell_type": "code",
   "execution_count": 65,
   "metadata": {},
   "outputs": [
    {
     "data": {
      "text/plain": [
       "array([[ 0.6],\n",
       "       [ 0.4]])"
      ]
     },
     "execution_count": 65,
     "metadata": {},
     "output_type": "execute_result"
    }
   ],
   "source": [
    "s = (v / sum(v)).reshape(2,1)\n",
    "s"
   ]
  },
  {
   "cell_type": "markdown",
   "metadata": {},
   "source": [
    "And to verify it is correct we check that $A\\cdot \\vec{s} = \\vec{s}$:"
   ]
  },
  {
   "cell_type": "code",
   "execution_count": 66,
   "metadata": {},
   "outputs": [
    {
     "data": {
      "text/plain": [
       "array([[ 0.6],\n",
       "       [ 0.4]])"
      ]
     },
     "execution_count": 66,
     "metadata": {},
     "output_type": "execute_result"
    }
   ],
   "source": [
    "np.dot(A,s)"
   ]
  },
  {
   "cell_type": "markdown",
   "metadata": {},
   "source": [
    "Which is correct."
   ]
  },
  {
   "cell_type": "markdown",
   "metadata": {},
   "source": [
    "### Probabilities for throwing two dices"
   ]
  },
  {
   "cell_type": "markdown",
   "metadata": {},
   "source": [
    "To fill our matrix $M$ we first need to find the probability distribution for two dices."
   ]
  },
  {
   "cell_type": "code",
   "execution_count": 76,
   "metadata": {},
   "outputs": [
    {
     "data": {
      "image/png": "[encoded data removed]",
      "text/plain": [
       "<matplotlib.figure.Figure at 0x147ea38d748>"
      ]
     },
     "metadata": {},
     "output_type": "display_data"
    }
   ],
   "source": [
    "outcomes = [x+y for x in range(1,7) for y in range(1,7)]\n",
    "probabilities = {}\n",
    "for o in set(outcomes): probabilities[o] = outcomes.count(o) / len(outcomes)\n",
    "side, p = probabilities.keys(), probabilities.values()\n",
    "bar(side, p)\n",
    "xlabel('Sum of sides')\n",
    "ylabel('P(Sum of sides)')\n",
    "title('Probability Distribution for two dices');"
   ]
  },
  {
   "cell_type": "markdown",
   "metadata": {},
   "source": [
    "The range of values for two dices is:"
   ]
  },
  {
   "cell_type": "code",
   "execution_count": 77,
   "metadata": {},
   "outputs": [
    {
     "name": "stdout",
     "output_type": "stream",
     "text": [
      "Outcomes are min: 2, max: 12 and range: 10.\n"
     ]
    }
   ],
   "source": [
    "throw_min = min(side)\n",
    "throw_max = max(side)\n",
    "throw_range = throw_max - throw_min\n",
    "print('Outcomes are min: {}, max: {} and range: {}.'.format(throw_min, throw_max, throw_range))\n",
    "prob_df = pd.DataFrame()\n",
    "prob_df['Sum of sides'] = side\n",
    "prob_df['P(Sum of sides)'] = p"
   ]
  },
  {
   "cell_type": "code",
   "execution_count": 78,
   "metadata": {},
   "outputs": [
    {
     "data": {
      "text/html": [
       "<div>\n",
       "<style scoped>\n",
       "    .dataframe tbody tr th:only-of-type {\n",
       "        vertical-align: middle;\n",
       "    }\n",
       "\n",
       "    .dataframe tbody tr th {\n",
       "        vertical-align: top;\n",
       "    }\n",
       "\n",
       "    .dataframe thead th {\n",
       "        text-align: right;\n",
       "    }\n",
       "</style>\n",
       "<table border=\"1\" class=\"dataframe\">\n",
       "  <thead>\n",
       "    <tr style=\"text-align: right;\">\n",
       "      <th></th>\n",
       "      <th>Sum of sides</th>\n",
       "      <th>P(Sum of sides)</th>\n",
       "    </tr>\n",
       "  </thead>\n",
       "  <tbody>\n",
       "    <tr>\n",
       "      <th>0</th>\n",
       "      <td>2</td>\n",
       "      <td>0.027778</td>\n",
       "    </tr>\n",
       "    <tr>\n",
       "      <th>1</th>\n",
       "      <td>3</td>\n",
       "      <td>0.055556</td>\n",
       "    </tr>\n",
       "    <tr>\n",
       "      <th>2</th>\n",
       "      <td>4</td>\n",
       "      <td>0.083333</td>\n",
       "    </tr>\n",
       "    <tr>\n",
       "      <th>3</th>\n",
       "      <td>5</td>\n",
       "      <td>0.111111</td>\n",
       "    </tr>\n",
       "    <tr>\n",
       "      <th>4</th>\n",
       "      <td>6</td>\n",
       "      <td>0.138889</td>\n",
       "    </tr>\n",
       "    <tr>\n",
       "      <th>5</th>\n",
       "      <td>7</td>\n",
       "      <td>0.166667</td>\n",
       "    </tr>\n",
       "    <tr>\n",
       "      <th>6</th>\n",
       "      <td>8</td>\n",
       "      <td>0.138889</td>\n",
       "    </tr>\n",
       "    <tr>\n",
       "      <th>7</th>\n",
       "      <td>9</td>\n",
       "      <td>0.111111</td>\n",
       "    </tr>\n",
       "    <tr>\n",
       "      <th>8</th>\n",
       "      <td>10</td>\n",
       "      <td>0.083333</td>\n",
       "    </tr>\n",
       "    <tr>\n",
       "      <th>9</th>\n",
       "      <td>11</td>\n",
       "      <td>0.055556</td>\n",
       "    </tr>\n",
       "    <tr>\n",
       "      <th>10</th>\n",
       "      <td>12</td>\n",
       "      <td>0.027778</td>\n",
       "    </tr>\n",
       "  </tbody>\n",
       "</table>\n",
       "</div>"
      ],
      "text/plain": [
       "    Sum of sides  P(Sum of sides)\n",
       "0              2         0.027778\n",
       "1              3         0.055556\n",
       "2              4         0.083333\n",
       "3              5         0.111111\n",
       "4              6         0.138889\n",
       "5              7         0.166667\n",
       "6              8         0.138889\n",
       "7              9         0.111111\n",
       "8             10         0.083333\n",
       "9             11         0.055556\n",
       "10            12         0.027778"
      ]
     },
     "execution_count": 78,
     "metadata": {},
     "output_type": "execute_result"
    }
   ],
   "source": [
    "prob_df"
   ]
  },
  {
   "cell_type": "code",
   "execution_count": 79,
   "metadata": {},
   "outputs": [
    {
     "data": {
      "text/plain": [
       "24"
      ]
     },
     "execution_count": 79,
     "metadata": {},
     "output_type": "execute_result"
    }
   ],
   "source": [
    "squares_labels.index('r3')"
   ]
  },
  {
   "cell_type": "code",
   "execution_count": 113,
   "metadata": {},
   "outputs": [],
   "source": [
    "def get_probability_for_throw(n):\n",
    "    if n < 2 or n > 12: return 0\n",
    "    return probabilities[n]\n",
    "\n",
    "def get_probabilities_for_position(pos):\n",
    "    squares = [0] * 40\n",
    "    for i in range(40):\n",
    "        squares[(pos+i)%40] = get_probability_for_throw(i)\n",
    "    \n",
    "    # Go to jail\n",
    "    squares[10] += squares[2] * 1/16  # Go to jail community card 1\n",
    "    squares[10] += squares[7] * 1/16  # Go to jail chance card 1\n",
    "    squares[10] += squares[17] * 1/16 # Go to jail community card 2\n",
    "    squares[10] += squares[22] * 1/16 # Go to jail chance card 2\n",
    "    squares[10] += squares[33] * 1/16 # Go to jail community card 3\n",
    "    squares[10] += squares[36] * 1/16 # Go to jail chance card 3\n",
    "    \n",
    "    # Go to start\n",
    "    squares[0] += squares[2] * 1/16   # Go to start community card 1\n",
    "    squares[0] += squares[7] * 1/16   # Go to start chance card 1\n",
    "    squares[0] += squares[17] * 1/16  # Go to start community card 2\n",
    "    squares[0] += squares[22] * 1/16  # Go to start chance card 2\n",
    "    squares[0] += squares[33] * 1/16  # Go to start community card 3\n",
    "    squares[0] += squares[36] * 1/16  # Go to start chance card 3\n",
    "    \n",
    "    # Go back 2\n",
    "    squares[0] += squares[2] * 1/16   # Go back 2 community card 1\n",
    "    squares[15] += squares[17] * 1/16 # Go back 2 community card 2\n",
    "    squares[31] += squares[33] * 1/16 # Go back 2 community card 3\n",
    "    \n",
    "    # Go back 3\n",
    "    squares[4] += squares[7] * 1/16   # Go back 3 chance card 1\n",
    "    squares[19] += squares[22] * 1/16 # Go back 3 chance card 2\n",
    "    squares[33] += squares[36] * 1/16 # Go back 3 chance card 3\n",
    "    \n",
    "    # Go to r3\n",
    "    squares[24] += squares[7] * 1/16   # Go back 3 chance card 1\n",
    "    squares[24] += squares[22] * 1/16 # Go back 3 chance card 2\n",
    "    squares[24] += squares[36] * 1/16 # Go back 3 chance card 3    \n",
    "    \n",
    "    return squares"
   ]
  },
  {
   "cell_type": "code",
   "execution_count": 122,
   "metadata": {},
   "outputs": [
    {
     "data": {
      "text/plain": [
       "[0.15451388888888892,\n",
       " 0.1111111111111111,\n",
       " 0.08333333333333333,\n",
       " 0.05555555555555555,\n",
       " 0.027777777777777776,\n",
       " 0,\n",
       " 0,\n",
       " 0,\n",
       " 0,\n",
       " 0,\n",
       " 0.010416666666666666,\n",
       " 0,\n",
       " 0,\n",
       " 0,\n",
       " 0,\n",
       " 0.0,\n",
       " 0,\n",
       " 0,\n",
       " 0,\n",
       " 0.0,\n",
       " 0,\n",
       " 0,\n",
       " 0,\n",
       " 0,\n",
       " 0.005208333333333333,\n",
       " 0,\n",
       " 0,\n",
       " 0,\n",
       " 0,\n",
       " 0,\n",
       " 0,\n",
       " 0.0,\n",
       " 0,\n",
       " 0.005208333333333333,\n",
       " 0.027777777777777776,\n",
       " 0.05555555555555555,\n",
       " 0.08333333333333333,\n",
       " 0.1111111111111111,\n",
       " 0.1388888888888889,\n",
       " 0.16666666666666666]"
      ]
     },
     "execution_count": 122,
     "metadata": {},
     "output_type": "execute_result"
    }
   ],
   "source": [
    "get_probabilities_for_position(32)"
   ]
  },
  {
   "cell_type": "code",
   "execution_count": 116,
   "metadata": {},
   "outputs": [],
   "source": [
    "chances = []\n",
    "for p in range(40): chances += get_probabilities_for_position(p)"
   ]
  },
  {
   "cell_type": "code",
   "execution_count": 117,
   "metadata": {},
   "outputs": [
    {
     "data": {
      "text/plain": [
       "1600"
      ]
     },
     "execution_count": 117,
     "metadata": {},
     "output_type": "execute_result"
    }
   ],
   "source": [
    "len(chances)"
   ]
  },
  {
   "cell_type": "code",
   "execution_count": 127,
   "metadata": {},
   "outputs": [],
   "source": [
    "M = np.array(chances).reshape(40,40)"
   ]
  },
  {
   "cell_type": "code",
   "execution_count": 128,
   "metadata": {},
   "outputs": [],
   "source": [
    "w,v = la.eig(M)"
   ]
  },
  {
   "cell_type": "code",
   "execution_count": 131,
   "metadata": {},
   "outputs": [
    {
     "data": {
      "text/plain": [
       "40"
      ]
     },
     "execution_count": 131,
     "metadata": {},
     "output_type": "execute_result"
    }
   ],
   "source": [
    "len(w)"
   ]
  },
  {
   "cell_type": "code",
   "execution_count": 130,
   "metadata": {},
   "outputs": [
    {
     "data": {
      "text/plain": [
       "array([[-0.15876214+0.j        , -0.04667722+0.15107303j,\n",
       "        -0.04667722-0.15107303j, ..., -0.09858166+0.12357599j,\n",
       "        -0.09858166-0.12357599j,  0.15807719+0.j        ],\n",
       "       [-0.15728901+0.j        , -0.06952682+0.14101409j,\n",
       "        -0.06952682-0.14101409j, ..., -0.06400858-0.14474662j,\n",
       "        -0.06400858+0.14474662j, -0.15807719+0.j        ],\n",
       "       [-0.15667880+0.j        , -0.09045292+0.12811203j,\n",
       "        -0.09045292-0.12811203j, ...,  0.17657180+0.j        ,\n",
       "         0.17657180-0.j        ,  0.12843772+0.j        ],\n",
       "       ..., \n",
       "       [-0.15766690+0.j        ,  0.02657668+0.15660917j,\n",
       "         0.02657668-0.15660917j, ..., -0.11675417+0.10454904j,\n",
       "        -0.11675417-0.10454904j, -0.15807719+0.j        ],\n",
       "       [-0.15785947+0.j        ,  0.00193865+0.15852121j,\n",
       "         0.00193865-0.15852121j, ..., -0.03993390-0.15249195j,\n",
       "        -0.03993390+0.15249195j,  0.15807719+0.j        ],\n",
       "       [-0.15821763+0.j        , -0.02267960+0.15666897j,\n",
       "        -0.02267960-0.15666897j, ...,  0.15281167+0.03244029j,\n",
       "         0.15281167-0.03244029j, -0.15807719+0.j        ]])"
      ]
     },
     "execution_count": 130,
     "metadata": {},
     "output_type": "execute_result"
    }
   ],
   "source": [
    "v"
   ]
  },
  {
   "cell_type": "code",
   "execution_count": 132,
   "metadata": {},
   "outputs": [],
   "source": [
    "v = v.T[0]"
   ]
  },
  {
   "cell_type": "code",
   "execution_count": 138,
   "metadata": {},
   "outputs": [],
   "source": [
    "z = (w[0] * (v / sum(v))).reshape(40,1)"
   ]
  },
  {
   "cell_type": "code",
   "execution_count": 139,
   "metadata": {},
   "outputs": [],
   "source": [
    "df2 = pd.DataFrame()\n",
    "df2['Street'] = squares_description\n",
    "df2['P'] = z"
   ]
  },
  {
   "cell_type": "code",
   "execution_count": 142,
   "metadata": {},
   "outputs": [
    {
     "data": {
      "text/html": [
       "<div>\n",
       "<style scoped>\n",
       "    .dataframe tbody tr th:only-of-type {\n",
       "        vertical-align: middle;\n",
       "    }\n",
       "\n",
       "    .dataframe tbody tr th {\n",
       "        vertical-align: top;\n",
       "    }\n",
       "\n",
       "    .dataframe thead th {\n",
       "        text-align: right;\n",
       "    }\n",
       "</style>\n",
       "<table border=\"1\" class=\"dataframe\">\n",
       "  <thead>\n",
       "    <tr style=\"text-align: right;\">\n",
       "      <th></th>\n",
       "      <th>Street</th>\n",
       "      <th>P</th>\n",
       "    </tr>\n",
       "  </thead>\n",
       "  <tbody>\n",
       "    <tr>\n",
       "      <th>29</th>\n",
       "      <td>Yellow 3</td>\n",
       "      <td>(0.0263916744324+0j)</td>\n",
       "    </tr>\n",
       "    <tr>\n",
       "      <th>28</th>\n",
       "      <td>Water Works</td>\n",
       "      <td>(0.0263631811164+0j)</td>\n",
       "    </tr>\n",
       "    <tr>\n",
       "      <th>26</th>\n",
       "      <td>Yellow 1</td>\n",
       "      <td>(0.0263625129092+0j)</td>\n",
       "    </tr>\n",
       "    <tr>\n",
       "      <th>27</th>\n",
       "      <td>Yellow 2</td>\n",
       "      <td>(0.026350196292+0j)</td>\n",
       "    </tr>\n",
       "    <tr>\n",
       "      <th>30</th>\n",
       "      <td>Go to Jail</td>\n",
       "      <td>(0.0262111553694+0j)</td>\n",
       "    </tr>\n",
       "    <tr>\n",
       "      <th>25</th>\n",
       "      <td>Train Station 3</td>\n",
       "      <td>(0.0261304307087+0j)</td>\n",
       "    </tr>\n",
       "    <tr>\n",
       "      <th>15</th>\n",
       "      <td>Train Station 2</td>\n",
       "      <td>(0.0261085574301+0j)</td>\n",
       "    </tr>\n",
       "    <tr>\n",
       "      <th>31</th>\n",
       "      <td>Green 1</td>\n",
       "      <td>(0.0260313028735+0j)</td>\n",
       "    </tr>\n",
       "    <tr>\n",
       "      <th>14</th>\n",
       "      <td>Purple 3</td>\n",
       "      <td>(0.0260140923045+0j)</td>\n",
       "    </tr>\n",
       "    <tr>\n",
       "      <th>13</th>\n",
       "      <td>Purple 2</td>\n",
       "      <td>(0.0259584388317+0j)</td>\n",
       "    </tr>\n",
       "    <tr>\n",
       "      <th>10</th>\n",
       "      <td>Jail</td>\n",
       "      <td>(0.0259483630254+0j)</td>\n",
       "    </tr>\n",
       "    <tr>\n",
       "      <th>11</th>\n",
       "      <td>Purple 1</td>\n",
       "      <td>(0.02593819152+0j)</td>\n",
       "    </tr>\n",
       "    <tr>\n",
       "      <th>12</th>\n",
       "      <td>Electric Company</td>\n",
       "      <td>(0.0259378818463+0j)</td>\n",
       "    </tr>\n",
       "    <tr>\n",
       "      <th>0</th>\n",
       "      <td>Start</td>\n",
       "      <td>(0.0259300369216+0j)</td>\n",
       "    </tr>\n",
       "    <tr>\n",
       "      <th>24</th>\n",
       "      <td>Red 3</td>\n",
       "      <td>(0.0259107298154+0j)</td>\n",
       "    </tr>\n",
       "    <tr>\n",
       "      <th>16</th>\n",
       "      <td>Orange 1</td>\n",
       "      <td>(0.0258825946449+0j)</td>\n",
       "    </tr>\n",
       "    <tr>\n",
       "      <th>32</th>\n",
       "      <td>Green 2</td>\n",
       "      <td>(0.02584236176+0j)</td>\n",
       "    </tr>\n",
       "    <tr>\n",
       "      <th>39</th>\n",
       "      <td>Dark Blue 2</td>\n",
       "      <td>(0.0258411036687+0j)</td>\n",
       "    </tr>\n",
       "    <tr>\n",
       "      <th>17</th>\n",
       "      <td>Community Chest 2</td>\n",
       "      <td>(0.0258100160782+0j)</td>\n",
       "    </tr>\n",
       "    <tr>\n",
       "      <th>38</th>\n",
       "      <td>Super Tax</td>\n",
       "      <td>(0.0257826064165+0j)</td>\n",
       "    </tr>\n",
       "    <tr>\n",
       "      <th>33</th>\n",
       "      <td>Community Chest 3</td>\n",
       "      <td>(0.025770247957+0j)</td>\n",
       "    </tr>\n",
       "    <tr>\n",
       "      <th>35</th>\n",
       "      <td>Train Station 4</td>\n",
       "      <td>(0.0257522151879+0j)</td>\n",
       "    </tr>\n",
       "    <tr>\n",
       "      <th>37</th>\n",
       "      <td>Dark Blue 1</td>\n",
       "      <td>(0.025751155218+0j)</td>\n",
       "    </tr>\n",
       "    <tr>\n",
       "      <th>36</th>\n",
       "      <td>Chance 3</td>\n",
       "      <td>(0.0257455528756+0j)</td>\n",
       "    </tr>\n",
       "    <tr>\n",
       "      <th>18</th>\n",
       "      <td>Orange 2</td>\n",
       "      <td>(0.02574095096+0j)</td>\n",
       "    </tr>\n",
       "    <tr>\n",
       "      <th>9</th>\n",
       "      <td>Light Blue 3</td>\n",
       "      <td>(0.0256964902883+0j)</td>\n",
       "    </tr>\n",
       "    <tr>\n",
       "      <th>1</th>\n",
       "      <td>Brown 1</td>\n",
       "      <td>(0.0256894353215+0j)</td>\n",
       "    </tr>\n",
       "    <tr>\n",
       "      <th>23</th>\n",
       "      <td>Red 2</td>\n",
       "      <td>(0.0256861608021+0j)</td>\n",
       "    </tr>\n",
       "    <tr>\n",
       "      <th>34</th>\n",
       "      <td>Green 3</td>\n",
       "      <td>(0.025676195137+0j)</td>\n",
       "    </tr>\n",
       "    <tr>\n",
       "      <th>19</th>\n",
       "      <td>Orange 3</td>\n",
       "      <td>(0.0256564740257+0j)</td>\n",
       "    </tr>\n",
       "    <tr>\n",
       "      <th>22</th>\n",
       "      <td>Chance 2</td>\n",
       "      <td>(0.0256150534402+0j)</td>\n",
       "    </tr>\n",
       "    <tr>\n",
       "      <th>8</th>\n",
       "      <td>Light Blue 2</td>\n",
       "      <td>(0.0256130623439+0j)</td>\n",
       "    </tr>\n",
       "    <tr>\n",
       "      <th>2</th>\n",
       "      <td>Community Chest 1</td>\n",
       "      <td>(0.0255897723411+0j)</td>\n",
       "    </tr>\n",
       "    <tr>\n",
       "      <th>20</th>\n",
       "      <td>Free Parking</td>\n",
       "      <td>(0.025535775562+0j)</td>\n",
       "    </tr>\n",
       "    <tr>\n",
       "      <th>21</th>\n",
       "      <td>Red 1</td>\n",
       "      <td>(0.0255077760653+0j)</td>\n",
       "    </tr>\n",
       "    <tr>\n",
       "      <th>7</th>\n",
       "      <td>Chance 1</td>\n",
       "      <td>(0.0255023961224+0j)</td>\n",
       "    </tr>\n",
       "    <tr>\n",
       "      <th>3</th>\n",
       "      <td>Brown 2</td>\n",
       "      <td>(0.025495793695+0j)</td>\n",
       "    </tr>\n",
       "    <tr>\n",
       "      <th>5</th>\n",
       "      <td>Train Station 1</td>\n",
       "      <td>(0.0253867972278+0j)</td>\n",
       "    </tr>\n",
       "    <tr>\n",
       "      <th>4</th>\n",
       "      <td>Income Tax</td>\n",
       "      <td>(0.0253848931034+0j)</td>\n",
       "    </tr>\n",
       "    <tr>\n",
       "      <th>6</th>\n",
       "      <td>Light Blue 1</td>\n",
       "      <td>(0.0253680818539+0j)</td>\n",
       "    </tr>\n",
       "  </tbody>\n",
       "</table>\n",
       "</div>"
      ],
      "text/plain": [
       "               Street                     P\n",
       "29           Yellow 3  (0.0263916744324+0j)\n",
       "28        Water Works  (0.0263631811164+0j)\n",
       "26           Yellow 1  (0.0263625129092+0j)\n",
       "27           Yellow 2   (0.026350196292+0j)\n",
       "30         Go to Jail  (0.0262111553694+0j)\n",
       "25    Train Station 3  (0.0261304307087+0j)\n",
       "15    Train Station 2  (0.0261085574301+0j)\n",
       "31            Green 1  (0.0260313028735+0j)\n",
       "14           Purple 3  (0.0260140923045+0j)\n",
       "13           Purple 2  (0.0259584388317+0j)\n",
       "10               Jail  (0.0259483630254+0j)\n",
       "11           Purple 1    (0.02593819152+0j)\n",
       "12   Electric Company  (0.0259378818463+0j)\n",
       "0               Start  (0.0259300369216+0j)\n",
       "24              Red 3  (0.0259107298154+0j)\n",
       "16           Orange 1  (0.0258825946449+0j)\n",
       "32            Green 2    (0.02584236176+0j)\n",
       "39        Dark Blue 2  (0.0258411036687+0j)\n",
       "17  Community Chest 2  (0.0258100160782+0j)\n",
       "38          Super Tax  (0.0257826064165+0j)\n",
       "33  Community Chest 3   (0.025770247957+0j)\n",
       "35    Train Station 4  (0.0257522151879+0j)\n",
       "37        Dark Blue 1   (0.025751155218+0j)\n",
       "36           Chance 3  (0.0257455528756+0j)\n",
       "18           Orange 2    (0.02574095096+0j)\n",
       "9        Light Blue 3  (0.0256964902883+0j)\n",
       "1             Brown 1  (0.0256894353215+0j)\n",
       "23              Red 2  (0.0256861608021+0j)\n",
       "34            Green 3   (0.025676195137+0j)\n",
       "19           Orange 3  (0.0256564740257+0j)\n",
       "22           Chance 2  (0.0256150534402+0j)\n",
       "8        Light Blue 2  (0.0256130623439+0j)\n",
       "2   Community Chest 1  (0.0255897723411+0j)\n",
       "20       Free Parking   (0.025535775562+0j)\n",
       "21              Red 1  (0.0255077760653+0j)\n",
       "7            Chance 1  (0.0255023961224+0j)\n",
       "3             Brown 2   (0.025495793695+0j)\n",
       "5     Train Station 1  (0.0253867972278+0j)\n",
       "4          Income Tax  (0.0253848931034+0j)\n",
       "6        Light Blue 1  (0.0253680818539+0j)"
      ]
     },
     "execution_count": 142,
     "metadata": {},
     "output_type": "execute_result"
    }
   ],
   "source": [
    "df2.sort_values('P', ascending=False)"
   ]
  },
  {
   "cell_type": "code",
   "execution_count": null,
   "metadata": {},
   "outputs": [],
   "source": []
  }
 ],
 "metadata": {
  "kernelspec": {
   "display_name": "Python 3",
   "language": "python",
   "name": "python3"
  },
  "language_info": {
   "codemirror_mode": {
    "name": "ipython",
    "version": 3
   },
   "file_extension": ".py",
   "mimetype": "text/x-python",
   "name": "python",
   "nbconvert_exporter": "python",
   "pygments_lexer": "ipython3",
   "version": "3.6.3"
  }
 },
 "nbformat": 4,
 "nbformat_minor": 2
}
