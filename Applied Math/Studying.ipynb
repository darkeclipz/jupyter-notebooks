{
 "cells": [
  {
   "cell_type": "markdown",
   "metadata": {},
   "source": [
    "# Topics"
   ]
  },
  {
   "cell_type": "markdown",
   "metadata": {},
   "source": [
    "## KhanAcademy"
   ]
  },
  {
   "cell_type": "markdown",
   "metadata": {},
   "source": [
    "* Arithmetic properties\n",
    "* Factors and multiples\n",
    "* Measurement\n",
    "* Fractions\n",
    "* Decimals\n",
    "* Negative numbers and coordinate plane\n",
    "* Ratios, rates, proportions\n",
    "* Equations, expressions, and inequalities\n",
    "* Exponents, radicals, scientific notation\n",
    "* Algebra foundations\n",
    "* Solving equations\n",
    "* Solving inequalities\n",
    "* Units\n",
    "* Linear equations & graphs\n",
    "* Functions\n",
    "* Sequences\n",
    "* Systems of equations\n",
    "* Inequalities\n",
    "* Absolute value & piecewise functions\n",
    "* Rational exponents & radicals\n",
    "* Exponential growth & decay\n",
    "* Polynomials\n",
    "* Factorization\n",
    "* Quadratics\n",
    "* Irrational numbers\n",
    "* Functions\n",
    "* Trigonometry with right triangles\n",
    "* Trigonometry with general triangles\n",
    "* Unit circle definition of sin/cos/tan\n",
    "* Graphs of trigonometric functions\n",
    "* Limits and continuity"
   ]
  },
  {
   "cell_type": "markdown",
   "metadata": {},
   "source": [
    "## Basisvaardigheden"
   ]
  },
  {
   "cell_type": "markdown",
   "metadata": {},
   "source": [
    "* Positieve gehele exponenten\n",
    "* Negatieve gehele exponenten\n",
    "* Gebroken exponenten\n",
    "* Haakjes wegwerken\n",
    "* Merkwaardige producten\n",
    "* Ontbinden in factoren\n",
    "* Breuken optellen/aftrekken\n",
    "* Breuken vereenvoudigen\n",
    "* Breuken vermenigvuldigen/delen\n",
    "* Parabolen tekenen\n",
    "* Parabolen verschuiven\n",
    "* Parabolen uitrekken/in elkaar duwen\n",
    "* Grafieken spiegelen\n",
    "* Eerstegraadsvergelijkingen oplossen\n",
    "* Eerstegraadsongelijkheden oplossen\n",
    "* Vergelijkingen van een lijn\n",
    "* Vergelijking van een lijn opstellen\n",
    "* Twee vergelijkingen met twee onbekenden\n",
    "* Tweedegraadsvergelijkingen\n",
    "* abc-formule\n",
    "* Tweedegraadsfuncties\n",
    "* Snijpunten van parabolen uitrekenen\n",
    "* Grafieken van functies met breuken (y=1/x)\n",
    "* Asymptoten/nulpunt/snijpunt xy as\n",
    "* Breuken van lineaire functies\n",
    "* Breuken van lineaire functies omkeren\n",
    "* Positieve gehele exponenten (grafiek)\n",
    "* Negatieve gehele exponenten (grafiek)\n",
    "* Wortelfuncties (grafiek)\n",
    "* Wortelvergelijkingen\n",
    "* Inverse functies\n",
    "* Exponentiele functies\n",
    "* Inverse van exponentiele functies\n",
    "* Goniometrie (rechthoekige driehoek)\n",
    "* Graden en radialen\n",
    "* Eenheidscirkel\n",
    "* Grafieken van goniometrische functies\n",
    "* Eigenschappen van sin/cos/tan\n",
    "* Amplitude, periode, frequentie en evenwichtsstand\n",
    "* Basisvergelijkingen goniometrie\n",
    "* Sinusregel\n",
    "* Cosinusregel"
   ]
  },
  {
   "cell_type": "markdown",
   "metadata": {},
   "source": [
    "## Basic Mathematics"
   ]
  },
  {
   "cell_type": "markdown",
   "metadata": {},
   "source": [
    "** TO-DO **\n",
    "\n",
    "* Isometries\n",
    "* Area and applications\n",
    "* Coordinates and geometry\n",
    "* Operations on points\n",
    "* Segments, rays, lines\n",
    "* Trigonometry\n",
    "* Analytic geometry\n",
    "* Functions\n",
    "* Mappings\n",
    "* Complex numbers"
   ]
  },
  {
   "cell_type": "markdown",
   "metadata": {},
   "source": [
    "## Algebra, Gelfand"
   ]
  },
  {
   "cell_type": "markdown",
   "metadata": {},
   "source": [
    "http://www.cimat.mx/ciencia_para_jovenes/bachillerato/libros/algebra_gelfand.pdf"
   ]
  },
  {
   "cell_type": "markdown",
   "metadata": {},
   "source": [
    "## Statistiek"
   ]
  },
  {
   "cell_type": "markdown",
   "metadata": {},
   "source": [
    "* Variabelen (discreet/continue)\n",
    "* Indeling in schalen\n",
    "* Klassificeren\n",
    "* Meetniveau's\n",
    "* Frequentieverdeling\n",
    "* Relatiefrequentie\n",
    "* Populatie\n",
    "* Steekproef\n",
    "* Percentage\n",
    "* Klassen\n",
    "* Klassenmidden\n",
    "* Klassenbreedte\n",
    "* Histogram\n",
    "* Frequentiepolygon\n",
    "* Cumulatieve frequentiepolygon\n",
    "* Gelijke/ongelijke klassenbreedte\n",
    "* Spreidingsdiagram (scatter plot)\n",
    "* Staafdiagram\n",
    "* Cirkeldiagram\n",
    "* Stamdiagram\n",
    "* Paretodiagram\n",
    "* Rekenkundig gemiddelde\n",
    "* Gewogen rekenkundig gemiddelde\n",
    "* Mediaan\n",
    "* Modus\n",
    "* Spreidingsbreedte\n",
    "* Gemiddelde absolute afwijking\n",
    "* Variantie\n",
    "* Standaard deviatie"
   ]
  },
  {
   "cell_type": "markdown",
   "metadata": {},
   "source": [
    "## Matrixrekening"
   ]
  },
  {
   "cell_type": "markdown",
   "metadata": {},
   "source": [
    "* Matrix definitie\n",
    "* Kolomvector\n",
    "* Rijvector\n",
    "* Vierkante matrices\n",
    "* Nulmatrix\n",
    "* Symmetrische matrix\n",
    "* Transponeren\n",
    "* Optellen/aftrekken\n",
    "* Vermenigvuldigen/delen\n",
    "* Matrixvermenigvuldiging\n",
    "* Eenheidsmatrix\n",
    "* Machtsverheffen\n",
    "* Commutativiteit\n",
    "* Associativiteit\n",
    "* Distributiviteit\n",
    "* Nulvector\n",
    "* Eenheidsvectoren\n",
    "* Lineaire combinatie van eenheidsvectoren\n",
    "* 1e-graads vergelijking (lineair)\n",
    "* Standaard vorm\n",
    "* Elementaire bewerkingen op matrices\n",
    "* Vegen\n",
    "* Pivot\n",
    "* Stelsels vergelijkingen als matrixvergelijking\n",
    "* Eenduidig oplosbaar\n",
    "* Strijdig stelsel\n",
    "* Afhankelijk stelsel\n",
    "* Algemene oplossing\n",
    "* Particuliere oplossing\n",
    "* Oplossingsmogelijkheden\n",
    "* Coefficientmatrix\n",
    "* Aangevulde coefficientenmatrix\n",
    "* Equivalent\n",
    "* Algemene oplossing bij afhankelijke stelsels"
   ]
  },
  {
   "cell_type": "markdown",
   "metadata": {},
   "source": [
    "## Logica & verzamelingleer"
   ]
  },
  {
   "cell_type": "markdown",
   "metadata": {},
   "source": [
    "* Natuurlijke getallen\n",
    "* Gehele getallen\n",
    "* Rationele getallen\n",
    "* Irrationele getallen\n",
    "* Verzamelingen\n",
    "* Begrensd open interval\n",
    "* Begrensd gesloten interval\n",
    "* Onbegrendse intervallen\n",
    "* Deelverzamelingen\n",
    "* Doorsnede\n",
    "* Vereniging\n",
    "* Verschil\n",
    "* Venn-diagrammen\n",
    "* Geordende paren\n",
    "* Productverzamelingen\n",
    "* Machtsverheffen\n",
    "* Propositie\n",
    "* Logische connectieven\n",
    "* Conjunctie\n",
    "* Disjunctie \n",
    "* Implicatie\n",
    "* Negatie\n",
    "* Waarheidstabellen"
   ]
  },
  {
   "cell_type": "markdown",
   "metadata": {},
   "source": [
    "## Logistiek en Excel"
   ]
  },
  {
   "cell_type": "markdown",
   "metadata": {},
   "source": [
    "* Prognosemodellen\n",
    "* Voortschrijdende gemiddelden\n",
    "* Nauwkeurigheidsmaatstaven\n",
    "* RMSE/MAD/MPE/MAPE\n",
    "* Dubbel voortschrijdend gemiddelde\n",
    "* Enkelvoudige exponentiele effening\n",
    "* Globale selectie van $\\alpha$, $\\beta$, $\\gamma$\n",
    "* Verfijnde selectie van $\\alpha$, $\\beta$, $\\gamma$\n",
    "* Holts exponentiele effening (voor trend)\n",
    "* Winters exponentiele effening (trend en seizoenselement)\n",
    "* Enkelvoudige lineaire regressie"
   ]
  },
  {
   "cell_type": "markdown",
   "metadata": {},
   "source": [
    "## Introduction to Mathematical Thinking"
   ]
  },
  {
   "cell_type": "markdown",
   "metadata": {},
   "source": [
    "* Mathematical statements\n",
    "* Conjunctions (and)\n",
    "* Disjunctions (or)\n",
    "* Negations (not)\n",
    "* Implication (antecedent/consequent)\n",
    "* Truth tables\n",
    "* Equivalence"
   ]
  },
  {
   "cell_type": "markdown",
   "metadata": {},
   "source": [
    "## Calculus Made Easy"
   ]
  },
  {
   "cell_type": "markdown",
   "metadata": {},
   "source": [
    "* Different degrees of smallness\n",
    "* Relative growings\n",
    "* Power rule\n",
    "* Constants\n",
    "* Sum rule\n",
    "* Difference rule\n",
    "* Product rule\n",
    "* Quotient rule"
   ]
  },
  {
   "cell_type": "markdown",
   "metadata": {},
   "source": [
    "## Naive Set Theory"
   ]
  },
  {
   "cell_type": "markdown",
   "metadata": {},
   "source": [
    "* Axiom of extension\n",
    "* Belonging\n",
    "* Subsets\n",
    "* Reflexive\n",
    "* Transitive\n",
    "* Antisymmetric\n",
    "* Axiom of specification\n",
    "* Russel paradox\n",
    "* Axiom of pairing\n",
    "* Unions and intersections\n",
    "* Axiom of unions\n",
    "* Disjoint\n",
    "* De-morgan law\n",
    "* Principle of duality\n",
    "* Symmetric difference\n",
    "* Axiom of powers"
   ]
  },
  {
   "cell_type": "markdown",
   "metadata": {},
   "source": [
    "## Coding the Matrix"
   ]
  },
  {
   "cell_type": "markdown",
   "metadata": {},
   "source": [
    "* Cartesian product\n",
    "* Function\n",
    "* Domain of a function\n",
    "* Range/image of a function\n",
    "* Function mappings\n",
    "* Identity function \n",
    "* Composition of functions\n",
    "* Associativity of function compositions\n",
    "* Functional inverses\n",
    "* Invertible function\n",
    "* One-to-one function\n",
    "* Invertibility of composition of invertible functions\n",
    "* Probability distribution\n",
    "* Uniform distributions\n",
    "* Non-uniform distributions\n",
    "* Fundamental principle of probabilities\n",
    "* Complex numbers\n",
    "* Imaginary number\n",
    "* Complex number arithmetic\n",
    "* Field of real numbers\n",
    "* Field of complex numbers\n",
    "* Field of GF(2)\n",
    "* Absolute value of a complex number (conjugate)\n",
    "* Rotation with multiplication of i\n",
    "* Euler's formula\n",
    "* Rotation by $\\tau$ radians\n",
    "* Vectors\n",
    "* Vector addition\n",
    "* Scalar-vector multiplication\n",
    "* Distributive property of scalar-vector multiplication\n",
    "* Representing a line\n",
    "* Origin\n",
    "* Dot-product\n",
    "* Homogeneity\n",
    "* Linear equation\n",
    "* Linear system\n",
    "* Upper-triangular system\n",
    "* Linear combination\n",
    "* Coefficients\n",
    "* Span of vectors\n",
    "* Standard generators\n",
    "* Flats\n",
    "* Homogeneous linear equation\n",
    "* Homogeneous linear system\n",
    "* Representation of flats containing the origin\n",
    "* Vector spaces\n",
    "* Subspace\n",
    "* Affine combination\n",
    "* Affine hull of vectors\n",
    "* Affice space\n",
    "* Representation of flats not containing the origin\n",
    "* Solution set of linear system an affine space?"
   ]
  },
  {
   "cell_type": "markdown",
   "metadata": {},
   "source": [
    "## Other"
   ]
  },
  {
   "cell_type": "markdown",
   "metadata": {},
   "source": [
    "* Remainder theorem\n",
    "* Polynomial division\n",
    "* Synthetic division\n",
    "* Proof of quadratic formula\n",
    "* Mandelbrot set"
   ]
  },
  {
   "cell_type": "markdown",
   "metadata": {},
   "source": [
    "## What is Mathematics?"
   ]
  },
  {
   "cell_type": "markdown",
   "metadata": {},
   "source": [
    "## How to proof it"
   ]
  },
  {
   "cell_type": "markdown",
   "metadata": {},
   "source": [
    "## Calculus, Spivak"
   ]
  },
  {
   "cell_type": "markdown",
   "metadata": {},
   "source": [
    "## Linear Algebra Done Right"
   ]
  },
  {
   "cell_type": "markdown",
   "metadata": {},
   "source": [
    "## Book of Abstract Algebra"
   ]
  },
  {
   "cell_type": "markdown",
   "metadata": {},
   "source": [
    "## Introduction to Topology"
   ]
  },
  {
   "cell_type": "markdown",
   "metadata": {},
   "source": [
    "## Axiomatic Set Theory"
   ]
  },
  {
   "cell_type": "code",
   "execution_count": null,
   "metadata": {
    "collapsed": true
   },
   "outputs": [],
   "source": []
  }
 ],
 "metadata": {
  "kernelspec": {
   "display_name": "Python 3",
   "language": "python",
   "name": "python3"
  },
  "language_info": {
   "codemirror_mode": {
    "name": "ipython",
    "version": 3
   },
   "file_extension": ".py",
   "mimetype": "text/x-python",
   "name": "python",
   "nbconvert_exporter": "python",
   "pygments_lexer": "ipython3",
   "version": "3.5.2"
  }
 },
 "nbformat": 4,
 "nbformat_minor": 2
}
