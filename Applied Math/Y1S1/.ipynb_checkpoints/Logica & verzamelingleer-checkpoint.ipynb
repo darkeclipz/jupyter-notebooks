{
 "cells": [
  {
   "cell_type": "markdown",
   "metadata": {
    "collapsed": true
   },
   "source": [
    "# Logica & verzamelingleer"
   ]
  },
  {
   "cell_type": "markdown",
   "metadata": {},
   "source": [
    "## Week 1"
   ]
  },
  {
   "cell_type": "markdown",
   "metadata": {},
   "source": [
    "### Hoorcollege"
   ]
  },
  {
   "cell_type": "markdown",
   "metadata": {},
   "source": [
    "#### Natuurlijke getallen"
   ]
  },
  {
   "cell_type": "markdown",
   "metadata": {},
   "source": [
    "De natuurlijke getallen is de verzameling $\\mathbb{N} = \\{0,1,2,3,\\ldots\\}$. We kunnen dus schrijven dat $25 \\in \\mathbb{N}$. Waarbij $\\in$ betekent dat het een element is van."
   ]
  },
  {
   "cell_type": "markdown",
   "metadata": {},
   "source": [
    "#### Gehele getallen (integers)"
   ]
  },
  {
   "cell_type": "markdown",
   "metadata": {},
   "source": [
    "De gehele getallen is de verzameling $\\mathbb{Z}=\\{\\ldots,3,2,1,0,1,2,3,\\ldots\\}$.\n",
    "\n",
    "* Voor alle $x \\in \\mathbb{N}$, geldt dat $x \\in \\mathbb{Z}$ omdat alle getallen van $\\mathbb{N}$ voorkomen in $\\mathbb{Z}$.\n",
    "* $\\forall x \\in \\mathbb{Z}$ geldt niet dat $x \\in \\mathbb{N}$. Een eenvoudig tegenvoorbeeld is $-2 \\not\\in \\mathbb{N}$.\n",
    "* Voor alle $x \\in \\mathbb{Z}$ waarbij $x \\geq 0$ geldt dat $x \\in \\mathbb{N}$."
   ]
  },
  {
   "cell_type": "markdown",
   "metadata": {},
   "source": [
    "#### Rationele getallen"
   ]
  },
  {
   "cell_type": "markdown",
   "metadata": {},
   "source": [
    "De rationele getallen $\\mathbb{Q}$ bevat alle elementen die kunnen worden uitgedrukt als breuk (zowel positief als negatief). Denk hierbij aan $\\mathbb{Q} = \\{\\ldots,-\\frac{1}{2},\\ldots,-\\frac{1}{4},\\ldots,0,\\ldots,\\frac{1}{4},\\ldots,\\frac{1}{2},\\ldots\\}$.\n",
    "\n",
    "Let er wel op dat bijvoorbeeld $\\frac{3\\pi}{4}$ het irrationele getal $\\pi$ bevat en dus niet in $\\mathbb{Q}$ zit maar in $\\mathbb{R}$."
   ]
  },
  {
   "cell_type": "markdown",
   "metadata": {},
   "source": [
    "#### Irrationele getallen"
   ]
  },
  {
   "cell_type": "markdown",
   "metadata": {},
   "source": [
    "De irrationele getallen $\\mathbb{R}$ (real numbers) bevat alle bovengenoemde verzamelingen en ook alle irrationele getallen. Denk bijvoorbeeld aan $\\{\\pi,e,\\sqrt{2}\\}$."
   ]
  },
  {
   "cell_type": "markdown",
   "metadata": {},
   "source": [
    "#### Complexe getallen"
   ]
  },
  {
   "cell_type": "markdown",
   "metadata": {},
   "source": [
    "Er is ook de verzameling met complexe getallen $\\mathbb{C}$. Hierin zitten de getallen zoals $\\sqrt{-1} = i$."
   ]
  },
  {
   "cell_type": "markdown",
   "metadata": {},
   "source": [
    "#### Verzamelingen"
   ]
  },
  {
   "cell_type": "markdown",
   "metadata": {},
   "source": [
    "Verzamelingen kunnen we a.d.h.v een notatie opstellen. Zo kunnen we bijvoorbeeld de verzameling met alle even getallen schrijven als $V = \\{x \\in \\mathbb{N}:x=2n,n\\geq0\\}$."
   ]
  },
  {
   "cell_type": "markdown",
   "metadata": {},
   "source": [
    "#### Begrensd open interval"
   ]
  },
  {
   "cell_type": "markdown",
   "metadata": {},
   "source": [
    "Een begrensd open interval schrijven we als $\\langle-7,5\\rangle = \\{ x \\in \\mathbb{R} : -7 < x < 5 \\}$."
   ]
  },
  {
   "cell_type": "markdown",
   "metadata": {},
   "source": [
    "#### Begrensd gesloten interval"
   ]
  },
  {
   "cell_type": "markdown",
   "metadata": {},
   "source": [
    "Een begrensd gesloten interval schrijven we als $\\big[-7,5\\big]=\\{x \\in \\mathbb{R} : -7 \\leq x \\leq 5\\}$."
   ]
  },
  {
   "cell_type": "markdown",
   "metadata": {},
   "source": [
    "#### Onbegrensd"
   ]
  },
  {
   "cell_type": "markdown",
   "metadata": {},
   "source": [
    "Een interval kan ook onbegrensd zijn en schrijven we als $\\langle - \\infty ,8\\big]$. Let er op dat $\\infty$ altijd open is en deze buiten de set valt. $\\infty$ is namelijk geen getal."
   ]
  },
  {
   "cell_type": "markdown",
   "metadata": {},
   "source": [
    "#### Deelverzamelingen\n"
   ]
  },
  {
   "cell_type": "markdown",
   "metadata": {},
   "source": [
    "We kunnen een deelverzameling noteren als $V \\subset W$. Ook is het mogelijk om meerdere deelverzamelingen te hebben zoals bijvoorbeeld $\\varnothing \\subset \\mathbb{N} \\subset \\mathbb{Z} \\subset \\mathbb{Q} \\subset \\mathbb{R}$.\n",
    "\n",
    "1. Voor elke verzameling $V$ geldt dat $V \\subset V$. $V$ is dus een deelverzameling van zichzelf.\n",
    "2. Voor elke verzameling $V$ geldt dat $\\varnothing \\subset V$. Elke verzameling bevat ook de lege verzameling $\\varnothing$.\n",
    "\n",
    "Alle deelverzamelingen van $\\{1,2\\}$ zijn:\n",
    "1. $\\{1\\}$\n",
    "2. $\\{2\\}$\n",
    "3. $\\{1,2\\}$\n",
    "4. $\\{\\varnothing\\}$\n",
    "\n",
    "Als $A$ een deelverzameling is van $B$, en $B$ van $A$, $A \\subset B$, $B \\subset A$, dan $A=B$. Dit is een handige manier om te bewijzen dat twee deelverzamelingen gelijk zijn aan elkaar. In andere woorden, als alle elementen van $A$ in $B$ zitten en alle elementen van $B$ in $A$ zitten dan zijn $A$ en $B$ gelijk."
   ]
  },
  {
   "cell_type": "markdown",
   "metadata": {},
   "source": [
    "#### Doorsnede (intersect)"
   ]
  },
  {
   "cell_type": "markdown",
   "metadata": {},
   "source": [
    "Als we een set $V = \\{1,3,4,5\\}$ hebben en een set $W=\\{4,5\\}$ dan is de doorsnede $V \\cap W = \\{4,5\\}$. De definitie hiervan is $A \\cap B = \\{ x \\in \\mathbb{R} : x \\in A, x \\in B \\}$. Als het resultaat van de doorsnede de lege set $\\varnothing$ is dan zeggen we dat $A \\cap B$ _disjunct_ is."
   ]
  },
  {
   "cell_type": "markdown",
   "metadata": {},
   "source": [
    "#### Verenigen (union)"
   ]
  },
  {
   "cell_type": "markdown",
   "metadata": {},
   "source": [
    "\n",
    "Als we een set $V =\\{1,2,3,4,5\\} $ hebben en een set $W = \\{6,7\\}$ dan is de vereniging $V \\cup W = \\{1,2,3,4,5,6,7\\}$. De definitie hiervan is $A \\cup B = \\{x : x\\in A \\lor x\\in B\\}$."
   ]
  },
  {
   "cell_type": "markdown",
   "metadata": {},
   "source": [
    "#### Verschil"
   ]
  },
  {
   "cell_type": "markdown",
   "metadata": {},
   "source": [
    "Het verschil van twee verzamelingen $A$ en $B$ is de verzameling $A\\setminus B$. Deze verzameling bevat alle elementen van $A$ die niet in $B$ zitten. Dit is gedefinieerd als $A \\setminus B = \\{x : x \\in A \\land x \\not\\in B\\}$."
   ]
  },
  {
   "cell_type": "markdown",
   "metadata": {},
   "source": [
    "## Week 2"
   ]
  },
  {
   "cell_type": "markdown",
   "metadata": {},
   "source": [
    "### Hoorcollege"
   ]
  },
  {
   "cell_type": "markdown",
   "metadata": {},
   "source": [
    "#### Venn-diagrammen"
   ]
  },
  {
   "cell_type": "markdown",
   "metadata": {},
   "source": [
    "Een venn-diagram is een handig hulpmiddel om te visualiseren naar welke gedeeltes van de verzameling wordt gekeken bij een doorsnede, vereniging of het nemen van het verschil. Let er op dat een venn-diagram geen geldig bewijs is.\n",
    "\n",
    "![Venn](http://mathworld.wolfram.com/images/eps-gif/VennDiagram_900.gif)"
   ]
  },
  {
   "cell_type": "markdown",
   "metadata": {},
   "source": [
    "#### Geordende paren"
   ]
  },
  {
   "cell_type": "markdown",
   "metadata": {},
   "source": [
    "We kunnen ook geordende paren gebruiken. Hiermee kunnen we bijvoorbeeld een lijn opstellen:\n",
    "\n",
    "$l = \\{(x,y) \\in \\mathbb{R}^2 : y = \\frac{1}{2}x+1\\} \\subset \\mathbb{R}^2$\n",
    "\n",
    "Alle elementen van $l \\in \\mathbb{R}^2$ dus $l \\subset \\mathbb{R}^2$."
   ]
  },
  {
   "cell_type": "markdown",
   "metadata": {},
   "source": [
    "#### Productverzamelingen"
   ]
  },
  {
   "cell_type": "markdown",
   "metadata": {},
   "source": [
    "Neem als voorbeeld $V=\\{1,2,3\\}$ en $W=\\{2,3,4\\}$. \n",
    "\n",
    "De productverzameling van $V$ en $W$ is de verzameling van alle geordende paren $: (a,b)$ met $a \\in V$ en $b \\in W$.\n",
    "\n",
    "Het _cartesisch product_ van $V \\times W = \\{(1,2);(1,3);(1,4);(2,2);(2,3);(2,4);(3,2);(3,3);(3,4)\\}$.\n",
    "\n",
    "Let er op dat de commutatieve eigenschap niet geldt; $V \\times W \\not= W \\times V$."
   ]
  },
  {
   "cell_type": "markdown",
   "metadata": {},
   "source": [
    "#### Machtsverheffen"
   ]
  },
  {
   "cell_type": "markdown",
   "metadata": {},
   "source": [
    "We kunnen ook machtsverheffen op verzamelingen, dit respecteert de volgende regels:\n",
    "\n",
    "$A^0 = \\emptyset \\\\\n",
    "A^1 = A \\\\\n",
    "A^2 = A \\times A \\\\\n",
    "A^n = A \\times A \\times \\ldots$\n",
    "\n",
    "Hiervoor geldt dat $n\\geq0, n \\in \\mathbb{N}$."
   ]
  },
  {
   "cell_type": "markdown",
   "metadata": {
    "collapsed": true
   },
   "source": [
    "## Week 2"
   ]
  },
  {
   "cell_type": "markdown",
   "metadata": {},
   "source": [
    "### Propositielogica"
   ]
  },
  {
   "cell_type": "markdown",
   "metadata": {},
   "source": [
    "#### Propositie"
   ]
  },
  {
   "cell_type": "markdown",
   "metadata": {},
   "source": [
    "Een propositie is een stelling die waar of niet waar kan zijn."
   ]
  },
  {
   "cell_type": "markdown",
   "metadata": {},
   "source": [
    "#### Logische connectieven"
   ]
  },
  {
   "cell_type": "markdown",
   "metadata": {},
   "source": [
    "Logische connectieven zijn de \"niet\", \"en\", en \"of\", woorden, hiermee link je _atomaire proposities_ aan elkaar tot een gehele stelling."
   ]
  },
  {
   "cell_type": "markdown",
   "metadata": {},
   "source": [
    "#### Conjunctie ($\\land$)"
   ]
  },
  {
   "cell_type": "markdown",
   "metadata": {},
   "source": [
    "Een conjunctie wordt aangegeven met het $\\land$ teken en staat voor \"en\". Hierbij zijn de atomaire proposities de conjuncts en wordt het geheel een conjunctie genoemd."
   ]
  },
  {
   "cell_type": "markdown",
   "metadata": {},
   "source": [
    "#### Disjunctie ($\\lor$)"
   ]
  },
  {
   "cell_type": "markdown",
   "metadata": {},
   "source": [
    "Een disjunctie wordt aangegeven met het $\\lor$ teken en staat voor \"of\". Hierbij zijn de atomaire proposities de disjuncts en wordt het geheel een disjunctie genoemd."
   ]
  },
  {
   "cell_type": "markdown",
   "metadata": {},
   "source": [
    "#### Implicatie ($\\implies$)\n",
    "\n",
    "Een implicatie wordt geschreven als $G \\implies H$. Hierbij zeggen we dat $G$, $H$ impliceert. Toch is de logische eigenschap van het implicatie pijltje een beetje vreemd. De propositie is in alle gevallen waar, behalve als $G$ waar is en $H$ niet waar is."
   ]
  },
  {
   "cell_type": "markdown",
   "metadata": {},
   "source": [
    "#### Negatie ($\\neg$) "
   ]
  },
  {
   "cell_type": "markdown",
   "metadata": {},
   "source": [
    "Met het negatie teken $\\neg$ kan een stelling die waar is worden omgekeerd naar niet waar, en vice versa. Een voorbeeld is $G \\lor \\neg G$, het is eenvoudig te zien dat deze stelling altijd waar is."
   ]
  },
  {
   "cell_type": "markdown",
   "metadata": {},
   "source": [
    "#### Waarheidstabel"
   ]
  },
  {
   "cell_type": "markdown",
   "metadata": {},
   "source": [
    "Met een waarheidstabel kan om een handige manier per atomaire propositie inzichtelijk worden gemaakt of deze waar of niet waar is. De tabel kan je daarna uitbreiden om de gehele stellingen de evalueren (dit geeft veel overzicht)."
   ]
  },
  {
   "cell_type": "markdown",
   "metadata": {
    "collapsed": true
   },
   "source": [
    "## Week 3"
   ]
  },
  {
   "cell_type": "markdown",
   "metadata": {},
   "source": [
    "**Exclusive OR ($\\veebar$)**\n",
    "\n",
    "Dit is een exclusieve disjunctie. Hierbij mogen $P$ en $Q$ niet beiden waar zijn.\n",
    "\n",
    "$P \\veebar Q \\iff (P \\land \\lnot Q) \\lor (\\lnot P \\land Q)$\n",
    "\n",
    "**Logische equivalent ($\\iff$)**\n",
    "\n",
    "Twee (samengestelde) proposities zijn _logisch equivalent_ als ze zijn opgebouwd uit dezelfde atomaire proposities en bij elke waarheidsverdeling deze basis-proposities dezelfde waarheidswaarde hebben.\n",
    "\n",
    "Enkele eigenschappen:\n",
    "* Disjunctie is commutatief: $P\\lor Q \\iff Q \\lor R$\n",
    "* Conjunctie is commutatief: $P \\land Q \\iff Q \\land R$\n",
    "* Disjunctie is associatief: $P \\lor ( Q \\lor R ) \\iff (P \\lor Q) \\lor R$\n",
    "* Conjunctie is associatief: $P \\land ( Q \\land R ) \\iff (P \\land Q) \\land R$\n",
    "* Disjunctie is distributief: $P \\land (Q \\lor R) \\iff (P \\land Q) \\lor (P \\land R)$\n",
    "* Conjunctie is distributief: $P \\lor (Q \\land R) \\iff (P \\lor Q) \\land (P \\lor R)$\n",
    "\n",
    "**Tautologie**\n",
    "\n",
    "Een _tautologie_ is een propositie die altijd waar is. Bijvoorbeeld $P \\implies P$.\n",
    "\n",
    "**Wetten van De Morgan**\n",
    "\n",
    "Dit bestaat uit de volgende twee stellingen:\n",
    "\n",
    "1. $\\lnot (P\\lor Q) \\iff \\lnot P \\land \\lnot Q$\n",
    "2. $\\lnot (P\\land Q) \\iff \\lnot P \\lor \\lnot Q$"
   ]
  },
  {
   "cell_type": "markdown",
   "metadata": {},
   "source": [
    "**Equivalentie met implicatie**\n",
    "\n",
    "Een belangrijke logische equivalentie is ($P\\implies Q) \\iff (\\lnot P \\lor Q)$."
   ]
  },
  {
   "cell_type": "markdown",
   "metadata": {},
   "source": [
    "**Wet van contrapositie**\n",
    "\n",
    "Deze stelt dat $(P \\implies Q) \\iff (\\lnot Q \\implies \\lnot P)$. Soms is het makkelijker om bewijs te leveren voor $(\\lnot Q \\implies \\lnot P)$ in plaats van voor $(P \\implies Q)$."
   ]
  },
  {
   "cell_type": "markdown",
   "metadata": {},
   "source": [
    "**Bi-implicatie ($\\leftrightarrow$)**\n",
    "\n",
    "Voor sommige implicaties $P \\implies Q$ geldt ook dan $Q \\implies P$.\n",
    "\n",
    "In plaats van een samengestelde propositie $(P \\implies Q) \\land (Q \\implies P)$ kan dit ook worden genoteerd als $P \\leftrightarrow Q$. Strikt gezien is dit niet een nieuw logisch connectief (eerder een afkorting).\n",
    "\n",
    "Verband met logische equivalentie; $P \\leftrightarrow Q$ is een tautologie iff $P \\iff Q$."
   ]
  },
  {
   "cell_type": "code",
   "execution_count": null,
   "metadata": {
    "collapsed": true
   },
   "outputs": [],
   "source": []
  }
 ],
 "metadata": {
  "kernelspec": {
   "display_name": "Python 3",
   "language": "python",
   "name": "python3"
  },
  "language_info": {
   "codemirror_mode": {
    "name": "ipython",
    "version": 3
   },
   "file_extension": ".py",
   "mimetype": "text/x-python",
   "name": "python",
   "nbconvert_exporter": "python",
   "pygments_lexer": "ipython3",
   "version": "3.5.2"
  }
 },
 "nbformat": 4,
 "nbformat_minor": 2
}
