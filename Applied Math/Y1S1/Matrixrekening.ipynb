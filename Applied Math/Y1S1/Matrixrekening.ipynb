{
 "cells": [
  {
   "cell_type": "markdown",
   "metadata": {},
   "source": [
    "# Matrixrekening"
   ]
  },
  {
   "cell_type": "markdown",
   "metadata": {},
   "source": [
    "## Week 1"
   ]
  },
  {
   "cell_type": "markdown",
   "metadata": {},
   "source": [
    "#### Matrix definitie"
   ]
  },
  {
   "cell_type": "markdown",
   "metadata": {},
   "source": [
    "Een matrix wordt aangeduidt met:"
   ]
  },
  {
   "cell_type": "markdown",
   "metadata": {},
   "source": [
    "$A = \\begin{pmatrix} 1 & 2 \\\\ 3 & 4 \\end{pmatrix} \\qquad B = \\begin{pmatrix} -3 & \\frac{2}{5} & \\frac{1}{2} \\\\ 0 & -10 & 2 \\end{pmatrix} \\qquad C = \\begin{pmatrix} 2 \\\\ -1 \\\\ 8 \\end{pmatrix} \\qquad D = \\begin{pmatrix}1 & 3 & 4 \\end{pmatrix}$"
   ]
  },
  {
   "cell_type": "markdown",
   "metadata": {},
   "source": [
    "De afmeting van de matrix zijn als volgt:\n",
    "\n",
    "* $A = 2 \\times 2$\n",
    "* $B = 2 \\times 3$\n",
    "* $C = 1 \\times 3$\n",
    "\n",
    "Hier tellen we eerst de _rijen_ en daarna de _kolommen_. Als het aantal rijen en kolommen gelijk is dan spreken we van een _vierkante_ matrix. Als een matrix $1$ rij (of kolom) heeft zoals matrix $C$ dan spreken we van een _vector_. $C$ is een _kolomvector_. Indien er maar $1$ rij zoals in $D$ is dan spreken we van een _rijvector_.\n",
    "\n",
    "De verschillende _elementen_ in de matrix worden op de volgende manier benoemd:"
   ]
  },
  {
   "cell_type": "markdown",
   "metadata": {},
   "source": [
    "$A = \\begin{pmatrix} a_{11} & a_{12} & \\ldots & a_{1n} \\\\ a_{21} & \\ddots && \\vdots \\\\ \\vdots && \\ddots & \\vdots \\\\ a_{m1} & a_{m2} & \\ldots & a_{mn} \\end{pmatrix}$"
   ]
  },
  {
   "cell_type": "markdown",
   "metadata": {},
   "source": [
    "Met deze methode kunnen we de elementen in de onderstaande $3 \\times 2$ matrix op de volgende manier noteren:\n",
    "\n",
    "$L=\\begin{pmatrix} 7 & 1 \\\\ 8 & 0 \\\\ 3 & -4 \\end{pmatrix}$\n",
    "\n",
    "* $l_{11} = 7$\n",
    "* $l_{12} = 1$\n",
    "* $l_{21} = 8$\n",
    "* $l_{22} = 0$\n",
    "* $l_{31} = 3$\n",
    "* $l_{32} = -4$"
   ]
  },
  {
   "cell_type": "markdown",
   "metadata": {},
   "source": [
    "#### Vierkante matrices"
   ]
  },
  {
   "cell_type": "markdown",
   "metadata": {},
   "source": [
    "Zoals al eerder is genoemd, is een $n \\times n$ matrix een _vierkante_ matrix. De hoofddiagonaal in een vierkante matrix is hieronder aangegeven:\n",
    "\n",
    "$\\begin{pmatrix} \\color{red}{1} & 2 & 3 \\\\ 4 & \\color{red}{5} & 6 \\\\ 7 & 8 & \\color{red}{9} \\end{pmatrix}$\n",
    "\n",
    "De hoofddiagonaal bestaat uit de elementen $a_{11}, a_{22}, a_{33}, \\ldots, a_{nn}$."
   ]
  },
  {
   "cell_type": "markdown",
   "metadata": {},
   "source": [
    "#### Nul-matrix"
   ]
  },
  {
   "cell_type": "markdown",
   "metadata": {},
   "source": [
    "Een matrix waarvan alle elementen de waarde $0$ bevatten wordt de _nulmatrix_ genoemd. De afmetingen maken hierbij niet uit.\n",
    "\n",
    "$\\begin{pmatrix}0 & 0 & 0 & 0 \\\\ 0 & 0 & 0 & 0\\end{pmatrix}$"
   ]
  },
  {
   "cell_type": "markdown",
   "metadata": {},
   "source": [
    "#### Symmetrische matrix"
   ]
  },
  {
   "cell_type": "markdown",
   "metadata": {},
   "source": [
    "Als een matrix symmetrisch is over de hoofddiagonaal dan wordt er gesproken van een _symmetrische matrix_.\n",
    "\n",
    "$\\begin{pmatrix}1 & 3 & \\frac{2}{3} \\\\ 3 & 5 & 9 \\\\ \\frac{2}{3} & 9 & 9 \\end{pmatrix}$\n",
    "\n",
    "Hiervoor geldt dat $a_{ij} = a_{ji}$. En vinden we de eigenschap $a_{ij} = a_{ji} \\forall i,j$."
   ]
  },
  {
   "cell_type": "markdown",
   "metadata": {},
   "source": [
    "#### Transponeren"
   ]
  },
  {
   "cell_type": "markdown",
   "metadata": {},
   "source": [
    "Als we de matrix $A$ _transponeren_ krijgen we een getransponeerde matrix, aangeduidt met $A^T$:\n",
    "\n",
    "$A = \\begin{pmatrix} 1 & 2 & 3 \\\\ 4 & 5 & 6 \\end{pmatrix} \\qquad A^T = \\begin{pmatrix} 1 & 4 \\\\ 2 & 5 \\\\ 3 & 6 \\end{pmatrix}$.\n",
    "\n",
    "Hierbij geldt dat $m \\times n \\rightarrow n \\times m$ en $a_{ij} \\rightarrow a_{ji}$.\n",
    "\n"
   ]
  },
  {
   "cell_type": "markdown",
   "metadata": {},
   "source": [
    "#### ($+$, $-$)"
   ]
  },
  {
   "cell_type": "markdown",
   "metadata": {},
   "source": [
    "Om matrices bij elkaar op te tellen **moeten** deze dezelfde afmetingen hebben, indien dit niet zo is dan is deze _niet gedefinieerd_.\n",
    "\n",
    "$A=\\begin{pmatrix} 1 & 3 & 7 \\\\ 2 & 8 & 6 \\end{pmatrix} \\qquad B=\\begin{pmatrix} 4 & 3 & 1 \\\\ 9 & 2 & 5 \\end{pmatrix} \\qquad A+B=\\begin{pmatrix} 5 & 6 & 8 \\\\ 11 & 10 & 11 \\end{pmatrix}$\n",
    "\n"
   ]
  },
  {
   "cell_type": "markdown",
   "metadata": {},
   "source": [
    "#### ($\\times$, $\\div$)"
   ]
  },
  {
   "cell_type": "markdown",
   "metadata": {},
   "source": [
    "Een matrix kunnen we vermenigvuldigen met een getal. Dit wordt een _scalaire_ matrix vermenigvuldigen genoemd. Het getal $2$ is een _scalar_.\n",
    "\n",
    "$A = \\begin{pmatrix} 1 & 2 \\\\ 3 & 4 \\end{pmatrix} \\qquad 2 \\cdot A = \\begin{pmatrix} 2 & 4 \\\\ 6 & 8 \\end{pmatrix} $"
   ]
  },
  {
   "cell_type": "markdown",
   "metadata": {},
   "source": [
    "Om matrices met elkaar te vermenigvuldigen kunnen we dit doen a.d.h.v. de volgende definitie:\n",
    "\n",
    "Als $A$ een $m \\times n$ matrix en $B$ een $n \\times q$ matrix is, dan is het product $C=A\\cdot B$ de $m\\times q$ matrix waarvan de elementen zijn \n",
    "\n",
    "$\\begin{align}c_{ij} = a_{i1}b_{1j} + a_{i2}b_{2j} + \\ldots + a_{in}b_{nj} = \\sum\\limits_{k=1}^n a_{ik}b_{kj}\\end{align}$.\n",
    "\n",
    "Een voorbeeld hiervan is:\n",
    "\n",
    "$\\begin{pmatrix} 2 & 4 & 6 \\\\ 3 & 2 & 1 \\end{pmatrix} \\cdot \\begin{pmatrix} 2 \\\\ 4 \\\\ 6 \\end{pmatrix} = \\begin{pmatrix} 2\\cdot2+4\\cdot4+6\\cdot6 \\\\ 3\\cdot2+2\\cdot4+1\\cdot6 \\end{pmatrix} = \\begin{pmatrix} 56 \\\\ 20\\end{pmatrix}$\n",
    "\n",
    "Van een $2\\times3$ matrix kan alleen een product worden genomen met een $3\\times n$ matrix en het resultaat heeft de afmeting $2\\times n$.\n",
    "\n",
    "Dit kan uiteraard ook met andere operaties worden gecombineerd zoals bijvoorbeeld:\n",
    "\n",
    "$A^T \\cdot A = \\begin{pmatrix} 2 & 7 & 8 \\end{pmatrix} \\cdot \\begin{pmatrix} 2 \\\\ 7 \\\\ 8 \\end{pmatrix} = 127$\n",
    "\n",
    "In een meer gegeneraliseerde vorm kunnen we beter zien dat het benaderen van elementen volgt dat $a_{\\text{rij},\\text{kolom}}$, ofterwel $a_{y,x}$:\n",
    "\n",
    "$A = \\begin{pmatrix} a_{11} & a_{12} & a_{13} \\\\ a_{21} & a_{22} & a_{23} \\\\ a_{31} & a_{32} & a_{33} \\end{pmatrix} \\qquad B = \\begin{pmatrix} b_{11} & b_{12} & b_{13} \\\\ b_{21} & b_{22} & b_{23} \\\\ b_{31} & b_{32} & b_{33} \\end{pmatrix}$\n",
    "\n",
    "En bij een matrixvermenigvuldiging wordt het volgende algoritme gevolgd:\n",
    "\n",
    "1. Voor elke kolom $j$ in $B$.\n",
    "2. Voor elke rij $i$ in $A$.\n",
    "3. Voor elk element $k$ in rij $i$.\n",
    "4. $C_{ij} = k_1 \\cdot B_{ij} + k_2 \\cdot B_{ij} + \\ldots + k_n \\cdot B_{ij}$.\n",
    "\n",
    "Hieruit volgt dat:\n",
    "\n",
    "$A \\cdot B = \\begin{pmatrix} a_{11}b_{11} + a_{12}b_{21} + a_{13}b_{31} & a_{11}b_{12} + a_{12}b_{22} + a_{13}b_{32} & a_{11}b_{13} + a_{12}b_{23} + a_{13}b_{33} \\\\ a_{21}b_{11} + a_{22}b_{21} + a_{23}b_{31} & a_{11}b_{12} + a_{12}b_{22} + a_{13}b_{32} & a_{11}b_{13} + a_{12}b_{23} + a_{13}b_{33}\\\\ a_{31}b_{11} + a_{32}b_{21} + a_{33}b_{31} & a_{11}b_{12} + a_{12}b_{22} + a_{13}b_{32} & a_{11}b_{13} + a_{12}b_{23} + a_{13}b_{33}  \\end{pmatrix}$\n"
   ]
  },
  {
   "cell_type": "markdown",
   "metadata": {},
   "source": [
    "#### Eenheidsmatrix (identity)"
   ]
  },
  {
   "cell_type": "markdown",
   "metadata": {},
   "source": [
    "Een eenheidsmatrix is altijd een vierkante matrix waarvan alle elementen $0$ zijn behalve de elementen van de hoofddiagonaal, deze zijn $1$.\n",
    "\n",
    "$E = \\begin{pmatrix} 1 & 0 & 0 \\\\ 0 & 1 & 0 \\\\ 0 & 0 & 1 \\end{pmatrix}$\n",
    "\n",
    "De eeheidsmatrix wordt aangeduidt met $A^E$ (eenheid) of $A^I$ (identity).\n",
    "\n",
    "Wanneer er een matrixvermenigvuldiging wordt gedaan met de eenheidsmatrix dan komt er altijd de oorspronkelijk matrix uit. De volgorde waarin dit gebeurd maakt niet uit $A\\cdot E = E \\cdot A = A$."
   ]
  },
  {
   "cell_type": "markdown",
   "metadata": {},
   "source": [
    "#### Machtsverheffen"
   ]
  },
  {
   "cell_type": "markdown",
   "metadata": {},
   "source": [
    "Machtsverheffen kan alleen met een vierkante matrix en hierbij gelden de regels $n \\geq 0$, $n \\in \\mathbb{N}$. Ga na waarom je niet kunt machtsverheffen op een matrix die niet vierkant is.\n",
    "\n",
    "* $A^0 = E$ (identiteitsmatrix)\n",
    "* $A^1 = A$\n",
    "* $A^2 = A\\cdot A$\n",
    "* $A^n = A \\cdot A \\cdot \\ldots$\n",
    "\n",
    "Een macht van een matrix kan geen gebroken exponenten hebben."
   ]
  },
  {
   "cell_type": "markdown",
   "metadata": {},
   "source": [
    "#### Commutativiteit"
   ]
  },
  {
   "cell_type": "markdown",
   "metadata": {},
   "source": [
    "Bij matrixvermenigvuldigen geldt de commutatieve eigenschap $a \\cdot b = b \\cdot a$ niet!"
   ]
  },
  {
   "cell_type": "markdown",
   "metadata": {},
   "source": [
    "#### Associativeit en distributiviteit"
   ]
  },
  {
   "cell_type": "markdown",
   "metadata": {},
   "source": [
    "Bij matrixvermenigvuldigen gelden de associatieve $a \\cdot b \\cdot c = (a \\cdot b) \\cdot c = a \\cdot (b \\cdot c)$ en distributieve $a \\cdot (b + c) = a\\cdot b + a \\cdot c$ eigenschappen wel."
   ]
  },
  {
   "cell_type": "markdown",
   "metadata": {},
   "source": [
    "#### Nulvector"
   ]
  },
  {
   "cell_type": "markdown",
   "metadata": {},
   "source": [
    "Een vector in bijvoorbeeld $\\mathbb{R}^3$ waarvan alle elementen $0$ zijn:\n",
    "\n",
    "$\\begin{pmatrix} 0 \\\\ 0 \\\\ 0\\end{pmatrix}$\n",
    "\n",
    "Deze vector geeft de oorsprong van het coordinatensysteem aan."
   ]
  },
  {
   "cell_type": "markdown",
   "metadata": {},
   "source": [
    "#### Eenheidsvectoren"
   ]
  },
  {
   "cell_type": "markdown",
   "metadata": {},
   "source": [
    "Dit zijn de vectoren die de basis vormen van het coordinatensysteem waarin je werkt, voor $\\mathbb{R}^2$ zijn dit de vectoren:\n",
    "\n",
    "$\\begin{pmatrix} 1 \\\\ 0\\end{pmatrix} \\qquad \\begin{pmatrix} 0 \\\\ 1\\end{pmatrix}$"
   ]
  },
  {
   "cell_type": "markdown",
   "metadata": {},
   "source": [
    "#### Lineaire combinatie van eenheidsvectoren"
   ]
  },
  {
   "cell_type": "markdown",
   "metadata": {},
   "source": [
    "Elke vector in $\\mathbb{R}^2$ kan worden geschreven als een _lineaire combinatie_ van eenheidsvectoren, bijvoorbeeld:\n",
    "\n",
    "$\\begin{pmatrix} 3 \\\\ 4\\end{pmatrix} = 3\\cdot \\begin{pmatrix} 1 \\\\ 0 \\end{pmatrix} + 4 \\cdot \\begin{pmatrix} 0 \\\\ 1\\end{pmatrix}$\n",
    "\n",
    "En voor $\\mathbb{R}^3$:\n",
    "\n",
    "$\\begin{pmatrix} 2 \\\\ -1 \\\\ 6 \\end{pmatrix} = 2 \\cdot \\begin{pmatrix} 1 \\\\ 0 \\\\ 0 \\end{pmatrix} - \\begin{pmatrix} 0 \\\\ 1 \\\\ 0\\end{pmatrix} + 6 \\cdot \\begin{pmatrix} 0 \\\\ 0 \\\\ 1\\end{pmatrix}$"
   ]
  },
  {
   "cell_type": "markdown",
   "metadata": {},
   "source": [
    "## Week 2"
   ]
  },
  {
   "cell_type": "markdown",
   "metadata": {},
   "source": [
    "#### 1e-graads vergelijking\n"
   ]
  },
  {
   "cell_type": "markdown",
   "metadata": {},
   "source": [
    "Dit wordt ook wel een _lineaire vergelijking_ genoemd en dit is in de vorm van $5x+7y=11$. Een voorbeeld een vergelijking die niet lineair is zijn $5x^2 + y = 8$."
   ]
  },
  {
   "cell_type": "markdown",
   "metadata": {},
   "source": [
    "#### Equivalent $(\\iff)$"
   ]
  },
  {
   "cell_type": "markdown",
   "metadata": {},
   "source": [
    "Als stelsels equivalent (gelijkwaardig) wil dat zeggen dat ze dezelfde oplossing(en) hebben.\n",
    "\n",
    "Twee stelsels zijn equivalent als:\n",
    "\n",
    "* beide precies $1$, en dezelfde, oplossing hebben\n",
    "* beide geen oplossing hebben\n",
    "* beide oneindig veel, en dezelfde, oplossingen hebben"
   ]
  },
  {
   "cell_type": "markdown",
   "metadata": {},
   "source": [
    "#### Standaard vorm"
   ]
  },
  {
   "cell_type": "markdown",
   "metadata": {},
   "source": [
    "In alle vergelijkingen staan de variabelen aan de linker kant (op volgorde $x,y,z$) en alle constanten staan aan de rechterkant van het $=$ teken."
   ]
  },
  {
   "cell_type": "markdown",
   "metadata": {},
   "source": [
    "#### Elementaire bewerkingen (elementairy row operations)"
   ]
  },
  {
   "cell_type": "markdown",
   "metadata": {},
   "source": [
    "Op lineaire stelsels kunnen de volgende drie elementaire bewerkingen worden uitgevoerd:\n",
    "\n",
    "1. Een vergelijking met een getal vermenigvuldigen ($x\\not=0$). (Scale)\n",
    "2. Een vergelijking bij een andere vergelijking optellen of aftrekken. (Pivot)\n",
    "3. De volgorde van de vergelijking verwisselen. (Swap)\n",
    "\n",
    "Omdat dit al snel wat onoverzichtelijk wordt kan het handig zijn om met de volgende notatie aan te geven welke stappen er zijn uitgevoerd:\n",
    "\n",
    "* $R_1 - 3R_2 \\rightarrow R_1$, hiermee zeggen we dat we $3$ maar rij $2$ van rij $1$ aftrekken en deze plaatsen op rij $1$.\n",
    "* $R_1 \\iff R_2$, hiermee zeggen we dat wij de rijen $1$ en $2$ met elkaar verwisselen.\n",
    "\n",
    "Met deze elementaire bewerkingen kun je stelsels van lineaire vergelijkingen oplossen."
   ]
  },
  {
   "cell_type": "markdown",
   "metadata": {},
   "source": [
    "#### Vegen"
   ]
  },
  {
   "cell_type": "markdown",
   "metadata": {},
   "source": [
    "Vegen betekend achtereen volgend elimineren."
   ]
  },
  {
   "cell_type": "markdown",
   "metadata": {},
   "source": [
    "#### Pivot"
   ]
  },
  {
   "cell_type": "markdown",
   "metadata": {},
   "source": [
    "De pivot is de variabele waarmee geveegd wordt. Als notaties digitaal zijn dan kan het helpen om de pivot dikgedrukt te maken."
   ]
  },
  {
   "cell_type": "markdown",
   "metadata": {},
   "source": [
    "#### Stelsels vergelijkingen als een matrixvergelijking"
   ]
  },
  {
   "cell_type": "markdown",
   "metadata": {},
   "source": [
    "In plaats van $x$ schrijven we $x_1$, $y$ wordt $x_2$, en $z$ wordt $x_3$.\n",
    "\n",
    "Het stelsel:\n",
    "\n",
    "\n",
    "$\\begin{cases}\\begin{align}x_1 & -x_2 & +2x_3 &= 16 \\\\ -2x_1 & +4x_2 & +x_3 &= 5 \\\\ 3x_1 & -5x_2 & +3x_3 &= 25\\end{align}\\end{cases}$\n",
    "\n",
    "kunnen we schrijven als $A \\cdot X = B$, waarin:\n",
    "\n",
    "$A=\\begin{pmatrix}1 & -2 & 2 \\\\ -2 & 4 & 1 \\\\ 3 & -5 & 3\\end{pmatrix}, X = \\begin{pmatrix}x_1\\\\x_2\\\\x_3\\end{pmatrix}, B=\\begin{pmatrix}16\\\\5\\\\25\\end{pmatrix}$\n",
    "\n",
    "De matrix $A$ bevat de coefficienten van $x_1, x_2, x_3$ en heet daarom de _coefficient matrix_.\n",
    "\n",
    "We plakken daarvoor $B$ als een kolom aan $A$, gescheiden door een vertical lijn.\n",
    "\n",
    "Dit is de _aangevulde coefficient matrix_ (augmented matrix). Hiermee kunnen we de uitwerking van het stelsel verkorten. De pivot elementen zijn dikgedrukt."
   ]
  },
  {
   "cell_type": "markdown",
   "metadata": {},
   "source": [
    "#### Eenduidig oplosbaar"
   ]
  },
  {
   "cell_type": "markdown",
   "metadata": {},
   "source": [
    "Stelsel heeft precies $1$ oplossing."
   ]
  },
  {
   "cell_type": "markdown",
   "metadata": {},
   "source": [
    "#### Strijdig stelsel"
   ]
  },
  {
   "cell_type": "markdown",
   "metadata": {},
   "source": [
    "Als ergens bijvoorbeeld de vergelijking $0=1$ of $4=2$ (ongelijkheid) optreedt."
   ]
  },
  {
   "cell_type": "markdown",
   "metadata": {},
   "source": [
    "#### Afhankelijk stelsel"
   ]
  },
  {
   "cell_type": "markdown",
   "metadata": {},
   "source": [
    "Heeft oneindig veel oplossingen."
   ]
  },
  {
   "cell_type": "markdown",
   "metadata": {},
   "source": [
    "#### Algemene oplossing"
   ]
  },
  {
   "cell_type": "markdown",
   "metadata": {},
   "source": [
    "Dit is de verzameling van alle oplossingen. Elke afzonderlijke oplossing is een _particuliere oplossing_."
   ]
  },
  {
   "cell_type": "markdown",
   "metadata": {},
   "source": [
    "#### Oplossingsmogelijkheden"
   ]
  },
  {
   "cell_type": "markdown",
   "metadata": {},
   "source": [
    "* Eenduidig oplosbaar stelsel heeft $1$ oplossing.\n",
    "* Strijdig stelsel heeft geen oplossing.\n",
    "* Afhandkelijk stelsen heeft oneindig veel oplossingen.\n",
    "\n",
    "Voor het aantal oplossingen geldt dat ($\\text{#vgl}=$ aantal vergelijkingen, $\\text{#var}=$ aantal variabelen): \n",
    "\n",
    "1. $\\text{#vgl}=\\text{#var} \\rightarrow 0$ oplossingen in speciale gevallen oneindig veel.\n",
    "2. $\\text{#vgl}>\\text{#var} \\rightarrow$ in het algemeen geen oplossing (in speciale gevallen $1$ of oneindig).\n",
    "3. $\\text{#vgl}<\\text{#var} \\rightarrow$ oneindig veel oplossingen (in speciale gevallen onoplosbaar)."
   ]
  },
  {
   "cell_type": "markdown",
   "metadata": {},
   "source": [
    "#### Overige"
   ]
  },
  {
   "cell_type": "markdown",
   "metadata": {},
   "source": [
    "In het dictaar wordt er gebruik gemaakt van de letters $t,u,v$. Echter in andere boeken wordt er gebruik gemaakt van $\\alpha, \\beta, \\gamma, \\lambda, \\mu$ (alpha, beta, gamma, lambda, mu)."
   ]
  },
  {
   "cell_type": "markdown",
   "metadata": {},
   "source": [
    "## Week 3"
   ]
  },
  {
   "cell_type": "markdown",
   "metadata": {},
   "source": [
    "#### (aangevulde) coefficient matrix"
   ]
  },
  {
   "cell_type": "markdown",
   "metadata": {},
   "source": [
    "Een coefficient matrix is in de vorm van $A \\times \\vec{x} = \\vec{b}$.\n",
    "\n",
    "$A=\\begin{pmatrix}1 & -1 & 2 \\\\ -2 & 4 & 1 \\\\ 3 & 5 & 3\\end{pmatrix}$\n",
    "\n",
    "Hierbij is de aangevulde coefficient matrix in de vorm van $\\begin{pmatrix}A|\\vec{b}\\end{pmatrix}$.\n",
    "\n"
   ]
  },
  {
   "cell_type": "markdown",
   "metadata": {},
   "source": [
    "#### Bovendriehoeksmatrix"
   ]
  },
  {
   "cell_type": "markdown",
   "metadata": {},
   "source": [
    "Een bovendriehoeksmatrix (upper-triangular form) heeft alle elementen linksonder de hoofddiagonaal op $0$."
   ]
  },
  {
   "cell_type": "markdown",
   "metadata": {},
   "source": [
    "#### Strijdig/afhankelijk"
   ]
  },
  {
   "cell_type": "markdown",
   "metadata": {},
   "source": [
    "Een _strijdig_ stelsel heeft geen oplossing. Een _afhankelijk_ stelsel heeft oneindig veel oplossingen."
   ]
  },
  {
   "cell_type": "markdown",
   "metadata": {},
   "source": [
    "#### Eenduidig"
   ]
  },
  {
   "cell_type": "markdown",
   "metadata": {},
   "source": [
    "Een _eenduidig_ stelsel heeft $1$ oplossing."
   ]
  },
  {
   "cell_type": "markdown",
   "metadata": {},
   "source": [
    "#### Equivalent"
   ]
  },
  {
   "cell_type": "markdown",
   "metadata": {},
   "source": [
    "Een stelsel is _equivalent_ als ze beide dezelfde algemene oplossing hebben.\n",
    "\n",
    "* Geen oplossing\n",
    "* 1 en dezelfde oplossing\n",
    "* oneindig veel, en dezelfde, oplossingen"
   ]
  },
  {
   "cell_type": "markdown",
   "metadata": {},
   "source": [
    "#### Algemene oplossing(en)"
   ]
  },
  {
   "cell_type": "markdown",
   "metadata": {},
   "source": [
    "Dit zijn alle oplossing(en) van een stelsel. Hierbij wordt een enkele oplossing een _particuliere_ oplossing genoemd."
   ]
  },
  {
   "cell_type": "markdown",
   "metadata": {},
   "source": [
    "#### Algemene oplossing (bij afhankelijke stelsels)"
   ]
  },
  {
   "cell_type": "markdown",
   "metadata": {},
   "source": [
    "Om aan te geven wat alle oplossingen zijn van een afhankelijk stelsel kunnen we de volgende notatie gebruiken. (Niet vergeten als je $t$ aangeeft in het stelsel dat je erbij vermeldt dat deze een willekeurige waarde kan bevatten.)\n",
    "\n",
    "$\\begin{pmatrix}x_1 \\\\ x_2 \\\\ x_3 \\end{pmatrix} = \\begin{pmatrix} \\frac{1}{4}-\\frac{9}{4}t \\\\ \\frac{5}{8}+\\frac{7}{8}t \\\\ t \\end{pmatrix} = \\begin{pmatrix}\\frac{1}{4}\\\\\\frac{5}{8}\\\\0\\end{pmatrix}+t\\begin{pmatrix}\\frac{1}{4}\\\\\\frac{7}{8}\\\\1\\end{pmatrix}$\n",
    "\n",
    "Nu kunnen we op een gemakkelijke manier $t$ vervangen met een getal en uitrekenen welke oplossing er is."
   ]
  },
  {
   "cell_type": "markdown",
   "metadata": {},
   "source": [
    "## Week 4"
   ]
  },
  {
   "cell_type": "markdown",
   "metadata": {},
   "source": [
    "### Determinanten"
   ]
  },
  {
   "cell_type": "markdown",
   "metadata": {},
   "source": [
    "**Definitie**\n",
    "\n",
    "De _determinant_ is een hulpmiddel om vast te stellen of een stelsel van lineaire vergelijking precies 1, geen, of oneindig veel oplossingen heeft.\n",
    "\n",
    "Voor elke _vierkante matrix_ ($N \\times N$) kunnen we $\\det(A)$ berekenen.\n",
    "\n",
    "**$2 \\times 2$ matrix**\n",
    "\n",
    "In het geval van een $2 \\times 2$ matrix, $A=\\begin{pmatrix}a&b\\\\c&d\\end{pmatrix}$, dan is $\\det(A) = ad-bc$.\n",
    "\n",
    "**Voorbeeld:**\n",
    "\n",
    "Om de determinant van $A=\\begin{pmatrix}1&5\\\\2&7\\end{pmatrix}$ te berekenen krijgen we $1 \\cdot 7 - 5 \\cdot 2 = -3$.\n",
    "\n",
    "**$3 \\times 3$ matrix**\n",
    "\n",
    "Om de determinant van een $3 \\times 3$ matrix te berekenen kunnen we de onderdeterminanten berekenen door af te wikkelen via een rij of kolom.\n",
    "\n",
    "Voor matrix $A = \\begin{pmatrix}a_1&b_1&c_1\\\\a_2&b_2&c_2\\\\a_3&b_3&c_3 \\end{pmatrix}$ wordt dit op de volgende manier berekend:\n",
    "\n",
    "$\\det(A) = a_1(b_2c_3-c_2b_3) - a_2(b_1c_3 - b_3c_1) + a_3(b_1c_2-b_2c_1)$\n",
    "\n",
    "**Determinant $N\\times N$ matrix**\n",
    "\n",
    "Bij het bereken van de determinant wordt het onderstaande patroon gevolgd:\n",
    "\n",
    "$\\begin{pmatrix}+&-&+&-&\\cdots\\\\-&+&-&+&\\cdots\\\\+&-&+&-&\\cdots\\\\-&+&-&+&\\ldots\\\\\\cdots& \\vdots &\\vdots&\\vdots&\\ddots\\end{pmatrix}$\n",
    "\n",
    "**Eigenschappen van determinanten en veegprocedure**\n",
    "\n",
    "1. Bij het verwisselen van twee rijen of kolommen in een determinant veranderd deze van teken.\n",
    "2. Als je een determinant spiegeld over de hoofddiagonaal blijft deze gelijk.\n",
    "3. Als je alle getallen in een rij (of kolom) met een willekeurig getal $k$ vermenigvuldigd, dan wordt de waarde van de determinant met $k$ vermenigvuldigd.\n",
    "4. Als je in een determinant $k$ maal een rij (of kolom) optelt of aftrekt van een andere rij (of kolom), dan blijft de determinant gelijk.\n",
    "\n",
    "Het is mogelijk om de veegprocedure op determinant toe te passen om in een rij/kolom meer nullen te krijgen. Hiervoor worden de bovenstaande regels gebruikt. Dit is handig omdat het afwikkelen van de rijen/kolommen hierdoor aanzienlijk wordt vereenvoudigd."
   ]
  },
  {
   "cell_type": "markdown",
   "metadata": {
    "collapsed": true
   },
   "source": [
    "## Week 5"
   ]
  },
  {
   "cell_type": "markdown",
   "metadata": {},
   "source": [
    "### Inverses"
   ]
  },
  {
   "cell_type": "markdown",
   "metadata": {},
   "source": [
    "Voor een matrix kan een inverse worden bepaald als:\n",
    "\n",
    "1. De matrix is vierkant ($N \\times N$)\n",
    "2. $\\det(A) \\not=0$\n",
    "\n",
    "Een belangrijke eigenschap van de inverse is dat zodra deze met de oorspronkelijke matrix wordt vermenigvuldigd we de identiteitsmatrix krijgen. Ofterwel $A \\times A^{-1} = E = A^{-1} \\times A = E$. Deze operatie is **wel** commutatief, in tegenstelling tot matrixvermenigvuldigen wat niet commutatief is.\n",
    "\n",
    "Als een matrix een inverse heeft dan is de matrix _inverteerbaar (regulier)_. Als een matrix geen inverse heeft dan is de matrix _singulier_.\n",
    "\n",
    "**Voorbeeld**\n",
    "\n",
    "Stel we hebben $A=\\begin{pmatrix}1&2\\\\1&3\\end{pmatrix}$. Om de inverse te vinden zoeken we naar $A \\times A^{-1} = \\begin{pmatrix}1&0\\\\0&1\\end{pmatrix}$.\n",
    "\n",
    "Ofterwel, $\\begin{pmatrix}1&2\\\\1&3\\end{pmatrix} \\cdot \\begin{pmatrix}a&b\\\\c&d\\end{pmatrix} = \\begin{pmatrix}1&0\\\\0&1\\end{pmatrix}$\n",
    "\n",
    "Dit is gemakkelijk op te lossen met vegen. Hiervoor gebruiken we een aangevulde coefficientmatrix met links $A$ en rechts de identiteitsmatrix $E$. Vervolgens vegen we zodat de coefficientmatrix alleen maar $1$ heeft op de hoofddiagonaal. De rechterkant is nu $A^{-1}$. Dit is ook weer te controleren door $A \\times A^{-1} = E$."
   ]
  },
  {
   "cell_type": "markdown",
   "metadata": {},
   "source": [
    "**Eigenschappen**"
   ]
  },
  {
   "cell_type": "markdown",
   "metadata": {},
   "source": [
    "* Een matrix heeft een inverse als $\\det(A)\\not=0$.\n",
    "* Elke inverse is uniek.\n",
    "* Als $A$ inverteerbaar is dan is $A^{-1}$ ook inverteerbaar.\n",
    "* Als een matrix een inverse heeft dan is stelsel $Ax=b$ eenduidig oplosbaar.\n"
   ]
  },
  {
   "cell_type": "markdown",
   "metadata": {},
   "source": [
    "**Stelsels oplossen met $A^{-1}$**\n",
    "\n",
    "Stel we hebben een vergelijking $Ax=b$, dan geldt $x = A^{-1}b$.\n",
    "\n",
    "Bewijs:\n",
    "\n",
    "$\\begin{align}\n",
    "Ax &= b \\\\ \n",
    "A^{-1}(Ax)&=A^{-1}b \\quad &(\\text{Add} \\quad A^{-1}) \\\\\n",
    "(A^{-1}A)x&=A^{-1}b \\quad &(\\text{By associativity}) \\\\\n",
    "Ex &= A^{-1}b \\quad &( A^{-1}A=E )\\\\\n",
    "x &= A^{-1}b \\quad &(Ex=x)\n",
    "\\end{align}$"
   ]
  },
  {
   "cell_type": "markdown",
   "metadata": {
    "collapsed": true
   },
   "source": [
    "## Week 6"
   ]
  },
  {
   "cell_type": "markdown",
   "metadata": {},
   "source": [
    "#### Definitie eigenvector & eigenwaarde\n",
    "\n",
    "Een eigenvector van een $n \\times n$ matrix is een vector $x$, waarvan tenminste 1 element niet gelijk is aan 0 zodaning dat $A\\cdot x=k \\cdot x$ voor een reëel getal $k$. Dit getal $k$ heet een eingewaarde van $A$ als er een niet-triviale oplossing $x$ bestaat van $A \\cdot x = k \\cdot x$."
   ]
  },
  {
   "cell_type": "markdown",
   "metadata": {},
   "source": [
    "#### Eigenvector\n",
    "\n",
    "Gegeven is matrix $A=\\begin{pmatrix}1&6\\\\5&2\\end{pmatrix}$ en de vector $p=\\begin{pmatrix}6\\\\-5\\end{pmatrix}$. Is $p$ een eigenvector van $A$?\n",
    "\n",
    "Om te zien of $p$ een eigenvector is van $A$ vermenigvuldigen we $A \\cdot p$ en kijken we of we een getal $k$ kunnen vinden voor $A \\cdot p$.\n",
    "\n",
    "$A\\cdot p = \\begin{pmatrix}1&6\\\\5&2\\end{pmatrix}\\cdot\\begin{pmatrix}6\\\\-5\\end{pmatrix}=\\begin{pmatrix}-24\\\\20\\end{pmatrix}=-4\\cdot\\begin{pmatrix}6\\\\-5\\end{pmatrix}=-4\\cdot p$.\n",
    "\n",
    "Ja, $p$ is een eigenvector van $A$ met eigenwaarde $-4$."
   ]
  },
  {
   "cell_type": "markdown",
   "metadata": {},
   "source": [
    "#### Eigenwaarde"
   ]
  },
  {
   "cell_type": "markdown",
   "metadata": {},
   "source": [
    "Gegeven is matrix $A=\\begin{pmatrix}-2&2\\\\2&1\\end{pmatrix}$ is het getal $2$ een eigenwaarde van $A$?\n",
    "\n",
    "Om te zien of $2$ een eigenwaarde is van $A$ vullen we de formule $A \\cdot x = 2 \\cdot x$.\n",
    "\n",
    "$\\begin{align} \\begin{pmatrix}-2&2\\\\2&1\\end{pmatrix}\\begin{pmatrix}x_1\\\\x_2\\end{pmatrix}&=2\\cdot \\begin{pmatrix}x_1\\\\x_2\\end{pmatrix} \\\\ \\begin{pmatrix}-2&2\\\\2&1\\end{pmatrix}\\begin{pmatrix}x_1\\\\x_2\\end{pmatrix}-2\\cdot \\begin{pmatrix}x_1\\\\x_2\\end{pmatrix}&=\\begin{pmatrix}0\\\\0\\end{pmatrix} \\\\ \\begin{pmatrix}-2&2\\\\2&1\\end{pmatrix}\\begin{pmatrix}x_1\\\\x_2\\end{pmatrix}-2\\cdot \\begin{pmatrix}1&0\\\\0&1\\end{pmatrix}\\begin{pmatrix}x_1\\\\x_2\\end{pmatrix}&=\\begin{pmatrix}0\\\\0\\end{pmatrix} \\\\ \\begin{pmatrix}-2&2\\\\2&1\\end{pmatrix}\\begin{pmatrix}x_1\\\\x_2\\end{pmatrix}- \\begin{pmatrix}2&0\\\\0&2\\end{pmatrix}\\begin{pmatrix}x_1\\\\x_2\\end{pmatrix}&=\\begin{pmatrix}0\\\\0\\end{pmatrix} \\\\ \\begin{pmatrix}-4&2\\\\2&-1\\end{pmatrix}\\begin{pmatrix}x_1\\\\x_2\\end{pmatrix}&=\\begin{pmatrix}0\\\\0\\end{pmatrix} \\end{align}$\n",
    "\n",
    "Beide vergelijkingen in het volgende stelsel $\\begin{cases}\\begin{align}-4x_1+2x_2&=0\\\\2x_1-x_2&=0\\end{align}\\end{cases}$ zijn equivalent, dus $2x_1-x_2=0 \\iff 2x_1=x_2$. Nu is het makkelijk te zien dat $\\begin{pmatrix}1\\\\2\\end{pmatrix}$ een eigenvector is van $A$. Ofterwel, $2$ is een eigenwaarde van de vorm $t\\cdot\\begin{pmatrix}1\\\\2\\end{pmatrix}$ voor $t$ ongelijk aan $0$."
   ]
  }
 ],
 "metadata": {
  "kernelspec": {
   "display_name": "Python 3",
   "language": "python",
   "name": "python3"
  },
  "language_info": {
   "codemirror_mode": {
    "name": "ipython",
    "version": 3
   },
   "file_extension": ".py",
   "mimetype": "text/x-python",
   "name": "python",
   "nbconvert_exporter": "python",
   "pygments_lexer": "ipython3",
   "version": "3.6.3"
  }
 },
 "nbformat": 4,
 "nbformat_minor": 2
}
