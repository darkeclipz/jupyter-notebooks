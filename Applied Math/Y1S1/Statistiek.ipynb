{
 "cells": [
  {
   "cell_type": "markdown",
   "metadata": {
    "collapsed": true
   },
   "source": [
    "# Statistiek"
   ]
  },
  {
   "cell_type": "markdown",
   "metadata": {},
   "source": [
    "## Week 1"
   ]
  },
  {
   "cell_type": "markdown",
   "metadata": {},
   "source": [
    "### Hoorcollege"
   ]
  },
  {
   "cell_type": "markdown",
   "metadata": {},
   "source": [
    "* Doorlezen van 1.1.1 t/m 1.1.3"
   ]
  },
  {
   "cell_type": "markdown",
   "metadata": {},
   "source": [
    "#### 1.1.4 Variabelen & 1.1.5 Indeling in schalen"
   ]
  },
  {
   "cell_type": "markdown",
   "metadata": {},
   "source": [
    "Statistiek $\\rightarrow$ data-analyse\n",
    "\n",
    "Om dit te kunnen doen gaan we _data verzamelen_, dit kan zijn:\n",
    "* Bestaande gegevens (nadelen: incompleet, teveel informatie, incorrect)\n",
    "* Interviews (enquete)\n",
    "* Observeren (metingen)\n",
    "\n",
    "We kunnen een _begrip_ zoals bijv. opleidingsniveau omzetten naar een _variabele_ (wel of niet meetbaar maken = open rationaliseren)\n",
    "\n",
    "** Vb: Opleidingsniveau**\n",
    "\n",
    "Om het opleidingsniveau meetbaar te maken kunnen we antwoord alternatieven bedenken.\n",
    "\n",
    "1. Basischool\n",
    "2. VMBO k/b / LBO\n",
    "3. VMBO t/g / MAVO\n",
    "4. HAVO / MBO\n",
    "5. VWO\n",
    "6. HBO\n",
    "7. WO"
   ]
  },
  {
   "cell_type": "markdown",
   "metadata": {},
   "source": [
    "#### Continue variabele"
   ]
  },
  {
   "cell_type": "markdown",
   "metadata": {},
   "source": [
    "Een continue variabele is op een schaal. Bijvoorbeeld:\n",
    "\n",
    "* Leeftijd (meetbaar op jaar/dag/uur/minuut/...)\n",
    "* Temperatuur\n",
    "* Lengte"
   ]
  },
  {
   "cell_type": "markdown",
   "metadata": {},
   "source": [
    "#### Discrete variabele"
   ]
  },
  {
   "cell_type": "markdown",
   "metadata": {},
   "source": [
    "Een discrete variabele zijn alle losse punten. Bijvoorbeeld:\n",
    "\n",
    "* Kleuren (rood/geel/blauw)\n",
    "* Opleidingsniveau\n",
    "* Geslacht (m/v)\n",
    "* Leeftijdsklassen\n"
   ]
  },
  {
   "cell_type": "markdown",
   "metadata": {},
   "source": [
    "#### Klassificeren"
   ]
  },
  {
   "cell_type": "markdown",
   "metadata": {},
   "source": [
    "Klassificeren houdt in dat we variabelen gaan samenvoegen. Op deze manier kun je van een continue variabel een discrete variabel maken."
   ]
  },
  {
   "cell_type": "markdown",
   "metadata": {},
   "source": [
    "#### Meetniveau's"
   ]
  },
  {
   "cell_type": "markdown",
   "metadata": {},
   "source": [
    "Gegevens kunnen op verschillende niveau's worden gemeten:\n",
    "\n",
    "1. Nominaal\n",
    "2. Ordinaal (laag naar hoog)\n",
    "3. Interval\n",
    "4. Ratio\n",
    "\n",
    "$\\begin{array}{l l l} \\text{Meetniveau} & \\text{Kenmerk} & \\text{Voorbeeld} \\\\ \\hline (1) \\text{ Nominaal} & \\text{Onderscheidbaar} & \\text{Geslacht, kleur auto} \\\\ (2) \\text{ Ordinaal} & \\text{+ Ordening} & \\text{Opleidingsniveau, tevredenheid, leeftijdsklasse, rapportcijfer} \\\\ (3) \\text{ Interval} & \\text{+ Verschil (heeft betekenis)} & \\text{Temp C/F} \\\\ (4) \\text{ Ratio} & \\text{+ Verhouding in betekenis, absoluut nulpunt} & \\text{Temp K, gewicht, lengte, toetsscore} \\end{array}$"
   ]
  },
  {
   "cell_type": "markdown",
   "metadata": {},
   "source": [
    "#### 1.1.2 Frequentieverdeling"
   ]
  },
  {
   "cell_type": "markdown",
   "metadata": {},
   "source": [
    "Dit kunnen we doen door te _klassificeren_ wat inhoudt dat we schaalpunten samenvoegen.\n",
    "\n",
    "Hiermee veranderd het meetniveau van de data:\n",
    "\n",
    "$\\begin{cases}\\begin{aligned} \\text{Interval/Ratio} &\\rightarrow \\text{Ordinaal/Nominaal} \\\\ \\text{Ordinaal} &\\rightarrow \\text{Ordinaal/Nominaal} \\\\ \\text{Nominaal} &\\rightarrow \\text{Nominaal} \\end{aligned}\\end{cases}$"
   ]
  },
  {
   "cell_type": "markdown",
   "metadata": {},
   "source": [
    "#### Relatiefrequentie"
   ]
  },
  {
   "cell_type": "markdown",
   "metadata": {},
   "source": [
    "Dit kunnen we berekenen met de formule:\n",
    "\n",
    "$\\text{Relatiefrequentie} = \\frac{\\text{Absolute frequentie}}{\\text{Totaal # waarnemingen}}$\n",
    "\n",
    "Een voorbeeld om te zien welk $\\%$ van de populatie/steekproef vrouwen zijn kunnen we de formule als volgt invullen:\n",
    "\n",
    "$\\text{Relatiefrequentie} = \\frac{\\text{# vrouwen}}{\\text{# mensen}}$"
   ]
  },
  {
   "cell_type": "markdown",
   "metadata": {},
   "source": [
    "#### Populatie"
   ]
  },
  {
   "cell_type": "markdown",
   "metadata": {},
   "source": [
    "Om de relatiefrequentie van een populatie te berekenen gebruiken we:\n",
    "\n",
    "$\\text{Relatiefrequentie} = \\frac{f}{N}$\n",
    "\n",
    "Om alle klassen bij elkaar op te tellen gebruiken we:\n",
    "\n",
    "$N = f_1 + f_2, + f_3 + \\ldots + f_k$\n",
    "\n",
    "Waarbij $k$ de klassen zijn."
   ]
  },
  {
   "cell_type": "markdown",
   "metadata": {},
   "source": [
    "#### Steekproef"
   ]
  },
  {
   "cell_type": "markdown",
   "metadata": {},
   "source": [
    "Om de relatiefrequentie van een steekproef te berekenen gebruiken we:\n",
    "\n",
    "$\\text{Relatiefrequentie} = \\frac{f}{n}$\n",
    "\n",
    "Let hierop de kleine $n$.\n",
    "\n",
    "Om alle klassen bij elkaar op te tellen gebruiken we:\n",
    "\n",
    "$n = f_1+ f_2 + f_3 + \\ldots + f_k$\n",
    "\n",
    "Waarbij $k$ de klassen zijn."
   ]
  },
  {
   "cell_type": "markdown",
   "metadata": {},
   "source": [
    "#### Percentage"
   ]
  },
  {
   "cell_type": "markdown",
   "metadata": {},
   "source": [
    "Om het percentage te berekenen gebruiken we:\n",
    "\n",
    "$\\text{Percentage} = \\frac{f}{n} \\times 100\\% \\qquad (\\text{steekproef})$"
   ]
  },
  {
   "cell_type": "markdown",
   "metadata": {},
   "source": [
    "#### Klassen"
   ]
  },
  {
   "cell_type": "markdown",
   "metadata": {},
   "source": [
    "De klassen hebben een _bovengrens_, en een _ondergrens_."
   ]
  },
  {
   "cell_type": "markdown",
   "metadata": {},
   "source": [
    "#### Klassenmidden"
   ]
  },
  {
   "cell_type": "markdown",
   "metadata": {},
   "source": [
    "Om het klassenmidden te berekenen gebruiken we:\n",
    "\n",
    "$\\text{Klassenmidden} = \\frac{\\text{Ondergrens} + \\text{Bovengrens}}{2}$"
   ]
  },
  {
   "cell_type": "markdown",
   "metadata": {},
   "source": [
    "#### Klassenbreedte"
   ]
  },
  {
   "cell_type": "markdown",
   "metadata": {},
   "source": [
    "Om de klassenbreedte te berekenen gebruiken we:\n",
    "\n",
    "$\\text{Klassenbreedte} = \\text{Bovengrens} - \\text{Ondergrens}$"
   ]
  },
  {
   "cell_type": "markdown",
   "metadata": {},
   "source": [
    "#### 1.5.2 Histogram & 1.5.4 Frequentiepolygon"
   ]
  },
  {
   "cell_type": "markdown",
   "metadata": {},
   "source": [
    "Het verschil tussen een histogram en een staafdiagram is:\n",
    "\n",
    "* De ruimte tussen de staven (deze is $0$ bij een histogram)\n",
    "* Histogram gebruikt een interval of ratio.\n",
    "\n",
    "Let er op dat de staven in een histogram klassengrenzen staat en dat de frequentiepolygon op het klassenmidden komt.\n",
    "\n",
    "Bij een cumulatieve frequentiepolygon komen de punten wel weer op de klassengrenzen.\n",
    "\n",
    "Let er goed op dat bij het opstellen van de klassenbreedte alle punten binnen de klassen vallen en dat alle klassenbreedten even groot zijn. Als de frequentieverdeling bijvoorbeeld $10 - < 15$ is dan is de ondergrends $9.5$ en de bovengrens $14.5$. Op deze manier hebben we altijd een klassenbreedte van $5$.\n",
    "\n",
    "Zodra er _sprongetjes_ in de gegevens zitten dan spreken we van een _discrete_ variabel."
   ]
  },
  {
   "cell_type": "markdown",
   "metadata": {
    "collapsed": true
   },
   "source": [
    "## Week 2"
   ]
  },
  {
   "cell_type": "markdown",
   "metadata": {},
   "source": [
    "### Hoorcollege"
   ]
  },
  {
   "cell_type": "markdown",
   "metadata": {},
   "source": [
    "Op het tentamen kan er worden gevraagd naar 1 van de volgende 2 situaties:\n",
    "\n",
    "**Gelijke klassenbreedte**\n",
    "\n",
    "y-as: frequentie of frequentiedichtheid per eenheid (bijv. per €100)\n",
    "\n",
    "**Ongelijk klassenbreedte**\n",
    "\n",
    "Hier moet je gebruik maken van de frequentiedichtheid (zie opgave 1.1, figuur 1.5, blz. 44)"
   ]
  },
  {
   "cell_type": "markdown",
   "metadata": {},
   "source": [
    "#### 1.3 Grafische voorstellingen"
   ]
  },
  {
   "cell_type": "markdown",
   "metadata": {},
   "source": [
    "**Lijndiagram**\n",
    "\n",
    "Wordt gebruik om de ontwikkeling van een variabele in de tijd weer te geven (x=tijd, y=variabele).\n",
    "\n",
    "Voor de y-as kunne we ook een logaritmische schaalverderen (ipv lineair) gebruik maar dit hoeven we nog niet te leren.\n",
    "\n",
    "Een andere variant van een lijndiagram is een gestapeld lijndiagram (vb 1.11, fig 1.13, blz. 32)"
   ]
  },
  {
   "cell_type": "markdown",
   "metadata": {},
   "source": [
    "**Spreidingsdiagram (scatter plot)**\n",
    "\n",
    "Wordt gebruikt als de x en y allebeide een variabele zijn. Hierin is x de onafhankelijke (oorzaak) variabele en is y de afhankelijke (gevolg) variabele. Dus $y=f(x)$.\n",
    "\n",
    "Meetniveau: 2x interval/ratio/ordinaal met veel schaalpunten.\n",
    "\n",
    "Dit diagram is handig om te zien of de variabelen positief/negatief of helemaal geen correlatie (samenhang) hebben."
   ]
  },
  {
   "cell_type": "markdown",
   "metadata": {},
   "source": [
    "#### 1.4 Diverse diagrammen"
   ]
  },
  {
   "cell_type": "markdown",
   "metadata": {},
   "source": [
    "**Staafdiagrammen**\n",
    "\n",
    "Meetniveau: nominaal of ordinaal (met weinig schaalpunten)\n",
    "\n",
    "**Cirkeldiagram**\n",
    "\n",
    "Niet gebruiken bij meer dan 5 schaalpunten.\n",
    "\n",
    "Meetniveau: nominaal of ordinaal.\n",
    "\n",
    "$100\\%$ van de waarnemingen zijn $360^\\circ$. Let er dus op dat het getekende percentage de correcte hoek heeft... Let ook op de oppervlakte (als een gegeven 2 maal zo groot is dan moet de oppervlakte van dat cirkeldiagram ook twee keer zo groot zijn als de andere...)\n",
    "\n",
    "* Oppervlakte cirkel: $\\pi R^2$\n",
    "* Omtrek cirkel: $2\\pi R$"
   ]
  },
  {
   "cell_type": "markdown",
   "metadata": {},
   "source": [
    "#### 1.5 Stamdiagrammen (leaf plot)"
   ]
  },
  {
   "cell_type": "markdown",
   "metadata": {},
   "source": [
    "Meetniveau: Ordinaal of hoger\n",
    "\n",
    "Begin met het zoeken van de $\\text{Min}$, en de $\\text{Max}$ waarde in de data. Daarna kunnen we deze rangschikken.\n",
    "\n",
    "Ook kunnen we een gesplitst stamdiagram maken, dit is handig als er heel veel waarnemingen in het hogere/lagere segment van een stam zit.\n",
    "\n",
    "Tot slot is het mogelijk om een tweezijdig stamdiagram te maken. En uiteraard ook een gesplitst tweezijdig stamdiagram...\n",
    "\n",
    "**Pareto diagram**\n",
    "\n",
    "Dit is een staafdiagram + een cumulatieve frequentiepolygon.\n",
    "\n",
    "1. Frequentie rangschikken vanaf groot naar klein\n",
    "2. Bereken $F$.\n",
    "3. Bereken $F$ in $\\%$.\n",
    "4. Teken paretodiagram.\n",
    "\n",
    "Voorbeeld 1.26, blz. 49\n",
    "\n",
    "* 80/20 regel"
   ]
  },
  {
   "cell_type": "markdown",
   "metadata": {},
   "source": [
    "## Week 3"
   ]
  },
  {
   "cell_type": "markdown",
   "metadata": {},
   "source": [
    "### Centrummaten voor ongegroepeerde waarnemingsuitkomsten"
   ]
  },
  {
   "cell_type": "markdown",
   "metadata": {},
   "source": [
    "#### Rekenkundig gemiddelde ($\\bar{x}$)"
   ]
  },
  {
   "cell_type": "markdown",
   "metadata": {},
   "source": [
    "Het rekenkundig gemiddelde kunnen we berekenen bij gegevens met het meetniveau: interval of ratio. De aanduiding hiervoor is $\\bar{x}$.\n",
    "\n",
    "Door alle waarnemingen bij elkaar op te tellen en dit te delen door het aantal waarnemingen krijgen we het rekenkundig gemiddelde.\n",
    "\n",
    "$$\\bar{x} = \\frac{\\sum\\limits^{n}_{x=i}X_i}{n}$$"
   ]
  },
  {
   "cell_type": "markdown",
   "metadata": {},
   "source": [
    "#### Gewogen rekenkundig gemiddelde  ($\\bar{x}$)"
   ]
  },
  {
   "cell_type": "markdown",
   "metadata": {},
   "source": [
    "Het gewogen rekenkundig gemiddelde kunnen we gebruiken om bepaalde waarnemingen zwaarder mee te laten tellen. Dit kan je bijvoorbeeld gebruiken om het gemiddelde van een aantal toetsen uit te rekenen waarbij elke toets een ander gewicht kan hebben.\n",
    "\n",
    "Alle waarnemingen worden vermenigvuldigd met het gewicht en daarvan de som wordt weer gedeeld met de som van alle gewichten.\n",
    "\n",
    "$$\\bar{x} = \\frac{\\sum w_i\\cdot x_i}{\\sum w_i}$$"
   ]
  },
  {
   "cell_type": "markdown",
   "metadata": {},
   "source": [
    "#### Mediaan ($x_{me}$)"
   ]
  },
  {
   "cell_type": "markdown",
   "metadata": {},
   "source": [
    "Om de mediaan te bepalen moet eerst de data worden gerangschikt. De mediaan wordt bepaald op $1$ variabele. Het meetniveau is ordinaal. Dit wordt soms gebruikt om een beter gemiddelde te laten zien wanneer er op de uiteindes van de waarnemingen hele hoge frequenties zitten. Dit geeft een vertekend beeld in het rekenkundig gemiddelde.\n",
    "\n",
    "Om de mediaan te bepalen nadat alle data is gerangschikt nemen we de middelste waarneming. Als er een even aantal waarnemingen zijn dan tellen we de middelste twee bij elkaar op en delen we dit door $2$."
   ]
  },
  {
   "cell_type": "markdown",
   "metadata": {},
   "source": [
    "#### Modus ($x_{mo}$)"
   ]
  },
  {
   "cell_type": "markdown",
   "metadata": {},
   "source": [
    "De modus is het getal dat het vaakste voorkomt. Dit mag maar $1$ getal zijn. Als er meerdere getallen zijn die evenvaak voorkomen dan is de modus niet gedefinieerd.\n",
    "\n",
    "De modus kan worden bepaald op gegevens met het nominale meetniveau."
   ]
  },
  {
   "cell_type": "markdown",
   "metadata": {},
   "source": [
    "### Centrummaten voor gegroepeerde waarnemingsuitkomsten"
   ]
  },
  {
   "cell_type": "markdown",
   "metadata": {},
   "source": [
    "#### Rekenkundig gemiddelde"
   ]
  },
  {
   "cell_type": "markdown",
   "metadata": {},
   "source": [
    "We kunnen het rekenkundig gemiddelde wel berekenen voor gegroepeerde waarnemingsuitkomsten, echter is dit een schatting van het gemiddelde.\n",
    "\n",
    "Om dit doen nemen we de som van alle klassen maal de frequentie van de klasse en delen we dit door het aantal waarnemingen.\n",
    "\n",
    "$$\\bar{x}=\\frac{ \\sum\\limits^k_{i=1}f_i \\cdot m_i}{n}$$\n",
    "\n",
    "Hier is $f$ de frequentie van de klasse, $m$ het klassenmidden van de klasse en $n$ het totaal aantal waarnemingen."
   ]
  },
  {
   "cell_type": "markdown",
   "metadata": {},
   "source": [
    "#### Mediaan ($x_{me}$)"
   ]
  },
  {
   "cell_type": "markdown",
   "metadata": {},
   "source": [
    "Om de mediaan te bepalen voor gegroepeerde waarneminguitkomsten gebruiken we de volgende formule:\n",
    "\n",
    "$$ x_{me} = L + \\big( r -\\frac{1}{2} \\big) \\frac{b}{f}$$"
   ]
  },
  {
   "cell_type": "markdown",
   "metadata": {},
   "source": [
    "Hier is $L$ de benedengrens van de mediale klasse, $r$ het rangnummer van de waarneming binnen de klasse, $b$ de breedte van de mediale klassen en $f$ het totaal aantal waarnemingen in de mediale klasse."
   ]
  },
  {
   "cell_type": "markdown",
   "metadata": {},
   "source": [
    "#### Modus ($x_{mo}$)"
   ]
  },
  {
   "cell_type": "markdown",
   "metadata": {},
   "source": [
    "Om de modus te bepalen nemen we de klasse met de hoogste frequentiedichtheid. Let er op dat je niet de klasse met de hoogste frequentie gebruikt!"
   ]
  },
  {
   "cell_type": "markdown",
   "metadata": {},
   "source": [
    "### Spreidingsmaten bij ongegroepeerde waarnemingsuitkomsten"
   ]
  },
  {
   "cell_type": "markdown",
   "metadata": {},
   "source": [
    "#### Spreidingsbreedte"
   ]
  },
  {
   "cell_type": "markdown",
   "metadata": {},
   "source": [
    "Om de spreidingsbreedte (range) nemen we de hoogste waarnemingsuitkomt en trekken we hier de laagste waarnemingsuitkomst van af."
   ]
  },
  {
   "cell_type": "markdown",
   "metadata": {},
   "source": [
    "#### Gemiddelde absolute afwijking"
   ]
  },
  {
   "cell_type": "markdown",
   "metadata": {},
   "source": [
    "Om de gemiddele absolute afwijking (G.A.A.) te bepalen gebruiken we de volgende formule:\n",
    "\n",
    "$$\\text{GAA} = \\frac{ \\sum\\limits^n_{i=n}(\\mid x_i - \\bar{x} \\mid)}{n}$$"
   ]
  },
  {
   "cell_type": "markdown",
   "metadata": {},
   "source": [
    "#### Variantie"
   ]
  },
  {
   "cell_type": "markdown",
   "metadata": {},
   "source": [
    "Dit kunnen we toepassen op data met het meetniveau interval of ratio. Let er op of we dit voor de populatie doen of voor de steekproef.\n",
    "\n",
    "$$s^2 = \\frac{\\sum\\limits^n_{i=1}(x_i-\\bar{x})^2}{n-1} \\quad \\text{(steekproef)} \\qquad \\sigma^2 = \\frac{\\sum\\limits^n_{i=1}(x_i - \\mu)^2}{N} \\quad \\text{(populatie)}$$\n",
    "\n",
    "Waarbij de rekenkundige gemiddelden als volgt zijn bepaald:\n",
    "\n",
    "$$\\bar{x} = \\frac{\\sum\\limits^n_{i=1}x_i}{n} \\quad \\text{(steekproef)} \\qquad \\mu = \\frac{\\sum\\limits^n_{i=1}x_i}{N} \\quad \\text{(populatie)}$$"
   ]
  },
  {
   "cell_type": "markdown",
   "metadata": {},
   "source": [
    "#### Standaard deviatie"
   ]
  },
  {
   "cell_type": "markdown",
   "metadata": {},
   "source": [
    "Omdat we bij de variantie een ander meeteenheid krijgen, namelijk $x^2$ tot de macht, kunnen we de oorspronkelijke meeteenheid terug krijgen de wortel te nemen van de variantie. Dit wordt dan de standaard deviate genoemd."
   ]
  },
  {
   "cell_type": "markdown",
   "metadata": {},
   "source": [
    "$$s = \\sqrt{\\frac{\\sum\\limits^n_{i=1}(x_i-\\bar{x})^2}{n-1}} \\quad \\text{(steekproef)} \\qquad \\sigma = \\sqrt{\\frac{\\sum\\limits^n_{i=1}(x_i - \\mu)^2}{N}} \\quad \\text{(populatie)}$$"
   ]
  },
  {
   "cell_type": "markdown",
   "metadata": {},
   "source": [
    "### Spreidingsmaten bij gegroepeerde waarnemingsuitkomsten"
   ]
  },
  {
   "cell_type": "markdown",
   "metadata": {},
   "source": [
    "Om bij gegroepeerde waarnemingsuitkomsten de centrummaten te bereken is het voldoende om te laten zien hoe dit voor de standaard deviate wordt gedaan. Omdat de standaard deviate alle bovenstaande centrummaten bevat is het simpel om te zien hoe deze zijn aangepast voor gegroepeerde waarnemingsuitkomsten.\n",
    "\n",
    "$$s = \\sqrt{\\frac{\\sum\\limits^n_{i=1}f_i(m_i-\\bar{x})^2}{n-1}} \\quad \\text{(steekproef)} \\qquad \\sigma = \\sqrt{\\frac{\\sum\\limits^n_{i=1}f_i(m_i - \\mu)^2}{N}} \\quad \\text{(populatie)}$$\n",
    "\n",
    "Waarbij $m_i$ het klassenmidden is en $f_i$ de frequentie van die klasse. Let er ook op dat $\\bar{x}$ en $\\mu$ nu met het rekenkundig gemiddelde voor gegroepeerde waarnemingsuitkomsten moet worden berekend."
   ]
  },
  {
   "cell_type": "markdown",
   "metadata": {},
   "source": [
    "## Week 4"
   ]
  },
  {
   "cell_type": "markdown",
   "metadata": {},
   "source": [
    "**Kwartielen**\n",
    "\n",
    "Er zijn 4 kwartielen ($Q1,Q2,Q3,Q4$), $Q2$ is hetzelfde als $x_{me}$.\n",
    "\n",
    "Kwartielen worden op dezelfde manier berekend als de mediaan. Hiervoor wordt er wel naar een ander middenpunt gezocht. Om $Q1$ te krijgen zoeken we de middelste waarneming tussen de eerste waarde en $Q2$. Voor $Q3$ doen we dit ook maar dan tussen $Q2$ en de laatste waarneming.\n",
    "\n",
    "**Decilen**\n",
    "\n",
    "Er zijn in totaal 9 decilen; $D1,D2,\\ldots,D9$.\n",
    "\n",
    "**Percentilen**\n",
    "\n",
    "Er zijn in totaal 99 percentilen: $P1, P2, \\ldots, P99$. De laatste wordt niet mee gerekend.\n",
    "\n",
    "**Halve kwartiel afstand (HK)**\n",
    "\n",
    "Om de halve kwartiel afstrand te bereken gebruiken we onderstaande formule: \n",
    "\n",
    "$\\text{HK}=\\frac{Q3-Q1}{2}$\n",
    "\n",
    "**Inter-kwartiel range (IQR)**\n",
    "\n",
    "Om de inter-kwartiel range te bereken gebruiken we $\\text{IQR}=Q3-Q1$.\n",
    "\n",
    "** Boxplot **\n",
    "\n",
    "Om een boxplot te maken gebruiken we de onderstaande stappen:\n",
    "\n",
    "1. Waarnemingen rangschikken\n",
    "2. Bepaal die minimale waarde\n",
    "3. Bepaal de maximale waarde\n",
    "4. Bepaal de mediaan ($Q2$)\n",
    "5. Bepaal $Q1, Q3$\n",
    "\n",
    "Nu kunnen we de boxplot tekenen. Als er **geen** rekening wordt gehouden met uitschieters dan is het een _simpele_ boxplot.\n",
    "\n",
    "Als we **wel** rekening houden met uitschieters dan hebben we een _gewone_ boxplot. In dit geval mogen de lijnstukken van min/max niet langer zijn dan $1\\frac{1}{2}\\text{IQR}$. Alle waarnemingen die hierbuiten vallen worden met een kruisje aangegeven. Vervolgens wordt de eerst volgende waarneming gebruikt die binnen deze range valt als min/max."
   ]
  },
  {
   "cell_type": "markdown",
   "metadata": {
    "collapsed": true
   },
   "source": [
    "## Week 5"
   ]
  },
  {
   "cell_type": "markdown",
   "metadata": {},
   "source": [
    "**Meetkundig gemiddelde**\n",
    "\n",
    "Dit wordt gebruikt om het gemiddelde te berekenen bij verhoudingsgetallen (zoals bijv. groeipercentages). Dit alleen van toepassing bij ongegroepeerde waarnemingen.\n",
    "\n",
    "$$\\bar{x}_{mk} = \\left(\\prod x_i \\right)^{\\frac{1}{n}} = \\sqrt[n]{\\prod\\limits^n_{i=1}x_i} = \\sqrt[n]{x_1 \\cdot x_2 \\cdot \\ldots \\cdot x_n}$$\n",
    "\n",
    "**Harmonisch gemiddelde**\n",
    "\n",
    "Dit wordt gebruikt om gemiddelde te berekenen bij samengestelde grootheden (bijv. snelheid). Ook dit is alleen van toepassing bij ongegroepeerde waarnemingen.\n",
    "\n",
    "$$\\bar{x}_h = \\frac{n}{\\cfrac{1}{x_1} + \\cfrac{1}{x_2} + \\ldots + \\cfrac{1}{x_n}}$$"
   ]
  },
  {
   "cell_type": "markdown",
   "metadata": {},
   "source": [
    "**Populatie & steekproef**\n",
    "\n",
    "De gemiddelden zijn als volgt gedefinieerd:\n",
    "\n",
    "$$ \\bar{x} = \\cfrac{ \\sum\\limits^n_{i=1}x_i }{n} \\quad(\\text{Sample}) \\qquad \\qquad \\mu = \\frac{ \\sum\\limits^n_{i=1} x_i}{n} \\quad(\\text{Population})$$\n",
    "\n",
    "En de variantie:\n",
    "\n",
    "$$ s^2 = \\cfrac{ \\sum\\limits^n_{i=1}(x_i - \\bar{x})^2 }{n-1} \\quad (\\text{Sample}) \\qquad \\qquad \\sigma^2 = \\cfrac{ \\sum\\limits^N_{i=1}(x_i - \\mu)^2}{N} \\quad (\\text{Population})$$\n",
    "\n",
    "Waarbij:\n",
    "* $\\bar{x} =$ steekproefgemiddelde\n",
    "* $\\mu =$ populatiegemiddelde\n",
    "* $s =$ steekproefstandaardafwijking\n",
    "* $\\sigma =$ populatiestandaardafwijking\n",
    "* $n =$ steekproefomvang\n",
    "* $N =$ populatieomvang"
   ]
  },
  {
   "cell_type": "markdown",
   "metadata": {},
   "source": [
    "**Eigenschappen van $\\bar{x}$ en $s^2$**"
   ]
  },
  {
   "cell_type": "markdown",
   "metadata": {},
   "source": [
    "Laten we eerste twee definities bewijzen voor sommen.\n",
    "\n",
    "**Definitie 1:**\n",
    "\n",
    "$\\sum\\limits^n_{i=1}(x_i+b) = nb + \\sum\\limits^n_{i=1} x_i$\n",
    "\n",
    "Bewijs:\n",
    "\n",
    "$\\begin{align} \\sum\\limits^n_{i=1}(x_i+b) &= x_1+b + x_2+b + \\ldots + x_n+b \\\\ &= (x_1 + x_2 + \\ldots + x_n) + (b + b + \\ldots + b) \\\\ &= (x_1 + x_2 + \\ldots +x_n) + (nb) \\\\ &= nb \\sum\\limits^n_{i=1}x_i\\end{align}$\n",
    "\n",
    "**Definitie 2:**\n",
    "\n",
    "$\\sum\\limits^n_{i=1}(bx_i) = b \\cdot \\sum\\limits^n_{i=1} x_i$\n",
    "\n",
    "Bewijs:\n",
    "\n",
    "$\\begin{align} \\sum\\limits^n_{i=1} (bx_i) &= bx_1 + bx_2 + \\ldots + bx_n \\\\ &= b(x_1 + x_2 + \\ldots + x_n) \\\\ &= b \\cdot \\sum\\limits^n_{i=1} x_i \\end{align}$\n",
    "\n",
    "Als we een lineaire transformatie ($y=ax+b$) toepassen op alle waarnemingen $x_i$ dan wordt het nieuwe gemiddelde $\\bar{x}_{nieuw} = a\\cdot \\bar{x}_{oud} + b$.\n",
    "\n",
    "Bewijs:\n",
    "\n",
    "De nieuwe $x_i^1 = ax_i+b$, dus:\n",
    "\n",
    "$\\begin{align} \\bar{x}_{nieuw} &= \\frac{ \\sum\\limits^n_{i=1} (x_i^1) }{n} \\\\ &= \\frac{ \\sum\\limits^n_{i=1} \\left(ax_i+b\\right) }{n} \\quad &(x_i^1 = ax_i+b) \\\\ &= \\frac{ nb + a \\sum\\limits^n_{i=1}x_i}{n} \\quad &\\left(\\text{Def. 1}, \\text{Def. 2}, \\frac{nb}{n} = b\\right) \\\\ &= b + a \\left( \\frac{\\sum\\limits^n_{i=1}x_i}{n}\\right) \\\\ &= a\\bar{x}_{oud} +b\\end{align}$\n",
    "\n",
    "Als we een lineaire transformatie toepassen op alle waarnemingen $x_i$ dan wordt de nieuwe variantie $s^2_{nieuw}=a^2\\cdot s^2_{oud}$.\n",
    "\n",
    "Bewijs:\n",
    "\n",
    "Als $x_i^1 = ax_i +b$ en $\\bar{x}_{nieuw} = a\\bar{x}_{oud}+b$, dan:\n",
    "\n",
    "$\\begin{align} s^2_{nieuw} &= \\frac{ \\sum\\limits^n_{i=1}(x_i^1-\\bar{x}_{nieuw})^2 }{n-1} \\\\ &= \\frac{\\sum\\limits^n_{i=1}((ax_i+b)-(a\\bar{x}_{oud}+b))^2}{n-1} \\quad &(\\text{Replace  } x_i^1, \\text{Replace  } \\bar{x}_{nieuw}) \\\\ &= \\frac{\\sum\\limits^n_{i=1}(ax_i - a\\bar{x}_{oud})^2}{n-1} \\quad &(\\text{Cancel b}) \\\\ &= \\frac{\\sum\\limits^n_{i=1}a^2(x_i - \\bar{x}_{oud})^2}{n-1} \\quad &(\\text{Factor a}) \\\\ &= a^2 \\cdot \\frac{\\sum\\limits^n_{i=1} (x_i - \\bar{x}_{oud} )^2 }{n-1} \\quad &(\\text{Def. 2}) \\\\ s^2_{nieuw} &= a^2s^2_{oud} \\end{align}$\n",
    "\n",
    "De standaardafwijking is te verkrijgen door $\\sqrt{s^2_{nieuw}} = \\sqrt{a^2s^2_{oud}}$, ofterwel $s_{nieuw} = |a|\\cdot s_{oud}$."
   ]
  },
  {
   "cell_type": "markdown",
   "metadata": {},
   "source": [
    "**Alternatieve formule voor $s^2$**\n",
    "\n",
    "Todo: add proof\n",
    "\n",
    "$$s^2 = \\cfrac{\\sum\\limits^n_{i=1}x_i^2}{n-1} - \\cfrac{\\left(\\sum\\limits^n_{i=1} x_i\\right)^2}{n(n-1)}$$"
   ]
  },
  {
   "cell_type": "markdown",
   "metadata": {
    "collapsed": true
   },
   "source": [
    "#### Bayesiaanse gemiddelde\n",
    "\n",
    "Om het Bayesiaanse gemiddelde te berekenen gebruiken we de volgende formule:\n",
    "\n",
    "$\\bar{X}(j)_{Bayes}=\\cfrac{C \\times m + \\sum X_i}{C + n}$\n",
    "\n",
    "Waarbij:\n",
    "\n",
    "* $j$ is item\n",
    "* $C$ is arbitraire wegingsfactor\n",
    "* $m$ is gemiddelde van alle waarnemingen (gewogen gemiddelde)\n",
    "* $X_i$ is waarneming vermenigvuldigd met score\n"
   ]
  },
  {
   "cell_type": "code",
   "execution_count": null,
   "metadata": {
    "collapsed": true
   },
   "outputs": [],
   "source": []
  }
 ],
 "metadata": {
  "kernelspec": {
   "display_name": "Python 3",
   "language": "python",
   "name": "python3"
  },
  "language_info": {
   "codemirror_mode": {
    "name": "ipython",
    "version": 3
   },
   "file_extension": ".py",
   "mimetype": "text/x-python",
   "name": "python",
   "nbconvert_exporter": "python",
   "pygments_lexer": "ipython3",
   "version": "3.6.3"
  }
 },
 "nbformat": 4,
 "nbformat_minor": 2
}
