{
 "cells": [
  {
   "cell_type": "code",
   "execution_count": 4,
   "metadata": {},
   "outputs": [
    {
     "name": "stdout",
     "output_type": "stream",
     "text": [
      "Populating the interactive namespace from numpy and matplotlib\n"
     ]
    },
    {
     "name": "stderr",
     "output_type": "stream",
     "text": [
      "c:\\users\\isomorphism\\appdata\\local\\programs\\python\\python36\\lib\\site-packages\\IPython\\core\\magics\\pylab.py:160: UserWarning: pylab import has clobbered these variables: ['f']\n",
      "`%matplotlib` prevents importing * from pylab and numpy\n",
      "  \"\\n`%matplotlib` prevents importing * from pylab and numpy\"\n"
     ]
    }
   ],
   "source": [
    "%pylab inline"
   ]
  },
  {
   "cell_type": "markdown",
   "metadata": {},
   "source": [
    "# Probability Theory"
   ]
  },
  {
   "cell_type": "markdown",
   "metadata": {},
   "source": [
    "## Week 1\n",
    "\n",
    "**Topics:** Random sampling, permutations, combinations.\n",
    "\n",
    "**Problems:** 3.1, 3.3, 3.4, 3.5, 3.6, additional problem set 1."
   ]
  },
  {
   "cell_type": "markdown",
   "metadata": {},
   "source": [
    "### Random sampling\n",
    "\n",
    "Taking a random sample can be done in different ways:\n",
    "\n",
    "||With replacement|Without replacement|\n",
    "|---|---|---|\n",
    "|**With order**|$n^k$|$n!, \\quad k \\leq n$|\n",
    "|**Without order**|$\\begin{pmatrix}n+k-1\\\\k\\end{pmatrix}$|$\\begin{pmatrix}n\\\\k\\end{pmatrix}$|\n",
    "\n",
    "This leads to four different cases which will be addressed seperately."
   ]
  },
  {
   "cell_type": "markdown",
   "metadata": {},
   "source": [
    "### Permutations"
   ]
  },
  {
   "cell_type": "markdown",
   "metadata": {},
   "source": [
    "The general formula for permutations is:\n",
    "\n",
    "$$ _nP_k = \\dfrac{n!}{(n-k)!}$$"
   ]
  },
  {
   "cell_type": "markdown",
   "metadata": {},
   "source": [
    "#### With replacement"
   ]
  },
  {
   "cell_type": "markdown",
   "metadata": {},
   "source": [
    "#### Without replacement"
   ]
  },
  {
   "cell_type": "markdown",
   "metadata": {},
   "source": [
    "### Combinations"
   ]
  },
  {
   "cell_type": "markdown",
   "metadata": {},
   "source": [
    "The general formula for combinations is:\n",
    "\n",
    "$$ _nC_k=\\dfrac{n!}{k!(n-k)!} = \\begin{pmatrix}n\\\\k\\end{pmatrix}$$"
   ]
  },
  {
   "cell_type": "markdown",
   "metadata": {},
   "source": [
    "#### With replacement"
   ]
  },
  {
   "cell_type": "markdown",
   "metadata": {},
   "source": [
    "#### Without replacement"
   ]
  },
  {
   "cell_type": "markdown",
   "metadata": {},
   "source": [
    "## Week 2\n",
    "\n",
    "**Topics**: Probability definitions, probability rules, grid chart.\n",
    "\n",
    "**Problems:** 3.7, 3.8, 3.10, additional problem set 2."
   ]
  },
  {
   "cell_type": "markdown",
   "metadata": {},
   "source": [
    "### Probability definitions"
   ]
  },
  {
   "cell_type": "markdown",
   "metadata": {},
   "source": [
    "#### Probability experiment\n",
    "\n",
    "There are different examples of probability experiments:\n",
    "\n",
    "1. One throw with a dice\n",
    "2. Two throws with a dice\n",
    "3. One throw with a coin\n",
    "4. Pulling two cards from a deck of cards"
   ]
  },
  {
   "cell_type": "markdown",
   "metadata": {},
   "source": [
    "#### Sample space\n",
    "\n",
    "The sample space $\\Omega$ are all the possible outcomes for a probability experiment. For the above given examples this gives:\n",
    "\n",
    "1. $S=\\{1,2,3,4,5,6\\}$\n",
    "2. $S=\\{(a,b):a,b \\in \\{1,2,3,4,5,6\\}\\}$\n",
    "3. $S=\\{H,T\\}$\n",
    "4. $S=\\{(a,b):a,b \\in \\{1,\\ldots,52\\}\\}$"
   ]
  },
  {
   "cell_type": "markdown",
   "metadata": {},
   "source": [
    "#### Event\n",
    "\n",
    "An event is a subset of $\\Omega$.\n",
    "\n",
    "1. Throwing an even number, $A=\\{2,4,6\\}$\n",
    "2. Throwing the same dices, $A=\\{(1,1),(2,2),\\ldots,(6,6)\\}$\n",
    "3. Throwing heads, $A=\\{H\\}$\n",
    "4. Picking a heart A ($HA$) and club 2 ($C2$), $A=\\{(HA,C2),(C2,HA)\\}$"
   ]
  },
  {
   "cell_type": "markdown",
   "metadata": {},
   "source": [
    "#### Elementary event\n",
    "\n",
    "An elementary event $\\omega$ (also called atomic event) is exactly one element from $\\Omega$.\n",
    "\n",
    "For example (1) all the elementary events are: $\\{1\\}$, $\\{2\\}$, $\\{3\\}$, $\\{4\\}$, $\\{5\\}$, $\\{6\\}$."
   ]
  },
  {
   "cell_type": "markdown",
   "metadata": {},
   "source": [
    "#### Probability (axiomatic definition)\n",
    "\n",
    "For the probability function $P$ the following three axioms hold:\n",
    "\n",
    "1. $P(S)=1$\n",
    "2. $0\\leq P(A) \\leq 1$\n",
    "3. $P(A \\cap B) = P(A)+P(B)-P(A \\cap B)$, where $P(A \\cap B) = 0$ if and only if $A \\cap B = \\emptyset$."
   ]
  },
  {
   "cell_type": "markdown",
   "metadata": {},
   "source": [
    "#### Probability space\n",
    "\n",
    "A probability space consists of the following:\n",
    "\n",
    "1. A sample space $\\Omega$ which are all the possible outcomes for the experiment.\n",
    "2. A set of events, where each event is a set containing zero or more outcomes.\n",
    "3. The assigment of probabilities to the events; that is, a function $P$ from events to probabilities.\n",
    "\n",
    "With this we can determine the probability for an event $A$:\n",
    "\n",
    "$$P(A) = \\dfrac{n_a}{n_\\Omega}$$\n",
    "\n",
    "Where $n_a$ are the favorable outcomes and $n_\\Omega$ are all the possible outcomes."
   ]
  },
  {
   "cell_type": "markdown",
   "metadata": {},
   "source": [
    "### Probability rules"
   ]
  },
  {
   "cell_type": "markdown",
   "metadata": {},
   "source": [
    "Now we establish a few rules for probabilites. Later on when we cover conditional probilities we will add a few more rules to the list.\n",
    "\n",
    "#### Sum rule\n",
    "\n",
    "$P(A \\cup B) = P(A)+P(B)-P(A \\cap B)$ where $P(A \\cap B) = 0$ if and only if $A \\cap B = \\emptyset$.\n",
    "\n",
    "#### Complement rule\n",
    "\n",
    "We can define this as $P(A) + P(\\bar{A}) = P(S) = 1$. We use this to infer that $P(A) = 1-P(\\bar{A})$. This is particularly useful because most of the times it is a lot easier to figure out what $P(\\bar{A})$ is, and then use the complement rule to determine the probability of $P(A)$."
   ]
  },
  {
   "cell_type": "markdown",
   "metadata": {},
   "source": [
    "### Grid chart\n",
    "\n",
    "A grid chart is useful to visualize conditions.\n",
    "\n",
    "For example, suppose we want to throw $2$ dices, and we multiply the outcome. What is the probability that the result is greater than $20$?\n",
    "\n",
    "![Grid chart](grid-example.png)\n",
    "\n",
    "Using the grid chart it is easy to see that:\n",
    "\n",
    "$$P(x>20) = \\frac{6}{6^2} = \\frac{1}{6}$$"
   ]
  },
  {
   "cell_type": "markdown",
   "metadata": {},
   "source": [
    "## Week 3\n",
    "\n",
    "**Topics:** Conditional probability, independence, product rule, sampling with replacement, sampling without replacement, probability tree.\n",
    "\n",
    "**Problems:** 3.2, 3.12, 3.13, 3.14, 3.15, 3.16, additional problem set 3."
   ]
  },
  {
   "cell_type": "markdown",
   "metadata": {},
   "source": [
    "### Conditional probability"
   ]
  },
  {
   "cell_type": "markdown",
   "metadata": {},
   "source": [
    "A conditional probability gives more information about the possible outcome space, which is defined as:\n",
    "\n",
    "$$P(A|B) = \\dfrac{P(A \\cap B)}{P(B)} ,\\quad P(B)>0$$"
   ]
  },
  {
   "cell_type": "markdown",
   "metadata": {},
   "source": [
    "### Indepence"
   ]
  },
  {
   "cell_type": "markdown",
   "metadata": {},
   "source": [
    "If $P(A|B)=P(A)$ then the events $A$ and $B$ are independent."
   ]
  },
  {
   "cell_type": "markdown",
   "metadata": {},
   "source": [
    "### Product rule"
   ]
  },
  {
   "cell_type": "markdown",
   "metadata": {},
   "source": [
    "The general product rule is:\n",
    "\n",
    "$$ P(A \\cap B) = P(A|B) \\cdot P(B) = P(B|A) \\cdot P(A) $$\n",
    "\n",
    "In the case that $A$ and $B$ are independent, we use:\n",
    "\n",
    "$$ P(A \\cap B) = P(A) \\cdot P(B)$$"
   ]
  },
  {
   "cell_type": "markdown",
   "metadata": {},
   "source": [
    "### Probability rules"
   ]
  },
  {
   "cell_type": "markdown",
   "metadata": {},
   "source": [
    "With the addition of above rules, we now have the following rules for probabilities:\n",
    "\n",
    "1. $P(\\Omega)=1$, sample space has a probability of 1.\n",
    "2. $P(\\emptyset)=0$, an empty set has a probability of 0.\n",
    "3. $P(A)=1-P(\\bar{A})$, complement rule.\n",
    "4. $P(A\\cup B)=P(A)+P(B)-P(A\\cap B)$, sum rule.\n",
    "5. $P(A\\cup B)=P(A)+P(B)$, if and only if $A\\cap B=\\emptyset$.\n",
    "6. $P(A\\cap B)=P(A|B)\\cdot P(B)$, product rule.\n",
    "7. $P(A\\cap B)=P(A)\\cdot P(B)$, if and only if $A$ and $B$ are independent."
   ]
  },
  {
   "cell_type": "markdown",
   "metadata": {},
   "source": [
    "### Sampling with replacement"
   ]
  },
  {
   "cell_type": "markdown",
   "metadata": {},
   "source": [
    "### Sampling without replacement"
   ]
  },
  {
   "cell_type": "markdown",
   "metadata": {},
   "source": [
    "### Probability tree"
   ]
  },
  {
   "cell_type": "markdown",
   "metadata": {},
   "source": [
    "## Week 4\n",
    "\n",
    "**Topics:** Bayes' rule.\n",
    "\n",
    "**Problems:** 3.9, 3.11, 3.17 till 3.31."
   ]
  },
  {
   "cell_type": "markdown",
   "metadata": {},
   "source": [
    "### Bayes' rule"
   ]
  },
  {
   "cell_type": "markdown",
   "metadata": {},
   "source": [
    "#### Inference\n",
    "\n",
    "When we have a cause and effect model where $A_i\\xrightarrow[P(B|A_i)]{\\text{cause-effect}}B$ is known, we can use Bayes' rule to infer $B\\xleftarrow[P(A_i|B)]{\\text{inference}}A_i$."
   ]
  },
  {
   "cell_type": "markdown",
   "metadata": {},
   "source": [
    "**General case**\n",
    "\n",
    "The general use case for Bayes rule is:\n",
    "\n",
    "$$ P(A|B) = \\dfrac{P(A) \\cdot P(B|A)}{P(A)\\cdot P(B|A) + P(\\bar{A})\\cdot P(B|\\bar{A})} $$\n",
    "\n",
    "We can use this to infer $P(A|B)$ if only $P(B|A)$ is known.\n",
    "\n",
    "**Definition**\n",
    "\n",
    "Bayes' rule is defined as:\n",
    "\n",
    "$$ P(A_i|B) = \\dfrac{P(A_i)\\cdot P(B|A_i)}{\\sum\\left[P(A_j)\\cdot P(B|A_j)\\right]}$$\n",
    "\n",
    "such that the following holds:\n",
    "\n",
    "1. $A_i \\cap A_j = \\emptyset $, the intersection must be disjunct.\n",
    "2. $\\cup A_i = \\Omega$, the union of $A$ is $\\Omega$."
   ]
  },
  {
   "cell_type": "markdown",
   "metadata": {},
   "source": [
    "## Week 5\n",
    "\n",
    "**Topics:** Discrete stochastic variable, discrete probability function, cumulative distribution function, expected value, variance for a discrete stochastic variable.\n",
    "\n",
    "**Problems:** 4.1, 4.3, 4.4, 4.5, 4.6, 4.7, 4.8"
   ]
  },
  {
   "cell_type": "markdown",
   "metadata": {},
   "source": [
    "### Stochastic variables"
   ]
  },
  {
   "cell_type": "markdown",
   "metadata": {},
   "source": [
    "**Definition**\n",
    "\n",
    "Given a sample space $\\Omega$ and a function $\\underline{k}$ such that $\\underline{k}:\\Omega\\rightarrow\\mathbb{R}$. Where the range is $\\underline{R}_k \\subset \\mathbb{R}$. In this context $\\underline{k}$ is the stochastic variable (or probability variable). With the following two rules:\n",
    "\n",
    "1. $f(k) \\geq 0$ for $\\forall k$\n",
    "2. $\\sum f(k) = 1, \\quad \\left(\\sum\\limits_{k\\in\\underline{k}}(\\underline{k}=k)=1\\right)$\n",
    "\n",
    "**Example**\n",
    "\n",
    "Given a probability experiment: throwing with a dice.\n",
    "\n",
    "We define $\\underline{k}$ as the squared outcome of the throw. The mapping of the function $\\underline{k}$ is defined as:\n",
    "\n",
    "$$\\Omega=\\underbrace{\\{1,2,3,4,5,6\\}}_{\\text{domain}} \\xrightarrow{\\underline{k}} \\underbrace{\\{1,4,9,16,25,36\\}}_{\\text{range}} = \\underline{R}_k \\subset \\mathbb{R}$$"
   ]
  },
  {
   "cell_type": "markdown",
   "metadata": {},
   "source": [
    "### Discrete probability distribution\n",
    "\n",
    "The probability distribution is defined as $f(k)=P(\\underline{k}=k)$ such that $k\\in\\underline{R}_k$. For the above given example this yields:\n",
    "\n",
    "$$ f(1)=P(\\underline{k}=1)=\\dfrac{1}{6} \\\\ f(4)=P(\\underline{k}=4)=\\dfrac{1}{6} \\\\ \\vdots \\\\ f(36)=P(\\underline{k}=36)=\\dfrac{1}{6}$$"
   ]
  },
  {
   "cell_type": "markdown",
   "metadata": {},
   "source": [
    "**Code**"
   ]
  },
  {
   "cell_type": "code",
   "execution_count": 54,
   "metadata": {},
   "outputs": [],
   "source": [
    "def f(k):\n",
    "    r = [1,4,9,16,25,36]\n",
    "    if k in r: return 1/len(r)\n",
    "    return 0"
   ]
  },
  {
   "cell_type": "markdown",
   "metadata": {},
   "source": [
    "Plotting this function gives a pin bar graph with a vertical line at the value when there is a probability defined. All the other values are not defined because this is a discrete function."
   ]
  },
  {
   "cell_type": "code",
   "execution_count": 55,
   "metadata": {},
   "outputs": [
    {
     "data": {
      "image/png": "[encoded data removed]",
      "text/plain": [
       "<matplotlib.figure.Figure at 0x237af09c4a8>"
      ]
     },
     "metadata": {},
     "output_type": "display_data"
    }
   ],
   "source": [
    "points = np.arange(0,37,0.01)\n",
    "plot(points, [f(x) for x in points], c='b', lw=2);"
   ]
  },
  {
   "cell_type": "markdown",
   "metadata": {},
   "source": [
    "### Cumulative distribution function\n",
    "\n",
    "The cumulative distribution function $F(k)=P(\\underline{k}\\leq k)$ for the example above yields:\n",
    "\n",
    "$$ F(1)=P(\\underline{k}\\leq1)=\\dfrac{1}{6} \\\\ F(2)=P(\\underline{k}\\leq2)=\\dfrac{1}{6} \\\\ F(4)=P(\\underline{k}\\leq4)=\\dfrac{2}{6} \\\\ \\vdots \\\\ F(36)=P(\\underline{k}\\leq36)=\\dfrac{6}{6}=1$$"
   ]
  },
  {
   "cell_type": "markdown",
   "metadata": {},
   "source": [
    "**Code**"
   ]
  },
  {
   "cell_type": "code",
   "execution_count": 56,
   "metadata": {},
   "outputs": [],
   "source": [
    "def F(k):\n",
    "    x = 0\n",
    "    r = [1,4,9,16,25,36]\n",
    "    for i in r: \n",
    "        if i <= k: x = i\n",
    "    try: return (r.index(x)+1)/len(r)\n",
    "    except: return 0"
   ]
  },
  {
   "cell_type": "markdown",
   "metadata": {},
   "source": [
    "Plotting this function gives a staircase graph."
   ]
  },
  {
   "cell_type": "code",
   "execution_count": 57,
   "metadata": {
    "scrolled": true
   },
   "outputs": [
    {
     "data": {
      "image/png": "[encoded data removed]",
      "text/plain": [
       "<matplotlib.figure.Figure at 0x237af271ba8>"
      ]
     },
     "metadata": {},
     "output_type": "display_data"
    }
   ],
   "source": [
    "points = np.arange(-10,50,0.01)\n",
    "plot(points, [F(x) for x in points], c='b', lw=2);"
   ]
  },
  {
   "cell_type": "markdown",
   "metadata": {},
   "source": [
    "### Expected value of a discrete stochastic variable\n",
    "\n",
    "The expected value $E(\\underline{k})$ is the weighted arithmetic mean from descriptive statistics but altered for a stochastic variable.\n",
    "\n",
    "**Definition**\n",
    "\n",
    "The formula for the expected value is:\n",
    "\n",
    "$$ E(\\underline{k})=\\sum\\limits_{k\\in\\underline{k}} k\\cdot P(\\underline{k}=k) $$\n",
    "\n",
    "Notice that we do not divide by the sum of values since that sum would equal 1, hence it's omitted.\n",
    "\n",
    "**Example**\n",
    "\n",
    "The expected value for the example with a dice is:\n",
    "\n",
    "$$E(\\underline{k})=1 \\cdot \\dfrac{1}{6} + 4 \\cdot \\dfrac{1}{6} + 9 \\cdot \\dfrac{1}{6} + 16  \\cdot \\dfrac{1}{6} + 25 \\cdot \\dfrac{1}{6} + 36 \\cdot \\dfrac{1}{6} = \\dfrac{91}{6} = 15 \\dfrac{1}{6}$$"
   ]
  },
  {
   "cell_type": "markdown",
   "metadata": {},
   "source": [
    "**Code**"
   ]
  },
  {
   "cell_type": "code",
   "execution_count": 58,
   "metadata": {},
   "outputs": [],
   "source": [
    "def E(r): \n",
    "    return sum([x * 1/len(r) for x in r])"
   ]
  },
  {
   "cell_type": "markdown",
   "metadata": {},
   "source": [
    "We can use this to easily determine the expected value for any range of $\\underline{k}$ when there is a uniform distribution."
   ]
  },
  {
   "cell_type": "code",
   "execution_count": 59,
   "metadata": {},
   "outputs": [
    {
     "data": {
      "text/plain": [
       "15.166666666666668"
      ]
     },
     "execution_count": 59,
     "metadata": {},
     "output_type": "execute_result"
    }
   ],
   "source": [
    "expected = E([1,4,9,16,25,36])\n",
    "expected"
   ]
  },
  {
   "cell_type": "markdown",
   "metadata": {},
   "source": [
    "Plotting $f(k)$, $F(k)$, and $E(\\underline{k})$ yields:"
   ]
  },
  {
   "cell_type": "code",
   "execution_count": 68,
   "metadata": {
    "scrolled": true
   },
   "outputs": [
    {
     "data": {
      "image/png": "[encoded data removed]",
      "text/plain": [
       "<matplotlib.figure.Figure at 0x237b0477da0>"
      ]
     },
     "metadata": {},
     "output_type": "display_data"
    }
   ],
   "source": [
    "points = np.arange(0,50,0.01)\n",
    "plot(points, [f(x) for x in points], c='lightblue', lw=2);\n",
    "plot(points, [F(x) for x in points], c='b', lw=2);\n",
    "scatter(expected, F(expected), c='r', lw=4);"
   ]
  },
  {
   "cell_type": "markdown",
   "metadata": {},
   "source": [
    "### Variance of a discrete stochastic variable"
   ]
  },
  {
   "cell_type": "markdown",
   "metadata": {},
   "source": [
    "The variance $\\text{Var}(\\underline{k})$ is the variance from descriptive statistics but is altered for a discrete stochastic variable.\n",
    "\n",
    "\n",
    "**Definition**\n",
    "\n",
    "The formula for the variance of a discrete stochastic variable is defined as:\n",
    "\n",
    "$$ \\text{Var}(\\underline{k}) = \\sum\\limits_{k\\in\\underline{k}}\\left(k-E(\\underline{k})\\right)^2\\cdot P(\\underline{k}=k_i) $$\n",
    "\n",
    "**Example**\n",
    "\n",
    "An example for throwing a dice gives:\n",
    "\n",
    "$$\\text{Var}(\\underline{k})= \\left(1-\\dfrac{91}{6}\\right)^2 + \\left(4-\\dfrac{91}{6}\\right)^2 + \\ldots + \\left(36-\\dfrac{91}{6}\\right)^2 = 149.14$$\n",
    "\n",
    "**Standard deviation**\n",
    "\n",
    "Given above example, it is easy to determine the standard deviation, which is:\n",
    "\n",
    "$$\\sigma_{\\underline{k}} = \\sqrt{149.14} = 12.21$$\n",
    "\n",
    "**Alternative method**\n",
    "\n",
    "An alternative (preferred) method to calculate the variance is:\n",
    "\n",
    "$$\\text{Var}(\\underline{k})= E(\\underline{k}^2)-\\left[E(\\underline{k})\\right]^2$$\n",
    "\n",
    "Proof:\n",
    "\n",
    "$$\\begin{align} &\\sum\\limits_{k\\in\\underline{k}}\\left(k-E(\\underline{k})\\right)^2 \\cdot P(\\underline{k}=k) \\\\ = &\\sum\\limits_{k\\in\\underline{k}}\\left(k^2 - 2k\\cdot E(\\underline{k})+\\left[E(\\underline{k})\\right]^2 \\right) \\cdot P(\\underline{k}=k) \\\\ = & \\underbrace{\\sum\\limits_{k\\in\\underline{k}}k^2\\cdot P(\\underline{k}=k)}_{\\text{def.}\\ E(\\underline{k}^2)}-2\\sum\\limits_{k\\in\\underline{k}}k\\cdot E(\\underline{k})\\cdot P(\\underline{k}=k)+\\sum\\limits_{k\\in\\underline{k}}\\left[E(\\underline{k})\\right]^2\\cdot P(\\underline{k}=k) \\\\ = &E(\\underline{k}^2) - 2\\cdot E(\\underline{k}) \\cdot \\underbrace{\\sum\\limits_{k\\in\\underline{k}} k \\cdot P(\\underline{k}=k)}_{\\text{def.}\\ E(\\underline{k})} + \\left[E(\\underline{k})\\right]^2 \\cdot \\underbrace{\\sum\\limits_{k\\in\\underline{k}} P(\\underline{k}=k)}_{1} \\\\ = &E(\\underline{k}^2)-2\\cdot E(\\underline{k})\\cdot E(\\underline{k})+\\left[E(\\underline{k})\\right]^2 \\\\ = & E(\\underline{k}^2) - \\left[E(\\underline{k})\\right]^2 \\qquad\\qquad\\qquad\\text{(q.e.d.)} \\end{align}$$\n"
   ]
  },
  {
   "cell_type": "code",
   "execution_count": null,
   "metadata": {},
   "outputs": [],
   "source": []
  }
 ],
 "metadata": {
  "kernelspec": {
   "display_name": "Python 3",
   "language": "python",
   "name": "python3"
  },
  "language_info": {
   "codemirror_mode": {
    "name": "ipython",
    "version": 3
   },
   "file_extension": ".py",
   "mimetype": "text/x-python",
   "name": "python",
   "nbconvert_exporter": "python",
   "pygments_lexer": "ipython3",
   "version": "3.6.3"
  }
 },
 "nbformat": 4,
 "nbformat_minor": 2
}
