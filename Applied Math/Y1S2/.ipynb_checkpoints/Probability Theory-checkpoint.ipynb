{
 "cells": [
  {
   "cell_type": "code",
   "execution_count": 1,
   "metadata": {},
   "outputs": [
    {
     "name": "stdout",
     "output_type": "stream",
     "text": [
      "Populating the interactive namespace from numpy and matplotlib\n"
     ]
    }
   ],
   "source": [
    "%pylab inline\n",
    "import numpy as np\n",
    "import matplotlib\n",
    "import math"
   ]
  },
  {
   "cell_type": "markdown",
   "metadata": {},
   "source": [
    "# Probability Theory"
   ]
  },
  {
   "cell_type": "markdown",
   "metadata": {},
   "source": [
    "## Week 1\n",
    "\n",
    "**Topics:** Random sampling, permutations, combinations.\n",
    "\n",
    "**Problems:** 3.1, 3.3, 3.4, 3.5, 3.6, additional problem set 1."
   ]
  },
  {
   "cell_type": "markdown",
   "metadata": {},
   "source": [
    "### Random sampling\n",
    "\n",
    "Taking a random sample can be done in different ways:\n",
    "\n",
    "||With replacement|Without replacement|\n",
    "|---|---|---|\n",
    "|**With order**|$n^k$|$n!, \\quad k \\leq n$|\n",
    "|**Without order**|$\\begin{pmatrix}n+k-1\\\\k\\end{pmatrix}$|$\\begin{pmatrix}n\\\\k\\end{pmatrix}$|\n",
    "\n",
    "This leads to four different cases which will be addressed seperately."
   ]
  },
  {
   "cell_type": "markdown",
   "metadata": {},
   "source": [
    "### Permutations"
   ]
  },
  {
   "cell_type": "markdown",
   "metadata": {},
   "source": [
    "The general formula for permutations is:\n",
    "\n",
    "$$ _nP_k = \\dfrac{n!}{(n-k)!}$$"
   ]
  },
  {
   "cell_type": "markdown",
   "metadata": {},
   "source": [
    "#### With replacement"
   ]
  },
  {
   "cell_type": "markdown",
   "metadata": {},
   "source": [
    "#### Without replacement"
   ]
  },
  {
   "cell_type": "markdown",
   "metadata": {},
   "source": [
    "### Combinations"
   ]
  },
  {
   "cell_type": "markdown",
   "metadata": {},
   "source": [
    "The general formula for combinations is:\n",
    "\n",
    "$$ _nC_k=\\dfrac{n!}{k!(n-k)!} = \\begin{pmatrix}n\\\\k\\end{pmatrix}$$"
   ]
  },
  {
   "cell_type": "markdown",
   "metadata": {},
   "source": [
    "#### With replacement"
   ]
  },
  {
   "cell_type": "markdown",
   "metadata": {},
   "source": [
    "#### Without replacement"
   ]
  },
  {
   "cell_type": "markdown",
   "metadata": {},
   "source": [
    "## Week 2\n",
    "\n",
    "**Topics**: Probability definitions, probability rules, grid chart.\n",
    "\n",
    "**Problems:** 3.7, 3.8, 3.10, additional problem set 2."
   ]
  },
  {
   "cell_type": "markdown",
   "metadata": {},
   "source": [
    "### Probability definitions"
   ]
  },
  {
   "cell_type": "markdown",
   "metadata": {},
   "source": [
    "#### Probability experiment\n",
    "\n",
    "There are different examples of probability experiments:\n",
    "\n",
    "1. One throw with a dice\n",
    "2. Two throws with a dice\n",
    "3. One throw with a coin\n",
    "4. Pulling two cards from a deck of cards"
   ]
  },
  {
   "cell_type": "markdown",
   "metadata": {},
   "source": [
    "#### Sample space\n",
    "\n",
    "The sample space $\\Omega$ are all the possible outcomes for a probability experiment. For the above given examples this gives:\n",
    "\n",
    "1. $S=\\{1,2,3,4,5,6\\}$\n",
    "2. $S=\\{(a,b):a,b \\in \\{1,2,3,4,5,6\\}\\}$\n",
    "3. $S=\\{H,T\\}$\n",
    "4. $S=\\{(a,b):a,b \\in \\{1,\\ldots,52\\}\\}$"
   ]
  },
  {
   "cell_type": "markdown",
   "metadata": {},
   "source": [
    "#### Event\n",
    "\n",
    "An event is a subset of $\\Omega$.\n",
    "\n",
    "1. Throwing an even number, $A=\\{2,4,6\\}$\n",
    "2. Throwing the same dices, $A=\\{(1,1),(2,2),\\ldots,(6,6)\\}$\n",
    "3. Throwing heads, $A=\\{H\\}$\n",
    "4. Picking a heart A ($HA$) and club 2 ($C2$), $A=\\{(HA,C2),(C2,HA)\\}$"
   ]
  },
  {
   "cell_type": "markdown",
   "metadata": {},
   "source": [
    "#### Elementary event\n",
    "\n",
    "An elementary event $\\omega$ (also called atomic event) is exactly one element from $\\Omega$.\n",
    "\n",
    "For example (1) all the elementary events are: $\\{1\\}$, $\\{2\\}$, $\\{3\\}$, $\\{4\\}$, $\\{5\\}$, $\\{6\\}$."
   ]
  },
  {
   "cell_type": "markdown",
   "metadata": {},
   "source": [
    "#### Probability (axiomatic definition)\n",
    "\n",
    "For the probability function $P$ the following three axioms hold:\n",
    "\n",
    "1. $P(S)=1$\n",
    "2. $0\\leq P(A) \\leq 1$\n",
    "3. $P(A \\cap B) = P(A)+P(B)-P(A \\cap B)$, where $P(A \\cap B) = 0$ if and only if $A \\cap B = \\emptyset$."
   ]
  },
  {
   "cell_type": "markdown",
   "metadata": {},
   "source": [
    "#### Probability space\n",
    "\n",
    "A probability space consists of the following:\n",
    "\n",
    "1. A sample space $\\Omega$ which are all the possible outcomes for the experiment.\n",
    "2. A set of events, where each event is a set containing zero or more outcomes.\n",
    "3. The assigment of probabilities to the events; that is, a function $P$ from events to probabilities.\n",
    "\n",
    "With this we can determine the probability for an event $A$:\n",
    "\n",
    "$$P(A) = \\dfrac{n_a}{n_\\Omega}$$\n",
    "\n",
    "Where $n_a$ are the favorable outcomes and $n_\\Omega$ are all the possible outcomes."
   ]
  },
  {
   "cell_type": "markdown",
   "metadata": {},
   "source": [
    "### Probability rules"
   ]
  },
  {
   "cell_type": "markdown",
   "metadata": {},
   "source": [
    "Now we establish a few rules for probabilites. Later on when we cover conditional probilities we will add a few more rules to the list.\n",
    "\n",
    "#### Sum rule\n",
    "\n",
    "$P(A \\cup B) = P(A)+P(B)-P(A \\cap B)$ where $P(A \\cap B) = 0$ if and only if $A \\cap B = \\emptyset$.\n",
    "\n",
    "#### Complement rule\n",
    "\n",
    "We can define this as $P(A) + P(\\bar{A}) = P(S) = 1$. We use this to infer that $P(A) = 1-P(\\bar{A})$. This is particularly useful because most of the times it is a lot easier to figure out what $P(\\bar{A})$ is, and then use the complement rule to determine the probability of $P(A)$."
   ]
  },
  {
   "cell_type": "markdown",
   "metadata": {},
   "source": [
    "### Grid chart\n",
    "\n",
    "A grid chart is useful to visualize conditions.\n",
    "\n",
    "For example, suppose we want to throw $2$ dices, and we multiply the outcome. What is the probability that the result is greater than $20$?\n",
    "\n",
    "![Grid chart](grid-example.png)\n",
    "\n",
    "Using the grid chart it is easy to see that:\n",
    "\n",
    "$$P(x>20) = \\frac{6}{6^2} = \\frac{1}{6}$$"
   ]
  },
  {
   "cell_type": "markdown",
   "metadata": {},
   "source": [
    "## Week 3\n",
    "\n",
    "**Topics:** Conditional probability, independence, product rule, sampling with replacement, sampling without replacement, probability tree.\n",
    "\n",
    "**Problems:** 3.2, 3.12, 3.13, 3.14, 3.15, 3.16, additional problem set 3."
   ]
  },
  {
   "cell_type": "markdown",
   "metadata": {},
   "source": [
    "### Conditional probability"
   ]
  },
  {
   "cell_type": "markdown",
   "metadata": {},
   "source": [
    "A conditional probability gives more information about the possible outcome space, which is defined as:\n",
    "\n",
    "$$P(A|B) = \\dfrac{P(A \\cap B)}{P(B)} ,\\quad P(B)>0$$"
   ]
  },
  {
   "cell_type": "markdown",
   "metadata": {},
   "source": [
    "### Indepence"
   ]
  },
  {
   "cell_type": "markdown",
   "metadata": {},
   "source": [
    "If $P(A|B)=P(A)$ then the events $A$ and $B$ are independent."
   ]
  },
  {
   "cell_type": "markdown",
   "metadata": {},
   "source": [
    "### Product rule"
   ]
  },
  {
   "cell_type": "markdown",
   "metadata": {},
   "source": [
    "The general product rule is:\n",
    "\n",
    "$$ P(A \\cap B) = P(A|B) \\cdot P(B) = P(B|A) \\cdot P(A) $$\n",
    "\n",
    "In the case that $A$ and $B$ are independent, we use:\n",
    "\n",
    "$$ P(A \\cap B) = P(A) \\cdot P(B)$$"
   ]
  },
  {
   "cell_type": "markdown",
   "metadata": {},
   "source": [
    "### Probability rules"
   ]
  },
  {
   "cell_type": "markdown",
   "metadata": {},
   "source": [
    "With the addition of above rules, we now have the following rules for probabilities:\n",
    "\n",
    "1. $P(\\Omega)=1$, sample space has a probability of 1.\n",
    "2. $P(\\emptyset)=0$, an empty set has a probability of 0.\n",
    "3. $P(A)=1-P(\\bar{A})$, complement rule.\n",
    "4. $P(A\\cup B)=P(A)+P(B)-P(A\\cap B)$, sum rule.\n",
    "5. $P(A\\cup B)=P(A)+P(B)$, if and only if $A\\cap B=\\emptyset$.\n",
    "6. $P(A\\cap B)=P(A|B)\\cdot P(B)$, product rule.\n",
    "7. $P(A\\cap B)=P(A)\\cdot P(B)$, if and only if $A$ and $B$ are independent."
   ]
  },
  {
   "cell_type": "markdown",
   "metadata": {},
   "source": [
    "### Sampling with replacement"
   ]
  },
  {
   "cell_type": "markdown",
   "metadata": {},
   "source": [
    "### Sampling without replacement"
   ]
  },
  {
   "cell_type": "markdown",
   "metadata": {},
   "source": [
    "### Probability tree"
   ]
  },
  {
   "cell_type": "markdown",
   "metadata": {},
   "source": [
    "## Week 4\n",
    "\n",
    "**Topics:** Bayes rule.\n",
    "\n",
    "**Problems:** 3.9, 3.11, 3.17 till 3.31."
   ]
  },
  {
   "cell_type": "markdown",
   "metadata": {},
   "source": [
    "### Bayes rule"
   ]
  },
  {
   "cell_type": "markdown",
   "metadata": {},
   "source": [
    "**General case**\n",
    "\n",
    "The general use case for Bayes rule is:\n",
    "\n",
    "$$ P(A|B) = \\dfrac{P(A) \\cdot P(B|A)}{P(A)\\cdot P(B|A) + P(\\bar{A})\\cdot P(B|\\bar{A})} $$\n",
    "\n",
    "We can use this to determine out $P(A|B)$ if only $P(B|A)$ is known.\n",
    "\n",
    "**Definition**\n",
    "\n",
    "The rule of Bayes is defined as:\n",
    "\n",
    "$$ P(A_i|B) = \\dfrac{P(A_i)\\cdot P(B|A_i)}{\\sum\\left[P(A_i)\\cdot P(B|A_i)\\right]}$$\n",
    "\n",
    "such that the following holds:\n",
    "\n",
    "1. $A_i \\cap A_j = \\emptyset $, the intersection must be disjunct.\n",
    "2. $\\cup A_i = \\Omega$, the union of $A$ is $\\Omega$."
   ]
  },
  {
   "cell_type": "code",
   "execution_count": null,
   "metadata": {},
   "outputs": [],
   "source": []
  }
 ],
 "metadata": {
  "kernelspec": {
   "display_name": "Python 3",
   "language": "python",
   "name": "python3"
  },
  "language_info": {
   "codemirror_mode": {
    "name": "ipython",
    "version": 3
   },
   "file_extension": ".py",
   "mimetype": "text/x-python",
   "name": "python",
   "nbconvert_exporter": "python",
   "pygments_lexer": "ipython3",
   "version": "3.6.3"
  }
 },
 "nbformat": 4,
 "nbformat_minor": 2
}
