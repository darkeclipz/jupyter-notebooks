{
 "cells": [
  {
   "cell_type": "code",
   "execution_count": 1,
   "metadata": {},
   "outputs": [
    {
     "name": "stdout",
     "output_type": "stream",
     "text": [
      "Populating the interactive namespace from numpy and matplotlib\n"
     ]
    }
   ],
   "source": [
    "%pylab inline\n",
    "import numpy as np\n",
    "import matplotlib\n",
    "import math"
   ]
  },
  {
   "cell_type": "markdown",
   "metadata": {},
   "source": [
    "# Vector Geometry"
   ]
  },
  {
   "cell_type": "markdown",
   "metadata": {},
   "source": [
    "## Week 1 (Vectors)\n",
    "\n",
    "**Topics:** Vector between two points, vector equation of a line, vector equation to slope-intercept form ($y=mx+b$), slope-intercept form to vector equation. "
   ]
  },
  {
   "cell_type": "markdown",
   "metadata": {},
   "source": [
    "### Vector between two points"
   ]
  },
  {
   "cell_type": "markdown",
   "metadata": {},
   "source": [
    "Suppose we have a point $\\vec{a} = \\begin{pmatrix}a_1\\\\a_2\\end{pmatrix}$ and a point $\\vec{b} = \\begin{pmatrix}b_1\\\\b_2\\end{pmatrix}$, we can obtain a vector $\\vec{AB}$ by subtracting $\\vec{b}-\\vec{a} = \\begin{pmatrix}b_1-a_1\\\\b_2-a_2\\end{pmatrix}$."
   ]
  },
  {
   "cell_type": "markdown",
   "metadata": {},
   "source": [
    "### Vector equation of a line"
   ]
  },
  {
   "cell_type": "markdown",
   "metadata": {},
   "source": [
    "We can write a line as a vector equation in the form of $\\vec{x}=\\begin{pmatrix}s_1\\\\s_2\\end{pmatrix}+\\lambda\\begin{pmatrix}m_1\\\\m_2\\end{pmatrix}$. Where $s$ indicates the support vector, and $m$ the direction vector."
   ]
  },
  {
   "cell_type": "markdown",
   "metadata": {},
   "source": [
    "### Slope-intercept form to vector equation"
   ]
  },
  {
   "cell_type": "markdown",
   "metadata": {},
   "source": [
    "### Vector equation to slope-intercept form"
   ]
  },
  {
   "cell_type": "markdown",
   "metadata": {},
   "source": [
    "Suppose we have a vector equation $\\begin{pmatrix}x\\\\y\\end{pmatrix}=\\begin{pmatrix}1\\\\2\\end{pmatrix}+\\lambda\\begin{pmatrix}-3\\\\2\\end{pmatrix}$, and we want to rewrite it in slope-intercept form $y=mx+b$, we can do this in two ways:"
   ]
  },
  {
   "cell_type": "markdown",
   "metadata": {},
   "source": [
    "#### Method 1\n",
    "\n",
    "Write it as a system of linear equations, and eliminate $\\lambda$:\n",
    "\n",
    "$$\\begin{pmatrix}x\\\\y\\end{pmatrix}=\\begin{pmatrix}1\\\\2\\end{pmatrix}+\\lambda\\begin{pmatrix}-3\\\\2\\end{pmatrix} \\iff \\begin{cases}x=1-3\\lambda\\\\y=2+2\\lambda\\end{cases} \\iff \\begin{cases}2x=2-6\\lambda\\\\3y=6+6\\lambda\\end{cases} \\iff 2x+3y=8\\iff y=\\frac{8}{3}-\\frac{2}{3}x$$"
   ]
  },
  {
   "cell_type": "markdown",
   "metadata": {},
   "source": [
    "#### Method 2\n",
    "\n",
    "Determine the slope and write it in point-slope form:\n",
    "\n",
    "With the direction vector $\\begin{pmatrix}-3\\\\2\\end{pmatrix}$ we can determine that the slope is $-\\frac{2}{3}$. A point on the line is the support vector $\\begin{pmatrix}1\\\\2\\end{pmatrix}$. Using point-slope form:\n",
    "\n",
    "$$(y-y_1)=m(x-x_1) \\implies (y-2)=-\\frac{2}{3}(x-1) \\iff y=\\frac{8}{3}-\\frac{2}{3}x$$"
   ]
  },
  {
   "cell_type": "markdown",
   "metadata": {},
   "source": [
    "## Week 2 (Lines)\n",
    "\n",
    "**Topics:** Parallel lines, parallel line equation, intersection of two lines."
   ]
  },
  {
   "cell_type": "markdown",
   "metadata": {},
   "source": [
    "### Parallel lines"
   ]
  },
  {
   "cell_type": "markdown",
   "metadata": {},
   "source": [
    "### Parallel line equation"
   ]
  },
  {
   "cell_type": "markdown",
   "metadata": {},
   "source": [
    "### Intersection of two lines"
   ]
  },
  {
   "cell_type": "markdown",
   "metadata": {},
   "source": [
    "**General case**\n",
    "\n",
    "If we have two lines in standard form:\n",
    "\n",
    "$$\\begin{cases}a_1x+b_1y=c_1\\\\a_2x+b_2y=c_2\\end{cases} \\iff \\begin{pmatrix}a_1&b_1&c_1\\\\a_2&b_2&c_2\\end{pmatrix} \\iff \\begin{pmatrix}\\dfrac{a_1}{a_1}&\\dfrac{b_1}{a_1}&\\dfrac{c_1}{a_1}\\\\a_2-a_2&b_2-\\dfrac{a_2b_1}{a_2}&c_2-\\dfrac{a_2c_1}{a_1}\\end{pmatrix}\\iff \\begin{pmatrix}1&\\dfrac{b_1}{a_1}&\\dfrac{c_1}{a_1}\\\\0&b_2-\\dfrac{a_2b_1}{a_2}&c_2-\\dfrac{a_2c_1}{a_1}\\end{pmatrix}$$\n",
    "\n",
    "Now we can solve for $y$, which is:\n",
    "\n",
    "$$y = \\dfrac{c_2 - \\dfrac{a_2c_1}{a_1}}{b_2-\\dfrac{a_2b_1}{a_1}} \\iff y = \\dfrac{a_1c_2-a_2c_1}{a_1b_2-a_2b_1}$$\n",
    "\n",
    "To find $x$, we substitute $y$ into:\n",
    "\n",
    "$$x + b_1y = c_1 \\iff x = c_1-b_1y$$\n",
    "\n",
    "We now have a general formula to find the intersection of any two given lines in standard form by solving $y=\\dfrac{a_1c_2-a_2c_1}{a_1b_2-a_2b_1}$ and $x=c_1-b_1y$."
   ]
  },
  {
   "cell_type": "markdown",
   "metadata": {},
   "source": [
    "**Code**"
   ]
  },
  {
   "cell_type": "code",
   "execution_count": 2,
   "metadata": {},
   "outputs": [],
   "source": [
    "\"\"\" \n",
    "Finds the intersection between two lines in standard form (ax+by=c)\n",
    "\n",
    "Input are two tuples in the form of (a,b,c)\n",
    "Output is a point (x,y) where there is an intersection\n",
    "\"\"\"\n",
    "def intersection(l,m):\n",
    "    # Unpacking\n",
    "    a1,b1,c1 = (l[0],l[1],l[2])\n",
    "    a2,b2,c2 = (m[0],m[1],m[2])\n",
    "    \n",
    "    # Check if the determinant is non-zero so there actually is a solution.\n",
    "    if a1 * b2 - a2 * b1 == 0:\n",
    "        raise ValueError(\"Determinant is zero, no solution.\")\n",
    "        \n",
    "    # Solve for y by a pivot on x1\n",
    "    y = (a1 * c2 - a2 * c1) / (a1 * b2 - a2 * b1)\n",
    "    \n",
    "    # Solve for x with back-substitution\n",
    "    x = c1 - b1 * y\n",
    "    return (x,y)"
   ]
  },
  {
   "cell_type": "markdown",
   "metadata": {},
   "source": [
    "Now we can easily solve for $l : x+6y=2$ and $m : x+11y=9$."
   ]
  },
  {
   "cell_type": "code",
   "execution_count": 3,
   "metadata": {},
   "outputs": [
    {
     "data": {
      "text/plain": [
       "(-6.399999999999999, 1.4)"
      ]
     },
     "execution_count": 3,
     "metadata": {},
     "output_type": "execute_result"
    }
   ],
   "source": [
    "(x,y) = intersection((1,6,2), (1,11,9))\n",
    "x,y"
   ]
  },
  {
   "cell_type": "markdown",
   "metadata": {},
   "source": [
    "Which we can verify:"
   ]
  },
  {
   "cell_type": "code",
   "execution_count": 4,
   "metadata": {},
   "outputs": [
    {
     "data": {
      "text/plain": [
       "True"
      ]
     },
     "execution_count": 4,
     "metadata": {},
     "output_type": "execute_result"
    }
   ],
   "source": [
    "(x + 6*y - 2) == (x + 11*y - 9)"
   ]
  },
  {
   "cell_type": "code",
   "execution_count": 31,
   "metadata": {},
   "outputs": [
    {
     "data": {
      "image/png": "[encoded data removed]",
      "text/plain": [
       "<matplotlib.figure.Figure at 0x242cc928780>"
      ]
     },
     "metadata": {},
     "output_type": "display_data"
    }
   ],
   "source": [
    "points = np.arange(-10,1,0.1)\n",
    "plot(points, [(2-x)/6 for x in points], c='b')\n",
    "plot(points, [(9-x)/11 for x in points], c='lightblue')\n",
    "scatter(x,y, c='black')\n",
    "grid()\n",
    "legend(['x+6y=2','x+11y=9','(-6.39, 1.4)']);"
   ]
  },
  {
   "cell_type": "markdown",
   "metadata": {},
   "source": [
    "When there is no solution the method will raise an exception."
   ]
  },
  {
   "cell_type": "code",
   "execution_count": 5,
   "metadata": {
    "scrolled": true
   },
   "outputs": [
    {
     "name": "stdout",
     "output_type": "stream",
     "text": [
      "Determinant is zero, no solution.\n"
     ]
    }
   ],
   "source": [
    "try:\n",
    "    intersection((2,2,6), (1,1,9))\n",
    "except ValueError as e:\n",
    "    print(e)"
   ]
  },
  {
   "cell_type": "markdown",
   "metadata": {},
   "source": [
    "## Week 3 (Length, angle, inner product)\n",
    "\n",
    "**Topics:** Length of a vector, distance between two points, angle between two vectors, inner product (dot product), standard form of a line, standard form of a line through a point, vector equation to standard form and reversed."
   ]
  },
  {
   "cell_type": "markdown",
   "metadata": {},
   "source": [
    "### Length of a vector"
   ]
  },
  {
   "cell_type": "markdown",
   "metadata": {},
   "source": [
    "For any vector $\\vec{u}$ we can calculate the length with pythagorean theorem:\n",
    "\n",
    "$$\\vec{u}_{length} = \\sqrt{u_1^2+u_2^2}$$"
   ]
  },
  {
   "cell_type": "markdown",
   "metadata": {},
   "source": [
    "**Code**"
   ]
  },
  {
   "cell_type": "code",
   "execution_count": 6,
   "metadata": {},
   "outputs": [],
   "source": [
    "def length(u):\n",
    "    return math.sqrt(u[0]**2 + u[1]**2)"
   ]
  },
  {
   "cell_type": "markdown",
   "metadata": {},
   "source": [
    "If we try this for the pythagorean triplet $3^2 + 4^2 = 5^2$:"
   ]
  },
  {
   "cell_type": "code",
   "execution_count": 7,
   "metadata": {},
   "outputs": [
    {
     "data": {
      "text/plain": [
       "5.0"
      ]
     },
     "execution_count": 7,
     "metadata": {},
     "output_type": "execute_result"
    }
   ],
   "source": [
    "length((3,4))"
   ]
  },
  {
   "cell_type": "markdown",
   "metadata": {},
   "source": [
    "### Distance between two points"
   ]
  },
  {
   "cell_type": "markdown",
   "metadata": {},
   "source": [
    "For two points $A$ and $B$, we can determine the distance which is the length of $\\vec{AB}$:\n",
    "\n",
    "$$d(A,B)=\\sqrt{\\left(b_1-a_1\\right)^2+\\left(b_2-a_2\\right)^2}$$"
   ]
  },
  {
   "cell_type": "markdown",
   "metadata": {},
   "source": [
    "**Code**"
   ]
  },
  {
   "cell_type": "code",
   "execution_count": 8,
   "metadata": {},
   "outputs": [],
   "source": [
    "def distance(a,b):\n",
    "    return math.sqrt((b[0]-a[0])**2+(b[1]-a[1])**2)"
   ]
  },
  {
   "cell_type": "code",
   "execution_count": 9,
   "metadata": {},
   "outputs": [
    {
     "data": {
      "text/plain": [
       "5.0"
      ]
     },
     "execution_count": 9,
     "metadata": {},
     "output_type": "execute_result"
    }
   ],
   "source": [
    "distance((4,0),(0,3))"
   ]
  },
  {
   "cell_type": "markdown",
   "metadata": {},
   "source": [
    "### Inner product (dot product)"
   ]
  },
  {
   "cell_type": "markdown",
   "metadata": {},
   "source": [
    "For two vectors $\\vec{u}$ and $\\vec{v}$ the inner product (dot product) is defined as:\n",
    "\n",
    "$$ \\vec{u} \\cdot \\vec{v} = u_1v_1+u_2v_2 $$\n",
    "\n",
    "When two vectors are perpendicular to each other the angle $\\phi$ is $90^\\circ$ and the inner product is $0$.\n",
    "\n",
    "$$ \\vec{u} \\cdot \\vec{v} = 0 \\iff \\phi = 90^\\circ \\iff \\vec{u} \\perp \\vec{v} ,\\qquad  \\vec{u}, \\vec{v} \\not= \\vec{0}$$"
   ]
  },
  {
   "cell_type": "markdown",
   "metadata": {},
   "source": [
    "**Code**"
   ]
  },
  {
   "cell_type": "code",
   "execution_count": 10,
   "metadata": {},
   "outputs": [],
   "source": [
    "def dot(u,v):\n",
    "    return u[0]*v[0]+u[1]*v[1]"
   ]
  },
  {
   "cell_type": "code",
   "execution_count": 11,
   "metadata": {},
   "outputs": [
    {
     "data": {
      "text/plain": [
       "0"
      ]
     },
     "execution_count": 11,
     "metadata": {},
     "output_type": "execute_result"
    }
   ],
   "source": [
    "dot((5,5),(5,-5))"
   ]
  },
  {
   "cell_type": "markdown",
   "metadata": {},
   "source": [
    "### Angle between two vectors"
   ]
  },
  {
   "cell_type": "markdown",
   "metadata": {},
   "source": [
    "For two vectors $\\vec{u}$ and $\\vec{v}$ we can calculate the angle $\\phi$:\n",
    "\n",
    "$$ \\phi = \\cos^{-1}\\left(\\frac{\\vec{u}\\cdot\\vec{v}}{\\left|\\left|\\vec{u}\\right|\\right|\\cdot\\left|\\left|\\vec{v}\\right|\\right|} \\right)$$"
   ]
  },
  {
   "cell_type": "markdown",
   "metadata": {},
   "source": [
    "**Graph of $\\cos^{-1}$**"
   ]
  },
  {
   "cell_type": "code",
   "execution_count": 12,
   "metadata": {},
   "outputs": [
    {
     "data": {
      "image/png": "[encoded data removed]",
      "text/plain": [
       "<matplotlib.figure.Figure at 0x242ca64bf60>"
      ]
     },
     "metadata": {},
     "output_type": "display_data"
    }
   ],
   "source": [
    "points = np.arange(-1,1.0,0.01)\n",
    "plot(points, [math.acos(x) for x in points], c='b', lw=2);\n",
    "grid()"
   ]
  },
  {
   "cell_type": "markdown",
   "metadata": {},
   "source": [
    "**Code**"
   ]
  },
  {
   "cell_type": "code",
   "execution_count": 13,
   "metadata": {},
   "outputs": [],
   "source": [
    "def angle(u,v):\n",
    "    return math.acos(dot(u,v) / (length(u) * length(v)))"
   ]
  },
  {
   "cell_type": "code",
   "execution_count": 14,
   "metadata": {},
   "outputs": [
    {
     "data": {
      "text/plain": [
       "90.0"
      ]
     },
     "execution_count": 14,
     "metadata": {},
     "output_type": "execute_result"
    }
   ],
   "source": [
    "angle((5,5),(5,-5)) * (180 / math.pi) # Python uses radians by default, the output is in degrees."
   ]
  },
  {
   "cell_type": "markdown",
   "metadata": {},
   "source": [
    "### Standard form of a line"
   ]
  },
  {
   "cell_type": "markdown",
   "metadata": {},
   "source": [
    "### Standard form of a line through a point"
   ]
  },
  {
   "cell_type": "markdown",
   "metadata": {},
   "source": [
    "If we have the normal of a line and we know a point $P$, we can get a standard equation for the line through point $P$ with:\n",
    "\n",
    "$$ \\vec{n}\\cdot\\vec{x} = \\vec{n}\\cdot\\vec{p}$$"
   ]
  },
  {
   "cell_type": "markdown",
   "metadata": {},
   "source": [
    "### Vector equation to standard form and back"
   ]
  },
  {
   "cell_type": "markdown",
   "metadata": {},
   "source": [
    "## Week 4 (Geometry)\n",
    "\n",
    "**Topics:** Angle between two lines, distance from a point to a line, two parallel lines, orthocenter, centroid, circumcenter."
   ]
  },
  {
   "cell_type": "markdown",
   "metadata": {},
   "source": [
    "### Angle between two lines"
   ]
  },
  {
   "cell_type": "markdown",
   "metadata": {},
   "source": [
    "### Distance from a point to a line"
   ]
  },
  {
   "cell_type": "markdown",
   "metadata": {},
   "source": [
    "### Two parallel lines"
   ]
  },
  {
   "cell_type": "markdown",
   "metadata": {},
   "source": [
    "### Orthocenter"
   ]
  },
  {
   "cell_type": "markdown",
   "metadata": {},
   "source": [
    "### Centroid"
   ]
  },
  {
   "cell_type": "markdown",
   "metadata": {},
   "source": [
    "### Circumcenter"
   ]
  }
 ],
 "metadata": {
  "kernelspec": {
   "display_name": "Python 3",
   "language": "python",
   "name": "python3"
  },
  "language_info": {
   "codemirror_mode": {
    "name": "ipython",
    "version": 3
   },
   "file_extension": ".py",
   "mimetype": "text/x-python",
   "name": "python",
   "nbconvert_exporter": "python",
   "pygments_lexer": "ipython3",
   "version": "3.6.3"
  }
 },
 "nbformat": 4,
 "nbformat_minor": 2
}
