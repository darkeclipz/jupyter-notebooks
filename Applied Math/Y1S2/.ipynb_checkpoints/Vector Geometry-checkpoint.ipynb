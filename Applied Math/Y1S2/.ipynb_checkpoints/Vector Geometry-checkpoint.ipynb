{
 "cells": [
  {
   "cell_type": "code",
   "execution_count": 185,
   "metadata": {},
   "outputs": [],
   "source": [
    "%matplotlib inline\n",
    "import numpy as np\n",
    "import math"
   ]
  },
  {
   "cell_type": "markdown",
   "metadata": {},
   "source": [
    "# Vector Geometry"
   ]
  },
  {
   "cell_type": "markdown",
   "metadata": {},
   "source": [
    "## Week 1 (Vectors)\n",
    "\n",
    "**Topics:** Vector between two points, vector equation of a line, vector equation to slope-intercept form ($y=mx+b$), slope-intercept form to vector equation. "
   ]
  },
  {
   "cell_type": "markdown",
   "metadata": {},
   "source": [
    "### Vector between two points"
   ]
  },
  {
   "cell_type": "markdown",
   "metadata": {},
   "source": [
    "Suppose we have a point $\\vec{a} = \\begin{pmatrix}a_1\\\\a_2\\end{pmatrix}$ and a point $\\vec{b} = \\begin{pmatrix}b_1\\\\b_2\\end{pmatrix}$, we can obtain a vector $\\vec{AB}$ by subtracting $\\vec{b}-\\vec{a} = \\begin{pmatrix}b_1-a_1\\\\b_2-a_2\\end{pmatrix}$."
   ]
  },
  {
   "cell_type": "markdown",
   "metadata": {},
   "source": [
    "### Vector equation of a line"
   ]
  },
  {
   "cell_type": "markdown",
   "metadata": {},
   "source": [
    "We can write a line as a vector equation in the form of $\\vec{x}=\\begin{pmatrix}s_1\\\\s_2\\end{pmatrix}+\\lambda\\begin{pmatrix}m_1\\\\m_2\\end{pmatrix}$. Where $s$ indicates the support vector, and $m$ the directional vector."
   ]
  },
  {
   "cell_type": "markdown",
   "metadata": {},
   "source": [
    "### Slope-intercept form to vector equation"
   ]
  },
  {
   "cell_type": "markdown",
   "metadata": {},
   "source": [
    "### Vector equation to slope-intercept form"
   ]
  },
  {
   "cell_type": "markdown",
   "metadata": {},
   "source": [
    "Suppose we have a vector equation $\\begin{pmatrix}x\\\\y\\end{pmatrix}=\\begin{pmatrix}1\\\\2\\end{pmatrix}+\\lambda\\begin{pmatrix}-3\\\\2\\end{pmatrix}$, and we want to rewrite it in slope-intercept form $y=mx+b$, we can do this in two ways:"
   ]
  },
  {
   "cell_type": "markdown",
   "metadata": {},
   "source": [
    "#### Method 1\n",
    "\n",
    "Write it as a system of linear equations, and eliminate $\\lambda$:\n",
    "\n",
    "$$\\begin{pmatrix}x\\\\y\\end{pmatrix}=\\begin{pmatrix}1\\\\2\\end{pmatrix}+\\lambda\\begin{pmatrix}-3\\\\2\\end{pmatrix} \\iff \\begin{cases}x=1-3\\lambda\\\\y=2+2\\lambda\\end{cases} \\iff \\begin{cases}2x=2-6\\lambda\\\\3y=6+6\\lambda\\end{cases} \\iff 2x+3y=8\\iff y=\\frac{8}{3}-\\frac{2}{3}x$$"
   ]
  },
  {
   "cell_type": "markdown",
   "metadata": {},
   "source": [
    "#### Method 2\n",
    "\n",
    "Determine the slope and write it in point-slope form:\n",
    "\n",
    "With the directional vector $\\begin{pmatrix}-3\\\\2\\end{pmatrix}$ we can determine that the slope is $-\\frac{2}{3}$. A point on the line is the support vector $\\begin{pmatrix}1\\\\2\\end{pmatrix}$. Using point-slope form:\n",
    "\n",
    "$$(y-y_1)=m(x-x_1) \\implies (y-2)=-\\frac{2}{3}(x-1) \\iff y=\\frac{8}{3}-\\frac{2}{3}x$$"
   ]
  },
  {
   "cell_type": "markdown",
   "metadata": {},
   "source": [
    "## Week 2 (Lines)\n",
    "\n",
    "**Topics:** Parallel lines, parallel line equation, intersection of two lines."
   ]
  },
  {
   "cell_type": "markdown",
   "metadata": {},
   "source": [
    "### Parallel lines"
   ]
  },
  {
   "cell_type": "markdown",
   "metadata": {},
   "source": [
    "### Parallel line equation"
   ]
  },
  {
   "cell_type": "markdown",
   "metadata": {},
   "source": [
    "### Intersection of two lines"
   ]
  },
  {
   "cell_type": "markdown",
   "metadata": {},
   "source": [
    "## Week 3 (Length, angle, inner product)\n",
    "\n",
    "**Topics:** Length of a vector, distance between two points, angle between two vectors, inner product (dot product), standard form of a line, standard form of a line through a point, vector equation to standard form and reversed."
   ]
  },
  {
   "cell_type": "markdown",
   "metadata": {},
   "source": [
    "### Length of a vector"
   ]
  },
  {
   "cell_type": "markdown",
   "metadata": {},
   "source": [
    "For any vector $\\vec{u}$ we can calculate the length with pythagorean theorem:\n",
    "\n",
    "$$\\vec{u}_{length} = \\sqrt{u_1^2+u_2^2}$$"
   ]
  },
  {
   "cell_type": "markdown",
   "metadata": {},
   "source": [
    "**Code**"
   ]
  },
  {
   "cell_type": "code",
   "execution_count": 194,
   "metadata": {},
   "outputs": [],
   "source": [
    "def length(u):\n",
    "    return math.sqrt(u[0]**2 + u[1]**2)"
   ]
  },
  {
   "cell_type": "markdown",
   "metadata": {},
   "source": [
    "If we try this for the pythagorean triplet $3^2 + 4^2 = 5^2$:"
   ]
  },
  {
   "cell_type": "code",
   "execution_count": 196,
   "metadata": {},
   "outputs": [
    {
     "data": {
      "text/plain": [
       "5.0"
      ]
     },
     "execution_count": 196,
     "metadata": {},
     "output_type": "execute_result"
    }
   ],
   "source": [
    "length((3,4))"
   ]
  },
  {
   "cell_type": "markdown",
   "metadata": {},
   "source": [
    "### Distance between two points"
   ]
  },
  {
   "cell_type": "markdown",
   "metadata": {},
   "source": [
    "For two points $A$ and $B$, we can determine the distance which is the length of $\\vec{AB}$:\n",
    "\n",
    "$$d(A,B)=\\sqrt{\\left(b_1-a_1\\right)^2+\\left(b_2-a_2\\right)^2}$$"
   ]
  },
  {
   "cell_type": "markdown",
   "metadata": {},
   "source": [
    "### Angle between two vectors"
   ]
  },
  {
   "cell_type": "markdown",
   "metadata": {},
   "source": [
    "For two vectors $\\vec{u}$ and $\\vec{v}$ we can calculate the angle $\\phi$:\n",
    "\n",
    "$$ \\phi = \\cos^{-1}\\left(\\frac{\\vec{u}\\cdot\\vec{v}}{\\left|\\left|\\vec{u}\\right|\\right|\\cdot\\left|\\left|\\vec{v}\\right|\\right|} \\right)$$"
   ]
  },
  {
   "cell_type": "markdown",
   "metadata": {},
   "source": [
    "### Inner product (dot product)"
   ]
  },
  {
   "cell_type": "markdown",
   "metadata": {},
   "source": [
    "For two vectors $\\vec{u}$ and $\\vec{v}$ the inner product (dot product) is defined as:\n",
    "\n",
    "$$ \\vec{u} \\cdot \\vec{v} = u_1v_1+u_2v_2 $$\n",
    "\n",
    "When two vectors are perpendicular to each other the angle $\\phi$ is $0$ and the inner product is also $0$.\n",
    "\n",
    "$$ \\vec{u} \\cdot \\vec{v} = 0 \\iff \\phi = 90^\\circ \\iff \\vec{u} \\perp \\vec{v} ,\\qquad  \\vec{u}, \\vec{v} \\not= \\vec{0}$$"
   ]
  },
  {
   "cell_type": "markdown",
   "metadata": {},
   "source": [
    "### Standard form of a line"
   ]
  },
  {
   "cell_type": "markdown",
   "metadata": {},
   "source": [
    "### Standard form of a line through a point"
   ]
  },
  {
   "cell_type": "markdown",
   "metadata": {},
   "source": [
    "If we have the normal of a line and we know a point $P$, we can get a standard equation for the line through point $P$ with:\n",
    "\n",
    "$$ \\vec{n}\\cdot\\vec{x} = \\vec{n}\\cdot\\vec{p}$$"
   ]
  },
  {
   "cell_type": "markdown",
   "metadata": {},
   "source": [
    "### Vector equation to standard form and back"
   ]
  },
  {
   "cell_type": "markdown",
   "metadata": {},
   "source": [
    "## Week 4 (Geometry)\n",
    "\n",
    "**Topics:** Angle between two lines, distance from a point to a line, two parallel lines, orthocenter, centroid, circumcenter."
   ]
  },
  {
   "cell_type": "markdown",
   "metadata": {},
   "source": [
    "### Angle between two lines"
   ]
  },
  {
   "cell_type": "markdown",
   "metadata": {},
   "source": [
    "### Distance from a point to a line"
   ]
  },
  {
   "cell_type": "markdown",
   "metadata": {},
   "source": [
    "### Two parallel lines"
   ]
  },
  {
   "cell_type": "markdown",
   "metadata": {},
   "source": [
    "### Orthocenter"
   ]
  },
  {
   "cell_type": "markdown",
   "metadata": {},
   "source": [
    "### Centroid"
   ]
  },
  {
   "cell_type": "markdown",
   "metadata": {},
   "source": [
    "### Circumcenter"
   ]
  }
 ],
 "metadata": {
  "kernelspec": {
   "display_name": "Python 3",
   "language": "python",
   "name": "python3"
  },
  "language_info": {
   "codemirror_mode": {
    "name": "ipython",
    "version": 3
   },
   "file_extension": ".py",
   "mimetype": "text/x-python",
   "name": "python",
   "nbconvert_exporter": "python",
   "pygments_lexer": "ipython3",
   "version": "3.6.3"
  }
 },
 "nbformat": 4,
 "nbformat_minor": 2
}
