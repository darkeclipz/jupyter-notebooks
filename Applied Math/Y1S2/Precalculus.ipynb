{
 "cells": [
  {
   "cell_type": "code",
   "execution_count": 1,
   "metadata": {},
   "outputs": [
    {
     "name": "stdout",
     "output_type": "stream",
     "text": [
      "Populating the interactive namespace from numpy and matplotlib\n"
     ]
    }
   ],
   "source": [
    "%pylab inline"
   ]
  },
  {
   "cell_type": "markdown",
   "metadata": {},
   "source": [
    "# Precalculus"
   ]
  },
  {
   "cell_type": "markdown",
   "metadata": {},
   "source": [
    "## Week 1\n",
    "\n",
    "**Topics:** Function definition, vertical line test, piecewise defined functions, domain and range, symmetry.\n",
    "\n",
    "**Problems:** 3, 7, 8, 9, 31, 32, 37, 38, 44, 46, 47, 48, 63, 69, 70, 73, 74, 77, additional problem set G."
   ]
  },
  {
   "cell_type": "markdown",
   "metadata": {},
   "source": [
    "### Function definition"
   ]
  },
  {
   "cell_type": "markdown",
   "metadata": {},
   "source": [
    "### Vertical line test"
   ]
  },
  {
   "cell_type": "markdown",
   "metadata": {},
   "source": [
    "### Piecewise defined functions"
   ]
  },
  {
   "cell_type": "markdown",
   "metadata": {},
   "source": [
    "A piecewise defined function is defined as:\n",
    "\n",
    "$$\\begin{align}f(x)=\\begin{cases}2x\\quad &, x > 1\\\\\n",
    "-x\\quad&, x \\leq 1\\end{cases}\\end{align}$$\n",
    "\n",
    "Now we can define the **absolute value** function $|\\ x \\ |$:\n",
    "\n",
    "$$\\begin{align}f(x) = |\\ x \\ |=\\begin{cases}x\\quad &, x > 0\\\\\n",
    "-x\\quad&, x < 0\\end{cases}\\end{align}$$"
   ]
  },
  {
   "cell_type": "markdown",
   "metadata": {},
   "source": [
    "### Domain and range"
   ]
  },
  {
   "cell_type": "markdown",
   "metadata": {},
   "source": [
    "### Symmetry"
   ]
  },
  {
   "cell_type": "markdown",
   "metadata": {},
   "source": [
    "## Week 2\n",
    "\n",
    "**Topics:** Polynomials, power functions, rational functions, trigonometric functions, exponential functions.\n",
    "\n",
    "**Problems:** 1, 2, 3, 6, 7, 10, 14, 17, 20, 23, 27, 32, additional problem set B."
   ]
  },
  {
   "cell_type": "markdown",
   "metadata": {},
   "source": [
    "### Polynomials"
   ]
  },
  {
   "cell_type": "markdown",
   "metadata": {},
   "source": [
    "### Power functions"
   ]
  },
  {
   "cell_type": "markdown",
   "metadata": {},
   "source": [
    "### Rational functions"
   ]
  },
  {
   "cell_type": "markdown",
   "metadata": {},
   "source": [
    "### Trigonometric functions"
   ]
  },
  {
   "cell_type": "markdown",
   "metadata": {},
   "source": [
    "### Exponential functions"
   ]
  },
  {
   "cell_type": "markdown",
   "metadata": {},
   "source": [
    "## Week 3\n",
    "\n",
    "**Topics:** Transformations, composite functions, solving power equations.\n",
    "\n",
    "**Problems:** 9, 10, 11, 12, 13, 16, 31, 32, 33, 34, 36."
   ]
  },
  {
   "cell_type": "markdown",
   "metadata": {},
   "source": [
    "### Transformations"
   ]
  },
  {
   "cell_type": "markdown",
   "metadata": {},
   "source": [
    "### Composite functions"
   ]
  },
  {
   "cell_type": "markdown",
   "metadata": {},
   "source": [
    "### Solving power equations"
   ]
  },
  {
   "cell_type": "markdown",
   "metadata": {},
   "source": [
    "## Week 4\n",
    "\n",
    "**Topics:** Exponential and logarithmic functions (Basisvaardigheden H10), solving power equations.\n",
    "\n",
    "**Problems:** 1, 3, 4, 6, 7, 10, 11, 12, 15."
   ]
  },
  {
   "cell_type": "markdown",
   "metadata": {},
   "source": [
    "### Exponential functions"
   ]
  },
  {
   "cell_type": "markdown",
   "metadata": {},
   "source": [
    "Exponential functions come in the form of $y=2^x$. Notice that the exponent is a variable, which defines this as an exponential function unlike $y=x^2$ which is a power function.\n",
    "\n",
    "Graphing these functions yields:"
   ]
  },
  {
   "cell_type": "code",
   "execution_count": 11,
   "metadata": {},
   "outputs": [
    {
     "data": {
      "image/png": "[encoded data removed]",
      "text/plain": [
       "<matplotlib.figure.Figure at 0x1c76e991908>"
      ]
     },
     "metadata": {},
     "output_type": "display_data"
    }
   ],
   "source": [
    "points = np.arange(-5,5.1,0.1)\n",
    "plot(points, [2**x for x in points], c='b', lw=2)\n",
    "plot(points, [(1/2)**x for x in points], c='r', lw=2)\n",
    "grid()\n",
    "legend(['2^x', '(1/2)^x']);"
   ]
  },
  {
   "cell_type": "markdown",
   "metadata": {},
   "source": [
    "We can transform $2^x$:\n",
    "\n",
    "* Moving up by adding $5$ gives $2^x+5$.\n",
    "* Moving to the left by adding $5$ to the exponent gives $2^{x+5}$.\n",
    "\n",
    "The effect can be seen in the plot:"
   ]
  },
  {
   "cell_type": "code",
   "execution_count": 16,
   "metadata": {},
   "outputs": [
    {
     "data": {
      "image/png": "[encoded data removed]",
      "text/plain": [
       "<matplotlib.figure.Figure at 0x1c76e848390>"
      ]
     },
     "metadata": {},
     "output_type": "display_data"
    }
   ],
   "source": [
    "points = np.arange(-2, 2.1, 0.1)\n",
    "plot(points, [2**x for x in points], c='b', lw=2)\n",
    "plot(points, [2**x+5 for x in points], c='g', lw=2)\n",
    "plot(points, [2**(x+5) for x in points], c='r', lw=2)\n",
    "grid()\n",
    "legend(['2^x', '2^x+5', '2^(x+5)']);"
   ]
  },
  {
   "cell_type": "markdown",
   "metadata": {},
   "source": [
    "**Y-intercept**\n",
    "\n",
    "To find the y-intercept we know that it happens where $x=0$, filling in $x=0$ into the equations in the example above gives:\n",
    "\n",
    "* $2^0=1$\n",
    "* $2^0+5=6$\n",
    "* $2^{(0+5)}=32$"
   ]
  },
  {
   "cell_type": "code",
   "execution_count": 19,
   "metadata": {},
   "outputs": [
    {
     "name": "stdout",
     "output_type": "stream",
     "text": [
      "1\n",
      "6\n",
      "32\n"
     ]
    }
   ],
   "source": [
    "print(2**0)\n",
    "print(2**0+5)\n",
    "print(2**(0+5))"
   ]
  },
  {
   "cell_type": "markdown",
   "metadata": {},
   "source": [
    "**Horizontal asymptote**"
   ]
  },
  {
   "cell_type": "markdown",
   "metadata": {},
   "source": [
    "To find the horizontal asymptote is rather easy. For any exponential function which is not shifted up or down this will be at $y=0$. For the above given examples we get:\n",
    "\n",
    "* $2^x$ at $y=0$.\n",
    "* $2^x+5$ at $y=5$.\n",
    "* $2^{(x+5)}$ at $y=0$."
   ]
  },
  {
   "cell_type": "markdown",
   "metadata": {},
   "source": [
    "### Logarithmic functions"
   ]
  },
  {
   "cell_type": "markdown",
   "metadata": {},
   "source": [
    "The logarithms is the inverse of the exponential function. We can use logarithms to solve for $x$ in $2^x=32$ for example.\n",
    "\n",
    "**Definition**\n",
    "\n",
    "The logarithm is defined as $\\log_a(b)=c \\iff a^c=b$, where $a$ is called the base, and $c$ is the exponent."
   ]
  },
  {
   "cell_type": "code",
   "execution_count": 33,
   "metadata": {},
   "outputs": [
    {
     "data": {
      "image/png": "[encoded data removed]",
      "text/plain": [
       "<matplotlib.figure.Figure at 0x1c76e648438>"
      ]
     },
     "metadata": {},
     "output_type": "display_data"
    }
   ],
   "source": [
    "points = np.arange(0.01,3.1,0.01)\n",
    "plot(points, [2**x for x in points])\n",
    "plot(points, [math.log(x,2) for x in points])\n",
    "grid()"
   ]
  },
  {
   "cell_type": "markdown",
   "metadata": {},
   "source": [
    "**Rules for logarithms**\n",
    "\n",
    "* $g^{\\log(a)}=a$\n",
    "* $^g\\log(g^a)=a$\n",
    "* $^g\\log(a)+\\ ^g\\log(b)=\\ ^g\\log(ab)$\n",
    "* $^g\\log(a)-\\ ^g\\log(b)=\\ ^g\\log(\\frac{a}{b})$\n",
    "* $^g\\log(a^p)=p\\cdot \\ ^g\\log(a)$\n",
    "* $^g\\log(a) = \\frac{^b\\log(a)}{^b\\log(g)}$ where $b$ is any base."
   ]
  },
  {
   "cell_type": "code",
   "execution_count": null,
   "metadata": {},
   "outputs": [],
   "source": []
  }
 ],
 "metadata": {
  "kernelspec": {
   "display_name": "Python 3",
   "language": "python",
   "name": "python3"
  },
  "language_info": {
   "codemirror_mode": {
    "name": "ipython",
    "version": 3
   },
   "file_extension": ".py",
   "mimetype": "text/x-python",
   "name": "python",
   "nbconvert_exporter": "python",
   "pygments_lexer": "ipython3",
   "version": "3.6.3"
  }
 },
 "nbformat": 4,
 "nbformat_minor": 2
}
