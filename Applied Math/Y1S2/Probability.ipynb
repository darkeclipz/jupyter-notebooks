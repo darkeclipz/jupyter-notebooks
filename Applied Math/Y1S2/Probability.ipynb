{
 "cells": [
  {
   "cell_type": "markdown",
   "metadata": {},
   "source": [
    "# Probability"
   ]
  },
  {
   "cell_type": "markdown",
   "metadata": {},
   "source": [
    "## Week 1\n",
    "\n",
    "**Topics:** Random sampling, permutations, combinations.\n",
    "\n",
    "**Problems:** 3.1, 3.3, 3.4, 3.5, 3.6, additional problem set 1."
   ]
  },
  {
   "cell_type": "markdown",
   "metadata": {},
   "source": [
    "### Random sampling\n",
    "\n",
    "When we take a random sample it can be done in different ways:\n",
    "\n",
    "* With or without replacement\n",
    "* With or without order\n",
    "\n",
    "This leads to four different cases which will be addressed seperately.\n",
    "\n",
    "#### With both replacement and order\n",
    "\n",
    "If there are $n$ objects and $k$ samplings the number of different possibilities can be found with $n^k$.\n",
    "\n",
    "**Example**\n",
    "\n",
    "The possibilities for a dice is the set $\\{1,2,3,4,5,6\\}$, and if we throw three dices, we can write this as the cartesian product in the form of $(p1,p2,p3)$ which is defined as $\\{(p1,p2,p3) : p1, p2, p3 \\in \\{1,2,3,4,5,6\\}\\}$ for the possible outcome space for throwing three dices.\n",
    "\n",
    "Now it is easy to see that we can take a random sample 3 times from 6 samples.\n",
    "\n",
    "\n",
    "#### Only with replacement\n",
    "\n",
    "#### Only with order\n",
    "\n",
    "#### Neither"
   ]
  },
  {
   "cell_type": "markdown",
   "metadata": {},
   "source": [
    "### Permutations"
   ]
  },
  {
   "cell_type": "markdown",
   "metadata": {},
   "source": [
    "### Combinations"
   ]
  },
  {
   "cell_type": "markdown",
   "metadata": {},
   "source": [
    "## Week 2\n",
    "\n",
    "**Topics**: Probability definitions, probability rules, grid chart.\n",
    "\n",
    "**Problems:** 3.7, 3.8, 3.10, additional problem set 2."
   ]
  },
  {
   "cell_type": "markdown",
   "metadata": {},
   "source": [
    "### Probability definitions"
   ]
  },
  {
   "cell_type": "markdown",
   "metadata": {},
   "source": [
    "### Probability rules"
   ]
  },
  {
   "cell_type": "markdown",
   "metadata": {},
   "source": [
    "### Grid chart"
   ]
  },
  {
   "cell_type": "markdown",
   "metadata": {},
   "source": [
    "## Week 3\n",
    "\n",
    "**Topics:** Conditional probability, independence, product rule, sampling with replacement, sampling without replacement, probability tree.\n",
    "\n",
    "**Problems:** 3.2, 3.12, 3.13, 3.14, 3.15, 3.16, additional problem set 3."
   ]
  },
  {
   "cell_type": "markdown",
   "metadata": {},
   "source": [
    "### Conditional probability"
   ]
  },
  {
   "cell_type": "markdown",
   "metadata": {},
   "source": [
    "### Indepence"
   ]
  },
  {
   "cell_type": "markdown",
   "metadata": {},
   "source": [
    "### Product rule"
   ]
  },
  {
   "cell_type": "markdown",
   "metadata": {},
   "source": [
    "### Sampling with replacement"
   ]
  },
  {
   "cell_type": "markdown",
   "metadata": {},
   "source": [
    "### Sampling without replacement"
   ]
  },
  {
   "cell_type": "markdown",
   "metadata": {},
   "source": [
    "### Probability tree"
   ]
  },
  {
   "cell_type": "markdown",
   "metadata": {},
   "source": [
    "## Week 4\n",
    "\n",
    "**Topics:** Bayes rule.\n",
    "\n",
    "**Problems:** 3.9, 3.11, 3.17 till 3.31."
   ]
  },
  {
   "cell_type": "markdown",
   "metadata": {},
   "source": [
    "### Bayes rule"
   ]
  }
 ],
 "metadata": {
  "kernelspec": {
   "display_name": "Python 3",
   "language": "python",
   "name": "python3"
  },
  "language_info": {
   "codemirror_mode": {
    "name": "ipython",
    "version": 3
   },
   "file_extension": ".py",
   "mimetype": "text/x-python",
   "name": "python",
   "nbconvert_exporter": "python",
   "pygments_lexer": "ipython3",
   "version": "3.6.3"
  }
 },
 "nbformat": 4,
 "nbformat_minor": 2
}
