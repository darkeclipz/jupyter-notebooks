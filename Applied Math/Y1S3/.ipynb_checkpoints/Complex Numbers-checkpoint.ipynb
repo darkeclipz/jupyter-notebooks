{
 "cells": [
  {
   "cell_type": "code",
   "execution_count": 4,
   "metadata": {},
   "outputs": [
    {
     "name": "stdout",
     "output_type": "stream",
     "text": [
      "Populating the interactive namespace from numpy and matplotlib\n"
     ]
    }
   ],
   "source": [
    "%pylab inline"
   ]
  },
  {
   "cell_type": "code",
   "execution_count": 3,
   "metadata": {},
   "outputs": [
    {
     "data": {
      "text/html": [
       "<link href=\"https://fonts.googleapis.com/css?family=Open+Sans\" rel=\"stylesheet\">\n",
       "<style>#notebook-container{font-size: 13pt;font-family:'Open Sans', sans-serif;} div.text_cell{max-width: 104ex;}</style>"
      ],
      "text/plain": [
       "<IPython.core.display.HTML object>"
      ]
     },
     "metadata": {},
     "output_type": "display_data"
    }
   ],
   "source": [
    "%%html \n",
    "<link href=\"https://fonts.googleapis.com/css?family=Open+Sans\" rel=\"stylesheet\">\n",
    "<style>#notebook-container{font-size: 13pt;font-family:'Open Sans', sans-serif;} div.text_cell{max-width: 104ex;}</style>"
   ]
  },
  {
   "cell_type": "markdown",
   "metadata": {},
   "source": [
    "# Complex Numbers"
   ]
  },
  {
   "cell_type": "markdown",
   "metadata": {},
   "source": [
    "## Definition"
   ]
  },
  {
   "cell_type": "markdown",
   "metadata": {},
   "source": [
    "A _complex number_ $z$ is represented with an expression of the form $a+bi$:\n",
    "* There is the _real_ part ($\\mathrm{Re}\\ z$) which is $a$.\n",
    "* There is the _imaginary_ part ($\\mathrm{Im}\\ z$) which is $b$.\n",
    "\n",
    "Where $i$ is defined as $i^2=-1$."
   ]
  },
  {
   "cell_type": "markdown",
   "metadata": {},
   "source": [
    "### Sum of complex numbers"
   ]
  },
  {
   "cell_type": "markdown",
   "metadata": {},
   "source": [
    "Rules for addition and subtraction with complex numbers: \n",
    "\n",
    "$$\\tag{1}(a+bi)+(c+di)=(a+c)+(b+d)i$$\n",
    "$$\\tag{2}(a+bi)-(c+di)=(a-c)+(b-d)i$$"
   ]
  },
  {
   "cell_type": "markdown",
   "metadata": {},
   "source": [
    "### Product of complex numbers"
   ]
  },
  {
   "cell_type": "markdown",
   "metadata": {},
   "source": [
    "Rules for multiplication with complex numbers:\n",
    "\n",
    "$$\\begin{align}(a+bi)(c+di)&=ac+bdi+bci+bdi^2\\\\\\tag{3}&=(ac-bd)+(ad+bc)i\\end{align}$$"
   ]
  },
  {
   "cell_type": "markdown",
   "metadata": {},
   "source": [
    "### Complex conjugate"
   ]
  },
  {
   "cell_type": "markdown",
   "metadata": {},
   "source": [
    "The _conjugate_ for a complex number $z$ is defined as:\n",
    "\n",
    "$$\\tag{4}\\bar{z}=(a-bi)$$"
   ]
  },
  {
   "cell_type": "markdown",
   "metadata": {},
   "source": [
    "#### Properties of conjugates"
   ]
  },
  {
   "cell_type": "markdown",
   "metadata": {},
   "source": [
    "Conjugates adhere to the following properties:"
   ]
  },
  {
   "cell_type": "markdown",
   "metadata": {},
   "source": [
    "1. $\\bar{z+w}=\\bar{z}+\\bar{w}$\n",
    "2. $\\bar{zw}=\\bar{z}\\bar{w}$\n",
    "3. $\\bar{z^n}=\\bar{z}^n$"
   ]
  },
  {
   "cell_type": "markdown",
   "metadata": {},
   "source": [
    "### Modulus"
   ]
  },
  {
   "cell_type": "markdown",
   "metadata": {},
   "source": [
    "The _modulus_ or _absolute value_ for a complex number $z$ can be interpreted as the distance from the origin. It is defined as:\n",
    "\n",
    "$$\\tag{5}|\\ z\\ |\\ = \\sqrt{a^2+b^2}$$"
   ]
  },
  {
   "cell_type": "markdown",
   "metadata": {},
   "source": [
    "An important thing to notice is that:\n",
    "\n",
    "$$\\begin{align}z\\bar{z} &= (a+bi)(a-bi) \\\\ &= a^2+abi-abi-b^2i^2 \\\\ &= a^2 + b^2 \\end{align}$$\n",
    "\n",
    "Therefore, $z\\bar{z} = |\\ z\\ |^2$. \n",
    "\n",
    "### Division of complex numbers\n",
    "\n",
    "Because $|\\ z\\ |^2 \\in \\mathbb{R}$, we can explain why division works. It is similar to rationalizing the denominator with roots:\n",
    "\n",
    "$$\\tag{6}\\dfrac{z}{w} = \\dfrac{z\\bar{w}}{w\\bar{w}} = \\dfrac{z\\bar{w}}{|\\ w\\ |^2}$$"
   ]
  },
  {
   "cell_type": "markdown",
   "metadata": {},
   "source": [
    "### Roots of complex numbers\n",
    "\n",
    "Since $i^2=-1$, we have $i=\\sqrt{-1}$. But also $(-i)^2=i^2=-1$, here $-i$ is also a square root of $-1$. We call $i=\\sqrt{-1}$ if $c \\in \\mathbb{N}^+$ the _principal square root of $-1$_, and we write this as:\n",
    "\n",
    "$$\\tag{7}\\sqrt{-c}=\\sqrt{c}i$$"
   ]
  },
  {
   "cell_type": "markdown",
   "metadata": {},
   "source": [
    "### Python implementation"
   ]
  },
  {
   "cell_type": "markdown",
   "metadata": {},
   "source": [
    "Now that we have defined the behaviour of a complex number, we can implement it in Python:"
   ]
  },
  {
   "cell_type": "code",
   "execution_count": 373,
   "metadata": {},
   "outputs": [],
   "source": [
    "class C():\n",
    "    def __init__(self, real, imag):\n",
    "        self.real = real\n",
    "        self.imag = imag\n",
    "    \n",
    "    def __repr__(self):\n",
    "        return '{} {} {}i'.format(self.real, '+' if self.imag >= 0 else '-', abs(self.imag))\n",
    "    \n",
    "    def __add__(self, z):\n",
    "        if not isinstance(z, C): return TypeError('z must be C.')\n",
    "        return C(self.real + z.real, self.imag + z.imag)\n",
    "    \n",
    "    def __sub__(self, z):\n",
    "        if not isinstance(z, C): return TypeError('z must be C.')\n",
    "        return C(self.real - z.real, self.imag - z.imag)\n",
    "    \n",
    "    def __mul__(self, z):\n",
    "        if not isinstance(z, C): return TypeError('z must be C.')\n",
    "        return C(self.real * z.real - self.imag * z.imag, \n",
    "                 self.real * z.imag + self.imag * z.real)\n",
    "    \n",
    "    def __truediv__(self, z):\n",
    "        if not isinstance(z, C): return TypeError('z must be C.')\n",
    "        return C((self.real * z.real + self.imag * z.imag) / (z.real**2 + z.imag**2), \n",
    "                 (self.imag * z.real - self.real * z.imag) / (z.real**2 + z.imag**2))\n",
    "    \n",
    "    def __eq__(self, z):\n",
    "        if isinstance(z, C):\n",
    "            return self.real is z.real and self.imag is z.imag\n",
    "        return False\n",
    "    \n",
    "    def __ne__(self, z):\n",
    "        if not isinstance(z, C): return TypeError('z must be C.')\n",
    "        return not self == z\n",
    "    \n",
    "    def __lt__(self, z):\n",
    "        if not isinstance(z, C): return TypeError('z must be C.')\n",
    "        return self.mod() < z.mod()\n",
    "    \n",
    "    def __gt__(self, z):\n",
    "        if not isinstance(z, C): return TypeError('z must be C.')\n",
    "        return self.mod() > z.mod()\n",
    "    \n",
    "    def mod(self):\n",
    "        return sqrt(self.real**2 + self.imag**2)\n",
    "    \n",
    "    def conjugate(self):\n",
    "        return C(self.real, -self.imag)"
   ]
  },
  {
   "cell_type": "code",
   "execution_count": 357,
   "metadata": {},
   "outputs": [],
   "source": [
    "z = C(2, 3)\n",
    "w = C(5, -6)"
   ]
  },
  {
   "cell_type": "code",
   "execution_count": 358,
   "metadata": {},
   "outputs": [
    {
     "name": "stdout",
     "output_type": "stream",
     "text": [
      "z = 2 + 3i\n",
      "w = 5 - 6i\n"
     ]
    }
   ],
   "source": [
    "print('z = {}'.format(z))\n",
    "print('w = {}'.format(w))"
   ]
  },
  {
   "cell_type": "code",
   "execution_count": 359,
   "metadata": {},
   "outputs": [
    {
     "data": {
      "text/plain": [
       "7 - 3i"
      ]
     },
     "execution_count": 359,
     "metadata": {},
     "output_type": "execute_result"
    }
   ],
   "source": [
    "z+w"
   ]
  },
  {
   "cell_type": "code",
   "execution_count": 360,
   "metadata": {},
   "outputs": [
    {
     "data": {
      "text/plain": [
       "-3 + 9i"
      ]
     },
     "execution_count": 360,
     "metadata": {},
     "output_type": "execute_result"
    }
   ],
   "source": [
    "z-w"
   ]
  },
  {
   "cell_type": "code",
   "execution_count": 361,
   "metadata": {},
   "outputs": [
    {
     "data": {
      "text/plain": [
       "False"
      ]
     },
     "execution_count": 361,
     "metadata": {},
     "output_type": "execute_result"
    }
   ],
   "source": [
    "z==w"
   ]
  },
  {
   "cell_type": "code",
   "execution_count": 362,
   "metadata": {},
   "outputs": [
    {
     "data": {
      "text/plain": [
       "True"
      ]
     },
     "execution_count": 362,
     "metadata": {},
     "output_type": "execute_result"
    }
   ],
   "source": [
    "z!=w"
   ]
  },
  {
   "cell_type": "code",
   "execution_count": 363,
   "metadata": {},
   "outputs": [
    {
     "data": {
      "text/plain": [
       "28 + 3i"
      ]
     },
     "execution_count": 363,
     "metadata": {},
     "output_type": "execute_result"
    }
   ],
   "source": [
    "z*w"
   ]
  },
  {
   "cell_type": "code",
   "execution_count": 364,
   "metadata": {},
   "outputs": [
    {
     "data": {
      "text/plain": [
       "29 + 0i"
      ]
     },
     "execution_count": 364,
     "metadata": {},
     "output_type": "execute_result"
    }
   ],
   "source": [
    "C(5,2) * C(5,-2)"
   ]
  },
  {
   "cell_type": "code",
   "execution_count": 365,
   "metadata": {},
   "outputs": [
    {
     "data": {
      "text/plain": [
       "-3 + 9i"
      ]
     },
     "execution_count": 365,
     "metadata": {},
     "output_type": "execute_result"
    }
   ],
   "source": [
    "(z-w)"
   ]
  },
  {
   "cell_type": "code",
   "execution_count": 366,
   "metadata": {},
   "outputs": [
    {
     "data": {
      "text/plain": [
       "-0.13114754098360656 + 0.4426229508196721i"
      ]
     },
     "execution_count": 366,
     "metadata": {},
     "output_type": "execute_result"
    }
   ],
   "source": [
    "z/w"
   ]
  },
  {
   "cell_type": "code",
   "execution_count": 367,
   "metadata": {
    "scrolled": true
   },
   "outputs": [
    {
     "data": {
      "text/plain": [
       "0.5 + 0.0i"
      ]
     },
     "execution_count": 367,
     "metadata": {},
     "output_type": "execute_result"
    }
   ],
   "source": [
    "C(2,1)/C(4,2)"
   ]
  },
  {
   "cell_type": "code",
   "execution_count": 368,
   "metadata": {},
   "outputs": [
    {
     "data": {
      "text/plain": [
       "1.0 + 0.0i"
      ]
     },
     "execution_count": 368,
     "metadata": {},
     "output_type": "execute_result"
    }
   ],
   "source": [
    "C(1,1)/C(1,1)"
   ]
  },
  {
   "cell_type": "code",
   "execution_count": 369,
   "metadata": {},
   "outputs": [
    {
     "data": {
      "text/plain": [
       "5.0"
      ]
     },
     "execution_count": 369,
     "metadata": {},
     "output_type": "execute_result"
    }
   ],
   "source": [
    "C(3,4).mod()"
   ]
  },
  {
   "cell_type": "code",
   "execution_count": 370,
   "metadata": {},
   "outputs": [
    {
     "data": {
      "text/plain": [
       "False"
      ]
     },
     "execution_count": 370,
     "metadata": {},
     "output_type": "execute_result"
    }
   ],
   "source": [
    "C(1,1) > C(1,1.001)"
   ]
  },
  {
   "cell_type": "code",
   "execution_count": 371,
   "metadata": {},
   "outputs": [
    {
     "data": {
      "text/plain": [
       "True"
      ]
     },
     "execution_count": 371,
     "metadata": {},
     "output_type": "execute_result"
    }
   ],
   "source": [
    "C(1,1) < C(1,1.001)"
   ]
  },
  {
   "cell_type": "code",
   "execution_count": 321,
   "metadata": {},
   "outputs": [
    {
     "data": {
      "text/plain": [
       "1 - 1i"
      ]
     },
     "execution_count": 321,
     "metadata": {},
     "output_type": "execute_result"
    }
   ],
   "source": [
    "C(1,1).conjugate()"
   ]
  },
  {
   "cell_type": "code",
   "execution_count": 372,
   "metadata": {},
   "outputs": [
    {
     "data": {
      "text/plain": [
       "TypeError('z must be C.')"
      ]
     },
     "execution_count": 372,
     "metadata": {},
     "output_type": "execute_result"
    }
   ],
   "source": [
    "C(1,1) + 5"
   ]
  },
  {
   "cell_type": "markdown",
   "metadata": {},
   "source": [
    "### Quadratic formula with complex numbers"
   ]
  },
  {
   "cell_type": "markdown",
   "metadata": {},
   "source": [
    "Now that we can take the square root of negative numbers, we can implement the quadratic formula which also handles a negative discriminant.\n",
    "\n",
    "$$x = \\dfrac{-b\\pm\\sqrt{b^2-4ac}}{2a}$$\n",
    "\n",
    "Where the discriminant $d$ defined as $b^2-4ac$; gives the following three cases:\n",
    "\n",
    "1. $d>0$: There are two solutions $x_1, x_2 \\in \\mathbb{R}$.\n",
    "2. $d=0$: There is one solution $x \\in \\mathbb{R}$.\n",
    "3. $d<0$: There are two solutions $x_1, x_2 \\in \\mathbb{C}$."
   ]
  },
  {
   "cell_type": "code",
   "execution_count": 398,
   "metadata": {},
   "outputs": [],
   "source": [
    "def quadratic_formula(a, b, c):\n",
    "    if a == 0: return ValueError('a=0 does not yield a second-degree polynomial.')\n",
    "    d = b**2 - 4*a*c\n",
    "    if d > 0:\n",
    "        x1 = (-b + math.sqrt(d)) / (2 * a)\n",
    "        x2 = (-b - math.sqrt(d)) / (2 * a)\n",
    "        return (x1, x2)\n",
    "    elif d == 0:\n",
    "        x = (-b) / (2 * a)\n",
    "        return x\n",
    "    else: \n",
    "        x1 = C((-b) / (2 * a),   math.sqrt(-d)  / (2 * a))\n",
    "        x2 = C((-b) / (2 * a), (-math.sqrt(-d)) / (2 * a))\n",
    "        return (x1, x2)"
   ]
  },
  {
   "cell_type": "code",
   "execution_count": 399,
   "metadata": {},
   "outputs": [
    {
     "data": {
      "text/plain": [
       "ValueError('a=0 does not yield a second-degree polynomial.')"
      ]
     },
     "execution_count": 399,
     "metadata": {},
     "output_type": "execute_result"
    }
   ],
   "source": [
    "quadratic_formula(0, 1, 2)"
   ]
  },
  {
   "cell_type": "code",
   "execution_count": 400,
   "metadata": {},
   "outputs": [
    {
     "data": {
      "text/plain": [
       "(-0.5 + 0.8660254037844386i, -0.5 - 0.8660254037844386i)"
      ]
     },
     "execution_count": 400,
     "metadata": {},
     "output_type": "execute_result"
    }
   ],
   "source": [
    "quadratic_formula(1, 1, 1)"
   ]
  },
  {
   "cell_type": "code",
   "execution_count": 404,
   "metadata": {},
   "outputs": [
    {
     "data": {
      "text/plain": [
       "(0.0, -1.0)"
      ]
     },
     "execution_count": 404,
     "metadata": {},
     "output_type": "execute_result"
    }
   ],
   "source": [
    "quadratic_formula(2, 2, 0)"
   ]
  },
  {
   "cell_type": "markdown",
   "metadata": {},
   "source": [
    "## Polar Coordinates"
   ]
  },
  {
   "cell_type": "markdown",
   "metadata": {},
   "source": [
    "Any complex number $z = a+bi$ can be represented by polar coordinates ($r$, $\\theta$) with $r\\geq 0$.\n",
    "\n",
    "$$\\begin{cases}a = r \\cos \\theta \\\\ b = r \\sin \\theta\\end{cases}$$\n",
    "\n",
    "Thus we can write any complex number $z$ in the form\n",
    "\n",
    "$$\\tag{8}z = r(\\cos \\theta + i \\sin \\theta)$$\n",
    "\n",
    "where $r=|\\ z\\ |\\ =\\sqrt{a^2+b^2}$ and $\\tan\\theta=b/a$.\n",
    "\n",
    "The angle $\\theta$ is called the _argument_ of $z$ and we write $\\theta=\\mathrm{arg}(z)\n",
    "$. Note that $\\mathrm{arg}(z)$ is not unique; it differs by an integer multiple of $2\\pi$."
   ]
  },
  {
   "cell_type": "code",
   "execution_count": null,
   "metadata": {},
   "outputs": [],
   "source": []
  }
 ],
 "metadata": {
  "kernelspec": {
   "display_name": "Python 3",
   "language": "python",
   "name": "python3"
  },
  "language_info": {
   "codemirror_mode": {
    "name": "ipython",
    "version": 3
   },
   "file_extension": ".py",
   "mimetype": "text/x-python",
   "name": "python",
   "nbconvert_exporter": "python",
   "pygments_lexer": "ipython3",
   "version": "3.6.3"
  }
 },
 "nbformat": 4,
 "nbformat_minor": 2
}
