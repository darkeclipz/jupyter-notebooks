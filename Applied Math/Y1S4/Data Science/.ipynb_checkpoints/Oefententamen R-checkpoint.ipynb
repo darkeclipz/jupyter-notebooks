{
 "cells": [
  {
   "cell_type": "markdown",
   "metadata": {},
   "source": [
    "# Opgave 1"
   ]
  },
  {
   "cell_type": "markdown",
   "metadata": {},
   "source": [
    "Importeer de dataset Exam Anxiety van ref[1] H4."
   ]
  },
  {
   "cell_type": "code",
   "execution_count": 82,
   "metadata": {},
   "outputs": [
    {
     "data": {
      "text/html": [
       "<table>\n",
       "<thead><tr><th scope=col>Code</th><th scope=col>Revise</th><th scope=col>Exam</th><th scope=col>Anxiety</th><th scope=col>Gender</th></tr></thead>\n",
       "<tbody>\n",
       "\t<tr><td>1     </td><td> 4    </td><td>40    </td><td>86.298</td><td>Male  </td></tr>\n",
       "\t<tr><td>2     </td><td>11    </td><td>65    </td><td>88.716</td><td>Female</td></tr>\n",
       "\t<tr><td>3     </td><td>27    </td><td>80    </td><td>70.178</td><td>Male  </td></tr>\n",
       "\t<tr><td>4     </td><td>53    </td><td>80    </td><td>61.312</td><td>Male  </td></tr>\n",
       "\t<tr><td>5     </td><td> 4    </td><td>40    </td><td>89.522</td><td>Male  </td></tr>\n",
       "\t<tr><td>6     </td><td>22    </td><td>70    </td><td>60.506</td><td>Female</td></tr>\n",
       "</tbody>\n",
       "</table>\n"
      ],
      "text/latex": [
       "\\begin{tabular}{r|lllll}\n",
       " Code & Revise & Exam & Anxiety & Gender\\\\\n",
       "\\hline\n",
       "\t 1      &  4     & 40     & 86.298 & Male  \\\\\n",
       "\t 2      & 11     & 65     & 88.716 & Female\\\\\n",
       "\t 3      & 27     & 80     & 70.178 & Male  \\\\\n",
       "\t 4      & 53     & 80     & 61.312 & Male  \\\\\n",
       "\t 5      &  4     & 40     & 89.522 & Male  \\\\\n",
       "\t 6      & 22     & 70     & 60.506 & Female\\\\\n",
       "\\end{tabular}\n"
      ],
      "text/markdown": [
       "\n",
       "Code | Revise | Exam | Anxiety | Gender | \n",
       "|---|---|---|---|---|---|\n",
       "| 1      |  4     | 40     | 86.298 | Male   | \n",
       "| 2      | 11     | 65     | 88.716 | Female | \n",
       "| 3      | 27     | 80     | 70.178 | Male   | \n",
       "| 4      | 53     | 80     | 61.312 | Male   | \n",
       "| 5      |  4     | 40     | 89.522 | Male   | \n",
       "| 6      | 22     | 70     | 60.506 | Female | \n",
       "\n",
       "\n"
      ],
      "text/plain": [
       "  Code Revise Exam Anxiety Gender\n",
       "1 1     4     40   86.298  Male  \n",
       "2 2    11     65   88.716  Female\n",
       "3 3    27     80   70.178  Male  \n",
       "4 4    53     80   61.312  Male  \n",
       "5 5     4     40   89.522  Male  \n",
       "6 6    22     70   60.506  Female"
      ]
     },
     "metadata": {},
     "output_type": "display_data"
    }
   ],
   "source": [
    "file = \"C:\\\\Users\\\\Isomorphism\\\\Downloads\\\\Exam Anxiety.dat\"\n",
    "exam = read.table(file, header=TRUE)\n",
    "head(exam)"
   ]
  },
  {
   "cell_type": "markdown",
   "metadata": {},
   "source": [
    "---"
   ]
  },
  {
   "cell_type": "markdown",
   "metadata": {},
   "source": [
    "**1A:** Maak een scatterplot van Exam als functie van Anxiety."
   ]
  },
  {
   "cell_type": "code",
   "execution_count": 152,
   "metadata": {},
   "outputs": [
    {
     "data": {
      "image/png": "[encoded data removed]",
      "text/plain": [
       "Plot with title \"Anxiety vs. Exam\""
      ]
     },
     "metadata": {},
     "output_type": "display_data"
    }
   ],
   "source": [
    "plot(exam$Anxiety, exam$Exam, main=\"Anxiety vs. Exam\", xlab=\"Anxiety\"\n",
    "     , ylab=\"Exam\")"
   ]
  },
  {
   "cell_type": "markdown",
   "metadata": {},
   "source": [
    "**1B:** Bereken de gemiddelde waarde en standaardafwijking van de variabele Exam."
   ]
  },
  {
   "cell_type": "code",
   "execution_count": 98,
   "metadata": {},
   "outputs": [],
   "source": [
    "x = mean(exam$Exam, na.rm=TRUE)\n",
    "s = sd(exam$Exam, na.rm=TRUE)"
   ]
  },
  {
   "cell_type": "code",
   "execution_count": 151,
   "metadata": {},
   "outputs": [
    {
     "data": {
      "text/html": [
       "'Het gemiddelde is 56.573 en de standaardafwijking is 25.941 .'"
      ],
      "text/latex": [
       "'Het gemiddelde is 56.573 en de standaardafwijking is 25.941 .'"
      ],
      "text/markdown": [
       "'Het gemiddelde is 56.573 en de standaardafwijking is 25.941 .'"
      ],
      "text/plain": [
       "[1] \"Het gemiddelde is 56.573 en de standaardafwijking is 25.941 .\""
      ]
     },
     "metadata": {},
     "output_type": "display_data"
    }
   ],
   "source": [
    "paste(\"Het gemiddelde is\", round(x,3), \"en de standaardafwijking is\"\n",
    "      , round(s,3), \".\")"
   ]
  },
  {
   "cell_type": "markdown",
   "metadata": {},
   "source": [
    "---"
   ]
  },
  {
   "cell_type": "markdown",
   "metadata": {},
   "source": [
    "**1C**: Controleer de standaardafwijking met een zelf geprogrammeerde berekening."
   ]
  },
  {
   "cell_type": "code",
   "execution_count": 105,
   "metadata": {},
   "outputs": [],
   "source": [
    "stdev <- function(L) sqrt( sum((L-mean(L))^2) / (length(L) - 1) )"
   ]
  },
  {
   "cell_type": "code",
   "execution_count": 106,
   "metadata": {},
   "outputs": [
    {
     "data": {
      "text/html": [
       "25.9405814037326"
      ],
      "text/latex": [
       "25.9405814037326"
      ],
      "text/markdown": [
       "25.9405814037326"
      ],
      "text/plain": [
       "[1] 25.94058"
      ]
     },
     "metadata": {},
     "output_type": "display_data"
    }
   ],
   "source": [
    "stdev(exam$Exam)"
   ]
  },
  {
   "cell_type": "markdown",
   "metadata": {},
   "source": [
    "---"
   ]
  },
  {
   "cell_type": "markdown",
   "metadata": {},
   "source": [
    "**1D**: Maak een boxplot van zowel Anxiety als Exam in een plot."
   ]
  },
  {
   "cell_type": "code",
   "execution_count": 115,
   "metadata": {},
   "outputs": [
    {
     "data": {
      "image/png": "[encoded data removed]",
      "text/plain": [
       "plot without title"
      ]
     },
     "metadata": {},
     "output_type": "display_data"
    }
   ],
   "source": [
    "boxplot(exam$Exam, exam$Anxiety)"
   ]
  },
  {
   "cell_type": "markdown",
   "metadata": {},
   "source": [
    "---"
   ]
  },
  {
   "cell_type": "markdown",
   "metadata": {},
   "source": [
    "**1E**: Bereken de afstand van het eerste tot het derde kwartiel van Anxiety."
   ]
  },
  {
   "cell_type": "code",
   "execution_count": 134,
   "metadata": {},
   "outputs": [
    {
     "data": {
      "text/html": [
       "<dl class=dl-horizontal>\n",
       "\t<dt>25%</dt>\n",
       "\t\t<dd>69.775</dd>\n",
       "\t<dt>75%</dt>\n",
       "\t\t<dd>84.686</dd>\n",
       "</dl>\n"
      ],
      "text/latex": [
       "\\begin{description*}\n",
       "\\item[25\\textbackslash{}\\%] 69.775\n",
       "\\item[75\\textbackslash{}\\%] 84.686\n",
       "\\end{description*}\n"
      ],
      "text/markdown": [
       "25%\n",
       ":   69.77575%\n",
       ":   84.686\n",
       "\n"
      ],
      "text/plain": [
       "   25%    75% \n",
       "69.775 84.686 "
      ]
     },
     "metadata": {},
     "output_type": "display_data"
    }
   ],
   "source": [
    "q = quantile(exam$Anxiety, c(.25, .75), na.rm=TRUE)\n",
    "q"
   ]
  },
  {
   "cell_type": "markdown",
   "metadata": {},
   "source": [
    "De afstand van het eerste tot het derde kwartiel is:"
   ]
  },
  {
   "cell_type": "code",
   "execution_count": 133,
   "metadata": {},
   "outputs": [
    {
     "data": {
      "text/html": [
       "<strong>75%:</strong> 14.911"
      ],
      "text/latex": [
       "\\textbf{75\\textbackslash{}\\%:} 14.911"
      ],
      "text/markdown": [
       "**75%:** 14.911"
      ],
      "text/plain": [
       "   75% \n",
       "14.911 "
      ]
     },
     "metadata": {},
     "output_type": "display_data"
    }
   ],
   "source": [
    "q[2]-q[1]"
   ]
  },
  {
   "cell_type": "markdown",
   "metadata": {},
   "source": [
    "Ter controle:"
   ]
  },
  {
   "cell_type": "code",
   "execution_count": 136,
   "metadata": {
    "scrolled": true
   },
   "outputs": [
    {
     "data": {
      "text/html": [
       "14.911"
      ],
      "text/latex": [
       "14.911"
      ],
      "text/markdown": [
       "14.911"
      ],
      "text/plain": [
       "[1] 14.911"
      ]
     },
     "metadata": {},
     "output_type": "display_data"
    }
   ],
   "source": [
    "84.686 - 69.775"
   ]
  },
  {
   "cell_type": "markdown",
   "metadata": {},
   "source": [
    "---"
   ]
  },
  {
   "cell_type": "markdown",
   "metadata": {},
   "source": [
    "**1F**: Zet de data op volgorde en bepaal het dertiende getal."
   ]
  },
  {
   "cell_type": "code",
   "execution_count": 143,
   "metadata": {},
   "outputs": [
    {
     "data": {
      "text/html": [
       "20"
      ],
      "text/latex": [
       "20"
      ],
      "text/markdown": [
       "20"
      ],
      "text/plain": [
       "[1] 20"
      ]
     },
     "metadata": {},
     "output_type": "display_data"
    }
   ],
   "source": [
    "sort(exam$Exam)[13]"
   ]
  },
  {
   "cell_type": "markdown",
   "metadata": {},
   "source": [
    "Ter controle:"
   ]
  },
  {
   "cell_type": "code",
   "execution_count": 142,
   "metadata": {},
   "outputs": [
    {
     "data": {
      "text/html": [
       "<ol class=list-inline>\n",
       "\t<li>2</li>\n",
       "\t<li>5</li>\n",
       "\t<li>5</li>\n",
       "\t<li>7</li>\n",
       "\t<li>10</li>\n",
       "\t<li>10</li>\n",
       "\t<li>10</li>\n",
       "\t<li>10</li>\n",
       "\t<li>15</li>\n",
       "\t<li>20</li>\n",
       "\t<li>20</li>\n",
       "\t<li>20</li>\n",
       "\t<li>20</li>\n",
       "\t<li>20</li>\n",
       "\t<li>20</li>\n",
       "</ol>\n"
      ],
      "text/latex": [
       "\\begin{enumerate*}\n",
       "\\item 2\n",
       "\\item 5\n",
       "\\item 5\n",
       "\\item 7\n",
       "\\item 10\n",
       "\\item 10\n",
       "\\item 10\n",
       "\\item 10\n",
       "\\item 15\n",
       "\\item 20\n",
       "\\item 20\n",
       "\\item 20\n",
       "\\item 20\n",
       "\\item 20\n",
       "\\item 20\n",
       "\\end{enumerate*}\n"
      ],
      "text/markdown": [
       "1. 2\n",
       "2. 5\n",
       "3. 5\n",
       "4. 7\n",
       "5. 10\n",
       "6. 10\n",
       "7. 10\n",
       "8. 10\n",
       "9. 15\n",
       "10. 20\n",
       "11. 20\n",
       "12. 20\n",
       "13. 20\n",
       "14. 20\n",
       "15. 20\n",
       "\n",
       "\n"
      ],
      "text/plain": [
       " [1]  2  5  5  7 10 10 10 10 15 20 20 20 20 20 20"
      ]
     },
     "metadata": {},
     "output_type": "display_data"
    }
   ],
   "source": [
    "head(sort(exam$Exam), 15)"
   ]
  },
  {
   "cell_type": "markdown",
   "metadata": {},
   "source": [
    "---"
   ]
  },
  {
   "cell_type": "markdown",
   "metadata": {},
   "source": [
    "**1G**: Maak een histogram van de variabele Exam met als titel \"TW1 histogram van Exam data\"."
   ]
  },
  {
   "cell_type": "code",
   "execution_count": 144,
   "metadata": {},
   "outputs": [
    {
     "data": {
      "image/png": "[encoded data removed]",
      "text/plain": [
       "Plot with title \"TW1 histogram van Exam data\""
      ]
     },
     "metadata": {},
     "output_type": "display_data"
    }
   ],
   "source": [
    "hist(exam$Exam, main=\"TW1 histogram van Exam data\")"
   ]
  },
  {
   "cell_type": "markdown",
   "metadata": {},
   "source": [
    "# Opgave 2"
   ]
  },
  {
   "cell_type": "markdown",
   "metadata": {},
   "source": [
    "Importeer de dataset `cars` die behoort tot de standaard datasets in R."
   ]
  },
  {
   "cell_type": "code",
   "execution_count": 150,
   "metadata": {},
   "outputs": [
    {
     "data": {
      "text/html": [
       "<table>\n",
       "<thead><tr><th scope=col>speed</th><th scope=col>dist</th></tr></thead>\n",
       "<tbody>\n",
       "\t<tr><td>4 </td><td> 2</td></tr>\n",
       "\t<tr><td>4 </td><td>10</td></tr>\n",
       "\t<tr><td>7 </td><td> 4</td></tr>\n",
       "\t<tr><td>7 </td><td>22</td></tr>\n",
       "\t<tr><td>8 </td><td>16</td></tr>\n",
       "\t<tr><td>9 </td><td>10</td></tr>\n",
       "</tbody>\n",
       "</table>\n"
      ],
      "text/latex": [
       "\\begin{tabular}{r|ll}\n",
       " speed & dist\\\\\n",
       "\\hline\n",
       "\t 4  &  2\\\\\n",
       "\t 4  & 10\\\\\n",
       "\t 7  &  4\\\\\n",
       "\t 7  & 22\\\\\n",
       "\t 8  & 16\\\\\n",
       "\t 9  & 10\\\\\n",
       "\\end{tabular}\n"
      ],
      "text/markdown": [
       "\n",
       "speed | dist | \n",
       "|---|---|---|---|---|---|\n",
       "| 4  |  2 | \n",
       "| 4  | 10 | \n",
       "| 7  |  4 | \n",
       "| 7  | 22 | \n",
       "| 8  | 16 | \n",
       "| 9  | 10 | \n",
       "\n",
       "\n"
      ],
      "text/plain": [
       "  speed dist\n",
       "1 4      2  \n",
       "2 4     10  \n",
       "3 7      4  \n",
       "4 7     22  \n",
       "5 8     16  \n",
       "6 9     10  "
      ]
     },
     "metadata": {},
     "output_type": "display_data"
    }
   ],
   "source": [
    "head(cars) # Dit importeert het niet, maar laat de eerste \n",
    "           # records in de dataset zien."
   ]
  },
  {
   "cell_type": "markdown",
   "metadata": {},
   "source": [
    "---"
   ]
  },
  {
   "cell_type": "markdown",
   "metadata": {},
   "source": [
    "**2A:** Plot de stopweg als functie van de snelheid.\n",
    "\n",
    "Met behulp van `help(cars)` kan je de eenheden vinden voor de snelheid en remweg."
   ]
  },
  {
   "cell_type": "code",
   "execution_count": 149,
   "metadata": {
    "scrolled": false
   },
   "outputs": [
    {
     "data": {
      "image/png": "[encoded data removed]",
      "text/plain": [
       "Plot with title \"Snelheid vs. remweg\""
      ]
     },
     "metadata": {},
     "output_type": "display_data"
    }
   ],
   "source": [
    "plot(cars$speed, cars$dist, main=\"Snelheid vs. remweg\", xlab=\"Snelheid (mph)\"\n",
    "     , ylab=\"Remweg (feet)\")"
   ]
  },
  {
   "cell_type": "markdown",
   "metadata": {},
   "source": [
    "---"
   ]
  },
  {
   "cell_type": "markdown",
   "metadata": {},
   "source": [
    "**2B:** Bepaal of er een verband bestaat tussen de snelheid en de remweg, met behulp van `lm`."
   ]
  },
  {
   "cell_type": "code",
   "execution_count": 154,
   "metadata": {},
   "outputs": [
    {
     "data": {
      "text/plain": [
       "\n",
       "Call:\n",
       "lm(formula = cars$speed ~ cars$dist)\n",
       "\n",
       "Residuals:\n",
       "    Min      1Q  Median      3Q     Max \n",
       "-7.5293 -2.1550  0.3615  2.4377  6.4179 \n",
       "\n",
       "Coefficients:\n",
       "            Estimate Std. Error t value Pr(>|t|)    \n",
       "(Intercept)  8.28391    0.87438   9.474 1.44e-12 ***\n",
       "cars$dist    0.16557    0.01749   9.464 1.49e-12 ***\n",
       "---\n",
       "Signif. codes:  0 '***' 0.001 '**' 0.01 '*' 0.05 '.' 0.1 ' ' 1\n",
       "\n",
       "Residual standard error: 3.156 on 48 degrees of freedom\n",
       "Multiple R-squared:  0.6511,\tAdjusted R-squared:  0.6438 \n",
       "F-statistic: 89.57 on 1 and 48 DF,  p-value: 1.49e-12\n"
      ]
     },
     "metadata": {},
     "output_type": "display_data"
    }
   ],
   "source": [
    "summary(lm(cars$speed~cars$dist))"
   ]
  },
  {
   "cell_type": "markdown",
   "metadata": {},
   "source": [
    "R-squared is 0.6511, dus er is wel degelijk een verband."
   ]
  },
  {
   "cell_type": "markdown",
   "metadata": {},
   "source": [
    "---"
   ]
  },
  {
   "cell_type": "markdown",
   "metadata": {},
   "source": [
    "**2C**: Plot de regressielijn in het rood in het scatterplot."
   ]
  },
  {
   "cell_type": "code",
   "execution_count": 57,
   "metadata": {},
   "outputs": [
    {
     "data": {
      "text/plain": [
       "\n",
       "Call:\n",
       "lm(formula = cars$dist ~ cars$speed)\n",
       "\n",
       "Coefficients:\n",
       "(Intercept)   cars$speed  \n",
       "    -17.579        3.932  \n"
      ]
     },
     "metadata": {},
     "output_type": "display_data"
    }
   ],
   "source": [
    "lreg = lm(cars$dist~cars$speed)\n",
    "lreg"
   ]
  },
  {
   "cell_type": "code",
   "execution_count": 148,
   "metadata": {},
   "outputs": [
    {
     "data": {
      "image/png": "[encoded data removed]",
      "text/plain": [
       "Plot with title \"Snelheid vs. remweg\""
      ]
     },
     "metadata": {},
     "output_type": "display_data"
    }
   ],
   "source": [
    "plot(cars$speed, cars$dist, main=\"Snelheid vs. remweg\", xlab=\"Snelheid (mph)\"\n",
    "     , ylab=\"Remweg (feet)\")\n",
    "\n",
    "abline(lreg, col=\"red\")"
   ]
  },
  {
   "cell_type": "markdown",
   "metadata": {},
   "source": [
    "---"
   ]
  },
  {
   "cell_type": "markdown",
   "metadata": {},
   "source": [
    "**2D:** Hoe groot is de correlatie tussen de snelheid en de remweg?"
   ]
  },
  {
   "cell_type": "code",
   "execution_count": 155,
   "metadata": {},
   "outputs": [
    {
     "data": {
      "text/html": [
       "0.80689490068921"
      ],
      "text/latex": [
       "0.80689490068921"
      ],
      "text/markdown": [
       "0.80689490068921"
      ],
      "text/plain": [
       "[1] 0.8068949"
      ]
     },
     "metadata": {},
     "output_type": "display_data"
    }
   ],
   "source": [
    "r = cor(cars$speed, cars$dist)\n",
    "r"
   ]
  },
  {
   "cell_type": "markdown",
   "metadata": {},
   "source": [
    "Er is een zeer sterk positief verband tussen de variabelen `speed` en `dist`."
   ]
  },
  {
   "cell_type": "markdown",
   "metadata": {},
   "source": [
    "# Opgave 3"
   ]
  },
  {
   "cell_type": "markdown",
   "metadata": {},
   "source": [
    "**3A**: Los het onderstaande stelsel van vergelijkingen op m.b.v. matrixrekening."
   ]
  },
  {
   "cell_type": "markdown",
   "metadata": {},
   "source": [
    "$$ \\begin{aligned}\\begin{cases}  x-y-z &= 2 \\\\ 3x-3y+2z &= 19 \\\\ 2x-y+z &= 9 \\end{cases}\\end{aligned} $$"
   ]
  },
  {
   "cell_type": "markdown",
   "metadata": {},
   "source": [
    "Eerst zetten we dit om naar een matrix:"
   ]
  },
  {
   "cell_type": "markdown",
   "metadata": {},
   "source": [
    "$$ A \\cdot \\vec{x} = \\vec{b} \\implies \\begin{bmatrix} 1 & -1 & -1 \\\\ 3 & -3 & 2 \\\\ 2 & -1 & 1 \\end{bmatrix} \\cdot \\vec{x} = \\begin{bmatrix}2\\\\19\\\\9\\end{bmatrix} $$"
   ]
  },
  {
   "cell_type": "code",
   "execution_count": 66,
   "metadata": {},
   "outputs": [
    {
     "data": {
      "text/html": [
       "<table>\n",
       "<thead><tr><th scope=col>x</th><th scope=col>y</th><th scope=col>z</th></tr></thead>\n",
       "<tbody>\n",
       "\t<tr><td>1 </td><td>-1</td><td>-1</td></tr>\n",
       "\t<tr><td>3 </td><td>-3</td><td> 2</td></tr>\n",
       "\t<tr><td>2 </td><td>-1</td><td> 1</td></tr>\n",
       "</tbody>\n",
       "</table>\n"
      ],
      "text/latex": [
       "\\begin{tabular}{lll}\n",
       " x & y & z\\\\\n",
       "\\hline\n",
       "\t 1  & -1 & -1\\\\\n",
       "\t 3  & -3 &  2\\\\\n",
       "\t 2  & -1 &  1\\\\\n",
       "\\end{tabular}\n"
      ],
      "text/markdown": [
       "\n",
       "x | y | z | \n",
       "|---|---|---|\n",
       "| 1  | -1 | -1 | \n",
       "| 3  | -3 |  2 | \n",
       "| 2  | -1 |  1 | \n",
       "\n",
       "\n"
      ],
      "text/plain": [
       "     x y  z \n",
       "[1,] 1 -1 -1\n",
       "[2,] 3 -3  2\n",
       "[3,] 2 -1  1"
      ]
     },
     "metadata": {},
     "output_type": "display_data"
    }
   ],
   "source": [
    "x = c(1,3,2)\n",
    "y = c(-1,-3,-1)\n",
    "z = c(-1, 2, 1)\n",
    "A = cbind(x,y,z)\n",
    "A"
   ]
  },
  {
   "cell_type": "code",
   "execution_count": 67,
   "metadata": {},
   "outputs": [
    {
     "data": {
      "text/html": [
       "<ol class=list-inline>\n",
       "\t<li>2</li>\n",
       "\t<li>19</li>\n",
       "\t<li>9</li>\n",
       "</ol>\n"
      ],
      "text/latex": [
       "\\begin{enumerate*}\n",
       "\\item 2\n",
       "\\item 19\n",
       "\\item 9\n",
       "\\end{enumerate*}\n"
      ],
      "text/markdown": [
       "1. 2\n",
       "2. 19\n",
       "3. 9\n",
       "\n",
       "\n"
      ],
      "text/plain": [
       "[1]  2 19  9"
      ]
     },
     "metadata": {},
     "output_type": "display_data"
    }
   ],
   "source": [
    "b = c(2,19,9)\n",
    "b"
   ]
  },
  {
   "cell_type": "markdown",
   "metadata": {},
   "source": [
    "Een stelsel van vergelijkingen kunnen we oplossing met de inverse van $A$.\n",
    "\n",
    "$$ \\begin{aligned} A \\cdot \\vec{x} &= \\vec{b} \\\\ A^{-1}\\cdot A \\cdot \\vec{x} &= A^{-1} \\cdot \\vec{b} \\\\ I \\cdot \\vec{x} &= A^{-1}\\cdot\\vec{b} \\end{aligned} $$\n",
    "\n",
    "De oplossing is dus te vinden met $\\vec{x} = A^{-1} \\cdot \\vec{b}$. Eerst bepalen we de inverse van $A$:"
   ]
  },
  {
   "cell_type": "code",
   "execution_count": 68,
   "metadata": {},
   "outputs": [
    {
     "data": {
      "text/html": [
       "<table>\n",
       "<tbody>\n",
       "\t<tr><th scope=row>x</th><td> 0.2</td><td>-0.4</td><td>1   </td></tr>\n",
       "\t<tr><th scope=row>y</th><td>-0.2</td><td>-0.6</td><td>1   </td></tr>\n",
       "\t<tr><th scope=row>z</th><td>-0.6</td><td> 0.2</td><td>0   </td></tr>\n",
       "</tbody>\n",
       "</table>\n"
      ],
      "text/latex": [
       "\\begin{tabular}{r|lll}\n",
       "\tx &  0.2 & -0.4 & 1   \\\\\n",
       "\ty & -0.2 & -0.6 & 1   \\\\\n",
       "\tz & -0.6 &  0.2 & 0   \\\\\n",
       "\\end{tabular}\n"
      ],
      "text/markdown": [
       "\n",
       "| x |  0.2 | -0.4 | 1    | \n",
       "| y | -0.2 | -0.6 | 1    | \n",
       "| z | -0.6 |  0.2 | 0    | \n",
       "\n",
       "\n"
      ],
      "text/plain": [
       "  [,1] [,2] [,3]\n",
       "x  0.2 -0.4 1   \n",
       "y -0.2 -0.6 1   \n",
       "z -0.6  0.2 0   "
      ]
     },
     "metadata": {},
     "output_type": "display_data"
    }
   ],
   "source": [
    "Ainv = solve(A)\n",
    "Ainv"
   ]
  },
  {
   "cell_type": "markdown",
   "metadata": {},
   "source": [
    "En vervolgens het toepassen van matrixvermenigvuldiging (`%*%`) om de oplossing te vinden:"
   ]
  },
  {
   "cell_type": "code",
   "execution_count": 70,
   "metadata": {},
   "outputs": [
    {
     "data": {
      "text/html": [
       "<table>\n",
       "<tbody>\n",
       "\t<tr><th scope=row>x</th><td> 1.8</td></tr>\n",
       "\t<tr><th scope=row>y</th><td>-2.8</td></tr>\n",
       "\t<tr><th scope=row>z</th><td> 2.6</td></tr>\n",
       "</tbody>\n",
       "</table>\n"
      ],
      "text/latex": [
       "\\begin{tabular}{r|l}\n",
       "\tx &  1.8\\\\\n",
       "\ty & -2.8\\\\\n",
       "\tz &  2.6\\\\\n",
       "\\end{tabular}\n"
      ],
      "text/markdown": [
       "\n",
       "| x |  1.8 | \n",
       "| y | -2.8 | \n",
       "| z |  2.6 | \n",
       "\n",
       "\n"
      ],
      "text/plain": [
       "  [,1]\n",
       "x  1.8\n",
       "y -2.8\n",
       "z  2.6"
      ]
     },
     "metadata": {},
     "output_type": "display_data"
    }
   ],
   "source": [
    "Ainv %*% b"
   ]
  },
  {
   "cell_type": "markdown",
   "metadata": {},
   "source": [
    "---"
   ]
  },
  {
   "cell_type": "markdown",
   "metadata": {},
   "source": [
    "**3B:** Controleer je oplossing.\n",
    "\n",
    "Dit kan ook in een keer met `solve(A,b)` en dient tevens als controle:"
   ]
  },
  {
   "cell_type": "code",
   "execution_count": 43,
   "metadata": {
    "scrolled": false
   },
   "outputs": [
    {
     "data": {
      "text/html": [
       "<dl class=dl-horizontal>\n",
       "\t<dt>x</dt>\n",
       "\t\t<dd>1.8</dd>\n",
       "\t<dt>y</dt>\n",
       "\t\t<dd>-2.8</dd>\n",
       "\t<dt>z</dt>\n",
       "\t\t<dd>2.6</dd>\n",
       "</dl>\n"
      ],
      "text/latex": [
       "\\begin{description*}\n",
       "\\item[x] 1.8\n",
       "\\item[y] -2.8\n",
       "\\item[z] 2.6\n",
       "\\end{description*}\n"
      ],
      "text/markdown": [
       "x\n",
       ":   1.8y\n",
       ":   -2.8z\n",
       ":   2.6\n",
       "\n"
      ],
      "text/plain": [
       "   x    y    z \n",
       " 1.8 -2.8  2.6 "
      ]
     },
     "metadata": {},
     "output_type": "display_data"
    }
   ],
   "source": [
    "solve(A,b)"
   ]
  }
 ],
 "metadata": {
  "kernelspec": {
   "display_name": "R",
   "language": "R",
   "name": "ir"
  },
  "language_info": {
   "codemirror_mode": "r",
   "file_extension": ".r",
   "mimetype": "text/x-r-source",
   "name": "R",
   "pygments_lexer": "r",
   "version": "3.4.4"
  }
 },
 "nbformat": 4,
 "nbformat_minor": 2
}
