{
 "cells": [
  {
   "cell_type": "code",
   "execution_count": 4,
   "metadata": {},
   "outputs": [],
   "source": [
    "library(MASS)"
   ]
  },
  {
   "cell_type": "code",
   "execution_count": 5,
   "metadata": {},
   "outputs": [
    {
     "data": {
      "text/html": [
       "<table>\n",
       "<thead><tr><th scope=col>Sex</th><th scope=col>Wr.Hnd</th><th scope=col>NW.Hnd</th><th scope=col>W.Hnd</th><th scope=col>Fold</th><th scope=col>Pulse</th><th scope=col>Clap</th><th scope=col>Exer</th><th scope=col>Smoke</th><th scope=col>Height</th><th scope=col>M.I</th><th scope=col>Age</th></tr></thead>\n",
       "<tbody>\n",
       "\t<tr><td>Female  </td><td>18.5    </td><td>18.0    </td><td>Right   </td><td>R on L  </td><td> 92     </td><td>Left    </td><td>Some    </td><td>Never   </td><td>173.00  </td><td>Metric  </td><td>18.250  </td></tr>\n",
       "\t<tr><td>Male    </td><td>19.5    </td><td>20.5    </td><td>Left    </td><td>R on L  </td><td>104     </td><td>Left    </td><td>None    </td><td>Regul   </td><td>177.80  </td><td>Imperial</td><td>17.583  </td></tr>\n",
       "\t<tr><td>Male    </td><td>18.0    </td><td>13.3    </td><td>Right   </td><td>L on R  </td><td> 87     </td><td>Neither </td><td>None    </td><td>Occas   </td><td>    NA  </td><td>NA      </td><td>16.917  </td></tr>\n",
       "\t<tr><td>Male    </td><td>18.8    </td><td>18.9    </td><td>Right   </td><td>R on L  </td><td> NA     </td><td>Neither </td><td>None    </td><td>Never   </td><td>160.00  </td><td>Metric  </td><td>20.333  </td></tr>\n",
       "\t<tr><td>Male    </td><td>20.0    </td><td>20.0    </td><td>Right   </td><td>Neither </td><td> 35     </td><td>Right   </td><td>Some    </td><td>Never   </td><td>165.00  </td><td>Metric  </td><td>23.667  </td></tr>\n",
       "\t<tr><td>Female  </td><td>18.0    </td><td>17.7    </td><td>Right   </td><td>L on R  </td><td> 64     </td><td>Right   </td><td>Some    </td><td>Never   </td><td>172.72  </td><td>Imperial</td><td>21.000  </td></tr>\n",
       "</tbody>\n",
       "</table>\n"
      ],
      "text/latex": [
       "\\begin{tabular}{r|llllllllllll}\n",
       " Sex & Wr.Hnd & NW.Hnd & W.Hnd & Fold & Pulse & Clap & Exer & Smoke & Height & M.I & Age\\\\\n",
       "\\hline\n",
       "\t Female   & 18.5     & 18.0     & Right    & R on L   &  92      & Left     & Some     & Never    & 173.00   & Metric   & 18.250  \\\\\n",
       "\t Male     & 19.5     & 20.5     & Left     & R on L   & 104      & Left     & None     & Regul    & 177.80   & Imperial & 17.583  \\\\\n",
       "\t Male     & 18.0     & 13.3     & Right    & L on R   &  87      & Neither  & None     & Occas    &     NA   & NA       & 16.917  \\\\\n",
       "\t Male     & 18.8     & 18.9     & Right    & R on L   &  NA      & Neither  & None     & Never    & 160.00   & Metric   & 20.333  \\\\\n",
       "\t Male     & 20.0     & 20.0     & Right    & Neither  &  35      & Right    & Some     & Never    & 165.00   & Metric   & 23.667  \\\\\n",
       "\t Female   & 18.0     & 17.7     & Right    & L on R   &  64      & Right    & Some     & Never    & 172.72   & Imperial & 21.000  \\\\\n",
       "\\end{tabular}\n"
      ],
      "text/markdown": [
       "\n",
       "Sex | Wr.Hnd | NW.Hnd | W.Hnd | Fold | Pulse | Clap | Exer | Smoke | Height | M.I | Age | \n",
       "|---|---|---|---|---|---|\n",
       "| Female   | 18.5     | 18.0     | Right    | R on L   |  92      | Left     | Some     | Never    | 173.00   | Metric   | 18.250   | \n",
       "| Male     | 19.5     | 20.5     | Left     | R on L   | 104      | Left     | None     | Regul    | 177.80   | Imperial | 17.583   | \n",
       "| Male     | 18.0     | 13.3     | Right    | L on R   |  87      | Neither  | None     | Occas    |     NA   | NA       | 16.917   | \n",
       "| Male     | 18.8     | 18.9     | Right    | R on L   |  NA      | Neither  | None     | Never    | 160.00   | Metric   | 20.333   | \n",
       "| Male     | 20.0     | 20.0     | Right    | Neither  |  35      | Right    | Some     | Never    | 165.00   | Metric   | 23.667   | \n",
       "| Female   | 18.0     | 17.7     | Right    | L on R   |  64      | Right    | Some     | Never    | 172.72   | Imperial | 21.000   | \n",
       "\n",
       "\n"
      ],
      "text/plain": [
       "  Sex    Wr.Hnd NW.Hnd W.Hnd Fold    Pulse Clap    Exer Smoke Height M.I     \n",
       "1 Female 18.5   18.0   Right R on L   92   Left    Some Never 173.00 Metric  \n",
       "2 Male   19.5   20.5   Left  R on L  104   Left    None Regul 177.80 Imperial\n",
       "3 Male   18.0   13.3   Right L on R   87   Neither None Occas     NA NA      \n",
       "4 Male   18.8   18.9   Right R on L   NA   Neither None Never 160.00 Metric  \n",
       "5 Male   20.0   20.0   Right Neither  35   Right   Some Never 165.00 Metric  \n",
       "6 Female 18.0   17.7   Right L on R   64   Right   Some Never 172.72 Imperial\n",
       "  Age   \n",
       "1 18.250\n",
       "2 17.583\n",
       "3 16.917\n",
       "4 20.333\n",
       "5 23.667\n",
       "6 21.000"
      ]
     },
     "metadata": {},
     "output_type": "display_data"
    }
   ],
   "source": [
    "head(survey)"
   ]
  },
  {
   "cell_type": "markdown",
   "metadata": {},
   "source": [
    "# Point Estimate of Population Mean"
   ]
  },
  {
   "cell_type": "markdown",
   "metadata": {},
   "source": [
    "For any particular random sample, we can always compute its sample mean. Although most often it is not the actual population mean, it does serve as a good _point estimate_."
   ]
  },
  {
   "cell_type": "code",
   "execution_count": 6,
   "metadata": {},
   "outputs": [],
   "source": [
    "height.survey = survey$Height"
   ]
  },
  {
   "cell_type": "code",
   "execution_count": 7,
   "metadata": {},
   "outputs": [
    {
     "data": {
      "text/html": [
       "172.380861244019"
      ],
      "text/latex": [
       "172.380861244019"
      ],
      "text/markdown": [
       "172.380861244019"
      ],
      "text/plain": [
       "[1] 172.3809"
      ]
     },
     "metadata": {},
     "output_type": "display_data"
    }
   ],
   "source": [
    "mean(height.survey, na.rm=TRUE)"
   ]
  },
  {
   "cell_type": "markdown",
   "metadata": {},
   "source": [
    "# Interval Estimate of Population Mean with Known Variance"
   ]
  },
  {
   "cell_type": "markdown",
   "metadata": {},
   "source": [
    "After we found the point estimate of the population mean, we would need to quantify its accuracy. Here, we discuss the case where the population variance $\\sigma^2$ is assumed known.\n",
    "\n",
    "Let us denote the $100(1-\\alpha/2)$ percentile of the standard normal distribution as $z_{\\alpha/2}$. For random sample of sufficiently large size, the end points of the _interval estimate_ at $(1-\\alpha)$ cofindence leven is given as follows:\n",
    "\n",
    "$$ \\bar{x} \\pm z_{\\alpha/2}\\dfrac{\\sigma}{\\sqrt n} $$"
   ]
  },
  {
   "cell_type": "code",
   "execution_count": null,
   "metadata": {},
   "outputs": [],
   "source": []
  }
 ],
 "metadata": {
  "kernelspec": {
   "display_name": "R",
   "language": "R",
   "name": "ir"
  },
  "language_info": {
   "codemirror_mode": "r",
   "file_extension": ".r",
   "mimetype": "text/x-r-source",
   "name": "R",
   "pygments_lexer": "r",
   "version": "3.4.4"
  }
 },
 "nbformat": 4,
 "nbformat_minor": 2
}
