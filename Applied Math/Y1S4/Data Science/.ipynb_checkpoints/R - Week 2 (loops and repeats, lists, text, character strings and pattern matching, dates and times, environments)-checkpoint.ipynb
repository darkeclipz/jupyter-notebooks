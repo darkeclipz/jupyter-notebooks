{
 "cells": [
  {
   "cell_type": "markdown",
   "metadata": {},
   "source": [
    "# R - Week 2 (loops and repeats, lists, text, character strings and pattern matching, dates and times, environments)\n"
   ]
  },
  {
   "cell_type": "markdown",
   "metadata": {},
   "source": [
    "## Week 2"
   ]
  },
  {
   "cell_type": "markdown",
   "metadata": {},
   "source": [
    "* 2.10 Loops and repeats\n",
    "* 2.11 Lists\n",
    "* 2.12 Text, Character strings and pattern matching\n",
    "* 2.13 Dates and times in R\n",
    "* 2.14 Environments"
   ]
  },
  {
   "cell_type": "markdown",
   "metadata": {},
   "source": [
    "### Loops and repeats"
   ]
  },
  {
   "cell_type": "code",
   "execution_count": 235,
   "metadata": {},
   "outputs": [
    {
     "name": "stdout",
     "output_type": "stream",
     "text": [
      "[1] 1\n",
      "[1] 4\n",
      "[1] 9\n",
      "[1] 16\n",
      "[1] 25\n"
     ]
    }
   ],
   "source": [
    "for (i in 1:5) print(i^2)"
   ]
  },
  {
   "cell_type": "code",
   "execution_count": 236,
   "metadata": {},
   "outputs": [
    {
     "name": "stdout",
     "output_type": "stream",
     "text": [
      "[1] 3\n",
      "[1] 9\n",
      "[1] 20\n",
      "[1] 38\n",
      "[1] 65\n"
     ]
    }
   ],
   "source": [
    "j <- k <- 0\n",
    "for (i in 1:5) {\n",
    "    j <- j+1\n",
    "    k <- k+i*j\n",
    "    print(i+j+k)\n",
    "}"
   ]
  },
  {
   "cell_type": "code",
   "execution_count": 238,
   "metadata": {},
   "outputs": [],
   "source": [
    "fac1 <- function(x) {\n",
    "    f <- 1\n",
    "    if (x<2) return (1)\n",
    "    for (i in 2:x) {\n",
    "        f <- f*i\n",
    "    }\n",
    "    f\n",
    "}"
   ]
  },
  {
   "cell_type": "code",
   "execution_count": 239,
   "metadata": {},
   "outputs": [
    {
     "data": {
      "text/html": [
       "120"
      ],
      "text/latex": [
       "120"
      ],
      "text/markdown": [
       "120"
      ],
      "text/plain": [
       "[1] 120"
      ]
     },
     "metadata": {},
     "output_type": "display_data"
    }
   ],
   "source": [
    "fac1(5)"
   ]
  },
  {
   "cell_type": "code",
   "execution_count": 240,
   "metadata": {},
   "outputs": [
    {
     "data": {
      "text/html": [
       "<ol class=list-inline>\n",
       "\t<li>1</li>\n",
       "\t<li>1</li>\n",
       "\t<li>2</li>\n",
       "\t<li>6</li>\n",
       "\t<li>24</li>\n",
       "\t<li>120</li>\n",
       "</ol>\n"
      ],
      "text/latex": [
       "\\begin{enumerate*}\n",
       "\\item 1\n",
       "\\item 1\n",
       "\\item 2\n",
       "\\item 6\n",
       "\\item 24\n",
       "\\item 120\n",
       "\\end{enumerate*}\n"
      ],
      "text/markdown": [
       "1. 1\n",
       "2. 1\n",
       "3. 2\n",
       "4. 6\n",
       "5. 24\n",
       "6. 120\n",
       "\n",
       "\n"
      ],
      "text/plain": [
       "[1]   1   1   2   6  24 120"
      ]
     },
     "metadata": {},
     "output_type": "display_data"
    }
   ],
   "source": [
    "sapply(0:5, fac1)"
   ]
  },
  {
   "cell_type": "code",
   "execution_count": 242,
   "metadata": {},
   "outputs": [],
   "source": [
    "fac2 <- function(x) {\n",
    "    f <- 1\n",
    "    t <- x\n",
    "    while(t>1) {\n",
    "        f <- f*t\n",
    "        t <- t-1\n",
    "    }\n",
    "    return (f)\n",
    "}"
   ]
  },
  {
   "cell_type": "code",
   "execution_count": 243,
   "metadata": {},
   "outputs": [
    {
     "data": {
      "text/html": [
       "<ol class=list-inline>\n",
       "\t<li>1</li>\n",
       "\t<li>1</li>\n",
       "\t<li>2</li>\n",
       "\t<li>6</li>\n",
       "\t<li>24</li>\n",
       "\t<li>120</li>\n",
       "</ol>\n"
      ],
      "text/latex": [
       "\\begin{enumerate*}\n",
       "\\item 1\n",
       "\\item 1\n",
       "\\item 2\n",
       "\\item 6\n",
       "\\item 24\n",
       "\\item 120\n",
       "\\end{enumerate*}\n"
      ],
      "text/markdown": [
       "1. 1\n",
       "2. 1\n",
       "3. 2\n",
       "4. 6\n",
       "5. 24\n",
       "6. 120\n",
       "\n",
       "\n"
      ],
      "text/plain": [
       "[1]   1   1   2   6  24 120"
      ]
     },
     "metadata": {},
     "output_type": "display_data"
    }
   ],
   "source": [
    "sapply(0:5, fac2)"
   ]
  },
  {
   "cell_type": "code",
   "execution_count": 245,
   "metadata": {},
   "outputs": [],
   "source": [
    "fac3 <- function(x) {\n",
    "    f <- 1\n",
    "    t <- x\n",
    "    repeat {\n",
    "        if (t<2) break\n",
    "        f <- f*t\n",
    "        t <- t-1\n",
    "    }\n",
    "    return (f)\n",
    "}"
   ]
  },
  {
   "cell_type": "code",
   "execution_count": 247,
   "metadata": {},
   "outputs": [
    {
     "data": {
      "text/html": [
       "<ol class=list-inline>\n",
       "\t<li>1</li>\n",
       "\t<li>1</li>\n",
       "\t<li>2</li>\n",
       "\t<li>6</li>\n",
       "\t<li>24</li>\n",
       "\t<li>120</li>\n",
       "</ol>\n"
      ],
      "text/latex": [
       "\\begin{enumerate*}\n",
       "\\item 1\n",
       "\\item 1\n",
       "\\item 2\n",
       "\\item 6\n",
       "\\item 24\n",
       "\\item 120\n",
       "\\end{enumerate*}\n"
      ],
      "text/markdown": [
       "1. 1\n",
       "2. 1\n",
       "3. 2\n",
       "4. 6\n",
       "5. 24\n",
       "6. 120\n",
       "\n",
       "\n"
      ],
      "text/plain": [
       "[1]   1   1   2   6  24 120"
      ]
     },
     "metadata": {},
     "output_type": "display_data"
    }
   ],
   "source": [
    "sapply(0:5, fac3)"
   ]
  },
  {
   "cell_type": "code",
   "execution_count": 249,
   "metadata": {},
   "outputs": [
    {
     "data": {
      "text/html": [
       "<ol class=list-inline>\n",
       "\t<li>1</li>\n",
       "\t<li>2</li>\n",
       "\t<li>6</li>\n",
       "\t<li>24</li>\n",
       "\t<li>120</li>\n",
       "</ol>\n"
      ],
      "text/latex": [
       "\\begin{enumerate*}\n",
       "\\item 1\n",
       "\\item 2\n",
       "\\item 6\n",
       "\\item 24\n",
       "\\item 120\n",
       "\\end{enumerate*}\n"
      ],
      "text/markdown": [
       "1. 1\n",
       "2. 2\n",
       "3. 6\n",
       "4. 24\n",
       "5. 120\n",
       "\n",
       "\n"
      ],
      "text/plain": [
       "[1]   1   2   6  24 120"
      ]
     },
     "metadata": {},
     "output_type": "display_data"
    }
   ],
   "source": [
    "cumprod(1:5)"
   ]
  },
  {
   "cell_type": "code",
   "execution_count": 250,
   "metadata": {},
   "outputs": [],
   "source": [
    "fac4 <- function(x) max(cumprod(1:x))"
   ]
  },
  {
   "cell_type": "code",
   "execution_count": 251,
   "metadata": {},
   "outputs": [
    {
     "data": {
      "text/html": [
       "1"
      ],
      "text/latex": [
       "1"
      ],
      "text/markdown": [
       "1"
      ],
      "text/plain": [
       "[1] 1"
      ]
     },
     "metadata": {},
     "output_type": "display_data"
    }
   ],
   "source": [
    "max(cumprod(1:0))"
   ]
  },
  {
   "cell_type": "code",
   "execution_count": 252,
   "metadata": {},
   "outputs": [
    {
     "data": {
      "text/html": [
       "<ol class=list-inline>\n",
       "\t<li>1</li>\n",
       "\t<li>1</li>\n",
       "\t<li>2</li>\n",
       "\t<li>6</li>\n",
       "\t<li>24</li>\n",
       "\t<li>120</li>\n",
       "</ol>\n"
      ],
      "text/latex": [
       "\\begin{enumerate*}\n",
       "\\item 1\n",
       "\\item 1\n",
       "\\item 2\n",
       "\\item 6\n",
       "\\item 24\n",
       "\\item 120\n",
       "\\end{enumerate*}\n"
      ],
      "text/markdown": [
       "1. 1\n",
       "2. 1\n",
       "3. 2\n",
       "4. 6\n",
       "5. 24\n",
       "6. 120\n",
       "\n",
       "\n"
      ],
      "text/plain": [
       "[1]   1   1   2   6  24 120"
      ]
     },
     "metadata": {},
     "output_type": "display_data"
    }
   ],
   "source": [
    "sapply(0:5, fac4)"
   ]
  },
  {
   "cell_type": "code",
   "execution_count": 253,
   "metadata": {},
   "outputs": [
    {
     "data": {
      "text/html": [
       "<ol class=list-inline>\n",
       "\t<li>1</li>\n",
       "\t<li>1</li>\n",
       "\t<li>2</li>\n",
       "\t<li>6</li>\n",
       "\t<li>24</li>\n",
       "\t<li>120</li>\n",
       "</ol>\n"
      ],
      "text/latex": [
       "\\begin{enumerate*}\n",
       "\\item 1\n",
       "\\item 1\n",
       "\\item 2\n",
       "\\item 6\n",
       "\\item 24\n",
       "\\item 120\n",
       "\\end{enumerate*}\n"
      ],
      "text/markdown": [
       "1. 1\n",
       "2. 1\n",
       "3. 2\n",
       "4. 6\n",
       "5. 24\n",
       "6. 120\n",
       "\n",
       "\n"
      ],
      "text/plain": [
       "[1]   1   1   2   6  24 120"
      ]
     },
     "metadata": {},
     "output_type": "display_data"
    }
   ],
   "source": [
    "fac5 <- function(x) gamma(x+1)\n",
    "sapply(0:5, fac5)"
   ]
  },
  {
   "cell_type": "code",
   "execution_count": 254,
   "metadata": {},
   "outputs": [
    {
     "data": {
      "text/html": [
       "<ol class=list-inline>\n",
       "\t<li>1</li>\n",
       "\t<li>1</li>\n",
       "\t<li>2</li>\n",
       "\t<li>6</li>\n",
       "\t<li>24</li>\n",
       "\t<li>120</li>\n",
       "</ol>\n"
      ],
      "text/latex": [
       "\\begin{enumerate*}\n",
       "\\item 1\n",
       "\\item 1\n",
       "\\item 2\n",
       "\\item 6\n",
       "\\item 24\n",
       "\\item 120\n",
       "\\end{enumerate*}\n"
      ],
      "text/markdown": [
       "1. 1\n",
       "2. 1\n",
       "3. 2\n",
       "4. 6\n",
       "5. 24\n",
       "6. 120\n",
       "\n",
       "\n"
      ],
      "text/plain": [
       "[1]   1   1   2   6  24 120"
      ]
     },
     "metadata": {},
     "output_type": "display_data"
    }
   ],
   "source": [
    "sapply(0:5, factorial)"
   ]
  },
  {
   "cell_type": "code",
   "execution_count": 1,
   "metadata": {},
   "outputs": [
    {
     "data": {
      "text/html": [
       "6"
      ],
      "text/latex": [
       "6"
      ],
      "text/markdown": [
       "6"
      ],
      "text/plain": [
       "[1] 6"
      ]
     },
     "metadata": {},
     "output_type": "display_data"
    }
   ],
   "source": [
    "factorial(3)"
   ]
  },
  {
   "cell_type": "markdown",
   "metadata": {},
   "source": [
    "#### Creating the binary representation of a number"
   ]
  },
  {
   "cell_type": "markdown",
   "metadata": {},
   "source": [
    "binary <- function(x) {\n",
    "    i <- 0\n",
    "    string <- numeric(32)\n",
    "    while(x>0) {\n",
    "        string[32-i]< -x %% 2\n",
    "        x <- x %% 2\n",
    "        i <- i+1\n",
    "    }\n",
    "    first <- match(1, string)\n",
    "    string[first:32]\n",
    "}"
   ]
  },
  {
   "cell_type": "markdown",
   "metadata": {},
   "source": [
    "sapply(15:17, binary)"
   ]
  },
  {
   "cell_type": "code",
   "execution_count": 2,
   "metadata": {},
   "outputs": [],
   "source": [
    "fibonacci <- function(n) {\n",
    "    a <- 1\n",
    "    b <- 0\n",
    "    while(n>0) {\n",
    "        swap <- a\n",
    "        a <- a+b\n",
    "        b <- swap\n",
    "        n <- n-1\n",
    "    }\n",
    "    b\n",
    "}"
   ]
  },
  {
   "cell_type": "code",
   "execution_count": 3,
   "metadata": {},
   "outputs": [
    {
     "data": {
      "text/html": [
       "<ol class=list-inline>\n",
       "\t<li>1</li>\n",
       "\t<li>1</li>\n",
       "\t<li>2</li>\n",
       "\t<li>3</li>\n",
       "\t<li>5</li>\n",
       "\t<li>8</li>\n",
       "\t<li>13</li>\n",
       "\t<li>21</li>\n",
       "\t<li>34</li>\n",
       "\t<li>55</li>\n",
       "</ol>\n"
      ],
      "text/latex": [
       "\\begin{enumerate*}\n",
       "\\item 1\n",
       "\\item 1\n",
       "\\item 2\n",
       "\\item 3\n",
       "\\item 5\n",
       "\\item 8\n",
       "\\item 13\n",
       "\\item 21\n",
       "\\item 34\n",
       "\\item 55\n",
       "\\end{enumerate*}\n"
      ],
      "text/markdown": [
       "1. 1\n",
       "2. 1\n",
       "3. 2\n",
       "4. 3\n",
       "5. 5\n",
       "6. 8\n",
       "7. 13\n",
       "8. 21\n",
       "9. 34\n",
       "10. 55\n",
       "\n",
       "\n"
      ],
      "text/plain": [
       " [1]  1  1  2  3  5  8 13 21 34 55"
      ]
     },
     "metadata": {},
     "output_type": "display_data"
    }
   ],
   "source": [
    "sapply(1:10, fibonacci)"
   ]
  },
  {
   "cell_type": "markdown",
   "metadata": {},
   "source": [
    "#### Loop avoidance"
   ]
  },
  {
   "cell_type": "markdown",
   "metadata": {},
   "source": [
    "for (i in 1:length(y)) { if(y[i] < 0) y[i] <- 0 }"
   ]
  },
  {
   "cell_type": "code",
   "execution_count": 5,
   "metadata": {},
   "outputs": [],
   "source": [
    "y <- -5:5"
   ]
  },
  {
   "cell_type": "code",
   "execution_count": 6,
   "metadata": {},
   "outputs": [
    {
     "data": {
      "text/html": [
       "<ol class=list-inline>\n",
       "\t<li>-5</li>\n",
       "\t<li>-4</li>\n",
       "\t<li>-3</li>\n",
       "\t<li>-2</li>\n",
       "\t<li>-1</li>\n",
       "\t<li>0</li>\n",
       "\t<li>1</li>\n",
       "\t<li>2</li>\n",
       "\t<li>3</li>\n",
       "\t<li>4</li>\n",
       "\t<li>5</li>\n",
       "</ol>\n"
      ],
      "text/latex": [
       "\\begin{enumerate*}\n",
       "\\item -5\n",
       "\\item -4\n",
       "\\item -3\n",
       "\\item -2\n",
       "\\item -1\n",
       "\\item 0\n",
       "\\item 1\n",
       "\\item 2\n",
       "\\item 3\n",
       "\\item 4\n",
       "\\item 5\n",
       "\\end{enumerate*}\n"
      ],
      "text/markdown": [
       "1. -5\n",
       "2. -4\n",
       "3. -3\n",
       "4. -2\n",
       "5. -1\n",
       "6. 0\n",
       "7. 1\n",
       "8. 2\n",
       "9. 3\n",
       "10. 4\n",
       "11. 5\n",
       "\n",
       "\n"
      ],
      "text/plain": [
       " [1] -5 -4 -3 -2 -1  0  1  2  3  4  5"
      ]
     },
     "metadata": {},
     "output_type": "display_data"
    }
   ],
   "source": [
    "y"
   ]
  },
  {
   "cell_type": "code",
   "execution_count": 7,
   "metadata": {},
   "outputs": [],
   "source": [
    "y[y<0] <- 0"
   ]
  },
  {
   "cell_type": "code",
   "execution_count": 8,
   "metadata": {},
   "outputs": [
    {
     "data": {
      "text/html": [
       "<ol class=list-inline>\n",
       "\t<li>0</li>\n",
       "\t<li>0</li>\n",
       "\t<li>0</li>\n",
       "\t<li>0</li>\n",
       "\t<li>0</li>\n",
       "\t<li>0</li>\n",
       "\t<li>1</li>\n",
       "\t<li>2</li>\n",
       "\t<li>3</li>\n",
       "\t<li>4</li>\n",
       "\t<li>5</li>\n",
       "</ol>\n"
      ],
      "text/latex": [
       "\\begin{enumerate*}\n",
       "\\item 0\n",
       "\\item 0\n",
       "\\item 0\n",
       "\\item 0\n",
       "\\item 0\n",
       "\\item 0\n",
       "\\item 1\n",
       "\\item 2\n",
       "\\item 3\n",
       "\\item 4\n",
       "\\item 5\n",
       "\\end{enumerate*}\n"
      ],
      "text/markdown": [
       "1. 0\n",
       "2. 0\n",
       "3. 0\n",
       "4. 0\n",
       "5. 0\n",
       "6. 0\n",
       "7. 1\n",
       "8. 2\n",
       "9. 3\n",
       "10. 4\n",
       "11. 5\n",
       "\n",
       "\n"
      ],
      "text/plain": [
       " [1] 0 0 0 0 0 0 1 2 3 4 5"
      ]
     },
     "metadata": {},
     "output_type": "display_data"
    }
   ],
   "source": [
    "y"
   ]
  },
  {
   "cell_type": "code",
   "execution_count": 9,
   "metadata": {},
   "outputs": [],
   "source": [
    "z <- -5:5"
   ]
  },
  {
   "cell_type": "code",
   "execution_count": 10,
   "metadata": {},
   "outputs": [],
   "source": [
    "z <- ifelse(z < 0, -1, 1)"
   ]
  },
  {
   "cell_type": "code",
   "execution_count": 11,
   "metadata": {},
   "outputs": [
    {
     "data": {
      "text/html": [
       "<ol class=list-inline>\n",
       "\t<li>-1</li>\n",
       "\t<li>-1</li>\n",
       "\t<li>-1</li>\n",
       "\t<li>-1</li>\n",
       "\t<li>-1</li>\n",
       "\t<li>1</li>\n",
       "\t<li>1</li>\n",
       "\t<li>1</li>\n",
       "\t<li>1</li>\n",
       "\t<li>1</li>\n",
       "\t<li>1</li>\n",
       "</ol>\n"
      ],
      "text/latex": [
       "\\begin{enumerate*}\n",
       "\\item -1\n",
       "\\item -1\n",
       "\\item -1\n",
       "\\item -1\n",
       "\\item -1\n",
       "\\item 1\n",
       "\\item 1\n",
       "\\item 1\n",
       "\\item 1\n",
       "\\item 1\n",
       "\\item 1\n",
       "\\end{enumerate*}\n"
      ],
      "text/markdown": [
       "1. -1\n",
       "2. -1\n",
       "3. -1\n",
       "4. -1\n",
       "5. -1\n",
       "6. 1\n",
       "7. 1\n",
       "8. 1\n",
       "9. 1\n",
       "10. 1\n",
       "11. 1\n",
       "\n",
       "\n"
      ],
      "text/plain": [
       " [1] -1 -1 -1 -1 -1  1  1  1  1  1  1"
      ]
     },
     "metadata": {},
     "output_type": "display_data"
    }
   ],
   "source": [
    "z"
   ]
  },
  {
   "cell_type": "markdown",
   "metadata": {},
   "source": [
    "#### The slowness of loops"
   ]
  },
  {
   "cell_type": "code",
   "execution_count": 16,
   "metadata": {},
   "outputs": [],
   "source": [
    "x <- runif(10000000)"
   ]
  },
  {
   "cell_type": "code",
   "execution_count": 17,
   "metadata": {},
   "outputs": [
    {
     "data": {
      "text/plain": [
       "   user  system elapsed \n",
       "   0.03    0.00    0.03 "
      ]
     },
     "metadata": {},
     "output_type": "display_data"
    }
   ],
   "source": [
    "system.time(max(x))"
   ]
  },
  {
   "cell_type": "markdown",
   "metadata": {},
   "source": [
    "#### Loops for producing time series"
   ]
  },
  {
   "cell_type": "markdown",
   "metadata": {},
   "source": [
    "$$ N(t+1)=\\lambda N (t)[1-N(t)]$$"
   ]
  },
  {
   "cell_type": "code",
   "execution_count": 18,
   "metadata": {},
   "outputs": [],
   "source": [
    "next.year <- function(x) lambda * x * (1 - x)"
   ]
  },
  {
   "cell_type": "code",
   "execution_count": 21,
   "metadata": {},
   "outputs": [
    {
     "data": {
      "text/html": [
       "0.888"
      ],
      "text/latex": [
       "0.888"
      ],
      "text/markdown": [
       "0.888"
      ],
      "text/plain": [
       "[1] 0.888"
      ]
     },
     "metadata": {},
     "output_type": "display_data"
    }
   ],
   "source": [
    "lambda <- 3.7\n",
    "next.year(0.6)"
   ]
  },
  {
   "cell_type": "code",
   "execution_count": 22,
   "metadata": {},
   "outputs": [
    {
     "data": {
      "text/html": [
       "0.3679872"
      ],
      "text/latex": [
       "0.3679872"
      ],
      "text/markdown": [
       "0.3679872"
      ],
      "text/plain": [
       "[1] 0.3679872"
      ]
     },
     "metadata": {},
     "output_type": "display_data"
    }
   ],
   "source": [
    "next.year(0.888)"
   ]
  },
  {
   "cell_type": "code",
   "execution_count": 23,
   "metadata": {},
   "outputs": [],
   "source": [
    "N <- numeric(20)"
   ]
  },
  {
   "cell_type": "code",
   "execution_count": 24,
   "metadata": {},
   "outputs": [],
   "source": [
    "N[1] <- 0.6"
   ]
  },
  {
   "cell_type": "code",
   "execution_count": 25,
   "metadata": {},
   "outputs": [],
   "source": [
    "for(t in 2:20) N[t] <- next.year(N[t-1])"
   ]
  },
  {
   "cell_type": "code",
   "execution_count": 26,
   "metadata": {
    "scrolled": false
   },
   "outputs": [
    {
     "data": {
      "image/png": "[encoded data removed]",
      "text/plain": [
       "plot without title"
      ]
     },
     "metadata": {},
     "output_type": "display_data"
    }
   ],
   "source": [
    "plot(N, type=\"l\")"
   ]
  },
  {
   "cell_type": "code",
   "execution_count": null,
   "metadata": {},
   "outputs": [],
   "source": []
  }
 ],
 "metadata": {
  "kernelspec": {
   "display_name": "R",
   "language": "R",
   "name": "ir"
  },
  "language_info": {
   "codemirror_mode": "r",
   "file_extension": ".r",
   "mimetype": "text/x-r-source",
   "name": "R",
   "pygments_lexer": "r",
   "version": "3.4.4"
  }
 },
 "nbformat": 4,
 "nbformat_minor": 2
}
