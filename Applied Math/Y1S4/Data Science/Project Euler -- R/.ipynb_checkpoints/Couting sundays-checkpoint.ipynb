{
 "cells": [
  {
   "cell_type": "markdown",
   "metadata": {},
   "source": [
    "# Counting sundays"
   ]
  },
  {
   "cell_type": "markdown",
   "metadata": {},
   "source": [
    "## Problem"
   ]
  },
  {
   "cell_type": "markdown",
   "metadata": {},
   "source": [
    "You are given the following information, but you may prefer to do some research for yourself.\n",
    "\n",
    "* 1 Jan 1900 was a Monday.\n",
    "* Thirty days has September, April, June and November. All the rest have thirty-one, Saving February alone, Which has twenty-eight, rain or shine. And on leap years, twenty-nine.\n",
    "* A leap year occurs on any year evenly divisible by 4, but not on a century unless it is divisible by 400.\n",
    "\n",
    "**How many Sundays fell on the first of the month during the twentieth century (1 Jan 1901 to 31 Dec 2000)?**"
   ]
  },
  {
   "cell_type": "markdown",
   "metadata": {},
   "source": [
    "## Algorithm"
   ]
  },
  {
   "cell_type": "markdown",
   "metadata": {},
   "source": [
    "The algorithm follows these steps:\n",
    "\n",
    "1. For each $y$ in years $[1901, 2000]$\n",
    "2. For each $m$ in months $[1, 12]$\n",
    "3. For each $d$ in `days.in.month(m, is.leap.year(y))`\n",
    "4. Increment counter `sundays` if it is a sunday.\n",
    "5. Increment day counter; $D_{n+1}\\equiv D + 1 \\pmod{7}$"
   ]
  },
  {
   "cell_type": "code",
   "execution_count": 135,
   "metadata": {},
   "outputs": [
    {
     "name": "stdout",
     "output_type": "stream",
     "text": [
      "[1] \"There are 171 sundays\"\n"
     ]
    }
   ],
   "source": [
    "days.in.month <- function(month, is.leap.year) {\n",
    "    if(month %in% c(4, 6, 9, 11)) return (30)\n",
    "    if(month == 2) return (28 + ifelse(is.leap.year,1,0))\n",
    "    return (31)\n",
    "}\n",
    "\n",
    "is.leap.year <- function(year) {\n",
    "    (year %% 4 == 0 && year %% 100 != 0 && year %% 400 == 0)\n",
    "}\n",
    "\n",
    "current.day = 0\n",
    "sundays = 0\n",
    "\n",
    "for (y in 1900:2000) {\n",
    "    for (m in 1:12) {\n",
    "        for (d in 1:days.in.month(m, is.leap.year(y))) {\n",
    "            sundays = sundays + ifelse(y>1900 && d==1 && current.day==6, 1, 0)\n",
    "            current.day = (current.day + 1) %% 7\n",
    "        }\n",
    "    }\n",
    "}\n",
    "\n",
    "print(paste('There are', sundays, 'sundays'))"
   ]
  },
  {
   "cell_type": "code",
   "execution_count": 114,
   "metadata": {},
   "outputs": [
    {
     "data": {
      "text/html": [
       "5"
      ],
      "text/latex": [
       "5"
      ],
      "text/markdown": [
       "5"
      ],
      "text/plain": [
       "[1] 5"
      ]
     },
     "metadata": {},
     "output_type": "display_data"
    }
   ],
   "source": [
    "2000/400"
   ]
  },
  {
   "cell_type": "code",
   "execution_count": 115,
   "metadata": {},
   "outputs": [
    {
     "data": {
      "text/html": [
       "TRUE"
      ],
      "text/latex": [
       "TRUE"
      ],
      "text/markdown": [
       "TRUE"
      ],
      "text/plain": [
       "[1] TRUE"
      ]
     },
     "metadata": {},
     "output_type": "display_data"
    }
   ],
   "source": [
    "is.leap.year(2000)"
   ]
  },
  {
   "cell_type": "code",
   "execution_count": 116,
   "metadata": {},
   "outputs": [
    {
     "data": {
      "text/html": [
       "4.5"
      ],
      "text/latex": [
       "4.5"
      ],
      "text/markdown": [
       "4.5"
      ],
      "text/plain": [
       "[1] 4.5"
      ]
     },
     "metadata": {},
     "output_type": "display_data"
    }
   ],
   "source": [
    "1800/400"
   ]
  },
  {
   "cell_type": "code",
   "execution_count": 117,
   "metadata": {},
   "outputs": [
    {
     "data": {
      "text/html": [
       "TRUE"
      ],
      "text/latex": [
       "TRUE"
      ],
      "text/markdown": [
       "TRUE"
      ],
      "text/plain": [
       "[1] TRUE"
      ]
     },
     "metadata": {},
     "output_type": "display_data"
    }
   ],
   "source": [
    "is.leap.year(2000)"
   ]
  },
  {
   "cell_type": "code",
   "execution_count": 118,
   "metadata": {},
   "outputs": [
    {
     "data": {
      "text/html": [
       "FALSE"
      ],
      "text/latex": [
       "FALSE"
      ],
      "text/markdown": [
       "FALSE"
      ],
      "text/plain": [
       "[1] FALSE"
      ]
     },
     "metadata": {},
     "output_type": "display_data"
    }
   ],
   "source": [
    "is.leap.year(1800)"
   ]
  },
  {
   "cell_type": "code",
   "execution_count": 119,
   "metadata": {},
   "outputs": [
    {
     "data": {
      "text/html": [
       "FALSE"
      ],
      "text/latex": [
       "FALSE"
      ],
      "text/markdown": [
       "FALSE"
      ],
      "text/plain": [
       "[1] FALSE"
      ]
     },
     "metadata": {},
     "output_type": "display_data"
    }
   ],
   "source": [
    "is.leap.year(1700)"
   ]
  },
  {
   "cell_type": "code",
   "execution_count": 124,
   "metadata": {},
   "outputs": [
    {
     "name": "stdout",
     "output_type": "stream",
     "text": [
      "[1] \"1000 FALSE\"\n",
      "[1] \"1100 FALSE\"\n",
      "[1] \"1200 TRUE\"\n",
      "[1] \"1300 FALSE\"\n",
      "[1] \"1400 FALSE\"\n",
      "[1] \"1500 FALSE\"\n",
      "[1] \"1600 TRUE\"\n",
      "[1] \"1700 FALSE\"\n",
      "[1] \"1800 FALSE\"\n",
      "[1] \"1900 FALSE\"\n",
      "[1] \"2000 TRUE\"\n"
     ]
    }
   ],
   "source": [
    "for (i in 10:20) print(paste(i*100, is.leap.year(i*100)))"
   ]
  },
  {
   "cell_type": "code",
   "execution_count": 122,
   "metadata": {},
   "outputs": [
    {
     "name": "stdout",
     "output_type": "stream",
     "text": [
      "[1] \"1804 TRUE\"\n",
      "[1] \"1808 TRUE\"\n",
      "[1] \"1812 TRUE\"\n",
      "[1] \"1816 TRUE\"\n",
      "[1] \"1820 TRUE\"\n",
      "[1] \"1824 TRUE\"\n",
      "[1] \"1828 TRUE\"\n",
      "[1] \"1832 TRUE\"\n",
      "[1] \"1836 TRUE\"\n",
      "[1] \"1840 TRUE\"\n",
      "[1] \"1844 TRUE\"\n",
      "[1] \"1848 TRUE\"\n",
      "[1] \"1852 TRUE\"\n",
      "[1] \"1856 TRUE\"\n",
      "[1] \"1860 TRUE\"\n",
      "[1] \"1864 TRUE\"\n",
      "[1] \"1868 TRUE\"\n",
      "[1] \"1872 TRUE\"\n",
      "[1] \"1876 TRUE\"\n",
      "[1] \"1880 TRUE\"\n",
      "[1] \"1884 TRUE\"\n",
      "[1] \"1888 TRUE\"\n",
      "[1] \"1892 TRUE\"\n",
      "[1] \"1896 TRUE\"\n",
      "[1] \"1900 FALSE\"\n",
      "[1] \"1904 TRUE\"\n",
      "[1] \"1908 TRUE\"\n",
      "[1] \"1912 TRUE\"\n",
      "[1] \"1916 TRUE\"\n",
      "[1] \"1920 TRUE\"\n",
      "[1] \"1924 TRUE\"\n",
      "[1] \"1928 TRUE\"\n",
      "[1] \"1932 TRUE\"\n",
      "[1] \"1936 TRUE\"\n",
      "[1] \"1940 TRUE\"\n",
      "[1] \"1944 TRUE\"\n",
      "[1] \"1948 TRUE\"\n",
      "[1] \"1952 TRUE\"\n",
      "[1] \"1956 TRUE\"\n",
      "[1] \"1960 TRUE\"\n",
      "[1] \"1964 TRUE\"\n",
      "[1] \"1968 TRUE\"\n",
      "[1] \"1972 TRUE\"\n",
      "[1] \"1976 TRUE\"\n",
      "[1] \"1980 TRUE\"\n",
      "[1] \"1984 TRUE\"\n",
      "[1] \"1988 TRUE\"\n",
      "[1] \"1992 TRUE\"\n",
      "[1] \"1996 TRUE\"\n",
      "[1] \"2000 TRUE\"\n"
     ]
    }
   ],
   "source": [
    "for (i in 1:50) {\n",
    "    y = 1800 + 4 * i\n",
    "    print(paste(y, is.leap.year(y)))\n",
    "}"
   ]
  },
  {
   "cell_type": "code",
   "execution_count": null,
   "metadata": {},
   "outputs": [],
   "source": []
  }
 ],
 "metadata": {
  "kernelspec": {
   "display_name": "R",
   "language": "R",
   "name": "ir"
  },
  "language_info": {
   "codemirror_mode": "r",
   "file_extension": ".r",
   "mimetype": "text/x-r-source",
   "name": "R",
   "pygments_lexer": "r",
   "version": "3.5.0"
  }
 },
 "nbformat": 4,
 "nbformat_minor": 2
}
