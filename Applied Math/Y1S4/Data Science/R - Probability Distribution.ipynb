{
 "cells": [
  {
   "cell_type": "markdown",
   "metadata": {},
   "source": [
    "# Binomial Distribution"
   ]
  },
  {
   "cell_type": "markdown",
   "metadata": {},
   "source": [
    "The binomial distribution is a discrete probability distribution.\n",
    "\n",
    "$$ f(x) = \\begin{pmatrix}n\\\\x\\end{pmatrix}p^x(1-p)^{(n-x)} \\text{ where } x = 0,1,2,\\ldots,n$$"
   ]
  },
  {
   "cell_type": "code",
   "execution_count": 3,
   "metadata": {},
   "outputs": [
    {
     "data": {
      "text/html": [
       "0.13287555072"
      ],
      "text/latex": [
       "0.13287555072"
      ],
      "text/markdown": [
       "0.13287555072"
      ],
      "text/plain": [
       "[1] 0.1328756"
      ]
     },
     "metadata": {},
     "output_type": "display_data"
    }
   ],
   "source": [
    "dbinom(4, size=12, prob=0.2)"
   ]
  },
  {
   "cell_type": "code",
   "execution_count": 4,
   "metadata": {
    "scrolled": true
   },
   "outputs": [
    {
     "data": {
      "text/html": [
       "0.92744450048"
      ],
      "text/latex": [
       "0.92744450048"
      ],
      "text/markdown": [
       "0.92744450048"
      ],
      "text/plain": [
       "[1] 0.9274445"
      ]
     },
     "metadata": {},
     "output_type": "display_data"
    }
   ],
   "source": [
    "pbinom(4, size=12, prob=0.2)"
   ]
  },
  {
   "cell_type": "markdown",
   "metadata": {},
   "source": [
    "# Poisson Distribution"
   ]
  },
  {
   "cell_type": "markdown",
   "metadata": {},
   "source": [
    "The _Poisson_ distribution is the probability distribution of independent event occurrences in an interval. If $\\lambda$ is the mean occurence per interval, then the probability of having $x$ occurances within the given interval is:\n",
    "\n",
    "$$ f(x) = \\dfrac{\\lambda^x}{x!}e^{-\\lambda} \\text{ where } x = 0,1,2,3,... $$"
   ]
  },
  {
   "cell_type": "code",
   "execution_count": 5,
   "metadata": {},
   "outputs": [
    {
     "data": {
      "text/html": [
       "0.844415652450183"
      ],
      "text/latex": [
       "0.844415652450183"
      ],
      "text/markdown": [
       "0.844415652450183"
      ],
      "text/plain": [
       "[1] 0.8444157"
      ]
     },
     "metadata": {},
     "output_type": "display_data"
    }
   ],
   "source": [
    "ppois(15, lambda=12) # lower tail"
   ]
  },
  {
   "cell_type": "code",
   "execution_count": 6,
   "metadata": {},
   "outputs": [
    {
     "data": {
      "text/html": [
       "0.101291007439838"
      ],
      "text/latex": [
       "0.101291007439838"
      ],
      "text/markdown": [
       "0.101291007439838"
      ],
      "text/plain": [
       "[1] 0.101291"
      ]
     },
     "metadata": {},
     "output_type": "display_data"
    }
   ],
   "source": [
    "ppois(16, lambda=12, lower=FALSE) # upper tail"
   ]
  },
  {
   "cell_type": "markdown",
   "metadata": {},
   "source": [
    "# Continuous Uniform Distribution"
   ]
  },
  {
   "cell_type": "markdown",
   "metadata": {},
   "source": [
    "The continuous uniform distribution is the probability distribution of random number selection from a continuous interval between $a$ and $b$. Its density function is defined by the following:\n",
    "\n",
    "$$ f(x) = \\begin{cases} \\frac{1}{b-a} \\quad, a\\leq x \\leq b \\\\ 0 \\quad, x<a \\text{ or } x > b \\end{cases} $$\n"
   ]
  },
  {
   "cell_type": "code",
   "execution_count": 7,
   "metadata": {},
   "outputs": [
    {
     "data": {
      "text/html": [
       "<ol class=list-inline>\n",
       "\t<li>1.60670404788107</li>\n",
       "\t<li>1.8071241658181</li>\n",
       "\t<li>1.57675447082147</li>\n",
       "\t<li>2.46533301891759</li>\n",
       "\t<li>1.01527833472937</li>\n",
       "\t<li>2.37565862387419</li>\n",
       "\t<li>2.83591312076896</li>\n",
       "\t<li>1.34488996304572</li>\n",
       "\t<li>2.30521264346316</li>\n",
       "\t<li>1.46927184797823</li>\n",
       "</ol>\n"
      ],
      "text/latex": [
       "\\begin{enumerate*}\n",
       "\\item 1.60670404788107\n",
       "\\item 1.8071241658181\n",
       "\\item 1.57675447082147\n",
       "\\item 2.46533301891759\n",
       "\\item 1.01527833472937\n",
       "\\item 2.37565862387419\n",
       "\\item 2.83591312076896\n",
       "\\item 1.34488996304572\n",
       "\\item 2.30521264346316\n",
       "\\item 1.46927184797823\n",
       "\\end{enumerate*}\n"
      ],
      "text/markdown": [
       "1. 1.60670404788107\n",
       "2. 1.8071241658181\n",
       "3. 1.57675447082147\n",
       "4. 2.46533301891759\n",
       "5. 1.01527833472937\n",
       "6. 2.37565862387419\n",
       "7. 2.83591312076896\n",
       "8. 1.34488996304572\n",
       "9. 2.30521264346316\n",
       "10. 1.46927184797823\n",
       "\n",
       "\n"
      ],
      "text/plain": [
       " [1] 1.606704 1.807124 1.576754 2.465333 1.015278 2.375659 2.835913 1.344890\n",
       " [9] 2.305213 1.469272"
      ]
     },
     "metadata": {},
     "output_type": "display_data"
    }
   ],
   "source": [
    "runif(10, min=1, max=3)"
   ]
  },
  {
   "cell_type": "markdown",
   "metadata": {},
   "source": [
    "# Exponential Distribution"
   ]
  },
  {
   "cell_type": "markdown",
   "metadata": {},
   "source": [
    "The _exponential distribution_ describes the arrival time of a randomly recurring independent event sequence. If $\\mu$ is the mean waiting time for the next event recurrence, its probability density function is:\n",
    "\n",
    "$$ f(x) = \\begin{cases} \\frac{1}{\\mu}e^{-x/\\mu} \\quad, \\text{ when } x\\geq0 \\\\ 0 \\quad, \\text{ when } x < 0 \\end{cases}$$"
   ]
  },
  {
   "cell_type": "code",
   "execution_count": 8,
   "metadata": {
    "scrolled": true
   },
   "outputs": [
    {
     "data": {
      "text/html": [
       "0.486582880967408"
      ],
      "text/latex": [
       "0.486582880967408"
      ],
      "text/markdown": [
       "0.486582880967408"
      ],
      "text/plain": [
       "[1] 0.4865829"
      ]
     },
     "metadata": {},
     "output_type": "display_data"
    }
   ],
   "source": [
    "pexp(2, rate=1/3)"
   ]
  },
  {
   "cell_type": "markdown",
   "metadata": {},
   "source": [
    "# Normal Distribution"
   ]
  },
  {
   "cell_type": "markdown",
   "metadata": {},
   "source": [
    "The _normal distribution_ is defined by the following probability density function, where $\\mu$ is the population mean and $\\sigma^2$ is the variance.\n",
    "\n",
    "$$ f(x) = \\dfrac{1}{\\sigma\\sqrt{2\\pi}}e^{-(x-\\mu)^2/2\\sigma^2} $$"
   ]
  },
  {
   "cell_type": "code",
   "execution_count": 9,
   "metadata": {
    "scrolled": true
   },
   "outputs": [
    {
     "data": {
      "text/html": [
       "0.214917602311272"
      ],
      "text/latex": [
       "0.214917602311272"
      ],
      "text/markdown": [
       "0.214917602311272"
      ],
      "text/plain": [
       "[1] 0.2149176"
      ]
     },
     "metadata": {},
     "output_type": "display_data"
    }
   ],
   "source": [
    "pnorm(84, mean=72, sd=15.2, lower.tail=FALSE)"
   ]
  },
  {
   "cell_type": "markdown",
   "metadata": {},
   "source": [
    "# Chi-squared Distribution"
   ]
  },
  {
   "cell_type": "markdown",
   "metadata": {},
   "source": [
    "If $X_1,X_2,...,X_m$ are $m$ independent random variables having the standard normal distribution, then the following quantity follows a _Chi-squared distribution_ with _m degrees of freedom_. Its mean is $m$, and its variance is $2m$.\n",
    "\n",
    "$$ V = X_1^2 + X_2^2 + \\ldots + X_m^2 \\sim X_{(m)} $$"
   ]
  },
  {
   "cell_type": "code",
   "execution_count": 10,
   "metadata": {},
   "outputs": [
    {
     "data": {
      "text/html": [
       "14.0671404493402"
      ],
      "text/latex": [
       "14.0671404493402"
      ],
      "text/markdown": [
       "14.0671404493402"
      ],
      "text/plain": [
       "[1] 14.06714"
      ]
     },
     "metadata": {},
     "output_type": "display_data"
    }
   ],
   "source": [
    "qchisq(.95, df=7)"
   ]
  },
  {
   "cell_type": "markdown",
   "metadata": {},
   "source": [
    "# Student t Distribution"
   ]
  },
  {
   "cell_type": "markdown",
   "metadata": {},
   "source": [
    "Assume that a random variable $Z$ has the standard normal distribution, and another random variable $V$ has the Chi-squared distribution with m degrees of freedom. Assume further that $Z$ and $V$ are independent, then the following quantity follows a _Student t distribution_ with _m_ degrees of freedom.\n",
    "\n",
    "$$ t = \\dfrac{Z}{\\sqrt{V/m}}\\sim t_{(m)} $$"
   ]
  },
  {
   "cell_type": "code",
   "execution_count": 11,
   "metadata": {},
   "outputs": [
    {
     "data": {
      "text/html": [
       "<ol class=list-inline>\n",
       "\t<li>-2.57058183563631</li>\n",
       "\t<li>2.57058183563631</li>\n",
       "</ol>\n"
      ],
      "text/latex": [
       "\\begin{enumerate*}\n",
       "\\item -2.57058183563631\n",
       "\\item 2.57058183563631\n",
       "\\end{enumerate*}\n"
      ],
      "text/markdown": [
       "1. -2.57058183563631\n",
       "2. 2.57058183563631\n",
       "\n",
       "\n"
      ],
      "text/plain": [
       "[1] -2.570582  2.570582"
      ]
     },
     "metadata": {},
     "output_type": "display_data"
    }
   ],
   "source": [
    "qt(c(.025, .975), df=5)"
   ]
  },
  {
   "cell_type": "markdown",
   "metadata": {},
   "source": [
    "# F Distribution"
   ]
  },
  {
   "cell_type": "markdown",
   "metadata": {},
   "source": [
    "If $V_1$ and $V_2$ are two independent random variables having the Chi-squared distribution with $m_1$ and $m_2$ degrees of freedom respectively, the the following quantity follows an _F distribution_ with _$m_1$ numerator degrees of freedom_ and _$m_2$ denominator degrees of freedom_.\n",
    "\n",
    "$$ F = \\dfrac{V_1/m_1}{V_2/m_2}\\sim F_{(m_1,m_2)} $$"
   ]
  },
  {
   "cell_type": "code",
   "execution_count": 12,
   "metadata": {},
   "outputs": [
    {
     "data": {
      "text/html": [
       "19.2964096520172"
      ],
      "text/latex": [
       "19.2964096520172"
      ],
      "text/markdown": [
       "19.2964096520172"
      ],
      "text/plain": [
       "[1] 19.29641"
      ]
     },
     "metadata": {},
     "output_type": "display_data"
    }
   ],
   "source": [
    "qf(.95, df1=5, df2=2)"
   ]
  }
 ],
 "metadata": {
  "kernelspec": {
   "display_name": "R",
   "language": "R",
   "name": "ir"
  },
  "language_info": {
   "codemirror_mode": "r",
   "file_extension": ".r",
   "mimetype": "text/x-r-source",
   "name": "R",
   "pygments_lexer": "r",
   "version": "3.4.4"
  }
 },
 "nbformat": 4,
 "nbformat_minor": 2
}
