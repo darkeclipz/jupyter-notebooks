{
 "cells": [
  {
   "cell_type": "markdown",
   "metadata": {},
   "source": [
    "# R - Week 2 (exercises)"
   ]
  },
  {
   "cell_type": "markdown",
   "metadata": {},
   "source": [
    "## R-code on solving equations with inverse matrix"
   ]
  },
  {
   "cell_type": "markdown",
   "metadata": {},
   "source": [
    "Solve the following system of equations:"
   ]
  },
  {
   "cell_type": "markdown",
   "metadata": {},
   "source": [
    "1. $2x+y+2z=3$\n",
    "2. $x-3z=-5$\n",
    "3. $2y+5z=4$"
   ]
  },
  {
   "cell_type": "markdown",
   "metadata": {},
   "source": [
    "$$ \\begin{bmatrix} 2 & 1 & 2 \\\\ 1 & 6 & -3 \\\\ 0 & 2 & 5 \\end{bmatrix} \\cdot \\begin{bmatrix} x \\\\ y \\\\ z \\end{bmatrix} = \\begin{bmatrix} 3 & -5 & 4 \\end{bmatrix} $$"
   ]
  },
  {
   "cell_type": "markdown",
   "metadata": {},
   "source": [
    "$ A \\vec{x} = \\vec{b}$\n",
    "\n",
    "$A^{-1}\\cdot A \\vec{x} = A^{-1} \\vec{b}$\n",
    "\n",
    "$I \\vec{x} = A^{-1} \\vec{b}$"
   ]
  },
  {
   "cell_type": "markdown",
   "metadata": {},
   "source": [
    "Define matrix $A$:"
   ]
  },
  {
   "cell_type": "code",
   "execution_count": 2,
   "metadata": {
    "scrolled": true
   },
   "outputs": [
    {
     "data": {
      "text/html": [
       "<table>\n",
       "<tbody>\n",
       "\t<tr><td>2 </td><td> 1</td><td>0 </td></tr>\n",
       "\t<tr><td>1 </td><td> 6</td><td>2 </td></tr>\n",
       "\t<tr><td>2 </td><td>-3</td><td>5 </td></tr>\n",
       "</tbody>\n",
       "</table>\n"
      ],
      "text/latex": [
       "\\begin{tabular}{lll}\n",
       "\t 2  &  1 & 0 \\\\\n",
       "\t 1  &  6 & 2 \\\\\n",
       "\t 2  & -3 & 5 \\\\\n",
       "\\end{tabular}\n"
      ],
      "text/markdown": [
       "\n",
       "| 2  |  1 | 0  | \n",
       "| 1  |  6 | 2  | \n",
       "| 2  | -3 | 5  | \n",
       "\n",
       "\n"
      ],
      "text/plain": [
       "     [,1] [,2] [,3]\n",
       "[1,] 2     1   0   \n",
       "[2,] 1     6   2   \n",
       "[3,] 2    -3   5   "
      ]
     },
     "metadata": {},
     "output_type": "display_data"
    }
   ],
   "source": [
    "A = matrix(c(2,1,2,1,6,-3,0,2,5), nrow=3)\n",
    "A"
   ]
  },
  {
   "cell_type": "markdown",
   "metadata": {},
   "source": [
    "The inverse $A^{-1}$ is:"
   ]
  },
  {
   "cell_type": "code",
   "execution_count": 3,
   "metadata": {},
   "outputs": [
    {
     "data": {
      "text/html": [
       "<table>\n",
       "<tbody>\n",
       "\t<tr><td> 0.50704225</td><td>-0.07042254</td><td> 0.02816901</td></tr>\n",
       "\t<tr><td>-0.01408451</td><td> 0.14084507</td><td>-0.05633803</td></tr>\n",
       "\t<tr><td>-0.21126761</td><td> 0.11267606</td><td> 0.15492958</td></tr>\n",
       "</tbody>\n",
       "</table>\n"
      ],
      "text/latex": [
       "\\begin{tabular}{lll}\n",
       "\t  0.50704225 & -0.07042254 &  0.02816901\\\\\n",
       "\t -0.01408451 &  0.14084507 & -0.05633803\\\\\n",
       "\t -0.21126761 &  0.11267606 &  0.15492958\\\\\n",
       "\\end{tabular}\n"
      ],
      "text/markdown": [
       "\n",
       "|  0.50704225 | -0.07042254 |  0.02816901 | \n",
       "| -0.01408451 |  0.14084507 | -0.05633803 | \n",
       "| -0.21126761 |  0.11267606 |  0.15492958 | \n",
       "\n",
       "\n"
      ],
      "text/plain": [
       "     [,1]        [,2]        [,3]       \n",
       "[1,]  0.50704225 -0.07042254  0.02816901\n",
       "[2,] -0.01408451  0.14084507 -0.05633803\n",
       "[3,] -0.21126761  0.11267606  0.15492958"
      ]
     },
     "metadata": {},
     "output_type": "display_data"
    }
   ],
   "source": [
    "solve(A)"
   ]
  },
  {
   "cell_type": "markdown",
   "metadata": {},
   "source": [
    "Define vector $\\vec{b}$:"
   ]
  },
  {
   "cell_type": "code",
   "execution_count": 4,
   "metadata": {},
   "outputs": [],
   "source": [
    "b = c(3, -5, 4)"
   ]
  },
  {
   "cell_type": "markdown",
   "metadata": {},
   "source": [
    "Solve the system with R functions `solve(A,b)`:"
   ]
  },
  {
   "cell_type": "code",
   "execution_count": 5,
   "metadata": {},
   "outputs": [
    {
     "data": {
      "text/html": [
       "<ol class=list-inline>\n",
       "\t<li>1.98591549295775</li>\n",
       "\t<li>-0.971830985915493</li>\n",
       "\t<li>-0.577464788732394</li>\n",
       "</ol>\n"
      ],
      "text/latex": [
       "\\begin{enumerate*}\n",
       "\\item 1.98591549295775\n",
       "\\item -0.971830985915493\n",
       "\\item -0.577464788732394\n",
       "\\end{enumerate*}\n"
      ],
      "text/markdown": [
       "1. 1.98591549295775\n",
       "2. -0.971830985915493\n",
       "3. -0.577464788732394\n",
       "\n",
       "\n"
      ],
      "text/plain": [
       "[1]  1.9859155 -0.9718310 -0.5774648"
      ]
     },
     "metadata": {},
     "output_type": "display_data"
    }
   ],
   "source": [
    "solve(A,b)"
   ]
  },
  {
   "cell_type": "markdown",
   "metadata": {},
   "source": [
    "Solve the system with $\\vec{x}=A^{-1}\\vec{b}$:"
   ]
  },
  {
   "cell_type": "code",
   "execution_count": 6,
   "metadata": {},
   "outputs": [
    {
     "data": {
      "text/html": [
       "<table>\n",
       "<tbody>\n",
       "\t<tr><td> 1.9859155</td></tr>\n",
       "\t<tr><td>-0.9718310</td></tr>\n",
       "\t<tr><td>-0.5774648</td></tr>\n",
       "</tbody>\n",
       "</table>\n"
      ],
      "text/latex": [
       "\\begin{tabular}{l}\n",
       "\t  1.9859155\\\\\n",
       "\t -0.9718310\\\\\n",
       "\t -0.5774648\\\\\n",
       "\\end{tabular}\n"
      ],
      "text/markdown": [
       "\n",
       "|  1.9859155 | \n",
       "| -0.9718310 | \n",
       "| -0.5774648 | \n",
       "\n",
       "\n"
      ],
      "text/plain": [
       "     [,1]      \n",
       "[1,]  1.9859155\n",
       "[2,] -0.9718310\n",
       "[3,] -0.5774648"
      ]
     },
     "metadata": {},
     "output_type": "display_data"
    }
   ],
   "source": [
    "solve(A) %*% b"
   ]
  },
  {
   "cell_type": "markdown",
   "metadata": {},
   "source": [
    "## R-code on least square method"
   ]
  },
  {
   "cell_type": "markdown",
   "metadata": {},
   "source": [
    "$y=ax+b$"
   ]
  },
  {
   "cell_type": "markdown",
   "metadata": {},
   "source": [
    "$A\\cdot \\vec{x} = \\vec{b}$\n",
    "\n",
    "$A^T\\cdot A \\vec{x} = A^T \\vec{b}$\n",
    "\n",
    "$(A^T A)^{-1}A^T A \\vec{x} = A^T \\vec{b}$\n",
    "\n",
    "$(A^T A)^{-1} ...$"
   ]
  },
  {
   "cell_type": "markdown",
   "metadata": {},
   "source": [
    "Define $\\vec{x}=\\begin{bmatrix}12 & 2 & 3 & 5 & 10 & 9 & 8 \\end{bmatrix}$:"
   ]
  },
  {
   "cell_type": "code",
   "execution_count": 7,
   "metadata": {},
   "outputs": [],
   "source": [
    "x = c(12, 2, 3, 5, 10, 9, 8)"
   ]
  },
  {
   "cell_type": "code",
   "execution_count": 8,
   "metadata": {},
   "outputs": [
    {
     "data": {
      "text/html": [
       "<ol class=list-inline>\n",
       "\t<li>12</li>\n",
       "\t<li>2</li>\n",
       "\t<li>3</li>\n",
       "\t<li>5</li>\n",
       "\t<li>10</li>\n",
       "\t<li>9</li>\n",
       "\t<li>8</li>\n",
       "</ol>\n"
      ],
      "text/latex": [
       "\\begin{enumerate*}\n",
       "\\item 12\n",
       "\\item 2\n",
       "\\item 3\n",
       "\\item 5\n",
       "\\item 10\n",
       "\\item 9\n",
       "\\item 8\n",
       "\\end{enumerate*}\n"
      ],
      "text/markdown": [
       "1. 12\n",
       "2. 2\n",
       "3. 3\n",
       "4. 5\n",
       "5. 10\n",
       "6. 9\n",
       "7. 8\n",
       "\n",
       "\n"
      ],
      "text/plain": [
       "[1] 12  2  3  5 10  9  8"
      ]
     },
     "metadata": {},
     "output_type": "display_data"
    }
   ],
   "source": [
    "x"
   ]
  },
  {
   "cell_type": "markdown",
   "metadata": {},
   "source": [
    "Define $\\vec{y} = \\begin{bmatrix}125 & 30 & 43 & 62 & 108 & 102 & 90 \\end{bmatrix}$:"
   ]
  },
  {
   "cell_type": "code",
   "execution_count": 29,
   "metadata": {},
   "outputs": [],
   "source": [
    "y = c(125, 30, 43, 62, 108, 102, 90)"
   ]
  },
  {
   "cell_type": "code",
   "execution_count": 10,
   "metadata": {},
   "outputs": [
    {
     "data": {
      "text/html": [
       "<ol class=list-inline>\n",
       "\t<li>125</li>\n",
       "\t<li>30</li>\n",
       "\t<li>43</li>\n",
       "\t<li>62</li>\n",
       "\t<li>108</li>\n",
       "\t<li>102</li>\n",
       "\t<li>90</li>\n",
       "</ol>\n"
      ],
      "text/latex": [
       "\\begin{enumerate*}\n",
       "\\item 125\n",
       "\\item 30\n",
       "\\item 43\n",
       "\\item 62\n",
       "\\item 108\n",
       "\\item 102\n",
       "\\item 90\n",
       "\\end{enumerate*}\n"
      ],
      "text/markdown": [
       "1. 125\n",
       "2. 30\n",
       "3. 43\n",
       "4. 62\n",
       "5. 108\n",
       "6. 102\n",
       "7. 90\n",
       "\n",
       "\n"
      ],
      "text/plain": [
       "[1] 125  30  43  62 108 102  90"
      ]
     },
     "metadata": {},
     "output_type": "display_data"
    }
   ],
   "source": [
    "y"
   ]
  },
  {
   "cell_type": "code",
   "execution_count": 11,
   "metadata": {},
   "outputs": [
    {
     "data": {
      "text/html": [
       "TRUE"
      ],
      "text/latex": [
       "TRUE"
      ],
      "text/markdown": [
       "TRUE"
      ],
      "text/plain": [
       "[1] TRUE"
      ]
     },
     "metadata": {},
     "output_type": "display_data"
    }
   ],
   "source": [
    "length(x)==length(y)"
   ]
  },
  {
   "cell_type": "code",
   "execution_count": 12,
   "metadata": {},
   "outputs": [],
   "source": [
    "A = matrix(union(x,y), nrow=length(x))"
   ]
  },
  {
   "cell_type": "code",
   "execution_count": 13,
   "metadata": {},
   "outputs": [
    {
     "data": {
      "text/html": [
       "<table>\n",
       "<tbody>\n",
       "\t<tr><td>12 </td><td>125</td></tr>\n",
       "\t<tr><td> 2 </td><td> 30</td></tr>\n",
       "\t<tr><td> 3 </td><td> 43</td></tr>\n",
       "\t<tr><td> 5 </td><td> 62</td></tr>\n",
       "\t<tr><td>10 </td><td>108</td></tr>\n",
       "\t<tr><td> 9 </td><td>102</td></tr>\n",
       "\t<tr><td> 8 </td><td> 90</td></tr>\n",
       "</tbody>\n",
       "</table>\n"
      ],
      "text/latex": [
       "\\begin{tabular}{ll}\n",
       "\t 12  & 125\\\\\n",
       "\t  2  &  30\\\\\n",
       "\t  3  &  43\\\\\n",
       "\t  5  &  62\\\\\n",
       "\t 10  & 108\\\\\n",
       "\t  9  & 102\\\\\n",
       "\t  8  &  90\\\\\n",
       "\\end{tabular}\n"
      ],
      "text/markdown": [
       "\n",
       "| 12  | 125 | \n",
       "|  2  |  30 | \n",
       "|  3  |  43 | \n",
       "|  5  |  62 | \n",
       "| 10  | 108 | \n",
       "|  9  | 102 | \n",
       "|  8  |  90 | \n",
       "\n",
       "\n"
      ],
      "text/plain": [
       "     [,1] [,2]\n",
       "[1,] 12   125 \n",
       "[2,]  2    30 \n",
       "[3,]  3    43 \n",
       "[4,]  5    62 \n",
       "[5,] 10   108 \n",
       "[6,]  9   102 \n",
       "[7,]  8    90 "
      ]
     },
     "metadata": {},
     "output_type": "display_data"
    }
   ],
   "source": [
    "A"
   ]
  },
  {
   "cell_type": "code",
   "execution_count": 14,
   "metadata": {},
   "outputs": [
    {
     "data": {
      "text/plain": [
       "\n",
       "Call:\n",
       "lm(formula = y ~ x)\n",
       "\n",
       "Coefficients:\n",
       "(Intercept)            x  \n",
       "     13.583        9.488  \n"
      ]
     },
     "metadata": {},
     "output_type": "display_data"
    }
   ],
   "source": [
    "lm(y~x)"
   ]
  },
  {
   "cell_type": "code",
   "execution_count": 15,
   "metadata": {},
   "outputs": [],
   "source": [
    "fit <- function(x) 9.488*x+13.583"
   ]
  },
  {
   "cell_type": "code",
   "execution_count": 16,
   "metadata": {},
   "outputs": [
    {
     "data": {
      "text/html": [
       "61.023"
      ],
      "text/latex": [
       "61.023"
      ],
      "text/markdown": [
       "61.023"
      ],
      "text/plain": [
       "[1] 61.023"
      ]
     },
     "metadata": {},
     "output_type": "display_data"
    }
   ],
   "source": [
    "fit(5)"
   ]
  },
  {
   "cell_type": "code",
   "execution_count": 17,
   "metadata": {},
   "outputs": [
    {
     "data": {
      "image/png": "[encoded data removed]",
      "text/plain": [
       "plot without title"
      ]
     },
     "metadata": {},
     "output_type": "display_data"
    }
   ],
   "source": [
    "plot(x,sapply(x, fit), 'l', col='blue')\n",
    "points(x,y)"
   ]
  },
  {
   "cell_type": "code",
   "execution_count": 60,
   "metadata": {},
   "outputs": [
    {
     "data": {
      "text/html": [
       "<ol class=list-inline>\n",
       "\t<li>12</li>\n",
       "\t<li>2</li>\n",
       "\t<li>3</li>\n",
       "\t<li>5</li>\n",
       "\t<li>10</li>\n",
       "\t<li>9</li>\n",
       "\t<li>8</li>\n",
       "</ol>\n"
      ],
      "text/latex": [
       "\\begin{enumerate*}\n",
       "\\item 12\n",
       "\\item 2\n",
       "\\item 3\n",
       "\\item 5\n",
       "\\item 10\n",
       "\\item 9\n",
       "\\item 8\n",
       "\\end{enumerate*}\n"
      ],
      "text/markdown": [
       "1. 12\n",
       "2. 2\n",
       "3. 3\n",
       "4. 5\n",
       "5. 10\n",
       "6. 9\n",
       "7. 8\n",
       "\n",
       "\n"
      ],
      "text/plain": [
       "[1] 12  2  3  5 10  9  8"
      ]
     },
     "metadata": {},
     "output_type": "display_data"
    }
   ],
   "source": [
    "x"
   ]
  },
  {
   "cell_type": "code",
   "execution_count": 61,
   "metadata": {},
   "outputs": [
    {
     "data": {
      "text/html": [
       "<ol class=list-inline>\n",
       "\t<li>125</li>\n",
       "\t<li>30</li>\n",
       "\t<li>43</li>\n",
       "\t<li>62</li>\n",
       "\t<li>108</li>\n",
       "\t<li>102</li>\n",
       "\t<li>90</li>\n",
       "</ol>\n"
      ],
      "text/latex": [
       "\\begin{enumerate*}\n",
       "\\item 125\n",
       "\\item 30\n",
       "\\item 43\n",
       "\\item 62\n",
       "\\item 108\n",
       "\\item 102\n",
       "\\item 90\n",
       "\\end{enumerate*}\n"
      ],
      "text/markdown": [
       "1. 125\n",
       "2. 30\n",
       "3. 43\n",
       "4. 62\n",
       "5. 108\n",
       "6. 102\n",
       "7. 90\n",
       "\n",
       "\n"
      ],
      "text/plain": [
       "[1] 125  30  43  62 108 102  90"
      ]
     },
     "metadata": {},
     "output_type": "display_data"
    }
   ],
   "source": [
    "y"
   ]
  },
  {
   "cell_type": "markdown",
   "metadata": {},
   "source": [
    "$y=ax+b$"
   ]
  },
  {
   "cell_type": "code",
   "execution_count": 62,
   "metadata": {},
   "outputs": [],
   "source": [
    "X = matrix(c(y, rep(1, length(y))), ncol=2)"
   ]
  },
  {
   "cell_type": "code",
   "execution_count": 63,
   "metadata": {},
   "outputs": [
    {
     "data": {
      "text/html": [
       "<table>\n",
       "<tbody>\n",
       "\t<tr><td>125</td><td>1  </td></tr>\n",
       "\t<tr><td> 30</td><td>1  </td></tr>\n",
       "\t<tr><td> 43</td><td>1  </td></tr>\n",
       "\t<tr><td> 62</td><td>1  </td></tr>\n",
       "\t<tr><td>108</td><td>1  </td></tr>\n",
       "\t<tr><td>102</td><td>1  </td></tr>\n",
       "\t<tr><td> 90</td><td>1  </td></tr>\n",
       "</tbody>\n",
       "</table>\n"
      ],
      "text/latex": [
       "\\begin{tabular}{ll}\n",
       "\t 125 & 1  \\\\\n",
       "\t  30 & 1  \\\\\n",
       "\t  43 & 1  \\\\\n",
       "\t  62 & 1  \\\\\n",
       "\t 108 & 1  \\\\\n",
       "\t 102 & 1  \\\\\n",
       "\t  90 & 1  \\\\\n",
       "\\end{tabular}\n"
      ],
      "text/markdown": [
       "\n",
       "| 125 | 1   | \n",
       "|  30 | 1   | \n",
       "|  43 | 1   | \n",
       "|  62 | 1   | \n",
       "| 108 | 1   | \n",
       "| 102 | 1   | \n",
       "|  90 | 1   | \n",
       "\n",
       "\n"
      ],
      "text/plain": [
       "     [,1] [,2]\n",
       "[1,] 125  1   \n",
       "[2,]  30  1   \n",
       "[3,]  43  1   \n",
       "[4,]  62  1   \n",
       "[5,] 108  1   \n",
       "[6,] 102  1   \n",
       "[7,]  90  1   "
      ]
     },
     "metadata": {},
     "output_type": "display_data"
    }
   ],
   "source": [
    "X"
   ]
  },
  {
   "cell_type": "code",
   "execution_count": 64,
   "metadata": {},
   "outputs": [],
   "source": [
    "b = matrix(y)"
   ]
  },
  {
   "cell_type": "code",
   "execution_count": 65,
   "metadata": {},
   "outputs": [
    {
     "data": {
      "text/html": [
       "<table>\n",
       "<tbody>\n",
       "\t<tr><td>125</td></tr>\n",
       "\t<tr><td> 30</td></tr>\n",
       "\t<tr><td> 43</td></tr>\n",
       "\t<tr><td> 62</td></tr>\n",
       "\t<tr><td>108</td></tr>\n",
       "\t<tr><td>102</td></tr>\n",
       "\t<tr><td> 90</td></tr>\n",
       "</tbody>\n",
       "</table>\n"
      ],
      "text/latex": [
       "\\begin{tabular}{l}\n",
       "\t 125\\\\\n",
       "\t  30\\\\\n",
       "\t  43\\\\\n",
       "\t  62\\\\\n",
       "\t 108\\\\\n",
       "\t 102\\\\\n",
       "\t  90\\\\\n",
       "\\end{tabular}\n"
      ],
      "text/markdown": [
       "\n",
       "| 125 | \n",
       "|  30 | \n",
       "|  43 | \n",
       "|  62 | \n",
       "| 108 | \n",
       "| 102 | \n",
       "|  90 | \n",
       "\n",
       "\n"
      ],
      "text/plain": [
       "     [,1]\n",
       "[1,] 125 \n",
       "[2,]  30 \n",
       "[3,]  43 \n",
       "[4,]  62 \n",
       "[5,] 108 \n",
       "[6,] 102 \n",
       "[7,]  90 "
      ]
     },
     "metadata": {},
     "output_type": "display_data"
    }
   ],
   "source": [
    "b"
   ]
  },
  {
   "cell_type": "markdown",
   "metadata": {},
   "source": [
    "Dit is de vorm $A\\cdot\\vec{x} = \\vec{b}$. Wat we op willen lossen met $A^{-1}A\\vec{x}=A^{-1}\\vec{b}$, maar dit werkt niet omdat $A$ geen vierkante matrix is en daardoor geen inverse kan bepalen voor $A$.\n",
    "\n",
    "Door gebruik te maken van de getransponeerde $A^T$ kunnen we een vierkante matrix krijgen. Dus matrix-vermenigvuldigen van $A\\vec{x}=\\vec{b}$ met $A^T$ geeft $A^T\\cdot A\\vec{x} = A^T\\cdot\\vec{b}$."
   ]
  },
  {
   "cell_type": "code",
   "execution_count": 66,
   "metadata": {},
   "outputs": [
    {
     "data": {
      "text/html": [
       "<table>\n",
       "<tbody>\n",
       "\t<tr><td> 427 </td><td> 4717</td></tr>\n",
       "\t<tr><td>4717 </td><td>52386</td></tr>\n",
       "</tbody>\n",
       "</table>\n"
      ],
      "text/latex": [
       "\\begin{tabular}{ll}\n",
       "\t  427  &  4717\\\\\n",
       "\t 4717  & 52386\\\\\n",
       "\\end{tabular}\n"
      ],
      "text/markdown": [
       "\n",
       "|  427  |  4717 | \n",
       "| 4717  | 52386 | \n",
       "\n",
       "\n"
      ],
      "text/plain": [
       "     [,1] [,2] \n",
       "[1,]  427  4717\n",
       "[2,] 4717 52386"
      ]
     },
     "metadata": {},
     "output_type": "display_data"
    }
   ],
   "source": [
    "t(A) %*% A"
   ]
  },
  {
   "cell_type": "markdown",
   "metadata": {},
   "source": [
    "Wat inderdaad een vierkant matrix geeft. Vervolgens is deze op te lossen door de inverse te bepalen. De hele formule wordt dan:\n",
    "\n",
    "$$ (A^T \\cdot A)^{-1}\\cdot(A^T \\cdot A)\\cdot\\vec{x} = (A^T \\cdot A)^{-1} \\cdot A^T \\cdot \\vec{b} $$\n",
    "\n",
    "Laat $B = (A^T \\cdot A)^{-1}$ zijn. Substitueren en vereenvoudigen geeft: \n",
    "\n",
    "$$ I\\cdot\\vec{x} = B \\cdot A^T \\cdot \\vec{b} $$"
   ]
  },
  {
   "cell_type": "code",
   "execution_count": 67,
   "metadata": {
    "scrolled": false
   },
   "outputs": [
    {
     "data": {
      "text/html": [
       "<table>\n",
       "<tbody>\n",
       "\t<tr><td> 0.44120843 </td><td>-0.039727793</td></tr>\n",
       "\t<tr><td>-0.03972779 </td><td> 0.003596304</td></tr>\n",
       "</tbody>\n",
       "</table>\n"
      ],
      "text/latex": [
       "\\begin{tabular}{ll}\n",
       "\t  0.44120843  & -0.039727793\\\\\n",
       "\t -0.03972779  &  0.003596304\\\\\n",
       "\\end{tabular}\n"
      ],
      "text/markdown": [
       "\n",
       "|  0.44120843  | -0.039727793 | \n",
       "| -0.03972779  |  0.003596304 | \n",
       "\n",
       "\n"
      ],
      "text/plain": [
       "     [,1]        [,2]        \n",
       "[1,]  0.44120843 -0.039727793\n",
       "[2,] -0.03972779  0.003596304"
      ]
     },
     "metadata": {},
     "output_type": "display_data"
    }
   ],
   "source": [
    "B = solve(t(A) %*% A)\n",
    "B"
   ]
  },
  {
   "cell_type": "code",
   "execution_count": 74,
   "metadata": {},
   "outputs": [
    {
     "data": {
      "text/html": [
       "<table>\n",
       "<tbody>\n",
       "\t<tr><td>-4.13003e-13</td></tr>\n",
       "\t<tr><td> 1.00000e+00</td></tr>\n",
       "</tbody>\n",
       "</table>\n"
      ],
      "text/latex": [
       "\\begin{tabular}{l}\n",
       "\t -4.13003e-13\\\\\n",
       "\t  1.00000e+00\\\\\n",
       "\\end{tabular}\n"
      ],
      "text/markdown": [
       "\n",
       "| -4.13003e-13 | \n",
       "|  1.00000e+00 | \n",
       "\n",
       "\n"
      ],
      "text/plain": [
       "     [,1]        \n",
       "[1,] -4.13003e-13\n",
       "[2,]  1.00000e+00"
      ]
     },
     "metadata": {},
     "output_type": "display_data"
    }
   ],
   "source": [
    "B %*% t(A) %*% b"
   ]
  },
  {
   "cell_type": "code",
   "execution_count": 69,
   "metadata": {},
   "outputs": [
    {
     "data": {
      "text/plain": [
       "\n",
       "Call:\n",
       "lm(formula = y ~ x)\n",
       "\n",
       "Coefficients:\n",
       "(Intercept)            x  \n",
       "     13.583        9.488  \n"
      ]
     },
     "metadata": {},
     "output_type": "display_data"
    }
   ],
   "source": [
    "lm(y~x)"
   ]
  },
  {
   "cell_type": "markdown",
   "metadata": {},
   "source": [
    "**Versimpeld voorbeeld lreg**"
   ]
  },
  {
   "cell_type": "code",
   "execution_count": 118,
   "metadata": {},
   "outputs": [],
   "source": [
    "A = matrix(c(-1,0,2,3,1,1,1,1),ncol=2)"
   ]
  },
  {
   "cell_type": "code",
   "execution_count": 119,
   "metadata": {},
   "outputs": [
    {
     "data": {
      "text/html": [
       "<table>\n",
       "<tbody>\n",
       "\t<tr><td>-1</td><td>1 </td></tr>\n",
       "\t<tr><td> 0</td><td>1 </td></tr>\n",
       "\t<tr><td> 2</td><td>1 </td></tr>\n",
       "\t<tr><td> 3</td><td>1 </td></tr>\n",
       "</tbody>\n",
       "</table>\n"
      ],
      "text/latex": [
       "\\begin{tabular}{ll}\n",
       "\t -1 & 1 \\\\\n",
       "\t  0 & 1 \\\\\n",
       "\t  2 & 1 \\\\\n",
       "\t  3 & 1 \\\\\n",
       "\\end{tabular}\n"
      ],
      "text/markdown": [
       "\n",
       "| -1 | 1  | \n",
       "|  0 | 1  | \n",
       "|  2 | 1  | \n",
       "|  3 | 1  | \n",
       "\n",
       "\n"
      ],
      "text/plain": [
       "     [,1] [,2]\n",
       "[1,] -1   1   \n",
       "[2,]  0   1   \n",
       "[3,]  2   1   \n",
       "[4,]  3   1   "
      ]
     },
     "metadata": {},
     "output_type": "display_data"
    }
   ],
   "source": [
    "A"
   ]
  },
  {
   "cell_type": "code",
   "execution_count": 120,
   "metadata": {},
   "outputs": [],
   "source": [
    "b = c(-1,2,1,2)"
   ]
  },
  {
   "cell_type": "code",
   "execution_count": 121,
   "metadata": {},
   "outputs": [
    {
     "data": {
      "text/html": [
       "<ol class=list-inline>\n",
       "\t<li>-1</li>\n",
       "\t<li>2</li>\n",
       "\t<li>1</li>\n",
       "\t<li>2</li>\n",
       "</ol>\n"
      ],
      "text/latex": [
       "\\begin{enumerate*}\n",
       "\\item -1\n",
       "\\item 2\n",
       "\\item 1\n",
       "\\item 2\n",
       "\\end{enumerate*}\n"
      ],
      "text/markdown": [
       "1. -1\n",
       "2. 2\n",
       "3. 1\n",
       "4. 2\n",
       "\n",
       "\n"
      ],
      "text/plain": [
       "[1] -1  2  1  2"
      ]
     },
     "metadata": {},
     "output_type": "display_data"
    }
   ],
   "source": [
    "b"
   ]
  },
  {
   "cell_type": "code",
   "execution_count": 127,
   "metadata": {},
   "outputs": [],
   "source": [
    "x = A[0:4]"
   ]
  },
  {
   "cell_type": "code",
   "execution_count": 128,
   "metadata": {},
   "outputs": [
    {
     "data": {
      "text/html": [
       "<table>\n",
       "<tbody>\n",
       "\t<tr><td>0.5</td></tr>\n",
       "\t<tr><td>0.5</td></tr>\n",
       "</tbody>\n",
       "</table>\n"
      ],
      "text/latex": [
       "\\begin{tabular}{l}\n",
       "\t 0.5\\\\\n",
       "\t 0.5\\\\\n",
       "\\end{tabular}\n"
      ],
      "text/markdown": [
       "\n",
       "| 0.5 | \n",
       "| 0.5 | \n",
       "\n",
       "\n"
      ],
      "text/plain": [
       "     [,1]\n",
       "[1,] 0.5 \n",
       "[2,] 0.5 "
      ]
     },
     "metadata": {},
     "output_type": "display_data"
    }
   ],
   "source": [
    "solve(t(A) %*% A) %*% t(A) %*% b"
   ]
  },
  {
   "cell_type": "code",
   "execution_count": 129,
   "metadata": {
    "scrolled": true
   },
   "outputs": [
    {
     "data": {
      "text/plain": [
       "\n",
       "Call:\n",
       "lm(formula = b ~ x)\n",
       "\n",
       "Coefficients:\n",
       "(Intercept)            x  \n",
       "        0.5          0.5  \n"
      ]
     },
     "metadata": {},
     "output_type": "display_data"
    }
   ],
   "source": [
    "lm(b~x)"
   ]
  },
  {
   "cell_type": "code",
   "execution_count": 130,
   "metadata": {},
   "outputs": [],
   "source": [
    "fit <- function(x) 0.5*x+0.5"
   ]
  },
  {
   "cell_type": "code",
   "execution_count": 131,
   "metadata": {
    "scrolled": false
   },
   "outputs": [
    {
     "data": {
      "image/png": "[encoded data removed]",
      "text/plain": [
       "plot without title"
      ]
     },
     "metadata": {},
     "output_type": "display_data"
    }
   ],
   "source": [
    "plot(-5:5, sapply(-5:5, fit), 'l')\n",
    "points(x,b)"
   ]
  },
  {
   "cell_type": "code",
   "execution_count": 267,
   "metadata": {},
   "outputs": [],
   "source": [
    "lreg <- function(x, y) {\n",
    "    A = cbind(x, rep(1, length(x)))\n",
    "    s = solve(t(A) %*% A) %*% t(A) %*% y\n",
    "    function(x) s[1] * x + s[2] # Return f(x)=ax+b\n",
    "}"
   ]
  },
  {
   "cell_type": "code",
   "execution_count": 268,
   "metadata": {},
   "outputs": [],
   "source": [
    "x = c(12,2,3,5,10,9,8)\n",
    "y = c(125,30,43,62,108,102,90)"
   ]
  },
  {
   "cell_type": "code",
   "execution_count": 269,
   "metadata": {},
   "outputs": [],
   "source": [
    "fit <- lreg(x, y)"
   ]
  },
  {
   "cell_type": "code",
   "execution_count": 270,
   "metadata": {
    "scrolled": true
   },
   "outputs": [
    {
     "data": {
      "image/png": "[encoded data removed]",
      "text/plain": [
       "plot without title"
      ]
     },
     "metadata": {},
     "output_type": "display_data"
    }
   ],
   "source": [
    "plot(0:15, sapply(0:15, fit), 'l')\n",
    "points(x,y)"
   ]
  },
  {
   "cell_type": "markdown",
   "metadata": {},
   "source": [
    "With other functionality:"
   ]
  },
  {
   "cell_type": "markdown",
   "metadata": {},
   "source": [
    "### Least squares regression model"
   ]
  },
  {
   "cell_type": "markdown",
   "metadata": {},
   "source": [
    "Find the best fitting line $y=ax+b$ for the following data points:"
   ]
  },
  {
   "cell_type": "code",
   "execution_count": 311,
   "metadata": {},
   "outputs": [],
   "source": [
    "x <- c(12,2,3,5,10,9,8)\n",
    "b <- c(125,30,43,62,108,102,90)"
   ]
  },
  {
   "cell_type": "markdown",
   "metadata": {},
   "source": [
    "We can do this by solving the equation $A\\vec{x}=\\vec{b}$. Constructing the equation with the matrices for our data points yields:\n",
    "\n",
    "$$ \\begin{bmatrix} 12 & 1 \\\\ 2 & 1 \\\\ 3 & 1 \\\\ 5 & 1 \\\\ 10 & 1 \\\\ 9 & 1 \\\\ 8 & 1 \\end{bmatrix} \\cdot \\begin{bmatrix}a \\\\ b \\end{bmatrix} = \\begin{bmatrix} 125 \\\\ 30 \\\\ 43 \\\\ 62 \\\\ 108 \\\\ 102 \\\\ 90 \\end{bmatrix} $$"
   ]
  },
  {
   "cell_type": "markdown",
   "metadata": {},
   "source": [
    "First we will construct our matrix $A$:"
   ]
  },
  {
   "cell_type": "code",
   "execution_count": 312,
   "metadata": {},
   "outputs": [],
   "source": [
    "ones <- rep(1, length(x))"
   ]
  },
  {
   "cell_type": "code",
   "execution_count": 297,
   "metadata": {},
   "outputs": [],
   "source": [
    "A <- cbind(x, ones)"
   ]
  },
  {
   "cell_type": "code",
   "execution_count": 313,
   "metadata": {},
   "outputs": [
    {
     "data": {
      "text/html": [
       "<table>\n",
       "<thead><tr><th scope=col>x</th><th scope=col>ones</th></tr></thead>\n",
       "<tbody>\n",
       "\t<tr><td>12</td><td>1 </td></tr>\n",
       "\t<tr><td> 2</td><td>1 </td></tr>\n",
       "\t<tr><td> 3</td><td>1 </td></tr>\n",
       "\t<tr><td> 5</td><td>1 </td></tr>\n",
       "\t<tr><td>10</td><td>1 </td></tr>\n",
       "\t<tr><td> 9</td><td>1 </td></tr>\n",
       "\t<tr><td> 8</td><td>1 </td></tr>\n",
       "</tbody>\n",
       "</table>\n"
      ],
      "text/latex": [
       "\\begin{tabular}{ll}\n",
       " x & ones\\\\\n",
       "\\hline\n",
       "\t 12 & 1 \\\\\n",
       "\t  2 & 1 \\\\\n",
       "\t  3 & 1 \\\\\n",
       "\t  5 & 1 \\\\\n",
       "\t 10 & 1 \\\\\n",
       "\t  9 & 1 \\\\\n",
       "\t  8 & 1 \\\\\n",
       "\\end{tabular}\n"
      ],
      "text/markdown": [
       "\n",
       "x | ones | \n",
       "|---|---|---|---|---|---|---|\n",
       "| 12 | 1  | \n",
       "|  2 | 1  | \n",
       "|  3 | 1  | \n",
       "|  5 | 1  | \n",
       "| 10 | 1  | \n",
       "|  9 | 1  | \n",
       "|  8 | 1  | \n",
       "\n",
       "\n"
      ],
      "text/plain": [
       "     x  ones\n",
       "[1,] 12 1   \n",
       "[2,]  2 1   \n",
       "[3,]  3 1   \n",
       "[4,]  5 1   \n",
       "[5,] 10 1   \n",
       "[6,]  9 1   \n",
       "[7,]  8 1   "
      ]
     },
     "metadata": {},
     "output_type": "display_data"
    }
   ],
   "source": [
    "A"
   ]
  },
  {
   "cell_type": "markdown",
   "metadata": {},
   "source": [
    "If we want to solve the equation $A\\vec{x}=\\vec{b}$ we can multiply both sides $A^{-1}$ to get:\n",
    "\n",
    "$$ \\begin{align} A\\vec{x}&=\\vec{b} \\\\ (A^{-1}\\cdot A)\\vec{x}&=A^{-1}\\vec{b} \\\\ I\\vec{x}&=A^{-1}\\vec{b} \\end{align} $$"
   ]
  },
  {
   "cell_type": "markdown",
   "metadata": {},
   "source": [
    "However, we need to calculate the inverse of $A$, but $A$ is not a square matrix. To solve this problem we multiply $A$ with $A^T$ to get a square matrix."
   ]
  },
  {
   "cell_type": "markdown",
   "metadata": {},
   "source": [
    "$$ \\begin{align} A\\vec{x}&=\\vec{b} \\\\ (A^T \\cdot A) \\cdot \\vec{x} &= A^T \\cdot \\vec{b} \\\\ (A^T \\cdot A)^{-1} \\cdot (A^T \\cdot A) \\cdot \\vec{x} &= (A^T \\cdot A)^{-1} \\cdot A^T \\cdot \\vec{b} \\\\ I \\cdot \\vec{x} &= (A^T \\cdot A)^{-1} \\cdot A^T \\cdot \\vec{b} \\end{align} $$"
   ]
  },
  {
   "cell_type": "code",
   "execution_count": 298,
   "metadata": {},
   "outputs": [],
   "source": [
    "S = solve(t(A) %*% A) %*% t(A) %*% b"
   ]
  },
  {
   "cell_type": "markdown",
   "metadata": {},
   "source": [
    "The resulting matrix $S$ will have our coefficients $a$ and $b$ to construct the line:"
   ]
  },
  {
   "cell_type": "code",
   "execution_count": 308,
   "metadata": {},
   "outputs": [],
   "source": [
    "lsm = c(S[2], S[1])"
   ]
  },
  {
   "cell_type": "code",
   "execution_count": 310,
   "metadata": {
    "scrolled": true
   },
   "outputs": [
    {
     "data": {
      "text/html": [
       "<ol class=list-inline>\n",
       "\t<li>13.5833333333333</li>\n",
       "\t<li>9.48809523809525</li>\n",
       "</ol>\n"
      ],
      "text/latex": [
       "\\begin{enumerate*}\n",
       "\\item 13.5833333333333\n",
       "\\item 9.48809523809525\n",
       "\\end{enumerate*}\n"
      ],
      "text/markdown": [
       "1. 13.5833333333333\n",
       "2. 9.48809523809525\n",
       "\n",
       "\n"
      ],
      "text/plain": [
       "[1] 13.583333  9.488095"
      ]
     },
     "metadata": {},
     "output_type": "display_data"
    }
   ],
   "source": [
    "lsm"
   ]
  },
  {
   "cell_type": "markdown",
   "metadata": {},
   "source": [
    "If we verify the coefficients with built-in R functionality for least-squares regression, we can see that our solution is correct."
   ]
  },
  {
   "cell_type": "code",
   "execution_count": 301,
   "metadata": {},
   "outputs": [
    {
     "data": {
      "text/plain": [
       "\n",
       "Call:\n",
       "lm(formula = b ~ x)\n",
       "\n",
       "Coefficients:\n",
       "(Intercept)            x  \n",
       "     13.583        9.488  \n"
      ]
     },
     "metadata": {},
     "output_type": "display_data"
    }
   ],
   "source": [
    "lm(b~x)"
   ]
  },
  {
   "cell_type": "markdown",
   "metadata": {},
   "source": [
    "Plotting our values yields:"
   ]
  },
  {
   "cell_type": "code",
   "execution_count": 309,
   "metadata": {
    "scrolled": true
   },
   "outputs": [
    {
     "data": {
      "image/png": "[encoded data removed]",
      "text/plain": [
       "plot without title"
      ]
     },
     "metadata": {},
     "output_type": "display_data"
    }
   ],
   "source": [
    "plot(x, b)\n",
    "abline(lsm)"
   ]
  },
  {
   "cell_type": "code",
   "execution_count": 2,
   "metadata": {},
   "outputs": [],
   "source": [
    "sigmoid <- function(z) 1 / (1 + exp(-z))"
   ]
  },
  {
   "cell_type": "code",
   "execution_count": 5,
   "metadata": {},
   "outputs": [
    {
     "data": {
      "image/png": "[encoded data removed]",
      "text/plain": [
       "plot without title"
      ]
     },
     "metadata": {},
     "output_type": "display_data"
    }
   ],
   "source": [
    "curve(sigmoid, from=-5, to=5)"
   ]
  },
  {
   "cell_type": "markdown",
   "metadata": {},
   "source": [
    "Tada."
   ]
  },
  {
   "cell_type": "code",
   "execution_count": 1,
   "metadata": {},
   "outputs": [
    {
     "ename": "ERROR",
     "evalue": "Error in eval(expr, envir, enclos): object 'e' not found\n",
     "output_type": "error",
     "traceback": [
      "Error in eval(expr, envir, enclos): object 'e' not found\nTraceback:\n"
     ]
    }
   ],
   "source": [
    "e"
   ]
  },
  {
   "cell_type": "code",
   "execution_count": null,
   "metadata": {},
   "outputs": [],
   "source": []
  }
 ],
 "metadata": {
  "kernelspec": {
   "display_name": "R",
   "language": "R",
   "name": "ir"
  },
  "language_info": {
   "codemirror_mode": "r",
   "file_extension": ".r",
   "mimetype": "text/x-r-source",
   "name": "R",
   "pygments_lexer": "r",
   "version": "3.4.4"
  }
 },
 "nbformat": 4,
 "nbformat_minor": 2
}
