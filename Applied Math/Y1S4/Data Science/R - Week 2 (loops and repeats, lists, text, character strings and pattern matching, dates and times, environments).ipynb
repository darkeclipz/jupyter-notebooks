{
 "cells": [
  {
   "cell_type": "markdown",
   "metadata": {},
   "source": [
    "# R - Week 2 (loops and repeats, lists, text, character strings and pattern matching, dates and times, environments)\n"
   ]
  },
  {
   "cell_type": "markdown",
   "metadata": {},
   "source": [
    "## Week 2"
   ]
  },
  {
   "cell_type": "markdown",
   "metadata": {},
   "source": [
    "* 2.10 Loops and repeats\n",
    "* 2.11 Lists\n",
    "* 2.12 Text, Character strings and pattern matching\n",
    "* 2.13 Dates and times in R\n",
    "* 2.14 Environments"
   ]
  },
  {
   "cell_type": "markdown",
   "metadata": {},
   "source": [
    "### Loops and repeats"
   ]
  },
  {
   "cell_type": "code",
   "execution_count": 235,
   "metadata": {},
   "outputs": [
    {
     "name": "stdout",
     "output_type": "stream",
     "text": [
      "[1] 1\n",
      "[1] 4\n",
      "[1] 9\n",
      "[1] 16\n",
      "[1] 25\n"
     ]
    }
   ],
   "source": [
    "for (i in 1:5) print(i^2)"
   ]
  },
  {
   "cell_type": "code",
   "execution_count": 236,
   "metadata": {},
   "outputs": [
    {
     "name": "stdout",
     "output_type": "stream",
     "text": [
      "[1] 3\n",
      "[1] 9\n",
      "[1] 20\n",
      "[1] 38\n",
      "[1] 65\n"
     ]
    }
   ],
   "source": [
    "j <- k <- 0\n",
    "for (i in 1:5) {\n",
    "    j <- j+1\n",
    "    k <- k+i*j\n",
    "    print(i+j+k)\n",
    "}"
   ]
  },
  {
   "cell_type": "code",
   "execution_count": 238,
   "metadata": {},
   "outputs": [],
   "source": [
    "fac1 <- function(x) {\n",
    "    f <- 1\n",
    "    if (x<2) return (1)\n",
    "    for (i in 2:x) {\n",
    "        f <- f*i\n",
    "    }\n",
    "    f\n",
    "}"
   ]
  },
  {
   "cell_type": "code",
   "execution_count": 239,
   "metadata": {},
   "outputs": [
    {
     "data": {
      "text/html": [
       "120"
      ],
      "text/latex": [
       "120"
      ],
      "text/markdown": [
       "120"
      ],
      "text/plain": [
       "[1] 120"
      ]
     },
     "metadata": {},
     "output_type": "display_data"
    }
   ],
   "source": [
    "fac1(5)"
   ]
  },
  {
   "cell_type": "code",
   "execution_count": 240,
   "metadata": {},
   "outputs": [
    {
     "data": {
      "text/html": [
       "<ol class=list-inline>\n",
       "\t<li>1</li>\n",
       "\t<li>1</li>\n",
       "\t<li>2</li>\n",
       "\t<li>6</li>\n",
       "\t<li>24</li>\n",
       "\t<li>120</li>\n",
       "</ol>\n"
      ],
      "text/latex": [
       "\\begin{enumerate*}\n",
       "\\item 1\n",
       "\\item 1\n",
       "\\item 2\n",
       "\\item 6\n",
       "\\item 24\n",
       "\\item 120\n",
       "\\end{enumerate*}\n"
      ],
      "text/markdown": [
       "1. 1\n",
       "2. 1\n",
       "3. 2\n",
       "4. 6\n",
       "5. 24\n",
       "6. 120\n",
       "\n",
       "\n"
      ],
      "text/plain": [
       "[1]   1   1   2   6  24 120"
      ]
     },
     "metadata": {},
     "output_type": "display_data"
    }
   ],
   "source": [
    "sapply(0:5, fac1)"
   ]
  },
  {
   "cell_type": "code",
   "execution_count": 242,
   "metadata": {},
   "outputs": [],
   "source": [
    "fac2 <- function(x) {\n",
    "    f <- 1\n",
    "    t <- x\n",
    "    while(t>1) {\n",
    "        f <- f*t\n",
    "        t <- t-1\n",
    "    }\n",
    "    return (f)\n",
    "}"
   ]
  },
  {
   "cell_type": "code",
   "execution_count": 243,
   "metadata": {},
   "outputs": [
    {
     "data": {
      "text/html": [
       "<ol class=list-inline>\n",
       "\t<li>1</li>\n",
       "\t<li>1</li>\n",
       "\t<li>2</li>\n",
       "\t<li>6</li>\n",
       "\t<li>24</li>\n",
       "\t<li>120</li>\n",
       "</ol>\n"
      ],
      "text/latex": [
       "\\begin{enumerate*}\n",
       "\\item 1\n",
       "\\item 1\n",
       "\\item 2\n",
       "\\item 6\n",
       "\\item 24\n",
       "\\item 120\n",
       "\\end{enumerate*}\n"
      ],
      "text/markdown": [
       "1. 1\n",
       "2. 1\n",
       "3. 2\n",
       "4. 6\n",
       "5. 24\n",
       "6. 120\n",
       "\n",
       "\n"
      ],
      "text/plain": [
       "[1]   1   1   2   6  24 120"
      ]
     },
     "metadata": {},
     "output_type": "display_data"
    }
   ],
   "source": [
    "sapply(0:5, fac2)"
   ]
  },
  {
   "cell_type": "code",
   "execution_count": 245,
   "metadata": {},
   "outputs": [],
   "source": [
    "fac3 <- function(x) {\n",
    "    f <- 1\n",
    "    t <- x\n",
    "    repeat {\n",
    "        if (t<2) break\n",
    "        f <- f*t\n",
    "        t <- t-1\n",
    "    }\n",
    "    return (f)\n",
    "}"
   ]
  },
  {
   "cell_type": "code",
   "execution_count": 247,
   "metadata": {},
   "outputs": [
    {
     "data": {
      "text/html": [
       "<ol class=list-inline>\n",
       "\t<li>1</li>\n",
       "\t<li>1</li>\n",
       "\t<li>2</li>\n",
       "\t<li>6</li>\n",
       "\t<li>24</li>\n",
       "\t<li>120</li>\n",
       "</ol>\n"
      ],
      "text/latex": [
       "\\begin{enumerate*}\n",
       "\\item 1\n",
       "\\item 1\n",
       "\\item 2\n",
       "\\item 6\n",
       "\\item 24\n",
       "\\item 120\n",
       "\\end{enumerate*}\n"
      ],
      "text/markdown": [
       "1. 1\n",
       "2. 1\n",
       "3. 2\n",
       "4. 6\n",
       "5. 24\n",
       "6. 120\n",
       "\n",
       "\n"
      ],
      "text/plain": [
       "[1]   1   1   2   6  24 120"
      ]
     },
     "metadata": {},
     "output_type": "display_data"
    }
   ],
   "source": [
    "sapply(0:5, fac3)"
   ]
  },
  {
   "cell_type": "code",
   "execution_count": 249,
   "metadata": {},
   "outputs": [
    {
     "data": {
      "text/html": [
       "<ol class=list-inline>\n",
       "\t<li>1</li>\n",
       "\t<li>2</li>\n",
       "\t<li>6</li>\n",
       "\t<li>24</li>\n",
       "\t<li>120</li>\n",
       "</ol>\n"
      ],
      "text/latex": [
       "\\begin{enumerate*}\n",
       "\\item 1\n",
       "\\item 2\n",
       "\\item 6\n",
       "\\item 24\n",
       "\\item 120\n",
       "\\end{enumerate*}\n"
      ],
      "text/markdown": [
       "1. 1\n",
       "2. 2\n",
       "3. 6\n",
       "4. 24\n",
       "5. 120\n",
       "\n",
       "\n"
      ],
      "text/plain": [
       "[1]   1   2   6  24 120"
      ]
     },
     "metadata": {},
     "output_type": "display_data"
    }
   ],
   "source": [
    "cumprod(1:5)"
   ]
  },
  {
   "cell_type": "code",
   "execution_count": 250,
   "metadata": {},
   "outputs": [],
   "source": [
    "fac4 <- function(x) max(cumprod(1:x))"
   ]
  },
  {
   "cell_type": "code",
   "execution_count": 251,
   "metadata": {},
   "outputs": [
    {
     "data": {
      "text/html": [
       "1"
      ],
      "text/latex": [
       "1"
      ],
      "text/markdown": [
       "1"
      ],
      "text/plain": [
       "[1] 1"
      ]
     },
     "metadata": {},
     "output_type": "display_data"
    }
   ],
   "source": [
    "max(cumprod(1:0))"
   ]
  },
  {
   "cell_type": "code",
   "execution_count": 252,
   "metadata": {},
   "outputs": [
    {
     "data": {
      "text/html": [
       "<ol class=list-inline>\n",
       "\t<li>1</li>\n",
       "\t<li>1</li>\n",
       "\t<li>2</li>\n",
       "\t<li>6</li>\n",
       "\t<li>24</li>\n",
       "\t<li>120</li>\n",
       "</ol>\n"
      ],
      "text/latex": [
       "\\begin{enumerate*}\n",
       "\\item 1\n",
       "\\item 1\n",
       "\\item 2\n",
       "\\item 6\n",
       "\\item 24\n",
       "\\item 120\n",
       "\\end{enumerate*}\n"
      ],
      "text/markdown": [
       "1. 1\n",
       "2. 1\n",
       "3. 2\n",
       "4. 6\n",
       "5. 24\n",
       "6. 120\n",
       "\n",
       "\n"
      ],
      "text/plain": [
       "[1]   1   1   2   6  24 120"
      ]
     },
     "metadata": {},
     "output_type": "display_data"
    }
   ],
   "source": [
    "sapply(0:5, fac4)"
   ]
  },
  {
   "cell_type": "code",
   "execution_count": 253,
   "metadata": {},
   "outputs": [
    {
     "data": {
      "text/html": [
       "<ol class=list-inline>\n",
       "\t<li>1</li>\n",
       "\t<li>1</li>\n",
       "\t<li>2</li>\n",
       "\t<li>6</li>\n",
       "\t<li>24</li>\n",
       "\t<li>120</li>\n",
       "</ol>\n"
      ],
      "text/latex": [
       "\\begin{enumerate*}\n",
       "\\item 1\n",
       "\\item 1\n",
       "\\item 2\n",
       "\\item 6\n",
       "\\item 24\n",
       "\\item 120\n",
       "\\end{enumerate*}\n"
      ],
      "text/markdown": [
       "1. 1\n",
       "2. 1\n",
       "3. 2\n",
       "4. 6\n",
       "5. 24\n",
       "6. 120\n",
       "\n",
       "\n"
      ],
      "text/plain": [
       "[1]   1   1   2   6  24 120"
      ]
     },
     "metadata": {},
     "output_type": "display_data"
    }
   ],
   "source": [
    "fac5 <- function(x) gamma(x+1)\n",
    "sapply(0:5, fac5)"
   ]
  },
  {
   "cell_type": "code",
   "execution_count": 254,
   "metadata": {},
   "outputs": [
    {
     "data": {
      "text/html": [
       "<ol class=list-inline>\n",
       "\t<li>1</li>\n",
       "\t<li>1</li>\n",
       "\t<li>2</li>\n",
       "\t<li>6</li>\n",
       "\t<li>24</li>\n",
       "\t<li>120</li>\n",
       "</ol>\n"
      ],
      "text/latex": [
       "\\begin{enumerate*}\n",
       "\\item 1\n",
       "\\item 1\n",
       "\\item 2\n",
       "\\item 6\n",
       "\\item 24\n",
       "\\item 120\n",
       "\\end{enumerate*}\n"
      ],
      "text/markdown": [
       "1. 1\n",
       "2. 1\n",
       "3. 2\n",
       "4. 6\n",
       "5. 24\n",
       "6. 120\n",
       "\n",
       "\n"
      ],
      "text/plain": [
       "[1]   1   1   2   6  24 120"
      ]
     },
     "metadata": {},
     "output_type": "display_data"
    }
   ],
   "source": [
    "sapply(0:5, factorial)"
   ]
  },
  {
   "cell_type": "code",
   "execution_count": 1,
   "metadata": {},
   "outputs": [
    {
     "data": {
      "text/html": [
       "6"
      ],
      "text/latex": [
       "6"
      ],
      "text/markdown": [
       "6"
      ],
      "text/plain": [
       "[1] 6"
      ]
     },
     "metadata": {},
     "output_type": "display_data"
    }
   ],
   "source": [
    "factorial(3)"
   ]
  },
  {
   "cell_type": "markdown",
   "metadata": {},
   "source": [
    "#### Creating the binary representation of a number"
   ]
  },
  {
   "cell_type": "markdown",
   "metadata": {},
   "source": [
    "binary <- function(x) {\n",
    "    i <- 0\n",
    "    string <- numeric(32)\n",
    "    while(x>0) {\n",
    "        string[32-i]< -x %% 2\n",
    "        x <- x %% 2\n",
    "        i <- i+1\n",
    "    }\n",
    "    first <- match(1, string)\n",
    "    string[first:32]\n",
    "}"
   ]
  },
  {
   "cell_type": "markdown",
   "metadata": {},
   "source": [
    "sapply(15:17, binary)"
   ]
  },
  {
   "cell_type": "code",
   "execution_count": 2,
   "metadata": {},
   "outputs": [],
   "source": [
    "fibonacci <- function(n) {\n",
    "    a <- 1\n",
    "    b <- 0\n",
    "    while(n>0) {\n",
    "        swap <- a\n",
    "        a <- a+b\n",
    "        b <- swap\n",
    "        n <- n-1\n",
    "    }\n",
    "    b\n",
    "}"
   ]
  },
  {
   "cell_type": "code",
   "execution_count": 3,
   "metadata": {},
   "outputs": [
    {
     "data": {
      "text/html": [
       "<ol class=list-inline>\n",
       "\t<li>1</li>\n",
       "\t<li>1</li>\n",
       "\t<li>2</li>\n",
       "\t<li>3</li>\n",
       "\t<li>5</li>\n",
       "\t<li>8</li>\n",
       "\t<li>13</li>\n",
       "\t<li>21</li>\n",
       "\t<li>34</li>\n",
       "\t<li>55</li>\n",
       "</ol>\n"
      ],
      "text/latex": [
       "\\begin{enumerate*}\n",
       "\\item 1\n",
       "\\item 1\n",
       "\\item 2\n",
       "\\item 3\n",
       "\\item 5\n",
       "\\item 8\n",
       "\\item 13\n",
       "\\item 21\n",
       "\\item 34\n",
       "\\item 55\n",
       "\\end{enumerate*}\n"
      ],
      "text/markdown": [
       "1. 1\n",
       "2. 1\n",
       "3. 2\n",
       "4. 3\n",
       "5. 5\n",
       "6. 8\n",
       "7. 13\n",
       "8. 21\n",
       "9. 34\n",
       "10. 55\n",
       "\n",
       "\n"
      ],
      "text/plain": [
       " [1]  1  1  2  3  5  8 13 21 34 55"
      ]
     },
     "metadata": {},
     "output_type": "display_data"
    }
   ],
   "source": [
    "sapply(1:10, fibonacci)"
   ]
  },
  {
   "cell_type": "markdown",
   "metadata": {},
   "source": [
    "#### Loop avoidance"
   ]
  },
  {
   "cell_type": "markdown",
   "metadata": {},
   "source": [
    "for (i in 1:length(y)) { if(y[i] < 0) y[i] <- 0 }"
   ]
  },
  {
   "cell_type": "code",
   "execution_count": 5,
   "metadata": {},
   "outputs": [],
   "source": [
    "y <- -5:5"
   ]
  },
  {
   "cell_type": "code",
   "execution_count": 6,
   "metadata": {},
   "outputs": [
    {
     "data": {
      "text/html": [
       "<ol class=list-inline>\n",
       "\t<li>-5</li>\n",
       "\t<li>-4</li>\n",
       "\t<li>-3</li>\n",
       "\t<li>-2</li>\n",
       "\t<li>-1</li>\n",
       "\t<li>0</li>\n",
       "\t<li>1</li>\n",
       "\t<li>2</li>\n",
       "\t<li>3</li>\n",
       "\t<li>4</li>\n",
       "\t<li>5</li>\n",
       "</ol>\n"
      ],
      "text/latex": [
       "\\begin{enumerate*}\n",
       "\\item -5\n",
       "\\item -4\n",
       "\\item -3\n",
       "\\item -2\n",
       "\\item -1\n",
       "\\item 0\n",
       "\\item 1\n",
       "\\item 2\n",
       "\\item 3\n",
       "\\item 4\n",
       "\\item 5\n",
       "\\end{enumerate*}\n"
      ],
      "text/markdown": [
       "1. -5\n",
       "2. -4\n",
       "3. -3\n",
       "4. -2\n",
       "5. -1\n",
       "6. 0\n",
       "7. 1\n",
       "8. 2\n",
       "9. 3\n",
       "10. 4\n",
       "11. 5\n",
       "\n",
       "\n"
      ],
      "text/plain": [
       " [1] -5 -4 -3 -2 -1  0  1  2  3  4  5"
      ]
     },
     "metadata": {},
     "output_type": "display_data"
    }
   ],
   "source": [
    "y"
   ]
  },
  {
   "cell_type": "code",
   "execution_count": 7,
   "metadata": {},
   "outputs": [],
   "source": [
    "y[y<0] <- 0"
   ]
  },
  {
   "cell_type": "code",
   "execution_count": 8,
   "metadata": {},
   "outputs": [
    {
     "data": {
      "text/html": [
       "<ol class=list-inline>\n",
       "\t<li>0</li>\n",
       "\t<li>0</li>\n",
       "\t<li>0</li>\n",
       "\t<li>0</li>\n",
       "\t<li>0</li>\n",
       "\t<li>0</li>\n",
       "\t<li>1</li>\n",
       "\t<li>2</li>\n",
       "\t<li>3</li>\n",
       "\t<li>4</li>\n",
       "\t<li>5</li>\n",
       "</ol>\n"
      ],
      "text/latex": [
       "\\begin{enumerate*}\n",
       "\\item 0\n",
       "\\item 0\n",
       "\\item 0\n",
       "\\item 0\n",
       "\\item 0\n",
       "\\item 0\n",
       "\\item 1\n",
       "\\item 2\n",
       "\\item 3\n",
       "\\item 4\n",
       "\\item 5\n",
       "\\end{enumerate*}\n"
      ],
      "text/markdown": [
       "1. 0\n",
       "2. 0\n",
       "3. 0\n",
       "4. 0\n",
       "5. 0\n",
       "6. 0\n",
       "7. 1\n",
       "8. 2\n",
       "9. 3\n",
       "10. 4\n",
       "11. 5\n",
       "\n",
       "\n"
      ],
      "text/plain": [
       " [1] 0 0 0 0 0 0 1 2 3 4 5"
      ]
     },
     "metadata": {},
     "output_type": "display_data"
    }
   ],
   "source": [
    "y"
   ]
  },
  {
   "cell_type": "code",
   "execution_count": 9,
   "metadata": {},
   "outputs": [],
   "source": [
    "z <- -5:5"
   ]
  },
  {
   "cell_type": "code",
   "execution_count": 10,
   "metadata": {},
   "outputs": [],
   "source": [
    "z <- ifelse(z < 0, -1, 1)"
   ]
  },
  {
   "cell_type": "code",
   "execution_count": 11,
   "metadata": {},
   "outputs": [
    {
     "data": {
      "text/html": [
       "<ol class=list-inline>\n",
       "\t<li>-1</li>\n",
       "\t<li>-1</li>\n",
       "\t<li>-1</li>\n",
       "\t<li>-1</li>\n",
       "\t<li>-1</li>\n",
       "\t<li>1</li>\n",
       "\t<li>1</li>\n",
       "\t<li>1</li>\n",
       "\t<li>1</li>\n",
       "\t<li>1</li>\n",
       "\t<li>1</li>\n",
       "</ol>\n"
      ],
      "text/latex": [
       "\\begin{enumerate*}\n",
       "\\item -1\n",
       "\\item -1\n",
       "\\item -1\n",
       "\\item -1\n",
       "\\item -1\n",
       "\\item 1\n",
       "\\item 1\n",
       "\\item 1\n",
       "\\item 1\n",
       "\\item 1\n",
       "\\item 1\n",
       "\\end{enumerate*}\n"
      ],
      "text/markdown": [
       "1. -1\n",
       "2. -1\n",
       "3. -1\n",
       "4. -1\n",
       "5. -1\n",
       "6. 1\n",
       "7. 1\n",
       "8. 1\n",
       "9. 1\n",
       "10. 1\n",
       "11. 1\n",
       "\n",
       "\n"
      ],
      "text/plain": [
       " [1] -1 -1 -1 -1 -1  1  1  1  1  1  1"
      ]
     },
     "metadata": {},
     "output_type": "display_data"
    }
   ],
   "source": [
    "z"
   ]
  },
  {
   "cell_type": "markdown",
   "metadata": {},
   "source": [
    "#### The slowness of loops"
   ]
  },
  {
   "cell_type": "code",
   "execution_count": 16,
   "metadata": {},
   "outputs": [],
   "source": [
    "x <- runif(10000000)"
   ]
  },
  {
   "cell_type": "code",
   "execution_count": 17,
   "metadata": {},
   "outputs": [
    {
     "data": {
      "text/plain": [
       "   user  system elapsed \n",
       "   0.03    0.00    0.03 "
      ]
     },
     "metadata": {},
     "output_type": "display_data"
    }
   ],
   "source": [
    "system.time(max(x))"
   ]
  },
  {
   "cell_type": "markdown",
   "metadata": {},
   "source": [
    "#### Loops for producing time series"
   ]
  },
  {
   "cell_type": "markdown",
   "metadata": {},
   "source": [
    "$$ N(t+1)=\\lambda N (t)[1-N(t)]$$"
   ]
  },
  {
   "cell_type": "code",
   "execution_count": 18,
   "metadata": {},
   "outputs": [],
   "source": [
    "next.year <- function(x) lambda * x * (1 - x)"
   ]
  },
  {
   "cell_type": "code",
   "execution_count": 21,
   "metadata": {},
   "outputs": [
    {
     "data": {
      "text/html": [
       "0.888"
      ],
      "text/latex": [
       "0.888"
      ],
      "text/markdown": [
       "0.888"
      ],
      "text/plain": [
       "[1] 0.888"
      ]
     },
     "metadata": {},
     "output_type": "display_data"
    }
   ],
   "source": [
    "lambda <- 3.7\n",
    "next.year(0.6)"
   ]
  },
  {
   "cell_type": "code",
   "execution_count": 22,
   "metadata": {},
   "outputs": [
    {
     "data": {
      "text/html": [
       "0.3679872"
      ],
      "text/latex": [
       "0.3679872"
      ],
      "text/markdown": [
       "0.3679872"
      ],
      "text/plain": [
       "[1] 0.3679872"
      ]
     },
     "metadata": {},
     "output_type": "display_data"
    }
   ],
   "source": [
    "next.year(0.888)"
   ]
  },
  {
   "cell_type": "code",
   "execution_count": 23,
   "metadata": {},
   "outputs": [],
   "source": [
    "N <- numeric(20)"
   ]
  },
  {
   "cell_type": "code",
   "execution_count": 24,
   "metadata": {},
   "outputs": [],
   "source": [
    "N[1] <- 0.6"
   ]
  },
  {
   "cell_type": "code",
   "execution_count": 25,
   "metadata": {},
   "outputs": [],
   "source": [
    "for(t in 2:20) N[t] <- next.year(N[t-1])"
   ]
  },
  {
   "cell_type": "code",
   "execution_count": 26,
   "metadata": {
    "scrolled": false
   },
   "outputs": [
    {
     "data": {
      "image/png": "[encoded data removed]",
      "text/plain": [
       "plot without title"
      ]
     },
     "metadata": {},
     "output_type": "display_data"
    }
   ],
   "source": [
    "plot(N, type=\"l\")"
   ]
  },
  {
   "cell_type": "markdown",
   "metadata": {},
   "source": [
    "### Lists"
   ]
  },
  {
   "cell_type": "code",
   "execution_count": 2,
   "metadata": {},
   "outputs": [],
   "source": [
    "apples = c(4,4.5,4.2,5.1,3.9)\n",
    "oranges = c(TRUE, TRUE, FALSE)\n",
    "chalk = c('limestone', 'marl', 'oolite', 'CaC03')\n",
    "cheese = c(3.2-4.5i, 12.8+2.2i)"
   ]
  },
  {
   "cell_type": "code",
   "execution_count": 4,
   "metadata": {},
   "outputs": [],
   "source": [
    "items = list(apples,oranges,chalk,cheese)"
   ]
  },
  {
   "cell_type": "code",
   "execution_count": 5,
   "metadata": {},
   "outputs": [
    {
     "data": {
      "text/html": [
       "<ol>\n",
       "\t<li><ol class=list-inline>\n",
       "\t<li>4</li>\n",
       "\t<li>4.5</li>\n",
       "\t<li>4.2</li>\n",
       "\t<li>5.1</li>\n",
       "\t<li>3.9</li>\n",
       "</ol>\n",
       "</li>\n",
       "\t<li><ol class=list-inline>\n",
       "\t<li>TRUE</li>\n",
       "\t<li>TRUE</li>\n",
       "\t<li>FALSE</li>\n",
       "</ol>\n",
       "</li>\n",
       "\t<li><ol class=list-inline>\n",
       "\t<li>'limestone'</li>\n",
       "\t<li>'marl'</li>\n",
       "\t<li>'oolite'</li>\n",
       "\t<li>'CaC03'</li>\n",
       "</ol>\n",
       "</li>\n",
       "\t<li><ol class=list-inline>\n",
       "\t<li>3.2-4.5i</li>\n",
       "\t<li>12.8+2.2i</li>\n",
       "</ol>\n",
       "</li>\n",
       "</ol>\n"
      ],
      "text/latex": [
       "\\begin{enumerate}\n",
       "\\item \\begin{enumerate*}\n",
       "\\item 4\n",
       "\\item 4.5\n",
       "\\item 4.2\n",
       "\\item 5.1\n",
       "\\item 3.9\n",
       "\\end{enumerate*}\n",
       "\n",
       "\\item \\begin{enumerate*}\n",
       "\\item TRUE\n",
       "\\item TRUE\n",
       "\\item FALSE\n",
       "\\end{enumerate*}\n",
       "\n",
       "\\item \\begin{enumerate*}\n",
       "\\item 'limestone'\n",
       "\\item 'marl'\n",
       "\\item 'oolite'\n",
       "\\item 'CaC03'\n",
       "\\end{enumerate*}\n",
       "\n",
       "\\item \\begin{enumerate*}\n",
       "\\item 3.2-4.5i\n",
       "\\item 12.8+2.2i\n",
       "\\end{enumerate*}\n",
       "\n",
       "\\end{enumerate}\n"
      ],
      "text/markdown": [
       "1. 1. 4\n",
       "2. 4.5\n",
       "3. 4.2\n",
       "4. 5.1\n",
       "5. 3.9\n",
       "\n",
       "\n",
       "\n",
       "2. 1. TRUE\n",
       "2. TRUE\n",
       "3. FALSE\n",
       "\n",
       "\n",
       "\n",
       "3. 1. 'limestone'\n",
       "2. 'marl'\n",
       "3. 'oolite'\n",
       "4. 'CaC03'\n",
       "\n",
       "\n",
       "\n",
       "4. 1. 3.2-4.5i\n",
       "2. 12.8+2.2i\n",
       "\n",
       "\n",
       "\n",
       "\n",
       "\n"
      ],
      "text/plain": [
       "[[1]]\n",
       "[1] 4.0 4.5 4.2 5.1 3.9\n",
       "\n",
       "[[2]]\n",
       "[1]  TRUE  TRUE FALSE\n",
       "\n",
       "[[3]]\n",
       "[1] \"limestone\" \"marl\"      \"oolite\"    \"CaC03\"    \n",
       "\n",
       "[[4]]\n",
       "[1]  3.2-4.5i 12.8+2.2i\n"
      ]
     },
     "metadata": {},
     "output_type": "display_data"
    }
   ],
   "source": [
    "items"
   ]
  },
  {
   "cell_type": "code",
   "execution_count": 6,
   "metadata": {},
   "outputs": [
    {
     "data": {
      "text/html": [
       "<ol class=list-inline>\n",
       "\t<li>'limestone'</li>\n",
       "\t<li>'marl'</li>\n",
       "\t<li>'oolite'</li>\n",
       "\t<li>'CaC03'</li>\n",
       "</ol>\n"
      ],
      "text/latex": [
       "\\begin{enumerate*}\n",
       "\\item 'limestone'\n",
       "\\item 'marl'\n",
       "\\item 'oolite'\n",
       "\\item 'CaC03'\n",
       "\\end{enumerate*}\n"
      ],
      "text/markdown": [
       "1. 'limestone'\n",
       "2. 'marl'\n",
       "3. 'oolite'\n",
       "4. 'CaC03'\n",
       "\n",
       "\n"
      ],
      "text/plain": [
       "[1] \"limestone\" \"marl\"      \"oolite\"    \"CaC03\"    "
      ]
     },
     "metadata": {},
     "output_type": "display_data"
    }
   ],
   "source": [
    "items[[3]]"
   ]
  },
  {
   "cell_type": "code",
   "execution_count": 7,
   "metadata": {},
   "outputs": [
    {
     "data": {
      "text/html": [
       "'limestone'"
      ],
      "text/latex": [
       "'limestone'"
      ],
      "text/markdown": [
       "'limestone'"
      ],
      "text/plain": [
       "[1] \"limestone\""
      ]
     },
     "metadata": {},
     "output_type": "display_data"
    }
   ],
   "source": [
    "items[[3]][1]"
   ]
  },
  {
   "cell_type": "code",
   "execution_count": 8,
   "metadata": {},
   "outputs": [
    {
     "data": {
      "text/plain": [
       "NULL"
      ]
     },
     "metadata": {},
     "output_type": "display_data"
    }
   ],
   "source": [
    "names(items)"
   ]
  },
  {
   "cell_type": "code",
   "execution_count": 9,
   "metadata": {},
   "outputs": [
    {
     "data": {
      "text/html": [
       "<ol class=list-inline>\n",
       "\t<li>3.2-4.5i</li>\n",
       "\t<li>12.8+2.2i</li>\n",
       "</ol>\n"
      ],
      "text/latex": [
       "\\begin{enumerate*}\n",
       "\\item 3.2-4.5i\n",
       "\\item 12.8+2.2i\n",
       "\\end{enumerate*}\n"
      ],
      "text/markdown": [
       "1. 3.2-4.5i\n",
       "2. 12.8+2.2i\n",
       "\n",
       "\n"
      ],
      "text/plain": [
       "[1]  3.2-4.5i 12.8+2.2i"
      ]
     },
     "metadata": {},
     "output_type": "display_data"
    }
   ],
   "source": [
    "items = list(first=apples, second=oranges, third=chalk, fourth=cheese)\n",
    "items$fourth"
   ]
  },
  {
   "cell_type": "markdown",
   "metadata": {},
   "source": [
    "### Lists and `lapply`"
   ]
  },
  {
   "cell_type": "code",
   "execution_count": 10,
   "metadata": {},
   "outputs": [
    {
     "data": {
      "text/html": [
       "'list'"
      ],
      "text/latex": [
       "'list'"
      ],
      "text/markdown": [
       "'list'"
      ],
      "text/plain": [
       "[1] \"list\""
      ]
     },
     "metadata": {},
     "output_type": "display_data"
    }
   ],
   "source": [
    "class(items)"
   ]
  },
  {
   "cell_type": "code",
   "execution_count": 11,
   "metadata": {},
   "outputs": [
    {
     "data": {
      "text/html": [
       "'list'"
      ],
      "text/latex": [
       "'list'"
      ],
      "text/markdown": [
       "'list'"
      ],
      "text/plain": [
       "[1] \"list\""
      ]
     },
     "metadata": {},
     "output_type": "display_data"
    }
   ],
   "source": [
    "mode(items)"
   ]
  },
  {
   "cell_type": "code",
   "execution_count": 12,
   "metadata": {},
   "outputs": [
    {
     "data": {
      "text/html": [
       "FALSE"
      ],
      "text/latex": [
       "FALSE"
      ],
      "text/markdown": [
       "FALSE"
      ],
      "text/plain": [
       "[1] FALSE"
      ]
     },
     "metadata": {},
     "output_type": "display_data"
    }
   ],
   "source": [
    "is.numeric(items)"
   ]
  },
  {
   "cell_type": "code",
   "execution_count": 13,
   "metadata": {},
   "outputs": [
    {
     "data": {
      "text/html": [
       "TRUE"
      ],
      "text/latex": [
       "TRUE"
      ],
      "text/markdown": [
       "TRUE"
      ],
      "text/plain": [
       "[1] TRUE"
      ]
     },
     "metadata": {},
     "output_type": "display_data"
    }
   ],
   "source": [
    "is.list(items)"
   ]
  },
  {
   "cell_type": "code",
   "execution_count": 14,
   "metadata": {},
   "outputs": [
    {
     "data": {
      "text/html": [
       "4"
      ],
      "text/latex": [
       "4"
      ],
      "text/markdown": [
       "4"
      ],
      "text/plain": [
       "[1] 4"
      ]
     },
     "metadata": {},
     "output_type": "display_data"
    }
   ],
   "source": [
    "length(items)"
   ]
  },
  {
   "cell_type": "code",
   "execution_count": 15,
   "metadata": {},
   "outputs": [
    {
     "data": {
      "text/html": [
       "<dl>\n",
       "\t<dt>$first</dt>\n",
       "\t\t<dd>5</dd>\n",
       "\t<dt>$second</dt>\n",
       "\t\t<dd>3</dd>\n",
       "\t<dt>$third</dt>\n",
       "\t\t<dd>4</dd>\n",
       "\t<dt>$fourth</dt>\n",
       "\t\t<dd>2</dd>\n",
       "</dl>\n"
      ],
      "text/latex": [
       "\\begin{description}\n",
       "\\item[\\$first] 5\n",
       "\\item[\\$second] 3\n",
       "\\item[\\$third] 4\n",
       "\\item[\\$fourth] 2\n",
       "\\end{description}\n"
      ],
      "text/markdown": [
       "$first\n",
       ":   5\n",
       "$second\n",
       ":   3\n",
       "$third\n",
       ":   4\n",
       "$fourth\n",
       ":   2\n",
       "\n",
       "\n"
      ],
      "text/plain": [
       "$first\n",
       "[1] 5\n",
       "\n",
       "$second\n",
       "[1] 3\n",
       "\n",
       "$third\n",
       "[1] 4\n",
       "\n",
       "$fourth\n",
       "[1] 2\n"
      ]
     },
     "metadata": {},
     "output_type": "display_data"
    }
   ],
   "source": [
    "lapply(items, length)"
   ]
  },
  {
   "cell_type": "code",
   "execution_count": 16,
   "metadata": {},
   "outputs": [
    {
     "data": {
      "text/html": [
       "<dl>\n",
       "\t<dt>$first</dt>\n",
       "\t\t<dd>'numeric'</dd>\n",
       "\t<dt>$second</dt>\n",
       "\t\t<dd>'logical'</dd>\n",
       "\t<dt>$third</dt>\n",
       "\t\t<dd>'character'</dd>\n",
       "\t<dt>$fourth</dt>\n",
       "\t\t<dd>'complex'</dd>\n",
       "</dl>\n"
      ],
      "text/latex": [
       "\\begin{description}\n",
       "\\item[\\$first] 'numeric'\n",
       "\\item[\\$second] 'logical'\n",
       "\\item[\\$third] 'character'\n",
       "\\item[\\$fourth] 'complex'\n",
       "\\end{description}\n"
      ],
      "text/markdown": [
       "$first\n",
       ":   'numeric'\n",
       "$second\n",
       ":   'logical'\n",
       "$third\n",
       ":   'character'\n",
       "$fourth\n",
       ":   'complex'\n",
       "\n",
       "\n"
      ],
      "text/plain": [
       "$first\n",
       "[1] \"numeric\"\n",
       "\n",
       "$second\n",
       "[1] \"logical\"\n",
       "\n",
       "$third\n",
       "[1] \"character\"\n",
       "\n",
       "$fourth\n",
       "[1] \"complex\"\n"
      ]
     },
     "metadata": {},
     "output_type": "display_data"
    }
   ],
   "source": [
    "lapply(items, class)"
   ]
  },
  {
   "cell_type": "code",
   "execution_count": 17,
   "metadata": {},
   "outputs": [
    {
     "name": "stderr",
     "output_type": "stream",
     "text": [
      "Warning message in mean.default(X[[i]], ...):\n",
      "\"argument is not numeric or logical: returning NA\""
     ]
    },
    {
     "data": {
      "text/html": [
       "<dl>\n",
       "\t<dt>$first</dt>\n",
       "\t\t<dd>4.34</dd>\n",
       "\t<dt>$second</dt>\n",
       "\t\t<dd>0.666666666666667</dd>\n",
       "\t<dt>$third</dt>\n",
       "\t\t<dd>&lt;NA&gt;</dd>\n",
       "\t<dt>$fourth</dt>\n",
       "\t\t<dd>8-1.15i</dd>\n",
       "</dl>\n"
      ],
      "text/latex": [
       "\\begin{description}\n",
       "\\item[\\$first] 4.34\n",
       "\\item[\\$second] 0.666666666666667\n",
       "\\item[\\$third] <NA>\n",
       "\\item[\\$fourth] 8-1.15i\n",
       "\\end{description}\n"
      ],
      "text/markdown": [
       "$first\n",
       ":   4.34\n",
       "$second\n",
       ":   0.666666666666667\n",
       "$third\n",
       ":   &lt;NA&gt;\n",
       "$fourth\n",
       ":   8-1.15i\n",
       "\n",
       "\n"
      ],
      "text/plain": [
       "$first\n",
       "[1] 4.34\n",
       "\n",
       "$second\n",
       "[1] 0.6666667\n",
       "\n",
       "$third\n",
       "[1] NA\n",
       "\n",
       "$fourth\n",
       "[1] 8-1.15i\n"
      ]
     },
     "metadata": {},
     "output_type": "display_data"
    }
   ],
   "source": [
    "lapply(items, mean)"
   ]
  },
  {
   "cell_type": "code",
   "execution_count": 18,
   "metadata": {},
   "outputs": [
    {
     "data": {
      "text/plain": [
       "       Length Class  Mode     \n",
       "first  5      -none- numeric  \n",
       "second 3      -none- logical  \n",
       "third  4      -none- character\n",
       "fourth 2      -none- complex  "
      ]
     },
     "metadata": {},
     "output_type": "display_data"
    }
   ],
   "source": [
    "summary(items)"
   ]
  },
  {
   "cell_type": "code",
   "execution_count": 19,
   "metadata": {},
   "outputs": [
    {
     "name": "stdout",
     "output_type": "stream",
     "text": [
      "List of 4\n",
      " $ first : num [1:5] 4 4.5 4.2 5.1 3.9\n",
      " $ second: logi [1:3] TRUE TRUE FALSE\n",
      " $ third : chr [1:4] \"limestone\" \"marl\" \"oolite\" \"CaC03\"\n",
      " $ fourth: cplx [1:2] 3.2-4.5i 12.8+2.2i\n"
     ]
    }
   ],
   "source": [
    "str(items)"
   ]
  },
  {
   "cell_type": "markdown",
   "metadata": {},
   "source": [
    "### Text, character strings and pattern matching"
   ]
  },
  {
   "cell_type": "code",
   "execution_count": 27,
   "metadata": {},
   "outputs": [],
   "source": [
    "a = \"abc\"\n",
    "b = \"123\""
   ]
  },
  {
   "cell_type": "code",
   "execution_count": 29,
   "metadata": {},
   "outputs": [
    {
     "data": {
      "text/html": [
       "123"
      ],
      "text/latex": [
       "123"
      ],
      "text/markdown": [
       "123"
      ],
      "text/plain": [
       "[1] 123"
      ]
     },
     "metadata": {},
     "output_type": "display_data"
    }
   ],
   "source": [
    "as.numeric(b)"
   ]
  },
  {
   "cell_type": "code",
   "execution_count": 30,
   "metadata": {},
   "outputs": [],
   "source": [
    "pets = c(\"cat\", \"dog\", \"gerbil\", \"terrapin\")"
   ]
  },
  {
   "cell_type": "code",
   "execution_count": 31,
   "metadata": {},
   "outputs": [
    {
     "data": {
      "text/html": [
       "<ol class=list-inline>\n",
       "\t<li>1</li>\n",
       "\t<li>1</li>\n",
       "\t<li>1</li>\n",
       "\t<li>1</li>\n",
       "</ol>\n"
      ],
      "text/latex": [
       "\\begin{enumerate*}\n",
       "\\item 1\n",
       "\\item 1\n",
       "\\item 1\n",
       "\\item 1\n",
       "\\end{enumerate*}\n"
      ],
      "text/markdown": [
       "1. 1\n",
       "2. 1\n",
       "3. 1\n",
       "4. 1\n",
       "\n",
       "\n"
      ],
      "text/plain": [
       "[1] 1 1 1 1"
      ]
     },
     "metadata": {},
     "output_type": "display_data"
    }
   ],
   "source": [
    "lengths(pets)"
   ]
  },
  {
   "cell_type": "code",
   "execution_count": 32,
   "metadata": {},
   "outputs": [
    {
     "data": {
      "text/html": [
       "<ol class=list-inline>\n",
       "\t<li>3</li>\n",
       "\t<li>3</li>\n",
       "\t<li>6</li>\n",
       "\t<li>8</li>\n",
       "</ol>\n"
      ],
      "text/latex": [
       "\\begin{enumerate*}\n",
       "\\item 3\n",
       "\\item 3\n",
       "\\item 6\n",
       "\\item 8\n",
       "\\end{enumerate*}\n"
      ],
      "text/markdown": [
       "1. 3\n",
       "2. 3\n",
       "3. 6\n",
       "4. 8\n",
       "\n",
       "\n"
      ],
      "text/plain": [
       "[1] 3 3 6 8"
      ]
     },
     "metadata": {},
     "output_type": "display_data"
    }
   ],
   "source": [
    "nchar(pets)"
   ]
  },
  {
   "cell_type": "code",
   "execution_count": 33,
   "metadata": {},
   "outputs": [
    {
     "data": {
      "text/html": [
       "'character'"
      ],
      "text/latex": [
       "'character'"
      ],
      "text/markdown": [
       "'character'"
      ],
      "text/plain": [
       "[1] \"character\""
      ]
     },
     "metadata": {},
     "output_type": "display_data"
    }
   ],
   "source": [
    "class(pets)"
   ]
  },
  {
   "cell_type": "code",
   "execution_count": 34,
   "metadata": {},
   "outputs": [
    {
     "data": {
      "text/html": [
       "FALSE"
      ],
      "text/latex": [
       "FALSE"
      ],
      "text/markdown": [
       "FALSE"
      ],
      "text/plain": [
       "[1] FALSE"
      ]
     },
     "metadata": {},
     "output_type": "display_data"
    }
   ],
   "source": [
    "is.factor(pets)"
   ]
  },
  {
   "cell_type": "code",
   "execution_count": 35,
   "metadata": {},
   "outputs": [],
   "source": [
    "df = data.frame(pets)"
   ]
  },
  {
   "cell_type": "code",
   "execution_count": 36,
   "metadata": {},
   "outputs": [
    {
     "data": {
      "text/html": [
       "TRUE"
      ],
      "text/latex": [
       "TRUE"
      ],
      "text/markdown": [
       "TRUE"
      ],
      "text/plain": [
       "[1] TRUE"
      ]
     },
     "metadata": {},
     "output_type": "display_data"
    }
   ],
   "source": [
    "is.factor(df$pets)"
   ]
  },
  {
   "cell_type": "code",
   "execution_count": 37,
   "metadata": {},
   "outputs": [
    {
     "data": {
      "text/html": [
       "<table>\n",
       "<thead><tr><th scope=col>pets</th></tr></thead>\n",
       "<tbody>\n",
       "\t<tr><td>cat     </td></tr>\n",
       "\t<tr><td>dog     </td></tr>\n",
       "\t<tr><td>gerbil  </td></tr>\n",
       "\t<tr><td>terrapin</td></tr>\n",
       "</tbody>\n",
       "</table>\n"
      ],
      "text/latex": [
       "\\begin{tabular}{r|l}\n",
       " pets\\\\\n",
       "\\hline\n",
       "\t cat     \\\\\n",
       "\t dog     \\\\\n",
       "\t gerbil  \\\\\n",
       "\t terrapin\\\\\n",
       "\\end{tabular}\n"
      ],
      "text/markdown": [
       "\n",
       "pets | \n",
       "|---|---|---|---|\n",
       "| cat      | \n",
       "| dog      | \n",
       "| gerbil   | \n",
       "| terrapin | \n",
       "\n",
       "\n"
      ],
      "text/plain": [
       "  pets    \n",
       "1 cat     \n",
       "2 dog     \n",
       "3 gerbil  \n",
       "4 terrapin"
      ]
     },
     "metadata": {},
     "output_type": "display_data"
    }
   ],
   "source": [
    "df"
   ]
  },
  {
   "cell_type": "code",
   "execution_count": 38,
   "metadata": {},
   "outputs": [
    {
     "data": {
      "text/html": [
       "<ol class=list-inline>\n",
       "\t<li>'a'</li>\n",
       "\t<li>'b'</li>\n",
       "\t<li>'c'</li>\n",
       "\t<li>'d'</li>\n",
       "\t<li>'e'</li>\n",
       "\t<li>'f'</li>\n",
       "\t<li>'g'</li>\n",
       "\t<li>'h'</li>\n",
       "\t<li>'i'</li>\n",
       "\t<li>'j'</li>\n",
       "\t<li>'k'</li>\n",
       "\t<li>'l'</li>\n",
       "\t<li>'m'</li>\n",
       "\t<li>'n'</li>\n",
       "\t<li>'o'</li>\n",
       "\t<li>'p'</li>\n",
       "\t<li>'q'</li>\n",
       "\t<li>'r'</li>\n",
       "\t<li>'s'</li>\n",
       "\t<li>'t'</li>\n",
       "\t<li>'u'</li>\n",
       "\t<li>'v'</li>\n",
       "\t<li>'w'</li>\n",
       "\t<li>'x'</li>\n",
       "\t<li>'y'</li>\n",
       "\t<li>'z'</li>\n",
       "</ol>\n"
      ],
      "text/latex": [
       "\\begin{enumerate*}\n",
       "\\item 'a'\n",
       "\\item 'b'\n",
       "\\item 'c'\n",
       "\\item 'd'\n",
       "\\item 'e'\n",
       "\\item 'f'\n",
       "\\item 'g'\n",
       "\\item 'h'\n",
       "\\item 'i'\n",
       "\\item 'j'\n",
       "\\item 'k'\n",
       "\\item 'l'\n",
       "\\item 'm'\n",
       "\\item 'n'\n",
       "\\item 'o'\n",
       "\\item 'p'\n",
       "\\item 'q'\n",
       "\\item 'r'\n",
       "\\item 's'\n",
       "\\item 't'\n",
       "\\item 'u'\n",
       "\\item 'v'\n",
       "\\item 'w'\n",
       "\\item 'x'\n",
       "\\item 'y'\n",
       "\\item 'z'\n",
       "\\end{enumerate*}\n"
      ],
      "text/markdown": [
       "1. 'a'\n",
       "2. 'b'\n",
       "3. 'c'\n",
       "4. 'd'\n",
       "5. 'e'\n",
       "6. 'f'\n",
       "7. 'g'\n",
       "8. 'h'\n",
       "9. 'i'\n",
       "10. 'j'\n",
       "11. 'k'\n",
       "12. 'l'\n",
       "13. 'm'\n",
       "14. 'n'\n",
       "15. 'o'\n",
       "16. 'p'\n",
       "17. 'q'\n",
       "18. 'r'\n",
       "19. 's'\n",
       "20. 't'\n",
       "21. 'u'\n",
       "22. 'v'\n",
       "23. 'w'\n",
       "24. 'x'\n",
       "25. 'y'\n",
       "26. 'z'\n",
       "\n",
       "\n"
      ],
      "text/plain": [
       " [1] \"a\" \"b\" \"c\" \"d\" \"e\" \"f\" \"g\" \"h\" \"i\" \"j\" \"k\" \"l\" \"m\" \"n\" \"o\" \"p\" \"q\" \"r\" \"s\"\n",
       "[20] \"t\" \"u\" \"v\" \"w\" \"x\" \"y\" \"z\""
      ]
     },
     "metadata": {},
     "output_type": "display_data"
    }
   ],
   "source": [
    "letters"
   ]
  },
  {
   "cell_type": "code",
   "execution_count": 39,
   "metadata": {},
   "outputs": [
    {
     "data": {
      "text/html": [
       "<ol class=list-inline>\n",
       "\t<li>'A'</li>\n",
       "\t<li>'B'</li>\n",
       "\t<li>'C'</li>\n",
       "\t<li>'D'</li>\n",
       "\t<li>'E'</li>\n",
       "\t<li>'F'</li>\n",
       "\t<li>'G'</li>\n",
       "\t<li>'H'</li>\n",
       "\t<li>'I'</li>\n",
       "\t<li>'J'</li>\n",
       "\t<li>'K'</li>\n",
       "\t<li>'L'</li>\n",
       "\t<li>'M'</li>\n",
       "\t<li>'N'</li>\n",
       "\t<li>'O'</li>\n",
       "\t<li>'P'</li>\n",
       "\t<li>'Q'</li>\n",
       "\t<li>'R'</li>\n",
       "\t<li>'S'</li>\n",
       "\t<li>'T'</li>\n",
       "\t<li>'U'</li>\n",
       "\t<li>'V'</li>\n",
       "\t<li>'W'</li>\n",
       "\t<li>'X'</li>\n",
       "\t<li>'Y'</li>\n",
       "\t<li>'Z'</li>\n",
       "</ol>\n"
      ],
      "text/latex": [
       "\\begin{enumerate*}\n",
       "\\item 'A'\n",
       "\\item 'B'\n",
       "\\item 'C'\n",
       "\\item 'D'\n",
       "\\item 'E'\n",
       "\\item 'F'\n",
       "\\item 'G'\n",
       "\\item 'H'\n",
       "\\item 'I'\n",
       "\\item 'J'\n",
       "\\item 'K'\n",
       "\\item 'L'\n",
       "\\item 'M'\n",
       "\\item 'N'\n",
       "\\item 'O'\n",
       "\\item 'P'\n",
       "\\item 'Q'\n",
       "\\item 'R'\n",
       "\\item 'S'\n",
       "\\item 'T'\n",
       "\\item 'U'\n",
       "\\item 'V'\n",
       "\\item 'W'\n",
       "\\item 'X'\n",
       "\\item 'Y'\n",
       "\\item 'Z'\n",
       "\\end{enumerate*}\n"
      ],
      "text/markdown": [
       "1. 'A'\n",
       "2. 'B'\n",
       "3. 'C'\n",
       "4. 'D'\n",
       "5. 'E'\n",
       "6. 'F'\n",
       "7. 'G'\n",
       "8. 'H'\n",
       "9. 'I'\n",
       "10. 'J'\n",
       "11. 'K'\n",
       "12. 'L'\n",
       "13. 'M'\n",
       "14. 'N'\n",
       "15. 'O'\n",
       "16. 'P'\n",
       "17. 'Q'\n",
       "18. 'R'\n",
       "19. 'S'\n",
       "20. 'T'\n",
       "21. 'U'\n",
       "22. 'V'\n",
       "23. 'W'\n",
       "24. 'X'\n",
       "25. 'Y'\n",
       "26. 'Z'\n",
       "\n",
       "\n"
      ],
      "text/plain": [
       " [1] \"A\" \"B\" \"C\" \"D\" \"E\" \"F\" \"G\" \"H\" \"I\" \"J\" \"K\" \"L\" \"M\" \"N\" \"O\" \"P\" \"Q\" \"R\" \"S\"\n",
       "[20] \"T\" \"U\" \"V\" \"W\" \"X\" \"Y\" \"Z\""
      ]
     },
     "metadata": {},
     "output_type": "display_data"
    }
   ],
   "source": [
    "LETTERS"
   ]
  },
  {
   "cell_type": "code",
   "execution_count": 40,
   "metadata": {},
   "outputs": [
    {
     "data": {
      "text/html": [
       "14"
      ],
      "text/latex": [
       "14"
      ],
      "text/markdown": [
       "14"
      ],
      "text/plain": [
       "[1] 14"
      ]
     },
     "metadata": {},
     "output_type": "display_data"
    }
   ],
   "source": [
    "which(letters==\"n\")"
   ]
  },
  {
   "cell_type": "code",
   "execution_count": 41,
   "metadata": {},
   "outputs": [
    {
     "data": {
      "text/plain": [
       " [1] a b c d e f g h i j k l m n o p q r s t u v w x y z"
      ]
     },
     "metadata": {},
     "output_type": "display_data"
    }
   ],
   "source": [
    "noquote(letters)"
   ]
  },
  {
   "cell_type": "markdown",
   "metadata": {},
   "source": [
    "#### Pasting characters string together"
   ]
  },
  {
   "cell_type": "code",
   "execution_count": 42,
   "metadata": {},
   "outputs": [
    {
     "data": {
      "text/html": [
       "<ol class=list-inline>\n",
       "\t<li>'abc'</li>\n",
       "\t<li>'123'</li>\n",
       "</ol>\n"
      ],
      "text/latex": [
       "\\begin{enumerate*}\n",
       "\\item 'abc'\n",
       "\\item '123'\n",
       "\\end{enumerate*}\n"
      ],
      "text/markdown": [
       "1. 'abc'\n",
       "2. '123'\n",
       "\n",
       "\n"
      ],
      "text/plain": [
       "[1] \"abc\" \"123\""
      ]
     },
     "metadata": {},
     "output_type": "display_data"
    }
   ],
   "source": [
    "c(a,b)"
   ]
  },
  {
   "cell_type": "code",
   "execution_count": 43,
   "metadata": {},
   "outputs": [
    {
     "data": {
      "text/html": [
       "'abc123'"
      ],
      "text/latex": [
       "'abc123'"
      ],
      "text/markdown": [
       "'abc123'"
      ],
      "text/plain": [
       "[1] \"abc123\""
      ]
     },
     "metadata": {},
     "output_type": "display_data"
    }
   ],
   "source": [
    "paste(a,b,sep='')"
   ]
  },
  {
   "cell_type": "code",
   "execution_count": 44,
   "metadata": {},
   "outputs": [
    {
     "data": {
      "text/html": [
       "'abc 123'"
      ],
      "text/latex": [
       "'abc 123'"
      ],
      "text/markdown": [
       "'abc 123'"
      ],
      "text/plain": [
       "[1] \"abc 123\""
      ]
     },
     "metadata": {},
     "output_type": "display_data"
    }
   ],
   "source": [
    "paste(a,b)"
   ]
  },
  {
   "cell_type": "code",
   "execution_count": 47,
   "metadata": {},
   "outputs": [
    {
     "data": {
      "text/html": [
       "'abc123 a longer phrase containing blanks'"
      ],
      "text/latex": [
       "'abc123 a longer phrase containing blanks'"
      ],
      "text/markdown": [
       "'abc123 a longer phrase containing blanks'"
      ],
      "text/plain": [
       "[1] \"abc123 a longer phrase containing blanks\""
      ]
     },
     "metadata": {},
     "output_type": "display_data"
    }
   ],
   "source": [
    "paste(a,b,\" a longer phrase containing blanks\", sep='')"
   ]
  },
  {
   "cell_type": "code",
   "execution_count": 49,
   "metadata": {},
   "outputs": [
    {
     "data": {
      "text/html": [
       "'c:\\\\temp\\\\file.txt'"
      ],
      "text/latex": [
       "'c:\\textbackslash{}\\textbackslash{}temp\\textbackslash{}\\textbackslash{}file.txt'"
      ],
      "text/markdown": [
       "'c:\\\\temp\\\\file.txt'"
      ],
      "text/plain": [
       "[1] \"c:\\\\temp\\\\file.txt\""
      ]
     },
     "metadata": {},
     "output_type": "display_data"
    }
   ],
   "source": [
    "drive = 'c:'\n",
    "folder = 'temp'\n",
    "file = 'file'\n",
    "extension = 'txt'\n",
    "sep = '\\\\'\n",
    "paste(drive,sep,folder,sep,file,'.',extension,sep='')"
   ]
  },
  {
   "cell_type": "markdown",
   "metadata": {},
   "source": [
    "#### Extracting parts of strings"
   ]
  },
  {
   "cell_type": "code",
   "execution_count": 50,
   "metadata": {},
   "outputs": [],
   "source": [
    "phrase = \"the quick brown fox jumps over the lazy dog\""
   ]
  },
  {
   "cell_type": "code",
   "execution_count": 51,
   "metadata": {},
   "outputs": [],
   "source": [
    "q = character(20)"
   ]
  },
  {
   "cell_type": "code",
   "execution_count": 53,
   "metadata": {},
   "outputs": [],
   "source": [
    "for (i in 1:20) q[i] = substr(phrase,1,i)"
   ]
  },
  {
   "cell_type": "code",
   "execution_count": 54,
   "metadata": {},
   "outputs": [
    {
     "data": {
      "text/html": [
       "<ol class=list-inline>\n",
       "\t<li>'t'</li>\n",
       "\t<li>'th'</li>\n",
       "\t<li>'the'</li>\n",
       "\t<li>'the '</li>\n",
       "\t<li>'the q'</li>\n",
       "\t<li>'the qu'</li>\n",
       "\t<li>'the qui'</li>\n",
       "\t<li>'the quic'</li>\n",
       "\t<li>'the quick'</li>\n",
       "\t<li>'the quick '</li>\n",
       "\t<li>'the quick b'</li>\n",
       "\t<li>'the quick br'</li>\n",
       "\t<li>'the quick bro'</li>\n",
       "\t<li>'the quick brow'</li>\n",
       "\t<li>'the quick brown'</li>\n",
       "\t<li>'the quick brown '</li>\n",
       "\t<li>'the quick brown f'</li>\n",
       "\t<li>'the quick brown fo'</li>\n",
       "\t<li>'the quick brown fox'</li>\n",
       "\t<li>'the quick brown fox '</li>\n",
       "</ol>\n"
      ],
      "text/latex": [
       "\\begin{enumerate*}\n",
       "\\item 't'\n",
       "\\item 'th'\n",
       "\\item 'the'\n",
       "\\item 'the '\n",
       "\\item 'the q'\n",
       "\\item 'the qu'\n",
       "\\item 'the qui'\n",
       "\\item 'the quic'\n",
       "\\item 'the quick'\n",
       "\\item 'the quick '\n",
       "\\item 'the quick b'\n",
       "\\item 'the quick br'\n",
       "\\item 'the quick bro'\n",
       "\\item 'the quick brow'\n",
       "\\item 'the quick brown'\n",
       "\\item 'the quick brown '\n",
       "\\item 'the quick brown f'\n",
       "\\item 'the quick brown fo'\n",
       "\\item 'the quick brown fox'\n",
       "\\item 'the quick brown fox '\n",
       "\\end{enumerate*}\n"
      ],
      "text/markdown": [
       "1. 't'\n",
       "2. 'th'\n",
       "3. 'the'\n",
       "4. 'the '\n",
       "5. 'the q'\n",
       "6. 'the qu'\n",
       "7. 'the qui'\n",
       "8. 'the quic'\n",
       "9. 'the quick'\n",
       "10. 'the quick '\n",
       "11. 'the quick b'\n",
       "12. 'the quick br'\n",
       "13. 'the quick bro'\n",
       "14. 'the quick brow'\n",
       "15. 'the quick brown'\n",
       "16. 'the quick brown '\n",
       "17. 'the quick brown f'\n",
       "18. 'the quick brown fo'\n",
       "19. 'the quick brown fox'\n",
       "20. 'the quick brown fox '\n",
       "\n",
       "\n"
      ],
      "text/plain": [
       " [1] \"t\"                    \"th\"                   \"the\"                 \n",
       " [4] \"the \"                 \"the q\"                \"the qu\"              \n",
       " [7] \"the qui\"              \"the quic\"             \"the quick\"           \n",
       "[10] \"the quick \"           \"the quick b\"          \"the quick br\"        \n",
       "[13] \"the quick bro\"        \"the quick brow\"       \"the quick brown\"     \n",
       "[16] \"the quick brown \"     \"the quick brown f\"    \"the quick brown fo\"  \n",
       "[19] \"the quick brown fox\"  \"the quick brown fox \""
      ]
     },
     "metadata": {},
     "output_type": "display_data"
    }
   ],
   "source": [
    "q"
   ]
  },
  {
   "cell_type": "markdown",
   "metadata": {},
   "source": [
    "#### Counting things within strings"
   ]
  },
  {
   "cell_type": "code",
   "execution_count": 55,
   "metadata": {},
   "outputs": [
    {
     "data": {
      "text/html": [
       "43"
      ],
      "text/latex": [
       "43"
      ],
      "text/markdown": [
       "43"
      ],
      "text/plain": [
       "[1] 43"
      ]
     },
     "metadata": {},
     "output_type": "display_data"
    }
   ],
   "source": [
    "nchar(phrase)"
   ]
  },
  {
   "cell_type": "code",
   "execution_count": 56,
   "metadata": {},
   "outputs": [
    {
     "data": {
      "text/html": [
       "<ol>\n",
       "\t<li><ol class=list-inline>\n",
       "\t<li>'t'</li>\n",
       "\t<li>'h'</li>\n",
       "\t<li>'e'</li>\n",
       "\t<li>' '</li>\n",
       "\t<li>'q'</li>\n",
       "\t<li>'u'</li>\n",
       "\t<li>'i'</li>\n",
       "\t<li>'c'</li>\n",
       "\t<li>'k'</li>\n",
       "\t<li>' '</li>\n",
       "\t<li>'b'</li>\n",
       "\t<li>'r'</li>\n",
       "\t<li>'o'</li>\n",
       "\t<li>'w'</li>\n",
       "\t<li>'n'</li>\n",
       "\t<li>' '</li>\n",
       "\t<li>'f'</li>\n",
       "\t<li>'o'</li>\n",
       "\t<li>'x'</li>\n",
       "\t<li>' '</li>\n",
       "\t<li>'j'</li>\n",
       "\t<li>'u'</li>\n",
       "\t<li>'m'</li>\n",
       "\t<li>'p'</li>\n",
       "\t<li>'s'</li>\n",
       "\t<li>' '</li>\n",
       "\t<li>'o'</li>\n",
       "\t<li>'v'</li>\n",
       "\t<li>'e'</li>\n",
       "\t<li>'r'</li>\n",
       "\t<li>' '</li>\n",
       "\t<li>'t'</li>\n",
       "\t<li>'h'</li>\n",
       "\t<li>'e'</li>\n",
       "\t<li>' '</li>\n",
       "\t<li>'l'</li>\n",
       "\t<li>'a'</li>\n",
       "\t<li>'z'</li>\n",
       "\t<li>'y'</li>\n",
       "\t<li>' '</li>\n",
       "\t<li>'d'</li>\n",
       "\t<li>'o'</li>\n",
       "\t<li>'g'</li>\n",
       "</ol>\n",
       "</li>\n",
       "</ol>\n"
      ],
      "text/latex": [
       "\\begin{enumerate}\n",
       "\\item \\begin{enumerate*}\n",
       "\\item 't'\n",
       "\\item 'h'\n",
       "\\item 'e'\n",
       "\\item ' '\n",
       "\\item 'q'\n",
       "\\item 'u'\n",
       "\\item 'i'\n",
       "\\item 'c'\n",
       "\\item 'k'\n",
       "\\item ' '\n",
       "\\item 'b'\n",
       "\\item 'r'\n",
       "\\item 'o'\n",
       "\\item 'w'\n",
       "\\item 'n'\n",
       "\\item ' '\n",
       "\\item 'f'\n",
       "\\item 'o'\n",
       "\\item 'x'\n",
       "\\item ' '\n",
       "\\item 'j'\n",
       "\\item 'u'\n",
       "\\item 'm'\n",
       "\\item 'p'\n",
       "\\item 's'\n",
       "\\item ' '\n",
       "\\item 'o'\n",
       "\\item 'v'\n",
       "\\item 'e'\n",
       "\\item 'r'\n",
       "\\item ' '\n",
       "\\item 't'\n",
       "\\item 'h'\n",
       "\\item 'e'\n",
       "\\item ' '\n",
       "\\item 'l'\n",
       "\\item 'a'\n",
       "\\item 'z'\n",
       "\\item 'y'\n",
       "\\item ' '\n",
       "\\item 'd'\n",
       "\\item 'o'\n",
       "\\item 'g'\n",
       "\\end{enumerate*}\n",
       "\n",
       "\\end{enumerate}\n"
      ],
      "text/markdown": [
       "1. 1. 't'\n",
       "2. 'h'\n",
       "3. 'e'\n",
       "4. ' '\n",
       "5. 'q'\n",
       "6. 'u'\n",
       "7. 'i'\n",
       "8. 'c'\n",
       "9. 'k'\n",
       "10. ' '\n",
       "11. 'b'\n",
       "12. 'r'\n",
       "13. 'o'\n",
       "14. 'w'\n",
       "15. 'n'\n",
       "16. ' '\n",
       "17. 'f'\n",
       "18. 'o'\n",
       "19. 'x'\n",
       "20. ' '\n",
       "21. 'j'\n",
       "22. 'u'\n",
       "23. 'm'\n",
       "24. 'p'\n",
       "25. 's'\n",
       "26. ' '\n",
       "27. 'o'\n",
       "28. 'v'\n",
       "29. 'e'\n",
       "30. 'r'\n",
       "31. ' '\n",
       "32. 't'\n",
       "33. 'h'\n",
       "34. 'e'\n",
       "35. ' '\n",
       "36. 'l'\n",
       "37. 'a'\n",
       "38. 'z'\n",
       "39. 'y'\n",
       "40. ' '\n",
       "41. 'd'\n",
       "42. 'o'\n",
       "43. 'g'\n",
       "\n",
       "\n",
       "\n",
       "\n",
       "\n"
      ],
      "text/plain": [
       "[[1]]\n",
       " [1] \"t\" \"h\" \"e\" \" \" \"q\" \"u\" \"i\" \"c\" \"k\" \" \" \"b\" \"r\" \"o\" \"w\" \"n\" \" \" \"f\" \"o\" \"x\"\n",
       "[20] \" \" \"j\" \"u\" \"m\" \"p\" \"s\" \" \" \"o\" \"v\" \"e\" \"r\" \" \" \"t\" \"h\" \"e\" \" \" \"l\" \"a\" \"z\"\n",
       "[39] \"y\" \" \" \"d\" \"o\" \"g\"\n"
      ]
     },
     "metadata": {},
     "output_type": "display_data"
    }
   ],
   "source": [
    "strsplit(phrase,split=character(0))"
   ]
  },
  {
   "cell_type": "code",
   "execution_count": 57,
   "metadata": {},
   "outputs": [
    {
     "data": {
      "text/plain": [
       "\n",
       "  a b c d e f g h i j k l m n o p q r s t u v w x y z \n",
       "8 1 1 1 1 3 1 1 2 1 1 1 1 1 1 4 1 1 2 1 2 2 1 1 1 1 1 "
      ]
     },
     "metadata": {},
     "output_type": "display_data"
    }
   ],
   "source": [
    "table(strsplit(phrase,split=character(0)))"
   ]
  },
  {
   "cell_type": "code",
   "execution_count": 58,
   "metadata": {},
   "outputs": [],
   "source": [
    "words = 1+table(strsplit(phrase,split=character(0)))[1]"
   ]
  },
  {
   "cell_type": "code",
   "execution_count": 59,
   "metadata": {},
   "outputs": [
    {
     "data": {
      "text/html": [
       "<strong> :</strong> 9"
      ],
      "text/latex": [
       "\\textbf{ :} 9"
      ],
      "text/markdown": [
       "** :** 9"
      ],
      "text/plain": [
       "  \n",
       "9 "
      ]
     },
     "metadata": {},
     "output_type": "display_data"
    }
   ],
   "source": [
    "words"
   ]
  },
  {
   "cell_type": "code",
   "execution_count": 60,
   "metadata": {},
   "outputs": [
    {
     "data": {
      "text/html": [
       "<ol>\n",
       "\t<li><ol class=list-inline>\n",
       "\t<li>'the'</li>\n",
       "\t<li>'quick'</li>\n",
       "\t<li>'brown'</li>\n",
       "\t<li>'fox'</li>\n",
       "\t<li>'jumps'</li>\n",
       "\t<li>'over'</li>\n",
       "\t<li>'the'</li>\n",
       "\t<li>'lazy'</li>\n",
       "\t<li>'dog'</li>\n",
       "</ol>\n",
       "</li>\n",
       "</ol>\n"
      ],
      "text/latex": [
       "\\begin{enumerate}\n",
       "\\item \\begin{enumerate*}\n",
       "\\item 'the'\n",
       "\\item 'quick'\n",
       "\\item 'brown'\n",
       "\\item 'fox'\n",
       "\\item 'jumps'\n",
       "\\item 'over'\n",
       "\\item 'the'\n",
       "\\item 'lazy'\n",
       "\\item 'dog'\n",
       "\\end{enumerate*}\n",
       "\n",
       "\\end{enumerate}\n"
      ],
      "text/markdown": [
       "1. 1. 'the'\n",
       "2. 'quick'\n",
       "3. 'brown'\n",
       "4. 'fox'\n",
       "5. 'jumps'\n",
       "6. 'over'\n",
       "7. 'the'\n",
       "8. 'lazy'\n",
       "9. 'dog'\n",
       "\n",
       "\n",
       "\n",
       "\n",
       "\n"
      ],
      "text/plain": [
       "[[1]]\n",
       "[1] \"the\"   \"quick\" \"brown\" \"fox\"   \"jumps\" \"over\"  \"the\"   \"lazy\"  \"dog\"  \n"
      ]
     },
     "metadata": {},
     "output_type": "display_data"
    }
   ],
   "source": [
    "strsplit(phrase, \" \")"
   ]
  },
  {
   "cell_type": "code",
   "execution_count": 61,
   "metadata": {},
   "outputs": [
    {
     "data": {
      "text/plain": [
       "\n",
       "3 4 5 \n",
       "4 2 3 "
      ]
     },
     "metadata": {},
     "output_type": "display_data"
    }
   ],
   "source": [
    "table(lapply(strsplit(phrase, \" \"), nchar))"
   ]
  },
  {
   "cell_type": "code",
   "execution_count": 62,
   "metadata": {},
   "outputs": [
    {
     "data": {
      "text/html": [
       "<ol>\n",
       "\t<li><ol class=list-inline>\n",
       "\t<li>'t'</li>\n",
       "\t<li>'h'</li>\n",
       "\t<li>'e'</li>\n",
       "\t<li>' '</li>\n",
       "\t<li>'q'</li>\n",
       "\t<li>'u'</li>\n",
       "\t<li>'i'</li>\n",
       "\t<li>'c'</li>\n",
       "\t<li>'k'</li>\n",
       "\t<li>' '</li>\n",
       "\t<li>'b'</li>\n",
       "\t<li>'r'</li>\n",
       "\t<li>'o'</li>\n",
       "\t<li>'w'</li>\n",
       "\t<li>'n'</li>\n",
       "\t<li>' '</li>\n",
       "\t<li>'f'</li>\n",
       "\t<li>'o'</li>\n",
       "\t<li>'x'</li>\n",
       "\t<li>' '</li>\n",
       "\t<li>'j'</li>\n",
       "\t<li>'u'</li>\n",
       "\t<li>'m'</li>\n",
       "\t<li>'p'</li>\n",
       "\t<li>'s'</li>\n",
       "\t<li>' '</li>\n",
       "\t<li>'o'</li>\n",
       "\t<li>'v'</li>\n",
       "\t<li>'e'</li>\n",
       "\t<li>'r'</li>\n",
       "\t<li>' '</li>\n",
       "\t<li>'t'</li>\n",
       "\t<li>'h'</li>\n",
       "\t<li>'e'</li>\n",
       "\t<li>' '</li>\n",
       "\t<li>'l'</li>\n",
       "\t<li>'a'</li>\n",
       "\t<li>'z'</li>\n",
       "\t<li>'y'</li>\n",
       "\t<li>' '</li>\n",
       "\t<li>'d'</li>\n",
       "\t<li>'o'</li>\n",
       "\t<li>'g'</li>\n",
       "</ol>\n",
       "</li>\n",
       "</ol>\n"
      ],
      "text/latex": [
       "\\begin{enumerate}\n",
       "\\item \\begin{enumerate*}\n",
       "\\item 't'\n",
       "\\item 'h'\n",
       "\\item 'e'\n",
       "\\item ' '\n",
       "\\item 'q'\n",
       "\\item 'u'\n",
       "\\item 'i'\n",
       "\\item 'c'\n",
       "\\item 'k'\n",
       "\\item ' '\n",
       "\\item 'b'\n",
       "\\item 'r'\n",
       "\\item 'o'\n",
       "\\item 'w'\n",
       "\\item 'n'\n",
       "\\item ' '\n",
       "\\item 'f'\n",
       "\\item 'o'\n",
       "\\item 'x'\n",
       "\\item ' '\n",
       "\\item 'j'\n",
       "\\item 'u'\n",
       "\\item 'm'\n",
       "\\item 'p'\n",
       "\\item 's'\n",
       "\\item ' '\n",
       "\\item 'o'\n",
       "\\item 'v'\n",
       "\\item 'e'\n",
       "\\item 'r'\n",
       "\\item ' '\n",
       "\\item 't'\n",
       "\\item 'h'\n",
       "\\item 'e'\n",
       "\\item ' '\n",
       "\\item 'l'\n",
       "\\item 'a'\n",
       "\\item 'z'\n",
       "\\item 'y'\n",
       "\\item ' '\n",
       "\\item 'd'\n",
       "\\item 'o'\n",
       "\\item 'g'\n",
       "\\end{enumerate*}\n",
       "\n",
       "\\end{enumerate}\n"
      ],
      "text/markdown": [
       "1. 1. 't'\n",
       "2. 'h'\n",
       "3. 'e'\n",
       "4. ' '\n",
       "5. 'q'\n",
       "6. 'u'\n",
       "7. 'i'\n",
       "8. 'c'\n",
       "9. 'k'\n",
       "10. ' '\n",
       "11. 'b'\n",
       "12. 'r'\n",
       "13. 'o'\n",
       "14. 'w'\n",
       "15. 'n'\n",
       "16. ' '\n",
       "17. 'f'\n",
       "18. 'o'\n",
       "19. 'x'\n",
       "20. ' '\n",
       "21. 'j'\n",
       "22. 'u'\n",
       "23. 'm'\n",
       "24. 'p'\n",
       "25. 's'\n",
       "26. ' '\n",
       "27. 'o'\n",
       "28. 'v'\n",
       "29. 'e'\n",
       "30. 'r'\n",
       "31. ' '\n",
       "32. 't'\n",
       "33. 'h'\n",
       "34. 'e'\n",
       "35. ' '\n",
       "36. 'l'\n",
       "37. 'a'\n",
       "38. 'z'\n",
       "39. 'y'\n",
       "40. ' '\n",
       "41. 'd'\n",
       "42. 'o'\n",
       "43. 'g'\n",
       "\n",
       "\n",
       "\n",
       "\n",
       "\n"
      ],
      "text/plain": [
       "[[1]]\n",
       " [1] \"t\" \"h\" \"e\" \" \" \"q\" \"u\" \"i\" \"c\" \"k\" \" \" \"b\" \"r\" \"o\" \"w\" \"n\" \" \" \"f\" \"o\" \"x\"\n",
       "[20] \" \" \"j\" \"u\" \"m\" \"p\" \"s\" \" \" \"o\" \"v\" \"e\" \"r\" \" \" \"t\" \"h\" \"e\" \" \" \"l\" \"a\" \"z\"\n",
       "[39] \"y\" \" \" \"d\" \"o\" \"g\"\n"
      ]
     },
     "metadata": {},
     "output_type": "display_data"
    }
   ],
   "source": [
    "strsplit(phrase,NULL)"
   ]
  },
  {
   "cell_type": "code",
   "execution_count": 64,
   "metadata": {},
   "outputs": [
    {
     "data": {
      "text/html": [
       "<ol>\n",
       "\t<li><ol class=list-inline>\n",
       "\t<li>'g'</li>\n",
       "\t<li>'o'</li>\n",
       "\t<li>'d'</li>\n",
       "\t<li>' '</li>\n",
       "\t<li>'y'</li>\n",
       "\t<li>'z'</li>\n",
       "\t<li>'a'</li>\n",
       "\t<li>'l'</li>\n",
       "\t<li>' '</li>\n",
       "\t<li>'e'</li>\n",
       "\t<li>'h'</li>\n",
       "\t<li>'t'</li>\n",
       "\t<li>' '</li>\n",
       "\t<li>'r'</li>\n",
       "\t<li>'e'</li>\n",
       "\t<li>'v'</li>\n",
       "\t<li>'o'</li>\n",
       "\t<li>' '</li>\n",
       "\t<li>'s'</li>\n",
       "\t<li>'p'</li>\n",
       "\t<li>'m'</li>\n",
       "\t<li>'u'</li>\n",
       "\t<li>'j'</li>\n",
       "\t<li>' '</li>\n",
       "\t<li>'x'</li>\n",
       "\t<li>'o'</li>\n",
       "\t<li>'f'</li>\n",
       "\t<li>' '</li>\n",
       "\t<li>'n'</li>\n",
       "\t<li>'w'</li>\n",
       "\t<li>'o'</li>\n",
       "\t<li>'r'</li>\n",
       "\t<li>'b'</li>\n",
       "\t<li>' '</li>\n",
       "\t<li>'k'</li>\n",
       "\t<li>'c'</li>\n",
       "\t<li>'i'</li>\n",
       "\t<li>'u'</li>\n",
       "\t<li>'q'</li>\n",
       "\t<li>' '</li>\n",
       "\t<li>'e'</li>\n",
       "\t<li>'h'</li>\n",
       "\t<li>'t'</li>\n",
       "</ol>\n",
       "</li>\n",
       "</ol>\n"
      ],
      "text/latex": [
       "\\begin{enumerate}\n",
       "\\item \\begin{enumerate*}\n",
       "\\item 'g'\n",
       "\\item 'o'\n",
       "\\item 'd'\n",
       "\\item ' '\n",
       "\\item 'y'\n",
       "\\item 'z'\n",
       "\\item 'a'\n",
       "\\item 'l'\n",
       "\\item ' '\n",
       "\\item 'e'\n",
       "\\item 'h'\n",
       "\\item 't'\n",
       "\\item ' '\n",
       "\\item 'r'\n",
       "\\item 'e'\n",
       "\\item 'v'\n",
       "\\item 'o'\n",
       "\\item ' '\n",
       "\\item 's'\n",
       "\\item 'p'\n",
       "\\item 'm'\n",
       "\\item 'u'\n",
       "\\item 'j'\n",
       "\\item ' '\n",
       "\\item 'x'\n",
       "\\item 'o'\n",
       "\\item 'f'\n",
       "\\item ' '\n",
       "\\item 'n'\n",
       "\\item 'w'\n",
       "\\item 'o'\n",
       "\\item 'r'\n",
       "\\item 'b'\n",
       "\\item ' '\n",
       "\\item 'k'\n",
       "\\item 'c'\n",
       "\\item 'i'\n",
       "\\item 'u'\n",
       "\\item 'q'\n",
       "\\item ' '\n",
       "\\item 'e'\n",
       "\\item 'h'\n",
       "\\item 't'\n",
       "\\end{enumerate*}\n",
       "\n",
       "\\end{enumerate}\n"
      ],
      "text/markdown": [
       "1. 1. 'g'\n",
       "2. 'o'\n",
       "3. 'd'\n",
       "4. ' '\n",
       "5. 'y'\n",
       "6. 'z'\n",
       "7. 'a'\n",
       "8. 'l'\n",
       "9. ' '\n",
       "10. 'e'\n",
       "11. 'h'\n",
       "12. 't'\n",
       "13. ' '\n",
       "14. 'r'\n",
       "15. 'e'\n",
       "16. 'v'\n",
       "17. 'o'\n",
       "18. ' '\n",
       "19. 's'\n",
       "20. 'p'\n",
       "21. 'm'\n",
       "22. 'u'\n",
       "23. 'j'\n",
       "24. ' '\n",
       "25. 'x'\n",
       "26. 'o'\n",
       "27. 'f'\n",
       "28. ' '\n",
       "29. 'n'\n",
       "30. 'w'\n",
       "31. 'o'\n",
       "32. 'r'\n",
       "33. 'b'\n",
       "34. ' '\n",
       "35. 'k'\n",
       "36. 'c'\n",
       "37. 'i'\n",
       "38. 'u'\n",
       "39. 'q'\n",
       "40. ' '\n",
       "41. 'e'\n",
       "42. 'h'\n",
       "43. 't'\n",
       "\n",
       "\n",
       "\n",
       "\n",
       "\n"
      ],
      "text/plain": [
       "[[1]]\n",
       " [1] \"g\" \"o\" \"d\" \" \" \"y\" \"z\" \"a\" \"l\" \" \" \"e\" \"h\" \"t\" \" \" \"r\" \"e\" \"v\" \"o\" \" \" \"s\"\n",
       "[20] \"p\" \"m\" \"u\" \"j\" \" \" \"x\" \"o\" \"f\" \" \" \"n\" \"w\" \"o\" \"r\" \"b\" \" \" \"k\" \"c\" \"i\" \"u\"\n",
       "[39] \"q\" \" \" \"e\" \"h\" \"t\"\n"
      ]
     },
     "metadata": {},
     "output_type": "display_data"
    }
   ],
   "source": [
    "lapply(strsplit(phrase,NULL),rev)"
   ]
  },
  {
   "cell_type": "markdown",
   "metadata": {},
   "source": [
    "#### Upper and lowercase text"
   ]
  },
  {
   "cell_type": "code",
   "execution_count": 65,
   "metadata": {},
   "outputs": [
    {
     "data": {
      "text/html": [
       "'THE QUICK BROWN FOX JUMPS OVER THE LAZY DOG'"
      ],
      "text/latex": [
       "'THE QUICK BROWN FOX JUMPS OVER THE LAZY DOG'"
      ],
      "text/markdown": [
       "'THE QUICK BROWN FOX JUMPS OVER THE LAZY DOG'"
      ],
      "text/plain": [
       "[1] \"THE QUICK BROWN FOX JUMPS OVER THE LAZY DOG\""
      ]
     },
     "metadata": {},
     "output_type": "display_data"
    }
   ],
   "source": [
    "toupper(phrase)"
   ]
  },
  {
   "cell_type": "code",
   "execution_count": 66,
   "metadata": {},
   "outputs": [
    {
     "data": {
      "text/html": [
       "'the quick brown fox jumps over the lazy dog'"
      ],
      "text/latex": [
       "'the quick brown fox jumps over the lazy dog'"
      ],
      "text/markdown": [
       "'the quick brown fox jumps over the lazy dog'"
      ],
      "text/plain": [
       "[1] \"the quick brown fox jumps over the lazy dog\""
      ]
     },
     "metadata": {},
     "output_type": "display_data"
    }
   ],
   "source": [
    "tolower(phrase)"
   ]
  },
  {
   "cell_type": "markdown",
   "metadata": {},
   "source": [
    "#### The `match` function and relational databases"
   ]
  },
  {
   "cell_type": "code",
   "execution_count": 68,
   "metadata": {},
   "outputs": [
    {
     "data": {
      "text/html": [
       "<ol class=list-inline>\n",
       "\t<li>&lt;NA&gt;</li>\n",
       "\t<li>1</li>\n",
       "\t<li>&lt;NA&gt;</li>\n",
       "\t<li>&lt;NA&gt;</li>\n",
       "\t<li>&lt;NA&gt;</li>\n",
       "\t<li>2</li>\n",
       "\t<li>3</li>\n",
       "\t<li>3</li>\n",
       "\t<li>4</li>\n",
       "\t<li>1</li>\n",
       "\t<li>1</li>\n",
       "\t<li>1</li>\n",
       "\t<li>3</li>\n",
       "\t<li>3</li>\n",
       "\t<li>2</li>\n",
       "</ol>\n"
      ],
      "text/latex": [
       "\\begin{enumerate*}\n",
       "\\item <NA>\n",
       "\\item 1\n",
       "\\item <NA>\n",
       "\\item <NA>\n",
       "\\item <NA>\n",
       "\\item 2\n",
       "\\item 3\n",
       "\\item 3\n",
       "\\item 4\n",
       "\\item 1\n",
       "\\item 1\n",
       "\\item 1\n",
       "\\item 3\n",
       "\\item 3\n",
       "\\item 2\n",
       "\\end{enumerate*}\n"
      ],
      "text/markdown": [
       "1. &lt;NA&gt;\n",
       "2. 1\n",
       "3. &lt;NA&gt;\n",
       "4. &lt;NA&gt;\n",
       "5. &lt;NA&gt;\n",
       "6. 2\n",
       "7. 3\n",
       "8. 3\n",
       "9. 4\n",
       "10. 1\n",
       "11. 1\n",
       "12. 1\n",
       "13. 3\n",
       "14. 3\n",
       "15. 2\n",
       "\n",
       "\n"
      ],
      "text/plain": [
       " [1] NA  1 NA NA NA  2  3  3  4  1  1  1  3  3  2"
      ]
     },
     "metadata": {},
     "output_type": "display_data"
    }
   ],
   "source": [
    "first = c(5,8,3,5,3,6,4,4,2,8,8,8,4,4,6)\n",
    "second = c(8,6,4,2)\n",
    "match(first, second)"
   ]
  },
  {
   "cell_type": "code",
   "execution_count": 69,
   "metadata": {},
   "outputs": [
    {
     "data": {
      "text/html": [
       "<ol class=list-inline>\n",
       "\t<li>2</li>\n",
       "\t<li>6</li>\n",
       "\t<li>7</li>\n",
       "\t<li>9</li>\n",
       "</ol>\n"
      ],
      "text/latex": [
       "\\begin{enumerate*}\n",
       "\\item 2\n",
       "\\item 6\n",
       "\\item 7\n",
       "\\item 9\n",
       "\\end{enumerate*}\n"
      ],
      "text/markdown": [
       "1. 2\n",
       "2. 6\n",
       "3. 7\n",
       "4. 9\n",
       "\n",
       "\n"
      ],
      "text/plain": [
       "[1] 2 6 7 9"
      ]
     },
     "metadata": {},
     "output_type": "display_data"
    }
   ],
   "source": [
    "match(second, first)"
   ]
  },
  {
   "cell_type": "code",
   "execution_count": 70,
   "metadata": {},
   "outputs": [
    {
     "data": {
      "text/html": [
       "<ol class=list-inline>\n",
       "\t<li>&lt;NA&gt;</li>\n",
       "\t<li>&lt;NA&gt;</li>\n",
       "\t<li>2</li>\n",
       "\t<li>&lt;NA&gt;</li>\n",
       "\t<li>&lt;NA&gt;</li>\n",
       "\t<li>3</li>\n",
       "\t<li>&lt;NA&gt;</li>\n",
       "\t<li>&lt;NA&gt;</li>\n",
       "\t<li>5</li>\n",
       "</ol>\n"
      ],
      "text/latex": [
       "\\begin{enumerate*}\n",
       "\\item <NA>\n",
       "\\item <NA>\n",
       "\\item 2\n",
       "\\item <NA>\n",
       "\\item <NA>\n",
       "\\item 3\n",
       "\\item <NA>\n",
       "\\item <NA>\n",
       "\\item 5\n",
       "\\end{enumerate*}\n"
      ],
      "text/markdown": [
       "1. &lt;NA&gt;\n",
       "2. &lt;NA&gt;\n",
       "3. 2\n",
       "4. &lt;NA&gt;\n",
       "5. &lt;NA&gt;\n",
       "6. 3\n",
       "7. &lt;NA&gt;\n",
       "8. &lt;NA&gt;\n",
       "9. 5\n",
       "\n",
       "\n"
      ],
      "text/plain": [
       "[1] NA NA  2 NA NA  3 NA NA  5"
      ]
     },
     "metadata": {},
     "output_type": "display_data"
    }
   ],
   "source": [
    "subjects = c(\"A\", \"B\", \"G\", \"M\", \"N\", \"S\", \"T\", \"V\", \"Z\")\n",
    "suitable.patients = c(\"E\", \"G\", \"S\", \"U\", \"Z\")\n",
    "match(subjects, suitable.patients)"
   ]
  },
  {
   "cell_type": "code",
   "execution_count": 71,
   "metadata": {},
   "outputs": [
    {
     "data": {
      "text/html": [
       "<ol class=list-inline>\n",
       "\t<li>'conventional'</li>\n",
       "\t<li>'conventional'</li>\n",
       "\t<li>'new'</li>\n",
       "\t<li>'conventional'</li>\n",
       "\t<li>'conventional'</li>\n",
       "\t<li>'new'</li>\n",
       "\t<li>'conventional'</li>\n",
       "\t<li>'conventional'</li>\n",
       "\t<li>'new'</li>\n",
       "</ol>\n"
      ],
      "text/latex": [
       "\\begin{enumerate*}\n",
       "\\item 'conventional'\n",
       "\\item 'conventional'\n",
       "\\item 'new'\n",
       "\\item 'conventional'\n",
       "\\item 'conventional'\n",
       "\\item 'new'\n",
       "\\item 'conventional'\n",
       "\\item 'conventional'\n",
       "\\item 'new'\n",
       "\\end{enumerate*}\n"
      ],
      "text/markdown": [
       "1. 'conventional'\n",
       "2. 'conventional'\n",
       "3. 'new'\n",
       "4. 'conventional'\n",
       "5. 'conventional'\n",
       "6. 'new'\n",
       "7. 'conventional'\n",
       "8. 'conventional'\n",
       "9. 'new'\n",
       "\n",
       "\n"
      ],
      "text/plain": [
       "[1] \"conventional\" \"conventional\" \"new\"          \"conventional\" \"conventional\"\n",
       "[6] \"new\"          \"conventional\" \"conventional\" \"new\"         "
      ]
     },
     "metadata": {},
     "output_type": "display_data"
    }
   ],
   "source": [
    "drug = c(\"new\", \"conventional\")\n",
    "drug[ifelse(is.na(match(subjects, suitable.patients)), 2, 1)]"
   ]
  },
  {
   "cell_type": "markdown",
   "metadata": {},
   "source": [
    "#### Pattern matching"
   ]
  },
  {
   "cell_type": "code",
   "execution_count": null,
   "metadata": {},
   "outputs": [],
   "source": []
  }
 ],
 "metadata": {
  "kernelspec": {
   "display_name": "R",
   "language": "R",
   "name": "ir"
  },
  "language_info": {
   "codemirror_mode": "r",
   "file_extension": ".r",
   "mimetype": "text/x-r-source",
   "name": "R",
   "pygments_lexer": "r",
   "version": "3.5.0"
  }
 },
 "nbformat": 4,
 "nbformat_minor": 2
}
