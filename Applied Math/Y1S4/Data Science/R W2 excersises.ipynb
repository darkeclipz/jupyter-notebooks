{
 "cells": [
  {
   "cell_type": "markdown",
   "metadata": {},
   "source": [
    "## R -- Week 2 excersises"
   ]
  },
  {
   "cell_type": "markdown",
   "metadata": {},
   "source": [
    "## R-code on solving equations with inverse matrix"
   ]
  },
  {
   "cell_type": "markdown",
   "metadata": {},
   "source": [
    "Solve the following system of equations:"
   ]
  },
  {
   "cell_type": "markdown",
   "metadata": {},
   "source": [
    "1. $2x+y+2z=3$\n",
    "2. $x-3z=-5$\n",
    "3. $2y+5z=4$"
   ]
  },
  {
   "cell_type": "markdown",
   "metadata": {},
   "source": [
    "$$ \\begin{bmatrix} 2 & 1 & 2 \\\\ 1 & 6 & -3 \\\\ 0 & 2 & 5 \\end{bmatrix} \\cdot \\begin{bmatrix} x \\\\ y \\\\ z \\end{bmatrix} = \\begin{bmatrix} 3 & -5 & 4 \\end{bmatrix} $$"
   ]
  },
  {
   "cell_type": "markdown",
   "metadata": {},
   "source": [
    "$ A \\vec{x} = \\vec{b}$\n",
    "\n",
    "$A^{-1}\\cdot A \\vec{x} = A^{-1} \\vec{b}$\n",
    "\n",
    "$I \\vec{x} = A^{-1} \\vec{b}$"
   ]
  },
  {
   "cell_type": "markdown",
   "metadata": {},
   "source": [
    "Define matrix $A$:"
   ]
  },
  {
   "cell_type": "code",
   "execution_count": 20,
   "metadata": {
    "scrolled": true
   },
   "outputs": [
    {
     "data": {
      "text/html": [
       "<table>\n",
       "<tbody>\n",
       "\t<tr><td>2 </td><td> 1</td><td>0 </td></tr>\n",
       "\t<tr><td>1 </td><td> 6</td><td>2 </td></tr>\n",
       "\t<tr><td>2 </td><td>-3</td><td>5 </td></tr>\n",
       "</tbody>\n",
       "</table>\n"
      ],
      "text/latex": [
       "\\begin{tabular}{lll}\n",
       "\t 2  &  1 & 0 \\\\\n",
       "\t 1  &  6 & 2 \\\\\n",
       "\t 2  & -3 & 5 \\\\\n",
       "\\end{tabular}\n"
      ],
      "text/markdown": [
       "\n",
       "| 2  |  1 | 0  | \n",
       "| 1  |  6 | 2  | \n",
       "| 2  | -3 | 5  | \n",
       "\n",
       "\n"
      ],
      "text/plain": [
       "     [,1] [,2] [,3]\n",
       "[1,] 2     1   0   \n",
       "[2,] 1     6   2   \n",
       "[3,] 2    -3   5   "
      ]
     },
     "metadata": {},
     "output_type": "display_data"
    }
   ],
   "source": [
    "A = matrix(c(2,1,2,1,6,-3,0,2,5), nrow=3)\n",
    "A"
   ]
  },
  {
   "cell_type": "markdown",
   "metadata": {},
   "source": [
    "The inverse $A^{-1}$ is:"
   ]
  },
  {
   "cell_type": "code",
   "execution_count": 19,
   "metadata": {},
   "outputs": [
    {
     "data": {
      "text/html": [
       "<table>\n",
       "<tbody>\n",
       "\t<tr><td> 0.50704225</td><td>-0.07042254</td><td> 0.02816901</td></tr>\n",
       "\t<tr><td>-0.01408451</td><td> 0.14084507</td><td>-0.05633803</td></tr>\n",
       "\t<tr><td>-0.21126761</td><td> 0.11267606</td><td> 0.15492958</td></tr>\n",
       "</tbody>\n",
       "</table>\n"
      ],
      "text/latex": [
       "\\begin{tabular}{lll}\n",
       "\t  0.50704225 & -0.07042254 &  0.02816901\\\\\n",
       "\t -0.01408451 &  0.14084507 & -0.05633803\\\\\n",
       "\t -0.21126761 &  0.11267606 &  0.15492958\\\\\n",
       "\\end{tabular}\n"
      ],
      "text/markdown": [
       "\n",
       "|  0.50704225 | -0.07042254 |  0.02816901 | \n",
       "| -0.01408451 |  0.14084507 | -0.05633803 | \n",
       "| -0.21126761 |  0.11267606 |  0.15492958 | \n",
       "\n",
       "\n"
      ],
      "text/plain": [
       "     [,1]        [,2]        [,3]       \n",
       "[1,]  0.50704225 -0.07042254  0.02816901\n",
       "[2,] -0.01408451  0.14084507 -0.05633803\n",
       "[3,] -0.21126761  0.11267606  0.15492958"
      ]
     },
     "metadata": {},
     "output_type": "display_data"
    }
   ],
   "source": [
    "solve(A)"
   ]
  },
  {
   "cell_type": "markdown",
   "metadata": {},
   "source": [
    "Define vector $\\vec{b}$:"
   ]
  },
  {
   "cell_type": "code",
   "execution_count": 14,
   "metadata": {},
   "outputs": [],
   "source": [
    "b = c(3, -5, 4)"
   ]
  },
  {
   "cell_type": "markdown",
   "metadata": {},
   "source": [
    "Solve the system with R functions `solve(A,b)`:"
   ]
  },
  {
   "cell_type": "code",
   "execution_count": 15,
   "metadata": {},
   "outputs": [
    {
     "data": {
      "text/html": [
       "<ol class=list-inline>\n",
       "\t<li>1.98591549295775</li>\n",
       "\t<li>-0.971830985915493</li>\n",
       "\t<li>-0.577464788732394</li>\n",
       "</ol>\n"
      ],
      "text/latex": [
       "\\begin{enumerate*}\n",
       "\\item 1.98591549295775\n",
       "\\item -0.971830985915493\n",
       "\\item -0.577464788732394\n",
       "\\end{enumerate*}\n"
      ],
      "text/markdown": [
       "1. 1.98591549295775\n",
       "2. -0.971830985915493\n",
       "3. -0.577464788732394\n",
       "\n",
       "\n"
      ],
      "text/plain": [
       "[1]  1.9859155 -0.9718310 -0.5774648"
      ]
     },
     "metadata": {},
     "output_type": "display_data"
    }
   ],
   "source": [
    "solve(A,b)"
   ]
  },
  {
   "cell_type": "markdown",
   "metadata": {},
   "source": [
    "Solve the system with $\\vec{x}=A^{-1}\\vec{b}$:"
   ]
  },
  {
   "cell_type": "code",
   "execution_count": 18,
   "metadata": {},
   "outputs": [
    {
     "data": {
      "text/html": [
       "<table>\n",
       "<tbody>\n",
       "\t<tr><td> 1.9859155</td></tr>\n",
       "\t<tr><td>-0.9718310</td></tr>\n",
       "\t<tr><td>-0.5774648</td></tr>\n",
       "</tbody>\n",
       "</table>\n"
      ],
      "text/latex": [
       "\\begin{tabular}{l}\n",
       "\t  1.9859155\\\\\n",
       "\t -0.9718310\\\\\n",
       "\t -0.5774648\\\\\n",
       "\\end{tabular}\n"
      ],
      "text/markdown": [
       "\n",
       "|  1.9859155 | \n",
       "| -0.9718310 | \n",
       "| -0.5774648 | \n",
       "\n",
       "\n"
      ],
      "text/plain": [
       "     [,1]      \n",
       "[1,]  1.9859155\n",
       "[2,] -0.9718310\n",
       "[3,] -0.5774648"
      ]
     },
     "metadata": {},
     "output_type": "display_data"
    }
   ],
   "source": [
    "solve(A) %*% b"
   ]
  },
  {
   "cell_type": "markdown",
   "metadata": {},
   "source": [
    "## R-code on least square method"
   ]
  },
  {
   "cell_type": "markdown",
   "metadata": {},
   "source": [
    "$y=ax+b$"
   ]
  },
  {
   "cell_type": "markdown",
   "metadata": {},
   "source": [
    "$A\\cdot \\vec{x} = \\vec{b}$\n",
    "\n",
    "$A^T\\cdot A \\vec{x} = A^T \\vec{b}$\n",
    "\n",
    "$(A^T A)^{-1}A^T A \\vec{x} = A^T \\vec{b}$\n",
    "\n",
    "$(A^T A)^{-1} ...$"
   ]
  },
  {
   "cell_type": "markdown",
   "metadata": {},
   "source": [
    "Define $\\vec{x}=\\begin{bmatrix}12 & 2 & 3 & 5 & 10 & 9 & 8 \\end{bmatrix}$:"
   ]
  },
  {
   "cell_type": "code",
   "execution_count": 27,
   "metadata": {},
   "outputs": [],
   "source": [
    "x = c(12, 2, 3, 5, 10, 9, 8)"
   ]
  },
  {
   "cell_type": "code",
   "execution_count": 28,
   "metadata": {},
   "outputs": [
    {
     "data": {
      "text/html": [
       "<ol class=list-inline>\n",
       "\t<li>12</li>\n",
       "\t<li>2</li>\n",
       "\t<li>3</li>\n",
       "\t<li>5</li>\n",
       "\t<li>10</li>\n",
       "\t<li>9</li>\n",
       "\t<li>8</li>\n",
       "</ol>\n"
      ],
      "text/latex": [
       "\\begin{enumerate*}\n",
       "\\item 12\n",
       "\\item 2\n",
       "\\item 3\n",
       "\\item 5\n",
       "\\item 10\n",
       "\\item 9\n",
       "\\item 8\n",
       "\\end{enumerate*}\n"
      ],
      "text/markdown": [
       "1. 12\n",
       "2. 2\n",
       "3. 3\n",
       "4. 5\n",
       "5. 10\n",
       "6. 9\n",
       "7. 8\n",
       "\n",
       "\n"
      ],
      "text/plain": [
       "[1] 12  2  3  5 10  9  8"
      ]
     },
     "metadata": {},
     "output_type": "display_data"
    }
   ],
   "source": [
    "x"
   ]
  },
  {
   "cell_type": "markdown",
   "metadata": {},
   "source": [
    "Define $\\vec{y} = \\begin{bmatrix}125 & 30 & 43 & 62 & 108 & 102 & 90 \\end{bmatrix}$:"
   ]
  },
  {
   "cell_type": "code",
   "execution_count": 32,
   "metadata": {},
   "outputs": [],
   "source": [
    "y = c(125, 30, 43, 62, 108, 102, 90)"
   ]
  },
  {
   "cell_type": "code",
   "execution_count": 33,
   "metadata": {},
   "outputs": [
    {
     "data": {
      "text/html": [
       "<ol class=list-inline>\n",
       "\t<li>125</li>\n",
       "\t<li>30</li>\n",
       "\t<li>43</li>\n",
       "\t<li>62</li>\n",
       "\t<li>108</li>\n",
       "\t<li>102</li>\n",
       "\t<li>90</li>\n",
       "</ol>\n"
      ],
      "text/latex": [
       "\\begin{enumerate*}\n",
       "\\item 125\n",
       "\\item 30\n",
       "\\item 43\n",
       "\\item 62\n",
       "\\item 108\n",
       "\\item 102\n",
       "\\item 90\n",
       "\\end{enumerate*}\n"
      ],
      "text/markdown": [
       "1. 125\n",
       "2. 30\n",
       "3. 43\n",
       "4. 62\n",
       "5. 108\n",
       "6. 102\n",
       "7. 90\n",
       "\n",
       "\n"
      ],
      "text/plain": [
       "[1] 125  30  43  62 108 102  90"
      ]
     },
     "metadata": {},
     "output_type": "display_data"
    }
   ],
   "source": [
    "y"
   ]
  },
  {
   "cell_type": "code",
   "execution_count": 34,
   "metadata": {},
   "outputs": [
    {
     "data": {
      "text/html": [
       "TRUE"
      ],
      "text/latex": [
       "TRUE"
      ],
      "text/markdown": [
       "TRUE"
      ],
      "text/plain": [
       "[1] TRUE"
      ]
     },
     "metadata": {},
     "output_type": "display_data"
    }
   ],
   "source": [
    "length(x)==length(y)"
   ]
  },
  {
   "cell_type": "code",
   "execution_count": 39,
   "metadata": {},
   "outputs": [],
   "source": [
    "A = matrix(union(x,y), nrow=length(x))"
   ]
  },
  {
   "cell_type": "code",
   "execution_count": 40,
   "metadata": {},
   "outputs": [
    {
     "data": {
      "text/html": [
       "<table>\n",
       "<tbody>\n",
       "\t<tr><td>12 </td><td>125</td></tr>\n",
       "\t<tr><td> 2 </td><td> 30</td></tr>\n",
       "\t<tr><td> 3 </td><td> 43</td></tr>\n",
       "\t<tr><td> 5 </td><td> 62</td></tr>\n",
       "\t<tr><td>10 </td><td>108</td></tr>\n",
       "\t<tr><td> 9 </td><td>102</td></tr>\n",
       "\t<tr><td> 8 </td><td> 90</td></tr>\n",
       "</tbody>\n",
       "</table>\n"
      ],
      "text/latex": [
       "\\begin{tabular}{ll}\n",
       "\t 12  & 125\\\\\n",
       "\t  2  &  30\\\\\n",
       "\t  3  &  43\\\\\n",
       "\t  5  &  62\\\\\n",
       "\t 10  & 108\\\\\n",
       "\t  9  & 102\\\\\n",
       "\t  8  &  90\\\\\n",
       "\\end{tabular}\n"
      ],
      "text/markdown": [
       "\n",
       "| 12  | 125 | \n",
       "|  2  |  30 | \n",
       "|  3  |  43 | \n",
       "|  5  |  62 | \n",
       "| 10  | 108 | \n",
       "|  9  | 102 | \n",
       "|  8  |  90 | \n",
       "\n",
       "\n"
      ],
      "text/plain": [
       "     [,1] [,2]\n",
       "[1,] 12   125 \n",
       "[2,]  2    30 \n",
       "[3,]  3    43 \n",
       "[4,]  5    62 \n",
       "[5,] 10   108 \n",
       "[6,]  9   102 \n",
       "[7,]  8    90 "
      ]
     },
     "metadata": {},
     "output_type": "display_data"
    }
   ],
   "source": [
    "A"
   ]
  },
  {
   "cell_type": "code",
   "execution_count": 62,
   "metadata": {},
   "outputs": [
    {
     "data": {
      "text/plain": [
       "\n",
       "Call:\n",
       "lm(formula = y ~ x)\n",
       "\n",
       "Coefficients:\n",
       "(Intercept)            x  \n",
       "     13.583        9.488  \n"
      ]
     },
     "metadata": {},
     "output_type": "display_data"
    }
   ],
   "source": [
    "lm(y~x)"
   ]
  },
  {
   "cell_type": "code",
   "execution_count": 45,
   "metadata": {},
   "outputs": [],
   "source": [
    "fit <- function(x) 9.488*x+13.583"
   ]
  },
  {
   "cell_type": "code",
   "execution_count": 46,
   "metadata": {},
   "outputs": [
    {
     "data": {
      "text/html": [
       "61.023"
      ],
      "text/latex": [
       "61.023"
      ],
      "text/markdown": [
       "61.023"
      ],
      "text/plain": [
       "[1] 61.023"
      ]
     },
     "metadata": {},
     "output_type": "display_data"
    }
   ],
   "source": [
    "fit(5)"
   ]
  },
  {
   "cell_type": "code",
   "execution_count": 60,
   "metadata": {},
   "outputs": [
    {
     "data": {
      "image/png": "[encoded data removed]",
      "text/plain": [
       "plot without title"
      ]
     },
     "metadata": {},
     "output_type": "display_data"
    }
   ],
   "source": [
    "plot(x,sapply(x, fit), 'l', col='blue')\n",
    "points(x,y)"
   ]
  }
 ],
 "metadata": {
  "kernelspec": {
   "display_name": "R",
   "language": "R",
   "name": "ir"
  },
  "language_info": {
   "codemirror_mode": "r",
   "file_extension": ".r",
   "mimetype": "text/x-r-source",
   "name": "R",
   "pygments_lexer": "r",
   "version": "3.4.4"
  }
 },
 "nbformat": 4,
 "nbformat_minor": 2
}
