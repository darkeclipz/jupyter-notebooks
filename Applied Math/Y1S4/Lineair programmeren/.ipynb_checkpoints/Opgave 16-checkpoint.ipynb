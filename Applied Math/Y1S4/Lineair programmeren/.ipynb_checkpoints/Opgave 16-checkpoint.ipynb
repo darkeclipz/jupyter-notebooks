{
 "cells": [
  {
   "cell_type": "code",
   "execution_count": 94,
   "metadata": {
    "scrolled": true
   },
   "outputs": [
    {
     "data": {
      "text/html": [
       "<table>\n",
       "<thead><tr><th></th><th scope=col>A</th><th scope=col>d</th><th scope=col>o1</th><th scope=col>o2</th><th scope=col>o3</th><th scope=col>s1</th><th scope=col>s2</th><th scope=col>s3</th><th scope=col>s4</th><th scope=col>a5</th><th scope=col>s5</th><th scope=col>s6</th><th scope=col>RHS</th></tr></thead>\n",
       "<tbody>\n",
       "\t<tr><th scope=row>1 A</th><td>1     </td><td>0     </td><td> -1.0 </td><td>  0   </td><td>  0.00</td><td>0     </td><td>0     </td><td>0     </td><td>0     </td><td>0     </td><td> 1    </td><td>0     </td><td> -50  </td></tr>\n",
       "\t<tr><th scope=row>2 d</th><td>0     </td><td>1     </td><td>-12.0 </td><td>-15   </td><td>-20.00</td><td>0     </td><td>0     </td><td>0     </td><td>0     </td><td>0     </td><td> 0    </td><td>0     </td><td>   0  </td></tr>\n",
       "\t<tr><th scope=row>3 s1</th><td>0     </td><td>0     </td><td>  1.0 </td><td>  4   </td><td>  8.00</td><td>1     </td><td>0     </td><td>0     </td><td>0     </td><td>0     </td><td> 0    </td><td>0     </td><td>1000  </td></tr>\n",
       "\t<tr><th scope=row>4 s2</th><td>0     </td><td>0     </td><td>  0.5 </td><td>  2   </td><td>  0.25</td><td>0     </td><td>1     </td><td>0     </td><td>0     </td><td>0     </td><td> 0    </td><td>0     </td><td>1500  </td></tr>\n",
       "\t<tr><th scope=row>5 s3</th><td>0     </td><td>0     </td><td>  7.0 </td><td>  6   </td><td>  1.00</td><td>0     </td><td>0     </td><td>1     </td><td>0     </td><td>0     </td><td> 0    </td><td>0     </td><td>1400  </td></tr>\n",
       "\t<tr><th scope=row>6 s4</th><td>0     </td><td>0     </td><td>  3.0 </td><td>  5   </td><td>  4.00</td><td>0     </td><td>0     </td><td>0     </td><td>1     </td><td>0     </td><td> 0    </td><td>0     </td><td>2000  </td></tr>\n",
       "\t<tr><th scope=row>7 s5</th><td>0     </td><td>0     </td><td>  1.0 </td><td>  0   </td><td>  0.00</td><td>0     </td><td>0     </td><td>0     </td><td>0     </td><td>1     </td><td>-1    </td><td>0     </td><td>  50  </td></tr>\n",
       "\t<tr><th scope=row>8 s6</th><td>0     </td><td>0     </td><td>  0.0 </td><td>  0   </td><td>  1.00</td><td>0     </td><td>0     </td><td>0     </td><td>0     </td><td>0     </td><td> 0    </td><td>1     </td><td>  10  </td></tr>\n",
       "</tbody>\n",
       "</table>\n"
      ],
      "text/latex": [
       "\\begin{tabular}{r|lllllllllllll}\n",
       "  & A & d & o1 & o2 & o3 & s1 & s2 & s3 & s4 & a5 & s5 & s6 & RHS\\\\\n",
       "\\hline\n",
       "\t1 A & 1      & 0      &  -1.0  &   0    &   0.00 & 0      & 0      & 0      & 0      & 0      &  1     & 0      &  -50  \\\\\n",
       "\t2 d & 0      & 1      & -12.0  & -15    & -20.00 & 0      & 0      & 0      & 0      & 0      &  0     & 0      &    0  \\\\\n",
       "\t3 s1 & 0      & 0      &   1.0  &   4    &   8.00 & 1      & 0      & 0      & 0      & 0      &  0     & 0      & 1000  \\\\\n",
       "\t4 s2 & 0      & 0      &   0.5  &   2    &   0.25 & 0      & 1      & 0      & 0      & 0      &  0     & 0      & 1500  \\\\\n",
       "\t5 s3 & 0      & 0      &   7.0  &   6    &   1.00 & 0      & 0      & 1      & 0      & 0      &  0     & 0      & 1400  \\\\\n",
       "\t6 s4 & 0      & 0      &   3.0  &   5    &   4.00 & 0      & 0      & 0      & 1      & 0      &  0     & 0      & 2000  \\\\\n",
       "\t7 s5 & 0      & 0      &   1.0  &   0    &   0.00 & 0      & 0      & 0      & 0      & 1      & -1     & 0      &   50  \\\\\n",
       "\t8 s6 & 0      & 0      &   0.0  &   0    &   1.00 & 0      & 0      & 0      & 0      & 0      &  0     & 1      &   10  \\\\\n",
       "\\end{tabular}\n"
      ],
      "text/markdown": [
       "\n",
       "| <!--/--> | A | d | o1 | o2 | o3 | s1 | s2 | s3 | s4 | a5 | s5 | s6 | RHS | \n",
       "|---|---|---|---|---|---|---|---|\n",
       "| 1 A | 1      | 0      |  -1.0  |   0    |   0.00 | 0      | 0      | 0      | 0      | 0      |  1     | 0      |  -50   | \n",
       "| 2 d | 0      | 1      | -12.0  | -15    | -20.00 | 0      | 0      | 0      | 0      | 0      |  0     | 0      |    0   | \n",
       "| 3 s1 | 0      | 0      |   1.0  |   4    |   8.00 | 1      | 0      | 0      | 0      | 0      |  0     | 0      | 1000   | \n",
       "| 4 s2 | 0      | 0      |   0.5  |   2    |   0.25 | 0      | 1      | 0      | 0      | 0      |  0     | 0      | 1500   | \n",
       "| 5 s3 | 0      | 0      |   7.0  |   6    |   1.00 | 0      | 0      | 1      | 0      | 0      |  0     | 0      | 1400   | \n",
       "| 6 s4 | 0      | 0      |   3.0  |   5    |   4.00 | 0      | 0      | 0      | 1      | 0      |  0     | 0      | 2000   | \n",
       "| 7 s5 | 0      | 0      |   1.0  |   0    |   0.00 | 0      | 0      | 0      | 0      | 1      | -1     | 0      |   50   | \n",
       "| 8 s6 | 0      | 0      |   0.0  |   0    |   1.00 | 0      | 0      | 0      | 0      | 0      |  0     | 1      |   10   | \n",
       "\n",
       "\n"
      ],
      "text/plain": [
       "     A d o1    o2  o3     s1 s2 s3 s4 a5 s5 s6 RHS \n",
       "1 A  1 0  -1.0   0   0.00 0  0  0  0  0   1 0   -50\n",
       "2 d  0 1 -12.0 -15 -20.00 0  0  0  0  0   0 0     0\n",
       "3 s1 0 0   1.0   4   8.00 1  0  0  0  0   0 0  1000\n",
       "4 s2 0 0   0.5   2   0.25 0  1  0  0  0   0 0  1500\n",
       "5 s3 0 0   7.0   6   1.00 0  0  1  0  0   0 0  1400\n",
       "6 s4 0 0   3.0   5   4.00 0  0  0  1  0   0 0  2000\n",
       "7 s5 0 0   1.0   0   0.00 0  0  0  0  1  -1 0    50\n",
       "8 s6 0 0   0.0   0   1.00 0  0  0  0  0   0 1    10"
      ]
     },
     "metadata": {},
     "output_type": "display_data"
    }
   ],
   "source": [
    "A=c(1,0,0,0,0,0,0,0)\n",
    "d=c(0,1,0,0,0,0,0,0)\n",
    "o1=c(-1,-12,1,.5,7,3,1,0)\n",
    "o2=c(0,-15,4,2,6,5,0,0)\n",
    "o3=c(0,-20,8,.25,1,4,0,1)\n",
    "s1=c(0,0,1,0,0,0,0,0)\n",
    "s2=c(0,0,0,1,0,0,0,0)\n",
    "s3=c(0,0,0,0,1,0,0,0)\n",
    "s4=c(0,0,0,0,0,1,0,0)\n",
    "a5=c(0,0,0,0,0,0,1,0)\n",
    "s5=c(1,0,0,0,0,0,-1,0)\n",
    "s6=c(0,0,0,0,0,0,0,1)\n",
    "RHS=c(-50,0,1000,1500,1400,2000,50,10)\n",
    "M=cbind(A,d,o1,o2,o3,s1,s2,s3,s4,a5,s5,s6,RHS)\n",
    "rownames(M)=c('1 A','2 d','3 s1','4 s2','5 s3','6 s4','7 s5','8 s6')\n",
    "M"
   ]
  },
  {
   "cell_type": "code",
   "execution_count": 95,
   "metadata": {
    "scrolled": true
   },
   "outputs": [
    {
     "data": {
      "text/html": [
       "<table>\n",
       "<thead><tr><th></th><th scope=col>A</th><th scope=col>d</th><th scope=col>o1</th><th scope=col>o2</th><th scope=col>o3</th><th scope=col>s1</th><th scope=col>s2</th><th scope=col>s3</th><th scope=col>s4</th><th scope=col>a5</th><th scope=col>s5</th><th scope=col>s6</th><th scope=col>RHS</th></tr></thead>\n",
       "<tbody>\n",
       "\t<tr><th scope=row>1 A</th><td>1     </td><td>0     </td><td>  0.0 </td><td>  0   </td><td>  0.00</td><td>0     </td><td>0     </td><td>0     </td><td>0     </td><td>1     </td><td> 0    </td><td>0     </td><td>   0  </td></tr>\n",
       "\t<tr><th scope=row>2 d</th><td>0     </td><td>1     </td><td>-12.0 </td><td>-15   </td><td>-20.00</td><td>0     </td><td>0     </td><td>0     </td><td>0     </td><td>0     </td><td> 0    </td><td>0     </td><td>   0  </td></tr>\n",
       "\t<tr><th scope=row>3 s1</th><td>0     </td><td>0     </td><td>  1.0 </td><td>  4   </td><td>  8.00</td><td>1     </td><td>0     </td><td>0     </td><td>0     </td><td>0     </td><td> 0    </td><td>0     </td><td>1000  </td></tr>\n",
       "\t<tr><th scope=row>4 s2</th><td>0     </td><td>0     </td><td>  0.5 </td><td>  2   </td><td>  0.25</td><td>0     </td><td>1     </td><td>0     </td><td>0     </td><td>0     </td><td> 0    </td><td>0     </td><td>1500  </td></tr>\n",
       "\t<tr><th scope=row>5 s3</th><td>0     </td><td>0     </td><td>  7.0 </td><td>  6   </td><td>  1.00</td><td>0     </td><td>0     </td><td>1     </td><td>0     </td><td>0     </td><td> 0    </td><td>0     </td><td>1400  </td></tr>\n",
       "\t<tr><th scope=row>6 s4</th><td>0     </td><td>0     </td><td>  3.0 </td><td>  5   </td><td>  4.00</td><td>0     </td><td>0     </td><td>0     </td><td>1     </td><td>0     </td><td> 0    </td><td>0     </td><td>2000  </td></tr>\n",
       "\t<tr><th scope=row>7 s5</th><td>0     </td><td>0     </td><td>  1.0 </td><td>  0   </td><td>  0.00</td><td>0     </td><td>0     </td><td>0     </td><td>0     </td><td>1     </td><td>-1    </td><td>0     </td><td>  50  </td></tr>\n",
       "\t<tr><th scope=row>8 s6</th><td>0     </td><td>0     </td><td>  0.0 </td><td>  0   </td><td>  1.00</td><td>0     </td><td>0     </td><td>0     </td><td>0     </td><td>0     </td><td> 0    </td><td>1     </td><td>  10  </td></tr>\n",
       "</tbody>\n",
       "</table>\n"
      ],
      "text/latex": [
       "\\begin{tabular}{r|lllllllllllll}\n",
       "  & A & d & o1 & o2 & o3 & s1 & s2 & s3 & s4 & a5 & s5 & s6 & RHS\\\\\n",
       "\\hline\n",
       "\t1 A & 1      & 0      &   0.0  &   0    &   0.00 & 0      & 0      & 0      & 0      & 1      &  0     & 0      &    0  \\\\\n",
       "\t2 d & 0      & 1      & -12.0  & -15    & -20.00 & 0      & 0      & 0      & 0      & 0      &  0     & 0      &    0  \\\\\n",
       "\t3 s1 & 0      & 0      &   1.0  &   4    &   8.00 & 1      & 0      & 0      & 0      & 0      &  0     & 0      & 1000  \\\\\n",
       "\t4 s2 & 0      & 0      &   0.5  &   2    &   0.25 & 0      & 1      & 0      & 0      & 0      &  0     & 0      & 1500  \\\\\n",
       "\t5 s3 & 0      & 0      &   7.0  &   6    &   1.00 & 0      & 0      & 1      & 0      & 0      &  0     & 0      & 1400  \\\\\n",
       "\t6 s4 & 0      & 0      &   3.0  &   5    &   4.00 & 0      & 0      & 0      & 1      & 0      &  0     & 0      & 2000  \\\\\n",
       "\t7 s5 & 0      & 0      &   1.0  &   0    &   0.00 & 0      & 0      & 0      & 0      & 1      & -1     & 0      &   50  \\\\\n",
       "\t8 s6 & 0      & 0      &   0.0  &   0    &   1.00 & 0      & 0      & 0      & 0      & 0      &  0     & 1      &   10  \\\\\n",
       "\\end{tabular}\n"
      ],
      "text/markdown": [
       "\n",
       "| <!--/--> | A | d | o1 | o2 | o3 | s1 | s2 | s3 | s4 | a5 | s5 | s6 | RHS | \n",
       "|---|---|---|---|---|---|---|---|\n",
       "| 1 A | 1      | 0      |   0.0  |   0    |   0.00 | 0      | 0      | 0      | 0      | 1      |  0     | 0      |    0   | \n",
       "| 2 d | 0      | 1      | -12.0  | -15    | -20.00 | 0      | 0      | 0      | 0      | 0      |  0     | 0      |    0   | \n",
       "| 3 s1 | 0      | 0      |   1.0  |   4    |   8.00 | 1      | 0      | 0      | 0      | 0      |  0     | 0      | 1000   | \n",
       "| 4 s2 | 0      | 0      |   0.5  |   2    |   0.25 | 0      | 1      | 0      | 0      | 0      |  0     | 0      | 1500   | \n",
       "| 5 s3 | 0      | 0      |   7.0  |   6    |   1.00 | 0      | 0      | 1      | 0      | 0      |  0     | 0      | 1400   | \n",
       "| 6 s4 | 0      | 0      |   3.0  |   5    |   4.00 | 0      | 0      | 0      | 1      | 0      |  0     | 0      | 2000   | \n",
       "| 7 s5 | 0      | 0      |   1.0  |   0    |   0.00 | 0      | 0      | 0      | 0      | 1      | -1     | 0      |   50   | \n",
       "| 8 s6 | 0      | 0      |   0.0  |   0    |   1.00 | 0      | 0      | 0      | 0      | 0      |  0     | 1      |   10   | \n",
       "\n",
       "\n"
      ],
      "text/plain": [
       "     A d o1    o2  o3     s1 s2 s3 s4 a5 s5 s6 RHS \n",
       "1 A  1 0   0.0   0   0.00 0  0  0  0  1   0 0     0\n",
       "2 d  0 1 -12.0 -15 -20.00 0  0  0  0  0   0 0     0\n",
       "3 s1 0 0   1.0   4   8.00 1  0  0  0  0   0 0  1000\n",
       "4 s2 0 0   0.5   2   0.25 0  1  0  0  0   0 0  1500\n",
       "5 s3 0 0   7.0   6   1.00 0  0  1  0  0   0 0  1400\n",
       "6 s4 0 0   3.0   5   4.00 0  0  0  1  0   0 0  2000\n",
       "7 s5 0 0   1.0   0   0.00 0  0  0  0  1  -1 0    50\n",
       "8 s6 0 0   0.0   0   1.00 0  0  0  0  0   0 1    10"
      ]
     },
     "metadata": {},
     "output_type": "display_data"
    }
   ],
   "source": [
    "M[1,]=M[1,]+M[7,]\n",
    "M"
   ]
  },
  {
   "cell_type": "code",
   "execution_count": 96,
   "metadata": {},
   "outputs": [
    {
     "data": {
      "text/html": [
       "<table>\n",
       "<thead><tr><th></th><th scope=col>A</th><th scope=col>d</th><th scope=col>o1</th><th scope=col>o2</th><th scope=col>o3</th><th scope=col>s1</th><th scope=col>s2</th><th scope=col>s3</th><th scope=col>s4</th><th scope=col>a5</th><th scope=col>s5</th><th scope=col>s6</th><th scope=col>RHS</th></tr></thead>\n",
       "<tbody>\n",
       "\t<tr><th scope=row>1 A</th><td>1     </td><td>0     </td><td>  0.0 </td><td>  0   </td><td>0     </td><td>0     </td><td>0     </td><td>0     </td><td>0     </td><td>1     </td><td> 0    </td><td> 0.00 </td><td>   0.0</td></tr>\n",
       "\t<tr><th scope=row>2 d</th><td>0     </td><td>1     </td><td>-12.0 </td><td>-15   </td><td>0     </td><td>0     </td><td>0     </td><td>0     </td><td>0     </td><td>0     </td><td> 0    </td><td>20.00 </td><td> 200.0</td></tr>\n",
       "\t<tr><th scope=row>3 s1</th><td>0     </td><td>0     </td><td>  1.0 </td><td>  4   </td><td>0     </td><td>1     </td><td>0     </td><td>0     </td><td>0     </td><td>0     </td><td> 0    </td><td>-8.00 </td><td> 920.0</td></tr>\n",
       "\t<tr><th scope=row>4 s2</th><td>0     </td><td>0     </td><td>  0.5 </td><td>  2   </td><td>0     </td><td>0     </td><td>1     </td><td>0     </td><td>0     </td><td>0     </td><td> 0    </td><td>-0.25 </td><td>1497.5</td></tr>\n",
       "\t<tr><th scope=row>5 s3</th><td>0     </td><td>0     </td><td>  7.0 </td><td>  6   </td><td>0     </td><td>0     </td><td>0     </td><td>1     </td><td>0     </td><td>0     </td><td> 0    </td><td>-1.00 </td><td>1390.0</td></tr>\n",
       "\t<tr><th scope=row>6 s4</th><td>0     </td><td>0     </td><td>  3.0 </td><td>  5   </td><td>0     </td><td>0     </td><td>0     </td><td>0     </td><td>1     </td><td>0     </td><td> 0    </td><td>-4.00 </td><td>1960.0</td></tr>\n",
       "\t<tr><th scope=row>7 s5</th><td>0     </td><td>0     </td><td>  1.0 </td><td>  0   </td><td>0     </td><td>0     </td><td>0     </td><td>0     </td><td>0     </td><td>1     </td><td>-1    </td><td> 0.00 </td><td>  50.0</td></tr>\n",
       "\t<tr><th scope=row>8 o3</th><td>0     </td><td>0     </td><td>  0.0 </td><td>  0   </td><td>1     </td><td>0     </td><td>0     </td><td>0     </td><td>0     </td><td>0     </td><td> 0    </td><td> 1.00 </td><td>  10.0</td></tr>\n",
       "</tbody>\n",
       "</table>\n"
      ],
      "text/latex": [
       "\\begin{tabular}{r|lllllllllllll}\n",
       "  & A & d & o1 & o2 & o3 & s1 & s2 & s3 & s4 & a5 & s5 & s6 & RHS\\\\\n",
       "\\hline\n",
       "\t1 A & 1      & 0      &   0.0  &   0    & 0      & 0      & 0      & 0      & 0      & 1      &  0     &  0.00  &    0.0\\\\\n",
       "\t2 d & 0      & 1      & -12.0  & -15    & 0      & 0      & 0      & 0      & 0      & 0      &  0     & 20.00  &  200.0\\\\\n",
       "\t3 s1 & 0      & 0      &   1.0  &   4    & 0      & 1      & 0      & 0      & 0      & 0      &  0     & -8.00  &  920.0\\\\\n",
       "\t4 s2 & 0      & 0      &   0.5  &   2    & 0      & 0      & 1      & 0      & 0      & 0      &  0     & -0.25  & 1497.5\\\\\n",
       "\t5 s3 & 0      & 0      &   7.0  &   6    & 0      & 0      & 0      & 1      & 0      & 0      &  0     & -1.00  & 1390.0\\\\\n",
       "\t6 s4 & 0      & 0      &   3.0  &   5    & 0      & 0      & 0      & 0      & 1      & 0      &  0     & -4.00  & 1960.0\\\\\n",
       "\t7 s5 & 0      & 0      &   1.0  &   0    & 0      & 0      & 0      & 0      & 0      & 1      & -1     &  0.00  &   50.0\\\\\n",
       "\t8 o3 & 0      & 0      &   0.0  &   0    & 1      & 0      & 0      & 0      & 0      & 0      &  0     &  1.00  &   10.0\\\\\n",
       "\\end{tabular}\n"
      ],
      "text/markdown": [
       "\n",
       "| <!--/--> | A | d | o1 | o2 | o3 | s1 | s2 | s3 | s4 | a5 | s5 | s6 | RHS | \n",
       "|---|---|---|---|---|---|---|---|\n",
       "| 1 A | 1      | 0      |   0.0  |   0    | 0      | 0      | 0      | 0      | 0      | 1      |  0     |  0.00  |    0.0 | \n",
       "| 2 d | 0      | 1      | -12.0  | -15    | 0      | 0      | 0      | 0      | 0      | 0      |  0     | 20.00  |  200.0 | \n",
       "| 3 s1 | 0      | 0      |   1.0  |   4    | 0      | 1      | 0      | 0      | 0      | 0      |  0     | -8.00  |  920.0 | \n",
       "| 4 s2 | 0      | 0      |   0.5  |   2    | 0      | 0      | 1      | 0      | 0      | 0      |  0     | -0.25  | 1497.5 | \n",
       "| 5 s3 | 0      | 0      |   7.0  |   6    | 0      | 0      | 0      | 1      | 0      | 0      |  0     | -1.00  | 1390.0 | \n",
       "| 6 s4 | 0      | 0      |   3.0  |   5    | 0      | 0      | 0      | 0      | 1      | 0      |  0     | -4.00  | 1960.0 | \n",
       "| 7 s5 | 0      | 0      |   1.0  |   0    | 0      | 0      | 0      | 0      | 0      | 1      | -1     |  0.00  |   50.0 | \n",
       "| 8 o3 | 0      | 0      |   0.0  |   0    | 1      | 0      | 0      | 0      | 0      | 0      |  0     |  1.00  |   10.0 | \n",
       "\n",
       "\n"
      ],
      "text/plain": [
       "     A d o1    o2  o3 s1 s2 s3 s4 a5 s5 s6    RHS   \n",
       "1 A  1 0   0.0   0 0  0  0  0  0  1   0  0.00    0.0\n",
       "2 d  0 1 -12.0 -15 0  0  0  0  0  0   0 20.00  200.0\n",
       "3 s1 0 0   1.0   4 0  1  0  0  0  0   0 -8.00  920.0\n",
       "4 s2 0 0   0.5   2 0  0  1  0  0  0   0 -0.25 1497.5\n",
       "5 s3 0 0   7.0   6 0  0  0  1  0  0   0 -1.00 1390.0\n",
       "6 s4 0 0   3.0   5 0  0  0  0  1  0   0 -4.00 1960.0\n",
       "7 s5 0 0   1.0   0 0  0  0  0  0  1  -1  0.00   50.0\n",
       "8 o3 0 0   0.0   0 1  0  0  0  0  0   0  1.00   10.0"
      ]
     },
     "metadata": {},
     "output_type": "display_data"
    }
   ],
   "source": [
    "M[2,]=M[2,]+20*M[8,]\n",
    "M[3,]=M[3,]-8*M[8,]\n",
    "M[4,]=M[4,]-1/4*M[8,]\n",
    "M[5,]=M[5,]-M[8,]\n",
    "M[6,]=M[6,]-4*M[8,]\n",
    "rownames(M)=c('1 A','2 d','3 s1','4 s2','5 s3','6 s4','7 s5','8 o3')\n",
    "M"
   ]
  },
  {
   "cell_type": "code",
   "execution_count": 97,
   "metadata": {},
   "outputs": [
    {
     "data": {
      "text/html": [
       "<table>\n",
       "<thead><tr><th></th><th scope=col>A</th><th scope=col>d</th><th scope=col>o1</th><th scope=col>o2</th><th scope=col>o3</th><th scope=col>s1</th><th scope=col>s2</th><th scope=col>s3</th><th scope=col>s4</th><th scope=col>a5</th><th scope=col>s5</th><th scope=col>s6</th><th scope=col>RHS</th></tr></thead>\n",
       "<tbody>\n",
       "\t<tr><th scope=row>1 A</th><td>1     </td><td>0     </td><td> 0.00 </td><td>0     </td><td>0     </td><td> 0.00 </td><td>0     </td><td>0     </td><td>0     </td><td>1     </td><td> 0    </td><td>  0.00</td><td>   0.0</td></tr>\n",
       "\t<tr><th scope=row>2 d</th><td>0     </td><td>1     </td><td>-8.25 </td><td>0     </td><td>0     </td><td> 3.75 </td><td>0     </td><td>0     </td><td>0     </td><td>0     </td><td> 0    </td><td>-10.00</td><td>3650.0</td></tr>\n",
       "\t<tr><th scope=row>3 o2</th><td>0     </td><td>0     </td><td> 0.25 </td><td>1     </td><td>0     </td><td> 0.25 </td><td>0     </td><td>0     </td><td>0     </td><td>0     </td><td> 0    </td><td> -2.00</td><td> 230.0</td></tr>\n",
       "\t<tr><th scope=row>4 s2</th><td>0     </td><td>0     </td><td> 0.00 </td><td>0     </td><td>0     </td><td>-0.50 </td><td>1     </td><td>0     </td><td>0     </td><td>0     </td><td> 0    </td><td>  3.75</td><td>1037.5</td></tr>\n",
       "\t<tr><th scope=row>5 s3</th><td>0     </td><td>0     </td><td> 5.50 </td><td>0     </td><td>0     </td><td>-1.50 </td><td>0     </td><td>1     </td><td>0     </td><td>0     </td><td> 0    </td><td> 11.00</td><td>  10.0</td></tr>\n",
       "\t<tr><th scope=row>6 s4</th><td>0     </td><td>0     </td><td> 1.75 </td><td>0     </td><td>0     </td><td>-1.25 </td><td>0     </td><td>0     </td><td>1     </td><td>0     </td><td> 0    </td><td>  6.00</td><td> 810.0</td></tr>\n",
       "\t<tr><th scope=row>7 s5</th><td>0     </td><td>0     </td><td> 1.00 </td><td>0     </td><td>0     </td><td> 0.00 </td><td>0     </td><td>0     </td><td>0     </td><td>1     </td><td>-1    </td><td>  0.00</td><td>  50.0</td></tr>\n",
       "\t<tr><th scope=row>8 o3</th><td>0     </td><td>0     </td><td> 0.00 </td><td>0     </td><td>1     </td><td> 0.00 </td><td>0     </td><td>0     </td><td>0     </td><td>0     </td><td> 0    </td><td>  1.00</td><td>  10.0</td></tr>\n",
       "</tbody>\n",
       "</table>\n"
      ],
      "text/latex": [
       "\\begin{tabular}{r|lllllllllllll}\n",
       "  & A & d & o1 & o2 & o3 & s1 & s2 & s3 & s4 & a5 & s5 & s6 & RHS\\\\\n",
       "\\hline\n",
       "\t1 A & 1      & 0      &  0.00  & 0      & 0      &  0.00  & 0      & 0      & 0      & 1      &  0     &   0.00 &    0.0\\\\\n",
       "\t2 d & 0      & 1      & -8.25  & 0      & 0      &  3.75  & 0      & 0      & 0      & 0      &  0     & -10.00 & 3650.0\\\\\n",
       "\t3 o2 & 0      & 0      &  0.25  & 1      & 0      &  0.25  & 0      & 0      & 0      & 0      &  0     &  -2.00 &  230.0\\\\\n",
       "\t4 s2 & 0      & 0      &  0.00  & 0      & 0      & -0.50  & 1      & 0      & 0      & 0      &  0     &   3.75 & 1037.5\\\\\n",
       "\t5 s3 & 0      & 0      &  5.50  & 0      & 0      & -1.50  & 0      & 1      & 0      & 0      &  0     &  11.00 &   10.0\\\\\n",
       "\t6 s4 & 0      & 0      &  1.75  & 0      & 0      & -1.25  & 0      & 0      & 1      & 0      &  0     &   6.00 &  810.0\\\\\n",
       "\t7 s5 & 0      & 0      &  1.00  & 0      & 0      &  0.00  & 0      & 0      & 0      & 1      & -1     &   0.00 &   50.0\\\\\n",
       "\t8 o3 & 0      & 0      &  0.00  & 0      & 1      &  0.00  & 0      & 0      & 0      & 0      &  0     &   1.00 &   10.0\\\\\n",
       "\\end{tabular}\n"
      ],
      "text/markdown": [
       "\n",
       "| <!--/--> | A | d | o1 | o2 | o3 | s1 | s2 | s3 | s4 | a5 | s5 | s6 | RHS | \n",
       "|---|---|---|---|---|---|---|---|\n",
       "| 1 A | 1      | 0      |  0.00  | 0      | 0      |  0.00  | 0      | 0      | 0      | 1      |  0     |   0.00 |    0.0 | \n",
       "| 2 d | 0      | 1      | -8.25  | 0      | 0      |  3.75  | 0      | 0      | 0      | 0      |  0     | -10.00 | 3650.0 | \n",
       "| 3 o2 | 0      | 0      |  0.25  | 1      | 0      |  0.25  | 0      | 0      | 0      | 0      |  0     |  -2.00 |  230.0 | \n",
       "| 4 s2 | 0      | 0      |  0.00  | 0      | 0      | -0.50  | 1      | 0      | 0      | 0      |  0     |   3.75 | 1037.5 | \n",
       "| 5 s3 | 0      | 0      |  5.50  | 0      | 0      | -1.50  | 0      | 1      | 0      | 0      |  0     |  11.00 |   10.0 | \n",
       "| 6 s4 | 0      | 0      |  1.75  | 0      | 0      | -1.25  | 0      | 0      | 1      | 0      |  0     |   6.00 |  810.0 | \n",
       "| 7 s5 | 0      | 0      |  1.00  | 0      | 0      |  0.00  | 0      | 0      | 0      | 1      | -1     |   0.00 |   50.0 | \n",
       "| 8 o3 | 0      | 0      |  0.00  | 0      | 1      |  0.00  | 0      | 0      | 0      | 0      |  0     |   1.00 |   10.0 | \n",
       "\n",
       "\n"
      ],
      "text/plain": [
       "     A d o1    o2 o3 s1    s2 s3 s4 a5 s5 s6     RHS   \n",
       "1 A  1 0  0.00 0  0   0.00 0  0  0  1   0   0.00    0.0\n",
       "2 d  0 1 -8.25 0  0   3.75 0  0  0  0   0 -10.00 3650.0\n",
       "3 o2 0 0  0.25 1  0   0.25 0  0  0  0   0  -2.00  230.0\n",
       "4 s2 0 0  0.00 0  0  -0.50 1  0  0  0   0   3.75 1037.5\n",
       "5 s3 0 0  5.50 0  0  -1.50 0  1  0  0   0  11.00   10.0\n",
       "6 s4 0 0  1.75 0  0  -1.25 0  0  1  0   0   6.00  810.0\n",
       "7 s5 0 0  1.00 0  0   0.00 0  0  0  1  -1   0.00   50.0\n",
       "8 o3 0 0  0.00 0  1   0.00 0  0  0  0   0   1.00   10.0"
      ]
     },
     "metadata": {},
     "output_type": "display_data"
    }
   ],
   "source": [
    "M[3,]=M[3,]/4\n",
    "M[2,]=M[2,]+15*M[3,]\n",
    "M[4,]=M[4,]-2*M[3,]\n",
    "M[5,]=M[5,]-6*M[3,]\n",
    "M[6,]=M[6,]-5*M[3,]\n",
    "rownames(M)=c('1 A','2 d','3 o2','4 s2','5 s3','6 s4','7 s5','8 o3')\n",
    "M"
   ]
  },
  {
   "cell_type": "code",
   "execution_count": 80,
   "metadata": {},
   "outputs": [
    {
     "data": {
      "text/html": [
       "<dl class=dl-horizontal>\n",
       "\t<dt>1 A</dt>\n",
       "\t\t<dd>NaN</dd>\n",
       "\t<dt>2 d</dt>\n",
       "\t\t<dd>-40</dd>\n",
       "\t<dt>3 s1</dt>\n",
       "\t\t<dd>190</dd>\n",
       "\t<dt>4 s2</dt>\n",
       "\t\t<dd>746.25</dd>\n",
       "\t<dt>5 s3</dt>\n",
       "\t\t<dd>228.333333333333</dd>\n",
       "\t<dt>6 s4</dt>\n",
       "\t\t<dd>376</dd>\n",
       "\t<dt>7 s5</dt>\n",
       "\t\t<dd>Inf</dd>\n",
       "\t<dt>8 o3</dt>\n",
       "\t\t<dd>Inf</dd>\n",
       "</dl>\n"
      ],
      "text/latex": [
       "\\begin{description*}\n",
       "\\item[1 A] NaN\n",
       "\\item[2 d] -40\n",
       "\\item[3 s1] 190\n",
       "\\item[4 s2] 746.25\n",
       "\\item[5 s3] 228.333333333333\n",
       "\\item[6 s4] 376\n",
       "\\item[7 s5] Inf\n",
       "\\item[8 o3] Inf\n",
       "\\end{description*}\n"
      ],
      "text/markdown": [
       "1 A\n",
       ":   NaN2 d\n",
       ":   -403 s1\n",
       ":   1904 s2\n",
       ":   746.255 s3\n",
       ":   228.3333333333336 s4\n",
       ":   3767 s5\n",
       ":   Inf8 o3\n",
       ":   Inf\n",
       "\n"
      ],
      "text/plain": [
       "     1 A      2 d     3 s1     4 s2     5 s3     6 s4     7 s5     8 o3 \n",
       "     NaN -40.0000 190.0000 746.2500 228.3333 376.0000      Inf      Inf "
      ]
     },
     "metadata": {},
     "output_type": "display_data"
    }
   ],
   "source": [
    "M[,13]/M[,4]"
   ]
  },
  {
   "cell_type": "code",
   "execution_count": null,
   "metadata": {},
   "outputs": [],
   "source": []
  }
 ],
 "metadata": {
  "kernelspec": {
   "display_name": "R",
   "language": "R",
   "name": "ir"
  },
  "language_info": {
   "codemirror_mode": "r",
   "file_extension": ".r",
   "mimetype": "text/x-r-source",
   "name": "R",
   "pygments_lexer": "r",
   "version": "3.4.4"
  }
 },
 "nbformat": 4,
 "nbformat_minor": 2
}
