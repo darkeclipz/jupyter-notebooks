{
 "cells": [
  {
   "cell_type": "code",
   "execution_count": 24,
   "metadata": {},
   "outputs": [],
   "source": [
    "# Add the column and row numbers to the matrix for easier indexing.\n",
    "# It preserves the original naming.\n",
    "colrownames <- function(M) {\n",
    "    cn=colnames(M)\n",
    "    cn=paste(cn, ' (', c(1:length(M[1,])), ')', sep='')\n",
    "    colnames(M)=cn\n",
    "    rn=rownames(M)\n",
    "    rn=paste(rn, ' (', c(1:length(M[,1])), ')', sep='')\n",
    "    rownames(M)=rn\n",
    "    M\n",
    "}"
   ]
  },
  {
   "cell_type": "markdown",
   "metadata": {},
   "source": [
    "# LP model"
   ]
  },
  {
   "cell_type": "code",
   "execution_count": 32,
   "metadata": {},
   "outputs": [
    {
     "data": {
      "text/html": [
       "<table>\n",
       "<thead><tr><th></th><th scope=col>A (1)</th><th scope=col>d (2)</th><th scope=col>x (3)</th><th scope=col>y (4)</th><th scope=col>z (5)</th><th scope=col>A1 (6)</th><th scope=col>S2 (7)</th><th scope=col>A2 (8)</th><th scope=col>s3 (9)</th><th scope=col>s4 (10)</th><th scope=col>s5 (11)</th><th scope=col>RHS (12)</th></tr></thead>\n",
       "<tbody>\n",
       "\t<tr><th scope=row>A (1)</th><td>1      </td><td>0      </td><td>0      </td><td>0      </td><td>   0   </td><td>0      </td><td>    4  </td><td>    3  </td><td>    1  </td><td>0      </td><td>1      </td><td>    -30</td></tr>\n",
       "\t<tr><th scope=row>d* (2)</th><td>0      </td><td>1      </td><td>0      </td><td>0      </td><td>4000   </td><td>0      </td><td>-7500  </td><td>-7500  </td><td>-4500  </td><td>0      </td><td>0      </td><td>-225000</td></tr>\n",
       "\t<tr><th scope=row>A1 (3)</th><td>0      </td><td>0      </td><td>0      </td><td>0      </td><td>   1   </td><td>1      </td><td>   -2  </td><td>   -2  </td><td>   -1  </td><td>0      </td><td>0      </td><td>     40</td></tr>\n",
       "\t<tr><th scope=row>A2 (4)</th><td>0      </td><td>0      </td><td>1      </td><td>0      </td><td>   0   </td><td>0      </td><td>    1  </td><td>    1  </td><td>    0  </td><td>0      </td><td>0      </td><td>     30</td></tr>\n",
       "\t<tr><th scope=row>s3 (5)</th><td>0      </td><td>0      </td><td>0      </td><td>1      </td><td>   0   </td><td>0      </td><td>    1  </td><td>    1  </td><td>    1  </td><td>0      </td><td>0      </td><td>     30</td></tr>\n",
       "\t<tr><th scope=row>s4 (6)</th><td>0      </td><td>0      </td><td>0      </td><td>0      </td><td>   2   </td><td>0      </td><td>    1  </td><td>    1  </td><td>    1  </td><td>1      </td><td>0      </td><td>     30</td></tr>\n",
       "\t<tr><th scope=row>s5 (7)</th><td>0      </td><td>0      </td><td>0      </td><td>0      </td><td>   1   </td><td>0      </td><td>    0  </td><td>    0  </td><td>    0  </td><td>0      </td><td>1      </td><td>     10</td></tr>\n",
       "</tbody>\n",
       "</table>\n"
      ],
      "text/latex": [
       "\\begin{tabular}{r|llllllllllll}\n",
       "  & A (1) & d (2) & x (3) & y (4) & z (5) & A1 (6) & S2 (7) & A2 (8) & s3 (9) & s4 (10) & s5 (11) & RHS (12)\\\\\n",
       "\\hline\n",
       "\tA (1) & 1       & 0       & 0       & 0       &    0    & 0       &     4   &     3   &     1   & 0       & 1       &     -30\\\\\n",
       "\td* (2) & 0       & 1       & 0       & 0       & 4000    & 0       & -7500   & -7500   & -4500   & 0       & 0       & -225000\\\\\n",
       "\tA1 (3) & 0       & 0       & 0       & 0       &    1    & 1       &    -2   &    -2   &    -1   & 0       & 0       &      40\\\\\n",
       "\tA2 (4) & 0       & 0       & 1       & 0       &    0    & 0       &     1   &     1   &     0   & 0       & 0       &      30\\\\\n",
       "\ts3 (5) & 0       & 0       & 0       & 1       &    0    & 0       &     1   &     1   &     1   & 0       & 0       &      30\\\\\n",
       "\ts4 (6) & 0       & 0       & 0       & 0       &    2    & 0       &     1   &     1   &     1   & 1       & 0       &      30\\\\\n",
       "\ts5 (7) & 0       & 0       & 0       & 0       &    1    & 0       &     0   &     0   &     0   & 0       & 1       &      10\\\\\n",
       "\\end{tabular}\n"
      ],
      "text/markdown": [
       "\n",
       "| <!--/--> | A (1) | d (2) | x (3) | y (4) | z (5) | A1 (6) | S2 (7) | A2 (8) | s3 (9) | s4 (10) | s5 (11) | RHS (12) | \n",
       "|---|---|---|---|---|---|---|\n",
       "| A (1) | 1       | 0       | 0       | 0       |    0    | 0       |     4   |     3   |     1   | 0       | 1       |     -30 | \n",
       "| d* (2) | 0       | 1       | 0       | 0       | 4000    | 0       | -7500   | -7500   | -4500   | 0       | 0       | -225000 | \n",
       "| A1 (3) | 0       | 0       | 0       | 0       |    1    | 1       |    -2   |    -2   |    -1   | 0       | 0       |      40 | \n",
       "| A2 (4) | 0       | 0       | 1       | 0       |    0    | 0       |     1   |     1   |     0   | 0       | 0       |      30 | \n",
       "| s3 (5) | 0       | 0       | 0       | 1       |    0    | 0       |     1   |     1   |     1   | 0       | 0       |      30 | \n",
       "| s4 (6) | 0       | 0       | 0       | 0       |    2    | 0       |     1   |     1   |     1   | 1       | 0       |      30 | \n",
       "| s5 (7) | 0       | 0       | 0       | 0       |    1    | 0       |     0   |     0   |     0   | 0       | 1       |      10 | \n",
       "\n",
       "\n"
      ],
      "text/plain": [
       "       A (1) d (2) x (3) y (4) z (5) A1 (6) S2 (7) A2 (8) s3 (9) s4 (10)\n",
       "A (1)  1     0     0     0        0  0          4      3      1  0      \n",
       "d* (2) 0     1     0     0     4000  0      -7500  -7500  -4500  0      \n",
       "A1 (3) 0     0     0     0        1  1         -2     -2     -1  0      \n",
       "A2 (4) 0     0     1     0        0  0          1      1      0  0      \n",
       "s3 (5) 0     0     0     1        0  0          1      1      1  0      \n",
       "s4 (6) 0     0     0     0        2  0          1      1      1  1      \n",
       "s5 (7) 0     0     0     0        1  0          0      0      0  0      \n",
       "       s5 (11) RHS (12)\n",
       "A (1)  1           -30 \n",
       "d* (2) 0       -225000 \n",
       "A1 (3) 0            40 \n",
       "A2 (4) 0            30 \n",
       "s3 (5) 0            30 \n",
       "s4 (6) 0            30 \n",
       "s5 (7) 1            10 "
      ]
     },
     "metadata": {},
     "output_type": "display_data"
    }
   ],
   "source": [
    "A=c(1,0,0,0,0,0,0)\n",
    "d=c(0,1,0,0,0,0,0)\n",
    "x=c(-2,3000,1,1,-1,0,0)\n",
    "y=c(-1,4500,1,0,1,-1,0)\n",
    "z=c(-1,4000,1,0,0,2,1)\n",
    "A1=c(0,0,1,0,0,0,0)\n",
    "S2=c(1,0,0,1,0,0,0)\n",
    "A2=c(0,0,0,1,0,0,0)\n",
    "s3=c(0,0,0,0,1,0,0)\n",
    "s4=c(0,0,0,0,0,1,0)\n",
    "s5=c(0,0,0,0,0,0,1)\n",
    "RHS=c(-130,0,100,30,0,0,10)\n",
    "M=cbind(A,d,x,y,z,A1,S2,A2,s3,s4,s5,RHS)\n",
    "rownames(M)=c('A','d*','A1','A2','s3','s4', 's5')\n",
    "M=colrownames(M)\n",
    "\n",
    "# Iteratie 1\n",
    "#M\n",
    "\n",
    "# Iteratie 2: pivot A2,x\n",
    "M[1,]=M[1,]+2*M[4,]\n",
    "M[2,]=M[2,]-3000*M[4,]\n",
    "M[3,]=M[3,]-M[4,]\n",
    "M[5,]=M[5,]+M[4,]\n",
    "#M\n",
    "\n",
    "# Iteratie 3: pivot s3,y\n",
    "M[1,]=M[1,]+M[5,]\n",
    "M[2,]=M[2,]-4500*M[5,]\n",
    "M[3,]=M[3,]-M[5,]\n",
    "M[6,]=M[6,]+M[5,]\n",
    "\n",
    "# Iteratie 4: pivot A1,z\n",
    "M[1,]=M[1,]+M[7,]\n",
    "M"
   ]
  },
  {
   "cell_type": "markdown",
   "metadata": {},
   "source": [
    "En toen? De doelfunctie $A$ klopt niet."
   ]
  }
 ],
 "metadata": {
  "kernelspec": {
   "display_name": "R",
   "language": "R",
   "name": "ir"
  },
  "language_info": {
   "codemirror_mode": "r",
   "file_extension": ".r",
   "mimetype": "text/x-r-source",
   "name": "R",
   "pygments_lexer": "r",
   "version": "3.4.4"
  }
 },
 "nbformat": 4,
 "nbformat_minor": 2
}
