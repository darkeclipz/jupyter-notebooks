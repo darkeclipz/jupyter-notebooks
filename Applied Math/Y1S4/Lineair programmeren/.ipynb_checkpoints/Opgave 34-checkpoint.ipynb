{
 "cells": [
  {
   "cell_type": "markdown",
   "metadata": {},
   "source": [
    "In dit document worden de onderstaande instellingen/functies gebruikt:"
   ]
  },
  {
   "cell_type": "code",
   "execution_count": 79,
   "metadata": {},
   "outputs": [],
   "source": [
    "# Remove the scientific notation for 'big' numbers.\n",
    "options(scipen=999)"
   ]
  },
  {
   "cell_type": "code",
   "execution_count": 80,
   "metadata": {},
   "outputs": [],
   "source": [
    "# Add the column and row numbers to the matrix for easier indexing.\n",
    "# It preserves the original naming.\n",
    "colrownames <- function(M) {\n",
    "    cn=colnames(M)\n",
    "    cn=paste(cn, ' (', c(1:length(M[1,])), ')', sep='')\n",
    "    colnames(M)=cn\n",
    "    rn=rownames(M)\n",
    "    rn=paste(rn, ' (', c(1:length(M[,1])), ')', sep='')\n",
    "    rownames(M)=rn\n",
    "    M\n",
    "}"
   ]
  },
  {
   "cell_type": "markdown",
   "metadata": {},
   "source": [
    "# LP probleem"
   ]
  },
  {
   "cell_type": "markdown",
   "metadata": {},
   "source": [
    "Het LP-probleem voor opgave 34 is als volgt:\n",
    "\n",
    "$$ \\begin{aligned}\n",
    "\\min 3000x+4500y&+4000z\\\\\n",
    "x+y+z &= 100 \\qquad&\\text{(1)} \\\\\n",
    "x &\\geq 30 \\qquad&\\text{(2)} \\\\\n",
    "-x+y &\\leq 0 \\qquad&\\text{(3)} \\\\\n",
    "-y+2z &\\leq 0 \\qquad&\\text{(4)}\\\\\n",
    "z &\\leq 10 \\qquad&\\text{(5)}\n",
    "\\end{aligned}$$\n"
   ]
  },
  {
   "cell_type": "markdown",
   "metadata": {},
   "source": [
    "Alle mogelijke combinaties van $\\leq, \\geq, =$ komen hierin voor. Ook moet het probleem worden omgezet in een maximalisatieprobleem. Doordat er kunstmatige variabelen nodig zijn, wordt er een twee-fasen model gebruikt."
   ]
  },
  {
   "cell_type": "markdown",
   "metadata": {},
   "source": [
    "# Canonieke vorm"
   ]
  },
  {
   "cell_type": "markdown",
   "metadata": {},
   "source": [
    "Eerst stellen we de doelfunctie op: $d=3000x+4500y+4000z$. Omdat dit een minimalisatie probleem is, en we er een maximalisatieprobleem van willen maken, wordt $d^*=-d$. De doelfunctie wordt dan: $-d=-3000x-4500y-4000z \\iff d^*=-3000x-4500y-4000z$.\n",
    "\n",
    "Vervolgens herschrijven we de andere restricties in de canonieke vorm, dit geeft de volgende vergelijkingen:\n",
    "\n",
    "$$ \\tag{0} d^*+3000x+4500y+4000z = 0 $$\n",
    "$$ \\tag{1} x+y+z+A_1=100 $$\n",
    "$$ \\tag{2} x-S_2+A_2=30 $$\n",
    "$$ \\tag{3} -x+y+s_3=0 $$\n",
    "$$ \\tag{4} -y+2z+s_4=0 $$\n",
    "$$ \\tag{5} z+s_5=10 $$"
   ]
  },
  {
   "cell_type": "markdown",
   "metadata": {},
   "source": [
    "Omdat er kunstmatige variabelen worden gebruikt hebben we een extra doelfunctie nodig, namelijk: $A=-A_1-A_2$. Deze doelfunctie wordt gemaximaliseerd tot $0$. In de canonieke vorm schrijven we dit als $A+A_1+A_2=0  \\quad(0^*)$. Echter mogen $A_1$ en $A_2$ maar één keer in de vergelijkingen voorkomen omdat dit basisvariabelen zijn. Dit probleem is als volgt op te lossen: $(0^*)-(1)-(2)$. Dit geeft: $A+A_1+A_2-(x+y+z+A_1)-(x-S_2+A_2)=0-100-30$ ofwel, $A-2x-y-z+S_2=-130$.\n",
    "\n",
    "Hieronder staan alle vergelijkingen in de canonieke vorm:\n",
    "\n",
    "$$ \\tag{0*} A-2x-y-z+S_2=-130 $$\n",
    "$$ \\tag{0} d^*+3000x+4500y+4000z = 0 $$\n",
    "$$ \\tag{1} x+y+z+A_1=100 $$\n",
    "$$ \\tag{2} x-S_2+A_2=30 $$\n",
    "$$ \\tag{3} -x+y+s_3=0 $$\n",
    "$$ \\tag{4} -y+2z+s_4=0 $$\n",
    "$$ \\tag{5} z+s_5=10 $$"
   ]
  },
  {
   "cell_type": "markdown",
   "metadata": {},
   "source": [
    "Nu kunnen we dit omzetten naar een simplex tableau."
   ]
  },
  {
   "cell_type": "markdown",
   "metadata": {},
   "source": [
    "# Simplex"
   ]
  },
  {
   "cell_type": "markdown",
   "metadata": {},
   "source": [
    "Eerst stellen we het begintableau op:"
   ]
  },
  {
   "cell_type": "code",
   "execution_count": 81,
   "metadata": {
    "scrolled": true
   },
   "outputs": [
    {
     "data": {
      "text/html": [
       "<table>\n",
       "<thead><tr><th></th><th scope=col>A (1)</th><th scope=col>d (2)</th><th scope=col>x (3)</th><th scope=col>y (4)</th><th scope=col>z (5)</th><th scope=col>A1 (6)</th><th scope=col>S2 (7)</th><th scope=col>A2 (8)</th><th scope=col>s3 (9)</th><th scope=col>s4 (10)</th><th scope=col>s5 (11)</th><th scope=col>RHS (12)</th></tr></thead>\n",
       "<tbody>\n",
       "\t<tr><th scope=row>A (1)</th><td>1   </td><td>0   </td><td>  -2</td><td>  -1</td><td>  -1</td><td>0   </td><td> 1  </td><td>0   </td><td>0   </td><td>0   </td><td>0   </td><td>-130</td></tr>\n",
       "\t<tr><th scope=row>d* (2)</th><td>0   </td><td>1   </td><td>3000</td><td>4500</td><td>4000</td><td>0   </td><td> 0  </td><td>0   </td><td>0   </td><td>0   </td><td>0   </td><td>   0</td></tr>\n",
       "\t<tr><th scope=row>A1 (3)</th><td>0   </td><td>0   </td><td>   1</td><td>   1</td><td>   1</td><td>1   </td><td> 0  </td><td>0   </td><td>0   </td><td>0   </td><td>0   </td><td> 100</td></tr>\n",
       "\t<tr><th scope=row>A2 (4)</th><td>0   </td><td>0   </td><td>   1</td><td>   0</td><td>   0</td><td>0   </td><td>-1  </td><td>1   </td><td>0   </td><td>0   </td><td>0   </td><td>  30</td></tr>\n",
       "\t<tr><th scope=row>s3 (5)</th><td>0   </td><td>0   </td><td>  -1</td><td>   1</td><td>   0</td><td>0   </td><td> 0  </td><td>0   </td><td>1   </td><td>0   </td><td>0   </td><td>   0</td></tr>\n",
       "\t<tr><th scope=row>s4 (6)</th><td>0   </td><td>0   </td><td>   0</td><td>  -1</td><td>   2</td><td>0   </td><td> 0  </td><td>0   </td><td>0   </td><td>1   </td><td>0   </td><td>   0</td></tr>\n",
       "\t<tr><th scope=row>s5 (7)</th><td>0   </td><td>0   </td><td>   0</td><td>   0</td><td>   1</td><td>0   </td><td> 0  </td><td>0   </td><td>0   </td><td>0   </td><td>1   </td><td>  10</td></tr>\n",
       "</tbody>\n",
       "</table>\n"
      ],
      "text/latex": [
       "\\begin{tabular}{r|llllllllllll}\n",
       "  & A (1) & d (2) & x (3) & y (4) & z (5) & A1 (6) & S2 (7) & A2 (8) & s3 (9) & s4 (10) & s5 (11) & RHS (12)\\\\\n",
       "\\hline\n",
       "\tA (1) & 1    & 0    &   -2 &   -1 &   -1 & 0    &  1   & 0    & 0    & 0    & 0    & -130\\\\\n",
       "\td* (2) & 0    & 1    & 3000 & 4500 & 4000 & 0    &  0   & 0    & 0    & 0    & 0    &    0\\\\\n",
       "\tA1 (3) & 0    & 0    &    1 &    1 &    1 & 1    &  0   & 0    & 0    & 0    & 0    &  100\\\\\n",
       "\tA2 (4) & 0    & 0    &    1 &    0 &    0 & 0    & -1   & 1    & 0    & 0    & 0    &   30\\\\\n",
       "\ts3 (5) & 0    & 0    &   -1 &    1 &    0 & 0    &  0   & 0    & 1    & 0    & 0    &    0\\\\\n",
       "\ts4 (6) & 0    & 0    &    0 &   -1 &    2 & 0    &  0   & 0    & 0    & 1    & 0    &    0\\\\\n",
       "\ts5 (7) & 0    & 0    &    0 &    0 &    1 & 0    &  0   & 0    & 0    & 0    & 1    &   10\\\\\n",
       "\\end{tabular}\n"
      ],
      "text/markdown": [
       "\n",
       "| <!--/--> | A (1) | d (2) | x (3) | y (4) | z (5) | A1 (6) | S2 (7) | A2 (8) | s3 (9) | s4 (10) | s5 (11) | RHS (12) | \n",
       "|---|---|---|---|---|---|---|\n",
       "| A (1) | 1    | 0    |   -2 |   -1 |   -1 | 0    |  1   | 0    | 0    | 0    | 0    | -130 | \n",
       "| d* (2) | 0    | 1    | 3000 | 4500 | 4000 | 0    |  0   | 0    | 0    | 0    | 0    |    0 | \n",
       "| A1 (3) | 0    | 0    |    1 |    1 |    1 | 1    |  0   | 0    | 0    | 0    | 0    |  100 | \n",
       "| A2 (4) | 0    | 0    |    1 |    0 |    0 | 0    | -1   | 1    | 0    | 0    | 0    |   30 | \n",
       "| s3 (5) | 0    | 0    |   -1 |    1 |    0 | 0    |  0   | 0    | 1    | 0    | 0    |    0 | \n",
       "| s4 (6) | 0    | 0    |    0 |   -1 |    2 | 0    |  0   | 0    | 0    | 1    | 0    |    0 | \n",
       "| s5 (7) | 0    | 0    |    0 |    0 |    1 | 0    |  0   | 0    | 0    | 0    | 1    |   10 | \n",
       "\n",
       "\n"
      ],
      "text/plain": [
       "       A (1) d (2) x (3) y (4) z (5) A1 (6) S2 (7) A2 (8) s3 (9) s4 (10)\n",
       "A (1)  1     0       -2    -1    -1  0       1     0      0      0      \n",
       "d* (2) 0     1     3000  4500  4000  0       0     0      0      0      \n",
       "A1 (3) 0     0        1     1     1  1       0     0      0      0      \n",
       "A2 (4) 0     0        1     0     0  0      -1     1      0      0      \n",
       "s3 (5) 0     0       -1     1     0  0       0     0      1      0      \n",
       "s4 (6) 0     0        0    -1     2  0       0     0      0      1      \n",
       "s5 (7) 0     0        0     0     1  0       0     0      0      0      \n",
       "       s5 (11) RHS (12)\n",
       "A (1)  0       -130    \n",
       "d* (2) 0          0    \n",
       "A1 (3) 0        100    \n",
       "A2 (4) 0         30    \n",
       "s3 (5) 0          0    \n",
       "s4 (6) 0          0    \n",
       "s5 (7) 1         10    "
      ]
     },
     "metadata": {},
     "output_type": "display_data"
    }
   ],
   "source": [
    "A=c(1,0,0,0,0,0,0)\n",
    "d=c(0,1,0,0,0,0,0)\n",
    "x=c(-2,3000,1,1,-1,0,0)\n",
    "y=c(-1,4500,1,0,1,-1,0)\n",
    "z=c(-1,4000,1,0,0,2,1)\n",
    "A1=c(0,0,1,0,0,0,0)\n",
    "S2=c(1,0,0,-1,0,0,0)\n",
    "A2=c(0,0,0,1,0,0,0)\n",
    "s3=c(0,0,0,0,1,0,0)\n",
    "s4=c(0,0,0,0,0,1,0)\n",
    "s5=c(0,0,0,0,0,0,1)\n",
    "RHS=c(-130,0,100,30,0,0,10)\n",
    "M=cbind(A,d,x,y,z,A1,S2,A2,s3,s4,s5,RHS)\n",
    "rownames(M)=c('A','d*','A1','A2','s3','s4', 's5')\n",
    "M=colrownames(M)\n",
    "\n",
    "# Iteratie 1 (A)\n",
    "M"
   ]
  },
  {
   "cell_type": "markdown",
   "metadata": {},
   "source": [
    "Wat opvalt in het begintableau, met uitzondering van vergelijking $(0^*)$, voor de toegevoegde variabelen is het volgende:\n",
    "\n",
    " 1. Een spelingsvariabel (SlackN) $s_i$ is altijd $\\geq$ 0 in het begintableau.\n",
    " 2. Een surplusvariabel (Surp.N) $S_i$ is altijd $\\leq$ 0 in het begintableau.\n",
    " 3. Een kunstmatige variabel (Art.N) $A_i$ is altijd $\\geq$ 0 in het begintableau.\n",
    " \n",
    "Deze observatie kan worden gebruikt om het begintableau op correctheid te controleren, voordat er wordt begonnen met vegen.\n",
    "\n",
    "De meeste negatieve waarde is in dit geval $x=-2$, vegen geeft:"
   ]
  },
  {
   "cell_type": "code",
   "execution_count": 82,
   "metadata": {
    "scrolled": false
   },
   "outputs": [
    {
     "data": {
      "text/html": [
       "<table>\n",
       "<thead><tr><th></th><th scope=col>A (1)</th><th scope=col>d (2)</th><th scope=col>x (3)</th><th scope=col>y (4)</th><th scope=col>z (5)</th><th scope=col>A1 (6)</th><th scope=col>S2 (7)</th><th scope=col>A2 (8)</th><th scope=col>s3 (9)</th><th scope=col>s4 (10)</th><th scope=col>s5 (11)</th><th scope=col>RHS (12)</th></tr></thead>\n",
       "<tbody>\n",
       "\t<tr><th scope=row>A (1)</th><td>1     </td><td>0     </td><td>0     </td><td>  -1  </td><td>  -1  </td><td>0     </td><td>  -1  </td><td>    2 </td><td>0     </td><td>0     </td><td>0     </td><td>   -70</td></tr>\n",
       "\t<tr><th scope=row>d* (2)</th><td>0     </td><td>1     </td><td>0     </td><td>4500  </td><td>4000  </td><td>0     </td><td>3000  </td><td>-3000 </td><td>0     </td><td>0     </td><td>0     </td><td>-90000</td></tr>\n",
       "\t<tr><th scope=row>A1 (3)</th><td>0     </td><td>0     </td><td>0     </td><td>   1  </td><td>   1  </td><td>1     </td><td>   1  </td><td>   -1 </td><td>0     </td><td>0     </td><td>0     </td><td>    70</td></tr>\n",
       "\t<tr><th scope=row>A2 (4)</th><td>0     </td><td>0     </td><td>1     </td><td>   0  </td><td>   0  </td><td>0     </td><td>  -1  </td><td>    1 </td><td>0     </td><td>0     </td><td>0     </td><td>    30</td></tr>\n",
       "\t<tr><th scope=row>s3 (5)</th><td>0     </td><td>0     </td><td>0     </td><td>   1  </td><td>   0  </td><td>0     </td><td>  -1  </td><td>    1 </td><td>1     </td><td>0     </td><td>0     </td><td>    30</td></tr>\n",
       "\t<tr><th scope=row>s4 (6)</th><td>0     </td><td>0     </td><td>0     </td><td>  -1  </td><td>   2  </td><td>0     </td><td>   0  </td><td>    0 </td><td>0     </td><td>1     </td><td>0     </td><td>     0</td></tr>\n",
       "\t<tr><th scope=row>s5 (7)</th><td>0     </td><td>0     </td><td>0     </td><td>   0  </td><td>   1  </td><td>0     </td><td>   0  </td><td>    0 </td><td>0     </td><td>0     </td><td>1     </td><td>    10</td></tr>\n",
       "</tbody>\n",
       "</table>\n"
      ],
      "text/latex": [
       "\\begin{tabular}{r|llllllllllll}\n",
       "  & A (1) & d (2) & x (3) & y (4) & z (5) & A1 (6) & S2 (7) & A2 (8) & s3 (9) & s4 (10) & s5 (11) & RHS (12)\\\\\n",
       "\\hline\n",
       "\tA (1) & 1      & 0      & 0      &   -1   &   -1   & 0      &   -1   &     2  & 0      & 0      & 0      &    -70\\\\\n",
       "\td* (2) & 0      & 1      & 0      & 4500   & 4000   & 0      & 3000   & -3000  & 0      & 0      & 0      & -90000\\\\\n",
       "\tA1 (3) & 0      & 0      & 0      &    1   &    1   & 1      &    1   &    -1  & 0      & 0      & 0      &     70\\\\\n",
       "\tA2 (4) & 0      & 0      & 1      &    0   &    0   & 0      &   -1   &     1  & 0      & 0      & 0      &     30\\\\\n",
       "\ts3 (5) & 0      & 0      & 0      &    1   &    0   & 0      &   -1   &     1  & 1      & 0      & 0      &     30\\\\\n",
       "\ts4 (6) & 0      & 0      & 0      &   -1   &    2   & 0      &    0   &     0  & 0      & 1      & 0      &      0\\\\\n",
       "\ts5 (7) & 0      & 0      & 0      &    0   &    1   & 0      &    0   &     0  & 0      & 0      & 1      &     10\\\\\n",
       "\\end{tabular}\n"
      ],
      "text/markdown": [
       "\n",
       "| <!--/--> | A (1) | d (2) | x (3) | y (4) | z (5) | A1 (6) | S2 (7) | A2 (8) | s3 (9) | s4 (10) | s5 (11) | RHS (12) | \n",
       "|---|---|---|---|---|---|---|\n",
       "| A (1) | 1      | 0      | 0      |   -1   |   -1   | 0      |   -1   |     2  | 0      | 0      | 0      |    -70 | \n",
       "| d* (2) | 0      | 1      | 0      | 4500   | 4000   | 0      | 3000   | -3000  | 0      | 0      | 0      | -90000 | \n",
       "| A1 (3) | 0      | 0      | 0      |    1   |    1   | 1      |    1   |    -1  | 0      | 0      | 0      |     70 | \n",
       "| A2 (4) | 0      | 0      | 1      |    0   |    0   | 0      |   -1   |     1  | 0      | 0      | 0      |     30 | \n",
       "| s3 (5) | 0      | 0      | 0      |    1   |    0   | 0      |   -1   |     1  | 1      | 0      | 0      |     30 | \n",
       "| s4 (6) | 0      | 0      | 0      |   -1   |    2   | 0      |    0   |     0  | 0      | 1      | 0      |      0 | \n",
       "| s5 (7) | 0      | 0      | 0      |    0   |    1   | 0      |    0   |     0  | 0      | 0      | 1      |     10 | \n",
       "\n",
       "\n"
      ],
      "text/plain": [
       "       A (1) d (2) x (3) y (4) z (5) A1 (6) S2 (7) A2 (8) s3 (9) s4 (10)\n",
       "A (1)  1     0     0       -1    -1  0        -1       2  0      0      \n",
       "d* (2) 0     1     0     4500  4000  0      3000   -3000  0      0      \n",
       "A1 (3) 0     0     0        1     1  1         1      -1  0      0      \n",
       "A2 (4) 0     0     1        0     0  0        -1       1  0      0      \n",
       "s3 (5) 0     0     0        1     0  0        -1       1  1      0      \n",
       "s4 (6) 0     0     0       -1     2  0         0       0  0      1      \n",
       "s5 (7) 0     0     0        0     1  0         0       0  0      0      \n",
       "       s5 (11) RHS (12)\n",
       "A (1)  0          -70  \n",
       "d* (2) 0       -90000  \n",
       "A1 (3) 0           70  \n",
       "A2 (4) 0           30  \n",
       "s3 (5) 0           30  \n",
       "s4 (6) 0            0  \n",
       "s5 (7) 1           10  "
      ]
     },
     "metadata": {},
     "output_type": "display_data"
    }
   ],
   "source": [
    "# Iteratie 2 (A)\n",
    "I2=M\n",
    "I2[1,]=I2[1,]+2*I2[4,]\n",
    "I2[2,]=I2[2,]-3000*I2[4,]\n",
    "I2[3,]=I2[3,]-I2[4,]\n",
    "I2[5,]=I2[5,]+I2[4,]\n",
    "I2"
   ]
  },
  {
   "cell_type": "markdown",
   "metadata": {},
   "source": [
    "De meeste negatieve waarde is in dit geval $y=-1$ en $z=-1$, beiden zijn gelijk, dus het wordt $y$ omdat dit de eerste is."
   ]
  },
  {
   "cell_type": "code",
   "execution_count": 83,
   "metadata": {},
   "outputs": [
    {
     "data": {
      "text/html": [
       "<table>\n",
       "<thead><tr><th></th><th scope=col>A (1)</th><th scope=col>d (2)</th><th scope=col>x (3)</th><th scope=col>y (4)</th><th scope=col>z (5)</th><th scope=col>A1 (6)</th><th scope=col>S2 (7)</th><th scope=col>A2 (8)</th><th scope=col>s3 (9)</th><th scope=col>s4 (10)</th><th scope=col>s5 (11)</th><th scope=col>RHS (12)</th></tr></thead>\n",
       "<tbody>\n",
       "\t<tr><th scope=row>A (1)</th><td>1      </td><td>0      </td><td>0      </td><td>0      </td><td>  -1   </td><td>0      </td><td>  -2   </td><td>    3  </td><td>    1  </td><td>0      </td><td>0      </td><td>    -40</td></tr>\n",
       "\t<tr><th scope=row>d* (2)</th><td>0      </td><td>1      </td><td>0      </td><td>0      </td><td>4000   </td><td>0      </td><td>7500   </td><td>-7500  </td><td>-4500  </td><td>0      </td><td>0      </td><td>-225000</td></tr>\n",
       "\t<tr><th scope=row>A1 (3)</th><td>0      </td><td>0      </td><td>0      </td><td>0      </td><td>   1   </td><td>1      </td><td>   2   </td><td>   -2  </td><td>   -1  </td><td>0      </td><td>0      </td><td>     40</td></tr>\n",
       "\t<tr><th scope=row>A2 (4)</th><td>0      </td><td>0      </td><td>1      </td><td>0      </td><td>   0   </td><td>0      </td><td>  -1   </td><td>    1  </td><td>    0  </td><td>0      </td><td>0      </td><td>     30</td></tr>\n",
       "\t<tr><th scope=row>s3 (5)</th><td>0      </td><td>0      </td><td>0      </td><td>1      </td><td>   0   </td><td>0      </td><td>  -1   </td><td>    1  </td><td>    1  </td><td>0      </td><td>0      </td><td>     30</td></tr>\n",
       "\t<tr><th scope=row>s4 (6)</th><td>0      </td><td>0      </td><td>0      </td><td>0      </td><td>   2   </td><td>0      </td><td>  -1   </td><td>    1  </td><td>    1  </td><td>1      </td><td>0      </td><td>     30</td></tr>\n",
       "\t<tr><th scope=row>s5 (7)</th><td>0      </td><td>0      </td><td>0      </td><td>0      </td><td>   1   </td><td>0      </td><td>   0   </td><td>    0  </td><td>    0  </td><td>0      </td><td>1      </td><td>     10</td></tr>\n",
       "</tbody>\n",
       "</table>\n"
      ],
      "text/latex": [
       "\\begin{tabular}{r|llllllllllll}\n",
       "  & A (1) & d (2) & x (3) & y (4) & z (5) & A1 (6) & S2 (7) & A2 (8) & s3 (9) & s4 (10) & s5 (11) & RHS (12)\\\\\n",
       "\\hline\n",
       "\tA (1) & 1       & 0       & 0       & 0       &   -1    & 0       &   -2    &     3   &     1   & 0       & 0       &     -40\\\\\n",
       "\td* (2) & 0       & 1       & 0       & 0       & 4000    & 0       & 7500    & -7500   & -4500   & 0       & 0       & -225000\\\\\n",
       "\tA1 (3) & 0       & 0       & 0       & 0       &    1    & 1       &    2    &    -2   &    -1   & 0       & 0       &      40\\\\\n",
       "\tA2 (4) & 0       & 0       & 1       & 0       &    0    & 0       &   -1    &     1   &     0   & 0       & 0       &      30\\\\\n",
       "\ts3 (5) & 0       & 0       & 0       & 1       &    0    & 0       &   -1    &     1   &     1   & 0       & 0       &      30\\\\\n",
       "\ts4 (6) & 0       & 0       & 0       & 0       &    2    & 0       &   -1    &     1   &     1   & 1       & 0       &      30\\\\\n",
       "\ts5 (7) & 0       & 0       & 0       & 0       &    1    & 0       &    0    &     0   &     0   & 0       & 1       &      10\\\\\n",
       "\\end{tabular}\n"
      ],
      "text/markdown": [
       "\n",
       "| <!--/--> | A (1) | d (2) | x (3) | y (4) | z (5) | A1 (6) | S2 (7) | A2 (8) | s3 (9) | s4 (10) | s5 (11) | RHS (12) | \n",
       "|---|---|---|---|---|---|---|\n",
       "| A (1) | 1       | 0       | 0       | 0       |   -1    | 0       |   -2    |     3   |     1   | 0       | 0       |     -40 | \n",
       "| d* (2) | 0       | 1       | 0       | 0       | 4000    | 0       | 7500    | -7500   | -4500   | 0       | 0       | -225000 | \n",
       "| A1 (3) | 0       | 0       | 0       | 0       |    1    | 1       |    2    |    -2   |    -1   | 0       | 0       |      40 | \n",
       "| A2 (4) | 0       | 0       | 1       | 0       |    0    | 0       |   -1    |     1   |     0   | 0       | 0       |      30 | \n",
       "| s3 (5) | 0       | 0       | 0       | 1       |    0    | 0       |   -1    |     1   |     1   | 0       | 0       |      30 | \n",
       "| s4 (6) | 0       | 0       | 0       | 0       |    2    | 0       |   -1    |     1   |     1   | 1       | 0       |      30 | \n",
       "| s5 (7) | 0       | 0       | 0       | 0       |    1    | 0       |    0    |     0   |     0   | 0       | 1       |      10 | \n",
       "\n",
       "\n"
      ],
      "text/plain": [
       "       A (1) d (2) x (3) y (4) z (5) A1 (6) S2 (7) A2 (8) s3 (9) s4 (10)\n",
       "A (1)  1     0     0     0       -1  0        -2       3      1  0      \n",
       "d* (2) 0     1     0     0     4000  0      7500   -7500  -4500  0      \n",
       "A1 (3) 0     0     0     0        1  1         2      -2     -1  0      \n",
       "A2 (4) 0     0     1     0        0  0        -1       1      0  0      \n",
       "s3 (5) 0     0     0     1        0  0        -1       1      1  0      \n",
       "s4 (6) 0     0     0     0        2  0        -1       1      1  1      \n",
       "s5 (7) 0     0     0     0        1  0         0       0      0  0      \n",
       "       s5 (11) RHS (12)\n",
       "A (1)  0           -40 \n",
       "d* (2) 0       -225000 \n",
       "A1 (3) 0            40 \n",
       "A2 (4) 0            30 \n",
       "s3 (5) 0            30 \n",
       "s4 (6) 0            30 \n",
       "s5 (7) 1            10 "
      ]
     },
     "metadata": {},
     "output_type": "display_data"
    }
   ],
   "source": [
    "# Iteratie 3 (A)\n",
    "I3=I2\n",
    "I3[1,]=I3[1,]+I3[5,]\n",
    "I3[2,]=I3[2,]-4500*I3[5,]\n",
    "I3[3,]=I3[3,]-I3[5,]\n",
    "I3[6,]=I3[6,]+I3[5,]\n",
    "I3"
   ]
  },
  {
   "cell_type": "markdown",
   "metadata": {},
   "source": [
    "De meeste negatieve waarde is nu $S_2$, vegen geeft:"
   ]
  },
  {
   "cell_type": "code",
   "execution_count": 84,
   "metadata": {},
   "outputs": [
    {
     "data": {
      "text/html": [
       "<table>\n",
       "<thead><tr><th></th><th scope=col>A (1)</th><th scope=col>d (2)</th><th scope=col>x (3)</th><th scope=col>y (4)</th><th scope=col>z (5)</th><th scope=col>A1 (6)</th><th scope=col>S2 (7)</th><th scope=col>A2 (8)</th><th scope=col>s3 (9)</th><th scope=col>s4 (10)</th><th scope=col>s5 (11)</th><th scope=col>RHS (12)</th></tr></thead>\n",
       "<tbody>\n",
       "\t<tr><th scope=row>A (1)</th><td>1      </td><td>0      </td><td>0      </td><td>0      </td><td>  0.0  </td><td>    1.0</td><td>0      </td><td> 1     </td><td>   0.0 </td><td>0      </td><td>0      </td><td>      0</td></tr>\n",
       "\t<tr><th scope=row>d* (2)</th><td>0      </td><td>1      </td><td>0      </td><td>0      </td><td>250.0  </td><td>-3750.0</td><td>0      </td><td> 0     </td><td>-750.0 </td><td>0      </td><td>0      </td><td>-375000</td></tr>\n",
       "\t<tr><th scope=row>A1 (3)</th><td>0      </td><td>0      </td><td>0      </td><td>0      </td><td>  0.5  </td><td>    0.5</td><td>1      </td><td>-1     </td><td>  -0.5 </td><td>0      </td><td>0      </td><td>     20</td></tr>\n",
       "\t<tr><th scope=row>A2 (4)</th><td>0      </td><td>0      </td><td>1      </td><td>0      </td><td>  0.5  </td><td>    0.5</td><td>0      </td><td> 0     </td><td>  -0.5 </td><td>0      </td><td>0      </td><td>     50</td></tr>\n",
       "\t<tr><th scope=row>s3 (5)</th><td>0      </td><td>0      </td><td>0      </td><td>1      </td><td>  0.5  </td><td>    0.5</td><td>0      </td><td> 0     </td><td>   0.5 </td><td>0      </td><td>0      </td><td>     50</td></tr>\n",
       "\t<tr><th scope=row>s4 (6)</th><td>0      </td><td>0      </td><td>0      </td><td>0      </td><td>  2.5  </td><td>    0.5</td><td>0      </td><td> 0     </td><td>   0.5 </td><td>1      </td><td>0      </td><td>     50</td></tr>\n",
       "\t<tr><th scope=row>s5 (7)</th><td>0      </td><td>0      </td><td>0      </td><td>0      </td><td>  1.0  </td><td>    0.0</td><td>0      </td><td> 0     </td><td>   0.0 </td><td>0      </td><td>1      </td><td>     10</td></tr>\n",
       "</tbody>\n",
       "</table>\n"
      ],
      "text/latex": [
       "\\begin{tabular}{r|llllllllllll}\n",
       "  & A (1) & d (2) & x (3) & y (4) & z (5) & A1 (6) & S2 (7) & A2 (8) & s3 (9) & s4 (10) & s5 (11) & RHS (12)\\\\\n",
       "\\hline\n",
       "\tA (1) & 1       & 0       & 0       & 0       &   0.0   &     1.0 & 0       &  1      &    0.0  & 0       & 0       &       0\\\\\n",
       "\td* (2) & 0       & 1       & 0       & 0       & 250.0   & -3750.0 & 0       &  0      & -750.0  & 0       & 0       & -375000\\\\\n",
       "\tA1 (3) & 0       & 0       & 0       & 0       &   0.5   &     0.5 & 1       & -1      &   -0.5  & 0       & 0       &      20\\\\\n",
       "\tA2 (4) & 0       & 0       & 1       & 0       &   0.5   &     0.5 & 0       &  0      &   -0.5  & 0       & 0       &      50\\\\\n",
       "\ts3 (5) & 0       & 0       & 0       & 1       &   0.5   &     0.5 & 0       &  0      &    0.5  & 0       & 0       &      50\\\\\n",
       "\ts4 (6) & 0       & 0       & 0       & 0       &   2.5   &     0.5 & 0       &  0      &    0.5  & 1       & 0       &      50\\\\\n",
       "\ts5 (7) & 0       & 0       & 0       & 0       &   1.0   &     0.0 & 0       &  0      &    0.0  & 0       & 1       &      10\\\\\n",
       "\\end{tabular}\n"
      ],
      "text/markdown": [
       "\n",
       "| <!--/--> | A (1) | d (2) | x (3) | y (4) | z (5) | A1 (6) | S2 (7) | A2 (8) | s3 (9) | s4 (10) | s5 (11) | RHS (12) | \n",
       "|---|---|---|---|---|---|---|\n",
       "| A (1) | 1       | 0       | 0       | 0       |   0.0   |     1.0 | 0       |  1      |    0.0  | 0       | 0       |       0 | \n",
       "| d* (2) | 0       | 1       | 0       | 0       | 250.0   | -3750.0 | 0       |  0      | -750.0  | 0       | 0       | -375000 | \n",
       "| A1 (3) | 0       | 0       | 0       | 0       |   0.5   |     0.5 | 1       | -1      |   -0.5  | 0       | 0       |      20 | \n",
       "| A2 (4) | 0       | 0       | 1       | 0       |   0.5   |     0.5 | 0       |  0      |   -0.5  | 0       | 0       |      50 | \n",
       "| s3 (5) | 0       | 0       | 0       | 1       |   0.5   |     0.5 | 0       |  0      |    0.5  | 0       | 0       |      50 | \n",
       "| s4 (6) | 0       | 0       | 0       | 0       |   2.5   |     0.5 | 0       |  0      |    0.5  | 1       | 0       |      50 | \n",
       "| s5 (7) | 0       | 0       | 0       | 0       |   1.0   |     0.0 | 0       |  0      |    0.0  | 0       | 1       |      10 | \n",
       "\n",
       "\n"
      ],
      "text/plain": [
       "       A (1) d (2) x (3) y (4) z (5) A1 (6)  S2 (7) A2 (8) s3 (9) s4 (10)\n",
       "A (1)  1     0     0     0       0.0     1.0 0       1        0.0 0      \n",
       "d* (2) 0     1     0     0     250.0 -3750.0 0       0     -750.0 0      \n",
       "A1 (3) 0     0     0     0       0.5     0.5 1      -1       -0.5 0      \n",
       "A2 (4) 0     0     1     0       0.5     0.5 0       0       -0.5 0      \n",
       "s3 (5) 0     0     0     1       0.5     0.5 0       0        0.5 0      \n",
       "s4 (6) 0     0     0     0       2.5     0.5 0       0        0.5 1      \n",
       "s5 (7) 0     0     0     0       1.0     0.0 0       0        0.0 0      \n",
       "       s5 (11) RHS (12)\n",
       "A (1)  0             0 \n",
       "d* (2) 0       -375000 \n",
       "A1 (3) 0            20 \n",
       "A2 (4) 0            50 \n",
       "s3 (5) 0            50 \n",
       "s4 (6) 0            50 \n",
       "s5 (7) 1            10 "
      ]
     },
     "metadata": {},
     "output_type": "display_data"
    }
   ],
   "source": [
    "# Iteratie 4 (A)\n",
    "I4=I3\n",
    "I4[1,]=I4[1,]+I4[3,]\n",
    "I4[3,]=I4[3,]\n",
    "I4[2,]=I4[2,]-7500/2*I4[3,]\n",
    "I4[4,]=I4[4,]+1/2*I4[3,]\n",
    "I4[5,]=I4[5,]+1/2*I4[3,]\n",
    "I4[6,]=I4[6,]+1/2*I4[3,]\n",
    "I4[3,]=I4[3,]/2\n",
    "I4"
   ]
  },
  {
   "cell_type": "markdown",
   "metadata": {},
   "source": [
    "Nu zijn we klaar met de eerste fase en is $A=0$. Vervolgens gaan we verder met het optimaliseren van de doelfunctie $d^*$. Let er op dat we nu alle kolommen met $A$ en de eerste rij negeren.\n",
    "\n",
    "De meest negatieve waarde is $A_1$, maar deze kolom telt niet meer mee. De volgende waarde is $s_3$, vegen geeft:"
   ]
  },
  {
   "cell_type": "code",
   "execution_count": 85,
   "metadata": {},
   "outputs": [
    {
     "data": {
      "text/html": [
       "<table>\n",
       "<thead><tr><th></th><th scope=col>A (1)</th><th scope=col>d (2)</th><th scope=col>x (3)</th><th scope=col>y (4)</th><th scope=col>z (5)</th><th scope=col>A1 (6)</th><th scope=col>S2 (7)</th><th scope=col>A2 (8)</th><th scope=col>s3 (9)</th><th scope=col>s4 (10)</th><th scope=col>s5 (11)</th><th scope=col>RHS (12)</th></tr></thead>\n",
       "<tbody>\n",
       "\t<tr><th scope=row>A (1)</th><td>1      </td><td>0      </td><td>0      </td><td>   0   </td><td>   0.0 </td><td>    1.0</td><td>0      </td><td> 1     </td><td> 0.0   </td><td>0      </td><td>0      </td><td>      0</td></tr>\n",
       "\t<tr><th scope=row>d* (2)</th><td>0      </td><td>1      </td><td>0      </td><td>1500   </td><td>1000.0 </td><td>-3000.0</td><td>0      </td><td> 0     </td><td> 0.0   </td><td>0      </td><td>0      </td><td>-300000</td></tr>\n",
       "\t<tr><th scope=row>A1 (3)</th><td>0      </td><td>0      </td><td>0      </td><td>   0   </td><td>   0.5 </td><td>    0.5</td><td>1      </td><td>-1     </td><td>-0.5   </td><td>0      </td><td>0      </td><td>     20</td></tr>\n",
       "\t<tr><th scope=row>A2 (4)</th><td>0      </td><td>0      </td><td>1      </td><td>   0   </td><td>   0.5 </td><td>    0.5</td><td>0      </td><td> 0     </td><td>-0.5   </td><td>0      </td><td>0      </td><td>     50</td></tr>\n",
       "\t<tr><th scope=row>s3 (5)</th><td>0      </td><td>0      </td><td>0      </td><td>   2   </td><td>   1.0 </td><td>    1.0</td><td>0      </td><td> 0     </td><td> 1.0   </td><td>0      </td><td>0      </td><td>    100</td></tr>\n",
       "\t<tr><th scope=row>s4 (6)</th><td>0      </td><td>0      </td><td>0      </td><td>   0   </td><td>   2.5 </td><td>    0.5</td><td>0      </td><td> 0     </td><td> 0.5   </td><td>1      </td><td>0      </td><td>     50</td></tr>\n",
       "\t<tr><th scope=row>s5 (7)</th><td>0      </td><td>0      </td><td>0      </td><td>   0   </td><td>   1.0 </td><td>    0.0</td><td>0      </td><td> 0     </td><td> 0.0   </td><td>0      </td><td>1      </td><td>     10</td></tr>\n",
       "</tbody>\n",
       "</table>\n"
      ],
      "text/latex": [
       "\\begin{tabular}{r|llllllllllll}\n",
       "  & A (1) & d (2) & x (3) & y (4) & z (5) & A1 (6) & S2 (7) & A2 (8) & s3 (9) & s4 (10) & s5 (11) & RHS (12)\\\\\n",
       "\\hline\n",
       "\tA (1) & 1       & 0       & 0       &    0    &    0.0  &     1.0 & 0       &  1      &  0.0    & 0       & 0       &       0\\\\\n",
       "\td* (2) & 0       & 1       & 0       & 1500    & 1000.0  & -3000.0 & 0       &  0      &  0.0    & 0       & 0       & -300000\\\\\n",
       "\tA1 (3) & 0       & 0       & 0       &    0    &    0.5  &     0.5 & 1       & -1      & -0.5    & 0       & 0       &      20\\\\\n",
       "\tA2 (4) & 0       & 0       & 1       &    0    &    0.5  &     0.5 & 0       &  0      & -0.5    & 0       & 0       &      50\\\\\n",
       "\ts3 (5) & 0       & 0       & 0       &    2    &    1.0  &     1.0 & 0       &  0      &  1.0    & 0       & 0       &     100\\\\\n",
       "\ts4 (6) & 0       & 0       & 0       &    0    &    2.5  &     0.5 & 0       &  0      &  0.5    & 1       & 0       &      50\\\\\n",
       "\ts5 (7) & 0       & 0       & 0       &    0    &    1.0  &     0.0 & 0       &  0      &  0.0    & 0       & 1       &      10\\\\\n",
       "\\end{tabular}\n"
      ],
      "text/markdown": [
       "\n",
       "| <!--/--> | A (1) | d (2) | x (3) | y (4) | z (5) | A1 (6) | S2 (7) | A2 (8) | s3 (9) | s4 (10) | s5 (11) | RHS (12) | \n",
       "|---|---|---|---|---|---|---|\n",
       "| A (1) | 1       | 0       | 0       |    0    |    0.0  |     1.0 | 0       |  1      |  0.0    | 0       | 0       |       0 | \n",
       "| d* (2) | 0       | 1       | 0       | 1500    | 1000.0  | -3000.0 | 0       |  0      |  0.0    | 0       | 0       | -300000 | \n",
       "| A1 (3) | 0       | 0       | 0       |    0    |    0.5  |     0.5 | 1       | -1      | -0.5    | 0       | 0       |      20 | \n",
       "| A2 (4) | 0       | 0       | 1       |    0    |    0.5  |     0.5 | 0       |  0      | -0.5    | 0       | 0       |      50 | \n",
       "| s3 (5) | 0       | 0       | 0       |    2    |    1.0  |     1.0 | 0       |  0      |  1.0    | 0       | 0       |     100 | \n",
       "| s4 (6) | 0       | 0       | 0       |    0    |    2.5  |     0.5 | 0       |  0      |  0.5    | 1       | 0       |      50 | \n",
       "| s5 (7) | 0       | 0       | 0       |    0    |    1.0  |     0.0 | 0       |  0      |  0.0    | 0       | 1       |      10 | \n",
       "\n",
       "\n"
      ],
      "text/plain": [
       "       A (1) d (2) x (3) y (4) z (5)  A1 (6)  S2 (7) A2 (8) s3 (9) s4 (10)\n",
       "A (1)  1     0     0        0     0.0     1.0 0       1      0.0   0      \n",
       "d* (2) 0     1     0     1500  1000.0 -3000.0 0       0      0.0   0      \n",
       "A1 (3) 0     0     0        0     0.5     0.5 1      -1     -0.5   0      \n",
       "A2 (4) 0     0     1        0     0.5     0.5 0       0     -0.5   0      \n",
       "s3 (5) 0     0     0        2     1.0     1.0 0       0      1.0   0      \n",
       "s4 (6) 0     0     0        0     2.5     0.5 0       0      0.5   1      \n",
       "s5 (7) 0     0     0        0     1.0     0.0 0       0      0.0   0      \n",
       "       s5 (11) RHS (12)\n",
       "A (1)  0             0 \n",
       "d* (2) 0       -300000 \n",
       "A1 (3) 0            20 \n",
       "A2 (4) 0            50 \n",
       "s3 (5) 0           100 \n",
       "s4 (6) 0            50 \n",
       "s5 (7) 1            10 "
      ]
     },
     "metadata": {},
     "output_type": "display_data"
    }
   ],
   "source": [
    "# Iteratie 1 (d*)\n",
    "I5=I4\n",
    "I5[5,]=I5[5,]*2\n",
    "I5[2,]=I5[2,]+I5[5,]*750\n",
    "I5"
   ]
  },
  {
   "cell_type": "markdown",
   "metadata": {},
   "source": [
    "Alle getallen in de rij $d^*$ zijn nu positief, we zijn dus klaar. De rechterkant is nu $-300.000$ en als we $d^*=-d$ toepassen (het was een minimalisatieprobleem), dan is de minimale waarde $300.000$.\n",
    "\n",
    "# Oplossing\n",
    "\n",
    "De oplossing is $(x,y,z)=(0,1500,1000)$ met een minimale waarde van $€300.000$."
   ]
  },
  {
   "cell_type": "code",
   "execution_count": null,
   "metadata": {},
   "outputs": [],
   "source": []
  }
 ],
 "metadata": {
  "kernelspec": {
   "display_name": "R",
   "language": "R",
   "name": "ir"
  },
  "language_info": {
   "codemirror_mode": "r",
   "file_extension": ".r",
   "mimetype": "text/x-r-source",
   "name": "R",
   "pygments_lexer": "r",
   "version": "3.4.4"
  }
 },
 "nbformat": 4,
 "nbformat_minor": 2
}
