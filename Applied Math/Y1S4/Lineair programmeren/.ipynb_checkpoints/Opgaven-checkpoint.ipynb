{
 "cells": [
  {
   "cell_type": "markdown",
   "metadata": {},
   "source": [
    "# Opgave 27"
   ]
  },
  {
   "cell_type": "markdown",
   "metadata": {},
   "source": [
    "## Probleem"
   ]
  },
  {
   "cell_type": "markdown",
   "metadata": {},
   "source": [
    "We hebben het volgende lineaire programmeermodel:"
   ]
  },
  {
   "cell_type": "markdown",
   "metadata": {},
   "source": [
    "* $\\text{max } 3x+2y$\n",
    "* $x+y \\leq 16$\n",
    "* $2x+y \\leq 20$\n",
    "\n",
    "De te maximaliseren doelfunctie $3x+2y$ noemen we $d$. Dus de doelfunctie $d=3x+2y$, oftewel \n",
    "\n",
    "$$\\tag{1} d-3x-2y=0$$\n",
    "\n",
    "De $\\leq$ beperking schrijven we als vergelijking met _spelingsvariabelen_."
   ]
  },
  {
   "cell_type": "markdown",
   "metadata": {},
   "source": [
    "We krijgen dan het volgende stelsel met vergelijkingen:\n",
    "\n",
    "$$ \\tag{2} \\begin{cases} d-3x-2y&=0 \\\\ x + y + s_1 &= 16 \\\\ 2x + y + s_2 &= 20 \\end{cases} $$"
   ]
  },
  {
   "cell_type": "markdown",
   "metadata": {},
   "source": [
    "Dit kunnen we noteren met de volgende matrix:\n",
    "\n",
    "$$ \\tag{3} \\begin{bmatrix} 1 & -3 & -2 & 0 & 0 \\\\ 0 & 1 & 1 & 1 & 0 \\\\ 0 & 2 & 1 & 0 & 1 \\end{bmatrix} = \\begin{bmatrix}0\\\\16\\\\20\\end{bmatrix}$$"
   ]
  },
  {
   "cell_type": "markdown",
   "metadata": {},
   "source": [
    "## Simplex tableau"
   ]
  },
  {
   "cell_type": "markdown",
   "metadata": {},
   "source": [
    "Als we het model omzetten naar een Simplex tableau krijgen we:"
   ]
  },
  {
   "cell_type": "code",
   "execution_count": 22,
   "metadata": {},
   "outputs": [
    {
     "data": {
      "text/html": [
       "<table>\n",
       "<thead><tr><th></th><th scope=col>d</th><th scope=col>x</th><th scope=col>y</th><th scope=col>s1</th><th scope=col>s2</th><th scope=col>RHS</th></tr></thead>\n",
       "<tbody>\n",
       "\t<tr><th scope=row>d</th><td>1 </td><td>-3</td><td>-2</td><td>0 </td><td>0 </td><td> 0</td></tr>\n",
       "\t<tr><th scope=row>s1</th><td>0 </td><td> 1</td><td> 1</td><td>1 </td><td>0 </td><td>16</td></tr>\n",
       "\t<tr><th scope=row>s2</th><td>0 </td><td> 2</td><td> 1</td><td>0 </td><td>1 </td><td>20</td></tr>\n",
       "</tbody>\n",
       "</table>\n"
      ],
      "text/latex": [
       "\\begin{tabular}{r|llllll}\n",
       "  & d & x & y & s1 & s2 & RHS\\\\\n",
       "\\hline\n",
       "\td & 1  & -3 & -2 & 0  & 0  &  0\\\\\n",
       "\ts1 & 0  &  1 &  1 & 1  & 0  & 16\\\\\n",
       "\ts2 & 0  &  2 &  1 & 0  & 1  & 20\\\\\n",
       "\\end{tabular}\n"
      ],
      "text/markdown": [
       "\n",
       "| <!--/--> | d | x | y | s1 | s2 | RHS | \n",
       "|---|---|---|\n",
       "| d | 1  | -3 | -2 | 0  | 0  |  0 | \n",
       "| s1 | 0  |  1 |  1 | 1  | 0  | 16 | \n",
       "| s2 | 0  |  2 |  1 | 0  | 1  | 20 | \n",
       "\n",
       "\n"
      ],
      "text/plain": [
       "   d x  y  s1 s2 RHS\n",
       "d  1 -3 -2 0  0   0 \n",
       "s1 0  1  1 1  0  16 \n",
       "s2 0  2  1 0  1  20 "
      ]
     },
     "metadata": {},
     "output_type": "display_data"
    }
   ],
   "source": [
    "d = c(1,0,0)\n",
    "x = c(-3, 1, 2)\n",
    "y = c(-2, 1, 1)\n",
    "s1 = c(0, 1, 0)\n",
    "s2 = c(0, 0, 1)\n",
    "RHS = c(0, 16, 20)\n",
    "M = cbind(d,x,y,s1,s2,RHS)\n",
    "rownames(M) = c('d', 's1', 's2')\n",
    "M"
   ]
  },
  {
   "cell_type": "markdown",
   "metadata": {},
   "source": [
    "Eerst vegen we de kolom voor de $x$ variabele:"
   ]
  },
  {
   "cell_type": "code",
   "execution_count": 23,
   "metadata": {},
   "outputs": [
    {
     "data": {
      "text/html": [
       "<table>\n",
       "<thead><tr><th></th><th scope=col>d</th><th scope=col>x</th><th scope=col>y</th><th scope=col>s1</th><th scope=col>s2</th><th scope=col>RHS</th></tr></thead>\n",
       "<tbody>\n",
       "\t<tr><th scope=row>d</th><td>1  </td><td>0  </td><td> 0 </td><td> 1 </td><td>1  </td><td> 36</td></tr>\n",
       "\t<tr><th scope=row>x</th><td>0  </td><td>1  </td><td> 1 </td><td> 1 </td><td>0  </td><td> 16</td></tr>\n",
       "\t<tr><th scope=row>s2</th><td>0  </td><td>0  </td><td>-1 </td><td>-2 </td><td>1  </td><td>-12</td></tr>\n",
       "</tbody>\n",
       "</table>\n"
      ],
      "text/latex": [
       "\\begin{tabular}{r|llllll}\n",
       "  & d & x & y & s1 & s2 & RHS\\\\\n",
       "\\hline\n",
       "\td & 1   & 0   &  0  &  1  & 1   &  36\\\\\n",
       "\tx & 0   & 1   &  1  &  1  & 0   &  16\\\\\n",
       "\ts2 & 0   & 0   & -1  & -2  & 1   & -12\\\\\n",
       "\\end{tabular}\n"
      ],
      "text/markdown": [
       "\n",
       "| <!--/--> | d | x | y | s1 | s2 | RHS | \n",
       "|---|---|---|\n",
       "| d | 1   | 0   |  0  |  1  | 1   |  36 | \n",
       "| x | 0   | 1   |  1  |  1  | 0   |  16 | \n",
       "| s2 | 0   | 0   | -1  | -2  | 1   | -12 | \n",
       "\n",
       "\n"
      ],
      "text/plain": [
       "   d x y  s1 s2 RHS\n",
       "d  1 0  0  1 1   36\n",
       "x  0 1  1  1 0   16\n",
       "s2 0 0 -1 -2 1  -12"
      ]
     },
     "metadata": {},
     "output_type": "display_data"
    }
   ],
   "source": [
    "M[1,] = M[1,] + M[3,]\n",
    "M[1,] = M[1,] + M[2,]\n",
    "M[3,] = M[3,] - 2*M[2,]\n",
    "rownames(M) = c('d', 'x', 's2')\n",
    "M"
   ]
  },
  {
   "cell_type": "markdown",
   "metadata": {},
   "source": [
    "Vervolgens vegen we de kolom voor de $y$ variabele:"
   ]
  },
  {
   "cell_type": "code",
   "execution_count": 24,
   "metadata": {},
   "outputs": [
    {
     "data": {
      "text/html": [
       "<table>\n",
       "<thead><tr><th></th><th scope=col>d</th><th scope=col>x</th><th scope=col>y</th><th scope=col>s1</th><th scope=col>s2</th><th scope=col>RHS</th></tr></thead>\n",
       "<tbody>\n",
       "\t<tr><th scope=row>d</th><td>1 </td><td>0 </td><td>0 </td><td> 1</td><td> 1</td><td>36</td></tr>\n",
       "\t<tr><th scope=row>x</th><td>0 </td><td>1 </td><td>0 </td><td>-1</td><td> 1</td><td> 4</td></tr>\n",
       "\t<tr><th scope=row>y</th><td>0 </td><td>0 </td><td>1 </td><td> 2</td><td>-1</td><td>12</td></tr>\n",
       "</tbody>\n",
       "</table>\n"
      ],
      "text/latex": [
       "\\begin{tabular}{r|llllll}\n",
       "  & d & x & y & s1 & s2 & RHS\\\\\n",
       "\\hline\n",
       "\td & 1  & 0  & 0  &  1 &  1 & 36\\\\\n",
       "\tx & 0  & 1  & 0  & -1 &  1 &  4\\\\\n",
       "\ty & 0  & 0  & 1  &  2 & -1 & 12\\\\\n",
       "\\end{tabular}\n"
      ],
      "text/markdown": [
       "\n",
       "| <!--/--> | d | x | y | s1 | s2 | RHS | \n",
       "|---|---|---|\n",
       "| d | 1  | 0  | 0  |  1 |  1 | 36 | \n",
       "| x | 0  | 1  | 0  | -1 |  1 |  4 | \n",
       "| y | 0  | 0  | 1  |  2 | -1 | 12 | \n",
       "\n",
       "\n"
      ],
      "text/plain": [
       "  d x y s1 s2 RHS\n",
       "d 1 0 0  1  1 36 \n",
       "x 0 1 0 -1  1  4 \n",
       "y 0 0 1  2 -1 12 "
      ]
     },
     "metadata": {},
     "output_type": "display_data"
    }
   ],
   "source": [
    "M[3,] = -1*M[3,]\n",
    "M[2,] = M[2,] - M[3,]\n",
    "rownames(M) = c('d', 'x', 'y')\n",
    "M"
   ]
  },
  {
   "cell_type": "markdown",
   "metadata": {},
   "source": [
    "Nu zijn we klaar en kunnen we de oplossing aflezen uit het tableau."
   ]
  },
  {
   "cell_type": "markdown",
   "metadata": {},
   "source": [
    "## Oplossing"
   ]
  },
  {
   "cell_type": "markdown",
   "metadata": {},
   "source": [
    "De optimale oplossing is $(4,12)$ met een winst van $\\text{€}36$."
   ]
  },
  {
   "cell_type": "markdown",
   "metadata": {},
   "source": [
    "## Opmerkingen"
   ]
  },
  {
   "cell_type": "markdown",
   "metadata": {},
   "source": [
    " * Bij het vegen zoeken we eerst altijd naar het sterkst negatieve getal in rij 0. Zijn er meerdere dan wordt standaard het eerste getal van die rij gekozen.\n",
    " * Vegen doe je altijd met een positief getal."
   ]
  },
  {
   "cell_type": "markdown",
   "metadata": {},
   "source": [
    "# Opgave 28"
   ]
  },
  {
   "cell_type": "code",
   "execution_count": null,
   "metadata": {},
   "outputs": [],
   "source": []
  }
 ],
 "metadata": {
  "kernelspec": {
   "display_name": "R",
   "language": "R",
   "name": "ir"
  },
  "language_info": {
   "codemirror_mode": "r",
   "file_extension": ".r",
   "mimetype": "text/x-r-source",
   "name": "R",
   "pygments_lexer": "r",
   "version": "3.4.4"
  }
 },
 "nbformat": 4,
 "nbformat_minor": 2
}
