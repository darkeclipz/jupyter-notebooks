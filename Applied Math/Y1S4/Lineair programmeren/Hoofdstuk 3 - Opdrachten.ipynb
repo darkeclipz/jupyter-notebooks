{
 "cells": [
  {
   "cell_type": "markdown",
   "metadata": {},
   "source": [
    "# Opgave 27"
   ]
  },
  {
   "cell_type": "markdown",
   "metadata": {},
   "source": [
    "## Probleem"
   ]
  },
  {
   "cell_type": "markdown",
   "metadata": {},
   "source": [
    "We hebben het volgende lineaire programmeermodel:"
   ]
  },
  {
   "cell_type": "markdown",
   "metadata": {},
   "source": [
    "* $\\text{max } 3x+2y$\n",
    "* $x+y \\leq 16$\n",
    "* $2x+y \\leq 20$\n",
    "\n",
    "De te maximaliseren doelfunctie $3x+2y$ noemen we $d$. Dus de doelfunctie $d=3x+2y$, oftewel \n",
    "\n",
    "$$\\tag{1} d-3x-2y=0$$\n",
    "\n",
    "De $\\leq$ beperking schrijven we als vergelijking met _spelingsvariabelen_."
   ]
  },
  {
   "cell_type": "markdown",
   "metadata": {},
   "source": [
    "We krijgen dan het volgende stelsel met vergelijkingen:\n",
    "\n",
    "$$ \\tag{2} \\begin{cases} d-3x-2y&=0 \\\\ x + y + s_1 &= 16 \\\\ 2x + y + s_2 &= 20 \\end{cases} $$"
   ]
  },
  {
   "cell_type": "markdown",
   "metadata": {},
   "source": [
    "Dit kunnen we noteren met de volgende matrix:\n",
    "\n",
    "$$ \\tag{3} \\begin{bmatrix} 1 & -3 & -2 & 0 & 0 \\\\ 0 & 1 & 1 & 1 & 0 \\\\ 0 & 2 & 1 & 0 & 1 \\end{bmatrix} = \\begin{bmatrix}0\\\\16\\\\20\\end{bmatrix}$$"
   ]
  },
  {
   "cell_type": "markdown",
   "metadata": {},
   "source": [
    "## Simplex tableau"
   ]
  },
  {
   "cell_type": "markdown",
   "metadata": {},
   "source": [
    "Als we het model omzetten naar een Simplex tableau krijgen we:"
   ]
  },
  {
   "cell_type": "code",
   "execution_count": 22,
   "metadata": {},
   "outputs": [
    {
     "data": {
      "text/html": [
       "<table>\n",
       "<thead><tr><th></th><th scope=col>d</th><th scope=col>x</th><th scope=col>y</th><th scope=col>s1</th><th scope=col>s2</th><th scope=col>RHS</th></tr></thead>\n",
       "<tbody>\n",
       "\t<tr><th scope=row>d</th><td>1 </td><td>-3</td><td>-2</td><td>0 </td><td>0 </td><td> 0</td></tr>\n",
       "\t<tr><th scope=row>s1</th><td>0 </td><td> 1</td><td> 1</td><td>1 </td><td>0 </td><td>16</td></tr>\n",
       "\t<tr><th scope=row>s2</th><td>0 </td><td> 2</td><td> 1</td><td>0 </td><td>1 </td><td>20</td></tr>\n",
       "</tbody>\n",
       "</table>\n"
      ],
      "text/latex": [
       "\\begin{tabular}{r|llllll}\n",
       "  & d & x & y & s1 & s2 & RHS\\\\\n",
       "\\hline\n",
       "\td & 1  & -3 & -2 & 0  & 0  &  0\\\\\n",
       "\ts1 & 0  &  1 &  1 & 1  & 0  & 16\\\\\n",
       "\ts2 & 0  &  2 &  1 & 0  & 1  & 20\\\\\n",
       "\\end{tabular}\n"
      ],
      "text/markdown": [
       "\n",
       "| <!--/--> | d | x | y | s1 | s2 | RHS | \n",
       "|---|---|---|\n",
       "| d | 1  | -3 | -2 | 0  | 0  |  0 | \n",
       "| s1 | 0  |  1 |  1 | 1  | 0  | 16 | \n",
       "| s2 | 0  |  2 |  1 | 0  | 1  | 20 | \n",
       "\n",
       "\n"
      ],
      "text/plain": [
       "   d x  y  s1 s2 RHS\n",
       "d  1 -3 -2 0  0   0 \n",
       "s1 0  1  1 1  0  16 \n",
       "s2 0  2  1 0  1  20 "
      ]
     },
     "metadata": {},
     "output_type": "display_data"
    }
   ],
   "source": [
    "d = c(1,0,0)\n",
    "x = c(-3, 1, 2)\n",
    "y = c(-2, 1, 1)\n",
    "s1 = c(0, 1, 0)\n",
    "s2 = c(0, 0, 1)\n",
    "RHS = c(0, 16, 20)\n",
    "M = cbind(d,x,y,s1,s2,RHS)\n",
    "rownames(M) = c('d', 's1', 's2')\n",
    "M"
   ]
  },
  {
   "cell_type": "markdown",
   "metadata": {},
   "source": [
    "Eerst vegen we de kolom voor de $x$ variabele:"
   ]
  },
  {
   "cell_type": "code",
   "execution_count": 23,
   "metadata": {},
   "outputs": [
    {
     "data": {
      "text/html": [
       "<table>\n",
       "<thead><tr><th></th><th scope=col>d</th><th scope=col>x</th><th scope=col>y</th><th scope=col>s1</th><th scope=col>s2</th><th scope=col>RHS</th></tr></thead>\n",
       "<tbody>\n",
       "\t<tr><th scope=row>d</th><td>1  </td><td>0  </td><td> 0 </td><td> 1 </td><td>1  </td><td> 36</td></tr>\n",
       "\t<tr><th scope=row>x</th><td>0  </td><td>1  </td><td> 1 </td><td> 1 </td><td>0  </td><td> 16</td></tr>\n",
       "\t<tr><th scope=row>s2</th><td>0  </td><td>0  </td><td>-1 </td><td>-2 </td><td>1  </td><td>-12</td></tr>\n",
       "</tbody>\n",
       "</table>\n"
      ],
      "text/latex": [
       "\\begin{tabular}{r|llllll}\n",
       "  & d & x & y & s1 & s2 & RHS\\\\\n",
       "\\hline\n",
       "\td & 1   & 0   &  0  &  1  & 1   &  36\\\\\n",
       "\tx & 0   & 1   &  1  &  1  & 0   &  16\\\\\n",
       "\ts2 & 0   & 0   & -1  & -2  & 1   & -12\\\\\n",
       "\\end{tabular}\n"
      ],
      "text/markdown": [
       "\n",
       "| <!--/--> | d | x | y | s1 | s2 | RHS | \n",
       "|---|---|---|\n",
       "| d | 1   | 0   |  0  |  1  | 1   |  36 | \n",
       "| x | 0   | 1   |  1  |  1  | 0   |  16 | \n",
       "| s2 | 0   | 0   | -1  | -2  | 1   | -12 | \n",
       "\n",
       "\n"
      ],
      "text/plain": [
       "   d x y  s1 s2 RHS\n",
       "d  1 0  0  1 1   36\n",
       "x  0 1  1  1 0   16\n",
       "s2 0 0 -1 -2 1  -12"
      ]
     },
     "metadata": {},
     "output_type": "display_data"
    }
   ],
   "source": [
    "M[1,] = M[1,] + M[3,]\n",
    "M[1,] = M[1,] + M[2,]\n",
    "M[3,] = M[3,] - 2*M[2,]\n",
    "rownames(M) = c('d', 'x', 's2')\n",
    "M"
   ]
  },
  {
   "cell_type": "markdown",
   "metadata": {},
   "source": [
    "Vervolgens vegen we de kolom voor de $y$ variabele:"
   ]
  },
  {
   "cell_type": "code",
   "execution_count": 24,
   "metadata": {},
   "outputs": [
    {
     "data": {
      "text/html": [
       "<table>\n",
       "<thead><tr><th></th><th scope=col>d</th><th scope=col>x</th><th scope=col>y</th><th scope=col>s1</th><th scope=col>s2</th><th scope=col>RHS</th></tr></thead>\n",
       "<tbody>\n",
       "\t<tr><th scope=row>d</th><td>1 </td><td>0 </td><td>0 </td><td> 1</td><td> 1</td><td>36</td></tr>\n",
       "\t<tr><th scope=row>x</th><td>0 </td><td>1 </td><td>0 </td><td>-1</td><td> 1</td><td> 4</td></tr>\n",
       "\t<tr><th scope=row>y</th><td>0 </td><td>0 </td><td>1 </td><td> 2</td><td>-1</td><td>12</td></tr>\n",
       "</tbody>\n",
       "</table>\n"
      ],
      "text/latex": [
       "\\begin{tabular}{r|llllll}\n",
       "  & d & x & y & s1 & s2 & RHS\\\\\n",
       "\\hline\n",
       "\td & 1  & 0  & 0  &  1 &  1 & 36\\\\\n",
       "\tx & 0  & 1  & 0  & -1 &  1 &  4\\\\\n",
       "\ty & 0  & 0  & 1  &  2 & -1 & 12\\\\\n",
       "\\end{tabular}\n"
      ],
      "text/markdown": [
       "\n",
       "| <!--/--> | d | x | y | s1 | s2 | RHS | \n",
       "|---|---|---|\n",
       "| d | 1  | 0  | 0  |  1 |  1 | 36 | \n",
       "| x | 0  | 1  | 0  | -1 |  1 |  4 | \n",
       "| y | 0  | 0  | 1  |  2 | -1 | 12 | \n",
       "\n",
       "\n"
      ],
      "text/plain": [
       "  d x y s1 s2 RHS\n",
       "d 1 0 0  1  1 36 \n",
       "x 0 1 0 -1  1  4 \n",
       "y 0 0 1  2 -1 12 "
      ]
     },
     "metadata": {},
     "output_type": "display_data"
    }
   ],
   "source": [
    "M[3,] = -1*M[3,]\n",
    "M[2,] = M[2,] - M[3,]\n",
    "rownames(M) = c('d', 'x', 'y')\n",
    "M"
   ]
  },
  {
   "cell_type": "markdown",
   "metadata": {},
   "source": [
    "Nu zijn we klaar en kunnen we de oplossing aflezen uit het tableau."
   ]
  },
  {
   "cell_type": "markdown",
   "metadata": {},
   "source": [
    "## Oplossing"
   ]
  },
  {
   "cell_type": "markdown",
   "metadata": {},
   "source": [
    "De optimale oplossing is $(4,12)$ met een winst van $\\text{€}36$."
   ]
  },
  {
   "cell_type": "markdown",
   "metadata": {},
   "source": [
    "## Opmerkingen"
   ]
  },
  {
   "cell_type": "markdown",
   "metadata": {},
   "source": [
    " * Bij het vegen zoeken we eerst altijd naar het sterkst negatieve getal in rij 0. Zijn er meerdere dan wordt standaard het eerste getal van die rij gekozen.\n",
    " * Vegen doe je altijd met een positief getal."
   ]
  },
  {
   "cell_type": "markdown",
   "metadata": {},
   "source": [
    "# Opgave 28"
   ]
  },
  {
   "cell_type": "markdown",
   "metadata": {},
   "source": [
    "We hebben het onderstaande model:\n",
    "\n",
    " * $\\max 50x + 200y + 300z$\n",
    " * $\\frac{1}{2}x + y + z \\leq 13$\n",
    " * $y+2z \\leq 18$\n",
    " * $x \\leq 15$\n",
    " * $y \\leq 10$\n",
    " * $z \\leq 8$"
   ]
  },
  {
   "cell_type": "markdown",
   "metadata": {},
   "source": [
    "Bovengenoemd model gaan we eerst omzetten naar de canonieke vorm. We stellen eerst de doelfunctie op:\n",
    "\n",
    "$$ d = 50x + 200y + 300z \\iff \\tag{0} d-50x-200y-300z=0$$"
   ]
  },
  {
   "cell_type": "markdown",
   "metadata": {},
   "source": [
    "Het gehele model omgezet naar de canonieke vorm geeft:\n",
    "\n",
    "$$ \\begin{cases} d - 50x - 200y - 300z = 0 \\\\ \\frac{1}{2}x + y + z + s_1 = 13 \\\\ y + 2z + s_2 = 18 \\\\ x + s_3 = 15 \\\\ y + s_4 = 10 \\\\ z + s_5 = 8 \\end{cases} $$"
   ]
  },
  {
   "cell_type": "markdown",
   "metadata": {},
   "source": [
    "Als we beginnen in punt $(0,0,0)$, dan kunnen we zien dat $d=0$, $s_1=13$, $s_2=18$, $s_3 = 15$, $s_4 = 10$ en $s_5 = 8$. Vervolgens kunnen we het Simplex tableau invullen:"
   ]
  },
  {
   "cell_type": "code",
   "execution_count": 4,
   "metadata": {},
   "outputs": [
    {
     "data": {
      "text/html": [
       "<table>\n",
       "<thead><tr><th></th><th scope=col>d</th><th scope=col>x</th><th scope=col>y</th><th scope=col>z</th><th scope=col>s1</th><th scope=col>s2</th><th scope=col>s3</th><th scope=col>s4</th><th scope=col>s5</th><th scope=col>RHS</th></tr></thead>\n",
       "<tbody>\n",
       "\t<tr><th scope=row>d</th><td>1    </td><td>-50.0</td><td>-200 </td><td>-300 </td><td>0    </td><td>0    </td><td>0    </td><td>0    </td><td>0    </td><td> 0   </td></tr>\n",
       "\t<tr><th scope=row>s1</th><td>0    </td><td>  0.5</td><td>   1 </td><td>   1 </td><td>1    </td><td>0    </td><td>0    </td><td>0    </td><td>0    </td><td>13   </td></tr>\n",
       "\t<tr><th scope=row>s2</th><td>0    </td><td>  0.0</td><td>   1 </td><td>   2 </td><td>0    </td><td>1    </td><td>0    </td><td>0    </td><td>0    </td><td>18   </td></tr>\n",
       "\t<tr><th scope=row>s3</th><td>0    </td><td>  1.0</td><td>   0 </td><td>   0 </td><td>0    </td><td>0    </td><td>1    </td><td>0    </td><td>0    </td><td>15   </td></tr>\n",
       "\t<tr><th scope=row>s4</th><td>0    </td><td>  0.0</td><td>   1 </td><td>   0 </td><td>0    </td><td>0    </td><td>0    </td><td>1    </td><td>0    </td><td>10   </td></tr>\n",
       "\t<tr><th scope=row>s5</th><td>0    </td><td>  0.0</td><td>   0 </td><td>   1 </td><td>0    </td><td>0    </td><td>0    </td><td>0    </td><td>1    </td><td> 8   </td></tr>\n",
       "</tbody>\n",
       "</table>\n"
      ],
      "text/latex": [
       "\\begin{tabular}{r|llllllllll}\n",
       "  & d & x & y & z & s1 & s2 & s3 & s4 & s5 & RHS\\\\\n",
       "\\hline\n",
       "\td & 1     & -50.0 & -200  & -300  & 0     & 0     & 0     & 0     & 0     &  0   \\\\\n",
       "\ts1 & 0     &   0.5 &    1  &    1  & 1     & 0     & 0     & 0     & 0     & 13   \\\\\n",
       "\ts2 & 0     &   0.0 &    1  &    2  & 0     & 1     & 0     & 0     & 0     & 18   \\\\\n",
       "\ts3 & 0     &   1.0 &    0  &    0  & 0     & 0     & 1     & 0     & 0     & 15   \\\\\n",
       "\ts4 & 0     &   0.0 &    1  &    0  & 0     & 0     & 0     & 1     & 0     & 10   \\\\\n",
       "\ts5 & 0     &   0.0 &    0  &    1  & 0     & 0     & 0     & 0     & 1     &  8   \\\\\n",
       "\\end{tabular}\n"
      ],
      "text/markdown": [
       "\n",
       "| <!--/--> | d | x | y | z | s1 | s2 | s3 | s4 | s5 | RHS | \n",
       "|---|---|---|---|---|---|\n",
       "| d | 1     | -50.0 | -200  | -300  | 0     | 0     | 0     | 0     | 0     |  0    | \n",
       "| s1 | 0     |   0.5 |    1  |    1  | 1     | 0     | 0     | 0     | 0     | 13    | \n",
       "| s2 | 0     |   0.0 |    1  |    2  | 0     | 1     | 0     | 0     | 0     | 18    | \n",
       "| s3 | 0     |   1.0 |    0  |    0  | 0     | 0     | 1     | 0     | 0     | 15    | \n",
       "| s4 | 0     |   0.0 |    1  |    0  | 0     | 0     | 0     | 1     | 0     | 10    | \n",
       "| s5 | 0     |   0.0 |    0  |    1  | 0     | 0     | 0     | 0     | 1     |  8    | \n",
       "\n",
       "\n"
      ],
      "text/plain": [
       "   d x     y    z    s1 s2 s3 s4 s5 RHS\n",
       "d  1 -50.0 -200 -300 0  0  0  0  0   0 \n",
       "s1 0   0.5    1    1 1  0  0  0  0  13 \n",
       "s2 0   0.0    1    2 0  1  0  0  0  18 \n",
       "s3 0   1.0    0    0 0  0  1  0  0  15 \n",
       "s4 0   0.0    1    0 0  0  0  1  0  10 \n",
       "s5 0   0.0    0    1 0  0  0  0  1   8 "
      ]
     },
     "metadata": {},
     "output_type": "display_data"
    }
   ],
   "source": [
    "d = c(1,0,0,0,0,0)\n",
    "x = c(-50, 1/2, 0, 1, 0, 0)\n",
    "y = c(-200, 1, 1, 0, 1, 0)\n",
    "z = c(-300, 1, 2, 0, 0, 1)\n",
    "s1 = c(0, 1, 0, 0, 0 ,0)\n",
    "s2 = c(0, 0, 1, 0, 0, 0)\n",
    "s3 = c(0, 0, 0, 1, 0, 0)\n",
    "s4 = c(0, 0, 0, 0, 1, 0)\n",
    "s5 = c(0, 0, 0, 0, 0, 1)\n",
    "RHS = c(0, 13, 18, 15, 10, 8)\n",
    "M = cbind(d,x,y,z,s1,s2,s3,s4,s5,RHS)\n",
    "rownames(M) = c('d', 's1', 's2', 's3', 's4', 's5')\n",
    "M"
   ]
  },
  {
   "cell_type": "markdown",
   "metadata": {},
   "source": [
    "We kunnen zien dat we $d$ het meest kunnen verhogen met $z$, want $z=-300$. We kiezen dus voor kolom $z$. Vervolgens zien we dat de laagste restrictie $s_5$ is, dit zegt dat $z\\leq 8$. We kiezen dit element als pivot om mee te vegen. Hiervoor voeren we de volgende operaties uit:"
   ]
  },
  {
   "cell_type": "code",
   "execution_count": 5,
   "metadata": {},
   "outputs": [
    {
     "data": {
      "text/html": [
       "<table>\n",
       "<thead><tr><th></th><th scope=col>d</th><th scope=col>x</th><th scope=col>y</th><th scope=col>z</th><th scope=col>s1</th><th scope=col>s2</th><th scope=col>s3</th><th scope=col>s4</th><th scope=col>s5</th><th scope=col>RHS</th></tr></thead>\n",
       "<tbody>\n",
       "\t<tr><th scope=row>d</th><td>1    </td><td>-50.0</td><td>-200 </td><td>0    </td><td>0    </td><td>0    </td><td>0    </td><td>0    </td><td>300  </td><td>2400 </td></tr>\n",
       "\t<tr><th scope=row>s1</th><td>0    </td><td>  0.5</td><td>   1 </td><td>0    </td><td>1    </td><td>0    </td><td>0    </td><td>0    </td><td> -1  </td><td>   5 </td></tr>\n",
       "\t<tr><th scope=row>s2</th><td>0    </td><td>  0.0</td><td>   1 </td><td>0    </td><td>0    </td><td>1    </td><td>0    </td><td>0    </td><td> -2  </td><td>   2 </td></tr>\n",
       "\t<tr><th scope=row>s3</th><td>0    </td><td>  1.0</td><td>   0 </td><td>0    </td><td>0    </td><td>0    </td><td>1    </td><td>0    </td><td>  0  </td><td>  15 </td></tr>\n",
       "\t<tr><th scope=row>s4</th><td>0    </td><td>  0.0</td><td>   1 </td><td>0    </td><td>0    </td><td>0    </td><td>0    </td><td>1    </td><td>  0  </td><td>  10 </td></tr>\n",
       "\t<tr><th scope=row>z</th><td>0    </td><td>  0.0</td><td>   0 </td><td>1    </td><td>0    </td><td>0    </td><td>0    </td><td>0    </td><td>  1  </td><td>   8 </td></tr>\n",
       "</tbody>\n",
       "</table>\n"
      ],
      "text/latex": [
       "\\begin{tabular}{r|llllllllll}\n",
       "  & d & x & y & z & s1 & s2 & s3 & s4 & s5 & RHS\\\\\n",
       "\\hline\n",
       "\td & 1     & -50.0 & -200  & 0     & 0     & 0     & 0     & 0     & 300   & 2400 \\\\\n",
       "\ts1 & 0     &   0.5 &    1  & 0     & 1     & 0     & 0     & 0     &  -1   &    5 \\\\\n",
       "\ts2 & 0     &   0.0 &    1  & 0     & 0     & 1     & 0     & 0     &  -2   &    2 \\\\\n",
       "\ts3 & 0     &   1.0 &    0  & 0     & 0     & 0     & 1     & 0     &   0   &   15 \\\\\n",
       "\ts4 & 0     &   0.0 &    1  & 0     & 0     & 0     & 0     & 1     &   0   &   10 \\\\\n",
       "\tz & 0     &   0.0 &    0  & 1     & 0     & 0     & 0     & 0     &   1   &    8 \\\\\n",
       "\\end{tabular}\n"
      ],
      "text/markdown": [
       "\n",
       "| <!--/--> | d | x | y | z | s1 | s2 | s3 | s4 | s5 | RHS | \n",
       "|---|---|---|---|---|---|\n",
       "| d | 1     | -50.0 | -200  | 0     | 0     | 0     | 0     | 0     | 300   | 2400  | \n",
       "| s1 | 0     |   0.5 |    1  | 0     | 1     | 0     | 0     | 0     |  -1   |    5  | \n",
       "| s2 | 0     |   0.0 |    1  | 0     | 0     | 1     | 0     | 0     |  -2   |    2  | \n",
       "| s3 | 0     |   1.0 |    0  | 0     | 0     | 0     | 1     | 0     |   0   |   15  | \n",
       "| s4 | 0     |   0.0 |    1  | 0     | 0     | 0     | 0     | 1     |   0   |   10  | \n",
       "| z | 0     |   0.0 |    0  | 1     | 0     | 0     | 0     | 0     |   1   |    8  | \n",
       "\n",
       "\n"
      ],
      "text/plain": [
       "   d x     y    z s1 s2 s3 s4 s5  RHS \n",
       "d  1 -50.0 -200 0 0  0  0  0  300 2400\n",
       "s1 0   0.5    1 0 1  0  0  0   -1    5\n",
       "s2 0   0.0    1 0 0  1  0  0   -2    2\n",
       "s3 0   1.0    0 0 0  0  1  0    0   15\n",
       "s4 0   0.0    1 0 0  0  0  1    0   10\n",
       "z  0   0.0    0 1 0  0  0  0    1    8"
      ]
     },
     "metadata": {},
     "output_type": "display_data"
    }
   ],
   "source": [
    "M[1,] = M[1,] + 300 * M[6,]\n",
    "M[2,] = M[2,] - M[6,]\n",
    "M[3,] = M[3,] - 2*M[6,]\n",
    "rownames(M) = c('d', 's1', 's2', 's3', 's4', 'z')\n",
    "M"
   ]
  },
  {
   "cell_type": "markdown",
   "metadata": {},
   "source": [
    "De volgende kolom met de laagste waarde is nu $y$, want $y=-200$. Vervolgens gebruiken we $s_2$ als pivot om de kolom mee te vegen."
   ]
  },
  {
   "cell_type": "code",
   "execution_count": 6,
   "metadata": {},
   "outputs": [
    {
     "data": {
      "text/html": [
       "<table>\n",
       "<thead><tr><th></th><th scope=col>d</th><th scope=col>x</th><th scope=col>y</th><th scope=col>z</th><th scope=col>s1</th><th scope=col>s2</th><th scope=col>s3</th><th scope=col>s4</th><th scope=col>s5</th><th scope=col>RHS</th></tr></thead>\n",
       "<tbody>\n",
       "\t<tr><th scope=row>d</th><td>1    </td><td>-50.0</td><td>0    </td><td>0    </td><td>0    </td><td>200  </td><td>0    </td><td>0    </td><td>-100 </td><td>2800 </td></tr>\n",
       "\t<tr><th scope=row>s1</th><td>0    </td><td>  0.5</td><td>0    </td><td>0    </td><td>1    </td><td> -1  </td><td>0    </td><td>0    </td><td>   1 </td><td>   3 </td></tr>\n",
       "\t<tr><th scope=row>y</th><td>0    </td><td>  0.0</td><td>1    </td><td>0    </td><td>0    </td><td>  1  </td><td>0    </td><td>0    </td><td>  -2 </td><td>   2 </td></tr>\n",
       "\t<tr><th scope=row>s3</th><td>0    </td><td>  1.0</td><td>0    </td><td>0    </td><td>0    </td><td>  0  </td><td>1    </td><td>0    </td><td>   0 </td><td>  15 </td></tr>\n",
       "\t<tr><th scope=row>s4</th><td>0    </td><td>  0.0</td><td>0    </td><td>0    </td><td>0    </td><td> -1  </td><td>0    </td><td>1    </td><td>   2 </td><td>   8 </td></tr>\n",
       "\t<tr><th scope=row>z</th><td>0    </td><td>  0.0</td><td>0    </td><td>1    </td><td>0    </td><td>  0  </td><td>0    </td><td>0    </td><td>   1 </td><td>   8 </td></tr>\n",
       "</tbody>\n",
       "</table>\n"
      ],
      "text/latex": [
       "\\begin{tabular}{r|llllllllll}\n",
       "  & d & x & y & z & s1 & s2 & s3 & s4 & s5 & RHS\\\\\n",
       "\\hline\n",
       "\td & 1     & -50.0 & 0     & 0     & 0     & 200   & 0     & 0     & -100  & 2800 \\\\\n",
       "\ts1 & 0     &   0.5 & 0     & 0     & 1     &  -1   & 0     & 0     &    1  &    3 \\\\\n",
       "\ty & 0     &   0.0 & 1     & 0     & 0     &   1   & 0     & 0     &   -2  &    2 \\\\\n",
       "\ts3 & 0     &   1.0 & 0     & 0     & 0     &   0   & 1     & 0     &    0  &   15 \\\\\n",
       "\ts4 & 0     &   0.0 & 0     & 0     & 0     &  -1   & 0     & 1     &    2  &    8 \\\\\n",
       "\tz & 0     &   0.0 & 0     & 1     & 0     &   0   & 0     & 0     &    1  &    8 \\\\\n",
       "\\end{tabular}\n"
      ],
      "text/markdown": [
       "\n",
       "| <!--/--> | d | x | y | z | s1 | s2 | s3 | s4 | s5 | RHS | \n",
       "|---|---|---|---|---|---|\n",
       "| d | 1     | -50.0 | 0     | 0     | 0     | 200   | 0     | 0     | -100  | 2800  | \n",
       "| s1 | 0     |   0.5 | 0     | 0     | 1     |  -1   | 0     | 0     |    1  |    3  | \n",
       "| y | 0     |   0.0 | 1     | 0     | 0     |   1   | 0     | 0     |   -2  |    2  | \n",
       "| s3 | 0     |   1.0 | 0     | 0     | 0     |   0   | 1     | 0     |    0  |   15  | \n",
       "| s4 | 0     |   0.0 | 0     | 0     | 0     |  -1   | 0     | 1     |    2  |    8  | \n",
       "| z | 0     |   0.0 | 0     | 1     | 0     |   0   | 0     | 0     |    1  |    8  | \n",
       "\n",
       "\n"
      ],
      "text/plain": [
       "   d x     y z s1 s2  s3 s4 s5   RHS \n",
       "d  1 -50.0 0 0 0  200 0  0  -100 2800\n",
       "s1 0   0.5 0 0 1   -1 0  0     1    3\n",
       "y  0   0.0 1 0 0    1 0  0    -2    2\n",
       "s3 0   1.0 0 0 0    0 1  0     0   15\n",
       "s4 0   0.0 0 0 0   -1 0  1     2    8\n",
       "z  0   0.0 0 1 0    0 0  0     1    8"
      ]
     },
     "metadata": {},
     "output_type": "display_data"
    }
   ],
   "source": [
    "M[1,] = M[1,] + 200*M[3,]\n",
    "M[2,] = M[2,] - M[3,]\n",
    "M[5,] = M[5,] - M[3,]\n",
    "rownames(M) = c('d', 's1', 'y', 's3', 's4', 'z')\n",
    "M"
   ]
  },
  {
   "cell_type": "markdown",
   "metadata": {},
   "source": [
    "Als laatste de kolom met $x$. Hiervoor gaan we $s_1$ als pivot gebruiken."
   ]
  },
  {
   "cell_type": "code",
   "execution_count": 7,
   "metadata": {},
   "outputs": [
    {
     "data": {
      "text/html": [
       "<table>\n",
       "<thead><tr><th></th><th scope=col>d</th><th scope=col>x</th><th scope=col>y</th><th scope=col>z</th><th scope=col>s1</th><th scope=col>s2</th><th scope=col>s3</th><th scope=col>s4</th><th scope=col>s5</th><th scope=col>RHS</th></tr></thead>\n",
       "<tbody>\n",
       "\t<tr><th scope=row>d</th><td>1   </td><td>0   </td><td>0   </td><td>0   </td><td>100 </td><td>100 </td><td>0   </td><td>0   </td><td> 0  </td><td>3100</td></tr>\n",
       "\t<tr><th scope=row>x</th><td>0   </td><td>1   </td><td>0   </td><td>0   </td><td>  2 </td><td> -2 </td><td>0   </td><td>0   </td><td> 2  </td><td>   6</td></tr>\n",
       "\t<tr><th scope=row>y</th><td>0   </td><td>0   </td><td>1   </td><td>0   </td><td>  0 </td><td>  1 </td><td>0   </td><td>0   </td><td>-2  </td><td>   2</td></tr>\n",
       "\t<tr><th scope=row>s3</th><td>0   </td><td>0   </td><td>0   </td><td>0   </td><td> -2 </td><td>  2 </td><td>1   </td><td>0   </td><td>-2  </td><td>   9</td></tr>\n",
       "\t<tr><th scope=row>s4</th><td>0   </td><td>0   </td><td>0   </td><td>0   </td><td>  0 </td><td> -1 </td><td>0   </td><td>1   </td><td> 2  </td><td>   8</td></tr>\n",
       "\t<tr><th scope=row>z</th><td>0   </td><td>0   </td><td>0   </td><td>1   </td><td>  0 </td><td>  0 </td><td>0   </td><td>0   </td><td> 1  </td><td>   8</td></tr>\n",
       "</tbody>\n",
       "</table>\n"
      ],
      "text/latex": [
       "\\begin{tabular}{r|llllllllll}\n",
       "  & d & x & y & z & s1 & s2 & s3 & s4 & s5 & RHS\\\\\n",
       "\\hline\n",
       "\td & 1    & 0    & 0    & 0    & 100  & 100  & 0    & 0    &  0   & 3100\\\\\n",
       "\tx & 0    & 1    & 0    & 0    &   2  &  -2  & 0    & 0    &  2   &    6\\\\\n",
       "\ty & 0    & 0    & 1    & 0    &   0  &   1  & 0    & 0    & -2   &    2\\\\\n",
       "\ts3 & 0    & 0    & 0    & 0    &  -2  &   2  & 1    & 0    & -2   &    9\\\\\n",
       "\ts4 & 0    & 0    & 0    & 0    &   0  &  -1  & 0    & 1    &  2   &    8\\\\\n",
       "\tz & 0    & 0    & 0    & 1    &   0  &   0  & 0    & 0    &  1   &    8\\\\\n",
       "\\end{tabular}\n"
      ],
      "text/markdown": [
       "\n",
       "| <!--/--> | d | x | y | z | s1 | s2 | s3 | s4 | s5 | RHS | \n",
       "|---|---|---|---|---|---|\n",
       "| d | 1    | 0    | 0    | 0    | 100  | 100  | 0    | 0    |  0   | 3100 | \n",
       "| x | 0    | 1    | 0    | 0    |   2  |  -2  | 0    | 0    |  2   |    6 | \n",
       "| y | 0    | 0    | 1    | 0    |   0  |   1  | 0    | 0    | -2   |    2 | \n",
       "| s3 | 0    | 0    | 0    | 0    |  -2  |   2  | 1    | 0    | -2   |    9 | \n",
       "| s4 | 0    | 0    | 0    | 0    |   0  |  -1  | 0    | 1    |  2   |    8 | \n",
       "| z | 0    | 0    | 0    | 1    |   0  |   0  | 0    | 0    |  1   |    8 | \n",
       "\n",
       "\n"
      ],
      "text/plain": [
       "   d x y z s1  s2  s3 s4 s5 RHS \n",
       "d  1 0 0 0 100 100 0  0   0 3100\n",
       "x  0 1 0 0   2  -2 0  0   2    6\n",
       "y  0 0 1 0   0   1 0  0  -2    2\n",
       "s3 0 0 0 0  -2   2 1  0  -2    9\n",
       "s4 0 0 0 0   0  -1 0  1   2    8\n",
       "z  0 0 0 1   0   0 0  0   1    8"
      ]
     },
     "metadata": {},
     "output_type": "display_data"
    }
   ],
   "source": [
    "M[1,] = M[1,] + 100*M[2,]\n",
    "M[4,] = M[4,] - 2*M[2,]\n",
    "M[2,] = 2*M[2,]\n",
    "rownames(M) = c('d', 'x', 'y', 's3', 's4', 'z')\n",
    "M"
   ]
  },
  {
   "cell_type": "markdown",
   "metadata": {},
   "source": [
    "We optimale oplossing is $(6,2,8)$ wat een totale winst geeft van $\\$3100$."
   ]
  },
  {
   "cell_type": "code",
   "execution_count": null,
   "metadata": {},
   "outputs": [],
   "source": []
  }
 ],
 "metadata": {
  "kernelspec": {
   "display_name": "R",
   "language": "R",
   "name": "ir"
  },
  "language_info": {
   "codemirror_mode": "r",
   "file_extension": ".r",
   "mimetype": "text/x-r-source",
   "name": "R",
   "pygments_lexer": "r",
   "version": "3.4.4"
  }
 },
 "nbformat": 4,
 "nbformat_minor": 2
}
