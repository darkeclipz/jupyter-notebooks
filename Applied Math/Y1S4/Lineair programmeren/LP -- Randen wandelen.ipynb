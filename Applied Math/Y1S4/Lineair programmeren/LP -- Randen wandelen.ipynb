{
 "cells": [
  {
   "cell_type": "markdown",
   "metadata": {},
   "source": [
    "# Lineair programmeren -- Randen wandelen"
   ]
  },
  {
   "cell_type": "markdown",
   "metadata": {},
   "source": [
    "Lp-modellen worden in verschillende beslissingsvariabelen gebruikt, zoals bij:\n",
    "\n",
    "* productieplanning\n",
    "* mengproblemen\n",
    "* werkroosters\n",
    "* routeplanning\n",
    "* investeringen\n",
    "\n",
    "Lineair programmeren is een optimaliseringstechniek. Een LP-probleem willen we eerst omzetten in een LP-model. Een lp-model bestaat uit drie basiscomponenten:\n",
    "\n",
    "1. Beslissingsvariabelen (die je beschrijft)\n",
    "2. Doelfunctie (wat ga je minimaliseren of maximaliseren?)\n",
    "3. Beperkingen (waaraan de oplossing moet voldoen)"
   ]
  },
  {
   "cell_type": "markdown",
   "metadata": {},
   "source": [
    "## Opgaven"
   ]
  },
  {
   "cell_type": "markdown",
   "metadata": {},
   "source": [
    "Een boer heeft een flink stuk land waarop hij tarwe en boerenkool wil verbouwen. De twee variabelen zijn:\n",
    "\n",
    "* $t$: het aantal te verbouwen hectare tarwe\n",
    "* $b$: het aantal te verbouwen hectare boerenkool\n",
    "\n",
    "De drie beperkingen zijn:\n",
    "\n",
    "1. $2t + 1b \\leq 10$\n",
    "2. $35t + 30b \\leq 210$\n",
    "3. $15t + 20b \\leq 120$"
   ]
  },
  {
   "cell_type": "code",
   "execution_count": 36,
   "metadata": {},
   "outputs": [],
   "source": [
    "f <- function(l, sl, ml) {\n",
    "    max_loss <- l * sl\n",
    "    x = ml / max_loss\n",
    "    x\n",
    "}"
   ]
  },
  {
   "cell_type": "code",
   "execution_count": 78,
   "metadata": {
    "scrolled": true
   },
   "outputs": [
    {
     "data": {
      "text/html": [
       "0.4"
      ],
      "text/latex": [
       "0.4"
      ],
      "text/markdown": [
       "0.4"
      ],
      "text/plain": [
       "[1] 0.4"
      ]
     },
     "metadata": {},
     "output_type": "display_data"
    }
   ],
   "source": [
    "f(5, 1, 2)"
   ]
  },
  {
   "cell_type": "code",
   "execution_count": 44,
   "metadata": {
    "scrolled": true
   },
   "outputs": [
    {
     "data": {
      "text/html": [
       "0.1"
      ],
      "text/latex": [
       "0.1"
      ],
      "text/markdown": [
       "0.1"
      ],
      "text/plain": [
       "[1] 0.1"
      ]
     },
     "metadata": {},
     "output_type": "display_data"
    }
   ],
   "source": [
    "f(5, 2, 1)"
   ]
  },
  {
   "cell_type": "code",
   "execution_count": 54,
   "metadata": {},
   "outputs": [
    {
     "data": {
      "text/html": [
       "0.2"
      ],
      "text/latex": [
       "0.2"
      ],
      "text/markdown": [
       "0.2"
      ],
      "text/plain": [
       "[1] 0.2"
      ]
     },
     "metadata": {},
     "output_type": "display_data"
    }
   ],
   "source": [
    "f(5, 1, 1)"
   ]
  },
  {
   "cell_type": "code",
   "execution_count": 72,
   "metadata": {},
   "outputs": [],
   "source": [
    "x = seq(0, 3, 0.5)\n",
    "y = vector('list', length(x))\n",
    "for (i in seq_along(x)) {\n",
    "    y[i] <- f(5, i, 2)\n",
    "}"
   ]
  },
  {
   "cell_type": "code",
   "execution_count": 73,
   "metadata": {},
   "outputs": [
    {
     "data": {
      "text/html": [
       "<ol class=list-inline>\n",
       "\t<li>0</li>\n",
       "\t<li>0.5</li>\n",
       "\t<li>1</li>\n",
       "\t<li>1.5</li>\n",
       "\t<li>2</li>\n",
       "\t<li>2.5</li>\n",
       "\t<li>3</li>\n",
       "</ol>\n"
      ],
      "text/latex": [
       "\\begin{enumerate*}\n",
       "\\item 0\n",
       "\\item 0.5\n",
       "\\item 1\n",
       "\\item 1.5\n",
       "\\item 2\n",
       "\\item 2.5\n",
       "\\item 3\n",
       "\\end{enumerate*}\n"
      ],
      "text/markdown": [
       "1. 0\n",
       "2. 0.5\n",
       "3. 1\n",
       "4. 1.5\n",
       "5. 2\n",
       "6. 2.5\n",
       "7. 3\n",
       "\n",
       "\n"
      ],
      "text/plain": [
       "[1] 0.0 0.5 1.0 1.5 2.0 2.5 3.0"
      ]
     },
     "metadata": {},
     "output_type": "display_data"
    }
   ],
   "source": [
    "x"
   ]
  },
  {
   "cell_type": "code",
   "execution_count": 74,
   "metadata": {
    "scrolled": false
   },
   "outputs": [
    {
     "data": {
      "text/html": [
       "<ol>\n",
       "\t<li>0.4</li>\n",
       "\t<li>0.2</li>\n",
       "\t<li>0.133333333333333</li>\n",
       "\t<li>0.1</li>\n",
       "\t<li>0.08</li>\n",
       "\t<li>0.0666666666666667</li>\n",
       "\t<li>0.0571428571428571</li>\n",
       "</ol>\n"
      ],
      "text/latex": [
       "\\begin{enumerate}\n",
       "\\item 0.4\n",
       "\\item 0.2\n",
       "\\item 0.133333333333333\n",
       "\\item 0.1\n",
       "\\item 0.08\n",
       "\\item 0.0666666666666667\n",
       "\\item 0.0571428571428571\n",
       "\\end{enumerate}\n"
      ],
      "text/markdown": [
       "1. 0.4\n",
       "2. 0.2\n",
       "3. 0.133333333333333\n",
       "4. 0.1\n",
       "5. 0.08\n",
       "6. 0.0666666666666667\n",
       "7. 0.0571428571428571\n",
       "\n",
       "\n"
      ],
      "text/plain": [
       "[[1]]\n",
       "[1] 0.4\n",
       "\n",
       "[[2]]\n",
       "[1] 0.2\n",
       "\n",
       "[[3]]\n",
       "[1] 0.1333333\n",
       "\n",
       "[[4]]\n",
       "[1] 0.1\n",
       "\n",
       "[[5]]\n",
       "[1] 0.08\n",
       "\n",
       "[[6]]\n",
       "[1] 0.06666667\n",
       "\n",
       "[[7]]\n",
       "[1] 0.05714286\n"
      ]
     },
     "metadata": {},
     "output_type": "display_data"
    }
   ],
   "source": [
    "y"
   ]
  },
  {
   "cell_type": "code",
   "execution_count": 75,
   "metadata": {
    "scrolled": false
   },
   "outputs": [
    {
     "data": {
      "image/png": "[encoded data removed]",
      "text/plain": [
       "plot without title"
      ]
     },
     "metadata": {},
     "output_type": "display_data"
    }
   ],
   "source": [
    "plot(x,y,'l')"
   ]
  },
  {
   "cell_type": "code",
   "execution_count": null,
   "metadata": {},
   "outputs": [],
   "source": []
  }
 ],
 "metadata": {
  "kernelspec": {
   "display_name": "R",
   "language": "R",
   "name": "ir"
  },
  "language_info": {
   "codemirror_mode": "r",
   "file_extension": ".r",
   "mimetype": "text/x-r-source",
   "name": "R",
   "pygments_lexer": "r",
   "version": "3.4.4"
  }
 },
 "nbformat": 4,
 "nbformat_minor": 2
}
