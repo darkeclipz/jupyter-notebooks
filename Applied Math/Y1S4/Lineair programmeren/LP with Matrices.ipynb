{
 "cells": [
  {
   "cell_type": "markdown",
   "metadata": {},
   "source": [
    "Consider the following goal function\n",
    "\n",
    "$\\max z = 8x_1  + 15 x_2$\n",
    "\n",
    "where\n",
    "\n",
    "$ x_1 + 6x_2 \\leq 15 \\\\ x_1 + 3x_2 \\leq 9 \\\\ 2x_1 + 4x_2 \\leq 15$"
   ]
  },
  {
   "cell_type": "code",
   "execution_count": null,
   "metadata": {},
   "outputs": [],
   "source": []
  }
 ],
 "metadata": {
  "kernelspec": {
   "display_name": "R",
   "language": "R",
   "name": "ir"
  },
  "language_info": {
   "codemirror_mode": "r",
   "file_extension": ".r",
   "mimetype": "text/x-r-source",
   "name": "R",
   "pygments_lexer": "r",
   "version": "3.4.4"
  }
 },
 "nbformat": 4,
 "nbformat_minor": 2
}
