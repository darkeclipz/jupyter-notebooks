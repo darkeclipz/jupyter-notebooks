{
 "cells": [
  {
   "cell_type": "markdown",
   "metadata": {},
   "source": [
    "## Gegevens\n",
    "\n",
    "Beschikbare grondstoffen:\n",
    "\n",
    " * 300 ml essence A\n",
    " * 350 ml essence B\n",
    " * 150 ml essence C\n",
    " \n",
    "Samenstellingen:\n",
    "\n",
    " * Moonlight: 4 ml essence A en 2 ml essence B.\n",
    " * Daydream: 4 ml essence B en 2 ml essence C.\n",
    " * Sunflower: 3 ml essence A, 2 ml essence B en 1 ml essence C.\n",
    " \n",
    "Winst:\n",
    "\n",
    " * Moonlight: €45,-\n",
    " * Daydream: €50,-\n",
    " * Sunflower: €60,-"
   ]
  },
  {
   "cell_type": "markdown",
   "metadata": {},
   "source": [
    "## Vragen\n",
    "\n",
    "_Tableau oplossing met de simplex methode._\n",
    "\n",
    "15) Hoeveel flesjes van welke parfum moet de componist maken om een zo groot mogelijk winst te maken?\n",
    "\n",
    "_Gevoeligheidsanalyse toepassen op het eindtableau._\n",
    "\n",
    "41a) Stel, de parfumeur heeft geen 150 ml, maar 160 ml van essence C tot zijn beschikking. Wat zou dan de optimale oplossing en maximale winst zijn? En hoeveel ml van essence B blijft er dan over?\n",
    "\n",
    "41b) Wat is de optimale oplossing en maximale winst als de parfumeur 200 ml van essence C tot zijn beschikking heeft?\n",
    "\n",
    "41c) Stel, de parfumeur heeft geen 300 ml maar slechts 240 ml van essence A tot zijn beschikking. Wat zou dan de optimale oplossing en maximale winst zijn? En hoeveel ml van essence B blijft er dan over?\n",
    "\n",
    "41d) Als de parfumeur toch minimaal 15 flesjes Moonlight wil maken, wat zou dan de optimale oplossing en maximale winst zijn? En hoeveel ml van essence B blijft er dan over?"
   ]
  },
  {
   "cell_type": "markdown",
   "metadata": {},
   "source": [
    "# Opgave 15"
   ]
  },
  {
   "cell_type": "markdown",
   "metadata": {},
   "source": [
    "De beslissingsvariabelen zijn:\n",
    "\n",
    " * $m$: aantal flesjes Moonlight\n",
    " * $d$: aantal flesjes Daydream\n",
    " * $s$: aantal flesjes Sunflower\n",
    "\n",
    "LP-model:\n",
    "\n",
    " * $\\max 45m + 50d + 60s $\n",
    " * $4m + 3s \\leq 300$\n",
    " * $2m + 4d + 2s \\leq 350$\n",
    " * $2d+s\\leq150$\n",
    "\n",
    "De doelfunctie $D=45m+50d+60s \\iff D-45m-50d-60s=0$.\n",
    "\n",
    "Canonieke vorm:\n",
    "\n",
    " * $\\tag{1} D-45m-50d-60s = 0 $\n",
    " * $\\tag{2} 4m + 3s + s_1 = 300$\n",
    " * $\\tag{3} 2m + 4d + 2s + s_2 = 350$\n",
    " * $\\tag{4} 2d+s + s_3=150$"
   ]
  },
  {
   "cell_type": "code",
   "execution_count": 7,
   "metadata": {},
   "outputs": [
    {
     "data": {
      "text/html": [
       "<table>\n",
       "<thead><tr><th></th><th scope=col>d</th><th scope=col>x</th><th scope=col>y</th><th scope=col>s1</th><th scope=col>s2</th><th scope=col>RHS</th></tr></thead>\n",
       "<tbody>\n",
       "\t<tr><th scope=row>d</th><td>-10</td><td>10 </td><td>0  </td><td>0  </td><td>0  </td><td>1  </td></tr>\n",
       "\t<tr><th scope=row>s1</th><td> -5</td><td> 2 </td><td>2  </td><td>1  </td><td>0  </td><td>2  </td></tr>\n",
       "\t<tr><th scope=row>s2</th><td> -8</td><td> 0 </td><td>3  </td><td>0  </td><td>1  </td><td>3  </td></tr>\n",
       "</tbody>\n",
       "</table>\n"
      ],
      "text/latex": [
       "\\begin{tabular}{r|llllll}\n",
       "  & d & x & y & s1 & s2 & RHS\\\\\n",
       "\\hline\n",
       "\td & -10 & 10  & 0   & 0   & 0   & 1  \\\\\n",
       "\ts1 &  -5 &  2  & 2   & 1   & 0   & 2  \\\\\n",
       "\ts2 &  -8 &  0  & 3   & 0   & 1   & 3  \\\\\n",
       "\\end{tabular}\n"
      ],
      "text/markdown": [
       "\n",
       "| <!--/--> | d | x | y | s1 | s2 | RHS | \n",
       "|---|---|---|\n",
       "| d | -10 | 10  | 0   | 0   | 0   | 1   | \n",
       "| s1 |  -5 |  2  | 2   | 1   | 0   | 2   | \n",
       "| s2 |  -8 |  0  | 3   | 0   | 1   | 3   | \n",
       "\n",
       "\n"
      ],
      "text/plain": [
       "   d   x  y s1 s2 RHS\n",
       "d  -10 10 0 0  0  1  \n",
       "s1  -5  2 2 1  0  2  \n",
       "s2  -8  0 3 0  1  3  "
      ]
     },
     "metadata": {},
     "output_type": "display_data"
    }
   ],
   "source": [
    "d = c(-10,-5,-8)\n",
    "x = c(10,2,0)\n",
    "y = c(0,2,3)\n",
    "s1 = c(0,1,0)\n",
    "s2 = c(0,0,1)\n",
    "RHS = c(1,2,3)\n",
    "M = cbind(d,x,y,s1,s2,RHS)\n",
    "rownames(M) = c('d', 's1', 's2')\n",
    "M"
   ]
  },
  {
   "cell_type": "code",
   "execution_count": 8,
   "metadata": {},
   "outputs": [
    {
     "data": {
      "text/html": [
       "<table>\n",
       "<thead><tr><th></th><th scope=col>d</th><th scope=col>x</th><th scope=col>y</th><th scope=col>s1</th><th scope=col>s2</th><th scope=col>RHS</th></tr></thead>\n",
       "<tbody>\n",
       "\t<tr><th scope=row>d</th><td>-10</td><td>10 </td><td>0.0</td><td>0  </td><td>0.0</td><td>1.0</td></tr>\n",
       "\t<tr><th scope=row>x</th><td> -9</td><td> 2 </td><td>3.5</td><td>1  </td><td>0.5</td><td>3.5</td></tr>\n",
       "\t<tr><th scope=row>s2</th><td> -8</td><td> 0 </td><td>3.0</td><td>0  </td><td>1.0</td><td>3.0</td></tr>\n",
       "</tbody>\n",
       "</table>\n"
      ],
      "text/latex": [
       "\\begin{tabular}{r|llllll}\n",
       "  & d & x & y & s1 & s2 & RHS\\\\\n",
       "\\hline\n",
       "\td & -10 & 10  & 0.0 & 0   & 0.0 & 1.0\\\\\n",
       "\tx &  -9 &  2  & 3.5 & 1   & 0.5 & 3.5\\\\\n",
       "\ts2 &  -8 &  0  & 3.0 & 0   & 1.0 & 3.0\\\\\n",
       "\\end{tabular}\n"
      ],
      "text/markdown": [
       "\n",
       "| <!--/--> | d | x | y | s1 | s2 | RHS | \n",
       "|---|---|---|\n",
       "| d | -10 | 10  | 0.0 | 0   | 0.0 | 1.0 | \n",
       "| x |  -9 |  2  | 3.5 | 1   | 0.5 | 3.5 | \n",
       "| s2 |  -8 |  0  | 3.0 | 0   | 1.0 | 3.0 | \n",
       "\n",
       "\n"
      ],
      "text/plain": [
       "   d   x  y   s1 s2  RHS\n",
       "d  -10 10 0.0 0  0.0 1.0\n",
       "x   -9  2 3.5 1  0.5 3.5\n",
       "s2  -8  0 3.0 0  1.0 3.0"
      ]
     },
     "metadata": {},
     "output_type": "display_data"
    }
   ],
   "source": [
    "M[2,] = M[2,] + 1/2*M[3,]\n",
    "rownames(M) = c('d', 'x', 's2')\n",
    "M"
   ]
  },
  {
   "cell_type": "code",
   "execution_count": 9,
   "metadata": {
    "scrolled": true
   },
   "outputs": [
    {
     "name": "stdout",
     "output_type": "stream",
     "text": [
      "[1] \"Iteration 1\"\n"
     ]
    },
    {
     "data": {
      "text/html": [
       "<table>\n",
       "<thead><tr><th></th><th scope=col>D</th><th scope=col>m</th><th scope=col>d</th><th scope=col>s</th><th scope=col>s1</th><th scope=col>s2</th><th scope=col>s3</th><th scope=col>RHS</th></tr></thead>\n",
       "<tbody>\n",
       "\t<tr><th scope=row>D</th><td>1  </td><td>-45</td><td>-50</td><td>-60</td><td>0  </td><td>0  </td><td>0  </td><td>  0</td></tr>\n",
       "\t<tr><th scope=row>s1</th><td>0  </td><td>  4</td><td>  0</td><td>  3</td><td>1  </td><td>0  </td><td>0  </td><td>300</td></tr>\n",
       "\t<tr><th scope=row>s2</th><td>0  </td><td>  2</td><td>  4</td><td>  2</td><td>0  </td><td>1  </td><td>0  </td><td>350</td></tr>\n",
       "\t<tr><th scope=row>s3</th><td>0  </td><td>  0</td><td>  2</td><td>  1</td><td>0  </td><td>0  </td><td>1  </td><td>150</td></tr>\n",
       "</tbody>\n",
       "</table>\n"
      ],
      "text/latex": [
       "\\begin{tabular}{r|llllllll}\n",
       "  & D & m & d & s & s1 & s2 & s3 & RHS\\\\\n",
       "\\hline\n",
       "\tD & 1   & -45 & -50 & -60 & 0   & 0   & 0   &   0\\\\\n",
       "\ts1 & 0   &   4 &   0 &   3 & 1   & 0   & 0   & 300\\\\\n",
       "\ts2 & 0   &   2 &   4 &   2 & 0   & 1   & 0   & 350\\\\\n",
       "\ts3 & 0   &   0 &   2 &   1 & 0   & 0   & 1   & 150\\\\\n",
       "\\end{tabular}\n"
      ],
      "text/markdown": [
       "\n",
       "| <!--/--> | D | m | d | s | s1 | s2 | s3 | RHS | \n",
       "|---|---|---|---|\n",
       "| D | 1   | -45 | -50 | -60 | 0   | 0   | 0   |   0 | \n",
       "| s1 | 0   |   4 |   0 |   3 | 1   | 0   | 0   | 300 | \n",
       "| s2 | 0   |   2 |   4 |   2 | 0   | 1   | 0   | 350 | \n",
       "| s3 | 0   |   0 |   2 |   1 | 0   | 0   | 1   | 150 | \n",
       "\n",
       "\n"
      ],
      "text/plain": [
       "   D m   d   s   s1 s2 s3 RHS\n",
       "D  1 -45 -50 -60 0  0  0    0\n",
       "s1 0   4   0   3 1  0  0  300\n",
       "s2 0   2   4   2 0  1  0  350\n",
       "s3 0   0   2   1 0  0  1  150"
      ]
     },
     "metadata": {},
     "output_type": "display_data"
    }
   ],
   "source": [
    "D = c(1,0,0,0)\n",
    "m = c(-45, 4,2,0)\n",
    "d = c(-50,0,4,2)\n",
    "s = c(-60,3,2,1)\n",
    "s1 = c(0,1,0,0)\n",
    "s2 = c(0,0,1,0)\n",
    "s3 = c(0,0,0,1)\n",
    "RHS = c(0,300,350,150)\n",
    "M = cbind(D,m,d,s,s1,s2,s3,RHS)\n",
    "rownames(M) = c('D', 's1', 's2', 's3')\n",
    "print('Iteration 1')\n",
    "M"
   ]
  },
  {
   "cell_type": "code",
   "execution_count": 10,
   "metadata": {},
   "outputs": [
    {
     "name": "stdout",
     "output_type": "stream",
     "text": [
      "[1] \"Iteration 2\"\n"
     ]
    },
    {
     "data": {
      "text/html": [
       "<table>\n",
       "<thead><tr><th></th><th scope=col>D</th><th scope=col>m</th><th scope=col>d</th><th scope=col>s</th><th scope=col>s1</th><th scope=col>s2</th><th scope=col>s3</th><th scope=col>RHS</th></tr></thead>\n",
       "<tbody>\n",
       "\t<tr><th scope=row>D</th><td>1         </td><td>35.0000000</td><td>-50       </td><td>0         </td><td>20.0000000</td><td>0         </td><td>0         </td><td>6000      </td></tr>\n",
       "\t<tr><th scope=row>s</th><td>0         </td><td> 1.3333333</td><td>  0       </td><td>1         </td><td> 0.3333333</td><td>0         </td><td>0         </td><td> 100      </td></tr>\n",
       "\t<tr><th scope=row>s2</th><td>0         </td><td>-0.6666667</td><td>  4       </td><td>0         </td><td>-0.6666667</td><td>1         </td><td>0         </td><td> 150      </td></tr>\n",
       "\t<tr><th scope=row>s3</th><td>0         </td><td>-1.3333333</td><td>  2       </td><td>0         </td><td>-0.3333333</td><td>0         </td><td>1         </td><td>  50      </td></tr>\n",
       "</tbody>\n",
       "</table>\n"
      ],
      "text/latex": [
       "\\begin{tabular}{r|llllllll}\n",
       "  & D & m & d & s & s1 & s2 & s3 & RHS\\\\\n",
       "\\hline\n",
       "\tD & 1          & 35.0000000 & -50        & 0          & 20.0000000 & 0          & 0          & 6000      \\\\\n",
       "\ts & 0          &  1.3333333 &   0        & 1          &  0.3333333 & 0          & 0          &  100      \\\\\n",
       "\ts2 & 0          & -0.6666667 &   4        & 0          & -0.6666667 & 1          & 0          &  150      \\\\\n",
       "\ts3 & 0          & -1.3333333 &   2        & 0          & -0.3333333 & 0          & 1          &   50      \\\\\n",
       "\\end{tabular}\n"
      ],
      "text/markdown": [
       "\n",
       "| <!--/--> | D | m | d | s | s1 | s2 | s3 | RHS | \n",
       "|---|---|---|---|\n",
       "| D | 1          | 35.0000000 | -50        | 0          | 20.0000000 | 0          | 0          | 6000       | \n",
       "| s | 0          |  1.3333333 |   0        | 1          |  0.3333333 | 0          | 0          |  100       | \n",
       "| s2 | 0          | -0.6666667 |   4        | 0          | -0.6666667 | 1          | 0          |  150       | \n",
       "| s3 | 0          | -1.3333333 |   2        | 0          | -0.3333333 | 0          | 1          |   50       | \n",
       "\n",
       "\n"
      ],
      "text/plain": [
       "   D m          d   s s1         s2 s3 RHS \n",
       "D  1 35.0000000 -50 0 20.0000000 0  0  6000\n",
       "s  0  1.3333333   0 1  0.3333333 0  0   100\n",
       "s2 0 -0.6666667   4 0 -0.6666667 1  0   150\n",
       "s3 0 -1.3333333   2 0 -0.3333333 0  1    50"
      ]
     },
     "metadata": {},
     "output_type": "display_data"
    }
   ],
   "source": [
    "M[2,] = M[2,] / 3\n",
    "M[1,] = M[1,] + 60*M[2,]\n",
    "M[3,] = M[3,] - 2*M[2,]\n",
    "M[4,] = M[4,] - M[2,]\n",
    "rownames(M) = c('D', 's', 's2', 's3')\n",
    "print('Iteration 2')\n",
    "M"
   ]
  },
  {
   "cell_type": "code",
   "execution_count": 11,
   "metadata": {},
   "outputs": [
    {
     "name": "stdout",
     "output_type": "stream",
     "text": [
      "[1] \"Iteration 3\"\n"
     ]
    },
    {
     "data": {
      "text/html": [
       "<table>\n",
       "<thead><tr><th></th><th scope=col>D</th><th scope=col>m</th><th scope=col>d</th><th scope=col>s</th><th scope=col>s1</th><th scope=col>s2</th><th scope=col>s3</th><th scope=col>RHS</th></tr></thead>\n",
       "<tbody>\n",
       "\t<tr><th scope=row>D</th><td>1         </td><td> 1.666667 </td><td>0         </td><td>0         </td><td>11.6666667</td><td>0         </td><td>25        </td><td>7250      </td></tr>\n",
       "\t<tr><th scope=row>s</th><td>0         </td><td> 1.333333 </td><td>0         </td><td>1         </td><td> 0.3333333</td><td>0         </td><td> 0        </td><td> 100      </td></tr>\n",
       "\t<tr><th scope=row>s2</th><td>0         </td><td> 2.000000 </td><td>0         </td><td>0         </td><td> 0.0000000</td><td>1         </td><td>-2        </td><td>  50      </td></tr>\n",
       "\t<tr><th scope=row>d</th><td>0         </td><td>-1.333333 </td><td>2         </td><td>0         </td><td>-0.3333333</td><td>0         </td><td> 1        </td><td>  50      </td></tr>\n",
       "</tbody>\n",
       "</table>\n"
      ],
      "text/latex": [
       "\\begin{tabular}{r|llllllll}\n",
       "  & D & m & d & s & s1 & s2 & s3 & RHS\\\\\n",
       "\\hline\n",
       "\tD & 1          &  1.666667  & 0          & 0          & 11.6666667 & 0          & 25         & 7250      \\\\\n",
       "\ts & 0          &  1.333333  & 0          & 1          &  0.3333333 & 0          &  0         &  100      \\\\\n",
       "\ts2 & 0          &  2.000000  & 0          & 0          &  0.0000000 & 1          & -2         &   50      \\\\\n",
       "\td & 0          & -1.333333  & 2          & 0          & -0.3333333 & 0          &  1         &   50      \\\\\n",
       "\\end{tabular}\n"
      ],
      "text/markdown": [
       "\n",
       "| <!--/--> | D | m | d | s | s1 | s2 | s3 | RHS | \n",
       "|---|---|---|---|\n",
       "| D | 1          |  1.666667  | 0          | 0          | 11.6666667 | 0          | 25         | 7250       | \n",
       "| s | 0          |  1.333333  | 0          | 1          |  0.3333333 | 0          |  0         |  100       | \n",
       "| s2 | 0          |  2.000000  | 0          | 0          |  0.0000000 | 1          | -2         |   50       | \n",
       "| d | 0          | -1.333333  | 2          | 0          | -0.3333333 | 0          |  1         |   50       | \n",
       "\n",
       "\n"
      ],
      "text/plain": [
       "   D m         d s s1         s2 s3 RHS \n",
       "D  1  1.666667 0 0 11.6666667 0  25 7250\n",
       "s  0  1.333333 0 1  0.3333333 0   0  100\n",
       "s2 0  2.000000 0 0  0.0000000 1  -2   50\n",
       "d  0 -1.333333 2 0 -0.3333333 0   1   50"
      ]
     },
     "metadata": {},
     "output_type": "display_data"
    }
   ],
   "source": [
    "M[1,] = M[1,] + 25*M[4,]\n",
    "M[3,] = M[3,] - 2*M[4,]\n",
    "rownames(M) = c('D', 's', 's2', 'd')\n",
    "print('Iteration 3')\n",
    "M"
   ]
  },
  {
   "cell_type": "markdown",
   "metadata": {},
   "source": [
    "# Opgave 41"
   ]
  },
  {
   "cell_type": "markdown",
   "metadata": {},
   "source": [
    "_41a) Stel, de parfumeur heeft geen 150 ml, maar 160 ml van essence C tot zijn beschikking. Wat zou dan de optimale oplossing en maximale winst zijn? En hoeveel ml van essence B blijft er dan over?_"
   ]
  },
  {
   "cell_type": "markdown",
   "metadata": {},
   "source": [
    "Hiervoor moeten we vergelijking $(4)$ aanpassen.\n",
    "\n",
    "$$\\tag{4} 2d+s+s_3=150 $$"
   ]
  },
  {
   "cell_type": "markdown",
   "metadata": {},
   "source": [
    "Hier voegen we een variabel $k$ aan toe, dit geeft: $2d+s+s_3=150+k$. Omschrijven geeft: $2d+s+(s_3-k)=150$. Vervolgens stellen we $s_3^*=s_3-k$ en vervangen we dit in de vergelijking:\n",
    "\n",
    "$$ \\tag{4*} 2d+s+s_3^*=150$$"
   ]
  },
  {
   "cell_type": "markdown",
   "metadata": {},
   "source": [
    "Als we opnieuw het simplex tableau oplossen met deze nieuwe vergelijking, dan krijgen we hetzelfde resultaat. Het is dus niet nodig op opnieuw het tableau op te lossen. "
   ]
  },
  {
   "cell_type": "code",
   "execution_count": 12,
   "metadata": {},
   "outputs": [
    {
     "data": {
      "text/html": [
       "<table>\n",
       "<thead><tr><th></th><th scope=col>D</th><th scope=col>m</th><th scope=col>d</th><th scope=col>s</th><th scope=col>s1</th><th scope=col>s2</th><th scope=col>s3</th><th scope=col>RHS</th></tr></thead>\n",
       "<tbody>\n",
       "\t<tr><th scope=row>D</th><td>1         </td><td> 1.666667 </td><td>0         </td><td>0         </td><td>11.6666667</td><td>0         </td><td>25        </td><td>7250      </td></tr>\n",
       "\t<tr><th scope=row>s</th><td>0         </td><td> 1.333333 </td><td>0         </td><td>1         </td><td> 0.3333333</td><td>0         </td><td> 0        </td><td> 100      </td></tr>\n",
       "\t<tr><th scope=row>s2</th><td>0         </td><td> 2.000000 </td><td>0         </td><td>0         </td><td> 0.0000000</td><td>1         </td><td>-2        </td><td>  50      </td></tr>\n",
       "\t<tr><th scope=row>d</th><td>0         </td><td>-1.333333 </td><td>2         </td><td>0         </td><td>-0.3333333</td><td>0         </td><td> 1        </td><td>  50      </td></tr>\n",
       "</tbody>\n",
       "</table>\n"
      ],
      "text/latex": [
       "\\begin{tabular}{r|llllllll}\n",
       "  & D & m & d & s & s1 & s2 & s3 & RHS\\\\\n",
       "\\hline\n",
       "\tD & 1          &  1.666667  & 0          & 0          & 11.6666667 & 0          & 25         & 7250      \\\\\n",
       "\ts & 0          &  1.333333  & 0          & 1          &  0.3333333 & 0          &  0         &  100      \\\\\n",
       "\ts2 & 0          &  2.000000  & 0          & 0          &  0.0000000 & 1          & -2         &   50      \\\\\n",
       "\td & 0          & -1.333333  & 2          & 0          & -0.3333333 & 0          &  1         &   50      \\\\\n",
       "\\end{tabular}\n"
      ],
      "text/markdown": [
       "\n",
       "| <!--/--> | D | m | d | s | s1 | s2 | s3 | RHS | \n",
       "|---|---|---|---|\n",
       "| D | 1          |  1.666667  | 0          | 0          | 11.6666667 | 0          | 25         | 7250       | \n",
       "| s | 0          |  1.333333  | 0          | 1          |  0.3333333 | 0          |  0         |  100       | \n",
       "| s2 | 0          |  2.000000  | 0          | 0          |  0.0000000 | 1          | -2         |   50       | \n",
       "| d | 0          | -1.333333  | 2          | 0          | -0.3333333 | 0          |  1         |   50       | \n",
       "\n",
       "\n"
      ],
      "text/plain": [
       "   D m         d s s1         s2 s3 RHS \n",
       "D  1  1.666667 0 0 11.6666667 0  25 7250\n",
       "s  0  1.333333 0 1  0.3333333 0   0  100\n",
       "s2 0  2.000000 0 0  0.0000000 1  -2   50\n",
       "d  0 -1.333333 2 0 -0.3333333 0   1   50"
      ]
     },
     "metadata": {},
     "output_type": "display_data"
    }
   ],
   "source": [
    "M"
   ]
  },
  {
   "cell_type": "markdown",
   "metadata": {},
   "source": [
    "Vervolgens vervangen we $s_3^*$ met $s_3-k$, en schuiven we de termen naar de rechterkant. Dit geeft de volgende $\\text{RHS}$: \n",
    "\n",
    "$$\\begin{bmatrix}D\\\\s\\\\s_2\\\\d\\end{bmatrix}=\\begin{bmatrix}7250+25k\\\\100\\\\50-2k\\\\50+k\\end{bmatrix}$$"
   ]
  },
  {
   "cell_type": "markdown",
   "metadata": {},
   "source": [
    "We kunnen zien dat _essence C_ nu $50+k$ is, hier moet $10$ bij, dus $k=10$. Invullen geeft:\n",
    "\n",
    "$$\\begin{bmatrix}D\\\\s\\\\s_2\\\\d\\end{bmatrix} = \\begin{bmatrix} 7250 + 250 \\\\ 100 \\\\ 50 - 20 \\\\ 50 + 10 \\end{bmatrix} $$"
   ]
  },
  {
   "cell_type": "markdown",
   "metadata": {},
   "source": [
    "De nieuwe optimale oplossing is $(m,d,s)=(0,60,100)$ met een winst van $€7500$."
   ]
  },
  {
   "cell_type": "code",
   "execution_count": null,
   "metadata": {},
   "outputs": [],
   "source": []
  }
 ],
 "metadata": {
  "kernelspec": {
   "display_name": "R",
   "language": "R",
   "name": "ir"
  },
  "language_info": {
   "codemirror_mode": "r",
   "file_extension": ".r",
   "mimetype": "text/x-r-source",
   "name": "R",
   "pygments_lexer": "r",
   "version": "3.5.0"
  }
 },
 "nbformat": 4,
 "nbformat_minor": 2
}
