{
 "cells": [
  {
   "cell_type": "markdown",
   "metadata": {},
   "source": [
    "**Helper functions**: A few functions that are useful whilst working with simplex tableaus."
   ]
  },
  {
   "cell_type": "code",
   "execution_count": 11,
   "metadata": {},
   "outputs": [],
   "source": [
    "# Add the column and row numbers to the matrix for easier indexing.\n",
    "# It preserves the original naming.\n",
    "colrownames <- function(M) {\n",
    "    cn=colnames(M)\n",
    "    cn=paste(cn, ' (', c(1:length(M[1,])), ')', sep='')\n",
    "    colnames(M)=cn\n",
    "    rn=rownames(M)\n",
    "    rn=paste(rn, ' (', c(1:length(M[,1])), ')', sep='')\n",
    "    rownames(M)=rn\n",
    "    M\n",
    "}\n",
    "\n",
    "# Returns the pivot element for a given column.\n",
    "find.pivot <- function(M, col) {\n",
    "    rhs.index=length(M[,1])\n",
    "    row=M[,rhs.index]/M[,col]\n",
    "    min(row[row>0 & !is.na(row) & row!=Inf])\n",
    "}"
   ]
  },
  {
   "cell_type": "markdown",
   "metadata": {},
   "source": [
    "# LP model"
   ]
  },
  {
   "cell_type": "markdown",
   "metadata": {},
   "source": [
    "**Beslissingsvariabelen**\n",
    "\n",
    "* $x_1$ : Oliesoort 1\n",
    "* $x_2$ : Oliesoort 2\n",
    "* $x_3$ : Oliesoort 3\n",
    "\n",
    "**LP probleem**\n",
    "\n",
    "$\n",
    "\\max 12x_1 + 15x_2 + 20x_3 \\\\\n",
    "x_1 + 4x_2 + 8x_3 \\leq 1000 \\\\ \n",
    "0.5x_1+2x_2+0.25x_3 \\leq 1500 \\\\\n",
    "7x_1+6x_2+x_3\\leq 1400 \\\\\n",
    "3x_1+5x_2+4x_3 \\leq 2000\n",
    "$\n",
    "\n",
    "**Canonieke vorm**\n",
    "\n",
    "$\n",
    "A+A_5=0 \\\\\n",
    "d-12x_1-15x_2-20x_3=0 \\\\\n",
    "$"
   ]
  },
  {
   "cell_type": "markdown",
   "metadata": {},
   "source": [
    "# Solving"
   ]
  },
  {
   "cell_type": "code",
   "execution_count": 3,
   "metadata": {
    "scrolled": true
   },
   "outputs": [
    {
     "data": {
      "text/html": [
       "<table>\n",
       "<thead><tr><th></th><th scope=col>A (1)</th><th scope=col>d (2)</th><th scope=col>x1 (3)</th><th scope=col>x2 (4)</th><th scope=col>x3 (5)</th><th scope=col>s1 (6)</th><th scope=col>s2 (7)</th><th scope=col>s3 (8)</th><th scope=col>s4 (9)</th><th scope=col>a5 (10)</th><th scope=col>s5 (11)</th><th scope=col>s6 (12)</th><th scope=col>RHS (13)</th></tr></thead>\n",
       "<tbody>\n",
       "\t<tr><th scope=row>A (1)</th><td>1          </td><td>0          </td><td>0          </td><td>0          </td><td>0          </td><td>0          </td><td>0          </td><td> 0.0000000 </td><td>0          </td><td> 1.000000  </td><td> 0.000000  </td><td> 0.00000000</td><td>   0.0000  </td></tr>\n",
       "\t<tr><th scope=row>d (2)</th><td>0          </td><td>1          </td><td>0          </td><td>0          </td><td>0          </td><td>0          </td><td>0          </td><td> 2.5000000 </td><td>0          </td><td>-5.500000  </td><td> 5.500000  </td><td>17.50000000</td><td>3400.0000  </td></tr>\n",
       "\t<tr><th scope=row>s1 (3)</th><td>0          </td><td>0          </td><td>0          </td><td>0          </td><td>0          </td><td>1          </td><td>0          </td><td>-0.6666667 </td><td>0          </td><td> 3.666667  </td><td>-3.666667  </td><td>-7.33333333</td><td> 176.6667  </td></tr>\n",
       "\t<tr><th scope=row>s2 (4)</th><td>0          </td><td>0          </td><td>0          </td><td>0          </td><td>0          </td><td>0          </td><td>1          </td><td>-0.3333333 </td><td>0          </td><td> 1.833333  </td><td>-1.833333  </td><td> 0.08333333</td><td>1125.8333  </td></tr>\n",
       "\t<tr><th scope=row>s3 (5)</th><td>0          </td><td>0          </td><td>0          </td><td>1          </td><td>0          </td><td>0          </td><td>0          </td><td> 0.1666667 </td><td>0          </td><td>-1.166667  </td><td> 1.166667  </td><td>-0.16666667</td><td> 173.3333  </td></tr>\n",
       "\t<tr><th scope=row>s4 (6)</th><td>0          </td><td>0          </td><td>0          </td><td>0          </td><td>0          </td><td>0          </td><td>0          </td><td>-0.8333333 </td><td>1          </td><td> 2.833333  </td><td>-2.833333  </td><td>-3.16666667</td><td> 943.3333  </td></tr>\n",
       "\t<tr><th scope=row>s5 (7)</th><td>0          </td><td>0          </td><td>1          </td><td>0          </td><td>0          </td><td>0          </td><td>0          </td><td> 0.0000000 </td><td>0          </td><td> 1.000000  </td><td>-1.000000  </td><td> 0.00000000</td><td>  50.0000  </td></tr>\n",
       "\t<tr><th scope=row>s6 (8)</th><td>0          </td><td>0          </td><td>0          </td><td>0          </td><td>1          </td><td>0          </td><td>0          </td><td> 0.0000000 </td><td>0          </td><td> 0.000000  </td><td> 0.000000  </td><td> 1.00000000</td><td>  10.0000  </td></tr>\n",
       "</tbody>\n",
       "</table>\n"
      ],
      "text/latex": [
       "\\begin{tabular}{r|lllllllllllll}\n",
       "  & A (1) & d (2) & x1 (3) & x2 (4) & x3 (5) & s1 (6) & s2 (7) & s3 (8) & s4 (9) & a5 (10) & s5 (11) & s6 (12) & RHS (13)\\\\\n",
       "\\hline\n",
       "\tA (1) & 1           & 0           & 0           & 0           & 0           & 0           & 0           &  0.0000000  & 0           &  1.000000   &  0.000000   &  0.00000000 &    0.0000  \\\\\n",
       "\td (2) & 0           & 1           & 0           & 0           & 0           & 0           & 0           &  2.5000000  & 0           & -5.500000   &  5.500000   & 17.50000000 & 3400.0000  \\\\\n",
       "\ts1 (3) & 0           & 0           & 0           & 0           & 0           & 1           & 0           & -0.6666667  & 0           &  3.666667   & -3.666667   & -7.33333333 &  176.6667  \\\\\n",
       "\ts2 (4) & 0           & 0           & 0           & 0           & 0           & 0           & 1           & -0.3333333  & 0           &  1.833333   & -1.833333   &  0.08333333 & 1125.8333  \\\\\n",
       "\ts3 (5) & 0           & 0           & 0           & 1           & 0           & 0           & 0           &  0.1666667  & 0           & -1.166667   &  1.166667   & -0.16666667 &  173.3333  \\\\\n",
       "\ts4 (6) & 0           & 0           & 0           & 0           & 0           & 0           & 0           & -0.8333333  & 1           &  2.833333   & -2.833333   & -3.16666667 &  943.3333  \\\\\n",
       "\ts5 (7) & 0           & 0           & 1           & 0           & 0           & 0           & 0           &  0.0000000  & 0           &  1.000000   & -1.000000   &  0.00000000 &   50.0000  \\\\\n",
       "\ts6 (8) & 0           & 0           & 0           & 0           & 1           & 0           & 0           &  0.0000000  & 0           &  0.000000   &  0.000000   &  1.00000000 &   10.0000  \\\\\n",
       "\\end{tabular}\n"
      ],
      "text/markdown": [
       "\n",
       "| <!--/--> | A (1) | d (2) | x1 (3) | x2 (4) | x3 (5) | s1 (6) | s2 (7) | s3 (8) | s4 (9) | a5 (10) | s5 (11) | s6 (12) | RHS (13) | \n",
       "|---|---|---|---|---|---|---|---|\n",
       "| A (1) | 1           | 0           | 0           | 0           | 0           | 0           | 0           |  0.0000000  | 0           |  1.000000   |  0.000000   |  0.00000000 |    0.0000   | \n",
       "| d (2) | 0           | 1           | 0           | 0           | 0           | 0           | 0           |  2.5000000  | 0           | -5.500000   |  5.500000   | 17.50000000 | 3400.0000   | \n",
       "| s1 (3) | 0           | 0           | 0           | 0           | 0           | 1           | 0           | -0.6666667  | 0           |  3.666667   | -3.666667   | -7.33333333 |  176.6667   | \n",
       "| s2 (4) | 0           | 0           | 0           | 0           | 0           | 0           | 1           | -0.3333333  | 0           |  1.833333   | -1.833333   |  0.08333333 | 1125.8333   | \n",
       "| s3 (5) | 0           | 0           | 0           | 1           | 0           | 0           | 0           |  0.1666667  | 0           | -1.166667   |  1.166667   | -0.16666667 |  173.3333   | \n",
       "| s4 (6) | 0           | 0           | 0           | 0           | 0           | 0           | 0           | -0.8333333  | 1           |  2.833333   | -2.833333   | -3.16666667 |  943.3333   | \n",
       "| s5 (7) | 0           | 0           | 1           | 0           | 0           | 0           | 0           |  0.0000000  | 0           |  1.000000   | -1.000000   |  0.00000000 |   50.0000   | \n",
       "| s6 (8) | 0           | 0           | 0           | 0           | 1           | 0           | 0           |  0.0000000  | 0           |  0.000000   |  0.000000   |  1.00000000 |   10.0000   | \n",
       "\n",
       "\n"
      ],
      "text/plain": [
       "       A (1) d (2) x1 (3) x2 (4) x3 (5) s1 (6) s2 (7) s3 (8)     s4 (9)\n",
       "A (1)  1     0     0      0      0      0      0       0.0000000 0     \n",
       "d (2)  0     1     0      0      0      0      0       2.5000000 0     \n",
       "s1 (3) 0     0     0      0      0      1      0      -0.6666667 0     \n",
       "s2 (4) 0     0     0      0      0      0      1      -0.3333333 0     \n",
       "s3 (5) 0     0     0      1      0      0      0       0.1666667 0     \n",
       "s4 (6) 0     0     0      0      0      0      0      -0.8333333 1     \n",
       "s5 (7) 0     0     1      0      0      0      0       0.0000000 0     \n",
       "s6 (8) 0     0     0      0      1      0      0       0.0000000 0     \n",
       "       a5 (10)   s5 (11)   s6 (12)     RHS (13) \n",
       "A (1)   1.000000  0.000000  0.00000000    0.0000\n",
       "d (2)  -5.500000  5.500000 17.50000000 3400.0000\n",
       "s1 (3)  3.666667 -3.666667 -7.33333333  176.6667\n",
       "s2 (4)  1.833333 -1.833333  0.08333333 1125.8333\n",
       "s3 (5) -1.166667  1.166667 -0.16666667  173.3333\n",
       "s4 (6)  2.833333 -2.833333 -3.16666667  943.3333\n",
       "s5 (7)  1.000000 -1.000000  0.00000000   50.0000\n",
       "s6 (8)  0.000000  0.000000  1.00000000   10.0000"
      ]
     },
     "metadata": {},
     "output_type": "display_data"
    }
   ],
   "source": [
    "A=c(1,0,0,0,0,0,0,0)\n",
    "d=c(0,1,0,0,0,0,0,0)\n",
    "x1=c(-1,-12,1,.5,7,3,1,0)\n",
    "x2=c(0,-15,4,2,6,5,0,0)\n",
    "x3=c(0,-20,8,.25,1,4,0,1)\n",
    "s1=c(0,0,1,0,0,0,0,0)\n",
    "s2=c(0,0,0,1,0,0,0,0)\n",
    "s3=c(0,0,0,0,1,0,0,0)\n",
    "s4=c(0,0,0,0,0,1,0,0)\n",
    "a5=c(0,0,0,0,0,0,1,0)\n",
    "s5=c(1,0,0,0,0,0,-1,0)\n",
    "s6=c(0,0,0,0,0,0,0,1)\n",
    "RHS=c(-50,0,1000,1500,1400,2000,50,10)\n",
    "M=cbind(A,d,x1,x2,x3,s1,s2,s3,s4,a5,s5,s6,RHS)\n",
    "rownames(M)=c('A','d','s1','s2','s3','s4','s5','s6')\n",
    "M=colrownames(M)\n",
    "\n",
    "# Iteratie 2\n",
    "M[1,]=M[1,]+M[7,]\n",
    "M[2,]=M[2,]+12*M[7,]\n",
    "M[3,]=M[3,]-M[7,]\n",
    "M[4,]=M[4,]-1/2*M[7,]\n",
    "M[5,]=M[5,]-7*M[7,]\n",
    "M[6,]=M[6,]-3*M[7,]\n",
    "\n",
    "# Iteratie 3\n",
    "M[2,]=M[2,]+20*M[8,]\n",
    "M[3,]=M[3,]-8*M[8,]\n",
    "M[4,]=M[4,]-1/4*M[8,]\n",
    "M[5,]=M[5,]-M[8,]\n",
    "M[6,]=M[6,]-4*M[8,]\n",
    "\n",
    "# Iteratie 4\n",
    "M[5,]=M[5,]/6\n",
    "M[2,]=M[2,]+15*M[5,]\n",
    "M[3,]=M[3,]-4*M[5,]\n",
    "M[4,]=M[4,]-2*M[5,]\n",
    "M[6,]=M[6,]-5*M[5,]\n",
    "M"
   ]
  },
  {
   "cell_type": "markdown",
   "metadata": {},
   "source": [
    "De oplossing is $(x_1,x_2,x_3)=(50, 173.33, 10)$."
   ]
  },
  {
   "cell_type": "markdown",
   "metadata": {},
   "source": [
    "## 42.a"
   ]
  },
  {
   "cell_type": "markdown",
   "metadata": {},
   "source": [
    "_Als volgende week vanwege een strengere milieuwetgeving van oliesoort 3 nog maar\n",
    "hoogstens 4 ton gemaakt mag worden, wat zou dan de optimale oplossing en maximale\n",
    "winst zijn?_"
   ]
  },
  {
   "cell_type": "markdown",
   "metadata": {},
   "source": [
    "De vraagstelling heeft betrekking tot de beperking: $x_3 \\leq 10$. Dit wordt namelijk $x_3 \\leq 4$. In de canonieke vorm is dit $x_3 + s_3 = 10$. Hier moet $k$ van af, dus $s_3^*=s_3-k$."
   ]
  },
  {
   "cell_type": "code",
   "execution_count": 6,
   "metadata": {},
   "outputs": [
    {
     "data": {
      "text/html": [
       "<dl class=dl-horizontal>\n",
       "\t<dt>A (1)</dt>\n",
       "\t\t<dd>0</dd>\n",
       "\t<dt>d (2)</dt>\n",
       "\t\t<dd>3295</dd>\n",
       "\t<dt>s1 (3)</dt>\n",
       "\t\t<dd>220.666666666667</dd>\n",
       "\t<dt>s2 (4)</dt>\n",
       "\t\t<dd>1125.33333333333</dd>\n",
       "\t<dt>s3 (5)</dt>\n",
       "\t\t<dd>174.333333333333</dd>\n",
       "\t<dt>s4 (6)</dt>\n",
       "\t\t<dd>962.333333333333</dd>\n",
       "\t<dt>s5 (7)</dt>\n",
       "\t\t<dd>50</dd>\n",
       "\t<dt>s6 (8)</dt>\n",
       "\t\t<dd>4</dd>\n",
       "</dl>\n"
      ],
      "text/latex": [
       "\\begin{description*}\n",
       "\\item[A (1)] 0\n",
       "\\item[d (2)] 3295\n",
       "\\item[s1 (3)] 220.666666666667\n",
       "\\item[s2 (4)] 1125.33333333333\n",
       "\\item[s3 (5)] 174.333333333333\n",
       "\\item[s4 (6)] 962.333333333333\n",
       "\\item[s5 (7)] 50\n",
       "\\item[s6 (8)] 4\n",
       "\\end{description*}\n"
      ],
      "text/markdown": [
       "A (1)\n",
       ":   0d (2)\n",
       ":   3295s1 (3)\n",
       ":   220.666666666667s2 (4)\n",
       ":   1125.33333333333s3 (5)\n",
       ":   174.333333333333s4 (6)\n",
       ":   962.333333333333s5 (7)\n",
       ":   50s6 (8)\n",
       ":   4\n",
       "\n"
      ],
      "text/plain": [
       "    A (1)     d (2)    s1 (3)    s2 (4)    s3 (5)    s4 (6)    s5 (7)    s6 (8) \n",
       "   0.0000 3295.0000  220.6667 1125.3333  174.3333  962.3333   50.0000    4.0000 "
      ]
     },
     "metadata": {},
     "output_type": "display_data"
    }
   ],
   "source": [
    "M[,13]-6*M[,12]"
   ]
  },
  {
   "cell_type": "markdown",
   "metadata": {},
   "source": [
    "De nieuwe oplossing is $(x_1,x_2,x_3)=(50, 174.33, 4)$ met een maximale winst van $€3295$."
   ]
  },
  {
   "cell_type": "markdown",
   "metadata": {},
   "source": [
    "## 42.b"
   ]
  },
  {
   "cell_type": "markdown",
   "metadata": {},
   "source": [
    "_Stel, de fabriek wil volgende week minstens 170 ton van oliesoort 1 maken. Wat\n",
    "zou dan de optimale oplossing en maximale winst zijn?_"
   ]
  },
  {
   "cell_type": "code",
   "execution_count": 9,
   "metadata": {},
   "outputs": [
    {
     "data": {
      "text/html": [
       "<dl class=dl-horizontal>\n",
       "\t<dt>A (1)</dt>\n",
       "\t\t<dd>0</dd>\n",
       "\t<dt>d (2)</dt>\n",
       "\t\t<dd>2740</dd>\n",
       "\t<dt>s1 (3)</dt>\n",
       "\t\t<dd>616.666666666667</dd>\n",
       "\t<dt>s2 (4)</dt>\n",
       "\t\t<dd>1345.83333333333</dd>\n",
       "\t<dt>s3 (5)</dt>\n",
       "\t\t<dd>33.3333333333333</dd>\n",
       "\t<dt>s4 (6)</dt>\n",
       "\t\t<dd>1283.33333333333</dd>\n",
       "\t<dt>s5 (7)</dt>\n",
       "\t\t<dd>170</dd>\n",
       "\t<dt>s6 (8)</dt>\n",
       "\t\t<dd>10</dd>\n",
       "</dl>\n"
      ],
      "text/latex": [
       "\\begin{description*}\n",
       "\\item[A (1)] 0\n",
       "\\item[d (2)] 2740\n",
       "\\item[s1 (3)] 616.666666666667\n",
       "\\item[s2 (4)] 1345.83333333333\n",
       "\\item[s3 (5)] 33.3333333333333\n",
       "\\item[s4 (6)] 1283.33333333333\n",
       "\\item[s5 (7)] 170\n",
       "\\item[s6 (8)] 10\n",
       "\\end{description*}\n"
      ],
      "text/markdown": [
       "A (1)\n",
       ":   0d (2)\n",
       ":   2740s1 (3)\n",
       ":   616.666666666667s2 (4)\n",
       ":   1345.83333333333s3 (5)\n",
       ":   33.3333333333333s4 (6)\n",
       ":   1283.33333333333s5 (7)\n",
       ":   170s6 (8)\n",
       ":   10\n",
       "\n"
      ],
      "text/plain": [
       "     A (1)      d (2)     s1 (3)     s2 (4)     s3 (5)     s4 (6)     s5 (7) \n",
       "   0.00000 2740.00000  616.66667 1345.83333   33.33333 1283.33333  170.00000 \n",
       "    s6 (8) \n",
       "  10.00000 "
      ]
     },
     "metadata": {},
     "output_type": "display_data"
    }
   ],
   "source": [
    "M[,13]-120*M[,11]"
   ]
  },
  {
   "cell_type": "markdown",
   "metadata": {},
   "source": [
    "## 42.c"
   ]
  },
  {
   "cell_type": "markdown",
   "metadata": {},
   "source": [
    "_Stel, de fabriek wil volgende week minstens 200 ton van oliesoort 1 maken. Wat\n",
    "zou dan de optimale oplossing en maximale winst zijn?_"
   ]
  },
  {
   "cell_type": "code",
   "execution_count": 10,
   "metadata": {},
   "outputs": [
    {
     "data": {
      "text/html": [
       "<dl class=dl-horizontal>\n",
       "\t<dt>A (1)</dt>\n",
       "\t\t<dd>0</dd>\n",
       "\t<dt>d (2)</dt>\n",
       "\t\t<dd>2575</dd>\n",
       "\t<dt>s1 (3)</dt>\n",
       "\t\t<dd>726.666666666667</dd>\n",
       "\t<dt>s2 (4)</dt>\n",
       "\t\t<dd>1400.83333333333</dd>\n",
       "\t<dt>s3 (5)</dt>\n",
       "\t\t<dd>-1.66666666666666</dd>\n",
       "\t<dt>s4 (6)</dt>\n",
       "\t\t<dd>1368.33333333333</dd>\n",
       "\t<dt>s5 (7)</dt>\n",
       "\t\t<dd>200</dd>\n",
       "\t<dt>s6 (8)</dt>\n",
       "\t\t<dd>10</dd>\n",
       "</dl>\n"
      ],
      "text/latex": [
       "\\begin{description*}\n",
       "\\item[A (1)] 0\n",
       "\\item[d (2)] 2575\n",
       "\\item[s1 (3)] 726.666666666667\n",
       "\\item[s2 (4)] 1400.83333333333\n",
       "\\item[s3 (5)] -1.66666666666666\n",
       "\\item[s4 (6)] 1368.33333333333\n",
       "\\item[s5 (7)] 200\n",
       "\\item[s6 (8)] 10\n",
       "\\end{description*}\n"
      ],
      "text/markdown": [
       "A (1)\n",
       ":   0d (2)\n",
       ":   2575s1 (3)\n",
       ":   726.666666666667s2 (4)\n",
       ":   1400.83333333333s3 (5)\n",
       ":   -1.66666666666666s4 (6)\n",
       ":   1368.33333333333s5 (7)\n",
       ":   200s6 (8)\n",
       ":   10\n",
       "\n"
      ],
      "text/plain": [
       "      A (1)       d (2)      s1 (3)      s2 (4)      s3 (5)      s4 (6) \n",
       "   0.000000 2575.000000  726.666667 1400.833333   -1.666667 1368.333333 \n",
       "     s5 (7)      s6 (8) \n",
       " 200.000000   10.000000 "
      ]
     },
     "metadata": {},
     "output_type": "display_data"
    }
   ],
   "source": [
    "M[,13]-150*M[,11]"
   ]
  },
  {
   "cell_type": "markdown",
   "metadata": {},
   "source": [
    "Dit ligt buiten het interval, maar wat betekend dat?"
   ]
  },
  {
   "cell_type": "code",
   "execution_count": null,
   "metadata": {},
   "outputs": [],
   "source": []
  }
 ],
 "metadata": {
  "kernelspec": {
   "display_name": "R",
   "language": "R",
   "name": "ir"
  },
  "language_info": {
   "codemirror_mode": "r",
   "file_extension": ".r",
   "mimetype": "text/x-r-source",
   "name": "R",
   "pygments_lexer": "r",
   "version": "3.4.4"
  }
 },
 "nbformat": 4,
 "nbformat_minor": 2
}
