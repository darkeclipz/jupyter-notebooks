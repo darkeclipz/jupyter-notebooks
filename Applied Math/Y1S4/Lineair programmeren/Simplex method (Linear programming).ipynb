{
 "cells": [
  {
   "cell_type": "markdown",
   "metadata": {},
   "source": [
    "# Problem"
   ]
  },
  {
   "cell_type": "markdown",
   "metadata": {},
   "source": [
    "A business produces two products $X$ and $Y$. To make these two products he needs $3$ machines and a quantity of labor.\n",
    "\n",
    "To produce $1$kg of $X$ we need:\n",
    "\n",
    " * $2$ hours on machine $1$\n",
    " * $1$ hour on machine $2$\n",
    " * $2$ hours on machine $3$\n",
    " * $1$ hour of labor \n",
    "   \n",
    "To produce $1$kg of $Y$ we need:\n",
    "\n",
    " * $1$ hour on machine $1$\n",
    " * $2$ hours on machine $2$\n",
    " * $1$ hour of labor \n",
    " \n",
    "On the first and second machine there are a maximum of $140$ hours available. The last machine has $130$ hours available. There are a maximum of $90$ hours of labor.\n",
    "\n",
    "The profit for $1$kg of $X$ is $\\$30$, and for $1$kg of $Y$ it is $\\$20$. The business wants to maximize their profits.\n",
    "\n",
    "How many kg $X$ and $Y$ does he needs to make? Assuming that all produced products will be sold."
   ]
  },
  {
   "cell_type": "markdown",
   "metadata": {},
   "source": [
    "# Linear programming model"
   ]
  },
  {
   "cell_type": "markdown",
   "metadata": {},
   "source": [
    "First we convert the linear programming problem into a linear programming model."
   ]
  },
  {
   "cell_type": "markdown",
   "metadata": {},
   "source": [
    "* Let $x$: quantity required to produce in kg for $X$.\n",
    "* Let $y$: quantity required to product in kg for $Y$.\n",
    "* max $30x + 20y$\n",
    "* $2x+y \\leq 140$\n",
    "* $x+2y\\leq 140$\n",
    "* $2x \\leq 130$\n",
    "* $x + y \\leq 90$"
   ]
  },
  {
   "cell_type": "markdown",
   "metadata": {},
   "source": [
    "## Solving it graphically"
   ]
  },
  {
   "cell_type": "markdown",
   "metadata": {},
   "source": [
    "To find the intersections we solve:\n",
    "\n",
    "$$ S_1 = \\begin{cases} x+y=90 \\\\ x+2y=140 \\end{cases} $$\n",
    "\n",
    "$$ S_2 = \\begin{cases} 2x+y=140 \\\\ x+2y=140 \\end{cases} $$\n",
    "\n",
    "$$ S_3 = \\begin{cases} x+2y=140 \\\\ 2x=130 \\end{cases} $$\n",
    "\n",
    "$$ S_4 = \\begin{cases} x+y=90 \\\\ 2x+y=140 \\end{cases} $$"
   ]
  },
  {
   "cell_type": "code",
   "execution_count": 299,
   "metadata": {},
   "outputs": [
    {
     "data": {
      "text/html": [
       "<table>\n",
       "<thead><tr><th></th><th scope=col>S1</th><th scope=col>S2</th><th scope=col>S3</th><th scope=col>S4</th></tr></thead>\n",
       "<tbody>\n",
       "\t<tr><th scope=row>x</th><td>40      </td><td>46.66667</td><td>65.0    </td><td>50      </td></tr>\n",
       "\t<tr><th scope=row>y</th><td>50      </td><td>46.66667</td><td>37.5    </td><td>40      </td></tr>\n",
       "</tbody>\n",
       "</table>\n"
      ],
      "text/latex": [
       "\\begin{tabular}{r|llll}\n",
       "  & S1 & S2 & S3 & S4\\\\\n",
       "\\hline\n",
       "\tx & 40       & 46.66667 & 65.0     & 50      \\\\\n",
       "\ty & 50       & 46.66667 & 37.5     & 40      \\\\\n",
       "\\end{tabular}\n"
      ],
      "text/markdown": [
       "\n",
       "| <!--/--> | S1 | S2 | S3 | S4 | \n",
       "|---|---|\n",
       "| x | 40       | 46.66667 | 65.0     | 50       | \n",
       "| y | 50       | 46.66667 | 37.5     | 40       | \n",
       "\n",
       "\n"
      ],
      "text/plain": [
       "  S1 S2       S3   S4\n",
       "x 40 46.66667 65.0 50\n",
       "y 50 46.66667 37.5 40"
      ]
     },
     "metadata": {},
     "output_type": "display_data"
    }
   ],
   "source": [
    "S1 = solve(cbind(c(1,1),c(1,2)),c(90,140)) \n",
    "S2 = solve(cbind(c(2,1),c(1,2)),c(140,140))\n",
    "S3 = solve(cbind(c(1,2),c(2,0)),c(140,130))\n",
    "S4 = solve(cbind(c(1,2),c(1,1)),c(90,140))\n",
    "s = cbind(S1,S2,S3,S4)\n",
    "rownames(s) <- c('x', 'y')\n",
    "s"
   ]
  },
  {
   "cell_type": "markdown",
   "metadata": {},
   "source": [
    "We calculate the profit for each of the points:"
   ]
  },
  {
   "cell_type": "code",
   "execution_count": 300,
   "metadata": {},
   "outputs": [
    {
     "name": "stdout",
     "output_type": "stream",
     "text": [
      "[1] \"X= 40 Y= 50 Profit= 2200\"\n",
      "[1] \"X= 46.6666666666667 Y= 46.6666666666667 Profit= 2333.33333333333\"\n",
      "[1] \"X= 65 Y= 37.5 Profit= 2700\"\n",
      "[1] \"X= 50 Y= 40 Profit= 2300\"\n"
     ]
    }
   ],
   "source": [
    "for (i in 1:4) {\n",
    "    print(paste('X=', s[1,i], 'Y=', s[2,i], 'Profit=', 30*s[1,i]+20*s[2,i]))\n",
    "}"
   ]
  },
  {
   "cell_type": "markdown",
   "metadata": {},
   "source": [
    "Only $S_1$ and $S_4$ are viable solutions. We create a function $d(x)$ through $S_4$ which is $(50, 40)$:\n",
    "\n",
    "$$ 30x + 20y = 0 \\iff y = -\\frac{3}{2}x$$\n",
    "\n",
    "Finally we plug-in the point $(50,40)$:\n",
    "\n",
    "$$ y = -\\frac{3}{2}(x-50)+40 $$"
   ]
  },
  {
   "cell_type": "code",
   "execution_count": 301,
   "metadata": {},
   "outputs": [],
   "source": [
    "d <- function(x) -3/2*(x-50)+40"
   ]
  },
  {
   "cell_type": "code",
   "execution_count": 302,
   "metadata": {},
   "outputs": [
    {
     "data": {
      "image/png": "[encoded data removed]",
      "text/plain": [
       "plot without title"
      ]
     },
     "metadata": {},
     "output_type": "display_data"
    }
   ],
   "source": [
    "a = 0\n",
    "b = 140\n",
    "X = Y = a:b\n",
    "plot(X,Y,col='white')\n",
    "points(s[1,], s[2,])\n",
    "c1 = line(a:b, sapply(a:b, d))\n",
    "c2 = line(a:b, sapply(a:b, function(x) (140-2*x)))\n",
    "c3 = line(a:b, sapply(a:b, function(x) (1/2*(140-x))))\n",
    "c4 = line(a:b, sapply(a:b, function(x) (90-x)))\n",
    "abline(c1, col='red', lwd=3, lty=2)\n",
    "abline(c2, lwd=2)\n",
    "abline(c3, lwd=2)\n",
    "abline(c4, lwd=2)\n",
    "abline(v=130/2, lwd=2)"
   ]
  },
  {
   "cell_type": "markdown",
   "metadata": {},
   "source": [
    "## Solution"
   ]
  },
  {
   "cell_type": "markdown",
   "metadata": {},
   "source": [
    "The solution is $50$ kg of $X$ and $40$ kg of $Y$ with a total profit of $\\$2300$."
   ]
  },
  {
   "cell_type": "markdown",
   "metadata": {},
   "source": [
    "# Simplex method"
   ]
  },
  {
   "cell_type": "markdown",
   "metadata": {},
   "source": [
    "Now we are going to find the solution with the simplex method."
   ]
  },
  {
   "cell_type": "code",
   "execution_count": 303,
   "metadata": {},
   "outputs": [
    {
     "data": {
      "text/html": [
       "<table>\n",
       "<thead><tr><th></th><th scope=col>d</th><th scope=col>x</th><th scope=col>y</th><th scope=col>s1</th><th scope=col>s2</th><th scope=col>s3</th><th scope=col>s4</th><th scope=col>RHS</th></tr></thead>\n",
       "<tbody>\n",
       "\t<tr><th scope=row>d</th><td>1  </td><td>-30</td><td>-20</td><td>0  </td><td>0  </td><td>0  </td><td>0  </td><td>  0</td></tr>\n",
       "\t<tr><th scope=row>s1</th><td>0  </td><td>  2</td><td>  1</td><td>1  </td><td>0  </td><td>0  </td><td>0  </td><td>140</td></tr>\n",
       "\t<tr><th scope=row>s2</th><td>0  </td><td>  1</td><td>  2</td><td>0  </td><td>1  </td><td>0  </td><td>0  </td><td>140</td></tr>\n",
       "\t<tr><th scope=row>s3</th><td>0  </td><td>  2</td><td>  0</td><td>0  </td><td>0  </td><td>1  </td><td>0  </td><td>130</td></tr>\n",
       "\t<tr><th scope=row>s4</th><td>0  </td><td>  1</td><td>  1</td><td>0  </td><td>0  </td><td>0  </td><td>1  </td><td> 90</td></tr>\n",
       "</tbody>\n",
       "</table>\n"
      ],
      "text/latex": [
       "\\begin{tabular}{r|llllllll}\n",
       "  & d & x & y & s1 & s2 & s3 & s4 & RHS\\\\\n",
       "\\hline\n",
       "\td & 1   & -30 & -20 & 0   & 0   & 0   & 0   &   0\\\\\n",
       "\ts1 & 0   &   2 &   1 & 1   & 0   & 0   & 0   & 140\\\\\n",
       "\ts2 & 0   &   1 &   2 & 0   & 1   & 0   & 0   & 140\\\\\n",
       "\ts3 & 0   &   2 &   0 & 0   & 0   & 1   & 0   & 130\\\\\n",
       "\ts4 & 0   &   1 &   1 & 0   & 0   & 0   & 1   &  90\\\\\n",
       "\\end{tabular}\n"
      ],
      "text/markdown": [
       "\n",
       "| <!--/--> | d | x | y | s1 | s2 | s3 | s4 | RHS | \n",
       "|---|---|---|---|---|\n",
       "| d | 1   | -30 | -20 | 0   | 0   | 0   | 0   |   0 | \n",
       "| s1 | 0   |   2 |   1 | 1   | 0   | 0   | 0   | 140 | \n",
       "| s2 | 0   |   1 |   2 | 0   | 1   | 0   | 0   | 140 | \n",
       "| s3 | 0   |   2 |   0 | 0   | 0   | 1   | 0   | 130 | \n",
       "| s4 | 0   |   1 |   1 | 0   | 0   | 0   | 1   |  90 | \n",
       "\n",
       "\n"
      ],
      "text/plain": [
       "   d x   y   s1 s2 s3 s4 RHS\n",
       "d  1 -30 -20 0  0  0  0    0\n",
       "s1 0   2   1 1  0  0  0  140\n",
       "s2 0   1   2 0  1  0  0  140\n",
       "s3 0   2   0 0  0  1  0  130\n",
       "s4 0   1   1 0  0  0  1   90"
      ]
     },
     "metadata": {},
     "output_type": "display_data"
    }
   ],
   "source": [
    "d = c(1,0,0,0,0)\n",
    "x = c(-30, 2,1,2,1)\n",
    "y = c(-20,1,2,0,1)\n",
    "s1 = c(0,1,0,0,0)\n",
    "s2 = c(0,0,1,0,0)\n",
    "s3 = c(0,0,0,1,0)\n",
    "s4 = c(0,0,0,0,1)\n",
    "RHS = c(0,140,140,130,90)\n",
    "M = cbind(d,x,y,s1,s2,s3,s4,RHS)\n",
    "rownames(M) = c('d','s1','s2','s3','s4')\n",
    "M"
   ]
  },
  {
   "cell_type": "markdown",
   "metadata": {},
   "source": [
    "Solving for $X$:"
   ]
  },
  {
   "cell_type": "code",
   "execution_count": 304,
   "metadata": {},
   "outputs": [],
   "source": [
    "M[1,] = M[1,] + 15*M[4,]\n",
    "M[2,] = M[2,] - M[4,]\n",
    "M[3,] = M[3,] - 1/2*M[4,]\n",
    "M[5,] = M[5,] - 1/2*M[4,]\n",
    "M[4,] = 1/2*M[4,]\n",
    "rownames(M) = c('d','s1','s2','x','s4')"
   ]
  },
  {
   "cell_type": "code",
   "execution_count": 305,
   "metadata": {},
   "outputs": [
    {
     "data": {
      "text/html": [
       "<table>\n",
       "<thead><tr><th></th><th scope=col>d</th><th scope=col>x</th><th scope=col>y</th><th scope=col>s1</th><th scope=col>s2</th><th scope=col>s3</th><th scope=col>s4</th><th scope=col>RHS</th></tr></thead>\n",
       "<tbody>\n",
       "\t<tr><th scope=row>d</th><td>1   </td><td>0   </td><td>-20 </td><td>0   </td><td>0   </td><td>15.0</td><td>0   </td><td>1950</td></tr>\n",
       "\t<tr><th scope=row>s1</th><td>0   </td><td>0   </td><td>  1 </td><td>1   </td><td>0   </td><td>-1.0</td><td>0   </td><td>  10</td></tr>\n",
       "\t<tr><th scope=row>s2</th><td>0   </td><td>0   </td><td>  2 </td><td>0   </td><td>1   </td><td>-0.5</td><td>0   </td><td>  75</td></tr>\n",
       "\t<tr><th scope=row>x</th><td>0   </td><td>1   </td><td>  0 </td><td>0   </td><td>0   </td><td> 0.5</td><td>0   </td><td>  65</td></tr>\n",
       "\t<tr><th scope=row>s4</th><td>0   </td><td>0   </td><td>  1 </td><td>0   </td><td>0   </td><td>-0.5</td><td>1   </td><td>  25</td></tr>\n",
       "</tbody>\n",
       "</table>\n"
      ],
      "text/latex": [
       "\\begin{tabular}{r|llllllll}\n",
       "  & d & x & y & s1 & s2 & s3 & s4 & RHS\\\\\n",
       "\\hline\n",
       "\td & 1    & 0    & -20  & 0    & 0    & 15.0 & 0    & 1950\\\\\n",
       "\ts1 & 0    & 0    &   1  & 1    & 0    & -1.0 & 0    &   10\\\\\n",
       "\ts2 & 0    & 0    &   2  & 0    & 1    & -0.5 & 0    &   75\\\\\n",
       "\tx & 0    & 1    &   0  & 0    & 0    &  0.5 & 0    &   65\\\\\n",
       "\ts4 & 0    & 0    &   1  & 0    & 0    & -0.5 & 1    &   25\\\\\n",
       "\\end{tabular}\n"
      ],
      "text/markdown": [
       "\n",
       "| <!--/--> | d | x | y | s1 | s2 | s3 | s4 | RHS | \n",
       "|---|---|---|---|---|\n",
       "| d | 1    | 0    | -20  | 0    | 0    | 15.0 | 0    | 1950 | \n",
       "| s1 | 0    | 0    |   1  | 1    | 0    | -1.0 | 0    |   10 | \n",
       "| s2 | 0    | 0    |   2  | 0    | 1    | -0.5 | 0    |   75 | \n",
       "| x | 0    | 1    |   0  | 0    | 0    |  0.5 | 0    |   65 | \n",
       "| s4 | 0    | 0    |   1  | 0    | 0    | -0.5 | 1    |   25 | \n",
       "\n",
       "\n"
      ],
      "text/plain": [
       "   d x y   s1 s2 s3   s4 RHS \n",
       "d  1 0 -20 0  0  15.0 0  1950\n",
       "s1 0 0   1 1  0  -1.0 0    10\n",
       "s2 0 0   2 0  1  -0.5 0    75\n",
       "x  0 1   0 0  0   0.5 0    65\n",
       "s4 0 0   1 0  0  -0.5 1    25"
      ]
     },
     "metadata": {},
     "output_type": "display_data"
    }
   ],
   "source": [
    "M"
   ]
  },
  {
   "cell_type": "markdown",
   "metadata": {},
   "source": [
    "Solving for $Y$:"
   ]
  },
  {
   "cell_type": "code",
   "execution_count": 306,
   "metadata": {},
   "outputs": [
    {
     "data": {
      "text/html": [
       "<table>\n",
       "<thead><tr><th></th><th scope=col>d</th><th scope=col>x</th><th scope=col>y</th><th scope=col>s1</th><th scope=col>s2</th><th scope=col>s3</th><th scope=col>s4</th><th scope=col>RHS</th></tr></thead>\n",
       "<tbody>\n",
       "\t<tr><th scope=row>d</th><td>1   </td><td>0   </td><td>0   </td><td>20  </td><td>0   </td><td>-5.0</td><td>0   </td><td>2150</td></tr>\n",
       "\t<tr><th scope=row>y</th><td>0   </td><td>0   </td><td>1   </td><td> 1  </td><td>0   </td><td>-1.0</td><td>0   </td><td>  10</td></tr>\n",
       "\t<tr><th scope=row>s2</th><td>0   </td><td>0   </td><td>0   </td><td>-2  </td><td>1   </td><td> 1.5</td><td>0   </td><td>  55</td></tr>\n",
       "\t<tr><th scope=row>x</th><td>0   </td><td>1   </td><td>0   </td><td> 0  </td><td>0   </td><td> 0.5</td><td>0   </td><td>  65</td></tr>\n",
       "\t<tr><th scope=row>s4</th><td>0   </td><td>0   </td><td>0   </td><td>-1  </td><td>0   </td><td> 0.5</td><td>1   </td><td>  15</td></tr>\n",
       "</tbody>\n",
       "</table>\n"
      ],
      "text/latex": [
       "\\begin{tabular}{r|llllllll}\n",
       "  & d & x & y & s1 & s2 & s3 & s4 & RHS\\\\\n",
       "\\hline\n",
       "\td & 1    & 0    & 0    & 20   & 0    & -5.0 & 0    & 2150\\\\\n",
       "\ty & 0    & 0    & 1    &  1   & 0    & -1.0 & 0    &   10\\\\\n",
       "\ts2 & 0    & 0    & 0    & -2   & 1    &  1.5 & 0    &   55\\\\\n",
       "\tx & 0    & 1    & 0    &  0   & 0    &  0.5 & 0    &   65\\\\\n",
       "\ts4 & 0    & 0    & 0    & -1   & 0    &  0.5 & 1    &   15\\\\\n",
       "\\end{tabular}\n"
      ],
      "text/markdown": [
       "\n",
       "| <!--/--> | d | x | y | s1 | s2 | s3 | s4 | RHS | \n",
       "|---|---|---|---|---|\n",
       "| d | 1    | 0    | 0    | 20   | 0    | -5.0 | 0    | 2150 | \n",
       "| y | 0    | 0    | 1    |  1   | 0    | -1.0 | 0    |   10 | \n",
       "| s2 | 0    | 0    | 0    | -2   | 1    |  1.5 | 0    |   55 | \n",
       "| x | 0    | 1    | 0    |  0   | 0    |  0.5 | 0    |   65 | \n",
       "| s4 | 0    | 0    | 0    | -1   | 0    |  0.5 | 1    |   15 | \n",
       "\n",
       "\n"
      ],
      "text/plain": [
       "   d x y s1 s2 s3   s4 RHS \n",
       "d  1 0 0 20 0  -5.0 0  2150\n",
       "y  0 0 1  1 0  -1.0 0    10\n",
       "s2 0 0 0 -2 1   1.5 0    55\n",
       "x  0 1 0  0 0   0.5 0    65\n",
       "s4 0 0 0 -1 0   0.5 1    15"
      ]
     },
     "metadata": {},
     "output_type": "display_data"
    }
   ],
   "source": [
    "M[1,] = M[1,] + 20*M[2,]\n",
    "M[3,] = M[3,] - 2*M[2,]\n",
    "M[5,] = M[5,] - M[2,]\n",
    "rownames(M) = c('d','y','s2','x','s4')\n",
    "M"
   ]
  },
  {
   "cell_type": "markdown",
   "metadata": {},
   "source": [
    "Solving for $s_3$:"
   ]
  },
  {
   "cell_type": "code",
   "execution_count": 307,
   "metadata": {},
   "outputs": [
    {
     "data": {
      "text/html": [
       "<table>\n",
       "<thead><tr><th></th><th scope=col>d</th><th scope=col>x</th><th scope=col>y</th><th scope=col>s1</th><th scope=col>s2</th><th scope=col>s3</th><th scope=col>s4</th><th scope=col>RHS</th></tr></thead>\n",
       "<tbody>\n",
       "\t<tr><th scope=row>d</th><td>1   </td><td>0   </td><td>0   </td><td>10  </td><td>0   </td><td>0   </td><td>10  </td><td>2300</td></tr>\n",
       "\t<tr><th scope=row>y</th><td>0   </td><td>0   </td><td>1   </td><td>-1  </td><td>0   </td><td>0   </td><td> 2  </td><td>  40</td></tr>\n",
       "\t<tr><th scope=row>s2</th><td>0   </td><td>0   </td><td>0   </td><td> 1  </td><td>1   </td><td>0   </td><td>-3  </td><td>  10</td></tr>\n",
       "\t<tr><th scope=row>x</th><td>0   </td><td>1   </td><td>0   </td><td> 1  </td><td>0   </td><td>0   </td><td>-1  </td><td>  50</td></tr>\n",
       "\t<tr><th scope=row>s3</th><td>0   </td><td>0   </td><td>0   </td><td>-2  </td><td>0   </td><td>1   </td><td> 2  </td><td>  30</td></tr>\n",
       "</tbody>\n",
       "</table>\n"
      ],
      "text/latex": [
       "\\begin{tabular}{r|llllllll}\n",
       "  & d & x & y & s1 & s2 & s3 & s4 & RHS\\\\\n",
       "\\hline\n",
       "\td & 1    & 0    & 0    & 10   & 0    & 0    & 10   & 2300\\\\\n",
       "\ty & 0    & 0    & 1    & -1   & 0    & 0    &  2   &   40\\\\\n",
       "\ts2 & 0    & 0    & 0    &  1   & 1    & 0    & -3   &   10\\\\\n",
       "\tx & 0    & 1    & 0    &  1   & 0    & 0    & -1   &   50\\\\\n",
       "\ts3 & 0    & 0    & 0    & -2   & 0    & 1    &  2   &   30\\\\\n",
       "\\end{tabular}\n"
      ],
      "text/markdown": [
       "\n",
       "| <!--/--> | d | x | y | s1 | s2 | s3 | s4 | RHS | \n",
       "|---|---|---|---|---|\n",
       "| d | 1    | 0    | 0    | 10   | 0    | 0    | 10   | 2300 | \n",
       "| y | 0    | 0    | 1    | -1   | 0    | 0    |  2   |   40 | \n",
       "| s2 | 0    | 0    | 0    |  1   | 1    | 0    | -3   |   10 | \n",
       "| x | 0    | 1    | 0    |  1   | 0    | 0    | -1   |   50 | \n",
       "| s3 | 0    | 0    | 0    | -2   | 0    | 1    |  2   |   30 | \n",
       "\n",
       "\n"
      ],
      "text/plain": [
       "   d x y s1 s2 s3 s4 RHS \n",
       "d  1 0 0 10 0  0  10 2300\n",
       "y  0 0 1 -1 0  0   2   40\n",
       "s2 0 0 0  1 1  0  -3   10\n",
       "x  0 1 0  1 0  0  -1   50\n",
       "s3 0 0 0 -2 0  1   2   30"
      ]
     },
     "metadata": {},
     "output_type": "display_data"
    }
   ],
   "source": [
    "M[1,] = M[1,] + 10*M[5,]\n",
    "M[2,] = M[2,] + 2*M[5,]\n",
    "M[3,] = M[3,] - 3*M[5,]\n",
    "M[4,] = M[4,] - M[5,]\n",
    "M[5,] = 2*M[5,]\n",
    "rownames(M) = c('d','y','s2','x','s3')\n",
    "M"
   ]
  },
  {
   "cell_type": "markdown",
   "metadata": {},
   "source": [
    "## Solution \n",
    "\n",
    "The total profit is $\\$2300$. For maximum profit we need to produce $50$ kg of $X$, and $40$ kg of $Y$. With a remainder for $s_2=10$ and $s_3=30$."
   ]
  },
  {
   "cell_type": "code",
   "execution_count": null,
   "metadata": {},
   "outputs": [],
   "source": []
  }
 ],
 "metadata": {
  "kernelspec": {
   "display_name": "R",
   "language": "R",
   "name": "ir"
  },
  "language_info": {
   "codemirror_mode": "r",
   "file_extension": ".r",
   "mimetype": "text/x-r-source",
   "name": "R",
   "pygments_lexer": "r",
   "version": "3.4.4"
  }
 },
 "nbformat": 4,
 "nbformat_minor": 2
}
