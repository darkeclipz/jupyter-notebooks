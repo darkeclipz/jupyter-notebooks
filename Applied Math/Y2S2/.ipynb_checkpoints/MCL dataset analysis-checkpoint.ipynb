{
 "cells": [
  {
   "cell_type": "markdown",
   "metadata": {},
   "source": [
    "## Onderzoekvragen\n",
    "\n",
    "Vanuit de data analyse is het de bedoeling dat er een antwoord komt op de onderstaande vragen:\n",
    "\n",
    "  * Hoeveel verschillende operaties zijn er?\n",
    "  * Hoe zijn de verschillende operaties verdeeld (frequentietabel)\n",
    "  * Voor elke operatie het volgende bepalen (bedieningstijd):\n",
    "    * Hoeveel minuten duurt de operatie?\n",
    "    * Hoeveel minuten duurt een operatie gemiddeld?\n",
    "    * Wat is de afwijking in minuten voor een operatie?\n",
    "    * Wat voor verdeling de behandeltijd van de operatie?\n",
    "  * Op welke dagen vinden de operaties plaats? (frequentietabel)\n",
    "  * Hoeveel operaties zijn er gemiddeld per dag?\n",
    "  * Hoeveel operaties zijn er gemiddeld per week?\n",
    "  * Wat voor verdeling volgen de operaties per dag in de week (is het bijv. op maandag drukker dan op een andere dag)\n",
    "  * Hoeveel verschillende operatiekamers zijn er en welke wordt het vaakst gebruikt? (Frequentietabel, operaties per week per operatiekamer)"
   ]
  },
  {
   "cell_type": "markdown",
   "metadata": {},
   "source": [
    "## Dataset"
   ]
  },
  {
   "cell_type": "code",
   "execution_count": 62,
   "metadata": {},
   "outputs": [
    {
     "data": {
      "text/html": [
       "<ol class=list-inline>\n",
       "\t<li>'Patient.Primary.Mrn'</li>\n",
       "\t<li>'Patient.Birth.Date'</li>\n",
       "\t<li>'Performing.Department.Department.Name'</li>\n",
       "\t<li>'Registration.Procedure.Code'</li>\n",
       "\t<li>'Registration.Procedure.Name'</li>\n",
       "\t<li>'Service.Date.Day.Of.Week'</li>\n",
       "\t<li>'Service.Date.Year'</li>\n",
       "\t<li>'Service.Provider.Id'</li>\n",
       "\t<li>'Log.ID'</li>\n",
       "\t<li>'Log.Status'</li>\n",
       "\t<li>'Patient.Class'</li>\n",
       "\t<li>'Date'</li>\n",
       "\t<li>'Case.Request'</li>\n",
       "\t<li>'Scheduled.in.Room'</li>\n",
       "\t<li>'Patient.in.Room'</li>\n",
       "\t<li>'Scheduled.out.of.Room'</li>\n",
       "\t<li>'Patient.out.of.Room'</li>\n",
       "\t<li>'Procedure.Complete'</li>\n",
       "\t<li>'Procedure.Start'</li>\n",
       "\t<li>'Room'</li>\n",
       "\t<li>'Admission.Date'</li>\n",
       "\t<li>'Discharge.Date'</li>\n",
       "\t<li>'Department'</li>\n",
       "</ol>\n"
      ],
      "text/latex": [
       "\\begin{enumerate*}\n",
       "\\item 'Patient.Primary.Mrn'\n",
       "\\item 'Patient.Birth.Date'\n",
       "\\item 'Performing.Department.Department.Name'\n",
       "\\item 'Registration.Procedure.Code'\n",
       "\\item 'Registration.Procedure.Name'\n",
       "\\item 'Service.Date.Day.Of.Week'\n",
       "\\item 'Service.Date.Year'\n",
       "\\item 'Service.Provider.Id'\n",
       "\\item 'Log.ID'\n",
       "\\item 'Log.Status'\n",
       "\\item 'Patient.Class'\n",
       "\\item 'Date'\n",
       "\\item 'Case.Request'\n",
       "\\item 'Scheduled.in.Room'\n",
       "\\item 'Patient.in.Room'\n",
       "\\item 'Scheduled.out.of.Room'\n",
       "\\item 'Patient.out.of.Room'\n",
       "\\item 'Procedure.Complete'\n",
       "\\item 'Procedure.Start'\n",
       "\\item 'Room'\n",
       "\\item 'Admission.Date'\n",
       "\\item 'Discharge.Date'\n",
       "\\item 'Department'\n",
       "\\end{enumerate*}\n"
      ],
      "text/markdown": [
       "1. 'Patient.Primary.Mrn'\n",
       "2. 'Patient.Birth.Date'\n",
       "3. 'Performing.Department.Department.Name'\n",
       "4. 'Registration.Procedure.Code'\n",
       "5. 'Registration.Procedure.Name'\n",
       "6. 'Service.Date.Day.Of.Week'\n",
       "7. 'Service.Date.Year'\n",
       "8. 'Service.Provider.Id'\n",
       "9. 'Log.ID'\n",
       "10. 'Log.Status'\n",
       "11. 'Patient.Class'\n",
       "12. 'Date'\n",
       "13. 'Case.Request'\n",
       "14. 'Scheduled.in.Room'\n",
       "15. 'Patient.in.Room'\n",
       "16. 'Scheduled.out.of.Room'\n",
       "17. 'Patient.out.of.Room'\n",
       "18. 'Procedure.Complete'\n",
       "19. 'Procedure.Start'\n",
       "20. 'Room'\n",
       "21. 'Admission.Date'\n",
       "22. 'Discharge.Date'\n",
       "23. 'Department'\n",
       "\n",
       "\n"
      ],
      "text/plain": [
       " [1] \"Patient.Primary.Mrn\"                  \n",
       " [2] \"Patient.Birth.Date\"                   \n",
       " [3] \"Performing.Department.Department.Name\"\n",
       " [4] \"Registration.Procedure.Code\"          \n",
       " [5] \"Registration.Procedure.Name\"          \n",
       " [6] \"Service.Date.Day.Of.Week\"             \n",
       " [7] \"Service.Date.Year\"                    \n",
       " [8] \"Service.Provider.Id\"                  \n",
       " [9] \"Log.ID\"                               \n",
       "[10] \"Log.Status\"                           \n",
       "[11] \"Patient.Class\"                        \n",
       "[12] \"Date\"                                 \n",
       "[13] \"Case.Request\"                         \n",
       "[14] \"Scheduled.in.Room\"                    \n",
       "[15] \"Patient.in.Room\"                      \n",
       "[16] \"Scheduled.out.of.Room\"                \n",
       "[17] \"Patient.out.of.Room\"                  \n",
       "[18] \"Procedure.Complete\"                   \n",
       "[19] \"Procedure.Start\"                      \n",
       "[20] \"Room\"                                 \n",
       "[21] \"Admission.Date\"                       \n",
       "[22] \"Discharge.Date\"                       \n",
       "[23] \"Department\"                           "
      ]
     },
     "metadata": {},
     "output_type": "display_data"
    }
   ],
   "source": [
    "df = read.csv(\"dataset.csv\", header = TRUE)\n",
    "procedure.codes = list('331800B', '331801C', '332090H', '332320B', '332320S', '332323', '332330')\n",
    "dff = df[df$Registration.Procedure.Code %in% procedure.codes, ]\n",
    "dff$Registration.Procedure.Code = droplevels(dff$Registration.Procedure.Code)\n",
    "colnames(dff)"
   ]
  },
  {
   "cell_type": "markdown",
   "metadata": {},
   "source": [
    "De code `332311H` heeft geen records."
   ]
  },
  {
   "cell_type": "code",
   "execution_count": 63,
   "metadata": {},
   "outputs": [
    {
     "data": {
      "text/html": [
       "0"
      ],
      "text/latex": [
       "0"
      ],
      "text/markdown": [
       "0"
      ],
      "text/plain": [
       "[1] 0"
      ]
     },
     "metadata": {},
     "output_type": "display_data"
    }
   ],
   "source": [
    "nrow(dff[dff$Registration.Procedure.Codes == '332311H',])"
   ]
  },
  {
   "cell_type": "markdown",
   "metadata": {},
   "source": [
    "### Aantal rijen"
   ]
  },
  {
   "cell_type": "markdown",
   "metadata": {},
   "source": [
    "De dataset bevat een totaal aantal rijen van:"
   ]
  },
  {
   "cell_type": "code",
   "execution_count": 64,
   "metadata": {
    "scrolled": true
   },
   "outputs": [
    {
     "data": {
      "text/html": [
       "6624"
      ],
      "text/latex": [
       "6624"
      ],
      "text/markdown": [
       "6624"
      ],
      "text/plain": [
       "[1] 6624"
      ]
     },
     "metadata": {},
     "output_type": "display_data"
    }
   ],
   "source": [
    "nrow(df)"
   ]
  },
  {
   "cell_type": "markdown",
   "metadata": {},
   "source": [
    "### Aantal relevante rijen"
   ]
  },
  {
   "cell_type": "markdown",
   "metadata": {},
   "source": [
    "Hierop is een filtering gemaakt op basis van procedure codes. De procedure codes die relevant zijn voor het onderzoek zijn: \n",
    " \n",
    "  * 331800B, 331801C, 332090H, 332311H, 332320B, 332320S, 332323, 332330\n",
    "\n",
    "Hiervan is het volgende aantal rijen relevant voor het onderzoek:"
   ]
  },
  {
   "cell_type": "code",
   "execution_count": 65,
   "metadata": {
    "scrolled": true
   },
   "outputs": [
    {
     "data": {
      "text/html": [
       "3048"
      ],
      "text/latex": [
       "3048"
      ],
      "text/markdown": [
       "3048"
      ],
      "text/plain": [
       "[1] 3048"
      ]
     },
     "metadata": {},
     "output_type": "display_data"
    }
   ],
   "source": [
    "nrow(dff)"
   ]
  },
  {
   "cell_type": "markdown",
   "metadata": {},
   "source": [
    "Extra toelichtingen voor de dataset (tips van het MCL):\n",
    "\n",
    " * `Service.Provider.Id` is de arts (arts code)\n",
    " * `Datum` is de uitvoerdatum van de operatie\n",
    " * Bedieningstijd = kamer uit - kamer in (in minuten)\n",
    " * Geannuleerde behandeling: hiervan de `Patient.in.Room` = `00:00:00`. Deze moeten worden weggefilterd."
   ]
  },
  {
   "cell_type": "markdown",
   "metadata": {},
   "source": [
    "### Aantal geannuleerde behandelingen"
   ]
  },
  {
   "cell_type": "markdown",
   "metadata": {},
   "source": [
    "Het aantal geannuleerde behandelingen is:"
   ]
  },
  {
   "cell_type": "code",
   "execution_count": 66,
   "metadata": {},
   "outputs": [
    {
     "data": {
      "text/html": [
       "11"
      ],
      "text/latex": [
       "11"
      ],
      "text/markdown": [
       "11"
      ],
      "text/plain": [
       "[1] 11"
      ]
     },
     "metadata": {},
     "output_type": "display_data"
    }
   ],
   "source": [
    "nrow(dff[(dff$Patient.in.Room == \"00:00:00\"), ])"
   ]
  },
  {
   "cell_type": "markdown",
   "metadata": {},
   "source": [
    "Deze moeten worden weggefilterd uit de dataset."
   ]
  },
  {
   "cell_type": "code",
   "execution_count": 67,
   "metadata": {},
   "outputs": [],
   "source": [
    "dff = dff[(dff$Patient.in.Room != \"00:00:00\"), ]"
   ]
  },
  {
   "cell_type": "code",
   "execution_count": 68,
   "metadata": {},
   "outputs": [
    {
     "data": {
      "text/html": [
       "3037"
      ],
      "text/latex": [
       "3037"
      ],
      "text/markdown": [
       "3037"
      ],
      "text/plain": [
       "[1] 3037"
      ]
     },
     "metadata": {},
     "output_type": "display_data"
    }
   ],
   "source": [
    "nrow(dff)"
   ]
  },
  {
   "cell_type": "markdown",
   "metadata": {},
   "source": [
    "## Berekende variabelen\n",
    "\n",
    "Om de bedieningstijden te kunnen bepalen, moeten we eerst een extra kolom toevoegen met de behandeltijd in minuten. Hiervoor gebruiken we `bedieningstijd = kamer uit - kamer in`."
   ]
  },
  {
   "cell_type": "code",
   "execution_count": 69,
   "metadata": {
    "scrolled": false
   },
   "outputs": [
    {
     "data": {
      "image/png": "[encoded data removed]",
      "text/plain": [
       "Plot with title \"Behandeltijd (alle operatiecodes)\""
      ]
     },
     "metadata": {},
     "output_type": "display_data"
    }
   ],
   "source": [
    "time.format = \"%H:%M:%S\"\n",
    "time.patient.in.room = as.POSIXlt(dff$Patient.in.Room, format=time.format)\n",
    "time.patient.out.room = as.POSIXlt(dff$Patient.out.of.Room, format=time.format)\n",
    "dff$Service.Time = as.numeric(difftime(time.patient.out.room, time.patient.in.room, units=\"mins\"))\n",
    "hist(dff[dff$Service.Time < 60, ]$Service.Time, breaks=50, main=\"Behandeltijd (alle operatiecodes)\", xlab=\"Behandeltijd in minuten\", ylab=\"Frequentie\")"
   ]
  },
  {
   "cell_type": "code",
   "execution_count": 70,
   "metadata": {},
   "outputs": [
    {
     "data": {
      "image/png": "[encoded data removed]",
      "text/plain": [
       "plot without title"
      ]
     },
     "metadata": {},
     "output_type": "display_data"
    }
   ],
   "source": [
    "boxplot(dff$Service.Time)"
   ]
  },
  {
   "cell_type": "code",
   "execution_count": 71,
   "metadata": {},
   "outputs": [
    {
     "data": {
      "image/png": "[encoded data removed]",
      "text/plain": [
       "plot without title"
      ]
     },
     "metadata": {},
     "output_type": "display_data"
    }
   ],
   "source": [
    "boxplot(dff[dff$Service.Time < 30,]$Service.Time)"
   ]
  },
  {
   "cell_type": "markdown",
   "metadata": {},
   "source": [
    "## Antwoorden op de onderzoekvragen"
   ]
  },
  {
   "cell_type": "markdown",
   "metadata": {},
   "source": [
    "### Hoeveel verschillende operaties zijn er?"
   ]
  },
  {
   "cell_type": "markdown",
   "metadata": {},
   "source": [
    "Het aantal verschillende operaties is hetzelfde als het aantal procedurecodes:"
   ]
  },
  {
   "cell_type": "code",
   "execution_count": 75,
   "metadata": {},
   "outputs": [
    {
     "data": {
      "text/html": [
       "7"
      ],
      "text/latex": [
       "7"
      ],
      "text/markdown": [
       "7"
      ],
      "text/plain": [
       "[1] 7"
      ]
     },
     "metadata": {},
     "output_type": "display_data"
    }
   ],
   "source": [
    "length(procedure.codes)"
   ]
  },
  {
   "cell_type": "markdown",
   "metadata": {},
   "source": [
    "### Hoe zijn de verschillende operaties verdeeld? "
   ]
  },
  {
   "cell_type": "markdown",
   "metadata": {},
   "source": [
    "Dit is gemakkelijk te zien met een frequentietabel. Hiervoor worden het aantal records geteld per procedure code:"
   ]
  },
  {
   "cell_type": "code",
   "execution_count": 76,
   "metadata": {
    "scrolled": true
   },
   "outputs": [
    {
     "data": {
      "text/html": [
       "<dl class=dl-horizontal>\n",
       "\t<dt>331800B</dt>\n",
       "\t\t<dd>18</dd>\n",
       "\t<dt>331801C</dt>\n",
       "\t\t<dd>1739</dd>\n",
       "\t<dt>332090H</dt>\n",
       "\t\t<dd>28</dd>\n",
       "\t<dt>332320B</dt>\n",
       "\t\t<dd>71</dd>\n",
       "\t<dt>332320S</dt>\n",
       "\t\t<dd>60</dd>\n",
       "\t<dt>332323</dt>\n",
       "\t\t<dd>646</dd>\n",
       "\t<dt>332330</dt>\n",
       "\t\t<dd>475</dd>\n",
       "</dl>\n"
      ],
      "text/latex": [
       "\\begin{description*}\n",
       "\\item[331800B] 18\n",
       "\\item[331801C] 1739\n",
       "\\item[332090H] 28\n",
       "\\item[332320B] 71\n",
       "\\item[332320S] 60\n",
       "\\item[332323] 646\n",
       "\\item[332330] 475\n",
       "\\end{description*}\n"
      ],
      "text/markdown": [
       "331800B\n",
       ":   18331801C\n",
       ":   1739332090H\n",
       ":   28332320B\n",
       ":   71332320S\n",
       ":   60332323\n",
       ":   646332330\n",
       ":   475\n",
       "\n"
      ],
      "text/plain": [
       "331800B 331801C 332090H 332320B 332320S  332323  332330 \n",
       "     18    1739      28      71      60     646     475 "
      ]
     },
     "metadata": {},
     "output_type": "display_data"
    }
   ],
   "source": [
    "summary(dff$Registration.Procedure.Code)"
   ]
  },
  {
   "cell_type": "code",
   "execution_count": 77,
   "metadata": {},
   "outputs": [
    {
     "data": {
      "image/png": "[encoded data removed]",
      "text/plain": [
       "plot without title"
      ]
     },
     "metadata": {},
     "output_type": "display_data"
    }
   ],
   "source": [
    "plot(dff$Registration.Procedure.Code)"
   ]
  },
  {
   "cell_type": "markdown",
   "metadata": {},
   "source": [
    "### Wat is de bedieningstijd voor elke operatie?"
   ]
  },
  {
   "cell_type": "markdown",
   "metadata": {},
   "source": [
    "In dit gedeelte willen we per operatie code het volgende bepalen:\n",
    "\n",
    "* Gemiddelde\n",
    "* Standaardafwijking\n",
    "* Verdeling\n",
    "* Betrouwbaarheidsinterval\n",
    "  \n"
   ]
  },
  {
   "cell_type": "code",
   "execution_count": 78,
   "metadata": {},
   "outputs": [
    {
     "data": {
      "text/html": [
       "<table>\n",
       "<thead><tr><th scope=col>procedure.codes</th><th scope=col>mu</th><th scope=col>sigma</th><th scope=col>count</th></tr></thead>\n",
       "<tbody>\n",
       "\t<tr><td>331800B </td><td>25.66667</td><td>74.87951</td><td>18      </td></tr>\n",
       "\t<tr><td>331801C </td><td>11.39333</td><td>20.97718</td><td>1739    </td></tr>\n",
       "\t<tr><td>332090H </td><td>19.42857</td><td>20.29857</td><td>28      </td></tr>\n",
       "\t<tr><td>332320B</td><td>20.8169</td><td>20.2395</td><td>71     </td></tr>\n",
       "\t<tr><td>332320S </td><td>14.31667</td><td>14.96945</td><td>60      </td></tr>\n",
       "\t<tr><td>332323  </td><td>8.170279</td><td>15.63029</td><td>646     </td></tr>\n",
       "\t<tr><td>332330  </td><td>14.31158</td><td>19.05111</td><td>475     </td></tr>\n",
       "</tbody>\n",
       "</table>\n"
      ],
      "text/latex": [
       "\\begin{tabular}{llll}\n",
       " procedure.codes & mu & sigma & count\\\\\n",
       "\\hline\n",
       "\t 331800B  & 25.66667 & 74.87951 & 18      \\\\\n",
       "\t 331801C  & 11.39333 & 20.97718 & 1739    \\\\\n",
       "\t 332090H  & 19.42857 & 20.29857 & 28      \\\\\n",
       "\t 332320B & 20.8169 & 20.2395 & 71     \\\\\n",
       "\t 332320S  & 14.31667 & 14.96945 & 60      \\\\\n",
       "\t 332323   & 8.170279 & 15.63029 & 646     \\\\\n",
       "\t 332330   & 14.31158 & 19.05111 & 475     \\\\\n",
       "\\end{tabular}\n"
      ],
      "text/markdown": [
       "\n",
       "procedure.codes | mu | sigma | count | \n",
       "|---|---|---|---|---|---|---|\n",
       "| 331800B  | 25.66667 | 74.87951 | 18       | \n",
       "| 331801C  | 11.39333 | 20.97718 | 1739     | \n",
       "| 332090H  | 19.42857 | 20.29857 | 28       | \n",
       "| 332320B | 20.8169 | 20.2395 | 71      | \n",
       "| 332320S  | 14.31667 | 14.96945 | 60       | \n",
       "| 332323   | 8.170279 | 15.63029 | 646      | \n",
       "| 332330   | 14.31158 | 19.05111 | 475      | \n",
       "\n",
       "\n"
      ],
      "text/plain": [
       "     procedure.codes mu       sigma    count\n",
       "[1,] 331800B         25.66667 74.87951 18   \n",
       "[2,] 331801C         11.39333 20.97718 1739 \n",
       "[3,] 332090H         19.42857 20.29857 28   \n",
       "[4,] 332320B         20.8169  20.2395  71   \n",
       "[5,] 332320S         14.31667 14.96945 60   \n",
       "[6,] 332323          8.170279 15.63029 646  \n",
       "[7,] 332330          14.31158 19.05111 475  "
      ]
     },
     "metadata": {},
     "output_type": "display_data"
    }
   ],
   "source": [
    "n=50\n",
    "mu = c(length(procedure.codes))\n",
    "sigma = c(length(procedure.codes))\n",
    "count = c(length(procedure.codes))\n",
    "for(i in 1:(length(procedure.codes))) {\n",
    "    mu[i] = mean(dff[dff$Registration.Procedure.Code == procedure.codes[i],]$Service.Time)\n",
    "    sigma[i] = sd(dff[dff$Registration.Procedure.Code == procedure.codes[i],]$Service.Time)\n",
    "    count[i] = nrow(dff[dff$Registration.Procedure.Code == procedure.codes[i],])\n",
    "}\n",
    "cbind(procedure.codes, mu, sigma, count)"
   ]
  },
  {
   "cell_type": "markdown",
   "metadata": {},
   "source": [
    "Om een aselecte steekproef te nemen met $n=50$, kunnen we niet van alle procedures een steekproef nemen. In eerste instantie is er een betrouwbaarheidsinterval opgesteld voor alle procedures waarvan er 50 of meer records beschikbaar zijn. Om een interval voor $\\mu$ te bepalen gebruiken we:\n",
    "\n",
    "$$ \\bar{x} \\pm z_{1-\\alpha/2}\\cdot\\frac{\\sigma}{\\sqrt{n}} $$"
   ]
  },
  {
   "cell_type": "code",
   "execution_count": 79,
   "metadata": {},
   "outputs": [],
   "source": [
    "mean.interval = function(X, alpha) {\n",
    "    n = length(X)\n",
    "    sigma = sd(X)\n",
    "    sem = sigma / sqrt(n)\n",
    "    E = qnorm(1-alpha/2)*sem\n",
    "    xbar = mean(X)\n",
    "    xbar + c(-E,E)\n",
    "}"
   ]
  },
  {
   "cell_type": "markdown",
   "metadata": {},
   "source": [
    "Om even te testen of het werkt, proberen we het uit met de volgende gegevens:"
   ]
  },
  {
   "cell_type": "code",
   "execution_count": 80,
   "metadata": {},
   "outputs": [
    {
     "data": {
      "text/html": [
       "<ol class=list-inline>\n",
       "\t<li>1.05034331570204</li>\n",
       "\t<li>2.94965668429796</li>\n",
       "</ol>\n"
      ],
      "text/latex": [
       "\\begin{enumerate*}\n",
       "\\item 1.05034331570204\n",
       "\\item 2.94965668429796\n",
       "\\end{enumerate*}\n"
      ],
      "text/markdown": [
       "1. 1.05034331570204\n",
       "2. 2.94965668429796\n",
       "\n",
       "\n"
      ],
      "text/plain": [
       "[1] 1.050343 2.949657"
      ]
     },
     "metadata": {},
     "output_type": "display_data"
    }
   ],
   "source": [
    "mean.interval(c(1,2,3), .1)"
   ]
  },
  {
   "cell_type": "markdown",
   "metadata": {},
   "source": [
    "Voor alle procedure codes waarvan $n>=50$ berekenen we nu het gemiddelde/stdev en het betrouwbaarheidsinterval voor het populatiegemiddelde:"
   ]
  },
  {
   "cell_type": "code",
   "execution_count": 111,
   "metadata": {},
   "outputs": [],
   "source": [
    "plot.samples = function(X, title) {\n",
    "    hist(X, main=title)\n",
    "    boxplot(X, main=title)\n",
    "}"
   ]
  },
  {
   "cell_type": "code",
   "execution_count": 112,
   "metadata": {
    "scrolled": false
   },
   "outputs": [
    {
     "name": "stdout",
     "output_type": "stream",
     "text": [
      "[1] \"Interval Estimation for 331801C\"\n",
      "[1] \"Population size: 1739\"\n",
      "[1] \"n = 50\"\n",
      "[1] \"mean = 11.22\"\n",
      "[1] \"stdev =  16.4481746397463\"\n",
      "[1] \"Interval Estimate of Population Mean 95 %\"\n",
      "[1]  6.660882 15.779118\n"
     ]
    },
    {
     "data": {
      "image/png": "[encoded data removed]",
      "text/plain": [
       "Plot with title \"331801C\""
      ]
     },
     "metadata": {},
     "output_type": "display_data"
    },
    {
     "name": "stdout",
     "output_type": "stream",
     "text": [
      "[1] \"\"\n",
      "[1] \"Interval Estimation for 332320B\"\n",
      "[1] \"Population size: 71\"\n",
      "[1] \"n = 50\"\n",
      "[1] \"mean = 19.92\"\n",
      "[1] \"stdev =  20.1097397460301\"\n",
      "[1] \"Interval Estimate of Population Mean 95 %\"\n",
      "[1] 14.34597 25.49403\n"
     ]
    },
    {
     "data": {
      "image/png": "[encoded data removed]",
      "text/plain": [
       "Plot with title \"331801C\""
      ]
     },
     "metadata": {},
     "output_type": "display_data"
    },
    {
     "data": {
      "image/png": "[encoded data removed]",
      "text/plain": [
       "Plot with title \"332320B\""
      ]
     },
     "metadata": {},
     "output_type": "display_data"
    },
    {
     "name": "stdout",
     "output_type": "stream",
     "text": [
      "[1] \"\"\n",
      "[1] \"Interval Estimation for 332320S\"\n",
      "[1] \"Population size: 60\"\n",
      "[1] \"n = 50\"\n",
      "[1] \"mean = 14.12\"\n",
      "[1] \"stdev =  14.968865647587\"\n",
      "[1] \"Interval Estimate of Population Mean 95 %\"\n",
      "[1]  9.970918 18.269082\n"
     ]
    },
    {
     "data": {
      "image/png": "[encoded data removed]",
      "text/plain": [
       "Plot with title \"332320B\""
      ]
     },
     "metadata": {},
     "output_type": "display_data"
    },
    {
     "data": {
      "image/png": "[encoded data removed]",
      "text/plain": [
       "Plot with title \"332320S\""
      ]
     },
     "metadata": {},
     "output_type": "display_data"
    },
    {
     "name": "stdout",
     "output_type": "stream",
     "text": [
      "[1] \"\"\n",
      "[1] \"Interval Estimation for 332323\"\n",
      "[1] \"Population size: 646\"\n",
      "[1] \"n = 50\"\n",
      "[1] \"mean = 7.6\"\n",
      "[1] \"stdev =  10.6291858501362\"\n",
      "[1] \"Interval Estimate of Population Mean 95 %\"\n",
      "[1]  4.653794 10.546206\n"
     ]
    },
    {
     "data": {
      "image/png": "[encoded data removed]",
      "text/plain": [
       "Plot with title \"332320S\""
      ]
     },
     "metadata": {},
     "output_type": "display_data"
    },
    {
     "data": {
      "image/png": "[encoded data removed]",
      "text/plain": [
       "Plot with title \"332323\""
      ]
     },
     "metadata": {},
     "output_type": "display_data"
    },
    {
     "name": "stdout",
     "output_type": "stream",
     "text": [
      "[1] \"\"\n",
      "[1] \"Interval Estimation for 332330\"\n",
      "[1] \"Population size: 475\"\n",
      "[1] \"n = 50\"\n",
      "[1] \"mean = 19.52\"\n",
      "[1] \"stdev =  34.705901397842\"\n",
      "[1] \"Interval Estimate of Population Mean 95 %\"\n",
      "[1]  9.900192 29.139808\n"
     ]
    },
    {
     "data": {
      "image/png": "[encoded data removed]",
      "text/plain": [
       "Plot with title \"332323\""
      ]
     },
     "metadata": {},
     "output_type": "display_data"
    },
    {
     "data": {
      "image/png": "[encoded data removed]",
      "text/plain": [
       "Plot with title \"332330\""
      ]
     },
     "metadata": {},
     "output_type": "display_data"
    },
    {
     "name": "stdout",
     "output_type": "stream",
     "text": [
      "[1] \"\"\n"
     ]
    },
    {
     "data": {
      "image/png": "[encoded data removed]",
      "text/plain": [
       "Plot with title \"332330\""
      ]
     },
     "metadata": {},
     "output_type": "display_data"
    }
   ],
   "source": [
    "selected.procedure.codes = c('331801C', '332320B', '332320S', '332323', '332330')\n",
    "n=50\n",
    "alpha=0.05\n",
    "\n",
    "for(spc in selected.procedure.codes) {\n",
    "    records = dff[dff$Registration.Procedure.Code == spc,]\n",
    "    samples = sample(records$Service.Time, n)\n",
    "    print(paste('Interval Estimation for', spc))\n",
    "    print(paste('Population size:', nrow(records)))\n",
    "    print(paste('n =',n))\n",
    "    print(paste('mean =', mean(samples)))\n",
    "    print(paste('stdev = ', sd(samples)))\n",
    "    print(paste('Interval Estimate of Population Mean', (1-alpha)*100, '%'))\n",
    "    print(mean.interval(samples, alpha))\n",
    "    plot.samples(samples, spc)\n",
    "    print('')    \n",
    "}"
   ]
  },
  {
   "cell_type": "markdown",
   "metadata": {},
   "source": [
    "### Hoe zijn de operaties gedistribueerd per dag?"
   ]
  },
  {
   "cell_type": "code",
   "execution_count": 115,
   "metadata": {},
   "outputs": [
    {
     "data": {
      "image/png": "[encoded data removed]",
      "text/plain": [
       "plot without title"
      ]
     },
     "metadata": {},
     "output_type": "display_data"
    }
   ],
   "source": [
    "plot(dff$Service.Date.Day.Of.Week)"
   ]
  },
  {
   "cell_type": "code",
   "execution_count": null,
   "metadata": {},
   "outputs": [],
   "source": [
    "dff$Service.Time"
   ]
  }
 ],
 "metadata": {
  "kernelspec": {
   "display_name": "R",
   "language": "R",
   "name": "ir"
  },
  "language_info": {
   "codemirror_mode": "r",
   "file_extension": ".r",
   "mimetype": "text/x-r-source",
   "name": "R",
   "pygments_lexer": "r",
   "version": "3.4.4"
  }
 },
 "nbformat": 4,
 "nbformat_minor": 2
}
