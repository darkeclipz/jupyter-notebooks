{
 "cells": [
  {
   "cell_type": "markdown",
   "metadata": {},
   "source": [
    "# T-verdeling"
   ]
  },
  {
   "cell_type": "markdown",
   "metadata": {},
   "source": [
    "De t-verdeling kent een geschatte standaarddeviatie, terwijl de normale verdeling met een exacte bekende standaarddeviatie.\n",
    "\n",
    "$$ \\underline{t} = \\dfrac{\\overline{\\underline x} - \\mu}{\\frac{\\underline{s}}{\\sqrt{n}}} $$\n",
    "\n",
    "waarbij $\\underline s$ een schatting is, en bepaald door:\n",
    "\n",
    "$$ \\underline{s} = \\sqrt{  \\dfrac{\\sum\\left(X_i - \\underline{\\overline X}\\right)^2}{n-1}  } $$"
   ]
  },
  {
   "cell_type": "markdown",
   "metadata": {},
   "source": [
    "# Betrouwbaarheidsinterval voor $\\mu$ bij onbekende $\\sigma$"
   ]
  },
  {
   "cell_type": "markdown",
   "metadata": {},
   "source": [
    "$$ \\bar{x} - t \\cdot \\dfrac{s}{\\sqrt n} < \\mu < \\bar{x} + t \\cdot \\dfrac{s}{\\sqrt n} $$"
   ]
  },
  {
   "cell_type": "code",
   "execution_count": 90,
   "metadata": {},
   "outputs": [
    {
     "data": {
      "text/html": [
       "<ol class=list-inline>\n",
       "\t<li>15.0414217459993</li>\n",
       "\t<li>16.9585782540007</li>\n",
       "</ol>\n"
      ],
      "text/latex": [
       "\\begin{enumerate*}\n",
       "\\item 15.0414217459993\n",
       "\\item 16.9585782540007\n",
       "\\end{enumerate*}\n"
      ],
      "text/markdown": [
       "1. 15.0414217459993\n",
       "2. 16.9585782540007\n",
       "\n",
       "\n"
      ],
      "text/plain": [
       "[1] 15.04142 16.95858"
      ]
     },
     "metadata": {},
     "output_type": "display_data"
    }
   ],
   "source": [
    "x = 16\n",
    "s = 1.34\n",
    "n = 10\n",
    "alpha = 0.05\n",
    "t = abs(qt(alpha/2, n-1))\n",
    "interval = c(x - t * s / sqrt(n), x + t * s / sqrt(n))\n",
    "interval"
   ]
  },
  {
   "cell_type": "markdown",
   "metadata": {},
   "source": [
    "# Harmonisch gemiddelde"
   ]
  },
  {
   "cell_type": "markdown",
   "metadata": {},
   "source": [
    "Het harmonisch gemiddelde is een speciaal gemiddelde, van toepassing bij het berekenen van gemiddelden van verhoudingsgetallen [[Wikipedia](https://nl.wikipedia.org/wiki/Harmonisch_gemiddelde)]. \n",
    "\n",
    "$$\\bar{n}_h = \\dfrac{c}{\\frac{1}{n_1} + \\frac{1}{n_2} + \\ldots + \\frac{1}{n_c}} = c \\left( \\sum\\limits_{j=1}^c\\dfrac{1}{n_j}\\right)^{-1}$$"
   ]
  },
  {
   "cell_type": "code",
   "execution_count": 88,
   "metadata": {},
   "outputs": [
    {
     "data": {
      "text/html": [
       "3.85714285714286"
      ],
      "text/latex": [
       "3.85714285714286"
      ],
      "text/markdown": [
       "3.85714285714286"
      ],
      "text/plain": [
       "[1] 3.857143"
      ]
     },
     "metadata": {},
     "output_type": "display_data"
    },
    {
     "data": {
      "text/html": [
       "3.18181818181818"
      ],
      "text/latex": [
       "3.18181818181818"
      ],
      "text/markdown": [
       "3.18181818181818"
      ],
      "text/plain": [
       "[1] 3.181818"
      ]
     },
     "metadata": {},
     "output_type": "display_data"
    }
   ],
   "source": [
    "X = c(2,6,2,5,3,6,3)\n",
    "mean(X)               # arithmetic mean\n",
    "length(X) / sum(1/X)  # harmonic mean"
   ]
  },
  {
   "cell_type": "markdown",
   "metadata": {},
   "source": [
    "# Pooled-variance principe"
   ]
  },
  {
   "cell_type": "markdown",
   "metadata": {},
   "source": [
    "Het is mogelijk om varianties samen te voegen met het pooled-variance principe. De formule hiervoor is als volgt:"
   ]
  },
  {
   "cell_type": "markdown",
   "metadata": {},
   "source": [
    "$$ s_2 = \\dfrac{(n_1 - 1)s_1^2 + \\ldots + (n_k - 1)s_k^2}{(n_1 - 1) + \\ldots + (n_k - 1)} $$"
   ]
  },
  {
   "cell_type": "markdown",
   "metadata": {},
   "source": [
    "waarbij $k$ het aantal varianties zijn."
   ]
  },
  {
   "cell_type": "markdown",
   "metadata": {},
   "source": [
    "# ANOVA (één-factor model)"
   ]
  },
  {
   "cell_type": "markdown",
   "metadata": {},
   "source": [
    "Om de ANOVA analyse te doen berekenen we de volgende grootheden:\n",
    "\n",
    "**Sum of Squares Total**:\n",
    "\n",
    "$$SST = \\sum\\limits_{j=1}^c \\sum\\limits_{i=1}^{n_j}\\left( X_{ij} - \\bar{X}_{\\cdot \\cdot}\\right)^2; MST = \\dfrac{SST}{n-1}$$\n",
    " \n",
    "**Sum of Squares Error**:\n",
    "\n",
    "$$SSE = \\sum\\limits_{j=1}^c \\sum\\limits_{i=1}^{n_j}\\left( X_{ij} - \\bar{X}_{\\cdot j}\\right)^2; MSE = \\dfrac{SSE}{n-c}$$\n",
    " \n",
    "**Sum of Squares Groups**:\n",
    "\n",
    "$$SSG = \\sum\\limits_{j=1}^c n_j \\left( \\bar{X}_{\\cdot j} - \\bar{X}_{\\cdot \\cdot}\\right)^2; MSG = \\dfrac{SSG}{c-1}$$\n",
    "\n",
    "waarbij $n$ het totaal aantal waarnemingen is en $c$ het aantal groepen. Hiervoor geldt er dat $SST = SSG + SSE$.\n",
    "\n",
    "**ANOVA tabel**\n",
    "\n",
    "Met de berekende waarden kunnen we de volgende tabel opstellen:\n",
    "\n",
    "|ANOVA|vrijheidsgraden ($df$)|Sum of Squares|Mean of Squares|F-ratio|\n",
    "|--|--|--|--|--|\n",
    "|Groepen (G)|$c-1$|$SSG$|$MSG$|$\\frac{MSG}{MSE}$|\n",
    "|Binnen (E)|$n-c$|$SSE$|$MSE$||\n",
    "|Totaal (T)|$n-1$|$SST$||"
   ]
  },
  {
   "cell_type": "markdown",
   "metadata": {},
   "source": [
    "# Ongelijke steekproefgroottes"
   ]
  },
  {
   "cell_type": "markdown",
   "metadata": {},
   "source": [
    "Bij ongelijke steekproefgroottes is $E(\\bar{X}_{\\cdot \\cdot})$ geen zuivere schatter voor $\\mu$. De oplossing hiervoor is als volgt:\n",
    "\n",
    " 1. Eerst bepalen we $\\bar{G}_{\\cdot \\cdot} = \\sum\\limits_{j=1}^c\\left( \\bar{X}_j \\right) / c$.\n",
    " 2. Vervolgens wordt $SSG = \\bar{n}_h \\sum\\limits_{j=1}^c\\left( \\bar{X}_{\\cdot j} - \\bar{G}_{\\cdot \\cdot}\\right)^2 $.\n",
    " \n",
    "waarbij $\\bar{n}_h$ het harmonisch gemiddelde is. In het geval van ongelijke steekproefgroottes geldt dat $SST \\not = SSG + SSE$."
   ]
  },
  {
   "cell_type": "markdown",
   "metadata": {},
   "source": [
    "# Levene's toets"
   ]
  },
  {
   "cell_type": "markdown",
   "metadata": {},
   "source": [
    "Met Levene's toets kunnen we toetsen of populatievarianties mogelijk gelijk zijn aan elkaar. Dit is een vereiste voor de ANOVA analyse. Hierbij stellen we als $H_0$ dat de populatievarianties gelijk zijn aan elkaar en willen we dit niet verwerpen.\n",
    "\n",
    "**Toetsingsgrootheid**\n",
    "\n",
    "$$ F_L = \\dfrac{\\left( \\sum\\limits_{j=1}^c n_j \\left( \\bar{Z}_{\\cdot j} - \\bar{Z}_{\\cdot \\cdot}\\right)^2\\right) / (c-1)}{\\left( \\sum\\limits_{j=1}^c \\sum\\limits_{i=1}^{n_j} \\left( \\bar{Z}_{ij} - \\bar{Z}_{\\cdot j} \\right)^2\\right) / (n-c)} = \\dfrac{MSG}{MSE} \\sim F_{(\\nu_1, \\nu_2)} $$\n",
    "\n",
    "waarbij $Z_{ij} = \\left|\\ X_{ij} - \\bar{X}_{\\cdot j}\\ \\right|$.\n",
    "\n",
    "**Beslissing**\n",
    "\n",
    "Als $p > \\alpha$ dan wordt $H_0$ niet verworpen. De populatievarianties kunnen aan elkaar gelijk zijn."
   ]
  },
  {
   "cell_type": "markdown",
   "metadata": {},
   "source": [
    "# Bonferoni methode"
   ]
  },
  {
   "cell_type": "markdown",
   "metadata": {},
   "source": []
  },
  {
   "cell_type": "markdown",
   "metadata": {},
   "source": [
    "# Maat voor effectgrootte"
   ]
  },
  {
   "cell_type": "markdown",
   "metadata": {},
   "source": [
    "Een maat voor effectgrootte $\\eta^2$, eta kwadraat, geeft het percentage van de variantie v/d scores op de afhankelijke variabele dat door de onafhankelijke variabele wordt verklaard.\n",
    "\n",
    " $$ \\eta^2 = \\dfrac{SSG}{SST} : \\textrm{effectgrootte} $$\n",
    " \n",
    "Dit geldt voor een gelijke steekproefgrootte."
   ]
  },
  {
   "cell_type": "markdown",
   "metadata": {},
   "source": [
    "# Rangtekentoets (Wilcoxon Signed Rank test)"
   ]
  },
  {
   "cell_type": "markdown",
   "metadata": {},
   "source": [
    "Het doel van de analyse is een verschil aantonen tussen twee _afhankelijke/gekoppelde_ groepen op een ordinale variabele.\n",
    "\n",
    "**Stappenplan**\n",
    "\n",
    "1. Maak een tabel met de experimentele groep $E$ en de controle groep $C$.\n",
    "2. Bepaal het verschil $D_i = E_i - C_i$.\n",
    "3. Bepaal hat absolute verschil $|\\ D_i\\ |$.\n",
    "4. Bepaal de rangnummers $R_i$ van het absolute verschil.\n",
    "5. Bepaal het teken voor $R_i$, dus $\\textrm{sign}(D_i) \\cdot R_i$.\n",
    "6. Bepaal $W_+$ wat de som is van alle _positieve_ rangnummers.\n",
    "7. Zodra $W_+$ en $n$ bepaald zijn kunnen we de $p$-waarde opzoeken in tabel 10.\n",
    "\n",
    "Alle verschilscores waarvoor geldt dat $D_i = 0$ moeten worden verwijderd. Indien dit het geval is dat wordt ook de $n$ aangepast. In het geval van gelijke rangnummers, m.a.w. knopen, nemen we het gemiddelde van de rangnummers."
   ]
  },
  {
   "cell_type": "markdown",
   "metadata": {},
   "source": [
    "**Toetsingsgrootheid**\n",
    "\n",
    "De toetsingsgrootheid is $W_+$. Dit is de som is van alle positieve rangnummers. Voor $W_+$ geldt dat:\n",
    "\n",
    " * $\\textrm{E}(W_+) = \\dfrac{n(n-1)}{4}$\n",
    " * $\\textrm{Var}(W_+) = \\dfrac{n(n+1)(2n+1)}{24}$"
   ]
  },
  {
   "cell_type": "markdown",
   "metadata": {},
   "source": [
    "**Centrale limietstelling**"
   ]
  },
  {
   "cell_type": "markdown",
   "metadata": {},
   "source": [
    "Het blijkt dat we $W_+$ normaal kunnen benaderen als $n \\rightarrow \\infty$. De vuistregel hiervoor is $n > 15$. In dit geval geldt dat:\n",
    "\n",
    "$$ W_+ \\sim N\\left(\\mu=\\dfrac{n(n-1)}{4}; \\sigma=\\sqrt{\\dfrac{n(n+1)(2n+1)}{24}}\\right)$$\n",
    "\n",
    "Bij benadering gebruiken we:\n",
    "\n",
    "$$ P(W_+ \\leq k) \\approx P\\left(X_{nor} \\leq k + \\frac{1}{2}\\ |\\ \\mu, \\sigma\\right) $$"
   ]
  },
  {
   "cell_type": "markdown",
   "metadata": {},
   "source": [
    "**Voorbeeld**\n",
    "\n",
    "Voor patienten met depressieve klachten is er een experiment opgezet. Hiervoor is $X : $ score op de vragenlijst ($0\\leq X \\leq 100$). Hoe hoger de score, hoe erger de klachten. Er zijn 10 gematchte paren gemaakt (personen met dezelfde score op de vragenlijst).\n",
    "\n",
    "De experimentele groep $E$ krijgt een behandeling met hardlopen en de controle groep $C$ krijgt een behandeling zonder hardlopen. Toets of het hardlopen effect heeft."
   ]
  },
  {
   "cell_type": "code",
   "execution_count": 56,
   "metadata": {
    "scrolled": true
   },
   "outputs": [
    {
     "data": {
      "text/html": [
       "<table>\n",
       "<tbody>\n",
       "\t<tr><th scope=row>E</th><td>70 </td><td>60 </td><td> 55</td><td>80 </td><td>40 </td><td>68 </td><td>54 </td><td>71 </td><td>70 </td><td> 40</td></tr>\n",
       "\t<tr><th scope=row>C</th><td>75 </td><td>62 </td><td> 65</td><td>77 </td><td>49 </td><td>60 </td><td>63 </td><td>78 </td><td>59 </td><td> 55</td></tr>\n",
       "\t<tr><th scope=row>D</th><td>-5 </td><td>-2 </td><td>-10</td><td> 3 </td><td>-9 </td><td> 8 </td><td>-9 </td><td>-7 </td><td>11 </td><td>-15</td></tr>\n",
       "\t<tr><th scope=row>D.abs</th><td> 5 </td><td> 2 </td><td> 10</td><td> 3 </td><td> 9 </td><td> 8 </td><td> 9 </td><td> 7 </td><td>11 </td><td> 15</td></tr>\n",
       "\t<tr><th scope=row>R</th><td> 4 </td><td> 1 </td><td>  8</td><td> 2 </td><td> 7 </td><td> 6 </td><td> 3 </td><td> 5 </td><td> 9 </td><td> 10</td></tr>\n",
       "\t<tr><th scope=row>R.sign</th><td>-4 </td><td>-1 </td><td> -8</td><td> 2 </td><td>-7 </td><td> 6 </td><td>-3 </td><td>-5 </td><td> 9 </td><td>-10</td></tr>\n",
       "</tbody>\n",
       "</table>\n"
      ],
      "text/latex": [
       "\\begin{tabular}{r|llllllllll}\n",
       "\tE & 70  & 60  &  55 & 80  & 40  & 68  & 54  & 71  & 70  &  40\\\\\n",
       "\tC & 75  & 62  &  65 & 77  & 49  & 60  & 63  & 78  & 59  &  55\\\\\n",
       "\tD & -5  & -2  & -10 &  3  & -9  &  8  & -9  & -7  & 11  & -15\\\\\n",
       "\tD.abs &  5  &  2  &  10 &  3  &  9  &  8  &  9  &  7  & 11  &  15\\\\\n",
       "\tR &  4  &  1  &   8 &  2  &  7  &  6  &  3  &  5  &  9  &  10\\\\\n",
       "\tR.sign & -4  & -1  &  -8 &  2  & -7  &  6  & -3  & -5  &  9  & -10\\\\\n",
       "\\end{tabular}\n"
      ],
      "text/markdown": [
       "\n",
       "| E | 70  | 60  |  55 | 80  | 40  | 68  | 54  | 71  | 70  |  40 | \n",
       "| C | 75  | 62  |  65 | 77  | 49  | 60  | 63  | 78  | 59  |  55 | \n",
       "| D | -5  | -2  | -10 |  3  | -9  |  8  | -9  | -7  | 11  | -15 | \n",
       "| D.abs |  5  |  2  |  10 |  3  |  9  |  8  |  9  |  7  | 11  |  15 | \n",
       "| R |  4  |  1  |   8 |  2  |  7  |  6  |  3  |  5  |  9  |  10 | \n",
       "| R.sign | -4  | -1  |  -8 |  2  | -7  |  6  | -3  | -5  |  9  | -10 | \n",
       "\n",
       "\n"
      ],
      "text/plain": [
       "       [,1] [,2] [,3] [,4] [,5] [,6] [,7] [,8] [,9] [,10]\n",
       "E      70   60    55  80   40   68   54   71   70    40  \n",
       "C      75   62    65  77   49   60   63   78   59    55  \n",
       "D      -5   -2   -10   3   -9    8   -9   -7   11   -15  \n",
       "D.abs   5    2    10   3    9    8    9    7   11    15  \n",
       "R       4    1     8   2    7    6    3    5    9    10  \n",
       "R.sign -4   -1    -8   2   -7    6   -3   -5    9   -10  "
      ]
     },
     "metadata": {},
     "output_type": "display_data"
    }
   ],
   "source": [
    "E = c(70, 60, 55, 80, 40, 68, 54, 71, 70, 40)\n",
    "C = c(75, 62, 65, 77, 49, 60, 63, 78, 59, 55)\n",
    "D = E-C\n",
    "D.abs = abs(D)\n",
    "R = c(4, 1, 8, 2, 7, 6, 3, 5, 9, 10)\n",
    "R.sign = sign(D) * R\n",
    "df = t(data.frame(E, C, D, D.abs, R, R.sign))\n",
    "df"
   ]
  },
  {
   "cell_type": "code",
   "execution_count": 67,
   "metadata": {},
   "outputs": [
    {
     "data": {
      "text/html": [
       "17"
      ],
      "text/latex": [
       "17"
      ],
      "text/markdown": [
       "17"
      ],
      "text/plain": [
       "[1] 17"
      ]
     },
     "metadata": {},
     "output_type": "display_data"
    }
   ],
   "source": [
    "W_pos = sum(R.sign[R.sign > 0])\n",
    "W_pos"
   ]
  },
  {
   "cell_type": "markdown",
   "metadata": {},
   "source": [
    "_Toetsprocedure_\n",
    "\n",
    "1. $H_0$ : $\\eta_E = \\eta_C$ en $H_A$ : $\\eta_E < \\eta_C$.\n",
    "2. Toetsingsgrootheid: $W_+ = 17$ met $n=10$.\n",
    "3. Overschrijdingskans: $p = P(W_+\\leq 17) \\stackrel{\\textrm{Tabel 10}}{=} 0.161$.\n",
    "4. Beslissing: $p \\leq \\alpha$ ($0.10$) dus $H_0$ niet verwerpen.\n",
    "5. Conclusie: Er is geen significant verschil in toetsscores."
   ]
  },
  {
   "cell_type": "code",
   "execution_count": 83,
   "metadata": {},
   "outputs": [
    {
     "name": "stderr",
     "output_type": "stream",
     "text": [
      "Warning message in wilcox.test.default(E, C, paired = TRUE, alternative = \"less\", :\n",
      "\"cannot compute exact p-value with ties\""
     ]
    },
    {
     "data": {
      "text/plain": [
       "\n",
       "\tWilcoxon signed rank test with continuity correction\n",
       "\n",
       "data:  E and C\n",
       "V = 16, p-value = 0.1309\n",
       "alternative hypothesis: true location shift is less than 0\n"
      ]
     },
     "metadata": {},
     "output_type": "display_data"
    }
   ],
   "source": [
    "wilcox.test(E, C, paired=TRUE, alternative='less', correct=TRUE, exact=TRUE)"
   ]
  },
  {
   "cell_type": "markdown",
   "metadata": {},
   "source": [
    "# Wilcoxon som toets (Mann-Whitney toets)"
   ]
  },
  {
   "cell_type": "markdown",
   "metadata": {},
   "source": [
    "Het doel van de analyse is een verschil aantonen tussen twee _onafhankelijke_ groepen op een ordinale variabele.\n",
    "\n",
    " * Groepsvariabele : middel (groep 1: geneesmiddel, groep 2: placebo)\n",
    " * Testvariabele : mate van aggresief gedrag (testscore 1-100)\n",
    " \n",
    "**Stappenplan**\n",
    "\n",
    "1. Sorteer beide testscores, zowel $X$ als $Y$.\n",
    "2. Bepaal de rangnummers voor $X$ en $Y$.\n",
    "3. Bepaal de som voor elke groep, dus $S_x$ en $S_y$ waarbij de $S$ staat voor som.\n",
    "4. Zodra $m$, $n$ en $S_x$ bepaald zijn kunnen we de $p$-waarde opzoeken in tabel 11.\n",
    "\n",
    "Let er op dat geldt dat $m \\leq n$, indien dit niet het geval is kunnen $X$ en $Y$ worden omgewisselt.\n",
    "\n",
    "**Toetsingsgrootheid**\n",
    "\n",
    "De toetsingsgrootheid is $S_x$ waarbij $S$ staat voor de som. Dit is de som van alle rangnummers van $X$. Voor $S_x$ geldt er dat:\n",
    "\n",
    " * $\\textrm E(S_x) = \\frac{m(m+n+1)}{2}$\n",
    " * $\\textrm{Var}(S_x) = \\frac{nm(n+m+1)}{12}$\n",
    " \n",
    "**Centrale limietstelling**\n",
    "\n",
    "Het blijkt dat we $S_x$ normaal kunnen benaderen als $n, m \\rightarrow \\infty$. Hiervoor geldt dat:\n",
    "\n",
    "$$S_x \\sim N\\left(\\mu=\\frac{m(m+n+1)}{2}; \\sigma=\\sqrt{\\frac{nm(n+m+1)}{12}}\\right)$$ \n",
    "\n",
    "De vuistregel om te mogen benaderen eist dat $m, n > 10$. Hiervoor gebruiken we:\n",
    "\n",
    "$$ P(S_x \\leq k) \\approx P\\left(X_{nor} \\leq k + \\frac{1}{2}\\ |\\ \\mu, \\sigma\\right) $$\n",
    " \n",
    "**Voorbeeld**"
   ]
  },
  {
   "cell_type": "markdown",
   "metadata": {},
   "source": [
    "Voor twee groepen $A$ en $B$ wordt er een vitaminepil gegeven. Groep $A$ is vertelt dat het een prestatieverhogend middel is en voor groep $B$ een slaapmiddel. "
   ]
  },
  {
   "cell_type": "code",
   "execution_count": 46,
   "metadata": {
    "scrolled": true
   },
   "outputs": [
    {
     "data": {
      "text/html": [
       "<table>\n",
       "<tbody>\n",
       "\t<tr><th scope=row>groep.a</th><td>36</td><td>41</td><td>44</td><td>45</td><td>52</td><td>53</td><td>54</td><td>57</td><td>58</td><td>77</td></tr>\n",
       "\t<tr><th scope=row>groep.b</th><td>26</td><td>46</td><td>55</td><td>59</td><td>64</td><td>65</td><td>67</td><td>79</td><td>81</td><td>83</td></tr>\n",
       "\t<tr><th scope=row>rank.a</th><td> 2</td><td> 3</td><td> 4</td><td> 5</td><td> 7</td><td> 8</td><td> 9</td><td>11</td><td>12</td><td>17</td></tr>\n",
       "\t<tr><th scope=row>rank.b</th><td> 1</td><td> 6</td><td>10</td><td>13</td><td>14</td><td>15</td><td>16</td><td>18</td><td>19</td><td>20</td></tr>\n",
       "</tbody>\n",
       "</table>\n"
      ],
      "text/latex": [
       "\\begin{tabular}{r|llllllllll}\n",
       "\tgroep.a & 36 & 41 & 44 & 45 & 52 & 53 & 54 & 57 & 58 & 77\\\\\n",
       "\tgroep.b & 26 & 46 & 55 & 59 & 64 & 65 & 67 & 79 & 81 & 83\\\\\n",
       "\trank.a &  2 &  3 &  4 &  5 &  7 &  8 &  9 & 11 & 12 & 17\\\\\n",
       "\trank.b &  1 &  6 & 10 & 13 & 14 & 15 & 16 & 18 & 19 & 20\\\\\n",
       "\\end{tabular}\n"
      ],
      "text/markdown": [
       "\n",
       "| groep.a | 36 | 41 | 44 | 45 | 52 | 53 | 54 | 57 | 58 | 77 | \n",
       "| groep.b | 26 | 46 | 55 | 59 | 64 | 65 | 67 | 79 | 81 | 83 | \n",
       "| rank.a |  2 |  3 |  4 |  5 |  7 |  8 |  9 | 11 | 12 | 17 | \n",
       "| rank.b |  1 |  6 | 10 | 13 | 14 | 15 | 16 | 18 | 19 | 20 | \n",
       "\n",
       "\n"
      ],
      "text/plain": [
       "        [,1] [,2] [,3] [,4] [,5] [,6] [,7] [,8] [,9] [,10]\n",
       "groep.a 36   41   44   45   52   53   54   57   58   77   \n",
       "groep.b 26   46   55   59   64   65   67   79   81   83   \n",
       "rank.a   2    3    4    5    7    8    9   11   12   17   \n",
       "rank.b   1    6   10   13   14   15   16   18   19   20   "
      ]
     },
     "metadata": {},
     "output_type": "display_data"
    }
   ],
   "source": [
    "groep.a = c(36, 41, 44, 45, 52, 53, 54, 57, 58, 77)\n",
    "groep.b = c(26, 46, 55, 59, 64, 65, 67, 79, 81, 83)\n",
    "rank.a = c(2, 3, 4, 5, 7, 8, 9, 11, 12, 17)\n",
    "rank.b = c(1, 6, 10, 13, 14, 15, 16, 18, 19, 20)\n",
    "t(data.frame(groep.a, groep.b, rank.a, rank.b))"
   ]
  },
  {
   "cell_type": "code",
   "execution_count": 49,
   "metadata": {},
   "outputs": [
    {
     "data": {
      "text/html": [
       "78"
      ],
      "text/latex": [
       "78"
      ],
      "text/markdown": [
       "78"
      ],
      "text/plain": [
       "[1] 78"
      ]
     },
     "metadata": {},
     "output_type": "display_data"
    }
   ],
   "source": [
    "Sa = sum(rank.a)\n",
    "Sa"
   ]
  },
  {
   "cell_type": "markdown",
   "metadata": {},
   "source": [
    "_Toetsprocedure_\n",
    "\n",
    "1. $H_0$ : $\\eta_A = \\eta_B$ en $H_A$ : $\\eta_A < \\eta_B$.\n",
    "2. Toetsingsgrootheid: $S_A = 78$ met $m=n=10$.\n",
    "3. Overschrijdingskans: $p = P(S_A \\leq 78) \\stackrel{\\textrm{Tabel 11}}{=} 0.022$.\n",
    "4. Beslissing: $p \\leq \\alpha$ dus $H_0$ verwerpen.\n",
    "5. Conclusie: De suggestie doet zijn werk."
   ]
  },
  {
   "cell_type": "code",
   "execution_count": null,
   "metadata": {},
   "outputs": [],
   "source": []
  }
 ],
 "metadata": {
  "kernelspec": {
   "display_name": "R",
   "language": "R",
   "name": "ir"
  },
  "language_info": {
   "codemirror_mode": "r",
   "file_extension": ".r",
   "mimetype": "text/x-r-source",
   "name": "R",
   "pygments_lexer": "r",
   "version": "3.4.4"
  }
 },
 "nbformat": 4,
 "nbformat_minor": 2
}
