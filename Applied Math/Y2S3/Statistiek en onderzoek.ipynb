{
 "cells": [
  {
   "cell_type": "code",
   "execution_count": 217,
   "metadata": {},
   "outputs": [],
   "source": [
    "options(repr.plot.width=5, repr.plot.height=5)"
   ]
  },
  {
   "cell_type": "markdown",
   "metadata": {},
   "source": [
    "# Schatten van de variantie"
   ]
  },
  {
   "cell_type": "markdown",
   "metadata": {},
   "source": [
    "We gebruiken hier als schatter voor $\\sigma^2$ de grootheid $s^2$. De formule luidt:\n",
    "\n",
    "$$s^2 = \\dfrac{\\sum\\left(x_i - \\bar{x}\\right)^2}{n-1} = \\dfrac{SSE}{n-1} $$"
   ]
  },
  {
   "cell_type": "markdown",
   "metadata": {},
   "source": [
    "# Chikwadraatverdeling"
   ]
  },
  {
   "cell_type": "markdown",
   "metadata": {},
   "source": [
    "Stel $\\underline{x}_1, \\ldots, \\underline{x}_n$ zijn alle kansvariabelen die standaardnormaal verdeeld zijn. Deze $x$ gaan we kwadrateren zodat we zeker weten dat deze altijd positief is. Voor een enkele trekking $\\underline{x}_1$ krijgen we een Chikwadraat verdeling, aangeduidt met $\\chi^2[1]$, met één vrijheidsgraad. Met meerdere trekkingen ontstaat de grootheid chikwadraat:\n",
    "\n",
    "$$ \\underline{\\chi}^2[\\nu] = \\underline{x}_1 + \\ldots + \\underline{x}_n $$\n",
    "\n",
    "waarbij $\\nu$ het aantal vrijheidsgraden is.\n",
    "\n",
    "Enkele eigenschappen zijn dat:\n",
    "\n",
    " 1. $\\textrm{E}(\\underline{\\chi}^2[\\nu]) = \\nu$.\n",
    " 2. $\\textrm{Var}(\\underline{\\chi}^2[\\nu]) = 2 \\nu$."
   ]
  },
  {
   "cell_type": "markdown",
   "metadata": {},
   "source": [
    "**Verdelingsfunctie plot**"
   ]
  },
  {
   "cell_type": "code",
   "execution_count": 276,
   "metadata": {},
   "outputs": [
    {
     "data": {
      "image/png": "[encoded data removed]",
      "text/plain": [
       "Plot with title \"Chi-Square Density Graph\""
      ]
     },
     "metadata": {},
     "output_type": "display_data"
    }
   ],
   "source": [
    "curve(dchisq(x, df=9), col='red', main = \"Chi-Square Density Graph\", \n",
    "      from=0,to=60)"
   ]
  },
  {
   "cell_type": "markdown",
   "metadata": {},
   "source": [
    "**Centrale limietstelling**"
   ]
  },
  {
   "cell_type": "markdown",
   "metadata": {},
   "source": [
    "De chikwadraat verdeling kan normaal benaderd worden als $\\nu \\rightarrow \\infty$. De vuistregel hiervoor is dat $\\nu > 30$. Er geldt dan dat:\n",
    "\n",
    "$$ \\chi^2[\\nu] \\sim N\\left(\\mu = \\nu, \\sigma = \\sqrt{2\\nu}\\right) $$\n",
    "\n",
    "Bij benadering gebruiken we:\n",
    "\n",
    "$$ P(\\chi^2[\\nu] \\leq k\\ |\\ \\nu) \\approx P(\\underline{x}_{nor} \\leq k\\ |\\ \\mu = \\nu, \\sigma = \\sqrt{2\\nu} ).$$"
   ]
  },
  {
   "cell_type": "markdown",
   "metadata": {},
   "source": [
    "# Betrouwbaarheidsinterval voor $\\sigma^2$"
   ]
  },
  {
   "cell_type": "markdown",
   "metadata": {},
   "source": [
    "Een vereiste om een betrouwbaarheidsinterval op te stellen voor $\\sigma^2$ is dat de onderzochte kansvariabele $\\underline{x}$ een normale verdeling volgt, of bij benadering normaal verdeeld is. De toets hiervoor staat in de volgende sectie.\n",
    "\n",
    "Het betrouwbaarheidsinterval voor $\\sigma^2$ luidt:"
   ]
  },
  {
   "cell_type": "markdown",
   "metadata": {},
   "source": [
    "$$ \\dfrac{\\sum\\left(x_i - \\bar{x} \\right)^2}{g_R} < \\sigma^2 < \\dfrac{\\sum\\left(x_i - \\bar{x} \\right)^2}{g_L} $$\n",
    "\n",
    "met andere woorden:\n",
    "\n",
    "$$ \\dfrac{SSE}{g_{1-\\frac{\\alpha}{2}}} < \\sigma^2 < \\dfrac{SSE}{g_{\\frac{\\alpha}{2}}}. $$"
   ]
  },
  {
   "cell_type": "markdown",
   "metadata": {},
   "source": [
    "**Voorbeeld**"
   ]
  },
  {
   "cell_type": "code",
   "execution_count": 252,
   "metadata": {},
   "outputs": [
    {
     "data": {
      "text/html": [
       "<ol class=list-inline>\n",
       "\t<li>2.3655863582172</li>\n",
       "\t<li>16.6642626925958</li>\n",
       "</ol>\n"
      ],
      "text/latex": [
       "\\begin{enumerate*}\n",
       "\\item 2.3655863582172\n",
       "\\item 16.6642626925958\n",
       "\\end{enumerate*}\n"
      ],
      "text/markdown": [
       "1. 2.3655863582172\n",
       "2. 16.6642626925958\n",
       "\n",
       "\n"
      ],
      "text/plain": [
       "[1]  2.365586 16.664263"
      ]
     },
     "metadata": {},
     "output_type": "display_data"
    }
   ],
   "source": [
    "SSE = 45\n",
    "xbar = 24\n",
    "df = 9\n",
    "interval = c(SSE / qchisq(0.975, df=9), SSE / qchisq(0.025, df=9))\n",
    "interval"
   ]
  },
  {
   "cell_type": "markdown",
   "metadata": {},
   "source": [
    "# Toets voor $\\sigma^2$"
   ]
  },
  {
   "cell_type": "markdown",
   "metadata": {},
   "source": [
    "De verzamelde uitkomsten $x_1, x_2, \\ldots, x_n$ van een variabele $\\underline{x}$ dienen een spreiding $s^2$ te vertonen die in redelijke mate overeen komt met $\\sigma^2$. Als dat niet het geval is, dan moet de nulhypothese $\\textrm{Var}(\\underline{x})=\\sigma^2$ worden verworpen."
   ]
  },
  {
   "cell_type": "markdown",
   "metadata": {},
   "source": [
    "**Toetsingsgrootheid**\n",
    "\n",
    "Gegeven de nulhypothese volgt de toetsingsgrootheid:\n",
    "\n",
    "$$ \\dfrac{(n-1)s^2}{\\sigma^2} = \\dfrac{SSE}{\\sigma^2}$$\n",
    "\n",
    "een $\\chi^2[n-1]$-verdeling."
   ]
  },
  {
   "cell_type": "markdown",
   "metadata": {},
   "source": [
    "**Voorbeeld**"
   ]
  },
  {
   "cell_type": "markdown",
   "metadata": {},
   "source": [
    "Stel $n=10$, $\\sigma^2=15$, $SSE=45$ en $\\alpha=0.05$, dan:"
   ]
  },
  {
   "cell_type": "code",
   "execution_count": 261,
   "metadata": {},
   "outputs": [
    {
     "data": {
      "text/html": [
       "3"
      ],
      "text/latex": [
       "3"
      ],
      "text/markdown": [
       "3"
      ],
      "text/plain": [
       "[1] 3"
      ]
     },
     "metadata": {},
     "output_type": "display_data"
    },
    {
     "data": {
      "text/html": [
       "0.0357050273149108"
      ],
      "text/latex": [
       "0.0357050273149108"
      ],
      "text/markdown": [
       "0.0357050273149108"
      ],
      "text/plain": [
       "[1] 0.03570503"
      ]
     },
     "metadata": {},
     "output_type": "display_data"
    }
   ],
   "source": [
    "n = 10\n",
    "sigma2 = 15\n",
    "SSE = 45\n",
    "alpha = 0.05\n",
    "SSE / sigma2\n",
    "pchisq(SSE / sigma2, n-1)"
   ]
  },
  {
   "cell_type": "markdown",
   "metadata": {},
   "source": [
    "_Toetsprocedure_\n",
    "\n",
    "1. $H_0$ : $\\sigma^2 = 15$ en $H_A$ : $\\sigma^2 \\not= 15$.\n",
    "2. Toetsingsgrootheid: $\\dfrac{SSE}{\\sigma^2} = 3$ met $\\nu=n-1=9$.\n",
    "3. Overschrijdingskans: $p = P(\\chi^2[9] \\leq 3) = \\textrm{pchisq}(3,9) = 0.0357$.\n",
    "4. Beslissing: $p > \\frac{\\alpha}{2}$ met $\\alpha=0.05$, dus $H_0$ wordt niet verworpen.\n",
    "5. Conclusie: De waarneming valt binnen het voorspellingsinterval van $\\sigma^2$."
   ]
  },
  {
   "cell_type": "markdown",
   "metadata": {},
   "source": [
    "# Chikwadraat toets voor passing"
   ]
  },
  {
   "cell_type": "markdown",
   "metadata": {},
   "source": [
    "Hiermee kunnen we toetsen of de uitkomsten een patroon vertonen dat overeenkomt met een gegeven kansverdeling. Hiervoor gaan we de waargenomen en de theoretische (vanuit de verwachte kansverdeling) uitkomsten met elkaar vergelijken.\n",
    "\n",
    "**Toetsingsgrootheid**\n",
    "\n",
    "Het vergelijken van de waargenomen en de theoretische frequenties gebeurt met de toetsingsgrootheid:\n",
    "\n",
    "$$ \\chi^2 = \\sum \\dfrac{(O_i-E_i)^2}{E_i} $$\n",
    "\n",
    "dit wordt benaderd met $\\chi^2[\\nu]$ waarbij $\\nu = n - 1$."
   ]
  },
  {
   "cell_type": "markdown",
   "metadata": {},
   "source": [
    "**Detail 1**\n",
    "\n",
    "In het algemeent geldt er er voor alle $E_i \\geq 5$. Indien dit niet het geval is, dan worden er klassen samemgevoegd zodanig dat dit wel het geval is.\n",
    "\n",
    "**Detail 2**\n",
    "\n",
    "Stel $\\mu$ is onbekend, dan wordt $\\mu$ bepaald door het steekproefgemiddelde (of een schatting hiervan). In dit geval gaat er een extra vrijheidsgraad verloren. Dus dan geldt er dat $\\nu = n-2$."
   ]
  },
  {
   "cell_type": "markdown",
   "metadata": {},
   "source": [
    "**Voorbeeld**"
   ]
  },
  {
   "cell_type": "markdown",
   "metadata": {},
   "source": [
    "We willen nagaan wat het ziekteverzuim is op verschillende dagen in de week. Hiervoor hebben we de volgende gegevens:"
   ]
  },
  {
   "cell_type": "code",
   "execution_count": 267,
   "metadata": {},
   "outputs": [
    {
     "data": {
      "text/html": [
       "<table>\n",
       "<thead><tr><th scope=col>dagen</th><th scope=col>zieken</th></tr></thead>\n",
       "<tbody>\n",
       "\t<tr><td>ma</td><td>20</td></tr>\n",
       "\t<tr><td>di</td><td>14</td></tr>\n",
       "\t<tr><td>wo</td><td>14</td></tr>\n",
       "\t<tr><td>do</td><td>12</td></tr>\n",
       "\t<tr><td>vr</td><td>20</td></tr>\n",
       "</tbody>\n",
       "</table>\n"
      ],
      "text/latex": [
       "\\begin{tabular}{r|ll}\n",
       " dagen & zieken\\\\\n",
       "\\hline\n",
       "\t ma & 20\\\\\n",
       "\t di & 14\\\\\n",
       "\t wo & 14\\\\\n",
       "\t do & 12\\\\\n",
       "\t vr & 20\\\\\n",
       "\\end{tabular}\n"
      ],
      "text/markdown": [
       "\n",
       "dagen | zieken | \n",
       "|---|---|---|---|---|\n",
       "| ma | 20 | \n",
       "| di | 14 | \n",
       "| wo | 14 | \n",
       "| do | 12 | \n",
       "| vr | 20 | \n",
       "\n",
       "\n"
      ],
      "text/plain": [
       "  dagen zieken\n",
       "1 ma    20    \n",
       "2 di    14    \n",
       "3 wo    14    \n",
       "4 do    12    \n",
       "5 vr    20    "
      ]
     },
     "metadata": {},
     "output_type": "display_data"
    }
   ],
   "source": [
    "dagen = c('ma', 'di', 'wo', 'do', 'vr')\n",
    "zieken = c(20, 14, 14, 12, 20)\n",
    "df = data.frame(dagen, zieken)\n",
    "df"
   ]
  },
  {
   "cell_type": "markdown",
   "metadata": {},
   "source": [
    "Men wil toetsen of het aantal ziektedagen gelijkmatig over de dagen van de week is verdeeld. Voor vijf dagen in de week zou dat betekenen dat er een kans is van $0.20$ voor elke dag."
   ]
  },
  {
   "cell_type": "code",
   "execution_count": 275,
   "metadata": {},
   "outputs": [
    {
     "data": {
      "text/html": [
       "<table>\n",
       "<thead><tr><th scope=col>dagen</th><th scope=col>O</th><th scope=col>E</th><th scope=col>diff</th><th scope=col>diffsq</th><th scope=col>diffsqdiv</th></tr></thead>\n",
       "<tbody>\n",
       "\t<tr><td>ma  </td><td>20  </td><td>16  </td><td> 4  </td><td>16  </td><td>1.00</td></tr>\n",
       "\t<tr><td>di  </td><td>14  </td><td>16  </td><td>-2  </td><td> 4  </td><td>0.25</td></tr>\n",
       "\t<tr><td>wo  </td><td>14  </td><td>16  </td><td>-2  </td><td> 4  </td><td>0.25</td></tr>\n",
       "\t<tr><td>do  </td><td>12  </td><td>16  </td><td>-4  </td><td>16  </td><td>1.00</td></tr>\n",
       "\t<tr><td>vr  </td><td>20  </td><td>16  </td><td> 4  </td><td>16  </td><td>1.00</td></tr>\n",
       "</tbody>\n",
       "</table>\n"
      ],
      "text/latex": [
       "\\begin{tabular}{r|llllll}\n",
       " dagen & O & E & diff & diffsq & diffsqdiv\\\\\n",
       "\\hline\n",
       "\t ma   & 20   & 16   &  4   & 16   & 1.00\\\\\n",
       "\t di   & 14   & 16   & -2   &  4   & 0.25\\\\\n",
       "\t wo   & 14   & 16   & -2   &  4   & 0.25\\\\\n",
       "\t do   & 12   & 16   & -4   & 16   & 1.00\\\\\n",
       "\t vr   & 20   & 16   &  4   & 16   & 1.00\\\\\n",
       "\\end{tabular}\n"
      ],
      "text/markdown": [
       "\n",
       "dagen | O | E | diff | diffsq | diffsqdiv | \n",
       "|---|---|---|---|---|\n",
       "| ma   | 20   | 16   |  4   | 16   | 1.00 | \n",
       "| di   | 14   | 16   | -2   |  4   | 0.25 | \n",
       "| wo   | 14   | 16   | -2   |  4   | 0.25 | \n",
       "| do   | 12   | 16   | -4   | 16   | 1.00 | \n",
       "| vr   | 20   | 16   |  4   | 16   | 1.00 | \n",
       "\n",
       "\n"
      ],
      "text/plain": [
       "  dagen O  E  diff diffsq diffsqdiv\n",
       "1 ma    20 16  4   16     1.00     \n",
       "2 di    14 16 -2    4     0.25     \n",
       "3 wo    14 16 -2    4     0.25     \n",
       "4 do    12 16 -4   16     1.00     \n",
       "5 vr    20 16  4   16     1.00     "
      ]
     },
     "metadata": {},
     "output_type": "display_data"
    },
    {
     "data": {
      "text/html": [
       "3.5"
      ],
      "text/latex": [
       "3.5"
      ],
      "text/markdown": [
       "3.5"
      ],
      "text/plain": [
       "[1] 3.5"
      ]
     },
     "metadata": {},
     "output_type": "display_data"
    }
   ],
   "source": [
    "O = zieken\n",
    "n = sum(O)\n",
    "E = rep(0.2 * n, 5)\n",
    "diff = O - E\n",
    "diffsq = diff*diff\n",
    "diffsqdiv = diffsq / E\n",
    "data.frame(dagen, O, E, diff, diffsq, diffsqdiv)\n",
    "sum(diffsqdiv)"
   ]
  },
  {
   "cell_type": "markdown",
   "metadata": {},
   "source": [
    "_Toetsprocedure_\n",
    "\n",
    "1. $H_0$ : de ziektemeldingen zijn gelijkmatig verdeeld over de werkdagen. $H_A$ : ziektemeldingen zijn niet uniform verdeeld.\n",
    "2. Toetsingsgrootheid: $$\\sum{\\dfrac{(O_i-E_i)^2}{E_i}} = 3.5$$ met een $\\chi^2[4]$-verdeling.\n",
    "3. Overschrijdingskans: $p = P(\\chi^2[4] \\geq 3.5) = \\chi^2_{cdf}(3.5, 10^{99}, 4) = 0.4779$.\n",
    "4. Beslissing: $p > \\alpha$ met $\\alpha=0.05$, dus $H_0$ wordt niet verworpen.\n",
    "5. Conclusie: de geconstateerde afwijkingen kunnen heel goed aan het toeval worden toegeschreven."
   ]
  },
  {
   "cell_type": "markdown",
   "metadata": {},
   "source": [
    "# Fisher's exacte toets"
   ]
  },
  {
   "cell_type": "markdown",
   "metadata": {},
   "source": [
    "In het geval dat $n < 20$, dan moet Fisher's exacte toets worden gebruikt. In het geval dat $20 < n < 40$, gebruiken we alleen de Yates correctie. In het laatste geval, als $n >40$, dan wordt er helemaal geen correctie toegepast.\n",
    "\n",
    "Bij Fisher's exacte toets gaan we uit van een $2 \\times 2$ kruistabel.\n",
    "\n",
    "**Voorbeeld**\n",
    "\n",
    "We willen kijken of er een verschil is in ziekte tussen docenten die wel/geen griepprik hebben gekregen."
   ]
  },
  {
   "cell_type": "code",
   "execution_count": 5,
   "metadata": {},
   "outputs": [
    {
     "data": {
      "text/html": [
       "<table>\n",
       "<thead><tr><th></th><th scope=col>prik</th><th scope=col>geen.prik</th></tr></thead>\n",
       "<tbody>\n",
       "\t<tr><th scope=row>griep</th><td> 1</td><td>4 </td></tr>\n",
       "\t<tr><th scope=row>geen.griep</th><td>11</td><td>2 </td></tr>\n",
       "</tbody>\n",
       "</table>\n"
      ],
      "text/latex": [
       "\\begin{tabular}{r|ll}\n",
       "  & prik & geen.prik\\\\\n",
       "\\hline\n",
       "\tgriep &  1 & 4 \\\\\n",
       "\tgeen.griep & 11 & 2 \\\\\n",
       "\\end{tabular}\n"
      ],
      "text/markdown": [
       "\n",
       "| <!--/--> | prik | geen.prik | \n",
       "|---|---|\n",
       "| griep |  1 | 4  | \n",
       "| geen.griep | 11 | 2  | \n",
       "\n",
       "\n"
      ],
      "text/plain": [
       "           prik geen.prik\n",
       "griep       1   4        \n",
       "geen.griep 11   2        "
      ]
     },
     "metadata": {},
     "output_type": "display_data"
    }
   ],
   "source": [
    "griep = c(1, 4)\n",
    "geen.griep = c(11, 2)\n",
    "df = t(data.frame(griep, geen.griep))\n",
    "colnames(df) = c('prik', 'geen.prik')\n",
    "df"
   ]
  },
  {
   "cell_type": "markdown",
   "metadata": {},
   "source": [
    "We kiezen hier het laagste getal als basis, in dit geval is dat $1$. Hier stellen we dat $\\underline{k}$ het aantal docenten is met griepprik die de griep krijgen. In dit geval is $\\underline{k}$ hypergeometrisch verdeeld. Het steekproefresultaat is $1$, en we gaan de kans bepalen dat dit voorkomt.\n",
    "\n",
    "$p = P(\\underline{k} \\leq 1) = P(\\underline{k} = 0) + P(\\underline k = 1) = \\dfrac{\\begin{pmatrix}12\\\\0\\end{pmatrix}\\begin{pmatrix}6\\\\5\\end{pmatrix}}{\\begin{pmatrix}18\\\\5\\end{pmatrix}} + \\dfrac{\\begin{pmatrix}12\\\\1\\end{pmatrix}\\begin{pmatrix}6\\\\4\\end{pmatrix}}{\\begin{pmatrix}18\\\\5\\end{pmatrix}} = 0.0217.$"
   ]
  },
  {
   "cell_type": "markdown",
   "metadata": {},
   "source": [
    "We kunnen dit ook met R bepalen:"
   ]
  },
  {
   "cell_type": "code",
   "execution_count": 6,
   "metadata": {},
   "outputs": [
    {
     "data": {
      "text/plain": [
       "\n",
       "\tFisher's Exact Test for Count Data\n",
       "\n",
       "data:  df\n",
       "p-value = 0.02171\n",
       "alternative hypothesis: true odds ratio is not equal to 1\n",
       "95 percent confidence interval:\n",
       " 0.0008583686 0.9414807659\n",
       "sample estimates:\n",
       "odds ratio \n",
       "0.05873784 \n"
      ]
     },
     "metadata": {},
     "output_type": "display_data"
    }
   ],
   "source": [
    "fisher.test(df)"
   ]
  },
  {
   "cell_type": "markdown",
   "metadata": {},
   "source": [
    "_Toetsprocedure_\n",
    "\n",
    "1. $H_0$ : Er is geen verschil in de griep krijgen tussen docenten met/zonder griepprik en $H_A$ : Er is wel een verschil.\n",
    "2. Toetsingsgrootheid: $\\underline{k} \\sim \\textrm{hypergeometrisch}$.\n",
    "3. Overschrijdingskans: $p = 0.0217$.\n",
    "4. Beslissing: $p \\leq \\alpha$ ($\\alpha=0.05$) dus $H_0$ verwerpen.\n",
    "5. Conclusie: De docenten met de griepprik krijgen significant minder griep."
   ]
  },
  {
   "cell_type": "markdown",
   "metadata": {},
   "source": [
    "# Yates correctie"
   ]
  },
  {
   "cell_type": "markdown",
   "metadata": {},
   "source": [
    "Indien er wordt voldaan aan de volgende drie voorwaarden:\n",
    "\n",
    " 1. $20 < n < 40$.\n",
    " 2. Voor alle $E_{ij}$'s geldt dat $E_{ij} > 1$.\n",
    " 3. $80\\%$ van alle $E_{ij}$'s is groter dan $5$.\n",
    " \n",
    "dan wordt de Yates correctie toegepast. Dit geeft een nieuwe toetsingsgrootheid, namelijk:\n",
    "\n",
    "$$ \\sum\\limits_{i=1}^r \\sum\\limits_{j=1}^c \\dfrac{\\left(\\left| O_{ij} - E_{ij}\\right| - 0.5\\right)^2 }{E_{ij}}. $$\n",
    "\n",
    "Doormiddel van de Yates correctie, wordt de toets convervatiever. Hierdoor wordt de nulhypthese minder snel verworpen en is de toets iets veiliger."
   ]
  },
  {
   "cell_type": "markdown",
   "metadata": {},
   "source": [
    "# T-verdeling"
   ]
  },
  {
   "cell_type": "markdown",
   "metadata": {},
   "source": [
    "De t-verdeling kent een geschatte standaarddeviatie, terwijl de normale verdeling een exacte bekende standaarddeviatie heeft.\n",
    "\n",
    "$$ \\underline{t} = \\dfrac{\\overline{\\underline x} - \\mu}{\\frac{\\underline{s}}{\\sqrt{n}}} $$\n",
    "\n",
    "waarbij $\\underline s$ een schatting is, en bepaald door:\n",
    "\n",
    "$$ \\underline{s} = \\sqrt{  \\dfrac{\\sum\\left(X_i - \\underline{\\overline X}\\right)^2}{n-1}  } $$\n",
    "\n",
    "Bij het opstellen van een betrouwbaarheidsinterval voor $\\mu$ voor een continue variabele hebben we de volgende mogelijkheden:\n",
    "\n",
    " 1. Normale verdeling + gegeven $\\sigma\\rightarrow$ de normale verdeling gebruiken.\n",
    " 2. Normale verdeling + onbekende $\\sigma \\rightarrow$ de t-verdeling gebruiken als $n\\leq 30$ en anders de normale verdeling.\n",
    " 3. Willekeurige verdeling + onbekende $\\sigma \\rightarrow$ de t-verdeling gebruiken."
   ]
  },
  {
   "cell_type": "markdown",
   "metadata": {},
   "source": [
    "**Verdelingsfunctie plot**"
   ]
  },
  {
   "cell_type": "code",
   "execution_count": 227,
   "metadata": {
    "scrolled": false
   },
   "outputs": [
    {
     "data": {
      "image/png": "[encoded data removed]",
      "text/plain": [
       "plot without title"
      ]
     },
     "metadata": {},
     "output_type": "display_data"
    }
   ],
   "source": [
    "curve(dt(x,2,0.02), col='red', from=-5, to=5)"
   ]
  },
  {
   "cell_type": "markdown",
   "metadata": {},
   "source": [
    "De t-verdeling lijkt bijna op de normale verdeling. Het verschil is dat de t-verdeling een dikkere staart heeft."
   ]
  },
  {
   "cell_type": "markdown",
   "metadata": {},
   "source": [
    "# Betrouwbaarheidsinterval voor $\\mu$ bij onbekende $\\sigma$"
   ]
  },
  {
   "cell_type": "markdown",
   "metadata": {},
   "source": [
    "$$ \\bar{x} - t \\cdot \\dfrac{s}{\\sqrt n} < \\mu < \\bar{x} + t \\cdot \\dfrac{s}{\\sqrt n} $$"
   ]
  },
  {
   "cell_type": "markdown",
   "metadata": {},
   "source": [
    "**Voorbeeld**"
   ]
  },
  {
   "cell_type": "code",
   "execution_count": 90,
   "metadata": {},
   "outputs": [
    {
     "data": {
      "text/html": [
       "<ol class=list-inline>\n",
       "\t<li>15.0414217459993</li>\n",
       "\t<li>16.9585782540007</li>\n",
       "</ol>\n"
      ],
      "text/latex": [
       "\\begin{enumerate*}\n",
       "\\item 15.0414217459993\n",
       "\\item 16.9585782540007\n",
       "\\end{enumerate*}\n"
      ],
      "text/markdown": [
       "1. 15.0414217459993\n",
       "2. 16.9585782540007\n",
       "\n",
       "\n"
      ],
      "text/plain": [
       "[1] 15.04142 16.95858"
      ]
     },
     "metadata": {},
     "output_type": "display_data"
    }
   ],
   "source": [
    "x = 16\n",
    "s = 1.34\n",
    "n = 10\n",
    "alpha = 0.05\n",
    "t = abs(qt(alpha/2, n-1))\n",
    "interval = c(x - t * s / sqrt(n), x + t * s / sqrt(n))\n",
    "interval"
   ]
  },
  {
   "cell_type": "markdown",
   "metadata": {},
   "source": [
    "# t-Toets voor één gemiddelde"
   ]
  },
  {
   "cell_type": "markdown",
   "metadata": {},
   "source": [
    "Bij veel toepassingen in de praktijk is de standaarddeviatie niet gegeven en dus moet deze worden geschat. Zoals we hebben gezien leidt het schatten tot het gebruik van de t-verdeling met $\\nu = n-1$ vrijheidsgraden.\n",
    "\n",
    "**Toetsingsgrootheid**\n",
    "\n",
    "Hiervoor berekenen we de $t$-waarde met: \n",
    "\n",
    "$$t^* = \\dfrac{\\bar{x} - \\mu}{\\frac{s}{\\sqrt{n}}}$$"
   ]
  },
  {
   "cell_type": "markdown",
   "metadata": {},
   "source": [
    "**Voorbeeld**"
   ]
  },
  {
   "cell_type": "markdown",
   "metadata": {},
   "source": [
    "Bij een visverwerkende industrie wordt het afvalwater voortdurend gecontroleerd op verontreiniging. Afhankelijk van de hoeveelheid geloosde vervuilingseenheden (VE's) moet een mileuheffing worden afgedragen aan de overheid. Het bedrijf stelt dat gemiddeld hoogstens 200 VE's per dag worden geloosd. Toets of de uitspraak van het bedrijf klopt."
   ]
  },
  {
   "cell_type": "code",
   "execution_count": 12,
   "metadata": {},
   "outputs": [
    {
     "data": {
      "text/html": [
       "<table>\n",
       "<tbody>\n",
       "\t<tr><th scope=row>dag</th><td>  1</td><td>  2</td><td>  3</td><td>  4</td><td>  5</td><td>  6</td><td>  7</td><td>  8</td><td>  9</td><td> 10</td></tr>\n",
       "\t<tr><th scope=row>VE</th><td>190</td><td>250</td><td>320</td><td>410</td><td>310</td><td>280</td><td>230</td><td>370</td><td>350</td><td>290</td></tr>\n",
       "</tbody>\n",
       "</table>\n"
      ],
      "text/latex": [
       "\\begin{tabular}{r|llllllllll}\n",
       "\tdag &   1 &   2 &   3 &   4 &   5 &   6 &   7 &   8 &   9 &  10\\\\\n",
       "\tVE & 190 & 250 & 320 & 410 & 310 & 280 & 230 & 370 & 350 & 290\\\\\n",
       "\\end{tabular}\n"
      ],
      "text/markdown": [
       "\n",
       "| dag |   1 |   2 |   3 |   4 |   5 |   6 |   7 |   8 |   9 |  10 | \n",
       "| VE | 190 | 250 | 320 | 410 | 310 | 280 | 230 | 370 | 350 | 290 | \n",
       "\n",
       "\n"
      ],
      "text/plain": [
       "    [,1] [,2] [,3] [,4] [,5] [,6] [,7] [,8] [,9] [,10]\n",
       "dag   1    2    3    4    5    6    7    8    9   10  \n",
       "VE  190  250  320  410  310  280  230  370  350  290  "
      ]
     },
     "metadata": {},
     "output_type": "display_data"
    }
   ],
   "source": [
    "dag = 1:10\n",
    "VE = c(190, 250, 320, 410, 310, 280, 230, 370, 350, 290)\n",
    "n = length(VE)\n",
    "df = t(data.frame(dag, VE))\n",
    "df"
   ]
  },
  {
   "cell_type": "code",
   "execution_count": 26,
   "metadata": {},
   "outputs": [
    {
     "data": {
      "text/html": [
       "300"
      ],
      "text/latex": [
       "300"
      ],
      "text/markdown": [
       "300"
      ],
      "text/plain": [
       "[1] 300"
      ]
     },
     "metadata": {},
     "output_type": "display_data"
    }
   ],
   "source": [
    "mean(VE)"
   ]
  },
  {
   "cell_type": "code",
   "execution_count": 23,
   "metadata": {},
   "outputs": [
    {
     "data": {
      "text/html": [
       "4.74341649025257"
      ],
      "text/latex": [
       "4.74341649025257"
      ],
      "text/markdown": [
       "4.74341649025257"
      ],
      "text/plain": [
       "[1] 4.743416"
      ]
     },
     "metadata": {},
     "output_type": "display_data"
    }
   ],
   "source": [
    "t = (mean(VE) - 200) / (sd(VE) / sqrt(n))\n",
    "t"
   ]
  },
  {
   "cell_type": "code",
   "execution_count": 24,
   "metadata": {
    "scrolled": true
   },
   "outputs": [
    {
     "data": {
      "text/html": [
       "2.2621571627982"
      ],
      "text/latex": [
       "2.2621571627982"
      ],
      "text/markdown": [
       "2.2621571627982"
      ],
      "text/plain": [
       "[1] 2.262157"
      ]
     },
     "metadata": {},
     "output_type": "display_data"
    }
   ],
   "source": [
    "qt(0.975, 9)"
   ]
  },
  {
   "cell_type": "markdown",
   "metadata": {},
   "source": [
    "Het is duidelijk dat $t$ in het kritieke gebied $Z = \\left[2.2621; \\rightarrow\\right>$ ligt."
   ]
  },
  {
   "cell_type": "code",
   "execution_count": 25,
   "metadata": {},
   "outputs": [
    {
     "data": {
      "text/html": [
       "0.000526947811761658"
      ],
      "text/latex": [
       "0.000526947811761658"
      ],
      "text/markdown": [
       "0.000526947811761658"
      ],
      "text/plain": [
       "[1] 0.0005269478"
      ]
     },
     "metadata": {},
     "output_type": "display_data"
    }
   ],
   "source": [
    "1 - pt(4.7434, 9)"
   ]
  },
  {
   "cell_type": "markdown",
   "metadata": {},
   "source": [
    "_Toetsprocedure_\n",
    "\n",
    "1. $H_0$ : $\\mu \\leq 200$ en $H_A$ : $\\mu > 200$.\n",
    "2. Toetsingsgrootheid: $t^* = 4.7434 \\sim t[9]$.\n",
    "3. Overschrijdingskans: $p = P(t[9] \\geq 4.7434) = 1 - P(t[9] \\leq 4.7434) = 1 - \\textrm{pt}(4.7434, 9) = 0.0005269$.\n",
    "4. Beslissing: $p \\leq \\alpha$ dus $H_0$ verwerpen.\n",
    "5. Conclusie: De uitspraak van het bedrijf wordt niet juist bevonden."
   ]
  },
  {
   "cell_type": "markdown",
   "metadata": {},
   "source": [
    "# Verschiltoets voor $\\mu$ met bekende $\\sigma$"
   ]
  },
  {
   "cell_type": "markdown",
   "metadata": {},
   "source": [
    "In de praktijk komt het nogal eens voor dat er steekproeven worden genomen uit twee populaties, waarbij de vraag naar voren komt of een kansvariabele voor beide populaties dezelfde waarde voor de verwachtingswaarde $\\mu$ heeft. In de eerste situatie kijken we naar twee normaal verdeelde kansvariabelen $\\underline{x}$ en $\\underline{y}$ waarvoor de varianties $\\sigma^2_x$ en $\\sigma^2_y$ gegeven zijn.\n",
    "\n",
    "**Hypothese**\n",
    "\n",
    "Voor de verschiltoets werken we vaak met de hypothese dat $H_0 : \\mu_x = \\mu_y$ en $H_A : \\mu_x \\not= \\mu_y$.\n",
    "\n",
    "**Toetsingsgrootheid**\n",
    "\n",
    "Om de toets uit te voeren definiëren we de verschilvariabele $\\nu = \\underline{\\overline x} - \\underline{\\overline y}$. De bijbehorende toetsingsgrootheid is:\n",
    "\n",
    "$$ \\underline \\nu \\sim N\\left(\\mu_\\nu = 0; \\sigma_\\nu = \\sqrt{\\dfrac{\\sigma^2_x}{n} + \\dfrac{\\sigma^2_y}{m}} \\right) $$\n",
    "\n",
    "**Betrouwbaarheidsinterval**\n",
    "\n",
    "Een betrouwbaarheidsinterval voor $\\mu_x - \\mu_y$ kan worden bepaald met:\n",
    "\n",
    "$$ \\left( \\underline{\\overline x} - \\underline{\\overline y} \\right) - z_{1-\\frac{1}{2}\\alpha} \\cdot \\sqrt{\\dfrac{\\sigma^2_x}{n} + \\dfrac{\\sigma^2_y}{m}} < \\mu_x - \\mu_y < \\left( \\underline{\\overline x} - \\underline{\\overline y} \\right) + z_{1-\\frac{1}{2}\\alpha} \\cdot \\sqrt{\\dfrac{\\sigma^2_x}{n} + \\dfrac{\\sigma^2_y}{m}}  $$"
   ]
  },
  {
   "cell_type": "markdown",
   "metadata": {},
   "source": [
    "**Voorbeeld**\n",
    "\n",
    "Gegeven is dat $n_x = 10$, $\\bar{X} = 50$, $n_y = 5$, en $\\bar{Y} = 55$. Toets of beide dezelfde verwachtingswaarde kunnen hebben."
   ]
  },
  {
   "cell_type": "code",
   "execution_count": 36,
   "metadata": {},
   "outputs": [
    {
     "data": {
      "text/html": [
       "0.105649773666855"
      ],
      "text/latex": [
       "0.105649773666855"
      ],
      "text/markdown": [
       "0.105649773666855"
      ],
      "text/plain": [
       "[1] 0.1056498"
      ]
     },
     "metadata": {},
     "output_type": "display_data"
    }
   ],
   "source": [
    "n = 10; m = 5\n",
    "xbar = 50; ybar = 55\n",
    "xvar = 100; yvar = 30\n",
    "sigma = sqrt(xvar / n + yvar / m)\n",
    "v = xbar - ybar\n",
    "pnorm(v, 0, sigma)"
   ]
  },
  {
   "cell_type": "markdown",
   "metadata": {},
   "source": [
    "_Toetsprocedure_\n",
    "\n",
    "1. $H_0$ : $\\mu_x = \\mu_y$ en $H_A$ : $\\mu_x \\not= \\mu_y$.\n",
    "2. Toetsingsgrootheid: $\\nu = \\underline{\\overline x} - \\underline{\\overline y} = -5 \\sim N(\\mu_\\nu = 0, \\sigma_\\nu = 4)$.\n",
    "3. Overschrijdingskans: $p = P(\\underline{v} \\leq -5) = \\textrm{normal}_{cdf}(-10^{99}, -5, 0, 4) = 0.1056$.\n",
    "4. Beslissing: $p \\leq \\alpha$ ($\\alpha=0.05$) dus $H_0$ wordt niet verworpen.\n",
    "5. Conclusie: De steekproefgemiddelden zijn mogelijk gelijk aan elkaar."
   ]
  },
  {
   "cell_type": "markdown",
   "metadata": {},
   "source": [
    "# Verschiltoets voor $\\mu$ met een onbekende $\\sigma$"
   ]
  },
  {
   "cell_type": "markdown",
   "metadata": {},
   "source": [
    "Als de variantie van de kansvariabele niet is gegeven, kunnen we niet meteen de toets uitvoeren, maar moeten we eerst een schatting maken van $\\sigma^2$.\n",
    "\n",
    "**Variant A (gelijke $\\sigma$)**\n",
    "\n",
    "Veronderstel dat we aan mogen nemen dat de onbekende varianties van de variabelen aan elkaar gelijk zijn. (In de praktijk moeten we dit eerst toetsen met de F-verdeling.) We bepalen voor beide variabelen de variantie en deze kunnen dan worden gecombineerd tot één schatter, die als volgt wordt gedefineerd:\n",
    "\n",
    "$$s_p^2 = \\dfrac{(n-1)s_x^2 + (m-1)s_y^2}{(n-1)+(m-1)} \\quad \\textrm{(pooled variance principe)}$$\n",
    "\n",
    "waarbij de bijbehorende $t$-verdeling $df=n+m-2$ vrijheidsgraden heeft."
   ]
  },
  {
   "cell_type": "markdown",
   "metadata": {},
   "source": [
    "**Variant B (ongelijke $\\sigma$)**\n",
    "\n",
    "Als de variantieschattingen onderling sterk verschillen, mag de pooled variance methode niet worden toegepast. In dit geval gebruiken we de schatting:\n",
    "\n",
    "$$ s_\\nu = \\sqrt{\\dfrac{s^2_x}{n} + \\dfrac{s^2_y}{m}} $$\n",
    "\n",
    "waarbij de $t$-verdeling $df=\\min(m,n)-1$ vrijheidsgraden heeft. Deze formule is een veilige methode om het aantal vrijheidsgraden te bepalen. SPSS gebruikt een nauwkeurigere methode om het aantal vrijheidsgraden te bepalen."
   ]
  },
  {
   "cell_type": "markdown",
   "metadata": {},
   "source": [
    "**Betrouwbaarheidsinterval**\n",
    "\n",
    "Een betrouwbaarheidsinterval voor $\\mu_x - \\mu_y$ kan worden bepaald met:\n",
    "\n",
    "$$ \\nu - ts_\\nu < \\mu_x - \\mu_y < \\nu + ts_\\nu. $$\n",
    "\n",
    "We hoeven hier niet te delen door $\\sqrt{n}$ omdat dit effect al zit verwerkt in $s_\\nu$."
   ]
  },
  {
   "cell_type": "markdown",
   "metadata": {},
   "source": [
    "# Gepaarde t-toets"
   ]
  },
  {
   "cell_type": "markdown",
   "metadata": {},
   "source": [
    "Bij toepassing van de $t$-toets als verschiltoets wordt er wél aandacht geschonken aan de grootte van de waargenomen verschillen. Gegeven zijn $n$ waargenomen getallenparen $(x_i, y_i)$. Deze paren worden met $v_i = y_i - x_i$ omgezet in $n$ waargenomen verschillen.\n",
    "\n",
    "**Toetsingsgrootheid**\n",
    "\n",
    "$$\\underline{\\overline v} : \\textrm{gemiddelde verschil} \\sim t[n-1] $$"
   ]
  },
  {
   "cell_type": "markdown",
   "metadata": {},
   "source": [
    "**Voorbeeld**\n",
    "\n",
    "Een farmaceutische onderneming neemt een vermageringspil te hebben ontdekt waarbij de proefpersonen niet van eetgewoonte hoeven te veranderen. De resultaten zien we in de tabel:"
   ]
  },
  {
   "cell_type": "code",
   "execution_count": 37,
   "metadata": {},
   "outputs": [
    {
     "data": {
      "text/html": [
       "<table>\n",
       "<tbody>\n",
       "\t<tr><th scope=row>gewicht.voor</th><td>80</td><td>86</td><td>66</td><td>75</td><td>90</td><td>68</td><td>78</td><td>70</td></tr>\n",
       "\t<tr><th scope=row>gewicht.na</th><td>75</td><td>78</td><td>68</td><td>71</td><td>84</td><td>65</td><td>73</td><td>67</td></tr>\n",
       "\t<tr><th scope=row>gewicht.verschil</th><td>-5</td><td>-8</td><td> 2</td><td>-4</td><td>-6</td><td>-3</td><td>-5</td><td>-3</td></tr>\n",
       "</tbody>\n",
       "</table>\n"
      ],
      "text/latex": [
       "\\begin{tabular}{r|llllllll}\n",
       "\tgewicht.voor & 80 & 86 & 66 & 75 & 90 & 68 & 78 & 70\\\\\n",
       "\tgewicht.na & 75 & 78 & 68 & 71 & 84 & 65 & 73 & 67\\\\\n",
       "\tgewicht.verschil & -5 & -8 &  2 & -4 & -6 & -3 & -5 & -3\\\\\n",
       "\\end{tabular}\n"
      ],
      "text/markdown": [
       "\n",
       "| gewicht.voor | 80 | 86 | 66 | 75 | 90 | 68 | 78 | 70 | \n",
       "| gewicht.na | 75 | 78 | 68 | 71 | 84 | 65 | 73 | 67 | \n",
       "| gewicht.verschil | -5 | -8 |  2 | -4 | -6 | -3 | -5 | -3 | \n",
       "\n",
       "\n"
      ],
      "text/plain": [
       "                 [,1] [,2] [,3] [,4] [,5] [,6] [,7] [,8]\n",
       "gewicht.voor     80   86   66   75   90   68   78   70  \n",
       "gewicht.na       75   78   68   71   84   65   73   67  \n",
       "gewicht.verschil -5   -8    2   -4   -6   -3   -5   -3  "
      ]
     },
     "metadata": {},
     "output_type": "display_data"
    }
   ],
   "source": [
    "gewicht.voor = c(80, 86, 66, 75, 90, 68, 78, 70)\n",
    "gewicht.na = c(75, 78, 68, 71, 84, 65, 73, 67)\n",
    "gewicht.verschil = gewicht.na - gewicht.voor\n",
    "df = t(data.frame(gewicht.voor, gewicht.na, gewicht.verschil))\n",
    "df"
   ]
  },
  {
   "cell_type": "code",
   "execution_count": 41,
   "metadata": {},
   "outputs": [
    {
     "data": {
      "text/html": [
       "-3.86436713231718"
      ],
      "text/latex": [
       "-3.86436713231718"
      ],
      "text/markdown": [
       "-3.86436713231718"
      ],
      "text/plain": [
       "[1] -3.864367"
      ]
     },
     "metadata": {},
     "output_type": "display_data"
    },
    {
     "data": {
      "text/html": [
       "0.00308825163998739"
      ],
      "text/latex": [
       "0.00308825163998739"
      ],
      "text/markdown": [
       "0.00308825163998739"
      ],
      "text/plain": [
       "[1] 0.003088252"
      ]
     },
     "metadata": {},
     "output_type": "display_data"
    }
   ],
   "source": [
    "vbar = mean(gewicht.verschil)\n",
    "t = vbar / (sd(gewicht.verschil) / sqrt(length(gewicht.verschil)))\n",
    "t\n",
    "pt(t, length(gewicht.verschil) - 1)"
   ]
  },
  {
   "cell_type": "markdown",
   "metadata": {},
   "source": [
    "# F-verdeling"
   ]
  },
  {
   "cell_type": "code",
   "execution_count": 240,
   "metadata": {
    "scrolled": false
   },
   "outputs": [
    {
     "data": {
      "image/png": "[encoded data removed]",
      "text/plain": [
       "plot without title"
      ]
     },
     "metadata": {},
     "output_type": "display_data"
    }
   ],
   "source": [
    "curve(df(x,3,21), col='red', from=0, to=5)"
   ]
  },
  {
   "cell_type": "markdown",
   "metadata": {},
   "source": [
    "# Harmonisch gemiddelde"
   ]
  },
  {
   "cell_type": "markdown",
   "metadata": {},
   "source": [
    "Het harmonisch gemiddelde is een speciaal gemiddelde, van toepassing bij het berekenen van gemiddelden van verhoudingsgetallen [[Wikipedia](https://nl.wikipedia.org/wiki/Harmonisch_gemiddelde)]. \n",
    "\n",
    "$$\\bar{n}_h = \\dfrac{c}{\\frac{1}{n_1} + \\frac{1}{n_2} + \\ldots + \\frac{1}{n_c}} = c \\left( \\sum\\limits_{j=1}^c\\dfrac{1}{n_j}\\right)^{-1}$$"
   ]
  },
  {
   "cell_type": "code",
   "execution_count": 88,
   "metadata": {},
   "outputs": [
    {
     "data": {
      "text/html": [
       "3.85714285714286"
      ],
      "text/latex": [
       "3.85714285714286"
      ],
      "text/markdown": [
       "3.85714285714286"
      ],
      "text/plain": [
       "[1] 3.857143"
      ]
     },
     "metadata": {},
     "output_type": "display_data"
    },
    {
     "data": {
      "text/html": [
       "3.18181818181818"
      ],
      "text/latex": [
       "3.18181818181818"
      ],
      "text/markdown": [
       "3.18181818181818"
      ],
      "text/plain": [
       "[1] 3.181818"
      ]
     },
     "metadata": {},
     "output_type": "display_data"
    }
   ],
   "source": [
    "X = c(2,6,2,5,3,6,3)\n",
    "mean(X)               # arithmetic mean\n",
    "length(X) / sum(1/X)  # harmonic mean"
   ]
  },
  {
   "cell_type": "markdown",
   "metadata": {},
   "source": [
    "# Pooled-variance principe"
   ]
  },
  {
   "cell_type": "markdown",
   "metadata": {},
   "source": [
    "Het is mogelijk om varianties samen te voegen met het pooled-variance principe. De formule hiervoor is als volgt:"
   ]
  },
  {
   "cell_type": "markdown",
   "metadata": {},
   "source": [
    "$$ s_2 = \\dfrac{(n_1 - 1)s_1^2 + \\ldots + (n_k - 1)s_k^2}{(n_1 - 1) + \\ldots + (n_k - 1)} $$"
   ]
  },
  {
   "cell_type": "markdown",
   "metadata": {},
   "source": [
    "waarbij $k$ het aantal varianties zijn."
   ]
  },
  {
   "cell_type": "markdown",
   "metadata": {},
   "source": [
    "# ANOVA (één-factor model)"
   ]
  },
  {
   "cell_type": "markdown",
   "metadata": {},
   "source": [
    "**Hypothese**\n",
    "\n",
    "De hypothese die we toetsen is $H_0 : \\mu_1 = \\mu_2 = \\mu_3$, en $ H_A $ : de populatiegemiddelden zijn niet gelijk aan elkaar."
   ]
  },
  {
   "cell_type": "markdown",
   "metadata": {},
   "source": [
    "**Toetsingsgrootheid**\n",
    "\n",
    "Om de ANOVA analyse te doen berekenen we de volgende grootheden:\n",
    "\n",
    "**Sum of Squares Total**:\n",
    "\n",
    "$$SST = \\sum\\limits_{j=1}^c \\sum\\limits_{i=1}^{n_j}\\left( X_{ij} - \\bar{X}_{\\cdot \\cdot}\\right)^2; MST = \\dfrac{SST}{n-1}$$\n",
    " \n",
    "**Sum of Squares Error**:\n",
    "\n",
    "$$SSE = \\sum\\limits_{j=1}^c \\sum\\limits_{i=1}^{n_j}\\left( X_{ij} - \\bar{X}_{\\cdot j}\\right)^2; MSE = \\dfrac{SSE}{n-c}$$\n",
    " \n",
    "**Sum of Squares Groups**:\n",
    "\n",
    "$$SSG = \\sum\\limits_{j=1}^c n_j \\left( \\bar{X}_{\\cdot j} - \\bar{X}_{\\cdot \\cdot}\\right)^2; MSG = \\dfrac{SSG}{c-1}$$\n",
    "\n",
    "waarbij $n$ het totaal aantal waarnemingen is en $c$ het aantal groepen. Hiervoor geldt er dat $SST = SSG + SSE$.\n",
    "\n",
    "**ANOVA tabel**\n",
    "\n",
    "Met de berekende waarden kunnen we de volgende tabel opstellen:\n",
    "\n",
    "|ANOVA|vrijheidsgraden ($df$)|Sum of Squares|Mean of Squares|F-ratio|\n",
    "|--|--|--|--|--|\n",
    "|Groepen (G)|$c-1$|$SSG$|$MSG$|$\\frac{MSG}{MSE}$|\n",
    "|Binnen (E)|$n-c$|$SSE$|$MSE$||\n",
    "|Totaal (T)|$n-1$|$SST$||"
   ]
  },
  {
   "cell_type": "markdown",
   "metadata": {},
   "source": [
    "**Voorbeeld**"
   ]
  },
  {
   "cell_type": "code",
   "execution_count": 182,
   "metadata": {
    "scrolled": true
   },
   "outputs": [],
   "source": [
    "economie = c(35, 10, 47, 23, 35, 59, 32, 44, 18, 27)\n",
    "techniek = c(52, 38, 45, 37, 60, 48, 54, 66)\n",
    "gezondheidszorg = c(18, 24, 10, 48, 20, 12, 36, 24)\n",
    "n1 = length(economie); n2 = length(techniek); n3 = length(gezondheidszorg)\n",
    "Y = c(economie, techniek, gezondheidszorg)"
   ]
  },
  {
   "cell_type": "code",
   "execution_count": 207,
   "metadata": {},
   "outputs": [
    {
     "name": "stdout",
     "output_type": "stream",
     "text": [
      "[1] \"De f-waarde is 8.65886826768073 met een p-waarde van 0.000897214262039324\"\n"
     ]
    }
   ],
   "source": [
    "SST = sum((economie - mean(Y))^2) + \n",
    "      sum((techniek - mean(Y))^2) + \n",
    "      sum((gezondheidszorg - mean(Y))^2)\n",
    "\n",
    "SSE = sum((economie - mean(economie))^2) + \n",
    "      sum((techniek - mean(techniek))^2) + \n",
    "      sum((gezondheidszorg - mean(gezondheidszorg))^2)\n",
    "          \n",
    "SSG = n1 * (mean(economie) - mean(Y))^2 + \n",
    "      n2 * (mean(techniek) - mean(Y))^2 + \n",
    "      n3 * (mean(gezondheidszorg) - mean(Y))^2\n",
    "\n",
    "MST = SST / (length(Y) - 1)\n",
    "MSE = SSE / (length(Y) - 3)\n",
    "MSG = SSG / 2\n",
    "F = MSG / MSE\n",
    "p = df(F, df1=2, df2=23) # met df1 = c-1 en df2 = n-c\n",
    "print(paste('De f-waarde is', F, 'met een p-waarde van', p))"
   ]
  },
  {
   "cell_type": "markdown",
   "metadata": {},
   "source": [
    "Het kritieke gebied kunnen we bepalen met:"
   ]
  },
  {
   "cell_type": "code",
   "execution_count": 208,
   "metadata": {},
   "outputs": [
    {
     "data": {
      "text/html": [
       "3.42213220786118"
      ],
      "text/latex": [
       "3.42213220786118"
      ],
      "text/markdown": [
       "3.42213220786118"
      ],
      "text/plain": [
       "[1] 3.422132"
      ]
     },
     "metadata": {},
     "output_type": "display_data"
    }
   ],
   "source": [
    "qf(.95, df1=2, df2=23)"
   ]
  },
  {
   "cell_type": "markdown",
   "metadata": {},
   "source": [
    "In dit geval is het kritieke gebied: $Z = \\left[3.42; \\rightarrow\\right>$. Hier wordt $H_0$ duidelijk verworpen."
   ]
  },
  {
   "cell_type": "markdown",
   "metadata": {},
   "source": [
    "_Toetsprocedure_\n",
    "\n",
    "1. $H_0$ : $\\mu_1 = \\mu_2 = \\mu_3$ en $H_A$ : de populatiegemiddelden zijn niet gelijk aan elkaar.\n",
    "2. Toetsingsgrootheid: $F = \\dfrac{MSG}{MSE} = 8.6589 \\sim F_{[\\nu_1, \\nu_2]}$ met $\\nu_1=2$ en $\\nu_2=23$.\n",
    "3. Overschrijdingskans: $p = P(F_{[2,23]}\\geq 8.6589) = 0.0008972$.\n",
    "4. Beslissing: $p \\leq \\alpha$ ($\\alpha=0.05$) dus $H_0$ verwerpen.\n",
    "5. Conclusie: De drie populaties studenten hebben niet alle drie hetzelfde gemiddelde aantal uren internetgebruik."
   ]
  },
  {
   "cell_type": "markdown",
   "metadata": {},
   "source": [
    "# Ongelijke steekproefgroottes"
   ]
  },
  {
   "cell_type": "markdown",
   "metadata": {},
   "source": [
    "Bij ongelijke steekproefgroottes is $E(\\bar{X}_{\\cdot \\cdot})$ geen zuivere schatter voor $\\mu$. De oplossing hiervoor is als volgt:\n",
    "\n",
    "$$SSG = \\bar{n}_h \\sum\\limits_{j=1}^c\\left( \\bar{X}_{\\cdot j} - \\bar{G}_{\\cdot \\cdot}\\right)^2 $$\n",
    "\n",
    "waarbij $\\bar{n}_h$ het harmonisch gemiddelde is en\n",
    "\n",
    "$$ \\bar{G}_{\\cdot \\cdot} = \\dfrac{\\sum\\limits_{j=1}^c\\left( \\bar{X}_j \\right)}{c}.$$ \n",
    "\n",
    "In het geval van ongelijke steekproefgroottes geldt dat $SST \\not = SSG + SSE$."
   ]
  },
  {
   "cell_type": "markdown",
   "metadata": {},
   "source": [
    "# Levene's toets"
   ]
  },
  {
   "cell_type": "markdown",
   "metadata": {},
   "source": [
    "Met Levene's toets kunnen we toetsen of populatievarianties mogelijk gelijk zijn aan elkaar. Dit is een vereiste voor de ANOVA analyse. Hierbij stellen we als $H_0$ dat de populatievarianties gelijk zijn aan elkaar en willen we dit niet verwerpen.\n",
    "\n",
    "**Toetsingsgrootheid**\n",
    "\n",
    "$$ F_L = \\dfrac{\\left( \\sum\\limits_{j=1}^c n_j \\left( \\bar{Z}_{\\cdot j} - \\bar{Z}_{\\cdot \\cdot}\\right)^2\\right) / (c-1)}{\\left( \\sum\\limits_{j=1}^c \\sum\\limits_{i=1}^{n_j} \\left( \\bar{Z}_{ij} - \\bar{Z}_{\\cdot j} \\right)^2\\right) / (n-c)} = \\dfrac{MSG}{MSE} \\sim F_{(\\nu_1, \\nu_2)} $$\n",
    "\n",
    "waarbij $Z_{ij} = \\left|\\ X_{ij} - \\bar{X}_{\\cdot j}\\ \\right|$.\n",
    "\n",
    "**Beslissing**\n",
    "\n",
    "Als $p > \\alpha$ dan wordt $H_0$ niet verworpen. De populatievarianties kunnen aan elkaar gelijk zijn."
   ]
  },
  {
   "cell_type": "markdown",
   "metadata": {},
   "source": [
    "# Bonferoni methode"
   ]
  },
  {
   "cell_type": "markdown",
   "metadata": {},
   "source": [
    "Een post-hoc analyse kan worden toegepast zodra $H_0$ wordt verworpen bij de variantieanalyse. Een methode hiervoor is de Bonferoni methode. De vraag die willen beantwoorden is welke $\\mu_j$'s niet samenvallen.\n",
    "\n",
    "Dit kunnen we doen door het paarsgewijs vergelijken van de steekproefgemiddelden m.b.v. de t-toets. Als er drie groepen zijn dan moeten we $k=\\begin{pmatrix}c\\\\2\\end{pmatrix}$ paren die we moeten toetsen. Voor een significantie van $\\alpha=0.05$ krijgen we bij herhalen van de t-toets:"
   ]
  },
  {
   "cell_type": "code",
   "execution_count": 105,
   "metadata": {},
   "outputs": [
    {
     "data": {
      "text/html": [
       "0.264908109375"
      ],
      "text/latex": [
       "0.264908109375"
      ],
      "text/markdown": [
       "0.264908109375"
      ],
      "text/plain": [
       "[1] 0.2649081"
      ]
     },
     "metadata": {},
     "output_type": "display_data"
    }
   ],
   "source": [
    "1-(1-0.05)**6"
   ]
  },
  {
   "cell_type": "markdown",
   "metadata": {},
   "source": [
    "Er is dus een kans van $26\\%$ dat er een fout van eerste soort optreedt. Om dit op te lossen toetsen we met $\\frac{\\alpha}{2\\cdot k}$ als we tweezijdige toetsen en $\\frac{\\alpha}{k}$ bij een enkelzijdige toets. Volgens BK is deze methode te rigoreus, zij komen met de Tukey's HSD methode."
   ]
  },
  {
   "cell_type": "markdown",
   "metadata": {},
   "source": [
    "**Hypothese**"
   ]
  },
  {
   "cell_type": "markdown",
   "metadata": {},
   "source": [
    "De hypothese die we toetsen is $H_0 : \\mu_i = \\mu_j$ en $H_A : \\mu_i \\not= \\mu_j$."
   ]
  },
  {
   "cell_type": "markdown",
   "metadata": {},
   "source": [
    "**Toetsingsgrootheid**"
   ]
  },
  {
   "cell_type": "markdown",
   "metadata": {},
   "source": [
    "De te gebruiken toetsingsgrootheid voor de Bonferoni methode is als volgt:\n",
    "\n",
    "$$ \\dfrac{\\left( \\overline{\\underline X}_{\\cdot i} - \\overline{\\underline X}_{\\cdot j}\\right) - \\left( \\mu_i - \\mu_j \\right)}{\\sqrt{MSE} \\cdot \\sqrt{\\frac{1}{n_i} + \\frac{1}{n_j}}} \\sim t[\\nu] $$\n",
    "\n",
    "waarbij $\\nu = n-c$."
   ]
  },
  {
   "cell_type": "markdown",
   "metadata": {},
   "source": [
    "**Beslisregel**\n",
    "\n",
    "In dit geval is het makkelijker om te toetsen met het kritieke gebied i.p.v. de overschijdingskans. Het kritieke gebied kunnen we bepalen met:\n",
    "\n",
    "$$ Z = \\left<\\leftarrow; P(\\underline{t}[\\nu] \\leq L) = \\frac{\\alpha}{2k} \\right] \\cup \\left[P(\\underline{t}[\\nu] \\geq R) = \\frac{\\alpha}{2k}; \\rightarrow \\right> $$"
   ]
  },
  {
   "cell_type": "markdown",
   "metadata": {},
   "source": [
    "**Conclusie**\n",
    "\n",
    "Zodra $H_0$ wordt verworpen is er een significant verschil aangetoond. Dus $\\mu_i < \\mu_j$, of andersom. Dit wordt bepaalt door te kijken welk gemiddelde het laagst/hoogst is."
   ]
  },
  {
   "cell_type": "markdown",
   "metadata": {},
   "source": [
    "# Tukey's HSD methode"
   ]
  },
  {
   "cell_type": "markdown",
   "metadata": {},
   "source": [
    "De Tuckey's HSD (honestly significant difference) gebruikt een waarde die is af te lezen vanuit een tabel. Dit is tabel 3, de verdeling van $V$ voor Tukey's HSD procedure.\n",
    "\n",
    "_Toetsprocedure_\n",
    "\n",
    "1. $H_0$ : $\\mu_i = \\mu_j$ en $H_A$ : $\\mu_i \\not= \\mu_j$.\n",
    "2. Toetsingsgrootheid: $V$.\n",
    "3. Beslisregel: $Z = \\left[r;\\rightarrow\\right>$ met $P(v\\geq r\\ |\\ c; \\nu_t)$. Hier geldt dat $a=c$ het aantal groepen is. Deze waarde wordt afgelezen uit tabel 3.\n",
    "4. Beslissing: Als $x \\in Z$ dan wordt $H_0$ verworpen, als $x \\not\\in Z$ dan wordt $H_0$ niet verworpen."
   ]
  },
  {
   "cell_type": "markdown",
   "metadata": {},
   "source": [
    "# Maat voor effectgrootte"
   ]
  },
  {
   "cell_type": "markdown",
   "metadata": {},
   "source": [
    "Een maat voor effectgrootte $\\eta^2$, eta kwadraat, geeft het percentage van de variantie v/d scores op de afhankelijke variabele dat door de onafhankelijke variabele wordt verklaard.\n",
    "\n",
    " $$ \\eta^2 = \\dfrac{SSG}{SST} : \\textrm{effectgrootte} $$\n",
    " \n",
    "Dit geldt voor een gelijke steekproefgrootte."
   ]
  },
  {
   "cell_type": "markdown",
   "metadata": {},
   "source": [
    "# Rangtekentoets (Wilcoxon Signed Rank test)"
   ]
  },
  {
   "cell_type": "markdown",
   "metadata": {},
   "source": [
    "Het doel van de analyse is een verschil aantonen tussen twee _afhankelijke/gekoppelde_ groepen op een ordinale variabele.\n",
    "\n",
    "**Stappenplan**\n",
    "\n",
    "1. Maak een tabel met de experimentele groep $E$ en de controle groep $C$.\n",
    "2. Bepaal het verschil $D_i = E_i - C_i$.\n",
    "3. Bepaal hat absolute verschil $|\\ D_i\\ |$.\n",
    "4. Bepaal de rangnummers $R_i$ van het absolute verschil.\n",
    "5. Bepaal het teken voor $R_i$, dus $\\textrm{sign}(D_i) \\cdot R_i$.\n",
    "6. Bepaal $W_+$ wat de som is van alle _positieve_ rangnummers.\n",
    "7. Zodra $W_+$ en $n$ bepaald zijn kunnen we de $p$-waarde opzoeken in tabel 10.\n",
    "\n",
    "Alle verschilscores waarvoor geldt dat $D_i = 0$ moeten worden verwijderd. Indien dit het geval is dat wordt ook de $n$ aangepast. In het geval van gelijke rangnummers, m.a.w. knopen, nemen we het gemiddelde van de rangnummers."
   ]
  },
  {
   "cell_type": "markdown",
   "metadata": {},
   "source": [
    "**Toetsingsgrootheid**\n",
    "\n",
    "De toetsingsgrootheid is $W_+$. Dit is de som is van alle positieve rangnummers. Voor $W_+$ geldt dat:\n",
    "\n",
    " * $\\textrm{E}(W_+) = \\dfrac{n(n-1)}{4}$\n",
    " * $\\textrm{Var}(W_+) = \\dfrac{n(n+1)(2n+1)}{24}$"
   ]
  },
  {
   "cell_type": "markdown",
   "metadata": {},
   "source": [
    "**Centrale limietstelling**"
   ]
  },
  {
   "cell_type": "markdown",
   "metadata": {},
   "source": [
    "Het blijkt dat we $W_+$ normaal kunnen benaderen als $n \\rightarrow \\infty$. De vuistregel hiervoor is $n > 15$. In dit geval geldt dat:\n",
    "\n",
    "$$ W_+ \\sim N\\left(\\mu=\\dfrac{n(n-1)}{4}; \\sigma=\\sqrt{\\dfrac{n(n+1)(2n+1)}{24}}\\right)$$\n",
    "\n",
    "Bij benadering gebruiken we:\n",
    "\n",
    "$$ P(W_+ \\leq k) \\approx P\\left(X_{nor} \\leq k + \\frac{1}{2}\\ |\\ \\mu, \\sigma\\right) $$"
   ]
  },
  {
   "cell_type": "markdown",
   "metadata": {},
   "source": [
    "**Voorbeeld**\n",
    "\n",
    "Voor patienten met depressieve klachten is er een experiment opgezet. Hiervoor is $X$ de score op de vragenlijst ($0\\leq X \\leq 100$). Hoe hoger de score, hoe erger de klachten. Er zijn 10 gematchte paren gemaakt (personen met dezelfde score op de vragenlijst).\n",
    "\n",
    "De experimentele groep $E$ krijgt een behandeling met hardlopen en de controle groep $C$ krijgt een behandeling zonder hardlopen. Toets of het hardlopen effect heeft."
   ]
  },
  {
   "cell_type": "code",
   "execution_count": 56,
   "metadata": {
    "scrolled": true
   },
   "outputs": [
    {
     "data": {
      "text/html": [
       "<table>\n",
       "<tbody>\n",
       "\t<tr><th scope=row>E</th><td>70 </td><td>60 </td><td> 55</td><td>80 </td><td>40 </td><td>68 </td><td>54 </td><td>71 </td><td>70 </td><td> 40</td></tr>\n",
       "\t<tr><th scope=row>C</th><td>75 </td><td>62 </td><td> 65</td><td>77 </td><td>49 </td><td>60 </td><td>63 </td><td>78 </td><td>59 </td><td> 55</td></tr>\n",
       "\t<tr><th scope=row>D</th><td>-5 </td><td>-2 </td><td>-10</td><td> 3 </td><td>-9 </td><td> 8 </td><td>-9 </td><td>-7 </td><td>11 </td><td>-15</td></tr>\n",
       "\t<tr><th scope=row>D.abs</th><td> 5 </td><td> 2 </td><td> 10</td><td> 3 </td><td> 9 </td><td> 8 </td><td> 9 </td><td> 7 </td><td>11 </td><td> 15</td></tr>\n",
       "\t<tr><th scope=row>R</th><td> 4 </td><td> 1 </td><td>  8</td><td> 2 </td><td> 7 </td><td> 6 </td><td> 3 </td><td> 5 </td><td> 9 </td><td> 10</td></tr>\n",
       "\t<tr><th scope=row>R.sign</th><td>-4 </td><td>-1 </td><td> -8</td><td> 2 </td><td>-7 </td><td> 6 </td><td>-3 </td><td>-5 </td><td> 9 </td><td>-10</td></tr>\n",
       "</tbody>\n",
       "</table>\n"
      ],
      "text/latex": [
       "\\begin{tabular}{r|llllllllll}\n",
       "\tE & 70  & 60  &  55 & 80  & 40  & 68  & 54  & 71  & 70  &  40\\\\\n",
       "\tC & 75  & 62  &  65 & 77  & 49  & 60  & 63  & 78  & 59  &  55\\\\\n",
       "\tD & -5  & -2  & -10 &  3  & -9  &  8  & -9  & -7  & 11  & -15\\\\\n",
       "\tD.abs &  5  &  2  &  10 &  3  &  9  &  8  &  9  &  7  & 11  &  15\\\\\n",
       "\tR &  4  &  1  &   8 &  2  &  7  &  6  &  3  &  5  &  9  &  10\\\\\n",
       "\tR.sign & -4  & -1  &  -8 &  2  & -7  &  6  & -3  & -5  &  9  & -10\\\\\n",
       "\\end{tabular}\n"
      ],
      "text/markdown": [
       "\n",
       "| E | 70  | 60  |  55 | 80  | 40  | 68  | 54  | 71  | 70  |  40 | \n",
       "| C | 75  | 62  |  65 | 77  | 49  | 60  | 63  | 78  | 59  |  55 | \n",
       "| D | -5  | -2  | -10 |  3  | -9  |  8  | -9  | -7  | 11  | -15 | \n",
       "| D.abs |  5  |  2  |  10 |  3  |  9  |  8  |  9  |  7  | 11  |  15 | \n",
       "| R |  4  |  1  |   8 |  2  |  7  |  6  |  3  |  5  |  9  |  10 | \n",
       "| R.sign | -4  | -1  |  -8 |  2  | -7  |  6  | -3  | -5  |  9  | -10 | \n",
       "\n",
       "\n"
      ],
      "text/plain": [
       "       [,1] [,2] [,3] [,4] [,5] [,6] [,7] [,8] [,9] [,10]\n",
       "E      70   60    55  80   40   68   54   71   70    40  \n",
       "C      75   62    65  77   49   60   63   78   59    55  \n",
       "D      -5   -2   -10   3   -9    8   -9   -7   11   -15  \n",
       "D.abs   5    2    10   3    9    8    9    7   11    15  \n",
       "R       4    1     8   2    7    6    3    5    9    10  \n",
       "R.sign -4   -1    -8   2   -7    6   -3   -5    9   -10  "
      ]
     },
     "metadata": {},
     "output_type": "display_data"
    }
   ],
   "source": [
    "E = c(70, 60, 55, 80, 40, 68, 54, 71, 70, 40)\n",
    "C = c(75, 62, 65, 77, 49, 60, 63, 78, 59, 55)\n",
    "D = E-C\n",
    "D.abs = abs(D)\n",
    "R = c(4, 1, 8, 2, 7, 6, 3, 5, 9, 10)\n",
    "R.sign = sign(D) * R\n",
    "df = t(data.frame(E, C, D, D.abs, R, R.sign))\n",
    "df"
   ]
  },
  {
   "cell_type": "code",
   "execution_count": 67,
   "metadata": {},
   "outputs": [
    {
     "data": {
      "text/html": [
       "17"
      ],
      "text/latex": [
       "17"
      ],
      "text/markdown": [
       "17"
      ],
      "text/plain": [
       "[1] 17"
      ]
     },
     "metadata": {},
     "output_type": "display_data"
    }
   ],
   "source": [
    "W_pos = sum(R.sign[R.sign > 0])\n",
    "W_pos"
   ]
  },
  {
   "cell_type": "markdown",
   "metadata": {},
   "source": [
    "_Toetsprocedure_\n",
    "\n",
    "1. $H_0$ : $\\eta_E = \\eta_C$ en $H_A$ : $\\eta_E < \\eta_C$.\n",
    "2. Toetsingsgrootheid: $W_+ = 17$ met $n=10$.\n",
    "3. Overschrijdingskans: $p = P(W_+\\leq 17) \\stackrel{\\textrm{Tabel 10}}{=} 0.161$.\n",
    "4. Beslissing: $p \\leq \\alpha$ ($0.10$) dus $H_0$ niet verwerpen.\n",
    "5. Conclusie: Er is geen significant verschil in toetsscores."
   ]
  },
  {
   "cell_type": "markdown",
   "metadata": {},
   "source": [
    "# Wilcoxon som toets (Mann-Whitney toets)"
   ]
  },
  {
   "cell_type": "markdown",
   "metadata": {},
   "source": [
    "Het doel van de analyse is een verschil aantonen tussen twee _onafhankelijke_ groepen op een ordinale variabele.\n",
    "\n",
    " * Groepsvariabele : middel (groep 1: geneesmiddel, groep 2: placebo)\n",
    " * Testvariabele : mate van aggresief gedrag (testscore 1-100)\n",
    " \n",
    "**Stappenplan**\n",
    "\n",
    "1. Sorteer beide testscores, zowel $X$ als $Y$.\n",
    "2. Bepaal de rangnummers voor $X$ en $Y$.\n",
    "3. Bepaal de som voor elke groep, dus $S_x$ en $S_y$ waarbij de $S$ staat voor som.\n",
    "4. Zodra $m$, $n$ en $S_x$ bepaald zijn kunnen we de $p$-waarde opzoeken in tabel 11.\n",
    "\n",
    "Let er op dat geldt dat $m \\leq n$, indien dit niet het geval is kunnen $X$ en $Y$ worden omgewisselt.\n",
    "\n",
    "**Toetsingsgrootheid**\n",
    "\n",
    "De toetsingsgrootheid is $S_x$ waarbij $S$ staat voor de som. Dit is de som van alle rangnummers van $X$. Voor $S_x$ geldt er dat:\n",
    "\n",
    " * $\\textrm E(S_x) = \\frac{m(m+n+1)}{2}$\n",
    " * $\\textrm{Var}(S_x) = \\frac{nm(n+m+1)}{12}$\n",
    " \n",
    "**Centrale limietstelling**\n",
    "\n",
    "Het blijkt dat we $S_x$ normaal kunnen benaderen als $n, m \\rightarrow \\infty$. Hiervoor geldt dat:\n",
    "\n",
    "$$S_x \\sim N\\left(\\mu=\\frac{m(m+n+1)}{2}; \\sigma=\\sqrt{\\frac{nm(n+m+1)}{12}}\\right)$$ \n",
    "\n",
    "De vuistregel om te mogen benaderen eist dat $m, n > 10$. Hiervoor gebruiken we:\n",
    "\n",
    "$$ P(S_x \\leq k) \\approx P\\left(X_{nor} \\leq k + \\frac{1}{2}\\ |\\ \\mu, \\sigma\\right) $$\n",
    " \n",
    "**Voorbeeld**"
   ]
  },
  {
   "cell_type": "markdown",
   "metadata": {},
   "source": [
    "Voor twee groepen $A$ en $B$ wordt er een vitaminepil gegeven. Groep $A$ is vertelt dat het een prestatieverhogend middel is en voor groep $B$ een slaapmiddel. "
   ]
  },
  {
   "cell_type": "code",
   "execution_count": 46,
   "metadata": {
    "scrolled": true
   },
   "outputs": [
    {
     "data": {
      "text/html": [
       "<table>\n",
       "<tbody>\n",
       "\t<tr><th scope=row>groep.a</th><td>36</td><td>41</td><td>44</td><td>45</td><td>52</td><td>53</td><td>54</td><td>57</td><td>58</td><td>77</td></tr>\n",
       "\t<tr><th scope=row>groep.b</th><td>26</td><td>46</td><td>55</td><td>59</td><td>64</td><td>65</td><td>67</td><td>79</td><td>81</td><td>83</td></tr>\n",
       "\t<tr><th scope=row>rank.a</th><td> 2</td><td> 3</td><td> 4</td><td> 5</td><td> 7</td><td> 8</td><td> 9</td><td>11</td><td>12</td><td>17</td></tr>\n",
       "\t<tr><th scope=row>rank.b</th><td> 1</td><td> 6</td><td>10</td><td>13</td><td>14</td><td>15</td><td>16</td><td>18</td><td>19</td><td>20</td></tr>\n",
       "</tbody>\n",
       "</table>\n"
      ],
      "text/latex": [
       "\\begin{tabular}{r|llllllllll}\n",
       "\tgroep.a & 36 & 41 & 44 & 45 & 52 & 53 & 54 & 57 & 58 & 77\\\\\n",
       "\tgroep.b & 26 & 46 & 55 & 59 & 64 & 65 & 67 & 79 & 81 & 83\\\\\n",
       "\trank.a &  2 &  3 &  4 &  5 &  7 &  8 &  9 & 11 & 12 & 17\\\\\n",
       "\trank.b &  1 &  6 & 10 & 13 & 14 & 15 & 16 & 18 & 19 & 20\\\\\n",
       "\\end{tabular}\n"
      ],
      "text/markdown": [
       "\n",
       "| groep.a | 36 | 41 | 44 | 45 | 52 | 53 | 54 | 57 | 58 | 77 | \n",
       "| groep.b | 26 | 46 | 55 | 59 | 64 | 65 | 67 | 79 | 81 | 83 | \n",
       "| rank.a |  2 |  3 |  4 |  5 |  7 |  8 |  9 | 11 | 12 | 17 | \n",
       "| rank.b |  1 |  6 | 10 | 13 | 14 | 15 | 16 | 18 | 19 | 20 | \n",
       "\n",
       "\n"
      ],
      "text/plain": [
       "        [,1] [,2] [,3] [,4] [,5] [,6] [,7] [,8] [,9] [,10]\n",
       "groep.a 36   41   44   45   52   53   54   57   58   77   \n",
       "groep.b 26   46   55   59   64   65   67   79   81   83   \n",
       "rank.a   2    3    4    5    7    8    9   11   12   17   \n",
       "rank.b   1    6   10   13   14   15   16   18   19   20   "
      ]
     },
     "metadata": {},
     "output_type": "display_data"
    }
   ],
   "source": [
    "groep.a = c(36, 41, 44, 45, 52, 53, 54, 57, 58, 77)\n",
    "groep.b = c(26, 46, 55, 59, 64, 65, 67, 79, 81, 83)\n",
    "rank.a = c(2, 3, 4, 5, 7, 8, 9, 11, 12, 17)\n",
    "rank.b = c(1, 6, 10, 13, 14, 15, 16, 18, 19, 20)\n",
    "t(data.frame(groep.a, groep.b, rank.a, rank.b))"
   ]
  },
  {
   "cell_type": "code",
   "execution_count": 49,
   "metadata": {},
   "outputs": [
    {
     "data": {
      "text/html": [
       "78"
      ],
      "text/latex": [
       "78"
      ],
      "text/markdown": [
       "78"
      ],
      "text/plain": [
       "[1] 78"
      ]
     },
     "metadata": {},
     "output_type": "display_data"
    }
   ],
   "source": [
    "Sa = sum(rank.a)\n",
    "Sa"
   ]
  },
  {
   "cell_type": "markdown",
   "metadata": {},
   "source": [
    "_Toetsprocedure_\n",
    "\n",
    "1. $H_0$ : $\\eta_A = \\eta_B$ en $H_A$ : $\\eta_A < \\eta_B$.\n",
    "2. Toetsingsgrootheid: $S_A = 78$ met $m=n=10$.\n",
    "3. Overschrijdingskans: $p = P(S_A \\leq 78) \\stackrel{\\textrm{Tabel 11}}{=} 0.022$.\n",
    "4. Beslissing: $p \\leq \\alpha$ dus $H_0$ verwerpen.\n",
    "5. Conclusie: De suggestie doet zijn werk."
   ]
  },
  {
   "cell_type": "code",
   "execution_count": null,
   "metadata": {},
   "outputs": [],
   "source": []
  }
 ],
 "metadata": {
  "kernelspec": {
   "display_name": "R",
   "language": "R",
   "name": "ir"
  },
  "language_info": {
   "codemirror_mode": "r",
   "file_extension": ".r",
   "mimetype": "text/x-r-source",
   "name": "R",
   "pygments_lexer": "r",
   "version": "3.4.4"
  }
 },
 "nbformat": 4,
 "nbformat_minor": 2
}
