{
 "cells": [
  {
   "cell_type": "markdown",
   "metadata": {},
   "source": [
    "# Example"
   ]
  },
  {
   "cell_type": "code",
   "execution_count": 7,
   "metadata": {},
   "outputs": [
    {
     "data": {
      "text/html": [
       "<table>\n",
       "<thead><tr><th scope=col>ob</th><th scope=col>state</th></tr></thead>\n",
       "<tbody>\n",
       "\t<tr><td>149971</td><td>1     </td></tr>\n",
       "\t<tr><td> 70808</td><td>1     </td></tr>\n",
       "\t<tr><td>133518</td><td>1     </td></tr>\n",
       "\t<tr><td>145658</td><td>1     </td></tr>\n",
       "\t<tr><td>175701</td><td>1     </td></tr>\n",
       "\t<tr><td> 50960</td><td>1     </td></tr>\n",
       "\t<tr><td>126606</td><td>1     </td></tr>\n",
       "\t<tr><td> 82329</td><td>1     </td></tr>\n",
       "</tbody>\n",
       "</table>\n"
      ],
      "text/latex": [
       "\\begin{tabular}{r|ll}\n",
       " ob & state\\\\\n",
       "\\hline\n",
       "\t 149971 & 1     \\\\\n",
       "\t  70808 & 1     \\\\\n",
       "\t 133518 & 1     \\\\\n",
       "\t 145658 & 1     \\\\\n",
       "\t 175701 & 1     \\\\\n",
       "\t  50960 & 1     \\\\\n",
       "\t 126606 & 1     \\\\\n",
       "\t  82329 & 1     \\\\\n",
       "\\end{tabular}\n"
      ],
      "text/markdown": [
       "\n",
       "ob | state | \n",
       "|---|---|---|---|---|---|---|---|\n",
       "| 149971 | 1      | \n",
       "|  70808 | 1      | \n",
       "| 133518 | 1      | \n",
       "| 145658 | 1      | \n",
       "| 175701 | 1      | \n",
       "|  50960 | 1      | \n",
       "| 126606 | 1      | \n",
       "|  82329 | 1      | \n",
       "\n",
       "\n"
      ],
      "text/plain": [
       "  ob     state\n",
       "1 149971 1    \n",
       "2  70808 1    \n",
       "3 133518 1    \n",
       "4 145658 1    \n",
       "5 175701 1    \n",
       "6  50960 1    \n",
       "7 126606 1    \n",
       "8  82329 1    "
      ]
     },
     "metadata": {},
     "output_type": "display_data"
    }
   ],
   "source": [
    "d = data.frame(ob=c(149971, 70808, 133518, 145658, 175701, 50960, 126606, 82329), state=1); d"
   ]
  },
  {
   "cell_type": "code",
   "execution_count": 8,
   "metadata": {},
   "outputs": [],
   "source": [
    "library(survival)"
   ]
  },
  {
   "cell_type": "markdown",
   "metadata": {},
   "source": [
    "# Parameter estimation using Maximum Likelihood Estimation"
   ]
  },
  {
   "cell_type": "code",
   "execution_count": 9,
   "metadata": {},
   "outputs": [
    {
     "data": {
      "text/plain": [
       "Call:\n",
       "survreg(formula = s ~ 1, dist = \"weibull\")\n",
       "\n",
       "Coefficients:\n",
       "(Intercept) \n",
       "   11.78215 \n",
       "\n",
       "Scale= 0.3017834 \n",
       "\n",
       "Loglik(model)= -96.1   Loglik(intercept only)= -96.1\n",
       "n= 8 "
      ]
     },
     "metadata": {},
     "output_type": "display_data"
    }
   ],
   "source": [
    "s = Surv(d$ob, d$state)\n",
    "sr = survreg(s~1, dist=\"weibull\")\n",
    "sr"
   ]
  },
  {
   "cell_type": "code",
   "execution_count": 10,
   "metadata": {},
   "outputs": [
    {
     "name": "stdout",
     "output_type": "stream",
     "text": [
      "[1] \"beta = 3.31363465580381\"\n",
      "[1] \"eta = 130895.039243954\"\n"
     ]
    }
   ],
   "source": [
    "print(paste('beta =', 1 / sr$scale))\n",
    "print(paste('eta =', exp(sr$coefficients[1])))"
   ]
  },
  {
   "cell_type": "markdown",
   "metadata": {},
   "source": [
    "# Median Rank Regression"
   ]
  },
  {
   "cell_type": "code",
   "execution_count": null,
   "metadata": {},
   "outputs": [],
   "source": [
    "pp = qbeta(0.5, )"
   ]
  },
  {
   "cell_type": "code",
   "execution_count": 12,
   "metadata": {},
   "outputs": [
    {
     "data": {
      "text/html": [
       "<ol class=list-inline>\n",
       "\t<li>7</li>\n",
       "\t<li>2</li>\n",
       "\t<li>5</li>\n",
       "\t<li>6</li>\n",
       "\t<li>8</li>\n",
       "\t<li>1</li>\n",
       "\t<li>4</li>\n",
       "\t<li>3</li>\n",
       "</ol>\n"
      ],
      "text/latex": [
       "\\begin{enumerate*}\n",
       "\\item 7\n",
       "\\item 2\n",
       "\\item 5\n",
       "\\item 6\n",
       "\\item 8\n",
       "\\item 1\n",
       "\\item 4\n",
       "\\item 3\n",
       "\\end{enumerate*}\n"
      ],
      "text/markdown": [
       "1. 7\n",
       "2. 2\n",
       "3. 5\n",
       "4. 6\n",
       "5. 8\n",
       "6. 1\n",
       "7. 4\n",
       "8. 3\n",
       "\n",
       "\n"
      ],
      "text/plain": [
       "[1] 7 2 5 6 8 1 4 3"
      ]
     },
     "metadata": {},
     "output_type": "display_data"
    }
   ],
   "source": [
    "rank(d$ob, ties.method = \"first\")"
   ]
  },
  {
   "cell_type": "code",
   "execution_count": 14,
   "metadata": {},
   "outputs": [
    {
     "ename": "ERROR",
     "evalue": "Error in library(weibulltoolkit): there is no package called 'weibulltoolkit'\n",
     "output_type": "error",
     "traceback": [
      "Error in library(weibulltoolkit): there is no package called 'weibulltoolkit'\nTraceback:\n",
      "1. library(weibulltoolkit)",
      "2. stop(txt, domain = NA)"
     ]
    }
   ],
   "source": [
    "library(weibulltoolkit) "
   ]
  },
  {
   "cell_type": "code",
   "execution_count": 15,
   "metadata": {
    "scrolled": true
   },
   "outputs": [
    {
     "ename": "ERROR",
     "evalue": "Error in plot.wb(d): could not find function \"plot.wb\"\n",
     "output_type": "error",
     "traceback": [
      "Error in plot.wb(d): could not find function \"plot.wb\"\nTraceback:\n"
     ]
    }
   ],
   "source": [
    "plot.wb(d)"
   ]
  },
  {
   "cell_type": "markdown",
   "metadata": {},
   "source": [
    "# Problem 2-1"
   ]
  },
  {
   "cell_type": "code",
   "execution_count": 17,
   "metadata": {},
   "outputs": [
    {
     "data": {
      "text/html": [
       "<table>\n",
       "<thead><tr><th scope=col>sort.failure.times.</th><th scope=col>rank</th><th scope=col>benard.rank</th></tr></thead>\n",
       "<tbody>\n",
       "\t<tr><td> 85       </td><td> 1        </td><td>0.06730769</td></tr>\n",
       "\t<tr><td>135       </td><td> 2        </td><td>0.16346154</td></tr>\n",
       "\t<tr><td>150       </td><td> 3        </td><td>0.25961538</td></tr>\n",
       "\t<tr><td>150       </td><td> 4        </td><td>0.35576923</td></tr>\n",
       "\t<tr><td>190       </td><td> 5        </td><td>0.45192308</td></tr>\n",
       "\t<tr><td>200       </td><td> 6        </td><td>0.54807692</td></tr>\n",
       "\t<tr><td>200       </td><td> 7        </td><td>0.64423077</td></tr>\n",
       "\t<tr><td>240       </td><td> 8        </td><td>0.74038462</td></tr>\n",
       "\t<tr><td>240       </td><td> 9        </td><td>0.83653846</td></tr>\n",
       "\t<tr><td>250       </td><td>10        </td><td>0.93269231</td></tr>\n",
       "</tbody>\n",
       "</table>\n"
      ],
      "text/latex": [
       "\\begin{tabular}{r|lll}\n",
       " sort.failure.times. & rank & benard.rank\\\\\n",
       "\\hline\n",
       "\t  85        &  1         & 0.06730769\\\\\n",
       "\t 135        &  2         & 0.16346154\\\\\n",
       "\t 150        &  3         & 0.25961538\\\\\n",
       "\t 150        &  4         & 0.35576923\\\\\n",
       "\t 190        &  5         & 0.45192308\\\\\n",
       "\t 200        &  6         & 0.54807692\\\\\n",
       "\t 200        &  7         & 0.64423077\\\\\n",
       "\t 240        &  8         & 0.74038462\\\\\n",
       "\t 240        &  9         & 0.83653846\\\\\n",
       "\t 250        & 10         & 0.93269231\\\\\n",
       "\\end{tabular}\n"
      ],
      "text/markdown": [
       "\n",
       "sort.failure.times. | rank | benard.rank | \n",
       "|---|---|---|---|---|---|---|---|---|---|\n",
       "|  85        |  1         | 0.06730769 | \n",
       "| 135        |  2         | 0.16346154 | \n",
       "| 150        |  3         | 0.25961538 | \n",
       "| 150        |  4         | 0.35576923 | \n",
       "| 190        |  5         | 0.45192308 | \n",
       "| 200        |  6         | 0.54807692 | \n",
       "| 200        |  7         | 0.64423077 | \n",
       "| 240        |  8         | 0.74038462 | \n",
       "| 240        |  9         | 0.83653846 | \n",
       "| 250        | 10         | 0.93269231 | \n",
       "\n",
       "\n"
      ],
      "text/plain": [
       "   sort.failure.times. rank benard.rank\n",
       "1   85                  1   0.06730769 \n",
       "2  135                  2   0.16346154 \n",
       "3  150                  3   0.25961538 \n",
       "4  150                  4   0.35576923 \n",
       "5  190                  5   0.45192308 \n",
       "6  200                  6   0.54807692 \n",
       "7  200                  7   0.64423077 \n",
       "8  240                  8   0.74038462 \n",
       "9  240                  9   0.83653846 \n",
       "10 250                 10   0.93269231 "
      ]
     },
     "metadata": {},
     "output_type": "display_data"
    }
   ],
   "source": [
    "failure.times = c(150, 85, 250, 240, 135, 200, 240, 150, 200, 190)\n",
    "df = data.frame(sort(failure.times))\n",
    "df$rank = rank(df$sort.failure.times, ties.method=\"first\")\n",
    "df$benard.rank = ((df$rank - 0.3) / (nrow(df) + 0.4))\n",
    "df"
   ]
  },
  {
   "cell_type": "code",
   "execution_count": 8,
   "metadata": {},
   "outputs": [
    {
     "data": {
      "image/png": "[encoded data removed]",
      "text/plain": [
       "plot without title"
      ]
     },
     "metadata": {},
     "output_type": "display_data"
    }
   ],
   "source": [
    "plot(df$rank, df$sort.failure.times)"
   ]
  },
  {
   "cell_type": "code",
   "execution_count": null,
   "metadata": {},
   "outputs": [],
   "source": []
  }
 ],
 "metadata": {
  "kernelspec": {
   "display_name": "R",
   "language": "R",
   "name": "ir"
  },
  "language_info": {
   "codemirror_mode": "r",
   "file_extension": ".r",
   "mimetype": "text/x-r-source",
   "name": "R",
   "pygments_lexer": "r",
   "version": "3.4.4"
  }
 },
 "nbformat": 4,
 "nbformat_minor": 2
}
