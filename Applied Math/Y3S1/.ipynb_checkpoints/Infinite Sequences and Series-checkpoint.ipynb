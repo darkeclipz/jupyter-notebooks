{
 "cells": [
  {
   "cell_type": "markdown",
   "metadata": {},
   "source": [
    "# Infinite Sequences and Series"
   ]
  },
  {
   "cell_type": "markdown",
   "metadata": {},
   "source": [
    "This document contains all the important definitions, and theorems, as well as some examples, for infinite sequences and series."
   ]
  },
  {
   "cell_type": "markdown",
   "metadata": {},
   "source": [
    "## Sequences"
   ]
  },
  {
   "cell_type": "markdown",
   "metadata": {},
   "source": [
    "**Definition (Sequence):** A **sequence** is a list of numbers, such as $\\left\\{ a_1, a_2, a_3, ..., a_n, ... \\right\\} $, which is denoted as $\\left\\{a_n\\right\\}^\\infty_{n=1}$. For every positive integer $n$, there is a corresponding number $a_n$, so a sequence can defined as a function whose domain is the set of positive integers. An example of a sequence would be:\n",
    "\n",
    "$$ \n",
    "\\left\\{ \\dfrac{n}{n+1} \\right\\}^\\infty_{n=1} \n",
    "\\qquad\\qquad\n",
    "a_n = \\dfrac{n}{n+1}\n",
    "\\qquad\\qquad\n",
    "\\left\\{ \\dfrac{1}{2}, \\dfrac{2}{3}, \\dfrac{3}{4}, ..., \\dfrac{n}{n+1}, ... \\right\\}\n",
    "$$\n",
    "\n",
    "**Definition (Convergent/Divergent):** A sequence has the limit $L$ which we write as $\\lim_{n\\to\\infty} a_n = L$ or $a_n \\to L$ as $n \\to \\infty$ if we can make the terms $a_n$ as close to $L$ as we like by taking $n$ sufficiently large. If $\\lim_{n \\to \\infty} a_n$ exists, then we say the sequence **converges**, and otherwise the sequence **diverges**.\n",
    "\n",
    "**Sequence $\\{r^n\\}$**: The sequence $\\{r^n\\}$ is convergent if $-1 < r \\leq 1$ and divergent for all other values of $r$.\n",
    "\n",
    "**Definition (Increasing/Decreasing):** A sequence $\\{a_n\\}$ is called **increasing** if $a_n < a_{n+1}$ for all $n \\geq 1$. It is called **decreasing** if $a_n > a_{n+1}$ for all $n \\geq 1$. A sequence is called **monotonic** if it is either increasing or decreasing.\n",
    "\n",
    "**Definition (Bounded):** A sequence $\\{a_n\\}$ is **bounded above** if there is a number $M$ such that $a_n \\leq M$ for all $n \\geq 1$. It is **bounded below** if there is a number $m$ such that $m \\leq a_n$ for all $n \\geq 1$. If it is bounded above and below, then $\\{a_n\\}$ is a **bounded sequence**.\n",
    "\n",
    "**Monotonic Sequence Theorem:** The **monotonic sequence theorem** states that every bounded, monotonic sequence is convergent."
   ]
  },
  {
   "cell_type": "markdown",
   "metadata": {},
   "source": [
    "## Series"
   ]
  },
  {
   "cell_type": "markdown",
   "metadata": {},
   "source": [
    "**Definition (Series):** If we try to add the terms of an infinite sequence $\\{a_n\\}^\\infty_{n=1}$ we get an expression which is called an **infinite series**, or just **series**, which is denoted by\n",
    "$\\sum_{n=1}^\\infty a_n$.\n",
    "\n",
    "**Definition (Partial sum)**: The **partial sum** $s_n$ is the sum of the series up to $n$.\n",
    "\n",
    "**Definition (Sum)**: The **sum** of the series is denoted with $s$. \n",
    "\n",
    "**Definition (Convergent/Divergent):** If the sequence $\\{s_n\\}$ is convergent and $\\lim_{n\\to\\infty}s_n=s$ exists as a real number, then the series $\\sum a_n$ is called **convergent** and we write $\\sum_{n=1}^\\infty a_n = s$. If the sequence $\\{s_n\\}$ is divergent, then the series is called **divergent**.\n",
    "\n",
    "**Geometric Series**: The **geometric series**\n",
    "\n",
    "$$ \n",
    "\\sum\\limits_{n=1}^\\infty ar^{n-1} = a + ar + ar^2 + \\cdots\n",
    "$$\n",
    "\n",
    "is convergent if $|r|<1$ and it's sum is\n",
    "\n",
    "$$\n",
    "\\sum\\limits_{n=1}^\\infty ar^{n-1} = \\dfrac{a}{1-r}\\qquad |r|<1.\n",
    "$$\n",
    "\n",
    "If $|r|\\geq1$, the geometric series is divergent.\n",
    "\n",
    "**Theorem:** If the series $\\sum_{n=1}^\\infty a_n$ is convergent, then $\\lim_{n\\to\\infty} a_n = 0$. Note that the converse of this statement is not true, e.g. the harmonic series $\\sum \\frac{1}{n}$ is divergent.\n",
    "\n",
    "**Test for Divergence:** If $\\lim_{n\\to\\infty} a_n$ does not exist or if $\\lim_{n\\to\\infty}\\neq 0$, then the series $\\sum_{n=1}^\\infty a_n$ is divergent.\n",
    "\n",
    "**Theorem:** If the series $\\sum a_n$ and $\\sum b_n$ are convergent series, then so are the series $\\sum c\\cdot a_n$ (where $c$ is a constant), $\\sum(a_n + b_n)$, and $\\sum(a_n - b_n)$."
   ]
  },
  {
   "cell_type": "markdown",
   "metadata": {},
   "source": [
    "## The Integral Test and Estimates of Sums"
   ]
  },
  {
   "cell_type": "markdown",
   "metadata": {},
   "source": [
    "**The Integral Test:** Suppose $f$ is a continuous, positive, and decreasing function on the interval $\\left[1, \\infty\\right)$ and let $a_n = f(n)$. Then the series $\\sum_{n=1}^\\infty a_n$ is convergent if and only if the improper integral $\\int_1^\\infty f(x)\\ dx$ is convergent.\n",
    "\n",
    "**$p$-series:** The $p$-series \n",
    "\n",
    "$$\\sum\\limits_{n=1}^\\infty \\dfrac{1}{n^p} = \\dfrac{1}{1^p} + \\dfrac{1}{2^p} + \\dfrac{1}{3^p} + \\cdots$$\n",
    "\n",
    "is convergent if $p > 1$ and divergent if $p \\leq 1$.\n",
    "\n",
    "**Remainder Estimate for the Integral Test**: Suppose $f(k) = a_k$, where $f$ is a continuous, positive, decreasing function for $x \\geq n$ and $\\sum a_n$ is convergent. If $R_n = s - s_n$, then\n",
    "\n",
    "$$\n",
    "\\int_{n+1}^\\infty f(x)\\ dx \\leq R_n \\leq \\int_n^\\infty f(x)\\ dx\n",
    "$$\n",
    "\n",
    "and if we add $s_n$ to the inequality, we get\n",
    "\n",
    "$$\n",
    "s_n + \\int_{n+1}^\\infty f(x)\\ dx \\leq s \\leq s_n + \\int_n^\\infty f(x)\\ dx.\n",
    "$$\n",
    "\n",
    "Note that $s = s_n + R_n$."
   ]
  },
  {
   "cell_type": "markdown",
   "metadata": {},
   "source": [
    "## The Comparison Test"
   ]
  },
  {
   "cell_type": "markdown",
   "metadata": {},
   "source": [
    "**The Comparison Test:** Suppose that $\\sum a_n$ and $\\sum b_n$ are series with positive terms.\n",
    "\n",
    " 1. If $\\sum b_n$ is convergent and $a_n \\leq b_n$ for all $n$, then $\\sum a_n$ is also convergent.\n",
    " 2. If $\\sum b_n$ is divergent and $a_n \\geq b_n$ for all $n$, then $\\sum a_n$ is also divergent."
   ]
  },
  {
   "cell_type": "markdown",
   "metadata": {},
   "source": [
    "**The Limit Comparison Test:** Suppose that $\\sum a_n$ and $\\sum b_n$ are series with positive terms. If\n",
    "\n",
    "$$\n",
    "\\lim\\limits_{n\\to\\infty}\\dfrac{a_n}{b_n} = c \n",
    "$$\n",
    "\n",
    "where $c$ is a finite number and $c > 0$, then either both series converge or both diverge."
   ]
  },
  {
   "cell_type": "code",
   "execution_count": null,
   "metadata": {},
   "outputs": [],
   "source": []
  }
 ],
 "metadata": {
  "kernelspec": {
   "display_name": "Python 3",
   "language": "python",
   "name": "python3"
  },
  "language_info": {
   "codemirror_mode": {
    "name": "ipython",
    "version": 3
   },
   "file_extension": ".py",
   "mimetype": "text/x-python",
   "name": "python",
   "nbconvert_exporter": "python",
   "pygments_lexer": "ipython3",
   "version": "3.7.4"
  }
 },
 "nbformat": 4,
 "nbformat_minor": 2
}
