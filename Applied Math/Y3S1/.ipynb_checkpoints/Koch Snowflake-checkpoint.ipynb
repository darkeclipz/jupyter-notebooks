{
 "cells": [
  {
   "cell_type": "markdown",
   "metadata": {},
   "source": [
    "# Koch Snowflake"
   ]
  },
  {
   "cell_type": "markdown",
   "metadata": {},
   "source": [
    "The Koch snowflake, also known as the Koch curve, is a mathematical curve and one of the earliest fractals to have been described. [[1]](https://en.wikipedia.org/wiki/Koch_snowflake) The illustration belows shows the Koch snowflake:"
   ]
  },
  {
   "cell_type": "markdown",
   "metadata": {},
   "source": [
    "![Koch snowflake](koch-snowflake.png)"
   ]
  },
  {
   "cell_type": "markdown",
   "metadata": {},
   "source": [
    "It is constructed by starting with an equilateral triangle, and on each iteration a smaller triangle is added on each side. This polygon has interesting properties, and in this document we will discover how to answer the following questions:\n",
    "\n",
    " 1. What is the total length of the perimeter at the $n$th iteration as $n \\to \\infty$?\n",
    " 2. What is the total surface area of the polygon at the $n$th iteration as $n \\to \\infty$?\n",
    " \n",
    "To answer these questions, we will first derive the formulas for number of sides, the length of a side, and the total length of the $n$th approximating curve."
   ]
  },
  {
   "cell_type": "markdown",
   "metadata": {},
   "source": [
    "## Number of sides"
   ]
  },
  {
   "cell_type": "markdown",
   "metadata": {},
   "source": [
    "Let $s_n$ denote the number of sides at iteration $n$. The triangle starts with three sides, so $s_0 = 3$. In the next iteration each side is divided into four new sides, which gives $s_1 = 3\\cdot4=12$. Then for the next iteration, all those sides are divided again into four sides, giving $s_2 = 3\\cdot4\\cdot4=72$. The following pattern emerges:\n",
    "\n",
    "$$ \n",
    "a_0 = 3 \\\\ a_1 = 3 \\cdot 4 \\\\ a_2 = 3 \\cdot 4 \\cdot 4 \\\\ \\vdots \\\\ a_n = 3\\cdot4^n\n",
    "$$"
   ]
  },
  {
   "cell_type": "markdown",
   "metadata": {},
   "source": [
    "This gives us the first formula $s_n = 3\\cdot 4^n$, for the number of sides at the $n$th iteration."
   ]
  },
  {
   "cell_type": "markdown",
   "metadata": {},
   "source": [
    "## Length of a side"
   ]
  },
  {
   "cell_type": "markdown",
   "metadata": {},
   "source": [
    "Let the length of a side start at $1$, then we can see that at the next iteration the length of each of the new sides is $\\frac{1}{3}$ of the original size, and it will continue to do so for each iteration. So the length of a side at the $n$th iteration is\n",
    "\n",
    "$$\n",
    "l_n = \\left(\\dfrac{1}{3}\\right)^n.\n",
    "$$"
   ]
  },
  {
   "cell_type": "markdown",
   "metadata": {},
   "source": [
    "## Perimeter of the curve"
   ]
  },
  {
   "cell_type": "markdown",
   "metadata": {},
   "source": [
    "The perimeter $p_n$ is simply the number of sides multiplied by the length, which gives\n",
    "\n",
    "$$\n",
    "p_n = s_n \\cdot l_n = 3 \\cdot 4^n \\cdot \\left(\\dfrac{1}{3}\\right)^n.\n",
    "$$"
   ]
  },
  {
   "cell_type": "markdown",
   "metadata": {},
   "source": [
    "For exponents we can use the property $a^n\\cdot b^n = (ab)^n$, which is simple to proof. If we have $a^n\\cdot b^n$ we can expand this as $\\underbrace{a\\cdot a \\cdots a}_{n-\\mathrm{times}} \\cdot \\underbrace{b\\cdot b \\cdots b}_{n-\\mathrm{times}}$, which we can rearrange as $\\underbrace{ab\\cdot ab \\cdots ab}_{n-\\mathrm{times}}$, from which $(ab)^n$ follows."
   ]
  },
  {
   "cell_type": "markdown",
   "metadata": {},
   "source": [
    "Using this property, we can see that $3\\cdot 4^n \\left(\\frac{1}{3}\\right)^n = 3\\left(\\frac{4}{3}\\right)^n$, which gives us the final formula for the perimeter\n",
    "\n",
    "$$\n",
    "p_n = 3 \\cdot \\left(\\dfrac{4}{3}\\right)^n.\n",
    "$$"
   ]
  },
  {
   "cell_type": "code",
   "execution_count": null,
   "metadata": {},
   "outputs": [],
   "source": []
  }
 ],
 "metadata": {
  "kernelspec": {
   "display_name": "Python 3",
   "language": "python",
   "name": "python3"
  },
  "language_info": {
   "codemirror_mode": {
    "name": "ipython",
    "version": 3
   },
   "file_extension": ".py",
   "mimetype": "text/x-python",
   "name": "python",
   "nbconvert_exporter": "python",
   "pygments_lexer": "ipython3",
   "version": "3.7.4"
  }
 },
 "nbformat": 4,
 "nbformat_minor": 2
}
