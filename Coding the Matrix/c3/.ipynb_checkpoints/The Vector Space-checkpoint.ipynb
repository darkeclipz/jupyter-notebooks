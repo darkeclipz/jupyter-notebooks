{
 "cells": [
  {
   "cell_type": "markdown",
   "metadata": {},
   "source": [
    "# The Vector Space"
   ]
  },
  {
   "cell_type": "markdown",
   "metadata": {},
   "source": [
    "## What is a linear combination?"
   ]
  },
  {
   "cell_type": "markdown",
   "metadata": {},
   "source": [
    "A linear combination of $v_1,\\ldots,v_n$ to be a sum $\\alpha_1 v_1,\\ldots \\alpha_n v_n$ where $\\alpha_1,\\ldots,\\alpha_n$ are scalars."
   ]
  },
  {
   "cell_type": "markdown",
   "metadata": {},
   "source": [
    "Let $D$ be a set of stocks. A $D$-vector over $\\mathbb{R}$ represents a portfolio, it maps each stock to the number of shares owned.\n",
    "\n",
    "Suppose that there are $n$-mutual funds. For $i=1,\\ldots,n$, each share represents ownership of a certain amount of stock. It can be represented by a $D$-vector $V_i$:\n",
    "\n",
    "$$\\alpha_1 v_1,\\ldots,\\alpha_n v_n$$\n",
    "\n",
    "Where $\\alpha_i$ represents my ownership of funds.\n",
    "\n",
    "Let $D$ be a function that maps a stock to total amount of stocks in the fund:\n",
    "\n",
    "$$D=\\{\\text{DGB} \\mapsto 1000, \\text{BCC} \\mapsto 20, \\text{STRAT} \\mapsto 500\\}$$\n",
    "\n",
    "Let $\\alpha$ be a function that maps a stock to the total percentage of shares that I own:\n",
    "\n",
    "$$\\alpha=\\{\\text{DGB} \\mapsto 1/2,\\text{BCC} \\mapsto 1/4, \\text{STRAT} \\mapsto 1/5\\}$$\n",
    "\n",
    "Let $\\Psi$ be a function that maps a stock to the price of the stock:\n",
    "\n",
    "$$\\Psi = \\{\\text{DGB} \\mapsto 0.000510, \\text{BCC} \\mapsto 0.096, \\text{STRAT} \\mapsto 0.00562\\}$$\n",
    "\n",
    "* The total implied ownership is denoted by $\\alpha D$.\n",
    "* The total value of the entire portfolio is denoted by $\\psi D$.\n",
    "* The total value of shares that I own is denoted by $\\alpha \\psi D$."
   ]
  },
  {
   "cell_type": "markdown",
   "metadata": {},
   "source": [
    "## What are coefficients?"
   ]
  },
  {
   "cell_type": "markdown",
   "metadata": {},
   "source": [
    "The scalars $\\alpha_1,\\ldots,\\alpha_n$ in the linear combination $\\alpha_1 v_1,\\ldots,\\alpha_n v_n$ are the coefficients."
   ]
  },
  {
   "cell_type": "markdown",
   "metadata": {},
   "source": [
    "## What is the span of vectors?"
   ]
  },
  {
   "cell_type": "markdown",
   "metadata": {},
   "source": [
    "We can calculate $\\text{Span}\\{[2,1],[4,2]\\}$:"
   ]
  },
  {
   "cell_type": "markdown",
   "metadata": {},
   "source": [
    "$$\\begin{align}\n",
    "0[2,1]+0[4,2]&=[0,0]\\\\\n",
    "0[2,1]+1[4,2]&=[4,2]\\\\\n",
    "1[2,1]+0[4,2]&=[2,1]\\\\\n",
    "1[2,1]+1[4,2]&=[6,3]\n",
    "\\end{align}$$"
   ]
  },
  {
   "cell_type": "markdown",
   "metadata": {},
   "source": [
    "The span of $\\{[2,1],[4,2]\\}$ is $\\{[0,0],[4,2],[2,1],[6,3]\\}$"
   ]
  },
  {
   "cell_type": "markdown",
   "metadata": {},
   "source": [
    "## What are standard generators?"
   ]
  },
  {
   "cell_type": "markdown",
   "metadata": {},
   "source": [
    "In order for a set to be a generating set for $\\mathbb{R}$ it must satisfy two rules:\n",
    "\n",
    "* Every linear combination is a vector in $\\mathbb{R}^3$.\n",
    "* Every vector in $\\mathbb{R}^3$ is a linear combination.\n",
    "\n",
    "To show that $\\{[3,0,0],[0,2,0],[0,0,1]\\}$ is a generating set for $\\mathbb{R}^3$ it can be rewritten as $[x,y,z]=(x/3)[3,0,0]+(y/2)[0,2,0]+z[0,0,1]$.\n",
    "\n",
    "In order to be a _standard generator_ of $\\mathbb{R}$, for each $k \\in D$, $e_k$ is the function $\\{k:1\\}$. That is $e_k$ maps $k$ to $1$ and maps all the other domains to zero.\n",
    "\n",
    "The standard generators are denoted by $e_0, e_1, e_2, \\ldots$. For any positive integer $n$, the standard generators for $\\mathbb{R}^n$ are:\n",
    "\n",
    "$$\\begin{align}\n",
    "e_0 &= [1,0,0,\\ldots,0] \\\\\n",
    "e_1 &= [0,1,0,\\ldots,0] \\\\\n",
    "e_2 &= [0,0,1,\\ldots,0] \\\\\n",
    "&\\vdots \\\\\n",
    "e_{n-1} &= [0,0,0,\\ldots,1]\n",
    "\\end{align}$$"
   ]
  },
  {
   "cell_type": "markdown",
   "metadata": {},
   "source": [
    "## What are examples of flats?"
   ]
  },
  {
   "cell_type": "markdown",
   "metadata": {},
   "source": [
    "A geometric object such as a point, line or plane is called a _flat_.\n",
    "\n",
    "All of $\\mathbb{R}^3$ is a three-dimensional flat.\n",
    "\n",
    "The span of $k$-vectors over $\\mathbb{R}$ forms a $k$-dimensional flat containing the origin or a flat of lower dimension containing the origin."
   ]
  },
  {
   "cell_type": "markdown",
   "metadata": {},
   "source": [
    "## What is a homogeneous linear equation?"
   ]
  },
  {
   "cell_type": "markdown",
   "metadata": {},
   "source": [
    "To be a homogeneous equation $\\{(x,y,z) \\in \\mathbb{R}^3 : ax+by+cz=d\\}$ we want planes that contain the origin. For $(0,0,0)$ to satisfy the equation $d$ must be zero, $ax+by+cz=0$."
   ]
  },
  {
   "cell_type": "markdown",
   "metadata": {},
   "source": [
    "For example $\\text{Span}\\{[1,0,1.65],[0,1,1]\\}$, can be rewritten as $\\{(x,y,z) \\in \\mathbb{R}^3 : 1.65x + 1y-1z = 0\\}$ which can be rewritten by using dot-product as $\\{[x,y,z] \\in \\mathbb{R}^3 : [1.65, 1, -1] \\cdot [x,y,z] = 0\\}$."
   ]
  },
  {
   "cell_type": "markdown",
   "metadata": {},
   "source": [
    "The plan is a solution set of a linear equation with right-hand side zero.\n",
    "\n",
    "A linear equation with right-hand zero is called a _homogeneous linear equation_."
   ]
  },
  {
   "cell_type": "markdown",
   "metadata": {},
   "source": [
    "## What is a homogeneous linear system?"
   ]
  },
  {
   "cell_type": "markdown",
   "metadata": {},
   "source": [
    "A linear system with all right-hand sides zero is called a _homogeneous linear system_.\n",
    "\n",
    "A flat containing the origin is a solution set of a homogenous linear system.\n",
    "\n",
    "Suppose you want to find the plane containing two given lines, the line $\\text{Span}\\{[-4,-1,1]\\}$ and the line $\\text{Span}\\{[0,1,1]\\}$, this is easy to do because we take the span in respect to the two lines $\\text{Span}\\{[4,-1,1],[0,1,1]\\}$.\n",
    "\n",
    "It is also worth noticing that:\n",
    "\n",
    "* $\\text{Span}\\{[0,0]\\}$ forms a **point**.\n",
    "* $\\text{Span}\\{[0,1,1]\\}$ forms a **line**.\n",
    "* $\\text{Span}\\{[0,1,1],[0,1,2]\\}$ forms a **plane**.\n",
    "* $\\text{Span}\\{[0,1,1],[0,1,2],[1,0,0]\\}$ forms a **tetrahydron**."
   ]
  },
  {
   "cell_type": "markdown",
   "metadata": {},
   "source": [
    "## What are two kinds of representations of flats containing the origin?"
   ]
  },
  {
   "cell_type": "markdown",
   "metadata": {},
   "source": [
    "Two examples of flats containing the origin are:\n",
    "\n",
    "* Span of some vectors\n",
    "* Solution set of a homogeneous linear system.\n",
    "\n",
    "If we take the intersection of two planes:\n",
    "\n",
    "* $\\{[x,y,z] : [4,-1,1] \\cdot [x,y,z] = 0\\}$\n",
    "* $\\{[x,y,z] : [0,1,1] \\cdot [x,y,z] = 0\\}$\n",
    "\n",
    "Since each plane is represented as the solution set of a homogeneous linear equation, it is easy to obtain the solution:\n",
    "\n",
    "$\\{[x,y,z]:[4,-1,1]\\cdot[x,y,z]=0,[0,1,1]\\cdot[x,y,z]=0\\}$"
   ]
  },
  {
   "cell_type": "markdown",
   "metadata": {},
   "source": [
    "## What is a vector space?"
   ]
  },
  {
   "cell_type": "markdown",
   "metadata": {},
   "source": [
    "A set $V$ is called a vector space if it satisfies the following properties:\n",
    "\n",
    "1. $V$ contains the zero vector.\n",
    "2. For every vector $v$ if $V$ contains $v$ then it contains $\\alpha v$ for every scalar $\\alpha$, is closed under scalar-vector multiplication.\n",
    "3. For every pair $u$ and $v$, if $V$ contains $u$ and $v$ it contains $u+v$."
   ]
  },
  {
   "cell_type": "markdown",
   "metadata": {},
   "source": [
    "Example to show that $V=\\text{Span}\\{v_1,\\ldots,v_n\\}$ is a vector space:\n",
    "\n",
    "1. because $0v_1,\\ldots,0v_n$.\n",
    "2. because if $v=\\beta_1 v_1+\\ldots+\\beta_n v_n$ then $\\alpha v=\\alpha \\beta_1 v_1 + \\ldots + \\alpha \\beta_n v_n$.\n",
    "3. because if $u = \\alpha_1 v_1 + \\ldots + \\alpha_n v_n$ and $v = \\beta_1 v_1,\\ldots,\\beta_n v_n$ then $u+v=(\\alpha_1 + \\beta_1)v_1 + \\ldots + (\\alpha_n +\\beta_n)v_n$."
   ]
  },
  {
   "cell_type": "markdown",
   "metadata": {},
   "source": [
    "Other examples of a vector space are:\n",
    "\n",
    "* Span of some vectors\n",
    "* Solution set of a homogeneous linear system"
   ]
  },
  {
   "cell_type": "markdown",
   "metadata": {},
   "source": [
    "## What is a subspace?"
   ]
  },
  {
   "cell_type": "markdown",
   "metadata": {},
   "source": [
    "If $V$ and $W$ are vector spaces and $V$ is a subset of $W$, we say $V$ is a subspace of $W$.\n",
    "\n",
    "The set $\\{[0,0]\\}$ is a subspace of $\\{\\alpha[2,1] : \\alpha \\in \\mathbb{R}\\}$ which in turn is a subspace of $\\mathbb{R}^2$.\n",
    "\n",
    "Vector spaces in $\\mathbb{R}^2$ are:\n",
    "\n",
    "1. smallest is $\\{[0,0]\\}$.\n",
    "2. largest is $\\mathbb{R}^2$ itself.\n",
    "3. for any nonzero vector $[a,b]$, the line through the origin and $[a,b]$, $\\text{Span}\\{[a,b]\\}$ is a vector space."
   ]
  },
  {
   "cell_type": "markdown",
   "metadata": {},
   "source": [
    "## What is an affine combination?"
   ]
  },
  {
   "cell_type": "markdown",
   "metadata": {},
   "source": [
    "A linear combination $\\alpha_1 u_1, \\ldots, \\alpha_n u_n$ is called an affine combination if the coefficients sum to $1$.\n",
    "\n",
    "The linear combination $2[10,10]+3[0,10]+(-4)[30,40]$ is an affine combination because $2+3+(-4)=1$.\n",
    "\n",
    "$u_1 + V$ is the plane through $u_1,u_2,u_3$.\n",
    "\n",
    "The vectors $V$ are the vectors that can be rewritten as linear combination $\\alpha(u_2-u_1)+\\beta(u_3-u_1)$. Which can be rewritten as $(1-\\alpha-\\beta)u_1+\\alpha u_2 + \\beta u_3$. Let $ \\gamma=1-\\alpha-\\beta$ the expression becomes $\\gamma u_1 + \\alpha u_2 + \\beta u_3$."
   ]
  },
  {
   "cell_type": "markdown",
   "metadata": {},
   "source": [
    "## What is the affine hull of vectors?"
   ]
  },
  {
   "cell_type": "markdown",
   "metadata": {},
   "source": [
    "The set of all affine combinations of a collection of vectors is called the affine hull of that collection.\n",
    "\n",
    "**What is the affine hull of $\\{[0.5,1],[3.5,3]\\}$?**\n",
    "\n",
    "The set of affine combination $\\{\\alpha[3.5,3],\\beta[0.5,1] : \\alpha \\in \\mathbb{R}, \\beta \\in \\mathbb{R}, \\alpha + \\beta = 1\\}$ is the line through $[0.5,1]$ and $[3.5,3]$.\n",
    "\n",
    "The affine hull of $\\{[1,2,3]\\}$ is a single vector $[1,2,3]$.\n",
    "\n",
    "If the points lie on a line, it is a line rather than a plane."
   ]
  },
  {
   "cell_type": "markdown",
   "metadata": {},
   "source": [
    "## What is an affine space?"
   ]
  },
  {
   "cell_type": "markdown",
   "metadata": {},
   "source": [
    "An affine space is the result of translating a vector space. That is, a set $A$ is an affine space if there is a vector $a$ and a vector space $V$ such that $A=\\{a+v:v \\in V\\}$, i.e. $A=a+V$."
   ]
  },
  {
   "cell_type": "markdown",
   "metadata": {},
   "source": [
    "A flat is an affine space that is a subset of $\\mathbb{R}^n$ for some $n$."
   ]
  },
  {
   "cell_type": "markdown",
   "metadata": {},
   "source": [
    "For any vectors $u_1 + \\ldots + u_n$:"
   ]
  },
  {
   "cell_type": "markdown",
   "metadata": {},
   "source": [
    "$$\\{\\alpha_1 u_1 + \\ldots \\alpha_n + u_n : \\sum_{i=1}^n \\alpha_i = 1 \\} = \\{u_1 + v : v \\in \\text{Span}\\{u_2-u_1,\\ldots,u_n-u_1\\}\\}$$"
   ]
  },
  {
   "cell_type": "markdown",
   "metadata": {},
   "source": [
    "The affine hull of $u_1,\\ldots,u_n$ equals the set obtained by adding $u_1$ to each vector in the span of $u_2-u_1,\\ldots,u_n-u_1$. (Finds the intersection of a plane with a line.)"
   ]
  },
  {
   "cell_type": "markdown",
   "metadata": {},
   "source": [
    "## What are the two kinds of representations of flats not containing the origin?"
   ]
  },
  {
   "cell_type": "markdown",
   "metadata": {},
   "source": [
    "Two representations are:\n",
    "\n",
    "1. as $a+V$ where $V$ is the span of some vectors.\n",
    "2. the affine hull of some vectors."
   ]
  },
  {
   "cell_type": "markdown",
   "metadata": {},
   "source": [
    "## Is the solution set of a linear system always an affine space?"
   ]
  },
  {
   "cell_type": "markdown",
   "metadata": {},
   "source": [
    "By theorem, for any linear system, the set of solutions is either empty or is an affine space.\n",
    "\n",
    "Proof:\n",
    "If the linear system has no solution, the set is empty. If it has at least $1$ solution, then the solution set is $\\{u_1+v:v\\in V\\}$"
   ]
  },
  {
   "cell_type": "code",
   "execution_count": null,
   "metadata": {
    "collapsed": true
   },
   "outputs": [],
   "source": []
  }
 ],
 "metadata": {
  "kernelspec": {
   "display_name": "Python 3",
   "language": "python",
   "name": "python3"
  },
  "language_info": {
   "codemirror_mode": {
    "name": "ipython",
    "version": 3
   },
   "file_extension": ".py",
   "mimetype": "text/x-python",
   "name": "python",
   "nbconvert_exporter": "python",
   "pygments_lexer": "ipython3",
   "version": "3.5.2"
  }
 },
 "nbformat": 4,
 "nbformat_minor": 2
}
