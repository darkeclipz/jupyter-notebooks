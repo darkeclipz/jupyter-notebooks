{
 "cells": [
  {
   "cell_type": "markdown",
   "metadata": {},
   "source": [
    "# Monte Carlo Strategy Backtesting"
   ]
  },
  {
   "cell_type": "code",
   "execution_count": 1,
   "metadata": {},
   "outputs": [
    {
     "name": "stdout",
     "output_type": "stream",
     "text": [
      "Populating the interactive namespace from numpy and matplotlib\n"
     ]
    }
   ],
   "source": [
    "%pylab inline\n",
    "import pandas as pd\n",
    "from scipy.stats import norm"
   ]
  },
  {
   "cell_type": "markdown",
   "metadata": {},
   "source": [
    "### Remove trailing zeros\n"
   ]
  },
  {
   "cell_type": "markdown",
   "metadata": {},
   "source": [
    "When creating moving averages we are losing a few periods at the head of the series. We want to fill this up with the first set value that we encounter in the series."
   ]
  },
  {
   "cell_type": "code",
   "execution_count": 2,
   "metadata": {},
   "outputs": [],
   "source": [
    "def remove_trailing_zeros(values):\n",
    "    \"\"\"Replace every 0 with 'nan' and return a copy.\"\"\"\n",
    "    start = 0\n",
    "    for i in range(0, len(values)):\n",
    "        start = i\n",
    "        if values[i] != 0:\n",
    "            break\n",
    "    for i in range(0, start):\n",
    "        values[i] = values[start]   \n",
    "    return values"
   ]
  },
  {
   "cell_type": "markdown",
   "metadata": {},
   "source": [
    "### Init"
   ]
  },
  {
   "cell_type": "markdown",
   "metadata": {},
   "source": [
    "Initializing the Monte Carlo simulation with variables:\n",
    "\n",
    "1. $u$ = the log mean\n",
    "2. $Var$ = the log variance\n",
    "3. $\\text{Drift} = u - \\dfrac{1}{2} \\cdot \\text{Var}$\n",
    "4. $\\text{Stdev} = \\sqrt{\\text{Var}}$ (standard deviation)"
   ]
  },
  {
   "cell_type": "markdown",
   "metadata": {},
   "source": [
    "The following values have been calculated for Bitcoin for a time period of the previous three years.\n",
    "\n",
    "* $u = 0.003717834$.\n",
    "* $\\text{Var} = 0.00172476$."
   ]
  },
  {
   "cell_type": "code",
   "execution_count": 3,
   "metadata": {},
   "outputs": [],
   "source": [
    "u = 0.003717834\n",
    "var = 0.00172476\n",
    "drift = u - (0.5 * var)\n",
    "stdev = math.sqrt(var)"
   ]
  },
  {
   "cell_type": "code",
   "execution_count": 4,
   "metadata": {},
   "outputs": [],
   "source": [
    "def generate_monte_carlo_chart(drift, stdev, t_intervals, start):\n",
    "    daily_returns = np.exp(drift + stdev * norm.ppf(np.random.rand(t_intervals, 1)))\n",
    "    price_list = np.zeros_like(daily_returns)\n",
    "    price_list[0] = start\n",
    "    for t in range(1, t_intervals):\n",
    "        price_list[t] = price_list[t - 1] * daily_returns[t]\n",
    "    return price_list"
   ]
  },
  {
   "cell_type": "markdown",
   "metadata": {},
   "source": [
    "### Run the simulation"
   ]
  },
  {
   "cell_type": "code",
   "execution_count": 5,
   "metadata": {},
   "outputs": [],
   "source": [
    "chart = generate_monte_carlo_chart(drift, stdev, 365, 12000)"
   ]
  },
  {
   "cell_type": "markdown",
   "metadata": {},
   "source": [
    "## Indicators"
   ]
  },
  {
   "cell_type": "markdown",
   "metadata": {},
   "source": [
    "### Simple Moving Average"
   ]
  },
  {
   "cell_type": "code",
   "execution_count": 6,
   "metadata": {},
   "outputs": [],
   "source": [
    "def sma(values, n):\n",
    "    sma = np.zeros_like(values)\n",
    "    for i in range(n, len(values)):\n",
    "        avg = np.sum(values[i-n:i])/n\n",
    "        sma[i] = avg\n",
    "    return remove_trailing_zeros(sma)"
   ]
  },
  {
   "cell_type": "markdown",
   "metadata": {},
   "source": [
    "### MACD"
   ]
  },
  {
   "cell_type": "code",
   "execution_count": 7,
   "metadata": {},
   "outputs": [],
   "source": [
    "def macd(values, ma1, ma2, sl):\n",
    "    result = ma2 - ma1\n",
    "    sma = np.ones_like(values) * result[sl]\n",
    "    for i in range(sl-1, len(result)):\n",
    "        avg = np.sum(result[i-sl:i])/sl\n",
    "        sma[i] = avg\n",
    "    return [result, sma]        "
   ]
  },
  {
   "cell_type": "markdown",
   "metadata": {},
   "source": [
    "### Calculating the indicators"
   ]
  },
  {
   "cell_type": "code",
   "execution_count": 8,
   "metadata": {},
   "outputs": [],
   "source": [
    "sma7 = sma(chart, 7)\n",
    "sma14 = sma(chart, 14)\n",
    "sma26 = sma(chart, 26)\n",
    "sma12 = sma(chart, 12)\n",
    "macd_ma, macd_sl = macd(chart, sma26, sma12, 9)"
   ]
  },
  {
   "cell_type": "markdown",
   "metadata": {},
   "source": [
    "## Plotting the Monte Carlo series and Indicators"
   ]
  },
  {
   "cell_type": "code",
   "execution_count": 9,
   "metadata": {},
   "outputs": [
    {
     "data": {
      "image/png": "[encoded data removed]",
      "text/plain": [
       "<matplotlib.figure.Figure at 0x236c1e0c128>"
      ]
     },
     "metadata": {},
     "output_type": "display_data"
    }
   ],
   "source": [
    "plt.figure(figsize=(16,10))\n",
    "plt.subplot(2,1,1)\n",
    "plt.plot(chart, c='lightgrey', lw=3);\n",
    "plt.plot(sma7, c='b')\n",
    "plt.plot(sma14, c='r')\n",
    "legend(['Price', 'SMA7', 'SMA14']);\n",
    "grid(linestyle='--')\n",
    "\n",
    "plt.subplot(2,1,2)\n",
    "plt.plot(macd_ma, c='b')\n",
    "plt.plot(macd_sl, c='r')\n",
    "#plt.fill_between(range(0, len(macd_area)), 0, np.array(macd_area), facecolor='lightgray')\n",
    "plt.axhline(0,c='black',lw=2, linestyle='solid')\n",
    "legend(['MACD', 'Signal line']);"
   ]
  },
  {
   "cell_type": "markdown",
   "metadata": {},
   "source": [
    "## Strategies"
   ]
  },
  {
   "cell_type": "code",
   "execution_count": 10,
   "metadata": {},
   "outputs": [],
   "source": [
    "equity_start = 1000"
   ]
  },
  {
   "cell_type": "markdown",
   "metadata": {},
   "source": [
    "#### Stats"
   ]
  },
  {
   "cell_type": "code",
   "execution_count": 11,
   "metadata": {},
   "outputs": [],
   "source": [
    "def strategy_backtest(signals):\n",
    "    trades = []\n",
    "    bought_at = 0\n",
    "    no_of_trades = 0\n",
    "    losing_streak = 0\n",
    "    longest_losing_streak = 0\n",
    "    equity = equity_start\n",
    "    in_trade = False\n",
    "\n",
    "    for i in range(0,len(signals)-1):\n",
    "        if signals[i][0] == 'buy':\n",
    "            bought_at = signals[i][1]\n",
    "            in_trade = True\n",
    "        else:\n",
    "            if not in_trade: continue\n",
    "                \n",
    "            coefficient = chart[i]/chart[bought_at]\n",
    "\n",
    "            if coefficient < 1:\n",
    "                losing_streak += 1\n",
    "                if losing_streak > longest_losing_streak:\n",
    "                    longest_losing_streak = losing_streak\n",
    "            else:\n",
    "                losing_streak = 0\n",
    "                \n",
    "            trades.append([signals[i][1], coefficient])\n",
    "            no_of_trades += 1\n",
    "            in_trade = False\n",
    "    \n",
    "    index, coeff = zip(*trades)\n",
    "    coeff_result = 1\n",
    "    for c in coeff:\n",
    "        equity *= c\n",
    "        coeff_result *= c\n",
    "        \n",
    "    return {'equity_start': equity_start, 'equity_end': equity.item(0), 'coefficient': coeff_result.item(0)\n",
    "            , 'no_of_trades':no_of_trades, 'losing_streak': longest_losing_streak, 'trades':trades}"
   ]
  },
  {
   "cell_type": "markdown",
   "metadata": {},
   "source": [
    "### HODL"
   ]
  },
  {
   "cell_type": "markdown",
   "metadata": {},
   "source": [
    "Easy thing to do..."
   ]
  },
  {
   "cell_type": "code",
   "execution_count": 12,
   "metadata": {
    "scrolled": false
   },
   "outputs": [],
   "source": [
    "def strategy_hodl(ch):\n",
    "    signals = []\n",
    "    signals.append(['buy', 0])\n",
    "    signals.append(['sell', len(ch)-1])\n",
    "    return signals"
   ]
  },
  {
   "cell_type": "code",
   "execution_count": 13,
   "metadata": {},
   "outputs": [
    {
     "ename": "ValueError",
     "evalue": "not enough values to unpack (expected 2, got 0)",
     "output_type": "error",
     "traceback": [
      "\u001b[1;31m---------------------------------------------------------------------------\u001b[0m",
      "\u001b[1;31mValueError\u001b[0m                                Traceback (most recent call last)",
      "\u001b[1;32m<ipython-input-13-fe10efde276d>\u001b[0m in \u001b[0;36m<module>\u001b[1;34m()\u001b[0m\n\u001b[0;32m      1\u001b[0m \u001b[0msignals\u001b[0m \u001b[1;33m=\u001b[0m \u001b[0mstrategy_hodl\u001b[0m\u001b[1;33m(\u001b[0m\u001b[0mchart\u001b[0m\u001b[1;33m)\u001b[0m\u001b[1;33m\u001b[0m\u001b[0m\n\u001b[1;32m----> 2\u001b[1;33m \u001b[0mstrategy_hodl_result\u001b[0m \u001b[1;33m=\u001b[0m \u001b[0mstrategy_backtest\u001b[0m\u001b[1;33m(\u001b[0m\u001b[0msignals\u001b[0m\u001b[1;33m)\u001b[0m\u001b[1;33m\u001b[0m\u001b[0m\n\u001b[0m",
      "\u001b[1;32m<ipython-input-11-09561e2c175b>\u001b[0m in \u001b[0;36mstrategy_backtest\u001b[1;34m(signals)\u001b[0m\n\u001b[0;32m     28\u001b[0m             \u001b[0min_trade\u001b[0m \u001b[1;33m=\u001b[0m \u001b[1;32mFalse\u001b[0m\u001b[1;33m\u001b[0m\u001b[0m\n\u001b[0;32m     29\u001b[0m \u001b[1;33m\u001b[0m\u001b[0m\n\u001b[1;32m---> 30\u001b[1;33m     \u001b[0mindex\u001b[0m\u001b[1;33m,\u001b[0m \u001b[0mcoeff\u001b[0m \u001b[1;33m=\u001b[0m \u001b[0mzip\u001b[0m\u001b[1;33m(\u001b[0m\u001b[1;33m*\u001b[0m\u001b[0mtrades\u001b[0m\u001b[1;33m)\u001b[0m\u001b[1;33m\u001b[0m\u001b[0m\n\u001b[0m\u001b[0;32m     31\u001b[0m     \u001b[0mcoeff_result\u001b[0m \u001b[1;33m=\u001b[0m \u001b[1;36m1\u001b[0m\u001b[1;33m\u001b[0m\u001b[0m\n\u001b[0;32m     32\u001b[0m     \u001b[1;32mfor\u001b[0m \u001b[0mc\u001b[0m \u001b[1;32min\u001b[0m \u001b[0mcoeff\u001b[0m\u001b[1;33m:\u001b[0m\u001b[1;33m\u001b[0m\u001b[0m\n",
      "\u001b[1;31mValueError\u001b[0m: not enough values to unpack (expected 2, got 0)"
     ]
    }
   ],
   "source": [
    "signals = strategy_hodl(chart)\n",
    "strategy_hodl_result = strategy_backtest(signals)"
   ]
  },
  {
   "cell_type": "code",
   "execution_count": null,
   "metadata": {},
   "outputs": [],
   "source": [
    "print('Hodling yields: %f, equity %f (Started with: %i)' % (strategy_hodl_result['coefficient'], strategy_hodl_result['coefficient'] * equity_start, equity_start))"
   ]
  },
  {
   "cell_type": "markdown",
   "metadata": {},
   "source": [
    "####  Multiple tests"
   ]
  },
  {
   "cell_type": "code",
   "execution_count": 14,
   "metadata": {},
   "outputs": [
    {
     "ename": "ValueError",
     "evalue": "not enough values to unpack (expected 2, got 0)",
     "output_type": "error",
     "traceback": [
      "\u001b[1;31m---------------------------------------------------------------------------\u001b[0m",
      "\u001b[1;31mValueError\u001b[0m                                Traceback (most recent call last)",
      "\u001b[1;32m<timed exec>\u001b[0m in \u001b[0;36m<module>\u001b[1;34m()\u001b[0m\n",
      "\u001b[1;32m<ipython-input-11-09561e2c175b>\u001b[0m in \u001b[0;36mstrategy_backtest\u001b[1;34m(signals)\u001b[0m\n\u001b[0;32m     28\u001b[0m             \u001b[0min_trade\u001b[0m \u001b[1;33m=\u001b[0m \u001b[1;32mFalse\u001b[0m\u001b[1;33m\u001b[0m\u001b[0m\n\u001b[0;32m     29\u001b[0m \u001b[1;33m\u001b[0m\u001b[0m\n\u001b[1;32m---> 30\u001b[1;33m     \u001b[0mindex\u001b[0m\u001b[1;33m,\u001b[0m \u001b[0mcoeff\u001b[0m \u001b[1;33m=\u001b[0m \u001b[0mzip\u001b[0m\u001b[1;33m(\u001b[0m\u001b[1;33m*\u001b[0m\u001b[0mtrades\u001b[0m\u001b[1;33m)\u001b[0m\u001b[1;33m\u001b[0m\u001b[0m\n\u001b[0m\u001b[0;32m     31\u001b[0m     \u001b[0mcoeff_result\u001b[0m \u001b[1;33m=\u001b[0m \u001b[1;36m1\u001b[0m\u001b[1;33m\u001b[0m\u001b[0m\n\u001b[0;32m     32\u001b[0m     \u001b[1;32mfor\u001b[0m \u001b[0mc\u001b[0m \u001b[1;32min\u001b[0m \u001b[0mcoeff\u001b[0m\u001b[1;33m:\u001b[0m\u001b[1;33m\u001b[0m\u001b[0m\n",
      "\u001b[1;31mValueError\u001b[0m: not enough values to unpack (expected 2, got 0)"
     ]
    }
   ],
   "source": [
    "%%time\n",
    "\n",
    "N = 5\n",
    "coefficients = []\n",
    "\n",
    "for i in range(0, N): \n",
    "    c = generate_monte_carlo_chart(drift, stdev, 365, 12000)\n",
    "    signals = strategy_hodl(c)\n",
    "    result = strategy_backtest(signals)\n",
    "    coefficients.append(result['coefficient'])"
   ]
  },
  {
   "cell_type": "code",
   "execution_count": null,
   "metadata": {},
   "outputs": [],
   "source": [
    "coefficients"
   ]
  },
  {
   "cell_type": "code",
   "execution_count": null,
   "metadata": {},
   "outputs": [],
   "source": [
    "pl = np.mean(coefficients)\n",
    "print('After %i runs the P/L is %f' % (N, pl))"
   ]
  },
  {
   "cell_type": "markdown",
   "metadata": {},
   "source": [
    "### MACD Crossover Strategy"
   ]
  },
  {
   "cell_type": "markdown",
   "metadata": {},
   "source": [
    "This is a very simple strategy where we go long when the MACD crosses into the positive zone and go short when the MACD is in the negative zone."
   ]
  },
  {
   "cell_type": "markdown",
   "metadata": {},
   "source": [
    "* Add EMA!\n",
    "* Fix crossover!"
   ]
  },
  {
   "cell_type": "markdown",
   "metadata": {},
   "source": [
    "#### Generating signals"
   ]
  },
  {
   "cell_type": "code",
   "execution_count": null,
   "metadata": {},
   "outputs": [],
   "source": [
    "def strategy_macd_crossover(chart, macd, sl):\n",
    "    start = 0\n",
    "    for i in range(0,len(sl)):\n",
    "        start = i\n",
    "        if not np.isnan(sl[i]):\n",
    "            break\n",
    "            \n",
    "    macd_prev = sl[i]\n",
    "    signals = []\n",
    "    for i in range(start, len(chart)):\n",
    "        if macd_prev-sl[i] < 0 and macd[i]-sl[i] > 0:\n",
    "            signals.append(['buy', i])\n",
    "        elif macd_prev-sl[i] > 0 and macd[i]-sl[i] < 0:\n",
    "            signals.append(['sell', i])\n",
    "        macd_prev = macd[i]\n",
    "\n",
    "    if signals[len(signals)-1][0] == 'buy':\n",
    "        signals.append(['sell', len(chart)-1])\n",
    "        \n",
    "    return signals"
   ]
  },
  {
   "cell_type": "code",
   "execution_count": null,
   "metadata": {},
   "outputs": [],
   "source": [
    "signals = strategy_macd_crossover(chart, macd_ma, macd_sl)\n",
    "len(signals)"
   ]
  },
  {
   "cell_type": "markdown",
   "metadata": {},
   "source": [
    "#### Plotting the signals"
   ]
  },
  {
   "cell_type": "code",
   "execution_count": null,
   "metadata": {
    "scrolled": false
   },
   "outputs": [],
   "source": [
    "plt.figure(figsize=(16,10))\n",
    "plt.subplot(2,1,1)\n",
    "plt.plot(chart, c='lightgrey', lw=3);\n",
    "plt.plot(sma7, c='b')\n",
    "plt.plot(sma14, c='r')\n",
    "legend(['Price', 'SMA7', 'SMA14']);\n",
    "grid(linestyle='--')\n",
    "for s in signals:\n",
    "    color = 'red'\n",
    "    if s[0] == 'buy':\n",
    "        color = 'green'\n",
    "    plt.axvline(s[1],c=color,lw=1, linestyle='--')\n",
    "    \n",
    "plt.subplot(2,1,2)\n",
    "plt.plot(macd_ma, c='b')\n",
    "plt.plot(macd_sl, c='r')\n",
    "plt.axhline(0,c='black',lw=2, linestyle='solid')\n",
    "plt.tight_layout(h_pad=0)\n",
    "legend(['MACD', 'Signal line']);\n",
    "for s in signals:\n",
    "    color = 'red'\n",
    "    if s[0] == 'buy':\n",
    "        color = 'green'\n",
    "    plt.axvline(s[1],c=color,lw=1, linestyle='--')"
   ]
  },
  {
   "cell_type": "markdown",
   "metadata": {},
   "source": [
    "The strategy is overtrading a lot which is the main cause for it's poor results."
   ]
  },
  {
   "cell_type": "code",
   "execution_count": null,
   "metadata": {},
   "outputs": [],
   "source": [
    "macd_strategy_result = strategy_backtest(signals)"
   ]
  },
  {
   "cell_type": "code",
   "execution_count": null,
   "metadata": {},
   "outputs": [],
   "source": [
    "macd_strategy_result['coefficient']"
   ]
  },
  {
   "cell_type": "code",
   "execution_count": null,
   "metadata": {
    "scrolled": true
   },
   "outputs": [],
   "source": [
    "macd_strategy_result['equity_end']"
   ]
  },
  {
   "cell_type": "code",
   "execution_count": null,
   "metadata": {
    "scrolled": true
   },
   "outputs": [],
   "source": [
    "print('MACD Signal Trading yields: %i trades, equity %f (Started with %i)' % (macd_strategy_result['no_of_trades'], macd_strategy_result['equity_end'], macd_strategy_result['equity_start']))"
   ]
  },
  {
   "cell_type": "code",
   "execution_count": null,
   "metadata": {},
   "outputs": [],
   "source": [
    "print('Stdev: %f' % math.sqrt(np.var([c[1] for c in macd_strategy_result['trades']])))"
   ]
  },
  {
   "cell_type": "code",
   "execution_count": null,
   "metadata": {
    "scrolled": false
   },
   "outputs": [],
   "source": [
    "print('Longest losing streak: %i' % macd_strategy_result['losing_streak'])"
   ]
  },
  {
   "cell_type": "markdown",
   "metadata": {},
   "source": [
    "#### Multiple tests"
   ]
  },
  {
   "cell_type": "code",
   "execution_count": null,
   "metadata": {},
   "outputs": [],
   "source": [
    "%%time\n",
    "N = 1000\n",
    "coefficients = []\n",
    "for i in range(0, N):\n",
    "    c = generate_monte_carlo_chart(drift, stdev, 365, 12000)\n",
    "    ma1 = sma(c, 26)\n",
    "    ma2 = sma(c, 12)\n",
    "    macd_ma, macd_sl = macd(c, ma1, ma2, 9)\n",
    "    signals = strategy_macd_crossover(c, macd_ma, macd_sl)\n",
    "    backtest = strategy_backtest(signals)\n",
    "    coefficients.append(backtest['coefficient'])"
   ]
  },
  {
   "cell_type": "code",
   "execution_count": null,
   "metadata": {},
   "outputs": [],
   "source": [
    "pl = np.mean(coefficients)\n",
    "print('After %i runs the P/L is %f' % (N, pl))"
   ]
  },
  {
   "cell_type": "markdown",
   "metadata": {},
   "source": [
    "## To do"
   ]
  },
  {
   "cell_type": "markdown",
   "metadata": {},
   "source": [
    "Add:\n",
    "\n",
    "* Equity curve plot\n",
    "* Exponential Moving Average\n",
    "* Relative Strength Index\n",
    "* Bollinger Bands\n",
    "* Fix that stupid HODLing message\n",
    "* Moving Averages Crossover Strategy for any $n$-periods"
   ]
  }
 ],
 "metadata": {
  "kernelspec": {
   "display_name": "Python 3",
   "language": "python",
   "name": "python3"
  },
  "language_info": {
   "codemirror_mode": {
    "name": "ipython",
    "version": 3
   },
   "file_extension": ".py",
   "mimetype": "text/x-python",
   "name": "python",
   "nbconvert_exporter": "python",
   "pygments_lexer": "ipython3",
   "version": "3.6.3"
  }
 },
 "nbformat": 4,
 "nbformat_minor": 2
}
