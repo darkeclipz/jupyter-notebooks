{
 "cells": [
  {
   "cell_type": "code",
   "execution_count": 1,
   "metadata": {},
   "outputs": [
    {
     "name": "stdout",
     "output_type": "stream",
     "text": [
      "Populating the interactive namespace from numpy and matplotlib\n"
     ]
    }
   ],
   "source": [
    "%pylab inline\n",
    "import poloniex as plnx\n",
    "import ta_lib as ta\n",
    "from datetime import datetime, timedelta\n",
    "from matplotlib.finance import candlestick2_ohlc"
   ]
  },
  {
   "cell_type": "markdown",
   "metadata": {},
   "source": [
    "# Altcoin Signal Trading Simulation System"
   ]
  },
  {
   "cell_type": "markdown",
   "metadata": {},
   "source": [
    "The system should be able to:\n",
    "\n",
    " * Keep track of various alt coin charts.\n",
    " * Keep track of various alt coin positions.\n",
    " * Generate signals for various alt coin charts.\n",
    " * Simulate to get statistics."
   ]
  },
  {
   "cell_type": "code",
   "execution_count": null,
   "metadata": {},
   "outputs": [],
   "source": []
  }
 ],
 "metadata": {
  "kernelspec": {
   "display_name": "Python 3",
   "language": "python",
   "name": "python3"
  },
  "language_info": {
   "codemirror_mode": {
    "name": "ipython",
    "version": 3
   },
   "file_extension": ".py",
   "mimetype": "text/x-python",
   "name": "python",
   "nbconvert_exporter": "python",
   "pygments_lexer": "ipython3",
   "version": "3.6.3"
  }
 },
 "nbformat": 4,
 "nbformat_minor": 2
}
