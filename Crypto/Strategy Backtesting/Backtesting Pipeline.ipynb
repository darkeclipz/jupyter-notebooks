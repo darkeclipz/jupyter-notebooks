{
 "cells": [
  {
   "cell_type": "markdown",
   "metadata": {},
   "source": [
    "# Imports"
   ]
  },
  {
   "cell_type": "code",
   "execution_count": 1,
   "metadata": {
    "scrolled": true
   },
   "outputs": [
    {
     "name": "stdout",
     "output_type": "stream",
     "text": [
      "Populating the interactive namespace from numpy and matplotlib\n"
     ]
    }
   ],
   "source": [
    "%pylab inline\n",
    "from datetime import datetime, timedelta\n",
    "import numpy as np\n",
    "import pandas as pd\n",
    "from matplotlib import gridspec\n",
    "import poloniex as plnx\n",
    "import ta_lib as ta"
   ]
  },
  {
   "cell_type": "code",
   "execution_count": 16,
   "metadata": {},
   "outputs": [],
   "source": [
    "pair = 'USDT_BTC'\n",
    "timeframe = 15 * 60\n",
    "end = datetime.utcnow()\n",
    "start = end - timedelta(days=31)\n",
    "chart = plnx.get_chart(pair, timeframe, start, end)\n",
    "ta.ema(chart, 8)\n",
    "ta.ema(chart, 21)\n",
    "ta.ema(chart, 55)"
   ]
  },
  {
   "cell_type": "code",
   "execution_count": 19,
   "metadata": {},
   "outputs": [
    {
     "data": {
      "text/html": [
       "<div>\n",
       "<style scoped>\n",
       "    .dataframe tbody tr th:only-of-type {\n",
       "        vertical-align: middle;\n",
       "    }\n",
       "\n",
       "    .dataframe tbody tr th {\n",
       "        vertical-align: top;\n",
       "    }\n",
       "\n",
       "    .dataframe thead th {\n",
       "        text-align: right;\n",
       "    }\n",
       "</style>\n",
       "<table border=\"1\" class=\"dataframe\">\n",
       "  <thead>\n",
       "    <tr style=\"text-align: right;\">\n",
       "      <th></th>\n",
       "      <th>close</th>\n",
       "      <th>date</th>\n",
       "      <th>high</th>\n",
       "      <th>low</th>\n",
       "      <th>open</th>\n",
       "      <th>ema8</th>\n",
       "      <th>ema21</th>\n",
       "      <th>ema55</th>\n",
       "    </tr>\n",
       "  </thead>\n",
       "  <tbody>\n",
       "    <tr>\n",
       "      <th>53</th>\n",
       "      <td>9620.604936</td>\n",
       "      <td>2018-04-25 05:15:00</td>\n",
       "      <td>9720.463547</td>\n",
       "      <td>9613.610963</td>\n",
       "      <td>9720.463546</td>\n",
       "      <td>9675.346698</td>\n",
       "      <td>9644.231997</td>\n",
       "      <td>NaN</td>\n",
       "    </tr>\n",
       "    <tr>\n",
       "      <th>54</th>\n",
       "      <td>9619.178705</td>\n",
       "      <td>2018-04-25 05:30:00</td>\n",
       "      <td>9650.000000</td>\n",
       "      <td>9611.423423</td>\n",
       "      <td>9631.812629</td>\n",
       "      <td>9660.759728</td>\n",
       "      <td>9642.798719</td>\n",
       "      <td>9550.306643</td>\n",
       "    </tr>\n",
       "  </tbody>\n",
       "</table>\n",
       "</div>"
      ],
      "text/plain": [
       "          close                 date         high          low         open  \\\n",
       "53  9620.604936  2018-04-25 05:15:00  9720.463547  9613.610963  9720.463546   \n",
       "54  9619.178705  2018-04-25 05:30:00  9650.000000  9611.423423  9631.812629   \n",
       "\n",
       "           ema8        ema21        ema55  \n",
       "53  9675.346698  9644.231997          NaN  \n",
       "54  9660.759728  9642.798719  9550.306643  "
      ]
     },
     "execution_count": 19,
     "metadata": {},
     "output_type": "execute_result"
    }
   ],
   "source": [
    "chart[53:55]"
   ]
  },
  {
   "cell_type": "code",
   "execution_count": 15,
   "metadata": {},
   "outputs": [],
   "source": [
    "for i in range(55, len(chart.index)):\n",
    "    break"
   ]
  },
  {
   "cell_type": "code",
   "execution_count": null,
   "metadata": {},
   "outputs": [],
   "source": []
  }
 ],
 "metadata": {
  "kernelspec": {
   "display_name": "Python 3",
   "language": "python",
   "name": "python3"
  },
  "language_info": {
   "codemirror_mode": {
    "name": "ipython",
    "version": 3
   },
   "file_extension": ".py",
   "mimetype": "text/x-python",
   "name": "python",
   "nbconvert_exporter": "python",
   "pygments_lexer": "ipython3",
   "version": "3.6.3"
  }
 },
 "nbformat": 4,
 "nbformat_minor": 2
}
