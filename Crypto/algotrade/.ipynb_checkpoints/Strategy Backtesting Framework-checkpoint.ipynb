{
 "cells": [
  {
   "cell_type": "markdown",
   "metadata": {},
   "source": [
    "Throughout this document the following imports and styles are used."
   ]
  },
  {
   "cell_type": "code",
   "execution_count": 1,
   "metadata": {
    "scrolled": true
   },
   "outputs": [
    {
     "name": "stdout",
     "output_type": "stream",
     "text": [
      "Populating the interactive namespace from numpy and matplotlib\n"
     ]
    }
   ],
   "source": [
    "%pylab inline"
   ]
  },
  {
   "cell_type": "markdown",
   "metadata": {},
   "source": [
    "# Goal"
   ]
  },
  {
   "cell_type": "markdown",
   "metadata": {},
   "source": [
    "The goal is to create backtesting algorithm for automated trading strategies. It should be easy to implement new strategies to gain statistical insight in the performance of that strategy.\n",
    "\n",
    "It should also be possible to have a framework for parameter optimization. It should be taken into account that running a simulation can take quite some time. Due to multiple parameters this quickly leads into a combinatorial explosion, which should be accounted for.\n",
    "\n",
    "The simulation should implement market trading as realistically as possible. Therefore it would use a balance to have the exponential growth of equity. Keep track of fees that are paid, and are subtracted from the position costs/gains. \n",
    "\n",
    "Risk management should also be implemented. We want to simulate the strategies using different leverage, position sizes, and stop loss percentage. It should also be possible to place stop losses based on calculations, thus not always a fixed-percentage stop loss."
   ]
  },
  {
   "cell_type": "markdown",
   "metadata": {},
   "source": [
    "# Libraries"
   ]
  },
  {
   "cell_type": "markdown",
   "metadata": {},
   "source": [
    "In this document we will be using open-source Python libraries, and customly developed libraries to perform technical analysis."
   ]
  },
  {
   "cell_type": "markdown",
   "metadata": {},
   "source": [
    "## General libraries"
   ]
  },
  {
   "cell_type": "markdown",
   "metadata": {},
   "source": [
    "The open-source libraries that this document uses are:"
   ]
  },
  {
   "cell_type": "code",
   "execution_count": 2,
   "metadata": {},
   "outputs": [],
   "source": [
    "from datetime import datetime, timedelta\n",
    "import numpy as np\n",
    "import pandas as pd"
   ]
  },
  {
   "cell_type": "markdown",
   "metadata": {},
   "source": [
    "## Custom libraries"
   ]
  },
  {
   "cell_type": "markdown",
   "metadata": {},
   "source": [
    "The custom libraries are developed specifically for the framework. Let's load them into this document:"
   ]
  },
  {
   "cell_type": "code",
   "execution_count": 5,
   "metadata": {},
   "outputs": [],
   "source": [
    "import poloniex as plnx\n",
    "import ta_lib as ta"
   ]
  },
  {
   "cell_type": "markdown",
   "metadata": {},
   "source": [
    "# Data"
   ]
  },
  {
   "cell_type": "markdown",
   "metadata": {},
   "source": [
    "Currently we are using the data that is supplied by Poloniex. There is a customly developed API that we can use to quickly fetch chart data.\n",
    "\n",
    "The API does not support the 1 hour timeframe, thus we have to make this ourselves. This can be done by combining the data in a 30 minute candles into 1 hour candles. The new values will be:\n",
    "\n",
    " * **Open:** Open of the first candle\n",
    " * **Close**: Close of the second candle\n",
    " * **High**: Max of both candles high\n",
    " * **Low**: Min of both candles low"
   ]
  },
  {
   "cell_type": "markdown",
   "metadata": {},
   "source": [
    "This should be encapsulated in the Poloniex API library."
   ]
  },
  {
   "cell_type": "markdown",
   "metadata": {},
   "source": [
    "## Chart data"
   ]
  },
  {
   "cell_type": "markdown",
   "metadata": {},
   "source": [
    "We will be using the `USDT_BTC` trading pair. To fetch the data from the API:"
   ]
  },
  {
   "cell_type": "code",
   "execution_count": 11,
   "metadata": {
    "scrolled": false
   },
   "outputs": [
    {
     "data": {
      "text/html": [
       "<div>\n",
       "<style scoped>\n",
       "    .dataframe tbody tr th:only-of-type {\n",
       "        vertical-align: middle;\n",
       "    }\n",
       "\n",
       "    .dataframe tbody tr th {\n",
       "        vertical-align: top;\n",
       "    }\n",
       "\n",
       "    .dataframe thead th {\n",
       "        text-align: right;\n",
       "    }\n",
       "</style>\n",
       "<table border=\"1\" class=\"dataframe\">\n",
       "  <thead>\n",
       "    <tr style=\"text-align: right;\">\n",
       "      <th></th>\n",
       "      <th>close</th>\n",
       "      <th>date</th>\n",
       "      <th>high</th>\n",
       "      <th>low</th>\n",
       "      <th>open</th>\n",
       "    </tr>\n",
       "  </thead>\n",
       "  <tbody>\n",
       "    <tr>\n",
       "      <th>2971</th>\n",
       "      <td>8297.035177</td>\n",
       "      <td>2018-05-19 16:45:00</td>\n",
       "      <td>8319.302540</td>\n",
       "      <td>8292.337500</td>\n",
       "      <td>8306.541699</td>\n",
       "    </tr>\n",
       "    <tr>\n",
       "      <th>2972</th>\n",
       "      <td>8295.689008</td>\n",
       "      <td>2018-05-19 17:00:00</td>\n",
       "      <td>8311.798224</td>\n",
       "      <td>8285.000000</td>\n",
       "      <td>8297.302187</td>\n",
       "    </tr>\n",
       "    <tr>\n",
       "      <th>2973</th>\n",
       "      <td>8296.906397</td>\n",
       "      <td>2018-05-19 17:15:00</td>\n",
       "      <td>8304.560294</td>\n",
       "      <td>8281.082000</td>\n",
       "      <td>8304.560294</td>\n",
       "    </tr>\n",
       "    <tr>\n",
       "      <th>2974</th>\n",
       "      <td>8301.876844</td>\n",
       "      <td>2018-05-19 17:30:00</td>\n",
       "      <td>8311.755183</td>\n",
       "      <td>8287.515159</td>\n",
       "      <td>8296.619880</td>\n",
       "    </tr>\n",
       "    <tr>\n",
       "      <th>2975</th>\n",
       "      <td>8311.858758</td>\n",
       "      <td>2018-05-19 17:45:00</td>\n",
       "      <td>8311.858758</td>\n",
       "      <td>8300.040648</td>\n",
       "      <td>8309.979151</td>\n",
       "    </tr>\n",
       "  </tbody>\n",
       "</table>\n",
       "</div>"
      ],
      "text/plain": [
       "            close                 date         high          low         open\n",
       "2971  8297.035177  2018-05-19 16:45:00  8319.302540  8292.337500  8306.541699\n",
       "2972  8295.689008  2018-05-19 17:00:00  8311.798224  8285.000000  8297.302187\n",
       "2973  8296.906397  2018-05-19 17:15:00  8304.560294  8281.082000  8304.560294\n",
       "2974  8301.876844  2018-05-19 17:30:00  8311.755183  8287.515159  8296.619880\n",
       "2975  8311.858758  2018-05-19 17:45:00  8311.858758  8300.040648  8309.979151"
      ]
     },
     "execution_count": 11,
     "metadata": {},
     "output_type": "execute_result"
    }
   ],
   "source": [
    "pair = 'USDT_BTC'\n",
    "timeframe = 15 * 60\n",
    "end = datetime.utcnow()\n",
    "start = end - timedelta(days=31)\n",
    "chart = plnx.get_chart(pair, timeframe, start, end)\n",
    "chart.tail()"
   ]
  },
  {
   "cell_type": "markdown",
   "metadata": {},
   "source": [
    "Plotting the data gives us:"
   ]
  },
  {
   "cell_type": "code",
   "execution_count": 28,
   "metadata": {},
   "outputs": [
    {
     "data": {
      "image/png": "[encoded data removed]",
      "text/plain": [
       "<matplotlib.figure.Figure at 0x189fc0f6908>"
      ]
     },
     "metadata": {},
     "output_type": "display_data"
    }
   ],
   "source": [
    "plt.figure(figsize=(20,5))\n",
    "plt.plot(chart['close'], lw=2)\n",
    "plt.fill_between(chart.index, chart['close'], alpha=0.25)\n",
    "plt.ylim(0.99*chart['close'].min(), 1.01*chart['close'].max())\n",
    "plt.grid()"
   ]
  },
  {
   "cell_type": "markdown",
   "metadata": {},
   "source": [
    "## Technical indicators"
   ]
  },
  {
   "cell_type": "markdown",
   "metadata": {},
   "source": [
    "The library `ta_lib` supports the following technical indicators:\n",
    "\n",
    " * SMA\n",
    " * WMA\n",
    " * EMA\n",
    " * Bollinger Bands\n",
    " * RSI\n",
    " \n",
    "We can append the technical indicators to the chart data in this way:"
   ]
  },
  {
   "cell_type": "code",
   "execution_count": 35,
   "metadata": {},
   "outputs": [
    {
     "data": {
      "text/html": [
       "<div>\n",
       "<style scoped>\n",
       "    .dataframe tbody tr th:only-of-type {\n",
       "        vertical-align: middle;\n",
       "    }\n",
       "\n",
       "    .dataframe tbody tr th {\n",
       "        vertical-align: top;\n",
       "    }\n",
       "\n",
       "    .dataframe thead th {\n",
       "        text-align: right;\n",
       "    }\n",
       "</style>\n",
       "<table border=\"1\" class=\"dataframe\">\n",
       "  <thead>\n",
       "    <tr style=\"text-align: right;\">\n",
       "      <th></th>\n",
       "      <th>close</th>\n",
       "      <th>date</th>\n",
       "      <th>high</th>\n",
       "      <th>low</th>\n",
       "      <th>open</th>\n",
       "      <th>ema8</th>\n",
       "      <th>ema21</th>\n",
       "      <th>ema55</th>\n",
       "    </tr>\n",
       "  </thead>\n",
       "  <tbody>\n",
       "    <tr>\n",
       "      <th>2971</th>\n",
       "      <td>8297.035177</td>\n",
       "      <td>2018-05-19 16:45:00</td>\n",
       "      <td>8319.302540</td>\n",
       "      <td>8292.337500</td>\n",
       "      <td>8306.541699</td>\n",
       "      <td>8305.253105</td>\n",
       "      <td>8302.091525</td>\n",
       "      <td>8261.504985</td>\n",
       "    </tr>\n",
       "    <tr>\n",
       "      <th>2972</th>\n",
       "      <td>8295.689008</td>\n",
       "      <td>2018-05-19 17:00:00</td>\n",
       "      <td>8311.798224</td>\n",
       "      <td>8285.000000</td>\n",
       "      <td>8297.302187</td>\n",
       "      <td>8301.276446</td>\n",
       "      <td>8302.885198</td>\n",
       "      <td>8263.369159</td>\n",
       "    </tr>\n",
       "    <tr>\n",
       "      <th>2973</th>\n",
       "      <td>8296.906397</td>\n",
       "      <td>2018-05-19 17:15:00</td>\n",
       "      <td>8304.560294</td>\n",
       "      <td>8281.082000</td>\n",
       "      <td>8304.560294</td>\n",
       "      <td>8299.926974</td>\n",
       "      <td>8303.063872</td>\n",
       "      <td>8265.193974</td>\n",
       "    </tr>\n",
       "    <tr>\n",
       "      <th>2974</th>\n",
       "      <td>8301.876844</td>\n",
       "      <td>2018-05-19 17:30:00</td>\n",
       "      <td>8311.755183</td>\n",
       "      <td>8287.515159</td>\n",
       "      <td>8296.619880</td>\n",
       "      <td>8300.218971</td>\n",
       "      <td>8303.998481</td>\n",
       "      <td>8267.083209</td>\n",
       "    </tr>\n",
       "    <tr>\n",
       "      <th>2975</th>\n",
       "      <td>8311.858758</td>\n",
       "      <td>2018-05-19 17:45:00</td>\n",
       "      <td>8311.858758</td>\n",
       "      <td>8300.040648</td>\n",
       "      <td>8309.979151</td>\n",
       "      <td>8303.552091</td>\n",
       "      <td>8305.718533</td>\n",
       "      <td>8269.381370</td>\n",
       "    </tr>\n",
       "  </tbody>\n",
       "</table>\n",
       "</div>"
      ],
      "text/plain": [
       "            close                 date         high          low         open  \\\n",
       "2971  8297.035177  2018-05-19 16:45:00  8319.302540  8292.337500  8306.541699   \n",
       "2972  8295.689008  2018-05-19 17:00:00  8311.798224  8285.000000  8297.302187   \n",
       "2973  8296.906397  2018-05-19 17:15:00  8304.560294  8281.082000  8304.560294   \n",
       "2974  8301.876844  2018-05-19 17:30:00  8311.755183  8287.515159  8296.619880   \n",
       "2975  8311.858758  2018-05-19 17:45:00  8311.858758  8300.040648  8309.979151   \n",
       "\n",
       "             ema8        ema21        ema55  \n",
       "2971  8305.253105  8302.091525  8261.504985  \n",
       "2972  8301.276446  8302.885198  8263.369159  \n",
       "2973  8299.926974  8303.063872  8265.193974  \n",
       "2974  8300.218971  8303.998481  8267.083209  \n",
       "2975  8303.552091  8305.718533  8269.381370  "
      ]
     },
     "execution_count": 35,
     "metadata": {},
     "output_type": "execute_result"
    }
   ],
   "source": [
    "ta.ema(chart, 8)\n",
    "ta.ema(chart, 21)\n",
    "ta.ema(chart, 55)\n",
    "chart.tail()"
   ]
  },
  {
   "cell_type": "markdown",
   "metadata": {},
   "source": [
    "## Entries and exits"
   ]
  },
  {
   "cell_type": "markdown",
   "metadata": {},
   "source": [
    "We will append a few columns to the data frame which are used for the entries and exits that are generated from the signals. The simulation should only use these columns to determine what to do. The exact position sizes are calculated in the simulation because we want to use different risk management strategies.\n",
    "\n",
    "When we implement the strategy we will have to generate that signals, and use those signals to indicate when we have to open a position. When we already have a position open, and we get an open signal for the other direction, we close the previous position. "
   ]
  },
  {
   "cell_type": "code",
   "execution_count": 36,
   "metadata": {},
   "outputs": [],
   "source": [
    "chart['open_long'] = chart['open_short'] = 0"
   ]
  },
  {
   "cell_type": "markdown",
   "metadata": {},
   "source": [
    "We also want to be able to only close a position without opening a new one. Therefore we add the following columns:"
   ]
  },
  {
   "cell_type": "code",
   "execution_count": 38,
   "metadata": {},
   "outputs": [],
   "source": [
    "chart['close_long'] = chart['close_short'] = 0"
   ]
  },
  {
   "cell_type": "markdown",
   "metadata": {},
   "source": [
    "Our data frame now looks like this:"
   ]
  },
  {
   "cell_type": "code",
   "execution_count": 39,
   "metadata": {
    "scrolled": true
   },
   "outputs": [
    {
     "data": {
      "text/html": [
       "<div>\n",
       "<style scoped>\n",
       "    .dataframe tbody tr th:only-of-type {\n",
       "        vertical-align: middle;\n",
       "    }\n",
       "\n",
       "    .dataframe tbody tr th {\n",
       "        vertical-align: top;\n",
       "    }\n",
       "\n",
       "    .dataframe thead th {\n",
       "        text-align: right;\n",
       "    }\n",
       "</style>\n",
       "<table border=\"1\" class=\"dataframe\">\n",
       "  <thead>\n",
       "    <tr style=\"text-align: right;\">\n",
       "      <th></th>\n",
       "      <th>close</th>\n",
       "      <th>date</th>\n",
       "      <th>high</th>\n",
       "      <th>low</th>\n",
       "      <th>open</th>\n",
       "      <th>ema8</th>\n",
       "      <th>ema21</th>\n",
       "      <th>ema55</th>\n",
       "      <th>open_long</th>\n",
       "      <th>open_short</th>\n",
       "      <th>close_long</th>\n",
       "      <th>close_short</th>\n",
       "    </tr>\n",
       "  </thead>\n",
       "  <tbody>\n",
       "    <tr>\n",
       "      <th>2971</th>\n",
       "      <td>8297.035177</td>\n",
       "      <td>2018-05-19 16:45:00</td>\n",
       "      <td>8319.302540</td>\n",
       "      <td>8292.337500</td>\n",
       "      <td>8306.541699</td>\n",
       "      <td>8305.253105</td>\n",
       "      <td>8302.091525</td>\n",
       "      <td>8261.504985</td>\n",
       "      <td>0</td>\n",
       "      <td>0</td>\n",
       "      <td>0</td>\n",
       "      <td>0</td>\n",
       "    </tr>\n",
       "    <tr>\n",
       "      <th>2972</th>\n",
       "      <td>8295.689008</td>\n",
       "      <td>2018-05-19 17:00:00</td>\n",
       "      <td>8311.798224</td>\n",
       "      <td>8285.000000</td>\n",
       "      <td>8297.302187</td>\n",
       "      <td>8301.276446</td>\n",
       "      <td>8302.885198</td>\n",
       "      <td>8263.369159</td>\n",
       "      <td>0</td>\n",
       "      <td>0</td>\n",
       "      <td>0</td>\n",
       "      <td>0</td>\n",
       "    </tr>\n",
       "    <tr>\n",
       "      <th>2973</th>\n",
       "      <td>8296.906397</td>\n",
       "      <td>2018-05-19 17:15:00</td>\n",
       "      <td>8304.560294</td>\n",
       "      <td>8281.082000</td>\n",
       "      <td>8304.560294</td>\n",
       "      <td>8299.926974</td>\n",
       "      <td>8303.063872</td>\n",
       "      <td>8265.193974</td>\n",
       "      <td>0</td>\n",
       "      <td>0</td>\n",
       "      <td>0</td>\n",
       "      <td>0</td>\n",
       "    </tr>\n",
       "    <tr>\n",
       "      <th>2974</th>\n",
       "      <td>8301.876844</td>\n",
       "      <td>2018-05-19 17:30:00</td>\n",
       "      <td>8311.755183</td>\n",
       "      <td>8287.515159</td>\n",
       "      <td>8296.619880</td>\n",
       "      <td>8300.218971</td>\n",
       "      <td>8303.998481</td>\n",
       "      <td>8267.083209</td>\n",
       "      <td>0</td>\n",
       "      <td>0</td>\n",
       "      <td>0</td>\n",
       "      <td>0</td>\n",
       "    </tr>\n",
       "    <tr>\n",
       "      <th>2975</th>\n",
       "      <td>8311.858758</td>\n",
       "      <td>2018-05-19 17:45:00</td>\n",
       "      <td>8311.858758</td>\n",
       "      <td>8300.040648</td>\n",
       "      <td>8309.979151</td>\n",
       "      <td>8303.552091</td>\n",
       "      <td>8305.718533</td>\n",
       "      <td>8269.381370</td>\n",
       "      <td>0</td>\n",
       "      <td>0</td>\n",
       "      <td>0</td>\n",
       "      <td>0</td>\n",
       "    </tr>\n",
       "  </tbody>\n",
       "</table>\n",
       "</div>"
      ],
      "text/plain": [
       "            close                 date         high          low         open  \\\n",
       "2971  8297.035177  2018-05-19 16:45:00  8319.302540  8292.337500  8306.541699   \n",
       "2972  8295.689008  2018-05-19 17:00:00  8311.798224  8285.000000  8297.302187   \n",
       "2973  8296.906397  2018-05-19 17:15:00  8304.560294  8281.082000  8304.560294   \n",
       "2974  8301.876844  2018-05-19 17:30:00  8311.755183  8287.515159  8296.619880   \n",
       "2975  8311.858758  2018-05-19 17:45:00  8311.858758  8300.040648  8309.979151   \n",
       "\n",
       "             ema8        ema21        ema55  open_long  open_short  \\\n",
       "2971  8305.253105  8302.091525  8261.504985          0           0   \n",
       "2972  8301.276446  8302.885198  8263.369159          0           0   \n",
       "2973  8299.926974  8303.063872  8265.193974          0           0   \n",
       "2974  8300.218971  8303.998481  8267.083209          0           0   \n",
       "2975  8303.552091  8305.718533  8269.381370          0           0   \n",
       "\n",
       "      close_long  close_short  \n",
       "2971           0            0  \n",
       "2972           0            0  \n",
       "2973           0            0  \n",
       "2974           0            0  \n",
       "2975           0            0  "
      ]
     },
     "execution_count": 39,
     "metadata": {},
     "output_type": "execute_result"
    }
   ],
   "source": [
    "chart.tail()"
   ]
  },
  {
   "cell_type": "markdown",
   "metadata": {},
   "source": [
    "When we want to have any of these signals enabled, we set the value equal to $1$."
   ]
  },
  {
   "cell_type": "markdown",
   "metadata": {},
   "source": [
    "# Strategy"
   ]
  },
  {
   "cell_type": "markdown",
   "metadata": {},
   "source": [
    "A trading strategy is used to create trading signals. All the trading signals are appended to the chart data frame. With a combination of trading signals we are going to generate our long and short entries and exits. These entries and exits will be used by the simulator in combination with a risk management strategy. "
   ]
  },
  {
   "cell_type": "markdown",
   "metadata": {},
   "source": [
    "## Outline"
   ]
  },
  {
   "cell_type": "markdown",
   "metadata": {},
   "source": [
    "We are going to test a multi EMA crossover strategy where we fill the order on the retrace. The strategy that we are going to implement uses the following components:\n",
    "\n",
    " * EMA8\n",
    " * EMA21\n",
    " * EMA55\n",
    " * Fibonacci tool\n",
    " \n",
    "When the EMA8 and EMA21 crosses the EMA55 on the top side, a long signal will be generated. Inversively for a short position the EMA8 and EMA21 should be below the EMA55 to generate a signal. When the crossover is not completed, which happens if for example the EMA8 is above and the EMA21 is below, the signal value should be zero.\n",
    "\n",
    "![Strategy Illustration](strategy2.PNG)\n",
    "\n",
    "When a crossover happened, we are going to use the Fibonacci tool to find an entry price where we want to fill an order. The first point is the value of the EMA55 where the crossover happened. The second point is the current candle low when the signal is long, and the current candle high when the signal is short. We will then place an order at $\\alpha=0.702$, which is between the $0.786$ and the $0.618$ Fibonacci levels, and wait for it to fill. If the order does not get filled before the next crossover, we will remove the order for the missed crossover."
   ]
  },
  {
   "cell_type": "markdown",
   "metadata": {},
   "source": [
    "## Fibonacci levels (testing required)"
   ]
  },
  {
   "cell_type": "markdown",
   "metadata": {},
   "source": [
    "To find a value within the Fibonacci range, we simply find that range of of those values and normalize it between $[0,1]$. Then we can find any level by giving a percentage. That strategy itself will use this to find the price value for the level between the $0.786$ and $0.618$ Fibonacci levels."
   ]
  },
  {
   "cell_type": "code",
   "execution_count": 55,
   "metadata": {},
   "outputs": [],
   "source": [
    "def fib_tool(a, b, alpha):\n",
    "    return b-(b-a)*alpha"
   ]
  },
  {
   "cell_type": "markdown",
   "metadata": {},
   "source": [
    "Example to find a price level when we got a long signal:"
   ]
  },
  {
   "cell_type": "code",
   "execution_count": 56,
   "metadata": {},
   "outputs": [
    {
     "data": {
      "text/plain": [
       "9191.0"
      ]
     },
     "execution_count": 56,
     "metadata": {},
     "output_type": "execute_result"
    }
   ],
   "source": [
    "fib_tool(9000, 9500, 0.618)"
   ]
  },
  {
   "cell_type": "markdown",
   "metadata": {},
   "source": [
    "Example to find a price level when we got a short signal:"
   ]
  },
  {
   "cell_type": "code",
   "execution_count": 57,
   "metadata": {},
   "outputs": [
    {
     "data": {
      "text/plain": [
       "9309.0"
      ]
     },
     "execution_count": 57,
     "metadata": {},
     "output_type": "execute_result"
    }
   ],
   "source": [
    "fib_tool(9500, 9000, 0.618)"
   ]
  },
  {
   "cell_type": "markdown",
   "metadata": {},
   "source": [
    "The implementation of `fib_tool(a,b,alpha)` should be added to `ta_lib`."
   ]
  },
  {
   "cell_type": "markdown",
   "metadata": {},
   "source": [
    "## Signals"
   ]
  },
  {
   "cell_type": "markdown",
   "metadata": {},
   "source": [
    "Now we are going to implement the strategy to generate the signals. We also check the signals for certain conditions and set the open/close position signal which is used by the simulation."
   ]
  },
  {
   "cell_type": "code",
   "execution_count": null,
   "metadata": {},
   "outputs": [],
   "source": []
  },
  {
   "cell_type": "markdown",
   "metadata": {},
   "source": [
    "# Realistic trading simulation"
   ]
  },
  {
   "cell_type": "markdown",
   "metadata": {},
   "source": [
    "To have a realistic trading simulation, there are a few factors that we should take into account."
   ]
  },
  {
   "cell_type": "markdown",
   "metadata": {},
   "source": [
    "## Seperating training and test data"
   ]
  },
  {
   "cell_type": "markdown",
   "metadata": {},
   "source": [
    "We want to find the optimal parameters for the data, so we are going to use model fitting. Therefore we have to split the data into training data and test data. We will be using the training data to fit the model. Then we will be using the model on the test data to measure the performance. This will also help us to identify if we are overfitting or underfitting the model."
   ]
  },
  {
   "cell_type": "code",
   "execution_count": null,
   "metadata": {},
   "outputs": [],
   "source": []
  },
  {
   "cell_type": "markdown",
   "metadata": {},
   "source": [
    "## Risk management"
   ]
  },
  {
   "cell_type": "markdown",
   "metadata": {},
   "source": [
    "To implement proper risk management, we are going to introduce the following variables:\n",
    "\n",
    " * Position size\n",
    " * Stop loss type (`none`, `limit`)\n",
    " * Stop loss percentage\n",
    " * Leverage"
   ]
  },
  {
   "cell_type": "code",
   "execution_count": null,
   "metadata": {},
   "outputs": [],
   "source": []
  },
  {
   "cell_type": "markdown",
   "metadata": {},
   "source": [
    "## Trades"
   ]
  },
  {
   "cell_type": "markdown",
   "metadata": {},
   "source": [
    "Here we need to calculate our P/L percentage for the entry and exit price of the position. Then we multiply the P/L percentage with the initial order cost to get our gains/losses. Doing it this way properly takes into account that short positions generate gains more quickly.\n",
    "\n",
    "We should also keep track of the fees. When an order is entered we gain a small fee, because this strategy uses a limit order. When a position is closed, it does it with a market order, for which we have to pay a fee. The fee that we will have to pay to Bitmex will be $0.00075-0.00025=0.0005$."
   ]
  },
  {
   "cell_type": "code",
   "execution_count": null,
   "metadata": {},
   "outputs": [],
   "source": []
  },
  {
   "cell_type": "markdown",
   "metadata": {},
   "source": [
    "# Parameter optimization"
   ]
  },
  {
   "cell_type": "markdown",
   "metadata": {},
   "source": [
    "We are going to fit the model by finding different parameters for our strategy and risk management. The training data will be used to do the optimization."
   ]
  },
  {
   "cell_type": "markdown",
   "metadata": {},
   "source": [
    "## Parameters"
   ]
  },
  {
   "cell_type": "markdown",
   "metadata": {},
   "source": [
    "The following parameters are going to be optimized:"
   ]
  },
  {
   "cell_type": "markdown",
   "metadata": {},
   "source": [
    "1. Position size\n",
    "2. Stop loss fixed-percentage\n",
    "3. Leverage\n",
    "4. Different EMA + EMA cross EMA\n",
    "5. Fibonacci tool $\\alpha$"
   ]
  },
  {
   "cell_type": "markdown",
   "metadata": {},
   "source": [
    "The problem here is that the above paramaters will lead to a combinatorial explosion. A quick estimate is when we do $10$ searches for each variable, we get $10^5=100,000$ combinations of parameters to test. A smart solution is required here."
   ]
  },
  {
   "cell_type": "markdown",
   "metadata": {},
   "source": [
    "## Quick optimization"
   ]
  },
  {
   "cell_type": "markdown",
   "metadata": {},
   "source": [
    "We will do a quick search throug the parameters for optimal settings. This will then be used to find an interval on which we do a fine search."
   ]
  },
  {
   "cell_type": "code",
   "execution_count": null,
   "metadata": {},
   "outputs": [],
   "source": []
  },
  {
   "cell_type": "markdown",
   "metadata": {},
   "source": [
    "## Fine optimization"
   ]
  },
  {
   "cell_type": "markdown",
   "metadata": {},
   "source": [
    "After we have found the interval on which we want to do a fine optimization. We can start to find the optimal parameter settings for our model."
   ]
  },
  {
   "cell_type": "code",
   "execution_count": null,
   "metadata": {},
   "outputs": [],
   "source": []
  },
  {
   "cell_type": "markdown",
   "metadata": {},
   "source": [
    "# Test run"
   ]
  },
  {
   "cell_type": "markdown",
   "metadata": {},
   "source": [
    "We are going to test the model on the test data. The model has never seen this data before, and we can see how the optimized parameters will behave in this unknown situation. The results of this will help us to determine if the model is correct, or over/under fitting."
   ]
  },
  {
   "cell_type": "code",
   "execution_count": null,
   "metadata": {},
   "outputs": [],
   "source": []
  },
  {
   "cell_type": "markdown",
   "metadata": {},
   "source": [
    "# Performance"
   ]
  },
  {
   "cell_type": "markdown",
   "metadata": {},
   "source": [
    "We are going to analyze the result of the strategy for the training and test data. We will put more emphasis on the test data because it will more realistically show us how the strategy performs in the real world."
   ]
  },
  {
   "cell_type": "code",
   "execution_count": null,
   "metadata": {},
   "outputs": [],
   "source": []
  },
  {
   "cell_type": "markdown",
   "metadata": {},
   "source": [
    "## Equity curve"
   ]
  },
  {
   "cell_type": "markdown",
   "metadata": {},
   "source": [
    "We will begin by looking at the equity curve, which is simply our balance. An important thing to notice is the drawdown that the strategy gives."
   ]
  },
  {
   "cell_type": "code",
   "execution_count": null,
   "metadata": {},
   "outputs": [],
   "source": []
  },
  {
   "cell_type": "markdown",
   "metadata": {},
   "source": [
    "## Drawdown"
   ]
  },
  {
   "cell_type": "markdown",
   "metadata": {},
   "source": [
    "We should use a strategy which gives certain level of drawdown. This is important because when we are going to use a live trading bot which implements this strategy, we need a fail safe mechanism. If the drawdown of the bot ever exceeds the drawdown of the backtest, we will shut it down. The results should be analyzed later on when the chart has played out. "
   ]
  },
  {
   "cell_type": "code",
   "execution_count": null,
   "metadata": {},
   "outputs": [],
   "source": []
  },
  {
   "cell_type": "markdown",
   "metadata": {},
   "source": [
    "## Statistics"
   ]
  },
  {
   "cell_type": "markdown",
   "metadata": {},
   "source": [
    "More detailed statistics which goes into the trades.\n",
    "\n",
    "1. Trades, win rate, ...\n",
    "2. Histograms of the various variables\n",
    "3. ..."
   ]
  },
  {
   "cell_type": "code",
   "execution_count": null,
   "metadata": {},
   "outputs": [],
   "source": []
  },
  {
   "cell_type": "markdown",
   "metadata": {},
   "source": [
    "# Conclusion"
   ]
  },
  {
   "cell_type": "markdown",
   "metadata": {},
   "source": [
    "We can conclude that this strategy, ..."
   ]
  }
 ],
 "metadata": {
  "kernelspec": {
   "display_name": "Python 3",
   "language": "python",
   "name": "python3"
  },
  "language_info": {
   "codemirror_mode": {
    "name": "ipython",
    "version": 3
   },
   "file_extension": ".py",
   "mimetype": "text/x-python",
   "name": "python",
   "nbconvert_exporter": "python",
   "pygments_lexer": "ipython3",
   "version": "3.6.3"
  }
 },
 "nbformat": 4,
 "nbformat_minor": 2
}
