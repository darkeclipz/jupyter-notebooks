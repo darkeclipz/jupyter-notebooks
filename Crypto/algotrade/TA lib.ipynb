{
 "cells": [
  {
   "cell_type": "code",
   "execution_count": 1,
   "metadata": {},
   "outputs": [
    {
     "name": "stdout",
     "output_type": "stream",
     "text": [
      "Populating the interactive namespace from numpy and matplotlib\n"
     ]
    }
   ],
   "source": [
    "%pylab inline"
   ]
  },
  {
   "cell_type": "markdown",
   "metadata": {},
   "source": [
    "# Technical Analysis Library (*ta_lib*)"
   ]
  },
  {
   "cell_type": "markdown",
   "metadata": {},
   "source": [
    "## Overview"
   ]
  },
  {
   "cell_type": "markdown",
   "metadata": {},
   "source": [
    "### Abstract"
   ]
  },
  {
   "cell_type": "markdown",
   "metadata": {},
   "source": [
    "This library is a sub-system of the algorithmic trading application. This library provides all the technical indicators. The indicators are provided by appending them to the original dataframe which holds the chart data."
   ]
  },
  {
   "cell_type": "markdown",
   "metadata": {},
   "source": [
    "### Functionality"
   ]
  },
  {
   "cell_type": "markdown",
   "metadata": {},
   "source": [
    "The library supports the following technical indicators:\n",
    "\n",
    " * **Daily returns**: `daily_returns(df, source_column, target_column)`\n",
    " * **Simple moving average**: `sma(df, periods, source_column, target_column)` \n",
    " * **Weighted moving average**: `wma(df, periods, source_column, target_column)` \n",
    " * **Exponential moving average**: `ema(df, periods, source_column, target_column)` \n",
    " * **Simple moving stdev**: `std(df, periods, source_column, target_column)`\n",
    " * **Bollinger bands**: `bbands(df, periods, source_column, target_column)`\n",
    " * **Relative strength index**: `rsi(df, periods, source_column, target_column)`\n",
    "\n",
    "\n",
    " \n",
    " "
   ]
  },
  {
   "cell_type": "markdown",
   "metadata": {},
   "source": [
    "### Test data"
   ]
  },
  {
   "cell_type": "markdown",
   "metadata": {},
   "source": [
    "The following `USDT_BTC` chart is used to the test and display the indicators in this notebook."
   ]
  },
  {
   "cell_type": "code",
   "execution_count": 2,
   "metadata": {},
   "outputs": [],
   "source": [
    "import poloniex as plnx\n",
    "import pandas as pd \n",
    "from datetime import datetime, timedelta"
   ]
  },
  {
   "cell_type": "code",
   "execution_count": 3,
   "metadata": {},
   "outputs": [
    {
     "name": "stdout",
     "output_type": "stream",
     "text": [
      "https://poloniex.com/public?command=returnChartData&currencyPair=USDT_BTC&start=1524978364&end=1525021564&period=900\n",
      "Retrieved 48 records.\n"
     ]
    }
   ],
   "source": [
    "pair = 'USDT_BTC'\n",
    "timeframe = 15 * 60\n",
    "end = datetime.utcnow()\n",
    "start = end - timedelta(days=0.5)\n",
    "verbose_logging = True\n",
    "chart = plnx.get_chart(pair, timeframe, start, end, verbose_logging)"
   ]
  },
  {
   "cell_type": "markdown",
   "metadata": {},
   "source": [
    "## Daily returns"
   ]
  },
  {
   "cell_type": "code",
   "execution_count": 4,
   "metadata": {},
   "outputs": [],
   "source": [
    "def daily_returns(df, source_column = 'close', target_column = 'daily_return'): \n",
    "    df[target_column] = df[source_column] - df[source_column].shift(1)"
   ]
  },
  {
   "cell_type": "code",
   "execution_count": 5,
   "metadata": {},
   "outputs": [],
   "source": [
    "daily_returns(chart)"
   ]
  },
  {
   "cell_type": "code",
   "execution_count": 6,
   "metadata": {},
   "outputs": [
    {
     "data": {
      "text/html": [
       "<div>\n",
       "<style scoped>\n",
       "    .dataframe tbody tr th:only-of-type {\n",
       "        vertical-align: middle;\n",
       "    }\n",
       "\n",
       "    .dataframe tbody tr th {\n",
       "        vertical-align: top;\n",
       "    }\n",
       "\n",
       "    .dataframe thead th {\n",
       "        text-align: right;\n",
       "    }\n",
       "</style>\n",
       "<table border=\"1\" class=\"dataframe\">\n",
       "  <thead>\n",
       "    <tr style=\"text-align: right;\">\n",
       "      <th></th>\n",
       "      <th>close</th>\n",
       "      <th>date</th>\n",
       "      <th>high</th>\n",
       "      <th>low</th>\n",
       "      <th>open</th>\n",
       "      <th>daily_return</th>\n",
       "    </tr>\n",
       "  </thead>\n",
       "  <tbody>\n",
       "    <tr>\n",
       "      <th>0</th>\n",
       "      <td>9479.271727</td>\n",
       "      <td>2018-04-29 07:15:00</td>\n",
       "      <td>9483.665026</td>\n",
       "      <td>9456.461519</td>\n",
       "      <td>9460.780100</td>\n",
       "      <td>NaN</td>\n",
       "    </tr>\n",
       "    <tr>\n",
       "      <th>1</th>\n",
       "      <td>9455.022381</td>\n",
       "      <td>2018-04-29 07:30:00</td>\n",
       "      <td>9479.316488</td>\n",
       "      <td>9440.462219</td>\n",
       "      <td>9473.824569</td>\n",
       "      <td>-24.249346</td>\n",
       "    </tr>\n",
       "    <tr>\n",
       "      <th>2</th>\n",
       "      <td>9420.000000</td>\n",
       "      <td>2018-04-29 07:45:00</td>\n",
       "      <td>9467.690285</td>\n",
       "      <td>9378.455556</td>\n",
       "      <td>9455.022381</td>\n",
       "      <td>-35.022380</td>\n",
       "    </tr>\n",
       "    <tr>\n",
       "      <th>3</th>\n",
       "      <td>9470.920386</td>\n",
       "      <td>2018-04-29 08:00:00</td>\n",
       "      <td>9470.920386</td>\n",
       "      <td>9411.000000</td>\n",
       "      <td>9420.044719</td>\n",
       "      <td>50.920386</td>\n",
       "    </tr>\n",
       "    <tr>\n",
       "      <th>4</th>\n",
       "      <td>9450.000000</td>\n",
       "      <td>2018-04-29 08:15:00</td>\n",
       "      <td>9478.599990</td>\n",
       "      <td>9443.021388</td>\n",
       "      <td>9463.000000</td>\n",
       "      <td>-20.920386</td>\n",
       "    </tr>\n",
       "  </tbody>\n",
       "</table>\n",
       "</div>"
      ],
      "text/plain": [
       "         close                 date         high          low         open  \\\n",
       "0  9479.271727  2018-04-29 07:15:00  9483.665026  9456.461519  9460.780100   \n",
       "1  9455.022381  2018-04-29 07:30:00  9479.316488  9440.462219  9473.824569   \n",
       "2  9420.000000  2018-04-29 07:45:00  9467.690285  9378.455556  9455.022381   \n",
       "3  9470.920386  2018-04-29 08:00:00  9470.920386  9411.000000  9420.044719   \n",
       "4  9450.000000  2018-04-29 08:15:00  9478.599990  9443.021388  9463.000000   \n",
       "\n",
       "   daily_return  \n",
       "0           NaN  \n",
       "1    -24.249346  \n",
       "2    -35.022380  \n",
       "3     50.920386  \n",
       "4    -20.920386  "
      ]
     },
     "execution_count": 6,
     "metadata": {},
     "output_type": "execute_result"
    }
   ],
   "source": [
    "chart.head()"
   ]
  },
  {
   "cell_type": "code",
   "execution_count": 7,
   "metadata": {
    "scrolled": true
   },
   "outputs": [
    {
     "data": {
      "text/plain": [
       "[<matplotlib.lines.Line2D at 0x2201cf96d68>]"
      ]
     },
     "execution_count": 7,
     "metadata": {},
     "output_type": "execute_result"
    },
    {
     "data": {
      "image/png": "[encoded data removed]",
      "text/plain": [
       "<matplotlib.figure.Figure at 0x2201ae41d30>"
      ]
     },
     "metadata": {},
     "output_type": "display_data"
    }
   ],
   "source": [
    "plot(chart['daily_return'], c='r')"
   ]
  },
  {
   "cell_type": "markdown",
   "metadata": {},
   "source": [
    "## Moving Averages"
   ]
  },
  {
   "cell_type": "markdown",
   "metadata": {},
   "source": [
    "### Simple Moving Average (SMA)"
   ]
  },
  {
   "cell_type": "markdown",
   "metadata": {},
   "source": [
    "A simple moving average over $n$ periods, and weights in each period with equal weight."
   ]
  },
  {
   "cell_type": "code",
   "execution_count": 8,
   "metadata": {},
   "outputs": [
    {
     "data": {
      "text/plain": [
       "(0, 0.2)"
      ]
     },
     "execution_count": 8,
     "metadata": {},
     "output_type": "execute_result"
    },
    {
     "data": {
      "image/png": "[encoded data removed]",
      "text/plain": [
       "<matplotlib.figure.Figure at 0x2201ae41ba8>"
      ]
     },
     "metadata": {},
     "output_type": "display_data"
    }
   ],
   "source": [
    "x, y = range(15), [1/15]*15\n",
    "bar(x, y, facecolor='r')\n",
    "axes = plt.gca()\n",
    "axes.set_ylim(0,0.2)"
   ]
  },
  {
   "cell_type": "code",
   "execution_count": 9,
   "metadata": {},
   "outputs": [],
   "source": [
    "def sma(df, periods = 7, source_column = 'close', target_column = 'sma'):\n",
    "    df['{}{}'.format(target_column, periods)] = df[source_column].rolling(window=periods).mean()"
   ]
  },
  {
   "cell_type": "code",
   "execution_count": 10,
   "metadata": {},
   "outputs": [],
   "source": [
    "sma(chart)"
   ]
  },
  {
   "cell_type": "code",
   "execution_count": 11,
   "metadata": {},
   "outputs": [
    {
     "data": {
      "text/html": [
       "<div>\n",
       "<style scoped>\n",
       "    .dataframe tbody tr th:only-of-type {\n",
       "        vertical-align: middle;\n",
       "    }\n",
       "\n",
       "    .dataframe tbody tr th {\n",
       "        vertical-align: top;\n",
       "    }\n",
       "\n",
       "    .dataframe thead th {\n",
       "        text-align: right;\n",
       "    }\n",
       "</style>\n",
       "<table border=\"1\" class=\"dataframe\">\n",
       "  <thead>\n",
       "    <tr style=\"text-align: right;\">\n",
       "      <th></th>\n",
       "      <th>close</th>\n",
       "      <th>date</th>\n",
       "      <th>high</th>\n",
       "      <th>low</th>\n",
       "      <th>open</th>\n",
       "      <th>daily_return</th>\n",
       "      <th>sma7</th>\n",
       "    </tr>\n",
       "  </thead>\n",
       "  <tbody>\n",
       "    <tr>\n",
       "      <th>0</th>\n",
       "      <td>9479.271727</td>\n",
       "      <td>2018-04-29 07:15:00</td>\n",
       "      <td>9483.665026</td>\n",
       "      <td>9456.461519</td>\n",
       "      <td>9460.780100</td>\n",
       "      <td>NaN</td>\n",
       "      <td>NaN</td>\n",
       "    </tr>\n",
       "    <tr>\n",
       "      <th>1</th>\n",
       "      <td>9455.022381</td>\n",
       "      <td>2018-04-29 07:30:00</td>\n",
       "      <td>9479.316488</td>\n",
       "      <td>9440.462219</td>\n",
       "      <td>9473.824569</td>\n",
       "      <td>-24.249346</td>\n",
       "      <td>NaN</td>\n",
       "    </tr>\n",
       "    <tr>\n",
       "      <th>2</th>\n",
       "      <td>9420.000000</td>\n",
       "      <td>2018-04-29 07:45:00</td>\n",
       "      <td>9467.690285</td>\n",
       "      <td>9378.455556</td>\n",
       "      <td>9455.022381</td>\n",
       "      <td>-35.022380</td>\n",
       "      <td>NaN</td>\n",
       "    </tr>\n",
       "    <tr>\n",
       "      <th>3</th>\n",
       "      <td>9470.920386</td>\n",
       "      <td>2018-04-29 08:00:00</td>\n",
       "      <td>9470.920386</td>\n",
       "      <td>9411.000000</td>\n",
       "      <td>9420.044719</td>\n",
       "      <td>50.920386</td>\n",
       "      <td>NaN</td>\n",
       "    </tr>\n",
       "    <tr>\n",
       "      <th>4</th>\n",
       "      <td>9450.000000</td>\n",
       "      <td>2018-04-29 08:15:00</td>\n",
       "      <td>9478.599990</td>\n",
       "      <td>9443.021388</td>\n",
       "      <td>9463.000000</td>\n",
       "      <td>-20.920386</td>\n",
       "      <td>NaN</td>\n",
       "    </tr>\n",
       "  </tbody>\n",
       "</table>\n",
       "</div>"
      ],
      "text/plain": [
       "         close                 date         high          low         open  \\\n",
       "0  9479.271727  2018-04-29 07:15:00  9483.665026  9456.461519  9460.780100   \n",
       "1  9455.022381  2018-04-29 07:30:00  9479.316488  9440.462219  9473.824569   \n",
       "2  9420.000000  2018-04-29 07:45:00  9467.690285  9378.455556  9455.022381   \n",
       "3  9470.920386  2018-04-29 08:00:00  9470.920386  9411.000000  9420.044719   \n",
       "4  9450.000000  2018-04-29 08:15:00  9478.599990  9443.021388  9463.000000   \n",
       "\n",
       "   daily_return  sma7  \n",
       "0           NaN   NaN  \n",
       "1    -24.249346   NaN  \n",
       "2    -35.022380   NaN  \n",
       "3     50.920386   NaN  \n",
       "4    -20.920386   NaN  "
      ]
     },
     "execution_count": 11,
     "metadata": {},
     "output_type": "execute_result"
    }
   ],
   "source": [
    "chart.head()"
   ]
  },
  {
   "cell_type": "code",
   "execution_count": 12,
   "metadata": {},
   "outputs": [
    {
     "data": {
      "text/plain": [
       "[<matplotlib.lines.Line2D at 0x2201d0cd668>]"
      ]
     },
     "execution_count": 12,
     "metadata": {},
     "output_type": "execute_result"
    },
    {
     "data": {
      "image/png": "[encoded data removed]",
      "text/plain": [
       "<matplotlib.figure.Figure at 0x2201d0378d0>"
      ]
     },
     "metadata": {},
     "output_type": "display_data"
    }
   ],
   "source": [
    "plot(chart['close'], c='black')\n",
    "plot(chart['sma7'], c='r')"
   ]
  },
  {
   "cell_type": "markdown",
   "metadata": {},
   "source": [
    "### Weighted Moving Average (WMA)"
   ]
  },
  {
   "cell_type": "markdown",
   "metadata": {},
   "source": [
    "Moving average where the weight of later periods is linearly decreasing."
   ]
  },
  {
   "cell_type": "code",
   "execution_count": 13,
   "metadata": {},
   "outputs": [],
   "source": [
    "def triangular(n): return n * (n + 1) / 2"
   ]
  },
  {
   "cell_type": "code",
   "execution_count": 14,
   "metadata": {},
   "outputs": [
    {
     "data": {
      "text/plain": [
       "(0, 0.2)"
      ]
     },
     "execution_count": 14,
     "metadata": {},
     "output_type": "execute_result"
    },
    {
     "data": {
      "image/png": "[encoded data removed]",
      "text/plain": [
       "<matplotlib.figure.Figure at 0x2201d089198>"
      ]
     },
     "metadata": {},
     "output_type": "display_data"
    }
   ],
   "source": [
    "n = 15\n",
    "x = np.linspace(1, n, n)\n",
    "y = (n-x+1) / triangular(n)\n",
    "bar(x, y, facecolor='r')\n",
    "axes = plt.gca()\n",
    "axes.set_ylim(0,0.2)"
   ]
  },
  {
   "cell_type": "code",
   "execution_count": 15,
   "metadata": {},
   "outputs": [],
   "source": [
    "from scipy.ndimage.interpolation import shift\n",
    "from pandas import Series"
   ]
  },
  {
   "cell_type": "code",
   "execution_count": 16,
   "metadata": {},
   "outputs": [],
   "source": [
    "def wma(df, periods = 7, source_column = 'close', target_column = 'wma'):\n",
    "    x = np.linspace(1, periods, periods)\n",
    "    weights = (periods-x+1) / triangular(periods)\n",
    "    wma = np.convolve(weights, df[source_column], 'valid')\n",
    "    wma.resize(len(wma)+periods-1)\n",
    "    wma = Series(wma)\n",
    "    wma = wma.shift(periods-1)\n",
    "    df['{}{}'.format(target_column, periods)] = wma  "
   ]
  },
  {
   "cell_type": "code",
   "execution_count": 17,
   "metadata": {},
   "outputs": [],
   "source": [
    "wma(chart)"
   ]
  },
  {
   "cell_type": "code",
   "execution_count": 18,
   "metadata": {},
   "outputs": [
    {
     "data": {
      "text/plain": [
       "[<matplotlib.lines.Line2D at 0x2202c941dd8>]"
      ]
     },
     "execution_count": 18,
     "metadata": {},
     "output_type": "execute_result"
    },
    {
     "data": {
      "image/png": "[encoded data removed]",
      "text/plain": [
       "<matplotlib.figure.Figure at 0x2201d0dac18>"
      ]
     },
     "metadata": {},
     "output_type": "display_data"
    }
   ],
   "source": [
    "plot(chart['close'], c='black')\n",
    "plot(chart['wma7'], c='r')"
   ]
  },
  {
   "cell_type": "markdown",
   "metadata": {},
   "source": [
    "### Exponential Moving Average (EMA)"
   ]
  },
  {
   "cell_type": "markdown",
   "metadata": {},
   "source": [
    "Moving average where the weight of later periods is exponentially decreasing."
   ]
  },
  {
   "cell_type": "code",
   "execution_count": 19,
   "metadata": {},
   "outputs": [
    {
     "data": {
      "text/plain": [
       "(0, 0.2)"
      ]
     },
     "execution_count": 19,
     "metadata": {},
     "output_type": "execute_result"
    },
    {
     "data": {
      "image/png": "[encoded data removed]",
      "text/plain": [
       "<matplotlib.figure.Figure at 0x2202c91d6d8>"
      ]
     },
     "metadata": {},
     "output_type": "display_data"
    }
   ],
   "source": [
    "weights = np.exp(1-linspace(-1,1,n))\n",
    "weights /= weights.sum()\n",
    "bar(x, weights, facecolor='r')\n",
    "axes = plt.gca()\n",
    "axes.set_ylim(0,0.2)"
   ]
  },
  {
   "cell_type": "code",
   "execution_count": 20,
   "metadata": {},
   "outputs": [],
   "source": [
    "from scipy.ndimage.interpolation import shift\n",
    "from pandas import Series"
   ]
  },
  {
   "cell_type": "code",
   "execution_count": 21,
   "metadata": {},
   "outputs": [],
   "source": [
    "def ema(df, periods = 7, source_column = 'close', target_column = 'ema'):\n",
    "    weights = np.exp(1-np.linspace(-1, 1, periods))\n",
    "    weights /= weights.sum()\n",
    "    ema = np.convolve(weights, df[source_column], 'valid')\n",
    "    ema.resize(len(ema)+periods-1)\n",
    "    ema = Series(ema)\n",
    "    ema = ema.shift(periods-1)\n",
    "    df['{}{}'.format(target_column, periods)] = ema "
   ]
  },
  {
   "cell_type": "code",
   "execution_count": 22,
   "metadata": {},
   "outputs": [],
   "source": [
    "ema(chart)"
   ]
  },
  {
   "cell_type": "code",
   "execution_count": 23,
   "metadata": {},
   "outputs": [
    {
     "data": {
      "text/plain": [
       "[<matplotlib.lines.Line2D at 0x2202ca29e10>]"
      ]
     },
     "execution_count": 23,
     "metadata": {},
     "output_type": "execute_result"
    },
    {
     "data": {
      "image/png": "[encoded data removed]",
      "text/plain": [
       "<matplotlib.figure.Figure at 0x2202c967400>"
      ]
     },
     "metadata": {},
     "output_type": "display_data"
    }
   ],
   "source": [
    "plot(chart['close'], c='black')\n",
    "plot(chart['ema7'], c='r')"
   ]
  },
  {
   "cell_type": "markdown",
   "metadata": {},
   "source": [
    "### Comparison"
   ]
  },
  {
   "cell_type": "markdown",
   "metadata": {},
   "source": [
    "Comparison between the SMA, WMA and EMA."
   ]
  },
  {
   "cell_type": "code",
   "execution_count": 24,
   "metadata": {
    "scrolled": false
   },
   "outputs": [
    {
     "data": {
      "image/png": "[encoded data removed]",
      "text/plain": [
       "<matplotlib.figure.Figure at 0x2202c9cd048>"
      ]
     },
     "metadata": {},
     "output_type": "display_data"
    }
   ],
   "source": [
    "ema(chart)\n",
    "plt.figure(figsize=(20,7))\n",
    "plot(chart['close'], c='black')\n",
    "plot(chart['ema7'], c='r')\n",
    "plot(chart['wma7'], c='b')\n",
    "plot(chart['sma7'], c='gray')\n",
    "legend(['close', 'ema', 'wma', 'sma'])\n",
    "grid();"
   ]
  },
  {
   "cell_type": "markdown",
   "metadata": {},
   "source": [
    "## Standard deviation"
   ]
  },
  {
   "cell_type": "markdown",
   "metadata": {},
   "source": [
    "Simple moving standard deviation which is used to calculate the Bollinger bands."
   ]
  },
  {
   "cell_type": "code",
   "execution_count": 25,
   "metadata": {},
   "outputs": [],
   "source": [
    "def std(df, periods = 20, source_column = 'close', target_column = 'std'):\n",
    "    df['{}{}'.format(target_column, periods)] = df[source_column].rolling(window=periods).std()"
   ]
  },
  {
   "cell_type": "code",
   "execution_count": 26,
   "metadata": {},
   "outputs": [],
   "source": [
    "std(chart)"
   ]
  },
  {
   "cell_type": "code",
   "execution_count": 27,
   "metadata": {},
   "outputs": [
    {
     "data": {
      "text/html": [
       "<div>\n",
       "<style scoped>\n",
       "    .dataframe tbody tr th:only-of-type {\n",
       "        vertical-align: middle;\n",
       "    }\n",
       "\n",
       "    .dataframe tbody tr th {\n",
       "        vertical-align: top;\n",
       "    }\n",
       "\n",
       "    .dataframe thead th {\n",
       "        text-align: right;\n",
       "    }\n",
       "</style>\n",
       "<table border=\"1\" class=\"dataframe\">\n",
       "  <thead>\n",
       "    <tr style=\"text-align: right;\">\n",
       "      <th></th>\n",
       "      <th>close</th>\n",
       "      <th>date</th>\n",
       "      <th>high</th>\n",
       "      <th>low</th>\n",
       "      <th>open</th>\n",
       "      <th>daily_return</th>\n",
       "      <th>sma7</th>\n",
       "      <th>wma7</th>\n",
       "      <th>ema7</th>\n",
       "      <th>std20</th>\n",
       "    </tr>\n",
       "  </thead>\n",
       "  <tbody>\n",
       "    <tr>\n",
       "      <th>0</th>\n",
       "      <td>9479.271727</td>\n",
       "      <td>2018-04-29 07:15:00</td>\n",
       "      <td>9483.665026</td>\n",
       "      <td>9456.461519</td>\n",
       "      <td>9460.780100</td>\n",
       "      <td>NaN</td>\n",
       "      <td>NaN</td>\n",
       "      <td>NaN</td>\n",
       "      <td>NaN</td>\n",
       "      <td>NaN</td>\n",
       "    </tr>\n",
       "    <tr>\n",
       "      <th>1</th>\n",
       "      <td>9455.022381</td>\n",
       "      <td>2018-04-29 07:30:00</td>\n",
       "      <td>9479.316488</td>\n",
       "      <td>9440.462219</td>\n",
       "      <td>9473.824569</td>\n",
       "      <td>-24.249346</td>\n",
       "      <td>NaN</td>\n",
       "      <td>NaN</td>\n",
       "      <td>NaN</td>\n",
       "      <td>NaN</td>\n",
       "    </tr>\n",
       "    <tr>\n",
       "      <th>2</th>\n",
       "      <td>9420.000000</td>\n",
       "      <td>2018-04-29 07:45:00</td>\n",
       "      <td>9467.690285</td>\n",
       "      <td>9378.455556</td>\n",
       "      <td>9455.022381</td>\n",
       "      <td>-35.022380</td>\n",
       "      <td>NaN</td>\n",
       "      <td>NaN</td>\n",
       "      <td>NaN</td>\n",
       "      <td>NaN</td>\n",
       "    </tr>\n",
       "    <tr>\n",
       "      <th>3</th>\n",
       "      <td>9470.920386</td>\n",
       "      <td>2018-04-29 08:00:00</td>\n",
       "      <td>9470.920386</td>\n",
       "      <td>9411.000000</td>\n",
       "      <td>9420.044719</td>\n",
       "      <td>50.920386</td>\n",
       "      <td>NaN</td>\n",
       "      <td>NaN</td>\n",
       "      <td>NaN</td>\n",
       "      <td>NaN</td>\n",
       "    </tr>\n",
       "    <tr>\n",
       "      <th>4</th>\n",
       "      <td>9450.000000</td>\n",
       "      <td>2018-04-29 08:15:00</td>\n",
       "      <td>9478.599990</td>\n",
       "      <td>9443.021388</td>\n",
       "      <td>9463.000000</td>\n",
       "      <td>-20.920386</td>\n",
       "      <td>NaN</td>\n",
       "      <td>NaN</td>\n",
       "      <td>NaN</td>\n",
       "      <td>NaN</td>\n",
       "    </tr>\n",
       "  </tbody>\n",
       "</table>\n",
       "</div>"
      ],
      "text/plain": [
       "         close                 date         high          low         open  \\\n",
       "0  9479.271727  2018-04-29 07:15:00  9483.665026  9456.461519  9460.780100   \n",
       "1  9455.022381  2018-04-29 07:30:00  9479.316488  9440.462219  9473.824569   \n",
       "2  9420.000000  2018-04-29 07:45:00  9467.690285  9378.455556  9455.022381   \n",
       "3  9470.920386  2018-04-29 08:00:00  9470.920386  9411.000000  9420.044719   \n",
       "4  9450.000000  2018-04-29 08:15:00  9478.599990  9443.021388  9463.000000   \n",
       "\n",
       "   daily_return  sma7  wma7  ema7  std20  \n",
       "0           NaN   NaN   NaN   NaN    NaN  \n",
       "1    -24.249346   NaN   NaN   NaN    NaN  \n",
       "2    -35.022380   NaN   NaN   NaN    NaN  \n",
       "3     50.920386   NaN   NaN   NaN    NaN  \n",
       "4    -20.920386   NaN   NaN   NaN    NaN  "
      ]
     },
     "execution_count": 27,
     "metadata": {},
     "output_type": "execute_result"
    }
   ],
   "source": [
    "chart.head()"
   ]
  },
  {
   "cell_type": "code",
   "execution_count": 28,
   "metadata": {},
   "outputs": [
    {
     "data": {
      "text/plain": [
       "[<matplotlib.lines.Line2D at 0x2202cad6c88>]"
      ]
     },
     "execution_count": 28,
     "metadata": {},
     "output_type": "execute_result"
    },
    {
     "data": {
      "image/png": "[encoded data removed]",
      "text/plain": [
       "<matplotlib.figure.Figure at 0x2202ca359b0>"
      ]
     },
     "metadata": {},
     "output_type": "display_data"
    }
   ],
   "source": [
    "plot(chart['std20'], c='r')"
   ]
  },
  {
   "cell_type": "markdown",
   "metadata": {},
   "source": [
    "## Bollinger Bands"
   ]
  },
  {
   "cell_type": "markdown",
   "metadata": {},
   "source": [
    "Bollinger band is calculated as follows:\n",
    "\n",
    " * Standard deviation ($\\sigma$) moving average for $n$ periods.\n",
    " * EMA for $n$ periods\n",
    " * The upper band is $\\text{EMA} + 2\\sigma$.\n",
    " * The lower band is $\\text{EMA} - 2\\sigma$.\n",
    " \n",
    "The default period is $20$."
   ]
  },
  {
   "cell_type": "code",
   "execution_count": 29,
   "metadata": {},
   "outputs": [],
   "source": [
    "def bbands(df, periods = 20, source_column = 'close', target_column = 'bb'):\n",
    "    temp_df = pd.DataFrame(df[source_column])\n",
    "    std(temp_df, periods)\n",
    "    ema(temp_df, periods)\n",
    "    df['{}_mid'.format(target_column)] = temp_df['ema{}'.format(periods)]\n",
    "    df['{}_upper'.format(target_column)] = temp_df['ema{}'.format(periods)] + 2*temp_df['std{}'.format(periods)]\n",
    "    df['{}_lower'.format(target_column)] = temp_df['ema{}'.format(periods)] - 2*temp_df['std{}'.format(periods)]"
   ]
  },
  {
   "cell_type": "code",
   "execution_count": 30,
   "metadata": {},
   "outputs": [],
   "source": [
    "bbands(chart)"
   ]
  },
  {
   "cell_type": "code",
   "execution_count": 31,
   "metadata": {
    "scrolled": true
   },
   "outputs": [
    {
     "data": {
      "text/html": [
       "<div>\n",
       "<style scoped>\n",
       "    .dataframe tbody tr th:only-of-type {\n",
       "        vertical-align: middle;\n",
       "    }\n",
       "\n",
       "    .dataframe tbody tr th {\n",
       "        vertical-align: top;\n",
       "    }\n",
       "\n",
       "    .dataframe thead th {\n",
       "        text-align: right;\n",
       "    }\n",
       "</style>\n",
       "<table border=\"1\" class=\"dataframe\">\n",
       "  <thead>\n",
       "    <tr style=\"text-align: right;\">\n",
       "      <th></th>\n",
       "      <th>close</th>\n",
       "      <th>date</th>\n",
       "      <th>high</th>\n",
       "      <th>low</th>\n",
       "      <th>open</th>\n",
       "      <th>daily_return</th>\n",
       "      <th>sma7</th>\n",
       "      <th>wma7</th>\n",
       "      <th>ema7</th>\n",
       "      <th>std20</th>\n",
       "      <th>bb_mid</th>\n",
       "      <th>bb_upper</th>\n",
       "      <th>bb_lower</th>\n",
       "    </tr>\n",
       "  </thead>\n",
       "  <tbody>\n",
       "    <tr>\n",
       "      <th>0</th>\n",
       "      <td>9479.271727</td>\n",
       "      <td>2018-04-29 07:15:00</td>\n",
       "      <td>9483.665026</td>\n",
       "      <td>9456.461519</td>\n",
       "      <td>9460.780100</td>\n",
       "      <td>NaN</td>\n",
       "      <td>NaN</td>\n",
       "      <td>NaN</td>\n",
       "      <td>NaN</td>\n",
       "      <td>NaN</td>\n",
       "      <td>NaN</td>\n",
       "      <td>NaN</td>\n",
       "      <td>NaN</td>\n",
       "    </tr>\n",
       "    <tr>\n",
       "      <th>1</th>\n",
       "      <td>9455.022381</td>\n",
       "      <td>2018-04-29 07:30:00</td>\n",
       "      <td>9479.316488</td>\n",
       "      <td>9440.462219</td>\n",
       "      <td>9473.824569</td>\n",
       "      <td>-24.249346</td>\n",
       "      <td>NaN</td>\n",
       "      <td>NaN</td>\n",
       "      <td>NaN</td>\n",
       "      <td>NaN</td>\n",
       "      <td>NaN</td>\n",
       "      <td>NaN</td>\n",
       "      <td>NaN</td>\n",
       "    </tr>\n",
       "    <tr>\n",
       "      <th>2</th>\n",
       "      <td>9420.000000</td>\n",
       "      <td>2018-04-29 07:45:00</td>\n",
       "      <td>9467.690285</td>\n",
       "      <td>9378.455556</td>\n",
       "      <td>9455.022381</td>\n",
       "      <td>-35.022380</td>\n",
       "      <td>NaN</td>\n",
       "      <td>NaN</td>\n",
       "      <td>NaN</td>\n",
       "      <td>NaN</td>\n",
       "      <td>NaN</td>\n",
       "      <td>NaN</td>\n",
       "      <td>NaN</td>\n",
       "    </tr>\n",
       "    <tr>\n",
       "      <th>3</th>\n",
       "      <td>9470.920386</td>\n",
       "      <td>2018-04-29 08:00:00</td>\n",
       "      <td>9470.920386</td>\n",
       "      <td>9411.000000</td>\n",
       "      <td>9420.044719</td>\n",
       "      <td>50.920386</td>\n",
       "      <td>NaN</td>\n",
       "      <td>NaN</td>\n",
       "      <td>NaN</td>\n",
       "      <td>NaN</td>\n",
       "      <td>NaN</td>\n",
       "      <td>NaN</td>\n",
       "      <td>NaN</td>\n",
       "    </tr>\n",
       "    <tr>\n",
       "      <th>4</th>\n",
       "      <td>9450.000000</td>\n",
       "      <td>2018-04-29 08:15:00</td>\n",
       "      <td>9478.599990</td>\n",
       "      <td>9443.021388</td>\n",
       "      <td>9463.000000</td>\n",
       "      <td>-20.920386</td>\n",
       "      <td>NaN</td>\n",
       "      <td>NaN</td>\n",
       "      <td>NaN</td>\n",
       "      <td>NaN</td>\n",
       "      <td>NaN</td>\n",
       "      <td>NaN</td>\n",
       "      <td>NaN</td>\n",
       "    </tr>\n",
       "  </tbody>\n",
       "</table>\n",
       "</div>"
      ],
      "text/plain": [
       "         close                 date         high          low         open  \\\n",
       "0  9479.271727  2018-04-29 07:15:00  9483.665026  9456.461519  9460.780100   \n",
       "1  9455.022381  2018-04-29 07:30:00  9479.316488  9440.462219  9473.824569   \n",
       "2  9420.000000  2018-04-29 07:45:00  9467.690285  9378.455556  9455.022381   \n",
       "3  9470.920386  2018-04-29 08:00:00  9470.920386  9411.000000  9420.044719   \n",
       "4  9450.000000  2018-04-29 08:15:00  9478.599990  9443.021388  9463.000000   \n",
       "\n",
       "   daily_return  sma7  wma7  ema7  std20  bb_mid  bb_upper  bb_lower  \n",
       "0           NaN   NaN   NaN   NaN    NaN     NaN       NaN       NaN  \n",
       "1    -24.249346   NaN   NaN   NaN    NaN     NaN       NaN       NaN  \n",
       "2    -35.022380   NaN   NaN   NaN    NaN     NaN       NaN       NaN  \n",
       "3     50.920386   NaN   NaN   NaN    NaN     NaN       NaN       NaN  \n",
       "4    -20.920386   NaN   NaN   NaN    NaN     NaN       NaN       NaN  "
      ]
     },
     "execution_count": 31,
     "metadata": {},
     "output_type": "execute_result"
    }
   ],
   "source": [
    "chart.head()"
   ]
  },
  {
   "cell_type": "code",
   "execution_count": 32,
   "metadata": {},
   "outputs": [
    {
     "data": {
      "text/plain": [
       "[<matplotlib.lines.Line2D at 0x2202cb47c88>]"
      ]
     },
     "execution_count": 32,
     "metadata": {},
     "output_type": "execute_result"
    },
    {
     "data": {
      "image/png": "[encoded data removed]",
      "text/plain": [
       "<matplotlib.figure.Figure at 0x2202cb05eb8>"
      ]
     },
     "metadata": {},
     "output_type": "display_data"
    }
   ],
   "source": [
    "plot(chart['close'], c='black')\n",
    "plot(chart['bb_mid'], c='r')\n",
    "plot(chart['bb_upper'], c='gray')\n",
    "plot(chart['bb_lower'], c='gray')"
   ]
  },
  {
   "cell_type": "markdown",
   "metadata": {},
   "source": [
    "## Relative Strength Index (RSI)"
   ]
  },
  {
   "cell_type": "markdown",
   "metadata": {},
   "source": [
    "The relative strength index is calculated with the following formula:\n",
    "\n",
    " * $\\text{RSI}=100-100/(1+\\text{RS})$\n",
    " * $\\text{RS}=U / D$\n",
    " * $U$ is EMA of all positive moves in the last $n$ periods.\n",
    " * $D$ is EMA of (absolute values of) all negative moves in the last $n$ periods.\n",
    " * $n$ is the period of RSI."
   ]
  },
  {
   "cell_type": "code",
   "execution_count": 33,
   "metadata": {},
   "outputs": [],
   "source": [
    "def rsi(df, periods = 14, source_column='daily_return', target_column='rsi'):\n",
    "    temp_df = pd.DataFrame(df[source_column])\n",
    "    temp_df['closing_gains'] = temp_df[source_column].apply(lambda x: max(x, 0))\n",
    "    temp_df['closing_losses'] = temp_df[source_column].apply(lambda x: abs(min(x, 0)))\n",
    "    ema(temp_df, periods, 'closing_gains', 'closing_gains_ema')\n",
    "    ema(temp_df, periods, 'closing_losses', 'closing_losses_ema')\n",
    "    temp_df['rs'] = temp_df['closing_gains_ema{}'.format(periods)] / temp_df['closing_losses_ema{}'.format(periods)]\n",
    "    df[target_column] = 100 - (100 / (1 + temp_df['rs']))"
   ]
  },
  {
   "cell_type": "code",
   "execution_count": 34,
   "metadata": {},
   "outputs": [],
   "source": [
    "rsi(chart)"
   ]
  },
  {
   "cell_type": "code",
   "execution_count": 35,
   "metadata": {
    "scrolled": true
   },
   "outputs": [
    {
     "data": {
      "text/plain": [
       "<matplotlib.collections.PolyCollection at 0x2202cbae780>"
      ]
     },
     "execution_count": 35,
     "metadata": {},
     "output_type": "execute_result"
    },
    {
     "data": {
      "image/png": "[encoded data removed]",
      "text/plain": [
       "<matplotlib.figure.Figure at 0x2202cb75c50>"
      ]
     },
     "metadata": {},
     "output_type": "display_data"
    }
   ],
   "source": [
    "fig, ax = plt.subplots()\n",
    "plot(chart['rsi'], c='black')\n",
    "plt.axhline(y=80, c='r')\n",
    "plt.axhline(y=20, c='lime')\n",
    "ax.set_ylim(0, 100)\n",
    "fill_between(list(chart.index), 20, 80, color='grey', alpha=0)"
   ]
  },
  {
   "cell_type": "code",
   "execution_count": 36,
   "metadata": {},
   "outputs": [
    {
     "data": {
      "text/html": [
       "<div>\n",
       "<style scoped>\n",
       "    .dataframe tbody tr th:only-of-type {\n",
       "        vertical-align: middle;\n",
       "    }\n",
       "\n",
       "    .dataframe tbody tr th {\n",
       "        vertical-align: top;\n",
       "    }\n",
       "\n",
       "    .dataframe thead th {\n",
       "        text-align: right;\n",
       "    }\n",
       "</style>\n",
       "<table border=\"1\" class=\"dataframe\">\n",
       "  <thead>\n",
       "    <tr style=\"text-align: right;\">\n",
       "      <th></th>\n",
       "      <th>close</th>\n",
       "      <th>date</th>\n",
       "      <th>high</th>\n",
       "      <th>low</th>\n",
       "      <th>open</th>\n",
       "      <th>daily_return</th>\n",
       "      <th>sma7</th>\n",
       "      <th>wma7</th>\n",
       "      <th>ema7</th>\n",
       "      <th>std20</th>\n",
       "      <th>bb_mid</th>\n",
       "      <th>bb_upper</th>\n",
       "      <th>bb_lower</th>\n",
       "      <th>rsi</th>\n",
       "    </tr>\n",
       "  </thead>\n",
       "  <tbody>\n",
       "    <tr>\n",
       "      <th>0</th>\n",
       "      <td>9479.271727</td>\n",
       "      <td>2018-04-29 07:15:00</td>\n",
       "      <td>9483.665026</td>\n",
       "      <td>9456.461519</td>\n",
       "      <td>9460.780100</td>\n",
       "      <td>NaN</td>\n",
       "      <td>NaN</td>\n",
       "      <td>NaN</td>\n",
       "      <td>NaN</td>\n",
       "      <td>NaN</td>\n",
       "      <td>NaN</td>\n",
       "      <td>NaN</td>\n",
       "      <td>NaN</td>\n",
       "      <td>NaN</td>\n",
       "    </tr>\n",
       "    <tr>\n",
       "      <th>1</th>\n",
       "      <td>9455.022381</td>\n",
       "      <td>2018-04-29 07:30:00</td>\n",
       "      <td>9479.316488</td>\n",
       "      <td>9440.462219</td>\n",
       "      <td>9473.824569</td>\n",
       "      <td>-24.249346</td>\n",
       "      <td>NaN</td>\n",
       "      <td>NaN</td>\n",
       "      <td>NaN</td>\n",
       "      <td>NaN</td>\n",
       "      <td>NaN</td>\n",
       "      <td>NaN</td>\n",
       "      <td>NaN</td>\n",
       "      <td>NaN</td>\n",
       "    </tr>\n",
       "    <tr>\n",
       "      <th>2</th>\n",
       "      <td>9420.000000</td>\n",
       "      <td>2018-04-29 07:45:00</td>\n",
       "      <td>9467.690285</td>\n",
       "      <td>9378.455556</td>\n",
       "      <td>9455.022381</td>\n",
       "      <td>-35.022380</td>\n",
       "      <td>NaN</td>\n",
       "      <td>NaN</td>\n",
       "      <td>NaN</td>\n",
       "      <td>NaN</td>\n",
       "      <td>NaN</td>\n",
       "      <td>NaN</td>\n",
       "      <td>NaN</td>\n",
       "      <td>NaN</td>\n",
       "    </tr>\n",
       "    <tr>\n",
       "      <th>3</th>\n",
       "      <td>9470.920386</td>\n",
       "      <td>2018-04-29 08:00:00</td>\n",
       "      <td>9470.920386</td>\n",
       "      <td>9411.000000</td>\n",
       "      <td>9420.044719</td>\n",
       "      <td>50.920386</td>\n",
       "      <td>NaN</td>\n",
       "      <td>NaN</td>\n",
       "      <td>NaN</td>\n",
       "      <td>NaN</td>\n",
       "      <td>NaN</td>\n",
       "      <td>NaN</td>\n",
       "      <td>NaN</td>\n",
       "      <td>NaN</td>\n",
       "    </tr>\n",
       "    <tr>\n",
       "      <th>4</th>\n",
       "      <td>9450.000000</td>\n",
       "      <td>2018-04-29 08:15:00</td>\n",
       "      <td>9478.599990</td>\n",
       "      <td>9443.021388</td>\n",
       "      <td>9463.000000</td>\n",
       "      <td>-20.920386</td>\n",
       "      <td>NaN</td>\n",
       "      <td>NaN</td>\n",
       "      <td>NaN</td>\n",
       "      <td>NaN</td>\n",
       "      <td>NaN</td>\n",
       "      <td>NaN</td>\n",
       "      <td>NaN</td>\n",
       "      <td>NaN</td>\n",
       "    </tr>\n",
       "  </tbody>\n",
       "</table>\n",
       "</div>"
      ],
      "text/plain": [
       "         close                 date         high          low         open  \\\n",
       "0  9479.271727  2018-04-29 07:15:00  9483.665026  9456.461519  9460.780100   \n",
       "1  9455.022381  2018-04-29 07:30:00  9479.316488  9440.462219  9473.824569   \n",
       "2  9420.000000  2018-04-29 07:45:00  9467.690285  9378.455556  9455.022381   \n",
       "3  9470.920386  2018-04-29 08:00:00  9470.920386  9411.000000  9420.044719   \n",
       "4  9450.000000  2018-04-29 08:15:00  9478.599990  9443.021388  9463.000000   \n",
       "\n",
       "   daily_return  sma7  wma7  ema7  std20  bb_mid  bb_upper  bb_lower  rsi  \n",
       "0           NaN   NaN   NaN   NaN    NaN     NaN       NaN       NaN  NaN  \n",
       "1    -24.249346   NaN   NaN   NaN    NaN     NaN       NaN       NaN  NaN  \n",
       "2    -35.022380   NaN   NaN   NaN    NaN     NaN       NaN       NaN  NaN  \n",
       "3     50.920386   NaN   NaN   NaN    NaN     NaN       NaN       NaN  NaN  \n",
       "4    -20.920386   NaN   NaN   NaN    NaN     NaN       NaN       NaN  NaN  "
      ]
     },
     "execution_count": 36,
     "metadata": {},
     "output_type": "execute_result"
    }
   ],
   "source": [
    "chart.head()"
   ]
  },
  {
   "cell_type": "markdown",
   "metadata": {},
   "source": [
    "## Parabolic SAR (stop and reverse)"
   ]
  },
  {
   "cell_type": "code",
   "execution_count": null,
   "metadata": {},
   "outputs": [],
   "source": []
  }
 ],
 "metadata": {
  "kernelspec": {
   "display_name": "Python 3",
   "language": "python",
   "name": "python3"
  },
  "language_info": {
   "codemirror_mode": {
    "name": "ipython",
    "version": 3
   },
   "file_extension": ".py",
   "mimetype": "text/x-python",
   "name": "python",
   "nbconvert_exporter": "python",
   "pygments_lexer": "ipython3",
   "version": "3.6.3"
  }
 },
 "nbformat": 4,
 "nbformat_minor": 2
}
