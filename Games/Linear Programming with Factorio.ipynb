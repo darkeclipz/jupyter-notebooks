{
 "cells": [
  {
   "cell_type": "markdown",
   "metadata": {},
   "source": [
    "# Problem"
   ]
  },
  {
   "cell_type": "markdown",
   "metadata": {},
   "source": [
    "In Factorio you have to create a mega factory. It is possible to automate everything that can be build in the game. In this problem we are going to find the optimal solution for a green chip factory."
   ]
  },
  {
   "cell_type": "markdown",
   "metadata": {},
   "source": [
    "![Factorio Green Chip Factory](factorio1.jpg)"
   ]
  },
  {
   "cell_type": "markdown",
   "metadata": {},
   "source": [
    "To create a green chip, we need the followings items:"
   ]
  },
  {
   "cell_type": "markdown",
   "metadata": {},
   "source": [
    "    Green Chip 1x\n",
    "        Copper Cable 3x\n",
    "        Iron Plate 1x\n",
    "        Time 2 seconds\n",
    "        \n",
    "    Copper Cable 2x\n",
    "        Copper Plate 1x\n",
    "        Time 0.5 seconds"
   ]
  },
  {
   "cell_type": "markdown",
   "metadata": {},
   "source": [
    "The factory will be supplied by two belts which can transport $20$ items per second. The output will be a single belt which transports $20$ items per second.\n",
    "\n",
    "Objective:\n",
    "\n",
    " * Design a factory which has the highest output  of green chips. A second objective is to do this by spending as less resources as possible to construct the factory."
   ]
  },
  {
   "cell_type": "markdown",
   "metadata": {},
   "source": [
    "# Model"
   ]
  },
  {
   "cell_type": "markdown",
   "metadata": {},
   "source": [
    "First we translate the problem into a mathematical context.\n",
    "\n",
    " * $x_1$: Time\n",
    " * $x_2$: Green chip\n",
    " * $x_3$: Iron plate\n",
    " * $x_4$: Copper cable\n",
    " * $x_5$: Copper plate"
   ]
  },
  {
   "cell_type": "markdown",
   "metadata": {},
   "source": [
    "## Relationships"
   ]
  },
  {
   "cell_type": "markdown",
   "metadata": {},
   "source": [
    "To create a green chip, we create the following relationship:\n",
    "\n",
    "$$ x_2 = -2x_1  - x_3 - 3x_4$$"
   ]
  },
  {
   "cell_type": "markdown",
   "metadata": {},
   "source": [
    "To create a copper cable, we create the following relationship:\n",
    "\n",
    "$$x_4=-\\frac{1}{2}x_1 -x_5$$"
   ]
  },
  {
   "cell_type": "markdown",
   "metadata": {},
   "source": [
    "## Constraints"
   ]
  },
  {
   "cell_type": "markdown",
   "metadata": {},
   "source": [
    "We have the following constraints:\n",
    "\n",
    " * $x_2 < 20$: The max belt output for green chips is $20$.\n",
    " * $x_3 < 20$: The max belt input for iron plates is $20$.\n",
    " * $x_5 < 20$: The max belt input for copper plates is $20$."
   ]
  },
  {
   "cell_type": "markdown",
   "metadata": {},
   "source": [
    "## Slack variables"
   ]
  },
  {
   "cell_type": "markdown",
   "metadata": {},
   "source": [
    "We will need the following three slack variables:\n",
    "\n",
    " * $s_1$: Slack variable for max belt output for green chips.\n",
    " * $s_2$: Slack variable for max belt output for iron plates.\n",
    " * $s_3$: Slack variable for max belt output for iron plates."
   ]
  },
  {
   "cell_type": "markdown",
   "metadata": {},
   "source": [
    "## Linear programming model"
   ]
  },
  {
   "cell_type": "markdown",
   "metadata": {},
   "source": [
    " * "
   ]
  }
 ],
 "metadata": {
  "kernelspec": {
   "display_name": "R",
   "language": "R",
   "name": "ir"
  },
  "language_info": {
   "codemirror_mode": "r",
   "file_extension": ".r",
   "mimetype": "text/x-r-source",
   "name": "R",
   "pygments_lexer": "r",
   "version": "3.4.4"
  }
 },
 "nbformat": 4,
 "nbformat_minor": 2
}
