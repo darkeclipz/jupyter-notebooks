{
 "cells": [
  {
   "cell_type": "code",
   "execution_count": 1,
   "metadata": {},
   "outputs": [
    {
     "name": "stderr",
     "output_type": "stream",
     "text": [
      "IOPub data rate exceeded.\n",
      "The notebook server will temporarily stop sending output\n",
      "to the client in order to avoid crashing it.\n",
      "To change this limit, set the config variable\n",
      "`--NotebookApp.iopub_data_rate_limit`.\n"
     ]
    }
   ],
   "source": [
    "import math\n",
    "import plotting"
   ]
  },
  {
   "cell_type": "markdown",
   "metadata": {},
   "source": [
    "# Trigonometry"
   ]
  },
  {
   "cell_type": "markdown",
   "metadata": {},
   "source": [
    "## Right triangles"
   ]
  },
  {
   "cell_type": "markdown",
   "metadata": {},
   "source": [
    "The study of the ratios of sides of triangles."
   ]
  },
  {
   "cell_type": "markdown",
   "metadata": {},
   "source": [
    "### Sine\n",
    "$$\\sin=\\frac{\\text{opposite}}{\\text{hypotenuse}}$$"
   ]
  },
  {
   "cell_type": "markdown",
   "metadata": {},
   "source": [
    "### Cosine\n",
    "$$\\cos=\\frac{\\text{adjacent}}{\\text{hypotenuse}}$$"
   ]
  },
  {
   "cell_type": "markdown",
   "metadata": {},
   "source": [
    "### Tangent\n",
    "$$ \\tan = \\frac{\\text{opposite}}{\\text{adjacent}}$$"
   ]
  },
  {
   "cell_type": "markdown",
   "metadata": {},
   "source": [
    "### Mnemonic\n",
    "\n",
    "The mnemonic **soh-cah-toa**."
   ]
  },
  {
   "cell_type": "markdown",
   "metadata": {},
   "source": [
    "### Example\n",
    "\n",
    "Suppose we have a triangle:\n",
    "\n",
    "     A\n",
    "     |\\\n",
    "     | \\\n",
    "     |55\\\n",
    "     |   \\\n",
    "    4|    \\ ?\n",
    "     |     \\\n",
    "     |      \\\n",
    "     |       \\\n",
    "     |________\\\n",
    "     B         C\n",
    "     \n",
    "Given $\\Delta ABC$, find $AC$.\n",
    "\n",
    "First we determine which trigonometric ratio to use. We want to calculate the hypotenuse and we know the length of a side that is adjacent to angle $A$. The ratio that contains both is $\\cos$.\n",
    "\n",
    "$$\n",
    "\\begin{align} \n",
    "\\cos(E) &= \\frac{\\text{adjacent}}{\\text{hypotenuse}} \\\\ \n",
    "\\cos(55) &= \\frac{4}{AC} \\\\\n",
    "AC \\cdot \\cos(55) &= 4 \\\\\n",
    "AC &= \\frac{4}{\\cos(55)}\n",
    "\\end{align}\n",
    "$$"
   ]
  },
  {
   "cell_type": "code",
   "execution_count": 2,
   "metadata": {},
   "outputs": [
    {
     "data": {
      "text/plain": [
       "6.973787182484391"
      ]
     },
     "execution_count": 2,
     "metadata": {},
     "output_type": "execute_result"
    }
   ],
   "source": [
    "4 / math.cos(math.radians(55))"
   ]
  },
  {
   "cell_type": "markdown",
   "metadata": {},
   "source": [
    "$AC \\approx 6.97$"
   ]
  },
  {
   "cell_type": "markdown",
   "metadata": {},
   "source": [
    "### Excersises"
   ]
  },
  {
   "cell_type": "code",
   "execution_count": 3,
   "metadata": {
    "scrolled": true
   },
   "outputs": [
    {
     "data": {
      "text/plain": [
       "8.62199023875379"
      ]
     },
     "execution_count": 3,
     "metadata": {},
     "output_type": "execute_result"
    }
   ],
   "source": [
    "8.2 / math.sin(math.radians(72))"
   ]
  },
  {
   "cell_type": "code",
   "execution_count": 4,
   "metadata": {},
   "outputs": [
    {
     "data": {
      "text/plain": [
       "2.2606621503083826"
      ]
     },
     "execution_count": 4,
     "metadata": {},
     "output_type": "execute_result"
    }
   ],
   "source": [
    "3 * math.tan(math.radians(37))"
   ]
  },
  {
   "cell_type": "markdown",
   "metadata": {},
   "source": [
    "### Finding angles\n",
    "\n",
    "If it is a right triangle $\\Delta ABC$ and angle $\\angle A$ is known, it is trivial to solve for $\\angle B$:\n",
    "\n",
    "$$\\begin{align}\n",
    "\\angle A + \\angle B + 90^\\circ &= 180^\\circ \\\\\n",
    "\\angle B &= 180^\\circ - 90^\\circ - \\angle A\n",
    "\\end{align}$$"
   ]
  },
  {
   "cell_type": "markdown",
   "metadata": {},
   "source": [
    "### Inverse trig functions"
   ]
  },
  {
   "cell_type": "markdown",
   "metadata": {},
   "source": [
    "$$\n",
    "\\begin{align}\n",
    "\\sin(\\theta) = \\frac{ \\text{opposite} }{ \\text{hypotenuse} } &\\rightarrow \\sin^{-1} \\left( \\frac{ \\text{opposite} }{ \\text{hypotenuse} } \\right) = \\theta \\\\\n",
    "\\cos(\\theta) = \\frac{ \\text{adjacent}}{\\text{hypotenuse}} &\\rightarrow \\cos^{-1} \\left( \\frac{ \\text{adjacent}}{\\text{hypotenuse}} \\right) = \\theta \\\\\n",
    "\\tan(\\theta) = \\frac{ \\text{opposite}}{\\text{adjacent}} &\\rightarrow \\tan^{-1} \\left( \\frac{ \\text{opposite}}{\\text{adjacent}} \\right) = \\theta\n",
    "\\end{align}\n",
    "$$"
   ]
  },
  {
   "cell_type": "markdown",
   "metadata": {},
   "source": [
    "**Example**\n",
    "\n",
    "     A\n",
    "     |\\\n",
    "     |?\\\n",
    "     |  \\\n",
    "     |   \\\n",
    "    4|    \\ 5\n",
    "     |     \\\n",
    "     |      \\\n",
    "     |       \\\n",
    "     |________\\\n",
    "     B         C\n",
    "     \n",
    "We have the adjacent to $\\angle A$ and the hypotenuse. So we use $\\cos$:\n",
    "\n",
    "$$ \\cos^{-1}\\left(\\frac{4}{5}\\right) = \\angle A $$"
   ]
  },
  {
   "cell_type": "code",
   "execution_count": 5,
   "metadata": {},
   "outputs": [
    {
     "data": {
      "text/plain": [
       "36.86989764584401"
      ]
     },
     "execution_count": 5,
     "metadata": {},
     "output_type": "execute_result"
    }
   ],
   "source": [
    "math.degrees(math.acos(4/5))"
   ]
  },
  {
   "cell_type": "markdown",
   "metadata": {},
   "source": [
    "$\\angle A \\approx 36.86$"
   ]
  },
  {
   "cell_type": "markdown",
   "metadata": {},
   "source": [
    "### Triangle similarity"
   ]
  },
  {
   "cell_type": "markdown",
   "metadata": {},
   "source": [
    "For two triangles $\\Delta ABC$ and $\\Delta DEF$ which both have the same angle $\\theta$:\n",
    "\n",
    "     B           \n",
    "     |\\ 90-θ\n",
    "     | \\\n",
    "     |  \\        E\n",
    "     |   \\       |\\ 90-θ\n",
    "     |    \\      | \\\n",
    "     |     \\     |  \\\n",
    "     |      \\    |__θ\\\n",
    "     |       \\   F    D\n",
    "     |_______θ\\\n",
    "     C         A\n"
   ]
  },
  {
   "cell_type": "markdown",
   "metadata": {},
   "source": [
    "We can find the following ratios:\n",
    "\n",
    "$$ \\frac{BC}{BA}=\\frac{EF}{ED} \\qquad \\frac{AC}{AB}=\\frac{DF}{DE} \\qquad \\frac{BC}{CA}=\\frac{EF}{DF} $$"
   ]
  },
  {
   "cell_type": "markdown",
   "metadata": {},
   "source": [
    "Which can be generalized to (from the view of $\\theta$):\n",
    "\n",
    "$$ \\frac{\\text{opposite}}{\\text{hypotenuse}} \\qquad \\frac{\\text{adjacent}}{\\text{hypotenuse}} \\qquad \\frac{\\text{opposite}}{\\text{adjacent}}$$"
   ]
  },
  {
   "cell_type": "markdown",
   "metadata": {},
   "source": [
    "Now we formarly define these ratios to get:\n",
    "\n",
    "$$ \\sin\\theta=\\frac{\\text{opposite}}{\\text{hypotenuse}} \\qquad \\cos\\theta=\\frac{\\text{adjacent}}{\\text{hypotenuse}} \\qquad \\tan\\theta=\\frac{\\text{opposite}}{\\text{adjacent}}$$"
   ]
  },
  {
   "cell_type": "markdown",
   "metadata": {},
   "source": [
    "### Cofunctions"
   ]
  },
  {
   "cell_type": "markdown",
   "metadata": {},
   "source": [
    "**Sine and cosine**\n",
    "$$\\begin{align}\n",
    "\\sin(\\theta) &= \\cos(90^\\circ - \\theta) \\\\\n",
    "\\cos(\\theta) &= \\sin(90^\\circ - \\theta)\n",
    "\\end{align}$$"
   ]
  },
  {
   "cell_type": "markdown",
   "metadata": {},
   "source": [
    "**Tangent and cotangent**\n",
    "$$\\begin{align}\n",
    "\\tan(\\theta) &= \\cot(90^\\circ - \\theta) \\\\\n",
    "\\cot(\\theta) &= \\tan(90^\\circ - \\theta)\n",
    "\\end{align}$$"
   ]
  },
  {
   "cell_type": "markdown",
   "metadata": {},
   "source": [
    "**Secant and cosecant**\n",
    "$$\\begin{align}\n",
    "\\sec(\\theta) &= \\csc(90^\\circ - \\theta) \\\\\n",
    "\\csc(\\theta) &= \\sec(90^\\circ - \\theta)\n",
    "\\end{align}$$"
   ]
  },
  {
   "cell_type": "markdown",
   "metadata": {},
   "source": [
    "### Trig ratios of special triangles"
   ]
  },
  {
   "cell_type": "markdown",
   "metadata": {},
   "source": [
    "There are two special triangles:\n",
    "* 45-45-90\n",
    "* 30-60-90\n",
    "\n",
    "**30-60-90**\n",
    "\n",
    "The longer leg is $x\\sqrt{3}$ and the hypotenuse is twice as long as the shortest leg $2x$.\n",
    "\n",
    "**45-45-90**\n",
    "\n",
    "The hypotenuse is $x\\sqrt{2}$.\n",
    "\n",
    "**Deriving ratios**\n",
    "\n",
    "We can use those triangles to derive the trig ratios for $30^\\circ$, $45^\\circ$, and $60^\\circ$:\n",
    "\n",
    "$$\\begin{array}{c|lcr}\n",
    " & \\cos(\\theta) & \\sin(\\theta) & \\tan(\\theta) \\\\\n",
    " \\hline\n",
    " \\theta = 30^\\circ & \\frac{\\sqrt{3}}{2} & \\frac{1}{2} & \\frac{\\sqrt{3}}{3} \\\\\n",
    " \\theta = 45^\\circ & \\frac{\\sqrt{2}}{2} & \\frac{\\sqrt{2}}{2} & 1 \\\\\n",
    " \\theta = 60^\\circ & \\frac{1}{2} & \\frac{\\sqrt{3}}{2} & \\sqrt{3}\n",
    "\\end{array}$$"
   ]
  },
  {
   "cell_type": "markdown",
   "metadata": {},
   "source": [
    "### Pythagorean trig identity"
   ]
  },
  {
   "cell_type": "markdown",
   "metadata": {},
   "source": [
    "When we have a triangle:\n",
    "            \n",
    "           /|\n",
    "          / |\n",
    "         /  |\n",
    "      c /   |\n",
    "       /    | b\n",
    "      /     |\n",
    "     /      |\n",
    "    /_______|\n",
    "        a\n",
    "\n",
    "We can relate this to the Pythagorean theorem by doing so:\n",
    "\n",
    "$$\\begin{align}\n",
    "\\sin\\theta = \\frac{b}{c} &\\qquad \\cos\\theta = \\frac{a}{c} \\\\\n",
    "\\sin^2\\theta = \\frac{b^2}{c^2} &\\qquad \\cos^2\\theta = \\frac{a^2}{c^2} \\\\\n",
    "\\sin^2\\theta + \\cos^2\\theta &= \\frac{b^2}{c^2} + \\frac{a^2}{c^2} \\\\\n",
    "\\end{align}$$\n",
    "\n",
    "Now we have $\\frac{b^2}{c^2} + \\frac{a^2}{c^2} = \\frac{a^2+b^2}{c^2}$ and by the Pythagorean theorem $a^2 + b^2 = c^2$, the result is $\\frac{c^2}{c^2}=1$.\n",
    "\n",
    "This gives us the _Pythagorean trig identity_:\n",
    "\n",
    "$$\\sin^2\\theta + \\cos^2\\theta = 1$$\n"
   ]
  },
  {
   "cell_type": "markdown",
   "metadata": {
    "collapsed": true
   },
   "source": [
    "### Reciprocal trig ratios"
   ]
  },
  {
   "cell_type": "markdown",
   "metadata": {},
   "source": [
    "**Cosecant (csc)**\n",
    "\n",
    "$$\\csc(A)=\\frac{\\text{hypotenuse}}{\\text{opposite}} \\qquad \\rightarrow \\qquad \\csc(A)=\\frac{1}{\\sin(A)}$$"
   ]
  },
  {
   "cell_type": "markdown",
   "metadata": {},
   "source": [
    "**Secant (sec)**\n",
    "\n",
    "$$\\sec(A)=\\frac{\\text{hypotenuse}}{\\text{adjacent}} \\qquad \\rightarrow \\qquad \\sec(A)=\\frac{1}{\\cos(A)}$$"
   ]
  },
  {
   "cell_type": "markdown",
   "metadata": {},
   "source": [
    "**Cotangent (cot)**\n",
    "\n",
    "$$ \\tan(A)=\\frac{\\text{adjacent}}{\\text{opposite}} \\qquad \\rightarrow \\qquad \\tan(A)=\\frac{1}{\\tan(A)}$$"
   ]
  },
  {
   "cell_type": "markdown",
   "metadata": {},
   "source": [
    "**Example**\n",
    "\n",
    "To find the $\\csc(45^\\circ)$ we first draw the 45-45-90 triangle. From the triangle we find that $\\sin(45^\\circ) = \\frac{1}{\\sqrt{2}}$. The $\\csc$ is reciprocal of $\\sin$ so we can swap the fraction. The answer is $\\sqrt{2}$."
   ]
  },
  {
   "cell_type": "markdown",
   "metadata": {},
   "source": [
    "## General triangles"
   ]
  },
  {
   "cell_type": "markdown",
   "metadata": {},
   "source": [
    "### Law of Sines"
   ]
  },
  {
   "cell_type": "markdown",
   "metadata": {},
   "source": [
    "$$\\frac{\\sin a}{A} = \\frac{\\sin b}{B} = \\frac{\\sin c}{C}$$"
   ]
  },
  {
   "cell_type": "markdown",
   "metadata": {},
   "source": [
    "**Example**\n",
    "\n",
    "Suppose we have a triangle, find $m\\angle B$ using the _Law of Sines_.\n",
    "\n",
    "            A\n",
    "           /\\\n",
    "       11 /  \\ 12\n",
    "         /    \\\n",
    "        /73____\\\n",
    "       C        B\n",
    "      \n",
    "      \n",
    "First we define:\n",
    "$$ \\frac{\\sin(B)}{b}=\\frac{\\sin(C)}{c}$$\n",
    "\n",
    "Multiply both sides by $b$:\n",
    "$$ \\sin(B) = \\frac{b}{c}\\sin(C)$$\n",
    "\n",
    "Plug-in the values:\n",
    "$$ \\sin(B) = \\frac{11}{12}\\sin(73)$$\n",
    "\n",
    "Evaluate the inverse sin to find $B$:\n",
    "$$ B = \\sin^{-1}\\left(\\frac{11}{12}\\sin(73)\\right)$$\n",
    "\n",
    "Which is:\n",
    "$$ B \\approx 61^\\circ$$"
   ]
  },
  {
   "cell_type": "markdown",
   "metadata": {},
   "source": [
    "**Sidenote**\n",
    "\n",
    "If an angle is _obtuse_ ($\\angle A> 90^\\circ$) we need to use the fact that $\\sin(\\theta) = \\sin(180^\\circ - \\theta)$."
   ]
  },
  {
   "cell_type": "markdown",
   "metadata": {},
   "source": [
    "### Law of Cosines"
   ]
  },
  {
   "cell_type": "markdown",
   "metadata": {},
   "source": [
    "$$c^2 = a^2 + b^2 - 2ab \\cos \\theta$$"
   ]
  },
  {
   "cell_type": "markdown",
   "metadata": {},
   "source": [
    "**Example**\n",
    "\n",
    "Suppose we have a triangle, find $a$ using the _Law of Cosines_:\n",
    "           \n",
    "           /\\\n",
    "          /  \\ \n",
    "         /θ=87\\\n",
    "    b=12/      \\c=9\n",
    "       /        \\\n",
    "      /          \\\n",
    "     /____________\\\n",
    "           a=?\n",
    "           \n",
    "Plug-in the values and solve for $a$:\n",
    "\n",
    "$$\\begin{align}\n",
    "a^2 &= 144 + 81 - 2(12)(9)\\cos 87^\\circ \\\\\n",
    "a^2 &= 225 - 216 \\cos 87^\\circ \\\\\n",
    "a &= \\sqrt{225 - 216 \\cos 87^\\circ} \\\\\n",
    "a &\\approx 14.6\n",
    "\\end{align}$$"
   ]
  },
  {
   "cell_type": "markdown",
   "metadata": {},
   "source": [
    "**Python examples**"
   ]
  },
  {
   "cell_type": "code",
   "execution_count": 6,
   "metadata": {},
   "outputs": [
    {
     "data": {
      "text/plain": [
       "14.618325261517617"
      ]
     },
     "execution_count": 6,
     "metadata": {},
     "output_type": "execute_result"
    }
   ],
   "source": [
    "def side(theta,b,c):\n",
    "    rtheta = math.radians(theta)\n",
    "    return math.sqrt(b**2+c**2-2*b*c*math.cos(rtheta))\n",
    "\n",
    "side(87,12,9)"
   ]
  },
  {
   "cell_type": "code",
   "execution_count": 7,
   "metadata": {},
   "outputs": [
    {
     "data": {
      "text/plain": [
       "18.194872338766785"
      ]
     },
     "execution_count": 7,
     "metadata": {},
     "output_type": "execute_result"
    }
   ],
   "source": [
    "def angle(a,b,c):\n",
    "    rad = math.acos((a**2+b**2-c**2)/(2*a*b))\n",
    "    return math.degrees(rad)\n",
    "\n",
    "angle(50,60,20)"
   ]
  },
  {
   "cell_type": "markdown",
   "metadata": {},
   "source": [
    "Let's calculate the angles for a triangle with sides $9$, $12$, and $14.6$. The $c$ term in the function is for which side the angle is calculated."
   ]
  },
  {
   "cell_type": "code",
   "execution_count": 8,
   "metadata": {},
   "outputs": [
    {
     "data": {
      "text/plain": [
       "86.85776755589895"
      ]
     },
     "execution_count": 8,
     "metadata": {},
     "output_type": "execute_result"
    }
   ],
   "source": [
    "angle(9,12,14.6)"
   ]
  },
  {
   "cell_type": "code",
   "execution_count": 9,
   "metadata": {},
   "outputs": [
    {
     "data": {
      "text/plain": [
       "37.98910087977064"
      ]
     },
     "execution_count": 9,
     "metadata": {},
     "output_type": "execute_result"
    }
   ],
   "source": [
    "angle(12,14.6,9)"
   ]
  },
  {
   "cell_type": "code",
   "execution_count": 10,
   "metadata": {},
   "outputs": [
    {
     "data": {
      "text/plain": [
       "55.15313156433045"
      ]
     },
     "execution_count": 10,
     "metadata": {},
     "output_type": "execute_result"
    }
   ],
   "source": [
    "angle(9,14.6,12)"
   ]
  },
  {
   "cell_type": "markdown",
   "metadata": {},
   "source": [
    "Check the results:"
   ]
  },
  {
   "cell_type": "code",
   "execution_count": 11,
   "metadata": {
    "scrolled": true
   },
   "outputs": [
    {
     "data": {
      "text/plain": [
       "179.98"
      ]
     },
     "execution_count": 11,
     "metadata": {},
     "output_type": "execute_result"
    }
   ],
   "source": [
    "55.15+37.98+86.85"
   ]
  },
  {
   "cell_type": "markdown",
   "metadata": {},
   "source": [
    "## Unit circle"
   ]
  },
  {
   "cell_type": "markdown",
   "metadata": {},
   "source": [
    "### Radians"
   ]
  },
  {
   "cell_type": "markdown",
   "metadata": {},
   "source": [
    "* $2\\pi$ radians = $360$ degrees.\n",
    "* $\\pi$ radian = $180$ degrees."
   ]
  },
  {
   "cell_type": "markdown",
   "metadata": {},
   "source": [
    "**Radians to Degrees**\n",
    "$$1 \\text{radian} = \\frac{180}{\\pi}\\text{degrees}$$"
   ]
  },
  {
   "cell_type": "code",
   "execution_count": 14,
   "metadata": {
    "collapsed": true
   },
   "outputs": [],
   "source": [
    "def d2r(degree):\n",
    "    return degree * math.pi / 180"
   ]
  },
  {
   "cell_type": "code",
   "execution_count": 13,
   "metadata": {
    "scrolled": true
   },
   "outputs": [
    {
     "data": {
      "text/plain": [
       "3.141592653589793"
      ]
     },
     "execution_count": 13,
     "metadata": {},
     "output_type": "execute_result"
    }
   ],
   "source": [
    "d2r(180)"
   ]
  },
  {
   "cell_type": "code",
   "execution_count": 20,
   "metadata": {},
   "outputs": [
    {
     "name": "stdout",
     "output_type": "stream",
     "text": [
      "0.25π\n"
     ]
    }
   ],
   "source": [
    "print(str(d2r(45) / math.pi) + 'π');"
   ]
  },
  {
   "cell_type": "markdown",
   "metadata": {},
   "source": [
    "**Degrees to Radians**\n",
    "$$\\frac{\\pi}{180}\\text{radians}=1\\text{degree}$$"
   ]
  },
  {
   "cell_type": "code",
   "execution_count": 15,
   "metadata": {
    "collapsed": true
   },
   "outputs": [],
   "source": [
    "def r2d(rad):\n",
    "    return rad / math.pi * 180"
   ]
  },
  {
   "cell_type": "code",
   "execution_count": 16,
   "metadata": {
    "scrolled": true
   },
   "outputs": [
    {
     "data": {
      "text/plain": [
       "180.0"
      ]
     },
     "execution_count": 16,
     "metadata": {},
     "output_type": "execute_result"
    }
   ],
   "source": [
    "r2d(math.pi)"
   ]
  },
  {
   "attachments": {
    "UnitCircle_TrigFunctions.PNG": {
     "image/png": "[encoded data removed]"
    }
   },
   "cell_type": "markdown",
   "metadata": {},
   "source": [
    "**Unit circle**\n",
    "![UnitCircle_TrigFunctions.PNG](attachment:UnitCircle_TrigFunctions.PNG)"
   ]
  },
  {
   "cell_type": "code",
   "execution_count": null,
   "metadata": {
    "collapsed": true
   },
   "outputs": [],
   "source": []
  }
 ],
 "metadata": {
  "kernelspec": {
   "display_name": "Python 3",
   "language": "python",
   "name": "python3"
  },
  "language_info": {
   "codemirror_mode": {
    "name": "ipython",
    "version": 3
   },
   "file_extension": ".py",
   "mimetype": "text/x-python",
   "name": "python",
   "nbconvert_exporter": "python",
   "pygments_lexer": "ipython3",
   "version": "3.5.2"
  }
 },
 "nbformat": 4,
 "nbformat_minor": 2
}
