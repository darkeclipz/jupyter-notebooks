{
 "cells": [
  {
   "cell_type": "code",
   "execution_count": 1,
   "metadata": {},
   "outputs": [
    {
     "data": {
      "text/html": [
       "<link href=\"https://fonts.googleapis.com/css?family=Open+Sans\" rel=\"stylesheet\">\n",
       "<style>#notebook-container{font-size: 13pt;font-family:'Open Sans', sans-serif;} div.text_cell{max-width: 104ex;}</style>"
      ],
      "text/plain": [
       "<IPython.core.display.HTML object>"
      ]
     },
     "metadata": {},
     "output_type": "display_data"
    }
   ],
   "source": [
    "%%html \n",
    "<link href=\"https://fonts.googleapis.com/css?family=Open+Sans\" rel=\"stylesheet\">\n",
    "<style>#notebook-container{font-size: 13pt;font-family:'Open Sans', sans-serif;} div.text_cell{max-width: 104ex;}</style>"
   ]
  },
  {
   "cell_type": "code",
   "execution_count": 2,
   "metadata": {
    "scrolled": true
   },
   "outputs": [
    {
     "name": "stdout",
     "output_type": "stream",
     "text": [
      "Populating the interactive namespace from numpy and matplotlib\n"
     ]
    }
   ],
   "source": [
    "%pylab inline"
   ]
  },
  {
   "cell_type": "markdown",
   "metadata": {},
   "source": [
    "# 2D Rendering"
   ]
  },
  {
   "cell_type": "markdown",
   "metadata": {},
   "source": [
    "To render in 2D we will be using vectors with $(x, y)$ coordinates. We will then explore matrices and linear transformations."
   ]
  },
  {
   "cell_type": "markdown",
   "metadata": {},
   "source": [
    "![img](https://taylorpetrick.com/images/blog/2d-ray-tracing/light-trace.png)"
   ]
  },
  {
   "cell_type": "markdown",
   "metadata": {},
   "source": [
    "## Python Image Library"
   ]
  },
  {
   "cell_type": "code",
   "execution_count": 3,
   "metadata": {},
   "outputs": [],
   "source": [
    "from PIL import *"
   ]
  },
  {
   "cell_type": "markdown",
   "metadata": {},
   "source": [
    "We have a pixel grid with $(x,y)$ coordinates that is initiated with a width $w$ and a height $h$. The coordinate $(0,0)$ is in the top-left corner. We want to correct this and have our coordinate system start in the bottom-left corner.\n",
    "\n",
    "We want additional functions to help with drawing shapes:\n",
    "\n",
    " * Drawing a point\n",
    " * Drawing a rectangle between two points\n",
    " * Drawing a line between two points\n",
    "     * This is first done with a simple line $y=mx+b$ and then calculate the $y$ values for that particular range.\n",
    "     * There is a better algorithm, named the Bresenham algorithm (https://en.wikipedia.org/wiki/Bresenham%27s_line_algorithm) that should be implemented later. Hey, it's later, and implemented.\n",
    " * Drawing a circle\n",
    " * Filling a triangle"
   ]
  },
  {
   "cell_type": "code",
   "execution_count": 4,
   "metadata": {},
   "outputs": [],
   "source": [
    "class Drawing():\n",
    "    def __init__(self, w, h, bg_color = 'black'):\n",
    "        self.width = w\n",
    "        self.height = h\n",
    "        self.img = Image.new('RGB', (w, h), bg_color)\n",
    "        self.color = (255, 255, 255)\n",
    "        self.pixels = self.img.load()\n",
    "    \n",
    "    def SetColor(self, r, g, b):\n",
    "        self.color = (r, g, b)\n",
    "    \n",
    "    def SetPixel(self, x, y):\n",
    "        # Clip any attempts at drawings outside of the range.\n",
    "        if x < 0 or x > self.width - 1 or y < 0 or y > self.height - 1: return\n",
    "        # Swap the y-values because the top left is (0,0).\n",
    "        self.pixels[x, self.height-y-1] = self.color\n",
    "        \n",
    "    def DrawPoint(self, x, y, size = 1):\n",
    "        if size < 1: raise ValueError('Parameter \\'size\\' must be positive.'); return;\n",
    "        if size == 1: self.SetPixel(x, y); return;\n",
    "        half = size / 2\n",
    "        for i in range(size): \n",
    "            for j in range(size): \n",
    "                self.SetPixel(x-half+i+1, y-half+j+1)\n",
    "                \n",
    "    def DrawRectangle(self, x1, y1, x2, y2):\n",
    "        if x1 > x2: raise ValueError('x1 > x2'); return;\n",
    "        if y1 > y2: raise ValueError('y1 > y2'); return;\n",
    "        for i in range(x2 - x1):\n",
    "            for j in range(y2 - y1):\n",
    "                self.SetPixel(x1 + i, y1 + j)\n",
    "    \n",
    "    \"\"\" Simple line drawing algorithm \"\"\"\n",
    "    def DrawLine(self, x1, y1, x2, y2):\n",
    "        # Is x1 the closest point on the x-axis?\n",
    "        if x1 > x2:\n",
    "            # No, so we swap the points\n",
    "            tx = x1; x1 = x2; x2 = tx;\n",
    "            ty = y1; y1 = y2; y2 = ty;\n",
    "        # Check if the slope is not zero\n",
    "        if x2 - x1 == 0:\n",
    "            # If it is zero, draw a vertical line\n",
    "            ymin = min(y1,y2)\n",
    "            ymax = max(y1,y2)\n",
    "            for i in (range(math.ceil(ymax-ymin))):\n",
    "                self.SetPixel(x1, i+ymin)\n",
    "            return\n",
    "        # Draw line\n",
    "        m = (y2 - y1) / (x2 - x1)\n",
    "        r = x2 - x1\n",
    "        for i in range(math.ceil(r)):\n",
    "            x = x1 + i\n",
    "            y = m * (x - x1) + y1\n",
    "            self.SetPixel(round(x), round(y))\n",
    "    \n",
    "    \"\"\" Drawing a line with the Bresenham algorithm \"\"\"\n",
    "    def DrawBLine(self, x1, y1, x2, y2):\n",
    "        if abs(y2 - y1) < abs(x2 - x1):\n",
    "            if x1 > x2:\n",
    "                self.DrawBLineLow(int(x2), int(y2), int(x1), int(y1))\n",
    "            else:\n",
    "                self.DrawBLineLow(int(x1), int(y1), int(x2), int(y2))\n",
    "        else:\n",
    "            if y1 > y2:\n",
    "                self.DrawBLineHigh(int(x2), int(y2), int(x1), int(y1))\n",
    "            else:\n",
    "                self.DrawBLineHigh(int(x1), int(y1), int(x2), int(y2))\n",
    "    \n",
    "    \"\"\" Drawing the BLine segment on a negative gradient \"\"\"\n",
    "    def DrawBLineLow(self, x1, y1, x2, y2):\n",
    "        dx = x2 - x1\n",
    "        dy = y2 - y1\n",
    "        yi = 1\n",
    "        if dy < 0:\n",
    "            yi = -1\n",
    "            dy = -dy\n",
    "        D = 2*dy - dx\n",
    "        y = y1\n",
    "        for x in range(math.ceil(x2-x1)):\n",
    "            self.SetPixel(round(x1 + x), round(y))\n",
    "            if D > 0:\n",
    "                y = y + yi\n",
    "                D = D - 2*dx\n",
    "            D = D + 2*dy\n",
    "            \n",
    "    \"\"\" Drawing the BLine segment on a positive gradient \"\"\"\n",
    "    def DrawBLineHigh(self, x1, y1, x2, y2):\n",
    "        dx = x2 - x1\n",
    "        dy = y2 - y1\n",
    "        xi = 1\n",
    "        if dx < 0:\n",
    "            xi = -1\n",
    "            dx = -dx\n",
    "        D = 2*dx - dy\n",
    "        x = x1\n",
    "        for y in range(math.ceil(y2-y1)):\n",
    "            self.SetPixel(x, y1 + y)\n",
    "            if D > 0:\n",
    "                x = x + xi\n",
    "                D = D - 2*dy\n",
    "            D = D + 2*dx\n",
    "            \n",
    "    def DrawCircle(self, px, py, r):\n",
    "        n = 50\n",
    "        theta = 2*pi/n\n",
    "        coords = []\n",
    "        # Figure out some the points on the circle.\n",
    "        for i in range(n):\n",
    "            x = r * cos(i * theta) + px\n",
    "            y = r * sin(i * theta) + py\n",
    "            coords.append((x, y))\n",
    "        # Connect all the points.\n",
    "        for i in range(1, len(coords)):\n",
    "            self.DrawBLine(coords[i-1][0], coords[i-1][1], coords[i][0], coords[i][1])\n",
    "        # Connect the first and last point.\n",
    "        self.DrawBLine(coords[0][0], coords[0][1], coords[n-1][0], coords[n-1][1])"
   ]
  },
  {
   "cell_type": "markdown",
   "metadata": {},
   "source": [
    "Let's test the drawing class."
   ]
  },
  {
   "cell_type": "code",
   "execution_count": 5,
   "metadata": {},
   "outputs": [
    {
     "data": {
      "image/png": "[encoded data removed]",
      "text/plain": [
       "<PIL.Image.Image image mode=RGB size=300x200 at 0x1F151E65B38>"
      ]
     },
     "execution_count": 5,
     "metadata": {},
     "output_type": "execute_result"
    }
   ],
   "source": [
    "drawing01 = Drawing(300, 200)\n",
    "drawing01.DrawPoint(25, 25, 3)\n",
    "drawing01.SetColor(255, 0, 0)\n",
    "drawing01.DrawPoint(25, 25)\n",
    "drawing01.DrawPoint(100, 100, 20)\n",
    "drawing01.SetColor(0, 255, 0)\n",
    "drawing01.DrawRectangle(50, 50, 60, 80)\n",
    "drawing01.SetColor(0, 0, 255)\n",
    "drawing01.DrawLine(10, 10, 290, 190)\n",
    "drawing01.SetColor(0, 255, 255)\n",
    "drawing01.DrawBLine(10, 190, 290, 10)\n",
    "drawing01.SetColor(0, 255, 0)\n",
    "drawing01.DrawLine(40, 10, 240, 30)\n",
    "drawing01.DrawBLine(40, 15, 240, 35)\n",
    "drawing01.DrawBLine(265, 160, 275, 30)\n",
    "drawing01.SetColor(255, 0, 0)\n",
    "drawing01.DrawLine(260, 160, 270, 30)\n",
    "drawing01.DrawCircle(150, 100, 30)\n",
    "drawing01.img"
   ]
  },
  {
   "cell_type": "markdown",
   "metadata": {},
   "source": [
    "Now we can create simple drawings. Let's continue to the math."
   ]
  },
  {
   "cell_type": "markdown",
   "metadata": {},
   "source": [
    "## Transformations"
   ]
  },
  {
   "cell_type": "markdown",
   "metadata": {},
   "source": [
    "We will have a list of vertices $V$ which gives all the points for the object. Those are then scaled, rotated, and translated. We create a homogeneous coordinate that we need for the $3\\times3$ matrix multiplication. This simply means there is a $w$ element, which is used for translations. So each vertex is represented as:\n",
    "\n",
    "$$\\vec{v} = \\begin{bmatrix}x\\\\y\\\\w=1\\end{bmatrix}$$"
   ]
  },
  {
   "cell_type": "markdown",
   "metadata": {},
   "source": [
    "### Cube"
   ]
  },
  {
   "cell_type": "markdown",
   "metadata": {},
   "source": [
    "We create a normalized unit cube, which we can scale, then rotate, and finally translate. Note the order, this is important."
   ]
  },
  {
   "cell_type": "code",
   "execution_count": 6,
   "metadata": {},
   "outputs": [
    {
     "data": {
      "text/plain": [
       "[array([-1, -1,  1]),\n",
       " array([-1,  1,  1]),\n",
       " array([ 1, -1,  1]),\n",
       " array([1, 1, 1])]"
      ]
     },
     "execution_count": 6,
     "metadata": {},
     "output_type": "execute_result"
    }
   ],
   "source": [
    "cube_vertices = []\n",
    "\n",
    "for x in [-1, 1]: \n",
    "    for y in [-1, 1]: \n",
    "        cube_vertices.append(np.array([x, y, 1]))\n",
    "        \n",
    "cube_vertices"
   ]
  },
  {
   "cell_type": "markdown",
   "metadata": {},
   "source": [
    "### Scaling"
   ]
  },
  {
   "cell_type": "markdown",
   "metadata": {},
   "source": [
    "To scale the homogenous coordinate of the vertex $v$ we multiply it with a scaling matrix. This will set the width $w$ and the height $h$."
   ]
  },
  {
   "cell_type": "markdown",
   "metadata": {},
   "source": [
    "$$ M_{s} = \\begin{bmatrix}w & 0 & 0 \\\\ 0 & h & 0 \\\\ 0 & 0 & 1\\end{bmatrix} $$"
   ]
  },
  {
   "cell_type": "code",
   "execution_count": 7,
   "metadata": {},
   "outputs": [
    {
     "data": {
      "text/plain": [
       "array([[ 20.,   0.,   0.],\n",
       "       [  0.,  20.,   0.],\n",
       "       [  0.,   0.,   1.]])"
      ]
     },
     "execution_count": 7,
     "metadata": {},
     "output_type": "execute_result"
    }
   ],
   "source": [
    "scaleMatrix = np.identity(3)\n",
    "scaleMatrix[0,0] = 20\n",
    "scaleMatrix[1,1] = 20\n",
    "scaleMatrix"
   ]
  },
  {
   "cell_type": "code",
   "execution_count": 8,
   "metadata": {},
   "outputs": [],
   "source": [
    "def create_scaling_matrix(w, h):\n",
    "    scaleMatrix[0,0] = w\n",
    "    scaleMatrix[1,1] = h\n",
    "    return scaleMatrix    "
   ]
  },
  {
   "cell_type": "markdown",
   "metadata": {},
   "source": [
    "### Rotation"
   ]
  },
  {
   "cell_type": "markdown",
   "metadata": {},
   "source": [
    "To rotate the homogenous coordinate of the vector we use a rotation matrix."
   ]
  },
  {
   "cell_type": "markdown",
   "metadata": {},
   "source": [
    "$$ M_{r} = \\begin{bmatrix}\\cos\\theta & -\\sin\\theta & 0 \\\\ \\sin\\theta & \\cos\\theta & 0 \\\\ 0 & 0 & 1\\end{bmatrix} $$"
   ]
  },
  {
   "cell_type": "code",
   "execution_count": 9,
   "metadata": {},
   "outputs": [],
   "source": [
    "def create_rotation_matrix(angle):\n",
    "    m = np.zeros([3,3])\n",
    "    m[0, 0] = cos(angle)\n",
    "    m[0, 1] = -sin(angle)\n",
    "    m[1, 0] = sin(angle)\n",
    "    m[1, 1] = cos(angle)\n",
    "    m[2, 2] = 1\n",
    "    return m\n",
    "    \n",
    "rotationMatrix = create_rotation_matrix(0)"
   ]
  },
  {
   "cell_type": "code",
   "execution_count": 10,
   "metadata": {},
   "outputs": [
    {
     "data": {
      "text/plain": [
       "array([[ 1., -0.,  0.],\n",
       "       [ 0.,  1.,  0.],\n",
       "       [ 0.,  0.,  1.]])"
      ]
     },
     "execution_count": 10,
     "metadata": {},
     "output_type": "execute_result"
    }
   ],
   "source": [
    "rotationMatrix"
   ]
  },
  {
   "cell_type": "markdown",
   "metadata": {},
   "source": [
    "### Translation"
   ]
  },
  {
   "cell_type": "markdown",
   "metadata": {},
   "source": [
    "To move the homogeneous coordinate of the vertex we use the extra column in our matrix.\n",
    "\n",
    "$$ M_{t} = \\begin{bmatrix}1 & 0 & 0 \\\\ 0 & 1 & 0 \\\\ x & y & 1\\end{bmatrix} $$\n",
    "\n",
    "Because $w=1$ in the coordinate $[x,y,w=1]$, this matrix will add the $x$ and $y$ positions."
   ]
  },
  {
   "cell_type": "code",
   "execution_count": 11,
   "metadata": {
    "scrolled": true
   },
   "outputs": [
    {
     "data": {
      "text/plain": [
       "array([[   1.,    0.,    0.],\n",
       "       [   0.,    1.,    0.],\n",
       "       [ 100.,  100.,    1.]])"
      ]
     },
     "execution_count": 11,
     "metadata": {},
     "output_type": "execute_result"
    }
   ],
   "source": [
    "translationMatrix = np.identity(3)\n",
    "translationMatrix[2,0] = 100\n",
    "translationMatrix[2,1] = 100\n",
    "translationMatrix"
   ]
  },
  {
   "cell_type": "code",
   "execution_count": 12,
   "metadata": {},
   "outputs": [],
   "source": [
    "def create_translation_matrix(x, y):\n",
    "    translationMatrix = np.identity(3)\n",
    "    translationMatrix[2,0] = x\n",
    "    translationMatrix[2,1] = y\n",
    "    return translationMatrix"
   ]
  },
  {
   "cell_type": "markdown",
   "metadata": {},
   "source": [
    "### Applying all the transformations"
   ]
  },
  {
   "cell_type": "code",
   "execution_count": 13,
   "metadata": {},
   "outputs": [
    {
     "data": {
      "text/plain": [
       "array([[  20.,    0.,    0.],\n",
       "       [   0.,   20.,    0.],\n",
       "       [ 100.,  100.,    1.]])"
      ]
     },
     "execution_count": 13,
     "metadata": {},
     "output_type": "execute_result"
    }
   ],
   "source": [
    "M = np.dot(scaleMatrix, rotationMatrix)\n",
    "np.dot(M, translationMatrix)"
   ]
  },
  {
   "cell_type": "markdown",
   "metadata": {},
   "source": [
    "To get the transformed coordinates we multiply it with all the matrices.\n",
    "\n",
    "$$\\vec{v_t} = \\left(M_s \\cdot M_r \\cdot M_t\\right) \\cdot \\vec{v}$$"
   ]
  },
  {
   "cell_type": "code",
   "execution_count": 14,
   "metadata": {},
   "outputs": [
    {
     "data": {
      "image/png": "[encoded data removed]",
      "text/plain": [
       "<PIL.Image.Image image mode=RGB size=400x300 at 0x1F141EC35F8>"
      ]
     },
     "execution_count": 14,
     "metadata": {},
     "output_type": "execute_result"
    }
   ],
   "source": [
    "scene = Drawing(400, 300)\n",
    "\n",
    "transformed_vertices = []\n",
    "\n",
    "rotationMatrix = create_rotation_matrix(pi/4)\n",
    "\n",
    "# Multiply all the matrices to get all the transformations.\n",
    "M = np.dot(scaleMatrix, rotationMatrix)\n",
    "transform = np.dot(M, translationMatrix)\n",
    "\n",
    "for vertex in cube_vertices:\n",
    "    # Apply transformations to vertex\n",
    "    translatedVertex = np.dot(transform.T, vertex)\n",
    "    transformed_vertices.append(translatedVertex)\n",
    "    \n",
    "for i in range(len(transformed_vertices)):\n",
    "    n = len(transformed_vertices)\n",
    "    x = transformed_vertices[i][0]\n",
    "    y = transformed_vertices[i][1]\n",
    "    scene.SetColor(255,0,0)\n",
    "    scene.DrawPoint(x, y, 3)\n",
    "    \n",
    "scene.img"
   ]
  },
  {
   "cell_type": "markdown",
   "metadata": {},
   "source": [
    "## Meshes"
   ]
  },
  {
   "cell_type": "markdown",
   "metadata": {},
   "source": [
    "An object consists of multiple vertices. To move them all around at once, we represent them as a mesh. The mesh will have a position, scale, and rotation. This will be applied to all the vertices with the transformation matrices."
   ]
  },
  {
   "cell_type": "code",
   "execution_count": 15,
   "metadata": {},
   "outputs": [],
   "source": [
    "class Mesh():\n",
    "    def __init__(self, name):\n",
    "        self.name = name\n",
    "        self.vertices = []\n",
    "        self.edges = []\n",
    "        self.position = np.zeros([1,2])\n",
    "        self.scale = 1\n",
    "        self.rotation = 0\n",
    "        \n",
    "def create_cube(name, x, y, scale, rotation):\n",
    "    mesh = Mesh(name)\n",
    "    mesh.vertices.append(np.array([-1,  1]))\n",
    "    mesh.vertices.append(np.array([ 1,  1]))\n",
    "    mesh.vertices.append(np.array([ 1, -1]))\n",
    "    mesh.vertices.append(np.array([-1, -1]))\n",
    "    mesh.edges.append([3,0])\n",
    "    mesh.edges.append([0,1])\n",
    "    mesh.edges.append([1,2])\n",
    "    mesh.edges.append([2,3])\n",
    "    mesh.position = np.array([x,y])\n",
    "    mesh.scale = scale\n",
    "    mesh.rotation = rotation\n",
    "    return mesh"
   ]
  },
  {
   "cell_type": "code",
   "execution_count": 16,
   "metadata": {},
   "outputs": [],
   "source": [
    "def draw_meshes(meshes, w, h):\n",
    "    scene = Drawing(w, h)\n",
    "    scene.SetColor(255, 0, 0)\n",
    "\n",
    "    for mesh in meshes:\n",
    "        scaleMatrix = create_scaling_matrix(mesh.scale, mesh.scale)\n",
    "        rotationMatrix = create_rotation_matrix(mesh.rotation)\n",
    "        translationMatrix = create_translation_matrix(mesh.position[0], mesh.position[1])\n",
    "        translatedVertices = []\n",
    "        scene.SetColor(255, 0, 0)\n",
    "        for vertex in mesh.vertices:\n",
    "            scaledVertex = np.dot(scaleMatrix.T, np.array([vertex[0], vertex[1], 1]))\n",
    "            rotatedVertex = np.dot(rotationMatrix.T, scaledVertex)\n",
    "            translatedVertex = np.dot(translationMatrix.T, rotatedVertex)\n",
    "            translatedVertices.append(translatedVertex)\n",
    "            scene.DrawPoint(translatedVertex[0], translatedVertex[1], 2)\n",
    "        scene.SetColor(100, 100, 100)\n",
    "        for (a,b) in mesh.edges:\n",
    "            scene.DrawBLine(translatedVertices[a][0], translatedVertices[a][1], translatedVertices[b][0], translatedVertices[b][1])\n",
    "    \n",
    "    return scene.img"
   ]
  },
  {
   "cell_type": "markdown",
   "metadata": {},
   "source": [
    "### Scaling & translation"
   ]
  },
  {
   "cell_type": "code",
   "execution_count": 17,
   "metadata": {
    "scrolled": true
   },
   "outputs": [
    {
     "data": {
      "image/png": "[encoded data removed]",
      "text/plain": [
       "<PIL.Image.Image image mode=RGB size=565x200 at 0x1F151EF6160>"
      ]
     },
     "execution_count": 17,
     "metadata": {},
     "output_type": "execute_result"
    }
   ],
   "source": [
    "meshes = []\n",
    "\n",
    "for i in range(4):\n",
    "    meshes.append(create_cube('sqr_{}'.format(i), 100 * (i + 1) + 20 + (2*i), 100, 20 + (5*i), 0))\n",
    "    \n",
    "draw_meshes(meshes, 565, 200)"
   ]
  },
  {
   "cell_type": "markdown",
   "metadata": {},
   "source": [
    "### Rotation"
   ]
  },
  {
   "cell_type": "code",
   "execution_count": 18,
   "metadata": {
    "scrolled": true
   },
   "outputs": [
    {
     "data": {
      "image/png": "[encoded data removed]",
      "text/plain": [
       "<PIL.Image.Image image mode=RGB size=700x200 at 0x1F151EF5588>"
      ]
     },
     "execution_count": 18,
     "metadata": {},
     "output_type": "execute_result"
    }
   ],
   "source": [
    "meshes = []\n",
    "\n",
    "for i in range(6):\n",
    "    meshes.append(create_cube('sqr_{}'.format(i), 100 * (i + 1), 100, 20, i*pi/10))\n",
    "    \n",
    "draw_meshes(meshes, 700, 200)"
   ]
  },
  {
   "cell_type": "markdown",
   "metadata": {},
   "source": [
    "## Geometry"
   ]
  },
  {
   "cell_type": "markdown",
   "metadata": {},
   "source": [
    "Now let's go onto another route. With geometry we can trace out rays from a point and see if they hit anything in the scene. We will first create a point with coordinates $(p_x, p_y)$."
   ]
  },
  {
   "cell_type": "code",
   "execution_count": 19,
   "metadata": {},
   "outputs": [],
   "source": [
    "# Coordinates of our point (px, py)\n",
    "px = py = 100"
   ]
  },
  {
   "cell_type": "markdown",
   "metadata": {},
   "source": [
    "We also create a circle with coordinates $(c_x, c_y)$ and a radius $c_r$."
   ]
  },
  {
   "cell_type": "code",
   "execution_count": 20,
   "metadata": {},
   "outputs": [],
   "source": [
    "# Coordinates and radius of our circle (cx, cy, cr)\n",
    "cx = 500\n",
    "cy = 100\n",
    "cr = 50"
   ]
  },
  {
   "cell_type": "code",
   "execution_count": 21,
   "metadata": {
    "scrolled": true
   },
   "outputs": [
    {
     "data": {
      "image/png": "[encoded data removed]",
      "text/plain": [
       "<PIL.Image.Image image mode=RGB size=600x200 at 0x1F151E251D0>"
      ]
     },
     "execution_count": 21,
     "metadata": {},
     "output_type": "execute_result"
    }
   ],
   "source": [
    "scene = Drawing(600, 200)\n",
    "scene.DrawPoint(px, py, 5)\n",
    "scene.DrawCircle(cx, cy, cr)\n",
    "scene.DrawPoint(cx, cy, 2)\n",
    "scene.img"
   ]
  },
  {
   "cell_type": "markdown",
   "metadata": {},
   "source": [
    "Now we place a line with two points in front of the point, obstructing the view of the circle. The coordinates for the two points that represent the lines are: $A=(a_x, a_y), B=(b_x, b_y)$."
   ]
  },
  {
   "cell_type": "code",
   "execution_count": 22,
   "metadata": {},
   "outputs": [
    {
     "data": {
      "image/png": "[encoded data removed]",
      "text/plain": [
       "<PIL.Image.Image image mode=RGB size=600x200 at 0x1F151E251D0>"
      ]
     },
     "execution_count": 22,
     "metadata": {},
     "output_type": "execute_result"
    }
   ],
   "source": [
    "scene.SetColor(100, 100, 100)\n",
    "ax = 150\n",
    "ay = 125\n",
    "bx = 150\n",
    "by = 75\n",
    "scene.DrawBLine(ax, ay, bx, by)\n",
    "scene.img"
   ]
  },
  {
   "cell_type": "markdown",
   "metadata": {},
   "source": [
    "Now we grab a point $Q$ on our line, and draw a line from $P$ to $Q$."
   ]
  },
  {
   "cell_type": "code",
   "execution_count": 23,
   "metadata": {},
   "outputs": [],
   "source": [
    "qx = ax\n",
    "qy = by + 3 * (ay - by) / 5"
   ]
  },
  {
   "cell_type": "code",
   "execution_count": 24,
   "metadata": {},
   "outputs": [
    {
     "data": {
      "image/png": "[encoded data removed]",
      "text/plain": [
       "<PIL.Image.Image image mode=RGB size=600x200 at 0x1F151E251D0>"
      ]
     },
     "execution_count": 24,
     "metadata": {},
     "output_type": "execute_result"
    }
   ],
   "source": [
    "scene.SetColor(255, 0, 0)\n",
    "scene.DrawPoint(qx, qy, 3)\n",
    "scene.DrawBLine(px, py, qx, qy)\n",
    "scene.img"
   ]
  },
  {
   "cell_type": "markdown",
   "metadata": {},
   "source": [
    "Now we can get the formula for the line $l$, and find the $y$ on the right end of the screen.\n",
    "\n",
    "$$y=\\frac{\\Delta y}{\\Delta x}(x-p_x)+p_y$$"
   ]
  },
  {
   "cell_type": "code",
   "execution_count": 25,
   "metadata": {},
   "outputs": [],
   "source": [
    "lm = (qy - py) / (qx - px)\n",
    "ly = lm * (600 - px) + py"
   ]
  },
  {
   "cell_type": "code",
   "execution_count": 26,
   "metadata": {},
   "outputs": [
    {
     "data": {
      "image/png": "[encoded data removed]",
      "text/plain": [
       "<PIL.Image.Image image mode=RGB size=600x200 at 0x1F151E251D0>"
      ]
     },
     "execution_count": 26,
     "metadata": {},
     "output_type": "execute_result"
    }
   ],
   "source": [
    "scene.DrawPoint(600-2, ly, 4)\n",
    "scene.SetColor(255, 150, 150)\n",
    "scene.DrawLine(qx, qy, 600, ly)\n",
    "scene.img"
   ]
  },
  {
   "cell_type": "markdown",
   "metadata": {},
   "source": [
    "We can see that we intersect the circle twice, but we need to actually check this mathematically. To do this we will draw a line $k$ that is perpedicular to $l$ and through the center of the circle. Then we check if the distance between the line and the point is smaller than the radius of the circle, if so we have hit it.\n",
    "\n",
    "To get the slope of line $k$ we take the normal of $l$ which means that $k\\perp l$. This is done with with:\n",
    "\n",
    "$$k = \\dfrac{\\Delta y}{\\Delta x} \\xrightarrow{\\text{normal}} k_n = -\\dfrac{\\Delta x}{\\Delta y}$$"
   ]
  },
  {
   "cell_type": "code",
   "execution_count": 27,
   "metadata": {},
   "outputs": [
    {
     "data": {
      "text/plain": [
       "-10.0"
      ]
     },
     "execution_count": 27,
     "metadata": {},
     "output_type": "execute_result"
    }
   ],
   "source": [
    "km = -(qx - px) / (qy - py)\n",
    "km"
   ]
  },
  {
   "cell_type": "markdown",
   "metadata": {},
   "source": [
    "If we use the slope $k$ and simply add our point $c_x, c_y$ we have a line that is perpendicular to $l$ and goes through the circle. Now to find the top point $R$ in the image (where $y=200$, because the height is $200$) we simply solve for $x$ with a gives $y$:\n",
    "\n",
    "$$ \\begin{align} y &= k_m(x - c_x) + c_y \\\\ k_m\\cdot x &= k_m\\cdot c_x - c_y + y \\\\ x &= \\dfrac{k_m\\cdot c_x - c_y + y}{k_m}\\end{align}$$"
   ]
  },
  {
   "cell_type": "markdown",
   "metadata": {},
   "source": [
    "To draw a line in the image we need to find the $x$ value that corresponds to the $y$ values that is the top of our screen. We can figure this out with the equation above and setting $y=200$."
   ]
  },
  {
   "cell_type": "code",
   "execution_count": 28,
   "metadata": {},
   "outputs": [
    {
     "data": {
      "text/plain": [
       "(490.0, 200)"
      ]
     },
     "execution_count": 28,
     "metadata": {},
     "output_type": "execute_result"
    }
   ],
   "source": [
    "ry = 200\n",
    "rx = (km * cx - cy + ry) / km\n",
    "rx, ry"
   ]
  },
  {
   "cell_type": "code",
   "execution_count": 29,
   "metadata": {},
   "outputs": [
    {
     "data": {
      "image/png": "[encoded data removed]",
      "text/plain": [
       "<PIL.Image.Image image mode=RGB size=600x200 at 0x1F151E251D0>"
      ]
     },
     "execution_count": 29,
     "metadata": {},
     "output_type": "execute_result"
    }
   ],
   "source": [
    "scene.DrawPoint(rx, ry-1, 2)\n",
    "scene.img"
   ]
  },
  {
   "cell_type": "markdown",
   "metadata": {},
   "source": [
    "For the bottom point we use the same formula and set $y=0$."
   ]
  },
  {
   "cell_type": "code",
   "execution_count": 30,
   "metadata": {},
   "outputs": [
    {
     "data": {
      "text/plain": [
       "(510.0, 0)"
      ]
     },
     "execution_count": 30,
     "metadata": {},
     "output_type": "execute_result"
    }
   ],
   "source": [
    "qy = 0\n",
    "qx = (km * cx - cy + qy) / km\n",
    "qx, qy"
   ]
  },
  {
   "cell_type": "markdown",
   "metadata": {},
   "source": [
    "And finally draw a line between them."
   ]
  },
  {
   "cell_type": "code",
   "execution_count": 31,
   "metadata": {},
   "outputs": [
    {
     "data": {
      "image/png": "[encoded data removed]",
      "text/plain": [
       "<PIL.Image.Image image mode=RGB size=600x200 at 0x1F151E251D0>"
      ]
     },
     "execution_count": 31,
     "metadata": {},
     "output_type": "execute_result"
    }
   ],
   "source": [
    "scene.SetColor(255, 200, 200)\n",
    "scene.DrawPoint(qx, qy, 2)\n",
    "scene.DrawBLine(rx, ry, qx, qy)\n",
    "scene.img"
   ]
  },
  {
   "cell_type": "markdown",
   "metadata": {},
   "source": [
    "We can see that the line $k$ we drawn is perpendicular to $l$ and goes through $C$. Now we need to figure out point $I$ where the line $l$ and $k$ intersect. We simply put $l=k$ and solve for $x$.\n",
    "\n",
    "$$\\begin{align} l &= k \\\\ l_m(x-p_x)+p_y &= k_m(x-q_x)+q_y \\\\ l_m\\cdot x-l_m \\cdot p_x + p_y &= k_m\\cdot x - k_m - k_m\\cdot q_x + q_y \\\\ l_m\\cdot x - k_m \\cdot x &= l_m\\cdot p_x - p_y - k_m \\cdot q_x + q_y \\end{align}$$\n",
    "\n",
    "Now we factor out $x$ on the left side, and divide by $l_m - k_m$ to isolate $x$.\n",
    "\n",
    "$$x = \\dfrac{l_m \\cdot p_x - p_y - k_m \\cdot q_x + q_y}{l_m - k_m}$$\n",
    "\n",
    "We can now use this formula to get the $x$ value where the two lines intersect."
   ]
  },
  {
   "cell_type": "code",
   "execution_count": 32,
   "metadata": {},
   "outputs": [
    {
     "data": {
      "text/plain": [
       "496.03960396039605"
      ]
     },
     "execution_count": 32,
     "metadata": {},
     "output_type": "execute_result"
    }
   ],
   "source": [
    "ix = (lm * px - py - km * qx + qy) / (lm - km)\n",
    "ix"
   ]
  },
  {
   "cell_type": "markdown",
   "metadata": {},
   "source": [
    "Fill in the $x$ value into any of those lines to get the $y$ value."
   ]
  },
  {
   "cell_type": "code",
   "execution_count": 33,
   "metadata": {},
   "outputs": [
    {
     "data": {
      "text/plain": [
       "139.6039603960396"
      ]
     },
     "execution_count": 33,
     "metadata": {},
     "output_type": "execute_result"
    }
   ],
   "source": [
    "iy = lm * (ix - px) + py\n",
    "iy"
   ]
  },
  {
   "cell_type": "markdown",
   "metadata": {},
   "source": [
    "Finally we connect them with a blue line."
   ]
  },
  {
   "cell_type": "code",
   "execution_count": 34,
   "metadata": {},
   "outputs": [
    {
     "data": {
      "image/png": "[encoded data removed]",
      "text/plain": [
       "<PIL.Image.Image image mode=RGB size=600x200 at 0x1F151E251D0>"
      ]
     },
     "execution_count": 34,
     "metadata": {},
     "output_type": "execute_result"
    }
   ],
   "source": [
    "scene.SetColor(0, 100, 255)\n",
    "scene.DrawPoint(ix, iy, 4)\n",
    "scene.DrawPoint(cx, cy, 4)\n",
    "scene.DrawBLine(ix, iy, cx, cy)\n",
    "scene.img"
   ]
  },
  {
   "cell_type": "markdown",
   "metadata": {},
   "source": [
    "Now we can calculate the length of the blue line with $x=\\sqrt{(c_x-i_x)^2+(c_y-i_y)^2}$."
   ]
  },
  {
   "cell_type": "code",
   "execution_count": 35,
   "metadata": {},
   "outputs": [
    {
     "data": {
      "text/plain": [
       "39.801487608399569"
      ]
     },
     "execution_count": 35,
     "metadata": {},
     "output_type": "execute_result"
    }
   ],
   "source": [
    "length = sqrt((cx - ix)**2 + (cy - iy)**2)\n",
    "length"
   ]
  },
  {
   "cell_type": "markdown",
   "metadata": {},
   "source": [
    "To finally conclude if we hit the circle, we check if this distance is smaller than the radius of the circle."
   ]
  },
  {
   "cell_type": "code",
   "execution_count": 36,
   "metadata": {},
   "outputs": [
    {
     "data": {
      "text/plain": [
       "True"
      ]
     },
     "execution_count": 36,
     "metadata": {},
     "output_type": "execute_result"
    }
   ],
   "source": [
    "length < cr"
   ]
  },
  {
   "cell_type": "markdown",
   "metadata": {},
   "source": [
    "We have hit the circle! Here is an image with annotations of all the points and lines we have so far."
   ]
  },
  {
   "cell_type": "markdown",
   "metadata": {},
   "source": [
    "![img](2d_geometry_1.png)"
   ]
  },
  {
   "cell_type": "markdown",
   "metadata": {},
   "source": [
    "## Vector Geometry"
   ]
  },
  {
   "cell_type": "markdown",
   "metadata": {},
   "source": [
    "To make all the calculations a lot easier we are going to use vector geometry. This will also help us to find out where our line intersect the circle.\n",
    "\n",
    "We are going to recreate the scene but this time we are going to use vectors. Also, we are going to add a few classes that will help us keep track of all our points and lines."
   ]
  },
  {
   "cell_type": "markdown",
   "metadata": {},
   "source": [
    "### Points"
   ]
  },
  {
   "cell_type": "markdown",
   "metadata": {},
   "source": [
    "A point is a row vector $[x, y]$."
   ]
  },
  {
   "cell_type": "code",
   "execution_count": 37,
   "metadata": {},
   "outputs": [],
   "source": [
    "def create_point(x, y):\n",
    "    return np.array([x, y])"
   ]
  },
  {
   "cell_type": "code",
   "execution_count": 38,
   "metadata": {},
   "outputs": [],
   "source": [
    "def distance(p, q):\n",
    "    return sqrt((q[0] - p[0])**2 + (q[1] - p[1])**2)"
   ]
  },
  {
   "cell_type": "code",
   "execution_count": 39,
   "metadata": {},
   "outputs": [],
   "source": [
    "def normal(v):\n",
    "    return np.array([v[1], -v[0]])"
   ]
  },
  {
   "cell_type": "markdown",
   "metadata": {},
   "source": [
    "### Lines"
   ]
  },
  {
   "cell_type": "markdown",
   "metadata": {},
   "source": [
    "A line has a position which is a point, and a direction which is a row vector. Lines are created between two points."
   ]
  },
  {
   "cell_type": "code",
   "execution_count": 40,
   "metadata": {},
   "outputs": [],
   "source": [
    "class Line():\n",
    "    def __init__(self, pos, direction):\n",
    "        self.position = np.array([pos[0], pos[1]])\n",
    "        self.direction = np.array([direction[0], direction[1]])\n",
    "    \n",
    "    def __repr__(self):\n",
    "        return 'Line (position: {}, direction: {})'.format(self.position, self.direction)\n",
    "    \n",
    "    # Find the slope of the line.\n",
    "    def Slope(self):\n",
    "        if self.direction[0] == 0: return 0;\n",
    "        return self.direction[1] / self.direction[0];\n",
    "    \n",
    "    # Find the y value of a point on the line for a given value of x.\n",
    "    def PointY(self, x):\n",
    "        return self.Slope() * (x - self.position[0]) + self.position[1]\n",
    "    \n",
    "    # Find the x value of a point on the line for a given value of y.\n",
    "    def PointX(self, y):\n",
    "        m = self.Slope()\n",
    "        return (y + m * self.position[0] - self.position[1]) / m"
   ]
  },
  {
   "cell_type": "code",
   "execution_count": 41,
   "metadata": {},
   "outputs": [],
   "source": [
    "def create_line(p1, p2):\n",
    "    return Line(p1, p2 - p1)"
   ]
  },
  {
   "cell_type": "markdown",
   "metadata": {},
   "source": [
    "#### Intersection between lines"
   ]
  },
  {
   "cell_type": "markdown",
   "metadata": {},
   "source": [
    "To find where two lines intersect we calculate the intersection and return them as a tuple $(x,y)$."
   ]
  },
  {
   "cell_type": "code",
   "execution_count": 42,
   "metadata": {},
   "outputs": [],
   "source": [
    "def line_intersect(l, k):\n",
    "    lm = l.Slope()\n",
    "    km = k.Slope()\n",
    "    x = (lm * l.position[0] - l.position[1] - km * k.position[0] + k.position[1]) / (lm - km)\n",
    "    return create_point(x, l.PointY(x))"
   ]
  },
  {
   "cell_type": "markdown",
   "metadata": {},
   "source": [
    "### Circles"
   ]
  },
  {
   "cell_type": "markdown",
   "metadata": {},
   "source": [
    "A circle has a position which is a point and a radius $r$ which is a float."
   ]
  },
  {
   "cell_type": "code",
   "execution_count": 43,
   "metadata": {},
   "outputs": [],
   "source": [
    "class Circle():\n",
    "    def __init__(self, pos, radius, color = (255, 255, 255)):\n",
    "        self.position = pos\n",
    "        self.radius = radius\n",
    "        self.color = color\n",
    "        self.diffusion = 1\n",
    "        self.reflection = 1"
   ]
  },
  {
   "cell_type": "code",
   "execution_count": 44,
   "metadata": {},
   "outputs": [],
   "source": [
    "def create_circle(p, r):\n",
    "    return Circle(p, r)"
   ]
  },
  {
   "cell_type": "markdown",
   "metadata": {},
   "source": [
    "### Our scene revisited"
   ]
  },
  {
   "cell_type": "markdown",
   "metadata": {},
   "source": [
    "We will now reconstruct the scene with the classes from above."
   ]
  },
  {
   "cell_type": "code",
   "execution_count": 45,
   "metadata": {},
   "outputs": [
    {
     "data": {
      "text/plain": [
       "(array([100, 100]), array([ 150.,  105.]), array([500, 100]))"
      ]
     },
     "execution_count": 45,
     "metadata": {},
     "output_type": "execute_result"
    }
   ],
   "source": [
    "P = create_point(100, 100)\n",
    "A = create_point(150, 125)\n",
    "B = create_point(150, 75)\n",
    "Q = create_point(A[0], (A[1] + B[1] + 10) / 2)\n",
    "C = create_point(500, 100)\n",
    "circle = create_circle(C, 75)\n",
    "\n",
    "P, Q, C"
   ]
  },
  {
   "cell_type": "code",
   "execution_count": 46,
   "metadata": {},
   "outputs": [],
   "source": [
    "pointWidth = 4\n",
    "scene = Drawing(600, 200)\n",
    "scene.SetColor(0, 0, 255)\n",
    "scene.DrawBLine(P[0], P[1], Q[0], Q[1])\n",
    "scene.SetColor(255,255,255)\n",
    "scene.DrawPoint(P[0], P[1], pointWidth)\n",
    "scene.SetColor(100, 100, 100)\n",
    "scene.DrawBLine(A[0], A[1], B[0], B[1])\n",
    "scene.SetColor(255,255,255)\n",
    "scene.DrawPoint(Q[0], Q[1], pointWidth)\n",
    "scene.DrawPoint(C[0], C[1], pointWidth)\n",
    "scene.DrawCircle(C[0], C[1], circle.radius)"
   ]
  },
  {
   "cell_type": "code",
   "execution_count": 47,
   "metadata": {
    "scrolled": false
   },
   "outputs": [
    {
     "data": {
      "image/png": "[encoded data removed]",
      "text/plain": [
       "<PIL.Image.Image image mode=RGB size=600x200 at 0x1F151EF5CF8>"
      ]
     },
     "execution_count": 47,
     "metadata": {},
     "output_type": "execute_result"
    }
   ],
   "source": [
    "scene.img"
   ]
  },
  {
   "cell_type": "code",
   "execution_count": 48,
   "metadata": {},
   "outputs": [
    {
     "data": {
      "text/plain": [
       "Line (position: [100 100], direction: [ 50.   5.])"
      ]
     },
     "execution_count": 48,
     "metadata": {},
     "output_type": "execute_result"
    }
   ],
   "source": [
    "PQ = create_line(P, Q)\n",
    "PQ"
   ]
  },
  {
   "cell_type": "code",
   "execution_count": 49,
   "metadata": {},
   "outputs": [],
   "source": [
    "scene.SetColor(255, 0, 0)\n",
    "scene.DrawBLine(Q[0], Q[1], 600, PQ.PointY(600))"
   ]
  },
  {
   "cell_type": "code",
   "execution_count": 50,
   "metadata": {
    "scrolled": true
   },
   "outputs": [
    {
     "data": {
      "image/png": "[encoded data removed]",
      "text/plain": [
       "<PIL.Image.Image image mode=RGB size=600x200 at 0x1F151EF5CF8>"
      ]
     },
     "execution_count": 50,
     "metadata": {},
     "output_type": "execute_result"
    }
   ],
   "source": [
    "scene.img"
   ]
  },
  {
   "cell_type": "code",
   "execution_count": 51,
   "metadata": {},
   "outputs": [
    {
     "data": {
      "text/plain": [
       "Line (position: [100 100], direction: [ 50.   5.])"
      ]
     },
     "execution_count": 51,
     "metadata": {},
     "output_type": "execute_result"
    }
   ],
   "source": [
    "PQ"
   ]
  },
  {
   "cell_type": "code",
   "execution_count": 52,
   "metadata": {},
   "outputs": [
    {
     "data": {
      "text/plain": [
       "array([  5., -50.])"
      ]
     },
     "execution_count": 52,
     "metadata": {},
     "output_type": "execute_result"
    }
   ],
   "source": [
    "normal(PQ.direction)"
   ]
  },
  {
   "cell_type": "code",
   "execution_count": 53,
   "metadata": {},
   "outputs": [
    {
     "data": {
      "text/plain": [
       "Line (position: [500 100], direction: [  5. -50.])"
      ]
     },
     "execution_count": 53,
     "metadata": {},
     "output_type": "execute_result"
    }
   ],
   "source": [
    "k = create_line(C, 0)\n",
    "k.direction = normal(PQ.direction)\n",
    "k"
   ]
  },
  {
   "cell_type": "code",
   "execution_count": 54,
   "metadata": {},
   "outputs": [
    {
     "data": {
      "image/png": "[encoded data removed]",
      "text/plain": [
       "<PIL.Image.Image image mode=RGB size=600x200 at 0x1F151EF5CF8>"
      ]
     },
     "execution_count": 54,
     "metadata": {},
     "output_type": "execute_result"
    }
   ],
   "source": [
    "scene.SetColor(100, 100, 100)\n",
    "scene.DrawBLine(k.PointX(200), 200, k.PointX(0), 0)\n",
    "scene.img"
   ]
  },
  {
   "cell_type": "code",
   "execution_count": 55,
   "metadata": {},
   "outputs": [
    {
     "data": {
      "text/plain": [
       "array([ 496.03960396,  139.6039604 ])"
      ]
     },
     "execution_count": 55,
     "metadata": {},
     "output_type": "execute_result"
    }
   ],
   "source": [
    "I = line_intersect(PQ, k)\n",
    "I"
   ]
  },
  {
   "cell_type": "code",
   "execution_count": 56,
   "metadata": {
    "scrolled": false
   },
   "outputs": [
    {
     "data": {
      "image/png": "[encoded data removed]",
      "text/plain": [
       "<PIL.Image.Image image mode=RGB size=600x200 at 0x1F151EF5CF8>"
      ]
     },
     "execution_count": 56,
     "metadata": {},
     "output_type": "execute_result"
    }
   ],
   "source": [
    "scene.SetColor(255, 255, 255)\n",
    "scene.DrawPoint(I[0], I[1], pointWidth)\n",
    "scene.img"
   ]
  },
  {
   "cell_type": "code",
   "execution_count": 57,
   "metadata": {
    "scrolled": true
   },
   "outputs": [
    {
     "data": {
      "text/plain": [
       "39.801487608399569"
      ]
     },
     "execution_count": 57,
     "metadata": {},
     "output_type": "execute_result"
    }
   ],
   "source": [
    "d = distance(C, I)\n",
    "d"
   ]
  },
  {
   "cell_type": "markdown",
   "metadata": {},
   "source": [
    "![img](https://www.scratchapixel.com/images/upload/ray-simple-shapes/raysphereisect1.png?)"
   ]
  },
  {
   "cell_type": "code",
   "execution_count": 58,
   "metadata": {
    "scrolled": true
   },
   "outputs": [
    {
     "data": {
      "text/plain": [
       "63.567614271407223"
      ]
     },
     "execution_count": 58,
     "metadata": {},
     "output_type": "execute_result"
    }
   ],
   "source": [
    "thc = sqrt(circle.radius**2 - d**2)\n",
    "thc"
   ]
  },
  {
   "cell_type": "code",
   "execution_count": 59,
   "metadata": {},
   "outputs": [
    {
     "data": {
      "text/plain": [
       "Line (position: [100 100], direction: [ 396.03960396   39.6039604 ])"
      ]
     },
     "execution_count": 59,
     "metadata": {},
     "output_type": "execute_result"
    }
   ],
   "source": [
    "tca = create_line(P, I)\n",
    "tca"
   ]
  },
  {
   "cell_type": "code",
   "execution_count": 60,
   "metadata": {
    "scrolled": true
   },
   "outputs": [
    {
     "data": {
      "text/plain": [
       "(Line (position: [500 100], direction: [  5. -50.]),\n",
       " Line (position: [436 100], direction: [  5. -50.]),\n",
       " Line (position: [563 100], direction: [  5. -50.]))"
      ]
     },
     "execution_count": 60,
     "metadata": {},
     "output_type": "execute_result"
    }
   ],
   "source": [
    "kL = Line(np.array([k.position[0], k.position[1]]), k.direction)\n",
    "kL.position[0] -= thc\n",
    "kR = Line(k.position, k.direction)\n",
    "kR.position[0] += thc\n",
    "k, kL, kR"
   ]
  },
  {
   "cell_type": "code",
   "execution_count": 61,
   "metadata": {
    "scrolled": false
   },
   "outputs": [
    {
     "data": {
      "image/png": "[encoded data removed]",
      "text/plain": [
       "<PIL.Image.Image image mode=RGB size=600x200 at 0x1F151EF5CF8>"
      ]
     },
     "execution_count": 61,
     "metadata": {},
     "output_type": "execute_result"
    }
   ],
   "source": [
    "scene.SetColor(50, 50, 50)\n",
    "scene.DrawBLine(kL.PointX(200), 200, kL.PointX(0), 0)\n",
    "scene.DrawBLine(kR.PointX(200), 200, kR.PointX(0), 0)\n",
    "P1 = line_intersect(PQ, kL)\n",
    "P2 = line_intersect(PQ, kR)\n",
    "scene.SetColor(0, 255, 0)\n",
    "scene.DrawBLine(C[0], C[1], P1[0], P1[1])\n",
    "scene.DrawBLine(P2[0], P2[1], C[0], C[1])\n",
    "scene.DrawBLine(P1[0], P1[1], P2[0], P2[1])\n",
    "scene.DrawBLine(C[0], C[1], I[0], I[1])\n",
    "scene.SetColor(255, 255 ,255)\n",
    "scene.DrawPoint(P1[0], P1[1], pointWidth)\n",
    "scene.DrawPoint(P2[0], P2[1], pointWidth)\n",
    "scene.img"
   ]
  },
  {
   "cell_type": "markdown",
   "metadata": {},
   "source": [
    "## 2D Raytracing"
   ]
  },
  {
   "cell_type": "markdown",
   "metadata": {},
   "source": [
    "### Vec2"
   ]
  },
  {
   "cell_type": "markdown",
   "metadata": {},
   "source": [
    "This class implements vector properties.\n",
    "\n",
    " * Position $x, y$\n",
    " * Normal vector\n",
    " * Length of the vector\n",
    " * Vector addition/subtraction\n",
    " * Vector multiplication\n",
    " * Vector dot product"
   ]
  },
  {
   "cell_type": "code",
   "execution_count": 194,
   "metadata": {
    "scrolled": true
   },
   "outputs": [],
   "source": [
    "class Vec2():\n",
    "    def __init__(self, x, y):\n",
    "        self.x = x\n",
    "        self.y = y\n",
    "        \n",
    "    def normal(self): \n",
    "        return Vec2(-self.y, self.x)\n",
    "    \n",
    "    def length(self): \n",
    "        return sqrt(self.x**2 + self.y**2)\n",
    "    \n",
    "    def __add__(self, v): \n",
    "        if type(v) is Vec2: return Vec2(self.x + v.x, self.y + v.y)\n",
    "        elif type(v) in [int, float]: return Vec2(self.x + v, self.y + v)\n",
    "        else: raise ValueError('Type mismatch \\'{}\\' for vector addition.'.format(type(v)))\n",
    "        \n",
    "    def __sub__(self, v): \n",
    "        if type(v) is Vec2: return Vec2(self.x - v.x, self.y - v.y)\n",
    "        elif type(v) in [int, float]: return Vec2(self.x - v, self.y - v)\n",
    "        else: raise ValueError('Type mismatch \\'{}\\' for vector subtraction.'.format(type(v)))\n",
    "            \n",
    "    def __mul__(self, v):\n",
    "        if type(v) in [int, float, Vec2]: return Vec2(self.x * v, self.y * v)\n",
    "        else: raise ValueError('Type mismatch \\'{}\\' for vector-scalar multiplication.'.format(type(v)))\n",
    "            \n",
    "    __rmul__ = __mul__\n",
    "    \n",
    "    def __repr__(self):\n",
    "        return '({}, {})'.format(self.x, self.y)\n",
    "    \n",
    "    def dot(self, v):\n",
    "        return self.x * v.x + self.y * v.y\n",
    "    \n",
    "    def transform(self, m):\n",
    "        v = np.array([self.x, self.y, 1])\n",
    "        tv = np.dot(m, v)\n",
    "        return Vec2(tv[0], tv[1])"
   ]
  },
  {
   "cell_type": "markdown",
   "metadata": {},
   "source": [
    "### Camera"
   ]
  },
  {
   "cell_type": "markdown",
   "metadata": {},
   "source": [
    "The camera has all the properties for finding rays from our view port."
   ]
  },
  {
   "cell_type": "markdown",
   "metadata": {},
   "source": [
    "![camera](2d_geometry_3.png)"
   ]
  },
  {
   "cell_type": "code",
   "execution_count": 63,
   "metadata": {},
   "outputs": [],
   "source": [
    "class Camera():\n",
    "    def __init__(self, x, y, filmSize, focalLength):\n",
    "        self.position = Vec2(x, y)\n",
    "        self.filmSize = filmSize\n",
    "        self.focalLength = focalLength\n",
    "        self.focalPoint = Vec2(x - focalLength, y)\n",
    "        self.filmTopPoint = Vec2(x, y + filmSize / 2)\n",
    "        self.filmBottomPoint = Vec2(x, y - filmSize / 2)"
   ]
  },
  {
   "cell_type": "markdown",
   "metadata": {},
   "source": [
    "### Ray"
   ]
  },
  {
   "cell_type": "markdown",
   "metadata": {},
   "source": [
    "A ray has a position $x, y$ and a direction which is also a vector. To get this point add the position and direction."
   ]
  },
  {
   "cell_type": "code",
   "execution_count": 64,
   "metadata": {},
   "outputs": [],
   "source": [
    "class Ray():\n",
    "    def __init__(self, position, direction):\n",
    "        self.position = Vec2(position.x, position.y)\n",
    "        self.direction = Vec2(direction.x, direction.y)\n",
    "        \n",
    "    def __repr__(self):\n",
    "        return 'Ray - P: {}, D: {}'.format(self.position, self.direction)"
   ]
  },
  {
   "cell_type": "markdown",
   "metadata": {},
   "source": [
    "### Drawing helpers"
   ]
  },
  {
   "cell_type": "markdown",
   "metadata": {},
   "source": [
    "To help us draw..."
   ]
  },
  {
   "cell_type": "code",
   "execution_count": 65,
   "metadata": {},
   "outputs": [],
   "source": [
    "red   = (255, 0  , 0  )\n",
    "green = (0  , 255, 0  )\n",
    "blue  = (0  , 0  , 255)\n",
    "gray  = (100, 100, 100)\n",
    "white = (255, 255, 255)"
   ]
  },
  {
   "cell_type": "code",
   "execution_count": 66,
   "metadata": {},
   "outputs": [],
   "source": [
    "def draw_vec(scene, v, color):\n",
    "    originalColor = scene.color\n",
    "    scene.SetColor(color[0], color[1], color[2])\n",
    "    scene.DrawPoint(v.x, v.y, 2)\n",
    "    scene.SetColor(originalColor[0], originalColor[1], originalColor[2])"
   ]
  },
  {
   "cell_type": "code",
   "execution_count": 67,
   "metadata": {},
   "outputs": [],
   "source": [
    "def draw_line(v, u, color):\n",
    "    originalColor = scene.color\n",
    "    scene.SetColor(color[0], color[1], color[2])   \n",
    "    scene.DrawBLine(v.x, v.y, u.x, u.y)\n",
    "    scene.SetColor(originalColor[0], originalColor[1], originalColor[2])"
   ]
  },
  {
   "cell_type": "code",
   "execution_count": 68,
   "metadata": {},
   "outputs": [],
   "source": [
    "def draw_circle(position, r, color):\n",
    "    originalColor = scene.color\n",
    "    scene.SetColor(color[0], color[1], color[2])\n",
    "    scene.DrawCircle(position.x, position.y, r)\n",
    "    scene.DrawPoint(position.x, position.y, 5)\n",
    "    scene.SetColor(color[0], color[1], color[2])      "
   ]
  },
  {
   "cell_type": "markdown",
   "metadata": {},
   "source": [
    "### Trace"
   ]
  },
  {
   "cell_type": "markdown",
   "metadata": {},
   "source": [
    "Main function of the algorithm. Here we trace the ray $\\vec{PQ}$ that is given as input. We will test it against all the circles to see if there are intersections, and returning the correct color."
   ]
  },
  {
   "cell_type": "markdown",
   "metadata": {},
   "source": [
    "![img](2d_geometry_2.png)"
   ]
  },
  {
   "cell_type": "markdown",
   "metadata": {},
   "source": [
    "* $P$ is `ray.position`\n",
    "* $Q$ is `ray.position + ray.direction`\n",
    "* $I$ is `intersectionPoint`\n",
    "* $C$ is `circle.position`\n",
    "* $r$ is `circle.radius`\n",
    "\n",
    "We want to find the closest point $S$ and the color of the circle.\n",
    "\n",
    "* First we want to create a line $k \\perp l$ through $C$.\n",
    "* Find point $I$, this is were the lines $k$ and $l$ intersect.\n",
    "* With points $C$ and $I$ we can find length $d$ which is $||\\ \\vec{CI}\\ ||$ (or `(I - C).length()`).\n",
    "  * $d > r$: ray does not intersect with the circle, we are done.\n",
    "* $d < r$: ray goes through the circle, find the points $S$ and $S'$.\n",
    "  * Find the color of the circle and save it if the previous color is found further away.\n",
    "  * Find $h$ which is $\\sqrt{r^2-d^2}$ by Pythagorean theorem.\n",
    "  * Create a new line $k_l$ from $k$ which is also perpendicular to $l$ and goes through $(k_{lx} - h, k_{ly})$.\n",
    "  * Find $S$ which is the intersect of $l$ and $k_l$.\n",
    "  * Do the same for $S'$ by finding $k_r$.\n",
    "  * Calculate the distance for $||\\ \\vec{PS}\\ ||$ and $||\\ \\vec{PS'}\\ ||$. \n",
    "  * Return the closest point $S$."
   ]
  },
  {
   "cell_type": "code",
   "execution_count": 69,
   "metadata": {},
   "outputs": [],
   "source": [
    "def trace(scene, ray, showTraces = False):\n",
    "    resultColor = (0, 0, 0)\n",
    "    resultDistance = scene.width\n",
    "    for circle in circles:\n",
    "        #if showTraces:\n",
    "            #screenEdge = Vec2(800, solve_line_y(ray, 800))\n",
    "        # Creates a grey triangle for the camera\n",
    "        draw_line(ray.position, ray.position + ray.direction, gray)\n",
    "        \n",
    "        # Calculate the line k that is perpendicular to our ray l and goes\n",
    "        # through the circles center C.\n",
    "        k = Ray(circle.position, ray.direction.normal())\n",
    "        intersectionPoint = intersect(ray, k)\n",
    "        if intersectionPoint == False: continue\n",
    "            \n",
    "        # Find the distance d between the intersection point of our ray and the normal \n",
    "        # and the center of the circle. If this is smaller than the circles radius, we have hit it.\n",
    "        d = (intersectionPoint - circle.position).length()\n",
    "        \n",
    "        # Calculate a color for this current circle (see gradiant colored circles section)   \n",
    "        cvalue = int(255 - 255 * 0.7 / circle.radius * d)\n",
    "        color = (0, 0, 0)\n",
    "        if circle.color == red  : color = (cvalue, 0, 0)\n",
    "        if circle.color == green: color = (0, cvalue, 0)\n",
    "        if circle.color == blue : color = (0, 0, cvalue)\n",
    "\n",
    "        # If the distance is smaller than the radius it is a hit.\n",
    "        if d < circle.radius:     \n",
    "            # Find h which is the distance from the circle edge S to the intersection point I.\n",
    "            h = sqrt(circle.radius**2 - d**2)\n",
    "            # Create a new line that is normal to the ray and goes through I-h.\n",
    "            kL = Ray(k.position, k.direction)\n",
    "            kL.position.x -= h\n",
    "            # Find where they intersect to get the left point on the circle where the\n",
    "            # line intersected.\n",
    "            SL = intersect(ray, kL)\n",
    "            # Same trick, but now for the right point; this is I+h.\n",
    "            kR = Ray(k.position, k.direction)\n",
    "            kR.position.x += h\n",
    "            # Find where they intersect to get the right intersection point.\n",
    "            SR = intersect(ray, kR)\n",
    "            # Find the closest point.\n",
    "            S = SL if (ray.position - SL).length() < (ray.position - SR).length() else SR\n",
    "            if showTraces:\n",
    "                #draw_vec(scene, intersectionPoint, color)\n",
    "                #draw_line(circle.position, intersectionPoint, color)\n",
    "                draw_vec(scene, S, color)\n",
    "                draw_line(intersectionPoint, ray.position + ray.direction, color)\n",
    "                \n",
    "        # Save the color of the closest point to our origin which we have hit.\n",
    "        if d < circle.radius and d < resultDistance:\n",
    "            resultColor = color\n",
    "            resultDistance = d\n",
    "\n",
    "    return resultColor"
   ]
  },
  {
   "cell_type": "markdown",
   "metadata": {},
   "source": [
    "### Intersect"
   ]
  },
  {
   "cell_type": "markdown",
   "metadata": {},
   "source": [
    "Used to find the point where the two lines $k$ and $l$ intersect. We simply put $l=k$ and solve for $x$.\n",
    "\n",
    "$$\\begin{align} l &= k \\\\ l_m(x-p_x)+p_y &= k_m(x-q_x)+q_y \\\\ l_m\\cdot x-l_m \\cdot p_x + p_y &= k_m\\cdot x - k_m - k_m\\cdot q_x + q_y \\\\ l_m\\cdot x - k_m \\cdot x &= l_m\\cdot p_x - p_y - k_m \\cdot q_x + q_y \\end{align}$$\n",
    "\n",
    "Now we factor out $x$ on the left side, and divide by $l_m - k_m$ to isolate $x$.\n",
    "\n",
    "$$x = \\dfrac{l_m \\cdot p_x - p_y - k_m \\cdot q_x + q_y}{l_m - k_m}$$\n",
    "\n",
    "We can now use this formula to get the $x$ value where the two lines intersect. Finally we use the value to find the $y$ coordinate by plugging in the found $x$ into any of the two lines."
   ]
  },
  {
   "cell_type": "code",
   "execution_count": 70,
   "metadata": {},
   "outputs": [],
   "source": [
    "def intersect(k, l):\n",
    "    m = k.direction.y / k.direction.x\n",
    "    # assuming that l is always the normal of k (IF IT IS A HORIZONTAL LINE).\n",
    "    if l.direction.x == 0: return Vec2(l.position.x, k.position.y)\n",
    "    n = l.direction.y / l.direction.x\n",
    "    if m - n == 0: return False;\n",
    "    x = (m * k.position.x - n * l.position.x + l.position.y - k.position.y) / (m - n)\n",
    "    y = solve_line_y(k, x) if k.direction.y != 0 else k.position.y\n",
    "    return Vec2(x, y)"
   ]
  },
  {
   "cell_type": "markdown",
   "metadata": {},
   "source": [
    "### Finding y for a given x (ray)"
   ]
  },
  {
   "cell_type": "markdown",
   "metadata": {},
   "source": [
    "Solving a simple line equation for $y$."
   ]
  },
  {
   "cell_type": "markdown",
   "metadata": {},
   "source": [
    "$$ y = m(x-x_0)+y_0$$"
   ]
  },
  {
   "cell_type": "code",
   "execution_count": 71,
   "metadata": {},
   "outputs": [],
   "source": [
    "def solve_line_y(ray, x):\n",
    "    m = ray.direction.y / ray.direction.x\n",
    "    return m * x - m * ray.position.x + ray.position.y"
   ]
  },
  {
   "cell_type": "markdown",
   "metadata": {},
   "source": [
    "### Finding x for a given y (ray)"
   ]
  },
  {
   "cell_type": "markdown",
   "metadata": {},
   "source": [
    "Solving with the inverse function for $x$."
   ]
  },
  {
   "cell_type": "markdown",
   "metadata": {},
   "source": [
    "$$ \\begin{align} y &= m(x-x_0)+y_0 \\\\ y &= mx-mx_0+y_0 \\\\ mx &= y + mx_0-y_0 \\\\ x &= \\dfrac{y+mx_0-y_0}{m} \\end{align}$$"
   ]
  },
  {
   "cell_type": "code",
   "execution_count": 72,
   "metadata": {},
   "outputs": [],
   "source": [
    "def solve_line_x(ray, y):\n",
    "    m = ray.direction.y / ray.direction.x\n",
    "    return (y + m * ray.position.x + ray.position.y) / m"
   ]
  },
  {
   "cell_type": "markdown",
   "metadata": {},
   "source": [
    "### Gradient colored circles"
   ]
  },
  {
   "cell_type": "markdown",
   "metadata": {},
   "source": [
    "To get nicer colors we can use the light brightness based on distance. I started with the inverse square law. Adjusted the interval to $[0, 255]$. Finally, compensated for circles with different diameters by multiplying by $r$. To alter the brightness `reduced` can be used. The higher the value of `reduced`, the more dim it appears."
   ]
  },
  {
   "cell_type": "markdown",
   "metadata": {},
   "source": [
    "$$ \\text{color brightness} = 255 - \\dfrac{255 \\cdot \\text{reduced}}{r \\sqrt{(q_x-p_x)^2+(q_y-p_y)^2}}$$"
   ]
  },
  {
   "cell_type": "code",
   "execution_count": 73,
   "metadata": {
    "scrolled": true
   },
   "outputs": [
    {
     "data": {
      "image/png": "[encoded data removed]",
      "text/plain": [
       "<PIL.Image.Image image mode=RGB size=600x200 at 0x1F151EF6E80>"
      ]
     },
     "execution_count": 73,
     "metadata": {},
     "output_type": "execute_result"
    }
   ],
   "source": [
    "def draw_gradient_circle(scene, x, y, r, reduced, color = red):\n",
    "    P = Vec2(x, y)\n",
    "    S = Vec2(x - r, y - r)\n",
    "    M = Vec2(x + r, x + r)\n",
    "    for i in range(r*2):\n",
    "        for j in range(r*2):\n",
    "            Q = Vec2(S.x + i, S.y + j)\n",
    "            PQ = Q - P\n",
    "            d = PQ.length()\n",
    "            if d > r: continue\n",
    "            if color == red:   scene.SetColor(int(255 - 255 * reduced / r * d), 0, 0);\n",
    "            if color == green: scene.SetColor(0, int(255 - 255 * reduced / r * d), 0);\n",
    "            if color == blue:  scene.SetColor(0, 0, int(255 - 255 * reduced / r * d));\n",
    "            scene.DrawPoint(Q.x, Q.y)\n",
    "\n",
    "scene = Drawing(600, 200)\n",
    "reduced = 1\n",
    "draw_gradient_circle(scene, 100, 100, 100, reduced, red)\n",
    "draw_gradient_circle(scene, 300, 100, 100, reduced, green)\n",
    "draw_gradient_circle(scene, 500, 100, 100, reduced, blue)\n",
    "scene.img"
   ]
  },
  {
   "cell_type": "markdown",
   "metadata": {},
   "source": [
    "To give an idea of how `reduced` behaves for different values."
   ]
  },
  {
   "cell_type": "code",
   "execution_count": 74,
   "metadata": {},
   "outputs": [
    {
     "name": "stdout",
     "output_type": "stream",
     "text": [
      "Light 0: reduced = 0.5\n",
      "Light 1: reduced = 0.6\n",
      "Light 2: reduced = 0.7\n",
      "Light 3: reduced = 0.8\n",
      "Light 4: reduced = 0.9\n",
      "Light 5: reduced = 1.0\n",
      "Light 6: reduced = 1.1\n",
      "Light 7: reduced = 1.2\n",
      "Light 8: reduced = 1.3\n",
      "Light 9: reduced = 1.4\n"
     ]
    },
    {
     "data": {
      "image/png": "[encoded data removed]",
      "text/plain": [
       "<PIL.Image.Image image mode=RGB size=800x100 at 0x1F151EF58D0>"
      ]
     },
     "execution_count": 74,
     "metadata": {},
     "output_type": "execute_result"
    }
   ],
   "source": [
    "scene = Drawing(800, 100)\n",
    "for i in range(10):\n",
    "    reduced = 0.1 * (i + 5)\n",
    "    draw_gradient_circle(scene, 50 + (75 * i), 50, 25, reduced, green)\n",
    "    print('Light {}: reduced = {}'.format(i, round(reduced * 10) / 10))\n",
    "scene.img"
   ]
  },
  {
   "cell_type": "markdown",
   "metadata": {},
   "source": [
    "### Main loop"
   ]
  },
  {
   "cell_type": "markdown",
   "metadata": {},
   "source": [
    "Here we loop over all the points in our film and our focal point to find a ray. This ray is then passed to `trace`. This will test the ray against all the circles."
   ]
  },
  {
   "cell_type": "code",
   "execution_count": 75,
   "metadata": {
    "scrolled": true
   },
   "outputs": [
    {
     "data": {
      "image/png": "[encoded data removed]",
      "text/plain": [
       "<PIL.Image.Image image mode=RGB size=800x400 at 0x1F153F240F0>"
      ]
     },
     "execution_count": 75,
     "metadata": {},
     "output_type": "execute_result"
    }
   ],
   "source": [
    "# Viewport (this will be our coordinate system with x: [0, w-1] and y: [0, h-1] starting in the bottom left corner)\n",
    "width = 800\n",
    "height = 400\n",
    "\n",
    "# Settings for the camera. This should be moved into the camera class sometime. The\n",
    "# camera is centered from the midpoint between the film top and bottom. The focal point\n",
    "# is moved into the -x direction. The found colors of the objects that are found with\n",
    "# the ray tracing should be printed onto the film. The resolution on the film 'focalLength' will\n",
    "# determine how many rays we are going to trace.\n",
    "filmSize = 200\n",
    "focalLength = 150\n",
    "camera = Camera(200, 200, filmSize, focalLength)\n",
    "\n",
    "# Remember the matrices? Let's rotate the camera with it.\n",
    "#\n",
    "# (Bug: the film is drawn from the bottom film point up into the y direction until y+focalLength,\n",
    "#       instead, it should interpolate between the two points and return 'focalLength' amount of points.\n",
    "#\n",
    "#       Also, the rotation goes horribly wrong because we have already scaled and translated by drawing it\n",
    "#       directly. To fix this it must scale while it is still centered on the origin, then \n",
    "#       we rotate it, and finally translate to the correct position.\n",
    "#rotationMatrix = create_rotation_matrix(0)\n",
    "#focalPoint = focalPoint.transform(rotationMatrix)\n",
    "#filmTopPoint = filmTopPoint.transform(rotationMatrix)\n",
    "#filmBottomPoint = filmBottomPoint.transform(rotationMatrix)\n",
    "\n",
    "# Drawing two scenes. The first is our ray tracing scene, and the second is our film.\n",
    "scene = Drawing(width, height)\n",
    "scene2 = Drawing(camera.filmSize, 20)\n",
    "\n",
    "# Add three different colored and placed circles into the scene.\n",
    "circles = [Circle(Vec2(600, 200), 100, red), Circle(Vec2(350, 100), 25, green), Circle(Vec2(400, 325), 50, blue)]\n",
    "\n",
    "# Draw our camera into the scene.\n",
    "draw_vec(scene, camera.focalPoint, white)\n",
    "draw_vec(scene, camera.filmTopPoint, white)\n",
    "draw_vec(scene, camera.filmBottomPoint, white)\n",
    "draw_line(camera.filmTopPoint, camera.filmBottomPoint, gray)\n",
    "\n",
    "# Draw all the circles into the scene.\n",
    "for circle in circles: draw_gradient_circle(scene, circle.position.x, circle.position.y, circle.radius, 0.7, circle.color); # draw_circle(circle.position, circle.radius, circle.color); \n",
    "    \n",
    "# For every point on the film size we want to trace a ray.\n",
    "for i in range(camera.filmSize):\n",
    "    # Create a point from the current pixel on our film.\n",
    "    filmPoint = Vec2(camera.filmBottomPoint.x, camera.filmBottomPoint.y + i)\n",
    "    # Find the ray between the focal point and the point on the film.\n",
    "    ray = Ray(camera.focalPoint, filmPoint - camera.focalPoint)\n",
    "    # Trace the ray to find the color for this pixel on the film.\n",
    "    color = trace(scene, ray, i % 1 == 0)\n",
    "    # If there is no object found.\n",
    "    if color == False: continue\n",
    "    # Set the color that is found by the ray.\n",
    "    scene.SetColor(color[0], color[1], color[2])\n",
    "    scene2.SetColor(color[0], color[1], color[2])\n",
    "    # Draw the color on the camera film in the first scene for visual purposes.\n",
    "    for j in range(3):\n",
    "        scene.DrawPoint(camera.filmBottomPoint.x - j, camera.filmBottomPoint.y + i)\n",
    "    # Draw the color onto the film in scene2.\n",
    "    for j in range(20):\n",
    "        scene.DrawPoint(camera.filmBottomPoint.x - camera.focalLength + i, camera.filmBottomPoint.y - j - 50)\n",
    "        scene2.DrawPoint(i, j)\n",
    "    \n",
    "scene.img"
   ]
  },
  {
   "cell_type": "markdown",
   "metadata": {},
   "source": [
    "And without the tracing lines."
   ]
  },
  {
   "cell_type": "markdown",
   "metadata": {},
   "source": [
    "![img](2d_geometry_4_1.png)"
   ]
  },
  {
   "cell_type": "markdown",
   "metadata": {},
   "source": [
    "#### Projected film"
   ]
  },
  {
   "cell_type": "markdown",
   "metadata": {},
   "source": [
    "This is what gets registered onto the film."
   ]
  },
  {
   "cell_type": "code",
   "execution_count": 76,
   "metadata": {},
   "outputs": [
    {
     "data": {
      "image/png": "[encoded data removed]",
      "text/plain": [
       "<PIL.Image.Image image mode=RGB size=200x20 at 0x1F153F24198>"
      ]
     },
     "execution_count": 76,
     "metadata": {},
     "output_type": "execute_result"
    }
   ],
   "source": [
    "scene2.img"
   ]
  },
  {
   "cell_type": "markdown",
   "metadata": {},
   "source": [
    "## Reflections"
   ]
  },
  {
   "cell_type": "markdown",
   "metadata": {},
   "source": [
    "We will again start with a simple scene and trace a ray manually. This time we are going to find the angle of reflection for our ray. Finally, we can trace again with this new ray. Find another color. Blend it into the colors we have already found. This is a recursive algorithm."
   ]
  },
  {
   "cell_type": "markdown",
   "metadata": {},
   "source": [
    "![img](http://scienceworld.wolfram.com/physics/aimg57.gif)"
   ]
  },
  {
   "cell_type": "markdown",
   "metadata": {},
   "source": [
    "To find the angle between two lines we use the fact that:\n",
    "\n",
    "$$ \\theta = \\tan^{-1}\\left(\\dfrac{|\\ \\vec{l_d}\\cdot\\vec{m_d}|\\ }{||\\ \\vec{l_d}\\ ||\\cdot||\\ \\vec{m_d}\\ ||}\\right) $$"
   ]
  },
  {
   "cell_type": "code",
   "execution_count": 291,
   "metadata": {},
   "outputs": [],
   "source": [
    "def find_angle(l, m):\n",
    "    return arctan(abs(m.direction.dot(l.direction)) / (m.direction.length() * l.direction.length()))"
   ]
  },
  {
   "cell_type": "code",
   "execution_count": 313,
   "metadata": {
    "scrolled": true
   },
   "outputs": [
    {
     "name": "stdout",
     "output_type": "stream",
     "text": [
      "angleLM Θ: 0.7142773524212261 rad / 40.925077695514766 deg\n",
      "angleSB3 Θ: 0.7142773524212265 rad / 40.92507769551479 deg\n"
     ]
    },
    {
     "data": {
      "image/png": "[encoded data removed]",
      "text/plain": [
       "<PIL.Image.Image image mode=RGB size=600x300 at 0x1F15C24DE10>"
      ]
     },
     "execution_count": 313,
     "metadata": {},
     "output_type": "execute_result"
    }
   ],
   "source": [
    "scene = Drawing(600, 300)\n",
    "\n",
    "# Circle\n",
    "C = Vec2(500, 100)\n",
    "Cr = 50\n",
    "circle = Circle(C, Cr, red)\n",
    "\n",
    "draw_gradient_circle(scene, circle.position.x, circle.position.y, circle.radius, 0.6, red)\n",
    "#draw_circle(circle.position, circle.radius, red)\n",
    "\n",
    "# Points P and Q\n",
    "P = Vec2(50, 50)\n",
    "Q = Vec2(30, 5)\n",
    "\n",
    "draw_vec(scene, P, white)\n",
    "\n",
    "l = Ray(P, Q)\n",
    "draw_line(P, P + Q, red)\n",
    "\n",
    "# Trace ray PQ\n",
    "k = Ray(C, l.direction.normal())\n",
    "I = intersect(l, k)\n",
    "\n",
    "# Find intersection point S for the blue line with the circle\n",
    "d = (C-I).length()\n",
    "if d > Cr: raise ValueError('d > Cr: the line does not intersect the circle.')\n",
    "\n",
    "h = sqrt(circle.radius**2 - d**2)\n",
    "kL = Ray(k.position, k.direction)\n",
    "kL.position.x -= h\n",
    "S = intersect(l, kL)\n",
    "draw_vec(scene, S, white)\n",
    "\n",
    "# Draw right triangle with d, h, S\n",
    "draw_line(P + Q, S, red)\n",
    "draw_line(S, I, blue)\n",
    "draw_line(I, C, blue)\n",
    "\n",
    "CS = (S-C)\n",
    "draw_vec(scene, CS + C, gray)\n",
    "draw_line(CS + C, C, gray)\n",
    "\n",
    "m = Ray(C, CS)\n",
    "my = solve_line_y(m, 0)\n",
    "draw_line(CS + C, Vec2(0, my), gray)\n",
    "\n",
    "angle = find_angle(l, m)\n",
    "print('angleLM Θ: {} rad / {} deg'.format(angle, angle * 180 / pi))\n",
    "\n",
    "# Draw inner triangle construction\n",
    "p = Ray(S + m.direction, m.direction.normal())\n",
    "\n",
    "B1 = intersect(m, p)\n",
    "B2 = intersect(p, l)\n",
    "\n",
    "draw_vec(scene, B1, white)\n",
    "draw_vec(scene, B2, white)\n",
    "\n",
    "draw_line(B2, S + m.direction, white)\n",
    "\n",
    "# Find B3 (green dot)\n",
    "Bx = (B1 - B2).x + B1.x\n",
    "By = solve_line_y(p, Bx)\n",
    "B3 = Vec2(Bx, By)\n",
    "draw_vec(scene, B3, green)\n",
    "draw_line(B1, B3, green)\n",
    "\n",
    "# The reflection line of l starts at S and goes through B3.\n",
    "SB3 = Ray(S, B3 - S)\n",
    "draw_line(SB3.position, SB3.position + SB3.direction, red)\n",
    "draw_line(SB3.position + SB3.direction, Vec2(0, solve_line_y(SB3, 0)), red)\n",
    "\n",
    "# Show that both angles are equal.\n",
    "angleSB3 = find_angle(SB3, m)\n",
    "print('angleSB3 Θ: {} rad / {} deg'.format(angleSB3, angleSB3 * 180 / pi))\n",
    "\n",
    "# Draw normal line\n",
    "normal = Ray(S, p.direction)\n",
    "nL = Vec2(0, solve_line_y(normal, 0))\n",
    "nR = Vec2(600, solve_line_y(normal, 600))\n",
    "draw_line(nL, nR, (50, 50, 50))\n",
    "\n",
    "scene.img"
   ]
  },
  {
   "cell_type": "code",
   "execution_count": 297,
   "metadata": {
    "scrolled": true
   },
   "outputs": [
    {
     "name": "stdout",
     "output_type": "stream",
     "text": [
      "angle Θ = 0.0 => x = 1.0, y = 0.0\n",
      "angle Θ = 1.57 => x = 0.0, y = 1.0\n",
      "angle Θ = 3.14 => x = -1.0, y = 0.0\n",
      "angle Θ = 4.71 => x = -0.0, y = -1.0\n"
     ]
    }
   ],
   "source": [
    "for angle in [i * pi / 2 for i in range(4)]:\n",
    "    print('angle Θ = {} => x = {}, y = {}'.format(round(angle*100)/100, round(cos(angle)), round(sin(angle))))"
   ]
  },
  {
   "cell_type": "code",
   "execution_count": null,
   "metadata": {},
   "outputs": [],
   "source": []
  }
 ],
 "metadata": {
  "kernelspec": {
   "display_name": "Python 3",
   "language": "python",
   "name": "python3"
  },
  "language_info": {
   "codemirror_mode": {
    "name": "ipython",
    "version": 3
   },
   "file_extension": ".py",
   "mimetype": "text/x-python",
   "name": "python",
   "nbconvert_exporter": "python",
   "pygments_lexer": "ipython3",
   "version": "3.6.3"
  }
 },
 "nbformat": 4,
 "nbformat_minor": 2
}
