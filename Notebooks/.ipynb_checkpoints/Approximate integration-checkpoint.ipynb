{
 "cells": [
  {
   "cell_type": "code",
   "execution_count": 28,
   "metadata": {
    "scrolled": false
   },
   "outputs": [
    {
     "name": "stdout",
     "output_type": "stream",
     "text": [
      "Populating the interactive namespace from numpy and matplotlib\n"
     ]
    }
   ],
   "source": [
    "%pylab inline\n",
    "import numpy as np\n",
    "import pandas as pd\n",
    "import sympy as sp"
   ]
  },
  {
   "cell_type": "code",
   "execution_count": 37,
   "metadata": {},
   "outputs": [],
   "source": [
    "font = {'size'   : 14}\n",
    "matplotlib.rc('font', **font)\n",
    "sp.init_printing()"
   ]
  },
  {
   "cell_type": "markdown",
   "metadata": {},
   "source": [
    "# Approximate integration methods"
   ]
  },
  {
   "cell_type": "markdown",
   "metadata": {},
   "source": [
    "Recall that the definite integral is defined as a limit of Riemann sums, so any Riemann sum could be used as an approximation to the integral: If we divide $[a,b]$ into $n$ subintervals of equal length $\\Delta x = (b-a)/n$, then we have\n",
    "\n",
    "$$ \\int_a^b f(x)\\ dx \\approx \\sum\\limits_{i=1}^n f(x_i^*) \\Delta x$$\n",
    "\n",
    "where $x_i^*$ is any point in the $i$th subinterval $[x_{i-1}, x_i]$. "
   ]
  },
  {
   "cell_type": "markdown",
   "metadata": {},
   "source": [
    "## Left endpoint approximation\n",
    "\n",
    "If $x_i^*$ is chosen to be the left-endpoint of the interval, then \n",
    "\n",
    "$$ \\tag{1} \\int_a^b f(x)\\ dx \\approx L_n = \\sum\\limits_{i=1}^n f(x_{i-1}^*) \\Delta x$$"
   ]
  },
  {
   "cell_type": "markdown",
   "metadata": {},
   "source": [
    "This is the implementation of equation $(1)$."
   ]
  },
  {
   "cell_type": "code",
   "execution_count": 3,
   "metadata": {},
   "outputs": [],
   "source": [
    "def L(f, a, b, n):\n",
    "    dx = (b - a) / n\n",
    "    X = np.linspace(a, b - dx, n)\n",
    "    return sum([f(x)*dx for x in X])"
   ]
  },
  {
   "cell_type": "markdown",
   "metadata": {},
   "source": [
    "## Right endpoint approximation\n",
    "\n",
    "If we choose $x_i^*$ to be the right endpoint, then $x_i^*=x_i$ and we have\n",
    "\n",
    "$$ \\tag{2} \\int_a^b f(x)\\ dx \\approx R_n = \\sum\\limits_{i=1}^n f(x_{i}^*) \\Delta x$$\n",
    "\n",
    "The approximations $L_n$ and $R_n$ are called the **left endpoint approximation** and **right endpoint approximation** respectively. Next is the implementation of equation $(2)$."
   ]
  },
  {
   "cell_type": "code",
   "execution_count": 4,
   "metadata": {},
   "outputs": [],
   "source": [
    "def R(f, a, b, n):\n",
    "    dx = (b - a) / n\n",
    "    X = np.linspace(a, b - dx, n) + dx\n",
    "    return sum([f(x)*dx for x in X])"
   ]
  },
  {
   "cell_type": "markdown",
   "metadata": {},
   "source": [
    "## Midpoint rule"
   ]
  },
  {
   "cell_type": "markdown",
   "metadata": {},
   "source": [
    "Let's look at the midpoint approximation $M_n$, which appears to be better than either $L_n$ or $R_n$."
   ]
  },
  {
   "cell_type": "markdown",
   "metadata": {},
   "source": [
    "$$ \\tag{3} \\int_a^b f(x)\\ dx \\approx M_n = \\Delta x[f(\\bar{x}_1), f(\\bar{x}_2), \\ldots, f(\\bar{x}_n)] $$ where $$\\Delta x = \\frac{b-a}{n}$$ and $$\\bar{x}_i = \\frac{1}{2}(x_{i-1} + x_i) $$ is the midpoint of $[x_{i-1}, x_i]$. Equation $(3)$ also has an implementation."
   ]
  },
  {
   "cell_type": "code",
   "execution_count": 5,
   "metadata": {},
   "outputs": [],
   "source": [
    "def M(f, a, b, n):\n",
    "    dx = (b - a) / n\n",
    "    X = np.linspace(a, b - dx, n) + dx / 2\n",
    "    return sum([f(x)*dx for x in X])"
   ]
  },
  {
   "cell_type": "markdown",
   "metadata": {},
   "source": [
    "## Trapezoidal rule"
   ]
  },
  {
   "cell_type": "markdown",
   "metadata": {},
   "source": [
    "Another approximation, called the Trapezoidal Rule, results from averaging the appromations in equations 1 and 2.\n",
    "\n",
    "$$ \\int_a^b f(x)\\ dx \\approx \\dfrac{1}{2}\\left[ \\sum\\limits_{i=1}^n f(x_{i-1})\\Delta x + \\sum\\limits_{i=1}^n f(x_{i})\\Delta x \\right] = \\dfrac{\\Delta x}{2} \\sum\\limits_{i=1}^n \\left( f(x_{i-1})+f(x_{i})\\right) $$"
   ]
  },
  {
   "cell_type": "code",
   "execution_count": 19,
   "metadata": {},
   "outputs": [],
   "source": [
    "def T(f, a, b, n):\n",
    "    dx = (b - a) / n\n",
    "    X = np.linspace(a, b - dx, n)\n",
    "    return sum( [f(x) + f(x+dx) for x in X] ) * dx / 2"
   ]
  },
  {
   "cell_type": "markdown",
   "metadata": {},
   "source": [
    "It can also be defined as:\n",
    "\n",
    "$$ \\tag{4} \\int_a^b f(x)\\ dx \\approx T_n = \\dfrac{\\Delta x}{2} \\left[ f(x_0) + 2f(x_1) + 2f(x_2) + \\ldots + 2f(x_{n-1}) + f(x_n)\\right]$$\n",
    "\n",
    "where $\\Delta x = (b-a)/n$ and $x_i=a+i\\Delta x$."
   ]
  },
  {
   "cell_type": "markdown",
   "metadata": {},
   "source": [
    "# Approximations"
   ]
  },
  {
   "cell_type": "markdown",
   "metadata": {},
   "source": [
    "Suppose we have the following integral:\n",
    "\n",
    "$$\\tag{Example 1}\\int^2_1 \\dfrac{1}{x}\\ dx = \\begin{bmatrix} \\ln\\ |\\ x\\ | \\end{bmatrix}^2_1 = \\ln 2 - \\ln 1 = \\ln 2 \\approx 0.693147.$$\n",
    "\n",
    "It is an easy integral, because we want to check the error between the approximations methods and the exact value. Estimating the integral with each of the methods gives:"
   ]
  },
  {
   "cell_type": "code",
   "execution_count": 41,
   "metadata": {},
   "outputs": [],
   "source": [
    "f=lambda x: 1/x\n",
    "a=1; b=2\n",
    "N=[]; Ln=[]; Rn=[]; Mn=[]; Tn=[];\n",
    "\n",
    "for n in [5, 10, 15, 20, 25]:\n",
    "    N.append(n)\n",
    "    Ln.append(L(f, a, b, n))\n",
    "    Rn.append(R(f, a, b, n))\n",
    "    Mn.append(M(f, a, b, n))\n",
    "    Tn.append(T(f, a, b, n))"
   ]
  },
  {
   "cell_type": "markdown",
   "metadata": {},
   "source": [
    "Now we add everything to a datatable and calculate the error between the exact value of the integral and each method."
   ]
  },
  {
   "cell_type": "code",
   "execution_count": 42,
   "metadata": {
    "scrolled": true
   },
   "outputs": [
    {
     "data": {
      "text/html": [
       "<div>\n",
       "<style scoped>\n",
       "    .dataframe tbody tr th:only-of-type {\n",
       "        vertical-align: middle;\n",
       "    }\n",
       "\n",
       "    .dataframe tbody tr th {\n",
       "        vertical-align: top;\n",
       "    }\n",
       "\n",
       "    .dataframe thead th {\n",
       "        text-align: right;\n",
       "    }\n",
       "</style>\n",
       "<table border=\"1\" class=\"dataframe\">\n",
       "  <thead>\n",
       "    <tr style=\"text-align: right;\">\n",
       "      <th></th>\n",
       "      <th>n</th>\n",
       "      <th>ln 2</th>\n",
       "      <th>Ln</th>\n",
       "      <th>Rn</th>\n",
       "      <th>Mn</th>\n",
       "      <th>Tn</th>\n",
       "      <th>L_error</th>\n",
       "      <th>R_error</th>\n",
       "      <th>M_error</th>\n",
       "      <th>T_error</th>\n",
       "    </tr>\n",
       "  </thead>\n",
       "  <tbody>\n",
       "    <tr>\n",
       "      <th>0</th>\n",
       "      <td>5</td>\n",
       "      <td>0.693147</td>\n",
       "      <td>0.745635</td>\n",
       "      <td>0.645635</td>\n",
       "      <td>0.691908</td>\n",
       "      <td>0.695635</td>\n",
       "      <td>-0.052488</td>\n",
       "      <td>0.047512</td>\n",
       "      <td>0.001239</td>\n",
       "      <td>-0.002488</td>\n",
       "    </tr>\n",
       "    <tr>\n",
       "      <th>1</th>\n",
       "      <td>10</td>\n",
       "      <td>0.693147</td>\n",
       "      <td>0.718771</td>\n",
       "      <td>0.668771</td>\n",
       "      <td>0.692835</td>\n",
       "      <td>0.693771</td>\n",
       "      <td>-0.025624</td>\n",
       "      <td>0.024376</td>\n",
       "      <td>0.000312</td>\n",
       "      <td>-0.000624</td>\n",
       "    </tr>\n",
       "    <tr>\n",
       "      <th>2</th>\n",
       "      <td>15</td>\n",
       "      <td>0.693147</td>\n",
       "      <td>0.710091</td>\n",
       "      <td>0.676758</td>\n",
       "      <td>0.693008</td>\n",
       "      <td>0.693425</td>\n",
       "      <td>-0.016944</td>\n",
       "      <td>0.016389</td>\n",
       "      <td>0.000139</td>\n",
       "      <td>-0.000278</td>\n",
       "    </tr>\n",
       "    <tr>\n",
       "      <th>3</th>\n",
       "      <td>20</td>\n",
       "      <td>0.693147</td>\n",
       "      <td>0.705803</td>\n",
       "      <td>0.680803</td>\n",
       "      <td>0.693069</td>\n",
       "      <td>0.693303</td>\n",
       "      <td>-0.012656</td>\n",
       "      <td>0.012344</td>\n",
       "      <td>0.000078</td>\n",
       "      <td>-0.000156</td>\n",
       "    </tr>\n",
       "    <tr>\n",
       "      <th>4</th>\n",
       "      <td>25</td>\n",
       "      <td>0.693147</td>\n",
       "      <td>0.703247</td>\n",
       "      <td>0.683247</td>\n",
       "      <td>0.693097</td>\n",
       "      <td>0.693247</td>\n",
       "      <td>-0.010100</td>\n",
       "      <td>0.009900</td>\n",
       "      <td>0.000050</td>\n",
       "      <td>-0.000100</td>\n",
       "    </tr>\n",
       "  </tbody>\n",
       "</table>\n",
       "</div>"
      ],
      "text/plain": [
       "    n      ln 2        Ln        Rn        Mn        Tn   L_error   R_error  \\\n",
       "0   5  0.693147  0.745635  0.645635  0.691908  0.695635 -0.052488  0.047512   \n",
       "1  10  0.693147  0.718771  0.668771  0.692835  0.693771 -0.025624  0.024376   \n",
       "2  15  0.693147  0.710091  0.676758  0.693008  0.693425 -0.016944  0.016389   \n",
       "3  20  0.693147  0.705803  0.680803  0.693069  0.693303 -0.012656  0.012344   \n",
       "4  25  0.693147  0.703247  0.683247  0.693097  0.693247 -0.010100  0.009900   \n",
       "\n",
       "    M_error   T_error  \n",
       "0  0.001239 -0.002488  \n",
       "1  0.000312 -0.000624  \n",
       "2  0.000139 -0.000278  \n",
       "3  0.000078 -0.000156  \n",
       "4  0.000050 -0.000100  "
      ]
     },
     "execution_count": 42,
     "metadata": {},
     "output_type": "execute_result"
    }
   ],
   "source": [
    "df=pd.DataFrame()\n",
    "df['n'] = N\n",
    "df['ln 2'] = [math.log(2)] * len(N)\n",
    "df['Ln'] = Ln\n",
    "df['Rn'] = Rn\n",
    "df['Mn'] = Mn\n",
    "df['Tn'] = Tn\n",
    "df['L_error'] = math.log(2) - df['Ln'] \n",
    "df['R_error'] = math.log(2) - df['Rn']\n",
    "df['M_error'] = math.log(2) - df['Mn']\n",
    "df['T_error'] = math.log(2) - df['Tn']\n",
    "df"
   ]
  },
  {
   "cell_type": "code",
   "execution_count": 43,
   "metadata": {},
   "outputs": [
    {
     "data": {
      "image/png": "[encoded data removed]",
      "text/plain": [
       "<matplotlib.figure.Figure at 0x1e1dfa55f60>"
      ]
     },
     "metadata": {},
     "output_type": "display_data"
    }
   ],
   "source": [
    "f, ((ax1, ax2, ax3, ax4)) = plt.subplots(1,4, sharex='col', sharey='row'\n",
    "                                         , figsize=(14,6))\n",
    "cols = ['L_error', 'R_error', 'M_error', 'T_error']\n",
    "titles = ['Left endpoint', 'Right endpoint', 'Midpoint', 'Trapezoidal']\n",
    "axes = [ax1, ax2, ax3, ax4]\n",
    "\n",
    "for i in range(len(cols)):\n",
    "    ax = axes[i]\n",
    "    ax.bar(df['n'], df[cols[i]], width=3, alpha=0.33, fc='b')\n",
    "    ax.set_title(titles[i])\n",
    "    ax.set_ylabel('Error')\n",
    "    ax.set_xlabel('$n$ approximations')\n",
    "    ax.axhline(0, c='black', lw=1, ls='dashed')\n",
    "    ax.grid(ls='dashed', alpha=0.5)"
   ]
  },
  {
   "cell_type": "markdown",
   "metadata": {},
   "source": [
    "We can make several observations from these tables:\n",
    "\n",
    "1. In all methods we get more accurate approximations when we increase the value of $n$. However, very large numbers of $n$ result in so many arithmetic operations that we have to beware of accumulated round-off error. \n",
    "2. The errors in the left and right endpoint approximations are opposite in sign and appear to decrease by a factor of about 2 when we double the value of $n$.\n",
    "3. The Trapezoidal and Midpoint Rules are much more accurate that the endpoint approximations.\n",
    "4. The errors in the Trapezoidal and Midpoint Rules are opposite in sign and appear to decrease by a factor of about 4 when we double the value of $n$.\n",
    "5. The size of error in the Midpoint Rule is about half the size of the error in the Trapezoidal Rule."
   ]
  },
  {
   "cell_type": "markdown",
   "metadata": {},
   "source": [
    "# Error bounds"
   ]
  },
  {
   "cell_type": "markdown",
   "metadata": {},
   "source": [
    "Suppose $|\\ f''(x)\\ | \\leq K$ for $a \\leq x \\leq b$. If $E_t$ and $E_m$ are the errors in the Trapezoidal and Midpoint Rules, then $$\\tag{5} |\\ E_t\\ | \\leq \\dfrac{K(b-a)^3}{12n^2} \\quad \\text{and} \\quad |\\ E_m\\ | \\leq \\dfrac{K(b-a)^3}{24n^2}.$$ Let's apply this error estimate to the Trapezoidal Rule approximation in Example 1 equation. First we find $f''(x)$:"
   ]
  },
  {
   "cell_type": "code",
   "execution_count": 44,
   "metadata": {
    "scrolled": true
   },
   "outputs": [
    {
     "data": {
      "image/png": "[encoded data removed]",
      "text/latex": [
       "$$\\frac{2}{x^{3}}$$"
      ],
      "text/plain": [
       "2 \n",
       "──\n",
       " 3\n",
       "x "
      ]
     },
     "execution_count": 44,
     "metadata": {},
     "output_type": "execute_result"
    }
   ],
   "source": [
    "x = sp.symbols('x')\n",
    "f = 1/x\n",
    "sp.diff(sp.diff(f))"
   ]
  },
  {
   "cell_type": "markdown",
   "metadata": {},
   "source": [
    "Because $1 \\leq x \\leq 2$, we have $1/x \\leq 1$, so\n",
    "\n",
    "$$ |\\ f''(x)\\ | = \\left|\\dfrac{2}{x^3}\\right| \\leq \\dfrac{2}{1^3}=2 $$"
   ]
  },
  {
   "cell_type": "markdown",
   "metadata": {},
   "source": [
    "Therefore, taking $K=2,a=1,b=2$, and $n=5$ in the error estimate equation 5, we see that\n",
    "\n",
    "$$ |\\ E_r |\\ \\leq \\dfrac{2(2-1)^3}{12(5)^2}=\\dfrac{1}{500}\\approx0.006667 $$"
   ]
  },
  {
   "cell_type": "markdown",
   "metadata": {},
   "source": [
    "**Guaranteed error** How large should we take $n$ in order to guarantee that the Trapezoidal and Midpoint Rule approximations for $\\int_1^2(1/x)\\ dx$ are accurate to within $0.0001$?"
   ]
  },
  {
   "cell_type": "markdown",
   "metadata": {},
   "source": [
    "We saw in the preceding calculation that $|\\ f(x)\\ | \\leq 2$ for $1\\leq x\\leq 2$, so we take $K=2, a=1$, and $b=2$ in equation 5. Accuracy to within $0.0001$ measn that the size of the error should be less than $0.0001$. Therefore we choose $n$ so that $$ \\dfrac{2(1)^3}{12n^2}\\leq0.0001.$$\n",
    "\n",
    "Solving the inequality for $n$, we get $$ n \\gt \\dfrac{1}{\\sqrt{0.0006}}\\approx 40.8 $$ Thus $n=41$ will ensure the desired accuracy."
   ]
  },
  {
   "cell_type": "markdown",
   "metadata": {},
   "source": [
    "# Simpon's rule"
   ]
  },
  {
   "cell_type": "markdown",
   "metadata": {},
   "source": [
    "..."
   ]
  },
  {
   "cell_type": "code",
   "execution_count": null,
   "metadata": {},
   "outputs": [],
   "source": []
  }
 ],
 "metadata": {
  "kernelspec": {
   "display_name": "Python 3",
   "language": "python",
   "name": "python3"
  },
  "language_info": {
   "codemirror_mode": {
    "name": "ipython",
    "version": 3
   },
   "file_extension": ".py",
   "mimetype": "text/x-python",
   "name": "python",
   "nbconvert_exporter": "python",
   "pygments_lexer": "ipython3",
   "version": "3.6.3"
  }
 },
 "nbformat": 4,
 "nbformat_minor": 2
}
