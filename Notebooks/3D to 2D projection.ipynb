{
 "cells": [
  {
   "cell_type": "code",
   "execution_count": 1,
   "metadata": {},
   "outputs": [
    {
     "data": {
      "text/html": [
       "<link href=\"https://fonts.googleapis.com/css?family=Open+Sans\" rel=\"stylesheet\">\n",
       "<style>#notebook-container{font-size: 13pt;font-family:'Open Sans', sans-serif;} div.text_cell{max-width: 104ex;}</style>"
      ],
      "text/plain": [
       "<IPython.core.display.HTML object>"
      ]
     },
     "metadata": {},
     "output_type": "display_data"
    }
   ],
   "source": [
    "%%html \n",
    "<link href=\"https://fonts.googleapis.com/css?family=Open+Sans\" rel=\"stylesheet\">\n",
    "<style>#notebook-container{font-size: 13pt;font-family:'Open Sans', sans-serif;} div.text_cell{max-width: 104ex;}</style>"
   ]
  },
  {
   "cell_type": "code",
   "execution_count": 2,
   "metadata": {
    "scrolled": false
   },
   "outputs": [
    {
     "name": "stdout",
     "output_type": "stream",
     "text": [
      "Populating the interactive namespace from numpy and matplotlib\n"
     ]
    }
   ],
   "source": [
    "%pylab inline"
   ]
  },
  {
   "cell_type": "markdown",
   "metadata": {},
   "source": [
    "# 3D to 2D projection"
   ]
  },
  {
   "cell_type": "markdown",
   "metadata": {},
   "source": [
    "To generate a 3D scene with 2D to 3D projection the following is required:\n",
    "\n",
    "* A vector with 4 elements: $[x,y,z,w]$.\n",
    "* A mesh to hold all the vertices for an object.\n",
    "  * The position of the object.\n",
    "  * The rotation of the object.\n",
    "* Matrices\n",
    "  * World matrix ($M_{world}$)\n",
    "  * View matrix ($M_{view}$)\n",
    "  * Projection matrix ($M_{proj}$)\n",
    "* Rendering\n",
    "  * Rendering the meshes\n",
    "  * World view projection matrix ($M_{wvp}$)\n",
    "  * Drawing an image\n",
    "\n",
    "**Pipeline**\n",
    "\n",
    "![pipeline](https://www.scratchapixel.com/images/upload/perspective-matrix/vertex-transform-pipeline.png?)\n",
    "  \n",
    "**Sources:**\n",
    "\n",
    "* https://www.reddit.com/r/cpp/comments/3g1pvf/i_want_to_create_a_3d_engine_from_scratch_where/\n",
    "* https://www.davrous.com/2013/06/13/tutorial-series-learning-how-to-write-a-3d-soft-engine-from-scratch-in-c-typescript-or-javascript/\n",
    "* http://web.archive.org/web/20131222170415/http:/robertokoci.com/world-view-projection-matrix-unveiled/\n",
    "* http://www.opengl-tutorial.org/beginners-tutorials/tutorial-3-matrices/\n",
    "* https://www.scratchapixel.com/lessons/3d-basic-rendering/perspective-and-orthographic-projection-matrix/projection-matrices-what-you-need-to-know-first\n",
    "* https://www.scratchapixel.com/lessons/3d-basic-rendering/perspective-and-orthographic-projection-matrix/opengl-perspective-projection-matrix"
   ]
  },
  {
   "cell_type": "markdown",
   "metadata": {},
   "source": [
    "## Vertices to top-view map"
   ]
  },
  {
   "cell_type": "code",
   "execution_count": 3,
   "metadata": {},
   "outputs": [],
   "source": [
    "from PIL import *"
   ]
  },
  {
   "cell_type": "code",
   "execution_count": 4,
   "metadata": {},
   "outputs": [],
   "source": [
    "def TopViewMap(w, h, vertices):\n",
    "    # Create a new image to draw onto.\n",
    "    viewport = (400, 400)\n",
    "    img = Image.new('RGB', (viewport[0], viewport[1]), 'black')\n",
    "    pixels = img.load()\n",
    "    \n",
    "    # Show each vertex top-down with x and z.\n",
    "    for vertex in vertices:\n",
    "        # Move the vertex to the center and normalize the result.\n",
    "        worldX = (vertex.x + (w / 2)) / w\n",
    "        worldY = (vertex.z + (h / 2)) / h\n",
    "        print('{} {}'.format(worldX, worldY))\n",
    "        \n",
    "        # Mark the normalized point onto the canvas\n",
    "        pixels[round(worldX * viewport[0]), round(worldY * viewport[1])] = (255, 0, 0)\n",
    "        \n",
    "    # Mark the origin.\n",
    "    pixels[viewport[0] / 2, viewport[1] / 2] = (0, 255, 0)\n",
    "    return img"
   ]
  },
  {
   "cell_type": "markdown",
   "metadata": {},
   "source": [
    "## Render Pipeline"
   ]
  },
  {
   "cell_type": "code",
   "execution_count": 5,
   "metadata": {},
   "outputs": [],
   "source": [
    "class Vec3():\n",
    "    def __init__(self, x, y, z):\n",
    "        self.x = x\n",
    "        self.y = y\n",
    "        self.z = z\n",
    "    def __repr__(self):\n",
    "        return '({}, {}, {})'.format(self.x, self.y, self.z)"
   ]
  },
  {
   "cell_type": "code",
   "execution_count": 22,
   "metadata": {},
   "outputs": [],
   "source": [
    "class Mesh():\n",
    "    position = Vec3(0,0,0)\n",
    "    \n",
    "    def __init__(self, name):\n",
    "        self.name = name\n",
    "        self.vertices = []\n",
    "        \n",
    "    def __repr__(self):\n",
    "        return 'Mesh ({}) with {} vertices.'.format(self.name, len(self.vertices))"
   ]
  },
  {
   "cell_type": "code",
   "execution_count": 264,
   "metadata": {},
   "outputs": [],
   "source": [
    "cube = Mesh('cube')\n",
    "cube.vertices.append(Vec3(-1, 1, 1))\n",
    "cube.vertices.append(Vec3( 1, 1, 1))\n",
    "cube.vertices.append(Vec3(-1, -1, 1))\n",
    "cube.vertices.append(Vec3(-1, -1, -1))\n",
    "cube.vertices.append(Vec3(-1, 1, -1))\n",
    "cube.vertices.append(Vec3(1, 1, -1))\n",
    "cube.vertices.append(Vec3(1, -1, 1))\n",
    "cube.vertices.append(Vec3(1, -1, -1))\n",
    "cube.position = Vec3(1, 1, 1)"
   ]
  },
  {
   "cell_type": "code",
   "execution_count": 265,
   "metadata": {
    "scrolled": false
   },
   "outputs": [
    {
     "data": {
      "text/plain": [
       "Mesh (cube) with 8 vertices."
      ]
     },
     "execution_count": 265,
     "metadata": {},
     "output_type": "execute_result"
    }
   ],
   "source": [
    "cube"
   ]
  },
  {
   "cell_type": "code",
   "execution_count": 266,
   "metadata": {},
   "outputs": [
    {
     "name": "stdout",
     "output_type": "stream",
     "text": [
      "0.5 0.5285714285714286\n",
      "0.5285714285714286 0.5285714285714286\n",
      "0.5 0.5285714285714286\n",
      "0.5 0.5\n",
      "0.5 0.5\n",
      "0.5285714285714286 0.5\n",
      "0.5285714285714286 0.5285714285714286\n",
      "0.5285714285714286 0.5\n"
     ]
    },
    {
     "data": {
      "image/png": "[encoded data removed]",
      "text/plain": [
       "<PIL.Image.Image image mode=RGB size=400x400 at 0x22B28FA57B8>"
      ]
     },
     "execution_count": 266,
     "metadata": {},
     "output_type": "execute_result"
    }
   ],
   "source": [
    "TopViewMap(70, 70, [Vec3(v.x + cube.position.x, v.y + cube.position.y, v.z + cube.position.z) for v in cube.vertices])"
   ]
  },
  {
   "cell_type": "code",
   "execution_count": 267,
   "metadata": {
    "scrolled": false
   },
   "outputs": [
    {
     "name": "stdout",
     "output_type": "stream",
     "text": [
      "-- Local to world matrix --\r\n",
      "[[ 1.  0.  0.  0.]\n",
      " [ 0.  1.  0.  0.]\n",
      " [ 0.  0.  1.  0.]\n",
      " [ 0.  0.  0.  1.]]\n",
      "\r\n",
      "-- World to camera matrix--\r\n",
      "[[  1.   0.   0.   0.]\n",
      " [  0.   1.   0.   0.]\n",
      " [  0.   0.   1.   0.]\n",
      " [  0. -10. -20.   1.]]\n",
      "\r\n",
      "-- Camera --\r\n",
      "Angle of view: 60\r\n",
      "Near clipping plane: 0.1\r\n",
      "Far clipping plane: 100\n",
      "\r\n",
      "-- Projection matrix --\r\n",
      "S=1.7320508075688774\r\n",
      "[[ 1.73205081  0.          0.          0.        ]\n",
      " [ 0.          1.73205081  0.          0.        ]\n",
      " [ 0.          0.         -1.001001   -1.        ]\n",
      " [ 0.          0.         -0.1001001   0.        ]]\n",
      "\r\n",
      "-- Vertex transformation data --\n",
      "World: (0, 2, 2)\n",
      "Camera: (0.0, -8.0, -18.0, 1.0)\n",
      "Projected: (0.0, -13.85640646055102, 17.018018018018015, 1.8018018018018016)\n",
      "Vertex outside of clipping zone!\n",
      "\r\n",
      "-- Vertex transformation data --\n",
      "World: (2, 2, 2)\n",
      "Camera: (2.0, -8.0, -18.0, 1.0)\n",
      "Projected: (3.464101615137755, -13.85640646055102, 17.018018018018015, 1.8018018018018016)\n",
      "Vertex outside of clipping zone!\n",
      "\r\n",
      "-- Vertex transformation data --\n",
      "World: (0, 0, 2)\n",
      "Camera: (0.0, -10.0, -18.0, 1.0)\n",
      "Projected: (0.0, -17.320508075688775, 17.018018018018015, 1.8018018018018016)\n",
      "Vertex outside of clipping zone!\n",
      "\r\n",
      "-- Vertex transformation data --\n",
      "World: (0, 0, 0)\n",
      "Camera: (0.0, -10.0, -20.0, 1.0)\n",
      "Projected: (0.0, -17.320508075688775, 19.020020020020016, 2.0020020020020017)\n",
      "Vertex outside of clipping zone!\n",
      "\r\n",
      "-- Vertex transformation data --\n",
      "World: (0, 2, 0)\n",
      "Camera: (0.0, -8.0, -20.0, 1.0)\n",
      "Projected: (0.0, -13.85640646055102, 19.020020020020016, 2.0020020020020017)\n",
      "Vertex outside of clipping zone!\n",
      "\r\n",
      "-- Vertex transformation data --\n",
      "World: (2, 2, 0)\n",
      "Camera: (2.0, -8.0, -20.0, 1.0)\n",
      "Projected: (3.464101615137755, -13.85640646055102, 19.020020020020016, 2.0020020020020017)\n",
      "Vertex outside of clipping zone!\n",
      "\r\n",
      "-- Vertex transformation data --\n",
      "World: (2, 0, 2)\n",
      "Camera: (2.0, -10.0, -18.0, 1.0)\n",
      "Projected: (3.464101615137755, -17.320508075688775, 17.018018018018015, 1.8018018018018016)\n",
      "Vertex outside of clipping zone!\n",
      "\r\n",
      "-- Vertex transformation data --\n",
      "World: (2, 0, 0)\n",
      "Camera: (2.0, -10.0, -20.0, 1.0)\n",
      "Projected: (3.464101615137755, -17.320508075688775, 19.020020020020016, 2.0020020020020017)\n",
      "Vertex outside of clipping zone!\n"
     ]
    },
    {
     "data": {
      "image/png": "[encoded data removed]",
      "text/plain": [
       "<PIL.Image.Image image mode=RGB size=640x480 at 0x22B28FA9F60>"
      ]
     },
     "execution_count": 267,
     "metadata": {},
     "output_type": "execute_result"
    }
   ],
   "source": [
    "# Local to world matrix\n",
    "matrixLocalToWorld = np.identity(4)\n",
    "print('-- Local to world matrix --\\r\\n{}'.format(matrixLocalToWorld))\n",
    "\n",
    "# World to camera matrix\n",
    "matrixWorldToCamera = np.identity(4)\n",
    "matrixWorldToCamera[3,1] = -10\n",
    "matrixWorldToCamera[3,2] = -20\n",
    "print('\\r\\n-- World to camera matrix--\\r\\n{}'.format(matrixWorldToCamera))\n",
    "\n",
    "# Camera settings\n",
    "fov = 60\n",
    "far = 100\n",
    "near = 0.1\n",
    "print('\\r\\n-- Camera --\\r\\nAngle of view: {}\\r\\nNear clipping plane: {}\\r\\nFar clipping plane: {}'. format(fov, near, far))\n",
    "\n",
    "# Projection matrix\n",
    "matrixProjection = np.identity(4)\n",
    "S = 1 / tan(fov * 0.5 * pi / 180)\n",
    "matrixProjection[0,0] = S\n",
    "matrixProjection[1,1] = S\n",
    "matrixProjection[2,2] = -far / (far - near)\n",
    "matrixProjection[3,2] = -far * near / (far - near)\n",
    "matrixProjection[2,3] = -1\n",
    "matrixProjection[3,3] = 0\n",
    "print('\\r\\n-- Projection matrix --\\r\\nS={}\\r\\n{}'.format(S, matrixProjection))\n",
    "\n",
    "# Generate image\n",
    "width = 640\n",
    "height = 480\n",
    "\n",
    "img = Image.new('RGB', (width, height), 'black')\n",
    "pixels = img.load()\n",
    "\n",
    "for vertex in cube.vertices:\n",
    "    print('\\r\\n-- Vertex transformation data --')\n",
    "    \n",
    "    # Vertex in world space\n",
    "    worldX = vertex.x + cube.position.x\n",
    "    worldY = vertex.y + cube.position.y\n",
    "    worldZ = vertex.z + cube.position.z\n",
    "    print('World: ({}, {}, {})'.format(worldX, worldY, worldZ))\n",
    "    \n",
    "    # Vertex shader; create homogeneous vector where w=1.\n",
    "    worldVertex = np.dot(matrixLocalToWorld.T, np.array([worldX, worldY, worldZ, 1]))\n",
    "    \n",
    "    # Vertex in camera space\n",
    "    cameraVertex = np.dot(matrixWorldToCamera.T, worldVertex)\n",
    "    print('Camera: ({}, {}, {}, {})'.format(cameraVertex[0], cameraVertex[1], cameraVertex[2], cameraVertex[3]))\n",
    "    \n",
    "    # Homogeneous clip space\n",
    "    projectedVertex = np.dot(matrixProjection, cameraVertex)\n",
    "    print('Projected: ({}, {}, {}, {})'.format(projectedVertex[0], projectedVertex[1], projectedVertex[2], projectedVertex[3]))\n",
    "    \n",
    "    # Clipping\n",
    "    if projectedVertex[0] < -1 or projectedVertex[0] > 1 or projectedVertex[1] < -1 or projectedVertex[1] > 1:\n",
    "        print('Vertex outside of clipping zone!')\n",
    "        continue\n",
    "    \n",
    "    # Perspective divide\n",
    "    if projectedVertex[3] == 0:\n",
    "        print('w=0')\n",
    "        continue \n",
    "        \n",
    "    projectedVertex[0] /= projectedVertex[3]\n",
    "    projectedVertex[1] /= projectedVertex[3]\n",
    "    projectedVertex[2] /= projectedVertex[3]\n",
    "    projectedVertex[3] = 1\n",
    "    print('Normalized: ({}, {}, {})'.format(projectedVertex[0], projectedVertex[1], projectedVertex[2], projectedVertex[3]))\n",
    "    \n",
    "    # NDC Space ([-1, 1]) to Raster space ([0, width-1], [0, height-1]) (Viewport transform)\n",
    "    x = int(min(width - 1, (projectedVertex[0] + 1) * 0.5 * width))\n",
    "    y = int(min(height - 1, (1 - (projectedVertex[1] + 1)) * 0.5 * height))\n",
    "    print('Raster: ({}, {})'.format(x, y))\n",
    "    \n",
    "    if x < 0 or x > width - 1 or y < 0 or y > height - 1:\n",
    "        print('Point outside of canvas.')\n",
    "        continue\n",
    "        \n",
    "    pixels[x, y] = (255, 0, 0)\n",
    "\n",
    "img    "
   ]
  },
  {
   "cell_type": "code",
   "execution_count": 268,
   "metadata": {},
   "outputs": [],
   "source": [
    "import pygame, sys, math"
   ]
  },
  {
   "cell_type": "markdown",
   "metadata": {},
   "source": [
    "https://www.youtube.com/watch?v=g4E9iq0BixA"
   ]
  },
  {
   "cell_type": "code",
   "execution_count": 288,
   "metadata": {},
   "outputs": [
    {
     "ename": "SystemExit",
     "evalue": "",
     "output_type": "error",
     "traceback": [
      "An exception has occurred, use %tb to see the full traceback.\n",
      "\u001b[1;31mSystemExit\u001b[0m\n"
     ]
    },
    {
     "name": "stderr",
     "output_type": "stream",
     "text": [
      "c:\\users\\isomorphism\\appdata\\local\\programs\\python\\python36\\lib\\site-packages\\IPython\\core\\interactiveshell.py:2918: UserWarning: To exit: use 'exit', 'quit', or Ctrl-D.\n",
      "  warn(\"To exit: use 'exit', 'quit', or Ctrl-D.\", stacklevel=1)\n"
     ]
    }
   ],
   "source": [
    "pygame.init()\n",
    "\n",
    "w, h = 400, 400;\n",
    "cx, cy = w//2, h//2\n",
    "screen = pygame.display.set_mode((w, h))\n",
    "clock = pygame.time.Clock()\n",
    "\n",
    "verts = (-1, 1, 1), ( 1, 1, 1), (-1, -1, 1), (-1, -1, -1), (-1, 1, -1), (-1, 1, -1), (1, 1, -1),  (1, -1, 1), (1, -1, -1)\n",
    "\n",
    "while True:\n",
    "    dt = clock.tick()/1000\n",
    "    \n",
    "    for event in pygame.event.get():\n",
    "        if event.type == pygame.QUIT: pygame.quit(); sys.exit();\n",
    "            \n",
    "    screen.fill((255,255,255))\n",
    "    \n",
    "    for x, y, z in verts:\n",
    "        z += 5\n",
    "        f = 400/z\n",
    "        x, y = x*f, y*f\n",
    "        pygame.draw.circle(screen, (0, 0, 0), (cx+int(x), cy+int(y)), 6)\n",
    "        \n",
    "    pygame.draw.circle(screen, (0, 0, 0), (cx, cy), 2)    \n",
    "    pygame.draw.line(screen, (0, 0, 0), (0,0), (cx, cy))    \n",
    "    pygame.draw.line(screen, (0, 0, 0), (w,0), (cx, cy)) \n",
    "    pygame.draw.line(screen, (0, 0, 0), (0,h), (cx, cy)) \n",
    "    pygame.draw.line(screen, (0, 0, 0), (w,h), (cx, cy)) \n",
    "    pygame.display.flip()"
   ]
  },
  {
   "cell_type": "code",
   "execution_count": null,
   "metadata": {},
   "outputs": [],
   "source": []
  }
 ],
 "metadata": {
  "kernelspec": {
   "display_name": "Python 3",
   "language": "python",
   "name": "python3"
  },
  "language_info": {
   "codemirror_mode": {
    "name": "ipython",
    "version": 3
   },
   "file_extension": ".py",
   "mimetype": "text/x-python",
   "name": "python",
   "nbconvert_exporter": "python",
   "pygments_lexer": "ipython3",
   "version": "3.7.4"
  }
 },
 "nbformat": 4,
 "nbformat_minor": 2
}
