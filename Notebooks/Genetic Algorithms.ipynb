{
 "cells": [
  {
   "cell_type": "code",
   "execution_count": 1,
   "metadata": {},
   "outputs": [
    {
     "name": "stdout",
     "output_type": "stream",
     "text": [
      "Populating the interactive namespace from numpy and matplotlib\n"
     ]
    }
   ],
   "source": [
    "%pylab inline"
   ]
  },
  {
   "cell_type": "code",
   "execution_count": 2,
   "metadata": {},
   "outputs": [],
   "source": [
    "import random\n",
    "import pandas as pd"
   ]
  },
  {
   "cell_type": "markdown",
   "metadata": {},
   "source": [
    "# Definitions\n",
    "\n",
    "A genetic algorithm is essentially an improved brute-forced method to find the optimal, or most _fit_, set of _variables_ within a set of allowed variables and their _domains_. We will first lay out the terminology that comes with genetic algorithms."
   ]
  },
  {
   "cell_type": "markdown",
   "metadata": {},
   "source": [
    "## Genotype\n",
    "\n",
    "A genotype, is a variable, which in term is a changable entry in the DNA, which has a limited set of allowed values, which are called it's _domain_. \n",
    "\n",
    "For example, say we have a domain of all the letters, which we call $G = \\{A,B,C,D,\\ldots,Z\\}$. The genotype will hold a value $g \\in \\mathbb{Z}$ such that the value corresponds to an entry in $G$. More concrete, if $g=2$ then the corresponding element in $G$ is $B$."
   ]
  },
  {
   "cell_type": "markdown",
   "metadata": {},
   "source": [
    "## DNA\n",
    "\n",
    "The DNA of the sample holds all the values of the genotypes. This is defined as the set $D = \\{ g_0, g_1, g_2, \\ldots g_{n-1}, g_n\\}$ where $g$ is a genotype."
   ]
  },
  {
   "cell_type": "markdown",
   "metadata": {},
   "source": [
    "## Population\n",
    "\n",
    "The algorithm starts with a population of $N$ elements, where the _DNA_ of the sample is defined with uniform probability at the start. \n",
    "\n",
    "If for example $N=1000$, we create a set $P=\\{d_1,d_2,d_3,\\ldots,d_{1000}\\}$, where $d$ is defined as DNA. All the genotypes in each DNA will point to a random value in domain of the genotype."
   ]
  },
  {
   "cell_type": "markdown",
   "metadata": {},
   "source": [
    "## Fitness\n",
    "\n",
    "A certain configuration of DNA should be measured for _fitness_, which means how good this DNA scores. This is used to fill the mating pool, and ensures survival of the fittest.\n",
    "\n",
    "### Fitness function\n",
    "\n",
    "For our example, where each genotype in the DNA represents a letter, we want to match a certain sentence. Therefore we can define our fitness function as:\n",
    "\n",
    "$$ f(\\text{correct words}) = \\text{correct words}$$\n",
    "\n",
    "which will be an integer value between $[0, \\text{sentence length}]$.\n",
    "\n",
    "### Fitness curve\n",
    "\n",
    "Instead of using a linear function, we can also apply a curve to the fitness function. Here is a list of basic functions which can be used to create a curve:\n",
    "\n",
    " * Linear (yes, not a curve): $x$.\n",
    " * Power: $a^x$.\n",
    " * Exponential: $e^x$.\n",
    " * Square-root: $\\sqrt{x}$.\n",
    " * Logarithmic: $\\ln x$."
   ]
  },
  {
   "cell_type": "markdown",
   "metadata": {},
   "source": [
    "## Mating pool\n",
    "\n",
    "Based on the fitness, calculated with $f$, of each DNA, we want to create a mating pool. This can be done in two ways: a _probabilistic_ method or a _rank_ based method.\n",
    "\n",
    "### Probabilistic method\n",
    "\n",
    "With this method, we normalize the fitness for each DNA, expressed as $f_{norm}$:\n",
    "\n",
    "$$ f_{norm} = \\dfrac{ f(d) }{\\sum\\limits_{g\\in D} f(d)} $$\n",
    "\n",
    "As an example when there are only $4$ samples in the population. First we calculate $\\sum_{g\\in D} f(g)$, which in this case, is $26$.\n",
    "\n",
    "|Sample|Fitness score|Fitness score (normalized)|\n",
    "|---|---|---|\n",
    "|$1$ | $12$ | $\\dfrac{12}{26} \\approx 0.462 $ |\n",
    "|$2$ | $7$ | $\\dfrac{7}{26} \\approx 0.269 $ |\n",
    "|$3$ | $5$ | $\\dfrac{5}{26} \\approx 0.192 $ |\n",
    "|$4$ | $2$ | $\\dfrac{2}{26} \\approx 0.077 $ |\n",
    "\n",
    "### Rank method\n",
    "\n",
    "In some cases, where $f_{norm}$ ends up to be $0.98$ ($98\\%$), sorting them by rank can fix the issue of overselecting. Simply sort all the elements descending by rank (ascending on fitness score), and divide the rank by $\\dfrac{n(n+1)}{2}$ where $n$ is the number of ranks.\n",
    "\n",
    "As an example, we have a population where one DNA scores very high. First we find the sum of rank numbers, there are $4$ samples, so we find:\n",
    "\n",
    "$$ \\dfrac{n(n+1)}{2} = \\dfrac{4\\cdot 5}{2} = 10 = 1+2+3+4$$\n",
    "\n",
    "Then we sort them by rank, and normalize the rank score:\n",
    "\n",
    "|Sample|Fitness score|Fitness score (normalized)|Rank|Rank (normalized)|\n",
    "|---|---|---|---|---|\n",
    "|$1$|$20$|$\\dfrac{20}{24} \\approx 0.833$|$4$|$\\dfrac{4}{10} = 0.4$|\n",
    "|$2$|$3$|$\\dfrac{3}{24} = 0.125$|$3$|$\\dfrac{3}{10}=0.3$|\n",
    "|$3$|$2$|$\\dfrac{2}{24} \\approx 0.083$|$2$|$\\dfrac{2}{10}=0.2$|\n",
    "|$4$|$1$|$\\dfrac{1}{24} \\approx 0.042$|$1$|$\\dfrac{1}{10}=0.1$|\n",
    "\n",
    "### Selecting\n",
    "\n",
    "To select a sample from the pool, we define a random value $r \\in \\mathbb{R}$ which is between $[0,1]$. The easiest way to pick a value, is to create a cumulative sum of the rank:\n",
    "\n",
    "|Sample|Rank (norm.)|Rank (cumulative)|\n",
    "|---|---|---|\n",
    "|$1$|$0.4$|$0.4$|\n",
    "|$2$|$0.3$|$0.7$|\n",
    "|$3$|$0.2$|$0.9$|\n",
    "|$4$|$0.1$|$1.0$|\n",
    "\n",
    "Now we can check within which sample $r$ falls, e.g:\n",
    "\n",
    " * if $r < 0.4$ we select $1$.\n",
    " * if $0.4 \\leq r < 0.7$ we select $2$.\n",
    " * if $0.7 \\leq r < 0.9$ we select $3$.\n",
    " * if $ r \\geq 0.9$ we select $4$.\n",
    " \n",
    "This can easily be implemented as a loop, where we start with $a=0.4$ and add the cumulative probability to $a$, until $r\\leq a$, which gives the sample."
   ]
  },
  {
   "cell_type": "markdown",
   "metadata": {},
   "source": [
    "## Crossover\n",
    "\n",
    "We can create a crossover between DNA's in a few different methods. We can always split them $50/50$, or have a more skewed distribution. If we decide for each genotype by a coin flip, where we pick between $A$ or $B$ based on the outcome.\n",
    "\n",
    "### Even crossover\n",
    "\n",
    "The simplest case is where the first half of $A$'s DNA is picked, and the second half of $B$'s DNA. Another way would be to pick a mid value, and wrap the gene around the beginning and end (modulo for example).\n",
    "\n",
    "### Skewed crossover\n",
    "\n",
    "To get a more skewed crossover, we toss a coin and pick between $A$ or $B$'s genotype based on the outcome. We can also pick a random mid value, and don't wrap the set. All the values before the mid value go to $A$ and after the mid value to $B$."
   ]
  },
  {
   "cell_type": "markdown",
   "metadata": {},
   "source": [
    "## Mutation"
   ]
  },
  {
   "cell_type": "markdown",
   "metadata": {},
   "source": [
    "To introduce new genotypes into the DNA, we can apply a mutation factor $m$, which should be a low value, e.g.: $0.01, 0.02, 0.05$. Then every genotype is being checked for a random value $r<m$, for which a new random value is picked from the genotypes domain."
   ]
  },
  {
   "cell_type": "markdown",
   "metadata": {},
   "source": [
    "# Algorithm"
   ]
  },
  {
   "cell_type": "markdown",
   "metadata": {},
   "source": []
  },
  {
   "cell_type": "markdown",
   "metadata": {},
   "source": [
    "# Implementation"
   ]
  },
  {
   "cell_type": "markdown",
   "metadata": {},
   "source": [
    "First we define the domain. We will pick values from the ASCII table, that will enable us to construct the sentence: _to be or not to be, thats the question_. Notice that I dropped `'` to make it easier."
   ]
  },
  {
   "cell_type": "code",
   "execution_count": 3,
   "metadata": {},
   "outputs": [
    {
     "data": {
      "text/plain": [
       "54"
      ]
     },
     "execution_count": 3,
     "metadata": {},
     "output_type": "execute_result"
    }
   ],
   "source": [
    "domain =  [chr(x) for x in range(65, 91)]\\\n",
    "        + [chr(x) for x in range(97, 123)]\\\n",
    "        + [',', ' ']\n",
    "    \n",
    "len(domain)"
   ]
  },
  {
   "cell_type": "code",
   "execution_count": 4,
   "metadata": {},
   "outputs": [
    {
     "data": {
      "text/plain": [
       "[84, 111, 32, 98, 101, 32, 111, 114, 32, 110, 111, 116, 32, 116, 111, 32, 98]"
      ]
     },
     "execution_count": 4,
     "metadata": {},
     "output_type": "execute_result"
    }
   ],
   "source": [
    "sentence = [ord(l) for l in \"To be or not to be, thats the question\"]\n",
    "sentence[:17]"
   ]
  },
  {
   "cell_type": "markdown",
   "metadata": {},
   "source": [
    "We can quickly check if the domain $D$ covers the sentence $S$. We want to find all the elements in $S$ that are not in $D$, or simply $S-D$:"
   ]
  },
  {
   "cell_type": "code",
   "execution_count": 5,
   "metadata": {},
   "outputs": [
    {
     "data": {
      "text/plain": [
       "set()"
      ]
     },
     "execution_count": 5,
     "metadata": {},
     "output_type": "execute_result"
    }
   ],
   "source": [
    "set(sentence) - set([ord(d) for d in domain])"
   ]
  },
  {
   "cell_type": "markdown",
   "metadata": {},
   "source": [
    "An empty set, which is good, this means we have all the elements in our domain. Next we create a genotype class that will help is to initialize to a random value, and convert between the genotype and phenotype quickly."
   ]
  },
  {
   "cell_type": "code",
   "execution_count": 6,
   "metadata": {},
   "outputs": [],
   "source": [
    "class Genotype():\n",
    "    \n",
    "    def __init__(self, domain, value = -1):\n",
    "        self.D = domain\n",
    "        self.value = value if value >= 0 else self.rand_int()\n",
    "        if self.value < 0 or self.value >= len(self.D): raise ValueError('Value not within domain.')\n",
    "            \n",
    "    def __repr__(self):\n",
    "        return 'Genotype {} with phenotype {}'.format(self.value, self.D[self.value])\n",
    "        \n",
    "    def rand_int(self):\n",
    "        return random.randint(0, len(self.D)-1)\n",
    "        \n",
    "    def rand(self):\n",
    "        return self.D[self.rand_int()]\n",
    "    \n",
    "    def phenotype(self):\n",
    "        return self.D[self.value]"
   ]
  },
  {
   "cell_type": "markdown",
   "metadata": {},
   "source": [
    "Let's test if the genotype works as expected:"
   ]
  },
  {
   "cell_type": "code",
   "execution_count": 7,
   "metadata": {
    "scrolled": true
   },
   "outputs": [
    {
     "name": "stdout",
     "output_type": "stream",
     "text": [
      "Genotype 37 with phenotype l\n"
     ]
    }
   ],
   "source": [
    "g = Genotype(domain)\n",
    "print('Genotype {} with phenotype {}'.format(g.value, g.phenotype()))"
   ]
  },
  {
   "cell_type": "code",
   "execution_count": 8,
   "metadata": {
    "scrolled": true
   },
   "outputs": [
    {
     "data": {
      "text/plain": [
       "Genotype 37 with phenotype l"
      ]
     },
     "execution_count": 8,
     "metadata": {},
     "output_type": "execute_result"
    }
   ],
   "source": [
    "g"
   ]
  },
  {
   "cell_type": "markdown",
   "metadata": {},
   "source": [
    "Now we are going to create a DNA class, which generates a set of genotypes based on a length. We will also add a fitness function to determine the fitness for this DNA."
   ]
  },
  {
   "cell_type": "code",
   "execution_count": 9,
   "metadata": {},
   "outputs": [],
   "source": [
    "class DNA():\n",
    "    \n",
    "    def __init__(self, length, D):\n",
    "        if length % 2 == 1: raise ValueError('Length must be multiple of 2.') # to ensure we can split it evenly in two\n",
    "        self.genotypes = [Genotype(D) for _ in range(length)]\n",
    "        \n",
    "    def __repr__(self):\n",
    "        return ''.join( [g.phenotype() for g in self.genotypes] )\n",
    "    \n",
    "    def fitness(self, sentence):\n",
    "        if len(sentence) is not len(self.genotypes): \n",
    "            raise ValueError('Sentence and genotypes have invalid dimension.')\n",
    "        return sum([1 for x in range(len(sentence)) if sentence[x] == self.genotypes[x].value])"
   ]
  },
  {
   "cell_type": "markdown",
   "metadata": {},
   "source": [
    "Let's see how the DNA look's phonetically:"
   ]
  },
  {
   "cell_type": "code",
   "execution_count": 10,
   "metadata": {},
   "outputs": [
    {
     "data": {
      "text/plain": [
       "LZPkqQsPOZPWtOfv,EATgSqnWK,nKFg B,HDuP"
      ]
     },
     "execution_count": 10,
     "metadata": {},
     "output_type": "execute_result"
    }
   ],
   "source": [
    "d = DNA(len(sentence), domain)\n",
    "d"
   ]
  },
  {
   "cell_type": "markdown",
   "metadata": {},
   "source": [
    "It seems to be working properly. Next is the fitness function, which will probably be very low, let's see:"
   ]
  },
  {
   "cell_type": "code",
   "execution_count": 11,
   "metadata": {},
   "outputs": [
    {
     "data": {
      "text/plain": [
       "0.0"
      ]
     },
     "execution_count": 11,
     "metadata": {},
     "output_type": "execute_result"
    }
   ],
   "source": [
    "d.fitness(sentence)"
   ]
  },
  {
   "cell_type": "markdown",
   "metadata": {},
   "source": [
    "Hmmm, let's try to find the fitness for $100.000$ initial DNA's:"
   ]
  },
  {
   "cell_type": "code",
   "execution_count": 12,
   "metadata": {},
   "outputs": [],
   "source": [
    "fitness = []\n",
    "for i in range(100000):\n",
    "    fitness.append(DNA(len(sentence), domain).fitness(sentence))"
   ]
  },
  {
   "cell_type": "code",
   "execution_count": 13,
   "metadata": {},
   "outputs": [
    {
     "data": {
      "image/png": "[encoded data removed]",
      "text/plain": [
       "<matplotlib.figure.Figure at 0x1fd6b1aaac8>"
      ]
     },
     "metadata": {},
     "output_type": "display_data"
    }
   ],
   "source": [
    "hist(fitness, bins=len(set(fitness)))\n",
    "xlabel('Number of correct letters')\n",
    "grid()"
   ]
  },
  {
   "cell_type": "markdown",
   "metadata": {},
   "source": [
    "This is a very poor result. Based on a random initialization, we never get more than $3$ characters correct. Let's see how many times we have $3$ correct characters."
   ]
  },
  {
   "cell_type": "code",
   "execution_count": 14,
   "metadata": {},
   "outputs": [
    {
     "name": "stdout",
     "output_type": "stream",
     "text": [
      "43\n"
     ]
    }
   ],
   "source": [
    "print(sum([1 for x in fitness if x >= 3]))"
   ]
  },
  {
   "cell_type": "markdown",
   "metadata": {},
   "source": [
    "The probability for this scenario to occur, is:"
   ]
  },
  {
   "cell_type": "code",
   "execution_count": 15,
   "metadata": {},
   "outputs": [
    {
     "name": "stdout",
     "output_type": "stream",
     "text": [
      "0.041%\n"
     ]
    }
   ],
   "source": [
    "print('{}%'.format(41/100000*100))"
   ]
  },
  {
   "cell_type": "markdown",
   "metadata": {},
   "source": [
    "Let's create a table for $100$ DNA's and calculate their fitness scores."
   ]
  },
  {
   "cell_type": "code",
   "execution_count": 16,
   "metadata": {},
   "outputs": [
    {
     "data": {
      "text/html": [
       "<div>\n",
       "<style scoped>\n",
       "    .dataframe tbody tr th:only-of-type {\n",
       "        vertical-align: middle;\n",
       "    }\n",
       "\n",
       "    .dataframe tbody tr th {\n",
       "        vertical-align: top;\n",
       "    }\n",
       "\n",
       "    .dataframe thead th {\n",
       "        text-align: right;\n",
       "    }\n",
       "</style>\n",
       "<table border=\"1\" class=\"dataframe\">\n",
       "  <thead>\n",
       "    <tr style=\"text-align: right;\">\n",
       "      <th></th>\n",
       "      <th>DNA</th>\n",
       "      <th>fitness</th>\n",
       "      <th>accuracy</th>\n",
       "      <th>fitness_norm</th>\n",
       "      <th>fitness_norm_cum</th>\n",
       "    </tr>\n",
       "  </thead>\n",
       "  <tbody>\n",
       "    <tr>\n",
       "      <th>50</th>\n",
       "      <td>tXCPXFZrKkDTmEX,nv,gXKoFpLmQkZTdmPqkVK</td>\n",
       "      <td>1.0</td>\n",
       "      <td>0.026316</td>\n",
       "      <td>0.066667</td>\n",
       "      <td>0.066667</td>\n",
       "    </tr>\n",
       "    <tr>\n",
       "      <th>9</th>\n",
       "      <td>zDerEdcngTshqF,,nUyBPeMtlhfSeQfYE iZzx</td>\n",
       "      <td>1.0</td>\n",
       "      <td>0.026316</td>\n",
       "      <td>0.066667</td>\n",
       "      <td>0.133333</td>\n",
       "    </tr>\n",
       "    <tr>\n",
       "      <th>75</th>\n",
       "      <td>,GDOAXxnRHSuXlfwBkWgaAjIrFtdQqbmJybkZo</td>\n",
       "      <td>1.0</td>\n",
       "      <td>0.026316</td>\n",
       "      <td>0.066667</td>\n",
       "      <td>0.200000</td>\n",
       "    </tr>\n",
       "    <tr>\n",
       "      <th>70</th>\n",
       "      <td>DhdotgjTRqpVbKuOZIiWDborjWOYonKTVoYyNC</td>\n",
       "      <td>1.0</td>\n",
       "      <td>0.026316</td>\n",
       "      <td>0.066667</td>\n",
       "      <td>0.266667</td>\n",
       "    </tr>\n",
       "    <tr>\n",
       "      <th>69</th>\n",
       "      <td>RTJoCpqJyTWkVCxIochsEaFRGshdugVd,NRqxk</td>\n",
       "      <td>1.0</td>\n",
       "      <td>0.026316</td>\n",
       "      <td>0.066667</td>\n",
       "      <td>0.333333</td>\n",
       "    </tr>\n",
       "    <tr>\n",
       "      <th>36</th>\n",
       "      <td>cSFKUtpNitIbfCALpcb EE qbgfuRkyQcz,yBx</td>\n",
       "      <td>1.0</td>\n",
       "      <td>0.026316</td>\n",
       "      <td>0.066667</td>\n",
       "      <td>0.400000</td>\n",
       "    </tr>\n",
       "    <tr>\n",
       "      <th>88</th>\n",
       "      <td>x,FyLAazyT,vMUOgjISSPPBjWu rHnY,TINiPK</td>\n",
       "      <td>1.0</td>\n",
       "      <td>0.026316</td>\n",
       "      <td>0.066667</td>\n",
       "      <td>0.466667</td>\n",
       "    </tr>\n",
       "    <tr>\n",
       "      <th>89</th>\n",
       "      <td>uAvyNwcjdDtiSYEkjOsyFmNHMRrRDPGPly,STM</td>\n",
       "      <td>1.0</td>\n",
       "      <td>0.026316</td>\n",
       "      <td>0.066667</td>\n",
       "      <td>0.533333</td>\n",
       "    </tr>\n",
       "    <tr>\n",
       "      <th>12</th>\n",
       "      <td>LZQSlJeBRVraWZdUEwwKzDkbRxbEHgstXvVtpL</td>\n",
       "      <td>1.0</td>\n",
       "      <td>0.026316</td>\n",
       "      <td>0.066667</td>\n",
       "      <td>0.600000</td>\n",
       "    </tr>\n",
       "    <tr>\n",
       "      <th>15</th>\n",
       "      <td>HYZcHm,,micBHP ohuEkwLMxugaKqMDaMaUgAc</td>\n",
       "      <td>1.0</td>\n",
       "      <td>0.026316</td>\n",
       "      <td>0.066667</td>\n",
       "      <td>0.666667</td>\n",
       "    </tr>\n",
       "  </tbody>\n",
       "</table>\n",
       "</div>"
      ],
      "text/plain": [
       "                                       DNA  fitness  accuracy  fitness_norm  \\\n",
       "50  tXCPXFZrKkDTmEX,nv,gXKoFpLmQkZTdmPqkVK      1.0  0.026316      0.066667   \n",
       "9   zDerEdcngTshqF,,nUyBPeMtlhfSeQfYE iZzx      1.0  0.026316      0.066667   \n",
       "75  ,GDOAXxnRHSuXlfwBkWgaAjIrFtdQqbmJybkZo      1.0  0.026316      0.066667   \n",
       "70  DhdotgjTRqpVbKuOZIiWDborjWOYonKTVoYyNC      1.0  0.026316      0.066667   \n",
       "69  RTJoCpqJyTWkVCxIochsEaFRGshdugVd,NRqxk      1.0  0.026316      0.066667   \n",
       "36  cSFKUtpNitIbfCALpcb EE qbgfuRkyQcz,yBx      1.0  0.026316      0.066667   \n",
       "88  x,FyLAazyT,vMUOgjISSPPBjWu rHnY,TINiPK      1.0  0.026316      0.066667   \n",
       "89  uAvyNwcjdDtiSYEkjOsyFmNHMRrRDPGPly,STM      1.0  0.026316      0.066667   \n",
       "12  LZQSlJeBRVraWZdUEwwKzDkbRxbEHgstXvVtpL      1.0  0.026316      0.066667   \n",
       "15  HYZcHm,,micBHP ohuEkwLMxugaKqMDaMaUgAc      1.0  0.026316      0.066667   \n",
       "\n",
       "    fitness_norm_cum  \n",
       "50          0.066667  \n",
       "9           0.133333  \n",
       "75          0.200000  \n",
       "70          0.266667  \n",
       "69          0.333333  \n",
       "36          0.400000  \n",
       "88          0.466667  \n",
       "89          0.533333  \n",
       "12          0.600000  \n",
       "15          0.666667  "
      ]
     },
     "execution_count": 16,
     "metadata": {},
     "output_type": "execute_result"
    }
   ],
   "source": [
    "N = 100\n",
    "df = pd.DataFrame()\n",
    "df['DNA'] = [DNA(len(sentence), domain) for _ in range(N)]\n",
    "df['fitness'] = [dna.fitness(sentence) for dna in df['DNA']]\n",
    "df['accuracy'] = df['fitness'] / len(sentence)\n",
    "df = df.sort_values(by=['fitness'], ascending=False)\n",
    "df['fitness_norm'] = df['fitness'] / df['fitness'].sum()\n",
    "df['fitness_norm_cum'] = df['fitness_norm'].cumsum()\n",
    "df[:10]"
   ]
  },
  {
   "cell_type": "markdown",
   "metadata": {},
   "source": [
    "A simple helper for a random float between $[0,1]$."
   ]
  },
  {
   "cell_type": "code",
   "execution_count": 17,
   "metadata": {},
   "outputs": [],
   "source": [
    "def rand(): \n",
    "    return random.randint(0,100000)/100000"
   ]
  },
  {
   "cell_type": "code",
   "execution_count": 18,
   "metadata": {},
   "outputs": [
    {
     "data": {
      "text/plain": [
       "0.12804"
      ]
     },
     "execution_count": 18,
     "metadata": {},
     "output_type": "execute_result"
    }
   ],
   "source": [
    "rand()"
   ]
  },
  {
   "cell_type": "markdown",
   "metadata": {},
   "source": [
    "This function uses the selection algorithm described earlier. We don't need to compute $a$ because we have already computed the cumulative sum of the normalized fitness score."
   ]
  },
  {
   "cell_type": "code",
   "execution_count": 19,
   "metadata": {},
   "outputs": [],
   "source": [
    "def pick(df):\n",
    "    r = rand()\n",
    "    last_index=0\n",
    "    for index, row in df.iterrows():\n",
    "        if r <= row['fitness_norm_cum'] + 0.00000001:  # add epsilon to remove some rounding errors.\n",
    "            return index  "
   ]
  },
  {
   "cell_type": "code",
   "execution_count": 20,
   "metadata": {},
   "outputs": [
    {
     "data": {
      "text/plain": [
       "36"
      ]
     },
     "execution_count": 20,
     "metadata": {},
     "output_type": "execute_result"
    }
   ],
   "source": [
    "pick(df)"
   ]
  },
  {
   "cell_type": "markdown",
   "metadata": {},
   "source": [
    "Let's see the distribution for the DNA's that are being picked:"
   ]
  },
  {
   "cell_type": "code",
   "execution_count": 21,
   "metadata": {},
   "outputs": [
    {
     "data": {
      "image/png": "[encoded data removed]",
      "text/plain": [
       "<matplotlib.figure.Figure at 0x1fd6d4544e0>"
      ]
     },
     "metadata": {},
     "output_type": "display_data"
    }
   ],
   "source": [
    "picks = [pick(df) for _ in range(N)]\n",
    "hist(picks)\n",
    "xlabel('Picked sample ID')\n",
    "ylabel('Times picked')\n",
    "grid()"
   ]
  },
  {
   "cell_type": "markdown",
   "metadata": {},
   "source": [
    "Compared to the top 5, we find that:"
   ]
  },
  {
   "cell_type": "code",
   "execution_count": 22,
   "metadata": {
    "scrolled": true
   },
   "outputs": [
    {
     "data": {
      "text/html": [
       "<div>\n",
       "<style scoped>\n",
       "    .dataframe tbody tr th:only-of-type {\n",
       "        vertical-align: middle;\n",
       "    }\n",
       "\n",
       "    .dataframe tbody tr th {\n",
       "        vertical-align: top;\n",
       "    }\n",
       "\n",
       "    .dataframe thead th {\n",
       "        text-align: right;\n",
       "    }\n",
       "</style>\n",
       "<table border=\"1\" class=\"dataframe\">\n",
       "  <thead>\n",
       "    <tr style=\"text-align: right;\">\n",
       "      <th></th>\n",
       "      <th>DNA</th>\n",
       "      <th>fitness</th>\n",
       "      <th>accuracy</th>\n",
       "      <th>fitness_norm</th>\n",
       "      <th>fitness_norm_cum</th>\n",
       "    </tr>\n",
       "  </thead>\n",
       "  <tbody>\n",
       "    <tr>\n",
       "      <th>50</th>\n",
       "      <td>tXCPXFZrKkDTmEX,nv,gXKoFpLmQkZTdmPqkVK</td>\n",
       "      <td>1.0</td>\n",
       "      <td>0.026316</td>\n",
       "      <td>0.066667</td>\n",
       "      <td>0.066667</td>\n",
       "    </tr>\n",
       "    <tr>\n",
       "      <th>9</th>\n",
       "      <td>zDerEdcngTshqF,,nUyBPeMtlhfSeQfYE iZzx</td>\n",
       "      <td>1.0</td>\n",
       "      <td>0.026316</td>\n",
       "      <td>0.066667</td>\n",
       "      <td>0.133333</td>\n",
       "    </tr>\n",
       "    <tr>\n",
       "      <th>75</th>\n",
       "      <td>,GDOAXxnRHSuXlfwBkWgaAjIrFtdQqbmJybkZo</td>\n",
       "      <td>1.0</td>\n",
       "      <td>0.026316</td>\n",
       "      <td>0.066667</td>\n",
       "      <td>0.200000</td>\n",
       "    </tr>\n",
       "    <tr>\n",
       "      <th>70</th>\n",
       "      <td>DhdotgjTRqpVbKuOZIiWDborjWOYonKTVoYyNC</td>\n",
       "      <td>1.0</td>\n",
       "      <td>0.026316</td>\n",
       "      <td>0.066667</td>\n",
       "      <td>0.266667</td>\n",
       "    </tr>\n",
       "    <tr>\n",
       "      <th>69</th>\n",
       "      <td>RTJoCpqJyTWkVCxIochsEaFRGshdugVd,NRqxk</td>\n",
       "      <td>1.0</td>\n",
       "      <td>0.026316</td>\n",
       "      <td>0.066667</td>\n",
       "      <td>0.333333</td>\n",
       "    </tr>\n",
       "  </tbody>\n",
       "</table>\n",
       "</div>"
      ],
      "text/plain": [
       "                                       DNA  fitness  accuracy  fitness_norm  \\\n",
       "50  tXCPXFZrKkDTmEX,nv,gXKoFpLmQkZTdmPqkVK      1.0  0.026316      0.066667   \n",
       "9   zDerEdcngTshqF,,nUyBPeMtlhfSeQfYE iZzx      1.0  0.026316      0.066667   \n",
       "75  ,GDOAXxnRHSuXlfwBkWgaAjIrFtdQqbmJybkZo      1.0  0.026316      0.066667   \n",
       "70  DhdotgjTRqpVbKuOZIiWDborjWOYonKTVoYyNC      1.0  0.026316      0.066667   \n",
       "69  RTJoCpqJyTWkVCxIochsEaFRGshdugVd,NRqxk      1.0  0.026316      0.066667   \n",
       "\n",
       "    fitness_norm_cum  \n",
       "50          0.066667  \n",
       "9           0.133333  \n",
       "75          0.200000  \n",
       "70          0.266667  \n",
       "69          0.333333  "
      ]
     },
     "execution_count": 22,
     "metadata": {},
     "output_type": "execute_result"
    }
   ],
   "source": [
    "df[:5]"
   ]
  },
  {
   "cell_type": "markdown",
   "metadata": {},
   "source": [
    "Let's start with a simple crossover function that picks half from $A$ and the other half from $B$:"
   ]
  },
  {
   "cell_type": "code",
   "execution_count": 23,
   "metadata": {},
   "outputs": [],
   "source": [
    "def crossover(genotypes_A, genotypes_B):\n",
    "    if len(genotypes_A) is not len(genotypes_B): raise ValueError('A and B must have the same dimension.')\n",
    "    N2 = len(genotypes_A) // 2\n",
    "    return genotypes_A[:N2] + genotypes_B[N2:]"
   ]
  },
  {
   "cell_type": "code",
   "execution_count": 24,
   "metadata": {},
   "outputs": [
    {
     "data": {
      "text/plain": [
       "[Genotype 46 with phenotype u,\n",
       " Genotype 8 with phenotype I,\n",
       " Genotype 22 with phenotype W,\n",
       " Genotype 38 with phenotype m,\n",
       " Genotype 37 with phenotype l,\n",
       " Genotype 30 with phenotype e,\n",
       " Genotype 24 with phenotype Y,\n",
       " Genotype 11 with phenotype L,\n",
       " Genotype 3 with phenotype D,\n",
       " Genotype 19 with phenotype T,\n",
       " Genotype 32 with phenotype g,\n",
       " Genotype 31 with phenotype f,\n",
       " Genotype 41 with phenotype p,\n",
       " Genotype 28 with phenotype c,\n",
       " Genotype 23 with phenotype X,\n",
       " Genotype 1 with phenotype B,\n",
       " Genotype 51 with phenotype z,\n",
       " Genotype 2 with phenotype C,\n",
       " Genotype 43 with phenotype r,\n",
       " Genotype 42 with phenotype q,\n",
       " Genotype 44 with phenotype s,\n",
       " Genotype 52 with phenotype ,,\n",
       " Genotype 50 with phenotype y,\n",
       " Genotype 0 with phenotype A,\n",
       " Genotype 8 with phenotype I,\n",
       " Genotype 20 with phenotype U,\n",
       " Genotype 46 with phenotype u,\n",
       " Genotype 53 with phenotype  ,\n",
       " Genotype 13 with phenotype N,\n",
       " Genotype 37 with phenotype l,\n",
       " Genotype 41 with phenotype p,\n",
       " Genotype 39 with phenotype n,\n",
       " Genotype 11 with phenotype L,\n",
       " Genotype 17 with phenotype R,\n",
       " Genotype 31 with phenotype f,\n",
       " Genotype 27 with phenotype b,\n",
       " Genotype 37 with phenotype l,\n",
       " Genotype 38 with phenotype m]"
      ]
     },
     "execution_count": 24,
     "metadata": {},
     "output_type": "execute_result"
    }
   ],
   "source": [
    "C = crossover(df['DNA'][99].genotypes, df['DNA'][30].genotypes)\n",
    "C"
   ]
  },
  {
   "cell_type": "markdown",
   "metadata": {},
   "source": [
    "Verify that the function returns the same length of genotypes:"
   ]
  },
  {
   "cell_type": "code",
   "execution_count": 25,
   "metadata": {},
   "outputs": [
    {
     "data": {
      "text/plain": [
       "True"
      ]
     },
     "execution_count": 25,
     "metadata": {},
     "output_type": "execute_result"
    }
   ],
   "source": [
    "len(df['DNA'][0].genotypes) == len(C)"
   ]
  },
  {
   "cell_type": "markdown",
   "metadata": {},
   "source": [
    "Let's see if the fitness of the crossover DNA has an improved fitness score:"
   ]
  },
  {
   "cell_type": "code",
   "execution_count": 26,
   "metadata": {},
   "outputs": [
    {
     "data": {
      "text/plain": [
       "0.0"
      ]
     },
     "execution_count": 26,
     "metadata": {},
     "output_type": "execute_result"
    }
   ],
   "source": [
    "crossover_sample = DNA(len(sentence), domain)\n",
    "crossover_sample.genotypes = C\n",
    "crossover_sample.fitness(sentence)"
   ]
  },
  {
   "cell_type": "markdown",
   "metadata": {},
   "source": [
    "Meh. What if we swap the crossover:"
   ]
  },
  {
   "cell_type": "code",
   "execution_count": 27,
   "metadata": {},
   "outputs": [
    {
     "data": {
      "text/plain": [
       "0.0"
      ]
     },
     "execution_count": 27,
     "metadata": {},
     "output_type": "execute_result"
    }
   ],
   "source": [
    "crossover_sample.genotypes = crossover(df['DNA'][30].genotypes, df['DNA'][99].genotypes)\n",
    "crossover_sample.fitness(sentence)"
   ]
  },
  {
   "cell_type": "code",
   "execution_count": 28,
   "metadata": {},
   "outputs": [
    {
     "data": {
      "text/plain": [
       "xAGfyUVoLSjN,QvKgkkLWjtLyijrbjxrDDYWln"
      ]
     },
     "execution_count": 28,
     "metadata": {},
     "output_type": "execute_result"
    }
   ],
   "source": [
    "crossover_sample"
   ]
  },
  {
   "cell_type": "code",
   "execution_count": 29,
   "metadata": {},
   "outputs": [
    {
     "data": {
      "text/plain": [
       "'To be or not to be, thats the question'"
      ]
     },
     "execution_count": 29,
     "metadata": {},
     "output_type": "execute_result"
    }
   ],
   "source": [
    "''.join([chr(c) for c in sentence])"
   ]
  },
  {
   "cell_type": "code",
   "execution_count": 30,
   "metadata": {},
   "outputs": [
    {
     "data": {
      "text/plain": [
       "[' ']"
      ]
     },
     "execution_count": 30,
     "metadata": {},
     "output_type": "execute_result"
    }
   ],
   "source": [
    "[chr(c) for c in set([g.value for g in crossover_sample.genotypes]) & set(sentence)]"
   ]
  },
  {
   "cell_type": "markdown",
   "metadata": {},
   "source": [
    "We can conclude that two spaces, and `,` are correct. The final piece of the puzzle is a mutation function."
   ]
  },
  {
   "cell_type": "code",
   "execution_count": 31,
   "metadata": {},
   "outputs": [],
   "source": [
    "def mutate(genotypes, rate):\n",
    "    for index in range(len(genotypes)):\n",
    "        if rand() < rate:\n",
    "            genotypes[index].value = genotypes[index].rand_int()\n",
    "    return genotypes"
   ]
  },
  {
   "cell_type": "code",
   "execution_count": 32,
   "metadata": {},
   "outputs": [
    {
     "data": {
      "text/plain": [
       "[Genotype 49 with phenotype x,\n",
       " Genotype 0 with phenotype A,\n",
       " Genotype 6 with phenotype G,\n",
       " Genotype 31 with phenotype f,\n",
       " Genotype 50 with phenotype y,\n",
       " Genotype 20 with phenotype U,\n",
       " Genotype 21 with phenotype V,\n",
       " Genotype 40 with phenotype o,\n",
       " Genotype 11 with phenotype L,\n",
       " Genotype 18 with phenotype S,\n",
       " Genotype 35 with phenotype j,\n",
       " Genotype 15 with phenotype P,\n",
       " Genotype 52 with phenotype ,,\n",
       " Genotype 16 with phenotype Q,\n",
       " Genotype 47 with phenotype v,\n",
       " Genotype 10 with phenotype K,\n",
       " Genotype 32 with phenotype g,\n",
       " Genotype 36 with phenotype k,\n",
       " Genotype 36 with phenotype k,\n",
       " Genotype 11 with phenotype L,\n",
       " Genotype 22 with phenotype W,\n",
       " Genotype 35 with phenotype j,\n",
       " Genotype 45 with phenotype t,\n",
       " Genotype 11 with phenotype L,\n",
       " Genotype 50 with phenotype y,\n",
       " Genotype 34 with phenotype i,\n",
       " Genotype 35 with phenotype j,\n",
       " Genotype 43 with phenotype r,\n",
       " Genotype 27 with phenotype b,\n",
       " Genotype 4 with phenotype E,\n",
       " Genotype 49 with phenotype x,\n",
       " Genotype 43 with phenotype r,\n",
       " Genotype 3 with phenotype D,\n",
       " Genotype 3 with phenotype D,\n",
       " Genotype 24 with phenotype Y,\n",
       " Genotype 22 with phenotype W,\n",
       " Genotype 37 with phenotype l,\n",
       " Genotype 39 with phenotype n]"
      ]
     },
     "execution_count": 32,
     "metadata": {},
     "output_type": "execute_result"
    }
   ],
   "source": [
    "mutate(crossover_sample.genotypes, 0.05)"
   ]
  },
  {
   "cell_type": "markdown",
   "metadata": {},
   "source": [
    "# Analysis"
   ]
  },
  {
   "cell_type": "code",
   "execution_count": null,
   "metadata": {},
   "outputs": [],
   "source": []
  }
 ],
 "metadata": {
  "kernelspec": {
   "display_name": "Python 3",
   "language": "python",
   "name": "python3"
  },
  "language_info": {
   "codemirror_mode": {
    "name": "ipython",
    "version": 3
   },
   "file_extension": ".py",
   "mimetype": "text/x-python",
   "name": "python",
   "nbconvert_exporter": "python",
   "pygments_lexer": "ipython3",
   "version": "3.6.3"
  }
 },
 "nbformat": 4,
 "nbformat_minor": 2
}
