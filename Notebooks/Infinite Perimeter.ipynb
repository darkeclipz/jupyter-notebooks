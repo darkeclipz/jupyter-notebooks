{
 "cells": [
  {
   "cell_type": "code",
   "execution_count": 2,
   "metadata": {},
   "outputs": [
    {
     "name": "stdout",
     "output_type": "stream",
     "text": [
      "Populating the interactive namespace from numpy and matplotlib\n"
     ]
    }
   ],
   "source": [
    "%pylab inline"
   ]
  },
  {
   "cell_type": "code",
   "execution_count": 1,
   "metadata": {
    "collapsed": true
   },
   "outputs": [],
   "source": [
    "import numpy as np"
   ]
  },
  {
   "cell_type": "markdown",
   "metadata": {},
   "source": [
    "# Infinite Perimeter"
   ]
  },
  {
   "cell_type": "markdown",
   "metadata": {},
   "source": [
    "## Question \n",
    "\n",
    "We have a rectangle with an area of $16m^2$, express the the perimeter of the rectangle as a function of one side."
   ]
  },
  {
   "cell_type": "markdown",
   "metadata": {},
   "source": [
    "## Observation\n",
    "\n",
    "If the rectangle has an area of $16m^2$ we know that for some width and height we have $w\\cdot h=16m^2$.\n",
    "\n",
    "* $4m \\cdot 4m = 16m^2$\n",
    "* $8m \\cdot 2m = 16m^2$\n",
    "* $16m \\cdot 1m = 16m^2$\n",
    "\n",
    "The formula for the perimeter is $2(w+h)$.\n",
    "\n",
    "If we have a given side $L_1$, we can find the missing side $L_2 = \\dfrac{16m}{L_1}$, because $L_1 \\cdot L_2 = 16m^2$."
   ]
  },
  {
   "cell_type": "markdown",
   "metadata": {},
   "source": [
    "## Formula\n",
    "\n",
    "Putting everything together we get: \n",
    "\n",
    "$$\\begin{align}P &= 2(L_1 + L_2) \\\\ &= 2\\left(L_1 + \\frac{16m}{L_1}\\right) \\\\ &= 2L_1 + 2\\frac{16m}{L_1} \\\\ &= \\frac{2L_1^2+32}{L_1} \\end{align}$$"
   ]
  },
  {
   "cell_type": "markdown",
   "metadata": {},
   "source": [
    "This gives the function for the perimeter of the rectangle for any side $L$:\n",
    "\n",
    "$$P(L)=\\frac{2L^2+32}{L}$$\n",
    "\n",
    "where $L \\not= 0$."
   ]
  },
  {
   "cell_type": "code",
   "execution_count": 4,
   "metadata": {
    "collapsed": true
   },
   "outputs": [],
   "source": [
    "def P(L):\n",
    "    return (2*L**2+32)/L"
   ]
  },
  {
   "cell_type": "markdown",
   "metadata": {},
   "source": [
    "If we try this for the sides we specified above we will see:"
   ]
  },
  {
   "cell_type": "code",
   "execution_count": 82,
   "metadata": {},
   "outputs": [
    {
     "name": "stdout",
     "output_type": "stream",
     "text": [
      "Perimeter 4*4: 16\n",
      "Perimeter 2*8: 20\n",
      "Perimeter 1*16: 34\n"
     ]
    }
   ],
   "source": [
    "print(\"Perimeter 4*4: %i\" % (2*(4+4)))\n",
    "print(\"Perimeter 2*8: %i\" % (2*(2+8)))\n",
    "print(\"Perimeter 1*16: %i\" % (2*(1+16)))"
   ]
  },
  {
   "cell_type": "markdown",
   "metadata": {},
   "source": [
    "We can give either of the sides, because $P(2)=P(8)=20$, etc. Also notice that this function is not injective or surjective."
   ]
  },
  {
   "cell_type": "code",
   "execution_count": 81,
   "metadata": {},
   "outputs": [
    {
     "data": {
      "text/plain": [
       "16.0"
      ]
     },
     "execution_count": 81,
     "metadata": {},
     "output_type": "execute_result"
    }
   ],
   "source": [
    "P(4)"
   ]
  },
  {
   "cell_type": "code",
   "execution_count": 20,
   "metadata": {},
   "outputs": [
    {
     "data": {
      "text/plain": [
       "20.0"
      ]
     },
     "execution_count": 20,
     "metadata": {},
     "output_type": "execute_result"
    }
   ],
   "source": [
    "P(8)"
   ]
  },
  {
   "cell_type": "code",
   "execution_count": 21,
   "metadata": {},
   "outputs": [
    {
     "data": {
      "text/plain": [
       "20.0"
      ]
     },
     "execution_count": 21,
     "metadata": {},
     "output_type": "execute_result"
    }
   ],
   "source": [
    "P(2)"
   ]
  },
  {
   "cell_type": "code",
   "execution_count": 22,
   "metadata": {},
   "outputs": [
    {
     "data": {
      "text/plain": [
       "34.0"
      ]
     },
     "execution_count": 22,
     "metadata": {},
     "output_type": "execute_result"
    }
   ],
   "source": [
    "P(16)"
   ]
  },
  {
   "cell_type": "code",
   "execution_count": 23,
   "metadata": {},
   "outputs": [
    {
     "data": {
      "text/plain": [
       "34.0"
      ]
     },
     "execution_count": 23,
     "metadata": {},
     "output_type": "execute_result"
    }
   ],
   "source": [
    "P(1)"
   ]
  },
  {
   "cell_type": "markdown",
   "metadata": {},
   "source": [
    "These results shows us that our expectation is correct."
   ]
  },
  {
   "cell_type": "markdown",
   "metadata": {},
   "source": [
    "## Plot"
   ]
  },
  {
   "cell_type": "markdown",
   "metadata": {},
   "source": [
    "Plotting this function yields:"
   ]
  },
  {
   "cell_type": "code",
   "execution_count": 18,
   "metadata": {
    "scrolled": true
   },
   "outputs": [
    {
     "data": {
      "image/png": "[encoded data removed]",
      "text/plain": [
       "<matplotlib.figure.Figure at 0x2248a65ea58>"
      ]
     },
     "metadata": {},
     "output_type": "display_data"
    }
   ],
   "source": [
    "points = np.arange(1,16,0.01)\n",
    "plot(points, [P(x) for x in points], c='b', lw=2)\n",
    "xlabel('Length of one side (m)')\n",
    "ylabel('Perimeter (m)');"
   ]
  },
  {
   "cell_type": "markdown",
   "metadata": {},
   "source": [
    "Upon seeing this graph, I did not found it intuitive at all. However, upon closer inspection, we can see that for example at $L=4$ we have a square. And being a square, this gives us the shortest perimeter, as we can see in the graph. \n",
    "\n",
    "Another thing to notice is that when we have $L<1$, the perimeter starts to grow rapidly."
   ]
  },
  {
   "cell_type": "code",
   "execution_count": 24,
   "metadata": {},
   "outputs": [
    {
     "data": {
      "text/plain": [
       "65.0"
      ]
     },
     "execution_count": 24,
     "metadata": {},
     "output_type": "execute_result"
    }
   ],
   "source": [
    "P(0.5)"
   ]
  },
  {
   "cell_type": "code",
   "execution_count": 25,
   "metadata": {},
   "outputs": [
    {
     "data": {
      "text/plain": [
       "128.5"
      ]
     },
     "execution_count": 25,
     "metadata": {},
     "output_type": "execute_result"
    }
   ],
   "source": [
    "P(0.25)"
   ]
  },
  {
   "cell_type": "code",
   "execution_count": 26,
   "metadata": {},
   "outputs": [
    {
     "data": {
      "text/plain": [
       "3200.02"
      ]
     },
     "execution_count": 26,
     "metadata": {},
     "output_type": "execute_result"
    }
   ],
   "source": [
    "P(0.01)"
   ]
  },
  {
   "cell_type": "markdown",
   "metadata": {},
   "source": [
    "Thinking about it, it is a pretty obvious result, but not so obvious upon first sight. Because the rectangle is bounded with an area of $16m^2$, the other side of the rectangle has to become really big to meet this criteria if the length of the input side is very small."
   ]
  },
  {
   "cell_type": "markdown",
   "metadata": {},
   "source": [
    "Obviously this also works in the other direction:"
   ]
  },
  {
   "cell_type": "code",
   "execution_count": 94,
   "metadata": {},
   "outputs": [
    {
     "data": {
      "text/plain": [
       "True"
      ]
     },
     "execution_count": 94,
     "metadata": {},
     "output_type": "execute_result"
    }
   ],
   "source": [
    "P(32) == P(0.5) == 65"
   ]
  },
  {
   "cell_type": "markdown",
   "metadata": {},
   "source": [
    "## Differentiation"
   ]
  },
  {
   "cell_type": "markdown",
   "metadata": {},
   "source": [
    "To see how much the perimeter grows relatively to the input side length we give, we can differentiate the function with respect to $L$. Doing so will give:\n",
    "\n",
    "$$\\begin{align} P(L) &= \\frac{2L^2+32}{L} \\\\ \\frac{dP}{dL} &= \\dfrac{L \\cdot \\dfrac{d(2L^2+32)}{dL} + (2L^2+32)\\dfrac{d(L)}{dL}}{L^2} \\\\ \\frac{dP}{dL} &= \\frac{L\\cdot(4L) + (2L^2+32)\\cdot(1)}{L^2} \\\\ \\frac{dP}{dL} &= \\frac{4L^2+2L^2+32}{L^2} \\\\ \\frac{dP}{dL} &= \\frac{6L^2+32}{L^2}  \\end{align}$$"
   ]
  },
  {
   "cell_type": "markdown",
   "metadata": {},
   "source": [
    "If we implement $P'(L) = \\dfrac{6L^2+32}{L^2}$:"
   ]
  },
  {
   "cell_type": "code",
   "execution_count": 27,
   "metadata": {
    "collapsed": true
   },
   "outputs": [],
   "source": [
    "def PPrime(L):\n",
    "    return (6*L**2+32)/L**2"
   ]
  },
  {
   "cell_type": "markdown",
   "metadata": {},
   "source": [
    "And plot it with $P(L)$:"
   ]
  },
  {
   "cell_type": "code",
   "execution_count": 32,
   "metadata": {},
   "outputs": [
    {
     "data": {
      "image/png": "[encoded data removed]",
      "text/plain": [
       "<matplotlib.figure.Figure at 0x2248a3f6eb8>"
      ]
     },
     "metadata": {},
     "output_type": "display_data"
    }
   ],
   "source": [
    "points = np.arange(1,16,0.01)\n",
    "plot(points, [P(x) for x in points], c='b', lw=2)\n",
    "plot(points, [PPrime(x) for x in points], c='r', lw=2)\n",
    "xlabel('Length of one side (m)')\n",
    "ylabel('Perimeter (m)')\n",
    "legend(['P(L)', \"P'(L)\"]);"
   ]
  },
  {
   "cell_type": "markdown",
   "metadata": {},
   "source": [
    "And if we take a closer look at $0<L<4$ on a logarithmic scale:"
   ]
  },
  {
   "cell_type": "code",
   "execution_count": 36,
   "metadata": {},
   "outputs": [
    {
     "data": {
      "image/png": "[encoded data removed]",
      "text/plain": [
       "<matplotlib.figure.Figure at 0x2248a76a048>"
      ]
     },
     "metadata": {},
     "output_type": "display_data"
    }
   ],
   "source": [
    "points = np.arange(0.001,4,0.001)\n",
    "plot(points, [np.log(P(x)) for x in points], c='b', lw=2)\n",
    "plot(points, [np.log(PPrime(x)) for x in points], c='r', lw=2)\n",
    "legend(['P(L)', \"P'(L)\"]);"
   ]
  },
  {
   "cell_type": "markdown",
   "metadata": {},
   "source": [
    "We can see that $P'(L)$ is causing $P(L)$ to grow really fast as we are starting to approach $L=0$. Now let's take the second derivative of $P(L)$:"
   ]
  },
  {
   "cell_type": "markdown",
   "metadata": {},
   "source": [
    "$$\\begin{align} \\frac{dP}{dL} &= \\frac{4L^2+32}{L^2} \\\\ \\frac{d^2P}{dL^2} &= \\dfrac{L^2 \\dfrac{d(6L^2+32)}{dL}+(6L^2+32)\\dfrac{d(L^2)}{dL}}{(L^2)^2} \\\\ \\frac{d^2P}{dL^2} &= \\frac{L^2(12L) + (6L^2+32)2L}{L^4} \\\\ \\frac{d^2P}{dL^2} &= \\frac{24L^3+62L}{L^4}\\end{align}$$"
   ]
  },
  {
   "cell_type": "markdown",
   "metadata": {},
   "source": [
    "If we implement $P''(L)=\\dfrac{24L^3+62L}{L^4}$:"
   ]
  },
  {
   "cell_type": "code",
   "execution_count": 38,
   "metadata": {},
   "outputs": [],
   "source": [
    "def PDoublePrime(L):\n",
    "    return (24*L**3+62*L)/L**4"
   ]
  },
  {
   "cell_type": "markdown",
   "metadata": {},
   "source": [
    "And plot it with $P(L)$, and $P'(L)$:"
   ]
  },
  {
   "cell_type": "code",
   "execution_count": 96,
   "metadata": {},
   "outputs": [
    {
     "data": {
      "image/png": "[encoded data removed]",
      "text/plain": [
       "<matplotlib.figure.Figure at 0x2248b99a390>"
      ]
     },
     "metadata": {},
     "output_type": "display_data"
    }
   ],
   "source": [
    "points = np.arange(0.001,4,0.001)\n",
    "plot(points, [np.log(P(x)) for x in points], c='b', lw=2)\n",
    "plot(points, [np.log(PPrime(x)) for x in points], c='r', lw=2)\n",
    "plot(points, [np.log(PDoublePrime(x)) for x in points], c='green', lw=2)\n",
    "grid()\n",
    "legend(['P(L)', \"P'(L)\", \"P''(L)\"]);"
   ]
  },
  {
   "cell_type": "markdown",
   "metadata": {},
   "source": [
    "We can see that $P''(L)$ is causing $P'(L)$ to grow really big. If we keep differentiating I think we will keep finding derivatives that are tending faster to infinity. This observation probably has a name but I am currently unaware of it."
   ]
  },
  {
   "cell_type": "markdown",
   "metadata": {},
   "source": [
    "## Infinite perimeter"
   ]
  },
  {
   "cell_type": "markdown",
   "metadata": {},
   "source": [
    "We can see that when we let $L$ approach $0$, the perimeter becomes infinite. Thus, we come to the assertion that:\n",
    "\n",
    "$$ \\lim_{L\\rightarrow 0} \\frac{2L^2+32}{L} = \\infty$$\n",
    "\n",
    "which makes the perimeter infinitely long! The proof is rather easy if we look at the domain of $P(L)$, which is $\\mathbb{R}\\setminus {0}$, because it is a rational function it means that there is a vertical asymptote that tends to infinity as $L$ approaches $0$."
   ]
  },
  {
   "cell_type": "markdown",
   "metadata": {},
   "source": [
    "## We must go deeper"
   ]
  },
  {
   "cell_type": "markdown",
   "metadata": {},
   "source": [
    "If we graph the functions over a greater interval, we can see this behaviour more clearly:"
   ]
  },
  {
   "cell_type": "code",
   "execution_count": 95,
   "metadata": {
    "scrolled": true
   },
   "outputs": [
    {
     "data": {
      "image/png": "[encoded data removed]",
      "text/plain": [
       "<matplotlib.figure.Figure at 0x2248baa56a0>"
      ]
     },
     "metadata": {},
     "output_type": "display_data"
    }
   ],
   "source": [
    "points = np.arange(-20,20, 0.01)\n",
    "interval = np.arange(0,4, 0.01)\n",
    "axes = plt.gca()\n",
    "axes.set_ylim([-50,50])\n",
    "plot(points, [P(x) for x in points], c='b', lw=1)\n",
    "plot(points, [PPrime(x) for x in points], c='r', lw=1)\n",
    "plot(points, [PDoublePrime(x) for x in points], c='green', lw=1);\n",
    "plot(interval, np.zeros(len(interval)), c='black', ls='dotted', lw=3)\n",
    "legend(['P(L)', \"P'(L)\", \"P''(L)\", '0<L<4'])\n",
    "grid()"
   ]
  },
  {
   "cell_type": "markdown",
   "metadata": {},
   "source": [
    "A cool observation is that $F''(L)$ has a horizontal asymptote on the horizontal axis because the degree of the nominator is $3$ and the degree of the denominator is $4$ (the largest power is in the denominator). \n",
    "\n",
    "Because of that the slope of $F'(L)$ will decrease at an infinitely small rate, and we can see that it's horizontal asymptote is at $6$ because we have $6L^2$ in the numerator and $L^2$ in the denominator. \n",
    "\n",
    "This horizontal asymptote causes that the value of $F'(L)$ is approaching a constant decreasement, which affects the slope of $F(L)$ and gives the oblique asymptote in $F(L)$.\n",
    "\n",
    "If we apply long polynomial division to $\\dfrac{2L^2+32}{L}$ we will get $2L$, and plotting this with $P(L)$:"
   ]
  },
  {
   "cell_type": "code",
   "execution_count": 106,
   "metadata": {
    "scrolled": true
   },
   "outputs": [
    {
     "data": {
      "image/png": "[encoded data removed]",
      "text/plain": [
       "<matplotlib.figure.Figure at 0x2248ba3cda0>"
      ]
     },
     "metadata": {},
     "output_type": "display_data"
    }
   ],
   "source": [
    "points = np.arange(-20,20, 0.05)\n",
    "plot(points, [P(x) for x in points], c='b', lw=1)\n",
    "plot(points, [2*x for x in points], c='r', lw=2)\n",
    "axes = plt.gca()\n",
    "axes.set_ylim([-50,50]);"
   ]
  },
  {
   "cell_type": "markdown",
   "metadata": {},
   "source": [
    "which is the oblique asymptote!"
   ]
  },
  {
   "cell_type": "markdown",
   "metadata": {},
   "source": [
    "## Continuing differentiation"
   ]
  },
  {
   "cell_type": "markdown",
   "metadata": {},
   "source": [
    "The third derivative $\\dfrac{d^3P}{dL^3}=\\dfrac{168L^6+320L^4}{L^8}$ gives the graph:"
   ]
  },
  {
   "cell_type": "code",
   "execution_count": 117,
   "metadata": {},
   "outputs": [
    {
     "data": {
      "image/png": "[encoded data removed]",
      "text/plain": [
       "<matplotlib.figure.Figure at 0x2248bb130f0>"
      ]
     },
     "metadata": {},
     "output_type": "display_data"
    }
   ],
   "source": [
    "def PTriplePrime(L):\n",
    "    return (168*L**6+320*L**4)/L**8\n",
    "\n",
    "points = np.arange(-20,20, 0.01)\n",
    "interval = np.arange(0,4, 0.01)\n",
    "axes = plt.gca()\n",
    "axes.set_ylim([-5,100])\n",
    "plot(points, [PTriplePrime(x) for x in points], c='b')\n",
    "grid()"
   ]
  }
 ],
 "metadata": {
  "kernelspec": {
   "display_name": "Python 3",
   "language": "python",
   "name": "python3"
  },
  "language_info": {
   "codemirror_mode": {
    "name": "ipython",
    "version": 3
   },
   "file_extension": ".py",
   "mimetype": "text/x-python",
   "name": "python",
   "nbconvert_exporter": "python",
   "pygments_lexer": "ipython3",
   "version": "3.5.2"
  }
 },
 "nbformat": 4,
 "nbformat_minor": 2
}
