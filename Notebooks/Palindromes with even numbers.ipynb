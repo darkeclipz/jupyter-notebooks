{
 "cells": [
  {
   "cell_type": "code",
   "execution_count": 2,
   "metadata": {},
   "outputs": [
    {
     "data": {
      "text/html": [
       "<link href=\"https://fonts.googleapis.com/css?family=Open+Sans\" rel=\"stylesheet\">\n",
       "<style>#notebook-container{font-size: 13pt;font-family:'Open Sans', sans-serif;} div.text_cell{max-width: 104ex;}</style>"
      ],
      "text/plain": [
       "<IPython.core.display.HTML object>"
      ]
     },
     "metadata": {},
     "output_type": "display_data"
    }
   ],
   "source": [
    "%%html \n",
    "<link href=\"https://fonts.googleapis.com/css?family=Open+Sans\" rel=\"stylesheet\">\n",
    "<style>#notebook-container{font-size: 13pt;font-family:'Open Sans', sans-serif;} div.text_cell{max-width: 104ex;}</style>"
   ]
  },
  {
   "cell_type": "code",
   "execution_count": 1,
   "metadata": {},
   "outputs": [
    {
     "name": "stdout",
     "output_type": "stream",
     "text": [
      "Populating the interactive namespace from numpy and matplotlib\n"
     ]
    }
   ],
   "source": [
    "%pylab inline"
   ]
  },
  {
   "cell_type": "markdown",
   "metadata": {},
   "source": [
    "# Palindromes with an even number of digits"
   ]
  },
  {
   "cell_type": "markdown",
   "metadata": {},
   "source": [
    "A palindrome is a number that has the same sequence of digits from left to center, and from right to the center. E.g.:\n",
    "\n",
    "* 11\n",
    "* 1221\n",
    "* 123321\n",
    "* 212212\n",
    "* ..."
   ]
  },
  {
   "cell_type": "markdown",
   "metadata": {},
   "source": [
    "The easiest example is if there are $2$ digits. We can write this as $10k + k$, where $k \\in \\mathbb{N}$ and $0 < k < 10$. This gives:\n",
    "\n",
    "$$\\tag{1} 10k+k = k(10+1) = 11k$$\n",
    "\n",
    "which is divisible by $11$."
   ]
  },
  {
   "cell_type": "markdown",
   "metadata": {},
   "source": [
    "**Theorem 1**\n",
    "\n",
    "For any $k,n\\in \\mathbb{N}_0$ where $0<k<10$, then $10^{n+1}k+10^nk$ is divisible by $11$."
   ]
  },
  {
   "cell_type": "markdown",
   "metadata": {},
   "source": [
    "**Proof (induction)**\n",
    "\n",
    "Let $n=0$, this gives:\n",
    "\n",
    "$$\\tag{2}10^1k + 10^0k = 10k + 1k = 11k$$\n",
    "\n",
    "which is indeed divisible by $11$.\n",
    "\n",
    "Assume that it is true for $P(n)$. If we fill in $P(n+1)$:"
   ]
  },
  {
   "cell_type": "markdown",
   "metadata": {},
   "source": [
    "$$\\begin{align} & 10^{(n+1)+1}k+10^{n+1}k \\\\ &= 10^{n+2}k + 10^{n+1}k \\\\ &= 10(10^{n+1}k+10^nk) \\\\ &=10\\cdot11k\\end{align}$$"
   ]
  },
  {
   "cell_type": "markdown",
   "metadata": {},
   "source": [
    "which is divisible by $11$."
   ]
  },
  {
   "cell_type": "markdown",
   "metadata": {},
   "source": [
    "**Proof (direct)**\n",
    "\n",
    "We can factor $10^{n+1}k+10^nk$ into $10^n(10k + k)$ or $10^n(k(10+1))$ which is $11k\\cdot10^n$. So $10^{n+1}k+10^nk$ is divisible by $11$ for any $k\\in\\mathbb{R}$ and $n\\in\\mathbb{N}_0$."
   ]
  },
  {
   "cell_type": "markdown",
   "metadata": {},
   "source": [
    "**Theorem 2**\n",
    "\n",
    "Every palindrome with an even number of digits is a multiple of $11$."
   ]
  },
  {
   "cell_type": "markdown",
   "metadata": {},
   "source": [
    "**Proof**"
   ]
  },
  {
   "cell_type": "markdown",
   "metadata": {},
   "source": [
    "If we start with the simplest palindrome $10^{n+1}k+10^nk$ which is $2$ digits. We want to expand this by adding any equal digit to the left and right side. To do this we multiply the original palindrome by $10$ to shift all the values one decimal place to the left. Then we add our new digit $m\\in\\mathbb{N}$, $0<m<10$ to get:\n",
    "\n",
    "$$\\begin{align} & 10^{n+3}m+10^{n+2}k+10^{n+1}k+10^nm \\\\ &= 10^{n+3} m+\\underbrace{10^{n+2}k+10^{n+1}}_{11k \\text{ by theorem 1}}k+10^nm \\\\ &= 10^{n+3}m+11k+10^nm \\\\ &= 10^n(10^3m + m) + 11k \\\\ &= 10^n(1001m)+11k \\\\ &= 10^n(11\\cdot91m)+11k \\\\ &= 11(10^n\\cdot91m+k) \\end{align}$$"
   ]
  },
  {
   "cell_type": "markdown",
   "metadata": {},
   "source": [
    "which is divisible by $11$."
   ]
  }
 ],
 "metadata": {
  "kernelspec": {
   "display_name": "Python 3",
   "language": "python",
   "name": "python3"
  },
  "language_info": {
   "codemirror_mode": {
    "name": "ipython",
    "version": 3
   },
   "file_extension": ".py",
   "mimetype": "text/x-python",
   "name": "python",
   "nbconvert_exporter": "python",
   "pygments_lexer": "ipython3",
   "version": "3.6.3"
  }
 },
 "nbformat": 4,
 "nbformat_minor": 2
}
