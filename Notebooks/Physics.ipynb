{
 "cells": [
  {
   "cell_type": "markdown",
   "metadata": {},
   "source": [
    "# One-dimensional motion"
   ]
  },
  {
   "cell_type": "markdown",
   "metadata": {},
   "source": [
    "## Displacement, velocity, and time"
   ]
  },
  {
   "cell_type": "markdown",
   "metadata": {},
   "source": [
    "### Intro to vectors & scalars"
   ]
  },
  {
   "cell_type": "markdown",
   "metadata": {},
   "source": [
    "* **Vector:** A vector has a magnitude AND a direction.\n",
    "* **Scalar:** A scalar only has a magnitude (or size)."
   ]
  },
  {
   "cell_type": "markdown",
   "metadata": {},
   "source": [
    "### Introduction to reference frames"
   ]
  },
  {
   "cell_type": "markdown",
   "metadata": {},
   "source": [
    "This is the location from which we are measuring, and this is called the _frame of reference_."
   ]
  },
  {
   "cell_type": "markdown",
   "metadata": {},
   "source": [
    "### Displacement"
   ]
  },
  {
   "cell_type": "markdown",
   "metadata": {},
   "source": [
    "The change of an objects position is called _displacement_. Which is defined as $\\text{Displacement}=\\Delta x = x_f -x_0$. Where $x_f$ refers to the value of the final position, $x_0$ refers to the value of the initial position, and $\\Delta x$ is used to denote the displacement. Note that an object can be moved a distance between two points, and a distance traveled by the object. If we first go to the right 5m and then back 2m the distance between two points is 5-2=3 meters, and the total distance traveled by the object is 5+2=7 meters."
   ]
  },
  {
   "cell_type": "markdown",
   "metadata": {},
   "source": [
    "### Average velocity of speed"
   ]
  },
  {
   "cell_type": "markdown",
   "metadata": {},
   "source": [
    "Velocity and speed is defined as:\n",
    "\n",
    "* The velocity is $\\vec{v}=\\frac{\\vec{s}}{t}$. Where $\\vec{s}$ is the displacement, and $t$ is the time. Thus, velocity is the displacement over time.\n",
    "\n",
    "* The rate of speed is $r=\\frac{d}{t}$, where $d$ is the distance traveled.\n",
    "\n",
    "If someone travels 5km to the north in 1 hour: $\\vec{v}=\\frac{5 \\text{ km north}}{1 \\text{hr}} = 5 \\text{km/h north}$."
   ]
  },
  {
   "cell_type": "code",
   "execution_count": null,
   "metadata": {
    "collapsed": true
   },
   "outputs": [],
   "source": []
  }
 ],
 "metadata": {
  "kernelspec": {
   "display_name": "Python 3",
   "language": "python",
   "name": "python3"
  },
  "language_info": {
   "codemirror_mode": {
    "name": "ipython",
    "version": 3
   },
   "file_extension": ".py",
   "mimetype": "text/x-python",
   "name": "python",
   "nbconvert_exporter": "python",
   "pygments_lexer": "ipython3",
   "version": "3.5.2"
  }
 },
 "nbformat": 4,
 "nbformat_minor": 2
}
