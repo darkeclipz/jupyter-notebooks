{
 "cells": [
  {
   "cell_type": "code",
   "execution_count": 1,
   "metadata": {},
   "outputs": [
    {
     "data": {
      "text/html": [
       "<link href=\"https://fonts.googleapis.com/css?family=Open+Sans\" rel=\"stylesheet\">\n",
       "<style>#notebook-container{font-size: 13pt;font-family:'Open Sans', sans-serif;} div.text_cell{max-width: 104ex;}</style>"
      ],
      "text/plain": [
       "<IPython.core.display.HTML object>"
      ]
     },
     "metadata": {},
     "output_type": "display_data"
    }
   ],
   "source": [
    "%%html \n",
    "<link href=\"https://fonts.googleapis.com/css?family=Open+Sans\" rel=\"stylesheet\">\n",
    "<style>#notebook-container{font-size: 13pt;font-family:'Open Sans', sans-serif;} div.text_cell{max-width: 104ex;}</style>"
   ]
  },
  {
   "cell_type": "code",
   "execution_count": 2,
   "metadata": {},
   "outputs": [
    {
     "name": "stdout",
     "output_type": "stream",
     "text": [
      "Populating the interactive namespace from numpy and matplotlib\n"
     ]
    }
   ],
   "source": [
    "%pylab inline"
   ]
  },
  {
   "cell_type": "code",
   "execution_count": 3,
   "metadata": {},
   "outputs": [],
   "source": [
    "import pandas as pd"
   ]
  },
  {
   "cell_type": "markdown",
   "metadata": {},
   "source": [
    "![monopoly](monopoly_1.jpg)"
   ]
  },
  {
   "cell_type": "markdown",
   "metadata": {},
   "source": [
    "# Goal"
   ]
  },
  {
   "cell_type": "markdown",
   "metadata": {},
   "source": [
    "In this document we are going to analyze the probabilities in Monopoly to answer the question: which are the best houses to buy?\n",
    "\n",
    "To answer this question we will create a simulated version of Monopoly and determine the probabilities to land on each square. Then we calculate the expected value for each square. The squares with the highest expected values are the best squares to have.\n",
    "\n",
    "Finally we will create an exact version of our model with a Markov matrix. We use this to do an error analysis."
   ]
  },
  {
   "cell_type": "markdown",
   "metadata": {},
   "source": [
    "# Game rules"
   ]
  },
  {
   "cell_type": "markdown",
   "metadata": {},
   "source": [
    "## Squares"
   ]
  },
  {
   "cell_type": "markdown",
   "metadata": {},
   "source": [
    "Each edge has 9 positions and there are 4 edges. There are 4 corners. Which gives a total of 40 positions where a player can land. The labels are numbered starting at GO."
   ]
  },
  {
   "cell_type": "markdown",
   "metadata": {},
   "source": [
    "### Labels"
   ]
  },
  {
   "cell_type": "code",
   "execution_count": 4,
   "metadata": {
    "scrolled": true
   },
   "outputs": [
    {
     "name": "stdout",
     "output_type": "stream",
     "text": [
      "There are 40 squares.\n"
     ]
    }
   ],
   "source": [
    "squares_labels = ['start', 'b1', 'cc1', 'b2', 'it', 't1', \n",
    "                  'lb1', 'c1', 'lb2', 'lb3', 'jail', 'p1', \n",
    "                  'ec', 'p2', 'p3', 'ts2', 'o1', 'cc2', \n",
    "                  'o2', 'o3', 'p', 'r1', 'c2', 'r2', 'r3', \n",
    "                  'ts3', 'y1', 'y2', 'ww', 'y3', 'gtj', \n",
    "                  'g1', 'g2', 'cc3', 'g3', 'ts4', 'c3', \n",
    "                  'db1', 'st', 'db2']\n",
    "\n",
    "squares_total = len(squares_labels)\n",
    "print('There are {} squares.'.format(squares_total))"
   ]
  },
  {
   "cell_type": "markdown",
   "metadata": {},
   "source": [
    "### Descriptions"
   ]
  },
  {
   "cell_type": "markdown",
   "metadata": {},
   "source": [
    "We also want to know the proper names, so we don't have to look up the labels."
   ]
  },
  {
   "cell_type": "code",
   "execution_count": 5,
   "metadata": {},
   "outputs": [],
   "source": [
    "squares_description = ['Start', 'Brown 1', 'Community Chest 1', 'Brown 2', \n",
    "                       'Income Tax', 'Train Station 1', 'Light Blue 1', \n",
    "                       'Chance 1', 'Light Blue 2', 'Light Blue 3', 'Jail', \n",
    "                       'Purple 1', 'Electric Company', 'Purple 2', \n",
    "                       'Purple 3', 'Train Station 2', 'Orange 1', \n",
    "                       'Community Chest 2', 'Orange 2', 'Orange 3', \n",
    "                       'Free Parking', 'Red 1', 'Chance 2', 'Red 2', \n",
    "                       'Red 3', 'Train Station 3', 'Yellow 1', 'Yellow 2', \n",
    "                       'Water Works', 'Yellow 3', 'Go to Jail', 'Green 1', \n",
    "                       'Green 2', 'Community Chest 3', 'Green 3', \n",
    "                       'Train Station 4', 'Chance 3', 'Dark Blue 1', \n",
    "                       'Super Tax', 'Dark Blue 2']"
   ]
  },
  {
   "cell_type": "code",
   "execution_count": 6,
   "metadata": {
    "scrolled": true
   },
   "outputs": [
    {
     "name": "stdout",
     "output_type": "stream",
     "text": [
      "There are 40 descriptions.\n"
     ]
    }
   ],
   "source": [
    "print('There are {} descriptions.'.format(len(squares_description)))"
   ]
  },
  {
   "cell_type": "markdown",
   "metadata": {},
   "source": [
    "### Purchasable"
   ]
  },
  {
   "cell_type": "markdown",
   "metadata": {},
   "source": [
    "We want to know if they are purchasable so we can sort on that later."
   ]
  },
  {
   "cell_type": "code",
   "execution_count": 7,
   "metadata": {},
   "outputs": [],
   "source": [
    "squares_purchasable = [False, True, False, True, False, \n",
    "                       True, True, False, True, True, \n",
    "                       False, True, True, True, True, \n",
    "                       True, True, False, True, True, \n",
    "                       False, True, False, True, True, \n",
    "                       True, True, True, True, True, \n",
    "                       False, True, True, False, True, \n",
    "                       True, False, True, False, True]"
   ]
  },
  {
   "cell_type": "markdown",
   "metadata": {},
   "source": [
    "### Rent"
   ]
  },
  {
   "cell_type": "markdown",
   "metadata": {},
   "source": [
    "We want to use the rent paid at each square to calculate the expected value. The utility company charge $4$ times roll if one is owned, and $10$ times roll if both owned. For one railway we charge $\\$25$, two $\\$50$, three $\\$100$, and all four $\\$200$."
   ]
  },
  {
   "cell_type": "markdown",
   "metadata": {},
   "source": [
    "To find the rent for a utility company, we find the expected value for throwing a dices times $4$.\n",
    "\n",
    "$$ 4\\cdot E(\\bar{k}) = 4 \\cdot \\dfrac{1}{6} \\cdot (1+2+3+4+5+6) $$"
   ]
  },
  {
   "cell_type": "code",
   "execution_count": 8,
   "metadata": {},
   "outputs": [],
   "source": [
    "E_u = 4 * (1+2+3+4+5+6) / 6"
   ]
  },
  {
   "cell_type": "markdown",
   "metadata": {},
   "source": [
    "We pick the value for one railway which is $25$."
   ]
  },
  {
   "cell_type": "code",
   "execution_count": 9,
   "metadata": {},
   "outputs": [],
   "source": [
    "E_r = 25"
   ]
  },
  {
   "cell_type": "code",
   "execution_count": 10,
   "metadata": {},
   "outputs": [],
   "source": [
    "squares_rent = [0, 2, 0, 4, 0, E_r, 6, 0, 6, 8, 0, 10, E_u, \n",
    "                10, 12, E_r, 14, 0, 14, 16, 0, 18, 0, 18, \n",
    "                20, E_r, 22, 22, E_u, 24, 0, 26, 26, 0, 28, \n",
    "                E_r, 0, 35, 0, 50]"
   ]
  },
  {
   "cell_type": "markdown",
   "metadata": {},
   "source": [
    "### Grouping"
   ]
  },
  {
   "cell_type": "markdown",
   "metadata": {},
   "source": [
    "We want to know in what group they are so we can aggregate our data later."
   ]
  },
  {
   "cell_type": "code",
   "execution_count": 11,
   "metadata": {},
   "outputs": [],
   "source": [
    "squares_aggregate = ['Start', 'Brown', 'Community Chest', 'Brown', \n",
    "                     'Income Tax', 'Train Station', 'Light Blue', \n",
    "                     'Chance', 'Light Blue', 'Light Blue', 'Jail', \n",
    "                     'Purple', 'Utilities', 'Purple', 'Purple', \n",
    "                     'Train Station', 'Orange', 'Community Chest', \n",
    "                     'Orange', 'Orange', 'Free Parking', 'Red', \n",
    "                     'Chance', 'Red', 'Red', 'Train Station', 'Yellow', \n",
    "                     'Yellow', 'Utilities', 'Yellow', 'Go to Jail', \n",
    "                     'Green', 'Green', 'Community Chest', 'Green', \n",
    "                     'Train Station', 'Chance', 'Dark Blue', \n",
    "                     'Super Tax', 'Dark Blue']"
   ]
  },
  {
   "cell_type": "markdown",
   "metadata": {},
   "source": [
    "## Cards"
   ]
  },
  {
   "cell_type": "markdown",
   "metadata": {},
   "source": [
    "There are two decks of cards.\n",
    "\n",
    "* Community Cards\n",
    "* Chance Cards\n",
    "\n",
    "Each deck contains 16 cards."
   ]
  },
  {
   "cell_type": "markdown",
   "metadata": {},
   "source": [
    "### Community Cards"
   ]
  },
  {
   "cell_type": "markdown",
   "metadata": {},
   "source": [
    "Monopoly has $16$ community cards."
   ]
  },
  {
   "cell_type": "markdown",
   "metadata": {},
   "source": [
    "![cc](monopoly_2.jpg)"
   ]
  },
  {
   "cell_type": "markdown",
   "metadata": {},
   "source": [
    "Because we are only determining the probabilities, we are only interested in the following cards:\n",
    "\n",
    "* advance to go\n",
    "* go to jail\n",
    "* get out of jail, free\n",
    "* go back 2 spaces"
   ]
  },
  {
   "cell_type": "markdown",
   "metadata": {},
   "source": [
    "### Community deck implementation"
   ]
  },
  {
   "cell_type": "markdown",
   "metadata": {},
   "source": [
    "We implement the community deck in a class. The class keeps track of a list with $16$ cards. An index points to the next card. When we are out of cards, we reset the index and reshuffle the cards."
   ]
  },
  {
   "cell_type": "code",
   "execution_count": 12,
   "metadata": {},
   "outputs": [],
   "source": [
    "from random import shuffle\n",
    "\n",
    "class CommunityDeck():\n",
    "    def __init__(self):\n",
    "        self.deck = [0] * 16\n",
    "        self.deck[0] = 'gtg' # go to go\n",
    "        self.deck[1] = 'gtj' # go to jail\n",
    "        self.deck[2] = 'goj' # get out of jail \n",
    "        self.deck[3] = 'gb2' # go back 2 steps\n",
    "        self.index = 16\n",
    "    \n",
    "    def draw_card(self):\n",
    "        if self.index >= len(self.deck):\n",
    "            self.index = 0\n",
    "            shuffle(self.deck)\n",
    "        card = self.deck[self.index]\n",
    "        self.index += 1\n",
    "        return card"
   ]
  },
  {
   "cell_type": "markdown",
   "metadata": {},
   "source": [
    "Now we test it:"
   ]
  },
  {
   "cell_type": "code",
   "execution_count": 13,
   "metadata": {},
   "outputs": [
    {
     "data": {
      "text/plain": [
       "['gtg', 'gtj', 'goj', 'gb2', 0, 0, 0, 0, 0, 0, 0, 0, 0, 0, 0, 0]"
      ]
     },
     "execution_count": 13,
     "metadata": {},
     "output_type": "execute_result"
    }
   ],
   "source": [
    "deck = CommunityDeck()\n",
    "deck.deck"
   ]
  },
  {
   "cell_type": "code",
   "execution_count": 14,
   "metadata": {},
   "outputs": [
    {
     "data": {
      "text/plain": [
       "0"
      ]
     },
     "execution_count": 14,
     "metadata": {},
     "output_type": "execute_result"
    }
   ],
   "source": [
    "deck.draw_card()"
   ]
  },
  {
   "cell_type": "code",
   "execution_count": 15,
   "metadata": {},
   "outputs": [
    {
     "data": {
      "text/plain": [
       "[0, 0, 'gtj', 0, 0, 'gtg', 0, 0, 'goj', 0, 0, 'gb2', 0, 0, 0, 0]"
      ]
     },
     "execution_count": 15,
     "metadata": {},
     "output_type": "execute_result"
    }
   ],
   "source": [
    "deck.deck"
   ]
  },
  {
   "cell_type": "code",
   "execution_count": 16,
   "metadata": {},
   "outputs": [
    {
     "data": {
      "text/plain": [
       "1"
      ]
     },
     "execution_count": 16,
     "metadata": {},
     "output_type": "execute_result"
    }
   ],
   "source": [
    "deck.index"
   ]
  },
  {
   "cell_type": "markdown",
   "metadata": {},
   "source": [
    "### Chance Cards"
   ]
  },
  {
   "cell_type": "markdown",
   "metadata": {},
   "source": [
    "Monopoly has $16$ chance cards."
   ]
  },
  {
   "cell_type": "markdown",
   "metadata": {},
   "source": [
    "![chance](monopoly_3.jpg)"
   ]
  },
  {
   "cell_type": "markdown",
   "metadata": {},
   "source": [
    "Because we are only determining the probabilities, we are only interested in the following cards:\n",
    "\n",
    "* go back three spaces\n",
    "* get out of jail free\n",
    "* advance to go\n",
    "* advance to illinois avenue (R3)\n",
    "* go to jail"
   ]
  },
  {
   "cell_type": "markdown",
   "metadata": {},
   "source": [
    "### Chance deck implementation"
   ]
  },
  {
   "cell_type": "markdown",
   "metadata": {},
   "source": [
    "We implement the chance deck in a class. The class keeps track of a list with $16$ cards. An index points to the next card. When we are out of cards, we reset the index and reshuffle the cards."
   ]
  },
  {
   "cell_type": "code",
   "execution_count": 17,
   "metadata": {},
   "outputs": [],
   "source": [
    "from random import shuffle\n",
    "\n",
    "class ChanceDeck():\n",
    "    def __init__(self):\n",
    "        self.deck = [0] * 16\n",
    "        self.deck[0] = 'gtg' # go to go\n",
    "        self.deck[1] = 'gtj' # go to jail\n",
    "        self.deck[2] = 'goj' # get out of jail\n",
    "        #self.deck[3] = 'gb3' # go back 3\n",
    "        self.deck[4] = 'r3'  # go to red 3 (r3)\n",
    "        self.index = 16\n",
    "    \n",
    "    def draw_card(self):\n",
    "        if self.index >= len(self.deck):\n",
    "            self.index = 0\n",
    "            shuffle(self.deck)\n",
    "        card = self.deck[self.index]\n",
    "        self.index += 1\n",
    "        return card"
   ]
  },
  {
   "cell_type": "markdown",
   "metadata": {},
   "source": [
    "Now we test it:"
   ]
  },
  {
   "cell_type": "code",
   "execution_count": 18,
   "metadata": {},
   "outputs": [
    {
     "data": {
      "text/plain": [
       "['gtg', 'gtj', 'goj', 0, 'r3', 0, 0, 0, 0, 0, 0, 0, 0, 0, 0, 0]"
      ]
     },
     "execution_count": 18,
     "metadata": {},
     "output_type": "execute_result"
    }
   ],
   "source": [
    "deck = ChanceDeck()\n",
    "deck.deck"
   ]
  },
  {
   "cell_type": "code",
   "execution_count": 19,
   "metadata": {},
   "outputs": [
    {
     "data": {
      "text/plain": [
       "0"
      ]
     },
     "execution_count": 19,
     "metadata": {},
     "output_type": "execute_result"
    }
   ],
   "source": [
    "deck.draw_card()"
   ]
  },
  {
   "cell_type": "code",
   "execution_count": 20,
   "metadata": {},
   "outputs": [
    {
     "data": {
      "text/plain": [
       "[0, 0, 0, 'goj', 0, 0, 0, 0, 0, 0, 'r3', 'gtj', 0, 0, 'gtg', 0]"
      ]
     },
     "execution_count": 20,
     "metadata": {},
     "output_type": "execute_result"
    }
   ],
   "source": [
    "deck.deck"
   ]
  },
  {
   "cell_type": "code",
   "execution_count": 21,
   "metadata": {},
   "outputs": [
    {
     "data": {
      "text/plain": [
       "1"
      ]
     },
     "execution_count": 21,
     "metadata": {},
     "output_type": "execute_result"
    }
   ],
   "source": [
    "deck.index"
   ]
  },
  {
   "cell_type": "markdown",
   "metadata": {},
   "source": [
    "## Dice"
   ]
  },
  {
   "cell_type": "markdown",
   "metadata": {},
   "source": [
    "We will be implementing the dice as a class. This allows us to encapsulate how the result are determined. It makes it easier to implements other scenarios such as throwing with multiple dices."
   ]
  },
  {
   "cell_type": "code",
   "execution_count": 22,
   "metadata": {},
   "outputs": [],
   "source": [
    "from random import randint\n",
    "\n",
    "class Dice():\n",
    "    def __init__(self, dices = 1, sides = 6):\n",
    "        self.dices = dices\n",
    "        self.sides = sides\n",
    "    \n",
    "    def throw(self):\n",
    "        return sum([randint(1, self.sides) for _ in range(self.dices)])"
   ]
  },
  {
   "cell_type": "markdown",
   "metadata": {},
   "source": [
    "Rolling one time:"
   ]
  },
  {
   "cell_type": "code",
   "execution_count": 23,
   "metadata": {},
   "outputs": [
    {
     "data": {
      "text/plain": [
       "3"
      ]
     },
     "execution_count": 23,
     "metadata": {},
     "output_type": "execute_result"
    }
   ],
   "source": [
    "dice = Dice()\n",
    "dice.throw()"
   ]
  },
  {
   "cell_type": "markdown",
   "metadata": {},
   "source": [
    "### Simple: one dice with six sides"
   ]
  },
  {
   "cell_type": "markdown",
   "metadata": {},
   "source": [
    "A simple setup would be one dice with six sides. This will give uniformly distributed probabilities."
   ]
  },
  {
   "cell_type": "code",
   "execution_count": 24,
   "metadata": {},
   "outputs": [
    {
     "data": {
      "image/png": "[encoded data removed]",
      "text/plain": [
       "<matplotlib.figure.Figure at 0x1e1ec3aa908>"
      ]
     },
     "metadata": {},
     "output_type": "display_data"
    }
   ],
   "source": [
    "dice = Dice()\n",
    "sides = [0] * dice.dices * dice.sides\n",
    "N = 10000\n",
    "for i in range(N): sides[dice.throw()-1] += 1\n",
    "sides = np.array(sides) / N\n",
    "bar(range(1,len(sides)+1), sides);\n",
    "ylabel('P(x)')\n",
    "xlabel('x')\n",
    "title('Probability distribution for one dice; N=10,000');"
   ]
  },
  {
   "cell_type": "markdown",
   "metadata": {},
   "source": [
    "### Advanced: two dice with six sides"
   ]
  },
  {
   "cell_type": "markdown",
   "metadata": {},
   "source": [
    "Monopoly is played with two dices. This will give the following probability distribution:"
   ]
  },
  {
   "cell_type": "code",
   "execution_count": 25,
   "metadata": {},
   "outputs": [
    {
     "data": {
      "image/png": "[encoded data removed]",
      "text/plain": [
       "<matplotlib.figure.Figure at 0x1e1ec3abb70>"
      ]
     },
     "metadata": {},
     "output_type": "display_data"
    }
   ],
   "source": [
    "dice = Dice(2)\n",
    "sides = [0] * dice.dices * dice.sides\n",
    "N = 10000\n",
    "for i in range(N): sides[dice.throw()-1] += 1\n",
    "sides = np.array(sides) / N\n",
    "bar(range(1,len(sides)+1), sides);\n",
    "ylabel('P(x)')\n",
    "xlabel('x')\n",
    "title('Probability distribution for two dices; N=10,000');"
   ]
  },
  {
   "cell_type": "markdown",
   "metadata": {},
   "source": [
    "# Simulated model"
   ]
  },
  {
   "cell_type": "markdown",
   "metadata": {},
   "source": [
    "We are playing a simplified version of Monopoly. We will not keep track of money. There will only be one player. If a player goes to jail, the player can continue immediately on the next turn. We will keep track of the card decks. The game will be played with $2$ dices. We only count when we land on a square. If we are moved to jail for example, the next round will continue from that new position."
   ]
  },
  {
   "cell_type": "markdown",
   "metadata": {},
   "source": [
    "## Algorithm"
   ]
  },
  {
   "cell_type": "markdown",
   "metadata": {},
   "source": [
    "Here we are going to simulate a game for $N$ amount of rounds. The game algorithm is simple:\n",
    "\n",
    "1. Roll the dices (there are $2$ dices with $6$ sides)\n",
    "2. Move to the new position\n",
    "3. Increment the square counter for that position\n",
    "4. Check and handle go to jail\n",
    "5. Check and handle community chest\n",
    "6. Check and handle chance"
   ]
  },
  {
   "cell_type": "markdown",
   "metadata": {},
   "source": [
    "## Modulo arithmetic for position tracking"
   ]
  },
  {
   "cell_type": "markdown",
   "metadata": {},
   "source": [
    "We can easily keep track of our position with modulo arithemetic. Let $C$ be our position (or `index`), $d$ the result from throwing the dice, and $n$ the current round. To determine our new position we calculate:\n",
    "\n",
    "$$ C_{n+1} \\equiv C_n+d \\pmod{40}$$"
   ]
  },
  {
   "cell_type": "markdown",
   "metadata": {},
   "source": [
    "The modulo is $40$ because that are the total amount of squares."
   ]
  },
  {
   "cell_type": "markdown",
   "metadata": {},
   "source": [
    "## Implementation"
   ]
  },
  {
   "cell_type": "markdown",
   "metadata": {},
   "source": [
    "Below is the implementation for the Monopoly simulation."
   ]
  },
  {
   "cell_type": "code",
   "execution_count": 26,
   "metadata": {},
   "outputs": [],
   "source": [
    "dice = Dice(2)\n",
    "community_deck = CommunityDeck()\n",
    "chance_deck = ChanceDeck()\n",
    "\n",
    "index = 0 # position\n",
    "total_squares = len(squares_labels)\n",
    "squares = [0] * total_squares\n",
    "\n",
    "rounds = 1000000 # N\n",
    "\n",
    "for i in range(rounds):\n",
    "    \n",
    "    # Throw the dice and move our position on the board.\n",
    "    steps = dice.throw()\n",
    "    index = (index + steps) % total_squares\n",
    "    \n",
    "    # We landed on go to jail.\n",
    "    if squares_labels[index] is 'gtj': \n",
    "        index = squares_labels.index('jail')\n",
    "    \n",
    "    # We landed on the community card.\n",
    "    if squares_labels[index] in ['cc1', 'cc2', 'cc3']:\n",
    "        card = community_deck.draw_card()\n",
    "        if card is 'gtg': index = squares_labels.index('start')\n",
    "        if card is 'gtj': index = squares_labels.index('jail')\n",
    "        if card is 'gb2': \n",
    "            if index >= 2: index -= 2\n",
    "            if index < 2: index = total_squares-abs(index-2)-1\n",
    "    \n",
    "    # We landed on the chance card.\n",
    "    if squares_labels[index] in ['c1', 'c2', 'c3']:\n",
    "        card = chance_deck.draw_card()\n",
    "        if card is 'gtg': index = squares_labels.index('start')\n",
    "        if card is 'gtj': index = squares_labels.index('jail')\n",
    "        if card is 'r3': index = squares_labels.index('r3')\n",
    "        if card is 'gb3':\n",
    "            if index >= 3: index -= 3\n",
    "            if index < 3: index = total_squares-abs(index-3)-1\n",
    "                \n",
    "    # Update the counter\n",
    "    squares[index] += 1"
   ]
  },
  {
   "cell_type": "markdown",
   "metadata": {},
   "source": [
    "It takes around $2.7$ seconds to run a game when $N=1,000,000$. Because there is only one loop the algorithm will scale linearly."
   ]
  },
  {
   "cell_type": "markdown",
   "metadata": {},
   "source": [
    "# Probability statistics"
   ]
  },
  {
   "cell_type": "markdown",
   "metadata": {},
   "source": [
    "Now we can proceed to analyze our results."
   ]
  },
  {
   "cell_type": "markdown",
   "metadata": {},
   "source": [
    "## Determining probabilities"
   ]
  },
  {
   "cell_type": "markdown",
   "metadata": {},
   "source": [
    "With the number of times that each square is visited, and the total rounds $N$ we can calculate the probabilities. The probability that a square is visited is:\n",
    "\n",
    "$$ P(\\bar{x}=x) = \\dfrac{\\text{Times visited}}{\\text{N}} $$"
   ]
  },
  {
   "cell_type": "markdown",
   "metadata": {},
   "source": [
    "We can calculate the expected value for each square in terms of money with:"
   ]
  },
  {
   "cell_type": "markdown",
   "metadata": {},
   "source": [
    "$$ E(\\bar{k}) = P(\\bar{x}=x)\\cdot\\text{Rent} $$"
   ]
  },
  {
   "cell_type": "markdown",
   "metadata": {},
   "source": [
    "We also want to create a `DataFrame` in Python to easily keep track of everything."
   ]
  },
  {
   "cell_type": "code",
   "execution_count": 27,
   "metadata": {
    "scrolled": false
   },
   "outputs": [],
   "source": [
    "df = pd.DataFrame(index=range(total_squares))\n",
    "df['Square'] = squares_labels\n",
    "df['Description'] = squares_description\n",
    "df['Purchasable'] = squares_purchasable\n",
    "df['Rent'] = squares_rent\n",
    "df['Visited'] = squares\n",
    "df['Probability'] = df['Visited'] / rounds\n",
    "df['Aggregate'] = squares_aggregate\n",
    "df['Expected Value'] = df['Probability'] * df['Rent']"
   ]
  },
  {
   "cell_type": "markdown",
   "metadata": {},
   "source": [
    "We can calculate a quick summary about the data:"
   ]
  },
  {
   "cell_type": "code",
   "execution_count": 28,
   "metadata": {},
   "outputs": [
    {
     "name": "stdout",
     "output_type": "stream",
     "text": [
      "Total rounds: 1000000\n",
      "Visited avg:  25000.0\n",
      "Visited min:  0\n",
      "Visited max:  58830\n",
      "Visited std:  7418.86\n"
     ]
    }
   ],
   "source": [
    "print('Total rounds: {}'.format(rounds))\n",
    "print('Visited avg:  {}'.format(df['Visited'].mean()))\n",
    "print('Visited min:  {}'.format(df['Visited'].min()))\n",
    "print('Visited max:  {}'.format(df['Visited'].max()))\n",
    "print('Visited std:  {:.2f}'.format(df['Visited'].std()))"
   ]
  },
  {
   "cell_type": "markdown",
   "metadata": {},
   "source": [
    "## Plot of probabilities by square"
   ]
  },
  {
   "cell_type": "markdown",
   "metadata": {},
   "source": [
    "If we sort these values descending on the probability, we can easily see which squares have the highest probability to be visited."
   ]
  },
  {
   "cell_type": "code",
   "execution_count": 29,
   "metadata": {},
   "outputs": [
    {
     "data": {
      "image/png": "[encoded data removed]",
      "text/plain": [
       "<matplotlib.figure.Figure at 0x1e1ee4afd30>"
      ]
     },
     "metadata": {},
     "output_type": "display_data"
    }
   ],
   "source": [
    "plt.rc('xtick', labelsize=16) \n",
    "plt.rc('ytick', labelsize=14) \n",
    "df[['Description', 'Probability']].sort_values(by='Probability', ascending=False)\\\n",
    "    .plot(kind='bar', figsize=(20,5))\n",
    "plt.xticks(range(total_squares), df[['Description', 'Probability']]\n",
    "    .sort_values(by='Probability', ascending=False)['Description'])\n",
    "plt.ylabel('Probability')\n",
    "plt.title('Probability by Square');"
   ]
  },
  {
   "cell_type": "markdown",
   "metadata": {},
   "source": [
    "Here we can conclude that `Orange 1` is the most visited square. Also notice that `Orange 2` and `Orange 3` are pretty high. It seems that `Orange` is the best street to have.\n",
    "\n",
    "## Table of probabilities by square\n",
    "\n",
    "Below is the full table with all the squares and their corresponding values."
   ]
  },
  {
   "cell_type": "code",
   "execution_count": 30,
   "metadata": {},
   "outputs": [
    {
     "data": {
      "text/html": [
       "<div>\n",
       "<style scoped>\n",
       "    .dataframe tbody tr th:only-of-type {\n",
       "        vertical-align: middle;\n",
       "    }\n",
       "\n",
       "    .dataframe tbody tr th {\n",
       "        vertical-align: top;\n",
       "    }\n",
       "\n",
       "    .dataframe thead th {\n",
       "        text-align: right;\n",
       "    }\n",
       "</style>\n",
       "<table border=\"1\" class=\"dataframe\">\n",
       "  <thead>\n",
       "    <tr style=\"text-align: right;\">\n",
       "      <th></th>\n",
       "      <th>Square</th>\n",
       "      <th>Description</th>\n",
       "      <th>Probability</th>\n",
       "    </tr>\n",
       "  </thead>\n",
       "  <tbody>\n",
       "    <tr>\n",
       "      <th>10</th>\n",
       "      <td>jail</td>\n",
       "      <td>Jail</td>\n",
       "      <td>0.058830</td>\n",
       "    </tr>\n",
       "    <tr>\n",
       "      <th>0</th>\n",
       "      <td>start</td>\n",
       "      <td>Start</td>\n",
       "      <td>0.031671</td>\n",
       "    </tr>\n",
       "    <tr>\n",
       "      <th>24</th>\n",
       "      <td>r3</td>\n",
       "      <td>Red 3</td>\n",
       "      <td>0.031241</td>\n",
       "    </tr>\n",
       "    <tr>\n",
       "      <th>31</th>\n",
       "      <td>g1</td>\n",
       "      <td>Green 1</td>\n",
       "      <td>0.028678</td>\n",
       "    </tr>\n",
       "    <tr>\n",
       "      <th>18</th>\n",
       "      <td>o2</td>\n",
       "      <td>Orange 2</td>\n",
       "      <td>0.028374</td>\n",
       "    </tr>\n",
       "    <tr>\n",
       "      <th>19</th>\n",
       "      <td>o3</td>\n",
       "      <td>Orange 3</td>\n",
       "      <td>0.028148</td>\n",
       "    </tr>\n",
       "    <tr>\n",
       "      <th>15</th>\n",
       "      <td>ts2</td>\n",
       "      <td>Train Station 2</td>\n",
       "      <td>0.028094</td>\n",
       "    </tr>\n",
       "    <tr>\n",
       "      <th>16</th>\n",
       "      <td>o1</td>\n",
       "      <td>Orange 1</td>\n",
       "      <td>0.027946</td>\n",
       "    </tr>\n",
       "    <tr>\n",
       "      <th>20</th>\n",
       "      <td>p</td>\n",
       "      <td>Free Parking</td>\n",
       "      <td>0.027542</td>\n",
       "    </tr>\n",
       "    <tr>\n",
       "      <th>21</th>\n",
       "      <td>r1</td>\n",
       "      <td>Red 1</td>\n",
       "      <td>0.027424</td>\n",
       "    </tr>\n",
       "    <tr>\n",
       "      <th>29</th>\n",
       "      <td>y3</td>\n",
       "      <td>Yellow 3</td>\n",
       "      <td>0.027121</td>\n",
       "    </tr>\n",
       "    <tr>\n",
       "      <th>26</th>\n",
       "      <td>y1</td>\n",
       "      <td>Yellow 1</td>\n",
       "      <td>0.026993</td>\n",
       "    </tr>\n",
       "    <tr>\n",
       "      <th>28</th>\n",
       "      <td>ww</td>\n",
       "      <td>Water Works</td>\n",
       "      <td>0.026674</td>\n",
       "    </tr>\n",
       "    <tr>\n",
       "      <th>25</th>\n",
       "      <td>ts3</td>\n",
       "      <td>Train Station 3</td>\n",
       "      <td>0.026611</td>\n",
       "    </tr>\n",
       "    <tr>\n",
       "      <th>27</th>\n",
       "      <td>y2</td>\n",
       "      <td>Yellow 2</td>\n",
       "      <td>0.026548</td>\n",
       "    </tr>\n",
       "    <tr>\n",
       "      <th>23</th>\n",
       "      <td>r2</td>\n",
       "      <td>Red 2</td>\n",
       "      <td>0.026426</td>\n",
       "    </tr>\n",
       "    <tr>\n",
       "      <th>32</th>\n",
       "      <td>g2</td>\n",
       "      <td>Green 2</td>\n",
       "      <td>0.026106</td>\n",
       "    </tr>\n",
       "    <tr>\n",
       "      <th>34</th>\n",
       "      <td>g3</td>\n",
       "      <td>Green 3</td>\n",
       "      <td>0.025318</td>\n",
       "    </tr>\n",
       "    <tr>\n",
       "      <th>14</th>\n",
       "      <td>p3</td>\n",
       "      <td>Purple 3</td>\n",
       "      <td>0.025121</td>\n",
       "    </tr>\n",
       "    <tr>\n",
       "      <th>13</th>\n",
       "      <td>p2</td>\n",
       "      <td>Purple 2</td>\n",
       "      <td>0.024562</td>\n",
       "    </tr>\n",
       "    <tr>\n",
       "      <th>35</th>\n",
       "      <td>ts4</td>\n",
       "      <td>Train Station 4</td>\n",
       "      <td>0.023978</td>\n",
       "    </tr>\n",
       "    <tr>\n",
       "      <th>17</th>\n",
       "      <td>cc2</td>\n",
       "      <td>Community Chest 2</td>\n",
       "      <td>0.023516</td>\n",
       "    </tr>\n",
       "    <tr>\n",
       "      <th>12</th>\n",
       "      <td>ec</td>\n",
       "      <td>Electric Company</td>\n",
       "      <td>0.023428</td>\n",
       "    </tr>\n",
       "    <tr>\n",
       "      <th>37</th>\n",
       "      <td>db1</td>\n",
       "      <td>Dark Blue 1</td>\n",
       "      <td>0.023271</td>\n",
       "    </tr>\n",
       "    <tr>\n",
       "      <th>3</th>\n",
       "      <td>b2</td>\n",
       "      <td>Brown 2</td>\n",
       "      <td>0.023270</td>\n",
       "    </tr>\n",
       "    <tr>\n",
       "      <th>6</th>\n",
       "      <td>lb1</td>\n",
       "      <td>Light Blue 1</td>\n",
       "      <td>0.023175</td>\n",
       "    </tr>\n",
       "    <tr>\n",
       "      <th>8</th>\n",
       "      <td>lb2</td>\n",
       "      <td>Light Blue 2</td>\n",
       "      <td>0.023103</td>\n",
       "    </tr>\n",
       "    <tr>\n",
       "      <th>4</th>\n",
       "      <td>it</td>\n",
       "      <td>Income Tax</td>\n",
       "      <td>0.023076</td>\n",
       "    </tr>\n",
       "    <tr>\n",
       "      <th>5</th>\n",
       "      <td>t1</td>\n",
       "      <td>Train Station 1</td>\n",
       "      <td>0.023056</td>\n",
       "    </tr>\n",
       "    <tr>\n",
       "      <th>9</th>\n",
       "      <td>lb3</td>\n",
       "      <td>Light Blue 3</td>\n",
       "      <td>0.022958</td>\n",
       "    </tr>\n",
       "    <tr>\n",
       "      <th>11</th>\n",
       "      <td>p1</td>\n",
       "      <td>Purple 1</td>\n",
       "      <td>0.022489</td>\n",
       "    </tr>\n",
       "    <tr>\n",
       "      <th>1</th>\n",
       "      <td>b1</td>\n",
       "      <td>Brown 1</td>\n",
       "      <td>0.022334</td>\n",
       "    </tr>\n",
       "    <tr>\n",
       "      <th>39</th>\n",
       "      <td>db2</td>\n",
       "      <td>Dark Blue 2</td>\n",
       "      <td>0.022203</td>\n",
       "    </tr>\n",
       "    <tr>\n",
       "      <th>38</th>\n",
       "      <td>st</td>\n",
       "      <td>Super Tax</td>\n",
       "      <td>0.022035</td>\n",
       "    </tr>\n",
       "    <tr>\n",
       "      <th>22</th>\n",
       "      <td>c2</td>\n",
       "      <td>Chance 2</td>\n",
       "      <td>0.021977</td>\n",
       "    </tr>\n",
       "    <tr>\n",
       "      <th>33</th>\n",
       "      <td>cc3</td>\n",
       "      <td>Community Chest 3</td>\n",
       "      <td>0.020710</td>\n",
       "    </tr>\n",
       "    <tr>\n",
       "      <th>7</th>\n",
       "      <td>c1</td>\n",
       "      <td>Chance 1</td>\n",
       "      <td>0.018926</td>\n",
       "    </tr>\n",
       "    <tr>\n",
       "      <th>36</th>\n",
       "      <td>c3</td>\n",
       "      <td>Chance 3</td>\n",
       "      <td>0.018568</td>\n",
       "    </tr>\n",
       "    <tr>\n",
       "      <th>2</th>\n",
       "      <td>cc1</td>\n",
       "      <td>Community Chest 1</td>\n",
       "      <td>0.018499</td>\n",
       "    </tr>\n",
       "    <tr>\n",
       "      <th>30</th>\n",
       "      <td>gtj</td>\n",
       "      <td>Go to Jail</td>\n",
       "      <td>0.000000</td>\n",
       "    </tr>\n",
       "  </tbody>\n",
       "</table>\n",
       "</div>"
      ],
      "text/plain": [
       "   Square        Description  Probability\n",
       "10   jail               Jail     0.058830\n",
       "0   start              Start     0.031671\n",
       "24     r3              Red 3     0.031241\n",
       "31     g1            Green 1     0.028678\n",
       "18     o2           Orange 2     0.028374\n",
       "19     o3           Orange 3     0.028148\n",
       "15    ts2    Train Station 2     0.028094\n",
       "16     o1           Orange 1     0.027946\n",
       "20      p       Free Parking     0.027542\n",
       "21     r1              Red 1     0.027424\n",
       "29     y3           Yellow 3     0.027121\n",
       "26     y1           Yellow 1     0.026993\n",
       "28     ww        Water Works     0.026674\n",
       "25    ts3    Train Station 3     0.026611\n",
       "27     y2           Yellow 2     0.026548\n",
       "23     r2              Red 2     0.026426\n",
       "32     g2            Green 2     0.026106\n",
       "34     g3            Green 3     0.025318\n",
       "14     p3           Purple 3     0.025121\n",
       "13     p2           Purple 2     0.024562\n",
       "35    ts4    Train Station 4     0.023978\n",
       "17    cc2  Community Chest 2     0.023516\n",
       "12     ec   Electric Company     0.023428\n",
       "37    db1        Dark Blue 1     0.023271\n",
       "3      b2            Brown 2     0.023270\n",
       "6     lb1       Light Blue 1     0.023175\n",
       "8     lb2       Light Blue 2     0.023103\n",
       "4      it         Income Tax     0.023076\n",
       "5      t1    Train Station 1     0.023056\n",
       "9     lb3       Light Blue 3     0.022958\n",
       "11     p1           Purple 1     0.022489\n",
       "1      b1            Brown 1     0.022334\n",
       "39    db2        Dark Blue 2     0.022203\n",
       "38     st          Super Tax     0.022035\n",
       "22     c2           Chance 2     0.021977\n",
       "33    cc3  Community Chest 3     0.020710\n",
       "7      c1           Chance 1     0.018926\n",
       "36     c3           Chance 3     0.018568\n",
       "2     cc1  Community Chest 1     0.018499\n",
       "30    gtj         Go to Jail     0.000000"
      ]
     },
     "execution_count": 30,
     "metadata": {},
     "output_type": "execute_result"
    }
   ],
   "source": [
    "df.loc[:, df.columns.isin(['Square', 'Description', 'Probability'])].sort_values(by='Probability', ascending=False)"
   ]
  },
  {
   "cell_type": "markdown",
   "metadata": {},
   "source": [
    "## Top 10 highest probability squares"
   ]
  },
  {
   "cell_type": "markdown",
   "metadata": {},
   "source": [
    "The top 10 squares that have the highest probability for a player to land on are:"
   ]
  },
  {
   "cell_type": "code",
   "execution_count": 31,
   "metadata": {},
   "outputs": [
    {
     "data": {
      "text/html": [
       "<div>\n",
       "<style scoped>\n",
       "    .dataframe tbody tr th:only-of-type {\n",
       "        vertical-align: middle;\n",
       "    }\n",
       "\n",
       "    .dataframe tbody tr th {\n",
       "        vertical-align: top;\n",
       "    }\n",
       "\n",
       "    .dataframe thead th {\n",
       "        text-align: right;\n",
       "    }\n",
       "</style>\n",
       "<table border=\"1\" class=\"dataframe\">\n",
       "  <thead>\n",
       "    <tr style=\"text-align: right;\">\n",
       "      <th></th>\n",
       "      <th>Square</th>\n",
       "      <th>Description</th>\n",
       "      <th>Probability</th>\n",
       "    </tr>\n",
       "  </thead>\n",
       "  <tbody>\n",
       "    <tr>\n",
       "      <th>24</th>\n",
       "      <td>r3</td>\n",
       "      <td>Red 3</td>\n",
       "      <td>0.031241</td>\n",
       "    </tr>\n",
       "    <tr>\n",
       "      <th>31</th>\n",
       "      <td>g1</td>\n",
       "      <td>Green 1</td>\n",
       "      <td>0.028678</td>\n",
       "    </tr>\n",
       "    <tr>\n",
       "      <th>18</th>\n",
       "      <td>o2</td>\n",
       "      <td>Orange 2</td>\n",
       "      <td>0.028374</td>\n",
       "    </tr>\n",
       "    <tr>\n",
       "      <th>19</th>\n",
       "      <td>o3</td>\n",
       "      <td>Orange 3</td>\n",
       "      <td>0.028148</td>\n",
       "    </tr>\n",
       "    <tr>\n",
       "      <th>15</th>\n",
       "      <td>ts2</td>\n",
       "      <td>Train Station 2</td>\n",
       "      <td>0.028094</td>\n",
       "    </tr>\n",
       "    <tr>\n",
       "      <th>16</th>\n",
       "      <td>o1</td>\n",
       "      <td>Orange 1</td>\n",
       "      <td>0.027946</td>\n",
       "    </tr>\n",
       "    <tr>\n",
       "      <th>21</th>\n",
       "      <td>r1</td>\n",
       "      <td>Red 1</td>\n",
       "      <td>0.027424</td>\n",
       "    </tr>\n",
       "    <tr>\n",
       "      <th>29</th>\n",
       "      <td>y3</td>\n",
       "      <td>Yellow 3</td>\n",
       "      <td>0.027121</td>\n",
       "    </tr>\n",
       "    <tr>\n",
       "      <th>26</th>\n",
       "      <td>y1</td>\n",
       "      <td>Yellow 1</td>\n",
       "      <td>0.026993</td>\n",
       "    </tr>\n",
       "    <tr>\n",
       "      <th>28</th>\n",
       "      <td>ww</td>\n",
       "      <td>Water Works</td>\n",
       "      <td>0.026674</td>\n",
       "    </tr>\n",
       "  </tbody>\n",
       "</table>\n",
       "</div>"
      ],
      "text/plain": [
       "   Square      Description  Probability\n",
       "24     r3            Red 3     0.031241\n",
       "31     g1          Green 1     0.028678\n",
       "18     o2         Orange 2     0.028374\n",
       "19     o3         Orange 3     0.028148\n",
       "15    ts2  Train Station 2     0.028094\n",
       "16     o1         Orange 1     0.027946\n",
       "21     r1            Red 1     0.027424\n",
       "29     y3         Yellow 3     0.027121\n",
       "26     y1         Yellow 1     0.026993\n",
       "28     ww      Water Works     0.026674"
      ]
     },
     "execution_count": 31,
     "metadata": {},
     "output_type": "execute_result"
    }
   ],
   "source": [
    "df.loc[df['Purchasable'] == True, df.columns.isin(['Square', 'Description', 'Probability'])]\\\n",
    "    .sort_values('Probability', ascending=False).head(10)"
   ]
  },
  {
   "cell_type": "markdown",
   "metadata": {},
   "source": [
    "The total probability for all 10 squares is:"
   ]
  },
  {
   "cell_type": "code",
   "execution_count": 32,
   "metadata": {},
   "outputs": [
    {
     "data": {
      "text/plain": [
       "0.28069299999999997"
      ]
     },
     "execution_count": 32,
     "metadata": {},
     "output_type": "execute_result"
    }
   ],
   "source": [
    "df.loc[df['Purchasable'] == True].sort_values('Probability', ascending=False)\\\n",
    "    .head(10)['Probability'].sum()"
   ]
  },
  {
   "cell_type": "markdown",
   "metadata": {},
   "source": [
    "## Plot of expected value per turn"
   ]
  },
  {
   "cell_type": "markdown",
   "metadata": {},
   "source": [
    "Now we want to know how much each square generates per turn with the found probabilities and the rent the player needs to pay when we land on it. First we make a selection to only get the purchasable squares. "
   ]
  },
  {
   "cell_type": "code",
   "execution_count": 33,
   "metadata": {},
   "outputs": [],
   "source": [
    "rentable_df = pd.DataFrame(df.loc[df['Purchasable'] == True]).reindex()"
   ]
  },
  {
   "cell_type": "markdown",
   "metadata": {},
   "source": [
    "Plotting this gives:"
   ]
  },
  {
   "cell_type": "code",
   "execution_count": 34,
   "metadata": {},
   "outputs": [
    {
     "data": {
      "image/png": "[encoded data removed]",
      "text/plain": [
       "<matplotlib.figure.Figure at 0x1e1ee501400>"
      ]
     },
     "metadata": {},
     "output_type": "display_data"
    }
   ],
   "source": [
    "plt.rc('xtick', labelsize=16) \n",
    "plt.rc('ytick', labelsize=14) \n",
    "rentable_df[['Description', 'Expected Value']].sort_values(by='Expected Value', ascending=False)\\\n",
    "    .plot(kind='bar', figsize=(14,5))\n",
    "plt.xticks(range(len(rentable_df.index)), rentable_df[['Description', 'Expected Value']]\n",
    "    .sort_values(by='Expected Value', ascending=False)['Description'])\n",
    "plt.ylabel('Expected Value')\n",
    "plt.title('Expected Value by Square');"
   ]
  },
  {
   "cell_type": "markdown",
   "metadata": {},
   "source": [
    "## Table of expected value per turn "
   ]
  },
  {
   "cell_type": "markdown",
   "metadata": {},
   "source": [
    "The full table of expected values is below."
   ]
  },
  {
   "cell_type": "code",
   "execution_count": 35,
   "metadata": {},
   "outputs": [
    {
     "data": {
      "text/html": [
       "<div>\n",
       "<style scoped>\n",
       "    .dataframe tbody tr th:only-of-type {\n",
       "        vertical-align: middle;\n",
       "    }\n",
       "\n",
       "    .dataframe tbody tr th {\n",
       "        vertical-align: top;\n",
       "    }\n",
       "\n",
       "    .dataframe thead th {\n",
       "        text-align: right;\n",
       "    }\n",
       "</style>\n",
       "<table border=\"1\" class=\"dataframe\">\n",
       "  <thead>\n",
       "    <tr style=\"text-align: right;\">\n",
       "      <th></th>\n",
       "      <th>Square</th>\n",
       "      <th>Description</th>\n",
       "      <th>Rent</th>\n",
       "      <th>Probability</th>\n",
       "      <th>Expected Value</th>\n",
       "    </tr>\n",
       "  </thead>\n",
       "  <tbody>\n",
       "    <tr>\n",
       "      <th>39</th>\n",
       "      <td>db2</td>\n",
       "      <td>Dark Blue 2</td>\n",
       "      <td>50.0</td>\n",
       "      <td>0.022203</td>\n",
       "      <td>1.110150</td>\n",
       "    </tr>\n",
       "    <tr>\n",
       "      <th>37</th>\n",
       "      <td>db1</td>\n",
       "      <td>Dark Blue 1</td>\n",
       "      <td>35.0</td>\n",
       "      <td>0.023271</td>\n",
       "      <td>0.814485</td>\n",
       "    </tr>\n",
       "    <tr>\n",
       "      <th>31</th>\n",
       "      <td>g1</td>\n",
       "      <td>Green 1</td>\n",
       "      <td>26.0</td>\n",
       "      <td>0.028678</td>\n",
       "      <td>0.745628</td>\n",
       "    </tr>\n",
       "    <tr>\n",
       "      <th>34</th>\n",
       "      <td>g3</td>\n",
       "      <td>Green 3</td>\n",
       "      <td>28.0</td>\n",
       "      <td>0.025318</td>\n",
       "      <td>0.708904</td>\n",
       "    </tr>\n",
       "    <tr>\n",
       "      <th>15</th>\n",
       "      <td>ts2</td>\n",
       "      <td>Train Station 2</td>\n",
       "      <td>25.0</td>\n",
       "      <td>0.028094</td>\n",
       "      <td>0.702350</td>\n",
       "    </tr>\n",
       "    <tr>\n",
       "      <th>32</th>\n",
       "      <td>g2</td>\n",
       "      <td>Green 2</td>\n",
       "      <td>26.0</td>\n",
       "      <td>0.026106</td>\n",
       "      <td>0.678756</td>\n",
       "    </tr>\n",
       "    <tr>\n",
       "      <th>25</th>\n",
       "      <td>ts3</td>\n",
       "      <td>Train Station 3</td>\n",
       "      <td>25.0</td>\n",
       "      <td>0.026611</td>\n",
       "      <td>0.665275</td>\n",
       "    </tr>\n",
       "    <tr>\n",
       "      <th>29</th>\n",
       "      <td>y3</td>\n",
       "      <td>Yellow 3</td>\n",
       "      <td>24.0</td>\n",
       "      <td>0.027121</td>\n",
       "      <td>0.650904</td>\n",
       "    </tr>\n",
       "    <tr>\n",
       "      <th>24</th>\n",
       "      <td>r3</td>\n",
       "      <td>Red 3</td>\n",
       "      <td>20.0</td>\n",
       "      <td>0.031241</td>\n",
       "      <td>0.624820</td>\n",
       "    </tr>\n",
       "    <tr>\n",
       "      <th>35</th>\n",
       "      <td>ts4</td>\n",
       "      <td>Train Station 4</td>\n",
       "      <td>25.0</td>\n",
       "      <td>0.023978</td>\n",
       "      <td>0.599450</td>\n",
       "    </tr>\n",
       "    <tr>\n",
       "      <th>26</th>\n",
       "      <td>y1</td>\n",
       "      <td>Yellow 1</td>\n",
       "      <td>22.0</td>\n",
       "      <td>0.026993</td>\n",
       "      <td>0.593846</td>\n",
       "    </tr>\n",
       "    <tr>\n",
       "      <th>27</th>\n",
       "      <td>y2</td>\n",
       "      <td>Yellow 2</td>\n",
       "      <td>22.0</td>\n",
       "      <td>0.026548</td>\n",
       "      <td>0.584056</td>\n",
       "    </tr>\n",
       "    <tr>\n",
       "      <th>5</th>\n",
       "      <td>t1</td>\n",
       "      <td>Train Station 1</td>\n",
       "      <td>25.0</td>\n",
       "      <td>0.023056</td>\n",
       "      <td>0.576400</td>\n",
       "    </tr>\n",
       "    <tr>\n",
       "      <th>21</th>\n",
       "      <td>r1</td>\n",
       "      <td>Red 1</td>\n",
       "      <td>18.0</td>\n",
       "      <td>0.027424</td>\n",
       "      <td>0.493632</td>\n",
       "    </tr>\n",
       "    <tr>\n",
       "      <th>23</th>\n",
       "      <td>r2</td>\n",
       "      <td>Red 2</td>\n",
       "      <td>18.0</td>\n",
       "      <td>0.026426</td>\n",
       "      <td>0.475668</td>\n",
       "    </tr>\n",
       "    <tr>\n",
       "      <th>19</th>\n",
       "      <td>o3</td>\n",
       "      <td>Orange 3</td>\n",
       "      <td>16.0</td>\n",
       "      <td>0.028148</td>\n",
       "      <td>0.450368</td>\n",
       "    </tr>\n",
       "    <tr>\n",
       "      <th>18</th>\n",
       "      <td>o2</td>\n",
       "      <td>Orange 2</td>\n",
       "      <td>14.0</td>\n",
       "      <td>0.028374</td>\n",
       "      <td>0.397236</td>\n",
       "    </tr>\n",
       "    <tr>\n",
       "      <th>16</th>\n",
       "      <td>o1</td>\n",
       "      <td>Orange 1</td>\n",
       "      <td>14.0</td>\n",
       "      <td>0.027946</td>\n",
       "      <td>0.391244</td>\n",
       "    </tr>\n",
       "    <tr>\n",
       "      <th>28</th>\n",
       "      <td>ww</td>\n",
       "      <td>Water Works</td>\n",
       "      <td>14.0</td>\n",
       "      <td>0.026674</td>\n",
       "      <td>0.373436</td>\n",
       "    </tr>\n",
       "    <tr>\n",
       "      <th>12</th>\n",
       "      <td>ec</td>\n",
       "      <td>Electric Company</td>\n",
       "      <td>14.0</td>\n",
       "      <td>0.023428</td>\n",
       "      <td>0.327992</td>\n",
       "    </tr>\n",
       "    <tr>\n",
       "      <th>14</th>\n",
       "      <td>p3</td>\n",
       "      <td>Purple 3</td>\n",
       "      <td>12.0</td>\n",
       "      <td>0.025121</td>\n",
       "      <td>0.301452</td>\n",
       "    </tr>\n",
       "    <tr>\n",
       "      <th>13</th>\n",
       "      <td>p2</td>\n",
       "      <td>Purple 2</td>\n",
       "      <td>10.0</td>\n",
       "      <td>0.024562</td>\n",
       "      <td>0.245620</td>\n",
       "    </tr>\n",
       "    <tr>\n",
       "      <th>11</th>\n",
       "      <td>p1</td>\n",
       "      <td>Purple 1</td>\n",
       "      <td>10.0</td>\n",
       "      <td>0.022489</td>\n",
       "      <td>0.224890</td>\n",
       "    </tr>\n",
       "    <tr>\n",
       "      <th>9</th>\n",
       "      <td>lb3</td>\n",
       "      <td>Light Blue 3</td>\n",
       "      <td>8.0</td>\n",
       "      <td>0.022958</td>\n",
       "      <td>0.183664</td>\n",
       "    </tr>\n",
       "    <tr>\n",
       "      <th>6</th>\n",
       "      <td>lb1</td>\n",
       "      <td>Light Blue 1</td>\n",
       "      <td>6.0</td>\n",
       "      <td>0.023175</td>\n",
       "      <td>0.139050</td>\n",
       "    </tr>\n",
       "    <tr>\n",
       "      <th>8</th>\n",
       "      <td>lb2</td>\n",
       "      <td>Light Blue 2</td>\n",
       "      <td>6.0</td>\n",
       "      <td>0.023103</td>\n",
       "      <td>0.138618</td>\n",
       "    </tr>\n",
       "    <tr>\n",
       "      <th>3</th>\n",
       "      <td>b2</td>\n",
       "      <td>Brown 2</td>\n",
       "      <td>4.0</td>\n",
       "      <td>0.023270</td>\n",
       "      <td>0.093080</td>\n",
       "    </tr>\n",
       "    <tr>\n",
       "      <th>1</th>\n",
       "      <td>b1</td>\n",
       "      <td>Brown 1</td>\n",
       "      <td>2.0</td>\n",
       "      <td>0.022334</td>\n",
       "      <td>0.044668</td>\n",
       "    </tr>\n",
       "  </tbody>\n",
       "</table>\n",
       "</div>"
      ],
      "text/plain": [
       "   Square       Description  Rent  Probability  Expected Value\n",
       "39    db2       Dark Blue 2  50.0     0.022203        1.110150\n",
       "37    db1       Dark Blue 1  35.0     0.023271        0.814485\n",
       "31     g1           Green 1  26.0     0.028678        0.745628\n",
       "34     g3           Green 3  28.0     0.025318        0.708904\n",
       "15    ts2   Train Station 2  25.0     0.028094        0.702350\n",
       "32     g2           Green 2  26.0     0.026106        0.678756\n",
       "25    ts3   Train Station 3  25.0     0.026611        0.665275\n",
       "29     y3          Yellow 3  24.0     0.027121        0.650904\n",
       "24     r3             Red 3  20.0     0.031241        0.624820\n",
       "35    ts4   Train Station 4  25.0     0.023978        0.599450\n",
       "26     y1          Yellow 1  22.0     0.026993        0.593846\n",
       "27     y2          Yellow 2  22.0     0.026548        0.584056\n",
       "5      t1   Train Station 1  25.0     0.023056        0.576400\n",
       "21     r1             Red 1  18.0     0.027424        0.493632\n",
       "23     r2             Red 2  18.0     0.026426        0.475668\n",
       "19     o3          Orange 3  16.0     0.028148        0.450368\n",
       "18     o2          Orange 2  14.0     0.028374        0.397236\n",
       "16     o1          Orange 1  14.0     0.027946        0.391244\n",
       "28     ww       Water Works  14.0     0.026674        0.373436\n",
       "12     ec  Electric Company  14.0     0.023428        0.327992\n",
       "14     p3          Purple 3  12.0     0.025121        0.301452\n",
       "13     p2          Purple 2  10.0     0.024562        0.245620\n",
       "11     p1          Purple 1  10.0     0.022489        0.224890\n",
       "9     lb3      Light Blue 3   8.0     0.022958        0.183664\n",
       "6     lb1      Light Blue 1   6.0     0.023175        0.139050\n",
       "8     lb2      Light Blue 2   6.0     0.023103        0.138618\n",
       "3      b2           Brown 2   4.0     0.023270        0.093080\n",
       "1      b1           Brown 1   2.0     0.022334        0.044668"
      ]
     },
     "execution_count": 35,
     "metadata": {},
     "output_type": "execute_result"
    }
   ],
   "source": [
    "rentable_df.loc[:, rentable_df.columns.isin(['Square', 'Description', 'Rent', 'Probability', 'Expected Value'])]\\\n",
    "    .sort_values('Expected Value', ascending=False)"
   ]
  },
  {
   "cell_type": "markdown",
   "metadata": {},
   "source": [
    "# Grouped probability statistics"
   ]
  },
  {
   "cell_type": "markdown",
   "metadata": {},
   "source": [
    "We want to answer the following questions:\n",
    "\n",
    "1. What are the best streets to have?\n",
    "2. What is the probability to be in jail?\n",
    "3. What is the probability to draw a card?"
   ]
  },
  {
   "cell_type": "markdown",
   "metadata": {},
   "source": [
    "## Plot of probabilities by group"
   ]
  },
  {
   "cell_type": "markdown",
   "metadata": {},
   "source": [
    "To find what the probabilities are per street, chance, community chest, etc., we are going to aggregate the possibilities."
   ]
  },
  {
   "cell_type": "code",
   "execution_count": 36,
   "metadata": {},
   "outputs": [],
   "source": [
    "aggregated_df = pd.DataFrame(df.groupby(['Aggregate'])['Probability'].sum()).reset_index()"
   ]
  },
  {
   "cell_type": "markdown",
   "metadata": {},
   "source": [
    "Now we plot the aggregated probabilities."
   ]
  },
  {
   "cell_type": "code",
   "execution_count": 37,
   "metadata": {},
   "outputs": [
    {
     "data": {
      "image/png": "[encoded data removed]",
      "text/plain": [
       "<matplotlib.figure.Figure at 0x1e1ee609a20>"
      ]
     },
     "metadata": {},
     "output_type": "display_data"
    }
   ],
   "source": [
    "plt.rc('xtick', labelsize=16) \n",
    "plt.rc('ytick', labelsize=14) \n",
    "aggregated_df[['Aggregate', 'Probability']].sort_values(by='Probability', ascending=False)\\\n",
    "    .plot(kind='bar', figsize=(10,5))\n",
    "plt.xticks(range(len(aggregated_df.index)), aggregated_df[['Aggregate', 'Probability']]\n",
    "    .sort_values(by='Probability', ascending=False)['Aggregate'])\n",
    "plt.ylabel('Probability')\n",
    "plt.title('Probability by Group');"
   ]
  },
  {
   "cell_type": "markdown",
   "metadata": {},
   "source": [
    "## Table of probabilities by group"
   ]
  },
  {
   "cell_type": "markdown",
   "metadata": {},
   "source": [
    "A total overview of all the probabilities can be found in the table below:"
   ]
  },
  {
   "cell_type": "code",
   "execution_count": 38,
   "metadata": {},
   "outputs": [
    {
     "data": {
      "text/html": [
       "<div>\n",
       "<style scoped>\n",
       "    .dataframe tbody tr th:only-of-type {\n",
       "        vertical-align: middle;\n",
       "    }\n",
       "\n",
       "    .dataframe tbody tr th {\n",
       "        vertical-align: top;\n",
       "    }\n",
       "\n",
       "    .dataframe thead th {\n",
       "        text-align: right;\n",
       "    }\n",
       "</style>\n",
       "<table border=\"1\" class=\"dataframe\">\n",
       "  <thead>\n",
       "    <tr style=\"text-align: right;\">\n",
       "      <th></th>\n",
       "      <th>Aggregate</th>\n",
       "      <th>Probability</th>\n",
       "    </tr>\n",
       "  </thead>\n",
       "  <tbody>\n",
       "    <tr>\n",
       "      <th>15</th>\n",
       "      <td>Train Station</td>\n",
       "      <td>0.101739</td>\n",
       "    </tr>\n",
       "    <tr>\n",
       "      <th>12</th>\n",
       "      <td>Red</td>\n",
       "      <td>0.085091</td>\n",
       "    </tr>\n",
       "    <tr>\n",
       "      <th>10</th>\n",
       "      <td>Orange</td>\n",
       "      <td>0.084468</td>\n",
       "    </tr>\n",
       "    <tr>\n",
       "      <th>17</th>\n",
       "      <td>Yellow</td>\n",
       "      <td>0.080662</td>\n",
       "    </tr>\n",
       "    <tr>\n",
       "      <th>6</th>\n",
       "      <td>Green</td>\n",
       "      <td>0.080102</td>\n",
       "    </tr>\n",
       "    <tr>\n",
       "      <th>11</th>\n",
       "      <td>Purple</td>\n",
       "      <td>0.072172</td>\n",
       "    </tr>\n",
       "    <tr>\n",
       "      <th>9</th>\n",
       "      <td>Light Blue</td>\n",
       "      <td>0.069236</td>\n",
       "    </tr>\n",
       "    <tr>\n",
       "      <th>2</th>\n",
       "      <td>Community Chest</td>\n",
       "      <td>0.062725</td>\n",
       "    </tr>\n",
       "    <tr>\n",
       "      <th>1</th>\n",
       "      <td>Chance</td>\n",
       "      <td>0.059471</td>\n",
       "    </tr>\n",
       "    <tr>\n",
       "      <th>8</th>\n",
       "      <td>Jail</td>\n",
       "      <td>0.058830</td>\n",
       "    </tr>\n",
       "    <tr>\n",
       "      <th>16</th>\n",
       "      <td>Utilities</td>\n",
       "      <td>0.050102</td>\n",
       "    </tr>\n",
       "    <tr>\n",
       "      <th>0</th>\n",
       "      <td>Brown</td>\n",
       "      <td>0.045604</td>\n",
       "    </tr>\n",
       "    <tr>\n",
       "      <th>3</th>\n",
       "      <td>Dark Blue</td>\n",
       "      <td>0.045474</td>\n",
       "    </tr>\n",
       "    <tr>\n",
       "      <th>13</th>\n",
       "      <td>Start</td>\n",
       "      <td>0.031671</td>\n",
       "    </tr>\n",
       "    <tr>\n",
       "      <th>4</th>\n",
       "      <td>Free Parking</td>\n",
       "      <td>0.027542</td>\n",
       "    </tr>\n",
       "    <tr>\n",
       "      <th>7</th>\n",
       "      <td>Income Tax</td>\n",
       "      <td>0.023076</td>\n",
       "    </tr>\n",
       "    <tr>\n",
       "      <th>14</th>\n",
       "      <td>Super Tax</td>\n",
       "      <td>0.022035</td>\n",
       "    </tr>\n",
       "    <tr>\n",
       "      <th>5</th>\n",
       "      <td>Go to Jail</td>\n",
       "      <td>0.000000</td>\n",
       "    </tr>\n",
       "  </tbody>\n",
       "</table>\n",
       "</div>"
      ],
      "text/plain": [
       "          Aggregate  Probability\n",
       "15    Train Station     0.101739\n",
       "12              Red     0.085091\n",
       "10           Orange     0.084468\n",
       "17           Yellow     0.080662\n",
       "6             Green     0.080102\n",
       "11           Purple     0.072172\n",
       "9        Light Blue     0.069236\n",
       "2   Community Chest     0.062725\n",
       "1            Chance     0.059471\n",
       "8              Jail     0.058830\n",
       "16        Utilities     0.050102\n",
       "0             Brown     0.045604\n",
       "3         Dark Blue     0.045474\n",
       "13            Start     0.031671\n",
       "4      Free Parking     0.027542\n",
       "7        Income Tax     0.023076\n",
       "14        Super Tax     0.022035\n",
       "5        Go to Jail     0.000000"
      ]
     },
     "execution_count": 38,
     "metadata": {},
     "output_type": "execute_result"
    }
   ],
   "source": [
    "aggregated_df.sort_values('Probability', ascending=False)"
   ]
  },
  {
   "cell_type": "markdown",
   "metadata": {},
   "source": [
    "## Plot of expected values by group"
   ]
  },
  {
   "cell_type": "markdown",
   "metadata": {},
   "source": [
    "If we find the expected values by each aggregate we can find out which group generated the most money per turn."
   ]
  },
  {
   "cell_type": "code",
   "execution_count": 39,
   "metadata": {},
   "outputs": [],
   "source": [
    "aggregated_ev_df = pd.DataFrame(df.loc[df['Purchasable'] == True]\\\n",
    "    .groupby(['Aggregate'])['Expected Value'].sum()).reset_index()"
   ]
  },
  {
   "cell_type": "markdown",
   "metadata": {},
   "source": [
    "Plotting this gives:"
   ]
  },
  {
   "cell_type": "code",
   "execution_count": 40,
   "metadata": {},
   "outputs": [
    {
     "data": {
      "image/png": "[encoded data removed]",
      "text/plain": [
       "<matplotlib.figure.Figure at 0x1e1ee6206d8>"
      ]
     },
     "metadata": {},
     "output_type": "display_data"
    }
   ],
   "source": [
    "plt.rc('xtick', labelsize=16) \n",
    "plt.rc('ytick', labelsize=14) \n",
    "aggregated_ev_df[['Aggregate', 'Expected Value']].sort_values(by='Expected Value', ascending=False)\\\n",
    "    .plot(kind='bar', figsize=(10,4))\n",
    "plt.xticks(range(len(aggregated_ev_df.index)), aggregated_ev_df[['Aggregate', 'Expected Value']]\n",
    "    .sort_values(by='Expected Value', ascending=False)['Aggregate'])\n",
    "plt.ylabel('Expected Value')\n",
    "plt.title('Expected Value by Group');"
   ]
  },
  {
   "cell_type": "markdown",
   "metadata": {},
   "source": [
    "We can conclude that the `Train Station` yields the most. This are however $4$ squares. The best street to have is `Green`."
   ]
  },
  {
   "cell_type": "markdown",
   "metadata": {},
   "source": [
    "## Table of expected values by group"
   ]
  },
  {
   "cell_type": "markdown",
   "metadata": {},
   "source": [
    "A full table of expected values can be found below"
   ]
  },
  {
   "cell_type": "code",
   "execution_count": 41,
   "metadata": {},
   "outputs": [
    {
     "data": {
      "text/html": [
       "<div>\n",
       "<style scoped>\n",
       "    .dataframe tbody tr th:only-of-type {\n",
       "        vertical-align: middle;\n",
       "    }\n",
       "\n",
       "    .dataframe tbody tr th {\n",
       "        vertical-align: top;\n",
       "    }\n",
       "\n",
       "    .dataframe thead th {\n",
       "        text-align: right;\n",
       "    }\n",
       "</style>\n",
       "<table border=\"1\" class=\"dataframe\">\n",
       "  <thead>\n",
       "    <tr style=\"text-align: right;\">\n",
       "      <th></th>\n",
       "      <th>Aggregate</th>\n",
       "      <th>Expected Value</th>\n",
       "    </tr>\n",
       "  </thead>\n",
       "  <tbody>\n",
       "    <tr>\n",
       "      <th>7</th>\n",
       "      <td>Train Station</td>\n",
       "      <td>2.543475</td>\n",
       "    </tr>\n",
       "    <tr>\n",
       "      <th>2</th>\n",
       "      <td>Green</td>\n",
       "      <td>2.133288</td>\n",
       "    </tr>\n",
       "    <tr>\n",
       "      <th>1</th>\n",
       "      <td>Dark Blue</td>\n",
       "      <td>1.924635</td>\n",
       "    </tr>\n",
       "    <tr>\n",
       "      <th>9</th>\n",
       "      <td>Yellow</td>\n",
       "      <td>1.828806</td>\n",
       "    </tr>\n",
       "    <tr>\n",
       "      <th>6</th>\n",
       "      <td>Red</td>\n",
       "      <td>1.594120</td>\n",
       "    </tr>\n",
       "    <tr>\n",
       "      <th>4</th>\n",
       "      <td>Orange</td>\n",
       "      <td>1.238848</td>\n",
       "    </tr>\n",
       "    <tr>\n",
       "      <th>5</th>\n",
       "      <td>Purple</td>\n",
       "      <td>0.771962</td>\n",
       "    </tr>\n",
       "    <tr>\n",
       "      <th>8</th>\n",
       "      <td>Utilities</td>\n",
       "      <td>0.701428</td>\n",
       "    </tr>\n",
       "    <tr>\n",
       "      <th>3</th>\n",
       "      <td>Light Blue</td>\n",
       "      <td>0.461332</td>\n",
       "    </tr>\n",
       "    <tr>\n",
       "      <th>0</th>\n",
       "      <td>Brown</td>\n",
       "      <td>0.137748</td>\n",
       "    </tr>\n",
       "  </tbody>\n",
       "</table>\n",
       "</div>"
      ],
      "text/plain": [
       "       Aggregate  Expected Value\n",
       "7  Train Station        2.543475\n",
       "2          Green        2.133288\n",
       "1      Dark Blue        1.924635\n",
       "9         Yellow        1.828806\n",
       "6            Red        1.594120\n",
       "4         Orange        1.238848\n",
       "5         Purple        0.771962\n",
       "8      Utilities        0.701428\n",
       "3     Light Blue        0.461332\n",
       "0          Brown        0.137748"
      ]
     },
     "execution_count": 41,
     "metadata": {},
     "output_type": "execute_result"
    }
   ],
   "source": [
    "aggregated_ev_df.sort_values('Expected Value', ascending=False)"
   ]
  },
  {
   "cell_type": "markdown",
   "metadata": {},
   "source": [
    "# Other probabilities"
   ]
  },
  {
   "cell_type": "markdown",
   "metadata": {},
   "source": [
    "## Train station probabilities"
   ]
  },
  {
   "cell_type": "markdown",
   "metadata": {},
   "source": [
    "We can conclude that `Train Station` has the highest probability to land on. However, we need to take into account that there are four squares to land on."
   ]
  },
  {
   "cell_type": "code",
   "execution_count": 42,
   "metadata": {},
   "outputs": [
    {
     "data": {
      "text/html": [
       "<div>\n",
       "<style scoped>\n",
       "    .dataframe tbody tr th:only-of-type {\n",
       "        vertical-align: middle;\n",
       "    }\n",
       "\n",
       "    .dataframe tbody tr th {\n",
       "        vertical-align: top;\n",
       "    }\n",
       "\n",
       "    .dataframe thead th {\n",
       "        text-align: right;\n",
       "    }\n",
       "</style>\n",
       "<table border=\"1\" class=\"dataframe\">\n",
       "  <thead>\n",
       "    <tr style=\"text-align: right;\">\n",
       "      <th></th>\n",
       "      <th>Square</th>\n",
       "      <th>Description</th>\n",
       "      <th>Probability</th>\n",
       "      <th>Expected Value</th>\n",
       "    </tr>\n",
       "  </thead>\n",
       "  <tbody>\n",
       "    <tr>\n",
       "      <th>15</th>\n",
       "      <td>ts2</td>\n",
       "      <td>Train Station 2</td>\n",
       "      <td>0.028094</td>\n",
       "      <td>0.702350</td>\n",
       "    </tr>\n",
       "    <tr>\n",
       "      <th>25</th>\n",
       "      <td>ts3</td>\n",
       "      <td>Train Station 3</td>\n",
       "      <td>0.026611</td>\n",
       "      <td>0.665275</td>\n",
       "    </tr>\n",
       "    <tr>\n",
       "      <th>35</th>\n",
       "      <td>ts4</td>\n",
       "      <td>Train Station 4</td>\n",
       "      <td>0.023978</td>\n",
       "      <td>0.599450</td>\n",
       "    </tr>\n",
       "    <tr>\n",
       "      <th>5</th>\n",
       "      <td>t1</td>\n",
       "      <td>Train Station 1</td>\n",
       "      <td>0.023056</td>\n",
       "      <td>0.576400</td>\n",
       "    </tr>\n",
       "  </tbody>\n",
       "</table>\n",
       "</div>"
      ],
      "text/plain": [
       "   Square      Description  Probability  Expected Value\n",
       "15    ts2  Train Station 2     0.028094        0.702350\n",
       "25    ts3  Train Station 3     0.026611        0.665275\n",
       "35    ts4  Train Station 4     0.023978        0.599450\n",
       "5      t1  Train Station 1     0.023056        0.576400"
      ]
     },
     "execution_count": 42,
     "metadata": {},
     "output_type": "execute_result"
    }
   ],
   "source": [
    "df.loc[df['Aggregate'] == 'Train Station', df.columns.isin(['Square', 'Description', 'Probability', 'Expected Value'])]\\\n",
    "    .sort_values('Probability', ascending=False)"
   ]
  },
  {
   "cell_type": "markdown",
   "metadata": {},
   "source": [
    "## Probability to be in jail"
   ]
  },
  {
   "cell_type": "markdown",
   "metadata": {},
   "source": [
    "To find the total probability to be in jail, we need to take into account that:\n",
    "\n",
    " * We can land on jail.\n",
    " * We can land on go to jail.\n",
    " * There is one community card which sends you to jail.\n",
    " * There is one chance card which sends you to jail.\n",
    " \n",
    "Each deck has $16$ cards, therefore the probability to draw go to jail is $P(\\bar{x}=\\text{go to jail})=\\dfrac{1}{16}$.\n",
    "\n",
    "$$P(\\bar{x}=\\text{in jail}) = P(\\bar{x}=\\text{jail}) + P(\\bar{x}=\\text{go to jail}) + \\dfrac{1}{16}\\left[ P(\\bar{x}=\\text{community chest}) + P(\\bar{x}=\\text{chance})\\right] $$"
   ]
  },
  {
   "cell_type": "code",
   "execution_count": 43,
   "metadata": {},
   "outputs": [],
   "source": [
    "P_jail           = sum(aggregated_df.loc[aggregated_df['Aggregate'] == 'Jail'           ]['Probability'])\n",
    "P_go_to_jail     = sum(aggregated_df.loc[aggregated_df['Aggregate'] == 'Go to Jail'     ]['Probability'])\n",
    "P_community_card = sum(aggregated_df.loc[aggregated_df['Aggregate'] == 'Community Chest']['Probability'])\n",
    "P_chance_card    = sum(aggregated_df.loc[aggregated_df['Aggregate'] == 'Chance'         ]['Probability'])"
   ]
  },
  {
   "cell_type": "code",
   "execution_count": 44,
   "metadata": {
    "scrolled": true
   },
   "outputs": [
    {
     "data": {
      "text/plain": [
       "0.066467250000000005"
      ]
     },
     "execution_count": 44,
     "metadata": {},
     "output_type": "execute_result"
    }
   ],
   "source": [
    "P_jail + P_go_to_jail + 1/16 * (P_community_card + P_chance_card)"
   ]
  },
  {
   "cell_type": "markdown",
   "metadata": {},
   "source": [
    "## Probability to draw a card"
   ]
  },
  {
   "cell_type": "markdown",
   "metadata": {},
   "source": [
    "To find the probability to draw a card, we simply calculate:\n",
    "\n",
    "$$ P(\\bar{x}=\\text{draw a card}) = P(\\bar{x}=\\text{community chest}) + P(\\bar{x}=\\text{chance})$$"
   ]
  },
  {
   "cell_type": "code",
   "execution_count": 45,
   "metadata": {},
   "outputs": [
    {
     "data": {
      "text/plain": [
       "0.122196"
      ]
     },
     "execution_count": 45,
     "metadata": {},
     "output_type": "execute_result"
    }
   ],
   "source": [
    "P_community_card + P_chance_card"
   ]
  },
  {
   "cell_type": "markdown",
   "metadata": {},
   "source": [
    "Where the probabilities for the community chest square are:"
   ]
  },
  {
   "cell_type": "code",
   "execution_count": 46,
   "metadata": {},
   "outputs": [
    {
     "data": {
      "text/html": [
       "<div>\n",
       "<style scoped>\n",
       "    .dataframe tbody tr th:only-of-type {\n",
       "        vertical-align: middle;\n",
       "    }\n",
       "\n",
       "    .dataframe tbody tr th {\n",
       "        vertical-align: top;\n",
       "    }\n",
       "\n",
       "    .dataframe thead th {\n",
       "        text-align: right;\n",
       "    }\n",
       "</style>\n",
       "<table border=\"1\" class=\"dataframe\">\n",
       "  <thead>\n",
       "    <tr style=\"text-align: right;\">\n",
       "      <th></th>\n",
       "      <th>Square</th>\n",
       "      <th>Description</th>\n",
       "      <th>Probability</th>\n",
       "    </tr>\n",
       "  </thead>\n",
       "  <tbody>\n",
       "    <tr>\n",
       "      <th>17</th>\n",
       "      <td>cc2</td>\n",
       "      <td>Community Chest 2</td>\n",
       "      <td>0.023516</td>\n",
       "    </tr>\n",
       "    <tr>\n",
       "      <th>33</th>\n",
       "      <td>cc3</td>\n",
       "      <td>Community Chest 3</td>\n",
       "      <td>0.020710</td>\n",
       "    </tr>\n",
       "    <tr>\n",
       "      <th>2</th>\n",
       "      <td>cc1</td>\n",
       "      <td>Community Chest 1</td>\n",
       "      <td>0.018499</td>\n",
       "    </tr>\n",
       "  </tbody>\n",
       "</table>\n",
       "</div>"
      ],
      "text/plain": [
       "   Square        Description  Probability\n",
       "17    cc2  Community Chest 2     0.023516\n",
       "33    cc3  Community Chest 3     0.020710\n",
       "2     cc1  Community Chest 1     0.018499"
      ]
     },
     "execution_count": 46,
     "metadata": {},
     "output_type": "execute_result"
    }
   ],
   "source": [
    "df.loc[df['Aggregate'] == 'Community Chest', df.columns.isin(['Square', 'Description', 'Probability'])]\\\n",
    "    .sort_values('Probability', ascending=False)"
   ]
  },
  {
   "cell_type": "markdown",
   "metadata": {},
   "source": [
    "And the probabilities for the chance square are:"
   ]
  },
  {
   "cell_type": "code",
   "execution_count": 47,
   "metadata": {
    "scrolled": true
   },
   "outputs": [
    {
     "data": {
      "text/html": [
       "<div>\n",
       "<style scoped>\n",
       "    .dataframe tbody tr th:only-of-type {\n",
       "        vertical-align: middle;\n",
       "    }\n",
       "\n",
       "    .dataframe tbody tr th {\n",
       "        vertical-align: top;\n",
       "    }\n",
       "\n",
       "    .dataframe thead th {\n",
       "        text-align: right;\n",
       "    }\n",
       "</style>\n",
       "<table border=\"1\" class=\"dataframe\">\n",
       "  <thead>\n",
       "    <tr style=\"text-align: right;\">\n",
       "      <th></th>\n",
       "      <th>Square</th>\n",
       "      <th>Description</th>\n",
       "      <th>Probability</th>\n",
       "    </tr>\n",
       "  </thead>\n",
       "  <tbody>\n",
       "    <tr>\n",
       "      <th>22</th>\n",
       "      <td>c2</td>\n",
       "      <td>Chance 2</td>\n",
       "      <td>0.021977</td>\n",
       "    </tr>\n",
       "    <tr>\n",
       "      <th>7</th>\n",
       "      <td>c1</td>\n",
       "      <td>Chance 1</td>\n",
       "      <td>0.018926</td>\n",
       "    </tr>\n",
       "    <tr>\n",
       "      <th>36</th>\n",
       "      <td>c3</td>\n",
       "      <td>Chance 3</td>\n",
       "      <td>0.018568</td>\n",
       "    </tr>\n",
       "  </tbody>\n",
       "</table>\n",
       "</div>"
      ],
      "text/plain": [
       "   Square Description  Probability\n",
       "22     c2    Chance 2     0.021977\n",
       "7      c1    Chance 1     0.018926\n",
       "36     c3    Chance 3     0.018568"
      ]
     },
     "execution_count": 47,
     "metadata": {},
     "output_type": "execute_result"
    }
   ],
   "source": [
    "df.loc[df['Aggregate'] == 'Chance', df.columns.isin(['Square', 'Description', 'Probability'])]\\\n",
    "    .sort_values('Probability', ascending=False)"
   ]
  },
  {
   "cell_type": "markdown",
   "metadata": {},
   "source": [
    "# Markov matrix model"
   ]
  },
  {
   "cell_type": "markdown",
   "metadata": {},
   "source": [
    "Another way to find the probabilities, would be to create a Markov matrix with the probability to go another square, for each individual square. This will be a $40\\times40$ square matrix $M$."
   ]
  },
  {
   "cell_type": "code",
   "execution_count": 48,
   "metadata": {},
   "outputs": [],
   "source": [
    "M = np.eye(40)"
   ]
  },
  {
   "cell_type": "code",
   "execution_count": 49,
   "metadata": {},
   "outputs": [
    {
     "data": {
      "text/plain": [
       "array([[ 1.,  0.,  0., ...,  0.,  0.,  0.],\n",
       "       [ 0.,  1.,  0., ...,  0.,  0.,  0.],\n",
       "       [ 0.,  0.,  1., ...,  0.,  0.,  0.],\n",
       "       ..., \n",
       "       [ 0.,  0.,  0., ...,  1.,  0.,  0.],\n",
       "       [ 0.,  0.,  0., ...,  0.,  1.,  0.],\n",
       "       [ 0.,  0.,  0., ...,  0.,  0.,  1.]])"
      ]
     },
     "execution_count": 49,
     "metadata": {},
     "output_type": "execute_result"
    }
   ],
   "source": [
    "M"
   ]
  },
  {
   "cell_type": "markdown",
   "metadata": {},
   "source": [
    "Then we need to fill in the matrix. For each square we are going to calculate the probabilities to get on any other square. For the most the probability will be $0$ because we can't throw high enough numbers. We also need to take into the account that there are probabilities that are generated by the cards and add those to the respecting elements."
   ]
  },
  {
   "cell_type": "markdown",
   "metadata": {},
   "source": [
    "When we have filled the matrix with all the values we let the matrix converge with $\\lim\\limits_{n\\rightarrow\\infty}M^n$. A simple way to approximate this would be to square the matrix a few times, like $M^{64}$. The resulting matrix will have the probabilities for every square."
   ]
  },
  {
   "cell_type": "markdown",
   "metadata": {},
   "source": [
    "## Probabilities for throwing two dices"
   ]
  },
  {
   "cell_type": "markdown",
   "metadata": {},
   "source": [
    "To fill our matrix $M$ we first need to find the probability distribution for two dices."
   ]
  },
  {
   "cell_type": "code",
   "execution_count": 50,
   "metadata": {},
   "outputs": [
    {
     "data": {
      "image/png": "[encoded data removed]",
      "text/plain": [
       "<matplotlib.figure.Figure at 0x1e1ee5ca630>"
      ]
     },
     "metadata": {},
     "output_type": "display_data"
    }
   ],
   "source": [
    "outcomes = [x+y for x in range(1,7) for y in range(1,7)]\n",
    "probabilities = {}\n",
    "for o in set(outcomes): probabilities[o] = outcomes.count(o) / len(outcomes)\n",
    "side, p = probabilities.keys(), probabilities.values()\n",
    "bar(side, p)\n",
    "xlabel('Sum of sides')\n",
    "ylabel('P(Sum of sides)')\n",
    "title('Probability Distribution for two dices');"
   ]
  },
  {
   "cell_type": "markdown",
   "metadata": {},
   "source": [
    "The range of values for two dices is:"
   ]
  },
  {
   "cell_type": "code",
   "execution_count": 51,
   "metadata": {},
   "outputs": [
    {
     "name": "stdout",
     "output_type": "stream",
     "text": [
      "Outcomes are min: 2, max: 12 and range: 10.\n"
     ]
    }
   ],
   "source": [
    "throw_min = min(side)\n",
    "throw_max = max(side)\n",
    "throw_range = throw_max - throw_min\n",
    "print('Outcomes are min: {}, max: {} and range: {}.'.format(throw_min, throw_max, throw_range))\n",
    "prob_df = pd.DataFrame()\n",
    "prob_df['Sum of sides'] = side\n",
    "prob_df['P(Sum of sides)'] = p"
   ]
  },
  {
   "cell_type": "markdown",
   "metadata": {},
   "source": [
    "## Probabilities for any position"
   ]
  },
  {
   "cell_type": "markdown",
   "metadata": {},
   "source": [
    "We want to create a matrix row for each tile. We want to calculate the probability to land on another square, calculated for all squares. We also want to use the modulo arithmetic here to wrap our position around the board."
   ]
  },
  {
   "cell_type": "code",
   "execution_count": 52,
   "metadata": {},
   "outputs": [],
   "source": [
    "def get_probability_for_throw(n):\n",
    "    if n < 2 or n > 12: return 0\n",
    "    return probabilities[n]\n",
    "\n",
    "def get_probabilities_for_position(pos):\n",
    "    squares = [0] * 40\n",
    "    for i in range(40):\n",
    "        squares[(pos+i)%40] = get_probability_for_throw(i)\n",
    "    \n",
    "    # Go to jail\n",
    "    squares[10] += squares[2] * 1/16  # Go to jail community card 1\n",
    "    squares[10] += squares[7] * 1/16  # Go to jail chance card 1\n",
    "    squares[10] += squares[17] * 1/16 # Go to jail community card 2\n",
    "    squares[10] += squares[22] * 1/16 # Go to jail chance card 2\n",
    "    squares[10] += squares[33] * 1/16 # Go to jail community card 3\n",
    "    squares[10] += squares[36] * 1/16 # Go to jail chance card 3\n",
    "    \n",
    "    # Go to start\n",
    "    squares[0] += squares[2] * 1/16   # Go to start community card 1\n",
    "    squares[0] += squares[7] * 1/16   # Go to start chance card 1\n",
    "    squares[0] += squares[17] * 1/16  # Go to start community card 2\n",
    "    squares[0] += squares[22] * 1/16  # Go to start chance card 2\n",
    "    squares[0] += squares[33] * 1/16  # Go to start community card 3\n",
    "    squares[0] += squares[36] * 1/16  # Go to start chance card 3\n",
    "\n",
    "    # Go back 3 (this creates a loophole because you go back to the community\n",
    "    # chest, and those probabilities need be recalculated again, for which I am too lazy.\n",
    "    #squares[4]  += squares[7] * 1/16   # Go back 3 chance card 1\n",
    "    #squares[19] += squares[22] * 1/16 # Go back 3 chance card 2\n",
    "    #squares[33] += squares[36] * 1/16 # Go back 3 chance card 3\n",
    "    \n",
    "    # Go back 2\n",
    "    squares[0]  += squares[2] * 1/16   # Go back 2 community card 1\n",
    "    squares[15] += squares[17] * 1/16 # Go back 2 community card 2\n",
    "    squares[31] += squares[33] * 1/16 # Go back 2 community card 3\n",
    "    \n",
    "    # Go to r3\n",
    "    squares[24] += squares[7] * 1/16   # Go back 3 chance card 1\n",
    "    squares[24] += squares[22] * 1/16 # Go back 3 chance card 2\n",
    "    squares[24] += squares[36] * 1/16 # Go back 3 chance card 3   \n",
    "    \n",
    "    # Community\n",
    "    squares[2]  *= 13/16\n",
    "    squares[17] *= 13/16\n",
    "    squares[33] *= 13/16\n",
    "    \n",
    "    # Chance\n",
    "    squares[7]  *= 13/16\n",
    "    squares[22] *= 13/16\n",
    "    squares[36] *= 13/16\n",
    "    \n",
    "    return squares"
   ]
  },
  {
   "cell_type": "markdown",
   "metadata": {},
   "source": [
    "Now we test to see that we indeed get the probabilities, starting from any square $n$."
   ]
  },
  {
   "cell_type": "code",
   "execution_count": 53,
   "metadata": {},
   "outputs": [
    {
     "data": {
      "text/plain": [
       "[0.008680555555555556,\n",
       " 0,\n",
       " 0.0,\n",
       " 0,\n",
       " 0,\n",
       " 0,\n",
       " 0,\n",
       " 0.0,\n",
       " 0,\n",
       " 0,\n",
       " 0.008680555555555556,\n",
       " 0,\n",
       " 0,\n",
       " 0,\n",
       " 0,\n",
       " 0.0,\n",
       " 0,\n",
       " 0.0,\n",
       " 0,\n",
       " 0,\n",
       " 0,\n",
       " 0,\n",
       " 0.0,\n",
       " 0,\n",
       " 0.001736111111111111,\n",
       " 0,\n",
       " 0.027777777777777776,\n",
       " 0.05555555555555555,\n",
       " 0.08333333333333333,\n",
       " 0.1111111111111111,\n",
       " 0.1388888888888889,\n",
       " 0.1736111111111111,\n",
       " 0.1388888888888889,\n",
       " 0.09027777777777778,\n",
       " 0.08333333333333333,\n",
       " 0.05555555555555555,\n",
       " 0.022569444444444444,\n",
       " 0,\n",
       " 0,\n",
       " 0]"
      ]
     },
     "execution_count": 53,
     "metadata": {},
     "output_type": "execute_result"
    }
   ],
   "source": [
    "get_probabilities_for_position(24)"
   ]
  },
  {
   "cell_type": "markdown",
   "metadata": {},
   "source": [
    "The sum of the column should equal $1$."
   ]
  },
  {
   "cell_type": "code",
   "execution_count": 54,
   "metadata": {},
   "outputs": [
    {
     "data": {
      "text/plain": [
       "0.99999999999999989"
      ]
     },
     "execution_count": 54,
     "metadata": {},
     "output_type": "execute_result"
    }
   ],
   "source": [
    "sum(get_probabilities_for_position(24))"
   ]
  },
  {
   "cell_type": "markdown",
   "metadata": {},
   "source": [
    "Take into account that our floating point arithmetic has a few rounding errors, the results seems to be correct. Now we are going to generate the probabilities for all the squares."
   ]
  },
  {
   "cell_type": "code",
   "execution_count": 55,
   "metadata": {},
   "outputs": [],
   "source": [
    "chances = []\n",
    "for p in range(40): chances += get_probabilities_for_position(p)"
   ]
  },
  {
   "cell_type": "markdown",
   "metadata": {},
   "source": [
    "For a $40\\times 40$ matrix, we should have $1600$ elements."
   ]
  },
  {
   "cell_type": "code",
   "execution_count": 56,
   "metadata": {},
   "outputs": [
    {
     "data": {
      "text/plain": [
       "1600"
      ]
     },
     "execution_count": 56,
     "metadata": {},
     "output_type": "execute_result"
    }
   ],
   "source": [
    "len(chances)"
   ]
  },
  {
   "cell_type": "markdown",
   "metadata": {},
   "source": [
    "## Converging $M$"
   ]
  },
  {
   "cell_type": "markdown",
   "metadata": {},
   "source": [
    "Next we apply $\\lim\\limits_{n\\rightarrow\\infty}M^n$, to converge to the stable situation of that matrix. Because of floating point arithmetic we keep iterating until we run out of our bit space, which is around $M^{64}$. If we plot a heat map for every $M^n$, where $n$ is between $[1,64]$, we get:"
   ]
  },
  {
   "cell_type": "code",
   "execution_count": 57,
   "metadata": {},
   "outputs": [],
   "source": [
    "from mpl_toolkits.axes_grid1 import Grid"
   ]
  },
  {
   "cell_type": "code",
   "execution_count": 58,
   "metadata": {},
   "outputs": [
    {
     "data": {
      "image/png": "[encoded data removed]",
      "text/plain": [
       "<matplotlib.figure.Figure at 0x1e1ee8052e8>"
      ]
     },
     "metadata": {},
     "output_type": "display_data"
    }
   ],
   "source": [
    "grid = 8\n",
    "N = grid**2\n",
    "M = Mn = np.array(chances).reshape(40,40)\n",
    "plt.figure(figsize=(20,20))\n",
    "\n",
    "for i in range(N):\n",
    "    ax = plt.subplot(sqrt(N),sqrt(N),i+1)\n",
    "    if i < N-sqrt(N): plt.setp(ax.get_xticklabels(), visible=False)\n",
    "    if i % sqrt(N) != 0: plt.setp(ax.get_yticklabels(), visible=False)\n",
    "    plt.imshow(Mn, cmap='hot')\n",
    "    plt.title('$M^{' + str(i+1) + '}$')\n",
    "    Mn = np.dot(M, Mn)\n",
    "    \n",
    "plt.tight_layout()"
   ]
  },
  {
   "cell_type": "markdown",
   "metadata": {},
   "source": [
    "Which looks quite cool. You can really see how the probabilities spread through the matrix to their exact values. If we look closer at $M^1$ and $M^{64}$:"
   ]
  },
  {
   "cell_type": "code",
   "execution_count": 59,
   "metadata": {},
   "outputs": [
    {
     "data": {
      "image/png": "[encoded data removed]",
      "text/plain": [
       "<matplotlib.figure.Figure at 0x1e1f12436a0>"
      ]
     },
     "metadata": {},
     "output_type": "display_data"
    }
   ],
   "source": [
    "plt.figure(figsize=(20,10))\n",
    "plt.subplot(1,2,1)\n",
    "plt.imshow(M, cmap='hot')\n",
    "plt.title('Markov matrix $M$')\n",
    "plt.ylabel('Rows')\n",
    "plt.xlabel('Columns')\n",
    "plt.subplot(1,2,2)\n",
    "plt.imshow(Mn, cmap='hot')\n",
    "plt.title('Converged Markov matrix $M^\\infty$')\n",
    "plt.xlabel('Columns')\n",
    "plt.tight_layout()"
   ]
  },
  {
   "cell_type": "markdown",
   "metadata": {},
   "source": [
    "Any row from $M$ has the same probability values."
   ]
  },
  {
   "cell_type": "code",
   "execution_count": 60,
   "metadata": {},
   "outputs": [
    {
     "data": {
      "text/plain": [
       "array([ 0.03504868,  0.02401996,  0.01968376,  0.0243919 ,  0.0246727 ,\n",
       "        0.0249952 ,  0.02533011,  0.02077604,  0.02526376,  0.02489455,\n",
       "        0.03415223,  0.02451821,  0.02460155,  0.02465195,  0.02495032,\n",
       "        0.02707982,  0.02577487,  0.02124669,  0.02602765,  0.02582802,\n",
       "        0.02568831,  0.02547366,  0.02054732,  0.02500047,  0.02953957,\n",
       "        0.02479888,  0.02485625,  0.02485469,  0.024812  ,  0.02479916,\n",
       "        0.02505142,  0.02676756,  0.02512208,  0.02042048,  0.0251762 ,\n",
       "        0.02511513,  0.02027001,  0.02479571,  0.02463601,  0.02436713])"
      ]
     },
     "execution_count": 60,
     "metadata": {},
     "output_type": "execute_result"
    }
   ],
   "source": [
    "Mn[0,]"
   ]
  },
  {
   "cell_type": "markdown",
   "metadata": {},
   "source": [
    "If we plot the coefficicients of the first row of $M$:"
   ]
  },
  {
   "cell_type": "code",
   "execution_count": 61,
   "metadata": {},
   "outputs": [
    {
     "data": {
      "image/png": "[encoded data removed]",
      "text/plain": [
       "<matplotlib.figure.Figure at 0x1e1f1133ba8>"
      ]
     },
     "metadata": {},
     "output_type": "display_data"
    }
   ],
   "source": [
    "plt.bar(range(len(Mn[0,])), Mn[0,], facecolor='r')\n",
    "plt.title('Coefficients of $M_{n,0}$')\n",
    "plt.xlabel('Index ($n$)')\n",
    "plt.ylabel('Value');"
   ]
  },
  {
   "cell_type": "markdown",
   "metadata": {},
   "source": [
    "## Error analysis"
   ]
  },
  {
   "cell_type": "markdown",
   "metadata": {},
   "source": [
    "Finally we add them to a `DataFrame`, and compare our previous results with our new exact results.\n",
    "\n",
    " * In our simulation we added the probabilities from `Go to Jail` to `Jail`, so we should also do that for $M$.\n",
    " * We removed the `Go back 3` chance card probabilities."
   ]
  },
  {
   "cell_type": "code",
   "execution_count": 62,
   "metadata": {},
   "outputs": [
    {
     "data": {
      "text/html": [
       "<div>\n",
       "<style scoped>\n",
       "    .dataframe tbody tr th:only-of-type {\n",
       "        vertical-align: middle;\n",
       "    }\n",
       "\n",
       "    .dataframe tbody tr th {\n",
       "        vertical-align: top;\n",
       "    }\n",
       "\n",
       "    .dataframe thead th {\n",
       "        text-align: right;\n",
       "    }\n",
       "</style>\n",
       "<table border=\"1\" class=\"dataframe\">\n",
       "  <thead>\n",
       "    <tr style=\"text-align: right;\">\n",
       "      <th></th>\n",
       "      <th>Label</th>\n",
       "      <th>Description</th>\n",
       "      <th>Simulated probabilities</th>\n",
       "      <th>Converged probabilities</th>\n",
       "      <th>Error</th>\n",
       "      <th>Absolute Error</th>\n",
       "      <th>Error percentage</th>\n",
       "    </tr>\n",
       "  </thead>\n",
       "  <tbody>\n",
       "    <tr>\n",
       "      <th>0</th>\n",
       "      <td>start</td>\n",
       "      <td>Start</td>\n",
       "      <td>0.031671</td>\n",
       "      <td>0.035049</td>\n",
       "      <td>-0.003378</td>\n",
       "      <td>0.003378</td>\n",
       "      <td>0.106649</td>\n",
       "    </tr>\n",
       "    <tr>\n",
       "      <th>1</th>\n",
       "      <td>b1</td>\n",
       "      <td>Brown 1</td>\n",
       "      <td>0.022334</td>\n",
       "      <td>0.024020</td>\n",
       "      <td>-0.001686</td>\n",
       "      <td>0.001686</td>\n",
       "      <td>0.075489</td>\n",
       "    </tr>\n",
       "    <tr>\n",
       "      <th>2</th>\n",
       "      <td>cc1</td>\n",
       "      <td>Community Chest 1</td>\n",
       "      <td>0.018499</td>\n",
       "      <td>0.019684</td>\n",
       "      <td>-0.001185</td>\n",
       "      <td>0.001185</td>\n",
       "      <td>0.064044</td>\n",
       "    </tr>\n",
       "    <tr>\n",
       "      <th>3</th>\n",
       "      <td>b2</td>\n",
       "      <td>Brown 2</td>\n",
       "      <td>0.023270</td>\n",
       "      <td>0.024392</td>\n",
       "      <td>-0.001122</td>\n",
       "      <td>0.001122</td>\n",
       "      <td>0.048212</td>\n",
       "    </tr>\n",
       "    <tr>\n",
       "      <th>4</th>\n",
       "      <td>it</td>\n",
       "      <td>Income Tax</td>\n",
       "      <td>0.023076</td>\n",
       "      <td>0.024673</td>\n",
       "      <td>-0.001597</td>\n",
       "      <td>0.001597</td>\n",
       "      <td>0.069193</td>\n",
       "    </tr>\n",
       "    <tr>\n",
       "      <th>5</th>\n",
       "      <td>t1</td>\n",
       "      <td>Train Station 1</td>\n",
       "      <td>0.023056</td>\n",
       "      <td>0.024995</td>\n",
       "      <td>-0.001939</td>\n",
       "      <td>0.001939</td>\n",
       "      <td>0.084108</td>\n",
       "    </tr>\n",
       "    <tr>\n",
       "      <th>6</th>\n",
       "      <td>lb1</td>\n",
       "      <td>Light Blue 1</td>\n",
       "      <td>0.023175</td>\n",
       "      <td>0.025330</td>\n",
       "      <td>-0.002155</td>\n",
       "      <td>0.002155</td>\n",
       "      <td>0.092993</td>\n",
       "    </tr>\n",
       "    <tr>\n",
       "      <th>7</th>\n",
       "      <td>c1</td>\n",
       "      <td>Chance 1</td>\n",
       "      <td>0.018926</td>\n",
       "      <td>0.020776</td>\n",
       "      <td>-0.001850</td>\n",
       "      <td>0.001850</td>\n",
       "      <td>0.097751</td>\n",
       "    </tr>\n",
       "    <tr>\n",
       "      <th>8</th>\n",
       "      <td>lb2</td>\n",
       "      <td>Light Blue 2</td>\n",
       "      <td>0.023103</td>\n",
       "      <td>0.025264</td>\n",
       "      <td>-0.002161</td>\n",
       "      <td>0.002161</td>\n",
       "      <td>0.093527</td>\n",
       "    </tr>\n",
       "    <tr>\n",
       "      <th>9</th>\n",
       "      <td>lb3</td>\n",
       "      <td>Light Blue 3</td>\n",
       "      <td>0.022958</td>\n",
       "      <td>0.024895</td>\n",
       "      <td>-0.001937</td>\n",
       "      <td>0.001937</td>\n",
       "      <td>0.084352</td>\n",
       "    </tr>\n",
       "    <tr>\n",
       "      <th>10</th>\n",
       "      <td>jail</td>\n",
       "      <td>Jail</td>\n",
       "      <td>0.058830</td>\n",
       "      <td>0.059204</td>\n",
       "      <td>-0.000374</td>\n",
       "      <td>0.000374</td>\n",
       "      <td>0.006351</td>\n",
       "    </tr>\n",
       "    <tr>\n",
       "      <th>11</th>\n",
       "      <td>p1</td>\n",
       "      <td>Purple 1</td>\n",
       "      <td>0.022489</td>\n",
       "      <td>0.024518</td>\n",
       "      <td>-0.002029</td>\n",
       "      <td>0.002029</td>\n",
       "      <td>0.090231</td>\n",
       "    </tr>\n",
       "    <tr>\n",
       "      <th>12</th>\n",
       "      <td>ec</td>\n",
       "      <td>Electric Company</td>\n",
       "      <td>0.023428</td>\n",
       "      <td>0.024602</td>\n",
       "      <td>-0.001174</td>\n",
       "      <td>0.001174</td>\n",
       "      <td>0.050092</td>\n",
       "    </tr>\n",
       "    <tr>\n",
       "      <th>13</th>\n",
       "      <td>p2</td>\n",
       "      <td>Purple 2</td>\n",
       "      <td>0.024562</td>\n",
       "      <td>0.024652</td>\n",
       "      <td>-0.000090</td>\n",
       "      <td>0.000090</td>\n",
       "      <td>0.003662</td>\n",
       "    </tr>\n",
       "    <tr>\n",
       "      <th>14</th>\n",
       "      <td>p3</td>\n",
       "      <td>Purple 3</td>\n",
       "      <td>0.025121</td>\n",
       "      <td>0.024950</td>\n",
       "      <td>0.000171</td>\n",
       "      <td>0.000171</td>\n",
       "      <td>0.006794</td>\n",
       "    </tr>\n",
       "    <tr>\n",
       "      <th>15</th>\n",
       "      <td>ts2</td>\n",
       "      <td>Train Station 2</td>\n",
       "      <td>0.028094</td>\n",
       "      <td>0.027080</td>\n",
       "      <td>0.001014</td>\n",
       "      <td>0.001014</td>\n",
       "      <td>0.036099</td>\n",
       "    </tr>\n",
       "    <tr>\n",
       "      <th>16</th>\n",
       "      <td>o1</td>\n",
       "      <td>Orange 1</td>\n",
       "      <td>0.027946</td>\n",
       "      <td>0.025775</td>\n",
       "      <td>0.002171</td>\n",
       "      <td>0.002171</td>\n",
       "      <td>0.077690</td>\n",
       "    </tr>\n",
       "    <tr>\n",
       "      <th>17</th>\n",
       "      <td>cc2</td>\n",
       "      <td>Community Chest 2</td>\n",
       "      <td>0.023516</td>\n",
       "      <td>0.021247</td>\n",
       "      <td>0.002269</td>\n",
       "      <td>0.002269</td>\n",
       "      <td>0.096501</td>\n",
       "    </tr>\n",
       "    <tr>\n",
       "      <th>18</th>\n",
       "      <td>o2</td>\n",
       "      <td>Orange 2</td>\n",
       "      <td>0.028374</td>\n",
       "      <td>0.026028</td>\n",
       "      <td>0.002346</td>\n",
       "      <td>0.002346</td>\n",
       "      <td>0.082694</td>\n",
       "    </tr>\n",
       "    <tr>\n",
       "      <th>19</th>\n",
       "      <td>o3</td>\n",
       "      <td>Orange 3</td>\n",
       "      <td>0.028148</td>\n",
       "      <td>0.025828</td>\n",
       "      <td>0.002320</td>\n",
       "      <td>0.002320</td>\n",
       "      <td>0.082421</td>\n",
       "    </tr>\n",
       "    <tr>\n",
       "      <th>20</th>\n",
       "      <td>p</td>\n",
       "      <td>Free Parking</td>\n",
       "      <td>0.027542</td>\n",
       "      <td>0.025688</td>\n",
       "      <td>0.001854</td>\n",
       "      <td>0.001854</td>\n",
       "      <td>0.067304</td>\n",
       "    </tr>\n",
       "    <tr>\n",
       "      <th>21</th>\n",
       "      <td>r1</td>\n",
       "      <td>Red 1</td>\n",
       "      <td>0.027424</td>\n",
       "      <td>0.025474</td>\n",
       "      <td>0.001950</td>\n",
       "      <td>0.001950</td>\n",
       "      <td>0.071118</td>\n",
       "    </tr>\n",
       "    <tr>\n",
       "      <th>22</th>\n",
       "      <td>c2</td>\n",
       "      <td>Chance 2</td>\n",
       "      <td>0.021977</td>\n",
       "      <td>0.020547</td>\n",
       "      <td>0.001430</td>\n",
       "      <td>0.001430</td>\n",
       "      <td>0.065053</td>\n",
       "    </tr>\n",
       "    <tr>\n",
       "      <th>23</th>\n",
       "      <td>r2</td>\n",
       "      <td>Red 2</td>\n",
       "      <td>0.026426</td>\n",
       "      <td>0.025000</td>\n",
       "      <td>0.001426</td>\n",
       "      <td>0.001426</td>\n",
       "      <td>0.053944</td>\n",
       "    </tr>\n",
       "    <tr>\n",
       "      <th>24</th>\n",
       "      <td>r3</td>\n",
       "      <td>Red 3</td>\n",
       "      <td>0.031241</td>\n",
       "      <td>0.029540</td>\n",
       "      <td>0.001701</td>\n",
       "      <td>0.001701</td>\n",
       "      <td>0.054462</td>\n",
       "    </tr>\n",
       "    <tr>\n",
       "      <th>25</th>\n",
       "      <td>ts3</td>\n",
       "      <td>Train Station 3</td>\n",
       "      <td>0.026611</td>\n",
       "      <td>0.024799</td>\n",
       "      <td>0.001812</td>\n",
       "      <td>0.001812</td>\n",
       "      <td>0.068097</td>\n",
       "    </tr>\n",
       "    <tr>\n",
       "      <th>26</th>\n",
       "      <td>y1</td>\n",
       "      <td>Yellow 1</td>\n",
       "      <td>0.026993</td>\n",
       "      <td>0.024856</td>\n",
       "      <td>0.002137</td>\n",
       "      <td>0.002137</td>\n",
       "      <td>0.079159</td>\n",
       "    </tr>\n",
       "    <tr>\n",
       "      <th>27</th>\n",
       "      <td>y2</td>\n",
       "      <td>Yellow 2</td>\n",
       "      <td>0.026548</td>\n",
       "      <td>0.024855</td>\n",
       "      <td>0.001693</td>\n",
       "      <td>0.001693</td>\n",
       "      <td>0.063783</td>\n",
       "    </tr>\n",
       "    <tr>\n",
       "      <th>28</th>\n",
       "      <td>ww</td>\n",
       "      <td>Water Works</td>\n",
       "      <td>0.026674</td>\n",
       "      <td>0.024812</td>\n",
       "      <td>0.001862</td>\n",
       "      <td>0.001862</td>\n",
       "      <td>0.069806</td>\n",
       "    </tr>\n",
       "    <tr>\n",
       "      <th>29</th>\n",
       "      <td>y3</td>\n",
       "      <td>Yellow 3</td>\n",
       "      <td>0.027121</td>\n",
       "      <td>0.024799</td>\n",
       "      <td>0.002322</td>\n",
       "      <td>0.002322</td>\n",
       "      <td>0.085611</td>\n",
       "    </tr>\n",
       "    <tr>\n",
       "      <th>30</th>\n",
       "      <td>gtj</td>\n",
       "      <td>Go to Jail</td>\n",
       "      <td>0.000000</td>\n",
       "      <td>0.000000</td>\n",
       "      <td>0.000000</td>\n",
       "      <td>0.000000</td>\n",
       "      <td>NaN</td>\n",
       "    </tr>\n",
       "    <tr>\n",
       "      <th>31</th>\n",
       "      <td>g1</td>\n",
       "      <td>Green 1</td>\n",
       "      <td>0.028678</td>\n",
       "      <td>0.026768</td>\n",
       "      <td>0.001910</td>\n",
       "      <td>0.001910</td>\n",
       "      <td>0.066617</td>\n",
       "    </tr>\n",
       "    <tr>\n",
       "      <th>32</th>\n",
       "      <td>g2</td>\n",
       "      <td>Green 2</td>\n",
       "      <td>0.026106</td>\n",
       "      <td>0.025122</td>\n",
       "      <td>0.000984</td>\n",
       "      <td>0.000984</td>\n",
       "      <td>0.037690</td>\n",
       "    </tr>\n",
       "    <tr>\n",
       "      <th>33</th>\n",
       "      <td>cc3</td>\n",
       "      <td>Community Chest 3</td>\n",
       "      <td>0.020710</td>\n",
       "      <td>0.020420</td>\n",
       "      <td>0.000290</td>\n",
       "      <td>0.000290</td>\n",
       "      <td>0.013980</td>\n",
       "    </tr>\n",
       "    <tr>\n",
       "      <th>34</th>\n",
       "      <td>g3</td>\n",
       "      <td>Green 3</td>\n",
       "      <td>0.025318</td>\n",
       "      <td>0.025176</td>\n",
       "      <td>0.000142</td>\n",
       "      <td>0.000142</td>\n",
       "      <td>0.005601</td>\n",
       "    </tr>\n",
       "    <tr>\n",
       "      <th>35</th>\n",
       "      <td>ts4</td>\n",
       "      <td>Train Station 4</td>\n",
       "      <td>0.023978</td>\n",
       "      <td>0.025115</td>\n",
       "      <td>-0.001137</td>\n",
       "      <td>0.001137</td>\n",
       "      <td>0.047424</td>\n",
       "    </tr>\n",
       "    <tr>\n",
       "      <th>36</th>\n",
       "      <td>c3</td>\n",
       "      <td>Chance 3</td>\n",
       "      <td>0.018568</td>\n",
       "      <td>0.020270</td>\n",
       "      <td>-0.001702</td>\n",
       "      <td>0.001702</td>\n",
       "      <td>0.091663</td>\n",
       "    </tr>\n",
       "    <tr>\n",
       "      <th>37</th>\n",
       "      <td>db1</td>\n",
       "      <td>Dark Blue 1</td>\n",
       "      <td>0.023271</td>\n",
       "      <td>0.024796</td>\n",
       "      <td>-0.001525</td>\n",
       "      <td>0.001525</td>\n",
       "      <td>0.065520</td>\n",
       "    </tr>\n",
       "    <tr>\n",
       "      <th>38</th>\n",
       "      <td>st</td>\n",
       "      <td>Super Tax</td>\n",
       "      <td>0.022035</td>\n",
       "      <td>0.024636</td>\n",
       "      <td>-0.002601</td>\n",
       "      <td>0.002601</td>\n",
       "      <td>0.118040</td>\n",
       "    </tr>\n",
       "    <tr>\n",
       "      <th>39</th>\n",
       "      <td>db2</td>\n",
       "      <td>Dark Blue 2</td>\n",
       "      <td>0.022203</td>\n",
       "      <td>0.024367</td>\n",
       "      <td>-0.002164</td>\n",
       "      <td>0.002164</td>\n",
       "      <td>0.097470</td>\n",
       "    </tr>\n",
       "  </tbody>\n",
       "</table>\n",
       "</div>"
      ],
      "text/plain": [
       "    Label        Description  Simulated probabilities  \\\n",
       "0   start              Start                 0.031671   \n",
       "1      b1            Brown 1                 0.022334   \n",
       "2     cc1  Community Chest 1                 0.018499   \n",
       "3      b2            Brown 2                 0.023270   \n",
       "4      it         Income Tax                 0.023076   \n",
       "5      t1    Train Station 1                 0.023056   \n",
       "6     lb1       Light Blue 1                 0.023175   \n",
       "7      c1           Chance 1                 0.018926   \n",
       "8     lb2       Light Blue 2                 0.023103   \n",
       "9     lb3       Light Blue 3                 0.022958   \n",
       "10   jail               Jail                 0.058830   \n",
       "11     p1           Purple 1                 0.022489   \n",
       "12     ec   Electric Company                 0.023428   \n",
       "13     p2           Purple 2                 0.024562   \n",
       "14     p3           Purple 3                 0.025121   \n",
       "15    ts2    Train Station 2                 0.028094   \n",
       "16     o1           Orange 1                 0.027946   \n",
       "17    cc2  Community Chest 2                 0.023516   \n",
       "18     o2           Orange 2                 0.028374   \n",
       "19     o3           Orange 3                 0.028148   \n",
       "20      p       Free Parking                 0.027542   \n",
       "21     r1              Red 1                 0.027424   \n",
       "22     c2           Chance 2                 0.021977   \n",
       "23     r2              Red 2                 0.026426   \n",
       "24     r3              Red 3                 0.031241   \n",
       "25    ts3    Train Station 3                 0.026611   \n",
       "26     y1           Yellow 1                 0.026993   \n",
       "27     y2           Yellow 2                 0.026548   \n",
       "28     ww        Water Works                 0.026674   \n",
       "29     y3           Yellow 3                 0.027121   \n",
       "30    gtj         Go to Jail                 0.000000   \n",
       "31     g1            Green 1                 0.028678   \n",
       "32     g2            Green 2                 0.026106   \n",
       "33    cc3  Community Chest 3                 0.020710   \n",
       "34     g3            Green 3                 0.025318   \n",
       "35    ts4    Train Station 4                 0.023978   \n",
       "36     c3           Chance 3                 0.018568   \n",
       "37    db1        Dark Blue 1                 0.023271   \n",
       "38     st          Super Tax                 0.022035   \n",
       "39    db2        Dark Blue 2                 0.022203   \n",
       "\n",
       "    Converged probabilities     Error  Absolute Error  Error percentage  \n",
       "0                  0.035049 -0.003378        0.003378          0.106649  \n",
       "1                  0.024020 -0.001686        0.001686          0.075489  \n",
       "2                  0.019684 -0.001185        0.001185          0.064044  \n",
       "3                  0.024392 -0.001122        0.001122          0.048212  \n",
       "4                  0.024673 -0.001597        0.001597          0.069193  \n",
       "5                  0.024995 -0.001939        0.001939          0.084108  \n",
       "6                  0.025330 -0.002155        0.002155          0.092993  \n",
       "7                  0.020776 -0.001850        0.001850          0.097751  \n",
       "8                  0.025264 -0.002161        0.002161          0.093527  \n",
       "9                  0.024895 -0.001937        0.001937          0.084352  \n",
       "10                 0.059204 -0.000374        0.000374          0.006351  \n",
       "11                 0.024518 -0.002029        0.002029          0.090231  \n",
       "12                 0.024602 -0.001174        0.001174          0.050092  \n",
       "13                 0.024652 -0.000090        0.000090          0.003662  \n",
       "14                 0.024950  0.000171        0.000171          0.006794  \n",
       "15                 0.027080  0.001014        0.001014          0.036099  \n",
       "16                 0.025775  0.002171        0.002171          0.077690  \n",
       "17                 0.021247  0.002269        0.002269          0.096501  \n",
       "18                 0.026028  0.002346        0.002346          0.082694  \n",
       "19                 0.025828  0.002320        0.002320          0.082421  \n",
       "20                 0.025688  0.001854        0.001854          0.067304  \n",
       "21                 0.025474  0.001950        0.001950          0.071118  \n",
       "22                 0.020547  0.001430        0.001430          0.065053  \n",
       "23                 0.025000  0.001426        0.001426          0.053944  \n",
       "24                 0.029540  0.001701        0.001701          0.054462  \n",
       "25                 0.024799  0.001812        0.001812          0.068097  \n",
       "26                 0.024856  0.002137        0.002137          0.079159  \n",
       "27                 0.024855  0.001693        0.001693          0.063783  \n",
       "28                 0.024812  0.001862        0.001862          0.069806  \n",
       "29                 0.024799  0.002322        0.002322          0.085611  \n",
       "30                 0.000000  0.000000        0.000000               NaN  \n",
       "31                 0.026768  0.001910        0.001910          0.066617  \n",
       "32                 0.025122  0.000984        0.000984          0.037690  \n",
       "33                 0.020420  0.000290        0.000290          0.013980  \n",
       "34                 0.025176  0.000142        0.000142          0.005601  \n",
       "35                 0.025115 -0.001137        0.001137          0.047424  \n",
       "36                 0.020270 -0.001702        0.001702          0.091663  \n",
       "37                 0.024796 -0.001525        0.001525          0.065520  \n",
       "38                 0.024636 -0.002601        0.002601          0.118040  \n",
       "39                 0.024367 -0.002164        0.002164          0.097470  "
      ]
     },
     "execution_count": 62,
     "metadata": {},
     "output_type": "execute_result"
    }
   ],
   "source": [
    "df = pd.DataFrame()\n",
    "df['Label'] = squares_labels\n",
    "df['Description'] = squares_description\n",
    "df['Simulated probabilities'] = squares\n",
    "df['Simulated probabilities'] /= rounds\n",
    "df['Converged probabilities'] = Mn[0,]\n",
    "df.loc[10, 'Converged probabilities'] += df.loc[30, 'Converged probabilities']\n",
    "df.loc[30, 'Converged probabilities'] = 0\n",
    "df['Error'] = df['Simulated probabilities'] - df['Converged probabilities']\n",
    "df['Absolute Error'] = df['Error'].abs()\n",
    "df['Error percentage'] = df['Absolute Error'] / df['Simulated probabilities']\n",
    "df"
   ]
  },
  {
   "cell_type": "markdown",
   "metadata": {},
   "source": [
    "If we plot a bar chart of the error between our simulated probabilities and our exact probabilities, we get:"
   ]
  },
  {
   "cell_type": "code",
   "execution_count": 63,
   "metadata": {},
   "outputs": [
    {
     "data": {
      "image/png": "[encoded data removed]",
      "text/plain": [
       "<matplotlib.figure.Figure at 0x1e1f1ae1400>"
      ]
     },
     "metadata": {},
     "output_type": "display_data"
    }
   ],
   "source": [
    "ax = df[['Description', 'Error']]\\\n",
    "    .plot(kind='bar', figsize=(14,5), facecolor='r')\n",
    "plt.xticks(range(len(df.index)), df[['Description', 'Error']]\n",
    "    .sort_values(by='Error', ascending=False)['Description'])\n",
    "plt.ylabel('Error')\n",
    "plt.title('Error of simulation vs. converged probabilities')\n",
    "ax.axhline(0, c='black', ls='dashed');"
   ]
  },
  {
   "cell_type": "markdown",
   "metadata": {},
   "source": [
    "We can see that the simulation is quite accurate. Calculating the accuracy for the simulated model by subtracting the average error yields:"
   ]
  },
  {
   "cell_type": "code",
   "execution_count": 64,
   "metadata": {},
   "outputs": [
    {
     "name": "stdout",
     "output_type": "stream",
     "text": [
      "Average accuracy: 93.41%\n"
     ]
    }
   ],
   "source": [
    "print('Average accuracy: {:.2f}%'.format((1-df['Error percentage'].mean())*100))"
   ]
  },
  {
   "cell_type": "markdown",
   "metadata": {},
   "source": [
    "We should take into consideration that we removed the `Go back 3` from the chance card in both models."
   ]
  }
 ],
 "metadata": {
  "kernelspec": {
   "display_name": "Python 3",
   "language": "python",
   "name": "python3"
  },
  "language_info": {
   "codemirror_mode": {
    "name": "ipython",
    "version": 3
   },
   "file_extension": ".py",
   "mimetype": "text/x-python",
   "name": "python",
   "nbconvert_exporter": "python",
   "pygments_lexer": "ipython3",
   "version": "3.6.3"
  }
 },
 "nbformat": 4,
 "nbformat_minor": 2
}
