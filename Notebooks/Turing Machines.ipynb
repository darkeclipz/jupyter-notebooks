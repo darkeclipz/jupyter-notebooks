{
 "cells": [
  {
   "cell_type": "code",
   "execution_count": 6,
   "metadata": {},
   "outputs": [
    {
     "name": "stdout",
     "output_type": "stream",
     "text": [
      "Populating the interactive namespace from numpy and matplotlib\n"
     ]
    }
   ],
   "source": [
    "%pylab inline\n",
    "from IPython.display import display"
   ]
  },
  {
   "cell_type": "markdown",
   "metadata": {},
   "source": [
    "This document contains implementation of the Turing Machines, as described in The Annotated Turing, Charles Petzold. It also contains various excerpts from Turing's paper."
   ]
  },
  {
   "cell_type": "code",
   "execution_count": 8,
   "metadata": {},
   "outputs": [
    {
     "data": {
      "text/plain": [
       "[[1, 2], [3, 4], [5, 6]]"
      ]
     },
     "metadata": {},
     "output_type": "display_data"
    }
   ],
   "source": [
    "display([[1,2],[3,4],[5,6]])"
   ]
  },
  {
   "cell_type": "markdown",
   "metadata": {},
   "source": [
    "# Chapter 3"
   ]
  },
  {
   "cell_type": "markdown",
   "metadata": {},
   "source": [
    "## Computing Machines"
   ]
  },
  {
   "cell_type": "markdown",
   "metadata": {},
   "source": [
    "The machine is supplied with a \"tape\" running through it and divided into sections (called \"squares\") each capable of bearing a \"symbol\".\n",
    "\n",
    "At any moment there is just one square, say the $r$-th, bearing the symbol $\\mathfrak S(r)$ which is \"in the machine\".\n",
    "\n",
    "We may call this square the \"scanned square\". The symbol on the scanned square may be called the \"scanned symbol\". The \"scanned symbol\" is the only one of which the machine is, so to speak, \"directly aware\".\n",
    "\n",
    "However, by altering its $m$-configuration the machine can effectively remember some of the symbols which it has \"seen\" (scanned) previously.\n",
    "\n",
    "The possible behaviour of the machine at any moment is determined by the $m$-configuration $q_n$ and the scanned symbol $\\mathfrak S(r)$. This pair $q_n, \\mathfrak S(r)$ will be called the \"configuration\": thus the configuration determines the possible behaviour of the machine.\n",
    "\n",
    "In some of the configurations in whcih the scanned square is blank (i.e. bears no symbol) the machine writes down a new symbol on the scanned square: in other configurations it erases the scanned symbol. The machine may also change the square which is being scanned, but only by shifting it one place to right or left.\n",
    "\n",
    "In addition to any of these operations the _m_-configuration may be changed. Some of the symbols written down [232] will form the sequence of figures which is the decimal of the real number which is being computed. The others are just rough notes to \"assist the memory\". It will only be these rough notes which will be liable to erasure.\n",
    "\n",
    "The defence of this contention will be easier when the theory of the machines is familiar to the reader. In the enxt section I therefore proceed with the development of the theory and assume that it is understood what is meant by \"machine\", \"tape\", \"scanned\", etc."
   ]
  },
  {
   "cell_type": "markdown",
   "metadata": {},
   "source": [
    "## Definitions"
   ]
  },
  {
   "cell_type": "markdown",
   "metadata": {},
   "source": [
    "_Automatic machines_.\n",
    "\n",
    "If at each stage the motion of the machine is _completely_ determined by the configuration, we shall call the machine an \"automatic machine\" (or _a_-machine).\n",
    "\n",
    "For some purposes we might use machines (choice machines or _c_-machines) whose motion is only partially determined by the configuration.\n",
    "\n",
    "_Computing machines_.\n",
    "\n",
    "If an _a_-machine prints two kinds of symbols, of which the first kind (called figures) consists entirely of $0$ and $1$ (the others being called symbols of the second kind), then the machine will be called a computing machine.\n",
    "\n",
    "If the machine is supplied with a blank tape and set in motion, starting from the correct intial _m_-configuration, the subsequence of the symbols printed by it whic hare of the first kind will be called the _sequence computed by the machine_.\n",
    "\n",
    "The real number whose expression as a binary decimal is obtained by prefacing this sequence by a decimal point is called the _number computed by the machine_.\n",
    "\n",
    "At any stage of the motion of the machine, the number of the scanned square, the complete sequence of all symbols on the tape, and the _m_-configuration will be said to describe the _complete configuration_ at that stage.\n",
    "\n",
    "The changes of the machine and tape between successive complete configurations will be called the _moves_ of the machine.\n",
    "\n",
    "_Circular and circle-free machines_.\n",
    "\n",
    "If a computing machine never writes down more that a finite number of symbols of the first kind, it will be called _circular_. Otherwise it is said to be _circle-free_.\n",
    "\n",
    "A machine will be circular if it reaches a configuration from which there is no possible move, or if it goes on moving, and possibly printing symbols of the second kind, but cannot print any more symbols of the first kind. \n",
    "\n",
    "_Computable sequences and numbers_.\n",
    "\n",
    "A sequence is said to be computable if it can be computed by a "
   ]
  },
  {
   "cell_type": "code",
   "execution_count": null,
   "metadata": {},
   "outputs": [],
   "source": []
  }
 ],
 "metadata": {
  "kernelspec": {
   "display_name": "Python 3",
   "language": "python",
   "name": "python3"
  },
  "language_info": {
   "codemirror_mode": {
    "name": "ipython",
    "version": 3
   },
   "file_extension": ".py",
   "mimetype": "text/x-python",
   "name": "python",
   "nbconvert_exporter": "python",
   "pygments_lexer": "ipython3",
   "version": "3.6.3"
  }
 },
 "nbformat": 4,
 "nbformat_minor": 2
}
