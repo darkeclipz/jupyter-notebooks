{
 "cells": [
  {
   "cell_type": "markdown",
   "metadata": {},
   "source": [
    "# Introduction"
   ]
  },
  {
   "cell_type": "markdown",
   "metadata": {},
   "source": [
    "The goal of this document is to construct a computer from logical gates. The basic logical gates that are used to construct the computer are: `And`, `Or`, and `Not`. The major outline of this document is followed from the book _The Elements of Computing Systems, Noam Nisan and Shimon Shocken (2008)_.\n",
    "\n",
    "The book is followed from Boolean Logic (chapter 1) to Assembler (chapter 6). The construction of the Virtual Machine, and eventually an Operating System, is left out of scope. The main reason for this, is because Python does not allow an easy 'screen' interface. The entire emulator will be written as a `REPL` application, which allows the user excessive control of the entire emulator. The cost of this, however, is that everything is done at a very low level. \n",
    "\n",
    "The goal is to create a computer that can run Assembly code, and that we have an assembler. I haven't followed the Assembly implementation in the book, instead, I used it as a baseline, and transformed it into my own preferences."
   ]
  },
  {
   "cell_type": "markdown",
   "metadata": {},
   "source": [
    "# Boolean logic"
   ]
  },
  {
   "cell_type": "markdown",
   "metadata": {},
   "source": [
    "Every Boolean function, no matter how complex, can be expressed using three Boolean operators only: `And`, `Or`, and `Not`."
   ]
  },
  {
   "cell_type": "markdown",
   "metadata": {},
   "source": [
    "## Gate logic"
   ]
  },
  {
   "cell_type": "markdown",
   "metadata": {},
   "source": [
    "A _gate_ is a physical device that implements a Boolean function. If a Boolean function $f$ operates on $n$ variables and returns $m$ binary results, the gate that implements $f$ will have _$n$ input pins and $m$ output pins_. Today, most gates are implemented as transistors etched in silicon, packaged as _chips_. \n",
    "\n",
    "There are the following three _primitive gates_, which will be used to create all the other components. The gates are: `And`, `Or`, and `Not`. The following symbols are used to indicate each gate:\n",
    "\n",
    "![Primitive gates](gates1.PNG)\n",
    "\n",
    "We can define their Boolean functions mathematically as:\n",
    "\n",
    " 1. $\\text{And}(a,b)=a\\land b$\n",
    " 2. $\\text{Or}(a,b)=a\\lor b$\n",
    " 3. $\\text{Not}(a)=\\lnot a$\n",
    " \n",
    "\n",
    "For ease of writing, we will also adopt the convention to write a $1$ when the value is `True`, and $0$ if the value is `False`."
   ]
  },
  {
   "cell_type": "markdown",
   "metadata": {},
   "source": [
    "## Primitive gates"
   ]
  },
  {
   "cell_type": "markdown",
   "metadata": {},
   "source": [
    "We will now implement the primitive logic gates in Python. The input variables can be either a Boolean value, or a function. The input will be called by the `boolf(x)` function, which returns a Boolean value, or executes the function. Allowing functions gives us the option to easily chain multiple gates together with references."
   ]
  },
  {
   "cell_type": "code",
   "execution_count": 21,
   "metadata": {},
   "outputs": [],
   "source": [
    "def boolf(x):\n",
    "    if callable(x): return x()\n",
    "    if type(x) is bool: return x\n",
    "    raise ValueError('Unsupported type {} for boolf()'.format(type(x)))"
   ]
  },
  {
   "cell_type": "code",
   "execution_count": 17,
   "metadata": {},
   "outputs": [],
   "source": [
    "class And():\n",
    "    def __init__(self, a, b): self.a = a; self.b = b\n",
    "    def out(self): return boolf(self.a) and boolf(self.b)\n",
    "    def __repr__(self): return '{}'.format(self.out())\n",
    "\n",
    "class Or():\n",
    "    def __init__(self, a, b): self.a = a; self.b = b\n",
    "    def out(self): return boolf(self.a) or boolf(self.b)\n",
    "    def __repr__(self): return '{}'.format(self.out())\n",
    "    \n",
    "class Not():\n",
    "    def __init__(self, a): self.a = a\n",
    "    def out(self): return not boolf(self.a)\n",
    "    def __repr__(self): return '{}'.format(self.out())"
   ]
  },
  {
   "cell_type": "markdown",
   "metadata": {},
   "source": [
    "To test a simple scenario, let $G(a,b,c) = \\text{Not}(\\text{Or}(a, \\text{And}(b, c)))$. Because this is a composite gate, we are only using primitive gates. If $(a,b,c)=(0,1,1)$, the resulting output should be $0$."
   ]
  },
  {
   "cell_type": "code",
   "execution_count": 49,
   "metadata": {},
   "outputs": [
    {
     "name": "stdout",
     "output_type": "stream",
     "text": [
      "False\n",
      "True\n"
     ]
    }
   ],
   "source": [
    "a=False;b=c=True\n",
    "G = Not(Or(lambda: a, And(lambda: b, lambda: c).out).out)\n",
    "print(G)\n",
    "\n",
    "b=False\n",
    "print(G)"
   ]
  },
  {
   "cell_type": "markdown",
   "metadata": {},
   "source": [
    "**Reference vs. value types**\n",
    "\n",
    "Notice that primitive Boolean values should be the result of a function. If a Boolean value is the input for a gate, Python will reference to it by value, which is something we do not want. Thus, we input a function into the gate, and Python passes the function as a reference. Then we use `boolf(x)` to either get the variable, or return the function result. This allows us to change the input values, after the gate has been constructed, and keep calling `.out()` on the last gate to execute all the logic in the intermediate gates."
   ]
  },
  {
   "cell_type": "markdown",
   "metadata": {},
   "source": [
    "## Composite gates"
   ]
  },
  {
   "cell_type": "markdown",
   "metadata": {},
   "source": [
    "We start with primitive gates and design more complicated functionality by interconnecting them, leading to the construction of _composite gates_."
   ]
  },
  {
   "cell_type": "markdown",
   "metadata": {},
   "source": [
    "### Three-way and gate"
   ]
  },
  {
   "cell_type": "markdown",
   "metadata": {},
   "source": [
    "The first gate we can construct from two and gates, is a three-way and gate. It can be defined in the following way: $\\text{And3W}(a,b,c)= \\text{And}(\\text{And}(a,b),c)$.\n",
    "\n",
    "![Three-way and gate diagram](gates2.PNG)"
   ]
  },
  {
   "cell_type": "code",
   "execution_count": 19,
   "metadata": {},
   "outputs": [],
   "source": [
    "class And3W():\n",
    "    def __init__(self, a, b, c): self.a = a; self.b = b; self.c = c\n",
    "    def out(self): \n",
    "        and1 = And(boolf(self.a), boolf(self.b))\n",
    "        and2 = And(and1.out, boolf(self.c))\n",
    "        return and2.out()\n",
    "    def __repr__(self): return '{}'.format(self.out())"
   ]
  },
  {
   "cell_type": "code",
   "execution_count": 20,
   "metadata": {},
   "outputs": [
    {
     "data": {
      "text/plain": [
       "True"
      ]
     },
     "execution_count": 20,
     "metadata": {},
     "output_type": "execute_result"
    }
   ],
   "source": [
    "And3W(True, True, True)"
   ]
  },
  {
   "cell_type": "markdown",
   "metadata": {},
   "source": [
    "### Xor gate"
   ]
  },
  {
   "cell_type": "markdown",
   "metadata": {},
   "source": [
    "Let us consider another logic design example -- that of a `Xor` gate. The gate $\\text{Xor}(a,b)$ is $1$ exactly when $a=1$ and $b=0$, or $a=0$ and $b=1$. In the case where $a=b$ the gate is $0$. It can be defined in the following way: $\\text{Xor(a,b)}=\\text{Or}(\\text{And}(a,\\text{Not}(b)), \\text{And}(\\text{Not}(a),b))$. This definition leads to the logic design shown in the figure below:"
   ]
  },
  {
   "cell_type": "code",
   "execution_count": 77,
   "metadata": {},
   "outputs": [],
   "source": [
    "class Xor():\n",
    "    def __init__(self, a, b): self.a = a; self.b = b\n",
    "    def out(self): return Or(And(boolf(self.a), Not(boolf(self.b)).out).out,\\\n",
    "                             And(Not(boolf(self.a)).out, boolf(self.b)).out\\\n",
    "                          ).out()\n",
    "    def __repr__(self): return '{}'.format(self.out())"
   ]
  },
  {
   "cell_type": "code",
   "execution_count": 86,
   "metadata": {},
   "outputs": [
    {
     "data": {
      "text/plain": [
       "True"
      ]
     },
     "execution_count": 86,
     "metadata": {},
     "output_type": "execute_result"
    }
   ],
   "source": [
    "Xor(False, True).out() and Xor(True, False).out() \\\n",
    "    and not Xor(True, True).out() and not Xor(False, False).out()"
   ]
  },
  {
   "cell_type": "markdown",
   "metadata": {},
   "source": [
    "## Basic Logic Gates"
   ]
  },
  {
   "cell_type": "markdown",
   "metadata": {},
   "source": [
    "### Not "
   ]
  },
  {
   "cell_type": "markdown",
   "metadata": {},
   "source": [
    "### And"
   ]
  },
  {
   "cell_type": "markdown",
   "metadata": {},
   "source": [
    "### Or"
   ]
  },
  {
   "cell_type": "markdown",
   "metadata": {},
   "source": [
    "### Xor"
   ]
  },
  {
   "cell_type": "markdown",
   "metadata": {},
   "source": [
    "### Multiplexor"
   ]
  },
  {
   "cell_type": "markdown",
   "metadata": {},
   "source": [
    "### Demultiplexor"
   ]
  },
  {
   "cell_type": "markdown",
   "metadata": {},
   "source": [
    "## Multi-bit Versions of Basic gates"
   ]
  },
  {
   "cell_type": "markdown",
   "metadata": {},
   "source": [
    "### Not16"
   ]
  },
  {
   "cell_type": "markdown",
   "metadata": {},
   "source": [
    "### And16"
   ]
  },
  {
   "cell_type": "markdown",
   "metadata": {},
   "source": [
    "### Or16"
   ]
  },
  {
   "cell_type": "markdown",
   "metadata": {},
   "source": [
    "### Mux16"
   ]
  },
  {
   "cell_type": "markdown",
   "metadata": {},
   "source": [
    "## Multi-Way Versions of Basic Gates"
   ]
  },
  {
   "cell_type": "markdown",
   "metadata": {},
   "source": [
    "### Or8Way"
   ]
  },
  {
   "cell_type": "markdown",
   "metadata": {},
   "source": [
    "### Multi-Way/Multi-Bit Multiplexor"
   ]
  },
  {
   "cell_type": "markdown",
   "metadata": {},
   "source": [
    "#### Mux4Way16"
   ]
  },
  {
   "cell_type": "markdown",
   "metadata": {},
   "source": [
    "#### Mux8Way16"
   ]
  },
  {
   "cell_type": "markdown",
   "metadata": {},
   "source": [
    "#### DMux4Way"
   ]
  },
  {
   "cell_type": "markdown",
   "metadata": {},
   "source": [
    "#### DMux8Way"
   ]
  },
  {
   "cell_type": "markdown",
   "metadata": {},
   "source": [
    "# Boolean Arithmetic"
   ]
  },
  {
   "cell_type": "markdown",
   "metadata": {},
   "source": [
    "# Sequential Logic"
   ]
  },
  {
   "cell_type": "markdown",
   "metadata": {},
   "source": [
    "# Machine Language"
   ]
  },
  {
   "cell_type": "markdown",
   "metadata": {},
   "source": [
    "# Computer Architecture"
   ]
  },
  {
   "cell_type": "markdown",
   "metadata": {},
   "source": [
    "# Assembler"
   ]
  }
 ],
 "metadata": {
  "kernelspec": {
   "display_name": "Python 3",
   "language": "python",
   "name": "python3"
  },
  "language_info": {
   "codemirror_mode": {
    "name": "ipython",
    "version": 3
   },
   "file_extension": ".py",
   "mimetype": "text/x-python",
   "name": "python",
   "nbconvert_exporter": "python",
   "pygments_lexer": "ipython3",
   "version": "3.6.3"
  }
 },
 "nbformat": 4,
 "nbformat_minor": 2
}
