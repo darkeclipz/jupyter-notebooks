{
 "cells": [
  {
   "cell_type": "markdown",
   "metadata": {},
   "source": [
    "# Elfskot PyApi "
   ]
  },
  {
   "cell_type": "markdown",
   "metadata": {},
   "source": [
    "## Implementation of PyApi"
   ]
  },
  {
   "cell_type": "markdown",
   "metadata": {},
   "source": [
    "The following code is the implementation of the Elfskot PyApi. It is adviced to store the code in a file `elfskotapi.py`, which can then be included in your Python projects. The usage of the PyApi is described in the remainder of this document."
   ]
  },
  {
   "cell_type": "code",
   "execution_count": 67,
   "metadata": {},
   "outputs": [],
   "source": [
    "# Required packages:\n",
    "# pip3 install requests pandas\n",
    "import requests\n",
    "import json\n",
    "from enum import Enum\n",
    "import pandas as pd\n",
    "import math\n",
    "\n",
    "def unpack(s): return list(s) if type(s) != 'list' else s\n",
    "def head(s): return s[0] if len(s) > 0 else []\n",
    "def tail(s): return s[1:]\n",
    "def reverse(s): return s[::-1]\n",
    "def last(s): return s[-1:]\n",
    "def init(s): return s[0:len(s)-1]\n",
    "def take(s, n): return s[:n]\n",
    "def drop(s, n): return s[n:]\n",
    "\n",
    "class TextType(Enum):\n",
    "    Description = 0\n",
    "    ExtendedDescription = 1\n",
    "    MoreInfo = 2\n",
    "\n",
    "class ElfskotApi():\n",
    "\n",
    "    base_address = 'https://api.elfskot.cloud/api/2/'\n",
    "\n",
    "    def __init__(self, application_id, secret):\n",
    "        self.application_id = application_id\n",
    "        self.secret = secret\n",
    "        self.get_token()\n",
    "\n",
    "    def get_token(self):\n",
    "        payload = { 'clientId': self.application_id, 'secret': self.secret}\n",
    "        result = requests.post(self.get_url('auth/elfskotconnectlogin'), json=payload)\n",
    "        self.check_result(result)\n",
    "        self.token = json.loads(result.text)['accessToken']\n",
    "\n",
    "    def check_result(self, result):\n",
    "        if result.status_code != 200:\n",
    "            raise ValueError('Error: API returned status code {}'.format(result.status_code))\n",
    "        return True\n",
    "\n",
    "    def get_auth_header(self): return {'Authorization': 'bearer {}'.format(self.token)}\n",
    "    def get_url(self, endpoint): return self.base_address + endpoint\n",
    "\n",
    "    def http_return_if_valid(self, result):\n",
    "        self.check_result(result)\n",
    "        return json.loads(result.text)\n",
    "\n",
    "    def http_get(self, endpoint):\n",
    "        print(endpoint)\n",
    "        return self.http_return_if_valid(\n",
    "            requests.get(self.get_url(endpoint), headers=self.get_auth_header())\n",
    "        )\n",
    "\n",
    "    def http_post(self, endpoint, o):\n",
    "        return self.http_return_if_valid(\n",
    "            requests.post(self.get_url(endpoint), json=o, headers=self.get_auth_header())\n",
    "        )\n",
    "\n",
    "    def http_put(self, endpoint, o):\n",
    "        return self.http_return_if_valid(\n",
    "            requests.put(self.get_url(endpoint), json=o, headers=self.get_auth_header())\n",
    "        )\n",
    "\n",
    "    def http_delete(self, endpoint, key):\n",
    "        result = requests.delete(self.get_url(endpoint) + '/{}'.format(key), headers=self.get_auth_header())\n",
    "        if result.status_code != 200: \n",
    "            raise ValueError('Error: API returned status code {}'.format(result.status_code))\n",
    "\n",
    "    def query(self, endpoint): return Query(endpoint, self.http_get)\n",
    "    def all(self, endpoint): return self.query(endpoint)\n",
    "    def find(self, endpoint, p, v): return self.query(endpoint).filter(p, v)\n",
    "    def get(self, endpoint, k): return self.find(endpoint, 'id', k)\n",
    "    def new(self, endpoint, o): return self.http_post(endpoint, o)\n",
    "    def update(self, endpoint, o): return self.http_put(endpoint, o)\n",
    "    def delete(self, endpoint, k): self.http_delete(endpoint, k)  \n",
    "    def help(self, endpoint): print('Model for {}:\\r\\n{}'\n",
    "                                    .format(endpoint, list(self.first(endpoint, 'id', '').keys())))\n",
    "        \n",
    "class Query():\n",
    "    \n",
    "    def __init__(self, endpoint, http):\n",
    "        self.http = http\n",
    "        self.endpoint = endpoint\n",
    "        self.parameters = {}\n",
    "        self.data = []\n",
    "        self.index = 0\n",
    "        \n",
    "    def raise_(self, t): raise ValueError(t)\n",
    "    \n",
    "    def skip(self, n):\n",
    "        if 'skip' in self.parameters: self.raise_('Skip already set.')\n",
    "        self.parameters['skip'] = n\n",
    "        return self\n",
    "    \n",
    "    def take(self, n):\n",
    "        if 'limit' in self.parameters: self.raise_('Take already called.')\n",
    "        self.parameters['limit'] = n\n",
    "        return self\n",
    "    \n",
    "    # this does no require multiple includes yet, it is limited to\n",
    "    # one field.\n",
    "    def include(self, name):\n",
    "        includes = []\n",
    "        if 'include' in self.parameters:\n",
    "            includes = self.parameters['include'].split(',')\n",
    "        includes.append(name)\n",
    "        self.parameters['include'] = \",\".join(includes)\n",
    "        return self\n",
    "    \n",
    "    def filter(self, property, value):\n",
    "        self.parameters[property] = value\n",
    "        return self\n",
    "    \n",
    "    def sort(self, property, descending = False):\n",
    "        self.parameters['orderby'] = property\n",
    "        return self\n",
    "    \n",
    "    def descending(self):\n",
    "        self.parameters['descending'] = True\n",
    "        return self\n",
    "    \n",
    "    def url_qry_params(self):\n",
    "        return '{}?{}'.format(self.endpoint, '&'.join(['{}={}'.format(k,v) \n",
    "                                                       for k,v in dict(self.parameters).items()])).lower()\n",
    "    \n",
    "    def __next__(self): \n",
    "        if self.data == []: self.data = self.http(self.url_qry_params())\n",
    "        try: result = self.data[self.index]\n",
    "        except IndexError: raise StopIteration\n",
    "        self.index += 1\n",
    "        return result\n",
    "    \n",
    "    def __iter__(self):\n",
    "        return self\n",
    "    \n",
    "    def list(self): return list(self)\n",
    "    def df(self): return pd.DataFrame(self.list())\n",
    "    def first(self): return head(self.list())"
   ]
  },
  {
   "cell_type": "markdown",
   "metadata": {},
   "source": [
    "## PyApi reference"
   ]
  },
  {
   "cell_type": "markdown",
   "metadata": {},
   "source": [
    "### ElfskotApi\n",
    "\n",
    "The `ElfskotApi` object is a HTTP client which also handles the authorization token. It allows the `GET`, `POST`, `PUT`, and `DELETE` HTTP methods. The `ElfskotApi` is instantiated with a `appId` and `secret` which are found in the integration section of the EMS. The following example shows how to instantiate the object:\n",
    "\n",
    "```python\n",
    "db = ElfskotApi('appId', 'secret')\n",
    "```\n",
    "\n",
    "The following methods are available for the `ElfskotApi` object:\n",
    "\n",
    "|Expression|Description|Example|\n",
    "|-|-|-|\n",
    "|`query(endpoint)`|Return the `Query` object for the endpoint.|`db.query('features')`|\n",
    "|`all(endpoint)`|Returns the `Query` object for the endpoint.|`db.all('features')`|\n",
    "|`find(endpoint, property, value)`|Finds all objects with a property equal to the value.|`db.find('features','name','tire')`|\n",
    "|`get(endpoint, id)`|Finds a single object, based on an id.|`db.get('features', ...)`|\n",
    "|`new(endpoint, object)`|Creates a new object.|`db.new('features', feature)`|\n",
    "|`update(endpoint, object)`|Updates an object, it matches it by id.|`db.update('features',feature)`|\n",
    "|`delete(endpoint, id)`|Deletes an object, based on the id.|`db.delete('features', ...)`|\n",
    "|`help(endpoint`)|Retrieves the first object in the endpoint, and displays all column names.|`db.help('features')`|\n",
    "\n",
    "### Query\n",
    "\n",
    "The `Query` class allows you to compose HTTP requests for our API. It supports lazy evaluation, and the data is only requested when the data is enumerated, or accessed. The `Query` object helps with composing the url for the request. The `Query` object will allow you to use the query parameters that are supported by our API. The query parameters that are supported are: `skip`, `limit`, `orderby`, `descending`, `include`, and `filter`.\n",
    "\n",
    "The following methods are available in the `Query` object:\n",
    "\n",
    "|Expression|Description|Example|\n",
    "|-|-|-|\n",
    "|`skip(int)`|Skips the first $n$ results.|`db.all('features').skip(10)`|\n",
    "|`take(int)`|Limit the query to $n$ results.|`db.all('features').take(10)`|\n",
    "|`include(string`|Includes the objects in a list of objects, for example, feature texts.|`db.all('features').include('texts')`|\n",
    "|`filter(string,any)`|Filter on a property in the model.|`db.all('features').filter('name','S6000')`|\n",
    "|`sort(string)`|Order the results on a property.|`db.all('features').sort('name')`|\n",
    "|`descending()`|Order the results in descending order.|`db.all('features').sort('name').descending()`|\n",
    "|`list()`|Returns the results as a list, this will evaluate the query.|`db.all('features').list()`|\n",
    "|`df()`|Returns the results as a `DataFrame` (requires `pandas`), this will evaluate the query.|`db.all('features').df()`|\n",
    "|`first()`|Returns the first element in the results, this will evaluate the query.|`db.all('features').first()`|\n",
    "\n",
    "**Note**: If you want to retrieve a single object, use the `take(1)` expression with `first()` to evaluate the query. This ensures that the API is only processing a single record, which improves the speed. For example: `db.all('features').sort('name').take(1).first()`."
   ]
  },
  {
   "cell_type": "markdown",
   "metadata": {},
   "source": [
    "# Usage demonstration"
   ]
  },
  {
   "cell_type": "markdown",
   "metadata": {},
   "source": [
    "## Getting started"
   ]
  },
  {
   "cell_type": "markdown",
   "metadata": {},
   "source": [
    "First instantiate a new `ElfskotApi` object with the `appId` and `secret` which are found in the integrations tab in your EMS."
   ]
  },
  {
   "cell_type": "code",
   "execution_count": 74,
   "metadata": {
    "scrolled": true
   },
   "outputs": [],
   "source": [
    "db = ElfskotApi('e8d964e4-29aa-4ba4-beca-fa21b690dbf0', 'ws3voxlq')"
   ]
  },
  {
   "cell_type": "markdown",
   "metadata": {},
   "source": [
    "While initializing the object, an authorization token is requested from the API. When the object is initialized, it is now possible to query our REST API.\n",
    "\n",
    "As an example, we will request a sorted list (by name) of features. Also, the texts of the feature should be included in the query. Finally, we take the first feature that is found and print it."
   ]
  },
  {
   "cell_type": "code",
   "execution_count": 47,
   "metadata": {
    "scrolled": false
   },
   "outputs": [
    {
     "data": {
      "text/plain": [
       "{'articleCode': None,\n",
       " 'cardImageUrl': None,\n",
       " 'category': None,\n",
       " 'categoryId': None,\n",
       " 'createdDate': '2018-03-30T09:52:47.7797469+00:00',\n",
       " 'creatorId': '7c10626d-6d57-403c-ec51-08d56407f341',\n",
       " 'customField1': None,\n",
       " 'customField2': None,\n",
       " 'customField3': None,\n",
       " 'customField4': None,\n",
       " 'customField5': None,\n",
       " 'hiddenThreeDModelItems': [],\n",
       " 'id': 'be855af0-3cf2-47c0-bac8-08d595a67251',\n",
       " 'marginPct': 0.0,\n",
       " 'maxValue': 0.0,\n",
       " 'minValue': 0.0,\n",
       " 'name': None,\n",
       " 'organizationId': None,\n",
       " 'organizationName': None,\n",
       " 'organizationSellsFeature': None,\n",
       " 'packingUnit': 0.0,\n",
       " 'properties': None,\n",
       " 'reference': None,\n",
       " 'salesPrice': 0.0,\n",
       " 'salesPriceLabel': '€ 0,00',\n",
       " 'stepValue': 0.0,\n",
       " 'subcategoryIds': [],\n",
       " 'synced': False,\n",
       " 'tags': [],\n",
       " 'texts': [],\n",
       " 'threeDModelItems': [],\n",
       " 'type': 0,\n",
       " 'unitOfMeasure': None,\n",
       " 'unitOfMeasurement': None,\n",
       " 'unitOfMeasurementId': None,\n",
       " 'updatedDate': '2018-10-10T12:09:21.8682548+00:00',\n",
       " 'vat': None,\n",
       " 'vatId': None}"
      ]
     },
     "execution_count": 47,
     "metadata": {},
     "output_type": "execute_result"
    }
   ],
   "source": [
    "db.all('features').sort('name').include('texts').take(1).first()"
   ]
  },
  {
   "cell_type": "markdown",
   "metadata": {},
   "source": [
    "In the same way, it is possible to request all the categories from the API, and display them by id and name. Do note that the name is a multilingual field, therefore it returns a list with the names in each language. It is also required to include the texts, because this is a different object."
   ]
  },
  {
   "cell_type": "code",
   "execution_count": 83,
   "metadata": {},
   "outputs": [
    {
     "name": "stdout",
     "output_type": "stream",
     "text": [
      "categories?include=texts\n"
     ]
    },
    {
     "data": {
      "text/plain": [
       "[{'Model': '4fde3e79-c90e-4844-3d1b-08d50589c407'},\n",
       " {'Engine': 'c6619774-d2aa-4bc4-3d1d-08d50589c407'},\n",
       " {'Transmission': 'b60ee5fb-bb67-4420-3d1e-08d50589c407'},\n",
       " {'Exterior color': '3ef76c1c-0d4a-4598-3d1f-08d50589c407'},\n",
       " {'Chassis': '79d10665-18ca-4405-3d20-08d50589c407'},\n",
       " {'Interior': '88e43ee0-be1c-4efe-3d21-08d50589c407'},\n",
       " {'Infotainment': 'dd2c73a1-007d-4c32-3d22-08d50589c407'},\n",
       " {'Rims': 'a51f921f-8ba4-47b1-3d23-08d50589c407'},\n",
       " {'Tires': '1c52e16f-fb87-41dd-3d24-08d50589c407'},\n",
       " {'Exhaust': '2ad69069-8e98-4034-d91b-08d507486180'},\n",
       " {'Sedans': '2ac6bffb-2543-48f3-f3d4-08d5688fd09d'},\n",
       " {'Off-road': 'e4e18ddb-9cc2-4155-67c6-08d568a38d77'}]"
      ]
     },
     "execution_count": 83,
     "metadata": {},
     "output_type": "execute_result"
    }
   ],
   "source": [
    "list(map(lambda c: {c['texts'][0]['value']: c['id']}, db.all('categories').include('texts')))"
   ]
  }
 ],
 "metadata": {
  "kernelspec": {
   "display_name": "Python 3",
   "language": "python",
   "name": "python3"
  },
  "language_info": {
   "codemirror_mode": {
    "name": "ipython",
    "version": 3
   },
   "file_extension": ".py",
   "mimetype": "text/x-python",
   "name": "python",
   "nbconvert_exporter": "python",
   "pygments_lexer": "ipython3",
   "version": "3.6.3"
  }
 },
 "nbformat": 4,
 "nbformat_minor": 2
}
