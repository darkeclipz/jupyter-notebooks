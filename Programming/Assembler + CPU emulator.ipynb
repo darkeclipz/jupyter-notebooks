{
 "cells": [
  {
   "cell_type": "markdown",
   "metadata": {},
   "source": [
    "# Memory"
   ]
  },
  {
   "cell_type": "markdown",
   "metadata": {},
   "source": [
    "There is a variable amount of memory, 1024 bytes will be used initially."
   ]
  },
  {
   "cell_type": "markdown",
   "metadata": {},
   "source": [
    "# CPU"
   ]
  },
  {
   "cell_type": "markdown",
   "metadata": {},
   "source": [
    "The CPU holds the following values:\n",
    "\n",
    " * Register A\n",
    " * Register B\n",
    " * Program counter (PC)\n",
    " * Stack pointer (SP)\n",
    " * Zero flag (ZF)\n",
    " * Halt flag (HF)\n",
    " \n",
    "_Register A_.\n",
    "\n",
    "Holds a 32-bit integer.\n",
    "\n",
    "_Register B_.\n",
    "\n",
    "Holds a 32-bit integer.\n",
    "\n",
    "_Program counter_.\n",
    "\n",
    "The program counter (PC) points towards the next instruction.\n",
    "\n",
    "_Stack pointer_.\n",
    "\n",
    "The stack counter (SP) points towards the current element in the stack.\n",
    "\n",
    "_Zero flag_.\n",
    "\n",
    "The zero flag (ZF) is low if a tested equality/inequality is true, and is high if the test return false.\n",
    "\n",
    "_Halt flag_.\n",
    "\n",
    "The half flag (HF) will be high if the CPU is halted."
   ]
  },
  {
   "cell_type": "markdown",
   "metadata": {},
   "source": [
    "# Opcodes"
   ]
  },
  {
   "cell_type": "markdown",
   "metadata": {},
   "source": [
    "_Integers_.\n",
    "\n",
    "Any integer value can be written as `d`, e.g. `1`.\n",
    "\n",
    "_Register_.\n",
    "\n",
    "There are three registers: `A`, `B`, and `R` in which results are stored.\n",
    "\n",
    "_Memory address_.\n",
    "\n",
    "A memory address is denoted with `[0000]`, for example:\n",
    "\n",
    "    MOV 16, &0003\n",
    "\n",
    "* Any integer value can be written as `1`.\n",
    "* Any register can be written as `A`, `B`, `R`.\n",
    "* Any memory address can be written as `[0000]` to `[0000]`.\n",
    "\n",
    "_Pointer_.\n",
    "\n",
    "The value of a memory address can be resolved with `$`.\n",
    "\n",
    "    MOV 10, [$A] ; Find the address stored in register A.\n",
    "\n",
    "_Mnemonics_.\n",
    "\n",
    "The following mnemonics are defined."
   ]
  },
  {
   "cell_type": "markdown",
   "metadata": {},
   "source": [
    "|Mnemonic|Opcode|Size (Bytes)|Description|\n",
    "|-|\n",
    "| `MOV reg, reg`| `0x10` |  3 | Move a value from register 1 to register 2. |\n",
    "| `MOV reg, [address]` | `0x11` | 3 | Move a value from register 1 to a memory address. |\n",
    "| `MOV [address], reg` | `0x12` | 3 | Move a value from a memory address to register 1. |\n",
    "| `MOV [$reg], reg` | `0x15` | 3 | Use the value in the register as a memory address, and load the value from there into the register. |\n",
    "| `MOV byte, reg` | `0x13` | 3 | Move a dword into to register 1. |\n",
    "| `MOV reg, [$reg]` | `0x14` | 3 | Use the value in the register as memory address, and store the value there from register 1. |\n",
    "| `CMP reg, reg` | `0x20` | 3 | Compare register A with register B for equality. |\n",
    "| `GT reg, reg` | `0x21` | 3 | Check if register A is greater than register B. |\n",
    "| `LT reg, reg` | `0x22` | 3 | Check if register A is less than register B. |\n",
    "| `JMP address` | `0x50` | 2 | Jump to address. |\n",
    "| `JZ address` | `0x51` | 2 | Jump to address if the zero flag is low. |\n",
    "| `JNZ address` | `0x52` | 2 | Jump to address if the zero flag is high. |\n",
    "| `ADD reg, reg` | `0x30` | 3 | Add register 1 to register 2 and store the result in register R. |\n",
    "| `SUB reg, reg` | `0x31` | 3 | Subtract register 2 from register 1 and store the result in register R. |\n",
    "| `MUL reg, reg` | `0x32` | 3 | Multiply register 1 with register 2 and store the result in register R. |\n",
    "| `DIV reg, reg` | `0x33` | 3 | Divide register 1 with register 2 and store the result in register R. (Integer division) |\n",
    "| `INC reg` | `0x34` | 2 | Increment register by one. |\n",
    "| `PUSH reg` | `0x40` | 2 | Push the value in register A onto the stack. |\n",
    "| `POP reg` | `0x41` | 2 | Pop the value from the stack and store this is register A. |\n",
    "| `HLT` | `0x99` | 1 | Halt the CPU. Set the halt flag high. |\n",
    "| `CALL ref`| `0x90` | 2 | System call. |"
   ]
  },
  {
   "cell_type": "markdown",
   "metadata": {},
   "source": [
    "_Labels_.\n",
    "\n",
    "It is also possible to define a label. This should be on a new line, and looks like this:\n",
    "\n",
    "    .start\n",
    "    \n",
    "Labels only support alpha-numerical characters. If a jump is followed by a word, it should check if the label is defined earlier. Then replace the memory address with that label.\n",
    "\n",
    "_Comments_.\n",
    "\n",
    "Comments can be indicated with `;`, everything will be ignored until a new line is found. Example:\n",
    "\n",
    "    MOV A, B ; Move the value in register A into register B."
   ]
  },
  {
   "cell_type": "markdown",
   "metadata": {},
   "source": [
    "# System calls"
   ]
  },
  {
   "cell_type": "markdown",
   "metadata": {},
   "source": [
    "The following system calls are supported:"
   ]
  },
  {
   "cell_type": "markdown",
   "metadata": {},
   "source": [
    "_Print_.\n",
    "\n",
    "Function name:\n",
    "\n",
    "    CALL print\n",
    "\n",
    "Reads one value from the stack and prints this onto the screen. Corresponding byte is `0x01`."
   ]
  },
  {
   "cell_type": "markdown",
   "metadata": {},
   "source": [
    "# Assembler"
   ]
  },
  {
   "cell_type": "markdown",
   "metadata": {},
   "source": [
    "The assembler should map the mnemonics to the corresponding opcodes. The result is a binary file. Binaries that are assembled for this emulator have the value of `0x27` in the first byte."
   ]
  },
  {
   "cell_type": "markdown",
   "metadata": {},
   "source": [
    "## Example program 1"
   ]
  },
  {
   "cell_type": "markdown",
   "metadata": {},
   "source": [
    "An example program that calculates `1+1` and prints `2`:\n",
    "\n",
    "    MOV 1, A\n",
    "    MOV 1, B\n",
    "    ADD\n",
    "    PUSH\n",
    "    CALL print\n",
    "    HLT"
   ]
  },
  {
   "cell_type": "code",
   "execution_count": 1,
   "metadata": {},
   "outputs": [],
   "source": [
    "prog = \"\"\"\n",
    "MOV 1 A\n",
    "MOV 1,B\n",
    "ADD ; Add A and B and store in R\n",
    "PUSH\n",
    "CALL print\n",
    "HLT\n",
    "\"\"\""
   ]
  },
  {
   "cell_type": "code",
   "execution_count": 2,
   "metadata": {},
   "outputs": [
    {
     "data": {
      "text/plain": [
       "'\\nMOV 1 A\\nMOV 1,B\\nADD ; Add A and B and store in R\\nPUSH\\nCALL print\\nHLT\\n'"
      ]
     },
     "execution_count": 2,
     "metadata": {},
     "output_type": "execute_result"
    }
   ],
   "source": [
    "prog"
   ]
  },
  {
   "cell_type": "markdown",
   "metadata": {},
   "source": [
    "## Example program 2"
   ]
  },
  {
   "cell_type": "markdown",
   "metadata": {},
   "source": [
    "To print 1 to 9 and then halt:"
   ]
  },
  {
   "cell_type": "markdown",
   "metadata": {},
   "source": [
    "    MOV 0, A\n",
    "    MOV 10, B\n",
    "    \n",
    "    .loop\n",
    "    LT A, B\n",
    "    JNZ end\n",
    "    PUSH A\n",
    "    CALL print\n",
    "    INC A\n",
    "    JMP loop\n",
    "    \n",
    "    .end\n",
    "    HLT"
   ]
  },
  {
   "cell_type": "code",
   "execution_count": 3,
   "metadata": {},
   "outputs": [],
   "source": [
    "prog2 = \"\"\"\n",
    ";init\n",
    "MOV 0, A\n",
    "MOV 10, B\n",
    "\n",
    "; for(i; i<10; i++); print i\n",
    ".loop\n",
    "LT A, B\n",
    "JNZ end\n",
    "PUSH A\n",
    "CALL print\n",
    "INC A\n",
    "JMP loop\n",
    "\n",
    ".end\n",
    "HLT\n",
    "\"\"\""
   ]
  },
  {
   "cell_type": "code",
   "execution_count": 4,
   "metadata": {},
   "outputs": [
    {
     "data": {
      "text/plain": [
       "'\\n;init\\nMOV 0, A\\nMOV 10, B\\n\\n; for(i; i<10; i++); print i\\n.loop\\nLT A, B\\nJNZ end\\nPUSH A\\nCALL print\\nINC A\\nJMP loop\\n\\n.end\\nHLT\\n'"
      ]
     },
     "execution_count": 4,
     "metadata": {},
     "output_type": "execute_result"
    }
   ],
   "source": [
    "prog2"
   ]
  },
  {
   "cell_type": "markdown",
   "metadata": {},
   "source": [
    "## Example program 3"
   ]
  },
  {
   "cell_type": "markdown",
   "metadata": {},
   "source": [
    "Print the Fibonacci sequence forever."
   ]
  },
  {
   "cell_type": "markdown",
   "metadata": {},
   "source": [
    "    MOV 1, A\n",
    "    MOV 1, B\n",
    "    PUSH A\n",
    "    CALL print\n",
    "    PUSH B \n",
    "    CALL print\n",
    "    .loop\n",
    "    ADD A, B\n",
    "    MOV B, A\n",
    "    MOV R, B\n",
    "    PUSH B\n",
    "    CALL print\n",
    "    JMP loop"
   ]
  },
  {
   "cell_type": "markdown",
   "metadata": {},
   "source": [
    "## Parser"
   ]
  },
  {
   "cell_type": "markdown",
   "metadata": {},
   "source": [
    "Here we parse the program and return either an `int` or `string`. These are called symbols."
   ]
  },
  {
   "cell_type": "code",
   "execution_count": 5,
   "metadata": {},
   "outputs": [],
   "source": [
    "class Parser():\n",
    "    def __init__(self, prog):\n",
    "        self.prog = prog\n",
    "        self.index = 0\n",
    "        \n",
    "    def eat_whitespace(self):\n",
    "        while(self.index < len(self.prog) and self.prog[self.index] in ['\\n', '\\r' ' ']): self.index+=1\n",
    "        if self.index < len(self.prog) and self.prog[self.index] == ';':\n",
    "            while self.index < len(self.prog) and self.prog[self.index] != '\\n': self.index+=1\n",
    "                \n",
    "    def eat_word(self):\n",
    "        chars = []\n",
    "        while(self.prog[self.index].isalpha()):\n",
    "            chars.append(self.prog[self.index])\n",
    "            self.index+=1\n",
    "        return ''.join(str(c) for c in chars)\n",
    "    \n",
    "    def eat_number(self):\n",
    "        chars = []\n",
    "        while(self.prog[self.index].isnumeric()):\n",
    "            chars.append(self.prog[self.index])\n",
    "            self.index+=1\n",
    "        return int(''.join(str(c) for c in chars))\n",
    "    \n",
    "    def next_symbol(self):\n",
    "        self.eat_whitespace()\n",
    "        while self.index < len(self.prog):\n",
    "            if self.prog[self.index].isalpha(): yield self.eat_word()\n",
    "            if self.prog[self.index].isnumeric(): yield self.eat_number()\n",
    "            char = self.prog[self.index]\n",
    "            self.index+=1\n",
    "            self.eat_whitespace()"
   ]
  },
  {
   "cell_type": "markdown",
   "metadata": {},
   "source": [
    "## Tokenizer"
   ]
  },
  {
   "cell_type": "markdown",
   "metadata": {},
   "source": [
    "Based on the symbols, we create the corresponding tokens. A token type can be `op`, `reg`, `int`, `mem`, or `word`."
   ]
  },
  {
   "cell_type": "code",
   "execution_count": 6,
   "metadata": {},
   "outputs": [],
   "source": [
    "class Token():\n",
    "    def __init__(self, t, value):\n",
    "        self.type = t\n",
    "        self.value = value\n",
    "    def __repr__(self):\n",
    "        return '{}: {}'.format(self.type, self.value)"
   ]
  },
  {
   "cell_type": "markdown",
   "metadata": {},
   "source": [
    "Now we will tokenize the symbols."
   ]
  },
  {
   "cell_type": "code",
   "execution_count": 7,
   "metadata": {},
   "outputs": [],
   "source": [
    "class Tokenizer():\n",
    "    mnemonics = ['MOV', 'ADD', 'PUSH', 'CALL', 'HLT']\n",
    "    registers = ['A', 'B', 'R']\n",
    "    index=0\n",
    "    def __init__(self, prog):\n",
    "        self.prog = prog\n",
    "        self.tokens = []\n",
    "        for symbol in Parser(self.prog).next_symbol():\n",
    "            if symbol in self.mnemonics:\n",
    "                self.tokens.append(Token('op', symbol))\n",
    "                continue\n",
    "            if symbol in self.registers:\n",
    "                self.tokens.append(Token('reg', symbol))\n",
    "                continue\n",
    "            if type(symbol) is int:\n",
    "                self.tokens.append(Token('int', symbol))\n",
    "                continue\n",
    "            if type(symbol) is str:\n",
    "                self.tokens.append(Token('word', symbol))\n",
    "                continue\n",
    "                \n",
    "    def last_token(self):\n",
    "        return not self.index < len(self.tokens)\n",
    "            \n",
    "    def next_token(self):\n",
    "        token = self.tokens[self.index]\n",
    "        self.index+=1\n",
    "        return token\n",
    "    \n",
    "    def reset(self):\n",
    "        self.index=0"
   ]
  },
  {
   "cell_type": "code",
   "execution_count": 8,
   "metadata": {},
   "outputs": [
    {
     "data": {
      "text/plain": [
       "[op: MOV,\n",
       " int: 1,\n",
       " reg: A,\n",
       " op: MOV,\n",
       " int: 1,\n",
       " reg: B,\n",
       " op: ADD,\n",
       " op: PUSH,\n",
       " op: CALL,\n",
       " word: print,\n",
       " op: HLT]"
      ]
     },
     "execution_count": 8,
     "metadata": {},
     "output_type": "execute_result"
    }
   ],
   "source": [
    "tokenizer = Tokenizer(prog)\n",
    "tokens = tokenizer.tokens\n",
    "tokens"
   ]
  },
  {
   "cell_type": "markdown",
   "metadata": {},
   "source": [
    "## Translator"
   ]
  },
  {
   "cell_type": "markdown",
   "metadata": {},
   "source": [
    "Here we translate the token into the bytecode."
   ]
  },
  {
   "cell_type": "code",
   "execution_count": 9,
   "metadata": {},
   "outputs": [],
   "source": [
    "class Translator():\n",
    "    def translate_to_opcodes(tokenizer):\n",
    "        tokenizer.reset()\n",
    "        opcodes = [0x27]\n",
    "        set_allowed_mov = ['mem', 'reg', 'int']\n",
    "        lookup_register_label = {'A': 0x00, 'B': 0x01, 'R': 0x02}\n",
    "        while not tokenizer.last_token():\n",
    "            token = tokenizer.next_token()\n",
    "            print('Translating token [{}]'.format(token))\n",
    "            if token.value == 'MOV':\n",
    "                source = tokenizer.next_token()\n",
    "                dest = tokenizer.next_token()\n",
    "                if source.type not in set_allowed_mov:\n",
    "                    raise ValueError('Invalid MOV source.')\n",
    "                if dest.type not in set_allowed_mov:\n",
    "                    raise ValueError('Invalid MOV dest.')\n",
    "                print('    Branching MOV into {}, {}:'.format(source.type, dest.type))\n",
    "                if source.type == 'int' and dest.type == 'reg':\n",
    "                    print('    MOV value {} into register {}.'.format(source.value, dest.value))\n",
    "                    opcodes.append(0x13)\n",
    "                    opcodes.append(source.value)\n",
    "                    opcodes.append(lookup_register_label[dest.value])\n",
    "                if source.type == 'reg' and dest.type == 'reg':\n",
    "                    print('    MOV value from register {} to register {}.'.format(source.value, dest.value))\n",
    "                    opcodes.append(0x10)\n",
    "                    opcodes.append(lookup_register_label[source.value])\n",
    "                    opcodes.append(lookup_register_label[dest.value])\n",
    "                if source.type == 'mem' and dest.type == 'reg':\n",
    "                    print('    MOV value from memory address {} to register {}.'.format(source.value, dest.value))\n",
    "                    opcodes.append(0x12)\n",
    "                    opcodes.append(source.value)\n",
    "                    opcodes.append(lookup_register_label[dest.value])\n",
    "                if source.type == 'reg' and dest.type == 'mem':\n",
    "                    print('    MOV value from register {} to memory address {}.'.format(source.value, dest.value))\n",
    "                    opcodes.append(0x11)\n",
    "                    opcodes.append(source.value)\n",
    "                    opcodes.append(dest.value)\n",
    "                if source.type == 'mem' and dest.type == 'mem':\n",
    "                    print('    MOV value from memory address {} to memory address {}.'.format(source.value, dest.value))\n",
    "                    opcodes.append(0x14)\n",
    "                    opcodes.append(source.value)\n",
    "                    opcodes.append(dest.value)\n",
    "            if token.value == 'ADD':\n",
    "                print('    Add register A and B.')\n",
    "                opcodes.append(0x30)\n",
    "            if token.value == 'PUSH':\n",
    "                print('    Pushing register A onto the stack.')\n",
    "                opcodes.append(0x40)\n",
    "            if token.value == 'CALL':\n",
    "                call = tokenizer.next_token()\n",
    "                print('    System call to `{}`.'.format(call.value))\n",
    "                if call.value == 'print':\n",
    "                    opcodes.append(0x90)\n",
    "                    opcodes.append(0x01)\n",
    "                else:\n",
    "                    raise ValueError('Unrecognized system call {}.'.format(call.value))\n",
    "            if token.value == 'HLT':\n",
    "                opcodes.append(0x99)\n",
    "\n",
    "        return opcodes"
   ]
  },
  {
   "cell_type": "markdown",
   "metadata": {},
   "source": [
    "## Assembler"
   ]
  },
  {
   "cell_type": "code",
   "execution_count": 10,
   "metadata": {},
   "outputs": [],
   "source": [
    "class Assembler():\n",
    "    def assemble(prog):\n",
    "        tokenizer = Tokenizer(prog)\n",
    "        return Translator.translate_to_opcodes(tokenizer)\n",
    "    def encode(opcodes):\n",
    "        return ' '.join(hex(o) for o in opcodes)\n",
    "    def decode(string):\n",
    "        return [int(o, 16) for o in string.split(' ')]"
   ]
  },
  {
   "cell_type": "code",
   "execution_count": 97,
   "metadata": {},
   "outputs": [],
   "source": [
    "import binascii\n",
    "def rom_to_hex_file(rom, file):\n",
    "    hexed = [hex(x) for x in rom]\n",
    "    with open(file, 'wb') as f:\n",
    "        f.write(bytearray(int(i, 16) for i in hexed))"
   ]
  },
  {
   "cell_type": "code",
   "execution_count": 68,
   "metadata": {},
   "outputs": [
    {
     "name": "stdout",
     "output_type": "stream",
     "text": [
      "Translating token [op: MOV]\n",
      "    Branching MOV into int, reg:\n",
      "    MOV value 1 into register A.\n",
      "Translating token [op: MOV]\n",
      "    Branching MOV into int, reg:\n",
      "    MOV value 1 into register B.\n",
      "Translating token [op: ADD]\n",
      "    Add register A and B.\n",
      "Translating token [op: PUSH]\n",
      "    Pushing register A onto the stack.\n",
      "Translating token [op: CALL]\n",
      "    System call to `print`.\n",
      "Translating token [op: HLT]\n"
     ]
    }
   ],
   "source": [
    "rom = Assembler.assemble(prog)\n",
    "encoded = Assembler.encode(rom)\n",
    "decoded = Assembler.decode(encoded)"
   ]
  },
  {
   "cell_type": "code",
   "execution_count": 69,
   "metadata": {},
   "outputs": [
    {
     "data": {
      "text/plain": [
       "([39, 19, 1, 0, 19, 1, 1, 48, 64, 144, 1, 153],\n",
       " '0x27 0x13 0x1 0x0 0x13 0x1 0x1 0x30 0x40 0x90 0x1 0x99',\n",
       " [39, 19, 1, 0, 19, 1, 1, 48, 64, 144, 1, 153])"
      ]
     },
     "execution_count": 69,
     "metadata": {},
     "output_type": "execute_result"
    }
   ],
   "source": [
    "rom, encoded, decoded"
   ]
  },
  {
   "cell_type": "markdown",
   "metadata": {},
   "source": [
    "# Emulator"
   ]
  },
  {
   "cell_type": "markdown",
   "metadata": {},
   "source": [
    "## Memory"
   ]
  },
  {
   "cell_type": "code",
   "execution_count": 14,
   "metadata": {},
   "outputs": [],
   "source": [
    "class Memory():\n",
    "    def __init__(self, size):\n",
    "        self.ram = [0x00] * size\n",
    "        self.size = size\n",
    "    def read(self, address):\n",
    "        return self.ram[address]\n",
    "    def write(self, address, value):\n",
    "        if type(value) is not int: raise ValueError('Unable to cast value to 32-bit binary representation.')\n",
    "        self.ram[address] = value\n",
    "    def size(self):\n",
    "        return size\n",
    "    def load_rom(self, rom, start_address = 0x00):\n",
    "        if rom[0x00] != 0x27: raise ValueError('Unsupport ROM type.')\n",
    "        address = 0x00\n",
    "        if len(rom) + start_address >= self.size: raise ValueError('Insufficient memory for ROM.')\n",
    "        for byte in rom[1:]:\n",
    "            self.ram[start_address + address] = byte\n",
    "            address+=1\n",
    "    def print_range(self,a,b):\n",
    "        result = \"\"\n",
    "        for i in range(b-a):\n",
    "            result += '[{:04x}] {:08x}\\n'.format(a+i, self.ram[a+i])\n",
    "        print(result)"
   ]
  },
  {
   "cell_type": "code",
   "execution_count": 15,
   "metadata": {},
   "outputs": [
    {
     "name": "stdout",
     "output_type": "stream",
     "text": [
      "[0000] 00000013\n",
      "[0001] 00000001\n",
      "[0002] 00000000\n",
      "[0003] 00000013\n",
      "[0004] 00000001\n",
      "[0005] 00000001\n",
      "[0006] 00000030\n",
      "[0007] 00000040\n",
      "[0008] 00000090\n",
      "[0009] 00000001\n",
      "[000a] 00000099\n",
      "[000b] 00000000\n",
      "[000c] 00000000\n",
      "[000d] 00000000\n",
      "[000e] 00000000\n",
      "[000f] 00000000\n",
      "[0010] 00000005\n",
      "[0011] 00000000\n",
      "[0012] 00000000\n",
      "[0013] 00000000\n",
      "[0014] 00000000\n",
      "[0015] 00000000\n",
      "[0016] 00000000\n",
      "[0017] 00000000\n",
      "[0018] 00000000\n",
      "\n"
     ]
    }
   ],
   "source": [
    "memory = Memory(1024)\n",
    "memory.write(0x10, 5)\n",
    "memory.load_rom(rom)\n",
    "memory.print_range(0,25)"
   ]
  },
  {
   "cell_type": "markdown",
   "metadata": {},
   "source": [
    "## CPU emulator "
   ]
  },
  {
   "cell_type": "code",
   "execution_count": 16,
   "metadata": {},
   "outputs": [],
   "source": [
    "class CPU():\n",
    "    lookup_register_to_label = {0x00: 'A', 0x01: 'B', 0x02: 'R'}\n",
    "    \n",
    "    def __init__(self, memory):\n",
    "        self.memory = memory\n",
    "        self.A = self.B = self.PC = self.SP = 0x00\n",
    "        self.ZF = self.HF = False\n",
    "        print('CPU init [available memory: {} bytes]'.format(self.memory.size))\n",
    "        print('Starting at memory address: {:04x}'.format(self.PC))\n",
    "        \n",
    "    def run(self):\n",
    "        self.print_hr()\n",
    "        while not self.HF:\n",
    "            if self.PC >= self.memory.size:\n",
    "                print('Program counter overflow.')\n",
    "                break\n",
    "            incr = True\n",
    "            opcode = self.memory.read(self.PC)\n",
    "            print('Opcode: {:02x}'.format(opcode))\n",
    "            \n",
    "            # MOV\n",
    "            if opcode == 0x13:\n",
    "                source = self.memory.read(self.PC+1)\n",
    "                dest = self.lookup_register_to_label[self.memory.read(self.PC+2)]\n",
    "                self.PC += 3\n",
    "                incr = False\n",
    "                print('Command: MOV {}, {}'.format(source, dest))\n",
    "                \n",
    "            # HALT\n",
    "            if opcode == 0x99:\n",
    "                self.HF = True\n",
    "                incr = False\n",
    "                print('Command: HLT')\n",
    "                \n",
    "            if incr: self.PC+=1\n",
    "            self.print_state()\n",
    "            self.print_hr()\n",
    "                \n",
    "        print('CPU terminated normally.')\n",
    "    \n",
    "    def print_hr(self):\n",
    "        print('-------------------------------------------------')\n",
    "    def print_state(self):\n",
    "        print('State: A: 0x{:02x}, B: 0x{:02x}, PC: 0x{:02x}, SP: 0x{:02x}, ZF: {}, HF: {}'.format(self.A, self.B, self.PC, self.SP, self.ZF, self.HF))"
   ]
  },
  {
   "cell_type": "markdown",
   "metadata": {},
   "source": [
    "## Emulator"
   ]
  },
  {
   "cell_type": "code",
   "execution_count": 17,
   "metadata": {
    "scrolled": true
   },
   "outputs": [
    {
     "name": "stdout",
     "output_type": "stream",
     "text": [
      "-- Program --\r\n",
      "\n",
      ";init\n",
      "MOV 0, A\n",
      "MOV 10, B\n",
      "\n",
      "; for(i; i<10; i++); print i\n",
      ".loop\n",
      "LT A, B\n",
      "JNZ end\n",
      "PUSH A\n",
      "CALL print\n",
      "INC A\n",
      "JMP loop\n",
      "\n",
      ".end\n",
      "HLT\n",
      "\n",
      "-- Assembler --\r\n",
      "\n",
      "Translating token [op: MOV]\n",
      "    Branching MOV into int, reg:\n",
      "    MOV value 0 into register A.\n",
      "Translating token [op: MOV]\n",
      "    Branching MOV into int, reg:\n",
      "    MOV value 10 into register B.\n",
      "Translating token [word: loop]\n",
      "Translating token [word: LT]\n",
      "Translating token [reg: A]\n",
      "Translating token [reg: B]\n",
      "Translating token [word: JNZ]\n",
      "Translating token [word: end]\n",
      "Translating token [op: PUSH]\n",
      "    Pushing register A onto the stack.\n",
      "Translating token [reg: A]\n",
      "Translating token [op: CALL]\n",
      "    System call to `print`.\n",
      "Translating token [word: INC]\n",
      "Translating token [reg: A]\n",
      "Translating token [word: JMP]\n",
      "Translating token [word: loop]\n",
      "Translating token [word: end]\n",
      "Translating token [op: HLT]\n",
      "\r\n",
      "-- Memory -- \r\n",
      "\n",
      "[0000] 00000013\n",
      "[0001] 00000000\n",
      "[0002] 00000000\n",
      "[0003] 00000013\n",
      "[0004] 0000000a\n",
      "[0005] 00000001\n",
      "[0006] 00000040\n",
      "[0007] 00000090\n",
      "[0008] 00000001\n",
      "[0009] 00000099\n",
      "\n",
      "-- Emulator --\r\n",
      "\n",
      "CPU init [available memory: 1024 bytes]\n",
      "Starting at memory address: 0000\n",
      "-------------------------------------------------\n",
      "Opcode: 13\n",
      "Command: MOV 0, A\n",
      "State: A: 0x00, B: 0x00, PC: 0x03, SP: 0x00, ZF: False, HF: False\n",
      "-------------------------------------------------\n",
      "Opcode: 13\n",
      "Command: MOV 10, B\n",
      "State: A: 0x00, B: 0x00, PC: 0x06, SP: 0x00, ZF: False, HF: False\n",
      "-------------------------------------------------\n",
      "Opcode: 40\n",
      "State: A: 0x00, B: 0x00, PC: 0x07, SP: 0x00, ZF: False, HF: False\n",
      "-------------------------------------------------\n",
      "Opcode: 90\n",
      "State: A: 0x00, B: 0x00, PC: 0x08, SP: 0x00, ZF: False, HF: False\n",
      "-------------------------------------------------\n",
      "Opcode: 01\n",
      "State: A: 0x00, B: 0x00, PC: 0x09, SP: 0x00, ZF: False, HF: False\n",
      "-------------------------------------------------\n",
      "Opcode: 99\n",
      "Command: HLT\n",
      "State: A: 0x00, B: 0x00, PC: 0x09, SP: 0x00, ZF: False, HF: True\n",
      "-------------------------------------------------\n",
      "CPU terminated normally.\n"
     ]
    }
   ],
   "source": [
    "program = prog2\n",
    "print('-- Program --\\r\\n{}'.format(program))\n",
    "print('-- Assembler --\\r\\n')\n",
    "rom = Assembler.assemble(program)\n",
    "\n",
    "print('\\r\\n-- Memory -- \\r\\n')\n",
    "memory = Memory(1024)\n",
    "memory.load_rom(rom)\n",
    "memory.print_range(0, 10)\n",
    "\n",
    "print('-- Emulator --\\r\\n')\n",
    "cpu = CPU(memory)\n",
    "cpu.run()"
   ]
  },
  {
   "cell_type": "code",
   "execution_count": 99,
   "metadata": {},
   "outputs": [
    {
     "data": {
      "text/plain": [
       "['load', 'file.dat']"
      ]
     },
     "execution_count": 99,
     "metadata": {},
     "output_type": "execute_result"
    }
   ],
   "source": [
    "'load file.dat'.split()"
   ]
  },
  {
   "cell_type": "code",
   "execution_count": 100,
   "metadata": {},
   "outputs": [
    {
     "data": {
      "text/plain": [
       "['load']"
      ]
     },
     "execution_count": 100,
     "metadata": {},
     "output_type": "execute_result"
    }
   ],
   "source": [
    "'load'.split()"
   ]
  },
  {
   "cell_type": "code",
   "execution_count": 104,
   "metadata": {},
   "outputs": [],
   "source": [
    "cmd, *arg = 'load file.dat r'.split()"
   ]
  },
  {
   "cell_type": "code",
   "execution_count": 105,
   "metadata": {},
   "outputs": [
    {
     "data": {
      "text/plain": [
       "('load', ['file.dat', 'r'])"
      ]
     },
     "execution_count": 105,
     "metadata": {},
     "output_type": "execute_result"
    }
   ],
   "source": [
    "cmd, arg"
   ]
  },
  {
   "cell_type": "code",
   "execution_count": 106,
   "metadata": {},
   "outputs": [
    {
     "data": {
      "text/plain": [
       "'file.dat'"
      ]
     },
     "execution_count": 106,
     "metadata": {},
     "output_type": "execute_result"
    }
   ],
   "source": [
    "arg[0]"
   ]
  },
  {
   "cell_type": "code",
   "execution_count": null,
   "metadata": {},
   "outputs": [],
   "source": []
  }
 ],
 "metadata": {
  "kernelspec": {
   "display_name": "Python 3",
   "language": "python",
   "name": "python3"
  },
  "language_info": {
   "codemirror_mode": {
    "name": "ipython",
    "version": 3
   },
   "file_extension": ".py",
   "mimetype": "text/x-python",
   "name": "python",
   "nbconvert_exporter": "python",
   "pygments_lexer": "ipython3",
   "version": "3.6.3"
  }
 },
 "nbformat": 4,
 "nbformat_minor": 2
}
