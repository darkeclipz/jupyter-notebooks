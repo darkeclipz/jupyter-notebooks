{
 "cells": [
  {
   "cell_type": "markdown",
   "metadata": {},
   "source": [
    "# Introduction"
   ]
  },
  {
   "cell_type": "markdown",
   "metadata": {},
   "source": [
    "The goal of this document is to construct a computer from logical gates. The basic logical gates that are used to construct the computer are: `And`, `Or`, and `Not`. The major outline of this document is followed from the book _The Elements of Computing Systems, Noam Nisan and Shimon Shocken (2008)_.\n",
    "\n",
    "The book is followed from Boolean Logic (chapter 1) to Assembler (chapter 6). There are a total of 13 chapters. The construction of the Virtual Machine, and eventually an Operating System, is left out of scope. The main reason for this is because Python does not allow an easy 'screen' interface. The entire emulator will be written as a `REPL` application, which allows the user excessive control of the entire emulator. The cost of this, however, is that everything is done at a very low level. \n",
    "\n",
    "The goal is to create a computer that can run Assembly code, and that we have an assembler. I haven't followed the Assembly implementation in the book, instead, I used it as a baseline, and transformed it into my own preferences.\n",
    "\n",
    "Website's that can be useful for further understanding:\n",
    "\n",
    " * http://fourier.eng.hmc.edu/e85_old/lectures/digital_logic/node6.html"
   ]
  },
  {
   "cell_type": "markdown",
   "metadata": {},
   "source": [
    "# Boolean logic"
   ]
  },
  {
   "cell_type": "markdown",
   "metadata": {},
   "source": [
    "Every Boolean function, no matter how complex, can be expressed using three Boolean operators only: `And`, `Or`, and `Not`."
   ]
  },
  {
   "cell_type": "markdown",
   "metadata": {},
   "source": [
    "## Gate logic"
   ]
  },
  {
   "cell_type": "markdown",
   "metadata": {},
   "source": [
    "A _gate_ is a physical device that implements a Boolean function. If a Boolean function $f$ operates on $n$ variables and returns $m$ binary results, the gate that implements $f$ will have _$n$ input pins and $m$ output pins_. Today, most gates are implemented as transistors etched in silicon, packaged as _chips_. \n",
    "\n",
    "There are the following three _primitive gates_, which will be used to create all the other components. The gates are: `And`, `Or`, and `Not`. The following symbols are used to indicate each gate:\n",
    "\n",
    "![Primitive gates](gates1.PNG)\n",
    "\n",
    "We can define their Boolean functions mathematically as:\n",
    "\n",
    " 1. $\\text{And}(a,b)=a\\land b$\n",
    " 2. $\\text{Or}(a,b)=a\\lor b$\n",
    " 3. $\\text{Not}(a)=\\lnot a$\n",
    " \n",
    "\n",
    "For ease of writing, we will also adopt the convention to write a $1$ when the value is `True`, and $0$ if the value is `False`."
   ]
  },
  {
   "cell_type": "markdown",
   "metadata": {},
   "source": [
    "## Primitive gates"
   ]
  },
  {
   "cell_type": "markdown",
   "metadata": {},
   "source": [
    "We will now implement the primitive logic gates in Python. The input variables can be either a Boolean value, or a function. The input will be called by the `boolf(x)` function, which returns a Boolean value, or executes the function. Allowing functions gives us the option to easily chain multiple gates together with references."
   ]
  },
  {
   "cell_type": "code",
   "execution_count": 1,
   "metadata": {},
   "outputs": [],
   "source": [
    "def boolf(x):\n",
    "    if callable(x): return x()\n",
    "    if type(x) is bool: return x\n",
    "    raise ValueError('Unsupported type {} for boolf()'.format(type(x)))"
   ]
  },
  {
   "cell_type": "code",
   "execution_count": 2,
   "metadata": {},
   "outputs": [],
   "source": [
    "class And():\n",
    "    def __init__(self, a, b): self.a = a; self.b = b\n",
    "    def out(self): return boolf(self.a) and boolf(self.b)\n",
    "    def __repr__(self): return '{}'.format(self.out())\n",
    "\n",
    "class Or():\n",
    "    def __init__(self, a, b): self.a = a; self.b = b\n",
    "    def out(self): return boolf(self.a) or boolf(self.b)\n",
    "    def __repr__(self): return '{}'.format(self.out())\n",
    "    \n",
    "class Not():\n",
    "    def __init__(self, a): self.a = a\n",
    "    def out(self): return not boolf(self.a)\n",
    "    def __repr__(self): return '{}'.format(self.out())"
   ]
  },
  {
   "cell_type": "markdown",
   "metadata": {},
   "source": [
    "To test a simple scenario, let $G(a,b,c) = \\text{Not}(\\text{Or}(a, \\text{And}(b, c)))$. Because this is a composite gate, we are only using primitive gates. If $(a,b,c)=(0,1,1)$, the resulting output should be $0$."
   ]
  },
  {
   "cell_type": "code",
   "execution_count": 3,
   "metadata": {},
   "outputs": [
    {
     "name": "stdout",
     "output_type": "stream",
     "text": [
      "False\n",
      "True\n"
     ]
    }
   ],
   "source": [
    "a=False;b=c=True\n",
    "G = Not(Or(lambda: a, And(lambda: b, lambda: c).out).out)\n",
    "print(G)\n",
    "\n",
    "b=False\n",
    "print(G)"
   ]
  },
  {
   "cell_type": "markdown",
   "metadata": {},
   "source": [
    "**Reference vs. value types**\n",
    "\n",
    "Notice that primitive Boolean values should be the result of a function. If a Boolean value is the input for a gate, Python will reference to it by value, which is something we do not want. Thus, we input a function into the gate, and Python passes the function as a reference. Then we use `boolf(x)` to either get the variable, or return the function result. This allows us to change the input values, after the gate has been constructed, and keep calling `.out()` on the last gate to execute all the logic in the intermediate gates."
   ]
  },
  {
   "cell_type": "markdown",
   "metadata": {},
   "source": [
    "## Composite gates"
   ]
  },
  {
   "cell_type": "markdown",
   "metadata": {},
   "source": [
    "We start with primitive gates and design more complicated functionality by interconnecting them, leading to the construction of _composite gates_."
   ]
  },
  {
   "cell_type": "markdown",
   "metadata": {},
   "source": [
    "### Three-way And gate"
   ]
  },
  {
   "cell_type": "markdown",
   "metadata": {},
   "source": [
    "The first gate we can construct from two And gates, is a three-way And gate. It can be defined in the following way: $\\text{And3W}(a,b,c)= \\text{And}(\\text{And}(a,b),c)$.\n",
    "\n",
    "![Three-way And gate diagram](gates2.PNG)"
   ]
  },
  {
   "cell_type": "code",
   "execution_count": 4,
   "metadata": {},
   "outputs": [],
   "source": [
    "class And3W():\n",
    "    def __init__(self, a, b, c): self.a = a; self.b = b; self.c = c\n",
    "    def out(self): \n",
    "        and1 = And(boolf(self.a), boolf(self.b))\n",
    "        and2 = And(and1.out, boolf(self.c))\n",
    "        return and2.out()\n",
    "    def __repr__(self): return '{}'.format(self.out())"
   ]
  },
  {
   "cell_type": "code",
   "execution_count": 5,
   "metadata": {},
   "outputs": [
    {
     "data": {
      "text/plain": [
       "True"
      ]
     },
     "execution_count": 5,
     "metadata": {},
     "output_type": "execute_result"
    }
   ],
   "source": [
    "And3W(True, True, True)"
   ]
  },
  {
   "cell_type": "markdown",
   "metadata": {},
   "source": [
    "### Xor gate"
   ]
  },
  {
   "cell_type": "markdown",
   "metadata": {},
   "source": [
    "Let us consider another logic design example -- that of a `Xor` gate. The gate $\\text{Xor}(a,b)$ is $1$ exactly when $a=1$ and $b=0$, or $a=0$ and $b=1$. In the case where $a=b$ the gate is $0$. It can be defined in the following way: $\\text{Xor(a,b)}=\\text{Or}(\\text{And}(a,\\text{Not}(b)), \\text{And}(\\text{Not}(a),b))$. This definition leads to the logic design shown in the figure below:"
   ]
  },
  {
   "cell_type": "code",
   "execution_count": 6,
   "metadata": {},
   "outputs": [],
   "source": [
    "class Xor():\n",
    "    def __init__(self, a, b): self.a = a; self.b = b\n",
    "    def out(self): return Or(And(boolf(self.a), Not(boolf(self.b)).out).out,\\\n",
    "                             And(Not(boolf(self.a)).out, boolf(self.b)).out\\\n",
    "                          ).out()\n",
    "    def __repr__(self): return '{}'.format(self.out())"
   ]
  },
  {
   "cell_type": "code",
   "execution_count": 7,
   "metadata": {},
   "outputs": [
    {
     "data": {
      "text/plain": [
       "True"
      ]
     },
     "execution_count": 7,
     "metadata": {},
     "output_type": "execute_result"
    }
   ],
   "source": [
    "Xor(False, True).out() and Xor(True, False).out() \\\n",
    "    and not Xor(True, True).out() and not Xor(False, False).out()"
   ]
  },
  {
   "cell_type": "markdown",
   "metadata": {},
   "source": [
    "## Basic Logic Gates\n",
    "\n",
    "In this section we will define all the basic logical gates that are used as the building blocks to create more advanced circuits.\n",
    "\n",
    "### Not \n",
    "\n",
    "A not gate has a single input, and inverts that input as output. It is defined as $\\text{Not}(a)=\\lnot a$. The following truth table applies for a Not gate:\n",
    "\n",
    "|in|out|\n",
    "|--|--|\n",
    "|0|1|\n",
    "|1|0|\n",
    "\n",
    "The gate has already been implemented earlier in _Primitive gates_.\n",
    "\n",
    "### And\n",
    "\n",
    "An And gate has two inputs $a, b$, and only outputs a $1$ if exacty $a=b=1$. It is defined as $\\text{And}(a,b)=a \\land b$. The following truth table applies for an And gate:\n",
    "\n",
    "|a|b|out|\n",
    "|--|--|--|\n",
    "|0|0|0|\n",
    "|0|1|0|\n",
    "|1|0|0|\n",
    "|1|1|1|\n",
    "\n",
    "The gate has already been implemented earlier in _Primitive gates_.\n",
    "\n",
    "### Or\n",
    "\n",
    "An Or gate has two inputs $a, b$, and only outputs a $0$ if exacty $a=b=0$, otherwise it will output $1$. It is defined as $\\text{Or}(a,b)=a \\lor b$. The following truth table applies for an Or gate:\n",
    "\n",
    "|a|b|out|\n",
    "|--|--|--|\n",
    "|0|0|0|\n",
    "|0|1|1|\n",
    "|1|0|1|\n",
    "|1|1|1|\n",
    "\n",
    "The gate has already been implemented earlier in _Primitive gates_.\n",
    "\n",
    "### Xor\n",
    "\n",
    "An Xor gate has two inputs $a,b$, its output is $1$ exactly when $a=1$ and $b=0$, or $a=0$ and $b=1$. Otherwise, the output is $0$. It is defined as $\\text{Xor(a,b)}=\\text{Or}(\\text{And}(a,\\text{Not}(b)), \\text{And}(\\text{Not}(a),b))$. The following thruth table applies for a Xor gate:\n",
    "\n",
    "|a|b|out|\n",
    "|--|--|--|\n",
    "|0|0|0|\n",
    "|0|1|1|\n",
    "|1|0|1|\n",
    "|1|1|0|\n",
    "\n",
    "### Nand\n",
    "\n",
    "A Nand gate has two input $a,b$ and its output is the inverse of an And gate. It's value is always $1$, except when $a=b=1$ for which the output is $0$. It is defined as $\\text{Nand}(a,b)=\\text{Not}(\\text{And}(a,b))$. The following truth table applies for a Nand gate:\n",
    "\n",
    "|a|b|out|\n",
    "|--|--|--|\n",
    "|0|0|1|\n",
    "|0|1|1|\n",
    "|1|0|1|\n",
    "|1|1|0|\n",
    "\n",
    "In Python we can implement the gate in the following way:"
   ]
  },
  {
   "cell_type": "code",
   "execution_count": 8,
   "metadata": {},
   "outputs": [],
   "source": [
    "class Nand():\n",
    "    def __init__(self,a,b): self.a=a; self.b=b\n",
    "    def out(self): return Not(And(boolf(self.a), boolf(self.b)).out).out()\n",
    "    def __repr__(self): return '{}'.format(self.out())"
   ]
  },
  {
   "cell_type": "code",
   "execution_count": 12,
   "metadata": {},
   "outputs": [
    {
     "data": {
      "text/plain": [
       "True"
      ]
     },
     "execution_count": 12,
     "metadata": {},
     "output_type": "execute_result"
    }
   ],
   "source": [
    "Nand(False, False).out() and Nand(True, False).out()\\\n",
    "    and Nand(False, True).out() and not Nand(True, True).out()"
   ]
  },
  {
   "cell_type": "markdown",
   "metadata": {},
   "source": [
    "### Multiplexor"
   ]
  },
  {
   "cell_type": "markdown",
   "metadata": {},
   "source": [
    "A multiplexor is a three-input gate that uses one of the inputs, called _selection bit_, to select and output one of the other two inputs, called _data bits_. It is defined as $\\text{Mux}(a,b,sel)=\\text{Or}(\\text{And}(a, \\text{Not}(sel), \\text{And}(b,sel))$. The following truth table applies for a multiplexor:\n",
    "\n",
    "|a|b|sel|out|\n",
    "|--|--|--|--|\n",
    "|0|0|0|0|\n",
    "|0|1|0|0|\n",
    "|1|0|0|1|\n",
    "|1|1|0|1|\n",
    "|0|0|1|0|\n",
    "|0|1|1|1|\n",
    "|1|0|1|0|\n",
    "|1|1|1|1|\n",
    "\n",
    "Which can also be expressed in a more simple form, such as:\n",
    "\n",
    "|sel|out|\n",
    "|--|--|\n",
    "|0|a|\n",
    "|1|b|\n",
    "\n",
    "Using the definition, we can implement it in the following way:"
   ]
  },
  {
   "cell_type": "code",
   "execution_count": 13,
   "metadata": {},
   "outputs": [],
   "source": [
    "class Mux():\n",
    "    def __init__(self,a,b,sel): self.a=a; self.b=b; self.sel=sel\n",
    "    def out(self): return Or(And(boolf(self.a), Not(boolf(self.sel)).out).out,\\\n",
    "                             And(boolf(self.b), boolf(self.sel)).out\n",
    "                          ).out()\n",
    "    def __repr__(self): return '{}'.format(self.out())"
   ]
  },
  {
   "cell_type": "code",
   "execution_count": 17,
   "metadata": {},
   "outputs": [
    {
     "data": {
      "text/plain": [
       "True"
      ]
     },
     "execution_count": 17,
     "metadata": {},
     "output_type": "execute_result"
    }
   ],
   "source": [
    "Mux(True, False, False).out() and Mux(False, True, True).out()\\\n",
    "    and not Mux(False, False, False).out()"
   ]
  },
  {
   "cell_type": "markdown",
   "metadata": {},
   "source": [
    "### Demultiplexor"
   ]
  },
  {
   "cell_type": "markdown",
   "metadata": {},
   "source": [
    "A demultiplexor performs the opposite function of a multiplexor: It takes a single input and channels it to one of two possible outputs according to a selector bit that specifies which output to choose. It is defined for each output bit as:\n",
    "\n",
    "$$ \\text{DMux}(in,sel) = \\begin{cases}\\begin{aligned} \\text{And}(in,\\text{Not}(sel)) \\quad &\\text{output bit } a \\\\ \\text{And}(in,sel) \\quad &\\text{output bit } b \\end{aligned}\\end{cases} $$\n",
    "\n",
    "It can be represented with the following table:\n",
    "\n",
    "|sel|a|b|\n",
    "|--|--|--|\n",
    "|0|in|0|\n",
    "|1|0|in|\n",
    "\n",
    "Using the definition, it can be implement in Python in the following way. Notice that $z=in$ because `in` is a reserved keyword in Python."
   ]
  },
  {
   "cell_type": "code",
   "execution_count": 18,
   "metadata": {},
   "outputs": [],
   "source": [
    "class DMux():\n",
    "    def __init__(self, z, sel): self.z=z; self.sel=sel;\n",
    "    def a(self): return And(boolf(self.z), Not(boolf(self.sel)).out).out()\n",
    "    def b(self): return And(boolf(self.z), boolf(self.sel)).out()\n",
    "    def __repr__(self): return 'a: {}, b: {}'.format(self.a(), self.b())"
   ]
  },
  {
   "cell_type": "code",
   "execution_count": 19,
   "metadata": {},
   "outputs": [
    {
     "data": {
      "text/plain": [
       "a: True, b: False"
      ]
     },
     "execution_count": 19,
     "metadata": {},
     "output_type": "execute_result"
    }
   ],
   "source": [
    "DMux(True, False)"
   ]
  },
  {
   "cell_type": "code",
   "execution_count": 20,
   "metadata": {},
   "outputs": [
    {
     "data": {
      "text/plain": [
       "a: False, b: True"
      ]
     },
     "execution_count": 20,
     "metadata": {},
     "output_type": "execute_result"
    }
   ],
   "source": [
    "DMux(True, True)"
   ]
  },
  {
   "cell_type": "markdown",
   "metadata": {},
   "source": [
    "## Multi-Bit Versions of Basic Gates"
   ]
  },
  {
   "cell_type": "markdown",
   "metadata": {},
   "source": [
    "Computer hardware is typically designed to operate on multi-bit arrays called \"buses\". For example, a basic requirement of a 32-bit computer is to be able to compute (bit-wise) an And function of two given 32-bit buses. To implement this operation, we can build an array of 32 binary And gates, each operating seperately on a pair of bits. In order to enclose all this logic in one package, we can encapsulate the gates array in a single chip interface consistring of two 32-bit input buses and one 32-bit output bus.\n",
    "\n",
    "This section describes a typical set of such multi-bit logic gates, as needed for the construction of a typical 16-bit computer. We note in passing that the architecture of _n_-bit logic gates is basically the same irrespective of _n_'s values.\n",
    "\n",
    "Also, we will adopt the notation to refer to the individual bits. For example, to refer to individual bits in a 16-bit bus named `data`, we use the notation `data[0], data[1], ..., data[15]`.\n",
    "\n",
    "We will also define a helper function `bstr(L)`, that transforms a list of Boolean values into a binary string. For example, the list `[True, True, False]` gives the binary string: `110`. This is useful because it gives a compact representation of each individual bit."
   ]
  },
  {
   "cell_type": "code",
   "execution_count": 143,
   "metadata": {},
   "outputs": [],
   "source": [
    "def bstr(L): \n",
    "    out=''; \n",
    "    for i in L: out += '1' if i else '0'\n",
    "    return out"
   ]
  },
  {
   "cell_type": "code",
   "execution_count": 146,
   "metadata": {},
   "outputs": [
    {
     "data": {
      "text/plain": [
       "'0100010000000000'"
      ]
     },
     "execution_count": 146,
     "metadata": {},
     "output_type": "execute_result"
    }
   ],
   "source": [
    "bstr([False,True,False,False,False,True]+10*[False])"
   ]
  },
  {
   "cell_type": "markdown",
   "metadata": {},
   "source": [
    "### Not16"
   ]
  },
  {
   "cell_type": "code",
   "execution_count": 120,
   "metadata": {},
   "outputs": [],
   "source": [
    "class Not16():\n",
    "    def __init__(self, in16): self.in16=in16\n",
    "    def out(self): return [not self.in16[i] for i in range(16)]\n",
    "    def __repr__(self): return bstr(self.out())"
   ]
  },
  {
   "cell_type": "code",
   "execution_count": 121,
   "metadata": {},
   "outputs": [
    {
     "data": {
      "text/plain": [
       "1111111111111111"
      ]
     },
     "execution_count": 121,
     "metadata": {},
     "output_type": "execute_result"
    }
   ],
   "source": [
    "Not16([False] * 16)"
   ]
  },
  {
   "cell_type": "markdown",
   "metadata": {},
   "source": [
    "### And16"
   ]
  },
  {
   "cell_type": "code",
   "execution_count": 122,
   "metadata": {},
   "outputs": [],
   "source": [
    "class And16():\n",
    "    def __init__(self, a, b): self.a=a; self.b=b\n",
    "    def out(self): return [self.a[i] and self.b[i] for i in range(16)]\n",
    "    def __repr__(self): return bstr(self.out())"
   ]
  },
  {
   "cell_type": "code",
   "execution_count": 123,
   "metadata": {},
   "outputs": [
    {
     "data": {
      "text/plain": [
       "0000000000000001"
      ]
     },
     "execution_count": 123,
     "metadata": {},
     "output_type": "execute_result"
    }
   ],
   "source": [
    "And16([True]*16, [False]*15+[True])"
   ]
  },
  {
   "cell_type": "markdown",
   "metadata": {},
   "source": [
    "### Or16"
   ]
  },
  {
   "cell_type": "code",
   "execution_count": 124,
   "metadata": {},
   "outputs": [],
   "source": [
    "class Or16():\n",
    "    def __init__(self, a, b): self.a=a; self.b=b\n",
    "    def out(self): return [self.a[i] or self.b[i] for i in range(16)]\n",
    "    def __repr__(self): return bstr(self.out())"
   ]
  },
  {
   "cell_type": "code",
   "execution_count": 125,
   "metadata": {},
   "outputs": [
    {
     "data": {
      "text/plain": [
       "0111111111111111"
      ]
     },
     "execution_count": 125,
     "metadata": {},
     "output_type": "execute_result"
    }
   ],
   "source": [
    "Or16([False]+15*[True], [False]*15+[True])"
   ]
  },
  {
   "cell_type": "code",
   "execution_count": 139,
   "metadata": {
    "scrolled": true
   },
   "outputs": [
    {
     "name": "stdout",
     "output_type": "stream",
     "text": [
      "0100000000000000\n",
      "0110000000000000\n"
     ]
    }
   ],
   "source": [
    "bits=16\n",
    "x = [False]*bits\n",
    "y = [False]*bits\n",
    "x[1]=y[1]=True\n",
    "F = And16(Or16(x,y).out(), y)\n",
    "print(bstr(F.a))\n",
    "x[2]=y[2]=True\n",
    "\n",
    "#Required to manually update a, b (Boooh!)\n",
    "F.a=x;F.b=y; \n",
    "print(bstr(F.a))"
   ]
  },
  {
   "cell_type": "code",
   "execution_count": 140,
   "metadata": {},
   "outputs": [
    {
     "name": "stdout",
     "output_type": "stream",
     "text": [
      "0110000000000000\n",
      "0110000000000000\n"
     ]
    }
   ],
   "source": [
    "a=x\n",
    "print(bstr(a))\n",
    "# Now we have reference types, because a and x are lists.\n",
    "# Lists are classes, and those are passed on by reference.\n",
    "x[2]=True\n",
    "print(bstr(a))"
   ]
  },
  {
   "cell_type": "markdown",
   "metadata": {},
   "source": [
    "### Mux16"
   ]
  },
  {
   "cell_type": "markdown",
   "metadata": {},
   "source": [
    "## Multi-Way Versions of Basic Gates"
   ]
  },
  {
   "cell_type": "markdown",
   "metadata": {},
   "source": [
    "### Or8Way"
   ]
  },
  {
   "cell_type": "markdown",
   "metadata": {},
   "source": [
    "### Multi-Way/Multi-Bit Multiplexor"
   ]
  },
  {
   "cell_type": "markdown",
   "metadata": {},
   "source": [
    "#### Mux4Way16"
   ]
  },
  {
   "cell_type": "markdown",
   "metadata": {},
   "source": [
    "#### Mux8Way16"
   ]
  },
  {
   "cell_type": "markdown",
   "metadata": {},
   "source": [
    "#### DMux4Way"
   ]
  },
  {
   "cell_type": "markdown",
   "metadata": {},
   "source": [
    "#### DMux8Way"
   ]
  },
  {
   "cell_type": "markdown",
   "metadata": {},
   "source": [
    "# Boolean Arithmetic"
   ]
  },
  {
   "cell_type": "markdown",
   "metadata": {},
   "source": [
    "# Sequential Logic"
   ]
  },
  {
   "cell_type": "markdown",
   "metadata": {},
   "source": [
    "# Machine Language"
   ]
  },
  {
   "cell_type": "markdown",
   "metadata": {},
   "source": [
    "# Computer Architecture"
   ]
  },
  {
   "cell_type": "markdown",
   "metadata": {},
   "source": [
    "# Assembler"
   ]
  }
 ],
 "metadata": {
  "kernelspec": {
   "display_name": "Python 3",
   "language": "python",
   "name": "python3"
  },
  "language_info": {
   "codemirror_mode": {
    "name": "ipython",
    "version": 3
   },
   "file_extension": ".py",
   "mimetype": "text/x-python",
   "name": "python",
   "nbconvert_exporter": "python",
   "pygments_lexer": "ipython3",
   "version": "3.6.3"
  }
 },
 "nbformat": 4,
 "nbformat_minor": 2
}
