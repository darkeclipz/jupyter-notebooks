{
 "cells": [
  {
   "cell_type": "code",
   "execution_count": 1,
   "metadata": {
    "scrolled": true
   },
   "outputs": [
    {
     "name": "stdout",
     "output_type": "stream",
     "text": [
      "Populating the interactive namespace from numpy and matplotlib\n"
     ]
    }
   ],
   "source": [
    "%pylab inline"
   ]
  },
  {
   "cell_type": "code",
   "execution_count": 2,
   "metadata": {},
   "outputs": [],
   "source": [
    "class Slide():\n",
    "    def __init__(self, photos, tags):\n",
    "        self.photos = photos\n",
    "        self.tags = tags\n",
    "    def __repr__(self):\n",
    "        return 'Tags: {} (IDS: {})'.format(self.tags, \", \".join([str(x.id) for x in self.photos]))"
   ]
  },
  {
   "cell_type": "code",
   "execution_count": 3,
   "metadata": {},
   "outputs": [],
   "source": [
    "class Photo():\n",
    "    def __init__(self, mode, tags, id):\n",
    "        self.mode = mode\n",
    "        self.tags = tags\n",
    "        self.id = id\n",
    "    def __repr__(self): return \"ID: {} Mode: {} Tags: {}\".format(self.id, self.mode, self.tags)"
   ]
  },
  {
   "cell_type": "code",
   "execution_count": 4,
   "metadata": {},
   "outputs": [],
   "source": [
    "def readlines(file):\n",
    "    with open(file) as fp:\n",
    "        lines = fp.readlines()\n",
    "        return [x.rstrip() for x in lines][1:]"
   ]
  },
  {
   "cell_type": "code",
   "execution_count": 5,
   "metadata": {},
   "outputs": [],
   "source": [
    "def lineToPhoto(string, i):\n",
    "    mode = string[0:1]\n",
    "    tagCount = string[2:3]\n",
    "    tags = string[4:].split(' ')\n",
    "    return Photo(mode, tags, i)"
   ]
  },
  {
   "cell_type": "code",
   "execution_count": 6,
   "metadata": {},
   "outputs": [],
   "source": [
    "def parseToPhotos(lines):\n",
    "    return [lineToPhoto(lines[i], i) for i in range(len(lines))]"
   ]
  },
  {
   "cell_type": "code",
   "execution_count": 7,
   "metadata": {},
   "outputs": [],
   "source": [
    "def getMaxIndex(A):\n",
    "    n = len(A)\n",
    "    q = np.argmax(A)\n",
    "    row = q // n\n",
    "    col = q - row*n\n",
    "    return (row, col)"
   ]
  },
  {
   "cell_type": "code",
   "execution_count": 8,
   "metadata": {},
   "outputs": [],
   "source": [
    "def createVertMatrix(verticals):\n",
    "    \n",
    "    n = len(verticals)\n",
    "    A = np.zeros(n*n).reshape((n,n))\n",
    "    \n",
    "    for i in range(n):\n",
    "        for j in range(n):\n",
    "            if i is j: continue\n",
    "            photoA = verticals[i]\n",
    "            photoB = verticals[j]\n",
    "            tags = set(photoA.tags + photoB.tags)\n",
    "            A[i,j] = max(len(tags), A[i,j])\n",
    "    \n",
    "    return A"
   ]
  },
  {
   "cell_type": "code",
   "execution_count": 71,
   "metadata": {},
   "outputs": [],
   "source": [
    "def createSlidesFromVerticalImages(verticals):\n",
    "    \n",
    "    slides = []\n",
    "    photosInSlides = []\n",
    "    A = createVertMatrix(verticals)\n",
    "    k = len(verticals) // 2\n",
    "    \n",
    "    for _ in range(k):\n",
    "        y, x = getMaxIndex(A)\n",
    "        \n",
    "        if verticals[x] not in photosInSlides and verticals[y] not in photosInSlides:\n",
    "            photos = [verticals[x], verticals[y]]        \n",
    "            photosInSlides.append(verticals[x])\n",
    "            photosInSlides.append(verticals[y])        \n",
    "            tags = list(set(photos[0].tags + photos[1].tags))\n",
    "            slide = Slide(photos, tags)\n",
    "            slides.append(slide)        \n",
    "        A[x,y] = A[y,x] = -1\n",
    "        \n",
    "        \n",
    "    return slides    "
   ]
  },
  {
   "cell_type": "code",
   "execution_count": 92,
   "metadata": {},
   "outputs": [],
   "source": [
    "def fileToSlides(filepath):\n",
    "    lines = readlines(filepath)\n",
    "    photos = parseToPhotos(lines)\n",
    "    verticals = [x for x in photos if x.mode == 'V']\n",
    "    horizontals = [x for x in photos if x.mode == 'H']\n",
    "    return createSlidesFromVerticalImages(verticals) + [Slide([x], x.tags) for x in horizontals]"
   ]
  },
  {
   "cell_type": "code",
   "execution_count": 93,
   "metadata": {},
   "outputs": [],
   "source": [
    "def transitionMatrix(slides):\n",
    "    n = len(slides)\n",
    "    A = np.zeros(n*n).reshape((n,n))\n",
    "\n",
    "    for i in range(n):\n",
    "        for j in range(n):\n",
    "            if i is j: continue\n",
    "            slideA = slides[i]\n",
    "            slideB = slides[j]\n",
    "            tags = set(slideA.tags).intersection(set(slideB.tags))\n",
    "            A[i,j] = max(len(tags), A[i,j])\n",
    "            \n",
    "    return A"
   ]
  },
  {
   "cell_type": "code",
   "execution_count": 98,
   "metadata": {},
   "outputs": [],
   "source": [
    "def transitionMatrixToSlideshow(A, slides):\n",
    "    slideshow = []\n",
    "    (r, c) = getMaxIndex(A)\n",
    "    slideshow.append(slides[r])\n",
    "    slideshow.append(slides[c])\n",
    "    \n",
    "    print(slideshow)\n",
    "    \n",
    "    A[r,c] = A[c,r] = -1\n",
    "    prevIndex = r\n",
    "    \n",
    "    while len(slideshow) < len(slides):  \n",
    "        c = np.argmax(A[prevIndex:prevIndex+1,:])\n",
    "                  \n",
    "        if slides[c] not in slideshow: \n",
    "            slideshow.append(slides[c])            \n",
    "            prevIndex = c\n",
    "            \n",
    "        A[prevIndex,c] = A[c,prevIndex] = -1\n",
    "        \n",
    "    return slideshow"
   ]
  },
  {
   "cell_type": "code",
   "execution_count": 99,
   "metadata": {},
   "outputs": [],
   "source": [
    "def sToFile(s, file):\n",
    "    result = []\n",
    "    result.append(len(s))\n",
    "    for r in s:\n",
    "        res = \"\"\n",
    "        for p in r.photos:\n",
    "            res += str(p.id) + ' '\n",
    "            \n",
    "        result.append(res.rstrip())\n",
    "        \n",
    "    f = open(file, \"w\")\n",
    "    f.write(\"\\n\".join([str(x) for x in result]))\n",
    "    f.close()"
   ]
  },
  {
   "cell_type": "code",
   "execution_count": 102,
   "metadata": {},
   "outputs": [],
   "source": [
    "def fileToSlideshow(file, outfile):\n",
    "    slides = fileToSlides(file)\n",
    "    A = transitionMatrix(slides)\n",
    "    A -= np.eye(len(A))*(1000)\n",
    "    S = transitionMatrixToSlideshow(A, slides)\n",
    "    sToFile(S, outfile)"
   ]
  },
  {
   "cell_type": "code",
   "execution_count": 103,
   "metadata": {},
   "outputs": [
    {
     "name": "stdout",
     "output_type": "stream",
     "text": [
      "[Tags: ['', 't911', 't561', 'tg7', 'tdp1', 'tzg1', 'tz21', 't452', 'tr5', 'tl51', 'td7', 'tdd1', 'tlf', 'td91', 't1', 'tc5', 't9n1', 'tlb1', 'tjq', 'tk6', 'tz9', 't6d1', 't2w1', 't76', 't3t', 'tm9', 't82', 'tcd', 'tc61'] (IDS: 15, 8), Tags: ['', 'ttw1', 'trt', 'ttr', 'tm9', 'tlb1', 'td62', 'th11', 'tx1', 't2x1', 'tcv1', 'tl72', 't8w', 'tk6', 'tsj1'] (IDS: 286)]\n"
     ]
    }
   ],
   "source": [
    "s = fileToSlideshow('c_memorable_moments.txt', 'C.txt')"
   ]
  },
  {
   "cell_type": "code",
   "execution_count": null,
   "metadata": {},
   "outputs": [],
   "source": []
  }
 ],
 "metadata": {
  "kernelspec": {
   "display_name": "Python 3",
   "language": "python",
   "name": "python3"
  },
  "language_info": {
   "codemirror_mode": {
    "name": "ipython",
    "version": 3
   },
   "file_extension": ".py",
   "mimetype": "text/x-python",
   "name": "python",
   "nbconvert_exporter": "python",
   "pygments_lexer": "ipython3",
   "version": "3.6.3"
  }
 },
 "nbformat": 4,
 "nbformat_minor": 2
}
