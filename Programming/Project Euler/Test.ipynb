{
 "cells": [
  {
   "cell_type": "code",
   "execution_count": 2,
   "metadata": {},
   "outputs": [
    {
     "data": {
      "text/html": [
       "1074"
      ],
      "text/latex": [
       "1074"
      ],
      "text/markdown": [
       "1074"
      ],
      "text/plain": [
       "[1] 1074"
      ]
     },
     "metadata": {},
     "output_type": "display_data"
    }
   ],
   "source": [
    "raw <- '75 95 64 17 47 82 18 35 87 10 20 04 82 47 65 19 01\n",
    " 23 75 03 34 88 02 77 73 07 63 67 99 65 04 28 06 16 70 92\n",
    " 41 41 26 56 83 40 80 70 33 41 48 72 33 47 32 37 16 94 29\n",
    " 53 71 44 65 25 43 91 52 97 51 14 70 11 33 28 77 73 17 78\n",
    " 39 68 17 57 91 71 52 38 17 14 91 43 58 50 27 29 48 63 66\n",
    " 04 68 89 53 67 30 73 16 69 87 40 31 04 62 98 27 23 09 70\n",
    " 98 73 93 38 53 60 04 23'\n",
    "\n",
    "data <- c(lapply(strsplit(raw, ' '), as.numeric)[[1]])\n",
    "\n",
    "in.row <- function(x) {\n",
    "    row <- 0\n",
    "    current <- 0\n",
    "    while(current < x) {\n",
    "        row = row + 1\n",
    "        current = current + row\n",
    "    }\n",
    "    row\n",
    "}\n",
    "\n",
    "triangle.as.matrix <- function(seq, N) {\n",
    "    M = matrix(, ncol=N, nrow=N)\n",
    "    row = 1\n",
    "    column = 1\n",
    "    row.max = 1\n",
    "    for (i in 1:length(seq)) {\n",
    "        if(i > row.max) {\n",
    "            row.max = row.max+row+1\n",
    "            row = in.row(i)\n",
    "            column = 1\n",
    "        }\n",
    "        M[row, column] = seq[i]\n",
    "        column = column+1\n",
    "    }\n",
    "    M\n",
    "}\n",
    "\n",
    "M = triangle.as.matrix(data, 15)\n",
    "\n",
    "for(row in 14:1) \n",
    "for (column in 1:row) \n",
    "    M[row, column] = M[row, column] + max(M[row+1, column], M[row+1, column+1])\n",
    "    \n",
    "M[1,1]"
   ]
  },
  {
   "cell_type": "code",
   "execution_count": 3,
   "metadata": {},
   "outputs": [
    {
     "data": {
      "text/html": [
       "871198282"
      ],
      "text/latex": [
       "871198282"
      ],
      "text/markdown": [
       "871198282"
      ],
      "text/plain": [
       "[1] 871198282"
      ]
     },
     "metadata": {},
     "output_type": "display_data"
    }
   ],
   "source": [
    "names = sort(strsplit(gsub(\"\\\"\", \"\", scan(\"problem22.txt\", what=\"\", sep=\"\\n\")), ',')[[1]])\n",
    "name.to.score <- function(name) sum(match(strsplit(name, \"\")[[1]], LETTERS))\n",
    "Reduce('+', lapply(1:length(names), function(x) x * name.to.score(names[x])))"
   ]
  },
  {
   "cell_type": "code",
   "execution_count": null,
   "metadata": {},
   "outputs": [],
   "source": []
  }
 ],
 "metadata": {
  "kernelspec": {
   "display_name": "R",
   "language": "R",
   "name": "ir"
  },
  "language_info": {
   "codemirror_mode": "r",
   "file_extension": ".r",
   "mimetype": "text/x-r-source",
   "name": "R",
   "pygments_lexer": "r",
   "version": "3.4.4"
  }
 },
 "nbformat": 4,
 "nbformat_minor": 2
}
