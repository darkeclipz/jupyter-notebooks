{
 "cells": [
  {
   "cell_type": "markdown",
   "metadata": {},
   "source": [
    "# Formule"
   ]
  },
  {
   "cell_type": "markdown",
   "metadata": {},
   "source": [
    "De standaardafwijking of standaarddeviatie is een maat voor de spreiding van een variabele of van een verdeling of populatie. Dit wordt bepaald met:\n",
    "\n",
    "$$ s = \\sqrt{ \\dfrac{ \\sum_{i=1}^n  \\left( x_i - \\bar{x} \\right) ^2 }{n-1} }, $$\n",
    "\n",
    "waarbij $\\{ x_1, x_2, \\ldots, x_n \\}$ de waarnemingen zijn, $\\bar{x}$ het rekenkundige gemiddelde van de waarnemingen en $n$ het aantal waarnemingen."
   ]
  },
  {
   "cell_type": "markdown",
   "metadata": {},
   "source": [
    "# Berekenen in R, in stappen"
   ]
  },
  {
   "cell_type": "markdown",
   "metadata": {},
   "source": [
    "Een lijst (of in R termen, een _vector_) wordt op de volgende manier gedeclareerd:"
   ]
  },
  {
   "cell_type": "code",
   "execution_count": 88,
   "metadata": {},
   "outputs": [],
   "source": [
    "items = c(33,56,12,87,45,123,78,34,3,56)"
   ]
  },
  {
   "cell_type": "markdown",
   "metadata": {},
   "source": [
    "Ik gebruik de transponeer functie `t(...)` als trucje zodat het fatsoenlijk leesbaar in de document verschijnt. Als ik dit niet doe dan zit alles op elkaar gedrukt... Dit hoef je zelf uiteraard niet te gebruiken."
   ]
  },
  {
   "cell_type": "code",
   "execution_count": 89,
   "metadata": {},
   "outputs": [
    {
     "data": {
      "text/html": [
       "<table>\n",
       "<tbody>\n",
       "\t<tr><td>33 </td><td>56 </td><td>12 </td><td>87 </td><td>45 </td><td>123</td><td>78 </td><td>34 </td><td>3  </td><td>56 </td></tr>\n",
       "</tbody>\n",
       "</table>\n"
      ],
      "text/latex": [
       "\\begin{tabular}{llllllllll}\n",
       "\t 33  & 56  & 12  & 87  & 45  & 123 & 78  & 34  & 3   & 56 \\\\\n",
       "\\end{tabular}\n"
      ],
      "text/markdown": [
       "\n",
       "| 33  | 56  | 12  | 87  | 45  | 123 | 78  | 34  | 3   | 56  | \n",
       "\n",
       "\n"
      ],
      "text/plain": [
       "     [,1] [,2] [,3] [,4] [,5] [,6] [,7] [,8] [,9] [,10]\n",
       "[1,] 33   56   12   87   45   123  78   34   3    56   "
      ]
     },
     "metadata": {},
     "output_type": "display_data"
    }
   ],
   "source": [
    "t( items )"
   ]
  },
  {
   "cell_type": "markdown",
   "metadata": {},
   "source": [
    "Om $n$ te berekenen, gebruiken we `length(items)`:"
   ]
  },
  {
   "cell_type": "code",
   "execution_count": 90,
   "metadata": {},
   "outputs": [
    {
     "data": {
      "text/html": [
       "10"
      ],
      "text/latex": [
       "10"
      ],
      "text/markdown": [
       "10"
      ],
      "text/plain": [
       "[1] 10"
      ]
     },
     "metadata": {},
     "output_type": "display_data"
    }
   ],
   "source": [
    "n = length(items)\n",
    "n"
   ]
  },
  {
   "cell_type": "markdown",
   "metadata": {},
   "source": [
    "Om $\\bar{x}$ te bepalen, kan er gebruik worden gemaakt van `mean(items)`:"
   ]
  },
  {
   "cell_type": "code",
   "execution_count": 91,
   "metadata": {
    "scrolled": true
   },
   "outputs": [
    {
     "data": {
      "text/html": [
       "52.7"
      ],
      "text/latex": [
       "52.7"
      ],
      "text/markdown": [
       "52.7"
      ],
      "text/plain": [
       "[1] 52.7"
      ]
     },
     "metadata": {},
     "output_type": "display_data"
    }
   ],
   "source": [
    "avg = mean(items)\n",
    "avg"
   ]
  },
  {
   "cell_type": "markdown",
   "metadata": {},
   "source": [
    "Het kan ook berekend worden zonder gebruik te maken van `mean(items)`. Dit doen we dan met `sum(items)` en `length(items)`:"
   ]
  },
  {
   "cell_type": "code",
   "execution_count": 92,
   "metadata": {},
   "outputs": [
    {
     "data": {
      "text/html": [
       "52.7"
      ],
      "text/latex": [
       "52.7"
      ],
      "text/markdown": [
       "52.7"
      ],
      "text/plain": [
       "[1] 52.7"
      ]
     },
     "metadata": {},
     "output_type": "display_data"
    }
   ],
   "source": [
    "avg = sum(items) / length(items)\n",
    "avg"
   ]
  },
  {
   "cell_type": "markdown",
   "metadata": {},
   "source": [
    "Nu $n$ en er $\\bar{x}$ bepaald zijn, kunnen we de standaarddeviatie uitrekenen. Eerst halen we het gemiddelde van de waarden af."
   ]
  },
  {
   "cell_type": "code",
   "execution_count": 93,
   "metadata": {},
   "outputs": [
    {
     "data": {
      "text/html": [
       "<table>\n",
       "<tbody>\n",
       "\t<tr><td>-19.7</td><td>3.3  </td><td>-40.7</td><td>34.3 </td><td>-7.7 </td><td>70.3 </td><td>25.3 </td><td>-18.7</td><td>-49.7</td><td>3.3  </td></tr>\n",
       "</tbody>\n",
       "</table>\n"
      ],
      "text/latex": [
       "\\begin{tabular}{llllllllll}\n",
       "\t -19.7 & 3.3   & -40.7 & 34.3  & -7.7  & 70.3  & 25.3  & -18.7 & -49.7 & 3.3  \\\\\n",
       "\\end{tabular}\n"
      ],
      "text/markdown": [
       "\n",
       "| -19.7 | 3.3   | -40.7 | 34.3  | -7.7  | 70.3  | 25.3  | -18.7 | -49.7 | 3.3   | \n",
       "\n",
       "\n"
      ],
      "text/plain": [
       "     [,1]  [,2] [,3]  [,4] [,5] [,6] [,7] [,8]  [,9]  [,10]\n",
       "[1,] -19.7 3.3  -40.7 34.3 -7.7 70.3 25.3 -18.7 -49.7 3.3  "
      ]
     },
     "metadata": {},
     "output_type": "display_data"
    }
   ],
   "source": [
    "t( items - avg )"
   ]
  },
  {
   "cell_type": "markdown",
   "metadata": {},
   "source": [
    "R zorgt er in dit geval zelf voor dat het getal in `avg` van elk item in de lijst `items` wordt gehaald. Het resultaat is dan ook een nieuwe lijst. De volgende stap is dit kwadrateren:"
   ]
  },
  {
   "cell_type": "code",
   "execution_count": 94,
   "metadata": {},
   "outputs": [
    {
     "data": {
      "text/html": [
       "<table>\n",
       "<tbody>\n",
       "\t<tr><td>388.09 </td><td>10.89  </td><td>1656.49</td><td>1176.49</td><td>59.29  </td><td>4942.09</td><td>640.09 </td><td>349.69 </td><td>2470.09</td><td>10.89  </td></tr>\n",
       "</tbody>\n",
       "</table>\n"
      ],
      "text/latex": [
       "\\begin{tabular}{llllllllll}\n",
       "\t 388.09  & 10.89   & 1656.49 & 1176.49 & 59.29   & 4942.09 & 640.09  & 349.69  & 2470.09 & 10.89  \\\\\n",
       "\\end{tabular}\n"
      ],
      "text/markdown": [
       "\n",
       "| 388.09  | 10.89   | 1656.49 | 1176.49 | 59.29   | 4942.09 | 640.09  | 349.69  | 2470.09 | 10.89   | \n",
       "\n",
       "\n"
      ],
      "text/plain": [
       "     [,1]   [,2]  [,3]    [,4]    [,5]  [,6]    [,7]   [,8]   [,9]    [,10]\n",
       "[1,] 388.09 10.89 1656.49 1176.49 59.29 4942.09 640.09 349.69 2470.09 10.89"
      ]
     },
     "metadata": {},
     "output_type": "display_data"
    }
   ],
   "source": [
    "t( ( items - avg )^2 )"
   ]
  },
  {
   "cell_type": "markdown",
   "metadata": {},
   "source": [
    "Nu moeten we de som nemen van alle getallen in de lijst, dit kan met `sum(...)`:"
   ]
  },
  {
   "cell_type": "code",
   "execution_count": 95,
   "metadata": {},
   "outputs": [
    {
     "data": {
      "text/html": [
       "11704.1"
      ],
      "text/latex": [
       "11704.1"
      ],
      "text/markdown": [
       "11704.1"
      ],
      "text/plain": [
       "[1] 11704.1"
      ]
     },
     "metadata": {},
     "output_type": "display_data"
    }
   ],
   "source": [
    "sum( (items - avg)^2 )"
   ]
  },
  {
   "cell_type": "markdown",
   "metadata": {},
   "source": [
    "Dit delen we vervolgens door $n-1$. Let er op dat je de haakjes niet vergeet."
   ]
  },
  {
   "cell_type": "code",
   "execution_count": 96,
   "metadata": {
    "scrolled": true
   },
   "outputs": [
    {
     "data": {
      "text/html": [
       "1300.45555555556"
      ],
      "text/latex": [
       "1300.45555555556"
      ],
      "text/markdown": [
       "1300.45555555556"
      ],
      "text/plain": [
       "[1] 1300.456"
      ]
     },
     "metadata": {},
     "output_type": "display_data"
    }
   ],
   "source": [
    "sum( (items - avg)^2 ) / ( n - 1 )"
   ]
  },
  {
   "cell_type": "markdown",
   "metadata": {},
   "source": [
    "Dit getal is de _variantie_, om de standaarddeviatie te krijgen, nemen we hier de wortel (`sqrt`) van:"
   ]
  },
  {
   "cell_type": "code",
   "execution_count": 97,
   "metadata": {},
   "outputs": [
    {
     "data": {
      "text/html": [
       "36.0618296201892"
      ],
      "text/latex": [
       "36.0618296201892"
      ],
      "text/markdown": [
       "36.0618296201892"
      ],
      "text/plain": [
       "[1] 36.06183"
      ]
     },
     "metadata": {},
     "output_type": "display_data"
    }
   ],
   "source": [
    "sqrt( sum( (items - avg)^2 ) / ( n - 1 ) )"
   ]
  },
  {
   "cell_type": "markdown",
   "metadata": {},
   "source": [
    "De uitkomst kunnen we controleren met de ingebouwde functie van R, `sd`:"
   ]
  },
  {
   "cell_type": "code",
   "execution_count": 98,
   "metadata": {},
   "outputs": [
    {
     "data": {
      "text/html": [
       "36.0618296201892"
      ],
      "text/latex": [
       "36.0618296201892"
      ],
      "text/markdown": [
       "36.0618296201892"
      ],
      "text/plain": [
       "[1] 36.06183"
      ]
     },
     "metadata": {},
     "output_type": "display_data"
    }
   ],
   "source": [
    "sd(items)"
   ]
  },
  {
   "cell_type": "markdown",
   "metadata": {},
   "source": [
    "# Omzetten naar een functie"
   ]
  },
  {
   "cell_type": "markdown",
   "metadata": {},
   "source": [
    "Dit is ook om te zetten naar een functie. De input is in dit geval een lijst met getallen en de output is een getal."
   ]
  },
  {
   "cell_type": "code",
   "execution_count": 99,
   "metadata": {},
   "outputs": [],
   "source": [
    "stdev <- function(L) {\n",
    "    n = length(L)\n",
    "    avg = sum(L) / n\n",
    "    var = sum( (L-avg)^2 ) / (n-1)\n",
    "    std = sqrt( var )\n",
    "    (std)\n",
    "}"
   ]
  },
  {
   "cell_type": "code",
   "execution_count": 100,
   "metadata": {},
   "outputs": [
    {
     "data": {
      "text/html": [
       "36.0618296201892"
      ],
      "text/latex": [
       "36.0618296201892"
      ],
      "text/markdown": [
       "36.0618296201892"
      ],
      "text/plain": [
       "[1] 36.06183"
      ]
     },
     "metadata": {},
     "output_type": "display_data"
    }
   ],
   "source": [
    "stdev(items)"
   ]
  },
  {
   "cell_type": "markdown",
   "metadata": {},
   "source": [
    "De functie kan ook gebruik maken van de `sum` en `mean` functies in R:"
   ]
  },
  {
   "cell_type": "code",
   "execution_count": 101,
   "metadata": {},
   "outputs": [],
   "source": [
    "stdev2 <- function(L) sqrt( sum( (L-mean(L))^2 ) / (length(L)-1) )"
   ]
  },
  {
   "cell_type": "code",
   "execution_count": 102,
   "metadata": {
    "scrolled": true
   },
   "outputs": [
    {
     "data": {
      "text/html": [
       "36.0618296201892"
      ],
      "text/latex": [
       "36.0618296201892"
      ],
      "text/markdown": [
       "36.0618296201892"
      ],
      "text/plain": [
       "[1] 36.06183"
      ]
     },
     "metadata": {},
     "output_type": "display_data"
    }
   ],
   "source": [
    "stdev2(items)"
   ]
  },
  {
   "cell_type": "markdown",
   "metadata": {},
   "source": [
    "Easy as $\\pi$."
   ]
  }
 ],
 "metadata": {
  "kernelspec": {
   "display_name": "R",
   "language": "R",
   "name": "ir"
  },
  "language_info": {
   "codemirror_mode": "r",
   "file_extension": ".r",
   "mimetype": "text/x-r-source",
   "name": "R",
   "pygments_lexer": "r",
   "version": "3.4.4"
  }
 },
 "nbformat": 4,
 "nbformat_minor": 2
}
