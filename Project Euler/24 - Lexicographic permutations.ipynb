{
 "cells": [
  {
   "cell_type": "markdown",
   "metadata": {},
   "source": [
    "A permutation is an ordered arrangement of objects. For example, 3124 is one possible permutation of the digits 1, 2, 3 and 4. If all of the permutations are listed numerically or alphabetically, we call it lexicographic order. The lexicographic permutations of 0, 1 and 2 are:\n",
    "\n",
    "012   021   102   120   201   210\n",
    "\n",
    "What is the millionth lexicographic permutation of the digits 0, 1, 2, 3, 4, 5, 6, 7, 8 and 9?"
   ]
  },
  {
   "cell_type": "code",
   "execution_count": 2,
   "metadata": {},
   "outputs": [],
   "source": [
    "import math"
   ]
  },
  {
   "cell_type": "markdown",
   "metadata": {},
   "source": [
    "I did a binary tree search approach by calculating the cumulative sum of permutations.  I figured that $(1,x_2,x_3,x_4,x_5,x_6,x_7,x_8,x_9,x_{10})$ has $1*9! = 326.880$ permutations. \n",
    "\n",
    "First we define the set of permutations as $S = \\{0,1,2,3,4,5,6,7,8,9\\}$.\n",
    "\n",
    "We want to find $x_1$ such that $9!\\cdot x_1 \\leq 1.000.000$ where $x_1$ is an integer. This gives:\n",
    "\n",
    "$$ x_1 = \\left\\lfloor\\frac{1.000.000}{9!}\\right\\rfloor = 2 \\implies S_{3}=2$$\n",
    "\n",
    "This gives us the element that we have to select from $S$, namely $S_{n+1}$. This gives $S_{3}=2$. Now we remove $2$ and store it in $R$. In $S$ we are left with $\\{0,1,3,4,5,6,7,8,9\\}$. The remainder for the next iteration is found with $1.000.000 - 9!\\cdot x_1$ which is $274.240$. In the next iteration we find $x_2$:\n",
    "\n",
    "$$ x_2 = \\left\\lfloor\\frac{274.240}{8!}\\right\\rfloor = 6 \\implies S_{7}=7$$\n",
    "\n",
    "Which gives $S_7=7$. We repeat this proces until the remainder is $0$. The resulting permutation is found by adding our found $x_1, x_2, \\ldots, x_{n-1}$ and what is left in $S$."
   ]
  },
  {
   "cell_type": "code",
   "execution_count": 29,
   "metadata": {},
   "outputs": [],
   "source": [
    "def find_permutation_at_index(S, index):\n",
    "    R = []\n",
    "    remainder = index\n",
    "    while remainder > 0:\n",
    "        n = len(S)-1\n",
    "        index = remainder // math.factorial(n)\n",
    "        remainder -= index * math.factorial(n)\n",
    "        R.append(S[index])\n",
    "        del S[index]\n",
    "    return R + S"
   ]
  },
  {
   "cell_type": "code",
   "execution_count": 33,
   "metadata": {},
   "outputs": [
    {
     "name": "stdout",
     "output_type": "stream",
     "text": [
      "Wall time: 0 ns\n"
     ]
    },
    {
     "data": {
      "text/plain": [
       "[2, 7, 8, 3, 9, 1, 5, 4, 6, 0]"
      ]
     },
     "execution_count": 33,
     "metadata": {},
     "output_type": "execute_result"
    }
   ],
   "source": [
    "%%time\n",
    "find_permutation_at_index([0,1,2,3,4,5,6,7,8,9], 999999)"
   ]
  },
  {
   "cell_type": "markdown",
   "metadata": {},
   "source": [
    "This algorithm works for any arbitrary permutation set. We can also use it, for example, on letters:"
   ]
  },
  {
   "cell_type": "code",
   "execution_count": 44,
   "metadata": {},
   "outputs": [
    {
     "name": "stdout",
     "output_type": "stream",
     "text": [
      "i: 0 = ['A', 'B', 'C', 'D']\n",
      "i: 1 = ['A', 'B', 'D', 'C']\n",
      "i: 2 = ['A', 'C', 'B', 'D']\n",
      "i: 3 = ['A', 'C', 'D', 'B']\n",
      "i: 4 = ['A', 'D', 'B', 'C']\n",
      "i: 5 = ['A', 'D', 'C', 'B']\n",
      "i: 6 = ['B', 'A', 'C', 'D']\n",
      "i: 7 = ['B', 'A', 'D', 'C']\n",
      "i: 8 = ['B', 'C', 'A', 'D']\n",
      "i: 9 = ['B', 'C', 'D', 'A']\n",
      "i: 10 = ['B', 'D', 'A', 'C']\n",
      "i: 11 = ['B', 'D', 'C', 'A']\n",
      "i: 12 = ['C', 'A', 'B', 'D']\n",
      "i: 13 = ['C', 'A', 'D', 'B']\n",
      "i: 14 = ['C', 'B', 'A', 'D']\n",
      "i: 15 = ['C', 'B', 'D', 'A']\n",
      "i: 16 = ['C', 'D', 'A', 'B']\n",
      "i: 17 = ['C', 'D', 'B', 'A']\n",
      "i: 18 = ['D', 'A', 'B', 'C']\n",
      "i: 19 = ['D', 'A', 'C', 'B']\n",
      "i: 20 = ['D', 'B', 'A', 'C']\n",
      "i: 21 = ['D', 'B', 'C', 'A']\n",
      "i: 22 = ['D', 'C', 'A', 'B']\n",
      "i: 23 = ['D', 'C', 'B', 'A']\n"
     ]
    }
   ],
   "source": [
    "for i in range(math.factorial(4)):\n",
    "    print('i: {} = {}'.format(i, find_permutation_at_index(['A','B','C','D'], i)))"
   ]
  },
  {
   "cell_type": "code",
   "execution_count": 30,
   "metadata": {},
   "outputs": [
    {
     "name": "stdout",
     "output_type": "stream",
     "text": [
      "i: 0 = [0, 1, 2]\n",
      "i: 1 = [0, 2, 1]\n",
      "i: 2 = [1, 0, 2]\n",
      "i: 3 = [1, 2, 0]\n",
      "i: 4 = [2, 0, 1]\n",
      "i: 5 = [2, 1, 0]\n"
     ]
    }
   ],
   "source": [
    "for i in range(math.factorial(len([0,1,2]))):\n",
    "    print('i: {} = {}'.format(i, find_permutation_at_index([0,1,2], i)))"
   ]
  },
  {
   "cell_type": "code",
   "execution_count": null,
   "metadata": {},
   "outputs": [],
   "source": []
  }
 ],
 "metadata": {
  "kernelspec": {
   "display_name": "Python 3",
   "language": "python",
   "name": "python3"
  },
  "language_info": {
   "codemirror_mode": {
    "name": "ipython",
    "version": 3
   },
   "file_extension": ".py",
   "mimetype": "text/x-python",
   "name": "python",
   "nbconvert_exporter": "python",
   "pygments_lexer": "ipython3",
   "version": "3.6.3"
  }
 },
 "nbformat": 4,
 "nbformat_minor": 2
}
