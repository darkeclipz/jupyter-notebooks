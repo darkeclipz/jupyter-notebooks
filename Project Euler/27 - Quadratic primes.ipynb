{
 "cells": [
  {
   "cell_type": "code",
   "execution_count": 1,
   "metadata": {},
   "outputs": [
    {
     "name": "stdout",
     "output_type": "stream",
     "text": [
      "Populating the interactive namespace from numpy and matplotlib\n"
     ]
    }
   ],
   "source": [
    "%pylab inline"
   ]
  },
  {
   "cell_type": "markdown",
   "metadata": {},
   "source": [
    "# Problem"
   ]
  },
  {
   "cell_type": "markdown",
   "metadata": {},
   "source": [
    "Euler discovered the remarkable quadratic formula:\n",
    "\n",
    "$$n^2+n+41$$\n",
    "\n",
    "It turns out that the formula will produce 40 primes for the consecutive integer values $0≤n≤39$. However, when $n=40,402+40+41=40(40+1)+41$ is divisible by 41, and certainly when $n=41,412+41+41$ is clearly divisible by 41.\n",
    "\n",
    "The incredible formula $n^2−79n+1601$ was discovered, which produces 80 primes for the consecutive values 0≤n≤79. The product of the coefficients, −79 and 1601, is −126479.\n",
    "\n",
    "Considering quadratics of the form:\n",
    "\n",
    "$n^2+an+b$, where |a|<1000 and |b|≤1000\n",
    "\n",
    "where |n| is the modulus/absolute value of n\n",
    "e.g. |11|=11 and |−4|=4\n",
    "Find the product of the coefficients, a and b, for the quadratic expression that produces the maximum number of primes for consecutive values of n, starting with n=0."
   ]
  },
  {
   "cell_type": "markdown",
   "metadata": {},
   "source": [
    "# Prime sieve"
   ]
  },
  {
   "cell_type": "markdown",
   "metadata": {},
   "source": [
    "**Algorithm (Prime sieve):** Given a positive integer $n$, this algorithm computes a list of primes up to $n$.\n",
    "\n",
    "1. [Initialize] Let $X = [3,5,\\ldots]$ be the list of all odd integers between 3 and $n$. Let $P=[2]$ be the list of primes found so far.\n",
    "2. [Finished?] Let $p$ be the first element of $X$. If $p > \\sqrt{n}$, append each element of $X$ to $P$ and terminate. Otherwise append $p$ to $P$.\n",
    "3. [Cross Off] Set $X$ equal to the sublist of elements in $X$ that are not divisble by $p$. Go to step 2.\n",
    "\n",
    "*Source: Elementary Number Theory: Primes, Congruences, and Secrets, page 12, Algorithm 1.2.3 (https://wstein.org/ent/ent.pdf)*"
   ]
  },
  {
   "cell_type": "markdown",
   "metadata": {},
   "source": [
    "**Euclidean algorithm (GCD)**"
   ]
  },
  {
   "cell_type": "code",
   "execution_count": 2,
   "metadata": {},
   "outputs": [],
   "source": [
    "import math\n",
    "\n",
    "# Find the greatest common divisor for a, b. (Euclidean algorithm)\n",
    "# src: https://wstein.org/ent/ent.pdf\n",
    "def gcd(a,b):\n",
    "    a = abs(a)\n",
    "    b = abs(b)\n",
    "    if a == b: return a\n",
    "    if b > a:\n",
    "        swap = a\n",
    "        a = b\n",
    "        b = swap\n",
    "    q = a // b\n",
    "    r = a - b * q\n",
    "    while r != 0:\n",
    "        a = b\n",
    "        b = r\n",
    "        q = a // b\n",
    "        r = a - b * q\n",
    "    return b"
   ]
  },
  {
   "cell_type": "markdown",
   "metadata": {},
   "source": [
    "**Prime sieve (ENT/GCD)**"
   ]
  },
  {
   "cell_type": "markdown",
   "metadata": {},
   "source": [
    "Implemented exactly as specified by the algorithm. It uses the GCD to determine if it is divisble."
   ]
  },
  {
   "cell_type": "code",
   "execution_count": 3,
   "metadata": {
    "scrolled": false
   },
   "outputs": [],
   "source": [
    "def sieve_gcd(N):\n",
    "    sqrtN = math.sqrt(N)\n",
    "    X = [x for x in range(3, N, 2)]\n",
    "    P = [2]\n",
    "    p=0\n",
    "    while p < sqrtN:\n",
    "        p = X[0]\n",
    "        P.append(p)\n",
    "        X = [x for x in X if gcd(x,p)!=p]\n",
    "    return P + X"
   ]
  },
  {
   "cell_type": "code",
   "execution_count": 4,
   "metadata": {},
   "outputs": [
    {
     "name": "stdout",
     "output_type": "stream",
     "text": [
      "Number of primes found: 9592 (N=100000)\n",
      "Wall time: 731 ms\n"
     ]
    }
   ],
   "source": [
    "%%time\n",
    "N = 100000\n",
    "P = sieve_gcd(N)\n",
    "print('Number of primes found: {} (N={})'.format(len(P), N))"
   ]
  },
  {
   "cell_type": "markdown",
   "metadata": {},
   "source": [
    "**Prime sieve (ENT/MOD)**"
   ]
  },
  {
   "cell_type": "markdown",
   "metadata": {},
   "source": [
    "Using the modulo for division testing."
   ]
  },
  {
   "cell_type": "code",
   "execution_count": 5,
   "metadata": {
    "scrolled": true
   },
   "outputs": [],
   "source": [
    "def sieve_mod(N):\n",
    "    sqrtN = math.sqrt(N)\n",
    "    X = [x for x in range(3, N, 2)]\n",
    "    P = [2]\n",
    "    p=0\n",
    "    while p < sqrtN:\n",
    "        p = X[0]\n",
    "        P.append(p)\n",
    "        X = [x for x in X if x % p != 0]\n",
    "    return P + X"
   ]
  },
  {
   "cell_type": "code",
   "execution_count": 6,
   "metadata": {
    "scrolled": true
   },
   "outputs": [
    {
     "name": "stdout",
     "output_type": "stream",
     "text": [
      "Number of primes found: 9592 (N=100000)\n",
      "Wall time: 63 ms\n"
     ]
    }
   ],
   "source": [
    "%%time\n",
    "N = 100000\n",
    "P = sieve_mod(N)\n",
    "print('Number of primes found: {} (N={})'.format(len(P), N))"
   ]
  },
  {
   "cell_type": "markdown",
   "metadata": {},
   "source": [
    "Gives a substantial improvement."
   ]
  },
  {
   "cell_type": "markdown",
   "metadata": {},
   "source": [
    "**Prime sieve (List/All)**"
   ]
  },
  {
   "cell_type": "markdown",
   "metadata": {},
   "source": [
    "The idea is to put all the numbers in a list, and cross off all the multiples of primes for $i < \\sqrt{N}$. \n",
    "\n",
    "I suspect it also gives a huge boost to look-ups, since now we can just access $P[i]$, instead of searching in a list of primes to see if it is the list."
   ]
  },
  {
   "cell_type": "code",
   "execution_count": 38,
   "metadata": {},
   "outputs": [],
   "source": [
    "def sieve_lall(N):\n",
    "    sqrtN = math.sqrt(N)\n",
    "    L = [True] * N\n",
    "    L[0]=L[1]=False\n",
    "    for i in range(math.floor(sqrtN)+1):\n",
    "        if not L[i]: continue\n",
    "        for j in range(2, N//i+1):\n",
    "            if i*j >= N: continue\n",
    "            L[i*j] = False\n",
    "    return L"
   ]
  },
  {
   "cell_type": "code",
   "execution_count": 18,
   "metadata": {
    "scrolled": false
   },
   "outputs": [
    {
     "name": "stdout",
     "output_type": "stream",
     "text": [
      "sqrtN=3.1622776601683795\n",
      "0 is composite\n",
      "1 is composite\n",
      "2 is prime\n",
      "3 is prime\n",
      "4 is composite\n",
      "5 is prime\n",
      "6 is composite\n",
      "7 is prime\n",
      "8 is composite\n",
      "9 is composite\n"
     ]
    }
   ],
   "source": [
    "N=10\n",
    "S=sieve_lall(N)\n",
    "for i in range(N):\n",
    "    print('{} is {}'.format(i, 'prime' if S[i] else 'composite' ))"
   ]
  },
  {
   "cell_type": "code",
   "execution_count": 19,
   "metadata": {},
   "outputs": [
    {
     "name": "stdout",
     "output_type": "stream",
     "text": [
      "sqrtN=5.0\n",
      "Sieve List/All: 9\n",
      "Sieve ENP/Mod: 9\n"
     ]
    }
   ],
   "source": [
    "N=25\n",
    "print('Sieve List/All: {}'.format(len( [1 for x in sieve_lall(N) if x] )))\n",
    "print('Sieve ENP/Mod: {}'.format(len( sieve_mod(N) )))"
   ]
  },
  {
   "cell_type": "code",
   "execution_count": 20,
   "metadata": {},
   "outputs": [
    {
     "name": "stdout",
     "output_type": "stream",
     "text": [
      "sqrtN=5.0\n"
     ]
    },
    {
     "data": {
      "text/plain": [
       "[2, 3, 5, 7, 11, 13, 17, 19, 23]"
      ]
     },
     "execution_count": 20,
     "metadata": {},
     "output_type": "execute_result"
    }
   ],
   "source": [
    "S = sieve_lall(N)\n",
    "[x for x in range(len(S)) if S[x]]"
   ]
  },
  {
   "cell_type": "code",
   "execution_count": 21,
   "metadata": {},
   "outputs": [
    {
     "data": {
      "text/plain": [
       "[2, 3, 5, 7, 11, 13, 17, 19, 23]"
      ]
     },
     "execution_count": 21,
     "metadata": {},
     "output_type": "execute_result"
    }
   ],
   "source": [
    "sieve_mod(N)"
   ]
  },
  {
   "cell_type": "markdown",
   "metadata": {},
   "source": [
    "# Analysis"
   ]
  },
  {
   "cell_type": "markdown",
   "metadata": {},
   "source": [
    "## Generation time as $N$ grows"
   ]
  },
  {
   "cell_type": "markdown",
   "metadata": {},
   "source": [
    "A plot showing the time to generate $N$ primes of each of the different implementations of the algorithm."
   ]
  },
  {
   "cell_type": "code",
   "execution_count": 12,
   "metadata": {},
   "outputs": [],
   "source": [
    "import pandas as pd\n",
    "import time"
   ]
  },
  {
   "cell_type": "code",
   "execution_count": 13,
   "metadata": {
    "scrolled": false
   },
   "outputs": [
    {
     "data": {
      "image/png": "[encoded data removed]",
      "text/plain": [
       "<matplotlib.figure.Figure at 0x22ead147ba8>"
      ]
     },
     "metadata": {},
     "output_type": "display_data"
    },
    {
     "name": "stdout",
     "output_type": "stream",
     "text": [
      "Wall time: 3.51 s\n"
     ]
    }
   ],
   "source": [
    "%%time\n",
    "\n",
    "plt.figure(figsize=(8,8))\n",
    "\n",
    "for label, f in [('GCD', sieve_gcd), ('MOD', sieve_mod), ('LIST-ALL', sieve_lall)]:\n",
    "    \n",
    "    samples = []\n",
    "    \n",
    "    for n in range(10000, 100000, 10000):\n",
    "        start_time = time.time()\n",
    "        P = f(n)\n",
    "        elapsed_time = time.time() - start_time\n",
    "        samples.append((n, elapsed_time*1000))\n",
    "        \n",
    "    x, y = zip(*samples)\n",
    "    plt.scatter(x, y)\n",
    "    \n",
    "plt.title('Time to generate $N$ primes')\n",
    "plt.xlabel('Number of primes generated')\n",
    "plt.ylabel('Time in milliseconds')\n",
    "plt.grid(alpha=.5,ls='dashed')\n",
    "plt.legend(['ENT-GCD', 'ENT-MOD', 'LIST-ALL'])\n",
    "\n",
    "plt.show()"
   ]
  },
  {
   "cell_type": "markdown",
   "metadata": {},
   "source": [
    "## Read time as $N$ grows"
   ]
  },
  {
   "cell_type": "markdown",
   "metadata": {},
   "source": [
    "We want to plot reading time vs. number of primes in the list $N$. For each $N$ we test $R$ reads randomly generated lookups between $[1,N]$."
   ]
  },
  {
   "cell_type": "code",
   "execution_count": 14,
   "metadata": {},
   "outputs": [],
   "source": [
    "import random"
   ]
  },
  {
   "cell_type": "code",
   "execution_count": 49,
   "metadata": {},
   "outputs": [
    {
     "data": {
      "image/png": "[encoded data removed]",
      "text/plain": [
       "<matplotlib.figure.Figure at 0x22eac421898>"
      ]
     },
     "metadata": {},
     "output_type": "display_data"
    },
    {
     "name": "stdout",
     "output_type": "stream",
     "text": [
      "Wall time: 1.07 s\n"
     ]
    }
   ],
   "source": [
    "%%time\n",
    "R=1000\n",
    "a=10000\n",
    "b=100000\n",
    "step=10000\n",
    "primes_found = 0\n",
    "samples = []\n",
    "\n",
    "plt.figure(figsize=(8,8))\n",
    "for n in range(a, b, step):\n",
    "    sieve = sieve_lall(n)\n",
    "    \n",
    "    start_time = time.time()\n",
    "    \n",
    "    for _ in range(R):\n",
    "        r = random.randint(1, n-2)\n",
    "        if sieve[r]:\n",
    "            primes_found += 1\n",
    "            \n",
    "    elapsed_time = time.time() - start_time\n",
    "    samples.append((n, elapsed_time*1000))\n",
    "\n",
    "x, y = zip(*samples)\n",
    "plt.scatter(x, y)\n",
    "\n",
    "primes_found = 0\n",
    "samples = []\n",
    "\n",
    "for n in range(a, b, step):\n",
    "    sieve = sieve_mod(n)\n",
    "    \n",
    "    start_time = time.time()\n",
    "    \n",
    "    for _ in range(R):\n",
    "        r = random.randint(1, n)\n",
    "        if r in sieve:\n",
    "            primes_found += 1\n",
    "            \n",
    "    elapsed_time = time.time() - start_time\n",
    "    samples.append((n, elapsed_time*1000))\n",
    "\n",
    "x, y = zip(*samples)\n",
    "plt.scatter(x, y)\n",
    "\n",
    "plt.title('Time for ${}$ reads with $N$ primes'.format(R))\n",
    "plt.xlabel('Number of primes generated')\n",
    "plt.ylabel('Time in milliseconds (for $100.000$ reads)')\n",
    "plt.grid(alpha=.5,ls='dashed')\n",
    "plt.legend(['$P_i$', '$p\\in P$'])\n",
    "\n",
    "plt.show()"
   ]
  },
  {
   "cell_type": "markdown",
   "metadata": {},
   "source": [
    "The list where we can simply look-up $P_i$ is clearly the fastest."
   ]
  },
  {
   "cell_type": "markdown",
   "metadata": {},
   "source": [
    "## Disassembly"
   ]
  },
  {
   "cell_type": "code",
   "execution_count": 43,
   "metadata": {},
   "outputs": [],
   "source": [
    "import dis"
   ]
  },
  {
   "cell_type": "code",
   "execution_count": 44,
   "metadata": {},
   "outputs": [
    {
     "name": "stdout",
     "output_type": "stream",
     "text": [
      "  2           0 LOAD_GLOBAL              0 (math)\n",
      "              2 LOAD_ATTR                1 (sqrt)\n",
      "              4 LOAD_FAST                0 (N)\n",
      "              6 CALL_FUNCTION            1\n",
      "              8 STORE_FAST               1 (sqrtN)\n",
      "\n",
      "  3          10 LOAD_CONST               1 (<code object <listcomp> at 0x0000022E99F51270, file \"<ipython-input-3-39c45824a653>\", line 3>)\n",
      "             12 LOAD_CONST               2 ('sieve_gcd.<locals>.<listcomp>')\n",
      "             14 MAKE_FUNCTION            0\n",
      "             16 LOAD_GLOBAL              2 (range)\n",
      "             18 LOAD_CONST               3 (3)\n",
      "             20 LOAD_FAST                0 (N)\n",
      "             22 LOAD_CONST               4 (2)\n",
      "             24 CALL_FUNCTION            3\n",
      "             26 GET_ITER\n",
      "             28 CALL_FUNCTION            1\n",
      "             30 STORE_FAST               2 (X)\n",
      "\n",
      "  4          32 LOAD_CONST               4 (2)\n",
      "             34 BUILD_LIST               1\n",
      "             36 STORE_FAST               3 (P)\n",
      "\n",
      "  5          38 LOAD_CONST               5 (0)\n",
      "             40 STORE_DEREF              0 (p)\n",
      "\n",
      "  6          42 SETUP_LOOP              48 (to 92)\n",
      "        >>   44 LOAD_DEREF               0 (p)\n",
      "             46 LOAD_FAST                1 (sqrtN)\n",
      "             48 COMPARE_OP               0 (<)\n",
      "             50 POP_JUMP_IF_FALSE       90\n",
      "\n",
      "  7          52 LOAD_FAST                2 (X)\n",
      "             54 LOAD_CONST               5 (0)\n",
      "             56 BINARY_SUBSCR\n",
      "             58 STORE_DEREF              0 (p)\n",
      "\n",
      "  8          60 LOAD_FAST                3 (P)\n",
      "             62 LOAD_ATTR                3 (append)\n",
      "             64 LOAD_DEREF               0 (p)\n",
      "             66 CALL_FUNCTION            1\n",
      "             68 POP_TOP\n",
      "\n",
      "  9          70 LOAD_CLOSURE             0 (p)\n",
      "             72 BUILD_TUPLE              1\n",
      "             74 LOAD_CONST               6 (<code object <listcomp> at 0x0000022EAC3CBF60, file \"<ipython-input-3-39c45824a653>\", line 9>)\n",
      "             76 LOAD_CONST               2 ('sieve_gcd.<locals>.<listcomp>')\n",
      "             78 MAKE_FUNCTION            8\n",
      "             80 LOAD_FAST                2 (X)\n",
      "             82 GET_ITER\n",
      "             84 CALL_FUNCTION            1\n",
      "             86 STORE_FAST               2 (X)\n",
      "             88 JUMP_ABSOLUTE           44\n",
      "        >>   90 POP_BLOCK\n",
      "\n",
      " 10     >>   92 LOAD_FAST                3 (P)\n",
      "             94 LOAD_FAST                2 (X)\n",
      "             96 BINARY_ADD\n",
      "             98 RETURN_VALUE\n"
     ]
    }
   ],
   "source": [
    "dis.dis(sieve_gcd)"
   ]
  },
  {
   "cell_type": "code",
   "execution_count": 47,
   "metadata": {},
   "outputs": [
    {
     "name": "stdout",
     "output_type": "stream",
     "text": [
      "  2           0 LOAD_GLOBAL              0 (math)\n",
      "              2 LOAD_ATTR                1 (sqrt)\n",
      "              4 LOAD_FAST                0 (N)\n",
      "              6 CALL_FUNCTION            1\n",
      "              8 STORE_FAST               1 (sqrtN)\n",
      "\n",
      "  3          10 LOAD_CONST               1 (<code object <listcomp> at 0x0000022EAC56D030, file \"<ipython-input-5-9c237f948a42>\", line 3>)\n",
      "             12 LOAD_CONST               2 ('sieve_mod.<locals>.<listcomp>')\n",
      "             14 MAKE_FUNCTION            0\n",
      "             16 LOAD_GLOBAL              2 (range)\n",
      "             18 LOAD_CONST               3 (3)\n",
      "             20 LOAD_FAST                0 (N)\n",
      "             22 LOAD_CONST               4 (2)\n",
      "             24 CALL_FUNCTION            3\n",
      "             26 GET_ITER\n",
      "             28 CALL_FUNCTION            1\n",
      "             30 STORE_FAST               2 (X)\n",
      "\n",
      "  4          32 LOAD_CONST               4 (2)\n",
      "             34 BUILD_LIST               1\n",
      "             36 STORE_FAST               3 (P)\n",
      "\n",
      "  5          38 LOAD_CONST               5 (0)\n",
      "             40 STORE_DEREF              0 (p)\n",
      "\n",
      "  6          42 SETUP_LOOP              48 (to 92)\n",
      "        >>   44 LOAD_DEREF               0 (p)\n",
      "             46 LOAD_FAST                1 (sqrtN)\n",
      "             48 COMPARE_OP               0 (<)\n",
      "             50 POP_JUMP_IF_FALSE       90\n",
      "\n",
      "  7          52 LOAD_FAST                2 (X)\n",
      "             54 LOAD_CONST               5 (0)\n",
      "             56 BINARY_SUBSCR\n",
      "             58 STORE_DEREF              0 (p)\n",
      "\n",
      "  8          60 LOAD_FAST                3 (P)\n",
      "             62 LOAD_ATTR                3 (append)\n",
      "             64 LOAD_DEREF               0 (p)\n",
      "             66 CALL_FUNCTION            1\n",
      "             68 POP_TOP\n",
      "\n",
      "  9          70 LOAD_CLOSURE             0 (p)\n",
      "             72 BUILD_TUPLE              1\n",
      "             74 LOAD_CONST               6 (<code object <listcomp> at 0x0000022EAC56D0C0, file \"<ipython-input-5-9c237f948a42>\", line 9>)\n",
      "             76 LOAD_CONST               2 ('sieve_mod.<locals>.<listcomp>')\n",
      "             78 MAKE_FUNCTION            8\n",
      "             80 LOAD_FAST                2 (X)\n",
      "             82 GET_ITER\n",
      "             84 CALL_FUNCTION            1\n",
      "             86 STORE_FAST               2 (X)\n",
      "             88 JUMP_ABSOLUTE           44\n",
      "        >>   90 POP_BLOCK\n",
      "\n",
      " 10     >>   92 LOAD_FAST                3 (P)\n",
      "             94 LOAD_FAST                2 (X)\n",
      "             96 BINARY_ADD\n",
      "             98 RETURN_VALUE\n"
     ]
    }
   ],
   "source": [
    "dis.dis(sieve_mod)"
   ]
  },
  {
   "cell_type": "code",
   "execution_count": 48,
   "metadata": {},
   "outputs": [
    {
     "name": "stdout",
     "output_type": "stream",
     "text": [
      "  2           0 LOAD_GLOBAL              0 (math)\n",
      "              2 LOAD_ATTR                1 (sqrt)\n",
      "              4 LOAD_FAST                0 (N)\n",
      "              6 CALL_FUNCTION            1\n",
      "              8 STORE_FAST               1 (sqrtN)\n",
      "\n",
      "  3          10 LOAD_CONST               1 (True)\n",
      "             12 BUILD_LIST               1\n",
      "             14 LOAD_FAST                0 (N)\n",
      "             16 BINARY_MULTIPLY\n",
      "             18 STORE_FAST               2 (L)\n",
      "\n",
      "  4          20 LOAD_CONST               2 (False)\n",
      "             22 DUP_TOP\n",
      "             24 LOAD_FAST                2 (L)\n",
      "             26 LOAD_CONST               3 (0)\n",
      "             28 STORE_SUBSCR\n",
      "             30 LOAD_FAST                2 (L)\n",
      "             32 LOAD_CONST               4 (1)\n",
      "             34 STORE_SUBSCR\n",
      "\n",
      "  5          36 SETUP_LOOP              90 (to 128)\n",
      "             38 LOAD_GLOBAL              2 (range)\n",
      "             40 LOAD_GLOBAL              0 (math)\n",
      "             42 LOAD_ATTR                3 (floor)\n",
      "             44 LOAD_FAST                1 (sqrtN)\n",
      "             46 CALL_FUNCTION            1\n",
      "             48 LOAD_CONST               4 (1)\n",
      "             50 BINARY_ADD\n",
      "             52 CALL_FUNCTION            1\n",
      "             54 GET_ITER\n",
      "        >>   56 FOR_ITER                68 (to 126)\n",
      "             58 STORE_FAST               3 (i)\n",
      "\n",
      "  6          60 LOAD_FAST                2 (L)\n",
      "             62 LOAD_FAST                3 (i)\n",
      "             64 BINARY_SUBSCR\n",
      "             66 POP_JUMP_IF_TRUE        70\n",
      "             68 JUMP_ABSOLUTE           56\n",
      "\n",
      "  7     >>   70 SETUP_LOOP              52 (to 124)\n",
      "             72 LOAD_GLOBAL              2 (range)\n",
      "             74 LOAD_CONST               5 (2)\n",
      "             76 LOAD_FAST                0 (N)\n",
      "             78 LOAD_FAST                3 (i)\n",
      "             80 BINARY_FLOOR_DIVIDE\n",
      "             82 LOAD_CONST               4 (1)\n",
      "             84 BINARY_ADD\n",
      "             86 CALL_FUNCTION            2\n",
      "             88 GET_ITER\n",
      "        >>   90 FOR_ITER                30 (to 122)\n",
      "             92 STORE_FAST               4 (j)\n",
      "\n",
      "  8          94 LOAD_FAST                3 (i)\n",
      "             96 LOAD_FAST                4 (j)\n",
      "             98 BINARY_MULTIPLY\n",
      "            100 LOAD_FAST                0 (N)\n",
      "            102 COMPARE_OP               5 (>=)\n",
      "            104 POP_JUMP_IF_FALSE      108\n",
      "            106 JUMP_ABSOLUTE           90\n",
      "\n",
      "  9     >>  108 LOAD_CONST               2 (False)\n",
      "            110 LOAD_FAST                2 (L)\n",
      "            112 LOAD_FAST                3 (i)\n",
      "            114 LOAD_FAST                4 (j)\n",
      "            116 BINARY_MULTIPLY\n",
      "            118 STORE_SUBSCR\n",
      "            120 JUMP_ABSOLUTE           90\n",
      "        >>  122 POP_BLOCK\n",
      "        >>  124 JUMP_ABSOLUTE           56\n",
      "        >>  126 POP_BLOCK\n",
      "\n",
      " 10     >>  128 LOAD_FAST                2 (L)\n",
      "            130 RETURN_VALUE\n"
     ]
    }
   ],
   "source": [
    "dis.dis(sieve_lall)"
   ]
  },
  {
   "cell_type": "code",
   "execution_count": null,
   "metadata": {},
   "outputs": [],
   "source": []
  }
 ],
 "metadata": {
  "kernelspec": {
   "display_name": "Python 3",
   "language": "python",
   "name": "python3"
  },
  "language_info": {
   "codemirror_mode": {
    "name": "ipython",
    "version": 3
   },
   "file_extension": ".py",
   "mimetype": "text/x-python",
   "name": "python",
   "nbconvert_exporter": "python",
   "pygments_lexer": "ipython3",
   "version": "3.6.3"
  }
 },
 "nbformat": 4,
 "nbformat_minor": 2
}
