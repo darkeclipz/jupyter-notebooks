{
 "cells": [
  {
   "cell_type": "code",
   "execution_count": 90,
   "metadata": {},
   "outputs": [],
   "source": [
    "import math\n",
    "from functools import reduce"
   ]
  },
  {
   "cell_type": "code",
   "execution_count": 53,
   "metadata": {},
   "outputs": [],
   "source": [
    "class Pipe():\n",
    "    def __init__(self, b, d, v):\n",
    "        self.b = b\n",
    "        self.d = d\n",
    "        self.v = v\n",
    "    def __repr__(self):\n",
    "        return \"Pipe(b: {}, d: {}, v: {})\".format(self.b, self.v, self.d)"
   ]
  },
  {
   "cell_type": "markdown",
   "metadata": {},
   "source": [
    "**nocut**\n",
    "\n",
    "The boolean function `nocut` determines if there are no cuts for a given height $x$ on any number of pipes $n$, where $b$ is the bottom position (not relative) of the pipe, $d$ is the diameter, and $v$ is the minimum required space around the pipe. The variable $b_{\\text{min}}$ is the lowest pipe, and is used to make $b$ relative.\n",
    "\n",
    "$$ \\text{nocut}(x) = \\left|\\ x - \\left(b_n - b_{min} + \\dfrac{d_n}{2}\\right)\\ \\right| \\geq \\dfrac{d_n}{2} + v_n \\quad\\text{for}\\ n=0,1,2,\\ldots,7$$\n",
    "\n",
    "If there is an $\\text{OB}$ or $\\text{TS}$, it becomes:\n",
    "\n",
    "$$ \\text{nocut}(x) = \\left|\\ x - \\left(b_n - \\left(b_{min} + \\text{OB} + \\text{TS}_k\\right) + \\dfrac{d_n}{2}\\right)\\ \\right| \\geq \\dfrac{d_n}{2} + v_n, $$\n",
    "\n",
    "where $k$ is the number of $\\text{TS}$. Both equations can be simplified to $x-b_n+b_\\text{min}-\\frac{d_n}{2}$, and $x-b_n+b_\\text{min}+\\text{OB} + \\text{TS}_k-\\frac{d_n}{2}$ respectively."
   ]
  },
  {
   "cell_type": "code",
   "execution_count": 173,
   "metadata": {},
   "outputs": [],
   "source": [
    "def nocut(p, bmin, x): return abs(x - (p.b - bmin + p.d / 2)) >= p.d / 2 + p.v    \n",
    "def pad(x, n): return pad(\"0\" + str(x), n) if len(str(x)) != n else str(x)"
   ]
  },
  {
   "cell_type": "markdown",
   "metadata": {},
   "source": [
    "The following algorithm finds the optimal possible values for $\\text{OB}_{\\text{min}}$, $\\text{TSk}_{\\text{max}}$, and $\\text{KS}_{\\text{min}}$ under the constraints that:\n",
    "\n",
    " 1. $\\text{OB}$ is as small as possible.\n",
    " 2. $\\text{TS}$ is as large as possible, but $ R - \\text{TS} \\geq \\text{cover plate}$.\n",
    " 3. $\\text{KS}$ is as large as possible, but $ \\text{KS} \\leq R$."
   ]
  },
  {
   "cell_type": "code",
   "execution_count": 273,
   "metadata": {
    "scrolled": false
   },
   "outputs": [
    {
     "name": "stdout",
     "output_type": "stream",
     "text": [
      "OB: [400, 450, 500] ... [2550, 2600, 2650]\n",
      "TS: [500, 750, 1000] ... [2550, 2600, 2650]\n",
      "KS: [250, 400, 550] ... [2050, 2200, 2350]\n",
      "B (buis bob): [1000, 2000, 3000, 4000, 1250, 5000, 6500]\n",
      "D (buis diameter): [500, 500, 500, 500, 500, 850]\n",
      "V (buis vleesmaat): [100, 100, 100, 100, 100, 100]\n",
      "bmin (laagste buis): 1000\n",
      "A (putrandhoogte NAP): 8000\n",
      "H (puthoogte): 6980\n",
      "Onderbak: 850\n",
      "Beschikbare onderbakken (OB 11/46): 850, 900, 1600, 1650, 1700, 1750, 1800, 1850, 1900, 2600, 2650\n",
      "R0 (resthoogte 0): 6130\n",
      "Beschikbare tussenstukken (TS0 4/8): 750, 1000, 1750, 2000\n",
      "Tussenstuk (TS0): 2000\n",
      "R1 (resthoogte 1): 4130\n",
      "Beschikbare tussenstukken (TS1 3/8): 750, 1000, 2250\n",
      "Tussenstuk (TS1): 2250\n",
      "R2 (resthoogte 2): 1880\n",
      "Kegelstuk: 1750\n",
      "Aangepaste stellaag: 130\n",
      "Totale lengte put: 6850\n"
     ]
    }
   ],
   "source": [
    "# Input\n",
    "A = 8000\n",
    "bodem = 200\n",
    "stellaag = 220\n",
    "B = [1000, 2000, 3000, 4000, 1250, 5000, 6500]\n",
    "D = [500, 500, 500, 500, 500, 850]\n",
    "V = [100, 100, 100, 100, 100, 100]\n",
    "\n",
    "# Casting\n",
    "P = list(map(lambda p: Pipe(p[0],p[1],p[2]), zip(B,D,V)))\n",
    "\n",
    "# Put onderdelen\n",
    "OB = [50*x + 400 for x in range(46)]\n",
    "TS = [250*x + 500 for x in range(8)]\n",
    "KS = [250] + [150*x + 400 for x in range(14)]\n",
    "print('OB: {} ... {}'.format(OB[:3], OB[-3:]))\n",
    "print('TS: {} ... {}'.format(TS[:3], OB[-3:]))\n",
    "print('KS: {} ... {}'.format(KS[:3], KS[-3:]))\n",
    "\n",
    "# Uitgeschakelde putten wegfilteren\n",
    "B = list(map(lambda x: x if x > 0 else math.inf, B))\n",
    "print('B (buis bob): {}'.format(B))\n",
    "print('D (buis diameter): {}'.format(D))\n",
    "print('V (buis vleesmaat): {}'.format(V))\n",
    "\n",
    "# Laagste buis bepalen\n",
    "bmin = min(B)\n",
    "print('bmin (laagste buis): {}'.format(bmin))\n",
    "\n",
    "print('A (putrandhoogte NAP): {}'.format(A))\n",
    "\n",
    "# Puthoogte bepalen \n",
    "H = A - bmin - stellaag + bodem\n",
    "print('H (puthoogte): {}'.format(H))\n",
    "\n",
    "# Buizen met de onderbakken snijden en de kleinst beschikbare zoeken.\n",
    "OB_satisfied = [ob for ob in OB if reduce(lambda x, y: x and y, [nocut(p, bmin, ob) \n",
    "                                                                 for p in P])]\n",
    "OBmin = min(OB_satisfied + [math.inf])\n",
    "print('Onderbak: {}'.format(OBmin))\n",
    "\n",
    "print('Beschikbare onderbakken (OB {}/{}): '.format(len(OB_satisfied), len(OB)), end='')\n",
    "print(', '.join(map(lambda x: str(x), OB_satisfied)))\n",
    "\n",
    "# Resthoogte (0) bepalen.\n",
    "R0 = H - OBmin\n",
    "print('R0 (resthoogte 0): {}'.format(R0))\n",
    "\n",
    "# Kijken of een kegelstuk past, en anders tussenstukken plaatsen.\n",
    "# ;; kan beter met een while loop (en oneindig veel tussenstukken), maar de inrichting\n",
    "#    gaat uit van 2 tussenstukken.\n",
    "if R0 <= max(KS):\n",
    "    \n",
    "    # Kegelstuk past, dus we kunnen het kegelstuk bepalen.\n",
    "    KSmax = max([ks for ks in KS if ks <= R0] + [-math.inf])\n",
    "    print('Kegelstuk: {}'.format(KSmax))\n",
    "    print('Aangepaste stellaag: {}'.format(R0 - KSmax))\n",
    "    print('Totale lengte put: {}'.format(OBmin + KSmax))\n",
    "    \n",
    "else:\n",
    "        \n",
    "    # Tussenstuk nodig, dus deze bepalen (snijlijnen checken en er moet ook nog een KS op)\n",
    "    TS0_satisfied = [ts for ts in TS if reduce(lambda x, y: x and y, [nocut(p, bmin + OBmin, ts) # geen snede\n",
    "                                                                      and R0 - ts >= min(KS)     # kegelstuk overhouden\n",
    "                                                                      for p in P])]\n",
    "    print('Beschikbare tussenstukken (TS0 {}/{}): '.format(len(TS0_satisfied), len(TS)), end='')\n",
    "    print(', '.join(map(lambda x: str(x), TS0_satisfied)))\n",
    "    \n",
    "    TS0max = max(TS0_satisfied)\n",
    "    print('Tussenstuk (TS0): {}'.format(TS0max))\n",
    "    \n",
    "    R1 = R0 - TS0max\n",
    "    print('R1 (resthoogte 1): {}'.format(R1))\n",
    "    \n",
    "    # Kijken of een kegelstuk past, en anders tussenstukken plaatsen.\n",
    "    if R1 <= max(KS):\n",
    "\n",
    "        # Kegelstuk past, dus we kunnen het kegelstuk bepalen.\n",
    "        KSmax = max([ks for ks in KS if ks <= R1] + [-math.inf])\n",
    "        print('Kegelstuk: {}'.format(KSmax))\n",
    "        print('Aangepaste stellaag: {}'.format(R1 - KSmax))\n",
    "        print('Totale lengte put: {}'.format(OBmin + TS0max + KSmax))\n",
    "        \n",
    "    else:\n",
    "\n",
    "        # Nog een tussenstuk nodig, dus deze bepalen (snijlijnen checken en er moet ook nog een KS op)\n",
    "        TS1_satisfied = [ts for ts in TS if reduce(lambda x, y: x and y, [nocut(p, bmin + OBmin + TS0max, ts) # geen snede\n",
    "                                                                          and R1 - ts >= min(KS)     # kegelstuk overhouden\n",
    "                                                                          for p in P])]\n",
    "        print('Beschikbare tussenstukken (TS1 {}/{}): '.format(len(TS1_satisfied), len(TS)), end='')\n",
    "        print(', '.join(map(lambda x: str(x), TS1_satisfied)))\n",
    "\n",
    "        TS1max = max(TS1_satisfied)\n",
    "        print('Tussenstuk (TS1): {}'.format(TS1max))\n",
    "\n",
    "        R2 = R1 - TS1max\n",
    "        print('R2 (resthoogte 2): {}'.format(R2))\n",
    "        \n",
    "        # Kijken of een kegelstuk past, en anders tussenstukken plaatsen.\n",
    "        if R2 <= max(KS):\n",
    "\n",
    "            # Kegelstuk past, dus we kunnen het kegelstuk bepalen.\n",
    "            KSmax = max([ks for ks in KS if ks <= R2] + [-math.inf])\n",
    "            print('Kegelstuk: {}'.format(KSmax))\n",
    "            print('Aangepaste stellaag: {}'.format(R2 - KSmax))\n",
    "            print('Totale lengte put: {}'.format(OBmin + TS0max + TS1max + KSmax))\n",
    "            \n",
    "        else:\n",
    "            print('Put is te hoog, kan niet worden opgevuld.')"
   ]
  },
  {
   "cell_type": "markdown",
   "metadata": {},
   "source": [
    "The algorithm is a bit weird, but the layout is such that it can be converted to feature model conditions more easily. Below is a version that supports infinite $\\text{TS}$ it will return `inf` if there is no solution. "
   ]
  },
  {
   "cell_type": "code",
   "execution_count": 349,
   "metadata": {
    "scrolled": false
   },
   "outputs": [
    {
     "name": "stdout",
     "output_type": "stream",
     "text": [
      "Onderbak   (OB): 1100\n",
      "Tussenstuk (TS): 1500\n",
      "Tussenstuk (TS): 2250\n",
      "Kegelstuk  (KS): 1900\n",
      "Aangepaste stellaag: 30\n",
      "Totale lengte put: 6750\n",
      "H (puthoogte): 6780\n"
     ]
    }
   ],
   "source": [
    "def nocut(p, bmin, x): return abs(x - (p.b - bmin + p.d / 2)) >= p.d / 2 + p.v  \n",
    "def maxinf(x): return max(x + [-math.inf]) # always returns a result, even if x is empty.\n",
    "def mininf(x): return min(x + [math.inf]) # always returns a result, even if x is empty.\n",
    "\n",
    "A = 8000;bodem = 200;stellaag = 220\n",
    "B = [1200, 4000, 5000, 0, 7000, 0, 0]\n",
    "D = [1000, 1000, 500, 1000, 200, 850]\n",
    "#V = [100, 100, 100, 100, 100, 100]\n",
    "P = list(map(lambda p: Pipe(p[0],p[1],p[2]), zip(B,D,V)))\n",
    "OB = [50*x + 400 for x in range(46)]\n",
    "TS = [250*x + 500 for x in range(8)]\n",
    "KS = [250] + [150*x + 400 for x in range(14)]\n",
    "B = list(map(lambda x: x if x > 0 else math.inf, B))\n",
    "bmin = min(B)\n",
    "H = A - bmin - stellaag + bodem\n",
    "Plen = 0\n",
    "\n",
    "# onderbak\n",
    "OB_satisfied = [ob for ob in OB if reduce(lambda x, y: x and y, [nocut(p, bmin, ob) \n",
    "                                                                 for p in P])]\n",
    "OBmin = mininf(OB_satisfied); Plen = OBmin\n",
    "print('Onderbak   (OB): {}'.format(OBmin))\n",
    "\n",
    "# tussenstukken\n",
    "R = H - OBmin\n",
    "while R > max(KS):\n",
    "    TS_satisfied = [ts for ts in TS if reduce(lambda x, y: x and y, [nocut(p, bmin + (H - R), ts) for p in P]) \n",
    "                                       and R0 - ts >= min(KS)]\n",
    "    if not TS_satisfied: \n",
    "        # can't find a TS, abort.\n",
    "        TS_satisfied = [math.inf]; \n",
    "        OBmin = math.inf \n",
    "        \n",
    "    TSmax = maxinf(TS_satisfied); Plen += TSmax\n",
    "    R = R - TSmax\n",
    "    print('Tussenstuk (TS): {}'.format(TSmax))\n",
    "\n",
    "# kegelstuk\n",
    "KSmax = maxinf([ks for ks in KS if ks <= R])\n",
    "Plen += KSmax\n",
    "print('Kegelstuk  (KS): {}'.format(KSmax))\n",
    "\n",
    "# resultaat\n",
    "print('Aangepaste stellaag: {}'.format(H-Plen))\n",
    "print('Totale lengte put: {}'.format(Plen))\n",
    "print('H (puthoogte): {}'.format(H))\n",
    "if OBmin == math.inf: print('No solution')"
   ]
  },
  {
   "cell_type": "code",
   "execution_count": null,
   "metadata": {},
   "outputs": [],
   "source": []
  },
  {
   "cell_type": "code",
   "execution_count": null,
   "metadata": {},
   "outputs": [],
   "source": []
  }
 ],
 "metadata": {
  "kernelspec": {
   "display_name": "Python 3",
   "language": "python",
   "name": "python3"
  },
  "language_info": {
   "codemirror_mode": {
    "name": "ipython",
    "version": 3
   },
   "file_extension": ".py",
   "mimetype": "text/x-python",
   "name": "python",
   "nbconvert_exporter": "python",
   "pygments_lexer": "ipython3",
   "version": "3.6.3"
  }
 },
 "nbformat": 4,
 "nbformat_minor": 2
}
