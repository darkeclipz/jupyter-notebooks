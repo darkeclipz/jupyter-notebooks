{
 "cells": [
  {
   "cell_type": "code",
   "execution_count": 3,
   "metadata": {},
   "outputs": [
    {
     "name": "stdout",
     "output_type": "stream",
     "text": [
      "Populating the interactive namespace from numpy and matplotlib\n"
     ]
    }
   ],
   "source": [
    "%pylab inline"
   ]
  },
  {
   "cell_type": "code",
   "execution_count": 75,
   "metadata": {},
   "outputs": [],
   "source": [
    "limit = 100\n",
    "sqrtlim = int(ceil(sqrt(limit)))\n",
    "sieve = [False] * limit; sieve[0] = True; sieve[1] = True\n",
    "for i in range(sqrtlim):\n",
    "    #print('loop started with {}'.format(i))\n",
    "    if sieve[i]:\n",
    "        #print('skipping {}'.format(i))\n",
    "        continue\n",
    "    sieve[i*i] = True\n",
    "    for j in range(i, limit//i):\n",
    "        #print('marking {} * {}'.format(i,j))\n",
    "        sieve[i*j] = True    "
   ]
  },
  {
   "cell_type": "code",
   "execution_count": 76,
   "metadata": {},
   "outputs": [
    {
     "name": "stdout",
     "output_type": "stream",
     "text": [
      "The sum of primes between 1 and 100, is: 1159\n"
     ]
    }
   ],
   "source": [
    "sum_of_primes = 0\n",
    "for i in range(len(sieve)): sum_of_primes += i if sieve[i] == False else 0\n",
    "print('The sum of primes between 1 and {}, is: {}'.format(limit, sum_of_primes))"
   ]
  },
  {
   "cell_type": "markdown",
   "metadata": {},
   "source": [
    "It can be estimated with:\n",
    "\n",
    "$$ \\sum_{p\\le x}p\\sim \\frac{x^2}{2\\log x} $$"
   ]
  },
  {
   "cell_type": "code",
   "execution_count": 65,
   "metadata": {},
   "outputs": [
    {
     "data": {
      "text/plain": [
       "21.714724095162591"
      ]
     },
     "execution_count": 65,
     "metadata": {},
     "output_type": "execute_result"
    }
   ],
   "source": [
    "limit**2/(2*log(limit))"
   ]
  },
  {
   "cell_type": "code",
   "execution_count": 66,
   "metadata": {},
   "outputs": [
    {
     "name": "stdout",
     "output_type": "stream",
     "text": [
      "0 is composite: True\n",
      "1 is composite: True\n",
      "2 is composite: False\n",
      "3 is composite: False\n",
      "4 is composite: True\n",
      "5 is composite: False\n",
      "6 is composite: True\n",
      "7 is composite: False\n",
      "8 is composite: True\n",
      "9 is composite: False\n"
     ]
    }
   ],
   "source": [
    "for i in range(len(sieve)): print('{} is composite: {}'.format(i, sieve[i]))"
   ]
  },
  {
   "cell_type": "code",
   "execution_count": null,
   "metadata": {},
   "outputs": [],
   "source": []
  },
  {
   "cell_type": "code",
   "execution_count": null,
   "metadata": {},
   "outputs": [],
   "source": []
  }
 ],
 "metadata": {
  "kernelspec": {
   "display_name": "Python 3",
   "language": "python",
   "name": "python3"
  },
  "language_info": {
   "codemirror_mode": {
    "name": "ipython",
    "version": 3
   },
   "file_extension": ".py",
   "mimetype": "text/x-python",
   "name": "python",
   "nbconvert_exporter": "python",
   "pygments_lexer": "ipython3",
   "version": "3.6.3"
  }
 },
 "nbformat": 4,
 "nbformat_minor": 2
}
