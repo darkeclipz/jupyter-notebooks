{
 "cells": [
  {
   "cell_type": "code",
   "execution_count": 1,
   "metadata": {},
   "outputs": [
    {
     "name": "stdout",
     "output_type": "stream",
     "text": [
      "Populating the interactive namespace from numpy and matplotlib\n"
     ]
    }
   ],
   "source": [
    "%pylab inline\n",
    "import pandas as pd"
   ]
  },
  {
   "cell_type": "code",
   "execution_count": 54,
   "metadata": {},
   "outputs": [],
   "source": [
    "def sum_digit(s):\n",
    "    while len(str(s)) > 1:\n",
    "        sa = s\n",
    "        s = sum([int(x) for x in str(s) if x.isdigit()])\n",
    "        print('={}={}'.format(\"+\".join([x for x in str(sa) if x.isdigit()]), s),end='')\n",
    "    print()\n",
    "    return s"
   ]
  },
  {
   "cell_type": "code",
   "execution_count": 55,
   "metadata": {
    "scrolled": false
   },
   "outputs": [
    {
     "name": "stdout",
     "output_type": "stream",
     "text": [
      "9x2=1+8=9\n",
      "9x3=2+7=9\n",
      "9x4=3+6=9\n",
      "9x5=4+5=9\n",
      "9x6=5+4=9\n",
      "9x7=6+3=9\n",
      "9x8=7+2=9\n",
      "9x9=8+1=9\n",
      "9x10=9+0=9\n",
      "9x11=9+9=18=1+8=9\n",
      "9x12=1+0+8=9\n",
      "9x13=1+1+7=9\n",
      "9x14=1+2+6=9\n",
      "9x15=1+3+5=9\n",
      "9x16=1+4+4=9\n",
      "9x17=1+5+3=9\n",
      "9x18=1+6+2=9\n",
      "9x19=1+7+1=9\n",
      "9x20=1+8+0=9\n",
      "9x21=1+8+9=18=1+8=9\n",
      "9x22=1+9+8=18=1+8=9\n",
      "9x23=2+0+7=9\n",
      "9x24=2+1+6=9\n",
      "9x25=2+2+5=9\n",
      "9x26=2+3+4=9\n",
      "9x27=2+4+3=9\n",
      "9x28=2+5+2=9\n",
      "9x29=2+6+1=9\n",
      "9x30=2+7+0=9\n",
      "9x31=2+7+9=18=1+8=9\n",
      "9x32=2+8+8=18=1+8=9\n",
      "9x33=2+9+7=18=1+8=9\n",
      "9x34=3+0+6=9\n",
      "9x35=3+1+5=9\n",
      "9x36=3+2+4=9\n",
      "9x37=3+3+3=9\n",
      "9x38=3+4+2=9\n",
      "9x39=3+5+1=9\n",
      "9x40=3+6+0=9\n",
      "9x41=3+6+9=18=1+8=9\n",
      "9x42=3+7+8=18=1+8=9\n",
      "9x43=3+8+7=18=1+8=9\n",
      "9x44=3+9+6=18=1+8=9\n",
      "9x45=4+0+5=9\n",
      "9x46=4+1+4=9\n",
      "9x47=4+2+3=9\n",
      "9x48=4+3+2=9\n",
      "9x49=4+4+1=9\n",
      "9x50=4+5+0=9\n",
      "9x51=4+5+9=18=1+8=9\n",
      "9x52=4+6+8=18=1+8=9\n",
      "9x53=4+7+7=18=1+8=9\n",
      "9x54=4+8+6=18=1+8=9\n",
      "9x55=4+9+5=18=1+8=9\n",
      "9x56=5+0+4=9\n",
      "9x57=5+1+3=9\n",
      "9x58=5+2+2=9\n",
      "9x59=5+3+1=9\n",
      "9x60=5+4+0=9\n",
      "9x61=5+4+9=18=1+8=9\n",
      "9x62=5+5+8=18=1+8=9\n",
      "9x63=5+6+7=18=1+8=9\n",
      "9x64=5+7+6=18=1+8=9\n",
      "9x65=5+8+5=18=1+8=9\n",
      "9x66=5+9+4=18=1+8=9\n",
      "9x67=6+0+3=9\n",
      "9x68=6+1+2=9\n",
      "9x69=6+2+1=9\n",
      "9x70=6+3+0=9\n",
      "9x71=6+3+9=18=1+8=9\n",
      "9x72=6+4+8=18=1+8=9\n",
      "9x73=6+5+7=18=1+8=9\n",
      "9x74=6+6+6=18=1+8=9\n",
      "9x75=6+7+5=18=1+8=9\n",
      "9x76=6+8+4=18=1+8=9\n",
      "9x77=6+9+3=18=1+8=9\n",
      "9x78=7+0+2=9\n",
      "9x79=7+1+1=9\n",
      "9x80=7+2+0=9\n",
      "9x81=7+2+9=18=1+8=9\n",
      "9x82=7+3+8=18=1+8=9\n",
      "9x83=7+4+7=18=1+8=9\n",
      "9x84=7+5+6=18=1+8=9\n",
      "9x85=7+6+5=18=1+8=9\n",
      "9x86=7+7+4=18=1+8=9\n",
      "9x87=7+8+3=18=1+8=9\n",
      "9x88=7+9+2=18=1+8=9\n",
      "9x89=8+0+1=9\n",
      "9x90=8+1+0=9\n",
      "9x91=8+1+9=18=1+8=9\n",
      "9x92=8+2+8=18=1+8=9\n",
      "9x93=8+3+7=18=1+8=9\n",
      "9x94=8+4+6=18=1+8=9\n",
      "9x95=8+5+5=18=1+8=9\n",
      "9x96=8+6+4=18=1+8=9\n",
      "9x97=8+7+3=18=1+8=9\n",
      "9x98=8+8+2=18=1+8=9\n",
      "9x99=8+9+1=18=1+8=9\n"
     ]
    }
   ],
   "source": [
    "for i in range(2,100):\n",
    "    print('9x{}'.format(i), end='')\n",
    "    sum_digit(9*i)\n",
    "    "
   ]
  },
  {
   "cell_type": "code",
   "execution_count": null,
   "metadata": {},
   "outputs": [],
   "source": []
  },
  {
   "cell_type": "code",
   "execution_count": null,
   "metadata": {},
   "outputs": [],
   "source": []
  },
  {
   "cell_type": "code",
   "execution_count": null,
   "metadata": {},
   "outputs": [],
   "source": []
  }
 ],
 "metadata": {
  "kernelspec": {
   "display_name": "Python 3",
   "language": "python",
   "name": "python3"
  },
  "language_info": {
   "codemirror_mode": {
    "name": "ipython",
    "version": 3
   },
   "file_extension": ".py",
   "mimetype": "text/x-python",
   "name": "python",
   "nbconvert_exporter": "python",
   "pygments_lexer": "ipython3",
   "version": "3.6.3"
  }
 },
 "nbformat": 4,
 "nbformat_minor": 2
}
